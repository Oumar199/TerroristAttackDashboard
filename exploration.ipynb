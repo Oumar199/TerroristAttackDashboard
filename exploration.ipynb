{
 "cells": [
  {
   "cell_type": "code",
   "execution_count": 94,
   "metadata": {},
   "outputs": [],
   "source": [
    "from plotly import express, graph_objects\n",
    "import plotly.express as px"
   ]
  },
  {
   "cell_type": "code",
   "execution_count": 95,
   "metadata": {},
   "outputs": [],
   "source": [
    "import pandas as pd"
   ]
  },
  {
   "cell_type": "code",
   "execution_count": 96,
   "metadata": {},
   "outputs": [],
   "source": [
    "cleaned_data = pd.read_csv(\"data/cleaned/terror.csv\")"
   ]
  },
  {
   "cell_type": "code",
   "execution_count": 97,
   "metadata": {},
   "outputs": [
    {
     "data": {
      "text/html": [
       "<div>\n",
       "<style scoped>\n",
       "    .dataframe tbody tr th:only-of-type {\n",
       "        vertical-align: middle;\n",
       "    }\n",
       "\n",
       "    .dataframe tbody tr th {\n",
       "        vertical-align: top;\n",
       "    }\n",
       "\n",
       "    .dataframe thead th {\n",
       "        text-align: right;\n",
       "    }\n",
       "</style>\n",
       "<table border=\"1\" class=\"dataframe\">\n",
       "  <thead>\n",
       "    <tr style=\"text-align: right;\">\n",
       "      <th></th>\n",
       "      <th>iyear</th>\n",
       "      <th>iday</th>\n",
       "      <th>imonth</th>\n",
       "      <th>nkill</th>\n",
       "      <th>country_txt</th>\n",
       "      <th>nwound</th>\n",
       "      <th>region_txt</th>\n",
       "      <th>provstate</th>\n",
       "      <th>city</th>\n",
       "      <th>nkillus</th>\n",
       "      <th>...</th>\n",
       "      <th>targtype2_txt</th>\n",
       "      <th>targsubtype2_txt</th>\n",
       "      <th>targtype3_txt</th>\n",
       "      <th>targsubtype3_txt</th>\n",
       "      <th>claimmode_txt</th>\n",
       "      <th>propextent_txt</th>\n",
       "      <th>propextent</th>\n",
       "      <th>propvalue</th>\n",
       "      <th>dbsource</th>\n",
       "      <th>date</th>\n",
       "    </tr>\n",
       "  </thead>\n",
       "  <tbody>\n",
       "    <tr>\n",
       "      <th>0</th>\n",
       "      <td>1970</td>\n",
       "      <td>1</td>\n",
       "      <td>1</td>\n",
       "      <td>0.0</td>\n",
       "      <td>United States</td>\n",
       "      <td>0.0</td>\n",
       "      <td>North America</td>\n",
       "      <td>Illinois</td>\n",
       "      <td>Cairo</td>\n",
       "      <td>0.0</td>\n",
       "      <td>...</td>\n",
       "      <td>''</td>\n",
       "      <td>''</td>\n",
       "      <td>''</td>\n",
       "      <td>''</td>\n",
       "      <td>''</td>\n",
       "      <td>Minor (likely &lt; $1 million)</td>\n",
       "      <td>3.0</td>\n",
       "      <td>0.0</td>\n",
       "      <td>Hewitt Project</td>\n",
       "      <td>1970-01-01</td>\n",
       "    </tr>\n",
       "    <tr>\n",
       "      <th>1</th>\n",
       "      <td>1970</td>\n",
       "      <td>1</td>\n",
       "      <td>1</td>\n",
       "      <td>0.0</td>\n",
       "      <td>United States</td>\n",
       "      <td>0.0</td>\n",
       "      <td>North America</td>\n",
       "      <td>Wisconsin</td>\n",
       "      <td>Baraboo</td>\n",
       "      <td>0.0</td>\n",
       "      <td>...</td>\n",
       "      <td>''</td>\n",
       "      <td>''</td>\n",
       "      <td>''</td>\n",
       "      <td>''</td>\n",
       "      <td>''</td>\n",
       "      <td>Minor (likely &lt; $1 million)</td>\n",
       "      <td>3.0</td>\n",
       "      <td>0.0</td>\n",
       "      <td>PGIS</td>\n",
       "      <td>1970-01-01</td>\n",
       "    </tr>\n",
       "    <tr>\n",
       "      <th>2</th>\n",
       "      <td>1970</td>\n",
       "      <td>2</td>\n",
       "      <td>1</td>\n",
       "      <td>0.0</td>\n",
       "      <td>Uruguay</td>\n",
       "      <td>0.0</td>\n",
       "      <td>South America</td>\n",
       "      <td>Montevideo</td>\n",
       "      <td>Montevideo</td>\n",
       "      <td>0.0</td>\n",
       "      <td>...</td>\n",
       "      <td>''</td>\n",
       "      <td>''</td>\n",
       "      <td>''</td>\n",
       "      <td>''</td>\n",
       "      <td>''</td>\n",
       "      <td>''</td>\n",
       "      <td>0.0</td>\n",
       "      <td>0.0</td>\n",
       "      <td>PGIS</td>\n",
       "      <td>1970-01-02</td>\n",
       "    </tr>\n",
       "    <tr>\n",
       "      <th>3</th>\n",
       "      <td>1970</td>\n",
       "      <td>2</td>\n",
       "      <td>1</td>\n",
       "      <td>0.0</td>\n",
       "      <td>United States</td>\n",
       "      <td>0.0</td>\n",
       "      <td>North America</td>\n",
       "      <td>California</td>\n",
       "      <td>Oakland</td>\n",
       "      <td>0.0</td>\n",
       "      <td>...</td>\n",
       "      <td>''</td>\n",
       "      <td>''</td>\n",
       "      <td>''</td>\n",
       "      <td>''</td>\n",
       "      <td>''</td>\n",
       "      <td>Minor (likely &lt; $1 million)</td>\n",
       "      <td>3.0</td>\n",
       "      <td>22500.0</td>\n",
       "      <td>Hewitt Project</td>\n",
       "      <td>1970-01-02</td>\n",
       "    </tr>\n",
       "    <tr>\n",
       "      <th>4</th>\n",
       "      <td>1970</td>\n",
       "      <td>2</td>\n",
       "      <td>1</td>\n",
       "      <td>0.0</td>\n",
       "      <td>United States</td>\n",
       "      <td>0.0</td>\n",
       "      <td>North America</td>\n",
       "      <td>Wisconsin</td>\n",
       "      <td>Madison</td>\n",
       "      <td>0.0</td>\n",
       "      <td>...</td>\n",
       "      <td>''</td>\n",
       "      <td>''</td>\n",
       "      <td>''</td>\n",
       "      <td>''</td>\n",
       "      <td>Letter</td>\n",
       "      <td>Minor (likely &lt; $1 million)</td>\n",
       "      <td>3.0</td>\n",
       "      <td>60000.0</td>\n",
       "      <td>Hewitt Project</td>\n",
       "      <td>1970-01-02</td>\n",
       "    </tr>\n",
       "  </tbody>\n",
       "</table>\n",
       "<p>5 rows × 50 columns</p>\n",
       "</div>"
      ],
      "text/plain": [
       "   iyear  iday  imonth  nkill    country_txt  nwound     region_txt  \\\n",
       "0   1970     1       1    0.0  United States     0.0  North America   \n",
       "1   1970     1       1    0.0  United States     0.0  North America   \n",
       "2   1970     2       1    0.0        Uruguay     0.0  South America   \n",
       "3   1970     2       1    0.0  United States     0.0  North America   \n",
       "4   1970     2       1    0.0  United States     0.0  North America   \n",
       "\n",
       "    provstate        city  nkillus  ...  targtype2_txt targsubtype2_txt  \\\n",
       "0    Illinois       Cairo      0.0  ...             ''               ''   \n",
       "1   Wisconsin     Baraboo      0.0  ...             ''               ''   \n",
       "2  Montevideo  Montevideo      0.0  ...             ''               ''   \n",
       "3  California     Oakland      0.0  ...             ''               ''   \n",
       "4   Wisconsin     Madison      0.0  ...             ''               ''   \n",
       "\n",
       "   targtype3_txt  targsubtype3_txt claimmode_txt               propextent_txt  \\\n",
       "0             ''                ''            ''  Minor (likely < $1 million)   \n",
       "1             ''                ''            ''  Minor (likely < $1 million)   \n",
       "2             ''                ''            ''                           ''   \n",
       "3             ''                ''            ''  Minor (likely < $1 million)   \n",
       "4             ''                ''        Letter  Minor (likely < $1 million)   \n",
       "\n",
       "   propextent  propvalue        dbsource        date  \n",
       "0         3.0        0.0  Hewitt Project  1970-01-01  \n",
       "1         3.0        0.0            PGIS  1970-01-01  \n",
       "2         0.0        0.0            PGIS  1970-01-02  \n",
       "3         3.0    22500.0  Hewitt Project  1970-01-02  \n",
       "4         3.0    60000.0  Hewitt Project  1970-01-02  \n",
       "\n",
       "[5 rows x 50 columns]"
      ]
     },
     "execution_count": 97,
     "metadata": {},
     "output_type": "execute_result"
    }
   ],
   "source": [
    "cleaned_data.head()"
   ]
  },
  {
   "cell_type": "code",
   "execution_count": 98,
   "metadata": {},
   "outputs": [
    {
     "data": {
      "text/plain": [
       "Index(['iyear', 'iday', 'imonth', 'nkill', 'country_txt', 'nwound',\n",
       "       'region_txt', 'provstate', 'city', 'nkillus', 'nwoundus',\n",
       "       'region_txt.1', 'latitude', 'longitude', 'attacktype1_txt',\n",
       "       'alternative_txt', 'suicide', 'ransompaid', 'nhostkid',\n",
       "       'hostkidoutcome_txt', 'ransomnote', 'nhours', 'ndays', 'ransompaidus',\n",
       "       'nhostkidus', 'summary', 'motive', 'gname', 'natlty1_txt',\n",
       "       'kidhijcountry', 'weaptype1_txt', 'weapsubtype1_txt', 'weaptype2_txt',\n",
       "       'weapsubtype2_txt', 'weaptype3_txt', 'weapsubtype3_txt',\n",
       "       'weaptype4_txt', 'weapsubtype4_txt', 'targtype1_txt',\n",
       "       'targsubtype1_txt', 'targtype2_txt', 'targsubtype2_txt',\n",
       "       'targtype3_txt', 'targsubtype3_txt', 'claimmode_txt', 'propextent_txt',\n",
       "       'propextent', 'propvalue', 'dbsource', 'date'],\n",
       "      dtype='object')"
      ]
     },
     "execution_count": 98,
     "metadata": {},
     "output_type": "execute_result"
    }
   ],
   "source": [
    "cleaned_data.columns"
   ]
  },
  {
   "cell_type": "markdown",
   "metadata": {},
   "source": [
    "# visualiser le nombre d'attaques terroristes par source de donnees(ordre decroissant)"
   ]
  },
  {
   "cell_type": "code",
   "execution_count": 99,
   "metadata": {},
   "outputs": [
    {
     "data": {
      "text/html": [
       "<div>\n",
       "<style scoped>\n",
       "    .dataframe tbody tr th:only-of-type {\n",
       "        vertical-align: middle;\n",
       "    }\n",
       "\n",
       "    .dataframe tbody tr th {\n",
       "        vertical-align: top;\n",
       "    }\n",
       "\n",
       "    .dataframe thead th {\n",
       "        text-align: right;\n",
       "    }\n",
       "</style>\n",
       "<table border=\"1\" class=\"dataframe\">\n",
       "  <thead>\n",
       "    <tr style=\"text-align: right;\">\n",
       "      <th></th>\n",
       "      <th>dbsource</th>\n",
       "      <th>nb_attack</th>\n",
       "    </tr>\n",
       "  </thead>\n",
       "  <tbody>\n",
       "    <tr>\n",
       "      <th>0</th>\n",
       "      <td>Anti-Abortion Project 2010</td>\n",
       "      <td>180</td>\n",
       "    </tr>\n",
       "    <tr>\n",
       "      <th>1</th>\n",
       "      <td>Armenian Website</td>\n",
       "      <td>39</td>\n",
       "    </tr>\n",
       "    <tr>\n",
       "      <th>2</th>\n",
       "      <td>CAIN</td>\n",
       "      <td>1588</td>\n",
       "    </tr>\n",
       "    <tr>\n",
       "      <th>3</th>\n",
       "      <td>CBRN Global Chronology</td>\n",
       "      <td>46</td>\n",
       "    </tr>\n",
       "    <tr>\n",
       "      <th>4</th>\n",
       "      <td>CETIS</td>\n",
       "      <td>16110</td>\n",
       "    </tr>\n",
       "    <tr>\n",
       "      <th>5</th>\n",
       "      <td>Disorders and Terrorism Chronology</td>\n",
       "      <td>5</td>\n",
       "    </tr>\n",
       "    <tr>\n",
       "      <th>6</th>\n",
       "      <td>Eco Project 2010</td>\n",
       "      <td>143</td>\n",
       "    </tr>\n",
       "    <tr>\n",
       "      <th>7</th>\n",
       "      <td>HSI</td>\n",
       "      <td>97</td>\n",
       "    </tr>\n",
       "    <tr>\n",
       "      <th>8</th>\n",
       "      <td>Hewitt Project</td>\n",
       "      <td>995</td>\n",
       "    </tr>\n",
       "    <tr>\n",
       "      <th>9</th>\n",
       "      <td>Hijacking DB</td>\n",
       "      <td>54</td>\n",
       "    </tr>\n",
       "    <tr>\n",
       "      <th>10</th>\n",
       "      <td>Hyland</td>\n",
       "      <td>63</td>\n",
       "    </tr>\n",
       "    <tr>\n",
       "      <th>11</th>\n",
       "      <td>ISVG</td>\n",
       "      <td>17139</td>\n",
       "    </tr>\n",
       "    <tr>\n",
       "      <th>12</th>\n",
       "      <td>Leuprecht Canadian Data</td>\n",
       "      <td>5</td>\n",
       "    </tr>\n",
       "    <tr>\n",
       "      <th>13</th>\n",
       "      <td>PGIS</td>\n",
       "      <td>63148</td>\n",
       "    </tr>\n",
       "    <tr>\n",
       "      <th>14</th>\n",
       "      <td>START Primary Collection</td>\n",
       "      <td>77972</td>\n",
       "    </tr>\n",
       "    <tr>\n",
       "      <th>15</th>\n",
       "      <td>Sageman</td>\n",
       "      <td>3</td>\n",
       "    </tr>\n",
       "    <tr>\n",
       "      <th>16</th>\n",
       "      <td>State Department 1997 Document</td>\n",
       "      <td>28</td>\n",
       "    </tr>\n",
       "    <tr>\n",
       "      <th>17</th>\n",
       "      <td>UMD Algeria 2010-2012</td>\n",
       "      <td>830</td>\n",
       "    </tr>\n",
       "    <tr>\n",
       "      <th>18</th>\n",
       "      <td>UMD Assassinations Project</td>\n",
       "      <td>18</td>\n",
       "    </tr>\n",
       "    <tr>\n",
       "      <th>19</th>\n",
       "      <td>UMD Black Widows 2011</td>\n",
       "      <td>7</td>\n",
       "    </tr>\n",
       "    <tr>\n",
       "      <th>20</th>\n",
       "      <td>UMD Encyclopedia of World Terrorism 2012</td>\n",
       "      <td>40</td>\n",
       "    </tr>\n",
       "    <tr>\n",
       "      <th>21</th>\n",
       "      <td>UMD JTMM Nepal 2012</td>\n",
       "      <td>104</td>\n",
       "    </tr>\n",
       "    <tr>\n",
       "      <th>22</th>\n",
       "      <td>UMD Miscellaneous</td>\n",
       "      <td>253</td>\n",
       "    </tr>\n",
       "    <tr>\n",
       "      <th>23</th>\n",
       "      <td>UMD Schmid 2012</td>\n",
       "      <td>1085</td>\n",
       "    </tr>\n",
       "    <tr>\n",
       "      <th>24</th>\n",
       "      <td>UMD South Africa</td>\n",
       "      <td>449</td>\n",
       "    </tr>\n",
       "    <tr>\n",
       "      <th>25</th>\n",
       "      <td>UMD Sri Lanka 2011</td>\n",
       "      <td>399</td>\n",
       "    </tr>\n",
       "  </tbody>\n",
       "</table>\n",
       "</div>"
      ],
      "text/plain": [
       "                                    dbsource  nb_attack\n",
       "0                 Anti-Abortion Project 2010        180\n",
       "1                           Armenian Website         39\n",
       "2                                       CAIN       1588\n",
       "3                     CBRN Global Chronology         46\n",
       "4                                      CETIS      16110\n",
       "5         Disorders and Terrorism Chronology          5\n",
       "6                           Eco Project 2010        143\n",
       "7                                        HSI         97\n",
       "8                             Hewitt Project        995\n",
       "9                               Hijacking DB         54\n",
       "10                                    Hyland         63\n",
       "11                                      ISVG      17139\n",
       "12                   Leuprecht Canadian Data          5\n",
       "13                                      PGIS      63148\n",
       "14                  START Primary Collection      77972\n",
       "15                                   Sageman          3\n",
       "16            State Department 1997 Document         28\n",
       "17                     UMD Algeria 2010-2012        830\n",
       "18                UMD Assassinations Project         18\n",
       "19                     UMD Black Widows 2011          7\n",
       "20  UMD Encyclopedia of World Terrorism 2012         40\n",
       "21                       UMD JTMM Nepal 2012        104\n",
       "22                         UMD Miscellaneous        253\n",
       "23                           UMD Schmid 2012       1085\n",
       "24                          UMD South Africa        449\n",
       "25                        UMD Sri Lanka 2011        399"
      ]
     },
     "execution_count": 99,
     "metadata": {},
     "output_type": "execute_result"
    }
   ],
   "source": [
    "data_nb_attack=cleaned_data.groupby([\"dbsource\"]).size().reset_index()\n",
    "data_nb_attack.columns=['dbsource','nb_attack']\n",
    "data_nb_attack"
   ]
  },
  {
   "cell_type": "code",
   "execution_count": 100,
   "metadata": {},
   "outputs": [
    {
     "data": {
      "text/html": [
       "<div>\n",
       "<style scoped>\n",
       "    .dataframe tbody tr th:only-of-type {\n",
       "        vertical-align: middle;\n",
       "    }\n",
       "\n",
       "    .dataframe tbody tr th {\n",
       "        vertical-align: top;\n",
       "    }\n",
       "\n",
       "    .dataframe thead th {\n",
       "        text-align: right;\n",
       "    }\n",
       "</style>\n",
       "<table border=\"1\" class=\"dataframe\">\n",
       "  <thead>\n",
       "    <tr style=\"text-align: right;\">\n",
       "      <th></th>\n",
       "      <th>dbsource</th>\n",
       "      <th>nb_attack</th>\n",
       "    </tr>\n",
       "  </thead>\n",
       "  <tbody>\n",
       "    <tr>\n",
       "      <th>14</th>\n",
       "      <td>START Primary Collection</td>\n",
       "      <td>77972</td>\n",
       "    </tr>\n",
       "    <tr>\n",
       "      <th>13</th>\n",
       "      <td>PGIS</td>\n",
       "      <td>63148</td>\n",
       "    </tr>\n",
       "    <tr>\n",
       "      <th>11</th>\n",
       "      <td>ISVG</td>\n",
       "      <td>17139</td>\n",
       "    </tr>\n",
       "    <tr>\n",
       "      <th>4</th>\n",
       "      <td>CETIS</td>\n",
       "      <td>16110</td>\n",
       "    </tr>\n",
       "    <tr>\n",
       "      <th>2</th>\n",
       "      <td>CAIN</td>\n",
       "      <td>1588</td>\n",
       "    </tr>\n",
       "    <tr>\n",
       "      <th>23</th>\n",
       "      <td>UMD Schmid 2012</td>\n",
       "      <td>1085</td>\n",
       "    </tr>\n",
       "    <tr>\n",
       "      <th>8</th>\n",
       "      <td>Hewitt Project</td>\n",
       "      <td>995</td>\n",
       "    </tr>\n",
       "    <tr>\n",
       "      <th>17</th>\n",
       "      <td>UMD Algeria 2010-2012</td>\n",
       "      <td>830</td>\n",
       "    </tr>\n",
       "    <tr>\n",
       "      <th>24</th>\n",
       "      <td>UMD South Africa</td>\n",
       "      <td>449</td>\n",
       "    </tr>\n",
       "    <tr>\n",
       "      <th>25</th>\n",
       "      <td>UMD Sri Lanka 2011</td>\n",
       "      <td>399</td>\n",
       "    </tr>\n",
       "    <tr>\n",
       "      <th>22</th>\n",
       "      <td>UMD Miscellaneous</td>\n",
       "      <td>253</td>\n",
       "    </tr>\n",
       "    <tr>\n",
       "      <th>0</th>\n",
       "      <td>Anti-Abortion Project 2010</td>\n",
       "      <td>180</td>\n",
       "    </tr>\n",
       "    <tr>\n",
       "      <th>6</th>\n",
       "      <td>Eco Project 2010</td>\n",
       "      <td>143</td>\n",
       "    </tr>\n",
       "    <tr>\n",
       "      <th>21</th>\n",
       "      <td>UMD JTMM Nepal 2012</td>\n",
       "      <td>104</td>\n",
       "    </tr>\n",
       "    <tr>\n",
       "      <th>7</th>\n",
       "      <td>HSI</td>\n",
       "      <td>97</td>\n",
       "    </tr>\n",
       "    <tr>\n",
       "      <th>10</th>\n",
       "      <td>Hyland</td>\n",
       "      <td>63</td>\n",
       "    </tr>\n",
       "    <tr>\n",
       "      <th>9</th>\n",
       "      <td>Hijacking DB</td>\n",
       "      <td>54</td>\n",
       "    </tr>\n",
       "    <tr>\n",
       "      <th>3</th>\n",
       "      <td>CBRN Global Chronology</td>\n",
       "      <td>46</td>\n",
       "    </tr>\n",
       "    <tr>\n",
       "      <th>20</th>\n",
       "      <td>UMD Encyclopedia of World Terrorism 2012</td>\n",
       "      <td>40</td>\n",
       "    </tr>\n",
       "    <tr>\n",
       "      <th>1</th>\n",
       "      <td>Armenian Website</td>\n",
       "      <td>39</td>\n",
       "    </tr>\n",
       "    <tr>\n",
       "      <th>16</th>\n",
       "      <td>State Department 1997 Document</td>\n",
       "      <td>28</td>\n",
       "    </tr>\n",
       "    <tr>\n",
       "      <th>18</th>\n",
       "      <td>UMD Assassinations Project</td>\n",
       "      <td>18</td>\n",
       "    </tr>\n",
       "    <tr>\n",
       "      <th>19</th>\n",
       "      <td>UMD Black Widows 2011</td>\n",
       "      <td>7</td>\n",
       "    </tr>\n",
       "    <tr>\n",
       "      <th>12</th>\n",
       "      <td>Leuprecht Canadian Data</td>\n",
       "      <td>5</td>\n",
       "    </tr>\n",
       "    <tr>\n",
       "      <th>5</th>\n",
       "      <td>Disorders and Terrorism Chronology</td>\n",
       "      <td>5</td>\n",
       "    </tr>\n",
       "    <tr>\n",
       "      <th>15</th>\n",
       "      <td>Sageman</td>\n",
       "      <td>3</td>\n",
       "    </tr>\n",
       "  </tbody>\n",
       "</table>\n",
       "</div>"
      ],
      "text/plain": [
       "                                    dbsource  nb_attack\n",
       "14                  START Primary Collection      77972\n",
       "13                                      PGIS      63148\n",
       "11                                      ISVG      17139\n",
       "4                                      CETIS      16110\n",
       "2                                       CAIN       1588\n",
       "23                           UMD Schmid 2012       1085\n",
       "8                             Hewitt Project        995\n",
       "17                     UMD Algeria 2010-2012        830\n",
       "24                          UMD South Africa        449\n",
       "25                        UMD Sri Lanka 2011        399\n",
       "22                         UMD Miscellaneous        253\n",
       "0                 Anti-Abortion Project 2010        180\n",
       "6                           Eco Project 2010        143\n",
       "21                       UMD JTMM Nepal 2012        104\n",
       "7                                        HSI         97\n",
       "10                                    Hyland         63\n",
       "9                               Hijacking DB         54\n",
       "3                     CBRN Global Chronology         46\n",
       "20  UMD Encyclopedia of World Terrorism 2012         40\n",
       "1                           Armenian Website         39\n",
       "16            State Department 1997 Document         28\n",
       "18                UMD Assassinations Project         18\n",
       "19                     UMD Black Widows 2011          7\n",
       "12                   Leuprecht Canadian Data          5\n",
       "5         Disorders and Terrorism Chronology          5\n",
       "15                                   Sageman          3"
      ]
     },
     "execution_count": 100,
     "metadata": {},
     "output_type": "execute_result"
    }
   ],
   "source": [
    "data_nb_attack=data_nb_attack.sort_values(ascending=False,by=['nb_attack'])\n",
    "data_nb_attack"
   ]
  },
  {
   "cell_type": "code",
   "execution_count": 101,
   "metadata": {},
   "outputs": [
    {
     "data": {
      "application/vnd.plotly.v1+json": {
       "config": {
        "plotlyServerURL": "https://plot.ly"
       },
       "data": [
        {
         "alignmentgroup": "True",
         "hovertemplate": "dbsource=%{x}<br>nb_attack=%{y}<extra></extra>",
         "legendgroup": "",
         "marker": {
          "color": "#636efa",
          "pattern": {
           "shape": ""
          }
         },
         "name": "",
         "offsetgroup": "",
         "orientation": "v",
         "showlegend": false,
         "textposition": "auto",
         "type": "bar",
         "x": [
          "START Primary Collection",
          "PGIS",
          "ISVG",
          "CETIS",
          "CAIN",
          "UMD Schmid 2012",
          "Hewitt Project",
          "UMD Algeria 2010-2012",
          "UMD South Africa",
          "UMD Sri Lanka 2011",
          "UMD Miscellaneous",
          "Anti-Abortion Project 2010",
          "Eco Project 2010",
          "UMD JTMM Nepal 2012",
          "HSI",
          "Hyland",
          "Hijacking DB",
          "CBRN Global Chronology",
          "UMD Encyclopedia of World Terrorism 2012",
          "Armenian Website",
          "State Department 1997 Document",
          "UMD Assassinations Project",
          "UMD Black Widows 2011",
          "Leuprecht Canadian Data",
          "Disorders and Terrorism Chronology",
          "Sageman"
         ],
         "xaxis": "x",
         "y": [
          77972,
          63148,
          17139,
          16110,
          1588,
          1085,
          995,
          830,
          449,
          399,
          253,
          180,
          143,
          104,
          97,
          63,
          54,
          46,
          40,
          39,
          28,
          18,
          7,
          5,
          5,
          3
         ],
         "yaxis": "y"
        }
       ],
       "layout": {
        "barmode": "relative",
        "legend": {
         "tracegroupgap": 0
        },
        "margin": {
         "t": 60
        },
        "template": {
         "data": {
          "bar": [
           {
            "error_x": {
             "color": "#2a3f5f"
            },
            "error_y": {
             "color": "#2a3f5f"
            },
            "marker": {
             "line": {
              "color": "#E5ECF6",
              "width": 0.5
             },
             "pattern": {
              "fillmode": "overlay",
              "size": 10,
              "solidity": 0.2
             }
            },
            "type": "bar"
           }
          ],
          "barpolar": [
           {
            "marker": {
             "line": {
              "color": "#E5ECF6",
              "width": 0.5
             },
             "pattern": {
              "fillmode": "overlay",
              "size": 10,
              "solidity": 0.2
             }
            },
            "type": "barpolar"
           }
          ],
          "carpet": [
           {
            "aaxis": {
             "endlinecolor": "#2a3f5f",
             "gridcolor": "white",
             "linecolor": "white",
             "minorgridcolor": "white",
             "startlinecolor": "#2a3f5f"
            },
            "baxis": {
             "endlinecolor": "#2a3f5f",
             "gridcolor": "white",
             "linecolor": "white",
             "minorgridcolor": "white",
             "startlinecolor": "#2a3f5f"
            },
            "type": "carpet"
           }
          ],
          "choropleth": [
           {
            "colorbar": {
             "outlinewidth": 0,
             "ticks": ""
            },
            "type": "choropleth"
           }
          ],
          "contour": [
           {
            "colorbar": {
             "outlinewidth": 0,
             "ticks": ""
            },
            "colorscale": [
             [
              0,
              "#0d0887"
             ],
             [
              0.1111111111111111,
              "#46039f"
             ],
             [
              0.2222222222222222,
              "#7201a8"
             ],
             [
              0.3333333333333333,
              "#9c179e"
             ],
             [
              0.4444444444444444,
              "#bd3786"
             ],
             [
              0.5555555555555556,
              "#d8576b"
             ],
             [
              0.6666666666666666,
              "#ed7953"
             ],
             [
              0.7777777777777778,
              "#fb9f3a"
             ],
             [
              0.8888888888888888,
              "#fdca26"
             ],
             [
              1,
              "#f0f921"
             ]
            ],
            "type": "contour"
           }
          ],
          "contourcarpet": [
           {
            "colorbar": {
             "outlinewidth": 0,
             "ticks": ""
            },
            "type": "contourcarpet"
           }
          ],
          "heatmap": [
           {
            "colorbar": {
             "outlinewidth": 0,
             "ticks": ""
            },
            "colorscale": [
             [
              0,
              "#0d0887"
             ],
             [
              0.1111111111111111,
              "#46039f"
             ],
             [
              0.2222222222222222,
              "#7201a8"
             ],
             [
              0.3333333333333333,
              "#9c179e"
             ],
             [
              0.4444444444444444,
              "#bd3786"
             ],
             [
              0.5555555555555556,
              "#d8576b"
             ],
             [
              0.6666666666666666,
              "#ed7953"
             ],
             [
              0.7777777777777778,
              "#fb9f3a"
             ],
             [
              0.8888888888888888,
              "#fdca26"
             ],
             [
              1,
              "#f0f921"
             ]
            ],
            "type": "heatmap"
           }
          ],
          "heatmapgl": [
           {
            "colorbar": {
             "outlinewidth": 0,
             "ticks": ""
            },
            "colorscale": [
             [
              0,
              "#0d0887"
             ],
             [
              0.1111111111111111,
              "#46039f"
             ],
             [
              0.2222222222222222,
              "#7201a8"
             ],
             [
              0.3333333333333333,
              "#9c179e"
             ],
             [
              0.4444444444444444,
              "#bd3786"
             ],
             [
              0.5555555555555556,
              "#d8576b"
             ],
             [
              0.6666666666666666,
              "#ed7953"
             ],
             [
              0.7777777777777778,
              "#fb9f3a"
             ],
             [
              0.8888888888888888,
              "#fdca26"
             ],
             [
              1,
              "#f0f921"
             ]
            ],
            "type": "heatmapgl"
           }
          ],
          "histogram": [
           {
            "marker": {
             "pattern": {
              "fillmode": "overlay",
              "size": 10,
              "solidity": 0.2
             }
            },
            "type": "histogram"
           }
          ],
          "histogram2d": [
           {
            "colorbar": {
             "outlinewidth": 0,
             "ticks": ""
            },
            "colorscale": [
             [
              0,
              "#0d0887"
             ],
             [
              0.1111111111111111,
              "#46039f"
             ],
             [
              0.2222222222222222,
              "#7201a8"
             ],
             [
              0.3333333333333333,
              "#9c179e"
             ],
             [
              0.4444444444444444,
              "#bd3786"
             ],
             [
              0.5555555555555556,
              "#d8576b"
             ],
             [
              0.6666666666666666,
              "#ed7953"
             ],
             [
              0.7777777777777778,
              "#fb9f3a"
             ],
             [
              0.8888888888888888,
              "#fdca26"
             ],
             [
              1,
              "#f0f921"
             ]
            ],
            "type": "histogram2d"
           }
          ],
          "histogram2dcontour": [
           {
            "colorbar": {
             "outlinewidth": 0,
             "ticks": ""
            },
            "colorscale": [
             [
              0,
              "#0d0887"
             ],
             [
              0.1111111111111111,
              "#46039f"
             ],
             [
              0.2222222222222222,
              "#7201a8"
             ],
             [
              0.3333333333333333,
              "#9c179e"
             ],
             [
              0.4444444444444444,
              "#bd3786"
             ],
             [
              0.5555555555555556,
              "#d8576b"
             ],
             [
              0.6666666666666666,
              "#ed7953"
             ],
             [
              0.7777777777777778,
              "#fb9f3a"
             ],
             [
              0.8888888888888888,
              "#fdca26"
             ],
             [
              1,
              "#f0f921"
             ]
            ],
            "type": "histogram2dcontour"
           }
          ],
          "mesh3d": [
           {
            "colorbar": {
             "outlinewidth": 0,
             "ticks": ""
            },
            "type": "mesh3d"
           }
          ],
          "parcoords": [
           {
            "line": {
             "colorbar": {
              "outlinewidth": 0,
              "ticks": ""
             }
            },
            "type": "parcoords"
           }
          ],
          "pie": [
           {
            "automargin": true,
            "type": "pie"
           }
          ],
          "scatter": [
           {
            "marker": {
             "colorbar": {
              "outlinewidth": 0,
              "ticks": ""
             }
            },
            "type": "scatter"
           }
          ],
          "scatter3d": [
           {
            "line": {
             "colorbar": {
              "outlinewidth": 0,
              "ticks": ""
             }
            },
            "marker": {
             "colorbar": {
              "outlinewidth": 0,
              "ticks": ""
             }
            },
            "type": "scatter3d"
           }
          ],
          "scattercarpet": [
           {
            "marker": {
             "colorbar": {
              "outlinewidth": 0,
              "ticks": ""
             }
            },
            "type": "scattercarpet"
           }
          ],
          "scattergeo": [
           {
            "marker": {
             "colorbar": {
              "outlinewidth": 0,
              "ticks": ""
             }
            },
            "type": "scattergeo"
           }
          ],
          "scattergl": [
           {
            "marker": {
             "colorbar": {
              "outlinewidth": 0,
              "ticks": ""
             }
            },
            "type": "scattergl"
           }
          ],
          "scattermapbox": [
           {
            "marker": {
             "colorbar": {
              "outlinewidth": 0,
              "ticks": ""
             }
            },
            "type": "scattermapbox"
           }
          ],
          "scatterpolar": [
           {
            "marker": {
             "colorbar": {
              "outlinewidth": 0,
              "ticks": ""
             }
            },
            "type": "scatterpolar"
           }
          ],
          "scatterpolargl": [
           {
            "marker": {
             "colorbar": {
              "outlinewidth": 0,
              "ticks": ""
             }
            },
            "type": "scatterpolargl"
           }
          ],
          "scatterternary": [
           {
            "marker": {
             "colorbar": {
              "outlinewidth": 0,
              "ticks": ""
             }
            },
            "type": "scatterternary"
           }
          ],
          "surface": [
           {
            "colorbar": {
             "outlinewidth": 0,
             "ticks": ""
            },
            "colorscale": [
             [
              0,
              "#0d0887"
             ],
             [
              0.1111111111111111,
              "#46039f"
             ],
             [
              0.2222222222222222,
              "#7201a8"
             ],
             [
              0.3333333333333333,
              "#9c179e"
             ],
             [
              0.4444444444444444,
              "#bd3786"
             ],
             [
              0.5555555555555556,
              "#d8576b"
             ],
             [
              0.6666666666666666,
              "#ed7953"
             ],
             [
              0.7777777777777778,
              "#fb9f3a"
             ],
             [
              0.8888888888888888,
              "#fdca26"
             ],
             [
              1,
              "#f0f921"
             ]
            ],
            "type": "surface"
           }
          ],
          "table": [
           {
            "cells": {
             "fill": {
              "color": "#EBF0F8"
             },
             "line": {
              "color": "white"
             }
            },
            "header": {
             "fill": {
              "color": "#C8D4E3"
             },
             "line": {
              "color": "white"
             }
            },
            "type": "table"
           }
          ]
         },
         "layout": {
          "annotationdefaults": {
           "arrowcolor": "#2a3f5f",
           "arrowhead": 0,
           "arrowwidth": 1
          },
          "autotypenumbers": "strict",
          "coloraxis": {
           "colorbar": {
            "outlinewidth": 0,
            "ticks": ""
           }
          },
          "colorscale": {
           "diverging": [
            [
             0,
             "#8e0152"
            ],
            [
             0.1,
             "#c51b7d"
            ],
            [
             0.2,
             "#de77ae"
            ],
            [
             0.3,
             "#f1b6da"
            ],
            [
             0.4,
             "#fde0ef"
            ],
            [
             0.5,
             "#f7f7f7"
            ],
            [
             0.6,
             "#e6f5d0"
            ],
            [
             0.7,
             "#b8e186"
            ],
            [
             0.8,
             "#7fbc41"
            ],
            [
             0.9,
             "#4d9221"
            ],
            [
             1,
             "#276419"
            ]
           ],
           "sequential": [
            [
             0,
             "#0d0887"
            ],
            [
             0.1111111111111111,
             "#46039f"
            ],
            [
             0.2222222222222222,
             "#7201a8"
            ],
            [
             0.3333333333333333,
             "#9c179e"
            ],
            [
             0.4444444444444444,
             "#bd3786"
            ],
            [
             0.5555555555555556,
             "#d8576b"
            ],
            [
             0.6666666666666666,
             "#ed7953"
            ],
            [
             0.7777777777777778,
             "#fb9f3a"
            ],
            [
             0.8888888888888888,
             "#fdca26"
            ],
            [
             1,
             "#f0f921"
            ]
           ],
           "sequentialminus": [
            [
             0,
             "#0d0887"
            ],
            [
             0.1111111111111111,
             "#46039f"
            ],
            [
             0.2222222222222222,
             "#7201a8"
            ],
            [
             0.3333333333333333,
             "#9c179e"
            ],
            [
             0.4444444444444444,
             "#bd3786"
            ],
            [
             0.5555555555555556,
             "#d8576b"
            ],
            [
             0.6666666666666666,
             "#ed7953"
            ],
            [
             0.7777777777777778,
             "#fb9f3a"
            ],
            [
             0.8888888888888888,
             "#fdca26"
            ],
            [
             1,
             "#f0f921"
            ]
           ]
          },
          "colorway": [
           "#636efa",
           "#EF553B",
           "#00cc96",
           "#ab63fa",
           "#FFA15A",
           "#19d3f3",
           "#FF6692",
           "#B6E880",
           "#FF97FF",
           "#FECB52"
          ],
          "font": {
           "color": "#2a3f5f"
          },
          "geo": {
           "bgcolor": "white",
           "lakecolor": "white",
           "landcolor": "#E5ECF6",
           "showlakes": true,
           "showland": true,
           "subunitcolor": "white"
          },
          "hoverlabel": {
           "align": "left"
          },
          "hovermode": "closest",
          "mapbox": {
           "style": "light"
          },
          "paper_bgcolor": "white",
          "plot_bgcolor": "#E5ECF6",
          "polar": {
           "angularaxis": {
            "gridcolor": "white",
            "linecolor": "white",
            "ticks": ""
           },
           "bgcolor": "#E5ECF6",
           "radialaxis": {
            "gridcolor": "white",
            "linecolor": "white",
            "ticks": ""
           }
          },
          "scene": {
           "xaxis": {
            "backgroundcolor": "#E5ECF6",
            "gridcolor": "white",
            "gridwidth": 2,
            "linecolor": "white",
            "showbackground": true,
            "ticks": "",
            "zerolinecolor": "white"
           },
           "yaxis": {
            "backgroundcolor": "#E5ECF6",
            "gridcolor": "white",
            "gridwidth": 2,
            "linecolor": "white",
            "showbackground": true,
            "ticks": "",
            "zerolinecolor": "white"
           },
           "zaxis": {
            "backgroundcolor": "#E5ECF6",
            "gridcolor": "white",
            "gridwidth": 2,
            "linecolor": "white",
            "showbackground": true,
            "ticks": "",
            "zerolinecolor": "white"
           }
          },
          "shapedefaults": {
           "line": {
            "color": "#2a3f5f"
           }
          },
          "ternary": {
           "aaxis": {
            "gridcolor": "white",
            "linecolor": "white",
            "ticks": ""
           },
           "baxis": {
            "gridcolor": "white",
            "linecolor": "white",
            "ticks": ""
           },
           "bgcolor": "#E5ECF6",
           "caxis": {
            "gridcolor": "white",
            "linecolor": "white",
            "ticks": ""
           }
          },
          "title": {
           "x": 0.05
          },
          "xaxis": {
           "automargin": true,
           "gridcolor": "white",
           "linecolor": "white",
           "ticks": "",
           "title": {
            "standoff": 15
           },
           "zerolinecolor": "white",
           "zerolinewidth": 2
          },
          "yaxis": {
           "automargin": true,
           "gridcolor": "white",
           "linecolor": "white",
           "ticks": "",
           "title": {
            "standoff": 15
           },
           "zerolinecolor": "white",
           "zerolinewidth": 2
          }
         }
        },
        "width": 1000,
        "xaxis": {
         "anchor": "y",
         "domain": [
          0,
          1
         ],
         "title": {
          "text": "dbsource"
         }
        },
        "yaxis": {
         "anchor": "x",
         "domain": [
          0,
          1
         ],
         "range": [
          0,
          77972
         ],
         "title": {
          "text": "nb_attack"
         }
        }
       }
      },
      "text/html": [
       "<div>                            <div id=\"a6f08acc-b1ea-45b5-a199-c603f2ee38cb\" class=\"plotly-graph-div\" style=\"height:525px; width:1000px;\"></div>            <script type=\"text/javascript\">                require([\"plotly\"], function(Plotly) {                    window.PLOTLYENV=window.PLOTLYENV || {};                                    if (document.getElementById(\"a6f08acc-b1ea-45b5-a199-c603f2ee38cb\")) {                    Plotly.newPlot(                        \"a6f08acc-b1ea-45b5-a199-c603f2ee38cb\",                        [{\"alignmentgroup\":\"True\",\"hovertemplate\":\"dbsource=%{x}<br>nb_attack=%{y}<extra></extra>\",\"legendgroup\":\"\",\"marker\":{\"color\":\"#636efa\",\"pattern\":{\"shape\":\"\"}},\"name\":\"\",\"offsetgroup\":\"\",\"orientation\":\"v\",\"showlegend\":false,\"textposition\":\"auto\",\"x\":[\"START Primary Collection\",\"PGIS\",\"ISVG\",\"CETIS\",\"CAIN\",\"UMD Schmid 2012\",\"Hewitt Project\",\"UMD Algeria 2010-2012\",\"UMD South Africa\",\"UMD Sri Lanka 2011\",\"UMD Miscellaneous\",\"Anti-Abortion Project 2010\",\"Eco Project 2010\",\"UMD JTMM Nepal 2012\",\"HSI\",\"Hyland\",\"Hijacking DB\",\"CBRN Global Chronology\",\"UMD Encyclopedia of World Terrorism 2012\",\"Armenian Website\",\"State Department 1997 Document\",\"UMD Assassinations Project\",\"UMD Black Widows 2011\",\"Leuprecht Canadian Data\",\"Disorders and Terrorism Chronology\",\"Sageman\"],\"xaxis\":\"x\",\"y\":[77972,63148,17139,16110,1588,1085,995,830,449,399,253,180,143,104,97,63,54,46,40,39,28,18,7,5,5,3],\"yaxis\":\"y\",\"type\":\"bar\"}],                        {\"template\":{\"data\":{\"bar\":[{\"error_x\":{\"color\":\"#2a3f5f\"},\"error_y\":{\"color\":\"#2a3f5f\"},\"marker\":{\"line\":{\"color\":\"#E5ECF6\",\"width\":0.5},\"pattern\":{\"fillmode\":\"overlay\",\"size\":10,\"solidity\":0.2}},\"type\":\"bar\"}],\"barpolar\":[{\"marker\":{\"line\":{\"color\":\"#E5ECF6\",\"width\":0.5},\"pattern\":{\"fillmode\":\"overlay\",\"size\":10,\"solidity\":0.2}},\"type\":\"barpolar\"}],\"carpet\":[{\"aaxis\":{\"endlinecolor\":\"#2a3f5f\",\"gridcolor\":\"white\",\"linecolor\":\"white\",\"minorgridcolor\":\"white\",\"startlinecolor\":\"#2a3f5f\"},\"baxis\":{\"endlinecolor\":\"#2a3f5f\",\"gridcolor\":\"white\",\"linecolor\":\"white\",\"minorgridcolor\":\"white\",\"startlinecolor\":\"#2a3f5f\"},\"type\":\"carpet\"}],\"choropleth\":[{\"colorbar\":{\"outlinewidth\":0,\"ticks\":\"\"},\"type\":\"choropleth\"}],\"contour\":[{\"colorbar\":{\"outlinewidth\":0,\"ticks\":\"\"},\"colorscale\":[[0.0,\"#0d0887\"],[0.1111111111111111,\"#46039f\"],[0.2222222222222222,\"#7201a8\"],[0.3333333333333333,\"#9c179e\"],[0.4444444444444444,\"#bd3786\"],[0.5555555555555556,\"#d8576b\"],[0.6666666666666666,\"#ed7953\"],[0.7777777777777778,\"#fb9f3a\"],[0.8888888888888888,\"#fdca26\"],[1.0,\"#f0f921\"]],\"type\":\"contour\"}],\"contourcarpet\":[{\"colorbar\":{\"outlinewidth\":0,\"ticks\":\"\"},\"type\":\"contourcarpet\"}],\"heatmap\":[{\"colorbar\":{\"outlinewidth\":0,\"ticks\":\"\"},\"colorscale\":[[0.0,\"#0d0887\"],[0.1111111111111111,\"#46039f\"],[0.2222222222222222,\"#7201a8\"],[0.3333333333333333,\"#9c179e\"],[0.4444444444444444,\"#bd3786\"],[0.5555555555555556,\"#d8576b\"],[0.6666666666666666,\"#ed7953\"],[0.7777777777777778,\"#fb9f3a\"],[0.8888888888888888,\"#fdca26\"],[1.0,\"#f0f921\"]],\"type\":\"heatmap\"}],\"heatmapgl\":[{\"colorbar\":{\"outlinewidth\":0,\"ticks\":\"\"},\"colorscale\":[[0.0,\"#0d0887\"],[0.1111111111111111,\"#46039f\"],[0.2222222222222222,\"#7201a8\"],[0.3333333333333333,\"#9c179e\"],[0.4444444444444444,\"#bd3786\"],[0.5555555555555556,\"#d8576b\"],[0.6666666666666666,\"#ed7953\"],[0.7777777777777778,\"#fb9f3a\"],[0.8888888888888888,\"#fdca26\"],[1.0,\"#f0f921\"]],\"type\":\"heatmapgl\"}],\"histogram\":[{\"marker\":{\"pattern\":{\"fillmode\":\"overlay\",\"size\":10,\"solidity\":0.2}},\"type\":\"histogram\"}],\"histogram2d\":[{\"colorbar\":{\"outlinewidth\":0,\"ticks\":\"\"},\"colorscale\":[[0.0,\"#0d0887\"],[0.1111111111111111,\"#46039f\"],[0.2222222222222222,\"#7201a8\"],[0.3333333333333333,\"#9c179e\"],[0.4444444444444444,\"#bd3786\"],[0.5555555555555556,\"#d8576b\"],[0.6666666666666666,\"#ed7953\"],[0.7777777777777778,\"#fb9f3a\"],[0.8888888888888888,\"#fdca26\"],[1.0,\"#f0f921\"]],\"type\":\"histogram2d\"}],\"histogram2dcontour\":[{\"colorbar\":{\"outlinewidth\":0,\"ticks\":\"\"},\"colorscale\":[[0.0,\"#0d0887\"],[0.1111111111111111,\"#46039f\"],[0.2222222222222222,\"#7201a8\"],[0.3333333333333333,\"#9c179e\"],[0.4444444444444444,\"#bd3786\"],[0.5555555555555556,\"#d8576b\"],[0.6666666666666666,\"#ed7953\"],[0.7777777777777778,\"#fb9f3a\"],[0.8888888888888888,\"#fdca26\"],[1.0,\"#f0f921\"]],\"type\":\"histogram2dcontour\"}],\"mesh3d\":[{\"colorbar\":{\"outlinewidth\":0,\"ticks\":\"\"},\"type\":\"mesh3d\"}],\"parcoords\":[{\"line\":{\"colorbar\":{\"outlinewidth\":0,\"ticks\":\"\"}},\"type\":\"parcoords\"}],\"pie\":[{\"automargin\":true,\"type\":\"pie\"}],\"scatter\":[{\"marker\":{\"colorbar\":{\"outlinewidth\":0,\"ticks\":\"\"}},\"type\":\"scatter\"}],\"scatter3d\":[{\"line\":{\"colorbar\":{\"outlinewidth\":0,\"ticks\":\"\"}},\"marker\":{\"colorbar\":{\"outlinewidth\":0,\"ticks\":\"\"}},\"type\":\"scatter3d\"}],\"scattercarpet\":[{\"marker\":{\"colorbar\":{\"outlinewidth\":0,\"ticks\":\"\"}},\"type\":\"scattercarpet\"}],\"scattergeo\":[{\"marker\":{\"colorbar\":{\"outlinewidth\":0,\"ticks\":\"\"}},\"type\":\"scattergeo\"}],\"scattergl\":[{\"marker\":{\"colorbar\":{\"outlinewidth\":0,\"ticks\":\"\"}},\"type\":\"scattergl\"}],\"scattermapbox\":[{\"marker\":{\"colorbar\":{\"outlinewidth\":0,\"ticks\":\"\"}},\"type\":\"scattermapbox\"}],\"scatterpolar\":[{\"marker\":{\"colorbar\":{\"outlinewidth\":0,\"ticks\":\"\"}},\"type\":\"scatterpolar\"}],\"scatterpolargl\":[{\"marker\":{\"colorbar\":{\"outlinewidth\":0,\"ticks\":\"\"}},\"type\":\"scatterpolargl\"}],\"scatterternary\":[{\"marker\":{\"colorbar\":{\"outlinewidth\":0,\"ticks\":\"\"}},\"type\":\"scatterternary\"}],\"surface\":[{\"colorbar\":{\"outlinewidth\":0,\"ticks\":\"\"},\"colorscale\":[[0.0,\"#0d0887\"],[0.1111111111111111,\"#46039f\"],[0.2222222222222222,\"#7201a8\"],[0.3333333333333333,\"#9c179e\"],[0.4444444444444444,\"#bd3786\"],[0.5555555555555556,\"#d8576b\"],[0.6666666666666666,\"#ed7953\"],[0.7777777777777778,\"#fb9f3a\"],[0.8888888888888888,\"#fdca26\"],[1.0,\"#f0f921\"]],\"type\":\"surface\"}],\"table\":[{\"cells\":{\"fill\":{\"color\":\"#EBF0F8\"},\"line\":{\"color\":\"white\"}},\"header\":{\"fill\":{\"color\":\"#C8D4E3\"},\"line\":{\"color\":\"white\"}},\"type\":\"table\"}]},\"layout\":{\"annotationdefaults\":{\"arrowcolor\":\"#2a3f5f\",\"arrowhead\":0,\"arrowwidth\":1},\"autotypenumbers\":\"strict\",\"coloraxis\":{\"colorbar\":{\"outlinewidth\":0,\"ticks\":\"\"}},\"colorscale\":{\"diverging\":[[0,\"#8e0152\"],[0.1,\"#c51b7d\"],[0.2,\"#de77ae\"],[0.3,\"#f1b6da\"],[0.4,\"#fde0ef\"],[0.5,\"#f7f7f7\"],[0.6,\"#e6f5d0\"],[0.7,\"#b8e186\"],[0.8,\"#7fbc41\"],[0.9,\"#4d9221\"],[1,\"#276419\"]],\"sequential\":[[0.0,\"#0d0887\"],[0.1111111111111111,\"#46039f\"],[0.2222222222222222,\"#7201a8\"],[0.3333333333333333,\"#9c179e\"],[0.4444444444444444,\"#bd3786\"],[0.5555555555555556,\"#d8576b\"],[0.6666666666666666,\"#ed7953\"],[0.7777777777777778,\"#fb9f3a\"],[0.8888888888888888,\"#fdca26\"],[1.0,\"#f0f921\"]],\"sequentialminus\":[[0.0,\"#0d0887\"],[0.1111111111111111,\"#46039f\"],[0.2222222222222222,\"#7201a8\"],[0.3333333333333333,\"#9c179e\"],[0.4444444444444444,\"#bd3786\"],[0.5555555555555556,\"#d8576b\"],[0.6666666666666666,\"#ed7953\"],[0.7777777777777778,\"#fb9f3a\"],[0.8888888888888888,\"#fdca26\"],[1.0,\"#f0f921\"]]},\"colorway\":[\"#636efa\",\"#EF553B\",\"#00cc96\",\"#ab63fa\",\"#FFA15A\",\"#19d3f3\",\"#FF6692\",\"#B6E880\",\"#FF97FF\",\"#FECB52\"],\"font\":{\"color\":\"#2a3f5f\"},\"geo\":{\"bgcolor\":\"white\",\"lakecolor\":\"white\",\"landcolor\":\"#E5ECF6\",\"showlakes\":true,\"showland\":true,\"subunitcolor\":\"white\"},\"hoverlabel\":{\"align\":\"left\"},\"hovermode\":\"closest\",\"mapbox\":{\"style\":\"light\"},\"paper_bgcolor\":\"white\",\"plot_bgcolor\":\"#E5ECF6\",\"polar\":{\"angularaxis\":{\"gridcolor\":\"white\",\"linecolor\":\"white\",\"ticks\":\"\"},\"bgcolor\":\"#E5ECF6\",\"radialaxis\":{\"gridcolor\":\"white\",\"linecolor\":\"white\",\"ticks\":\"\"}},\"scene\":{\"xaxis\":{\"backgroundcolor\":\"#E5ECF6\",\"gridcolor\":\"white\",\"gridwidth\":2,\"linecolor\":\"white\",\"showbackground\":true,\"ticks\":\"\",\"zerolinecolor\":\"white\"},\"yaxis\":{\"backgroundcolor\":\"#E5ECF6\",\"gridcolor\":\"white\",\"gridwidth\":2,\"linecolor\":\"white\",\"showbackground\":true,\"ticks\":\"\",\"zerolinecolor\":\"white\"},\"zaxis\":{\"backgroundcolor\":\"#E5ECF6\",\"gridcolor\":\"white\",\"gridwidth\":2,\"linecolor\":\"white\",\"showbackground\":true,\"ticks\":\"\",\"zerolinecolor\":\"white\"}},\"shapedefaults\":{\"line\":{\"color\":\"#2a3f5f\"}},\"ternary\":{\"aaxis\":{\"gridcolor\":\"white\",\"linecolor\":\"white\",\"ticks\":\"\"},\"baxis\":{\"gridcolor\":\"white\",\"linecolor\":\"white\",\"ticks\":\"\"},\"bgcolor\":\"#E5ECF6\",\"caxis\":{\"gridcolor\":\"white\",\"linecolor\":\"white\",\"ticks\":\"\"}},\"title\":{\"x\":0.05},\"xaxis\":{\"automargin\":true,\"gridcolor\":\"white\",\"linecolor\":\"white\",\"ticks\":\"\",\"title\":{\"standoff\":15},\"zerolinecolor\":\"white\",\"zerolinewidth\":2},\"yaxis\":{\"automargin\":true,\"gridcolor\":\"white\",\"linecolor\":\"white\",\"ticks\":\"\",\"title\":{\"standoff\":15},\"zerolinecolor\":\"white\",\"zerolinewidth\":2}}},\"xaxis\":{\"anchor\":\"y\",\"domain\":[0.0,1.0],\"title\":{\"text\":\"dbsource\"}},\"yaxis\":{\"anchor\":\"x\",\"domain\":[0.0,1.0],\"title\":{\"text\":\"nb_attack\"},\"range\":[0,77972]},\"legend\":{\"tracegroupgap\":0},\"margin\":{\"t\":60},\"barmode\":\"relative\",\"width\":1000},                        {\"responsive\": true}                    ).then(function(){\n",
       "                            \n",
       "var gd = document.getElementById('a6f08acc-b1ea-45b5-a199-c603f2ee38cb');\n",
       "var x = new MutationObserver(function (mutations, observer) {{\n",
       "        var display = window.getComputedStyle(gd).display;\n",
       "        if (!display || display === 'none') {{\n",
       "            console.log([gd, 'removed!']);\n",
       "            Plotly.purge(gd);\n",
       "            observer.disconnect();\n",
       "        }}\n",
       "}});\n",
       "\n",
       "// Listen for the removal of the full notebook cells\n",
       "var notebookContainer = gd.closest('#notebook-container');\n",
       "if (notebookContainer) {{\n",
       "    x.observe(notebookContainer, {childList: true});\n",
       "}}\n",
       "\n",
       "// Listen for the clearing of the current output cell\n",
       "var outputEl = gd.closest('.output');\n",
       "if (outputEl) {{\n",
       "    x.observe(outputEl, {childList: true});\n",
       "}}\n",
       "\n",
       "                        })                };                });            </script>        </div>"
      ]
     },
     "metadata": {},
     "output_type": "display_data"
    }
   ],
   "source": [
    "px.bar(data_nb_attack,x=\"dbsource\",y=\"nb_attack\",range_y=[0,data_nb_attack['nb_attack'].max()],width=1000)"
   ]
  },
  {
   "cell_type": "markdown",
   "metadata": {},
   "source": [
    "# visualiser le  cumul  annuel du nombre de morts  par pays"
   ]
  },
  {
   "cell_type": "code",
   "execution_count": 83,
   "metadata": {},
   "outputs": [
    {
     "data": {
      "text/html": [
       "<div>\n",
       "<style scoped>\n",
       "    .dataframe tbody tr th:only-of-type {\n",
       "        vertical-align: middle;\n",
       "    }\n",
       "\n",
       "    .dataframe tbody tr th {\n",
       "        vertical-align: top;\n",
       "    }\n",
       "\n",
       "    .dataframe thead th {\n",
       "        text-align: right;\n",
       "    }\n",
       "</style>\n",
       "<table border=\"1\" class=\"dataframe\">\n",
       "  <thead>\n",
       "    <tr style=\"text-align: right;\">\n",
       "      <th></th>\n",
       "      <th>country_txt</th>\n",
       "      <th>iyear</th>\n",
       "      <th>iday</th>\n",
       "      <th>imonth</th>\n",
       "      <th>nkill</th>\n",
       "      <th>nwound</th>\n",
       "      <th>nkillus</th>\n",
       "      <th>nwoundus</th>\n",
       "      <th>latitude</th>\n",
       "      <th>longitude</th>\n",
       "      <th>suicide</th>\n",
       "      <th>ransompaid</th>\n",
       "      <th>nhostkid</th>\n",
       "      <th>nhours</th>\n",
       "      <th>ndays</th>\n",
       "      <th>ransompaidus</th>\n",
       "      <th>nhostkidus</th>\n",
       "      <th>propextent</th>\n",
       "      <th>propvalue</th>\n",
       "    </tr>\n",
       "  </thead>\n",
       "  <tbody>\n",
       "    <tr>\n",
       "      <th>0</th>\n",
       "      <td>Afghanistan</td>\n",
       "      <td>1973</td>\n",
       "      <td>1</td>\n",
       "      <td>5</td>\n",
       "      <td>0.0</td>\n",
       "      <td>1.0</td>\n",
       "      <td>0.0</td>\n",
       "      <td>0.0</td>\n",
       "      <td>34.516895</td>\n",
       "      <td>69.147011</td>\n",
       "      <td>0</td>\n",
       "      <td>0.0</td>\n",
       "      <td>0.0</td>\n",
       "      <td>0.0</td>\n",
       "      <td>0.0</td>\n",
       "      <td>0.0</td>\n",
       "      <td>0.0</td>\n",
       "      <td>0.0</td>\n",
       "      <td>0.0</td>\n",
       "    </tr>\n",
       "    <tr>\n",
       "      <th>1</th>\n",
       "      <td>Afghanistan</td>\n",
       "      <td>1979</td>\n",
       "      <td>51</td>\n",
       "      <td>24</td>\n",
       "      <td>53.0</td>\n",
       "      <td>2.0</td>\n",
       "      <td>1.0</td>\n",
       "      <td>0.0</td>\n",
       "      <td>136.923134</td>\n",
       "      <td>268.906666</td>\n",
       "      <td>0</td>\n",
       "      <td>0.0</td>\n",
       "      <td>1.0</td>\n",
       "      <td>0.0</td>\n",
       "      <td>0.0</td>\n",
       "      <td>0.0</td>\n",
       "      <td>1.0</td>\n",
       "      <td>3.0</td>\n",
       "      <td>30000.0</td>\n",
       "    </tr>\n",
       "    <tr>\n",
       "      <th>2</th>\n",
       "      <td>Afghanistan</td>\n",
       "      <td>1987</td>\n",
       "      <td>82</td>\n",
       "      <td>29</td>\n",
       "      <td>53.0</td>\n",
       "      <td>4.0</td>\n",
       "      <td>1.0</td>\n",
       "      <td>0.0</td>\n",
       "      <td>136.923134</td>\n",
       "      <td>268.906666</td>\n",
       "      <td>0</td>\n",
       "      <td>0.0</td>\n",
       "      <td>1.0</td>\n",
       "      <td>0.0</td>\n",
       "      <td>0.0</td>\n",
       "      <td>0.0</td>\n",
       "      <td>1.0</td>\n",
       "      <td>3.0</td>\n",
       "      <td>30000.0</td>\n",
       "    </tr>\n",
       "    <tr>\n",
       "      <th>3</th>\n",
       "      <td>Afghanistan</td>\n",
       "      <td>1988</td>\n",
       "      <td>230</td>\n",
       "      <td>104</td>\n",
       "      <td>181.0</td>\n",
       "      <td>110.0</td>\n",
       "      <td>1.0</td>\n",
       "      <td>0.0</td>\n",
       "      <td>517.568298</td>\n",
       "      <td>1027.928570</td>\n",
       "      <td>0</td>\n",
       "      <td>0.0</td>\n",
       "      <td>1.0</td>\n",
       "      <td>0.0</td>\n",
       "      <td>0.0</td>\n",
       "      <td>0.0</td>\n",
       "      <td>1.0</td>\n",
       "      <td>20.0</td>\n",
       "      <td>2165000.0</td>\n",
       "    </tr>\n",
       "    <tr>\n",
       "      <th>4</th>\n",
       "      <td>Afghanistan</td>\n",
       "      <td>1989</td>\n",
       "      <td>398</td>\n",
       "      <td>165</td>\n",
       "      <td>191.0</td>\n",
       "      <td>194.0</td>\n",
       "      <td>1.0</td>\n",
       "      <td>0.0</td>\n",
       "      <td>859.451591</td>\n",
       "      <td>1702.867566</td>\n",
       "      <td>0</td>\n",
       "      <td>0.0</td>\n",
       "      <td>1.0</td>\n",
       "      <td>0.0</td>\n",
       "      <td>0.0</td>\n",
       "      <td>0.0</td>\n",
       "      <td>1.0</td>\n",
       "      <td>23.0</td>\n",
       "      <td>2265000.0</td>\n",
       "    </tr>\n",
       "    <tr>\n",
       "      <th>...</th>\n",
       "      <td>...</td>\n",
       "      <td>...</td>\n",
       "      <td>...</td>\n",
       "      <td>...</td>\n",
       "      <td>...</td>\n",
       "      <td>...</td>\n",
       "      <td>...</td>\n",
       "      <td>...</td>\n",
       "      <td>...</td>\n",
       "      <td>...</td>\n",
       "      <td>...</td>\n",
       "      <td>...</td>\n",
       "      <td>...</td>\n",
       "      <td>...</td>\n",
       "      <td>...</td>\n",
       "      <td>...</td>\n",
       "      <td>...</td>\n",
       "      <td>...</td>\n",
       "      <td>...</td>\n",
       "    </tr>\n",
       "    <tr>\n",
       "      <th>3740</th>\n",
       "      <td>Zimbabwe</td>\n",
       "      <td>2010</td>\n",
       "      <td>1398</td>\n",
       "      <td>548</td>\n",
       "      <td>152.0</td>\n",
       "      <td>219.0</td>\n",
       "      <td>4.0</td>\n",
       "      <td>0.0</td>\n",
       "      <td>-1601.284867</td>\n",
       "      <td>2570.453379</td>\n",
       "      <td>0</td>\n",
       "      <td>0.0</td>\n",
       "      <td>25.0</td>\n",
       "      <td>0.0</td>\n",
       "      <td>0.0</td>\n",
       "      <td>0.0</td>\n",
       "      <td>2.0</td>\n",
       "      <td>116.0</td>\n",
       "      <td>440388.0</td>\n",
       "    </tr>\n",
       "    <tr>\n",
       "      <th>3741</th>\n",
       "      <td>Zimbabwe</td>\n",
       "      <td>2011</td>\n",
       "      <td>1403</td>\n",
       "      <td>554</td>\n",
       "      <td>152.0</td>\n",
       "      <td>219.0</td>\n",
       "      <td>4.0</td>\n",
       "      <td>0.0</td>\n",
       "      <td>-1619.110033</td>\n",
       "      <td>2601.486889</td>\n",
       "      <td>0</td>\n",
       "      <td>0.0</td>\n",
       "      <td>25.0</td>\n",
       "      <td>0.0</td>\n",
       "      <td>0.0</td>\n",
       "      <td>0.0</td>\n",
       "      <td>2.0</td>\n",
       "      <td>116.0</td>\n",
       "      <td>440388.0</td>\n",
       "    </tr>\n",
       "    <tr>\n",
       "      <th>3742</th>\n",
       "      <td>Zimbabwe</td>\n",
       "      <td>2013</td>\n",
       "      <td>1466</td>\n",
       "      <td>571</td>\n",
       "      <td>153.0</td>\n",
       "      <td>220.0</td>\n",
       "      <td>4.0</td>\n",
       "      <td>0.0</td>\n",
       "      <td>-1675.773889</td>\n",
       "      <td>2694.918049</td>\n",
       "      <td>0</td>\n",
       "      <td>0.0</td>\n",
       "      <td>25.0</td>\n",
       "      <td>0.0</td>\n",
       "      <td>0.0</td>\n",
       "      <td>0.0</td>\n",
       "      <td>2.0</td>\n",
       "      <td>122.0</td>\n",
       "      <td>440190.0</td>\n",
       "    </tr>\n",
       "    <tr>\n",
       "      <th>3743</th>\n",
       "      <td>Zimbabwe</td>\n",
       "      <td>2014</td>\n",
       "      <td>1491</td>\n",
       "      <td>573</td>\n",
       "      <td>153.0</td>\n",
       "      <td>220.0</td>\n",
       "      <td>4.0</td>\n",
       "      <td>0.0</td>\n",
       "      <td>-1693.603449</td>\n",
       "      <td>2725.971958</td>\n",
       "      <td>0</td>\n",
       "      <td>0.0</td>\n",
       "      <td>25.0</td>\n",
       "      <td>0.0</td>\n",
       "      <td>0.0</td>\n",
       "      <td>0.0</td>\n",
       "      <td>2.0</td>\n",
       "      <td>125.0</td>\n",
       "      <td>440091.0</td>\n",
       "    </tr>\n",
       "    <tr>\n",
       "      <th>3744</th>\n",
       "      <td>Zimbabwe</td>\n",
       "      <td>2017</td>\n",
       "      <td>1541</td>\n",
       "      <td>594</td>\n",
       "      <td>153.0</td>\n",
       "      <td>221.0</td>\n",
       "      <td>4.0</td>\n",
       "      <td>0.0</td>\n",
       "      <td>-1747.133432</td>\n",
       "      <td>2818.868358</td>\n",
       "      <td>0</td>\n",
       "      <td>0.0</td>\n",
       "      <td>26.0</td>\n",
       "      <td>-99.0</td>\n",
       "      <td>0.0</td>\n",
       "      <td>0.0</td>\n",
       "      <td>2.0</td>\n",
       "      <td>134.0</td>\n",
       "      <td>439794.0</td>\n",
       "    </tr>\n",
       "  </tbody>\n",
       "</table>\n",
       "<p>3745 rows × 19 columns</p>\n",
       "</div>"
      ],
      "text/plain": [
       "      country_txt  iyear  iday  imonth  nkill  nwound  nkillus  nwoundus  \\\n",
       "0     Afghanistan   1973     1       5    0.0     1.0      0.0       0.0   \n",
       "1     Afghanistan   1979    51      24   53.0     2.0      1.0       0.0   \n",
       "2     Afghanistan   1987    82      29   53.0     4.0      1.0       0.0   \n",
       "3     Afghanistan   1988   230     104  181.0   110.0      1.0       0.0   \n",
       "4     Afghanistan   1989   398     165  191.0   194.0      1.0       0.0   \n",
       "...           ...    ...   ...     ...    ...     ...      ...       ...   \n",
       "3740     Zimbabwe   2010  1398     548  152.0   219.0      4.0       0.0   \n",
       "3741     Zimbabwe   2011  1403     554  152.0   219.0      4.0       0.0   \n",
       "3742     Zimbabwe   2013  1466     571  153.0   220.0      4.0       0.0   \n",
       "3743     Zimbabwe   2014  1491     573  153.0   220.0      4.0       0.0   \n",
       "3744     Zimbabwe   2017  1541     594  153.0   221.0      4.0       0.0   \n",
       "\n",
       "         latitude    longitude  suicide  ransompaid  nhostkid  nhours  ndays  \\\n",
       "0       34.516895    69.147011        0         0.0       0.0     0.0    0.0   \n",
       "1      136.923134   268.906666        0         0.0       1.0     0.0    0.0   \n",
       "2      136.923134   268.906666        0         0.0       1.0     0.0    0.0   \n",
       "3      517.568298  1027.928570        0         0.0       1.0     0.0    0.0   \n",
       "4      859.451591  1702.867566        0         0.0       1.0     0.0    0.0   \n",
       "...           ...          ...      ...         ...       ...     ...    ...   \n",
       "3740 -1601.284867  2570.453379        0         0.0      25.0     0.0    0.0   \n",
       "3741 -1619.110033  2601.486889        0         0.0      25.0     0.0    0.0   \n",
       "3742 -1675.773889  2694.918049        0         0.0      25.0     0.0    0.0   \n",
       "3743 -1693.603449  2725.971958        0         0.0      25.0     0.0    0.0   \n",
       "3744 -1747.133432  2818.868358        0         0.0      26.0   -99.0    0.0   \n",
       "\n",
       "      ransompaidus  nhostkidus  propextent  propvalue  \n",
       "0              0.0         0.0         0.0        0.0  \n",
       "1              0.0         1.0         3.0    30000.0  \n",
       "2              0.0         1.0         3.0    30000.0  \n",
       "3              0.0         1.0        20.0  2165000.0  \n",
       "4              0.0         1.0        23.0  2265000.0  \n",
       "...            ...         ...         ...        ...  \n",
       "3740           0.0         2.0       116.0   440388.0  \n",
       "3741           0.0         2.0       116.0   440388.0  \n",
       "3742           0.0         2.0       122.0   440190.0  \n",
       "3743           0.0         2.0       125.0   440091.0  \n",
       "3744           0.0         2.0       134.0   439794.0  \n",
       "\n",
       "[3745 rows x 19 columns]"
      ]
     },
     "execution_count": 83,
     "metadata": {},
     "output_type": "execute_result"
    }
   ],
   "source": [
    "data_nmort=cleaned_data.groupby([\"country_txt\",'iyear']).sum('nkill').groupby(level=0).cumsum().reset_index()\n",
    "data_nmort"
   ]
  },
  {
   "cell_type": "code",
   "execution_count": 84,
   "metadata": {},
   "outputs": [
    {
     "data": {
      "application/vnd.plotly.v1+json": {
       "config": {
        "plotlyServerURL": "https://plot.ly"
       },
       "data": [
        {
         "hovertemplate": "country_txt=Afghanistan<br>iyear=%{x}<br>nkill=%{y}<extra></extra>",
         "legendgroup": "Afghanistan",
         "line": {
          "color": "#636efa",
          "dash": "solid"
         },
         "marker": {
          "symbol": "circle"
         },
         "mode": "lines",
         "name": "Afghanistan",
         "showlegend": true,
         "type": "scattergl",
         "x": [
          1973,
          1979,
          1987,
          1988,
          1989,
          1990,
          1991,
          1992,
          1994,
          1995,
          1996,
          1997,
          1998,
          1999,
          2000,
          2001,
          2002,
          2003,
          2004,
          2005,
          2006,
          2007,
          2008,
          2009,
          2010,
          2011,
          2012,
          2013,
          2014,
          2015,
          2016,
          2017
         ],
         "xaxis": "x",
         "y": [
          0,
          53,
          53,
          181,
          191,
          203,
          271,
          320,
          342,
          347,
          378,
          382,
          390,
          429,
          467,
          641,
          715,
          878,
          1153,
          1520,
          2251,
          3442,
          4534,
          5598,
          6755,
          8280,
          11801,
          15510,
          20924,
          27140,
          33282,
          39374
         ],
         "yaxis": "y"
        },
        {
         "hovertemplate": "country_txt=Albania<br>iyear=%{x}<br>nkill=%{y}<extra></extra>",
         "legendgroup": "Albania",
         "line": {
          "color": "#EF553B",
          "dash": "solid"
         },
         "marker": {
          "symbol": "circle"
         },
         "mode": "lines",
         "name": "Albania",
         "showlegend": true,
         "type": "scattergl",
         "x": [
          1981,
          1990,
          1991,
          1992,
          1994,
          1996,
          1997,
          1998,
          1999,
          2000,
          2001,
          2003,
          2009,
          2013,
          2014,
          2015,
          2016,
          2017
         ],
         "xaxis": "x",
         "y": [
          0,
          0,
          0,
          1,
          2,
          9,
          35,
          35,
          41,
          41,
          41,
          41,
          41,
          41,
          42,
          42,
          42,
          42
         ],
         "yaxis": "y"
        },
        {
         "hovertemplate": "country_txt=Algeria<br>iyear=%{x}<br>nkill=%{y}<extra></extra>",
         "legendgroup": "Algeria",
         "line": {
          "color": "#00cc96",
          "dash": "solid"
         },
         "marker": {
          "symbol": "circle"
         },
         "mode": "lines",
         "name": "Algeria",
         "showlegend": true,
         "type": "scattergl",
         "x": [
          1972,
          1976,
          1978,
          1979,
          1990,
          1991,
          1992,
          1994,
          1995,
          1996,
          1997,
          1998,
          1999,
          2000,
          2001,
          2002,
          2003,
          2004,
          2005,
          2006,
          2007,
          2008,
          2009,
          2010,
          2011,
          2012,
          2013,
          2014,
          2015,
          2016,
          2017
         ],
         "xaxis": "x",
         "y": [
          0,
          0,
          0,
          0,
          3,
          45,
          281,
          781,
          1199,
          1728,
          5916,
          6856,
          7301,
          7820,
          8399,
          9014,
          9273,
          9439,
          9667,
          9831,
          10071,
          10317,
          10510,
          10611,
          10636,
          10666,
          10767,
          10804,
          10825,
          10834,
          10846
         ],
         "yaxis": "y"
        },
        {
         "hovertemplate": "country_txt=Andorra<br>iyear=%{x}<br>nkill=%{y}<extra></extra>",
         "legendgroup": "Andorra",
         "line": {
          "color": "#ab63fa",
          "dash": "solid"
         },
         "marker": {
          "symbol": "circle"
         },
         "mode": "lines",
         "name": "Andorra",
         "showlegend": true,
         "type": "scattergl",
         "x": [
          1974
         ],
         "xaxis": "x",
         "y": [
          0
         ],
         "yaxis": "y"
        },
        {
         "hovertemplate": "country_txt=Angola<br>iyear=%{x}<br>nkill=%{y}<extra></extra>",
         "legendgroup": "Angola",
         "line": {
          "color": "#FFA15A",
          "dash": "solid"
         },
         "marker": {
          "symbol": "circle"
         },
         "mode": "lines",
         "name": "Angola",
         "showlegend": true,
         "type": "scattergl",
         "x": [
          1977,
          1979,
          1981,
          1982,
          1983,
          1984,
          1985,
          1986,
          1987,
          1988,
          1989,
          1990,
          1991,
          1992,
          1994,
          1995,
          1996,
          1997,
          1998,
          1999,
          2000,
          2001,
          2002,
          2009,
          2010,
          2016,
          2017
         ],
         "xaxis": "x",
         "y": [
          0,
          1,
          4,
          6,
          288,
          467,
          473,
          592,
          597,
          742,
          830,
          977,
          1046,
          1130,
          1238,
          1290,
          1308,
          1342,
          1617,
          1916,
          2087,
          2931,
          2990,
          2992,
          2996,
          2996,
          3003
         ],
         "yaxis": "y"
        },
        {
         "hovertemplate": "country_txt=Antigua and Barbuda<br>iyear=%{x}<br>nkill=%{y}<extra></extra>",
         "legendgroup": "Antigua and Barbuda",
         "line": {
          "color": "#19d3f3",
          "dash": "solid"
         },
         "marker": {
          "symbol": "circle"
         },
         "mode": "lines",
         "name": "Antigua and Barbuda",
         "showlegend": true,
         "type": "scattergl",
         "x": [
          1992
         ],
         "xaxis": "x",
         "y": [
          0
         ],
         "yaxis": "y"
        },
        {
         "hovertemplate": "country_txt=Argentina<br>iyear=%{x}<br>nkill=%{y}<extra></extra>",
         "legendgroup": "Argentina",
         "line": {
          "color": "#FF6692",
          "dash": "solid"
         },
         "marker": {
          "symbol": "circle"
         },
         "mode": "lines",
         "name": "Argentina",
         "showlegend": true,
         "type": "scattergl",
         "x": [
          1970,
          1971,
          1972,
          1973,
          1974,
          1975,
          1976,
          1977,
          1978,
          1979,
          1980,
          1981,
          1982,
          1983,
          1984,
          1985,
          1986,
          1987,
          1988,
          1989,
          1990,
          1991,
          1992,
          1994,
          1995,
          1996,
          1997,
          1999,
          2001,
          2003,
          2005,
          2009,
          2010,
          2011,
          2012,
          2013,
          2014,
          2015,
          2016,
          2017
         ],
         "xaxis": "x",
         "y": [
          5,
          10,
          15,
          31,
          52,
          174,
          295,
          302,
          315,
          326,
          326,
          326,
          327,
          328,
          329,
          331,
          333,
          336,
          337,
          363,
          364,
          365,
          398,
          484,
          484,
          485,
          488,
          488,
          488,
          488,
          488,
          488,
          488,
          488,
          488,
          488,
          488,
          488,
          488,
          488
         ],
         "yaxis": "y"
        },
        {
         "hovertemplate": "country_txt=Armenia<br>iyear=%{x}<br>nkill=%{y}<extra></extra>",
         "legendgroup": "Armenia",
         "line": {
          "color": "#B6E880",
          "dash": "solid"
         },
         "marker": {
          "symbol": "circle"
         },
         "mode": "lines",
         "name": "Armenia",
         "showlegend": true,
         "type": "scattergl",
         "x": [
          1991,
          1992,
          1994,
          1995,
          1996,
          1998,
          1999,
          2000,
          2001,
          2007,
          2009,
          2013,
          2015,
          2016
         ],
         "xaxis": "x",
         "y": [
          0,
          2,
          17,
          19,
          21,
          21,
          29,
          29,
          30,
          30,
          31,
          31,
          31,
          37
         ],
         "yaxis": "y"
        },
        {
         "hovertemplate": "country_txt=Australia<br>iyear=%{x}<br>nkill=%{y}<extra></extra>",
         "legendgroup": "Australia",
         "line": {
          "color": "#FF97FF",
          "dash": "solid"
         },
         "marker": {
          "symbol": "circle"
         },
         "mode": "lines",
         "name": "Australia",
         "showlegend": true,
         "type": "scattergl",
         "x": [
          1970,
          1971,
          1972,
          1974,
          1978,
          1979,
          1980,
          1981,
          1982,
          1986,
          1988,
          1989,
          1991,
          1992,
          1994,
          1995,
          1996,
          1997,
          1998,
          2000,
          2001,
          2006,
          2008,
          2009,
          2010,
          2013,
          2014,
          2015,
          2016,
          2017
         ],
         "xaxis": "x",
         "y": [
          0,
          0,
          1,
          1,
          3,
          3,
          5,
          6,
          6,
          7,
          7,
          7,
          7,
          8,
          11,
          11,
          13,
          13,
          13,
          13,
          13,
          13,
          13,
          13,
          13,
          13,
          17,
          19,
          19,
          23
         ],
         "yaxis": "y"
        },
        {
         "hovertemplate": "country_txt=Austria<br>iyear=%{x}<br>nkill=%{y}<extra></extra>",
         "legendgroup": "Austria",
         "line": {
          "color": "#FECB52",
          "dash": "solid"
         },
         "marker": {
          "symbol": "circle"
         },
         "mode": "lines",
         "name": "Austria",
         "showlegend": true,
         "type": "scattergl",
         "x": [
          1972,
          1973,
          1974,
          1975,
          1976,
          1977,
          1978,
          1979,
          1980,
          1981,
          1982,
          1984,
          1985,
          1986,
          1987,
          1988,
          1989,
          1990,
          1991,
          1992,
          1994,
          1995,
          1996,
          1997,
          1998,
          2006,
          2007,
          2008,
          2009,
          2011,
          2013,
          2016,
          2017
         ],
         "xaxis": "x",
         "y": [
          4,
          4,
          4,
          8,
          8,
          9,
          9,
          9,
          9,
          12,
          12,
          14,
          18,
          18,
          18,
          18,
          21,
          21,
          21,
          21,
          21,
          27,
          27,
          27,
          27,
          27,
          27,
          27,
          28,
          28,
          28,
          28,
          30
         ],
         "yaxis": "y"
        },
        {
         "hovertemplate": "country_txt=Azerbaijan<br>iyear=%{x}<br>nkill=%{y}<extra></extra>",
         "legendgroup": "Azerbaijan",
         "line": {
          "color": "#636efa",
          "dash": "solid"
         },
         "marker": {
          "symbol": "circle"
         },
         "mode": "lines",
         "name": "Azerbaijan",
         "showlegend": true,
         "type": "scattergl",
         "x": [
          1991,
          1992,
          1994,
          1995,
          1996,
          1997,
          2000,
          2001,
          2002,
          2007,
          2008,
          2009,
          2014,
          2016,
          2017
         ],
         "xaxis": "x",
         "y": [
          26,
          212,
          242,
          242,
          244,
          245,
          245,
          246,
          246,
          246,
          251,
          252,
          252,
          253,
          258
         ],
         "yaxis": "y"
        },
        {
         "hovertemplate": "country_txt=Bahamas<br>iyear=%{x}<br>nkill=%{y}<extra></extra>",
         "legendgroup": "Bahamas",
         "line": {
          "color": "#EF553B",
          "dash": "solid"
         },
         "marker": {
          "symbol": "circle"
         },
         "mode": "lines",
         "name": "Bahamas",
         "showlegend": true,
         "type": "scattergl",
         "x": [
          1976,
          1981,
          1997,
          2013
         ],
         "xaxis": "x",
         "y": [
          0,
          0,
          1,
          1
         ],
         "yaxis": "y"
        },
        {
         "hovertemplate": "country_txt=Bahrain<br>iyear=%{x}<br>nkill=%{y}<extra></extra>",
         "legendgroup": "Bahrain",
         "line": {
          "color": "#00cc96",
          "dash": "solid"
         },
         "marker": {
          "symbol": "circle"
         },
         "mode": "lines",
         "name": "Bahrain",
         "showlegend": true,
         "type": "scattergl",
         "x": [
          1979,
          1991,
          1994,
          1995,
          1996,
          1997,
          2003,
          2008,
          2010,
          2011,
          2012,
          2013,
          2014,
          2015,
          2016,
          2017
         ],
         "xaxis": "x",
         "y": [
          0,
          1,
          1,
          2,
          10,
          15,
          15,
          16,
          16,
          16,
          20,
          23,
          32,
          37,
          38,
          44
         ],
         "yaxis": "y"
        },
        {
         "hovertemplate": "country_txt=Bangladesh<br>iyear=%{x}<br>nkill=%{y}<extra></extra>",
         "legendgroup": "Bangladesh",
         "line": {
          "color": "#ab63fa",
          "dash": "solid"
         },
         "marker": {
          "symbol": "circle"
         },
         "mode": "lines",
         "name": "Bangladesh",
         "showlegend": true,
         "type": "scattergl",
         "x": [
          1977,
          1979,
          1980,
          1981,
          1982,
          1984,
          1985,
          1986,
          1987,
          1988,
          1989,
          1990,
          1991,
          1992,
          1994,
          1995,
          1996,
          1997,
          1998,
          1999,
          2000,
          2001,
          2002,
          2003,
          2004,
          2005,
          2006,
          2007,
          2008,
          2009,
          2010,
          2011,
          2012,
          2013,
          2014,
          2015,
          2016,
          2017
         ],
         "xaxis": "x",
         "y": [
          0,
          0,
          6,
          12,
          12,
          13,
          13,
          67,
          93,
          180,
          311,
          377,
          446,
          547,
          577,
          612,
          701,
          715,
          715,
          745,
          756,
          813,
          834,
          837,
          880,
          924,
          943,
          944,
          953,
          971,
          986,
          995,
          1003,
          1019,
          1057,
          1143,
          1219,
          1244
         ],
         "yaxis": "y"
        },
        {
         "hovertemplate": "country_txt=Barbados<br>iyear=%{x}<br>nkill=%{y}<extra></extra>",
         "legendgroup": "Barbados",
         "line": {
          "color": "#FFA15A",
          "dash": "solid"
         },
         "marker": {
          "symbol": "circle"
         },
         "mode": "lines",
         "name": "Barbados",
         "showlegend": true,
         "type": "scattergl",
         "x": [
          1976,
          1992
         ],
         "xaxis": "x",
         "y": [
          73,
          76
         ],
         "yaxis": "y"
        },
        {
         "hovertemplate": "country_txt=Belarus<br>iyear=%{x}<br>nkill=%{y}<extra></extra>",
         "legendgroup": "Belarus",
         "line": {
          "color": "#19d3f3",
          "dash": "solid"
         },
         "marker": {
          "symbol": "circle"
         },
         "mode": "lines",
         "name": "Belarus",
         "showlegend": true,
         "type": "scattergl",
         "x": [
          1994,
          1997,
          1999,
          2001,
          2006,
          2008,
          2010,
          2011,
          2012
         ],
         "xaxis": "x",
         "y": [
          0,
          1,
          1,
          1,
          1,
          1,
          1,
          14,
          14
         ],
         "yaxis": "y"
        },
        {
         "hovertemplate": "country_txt=Belgium<br>iyear=%{x}<br>nkill=%{y}<extra></extra>",
         "legendgroup": "Belgium",
         "line": {
          "color": "#FF6692",
          "dash": "solid"
         },
         "marker": {
          "symbol": "circle"
         },
         "mode": "lines",
         "name": "Belgium",
         "showlegend": true,
         "type": "scattergl",
         "x": [
          1970,
          1972,
          1973,
          1974,
          1976,
          1977,
          1978,
          1979,
          1980,
          1981,
          1982,
          1983,
          1984,
          1985,
          1986,
          1987,
          1988,
          1989,
          1990,
          1991,
          1992,
          1994,
          1995,
          1997,
          1998,
          1999,
          2002,
          2003,
          2007,
          2009,
          2012,
          2014,
          2016,
          2017
         ],
         "xaxis": "x",
         "y": [
          0,
          0,
          0,
          0,
          0,
          0,
          1,
          2,
          3,
          9,
          9,
          11,
          11,
          21,
          21,
          22,
          23,
          27,
          29,
          30,
          31,
          31,
          31,
          35,
          35,
          35,
          35,
          35,
          35,
          35,
          36,
          40,
          76,
          78
         ],
         "yaxis": "y"
        },
        {
         "hovertemplate": "country_txt=Belize<br>iyear=%{x}<br>nkill=%{y}<extra></extra>",
         "legendgroup": "Belize",
         "line": {
          "color": "#B6E880",
          "dash": "solid"
         },
         "marker": {
          "symbol": "circle"
         },
         "mode": "lines",
         "name": "Belize",
         "showlegend": true,
         "type": "scattergl",
         "x": [
          1980,
          1991,
          1992,
          2000,
          2013
         ],
         "xaxis": "x",
         "y": [
          0,
          2,
          3,
          3,
          3
         ],
         "yaxis": "y"
        },
        {
         "hovertemplate": "country_txt=Benin<br>iyear=%{x}<br>nkill=%{y}<extra></extra>",
         "legendgroup": "Benin",
         "line": {
          "color": "#FF97FF",
          "dash": "solid"
         },
         "marker": {
          "symbol": "circle"
         },
         "mode": "lines",
         "name": "Benin",
         "showlegend": true,
         "type": "scattergl",
         "x": [
          1992,
          1994,
          1995,
          1996,
          2007
         ],
         "xaxis": "x",
         "y": [
          0,
          0,
          0,
          0,
          0
         ],
         "yaxis": "y"
        },
        {
         "hovertemplate": "country_txt=Bhutan<br>iyear=%{x}<br>nkill=%{y}<extra></extra>",
         "legendgroup": "Bhutan",
         "line": {
          "color": "#FECB52",
          "dash": "solid"
         },
         "marker": {
          "symbol": "circle"
         },
         "mode": "lines",
         "name": "Bhutan",
         "showlegend": true,
         "type": "scattergl",
         "x": [
          2006,
          2008,
          2011,
          2014
         ],
         "xaxis": "x",
         "y": [
          4,
          9,
          9,
          9
         ],
         "yaxis": "y"
        },
        {
         "hovertemplate": "country_txt=Bolivia<br>iyear=%{x}<br>nkill=%{y}<extra></extra>",
         "legendgroup": "Bolivia",
         "line": {
          "color": "#636efa",
          "dash": "solid"
         },
         "marker": {
          "symbol": "circle"
         },
         "mode": "lines",
         "name": "Bolivia",
         "showlegend": true,
         "type": "scattergl",
         "x": [
          1970,
          1971,
          1976,
          1977,
          1978,
          1979,
          1980,
          1981,
          1982,
          1983,
          1984,
          1985,
          1986,
          1987,
          1988,
          1989,
          1990,
          1991,
          1992,
          1994,
          1995,
          1996,
          1997,
          2003,
          2005,
          2007,
          2009,
          2012
         ],
         "xaxis": "x",
         "y": [
          0,
          0,
          0,
          0,
          0,
          0,
          11,
          12,
          12,
          12,
          13,
          13,
          14,
          15,
          17,
          19,
          25,
          32,
          37,
          38,
          38,
          38,
          42,
          42,
          42,
          42,
          42,
          42
         ],
         "yaxis": "y"
        },
        {
         "hovertemplate": "country_txt=Bosnia-Herzegovina<br>iyear=%{x}<br>nkill=%{y}<extra></extra>",
         "legendgroup": "Bosnia-Herzegovina",
         "line": {
          "color": "#EF553B",
          "dash": "solid"
         },
         "marker": {
          "symbol": "circle"
         },
         "mode": "lines",
         "name": "Bosnia-Herzegovina",
         "showlegend": true,
         "type": "scattergl",
         "x": [
          1992,
          1994,
          1995,
          1996,
          1997,
          1998,
          1999,
          2000,
          2001,
          2002,
          2003,
          2005,
          2006,
          2007,
          2008,
          2009,
          2010,
          2011,
          2013,
          2014,
          2015
         ],
         "xaxis": "x",
         "y": [
          55,
          58,
          60,
          62,
          67,
          69,
          70,
          71,
          71,
          71,
          71,
          71,
          71,
          72,
          74,
          74,
          75,
          75,
          75,
          75,
          79
         ],
         "yaxis": "y"
        },
        {
         "hovertemplate": "country_txt=Botswana<br>iyear=%{x}<br>nkill=%{y}<extra></extra>",
         "legendgroup": "Botswana",
         "line": {
          "color": "#00cc96",
          "dash": "solid"
         },
         "marker": {
          "symbol": "circle"
         },
         "mode": "lines",
         "name": "Botswana",
         "showlegend": true,
         "type": "scattergl",
         "x": [
          1974,
          1985,
          1987,
          1988,
          1989,
          1990,
          1995
         ],
         "xaxis": "x",
         "y": [
          1,
          1,
          4,
          5,
          5,
          11,
          11
         ],
         "yaxis": "y"
        },
        {
         "hovertemplate": "country_txt=Brazil<br>iyear=%{x}<br>nkill=%{y}<extra></extra>",
         "legendgroup": "Brazil",
         "line": {
          "color": "#ab63fa",
          "dash": "solid"
         },
         "marker": {
          "symbol": "circle"
         },
         "mode": "lines",
         "name": "Brazil",
         "showlegend": true,
         "type": "scattergl",
         "x": [
          1970,
          1971,
          1972,
          1973,
          1976,
          1977,
          1978,
          1979,
          1980,
          1981,
          1982,
          1983,
          1984,
          1985,
          1986,
          1987,
          1988,
          1989,
          1990,
          1991,
          1992,
          1994,
          1995,
          1996,
          1997,
          1998,
          1999,
          2000,
          2001,
          2002,
          2003,
          2006,
          2012,
          2013,
          2014,
          2015,
          2016,
          2017
         ],
         "xaxis": "x",
         "y": [
          2,
          2,
          2,
          2,
          2,
          2,
          3,
          7,
          26,
          28,
          55,
          55,
          55,
          55,
          69,
          69,
          69,
          70,
          73,
          85,
          113,
          128,
          141,
          163,
          191,
          191,
          192,
          192,
          193,
          193,
          193,
          194,
          195,
          197,
          199,
          202,
          203,
          203
         ],
         "yaxis": "y"
        },
        {
         "hovertemplate": "country_txt=Brunei<br>iyear=%{x}<br>nkill=%{y}<extra></extra>",
         "legendgroup": "Brunei",
         "line": {
          "color": "#FFA15A",
          "dash": "solid"
         },
         "marker": {
          "symbol": "circle"
         },
         "mode": "lines",
         "name": "Brunei",
         "showlegend": true,
         "type": "scattergl",
         "x": [
          1972,
          1992
         ],
         "xaxis": "x",
         "y": [
          0,
          0
         ],
         "yaxis": "y"
        },
        {
         "hovertemplate": "country_txt=Bulgaria<br>iyear=%{x}<br>nkill=%{y}<extra></extra>",
         "legendgroup": "Bulgaria",
         "line": {
          "color": "#19d3f3",
          "dash": "solid"
         },
         "marker": {
          "symbol": "circle"
         },
         "mode": "lines",
         "name": "Bulgaria",
         "showlegend": true,
         "type": "scattergl",
         "x": [
          1982,
          1984,
          1990,
          1991,
          1992,
          1994,
          1995,
          1996,
          1997,
          1998,
          1999,
          2000,
          2001,
          2002,
          2008,
          2011,
          2012,
          2013,
          2014,
          2015,
          2016
         ],
         "xaxis": "x",
         "y": [
          2,
          2,
          2,
          2,
          2,
          3,
          6,
          15,
          15,
          15,
          15,
          19,
          19,
          20,
          20,
          20,
          28,
          28,
          28,
          28,
          28
         ],
         "yaxis": "y"
        },
        {
         "hovertemplate": "country_txt=Burkina Faso<br>iyear=%{x}<br>nkill=%{y}<extra></extra>",
         "legendgroup": "Burkina Faso",
         "line": {
          "color": "#FF6692",
          "dash": "solid"
         },
         "marker": {
          "symbol": "circle"
         },
         "mode": "lines",
         "name": "Burkina Faso",
         "showlegend": true,
         "type": "scattergl",
         "x": [
          1991,
          2013,
          2015,
          2016,
          2017
         ],
         "xaxis": "x",
         "y": [
          1,
          2,
          18,
          80,
          133
         ],
         "yaxis": "y"
        },
        {
         "hovertemplate": "country_txt=Burundi<br>iyear=%{x}<br>nkill=%{y}<extra></extra>",
         "legendgroup": "Burundi",
         "line": {
          "color": "#B6E880",
          "dash": "solid"
         },
         "marker": {
          "symbol": "circle"
         },
         "mode": "lines",
         "name": "Burundi",
         "showlegend": true,
         "type": "scattergl",
         "x": [
          1991,
          1992,
          1994,
          1995,
          1996,
          1997,
          1998,
          1999,
          2000,
          2001,
          2002,
          2003,
          2004,
          2005,
          2006,
          2007,
          2008,
          2010,
          2011,
          2012,
          2013,
          2014,
          2015,
          2016,
          2017
         ],
         "xaxis": "x",
         "y": [
          117,
          178,
          443,
          1026,
          2397,
          2783,
          3175,
          3283,
          3373,
          3539,
          3604,
          3720,
          3738,
          3751,
          3772,
          3775,
          3803,
          3817,
          3864,
          3870,
          3875,
          3879,
          4102,
          4176,
          4196
         ],
         "yaxis": "y"
        },
        {
         "hovertemplate": "country_txt=Cambodia<br>iyear=%{x}<br>nkill=%{y}<extra></extra>",
         "legendgroup": "Cambodia",
         "line": {
          "color": "#FF97FF",
          "dash": "solid"
         },
         "marker": {
          "symbol": "circle"
         },
         "mode": "lines",
         "name": "Cambodia",
         "showlegend": true,
         "type": "scattergl",
         "x": [
          1972,
          1978,
          1989,
          1990,
          1991,
          1992,
          1994,
          1995,
          1996,
          1997,
          1998,
          1999,
          2000,
          2001,
          2002,
          2003,
          2008,
          2013
         ],
         "xaxis": "x",
         "y": [
          1,
          2,
          13,
          13,
          29,
          93,
          318,
          339,
          383,
          483,
          518,
          519,
          531,
          535,
          539,
          540,
          541,
          541
         ],
         "yaxis": "y"
        },
        {
         "hovertemplate": "country_txt=Cameroon<br>iyear=%{x}<br>nkill=%{y}<extra></extra>",
         "legendgroup": "Cameroon",
         "line": {
          "color": "#FECB52",
          "dash": "solid"
         },
         "marker": {
          "symbol": "circle"
         },
         "mode": "lines",
         "name": "Cameroon",
         "showlegend": true,
         "type": "scattergl",
         "x": [
          1991,
          1992,
          1994,
          1995,
          1998,
          2007,
          2008,
          2009,
          2010,
          2011,
          2013,
          2014,
          2015,
          2016,
          2017
         ],
         "xaxis": "x",
         "y": [
          36,
          42,
          75,
          80,
          80,
          111,
          114,
          114,
          119,
          123,
          130,
          919,
          1850,
          2119,
          2347
         ],
         "yaxis": "y"
        },
        {
         "hovertemplate": "country_txt=Canada<br>iyear=%{x}<br>nkill=%{y}<extra></extra>",
         "legendgroup": "Canada",
         "line": {
          "color": "#636efa",
          "dash": "solid"
         },
         "marker": {
          "symbol": "circle"
         },
         "mode": "lines",
         "name": "Canada",
         "showlegend": true,
         "type": "scattergl",
         "x": [
          1970,
          1972,
          1974,
          1980,
          1982,
          1983,
          1985,
          1986,
          1989,
          1992,
          1994,
          1995,
          1996,
          1997,
          1998,
          1999,
          2000,
          2004,
          2006,
          2008,
          2009,
          2010,
          2012,
          2013,
          2014,
          2015,
          2016,
          2017
         ],
         "xaxis": "x",
         "y": [
          1,
          2,
          2,
          2,
          3,
          3,
          334,
          334,
          349,
          349,
          349,
          350,
          350,
          350,
          351,
          351,
          351,
          351,
          351,
          351,
          351,
          351,
          351,
          351,
          358,
          358,
          359,
          365
         ],
         "yaxis": "y"
        },
        {
         "hovertemplate": "country_txt=Central African Republic<br>iyear=%{x}<br>nkill=%{y}<extra></extra>",
         "legendgroup": "Central African Republic",
         "line": {
          "color": "#EF553B",
          "dash": "solid"
         },
         "marker": {
          "symbol": "circle"
         },
         "mode": "lines",
         "name": "Central African Republic",
         "showlegend": true,
         "type": "scattergl",
         "x": [
          1981,
          1986,
          1991,
          1992,
          1994,
          1996,
          2000,
          2001,
          2006,
          2007,
          2008,
          2009,
          2010,
          2011,
          2012,
          2013,
          2014,
          2015,
          2016,
          2017
         ],
         "xaxis": "x",
         "y": [
          3,
          3,
          6,
          7,
          9,
          11,
          12,
          19,
          23,
          24,
          25,
          63,
          109,
          144,
          158,
          278,
          1029,
          1200,
          1389,
          1990
         ],
         "yaxis": "y"
        },
        {
         "hovertemplate": "country_txt=Chad<br>iyear=%{x}<br>nkill=%{y}<extra></extra>",
         "legendgroup": "Chad",
         "line": {
          "color": "#00cc96",
          "dash": "solid"
         },
         "marker": {
          "symbol": "circle"
         },
         "mode": "lines",
         "name": "Chad",
         "showlegend": true,
         "type": "scattergl",
         "x": [
          1974,
          1984,
          1985,
          1986,
          1991,
          1992,
          1994,
          1995,
          1996,
          1997,
          1998,
          1999,
          2002,
          2006,
          2007,
          2008,
          2009,
          2010,
          2014,
          2015,
          2016,
          2017
         ],
         "xaxis": "x",
         "y": [
          0,
          0,
          0,
          0,
          40,
          210,
          211,
          211,
          212,
          214,
          214,
          291,
          312,
          415,
          551,
          723,
          723,
          723,
          729,
          1035,
          1057,
          1119
         ],
         "yaxis": "y"
        },
        {
         "hovertemplate": "country_txt=Chile<br>iyear=%{x}<br>nkill=%{y}<extra></extra>",
         "legendgroup": "Chile",
         "line": {
          "color": "#ab63fa",
          "dash": "solid"
         },
         "marker": {
          "symbol": "circle"
         },
         "mode": "lines",
         "name": "Chile",
         "showlegend": true,
         "type": "scattergl",
         "x": [
          1973,
          1976,
          1977,
          1978,
          1979,
          1980,
          1981,
          1982,
          1983,
          1984,
          1985,
          1986,
          1987,
          1988,
          1989,
          1990,
          1991,
          1992,
          1994,
          1995,
          1996,
          1997,
          1998,
          1999,
          2000,
          2001,
          2002,
          2003,
          2006,
          2007,
          2008,
          2009,
          2010,
          2011,
          2012,
          2013,
          2014,
          2015,
          2016,
          2017
         ],
         "xaxis": "x",
         "y": [
          0,
          0,
          0,
          0,
          6,
          12,
          31,
          33,
          48,
          85,
          115,
          137,
          146,
          165,
          184,
          192,
          208,
          220,
          220,
          221,
          223,
          223,
          223,
          223,
          223,
          223,
          223,
          223,
          223,
          223,
          223,
          223,
          223,
          223,
          223,
          225,
          226,
          226,
          228,
          228
         ],
         "yaxis": "y"
        },
        {
         "hovertemplate": "country_txt=China<br>iyear=%{x}<br>nkill=%{y}<extra></extra>",
         "legendgroup": "China",
         "line": {
          "color": "#FFA15A",
          "dash": "solid"
         },
         "marker": {
          "symbol": "circle"
         },
         "mode": "lines",
         "name": "China",
         "showlegend": true,
         "type": "scattergl",
         "x": [
          1989,
          1990,
          1991,
          1992,
          1994,
          1995,
          1996,
          1997,
          1998,
          1999,
          2000,
          2001,
          2002,
          2003,
          2004,
          2005,
          2008,
          2009,
          2010,
          2011,
          2012,
          2013,
          2014,
          2015,
          2016,
          2017
         ],
         "xaxis": "x",
         "y": [
          20,
          22,
          22,
          31,
          49,
          55,
          78,
          115,
          165,
          170,
          171,
          178,
          179,
          180,
          184,
          196,
          235,
          421,
          428,
          447,
          474,
          534,
          856,
          979,
          992,
          1008
         ],
         "yaxis": "y"
        },
        {
         "hovertemplate": "country_txt=Colombia<br>iyear=%{x}<br>nkill=%{y}<extra></extra>",
         "legendgroup": "Colombia",
         "line": {
          "color": "#19d3f3",
          "dash": "solid"
         },
         "marker": {
          "symbol": "circle"
         },
         "mode": "lines",
         "name": "Colombia",
         "showlegend": true,
         "type": "scattergl",
         "x": [
          1970,
          1972,
          1973,
          1975,
          1976,
          1977,
          1978,
          1979,
          1980,
          1981,
          1982,
          1983,
          1984,
          1985,
          1986,
          1987,
          1988,
          1989,
          1990,
          1991,
          1992,
          1994,
          1995,
          1996,
          1997,
          1998,
          1999,
          2000,
          2001,
          2002,
          2003,
          2004,
          2005,
          2006,
          2007,
          2008,
          2009,
          2010,
          2011,
          2012,
          2013,
          2014,
          2015,
          2016,
          2017
         ],
         "xaxis": "x",
         "y": [
          0,
          1,
          1,
          8,
          18,
          54,
          124,
          280,
          439,
          804,
          1168,
          1597,
          2075,
          3010,
          3781,
          4436,
          5532,
          6277,
          6970,
          7712,
          8343,
          8561,
          9082,
          9693,
          10923,
          11515,
          11773,
          12150,
          12701,
          13047,
          13227,
          13310,
          13455,
          13534,
          13598,
          13683,
          13790,
          13846,
          13889,
          14057,
          14194,
          14337,
          14441,
          14493,
          14577
         ],
         "yaxis": "y"
        },
        {
         "hovertemplate": "country_txt=Comoros<br>iyear=%{x}<br>nkill=%{y}<extra></extra>",
         "legendgroup": "Comoros",
         "line": {
          "color": "#FF6692",
          "dash": "solid"
         },
         "marker": {
          "symbol": "circle"
         },
         "mode": "lines",
         "name": "Comoros",
         "showlegend": true,
         "type": "scattergl",
         "x": [
          1992,
          1994,
          1997
         ],
         "xaxis": "x",
         "y": [
          1,
          1,
          1
         ],
         "yaxis": "y"
        },
        {
         "hovertemplate": "country_txt=Costa Rica<br>iyear=%{x}<br>nkill=%{y}<extra></extra>",
         "legendgroup": "Costa Rica",
         "line": {
          "color": "#B6E880",
          "dash": "solid"
         },
         "marker": {
          "symbol": "circle"
         },
         "mode": "lines",
         "name": "Costa Rica",
         "showlegend": true,
         "type": "scattergl",
         "x": [
          1971,
          1976,
          1977,
          1978,
          1979,
          1980,
          1981,
          1982,
          1983,
          1984,
          1985,
          1986,
          1987,
          1988,
          1989,
          1990,
          1991,
          1992,
          1994,
          1996,
          1997,
          2001
         ],
         "xaxis": "x",
         "y": [
          0,
          0,
          0,
          0,
          3,
          3,
          7,
          11,
          11,
          11,
          11,
          11,
          11,
          11,
          12,
          12,
          12,
          12,
          13,
          14,
          16,
          17
         ],
         "yaxis": "y"
        },
        {
         "hovertemplate": "country_txt=Croatia<br>iyear=%{x}<br>nkill=%{y}<extra></extra>",
         "legendgroup": "Croatia",
         "line": {
          "color": "#FF97FF",
          "dash": "solid"
         },
         "marker": {
          "symbol": "circle"
         },
         "mode": "lines",
         "name": "Croatia",
         "showlegend": true,
         "type": "scattergl",
         "x": [
          1991,
          1992,
          1994,
          1995,
          1996,
          1997,
          2000,
          2001,
          2005,
          2008,
          2009,
          2013
         ],
         "xaxis": "x",
         "y": [
          237,
          239,
          242,
          243,
          243,
          245,
          248,
          248,
          248,
          248,
          248,
          248
         ],
         "yaxis": "y"
        },
        {
         "hovertemplate": "country_txt=Cuba<br>iyear=%{x}<br>nkill=%{y}<extra></extra>",
         "legendgroup": "Cuba",
         "line": {
          "color": "#FECB52",
          "dash": "solid"
         },
         "marker": {
          "symbol": "circle"
         },
         "mode": "lines",
         "name": "Cuba",
         "showlegend": true,
         "type": "scattergl",
         "x": [
          1991,
          1992,
          1994,
          1996,
          1997,
          2007
         ],
         "xaxis": "x",
         "y": [
          0,
          3,
          6,
          6,
          7,
          8
         ],
         "yaxis": "y"
        },
        {
         "hovertemplate": "country_txt=Cyprus<br>iyear=%{x}<br>nkill=%{y}<extra></extra>",
         "legendgroup": "Cyprus",
         "line": {
          "color": "#636efa",
          "dash": "solid"
         },
         "marker": {
          "symbol": "circle"
         },
         "mode": "lines",
         "name": "Cyprus",
         "showlegend": true,
         "type": "scattergl",
         "x": [
          1973,
          1975,
          1977,
          1978,
          1979,
          1980,
          1981,
          1982,
          1983,
          1984,
          1985,
          1986,
          1987,
          1988,
          1989,
          1990,
          1991,
          1992,
          1994,
          1995,
          1996,
          1998,
          1999,
          2000,
          2001,
          2004,
          2007,
          2012,
          2013,
          2014,
          2015,
          2016
         ],
         "xaxis": "x",
         "y": [
          1,
          1,
          1,
          17,
          19,
          22,
          22,
          22,
          22,
          28,
          31,
          32,
          33,
          39,
          40,
          40,
          40,
          40,
          42,
          42,
          45,
          45,
          45,
          45,
          45,
          45,
          45,
          45,
          45,
          45,
          45,
          45
         ],
         "yaxis": "y"
        },
        {
         "hovertemplate": "country_txt=Czech Republic<br>iyear=%{x}<br>nkill=%{y}<extra></extra>",
         "legendgroup": "Czech Republic",
         "line": {
          "color": "#EF553B",
          "dash": "solid"
         },
         "marker": {
          "symbol": "circle"
         },
         "mode": "lines",
         "name": "Czech Republic",
         "showlegend": true,
         "type": "scattergl",
         "x": [
          1994,
          1995,
          1996,
          1997,
          2001,
          2003,
          2008,
          2009,
          2011,
          2013,
          2014,
          2015,
          2016,
          2017
         ],
         "xaxis": "x",
         "y": [
          0,
          1,
          3,
          4,
          4,
          4,
          4,
          4,
          4,
          5,
          6,
          6,
          6,
          6
         ],
         "yaxis": "y"
        },
        {
         "hovertemplate": "country_txt=Czechoslovakia<br>iyear=%{x}<br>nkill=%{y}<extra></extra>",
         "legendgroup": "Czechoslovakia",
         "line": {
          "color": "#00cc96",
          "dash": "solid"
         },
         "marker": {
          "symbol": "circle"
         },
         "mode": "lines",
         "name": "Czechoslovakia",
         "showlegend": true,
         "type": "scattergl",
         "x": [
          1972,
          1989,
          1990,
          1991,
          1992
         ],
         "xaxis": "x",
         "y": [
          26,
          26,
          26,
          27,
          27
         ],
         "yaxis": "y"
        },
        {
         "hovertemplate": "country_txt=Democratic Republic of the Congo<br>iyear=%{x}<br>nkill=%{y}<extra></extra>",
         "legendgroup": "Democratic Republic of the Congo",
         "line": {
          "color": "#ab63fa",
          "dash": "solid"
         },
         "marker": {
          "symbol": "circle"
         },
         "mode": "lines",
         "name": "Democratic Republic of the Congo",
         "showlegend": true,
         "type": "scattergl",
         "x": [
          1997,
          1998,
          1999,
          2000,
          2001,
          2002,
          2003,
          2004,
          2005,
          2006,
          2007,
          2008,
          2009,
          2010,
          2011,
          2012,
          2013,
          2014,
          2015,
          2016,
          2017
         ],
         "xaxis": "x",
         "y": [
          8,
          75,
          82,
          122,
          137,
          153,
          242,
          264,
          295,
          318,
          390,
          709,
          1533,
          1632,
          1682,
          1970,
          2120,
          2486,
          2857,
          3389,
          3985
         ],
         "yaxis": "y"
        },
        {
         "hovertemplate": "country_txt=Denmark<br>iyear=%{x}<br>nkill=%{y}<extra></extra>",
         "legendgroup": "Denmark",
         "line": {
          "color": "#FFA15A",
          "dash": "solid"
         },
         "marker": {
          "symbol": "circle"
         },
         "mode": "lines",
         "name": "Denmark",
         "showlegend": true,
         "type": "scattergl",
         "x": [
          1978,
          1979,
          1980,
          1981,
          1985,
          1986,
          1987,
          1988,
          1989,
          1991,
          1992,
          1995,
          1999,
          2008,
          2010,
          2013,
          2015,
          2016
         ],
         "xaxis": "x",
         "y": [
          0,
          0,
          0,
          0,
          1,
          1,
          1,
          1,
          1,
          1,
          2,
          2,
          2,
          2,
          2,
          2,
          4,
          5
         ],
         "yaxis": "y"
        },
        {
         "hovertemplate": "country_txt=Djibouti<br>iyear=%{x}<br>nkill=%{y}<extra></extra>",
         "legendgroup": "Djibouti",
         "line": {
          "color": "#19d3f3",
          "dash": "solid"
         },
         "marker": {
          "symbol": "circle"
         },
         "mode": "lines",
         "name": "Djibouti",
         "showlegend": true,
         "type": "scattergl",
         "x": [
          1977,
          1979,
          1987,
          1988,
          1990,
          1991,
          1992,
          1994,
          1995,
          1997,
          2004,
          2014,
          2015,
          2017
         ],
         "xaxis": "x",
         "y": [
          1,
          5,
          15,
          15,
          16,
          24,
          252,
          258,
          258,
          269,
          269,
          274,
          274,
          274
         ],
         "yaxis": "y"
        },
        {
         "hovertemplate": "country_txt=Dominica<br>iyear=%{x}<br>nkill=%{y}<extra></extra>",
         "legendgroup": "Dominica",
         "line": {
          "color": "#FF6692",
          "dash": "solid"
         },
         "marker": {
          "symbol": "circle"
         },
         "mode": "lines",
         "name": "Dominica",
         "showlegend": true,
         "type": "scattergl",
         "x": [
          1981,
          1997
         ],
         "xaxis": "x",
         "y": [
          3,
          3
         ],
         "yaxis": "y"
        },
        {
         "hovertemplate": "country_txt=Dominican Republic<br>iyear=%{x}<br>nkill=%{y}<extra></extra>",
         "legendgroup": "Dominican Republic",
         "line": {
          "color": "#B6E880",
          "dash": "solid"
         },
         "marker": {
          "symbol": "circle"
         },
         "mode": "lines",
         "name": "Dominican Republic",
         "showlegend": true,
         "type": "scattergl",
         "x": [
          1970,
          1971,
          1973,
          1974,
          1978,
          1979,
          1980,
          1982,
          1987,
          1988,
          1989,
          1990,
          1991,
          1992,
          1994,
          1996,
          1997,
          2013,
          2014,
          2017
         ],
         "xaxis": "x",
         "y": [
          1,
          1,
          1,
          1,
          4,
          5,
          6,
          11,
          18,
          18,
          19,
          22,
          23,
          24,
          26,
          29,
          32,
          32,
          32,
          34
         ],
         "yaxis": "y"
        },
        {
         "hovertemplate": "country_txt=East Germany (GDR)<br>iyear=%{x}<br>nkill=%{y}<extra></extra>",
         "legendgroup": "East Germany (GDR)",
         "line": {
          "color": "#FF97FF",
          "dash": "solid"
         },
         "marker": {
          "symbol": "circle"
         },
         "mode": "lines",
         "name": "East Germany (GDR)",
         "showlegend": true,
         "type": "scattergl",
         "x": [
          1970,
          1971,
          1974,
          1977,
          1978,
          1982,
          1983,
          1984,
          1985,
          1986,
          1987,
          1988,
          1989,
          1990
         ],
         "xaxis": "x",
         "y": [
          0,
          0,
          1,
          1,
          1,
          1,
          1,
          1,
          1,
          2,
          2,
          2,
          2,
          2
         ],
         "yaxis": "y"
        },
        {
         "hovertemplate": "country_txt=East Timor<br>iyear=%{x}<br>nkill=%{y}<extra></extra>",
         "legendgroup": "East Timor",
         "line": {
          "color": "#FECB52",
          "dash": "solid"
         },
         "marker": {
          "symbol": "circle"
         },
         "mode": "lines",
         "name": "East Timor",
         "showlegend": true,
         "type": "scattergl",
         "x": [
          2000,
          2003,
          2005,
          2007,
          2008
         ],
         "xaxis": "x",
         "y": [
          1,
          6,
          6,
          7,
          9
         ],
         "yaxis": "y"
        },
        {
         "hovertemplate": "country_txt=Ecuador<br>iyear=%{x}<br>nkill=%{y}<extra></extra>",
         "legendgroup": "Ecuador",
         "line": {
          "color": "#636efa",
          "dash": "solid"
         },
         "marker": {
          "symbol": "circle"
         },
         "mode": "lines",
         "name": "Ecuador",
         "showlegend": true,
         "type": "scattergl",
         "x": [
          1973,
          1974,
          1976,
          1977,
          1978,
          1979,
          1980,
          1981,
          1982,
          1983,
          1984,
          1985,
          1986,
          1987,
          1988,
          1989,
          1990,
          1991,
          1992,
          1994,
          1995,
          1996,
          1997,
          1998,
          1999,
          2000,
          2001,
          2002,
          2003,
          2004,
          2008,
          2009,
          2011,
          2012,
          2013,
          2015,
          2016,
          2017
         ],
         "xaxis": "x",
         "y": [
          0,
          0,
          1,
          2,
          4,
          4,
          6,
          8,
          9,
          9,
          10,
          14,
          27,
          27,
          31,
          40,
          43,
          43,
          45,
          45,
          49,
          51,
          52,
          52,
          52,
          52,
          52,
          52,
          52,
          52,
          52,
          52,
          52,
          52,
          53,
          53,
          54,
          54
         ],
         "yaxis": "y"
        },
        {
         "hovertemplate": "country_txt=Egypt<br>iyear=%{x}<br>nkill=%{y}<extra></extra>",
         "legendgroup": "Egypt",
         "line": {
          "color": "#EF553B",
          "dash": "solid"
         },
         "marker": {
          "symbol": "circle"
         },
         "mode": "lines",
         "name": "Egypt",
         "showlegend": true,
         "type": "scattergl",
         "x": [
          1970,
          1971,
          1972,
          1977,
          1978,
          1979,
          1980,
          1981,
          1982,
          1985,
          1986,
          1987,
          1988,
          1989,
          1990,
          1991,
          1992,
          1994,
          1995,
          1996,
          1997,
          1998,
          1999,
          2004,
          2005,
          2006,
          2008,
          2009,
          2010,
          2011,
          2012,
          2013,
          2014,
          2015,
          2016,
          2017
         ],
         "xaxis": "x",
         "y": [
          0,
          1,
          1,
          2,
          4,
          5,
          6,
          73,
          73,
          75,
          87,
          88,
          89,
          90,
          111,
          119,
          168,
          341,
          475,
          572,
          737,
          746,
          747,
          784,
          876,
          895,
          895,
          896,
          896,
          924,
          968,
          1211,
          1554,
          2383,
          2992,
          3869
         ],
         "yaxis": "y"
        },
        {
         "hovertemplate": "country_txt=El Salvador<br>iyear=%{x}<br>nkill=%{y}<extra></extra>",
         "legendgroup": "El Salvador",
         "line": {
          "color": "#00cc96",
          "dash": "solid"
         },
         "marker": {
          "symbol": "circle"
         },
         "mode": "lines",
         "name": "El Salvador",
         "showlegend": true,
         "type": "scattergl",
         "x": [
          1972,
          1973,
          1974,
          1975,
          1976,
          1977,
          1978,
          1979,
          1980,
          1981,
          1982,
          1983,
          1984,
          1985,
          1986,
          1987,
          1988,
          1989,
          1990,
          1991,
          1992,
          1994,
          1995,
          1996,
          1997
         ],
         "xaxis": "x",
         "y": [
          0,
          0,
          0,
          2,
          5,
          9,
          41,
          285,
          2666,
          4244,
          5791,
          7457,
          8772,
          9785,
          10078,
          10499,
          10860,
          11210,
          11504,
          11930,
          11953,
          11975,
          11978,
          12004,
          12005
         ],
         "yaxis": "y"
        },
        {
         "hovertemplate": "country_txt=Equatorial Guinea<br>iyear=%{x}<br>nkill=%{y}<extra></extra>",
         "legendgroup": "Equatorial Guinea",
         "line": {
          "color": "#ab63fa",
          "dash": "solid"
         },
         "marker": {
          "symbol": "circle"
         },
         "mode": "lines",
         "name": "Equatorial Guinea",
         "showlegend": true,
         "type": "scattergl",
         "x": [
          1992,
          2009
         ],
         "xaxis": "x",
         "y": [
          1,
          2
         ],
         "yaxis": "y"
        },
        {
         "hovertemplate": "country_txt=Eritrea<br>iyear=%{x}<br>nkill=%{y}<extra></extra>",
         "legendgroup": "Eritrea",
         "line": {
          "color": "#FFA15A",
          "dash": "solid"
         },
         "marker": {
          "symbol": "circle"
         },
         "mode": "lines",
         "name": "Eritrea",
         "showlegend": true,
         "type": "scattergl",
         "x": [
          1995,
          1996,
          2007,
          2008,
          2009,
          2010
         ],
         "xaxis": "x",
         "y": [
          0,
          6,
          6,
          10,
          12,
          29
         ],
         "yaxis": "y"
        },
        {
         "hovertemplate": "country_txt=Estonia<br>iyear=%{x}<br>nkill=%{y}<extra></extra>",
         "legendgroup": "Estonia",
         "line": {
          "color": "#19d3f3",
          "dash": "solid"
         },
         "marker": {
          "symbol": "circle"
         },
         "mode": "lines",
         "name": "Estonia",
         "showlegend": true,
         "type": "scattergl",
         "x": [
          1992,
          1994,
          1995,
          1996,
          1999,
          2001,
          2011,
          2015
         ],
         "xaxis": "x",
         "y": [
          0,
          0,
          0,
          1,
          1,
          2,
          3,
          3
         ],
         "yaxis": "y"
        },
        {
         "hovertemplate": "country_txt=Ethiopia<br>iyear=%{x}<br>nkill=%{y}<extra></extra>",
         "legendgroup": "Ethiopia",
         "line": {
          "color": "#FF6692",
          "dash": "solid"
         },
         "marker": {
          "symbol": "circle"
         },
         "mode": "lines",
         "name": "Ethiopia",
         "showlegend": true,
         "type": "scattergl",
         "x": [
          1970,
          1971,
          1973,
          1974,
          1975,
          1976,
          1977,
          1978,
          1979,
          1983,
          1984,
          1985,
          1986,
          1987,
          1988,
          1989,
          1990,
          1991,
          1992,
          1994,
          1995,
          1996,
          1997,
          1999,
          2000,
          2002,
          2003,
          2004,
          2005,
          2006,
          2007,
          2008,
          2009,
          2010,
          2011,
          2012,
          2013,
          2014,
          2015,
          2016,
          2017
         ],
         "xaxis": "x",
         "y": [
          1,
          1,
          1,
          4,
          4,
          4,
          9,
          34,
          135,
          135,
          335,
          335,
          375,
          375,
          375,
          376,
          393,
          554,
          884,
          890,
          895,
          1028,
          1036,
          1038,
          1041,
          1042,
          1044,
          1045,
          1054,
          1066,
          1270,
          1297,
          1310,
          1318,
          1319,
          1344,
          1361,
          1370,
          1418,
          1697,
          1764
         ],
         "yaxis": "y"
        },
        {
         "hovertemplate": "country_txt=Falkland Islands<br>iyear=%{x}<br>nkill=%{y}<extra></extra>",
         "legendgroup": "Falkland Islands",
         "line": {
          "color": "#B6E880",
          "dash": "solid"
         },
         "marker": {
          "symbol": "circle"
         },
         "mode": "lines",
         "name": "Falkland Islands",
         "showlegend": true,
         "type": "scattergl",
         "x": [
          1983
         ],
         "xaxis": "x",
         "y": [
          0
         ],
         "yaxis": "y"
        },
        {
         "hovertemplate": "country_txt=Fiji<br>iyear=%{x}<br>nkill=%{y}<extra></extra>",
         "legendgroup": "Fiji",
         "line": {
          "color": "#FF97FF",
          "dash": "solid"
         },
         "marker": {
          "symbol": "circle"
         },
         "mode": "lines",
         "name": "Fiji",
         "showlegend": true,
         "type": "scattergl",
         "x": [
          1987,
          1989,
          1991,
          1992,
          1999,
          2000,
          2001
         ],
         "xaxis": "x",
         "y": [
          0,
          0,
          0,
          1,
          1,
          8,
          8
         ],
         "yaxis": "y"
        },
        {
         "hovertemplate": "country_txt=Finland<br>iyear=%{x}<br>nkill=%{y}<extra></extra>",
         "legendgroup": "Finland",
         "line": {
          "color": "#FECB52",
          "dash": "solid"
         },
         "marker": {
          "symbol": "circle"
         },
         "mode": "lines",
         "name": "Finland",
         "showlegend": true,
         "type": "scattergl",
         "x": [
          1986,
          1992,
          1994,
          1995,
          2007,
          2008,
          2015,
          2016,
          2017
         ],
         "xaxis": "x",
         "y": [
          0,
          0,
          0,
          0,
          9,
          9,
          9,
          9,
          11
         ],
         "yaxis": "y"
        },
        {
         "hovertemplate": "country_txt=France<br>iyear=%{x}<br>nkill=%{y}<extra></extra>",
         "legendgroup": "France",
         "line": {
          "color": "#636efa",
          "dash": "solid"
         },
         "marker": {
          "symbol": "circle"
         },
         "mode": "lines",
         "name": "France",
         "showlegend": true,
         "type": "scattergl",
         "x": [
          1972,
          1973,
          1974,
          1975,
          1976,
          1977,
          1978,
          1979,
          1980,
          1981,
          1982,
          1983,
          1984,
          1985,
          1986,
          1987,
          1988,
          1989,
          1990,
          1991,
          1992,
          1994,
          1995,
          1996,
          1997,
          1998,
          1999,
          2000,
          2001,
          2002,
          2003,
          2004,
          2005,
          2006,
          2007,
          2008,
          2009,
          2010,
          2011,
          2012,
          2013,
          2014,
          2015,
          2016,
          2017
         ],
         "xaxis": "x",
         "y": [
          1,
          6,
          9,
          12,
          19,
          22,
          43,
          54,
          73,
          81,
          98,
          118,
          133,
          149,
          174,
          179,
          185,
          188,
          191,
          197,
          206,
          213,
          232,
          248,
          248,
          249,
          249,
          253,
          253,
          253,
          253,
          253,
          253,
          254,
          257,
          257,
          257,
          257,
          257,
          265,
          265,
          266,
          428,
          523,
          530
         ],
         "yaxis": "y"
        },
        {
         "hovertemplate": "country_txt=French Guiana<br>iyear=%{x}<br>nkill=%{y}<extra></extra>",
         "legendgroup": "French Guiana",
         "line": {
          "color": "#EF553B",
          "dash": "solid"
         },
         "marker": {
          "symbol": "circle"
         },
         "mode": "lines",
         "name": "French Guiana",
         "showlegend": true,
         "type": "scattergl",
         "x": [
          1983,
          1996,
          1997
         ],
         "xaxis": "x",
         "y": [
          1,
          1,
          1
         ],
         "yaxis": "y"
        },
        {
         "hovertemplate": "country_txt=French Polynesia<br>iyear=%{x}<br>nkill=%{y}<extra></extra>",
         "legendgroup": "French Polynesia",
         "line": {
          "color": "#00cc96",
          "dash": "solid"
         },
         "marker": {
          "symbol": "circle"
         },
         "mode": "lines",
         "name": "French Polynesia",
         "showlegend": true,
         "type": "scattergl",
         "x": [
          1995
         ],
         "xaxis": "x",
         "y": [
          0
         ],
         "yaxis": "y"
        },
        {
         "hovertemplate": "country_txt=Gabon<br>iyear=%{x}<br>nkill=%{y}<extra></extra>",
         "legendgroup": "Gabon",
         "line": {
          "color": "#ab63fa",
          "dash": "solid"
         },
         "marker": {
          "symbol": "circle"
         },
         "mode": "lines",
         "name": "Gabon",
         "showlegend": true,
         "type": "scattergl",
         "x": [
          1979,
          1994,
          1996,
          1997,
          2017
         ],
         "xaxis": "x",
         "y": [
          2,
          2,
          2,
          6,
          6
         ],
         "yaxis": "y"
        },
        {
         "hovertemplate": "country_txt=Gambia<br>iyear=%{x}<br>nkill=%{y}<extra></extra>",
         "legendgroup": "Gambia",
         "line": {
          "color": "#FFA15A",
          "dash": "solid"
         },
         "marker": {
          "symbol": "circle"
         },
         "mode": "lines",
         "name": "Gambia",
         "showlegend": true,
         "type": "scattergl",
         "x": [
          1994,
          1995,
          2000
         ],
         "xaxis": "x",
         "y": [
          13,
          13,
          13
         ],
         "yaxis": "y"
        },
        {
         "hovertemplate": "country_txt=Georgia<br>iyear=%{x}<br>nkill=%{y}<extra></extra>",
         "legendgroup": "Georgia",
         "line": {
          "color": "#19d3f3",
          "dash": "solid"
         },
         "marker": {
          "symbol": "circle"
         },
         "mode": "lines",
         "name": "Georgia",
         "showlegend": true,
         "type": "scattergl",
         "x": [
          1991,
          1992,
          1994,
          1995,
          1996,
          1997,
          1998,
          1999,
          2000,
          2001,
          2002,
          2003,
          2004,
          2005,
          2006,
          2008,
          2009,
          2010,
          2011,
          2012,
          2013,
          2014,
          2015,
          2016,
          2017
         ],
         "xaxis": "x",
         "y": [
          2,
          111,
          140,
          154,
          156,
          191,
          223,
          228,
          231,
          237,
          238,
          238,
          238,
          246,
          251,
          264,
          269,
          273,
          274,
          275,
          277,
          277,
          277,
          278,
          278
         ],
         "yaxis": "y"
        },
        {
         "hovertemplate": "country_txt=Germany<br>iyear=%{x}<br>nkill=%{y}<extra></extra>",
         "legendgroup": "Germany",
         "line": {
          "color": "#FF6692",
          "dash": "solid"
         },
         "marker": {
          "symbol": "circle"
         },
         "mode": "lines",
         "name": "Germany",
         "showlegend": true,
         "type": "scattergl",
         "x": [
          1990,
          1991,
          1992,
          1994,
          1995,
          1996,
          1997,
          1998,
          1999,
          2000,
          2001,
          2002,
          2003,
          2004,
          2005,
          2006,
          2007,
          2008,
          2009,
          2010,
          2011,
          2012,
          2014,
          2015,
          2016,
          2017
         ],
         "xaxis": "x",
         "y": [
          0,
          10,
          27,
          29,
          39,
          40,
          40,
          40,
          43,
          44,
          47,
          47,
          47,
          48,
          50,
          52,
          53,
          53,
          53,
          53,
          55,
          55,
          55,
          56,
          83,
          84
         ],
         "yaxis": "y"
        },
        {
         "hovertemplate": "country_txt=Ghana<br>iyear=%{x}<br>nkill=%{y}<extra></extra>",
         "legendgroup": "Ghana",
         "line": {
          "color": "#B6E880",
          "dash": "solid"
         },
         "marker": {
          "symbol": "circle"
         },
         "mode": "lines",
         "name": "Ghana",
         "showlegend": true,
         "type": "scattergl",
         "x": [
          1987,
          1992,
          1994,
          1995,
          1996,
          1997,
          2014,
          2016
         ],
         "xaxis": "x",
         "y": [
          0,
          0,
          13,
          15,
          18,
          19,
          19,
          19
         ],
         "yaxis": "y"
        },
        {
         "hovertemplate": "country_txt=Greece<br>iyear=%{x}<br>nkill=%{y}<extra></extra>",
         "legendgroup": "Greece",
         "line": {
          "color": "#FF97FF",
          "dash": "solid"
         },
         "marker": {
          "symbol": "circle"
         },
         "mode": "lines",
         "name": "Greece",
         "showlegend": true,
         "type": "scattergl",
         "x": [
          1970,
          1971,
          1972,
          1973,
          1974,
          1975,
          1976,
          1977,
          1978,
          1979,
          1980,
          1981,
          1982,
          1983,
          1984,
          1985,
          1986,
          1987,
          1988,
          1989,
          1990,
          1991,
          1992,
          1994,
          1995,
          1996,
          1997,
          1998,
          1999,
          2000,
          2001,
          2002,
          2003,
          2004,
          2005,
          2006,
          2007,
          2008,
          2009,
          2010,
          2011,
          2012,
          2013,
          2014,
          2015,
          2016,
          2017
         ],
         "xaxis": "x",
         "y": [
          2,
          2,
          2,
          7,
          99,
          100,
          114,
          114,
          114,
          115,
          120,
          123,
          125,
          129,
          134,
          198,
          204,
          206,
          220,
          224,
          226,
          241,
          243,
          246,
          246,
          246,
          247,
          247,
          248,
          249,
          249,
          249,
          249,
          249,
          249,
          249,
          249,
          249,
          250,
          253,
          253,
          253,
          256,
          256,
          257,
          323,
          323
         ],
         "yaxis": "y"
        },
        {
         "hovertemplate": "country_txt=Grenada<br>iyear=%{x}<br>nkill=%{y}<extra></extra>",
         "legendgroup": "Grenada",
         "line": {
          "color": "#FECB52",
          "dash": "solid"
         },
         "marker": {
          "symbol": "circle"
         },
         "mode": "lines",
         "name": "Grenada",
         "showlegend": true,
         "type": "scattergl",
         "x": [
          1980,
          1983
         ],
         "xaxis": "x",
         "y": [
          9,
          9
         ],
         "yaxis": "y"
        },
        {
         "hovertemplate": "country_txt=Guadeloupe<br>iyear=%{x}<br>nkill=%{y}<extra></extra>",
         "legendgroup": "Guadeloupe",
         "line": {
          "color": "#636efa",
          "dash": "solid"
         },
         "marker": {
          "symbol": "circle"
         },
         "mode": "lines",
         "name": "Guadeloupe",
         "showlegend": true,
         "type": "scattergl",
         "x": [
          1980,
          1981,
          1983,
          1984,
          1985,
          1986,
          1988,
          1991
         ],
         "xaxis": "x",
         "y": [
          1,
          1,
          1,
          5,
          7,
          7,
          7,
          8
         ],
         "yaxis": "y"
        },
        {
         "hovertemplate": "country_txt=Guatemala<br>iyear=%{x}<br>nkill=%{y}<extra></extra>",
         "legendgroup": "Guatemala",
         "line": {
          "color": "#EF553B",
          "dash": "solid"
         },
         "marker": {
          "symbol": "circle"
         },
         "mode": "lines",
         "name": "Guatemala",
         "showlegend": true,
         "type": "scattergl",
         "x": [
          1970,
          1971,
          1974,
          1975,
          1976,
          1977,
          1978,
          1979,
          1980,
          1981,
          1982,
          1983,
          1984,
          1985,
          1986,
          1987,
          1988,
          1989,
          1990,
          1991,
          1992,
          1994,
          1995,
          1996,
          1997,
          1999,
          2000,
          2001,
          2003,
          2004,
          2006,
          2012,
          2013
         ],
         "xaxis": "x",
         "y": [
          2,
          2,
          2,
          25,
          32,
          38,
          73,
          126,
          651,
          2030,
          3591,
          4119,
          4279,
          4416,
          4470,
          4681,
          4816,
          4859,
          4925,
          4998,
          5026,
          5048,
          5088,
          5102,
          5124,
          5127,
          5129,
          5130,
          5131,
          5134,
          5139,
          5141,
          5145
         ],
         "yaxis": "y"
        },
        {
         "hovertemplate": "country_txt=Guinea<br>iyear=%{x}<br>nkill=%{y}<extra></extra>",
         "legendgroup": "Guinea",
         "line": {
          "color": "#00cc96",
          "dash": "solid"
         },
         "marker": {
          "symbol": "circle"
         },
         "mode": "lines",
         "name": "Guinea",
         "showlegend": true,
         "type": "scattergl",
         "x": [
          1980,
          1992,
          1994,
          1996,
          2000,
          2005,
          2013,
          2015,
          2016
         ],
         "xaxis": "x",
         "y": [
          1,
          1,
          3,
          5,
          208,
          208,
          208,
          209,
          210
         ],
         "yaxis": "y"
        },
        {
         "hovertemplate": "country_txt=Guinea-Bissau<br>iyear=%{x}<br>nkill=%{y}<extra></extra>",
         "legendgroup": "Guinea-Bissau",
         "line": {
          "color": "#ab63fa",
          "dash": "solid"
         },
         "marker": {
          "symbol": "circle"
         },
         "mode": "lines",
         "name": "Guinea-Bissau",
         "showlegend": true,
         "type": "scattergl",
         "x": [
          2001,
          2003,
          2005,
          2006,
          2009,
          2012
         ],
         "xaxis": "x",
         "y": [
          0,
          1,
          4,
          15,
          16,
          17
         ],
         "yaxis": "y"
        },
        {
         "hovertemplate": "country_txt=Guyana<br>iyear=%{x}<br>nkill=%{y}<extra></extra>",
         "legendgroup": "Guyana",
         "line": {
          "color": "#FFA15A",
          "dash": "solid"
         },
         "marker": {
          "symbol": "circle"
         },
         "mode": "lines",
         "name": "Guyana",
         "showlegend": true,
         "type": "scattergl",
         "x": [
          1978,
          1979,
          1980,
          1981,
          1990,
          1992,
          1997,
          1998,
          2001,
          2002,
          2003,
          2006,
          2008,
          2016
         ],
         "xaxis": "x",
         "y": [
          5,
          6,
          7,
          8,
          8,
          8,
          8,
          8,
          8,
          12,
          12,
          18,
          41,
          41
         ],
         "yaxis": "y"
        },
        {
         "hovertemplate": "country_txt=Haiti<br>iyear=%{x}<br>nkill=%{y}<extra></extra>",
         "legendgroup": "Haiti",
         "line": {
          "color": "#19d3f3",
          "dash": "solid"
         },
         "marker": {
          "symbol": "circle"
         },
         "mode": "lines",
         "name": "Haiti",
         "showlegend": true,
         "type": "scattergl",
         "x": [
          1973,
          1974,
          1983,
          1987,
          1988,
          1989,
          1990,
          1991,
          1992,
          1994,
          1995,
          1996,
          1997,
          1998,
          1999,
          2000,
          2001,
          2002,
          2003,
          2004,
          2005,
          2006,
          2007,
          2016
         ],
         "xaxis": "x",
         "y": [
          0,
          0,
          5,
          9,
          12,
          12,
          25,
          162,
          180,
          267,
          283,
          297,
          306,
          306,
          309,
          314,
          314,
          314,
          318,
          325,
          326,
          328,
          329,
          336
         ],
         "yaxis": "y"
        },
        {
         "hovertemplate": "country_txt=Honduras<br>iyear=%{x}<br>nkill=%{y}<extra></extra>",
         "legendgroup": "Honduras",
         "line": {
          "color": "#FF6692",
          "dash": "solid"
         },
         "marker": {
          "symbol": "circle"
         },
         "mode": "lines",
         "name": "Honduras",
         "showlegend": true,
         "type": "scattergl",
         "x": [
          1973,
          1979,
          1980,
          1981,
          1982,
          1983,
          1984,
          1985,
          1986,
          1987,
          1988,
          1989,
          1990,
          1991,
          1992,
          1994,
          1995,
          1996,
          1997,
          2002,
          2004,
          2009,
          2011,
          2013,
          2014,
          2016,
          2017
         ],
         "xaxis": "x",
         "y": [
          0,
          1,
          7,
          14,
          38,
          113,
          118,
          125,
          135,
          156,
          188,
          197,
          200,
          218,
          223,
          233,
          241,
          252,
          266,
          266,
          294,
          296,
          298,
          303,
          303,
          305,
          307
         ],
         "yaxis": "y"
        },
        {
         "hovertemplate": "country_txt=Hong Kong<br>iyear=%{x}<br>nkill=%{y}<extra></extra>",
         "legendgroup": "Hong Kong",
         "line": {
          "color": "#B6E880",
          "dash": "solid"
         },
         "marker": {
          "symbol": "circle"
         },
         "mode": "lines",
         "name": "Hong Kong",
         "showlegend": true,
         "type": "scattergl",
         "x": [
          1980,
          1981,
          1989,
          1990,
          1991,
          1992,
          1994,
          1995,
          1996,
          2000,
          2001,
          2005,
          2008
         ],
         "xaxis": "x",
         "y": [
          0,
          0,
          0,
          0,
          0,
          1,
          4,
          4,
          4,
          4,
          4,
          4,
          4
         ],
         "yaxis": "y"
        },
        {
         "hovertemplate": "country_txt=Hungary<br>iyear=%{x}<br>nkill=%{y}<extra></extra>",
         "legendgroup": "Hungary",
         "line": {
          "color": "#FF97FF",
          "dash": "solid"
         },
         "marker": {
          "symbol": "circle"
         },
         "mode": "lines",
         "name": "Hungary",
         "showlegend": true,
         "type": "scattergl",
         "x": [
          1989,
          1991,
          1992,
          1994,
          1996,
          1997,
          1998,
          2001,
          2008,
          2009,
          2014,
          2015,
          2016
         ],
         "xaxis": "x",
         "y": [
          0,
          0,
          0,
          0,
          0,
          3,
          3,
          4,
          4,
          6,
          6,
          6,
          6
         ],
         "yaxis": "y"
        },
        {
         "hovertemplate": "country_txt=Iceland<br>iyear=%{x}<br>nkill=%{y}<extra></extra>",
         "legendgroup": "Iceland",
         "line": {
          "color": "#FECB52",
          "dash": "solid"
         },
         "marker": {
          "symbol": "circle"
         },
         "mode": "lines",
         "name": "Iceland",
         "showlegend": true,
         "type": "scattergl",
         "x": [
          1983,
          1986,
          2012,
          2014
         ],
         "xaxis": "x",
         "y": [
          0,
          0,
          0,
          0
         ],
         "yaxis": "y"
        },
        {
         "hovertemplate": "country_txt=India<br>iyear=%{x}<br>nkill=%{y}<extra></extra>",
         "legendgroup": "India",
         "line": {
          "color": "#636efa",
          "dash": "solid"
         },
         "marker": {
          "symbol": "circle"
         },
         "mode": "lines",
         "name": "India",
         "showlegend": true,
         "type": "scattergl",
         "x": [
          1972,
          1975,
          1976,
          1977,
          1979,
          1980,
          1981,
          1982,
          1983,
          1984,
          1985,
          1986,
          1987,
          1988,
          1989,
          1990,
          1991,
          1992,
          1994,
          1995,
          1996,
          1997,
          1998,
          1999,
          2000,
          2001,
          2002,
          2003,
          2004,
          2005,
          2006,
          2007,
          2008,
          2009,
          2010,
          2011,
          2012,
          2013,
          2014,
          2015,
          2016,
          2017
         ],
         "xaxis": "x",
         "y": [
          0,
          4,
          4,
          4,
          35,
          52,
          76,
          135,
          194,
          387,
          438,
          778,
          1284,
          2250,
          3124,
          4030,
          5143,
          6295,
          6684,
          7045,
          7614,
          8467,
          8865,
          9334,
          9999,
          10659,
          11241,
          11713,
          12047,
          12513,
          13229,
          13855,
          14678,
          15452,
          16253,
          16746,
          17010,
          17477,
          17967,
          18354,
          18821,
          19286
         ],
         "yaxis": "y"
        },
        {
         "hovertemplate": "country_txt=Indonesia<br>iyear=%{x}<br>nkill=%{y}<extra></extra>",
         "legendgroup": "Indonesia",
         "line": {
          "color": "#EF553B",
          "dash": "solid"
         },
         "marker": {
          "symbol": "circle"
         },
         "mode": "lines",
         "name": "Indonesia",
         "showlegend": true,
         "type": "scattergl",
         "x": [
          1977,
          1978,
          1981,
          1984,
          1985,
          1986,
          1989,
          1990,
          1991,
          1992,
          1994,
          1995,
          1996,
          1997,
          1998,
          1999,
          2000,
          2001,
          2002,
          2003,
          2004,
          2005,
          2006,
          2007,
          2008,
          2009,
          2010,
          2011,
          2012,
          2013,
          2014,
          2015,
          2016,
          2017
         ],
         "xaxis": "x",
         "y": [
          1,
          1,
          5,
          7,
          14,
          14,
          99,
          111,
          132,
          165,
          165,
          206,
          236,
          338,
          347,
          414,
          560,
          694,
          940,
          966,
          1008,
          1074,
          1080,
          1080,
          1080,
          1095,
          1095,
          1115,
          1130,
          1153,
          1173,
          1195,
          1217,
          1237
         ],
         "yaxis": "y"
        },
        {
         "hovertemplate": "country_txt=International<br>iyear=%{x}<br>nkill=%{y}<extra></extra>",
         "legendgroup": "International",
         "line": {
          "color": "#00cc96",
          "dash": "solid"
         },
         "marker": {
          "symbol": "circle"
         },
         "mode": "lines",
         "name": "International",
         "showlegend": true,
         "type": "scattergl",
         "x": [
          2002
         ],
         "xaxis": "x",
         "y": [
          1
         ],
         "yaxis": "y"
        },
        {
         "hovertemplate": "country_txt=Iran<br>iyear=%{x}<br>nkill=%{y}<extra></extra>",
         "legendgroup": "Iran",
         "line": {
          "color": "#ab63fa",
          "dash": "solid"
         },
         "marker": {
          "symbol": "circle"
         },
         "mode": "lines",
         "name": "Iran",
         "showlegend": true,
         "type": "scattergl",
         "x": [
          1970,
          1971,
          1972,
          1973,
          1974,
          1975,
          1976,
          1977,
          1978,
          1979,
          1980,
          1981,
          1982,
          1983,
          1984,
          1985,
          1986,
          1987,
          1988,
          1989,
          1990,
          1991,
          1992,
          1994,
          1995,
          1996,
          1998,
          1999,
          2000,
          2001,
          2003,
          2005,
          2006,
          2007,
          2008,
          2009,
          2010,
          2011,
          2012,
          2013,
          2014,
          2015,
          2016,
          2017
         ],
         "xaxis": "x",
         "y": [
          0,
          1,
          2,
          3,
          4,
          12,
          17,
          19,
          465,
          521,
          576,
          792,
          924,
          924,
          953,
          975,
          1014,
          1014,
          1032,
          1046,
          1056,
          1058,
          1067,
          1141,
          1141,
          1144,
          1150,
          1154,
          1159,
          1159,
          1159,
          1172,
          1220,
          1244,
          1270,
          1367,
          1482,
          1500,
          1512,
          1551,
          1564,
          1602,
          1614,
          1653
         ],
         "yaxis": "y"
        },
        {
         "hovertemplate": "country_txt=Iraq<br>iyear=%{x}<br>nkill=%{y}<extra></extra>",
         "legendgroup": "Iraq",
         "line": {
          "color": "#FFA15A",
          "dash": "solid"
         },
         "marker": {
          "symbol": "circle"
         },
         "mode": "lines",
         "name": "Iraq",
         "showlegend": true,
         "type": "scattergl",
         "x": [
          1975,
          1976,
          1979,
          1980,
          1981,
          1982,
          1983,
          1984,
          1987,
          1988,
          1989,
          1991,
          1992,
          1994,
          1995,
          1996,
          1997,
          1998,
          1999,
          2000,
          2001,
          2002,
          2003,
          2004,
          2005,
          2006,
          2007,
          2008,
          2009,
          2010,
          2011,
          2012,
          2013,
          2014,
          2015,
          2016,
          2017
         ],
         "xaxis": "x",
         "y": [
          0,
          12,
          13,
          19,
          19,
          115,
          116,
          116,
          116,
          159,
          159,
          160,
          277,
          352,
          508,
          519,
          625,
          644,
          676,
          686,
          695,
          705,
          1096,
          3265,
          6648,
          11241,
          17908,
          20772,
          23357,
          25430,
          27297,
          29983,
          37024,
          50989,
          59874,
          72081,
          78557
         ],
         "yaxis": "y"
        },
        {
         "hovertemplate": "country_txt=Ireland<br>iyear=%{x}<br>nkill=%{y}<extra></extra>",
         "legendgroup": "Ireland",
         "line": {
          "color": "#19d3f3",
          "dash": "solid"
         },
         "marker": {
          "symbol": "circle"
         },
         "mode": "lines",
         "name": "Ireland",
         "showlegend": true,
         "type": "scattergl",
         "x": [
          1970,
          1971,
          1972,
          1973,
          1974,
          1975,
          1976,
          1977,
          1978,
          1979,
          1980,
          1981,
          1982,
          1983,
          1984,
          1985,
          1986,
          1987,
          1989,
          1990,
          1991,
          1992,
          1994,
          1995,
          1996,
          1997,
          1998,
          1999,
          2001,
          2003,
          2006,
          2007,
          2008,
          2010,
          2011,
          2012,
          2013,
          2014,
          2015,
          2016,
          2017
         ],
         "xaxis": "x",
         "y": [
          1,
          2,
          8,
          12,
          46,
          53,
          58,
          60,
          61,
          70,
          82,
          83,
          85,
          90,
          91,
          93,
          93,
          99,
          102,
          102,
          105,
          105,
          109,
          110,
          111,
          111,
          112,
          112,
          112,
          112,
          113,
          113,
          113,
          113,
          114,
          114,
          114,
          114,
          114,
          116,
          116
         ],
         "yaxis": "y"
        },
        {
         "hovertemplate": "country_txt=Israel<br>iyear=%{x}<br>nkill=%{y}<extra></extra>",
         "legendgroup": "Israel",
         "line": {
          "color": "#FF6692",
          "dash": "solid"
         },
         "marker": {
          "symbol": "circle"
         },
         "mode": "lines",
         "name": "Israel",
         "showlegend": true,
         "type": "scattergl",
         "x": [
          1971,
          1972,
          1973,
          1974,
          1975,
          1976,
          1977,
          1978,
          1979,
          1980,
          1981,
          1982,
          1983,
          1984,
          1985,
          1986,
          1987,
          1988,
          1989,
          1990,
          1991,
          1992,
          1994,
          1995,
          1996,
          1997,
          1998,
          1999,
          2000,
          2001,
          2002,
          2003,
          2004,
          2005,
          2006,
          2007,
          2008,
          2009,
          2010,
          2011,
          2012,
          2013,
          2014,
          2015,
          2016,
          2017
         ],
         "xaxis": "x",
         "y": [
          1,
          27,
          29,
          107,
          131,
          132,
          137,
          189,
          253,
          267,
          270,
          273,
          289,
          296,
          308,
          316,
          327,
          340,
          383,
          440,
          471,
          509,
          569,
          587,
          660,
          691,
          710,
          716,
          727,
          868,
          1205,
          1361,
          1420,
          1465,
          1522,
          1539,
          1573,
          1574,
          1578,
          1599,
          1613,
          1615,
          1664,
          1684,
          1700,
          1703
         ],
         "yaxis": "y"
        },
        {
         "hovertemplate": "country_txt=Italy<br>iyear=%{x}<br>nkill=%{y}<extra></extra>",
         "legendgroup": "Italy",
         "line": {
          "color": "#B6E880",
          "dash": "solid"
         },
         "marker": {
          "symbol": "circle"
         },
         "mode": "lines",
         "name": "Italy",
         "showlegend": true,
         "type": "scattergl",
         "x": [
          1970,
          1971,
          1972,
          1973,
          1974,
          1975,
          1976,
          1977,
          1978,
          1979,
          1980,
          1981,
          1982,
          1983,
          1984,
          1985,
          1986,
          1987,
          1988,
          1989,
          1990,
          1991,
          1992,
          1994,
          1995,
          1996,
          1997,
          1998,
          1999,
          2000,
          2001,
          2002,
          2003,
          2004,
          2005,
          2006,
          2008,
          2009,
          2010,
          2011,
          2012,
          2013,
          2014,
          2015,
          2016,
          2017
         ],
         "xaxis": "x",
         "y": [
          0,
          0,
          1,
          63,
          86,
          86,
          95,
          120,
          146,
          170,
          302,
          326,
          338,
          340,
          363,
          382,
          383,
          386,
          392,
          392,
          392,
          392,
          409,
          411,
          411,
          411,
          411,
          411,
          412,
          412,
          412,
          413,
          413,
          414,
          415,
          415,
          415,
          415,
          415,
          417,
          417,
          417,
          417,
          417,
          418,
          418
         ],
         "yaxis": "y"
        },
        {
         "hovertemplate": "country_txt=Ivory Coast<br>iyear=%{x}<br>nkill=%{y}<extra></extra>",
         "legendgroup": "Ivory Coast",
         "line": {
          "color": "#FF97FF",
          "dash": "solid"
         },
         "marker": {
          "symbol": "circle"
         },
         "mode": "lines",
         "name": "Ivory Coast",
         "showlegend": true,
         "type": "scattergl",
         "x": [
          1992,
          1994,
          1995,
          1996,
          1997,
          2000,
          2001,
          2002,
          2004,
          2005,
          2006,
          2007,
          2010,
          2011,
          2012,
          2013,
          2014,
          2015,
          2016,
          2017
         ],
         "xaxis": "x",
         "y": [
          1,
          6,
          46,
          51,
          51,
          55,
          67,
          70,
          82,
          123,
          143,
          143,
          153,
          176,
          221,
          225,
          229,
          243,
          265,
          268
         ],
         "yaxis": "y"
        },
        {
         "hovertemplate": "country_txt=Jamaica<br>iyear=%{x}<br>nkill=%{y}<extra></extra>",
         "legendgroup": "Jamaica",
         "line": {
          "color": "#FECB52",
          "dash": "solid"
         },
         "marker": {
          "symbol": "circle"
         },
         "mode": "lines",
         "name": "Jamaica",
         "showlegend": true,
         "type": "scattergl",
         "x": [
          1974,
          1976,
          1979,
          1980,
          1981,
          1986,
          1991,
          1992,
          1994,
          1995,
          1996,
          1997,
          2007,
          2014,
          2017
         ],
         "xaxis": "x",
         "y": [
          0,
          0,
          4,
          15,
          20,
          23,
          23,
          28,
          30,
          31,
          32,
          42,
          42,
          42,
          42
         ],
         "yaxis": "y"
        },
        {
         "hovertemplate": "country_txt=Japan<br>iyear=%{x}<br>nkill=%{y}<extra></extra>",
         "legendgroup": "Japan",
         "line": {
          "color": "#636efa",
          "dash": "solid"
         },
         "marker": {
          "symbol": "circle"
         },
         "mode": "lines",
         "name": "Japan",
         "showlegend": true,
         "type": "scattergl",
         "x": [
          1970,
          1973,
          1974,
          1975,
          1976,
          1978,
          1979,
          1981,
          1982,
          1983,
          1984,
          1985,
          1986,
          1987,
          1988,
          1989,
          1990,
          1991,
          1992,
          1994,
          1995,
          1996,
          1997,
          1998,
          1999,
          2000,
          2001,
          2002,
          2003,
          2008,
          2009,
          2013,
          2014,
          2015,
          2016
         ],
         "xaxis": "x",
         "y": [
          0,
          0,
          0,
          0,
          2,
          6,
          8,
          8,
          8,
          10,
          10,
          12,
          15,
          16,
          16,
          18,
          20,
          21,
          21,
          29,
          44,
          44,
          44,
          44,
          44,
          44,
          44,
          44,
          44,
          44,
          44,
          44,
          44,
          44,
          63
         ],
         "yaxis": "y"
        },
        {
         "hovertemplate": "country_txt=Jordan<br>iyear=%{x}<br>nkill=%{y}<extra></extra>",
         "legendgroup": "Jordan",
         "line": {
          "color": "#EF553B",
          "dash": "solid"
         },
         "marker": {
          "symbol": "circle"
         },
         "mode": "lines",
         "name": "Jordan",
         "showlegend": true,
         "type": "scattergl",
         "x": [
          1970,
          1971,
          1972,
          1973,
          1976,
          1980,
          1981,
          1982,
          1983,
          1984,
          1988,
          1990,
          1991,
          1992,
          1994,
          1995,
          1996,
          1997,
          1998,
          1999,
          2000,
          2001,
          2002,
          2005,
          2006,
          2010,
          2012,
          2013,
          2014,
          2015,
          2016,
          2017
         ],
         "xaxis": "x",
         "y": [
          1,
          1,
          3,
          3,
          12,
          13,
          13,
          13,
          13,
          14,
          14,
          14,
          15,
          16,
          16,
          17,
          17,
          17,
          17,
          17,
          17,
          18,
          21,
          83,
          84,
          85,
          86,
          86,
          87,
          94,
          129,
          133
         ],
         "yaxis": "y"
        },
        {
         "hovertemplate": "country_txt=Kazakhstan<br>iyear=%{x}<br>nkill=%{y}<extra></extra>",
         "legendgroup": "Kazakhstan",
         "line": {
          "color": "#00cc96",
          "dash": "solid"
         },
         "marker": {
          "symbol": "circle"
         },
         "mode": "lines",
         "name": "Kazakhstan",
         "showlegend": true,
         "type": "scattergl",
         "x": [
          1992,
          1994,
          1997,
          2000,
          2001,
          2008,
          2011,
          2012,
          2013,
          2016
         ],
         "xaxis": "x",
         "y": [
          7,
          7,
          9,
          11,
          11,
          13,
          25,
          27,
          27,
          37
         ],
         "yaxis": "y"
        },
        {
         "hovertemplate": "country_txt=Kenya<br>iyear=%{x}<br>nkill=%{y}<extra></extra>",
         "legendgroup": "Kenya",
         "line": {
          "color": "#ab63fa",
          "dash": "solid"
         },
         "marker": {
          "symbol": "circle"
         },
         "mode": "lines",
         "name": "Kenya",
         "showlegend": true,
         "type": "scattergl",
         "x": [
          1975,
          1976,
          1978,
          1980,
          1989,
          1991,
          1992,
          1994,
          1995,
          1996,
          1997,
          1998,
          2000,
          2001,
          2002,
          2003,
          2005,
          2006,
          2007,
          2008,
          2009,
          2010,
          2011,
          2012,
          2013,
          2014,
          2015,
          2016,
          2017
         ],
         "xaxis": "x",
         "y": [
          27,
          27,
          31,
          46,
          50,
          50,
          205,
          245,
          247,
          249,
          285,
          511,
          537,
          550,
          566,
          569,
          625,
          643,
          676,
          779,
          779,
          798,
          840,
          947,
          1154,
          1469,
          1750,
          1822,
          1948
         ],
         "yaxis": "y"
        },
        {
         "hovertemplate": "country_txt=Kosovo<br>iyear=%{x}<br>nkill=%{y}<extra></extra>",
         "legendgroup": "Kosovo",
         "line": {
          "color": "#FFA15A",
          "dash": "solid"
         },
         "marker": {
          "symbol": "circle"
         },
         "mode": "lines",
         "name": "Kosovo",
         "showlegend": true,
         "type": "scattergl",
         "x": [
          1999,
          2000,
          2001,
          2002,
          2003,
          2004,
          2005,
          2006,
          2007,
          2008,
          2009,
          2010,
          2012,
          2013,
          2014,
          2015,
          2016,
          2017
         ],
         "xaxis": "x",
         "y": [
          23,
          46,
          66,
          67,
          74,
          74,
          75,
          75,
          76,
          76,
          76,
          77,
          80,
          81,
          83,
          83,
          83,
          83
         ],
         "yaxis": "y"
        },
        {
         "hovertemplate": "country_txt=Kuwait<br>iyear=%{x}<br>nkill=%{y}<extra></extra>",
         "legendgroup": "Kuwait",
         "line": {
          "color": "#19d3f3",
          "dash": "solid"
         },
         "marker": {
          "symbol": "circle"
         },
         "mode": "lines",
         "name": "Kuwait",
         "showlegend": true,
         "type": "scattergl",
         "x": [
          1974,
          1975,
          1976,
          1978,
          1980,
          1981,
          1982,
          1983,
          1984,
          1985,
          1986,
          1987,
          1988,
          1991,
          1992,
          1994,
          1997,
          2001,
          2002,
          2003,
          2005,
          2011,
          2015,
          2016
         ],
         "xaxis": "x",
         "y": [
          0,
          0,
          0,
          1,
          1,
          3,
          3,
          4,
          8,
          19,
          19,
          20,
          22,
          23,
          25,
          25,
          25,
          27,
          31,
          32,
          34,
          34,
          62,
          63
         ],
         "yaxis": "y"
        },
        {
         "hovertemplate": "country_txt=Kyrgyzstan<br>iyear=%{x}<br>nkill=%{y}<extra></extra>",
         "legendgroup": "Kyrgyzstan",
         "line": {
          "color": "#FF6692",
          "dash": "solid"
         },
         "marker": {
          "symbol": "circle"
         },
         "mode": "lines",
         "name": "Kyrgyzstan",
         "showlegend": true,
         "type": "scattergl",
         "x": [
          1996,
          1999,
          2000,
          2001,
          2002,
          2003,
          2005,
          2006,
          2007,
          2010,
          2011,
          2014,
          2015,
          2016,
          2017
         ],
         "xaxis": "x",
         "y": [
          0,
          1,
          3,
          3,
          5,
          6,
          6,
          7,
          7,
          7,
          7,
          8,
          9,
          10,
          10
         ],
         "yaxis": "y"
        },
        {
         "hovertemplate": "country_txt=Laos<br>iyear=%{x}<br>nkill=%{y}<extra></extra>",
         "legendgroup": "Laos",
         "line": {
          "color": "#B6E880",
          "dash": "solid"
         },
         "marker": {
          "symbol": "circle"
         },
         "mode": "lines",
         "name": "Laos",
         "showlegend": true,
         "type": "scattergl",
         "x": [
          1989,
          1990,
          1992,
          1994,
          1996,
          2000,
          2001,
          2003,
          2012,
          2015,
          2016,
          2017
         ],
         "xaxis": "x",
         "y": [
          2,
          2,
          5,
          7,
          12,
          13,
          13,
          23,
          23,
          23,
          26,
          27
         ],
         "yaxis": "y"
        },
        {
         "hovertemplate": "country_txt=Latvia<br>iyear=%{x}<br>nkill=%{y}<extra></extra>",
         "legendgroup": "Latvia",
         "line": {
          "color": "#FF97FF",
          "dash": "solid"
         },
         "marker": {
          "symbol": "circle"
         },
         "mode": "lines",
         "name": "Latvia",
         "showlegend": true,
         "type": "scattergl",
         "x": [
          1992,
          1994,
          1995,
          1997,
          1998,
          1999,
          2000,
          2007,
          2017
         ],
         "xaxis": "x",
         "y": [
          0,
          1,
          1,
          1,
          1,
          1,
          2,
          2,
          2
         ],
         "yaxis": "y"
        },
        {
         "hovertemplate": "country_txt=Lebanon<br>iyear=%{x}<br>nkill=%{y}<extra></extra>",
         "legendgroup": "Lebanon",
         "line": {
          "color": "#FECB52",
          "dash": "solid"
         },
         "marker": {
          "symbol": "circle"
         },
         "mode": "lines",
         "name": "Lebanon",
         "showlegend": true,
         "type": "scattergl",
         "x": [
          1970,
          1971,
          1972,
          1973,
          1974,
          1975,
          1976,
          1977,
          1978,
          1979,
          1980,
          1981,
          1982,
          1983,
          1984,
          1985,
          1986,
          1987,
          1988,
          1989,
          1990,
          1991,
          1992,
          1994,
          1995,
          1996,
          1997,
          1998,
          1999,
          2000,
          2001,
          2002,
          2003,
          2004,
          2005,
          2006,
          2007,
          2008,
          2009,
          2010,
          2011,
          2012,
          2013,
          2014,
          2015,
          2016,
          2017
         ],
         "xaxis": "x",
         "y": [
          0,
          0,
          0,
          4,
          4,
          32,
          36,
          39,
          146,
          179,
          269,
          533,
          764,
          1373,
          1433,
          2077,
          2323,
          2501,
          2677,
          2790,
          2903,
          2999,
          3078,
          3135,
          3170,
          3227,
          3263,
          3280,
          3303,
          3315,
          3315,
          3317,
          3320,
          3321,
          3343,
          3360,
          3400,
          3542,
          3559,
          3561,
          3562,
          3571,
          3761,
          3895,
          4006,
          4031,
          4048
         ],
         "yaxis": "y"
        },
        {
         "hovertemplate": "country_txt=Lesotho<br>iyear=%{x}<br>nkill=%{y}<extra></extra>",
         "legendgroup": "Lesotho",
         "line": {
          "color": "#636efa",
          "dash": "solid"
         },
         "marker": {
          "symbol": "circle"
         },
         "mode": "lines",
         "name": "Lesotho",
         "showlegend": true,
         "type": "scattergl",
         "x": [
          1979,
          1981,
          1982,
          1983,
          1984,
          1988,
          1994,
          2006,
          2009,
          2015
         ],
         "xaxis": "x",
         "y": [
          0,
          10,
          10,
          40,
          41,
          45,
          45,
          45,
          45,
          46
         ],
         "yaxis": "y"
        },
        {
         "hovertemplate": "country_txt=Liberia<br>iyear=%{x}<br>nkill=%{y}<extra></extra>",
         "legendgroup": "Liberia",
         "line": {
          "color": "#EF553B",
          "dash": "solid"
         },
         "marker": {
          "symbol": "circle"
         },
         "mode": "lines",
         "name": "Liberia",
         "showlegend": true,
         "type": "scattergl",
         "x": [
          1990,
          1991,
          1992,
          1994,
          1996,
          1999,
          2000,
          2001,
          2002,
          2003,
          2008,
          2012,
          2014,
          2017
         ],
         "xaxis": "x",
         "y": [
          2,
          2,
          39,
          149,
          159,
          159,
          159,
          160,
          163,
          165,
          177,
          177,
          177,
          177
         ],
         "yaxis": "y"
        },
        {
         "hovertemplate": "country_txt=Libya<br>iyear=%{x}<br>nkill=%{y}<extra></extra>",
         "legendgroup": "Libya",
         "line": {
          "color": "#00cc96",
          "dash": "solid"
         },
         "marker": {
          "symbol": "circle"
         },
         "mode": "lines",
         "name": "Libya",
         "showlegend": true,
         "type": "scattergl",
         "x": [
          1979,
          1980,
          1984,
          1992,
          1995,
          1996,
          2007,
          2008,
          2011,
          2012,
          2013,
          2014,
          2015,
          2016,
          2017
         ],
         "xaxis": "x",
         "y": [
          0,
          0,
          15,
          15,
          15,
          27,
          27,
          27,
          27,
          60,
          292,
          986,
          1675,
          2309,
          2598
         ],
         "yaxis": "y"
        },
        {
         "hovertemplate": "country_txt=Lithuania<br>iyear=%{x}<br>nkill=%{y}<extra></extra>",
         "legendgroup": "Lithuania",
         "line": {
          "color": "#ab63fa",
          "dash": "solid"
         },
         "marker": {
          "symbol": "circle"
         },
         "mode": "lines",
         "name": "Lithuania",
         "showlegend": true,
         "type": "scattergl",
         "x": [
          1991,
          1992,
          1995,
          1996,
          1997
         ],
         "xaxis": "x",
         "y": [
          0,
          0,
          0,
          0,
          1
         ],
         "yaxis": "y"
        },
        {
         "hovertemplate": "country_txt=Luxembourg<br>iyear=%{x}<br>nkill=%{y}<extra></extra>",
         "legendgroup": "Luxembourg",
         "line": {
          "color": "#FFA15A",
          "dash": "solid"
         },
         "marker": {
          "symbol": "circle"
         },
         "mode": "lines",
         "name": "Luxembourg",
         "showlegend": true,
         "type": "scattergl",
         "x": [
          1983,
          1985,
          1986,
          1994
         ],
         "xaxis": "x",
         "y": [
          0,
          0,
          0,
          0
         ],
         "yaxis": "y"
        },
        {
         "hovertemplate": "country_txt=Macau<br>iyear=%{x}<br>nkill=%{y}<extra></extra>",
         "legendgroup": "Macau",
         "line": {
          "color": "#19d3f3",
          "dash": "solid"
         },
         "marker": {
          "symbol": "circle"
         },
         "mode": "lines",
         "name": "Macau",
         "showlegend": true,
         "type": "scattergl",
         "x": [
          1995,
          1996,
          1997,
          1998
         ],
         "xaxis": "x",
         "y": [
          0,
          0,
          1,
          1
         ],
         "yaxis": "y"
        },
        {
         "hovertemplate": "country_txt=Macedonia<br>iyear=%{x}<br>nkill=%{y}<extra></extra>",
         "legendgroup": "Macedonia",
         "line": {
          "color": "#FF6692",
          "dash": "solid"
         },
         "marker": {
          "symbol": "circle"
         },
         "mode": "lines",
         "name": "Macedonia",
         "showlegend": true,
         "type": "scattergl",
         "x": [
          1994,
          1995,
          1997,
          1998,
          1999,
          2000,
          2001,
          2002,
          2003,
          2006,
          2007,
          2008,
          2009,
          2012,
          2014,
          2015,
          2017
         ],
         "xaxis": "x",
         "y": [
          0,
          1,
          1,
          1,
          1,
          4,
          39,
          42,
          42,
          42,
          42,
          44,
          44,
          49,
          49,
          49,
          49
         ],
         "yaxis": "y"
        },
        {
         "hovertemplate": "country_txt=Madagascar<br>iyear=%{x}<br>nkill=%{y}<extra></extra>",
         "legendgroup": "Madagascar",
         "line": {
          "color": "#B6E880",
          "dash": "solid"
         },
         "marker": {
          "symbol": "circle"
         },
         "mode": "lines",
         "name": "Madagascar",
         "showlegend": true,
         "type": "scattergl",
         "x": [
          1991,
          1992,
          1995,
          1996,
          1997,
          2002,
          2006,
          2009,
          2011,
          2012,
          2013,
          2014,
          2016
         ],
         "xaxis": "x",
         "y": [
          4,
          20,
          24,
          25,
          25,
          25,
          25,
          27,
          27,
          27,
          27,
          28,
          31
         ],
         "yaxis": "y"
        },
        {
         "hovertemplate": "country_txt=Malawi<br>iyear=%{x}<br>nkill=%{y}<extra></extra>",
         "legendgroup": "Malawi",
         "line": {
          "color": "#FF97FF",
          "dash": "solid"
         },
         "marker": {
          "symbol": "circle"
         },
         "mode": "lines",
         "name": "Malawi",
         "showlegend": true,
         "type": "scattergl",
         "x": [
          1992,
          2002,
          2017
         ],
         "xaxis": "x",
         "y": [
          32,
          33,
          33
         ],
         "yaxis": "y"
        },
        {
         "hovertemplate": "country_txt=Malaysia<br>iyear=%{x}<br>nkill=%{y}<extra></extra>",
         "legendgroup": "Malaysia",
         "line": {
          "color": "#FECB52",
          "dash": "solid"
         },
         "marker": {
          "symbol": "circle"
         },
         "mode": "lines",
         "name": "Malaysia",
         "showlegend": true,
         "type": "scattergl",
         "x": [
          1973,
          1975,
          1977,
          1979,
          1983,
          1986,
          1988,
          1989,
          1990,
          1991,
          1992,
          2000,
          2001,
          2008,
          2009,
          2012,
          2013,
          2014,
          2015,
          2016,
          2017
         ],
         "xaxis": "x",
         "y": [
          0,
          0,
          100,
          105,
          105,
          125,
          134,
          134,
          134,
          134,
          134,
          136,
          136,
          136,
          136,
          138,
          140,
          141,
          142,
          148,
          152
         ],
         "yaxis": "y"
        },
        {
         "hovertemplate": "country_txt=Maldives<br>iyear=%{x}<br>nkill=%{y}<extra></extra>",
         "legendgroup": "Maldives",
         "line": {
          "color": "#636efa",
          "dash": "solid"
         },
         "marker": {
          "symbol": "circle"
         },
         "mode": "lines",
         "name": "Maldives",
         "showlegend": true,
         "type": "scattergl",
         "x": [
          1988,
          2006,
          2007,
          2008,
          2012,
          2013,
          2014,
          2015,
          2016,
          2017
         ],
         "xaxis": "x",
         "y": [
          19,
          19,
          19,
          19,
          19,
          19,
          19,
          19,
          19,
          20
         ],
         "yaxis": "y"
        },
        {
         "hovertemplate": "country_txt=Mali<br>iyear=%{x}<br>nkill=%{y}<extra></extra>",
         "legendgroup": "Mali",
         "line": {
          "color": "#EF553B",
          "dash": "solid"
         },
         "marker": {
          "symbol": "circle"
         },
         "mode": "lines",
         "name": "Mali",
         "showlegend": true,
         "type": "scattergl",
         "x": [
          1990,
          1991,
          1992,
          1994,
          1995,
          1997,
          2005,
          2007,
          2008,
          2009,
          2010,
          2011,
          2012,
          2013,
          2014,
          2015,
          2016,
          2017
         ],
         "xaxis": "x",
         "y": [
          14,
          57,
          62,
          193,
          195,
          195,
          195,
          215,
          270,
          300,
          301,
          306,
          359,
          496,
          621,
          890,
          1071,
          1432
         ],
         "yaxis": "y"
        },
        {
         "hovertemplate": "country_txt=Malta<br>iyear=%{x}<br>nkill=%{y}<extra></extra>",
         "legendgroup": "Malta",
         "line": {
          "color": "#00cc96",
          "dash": "solid"
         },
         "marker": {
          "symbol": "circle"
         },
         "mode": "lines",
         "name": "Malta",
         "showlegend": true,
         "type": "scattergl",
         "x": [
          1984,
          1985,
          1986,
          1987,
          1992,
          1995,
          1997,
          2014,
          2015,
          2017
         ],
         "xaxis": "x",
         "y": [
          0,
          0,
          1,
          1,
          2,
          3,
          3,
          3,
          3,
          4
         ],
         "yaxis": "y"
        },
        {
         "hovertemplate": "country_txt=Martinique<br>iyear=%{x}<br>nkill=%{y}<extra></extra>",
         "legendgroup": "Martinique",
         "line": {
          "color": "#ab63fa",
          "dash": "solid"
         },
         "marker": {
          "symbol": "circle"
         },
         "mode": "lines",
         "name": "Martinique",
         "showlegend": true,
         "type": "scattergl",
         "x": [
          1981,
          1983,
          1984,
          1987,
          1988,
          1991,
          1992
         ],
         "xaxis": "x",
         "y": [
          0,
          0,
          0,
          0,
          0,
          0,
          0
         ],
         "yaxis": "y"
        },
        {
         "hovertemplate": "country_txt=Mauritania<br>iyear=%{x}<br>nkill=%{y}<extra></extra>",
         "legendgroup": "Mauritania",
         "line": {
          "color": "#FFA15A",
          "dash": "solid"
         },
         "marker": {
          "symbol": "circle"
         },
         "mode": "lines",
         "name": "Mauritania",
         "showlegend": true,
         "type": "scattergl",
         "x": [
          1977,
          1996,
          2004,
          2005,
          2008,
          2009,
          2010,
          2011
         ],
         "xaxis": "x",
         "y": [
          4,
          4,
          4,
          27,
          39,
          41,
          42,
          43
         ],
         "yaxis": "y"
        },
        {
         "hovertemplate": "country_txt=Mauritius<br>iyear=%{x}<br>nkill=%{y}<extra></extra>",
         "legendgroup": "Mauritius",
         "line": {
          "color": "#19d3f3",
          "dash": "solid"
         },
         "marker": {
          "symbol": "circle"
         },
         "mode": "lines",
         "name": "Mauritius",
         "showlegend": true,
         "type": "scattergl",
         "x": [
          1988,
          1989
         ],
         "xaxis": "x",
         "y": [
          0,
          0
         ],
         "yaxis": "y"
        },
        {
         "hovertemplate": "country_txt=Mexico<br>iyear=%{x}<br>nkill=%{y}<extra></extra>",
         "legendgroup": "Mexico",
         "line": {
          "color": "#FF6692",
          "dash": "solid"
         },
         "marker": {
          "symbol": "circle"
         },
         "mode": "lines",
         "name": "Mexico",
         "showlegend": true,
         "type": "scattergl",
         "x": [
          1970,
          1972,
          1973,
          1974,
          1975,
          1976,
          1977,
          1978,
          1979,
          1980,
          1981,
          1982,
          1983,
          1984,
          1985,
          1986,
          1987,
          1988,
          1989,
          1990,
          1991,
          1992,
          1994,
          1995,
          1996,
          1997,
          1998,
          1999,
          2000,
          2001,
          2003,
          2004,
          2005,
          2006,
          2007,
          2008,
          2009,
          2010,
          2011,
          2012,
          2013,
          2014,
          2015,
          2016,
          2017
         ],
         "xaxis": "x",
         "y": [
          0,
          0,
          1,
          3,
          35,
          61,
          72,
          77,
          82,
          85,
          85,
          86,
          86,
          99,
          99,
          99,
          99,
          101,
          101,
          104,
          117,
          123,
          211,
          272,
          368,
          597,
          600,
          600,
          605,
          618,
          620,
          620,
          622,
          629,
          654,
          675,
          677,
          677,
          677,
          694,
          741,
          742,
          751,
          755,
          778
         ],
         "yaxis": "y"
        },
        {
         "hovertemplate": "country_txt=Moldova<br>iyear=%{x}<br>nkill=%{y}<extra></extra>",
         "legendgroup": "Moldova",
         "line": {
          "color": "#B6E880",
          "dash": "solid"
         },
         "marker": {
          "symbol": "circle"
         },
         "mode": "lines",
         "name": "Moldova",
         "showlegend": true,
         "type": "scattergl",
         "x": [
          1991,
          1992,
          1994,
          1996,
          1997,
          2000,
          2006,
          2009,
          2012,
          2016
         ],
         "xaxis": "x",
         "y": [
          0,
          10,
          11,
          11,
          11,
          11,
          13,
          13,
          13,
          13
         ],
         "yaxis": "y"
        },
        {
         "hovertemplate": "country_txt=Montenegro<br>iyear=%{x}<br>nkill=%{y}<extra></extra>",
         "legendgroup": "Montenegro",
         "line": {
          "color": "#FF97FF",
          "dash": "solid"
         },
         "marker": {
          "symbol": "circle"
         },
         "mode": "lines",
         "name": "Montenegro",
         "showlegend": true,
         "type": "scattergl",
         "x": [
          2001,
          2007,
          2013,
          2015
         ],
         "xaxis": "x",
         "y": [
          1,
          1,
          1,
          1
         ],
         "yaxis": "y"
        },
        {
         "hovertemplate": "country_txt=Morocco<br>iyear=%{x}<br>nkill=%{y}<extra></extra>",
         "legendgroup": "Morocco",
         "line": {
          "color": "#FECB52",
          "dash": "solid"
         },
         "marker": {
          "symbol": "circle"
         },
         "mode": "lines",
         "name": "Morocco",
         "showlegend": true,
         "type": "scattergl",
         "x": [
          1973,
          1976,
          1978,
          1979,
          1985,
          1986,
          1987,
          1991,
          1992,
          1994,
          1995,
          1996,
          2003,
          2007,
          2011,
          2015
         ],
         "xaxis": "x",
         "y": [
          0,
          0,
          10,
          10,
          10,
          12,
          212,
          215,
          217,
          217,
          217,
          217,
          262,
          275,
          292,
          292
         ],
         "yaxis": "y"
        },
        {
         "hovertemplate": "country_txt=Mozambique<br>iyear=%{x}<br>nkill=%{y}<extra></extra>",
         "legendgroup": "Mozambique",
         "line": {
          "color": "#636efa",
          "dash": "solid"
         },
         "marker": {
          "symbol": "circle"
         },
         "mode": "lines",
         "name": "Mozambique",
         "showlegend": true,
         "type": "scattergl",
         "x": [
          1978,
          1979,
          1981,
          1982,
          1983,
          1984,
          1985,
          1986,
          1987,
          1988,
          1989,
          1990,
          1991,
          1992,
          1994,
          1995,
          1999,
          2000,
          2007,
          2012,
          2013,
          2014,
          2015,
          2016,
          2017
         ],
         "xaxis": "x",
         "y": [
          2,
          36,
          42,
          60,
          65,
          115,
          123,
          593,
          1061,
          1206,
          1916,
          2101,
          2372,
          2527,
          2527,
          2542,
          2542,
          2543,
          2549,
          2550,
          2587,
          2609,
          2621,
          2683,
          2705
         ],
         "yaxis": "y"
        },
        {
         "hovertemplate": "country_txt=Myanmar<br>iyear=%{x}<br>nkill=%{y}<extra></extra>",
         "legendgroup": "Myanmar",
         "line": {
          "color": "#EF553B",
          "dash": "solid"
         },
         "marker": {
          "symbol": "circle"
         },
         "mode": "lines",
         "name": "Myanmar",
         "showlegend": true,
         "type": "scattergl",
         "x": [
          1973,
          1976,
          1979,
          1980,
          1982,
          1983,
          1987,
          1988,
          1989,
          1990,
          1991,
          1992,
          1994,
          1995,
          1996,
          1997,
          1999,
          2001,
          2002,
          2003,
          2004,
          2005,
          2006,
          2007,
          2008,
          2009,
          2010,
          2011,
          2012,
          2013,
          2014,
          2015,
          2016,
          2017
         ],
         "xaxis": "x",
         "y": [
          0,
          0,
          86,
          92,
          95,
          116,
          116,
          209,
          289,
          360,
          450,
          589,
          607,
          637,
          723,
          739,
          749,
          757,
          762,
          780,
          781,
          802,
          802,
          812,
          826,
          872,
          885,
          885,
          901,
          912,
          929,
          989,
          1062,
          1280
         ],
         "yaxis": "y"
        },
        {
         "hovertemplate": "country_txt=Namibia<br>iyear=%{x}<br>nkill=%{y}<extra></extra>",
         "legendgroup": "Namibia",
         "line": {
          "color": "#00cc96",
          "dash": "solid"
         },
         "marker": {
          "symbol": "circle"
         },
         "mode": "lines",
         "name": "Namibia",
         "showlegend": true,
         "type": "scattergl",
         "x": [
          1975,
          1976,
          1978,
          1979,
          1980,
          1982,
          1983,
          1984,
          1985,
          1986,
          1987,
          1988,
          1989,
          1990,
          1991,
          1994,
          1999,
          2000,
          2001
         ],
         "xaxis": "x",
         "y": [
          1,
          4,
          6,
          38,
          39,
          41,
          45,
          69,
          143,
          148,
          150,
          175,
          176,
          176,
          179,
          179,
          192,
          216,
          217
         ],
         "yaxis": "y"
        },
        {
         "hovertemplate": "country_txt=Nepal<br>iyear=%{x}<br>nkill=%{y}<extra></extra>",
         "legendgroup": "Nepal",
         "line": {
          "color": "#ab63fa",
          "dash": "solid"
         },
         "marker": {
          "symbol": "circle"
         },
         "mode": "lines",
         "name": "Nepal",
         "showlegend": true,
         "type": "scattergl",
         "x": [
          1985,
          1991,
          1992,
          1994,
          1996,
          1997,
          1999,
          2000,
          2001,
          2002,
          2003,
          2004,
          2005,
          2006,
          2007,
          2008,
          2009,
          2010,
          2011,
          2012,
          2013,
          2014,
          2015,
          2016,
          2017
         ],
         "xaxis": "x",
         "y": [
          6,
          6,
          15,
          19,
          25,
          40,
          58,
          149,
          321,
          807,
          829,
          1459,
          1670,
          1803,
          1847,
          1897,
          1917,
          1927,
          1943,
          1952,
          1955,
          1955,
          1955,
          1960,
          1964
         ],
         "yaxis": "y"
        },
        {
         "hovertemplate": "country_txt=Netherlands<br>iyear=%{x}<br>nkill=%{y}<extra></extra>",
         "legendgroup": "Netherlands",
         "line": {
          "color": "#FFA15A",
          "dash": "solid"
         },
         "marker": {
          "symbol": "circle"
         },
         "mode": "lines",
         "name": "Netherlands",
         "showlegend": true,
         "type": "scattergl",
         "x": [
          1970,
          1971,
          1972,
          1973,
          1974,
          1975,
          1976,
          1977,
          1978,
          1979,
          1980,
          1981,
          1982,
          1983,
          1984,
          1985,
          1986,
          1987,
          1988,
          1989,
          1990,
          1991,
          1992,
          1994,
          1995,
          1996,
          1997,
          1999,
          2000,
          2001,
          2002,
          2003,
          2004,
          2008,
          2009,
          2010,
          2011,
          2014,
          2015,
          2016,
          2017
         ],
         "xaxis": "x",
         "y": [
          1,
          1,
          1,
          2,
          2,
          5,
          5,
          14,
          15,
          18,
          18,
          18,
          18,
          18,
          18,
          18,
          18,
          18,
          22,
          22,
          24,
          24,
          24,
          24,
          25,
          25,
          25,
          25,
          25,
          25,
          26,
          26,
          27,
          27,
          34,
          34,
          34,
          34,
          34,
          35,
          35
         ],
         "yaxis": "y"
        },
        {
         "hovertemplate": "country_txt=New Caledonia<br>iyear=%{x}<br>nkill=%{y}<extra></extra>",
         "legendgroup": "New Caledonia",
         "line": {
          "color": "#19d3f3",
          "dash": "solid"
         },
         "marker": {
          "symbol": "circle"
         },
         "mode": "lines",
         "name": "New Caledonia",
         "showlegend": true,
         "type": "scattergl",
         "x": [
          1984,
          1985,
          1986,
          1988,
          1989,
          1992
         ],
         "xaxis": "x",
         "y": [
          11,
          11,
          11,
          33,
          35,
          35
         ],
         "yaxis": "y"
        },
        {
         "hovertemplate": "country_txt=New Hebrides<br>iyear=%{x}<br>nkill=%{y}<extra></extra>",
         "legendgroup": "New Hebrides",
         "line": {
          "color": "#FF6692",
          "dash": "solid"
         },
         "marker": {
          "symbol": "circle"
         },
         "mode": "lines",
         "name": "New Hebrides",
         "showlegend": true,
         "type": "scattergl",
         "x": [
          1980
         ],
         "xaxis": "x",
         "y": [
          0
         ],
         "yaxis": "y"
        },
        {
         "hovertemplate": "country_txt=New Zealand<br>iyear=%{x}<br>nkill=%{y}<extra></extra>",
         "legendgroup": "New Zealand",
         "line": {
          "color": "#B6E880",
          "dash": "solid"
         },
         "marker": {
          "symbol": "circle"
         },
         "mode": "lines",
         "name": "New Zealand",
         "showlegend": true,
         "type": "scattergl",
         "x": [
          1973,
          1981,
          1984,
          1991,
          1994,
          1996,
          1997,
          2003,
          2008,
          2014,
          2016
         ],
         "xaxis": "x",
         "y": [
          0,
          0,
          1,
          1,
          1,
          1,
          1,
          1,
          1,
          1,
          1
         ],
         "yaxis": "y"
        },
        {
         "hovertemplate": "country_txt=Nicaragua<br>iyear=%{x}<br>nkill=%{y}<extra></extra>",
         "legendgroup": "Nicaragua",
         "line": {
          "color": "#FF97FF",
          "dash": "solid"
         },
         "marker": {
          "symbol": "circle"
         },
         "mode": "lines",
         "name": "Nicaragua",
         "showlegend": true,
         "type": "scattergl",
         "x": [
          1970,
          1974,
          1975,
          1977,
          1978,
          1979,
          1980,
          1981,
          1982,
          1983,
          1984,
          1985,
          1986,
          1987,
          1988,
          1989,
          1990,
          1991,
          1992,
          1994,
          1995,
          1996,
          1997,
          1999,
          2000,
          2014
         ],
         "xaxis": "x",
         "y": [
          0,
          0,
          11,
          37,
          129,
          297,
          334,
          499,
          753,
          4029,
          7646,
          9221,
          9616,
          10165,
          10373,
          10421,
          10444,
          10498,
          10520,
          10532,
          10538,
          10556,
          10563,
          10563,
          10565,
          10570
         ],
         "yaxis": "y"
        },
        {
         "hovertemplate": "country_txt=Niger<br>iyear=%{x}<br>nkill=%{y}<extra></extra>",
         "legendgroup": "Niger",
         "line": {
          "color": "#FECB52",
          "dash": "solid"
         },
         "marker": {
          "symbol": "circle"
         },
         "mode": "lines",
         "name": "Niger",
         "showlegend": true,
         "type": "scattergl",
         "x": [
          1985,
          1989,
          1991,
          1992,
          1994,
          1995,
          1996,
          1997,
          1999,
          2007,
          2008,
          2009,
          2010,
          2011,
          2012,
          2013,
          2014,
          2015,
          2016,
          2017
         ],
         "xaxis": "x",
         "y": [
          3,
          174,
          182,
          216,
          269,
          291,
          293,
          325,
          329,
          395,
          401,
          419,
          428,
          432,
          433,
          459,
          470,
          1136,
          1326,
          1474
         ],
         "yaxis": "y"
        },
        {
         "hovertemplate": "country_txt=Nigeria<br>iyear=%{x}<br>nkill=%{y}<extra></extra>",
         "legendgroup": "Nigeria",
         "line": {
          "color": "#636efa",
          "dash": "solid"
         },
         "marker": {
          "symbol": "circle"
         },
         "mode": "lines",
         "name": "Nigeria",
         "showlegend": true,
         "type": "scattergl",
         "x": [
          1976,
          1980,
          1983,
          1988,
          1991,
          1992,
          1994,
          1995,
          1996,
          1997,
          1998,
          1999,
          2000,
          2001,
          2002,
          2003,
          2004,
          2005,
          2006,
          2007,
          2008,
          2009,
          2010,
          2011,
          2012,
          2013,
          2014,
          2015,
          2016,
          2017
         ],
         "xaxis": "x",
         "y": [
          3,
          3,
          4,
          8,
          18,
          153,
          168,
          169,
          193,
          300,
          309,
          443,
          443,
          446,
          474,
          502,
          543,
          562,
          816,
          898,
          970,
          1286,
          1403,
          1850,
          3358,
          5372,
          13153,
          18712,
          20877,
          22682
         ],
         "yaxis": "y"
        },
        {
         "hovertemplate": "country_txt=North Korea<br>iyear=%{x}<br>nkill=%{y}<extra></extra>",
         "legendgroup": "North Korea",
         "line": {
          "color": "#EF553B",
          "dash": "solid"
         },
         "marker": {
          "symbol": "circle"
         },
         "mode": "lines",
         "name": "North Korea",
         "showlegend": true,
         "type": "scattergl",
         "x": [
          1994
         ],
         "xaxis": "x",
         "y": [
          3
         ],
         "yaxis": "y"
        },
        {
         "hovertemplate": "country_txt=North Yemen<br>iyear=%{x}<br>nkill=%{y}<extra></extra>",
         "legendgroup": "North Yemen",
         "line": {
          "color": "#00cc96",
          "dash": "solid"
         },
         "marker": {
          "symbol": "circle"
         },
         "mode": "lines",
         "name": "North Yemen",
         "showlegend": true,
         "type": "scattergl",
         "x": [
          1974,
          1977,
          1978,
          1981,
          1988
         ],
         "xaxis": "x",
         "y": [
          0,
          1,
          2,
          3,
          3
         ],
         "yaxis": "y"
        },
        {
         "hovertemplate": "country_txt=Norway<br>iyear=%{x}<br>nkill=%{y}<extra></extra>",
         "legendgroup": "Norway",
         "line": {
          "color": "#ab63fa",
          "dash": "solid"
         },
         "marker": {
          "symbol": "circle"
         },
         "mode": "lines",
         "name": "Norway",
         "showlegend": true,
         "type": "scattergl",
         "x": [
          1979,
          1981,
          1987,
          1991,
          1992,
          1994,
          1996,
          2001,
          2003,
          2006,
          2010,
          2011,
          2017
         ],
         "xaxis": "x",
         "y": [
          0,
          0,
          1,
          1,
          1,
          1,
          1,
          2,
          2,
          2,
          2,
          79,
          79
         ],
         "yaxis": "y"
        },
        {
         "hovertemplate": "country_txt=Pakistan<br>iyear=%{x}<br>nkill=%{y}<extra></extra>",
         "legendgroup": "Pakistan",
         "line": {
          "color": "#FFA15A",
          "dash": "solid"
         },
         "marker": {
          "symbol": "circle"
         },
         "mode": "lines",
         "name": "Pakistan",
         "showlegend": true,
         "type": "scattergl",
         "x": [
          1970,
          1974,
          1975,
          1976,
          1978,
          1979,
          1980,
          1981,
          1982,
          1983,
          1984,
          1985,
          1986,
          1987,
          1988,
          1989,
          1990,
          1991,
          1992,
          1994,
          1995,
          1996,
          1997,
          1998,
          1999,
          2000,
          2001,
          2002,
          2003,
          2004,
          2005,
          2006,
          2007,
          2008,
          2009,
          2010,
          2011,
          2012,
          2013,
          2014,
          2015,
          2016,
          2017
         ],
         "xaxis": "x",
         "y": [
          4,
          4,
          5,
          6,
          11,
          17,
          34,
          38,
          41,
          51,
          63,
          63,
          123,
          306,
          442,
          498,
          686,
          917,
          1066,
          1420,
          2132,
          2555,
          2998,
          3149,
          3276,
          3394,
          3503,
          3608,
          3727,
          4031,
          4183,
          4497,
          5903,
          7079,
          8566,
          10260,
          11923,
          14707,
          17582,
          19995,
          21603,
          22716,
          23792
         ],
         "yaxis": "y"
        },
        {
         "hovertemplate": "country_txt=Panama<br>iyear=%{x}<br>nkill=%{y}<extra></extra>",
         "legendgroup": "Panama",
         "line": {
          "color": "#19d3f3",
          "dash": "solid"
         },
         "marker": {
          "symbol": "circle"
         },
         "mode": "lines",
         "name": "Panama",
         "showlegend": true,
         "type": "scattergl",
         "x": [
          1972,
          1976,
          1979,
          1980,
          1981,
          1983,
          1984,
          1986,
          1987,
          1988,
          1989,
          1990,
          1991,
          1992,
          1994,
          1995,
          1996,
          1997,
          1999,
          2009,
          2016
         ],
         "xaxis": "x",
         "y": [
          0,
          0,
          1,
          1,
          2,
          2,
          2,
          2,
          3,
          3,
          3,
          5,
          7,
          10,
          31,
          34,
          34,
          37,
          37,
          38,
          38
         ],
         "yaxis": "y"
        },
        {
         "hovertemplate": "country_txt=Papua New Guinea<br>iyear=%{x}<br>nkill=%{y}<extra></extra>",
         "legendgroup": "Papua New Guinea",
         "line": {
          "color": "#FF6692",
          "dash": "solid"
         },
         "marker": {
          "symbol": "circle"
         },
         "mode": "lines",
         "name": "Papua New Guinea",
         "showlegend": true,
         "type": "scattergl",
         "x": [
          1989,
          1990,
          1991,
          1992,
          1994,
          1995,
          1996,
          1997,
          2002,
          2007,
          2017
         ],
         "xaxis": "x",
         "y": [
          13,
          25,
          28,
          35,
          52,
          58,
          79,
          79,
          79,
          79,
          79
         ],
         "yaxis": "y"
        },
        {
         "hovertemplate": "country_txt=Paraguay<br>iyear=%{x}<br>nkill=%{y}<extra></extra>",
         "legendgroup": "Paraguay",
         "line": {
          "color": "#B6E880",
          "dash": "solid"
         },
         "marker": {
          "symbol": "circle"
         },
         "mode": "lines",
         "name": "Paraguay",
         "showlegend": true,
         "type": "scattergl",
         "x": [
          1970,
          1976,
          1980,
          1984,
          1985,
          1987,
          1992,
          1994,
          1995,
          1997,
          1999,
          2000,
          2010,
          2011,
          2012,
          2013,
          2014,
          2015,
          2016,
          2017
         ],
         "xaxis": "x",
         "y": [
          1,
          2,
          5,
          6,
          6,
          6,
          6,
          7,
          7,
          8,
          10,
          10,
          12,
          12,
          13,
          25,
          31,
          45,
          55,
          59
         ],
         "yaxis": "y"
        },
        {
         "hovertemplate": "country_txt=People's Republic of the Congo<br>iyear=%{x}<br>nkill=%{y}<extra></extra>",
         "legendgroup": "People's Republic of the Congo",
         "line": {
          "color": "#FF97FF",
          "dash": "solid"
         },
         "marker": {
          "symbol": "circle"
         },
         "mode": "lines",
         "name": "People's Republic of the Congo",
         "showlegend": true,
         "type": "scattergl",
         "x": [
          1972,
          1977,
          1982
         ],
         "xaxis": "x",
         "y": [
          0,
          0,
          15
         ],
         "yaxis": "y"
        },
        {
         "hovertemplate": "country_txt=Peru<br>iyear=%{x}<br>nkill=%{y}<extra></extra>",
         "legendgroup": "Peru",
         "line": {
          "color": "#FECB52",
          "dash": "solid"
         },
         "marker": {
          "symbol": "circle"
         },
         "mode": "lines",
         "name": "Peru",
         "showlegend": true,
         "type": "scattergl",
         "x": [
          1973,
          1974,
          1975,
          1977,
          1978,
          1979,
          1980,
          1981,
          1982,
          1983,
          1984,
          1985,
          1986,
          1987,
          1988,
          1989,
          1990,
          1991,
          1992,
          1994,
          1995,
          1996,
          1997,
          1998,
          1999,
          2000,
          2001,
          2002,
          2003,
          2004,
          2005,
          2006,
          2007,
          2008,
          2009,
          2012,
          2013,
          2014,
          2015,
          2016,
          2017
         ],
         "xaxis": "x",
         "y": [
          0,
          0,
          0,
          0,
          0,
          5,
          7,
          17,
          260,
          2065,
          4429,
          5158,
          5671,
          6444,
          7299,
          8801,
          9947,
          11351,
          12169,
          12250,
          12353,
          12427,
          12474,
          12481,
          12509,
          12513,
          12529,
          12538,
          12545,
          12551,
          12558,
          12565,
          12583,
          12583,
          12602,
          12612,
          12618,
          12622,
          12628,
          12639,
          12647
         ],
         "yaxis": "y"
        },
        {
         "hovertemplate": "country_txt=Philippines<br>iyear=%{x}<br>nkill=%{y}<extra></extra>",
         "legendgroup": "Philippines",
         "line": {
          "color": "#636efa",
          "dash": "solid"
         },
         "marker": {
          "symbol": "circle"
         },
         "mode": "lines",
         "name": "Philippines",
         "showlegend": true,
         "type": "scattergl",
         "x": [
          1970,
          1971,
          1972,
          1974,
          1975,
          1976,
          1977,
          1978,
          1979,
          1980,
          1981,
          1982,
          1983,
          1984,
          1985,
          1986,
          1987,
          1988,
          1989,
          1990,
          1991,
          1992,
          1994,
          1995,
          1996,
          1997,
          1998,
          1999,
          2000,
          2001,
          2002,
          2003,
          2004,
          2005,
          2006,
          2007,
          2008,
          2009,
          2010,
          2011,
          2012,
          2013,
          2014,
          2015,
          2016,
          2017
         ],
         "xaxis": "x",
         "y": [
          40,
          40,
          42,
          45,
          46,
          93,
          93,
          221,
          323,
          481,
          657,
          783,
          880,
          1141,
          1592,
          1909,
          2305,
          2855,
          3248,
          3705,
          4129,
          4524,
          4650,
          4851,
          4946,
          5044,
          5050,
          5095,
          5384,
          5533,
          5658,
          5946,
          6152,
          6201,
          6261,
          6376,
          6596,
          6747,
          6901,
          7028,
          7239,
          7671,
          8143,
          8590,
          9005,
          9501
         ],
         "yaxis": "y"
        },
        {
         "hovertemplate": "country_txt=Poland<br>iyear=%{x}<br>nkill=%{y}<extra></extra>",
         "legendgroup": "Poland",
         "line": {
          "color": "#EF553B",
          "dash": "solid"
         },
         "marker": {
          "symbol": "circle"
         },
         "mode": "lines",
         "name": "Poland",
         "showlegend": true,
         "type": "scattergl",
         "x": [
          1971,
          1979,
          1981,
          1990,
          1992,
          1994,
          1995,
          1996,
          1997,
          1998,
          2001,
          2010,
          2016,
          2017
         ],
         "xaxis": "x",
         "y": [
          0,
          0,
          0,
          1,
          5,
          5,
          5,
          6,
          8,
          8,
          8,
          9,
          9,
          9
         ],
         "yaxis": "y"
        },
        {
         "hovertemplate": "country_txt=Portugal<br>iyear=%{x}<br>nkill=%{y}<extra></extra>",
         "legendgroup": "Portugal",
         "line": {
          "color": "#00cc96",
          "dash": "solid"
         },
         "marker": {
          "symbol": "circle"
         },
         "mode": "lines",
         "name": "Portugal",
         "showlegend": true,
         "type": "scattergl",
         "x": [
          1972,
          1973,
          1975,
          1976,
          1977,
          1978,
          1979,
          1980,
          1981,
          1982,
          1983,
          1984,
          1985,
          1986,
          1988,
          1989,
          1992,
          1994,
          1995,
          2011
         ],
         "xaxis": "x",
         "y": [
          0,
          0,
          0,
          3,
          3,
          3,
          6,
          9,
          11,
          14,
          22,
          25,
          26,
          27,
          29,
          30,
          30,
          32,
          32,
          32
         ],
         "yaxis": "y"
        },
        {
         "hovertemplate": "country_txt=Qatar<br>iyear=%{x}<br>nkill=%{y}<extra></extra>",
         "legendgroup": "Qatar",
         "line": {
          "color": "#ab63fa",
          "dash": "solid"
         },
         "marker": {
          "symbol": "circle"
         },
         "mode": "lines",
         "name": "Qatar",
         "showlegend": true,
         "type": "scattergl",
         "x": [
          1982,
          1989,
          1996,
          2000,
          2001,
          2005,
          2015
         ],
         "xaxis": "x",
         "y": [
          1,
          4,
          4,
          4,
          5,
          7,
          7
         ],
         "yaxis": "y"
        },
        {
         "hovertemplate": "country_txt=Republic of the Congo<br>iyear=%{x}<br>nkill=%{y}<extra></extra>",
         "legendgroup": "Republic of the Congo",
         "line": {
          "color": "#FFA15A",
          "dash": "solid"
         },
         "marker": {
          "symbol": "circle"
         },
         "mode": "lines",
         "name": "Republic of the Congo",
         "showlegend": true,
         "type": "scattergl",
         "x": [
          1990,
          1994,
          1996,
          1997,
          1999,
          2001,
          2002,
          2003,
          2013,
          2016
         ],
         "xaxis": "x",
         "y": [
          0,
          12,
          12,
          14,
          121,
          121,
          138,
          149,
          151,
          182
         ],
         "yaxis": "y"
        },
        {
         "hovertemplate": "country_txt=Rhodesia<br>iyear=%{x}<br>nkill=%{y}<extra></extra>",
         "legendgroup": "Rhodesia",
         "line": {
          "color": "#19d3f3",
          "dash": "solid"
         },
         "marker": {
          "symbol": "circle"
         },
         "mode": "lines",
         "name": "Rhodesia",
         "showlegend": true,
         "type": "scattergl",
         "x": [
          1978,
          1979,
          1980
         ],
         "xaxis": "x",
         "y": [
          73,
          183,
          207
         ],
         "yaxis": "y"
        },
        {
         "hovertemplate": "country_txt=Romania<br>iyear=%{x}<br>nkill=%{y}<extra></extra>",
         "legendgroup": "Romania",
         "line": {
          "color": "#FF6692",
          "dash": "solid"
         },
         "marker": {
          "symbol": "circle"
         },
         "mode": "lines",
         "name": "Romania",
         "showlegend": true,
         "type": "scattergl",
         "x": [
          1984,
          1985,
          1991,
          1995,
          2008
         ],
         "xaxis": "x",
         "y": [
          1,
          3,
          4,
          4,
          4
         ],
         "yaxis": "y"
        },
        {
         "hovertemplate": "country_txt=Russia<br>iyear=%{x}<br>nkill=%{y}<extra></extra>",
         "legendgroup": "Russia",
         "line": {
          "color": "#B6E880",
          "dash": "solid"
         },
         "marker": {
          "symbol": "circle"
         },
         "mode": "lines",
         "name": "Russia",
         "showlegend": true,
         "type": "scattergl",
         "x": [
          1992,
          1994,
          1995,
          1996,
          1997,
          1998,
          1999,
          2000,
          2001,
          2002,
          2003,
          2004,
          2005,
          2006,
          2007,
          2008,
          2009,
          2010,
          2011,
          2012,
          2013,
          2014,
          2015,
          2016,
          2017
         ],
         "xaxis": "x",
         "y": [
          34,
          68,
          213,
          348,
          409,
          458,
          853,
          1215,
          1442,
          1954,
          2282,
          2889,
          3046,
          3103,
          3158,
          3253,
          3394,
          3622,
          3782,
          3943,
          4091,
          4158,
          4179,
          4243,
          4304
         ],
         "yaxis": "y"
        },
        {
         "hovertemplate": "country_txt=Rwanda<br>iyear=%{x}<br>nkill=%{y}<extra></extra>",
         "legendgroup": "Rwanda",
         "line": {
          "color": "#FF97FF",
          "dash": "solid"
         },
         "marker": {
          "symbol": "circle"
         },
         "mode": "lines",
         "name": "Rwanda",
         "showlegend": true,
         "type": "scattergl",
         "x": [
          1991,
          1992,
          1994,
          1995,
          1996,
          1997,
          1998,
          2000,
          2001,
          2005,
          2008,
          2009,
          2010,
          2011,
          2012,
          2013,
          2014,
          2016,
          2017
         ],
         "xaxis": "x",
         "y": [
          0,
          141,
          1712,
          1913,
          2042,
          3069,
          3169,
          3173,
          3175,
          3205,
          3205,
          3209,
          3215,
          3217,
          3227,
          3233,
          3234,
          3234,
          3236
         ],
         "yaxis": "y"
        },
        {
         "hovertemplate": "country_txt=Saudi Arabia<br>iyear=%{x}<br>nkill=%{y}<extra></extra>",
         "legendgroup": "Saudi Arabia",
         "line": {
          "color": "#FECB52",
          "dash": "solid"
         },
         "marker": {
          "symbol": "circle"
         },
         "mode": "lines",
         "name": "Saudi Arabia",
         "showlegend": true,
         "type": "scattergl",
         "x": [
          1977,
          1979,
          1984,
          1985,
          1986,
          1988,
          1989,
          1991,
          1994,
          1995,
          1996,
          2000,
          2001,
          2002,
          2003,
          2004,
          2005,
          2006,
          2007,
          2009,
          2011,
          2012,
          2013,
          2014,
          2015,
          2016,
          2017
         ],
         "xaxis": "x",
         "y": [
          0,
          5,
          5,
          6,
          68,
          68,
          69,
          69,
          69,
          83,
          102,
          103,
          105,
          106,
          161,
          225,
          226,
          230,
          233,
          238,
          241,
          245,
          246,
          266,
          479,
          641,
          672
         ],
         "yaxis": "y"
        },
        {
         "hovertemplate": "country_txt=Senegal<br>iyear=%{x}<br>nkill=%{y}<extra></extra>",
         "legendgroup": "Senegal",
         "line": {
          "color": "#636efa",
          "dash": "solid"
         },
         "marker": {
          "symbol": "circle"
         },
         "mode": "lines",
         "name": "Senegal",
         "showlegend": true,
         "type": "scattergl",
         "x": [
          1980,
          1988,
          1990,
          1991,
          1992,
          1994,
          1995,
          1997,
          1998,
          1999,
          2000,
          2001,
          2002,
          2005,
          2007,
          2008,
          2009,
          2010,
          2011,
          2012,
          2013,
          2014,
          2015
         ],
         "xaxis": "x",
         "y": [
          0,
          2,
          22,
          27,
          91,
          96,
          114,
          206,
          210,
          211,
          215,
          243,
          251,
          251,
          252,
          262,
          271,
          274,
          295,
          311,
          318,
          325,
          325
         ],
         "yaxis": "y"
        },
        {
         "hovertemplate": "country_txt=Serbia<br>iyear=%{x}<br>nkill=%{y}<extra></extra>",
         "legendgroup": "Serbia",
         "line": {
          "color": "#EF553B",
          "dash": "solid"
         },
         "marker": {
          "symbol": "circle"
         },
         "mode": "lines",
         "name": "Serbia",
         "showlegend": true,
         "type": "scattergl",
         "x": [
          2008,
          2009,
          2010,
          2012,
          2017
         ],
         "xaxis": "x",
         "y": [
          2,
          2,
          2,
          3,
          3
         ],
         "yaxis": "y"
        },
        {
         "hovertemplate": "country_txt=Serbia-Montenegro<br>iyear=%{x}<br>nkill=%{y}<extra></extra>",
         "legendgroup": "Serbia-Montenegro",
         "line": {
          "color": "#00cc96",
          "dash": "solid"
         },
         "marker": {
          "symbol": "circle"
         },
         "mode": "lines",
         "name": "Serbia-Montenegro",
         "showlegend": true,
         "type": "scattergl",
         "x": [
          2003,
          2004,
          2005,
          2006
         ],
         "xaxis": "x",
         "y": [
          2,
          3,
          3,
          3
         ],
         "yaxis": "y"
        },
        {
         "hovertemplate": "country_txt=Seychelles<br>iyear=%{x}<br>nkill=%{y}<extra></extra>",
         "legendgroup": "Seychelles",
         "line": {
          "color": "#ab63fa",
          "dash": "solid"
         },
         "marker": {
          "symbol": "circle"
         },
         "mode": "lines",
         "name": "Seychelles",
         "showlegend": true,
         "type": "scattergl",
         "x": [
          1981
         ],
         "xaxis": "x",
         "y": [
          0
         ],
         "yaxis": "y"
        },
        {
         "hovertemplate": "country_txt=Sierra Leone<br>iyear=%{x}<br>nkill=%{y}<extra></extra>",
         "legendgroup": "Sierra Leone",
         "line": {
          "color": "#FFA15A",
          "dash": "solid"
         },
         "marker": {
          "symbol": "circle"
         },
         "mode": "lines",
         "name": "Sierra Leone",
         "showlegend": true,
         "type": "scattergl",
         "x": [
          1991,
          1992,
          1994,
          1995,
          1996,
          1997,
          1998,
          1999,
          2000,
          2016,
          2017
         ],
         "xaxis": "x",
         "y": [
          128,
          149,
          377,
          417,
          475,
          491,
          749,
          777,
          837,
          838,
          838
         ],
         "yaxis": "y"
        },
        {
         "hovertemplate": "country_txt=Singapore<br>iyear=%{x}<br>nkill=%{y}<extra></extra>",
         "legendgroup": "Singapore",
         "line": {
          "color": "#19d3f3",
          "dash": "solid"
         },
         "marker": {
          "symbol": "circle"
         },
         "mode": "lines",
         "name": "Singapore",
         "showlegend": true,
         "type": "scattergl",
         "x": [
          1974,
          1985,
          1987,
          1991,
          1992,
          1994
         ],
         "xaxis": "x",
         "y": [
          0,
          0,
          0,
          4,
          4,
          5
         ],
         "yaxis": "y"
        },
        {
         "hovertemplate": "country_txt=Slovak Republic<br>iyear=%{x}<br>nkill=%{y}<extra></extra>",
         "legendgroup": "Slovak Republic",
         "line": {
          "color": "#FF6692",
          "dash": "solid"
         },
         "marker": {
          "symbol": "circle"
         },
         "mode": "lines",
         "name": "Slovak Republic",
         "showlegend": true,
         "type": "scattergl",
         "x": [
          1994,
          1995,
          1996,
          1997,
          1998,
          1999,
          2000,
          2016
         ],
         "xaxis": "x",
         "y": [
          0,
          3,
          4,
          6,
          7,
          7,
          7,
          7
         ],
         "yaxis": "y"
        },
        {
         "hovertemplate": "country_txt=Slovenia<br>iyear=%{x}<br>nkill=%{y}<extra></extra>",
         "legendgroup": "Slovenia",
         "line": {
          "color": "#B6E880",
          "dash": "solid"
         },
         "marker": {
          "symbol": "circle"
         },
         "mode": "lines",
         "name": "Slovenia",
         "showlegend": true,
         "type": "scattergl",
         "x": [
          1994,
          1996,
          1997,
          2000
         ],
         "xaxis": "x",
         "y": [
          1,
          1,
          1,
          1
         ],
         "yaxis": "y"
        },
        {
         "hovertemplate": "country_txt=Solomon Islands<br>iyear=%{x}<br>nkill=%{y}<extra></extra>",
         "legendgroup": "Solomon Islands",
         "line": {
          "color": "#FF97FF",
          "dash": "solid"
         },
         "marker": {
          "symbol": "circle"
         },
         "mode": "lines",
         "name": "Solomon Islands",
         "showlegend": true,
         "type": "scattergl",
         "x": [
          1999,
          2000,
          2002,
          2003
         ],
         "xaxis": "x",
         "y": [
          2,
          2,
          3,
          4
         ],
         "yaxis": "y"
        },
        {
         "hovertemplate": "country_txt=Somalia<br>iyear=%{x}<br>nkill=%{y}<extra></extra>",
         "legendgroup": "Somalia",
         "line": {
          "color": "#FECB52",
          "dash": "solid"
         },
         "marker": {
          "symbol": "circle"
         },
         "mode": "lines",
         "name": "Somalia",
         "showlegend": true,
         "type": "scattergl",
         "x": [
          1975,
          1981,
          1983,
          1984,
          1987,
          1988,
          1989,
          1990,
          1991,
          1992,
          1994,
          1995,
          1996,
          1997,
          1998,
          1999,
          2000,
          2001,
          2002,
          2003,
          2004,
          2005,
          2006,
          2007,
          2008,
          2009,
          2010,
          2011,
          2012,
          2013,
          2014,
          2015,
          2016,
          2017
         ],
         "xaxis": "x",
         "y": [
          0,
          0,
          0,
          0,
          0,
          0,
          30,
          35,
          41,
          49,
          127,
          156,
          184,
          329,
          329,
          335,
          371,
          374,
          380,
          387,
          389,
          409,
          431,
          839,
          1275,
          1656,
          1951,
          2288,
          3071,
          3731,
          5320,
          6767,
          8350,
          10262
         ],
         "yaxis": "y"
        },
        {
         "hovertemplate": "country_txt=South Africa<br>iyear=%{x}<br>nkill=%{y}<extra></extra>",
         "legendgroup": "South Africa",
         "line": {
          "color": "#636efa",
          "dash": "solid"
         },
         "marker": {
          "symbol": "circle"
         },
         "mode": "lines",
         "name": "South Africa",
         "showlegend": true,
         "type": "scattergl",
         "x": [
          1974,
          1976,
          1977,
          1978,
          1979,
          1980,
          1981,
          1982,
          1983,
          1984,
          1985,
          1986,
          1987,
          1988,
          1989,
          1990,
          1991,
          1992,
          1994,
          1995,
          1996,
          1997,
          1998,
          1999,
          2000,
          2002,
          2007,
          2008,
          2012,
          2013,
          2014,
          2015,
          2016,
          2017
         ],
         "xaxis": "x",
         "y": [
          0,
          2,
          7,
          13,
          21,
          38,
          46,
          55,
          83,
          104,
          186,
          339,
          459,
          611,
          668,
          818,
          1202,
          1908,
          2355,
          2460,
          2542,
          2565,
          2578,
          2582,
          2600,
          2601,
          2602,
          2602,
          2607,
          2609,
          2618,
          2623,
          2644,
          2665
         ],
         "yaxis": "y"
        },
        {
         "hovertemplate": "country_txt=South Korea<br>iyear=%{x}<br>nkill=%{y}<extra></extra>",
         "legendgroup": "South Korea",
         "line": {
          "color": "#EF553B",
          "dash": "solid"
         },
         "marker": {
          "symbol": "circle"
         },
         "mode": "lines",
         "name": "South Korea",
         "showlegend": true,
         "type": "scattergl",
         "x": [
          1974,
          1982,
          1983,
          1986,
          1988,
          1989,
          1990,
          1991,
          1992,
          1994,
          1995,
          1996,
          2001,
          2003,
          2006,
          2015,
          2016
         ],
         "xaxis": "x",
         "y": [
          1,
          2,
          3,
          8,
          8,
          8,
          8,
          8,
          9,
          10,
          10,
          10,
          10,
          10,
          10,
          10,
          10
         ],
         "yaxis": "y"
        },
        {
         "hovertemplate": "country_txt=South Sudan<br>iyear=%{x}<br>nkill=%{y}<extra></extra>",
         "legendgroup": "South Sudan",
         "line": {
          "color": "#00cc96",
          "dash": "solid"
         },
         "marker": {
          "symbol": "circle"
         },
         "mode": "lines",
         "name": "South Sudan",
         "showlegend": true,
         "type": "scattergl",
         "x": [
          2012,
          2013,
          2014,
          2015,
          2016,
          2017
         ],
         "xaxis": "x",
         "y": [
          68,
          294,
          1202,
          1420,
          2053,
          2634
         ],
         "yaxis": "y"
        },
        {
         "hovertemplate": "country_txt=South Vietnam<br>iyear=%{x}<br>nkill=%{y}<extra></extra>",
         "legendgroup": "South Vietnam",
         "line": {
          "color": "#ab63fa",
          "dash": "solid"
         },
         "marker": {
          "symbol": "circle"
         },
         "mode": "lines",
         "name": "South Vietnam",
         "showlegend": true,
         "type": "scattergl",
         "x": [
          1972
         ],
         "xaxis": "x",
         "y": [
          81
         ],
         "yaxis": "y"
        },
        {
         "hovertemplate": "country_txt=South Yemen<br>iyear=%{x}<br>nkill=%{y}<extra></extra>",
         "legendgroup": "South Yemen",
         "line": {
          "color": "#FFA15A",
          "dash": "solid"
         },
         "marker": {
          "symbol": "circle"
         },
         "mode": "lines",
         "name": "South Yemen",
         "showlegend": true,
         "type": "scattergl",
         "x": [
          1971,
          1983
         ],
         "xaxis": "x",
         "y": [
          0,
          0
         ],
         "yaxis": "y"
        },
        {
         "hovertemplate": "country_txt=Soviet Union<br>iyear=%{x}<br>nkill=%{y}<extra></extra>",
         "legendgroup": "Soviet Union",
         "line": {
          "color": "#19d3f3",
          "dash": "solid"
         },
         "marker": {
          "symbol": "circle"
         },
         "mode": "lines",
         "name": "Soviet Union",
         "showlegend": true,
         "type": "scattergl",
         "x": [
          1978,
          1989,
          1990,
          1991
         ],
         "xaxis": "x",
         "y": [
          4,
          10,
          68,
          96
         ],
         "yaxis": "y"
        },
        {
         "hovertemplate": "country_txt=Spain<br>iyear=%{x}<br>nkill=%{y}<extra></extra>",
         "legendgroup": "Spain",
         "line": {
          "color": "#FF6692",
          "dash": "solid"
         },
         "marker": {
          "symbol": "circle"
         },
         "mode": "lines",
         "name": "Spain",
         "showlegend": true,
         "type": "scattergl",
         "x": [
          1970,
          1971,
          1972,
          1973,
          1974,
          1975,
          1976,
          1977,
          1978,
          1979,
          1980,
          1981,
          1982,
          1983,
          1984,
          1985,
          1986,
          1987,
          1988,
          1989,
          1990,
          1991,
          1992,
          1994,
          1995,
          1996,
          1997,
          1998,
          1999,
          2000,
          2001,
          2002,
          2003,
          2004,
          2005,
          2006,
          2007,
          2008,
          2009,
          2010,
          2012,
          2013,
          2014,
          2015,
          2016,
          2017
         ],
         "xaxis": "x",
         "y": [
          0,
          0,
          2,
          8,
          27,
          58,
          75,
          118,
          200,
          312,
          428,
          467,
          509,
          551,
          602,
          669,
          726,
          794,
          819,
          848,
          880,
          926,
          955,
          972,
          990,
          995,
          1006,
          1012,
          1012,
          1041,
          1055,
          1060,
          1063,
          1256,
          1256,
          1258,
          1258,
          1261,
          1264,
          1264,
          1264,
          1264,
          1264,
          1264,
          1264,
          1285
         ],
         "yaxis": "y"
        },
        {
         "hovertemplate": "country_txt=Sri Lanka<br>iyear=%{x}<br>nkill=%{y}<extra></extra>",
         "legendgroup": "Sri Lanka",
         "line": {
          "color": "#B6E880",
          "dash": "solid"
         },
         "marker": {
          "symbol": "circle"
         },
         "mode": "lines",
         "name": "Sri Lanka",
         "showlegend": true,
         "type": "scattergl",
         "x": [
          1975,
          1979,
          1981,
          1982,
          1983,
          1984,
          1985,
          1986,
          1987,
          1988,
          1989,
          1990,
          1991,
          1992,
          1994,
          1995,
          1996,
          1997,
          1998,
          1999,
          2000,
          2001,
          2002,
          2003,
          2004,
          2005,
          2006,
          2007,
          2008,
          2009,
          2010,
          2012,
          2013,
          2014,
          2015,
          2016,
          2017
         ],
         "xaxis": "x",
         "y": [
          1,
          3,
          6,
          13,
          19,
          477,
          1088,
          1778,
          3043,
          3928,
          5750,
          7247,
          8281,
          9265,
          9451,
          10471,
          11298,
          11784,
          12464,
          12676,
          13125,
          13320,
          13323,
          13346,
          13376,
          13501,
          14508,
          14913,
          15266,
          15467,
          15469,
          15469,
          15469,
          15472,
          15475,
          15475,
          15476
         ],
         "yaxis": "y"
        },
        {
         "hovertemplate": "country_txt=St. Kitts and Nevis<br>iyear=%{x}<br>nkill=%{y}<extra></extra>",
         "legendgroup": "St. Kitts and Nevis",
         "line": {
          "color": "#FF97FF",
          "dash": "solid"
         },
         "marker": {
          "symbol": "circle"
         },
         "mode": "lines",
         "name": "St. Kitts and Nevis",
         "showlegend": true,
         "type": "scattergl",
         "x": [
          1995
         ],
         "xaxis": "x",
         "y": [
          0
         ],
         "yaxis": "y"
        },
        {
         "hovertemplate": "country_txt=St. Lucia<br>iyear=%{x}<br>nkill=%{y}<extra></extra>",
         "legendgroup": "St. Lucia",
         "line": {
          "color": "#FECB52",
          "dash": "solid"
         },
         "marker": {
          "symbol": "circle"
         },
         "mode": "lines",
         "name": "St. Lucia",
         "showlegend": true,
         "type": "scattergl",
         "x": [
          2000
         ],
         "xaxis": "x",
         "y": [
          2
         ],
         "yaxis": "y"
        },
        {
         "hovertemplate": "country_txt=Sudan<br>iyear=%{x}<br>nkill=%{y}<extra></extra>",
         "legendgroup": "Sudan",
         "line": {
          "color": "#636efa",
          "dash": "solid"
         },
         "marker": {
          "symbol": "circle"
         },
         "mode": "lines",
         "name": "Sudan",
         "showlegend": true,
         "type": "scattergl",
         "x": [
          1973,
          1981,
          1982,
          1983,
          1984,
          1986,
          1987,
          1988,
          1989,
          1990,
          1991,
          1992,
          1994,
          1995,
          1996,
          1997,
          1999,
          2000,
          2001,
          2002,
          2004,
          2005,
          2006,
          2007,
          2008,
          2009,
          2010,
          2011,
          2012,
          2013,
          2014,
          2015,
          2016,
          2017
         ],
         "xaxis": "x",
         "y": [
          3,
          5,
          5,
          5,
          310,
          318,
          318,
          376,
          390,
          390,
          422,
          435,
          452,
          458,
          498,
          499,
          515,
          538,
          551,
          1116,
          1144,
          1198,
          1682,
          1999,
          2204,
          2281,
          2361,
          2550,
          2610,
          2830,
          3376,
          3586,
          3768,
          3850
         ],
         "yaxis": "y"
        },
        {
         "hovertemplate": "country_txt=Suriname<br>iyear=%{x}<br>nkill=%{y}<extra></extra>",
         "legendgroup": "Suriname",
         "line": {
          "color": "#EF553B",
          "dash": "solid"
         },
         "marker": {
          "symbol": "circle"
         },
         "mode": "lines",
         "name": "Suriname",
         "showlegend": true,
         "type": "scattergl",
         "x": [
          1983,
          1984,
          1986,
          1987,
          1988,
          1989,
          1990,
          1991,
          1992,
          1994,
          1997
         ],
         "xaxis": "x",
         "y": [
          0,
          0,
          2,
          8,
          14,
          28,
          28,
          29,
          29,
          29,
          29
         ],
         "yaxis": "y"
        },
        {
         "hovertemplate": "country_txt=Swaziland<br>iyear=%{x}<br>nkill=%{y}<extra></extra>",
         "legendgroup": "Swaziland",
         "line": {
          "color": "#00cc96",
          "dash": "solid"
         },
         "marker": {
          "symbol": "circle"
         },
         "mode": "lines",
         "name": "Swaziland",
         "showlegend": true,
         "type": "scattergl",
         "x": [
          1982,
          1984,
          1986,
          1987,
          1989,
          1991,
          1992,
          1995,
          1997,
          1998,
          1999,
          2003,
          2006,
          2008
         ],
         "xaxis": "x",
         "y": [
          0,
          1,
          1,
          5,
          5,
          5,
          5,
          5,
          5,
          6,
          6,
          6,
          6,
          6
         ],
         "yaxis": "y"
        },
        {
         "hovertemplate": "country_txt=Sweden<br>iyear=%{x}<br>nkill=%{y}<extra></extra>",
         "legendgroup": "Sweden",
         "line": {
          "color": "#ab63fa",
          "dash": "solid"
         },
         "marker": {
          "symbol": "circle"
         },
         "mode": "lines",
         "name": "Sweden",
         "showlegend": true,
         "type": "scattergl",
         "x": [
          1971,
          1972,
          1975,
          1978,
          1979,
          1983,
          1986,
          1989,
          1990,
          1991,
          1992,
          1994,
          1995,
          1996,
          1997,
          1999,
          2000,
          2005,
          2006,
          2008,
          2009,
          2010,
          2011,
          2012,
          2014,
          2015,
          2016,
          2017
         ],
         "xaxis": "x",
         "y": [
          1,
          1,
          4,
          4,
          5,
          6,
          7,
          7,
          8,
          9,
          11,
          11,
          11,
          11,
          12,
          12,
          12,
          12,
          12,
          12,
          12,
          13,
          13,
          13,
          13,
          17,
          17,
          22
         ],
         "yaxis": "y"
        },
        {
         "hovertemplate": "country_txt=Switzerland<br>iyear=%{x}<br>nkill=%{y}<extra></extra>",
         "legendgroup": "Switzerland",
         "line": {
          "color": "#FFA15A",
          "dash": "solid"
         },
         "marker": {
          "symbol": "circle"
         },
         "mode": "lines",
         "name": "Switzerland",
         "showlegend": true,
         "type": "scattergl",
         "x": [
          1970,
          1971,
          1972,
          1973,
          1974,
          1975,
          1976,
          1977,
          1978,
          1979,
          1980,
          1981,
          1982,
          1983,
          1984,
          1985,
          1987,
          1988,
          1990,
          1991,
          1992,
          1995,
          1996,
          1997,
          1998,
          1999,
          2000,
          2001,
          2003,
          2007,
          2011,
          2013,
          2016
         ],
         "xaxis": "x",
         "y": [
          47,
          47,
          47,
          47,
          47,
          47,
          47,
          47,
          47,
          48,
          48,
          50,
          50,
          50,
          50,
          50,
          51,
          51,
          52,
          52,
          58,
          59,
          60,
          60,
          60,
          60,
          60,
          74,
          74,
          74,
          74,
          74,
          74
         ],
         "yaxis": "y"
        },
        {
         "hovertemplate": "country_txt=Syria<br>iyear=%{x}<br>nkill=%{y}<extra></extra>",
         "legendgroup": "Syria",
         "line": {
          "color": "#19d3f3",
          "dash": "solid"
         },
         "marker": {
          "symbol": "circle"
         },
         "mode": "lines",
         "name": "Syria",
         "showlegend": true,
         "type": "scattergl",
         "x": [
          1974,
          1975,
          1976,
          1977,
          1978,
          1979,
          1980,
          1981,
          1982,
          1983,
          1984,
          1985,
          1986,
          1989,
          1996,
          1997,
          1998,
          2004,
          2006,
          2008,
          2011,
          2012,
          2013,
          2014,
          2015,
          2016,
          2017
         ],
         "xaxis": "x",
         "y": [
          1,
          1,
          6,
          7,
          7,
          82,
          169,
          355,
          453,
          454,
          454,
          484,
          492,
          492,
          507,
          509,
          509,
          513,
          518,
          536,
          699,
          1576,
          3144,
          6456,
          10380,
          13190,
          15216
         ],
         "yaxis": "y"
        },
        {
         "hovertemplate": "country_txt=Taiwan<br>iyear=%{x}<br>nkill=%{y}<extra></extra>",
         "legendgroup": "Taiwan",
         "line": {
          "color": "#FF6692",
          "dash": "solid"
         },
         "marker": {
          "symbol": "circle"
         },
         "mode": "lines",
         "name": "Taiwan",
         "showlegend": true,
         "type": "scattergl",
         "x": [
          1971,
          1976,
          1990,
          1991,
          1992,
          1994,
          1995,
          1996,
          1997,
          2001,
          2004,
          2008,
          2013,
          2014,
          2016,
          2017
         ],
         "xaxis": "x",
         "y": [
          25,
          25,
          25,
          32,
          48,
          49,
          49,
          58,
          58,
          60,
          60,
          60,
          60,
          60,
          60,
          60
         ],
         "yaxis": "y"
        },
        {
         "hovertemplate": "country_txt=Tajikistan<br>iyear=%{x}<br>nkill=%{y}<extra></extra>",
         "legendgroup": "Tajikistan",
         "line": {
          "color": "#B6E880",
          "dash": "solid"
         },
         "marker": {
          "symbol": "circle"
         },
         "mode": "lines",
         "name": "Tajikistan",
         "showlegend": true,
         "type": "scattergl",
         "x": [
          1992,
          1994,
          1995,
          1996,
          1997,
          1998,
          1999,
          2000,
          2001,
          2005,
          2007,
          2009,
          2010,
          2012,
          2014,
          2015,
          2016,
          2017
         ],
         "xaxis": "x",
         "y": [
          14,
          62,
          140,
          190,
          233,
          262,
          264,
          275,
          283,
          283,
          284,
          284,
          288,
          291,
          292,
          304,
          306,
          307
         ],
         "yaxis": "y"
        },
        {
         "hovertemplate": "country_txt=Tanzania<br>iyear=%{x}<br>nkill=%{y}<extra></extra>",
         "legendgroup": "Tanzania",
         "line": {
          "color": "#FF97FF",
          "dash": "solid"
         },
         "marker": {
          "symbol": "circle"
         },
         "mode": "lines",
         "name": "Tanzania",
         "showlegend": true,
         "type": "scattergl",
         "x": [
          1975,
          1979,
          1982,
          1994,
          1995,
          1997,
          1998,
          2000,
          2001,
          2002,
          2004,
          2008,
          2010,
          2013,
          2014,
          2015,
          2016,
          2017
         ],
         "xaxis": "x",
         "y": [
          0,
          1,
          1,
          2,
          2,
          3,
          14,
          14,
          16,
          40,
          40,
          40,
          40,
          48,
          52,
          62,
          65,
          73
         ],
         "yaxis": "y"
        },
        {
         "hovertemplate": "country_txt=Thailand<br>iyear=%{x}<br>nkill=%{y}<extra></extra>",
         "legendgroup": "Thailand",
         "line": {
          "color": "#FECB52",
          "dash": "solid"
         },
         "marker": {
          "symbol": "circle"
         },
         "mode": "lines",
         "name": "Thailand",
         "showlegend": true,
         "type": "scattergl",
         "x": [
          1972,
          1974,
          1977,
          1978,
          1979,
          1980,
          1981,
          1982,
          1983,
          1984,
          1985,
          1986,
          1988,
          1989,
          1990,
          1991,
          1992,
          1994,
          1995,
          1996,
          1997,
          1998,
          1999,
          2000,
          2001,
          2002,
          2003,
          2004,
          2005,
          2006,
          2007,
          2008,
          2009,
          2010,
          2011,
          2012,
          2013,
          2014,
          2015,
          2016,
          2017
         ],
         "xaxis": "x",
         "y": [
          0,
          2,
          3,
          32,
          94,
          165,
          186,
          187,
          187,
          187,
          187,
          187,
          197,
          232,
          254,
          265,
          304,
          321,
          340,
          350,
          368,
          372,
          372,
          379,
          390,
          406,
          412,
          444,
          574,
          766,
          1030,
          1196,
          1465,
          1619,
          1771,
          1980,
          2235,
          2427,
          2543,
          2663,
          2735
         ],
         "yaxis": "y"
        },
        {
         "hovertemplate": "country_txt=Togo<br>iyear=%{x}<br>nkill=%{y}<extra></extra>",
         "legendgroup": "Togo",
         "line": {
          "color": "#636efa",
          "dash": "solid"
         },
         "marker": {
          "symbol": "circle"
         },
         "mode": "lines",
         "name": "Togo",
         "showlegend": true,
         "type": "scattergl",
         "x": [
          1985,
          1991,
          1992,
          1994,
          1995,
          1996,
          2005
         ],
         "xaxis": "x",
         "y": [
          1,
          14,
          26,
          73,
          73,
          76,
          76
         ],
         "yaxis": "y"
        },
        {
         "hovertemplate": "country_txt=Trinidad and Tobago<br>iyear=%{x}<br>nkill=%{y}<extra></extra>",
         "legendgroup": "Trinidad and Tobago",
         "line": {
          "color": "#EF553B",
          "dash": "solid"
         },
         "marker": {
          "symbol": "circle"
         },
         "mode": "lines",
         "name": "Trinidad and Tobago",
         "showlegend": true,
         "type": "scattergl",
         "x": [
          1976,
          1979,
          1981,
          1983,
          1989,
          1991,
          1992,
          1994,
          1995,
          1996,
          2005,
          2010,
          2013,
          2015
         ],
         "xaxis": "x",
         "y": [
          0,
          0,
          0,
          0,
          0,
          0,
          0,
          2,
          6,
          6,
          6,
          6,
          6,
          6
         ],
         "yaxis": "y"
        },
        {
         "hovertemplate": "country_txt=Tunisia<br>iyear=%{x}<br>nkill=%{y}<extra></extra>",
         "legendgroup": "Tunisia",
         "line": {
          "color": "#00cc96",
          "dash": "solid"
         },
         "marker": {
          "symbol": "circle"
         },
         "mode": "lines",
         "name": "Tunisia",
         "showlegend": true,
         "type": "scattergl",
         "x": [
          1979,
          1980,
          1986,
          1987,
          1991,
          1994,
          1995,
          2000,
          2001,
          2002,
          2007,
          2008,
          2011,
          2012,
          2013,
          2014,
          2015,
          2016,
          2017
         ],
         "xaxis": "x",
         "y": [
          0,
          41,
          41,
          41,
          45,
          46,
          53,
          58,
          61,
          82,
          96,
          96,
          100,
          104,
          129,
          172,
          275,
          346,
          351
         ],
         "yaxis": "y"
        },
        {
         "hovertemplate": "country_txt=Turkey<br>iyear=%{x}<br>nkill=%{y}<extra></extra>",
         "legendgroup": "Turkey",
         "line": {
          "color": "#ab63fa",
          "dash": "solid"
         },
         "marker": {
          "symbol": "circle"
         },
         "mode": "lines",
         "name": "Turkey",
         "showlegend": true,
         "type": "scattergl",
         "x": [
          1970,
          1971,
          1972,
          1974,
          1975,
          1976,
          1977,
          1978,
          1979,
          1980,
          1981,
          1982,
          1983,
          1984,
          1985,
          1986,
          1987,
          1988,
          1989,
          1990,
          1991,
          1992,
          1994,
          1995,
          1996,
          1997,
          1998,
          1999,
          2000,
          2001,
          2002,
          2003,
          2004,
          2005,
          2006,
          2007,
          2008,
          2009,
          2010,
          2011,
          2012,
          2013,
          2014,
          2015,
          2016,
          2017
         ],
         "xaxis": "x",
         "y": [
          0,
          1,
          4,
          4,
          4,
          11,
          40,
          74,
          197,
          299,
          310,
          319,
          321,
          348,
          349,
          375,
          562,
          664,
          896,
          1408,
          1716,
          2949,
          3900,
          4089,
          4206,
          4266,
          4303,
          4430,
          4439,
          4456,
          4456,
          4523,
          4548,
          4583,
          4629,
          4654,
          4696,
          4714,
          4727,
          4752,
          4999,
          5082,
          5121,
          5611,
          6617,
          6839
         ],
         "yaxis": "y"
        },
        {
         "hovertemplate": "country_txt=Turkmenistan<br>iyear=%{x}<br>nkill=%{y}<extra></extra>",
         "legendgroup": "Turkmenistan",
         "line": {
          "color": "#FFA15A",
          "dash": "solid"
         },
         "marker": {
          "symbol": "circle"
         },
         "mode": "lines",
         "name": "Turkmenistan",
         "showlegend": true,
         "type": "scattergl",
         "x": [
          2002,
          2014
         ],
         "xaxis": "x",
         "y": [
          0,
          3
         ],
         "yaxis": "y"
        },
        {
         "hovertemplate": "country_txt=Uganda<br>iyear=%{x}<br>nkill=%{y}<extra></extra>",
         "legendgroup": "Uganda",
         "line": {
          "color": "#19d3f3",
          "dash": "solid"
         },
         "marker": {
          "symbol": "circle"
         },
         "mode": "lines",
         "name": "Uganda",
         "showlegend": true,
         "type": "scattergl",
         "x": [
          1979,
          1981,
          1982,
          1983,
          1984,
          1985,
          1986,
          1987,
          1988,
          1989,
          1990,
          1991,
          1992,
          1994,
          1995,
          1996,
          1997,
          1998,
          1999,
          2000,
          2001,
          2002,
          2003,
          2004,
          2005,
          2007,
          2008,
          2009,
          2010,
          2012,
          2014,
          2015,
          2016,
          2017
         ],
         "xaxis": "x",
         "y": [
          13,
          66,
          66,
          179,
          414,
          446,
          447,
          448,
          608,
          680,
          764,
          766,
          768,
          790,
          935,
          1348,
          1587,
          1668,
          1743,
          2040,
          2096,
          2269,
          2500,
          2693,
          2773,
          2775,
          2778,
          2789,
          2864,
          2869,
          2967,
          2971,
          3046,
          3053
         ],
         "yaxis": "y"
        },
        {
         "hovertemplate": "country_txt=Ukraine<br>iyear=%{x}<br>nkill=%{y}<extra></extra>",
         "legendgroup": "Ukraine",
         "line": {
          "color": "#FF6692",
          "dash": "solid"
         },
         "marker": {
          "symbol": "circle"
         },
         "mode": "lines",
         "name": "Ukraine",
         "showlegend": true,
         "type": "scattergl",
         "x": [
          1991,
          1992,
          1994,
          1995,
          1996,
          1997,
          1999,
          2000,
          2002,
          2003,
          2007,
          2008,
          2009,
          2010,
          2011,
          2012,
          2013,
          2014,
          2015,
          2016,
          2017
         ],
         "xaxis": "x",
         "y": [
          0,
          1,
          5,
          5,
          5,
          7,
          8,
          8,
          9,
          9,
          9,
          9,
          9,
          10,
          10,
          11,
          12,
          1408,
          2173,
          2221,
          2261
         ],
         "yaxis": "y"
        },
        {
         "hovertemplate": "country_txt=United Arab Emirates<br>iyear=%{x}<br>nkill=%{y}<extra></extra>",
         "legendgroup": "United Arab Emirates",
         "line": {
          "color": "#B6E880",
          "dash": "solid"
         },
         "marker": {
          "symbol": "circle"
         },
         "mode": "lines",
         "name": "United Arab Emirates",
         "showlegend": true,
         "type": "scattergl",
         "x": [
          1974,
          1977,
          1979,
          1980,
          1981,
          1983,
          1985,
          1986,
          1989,
          1992,
          1995,
          2010,
          2013,
          2014
         ],
         "xaxis": "x",
         "y": [
          1,
          2,
          2,
          3,
          5,
          116,
          116,
          116,
          117,
          117,
          117,
          117,
          117,
          118
         ],
         "yaxis": "y"
        },
        {
         "hovertemplate": "country_txt=United Kingdom<br>iyear=%{x}<br>nkill=%{y}<extra></extra>",
         "legendgroup": "United Kingdom",
         "line": {
          "color": "#FF97FF",
          "dash": "solid"
         },
         "marker": {
          "symbol": "circle"
         },
         "mode": "lines",
         "name": "United Kingdom",
         "showlegend": true,
         "type": "scattergl",
         "x": [
          1970,
          1971,
          1972,
          1973,
          1974,
          1975,
          1976,
          1977,
          1978,
          1979,
          1980,
          1981,
          1982,
          1983,
          1984,
          1985,
          1986,
          1987,
          1988,
          1989,
          1990,
          1991,
          1992,
          1994,
          1995,
          1996,
          1997,
          1998,
          1999,
          2000,
          2001,
          2002,
          2003,
          2004,
          2005,
          2006,
          2007,
          2008,
          2009,
          2010,
          2011,
          2012,
          2013,
          2014,
          2015,
          2016,
          2017
         ],
         "xaxis": "x",
         "y": [
          20,
          130,
          498,
          708,
          943,
          1185,
          1449,
          1552,
          1633,
          1766,
          1843,
          1928,
          2023,
          2100,
          2169,
          2233,
          2296,
          2400,
          2772,
          2838,
          2912,
          3000,
          3094,
          3160,
          3171,
          3185,
          3208,
          3254,
          3261,
          3268,
          3276,
          3278,
          3280,
          3280,
          3337,
          3337,
          3341,
          3341,
          3344,
          3344,
          3345,
          3347,
          3351,
          3351,
          3352,
          3361,
          3403
         ],
         "yaxis": "y"
        },
        {
         "hovertemplate": "country_txt=United States<br>iyear=%{x}<br>nkill=%{y}<extra></extra>",
         "legendgroup": "United States",
         "line": {
          "color": "#FECB52",
          "dash": "solid"
         },
         "marker": {
          "symbol": "circle"
         },
         "mode": "lines",
         "name": "United States",
         "showlegend": true,
         "type": "scattergl",
         "x": [
          1970,
          1971,
          1972,
          1973,
          1974,
          1975,
          1976,
          1977,
          1978,
          1979,
          1980,
          1981,
          1982,
          1983,
          1984,
          1985,
          1986,
          1987,
          1988,
          1989,
          1990,
          1991,
          1992,
          1994,
          1995,
          1996,
          1997,
          1998,
          1999,
          2000,
          2001,
          2002,
          2003,
          2004,
          2005,
          2006,
          2007,
          2008,
          2009,
          2010,
          2011,
          2012,
          2013,
          2014,
          2015,
          2016,
          2017
         ],
         "xaxis": "x",
         "y": [
          33,
          53,
          63,
          108,
          124,
          148,
          152,
          156,
          164,
          182,
          196,
          204,
          215,
          223,
          226,
          229,
          230,
          231,
          232,
          235,
          240,
          242,
          244,
          254,
          432,
          434,
          436,
          440,
          460,
          460,
          3468,
          3472,
          3472,
          3472,
          3472,
          3473,
          3473,
          3475,
          3493,
          3497,
          3497,
          3504,
          3527,
          3553,
          3607,
          3675,
          3770
         ],
         "yaxis": "y"
        },
        {
         "hovertemplate": "country_txt=Uruguay<br>iyear=%{x}<br>nkill=%{y}<extra></extra>",
         "legendgroup": "Uruguay",
         "line": {
          "color": "#636efa",
          "dash": "solid"
         },
         "marker": {
          "symbol": "circle"
         },
         "mode": "lines",
         "name": "Uruguay",
         "showlegend": true,
         "type": "scattergl",
         "x": [
          1970,
          1971,
          1972,
          1984,
          1985,
          1986,
          1989,
          1990,
          1991,
          1992,
          1994,
          1995,
          1996,
          1997,
          2005,
          2016
         ],
         "xaxis": "x",
         "y": [
          1,
          2,
          2,
          2,
          2,
          2,
          3,
          3,
          3,
          3,
          3,
          3,
          3,
          3,
          3,
          4
         ],
         "yaxis": "y"
        },
        {
         "hovertemplate": "country_txt=Uzbekistan<br>iyear=%{x}<br>nkill=%{y}<extra></extra>",
         "legendgroup": "Uzbekistan",
         "line": {
          "color": "#EF553B",
          "dash": "solid"
         },
         "marker": {
          "symbol": "circle"
         },
         "mode": "lines",
         "name": "Uzbekistan",
         "showlegend": true,
         "type": "scattergl",
         "x": [
          1992,
          1995,
          1999,
          2004,
          2005,
          2009,
          2015
         ],
         "xaxis": "x",
         "y": [
          0,
          0,
          19,
          55,
          65,
          68,
          68
         ],
         "yaxis": "y"
        },
        {
         "hovertemplate": "country_txt=Vanuatu<br>iyear=%{x}<br>nkill=%{y}<extra></extra>",
         "legendgroup": "Vanuatu",
         "line": {
          "color": "#00cc96",
          "dash": "solid"
         },
         "marker": {
          "symbol": "circle"
         },
         "mode": "lines",
         "name": "Vanuatu",
         "showlegend": true,
         "type": "scattergl",
         "x": [
          1996
         ],
         "xaxis": "x",
         "y": [
          0
         ],
         "yaxis": "y"
        },
        {
         "hovertemplate": "country_txt=Vatican City<br>iyear=%{x}<br>nkill=%{y}<extra></extra>",
         "legendgroup": "Vatican City",
         "line": {
          "color": "#ab63fa",
          "dash": "solid"
         },
         "marker": {
          "symbol": "circle"
         },
         "mode": "lines",
         "name": "Vatican City",
         "showlegend": true,
         "type": "scattergl",
         "x": [
          1981
         ],
         "xaxis": "x",
         "y": [
          0
         ],
         "yaxis": "y"
        },
        {
         "hovertemplate": "country_txt=Venezuela<br>iyear=%{x}<br>nkill=%{y}<extra></extra>",
         "legendgroup": "Venezuela",
         "line": {
          "color": "#FFA15A",
          "dash": "solid"
         },
         "marker": {
          "symbol": "circle"
         },
         "mode": "lines",
         "name": "Venezuela",
         "showlegend": true,
         "type": "scattergl",
         "x": [
          1970,
          1971,
          1972,
          1973,
          1974,
          1975,
          1976,
          1977,
          1978,
          1979,
          1980,
          1981,
          1982,
          1983,
          1984,
          1985,
          1986,
          1987,
          1988,
          1989,
          1990,
          1991,
          1992,
          1994,
          1995,
          1996,
          1997,
          1998,
          1999,
          2001,
          2002,
          2003,
          2007,
          2008,
          2009,
          2012,
          2013,
          2014,
          2015,
          2016,
          2017
         ],
         "xaxis": "x",
         "y": [
          0,
          0,
          0,
          0,
          0,
          0,
          0,
          1,
          2,
          2,
          5,
          7,
          37,
          44,
          46,
          46,
          59,
          62,
          103,
          117,
          117,
          164,
          171,
          175,
          183,
          196,
          199,
          199,
          199,
          199,
          199,
          199,
          200,
          201,
          211,
          211,
          211,
          212,
          213,
          222,
          227
         ],
         "yaxis": "y"
        },
        {
         "hovertemplate": "country_txt=Vietnam<br>iyear=%{x}<br>nkill=%{y}<extra></extra>",
         "legendgroup": "Vietnam",
         "line": {
          "color": "#19d3f3",
          "dash": "solid"
         },
         "marker": {
          "symbol": "circle"
         },
         "mode": "lines",
         "name": "Vietnam",
         "showlegend": true,
         "type": "scattergl",
         "x": [
          1992,
          1994,
          1995,
          1996,
          1997,
          2001,
          2017
         ],
         "xaxis": "x",
         "y": [
          0,
          0,
          0,
          0,
          1,
          1,
          1
         ],
         "yaxis": "y"
        },
        {
         "hovertemplate": "country_txt=Wallis and Futuna<br>iyear=%{x}<br>nkill=%{y}<extra></extra>",
         "legendgroup": "Wallis and Futuna",
         "line": {
          "color": "#FF6692",
          "dash": "solid"
         },
         "marker": {
          "symbol": "circle"
         },
         "mode": "lines",
         "name": "Wallis and Futuna",
         "showlegend": true,
         "type": "scattergl",
         "x": [
          1994
         ],
         "xaxis": "x",
         "y": [
          0
         ],
         "yaxis": "y"
        },
        {
         "hovertemplate": "country_txt=West Bank and Gaza Strip<br>iyear=%{x}<br>nkill=%{y}<extra></extra>",
         "legendgroup": "West Bank and Gaza Strip",
         "line": {
          "color": "#B6E880",
          "dash": "solid"
         },
         "marker": {
          "symbol": "circle"
         },
         "mode": "lines",
         "name": "West Bank and Gaza Strip",
         "showlegend": true,
         "type": "scattergl",
         "x": [
          1972,
          1976,
          1978,
          1979,
          1980,
          1981,
          1982,
          1983,
          1984,
          1985,
          1986,
          1987,
          1988,
          1989,
          1990,
          1991,
          1992,
          1994,
          1995,
          1996,
          1997,
          1998,
          1999,
          2000,
          2001,
          2002,
          2003,
          2004,
          2005,
          2006,
          2007,
          2008,
          2009,
          2010,
          2011,
          2012,
          2013,
          2014,
          2015,
          2016,
          2017
         ],
         "xaxis": "x",
         "y": [
          1,
          3,
          9,
          10,
          41,
          47,
          54,
          63,
          68,
          68,
          72,
          75,
          85,
          157,
          219,
          262,
          355,
          484,
          527,
          544,
          553,
          565,
          566,
          587,
          692,
          868,
          928,
          959,
          979,
          997,
          1109,
          1126,
          1133,
          1133,
          1148,
          1160,
          1172,
          1239,
          1356,
          1446,
          1496
         ],
         "yaxis": "y"
        },
        {
         "hovertemplate": "country_txt=West Germany (FRG)<br>iyear=%{x}<br>nkill=%{y}<extra></extra>",
         "legendgroup": "West Germany (FRG)",
         "line": {
          "color": "#FF97FF",
          "dash": "solid"
         },
         "marker": {
          "symbol": "circle"
         },
         "mode": "lines",
         "name": "West Germany (FRG)",
         "showlegend": true,
         "type": "scattergl",
         "x": [
          1970,
          1971,
          1972,
          1973,
          1974,
          1975,
          1976,
          1977,
          1978,
          1979,
          1980,
          1981,
          1982,
          1983,
          1984,
          1985,
          1986,
          1987,
          1988,
          1989,
          1990
         ],
         "xaxis": "x",
         "y": [
          8,
          8,
          31,
          32,
          33,
          34,
          38,
          44,
          44,
          44,
          61,
          63,
          68,
          70,
          70,
          79,
          88,
          90,
          91,
          96,
          97
         ],
         "yaxis": "y"
        },
        {
         "hovertemplate": "country_txt=Western Sahara<br>iyear=%{x}<br>nkill=%{y}<extra></extra>",
         "legendgroup": "Western Sahara",
         "line": {
          "color": "#FECB52",
          "dash": "solid"
         },
         "marker": {
          "symbol": "circle"
         },
         "mode": "lines",
         "name": "Western Sahara",
         "showlegend": true,
         "type": "scattergl",
         "x": [
          1978,
          1984,
          1986,
          1992,
          2007
         ],
         "xaxis": "x",
         "y": [
          0,
          0,
          1,
          1,
          1
         ],
         "yaxis": "y"
        },
        {
         "hovertemplate": "country_txt=Yemen<br>iyear=%{x}<br>nkill=%{y}<extra></extra>",
         "legendgroup": "Yemen",
         "line": {
          "color": "#636efa",
          "dash": "solid"
         },
         "marker": {
          "symbol": "circle"
         },
         "mode": "lines",
         "name": "Yemen",
         "showlegend": true,
         "type": "scattergl",
         "x": [
          1991,
          1992,
          1994,
          1995,
          1996,
          1997,
          1998,
          1999,
          2000,
          2001,
          2002,
          2003,
          2005,
          2006,
          2007,
          2008,
          2009,
          2010,
          2011,
          2012,
          2013,
          2014,
          2015,
          2016,
          2017
         ],
         "xaxis": "x",
         "y": [
          0,
          20,
          34,
          38,
          41,
          52,
          60,
          71,
          90,
          92,
          96,
          112,
          124,
          138,
          162,
          236,
          283,
          628,
          1089,
          2145,
          2769,
          4122,
          6496,
          8013,
          8775
         ],
         "yaxis": "y"
        },
        {
         "hovertemplate": "country_txt=Yugoslavia<br>iyear=%{x}<br>nkill=%{y}<extra></extra>",
         "legendgroup": "Yugoslavia",
         "line": {
          "color": "#EF553B",
          "dash": "solid"
         },
         "marker": {
          "symbol": "circle"
         },
         "mode": "lines",
         "name": "Yugoslavia",
         "showlegend": true,
         "type": "scattergl",
         "x": [
          1973,
          1974,
          1977,
          1980,
          1981,
          1983,
          1984,
          1989,
          1990,
          1991,
          1992,
          1994,
          1995,
          1996,
          1997,
          1998,
          1999,
          2000,
          2001,
          2002
         ],
         "xaxis": "x",
         "y": [
          1,
          1,
          2,
          2,
          2,
          4,
          6,
          6,
          6,
          12,
          15,
          15,
          17,
          26,
          35,
          92,
          106,
          111,
          119,
          119
         ],
         "yaxis": "y"
        },
        {
         "hovertemplate": "country_txt=Zaire<br>iyear=%{x}<br>nkill=%{y}<extra></extra>",
         "legendgroup": "Zaire",
         "line": {
          "color": "#00cc96",
          "dash": "solid"
         },
         "marker": {
          "symbol": "circle"
         },
         "mode": "lines",
         "name": "Zaire",
         "showlegend": true,
         "type": "scattergl",
         "x": [
          1972,
          1973,
          1977,
          1984,
          1988,
          1991,
          1992,
          1994,
          1995,
          1996,
          1997
         ],
         "xaxis": "x",
         "y": [
          0,
          0,
          1,
          3,
          31,
          34,
          36,
          37,
          80,
          303,
          316
         ],
         "yaxis": "y"
        },
        {
         "hovertemplate": "country_txt=Zambia<br>iyear=%{x}<br>nkill=%{y}<extra></extra>",
         "legendgroup": "Zambia",
         "line": {
          "color": "#ab63fa",
          "dash": "solid"
         },
         "marker": {
          "symbol": "circle"
         },
         "mode": "lines",
         "name": "Zambia",
         "showlegend": true,
         "type": "scattergl",
         "x": [
          1971,
          1973,
          1975,
          1977,
          1978,
          1979,
          1981,
          1985,
          1986,
          1987,
          1988,
          1989,
          1990,
          1995,
          1996,
          1999,
          2000,
          2002,
          2017
         ],
         "xaxis": "x",
         "y": [
          1,
          3,
          4,
          5,
          5,
          5,
          5,
          5,
          7,
          7,
          16,
          49,
          69,
          69,
          69,
          70,
          70,
          70,
          70
         ],
         "yaxis": "y"
        },
        {
         "hovertemplate": "country_txt=Zimbabwe<br>iyear=%{x}<br>nkill=%{y}<extra></extra>",
         "legendgroup": "Zimbabwe",
         "line": {
          "color": "#FFA15A",
          "dash": "solid"
         },
         "marker": {
          "symbol": "circle"
         },
         "mode": "lines",
         "name": "Zimbabwe",
         "showlegend": true,
         "type": "scattergl",
         "x": [
          1980,
          1981,
          1982,
          1983,
          1984,
          1985,
          1986,
          1987,
          1988,
          1989,
          1990,
          1991,
          1992,
          1994,
          1995,
          2000,
          2001,
          2002,
          2003,
          2006,
          2007,
          2008,
          2010,
          2011,
          2013,
          2014,
          2017
         ],
         "xaxis": "x",
         "y": [
          13,
          26,
          48,
          59,
          63,
          68,
          69,
          104,
          106,
          127,
          136,
          136,
          136,
          136,
          136,
          136,
          136,
          144,
          144,
          144,
          144,
          151,
          152,
          152,
          153,
          153,
          153
         ],
         "yaxis": "y"
        }
       ],
       "layout": {
        "legend": {
         "title": {
          "text": "country_txt"
         },
         "tracegroupgap": 0
        },
        "margin": {
         "t": 60
        },
        "template": {
         "data": {
          "bar": [
           {
            "error_x": {
             "color": "#2a3f5f"
            },
            "error_y": {
             "color": "#2a3f5f"
            },
            "marker": {
             "line": {
              "color": "#E5ECF6",
              "width": 0.5
             },
             "pattern": {
              "fillmode": "overlay",
              "size": 10,
              "solidity": 0.2
             }
            },
            "type": "bar"
           }
          ],
          "barpolar": [
           {
            "marker": {
             "line": {
              "color": "#E5ECF6",
              "width": 0.5
             },
             "pattern": {
              "fillmode": "overlay",
              "size": 10,
              "solidity": 0.2
             }
            },
            "type": "barpolar"
           }
          ],
          "carpet": [
           {
            "aaxis": {
             "endlinecolor": "#2a3f5f",
             "gridcolor": "white",
             "linecolor": "white",
             "minorgridcolor": "white",
             "startlinecolor": "#2a3f5f"
            },
            "baxis": {
             "endlinecolor": "#2a3f5f",
             "gridcolor": "white",
             "linecolor": "white",
             "minorgridcolor": "white",
             "startlinecolor": "#2a3f5f"
            },
            "type": "carpet"
           }
          ],
          "choropleth": [
           {
            "colorbar": {
             "outlinewidth": 0,
             "ticks": ""
            },
            "type": "choropleth"
           }
          ],
          "contour": [
           {
            "colorbar": {
             "outlinewidth": 0,
             "ticks": ""
            },
            "colorscale": [
             [
              0,
              "#0d0887"
             ],
             [
              0.1111111111111111,
              "#46039f"
             ],
             [
              0.2222222222222222,
              "#7201a8"
             ],
             [
              0.3333333333333333,
              "#9c179e"
             ],
             [
              0.4444444444444444,
              "#bd3786"
             ],
             [
              0.5555555555555556,
              "#d8576b"
             ],
             [
              0.6666666666666666,
              "#ed7953"
             ],
             [
              0.7777777777777778,
              "#fb9f3a"
             ],
             [
              0.8888888888888888,
              "#fdca26"
             ],
             [
              1,
              "#f0f921"
             ]
            ],
            "type": "contour"
           }
          ],
          "contourcarpet": [
           {
            "colorbar": {
             "outlinewidth": 0,
             "ticks": ""
            },
            "type": "contourcarpet"
           }
          ],
          "heatmap": [
           {
            "colorbar": {
             "outlinewidth": 0,
             "ticks": ""
            },
            "colorscale": [
             [
              0,
              "#0d0887"
             ],
             [
              0.1111111111111111,
              "#46039f"
             ],
             [
              0.2222222222222222,
              "#7201a8"
             ],
             [
              0.3333333333333333,
              "#9c179e"
             ],
             [
              0.4444444444444444,
              "#bd3786"
             ],
             [
              0.5555555555555556,
              "#d8576b"
             ],
             [
              0.6666666666666666,
              "#ed7953"
             ],
             [
              0.7777777777777778,
              "#fb9f3a"
             ],
             [
              0.8888888888888888,
              "#fdca26"
             ],
             [
              1,
              "#f0f921"
             ]
            ],
            "type": "heatmap"
           }
          ],
          "heatmapgl": [
           {
            "colorbar": {
             "outlinewidth": 0,
             "ticks": ""
            },
            "colorscale": [
             [
              0,
              "#0d0887"
             ],
             [
              0.1111111111111111,
              "#46039f"
             ],
             [
              0.2222222222222222,
              "#7201a8"
             ],
             [
              0.3333333333333333,
              "#9c179e"
             ],
             [
              0.4444444444444444,
              "#bd3786"
             ],
             [
              0.5555555555555556,
              "#d8576b"
             ],
             [
              0.6666666666666666,
              "#ed7953"
             ],
             [
              0.7777777777777778,
              "#fb9f3a"
             ],
             [
              0.8888888888888888,
              "#fdca26"
             ],
             [
              1,
              "#f0f921"
             ]
            ],
            "type": "heatmapgl"
           }
          ],
          "histogram": [
           {
            "marker": {
             "pattern": {
              "fillmode": "overlay",
              "size": 10,
              "solidity": 0.2
             }
            },
            "type": "histogram"
           }
          ],
          "histogram2d": [
           {
            "colorbar": {
             "outlinewidth": 0,
             "ticks": ""
            },
            "colorscale": [
             [
              0,
              "#0d0887"
             ],
             [
              0.1111111111111111,
              "#46039f"
             ],
             [
              0.2222222222222222,
              "#7201a8"
             ],
             [
              0.3333333333333333,
              "#9c179e"
             ],
             [
              0.4444444444444444,
              "#bd3786"
             ],
             [
              0.5555555555555556,
              "#d8576b"
             ],
             [
              0.6666666666666666,
              "#ed7953"
             ],
             [
              0.7777777777777778,
              "#fb9f3a"
             ],
             [
              0.8888888888888888,
              "#fdca26"
             ],
             [
              1,
              "#f0f921"
             ]
            ],
            "type": "histogram2d"
           }
          ],
          "histogram2dcontour": [
           {
            "colorbar": {
             "outlinewidth": 0,
             "ticks": ""
            },
            "colorscale": [
             [
              0,
              "#0d0887"
             ],
             [
              0.1111111111111111,
              "#46039f"
             ],
             [
              0.2222222222222222,
              "#7201a8"
             ],
             [
              0.3333333333333333,
              "#9c179e"
             ],
             [
              0.4444444444444444,
              "#bd3786"
             ],
             [
              0.5555555555555556,
              "#d8576b"
             ],
             [
              0.6666666666666666,
              "#ed7953"
             ],
             [
              0.7777777777777778,
              "#fb9f3a"
             ],
             [
              0.8888888888888888,
              "#fdca26"
             ],
             [
              1,
              "#f0f921"
             ]
            ],
            "type": "histogram2dcontour"
           }
          ],
          "mesh3d": [
           {
            "colorbar": {
             "outlinewidth": 0,
             "ticks": ""
            },
            "type": "mesh3d"
           }
          ],
          "parcoords": [
           {
            "line": {
             "colorbar": {
              "outlinewidth": 0,
              "ticks": ""
             }
            },
            "type": "parcoords"
           }
          ],
          "pie": [
           {
            "automargin": true,
            "type": "pie"
           }
          ],
          "scatter": [
           {
            "marker": {
             "colorbar": {
              "outlinewidth": 0,
              "ticks": ""
             }
            },
            "type": "scatter"
           }
          ],
          "scatter3d": [
           {
            "line": {
             "colorbar": {
              "outlinewidth": 0,
              "ticks": ""
             }
            },
            "marker": {
             "colorbar": {
              "outlinewidth": 0,
              "ticks": ""
             }
            },
            "type": "scatter3d"
           }
          ],
          "scattercarpet": [
           {
            "marker": {
             "colorbar": {
              "outlinewidth": 0,
              "ticks": ""
             }
            },
            "type": "scattercarpet"
           }
          ],
          "scattergeo": [
           {
            "marker": {
             "colorbar": {
              "outlinewidth": 0,
              "ticks": ""
             }
            },
            "type": "scattergeo"
           }
          ],
          "scattergl": [
           {
            "marker": {
             "colorbar": {
              "outlinewidth": 0,
              "ticks": ""
             }
            },
            "type": "scattergl"
           }
          ],
          "scattermapbox": [
           {
            "marker": {
             "colorbar": {
              "outlinewidth": 0,
              "ticks": ""
             }
            },
            "type": "scattermapbox"
           }
          ],
          "scatterpolar": [
           {
            "marker": {
             "colorbar": {
              "outlinewidth": 0,
              "ticks": ""
             }
            },
            "type": "scatterpolar"
           }
          ],
          "scatterpolargl": [
           {
            "marker": {
             "colorbar": {
              "outlinewidth": 0,
              "ticks": ""
             }
            },
            "type": "scatterpolargl"
           }
          ],
          "scatterternary": [
           {
            "marker": {
             "colorbar": {
              "outlinewidth": 0,
              "ticks": ""
             }
            },
            "type": "scatterternary"
           }
          ],
          "surface": [
           {
            "colorbar": {
             "outlinewidth": 0,
             "ticks": ""
            },
            "colorscale": [
             [
              0,
              "#0d0887"
             ],
             [
              0.1111111111111111,
              "#46039f"
             ],
             [
              0.2222222222222222,
              "#7201a8"
             ],
             [
              0.3333333333333333,
              "#9c179e"
             ],
             [
              0.4444444444444444,
              "#bd3786"
             ],
             [
              0.5555555555555556,
              "#d8576b"
             ],
             [
              0.6666666666666666,
              "#ed7953"
             ],
             [
              0.7777777777777778,
              "#fb9f3a"
             ],
             [
              0.8888888888888888,
              "#fdca26"
             ],
             [
              1,
              "#f0f921"
             ]
            ],
            "type": "surface"
           }
          ],
          "table": [
           {
            "cells": {
             "fill": {
              "color": "#EBF0F8"
             },
             "line": {
              "color": "white"
             }
            },
            "header": {
             "fill": {
              "color": "#C8D4E3"
             },
             "line": {
              "color": "white"
             }
            },
            "type": "table"
           }
          ]
         },
         "layout": {
          "annotationdefaults": {
           "arrowcolor": "#2a3f5f",
           "arrowhead": 0,
           "arrowwidth": 1
          },
          "autotypenumbers": "strict",
          "coloraxis": {
           "colorbar": {
            "outlinewidth": 0,
            "ticks": ""
           }
          },
          "colorscale": {
           "diverging": [
            [
             0,
             "#8e0152"
            ],
            [
             0.1,
             "#c51b7d"
            ],
            [
             0.2,
             "#de77ae"
            ],
            [
             0.3,
             "#f1b6da"
            ],
            [
             0.4,
             "#fde0ef"
            ],
            [
             0.5,
             "#f7f7f7"
            ],
            [
             0.6,
             "#e6f5d0"
            ],
            [
             0.7,
             "#b8e186"
            ],
            [
             0.8,
             "#7fbc41"
            ],
            [
             0.9,
             "#4d9221"
            ],
            [
             1,
             "#276419"
            ]
           ],
           "sequential": [
            [
             0,
             "#0d0887"
            ],
            [
             0.1111111111111111,
             "#46039f"
            ],
            [
             0.2222222222222222,
             "#7201a8"
            ],
            [
             0.3333333333333333,
             "#9c179e"
            ],
            [
             0.4444444444444444,
             "#bd3786"
            ],
            [
             0.5555555555555556,
             "#d8576b"
            ],
            [
             0.6666666666666666,
             "#ed7953"
            ],
            [
             0.7777777777777778,
             "#fb9f3a"
            ],
            [
             0.8888888888888888,
             "#fdca26"
            ],
            [
             1,
             "#f0f921"
            ]
           ],
           "sequentialminus": [
            [
             0,
             "#0d0887"
            ],
            [
             0.1111111111111111,
             "#46039f"
            ],
            [
             0.2222222222222222,
             "#7201a8"
            ],
            [
             0.3333333333333333,
             "#9c179e"
            ],
            [
             0.4444444444444444,
             "#bd3786"
            ],
            [
             0.5555555555555556,
             "#d8576b"
            ],
            [
             0.6666666666666666,
             "#ed7953"
            ],
            [
             0.7777777777777778,
             "#fb9f3a"
            ],
            [
             0.8888888888888888,
             "#fdca26"
            ],
            [
             1,
             "#f0f921"
            ]
           ]
          },
          "colorway": [
           "#636efa",
           "#EF553B",
           "#00cc96",
           "#ab63fa",
           "#FFA15A",
           "#19d3f3",
           "#FF6692",
           "#B6E880",
           "#FF97FF",
           "#FECB52"
          ],
          "font": {
           "color": "#2a3f5f"
          },
          "geo": {
           "bgcolor": "white",
           "lakecolor": "white",
           "landcolor": "#E5ECF6",
           "showlakes": true,
           "showland": true,
           "subunitcolor": "white"
          },
          "hoverlabel": {
           "align": "left"
          },
          "hovermode": "closest",
          "mapbox": {
           "style": "light"
          },
          "paper_bgcolor": "white",
          "plot_bgcolor": "#E5ECF6",
          "polar": {
           "angularaxis": {
            "gridcolor": "white",
            "linecolor": "white",
            "ticks": ""
           },
           "bgcolor": "#E5ECF6",
           "radialaxis": {
            "gridcolor": "white",
            "linecolor": "white",
            "ticks": ""
           }
          },
          "scene": {
           "xaxis": {
            "backgroundcolor": "#E5ECF6",
            "gridcolor": "white",
            "gridwidth": 2,
            "linecolor": "white",
            "showbackground": true,
            "ticks": "",
            "zerolinecolor": "white"
           },
           "yaxis": {
            "backgroundcolor": "#E5ECF6",
            "gridcolor": "white",
            "gridwidth": 2,
            "linecolor": "white",
            "showbackground": true,
            "ticks": "",
            "zerolinecolor": "white"
           },
           "zaxis": {
            "backgroundcolor": "#E5ECF6",
            "gridcolor": "white",
            "gridwidth": 2,
            "linecolor": "white",
            "showbackground": true,
            "ticks": "",
            "zerolinecolor": "white"
           }
          },
          "shapedefaults": {
           "line": {
            "color": "#2a3f5f"
           }
          },
          "ternary": {
           "aaxis": {
            "gridcolor": "white",
            "linecolor": "white",
            "ticks": ""
           },
           "baxis": {
            "gridcolor": "white",
            "linecolor": "white",
            "ticks": ""
           },
           "bgcolor": "#E5ECF6",
           "caxis": {
            "gridcolor": "white",
            "linecolor": "white",
            "ticks": ""
           }
          },
          "title": {
           "x": 0.05
          },
          "xaxis": {
           "automargin": true,
           "gridcolor": "white",
           "linecolor": "white",
           "ticks": "",
           "title": {
            "standoff": 15
           },
           "zerolinecolor": "white",
           "zerolinewidth": 2
          },
          "yaxis": {
           "automargin": true,
           "gridcolor": "white",
           "linecolor": "white",
           "ticks": "",
           "title": {
            "standoff": 15
           },
           "zerolinecolor": "white",
           "zerolinewidth": 2
          }
         }
        },
        "xaxis": {
         "anchor": "y",
         "domain": [
          0,
          1
         ],
         "title": {
          "text": "iyear"
         }
        },
        "yaxis": {
         "anchor": "x",
         "domain": [
          0,
          1
         ],
         "title": {
          "text": "nkill"
         }
        }
       }
      },
      "text/html": [
       "<div>                            <div id=\"404fa71c-0ef5-476f-b092-484540cface3\" class=\"plotly-graph-div\" style=\"height:525px; width:100%;\"></div>            <script type=\"text/javascript\">                require([\"plotly\"], function(Plotly) {                    window.PLOTLYENV=window.PLOTLYENV || {};                                    if (document.getElementById(\"404fa71c-0ef5-476f-b092-484540cface3\")) {                    Plotly.newPlot(                        \"404fa71c-0ef5-476f-b092-484540cface3\",                        [{\"hovertemplate\":\"country_txt=Afghanistan<br>iyear=%{x}<br>nkill=%{y}<extra></extra>\",\"legendgroup\":\"Afghanistan\",\"line\":{\"color\":\"#636efa\",\"dash\":\"solid\"},\"marker\":{\"symbol\":\"circle\"},\"mode\":\"lines\",\"name\":\"Afghanistan\",\"showlegend\":true,\"x\":[1973,1979,1987,1988,1989,1990,1991,1992,1994,1995,1996,1997,1998,1999,2000,2001,2002,2003,2004,2005,2006,2007,2008,2009,2010,2011,2012,2013,2014,2015,2016,2017],\"xaxis\":\"x\",\"y\":[0.0,53.0,53.0,181.0,191.0,203.0,271.0,320.0,342.0,347.0,378.0,382.0,390.0,429.0,467.0,641.0,715.0,878.0,1153.0,1520.0,2251.0,3442.0,4534.0,5598.0,6755.0,8280.0,11801.0,15510.0,20924.0,27140.0,33282.0,39374.0],\"yaxis\":\"y\",\"type\":\"scattergl\"},{\"hovertemplate\":\"country_txt=Albania<br>iyear=%{x}<br>nkill=%{y}<extra></extra>\",\"legendgroup\":\"Albania\",\"line\":{\"color\":\"#EF553B\",\"dash\":\"solid\"},\"marker\":{\"symbol\":\"circle\"},\"mode\":\"lines\",\"name\":\"Albania\",\"showlegend\":true,\"x\":[1981,1990,1991,1992,1994,1996,1997,1998,1999,2000,2001,2003,2009,2013,2014,2015,2016,2017],\"xaxis\":\"x\",\"y\":[0.0,0.0,0.0,1.0,2.0,9.0,35.0,35.0,41.0,41.0,41.0,41.0,41.0,41.0,42.0,42.0,42.0,42.0],\"yaxis\":\"y\",\"type\":\"scattergl\"},{\"hovertemplate\":\"country_txt=Algeria<br>iyear=%{x}<br>nkill=%{y}<extra></extra>\",\"legendgroup\":\"Algeria\",\"line\":{\"color\":\"#00cc96\",\"dash\":\"solid\"},\"marker\":{\"symbol\":\"circle\"},\"mode\":\"lines\",\"name\":\"Algeria\",\"showlegend\":true,\"x\":[1972,1976,1978,1979,1990,1991,1992,1994,1995,1996,1997,1998,1999,2000,2001,2002,2003,2004,2005,2006,2007,2008,2009,2010,2011,2012,2013,2014,2015,2016,2017],\"xaxis\":\"x\",\"y\":[0.0,0.0,0.0,0.0,3.0,45.0,281.0,781.0,1199.0,1728.0,5916.0,6856.0,7301.0,7820.0,8399.0,9014.0,9273.0,9439.0,9667.0,9831.0,10071.0,10317.0,10510.0,10611.0,10636.0,10666.0,10767.0,10804.0,10825.0,10834.0,10846.0],\"yaxis\":\"y\",\"type\":\"scattergl\"},{\"hovertemplate\":\"country_txt=Andorra<br>iyear=%{x}<br>nkill=%{y}<extra></extra>\",\"legendgroup\":\"Andorra\",\"line\":{\"color\":\"#ab63fa\",\"dash\":\"solid\"},\"marker\":{\"symbol\":\"circle\"},\"mode\":\"lines\",\"name\":\"Andorra\",\"showlegend\":true,\"x\":[1974],\"xaxis\":\"x\",\"y\":[0.0],\"yaxis\":\"y\",\"type\":\"scattergl\"},{\"hovertemplate\":\"country_txt=Angola<br>iyear=%{x}<br>nkill=%{y}<extra></extra>\",\"legendgroup\":\"Angola\",\"line\":{\"color\":\"#FFA15A\",\"dash\":\"solid\"},\"marker\":{\"symbol\":\"circle\"},\"mode\":\"lines\",\"name\":\"Angola\",\"showlegend\":true,\"x\":[1977,1979,1981,1982,1983,1984,1985,1986,1987,1988,1989,1990,1991,1992,1994,1995,1996,1997,1998,1999,2000,2001,2002,2009,2010,2016,2017],\"xaxis\":\"x\",\"y\":[0.0,1.0,4.0,6.0,288.0,467.0,473.0,592.0,597.0,742.0,830.0,977.0,1046.0,1130.0,1238.0,1290.0,1308.0,1342.0,1617.0,1916.0,2087.0,2931.0,2990.0,2992.0,2996.0,2996.0,3003.0],\"yaxis\":\"y\",\"type\":\"scattergl\"},{\"hovertemplate\":\"country_txt=Antigua and Barbuda<br>iyear=%{x}<br>nkill=%{y}<extra></extra>\",\"legendgroup\":\"Antigua and Barbuda\",\"line\":{\"color\":\"#19d3f3\",\"dash\":\"solid\"},\"marker\":{\"symbol\":\"circle\"},\"mode\":\"lines\",\"name\":\"Antigua and Barbuda\",\"showlegend\":true,\"x\":[1992],\"xaxis\":\"x\",\"y\":[0.0],\"yaxis\":\"y\",\"type\":\"scattergl\"},{\"hovertemplate\":\"country_txt=Argentina<br>iyear=%{x}<br>nkill=%{y}<extra></extra>\",\"legendgroup\":\"Argentina\",\"line\":{\"color\":\"#FF6692\",\"dash\":\"solid\"},\"marker\":{\"symbol\":\"circle\"},\"mode\":\"lines\",\"name\":\"Argentina\",\"showlegend\":true,\"x\":[1970,1971,1972,1973,1974,1975,1976,1977,1978,1979,1980,1981,1982,1983,1984,1985,1986,1987,1988,1989,1990,1991,1992,1994,1995,1996,1997,1999,2001,2003,2005,2009,2010,2011,2012,2013,2014,2015,2016,2017],\"xaxis\":\"x\",\"y\":[5.0,10.0,15.0,31.0,52.0,174.0,295.0,302.0,315.0,326.0,326.0,326.0,327.0,328.0,329.0,331.0,333.0,336.0,337.0,363.0,364.0,365.0,398.0,484.0,484.0,485.0,488.0,488.0,488.0,488.0,488.0,488.0,488.0,488.0,488.0,488.0,488.0,488.0,488.0,488.0],\"yaxis\":\"y\",\"type\":\"scattergl\"},{\"hovertemplate\":\"country_txt=Armenia<br>iyear=%{x}<br>nkill=%{y}<extra></extra>\",\"legendgroup\":\"Armenia\",\"line\":{\"color\":\"#B6E880\",\"dash\":\"solid\"},\"marker\":{\"symbol\":\"circle\"},\"mode\":\"lines\",\"name\":\"Armenia\",\"showlegend\":true,\"x\":[1991,1992,1994,1995,1996,1998,1999,2000,2001,2007,2009,2013,2015,2016],\"xaxis\":\"x\",\"y\":[0.0,2.0,17.0,19.0,21.0,21.0,29.0,29.0,30.0,30.0,31.0,31.0,31.0,37.0],\"yaxis\":\"y\",\"type\":\"scattergl\"},{\"hovertemplate\":\"country_txt=Australia<br>iyear=%{x}<br>nkill=%{y}<extra></extra>\",\"legendgroup\":\"Australia\",\"line\":{\"color\":\"#FF97FF\",\"dash\":\"solid\"},\"marker\":{\"symbol\":\"circle\"},\"mode\":\"lines\",\"name\":\"Australia\",\"showlegend\":true,\"x\":[1970,1971,1972,1974,1978,1979,1980,1981,1982,1986,1988,1989,1991,1992,1994,1995,1996,1997,1998,2000,2001,2006,2008,2009,2010,2013,2014,2015,2016,2017],\"xaxis\":\"x\",\"y\":[0.0,0.0,1.0,1.0,3.0,3.0,5.0,6.0,6.0,7.0,7.0,7.0,7.0,8.0,11.0,11.0,13.0,13.0,13.0,13.0,13.0,13.0,13.0,13.0,13.0,13.0,17.0,19.0,19.0,23.0],\"yaxis\":\"y\",\"type\":\"scattergl\"},{\"hovertemplate\":\"country_txt=Austria<br>iyear=%{x}<br>nkill=%{y}<extra></extra>\",\"legendgroup\":\"Austria\",\"line\":{\"color\":\"#FECB52\",\"dash\":\"solid\"},\"marker\":{\"symbol\":\"circle\"},\"mode\":\"lines\",\"name\":\"Austria\",\"showlegend\":true,\"x\":[1972,1973,1974,1975,1976,1977,1978,1979,1980,1981,1982,1984,1985,1986,1987,1988,1989,1990,1991,1992,1994,1995,1996,1997,1998,2006,2007,2008,2009,2011,2013,2016,2017],\"xaxis\":\"x\",\"y\":[4.0,4.0,4.0,8.0,8.0,9.0,9.0,9.0,9.0,12.0,12.0,14.0,18.0,18.0,18.0,18.0,21.0,21.0,21.0,21.0,21.0,27.0,27.0,27.0,27.0,27.0,27.0,27.0,28.0,28.0,28.0,28.0,30.0],\"yaxis\":\"y\",\"type\":\"scattergl\"},{\"hovertemplate\":\"country_txt=Azerbaijan<br>iyear=%{x}<br>nkill=%{y}<extra></extra>\",\"legendgroup\":\"Azerbaijan\",\"line\":{\"color\":\"#636efa\",\"dash\":\"solid\"},\"marker\":{\"symbol\":\"circle\"},\"mode\":\"lines\",\"name\":\"Azerbaijan\",\"showlegend\":true,\"x\":[1991,1992,1994,1995,1996,1997,2000,2001,2002,2007,2008,2009,2014,2016,2017],\"xaxis\":\"x\",\"y\":[26.0,212.0,242.0,242.0,244.0,245.0,245.0,246.0,246.0,246.0,251.0,252.0,252.0,253.0,258.0],\"yaxis\":\"y\",\"type\":\"scattergl\"},{\"hovertemplate\":\"country_txt=Bahamas<br>iyear=%{x}<br>nkill=%{y}<extra></extra>\",\"legendgroup\":\"Bahamas\",\"line\":{\"color\":\"#EF553B\",\"dash\":\"solid\"},\"marker\":{\"symbol\":\"circle\"},\"mode\":\"lines\",\"name\":\"Bahamas\",\"showlegend\":true,\"x\":[1976,1981,1997,2013],\"xaxis\":\"x\",\"y\":[0.0,0.0,1.0,1.0],\"yaxis\":\"y\",\"type\":\"scattergl\"},{\"hovertemplate\":\"country_txt=Bahrain<br>iyear=%{x}<br>nkill=%{y}<extra></extra>\",\"legendgroup\":\"Bahrain\",\"line\":{\"color\":\"#00cc96\",\"dash\":\"solid\"},\"marker\":{\"symbol\":\"circle\"},\"mode\":\"lines\",\"name\":\"Bahrain\",\"showlegend\":true,\"x\":[1979,1991,1994,1995,1996,1997,2003,2008,2010,2011,2012,2013,2014,2015,2016,2017],\"xaxis\":\"x\",\"y\":[0.0,1.0,1.0,2.0,10.0,15.0,15.0,16.0,16.0,16.0,20.0,23.0,32.0,37.0,38.0,44.0],\"yaxis\":\"y\",\"type\":\"scattergl\"},{\"hovertemplate\":\"country_txt=Bangladesh<br>iyear=%{x}<br>nkill=%{y}<extra></extra>\",\"legendgroup\":\"Bangladesh\",\"line\":{\"color\":\"#ab63fa\",\"dash\":\"solid\"},\"marker\":{\"symbol\":\"circle\"},\"mode\":\"lines\",\"name\":\"Bangladesh\",\"showlegend\":true,\"x\":[1977,1979,1980,1981,1982,1984,1985,1986,1987,1988,1989,1990,1991,1992,1994,1995,1996,1997,1998,1999,2000,2001,2002,2003,2004,2005,2006,2007,2008,2009,2010,2011,2012,2013,2014,2015,2016,2017],\"xaxis\":\"x\",\"y\":[0.0,0.0,6.0,12.0,12.0,13.0,13.0,67.0,93.0,180.0,311.0,377.0,446.0,547.0,577.0,612.0,701.0,715.0,715.0,745.0,756.0,813.0,834.0,837.0,880.0,924.0,943.0,944.0,953.0,971.0,986.0,995.0,1003.0,1019.0,1057.0,1143.0,1219.0,1244.0],\"yaxis\":\"y\",\"type\":\"scattergl\"},{\"hovertemplate\":\"country_txt=Barbados<br>iyear=%{x}<br>nkill=%{y}<extra></extra>\",\"legendgroup\":\"Barbados\",\"line\":{\"color\":\"#FFA15A\",\"dash\":\"solid\"},\"marker\":{\"symbol\":\"circle\"},\"mode\":\"lines\",\"name\":\"Barbados\",\"showlegend\":true,\"x\":[1976,1992],\"xaxis\":\"x\",\"y\":[73.0,76.0],\"yaxis\":\"y\",\"type\":\"scattergl\"},{\"hovertemplate\":\"country_txt=Belarus<br>iyear=%{x}<br>nkill=%{y}<extra></extra>\",\"legendgroup\":\"Belarus\",\"line\":{\"color\":\"#19d3f3\",\"dash\":\"solid\"},\"marker\":{\"symbol\":\"circle\"},\"mode\":\"lines\",\"name\":\"Belarus\",\"showlegend\":true,\"x\":[1994,1997,1999,2001,2006,2008,2010,2011,2012],\"xaxis\":\"x\",\"y\":[0.0,1.0,1.0,1.0,1.0,1.0,1.0,14.0,14.0],\"yaxis\":\"y\",\"type\":\"scattergl\"},{\"hovertemplate\":\"country_txt=Belgium<br>iyear=%{x}<br>nkill=%{y}<extra></extra>\",\"legendgroup\":\"Belgium\",\"line\":{\"color\":\"#FF6692\",\"dash\":\"solid\"},\"marker\":{\"symbol\":\"circle\"},\"mode\":\"lines\",\"name\":\"Belgium\",\"showlegend\":true,\"x\":[1970,1972,1973,1974,1976,1977,1978,1979,1980,1981,1982,1983,1984,1985,1986,1987,1988,1989,1990,1991,1992,1994,1995,1997,1998,1999,2002,2003,2007,2009,2012,2014,2016,2017],\"xaxis\":\"x\",\"y\":[0.0,0.0,0.0,0.0,0.0,0.0,1.0,2.0,3.0,9.0,9.0,11.0,11.0,21.0,21.0,22.0,23.0,27.0,29.0,30.0,31.0,31.0,31.0,35.0,35.0,35.0,35.0,35.0,35.0,35.0,36.0,40.0,76.0,78.0],\"yaxis\":\"y\",\"type\":\"scattergl\"},{\"hovertemplate\":\"country_txt=Belize<br>iyear=%{x}<br>nkill=%{y}<extra></extra>\",\"legendgroup\":\"Belize\",\"line\":{\"color\":\"#B6E880\",\"dash\":\"solid\"},\"marker\":{\"symbol\":\"circle\"},\"mode\":\"lines\",\"name\":\"Belize\",\"showlegend\":true,\"x\":[1980,1991,1992,2000,2013],\"xaxis\":\"x\",\"y\":[0.0,2.0,3.0,3.0,3.0],\"yaxis\":\"y\",\"type\":\"scattergl\"},{\"hovertemplate\":\"country_txt=Benin<br>iyear=%{x}<br>nkill=%{y}<extra></extra>\",\"legendgroup\":\"Benin\",\"line\":{\"color\":\"#FF97FF\",\"dash\":\"solid\"},\"marker\":{\"symbol\":\"circle\"},\"mode\":\"lines\",\"name\":\"Benin\",\"showlegend\":true,\"x\":[1992,1994,1995,1996,2007],\"xaxis\":\"x\",\"y\":[0.0,0.0,0.0,0.0,0.0],\"yaxis\":\"y\",\"type\":\"scattergl\"},{\"hovertemplate\":\"country_txt=Bhutan<br>iyear=%{x}<br>nkill=%{y}<extra></extra>\",\"legendgroup\":\"Bhutan\",\"line\":{\"color\":\"#FECB52\",\"dash\":\"solid\"},\"marker\":{\"symbol\":\"circle\"},\"mode\":\"lines\",\"name\":\"Bhutan\",\"showlegend\":true,\"x\":[2006,2008,2011,2014],\"xaxis\":\"x\",\"y\":[4.0,9.0,9.0,9.0],\"yaxis\":\"y\",\"type\":\"scattergl\"},{\"hovertemplate\":\"country_txt=Bolivia<br>iyear=%{x}<br>nkill=%{y}<extra></extra>\",\"legendgroup\":\"Bolivia\",\"line\":{\"color\":\"#636efa\",\"dash\":\"solid\"},\"marker\":{\"symbol\":\"circle\"},\"mode\":\"lines\",\"name\":\"Bolivia\",\"showlegend\":true,\"x\":[1970,1971,1976,1977,1978,1979,1980,1981,1982,1983,1984,1985,1986,1987,1988,1989,1990,1991,1992,1994,1995,1996,1997,2003,2005,2007,2009,2012],\"xaxis\":\"x\",\"y\":[0.0,0.0,0.0,0.0,0.0,0.0,11.0,12.0,12.0,12.0,13.0,13.0,14.0,15.0,17.0,19.0,25.0,32.0,37.0,38.0,38.0,38.0,42.0,42.0,42.0,42.0,42.0,42.0],\"yaxis\":\"y\",\"type\":\"scattergl\"},{\"hovertemplate\":\"country_txt=Bosnia-Herzegovina<br>iyear=%{x}<br>nkill=%{y}<extra></extra>\",\"legendgroup\":\"Bosnia-Herzegovina\",\"line\":{\"color\":\"#EF553B\",\"dash\":\"solid\"},\"marker\":{\"symbol\":\"circle\"},\"mode\":\"lines\",\"name\":\"Bosnia-Herzegovina\",\"showlegend\":true,\"x\":[1992,1994,1995,1996,1997,1998,1999,2000,2001,2002,2003,2005,2006,2007,2008,2009,2010,2011,2013,2014,2015],\"xaxis\":\"x\",\"y\":[55.0,58.0,60.0,62.0,67.0,69.0,70.0,71.0,71.0,71.0,71.0,71.0,71.0,72.0,74.0,74.0,75.0,75.0,75.0,75.0,79.0],\"yaxis\":\"y\",\"type\":\"scattergl\"},{\"hovertemplate\":\"country_txt=Botswana<br>iyear=%{x}<br>nkill=%{y}<extra></extra>\",\"legendgroup\":\"Botswana\",\"line\":{\"color\":\"#00cc96\",\"dash\":\"solid\"},\"marker\":{\"symbol\":\"circle\"},\"mode\":\"lines\",\"name\":\"Botswana\",\"showlegend\":true,\"x\":[1974,1985,1987,1988,1989,1990,1995],\"xaxis\":\"x\",\"y\":[1.0,1.0,4.0,5.0,5.0,11.0,11.0],\"yaxis\":\"y\",\"type\":\"scattergl\"},{\"hovertemplate\":\"country_txt=Brazil<br>iyear=%{x}<br>nkill=%{y}<extra></extra>\",\"legendgroup\":\"Brazil\",\"line\":{\"color\":\"#ab63fa\",\"dash\":\"solid\"},\"marker\":{\"symbol\":\"circle\"},\"mode\":\"lines\",\"name\":\"Brazil\",\"showlegend\":true,\"x\":[1970,1971,1972,1973,1976,1977,1978,1979,1980,1981,1982,1983,1984,1985,1986,1987,1988,1989,1990,1991,1992,1994,1995,1996,1997,1998,1999,2000,2001,2002,2003,2006,2012,2013,2014,2015,2016,2017],\"xaxis\":\"x\",\"y\":[2.0,2.0,2.0,2.0,2.0,2.0,3.0,7.0,26.0,28.0,55.0,55.0,55.0,55.0,69.0,69.0,69.0,70.0,73.0,85.0,113.0,128.0,141.0,163.0,191.0,191.0,192.0,192.0,193.0,193.0,193.0,194.0,195.0,197.0,199.0,202.0,203.0,203.0],\"yaxis\":\"y\",\"type\":\"scattergl\"},{\"hovertemplate\":\"country_txt=Brunei<br>iyear=%{x}<br>nkill=%{y}<extra></extra>\",\"legendgroup\":\"Brunei\",\"line\":{\"color\":\"#FFA15A\",\"dash\":\"solid\"},\"marker\":{\"symbol\":\"circle\"},\"mode\":\"lines\",\"name\":\"Brunei\",\"showlegend\":true,\"x\":[1972,1992],\"xaxis\":\"x\",\"y\":[0.0,0.0],\"yaxis\":\"y\",\"type\":\"scattergl\"},{\"hovertemplate\":\"country_txt=Bulgaria<br>iyear=%{x}<br>nkill=%{y}<extra></extra>\",\"legendgroup\":\"Bulgaria\",\"line\":{\"color\":\"#19d3f3\",\"dash\":\"solid\"},\"marker\":{\"symbol\":\"circle\"},\"mode\":\"lines\",\"name\":\"Bulgaria\",\"showlegend\":true,\"x\":[1982,1984,1990,1991,1992,1994,1995,1996,1997,1998,1999,2000,2001,2002,2008,2011,2012,2013,2014,2015,2016],\"xaxis\":\"x\",\"y\":[2.0,2.0,2.0,2.0,2.0,3.0,6.0,15.0,15.0,15.0,15.0,19.0,19.0,20.0,20.0,20.0,28.0,28.0,28.0,28.0,28.0],\"yaxis\":\"y\",\"type\":\"scattergl\"},{\"hovertemplate\":\"country_txt=Burkina Faso<br>iyear=%{x}<br>nkill=%{y}<extra></extra>\",\"legendgroup\":\"Burkina Faso\",\"line\":{\"color\":\"#FF6692\",\"dash\":\"solid\"},\"marker\":{\"symbol\":\"circle\"},\"mode\":\"lines\",\"name\":\"Burkina Faso\",\"showlegend\":true,\"x\":[1991,2013,2015,2016,2017],\"xaxis\":\"x\",\"y\":[1.0,2.0,18.0,80.0,133.0],\"yaxis\":\"y\",\"type\":\"scattergl\"},{\"hovertemplate\":\"country_txt=Burundi<br>iyear=%{x}<br>nkill=%{y}<extra></extra>\",\"legendgroup\":\"Burundi\",\"line\":{\"color\":\"#B6E880\",\"dash\":\"solid\"},\"marker\":{\"symbol\":\"circle\"},\"mode\":\"lines\",\"name\":\"Burundi\",\"showlegend\":true,\"x\":[1991,1992,1994,1995,1996,1997,1998,1999,2000,2001,2002,2003,2004,2005,2006,2007,2008,2010,2011,2012,2013,2014,2015,2016,2017],\"xaxis\":\"x\",\"y\":[117.0,178.0,443.0,1026.0,2397.0,2783.0,3175.0,3283.0,3373.0,3539.0,3604.0,3720.0,3738.0,3751.0,3772.0,3775.0,3803.0,3817.0,3864.0,3870.0,3875.0,3879.0,4102.0,4176.0,4196.0],\"yaxis\":\"y\",\"type\":\"scattergl\"},{\"hovertemplate\":\"country_txt=Cambodia<br>iyear=%{x}<br>nkill=%{y}<extra></extra>\",\"legendgroup\":\"Cambodia\",\"line\":{\"color\":\"#FF97FF\",\"dash\":\"solid\"},\"marker\":{\"symbol\":\"circle\"},\"mode\":\"lines\",\"name\":\"Cambodia\",\"showlegend\":true,\"x\":[1972,1978,1989,1990,1991,1992,1994,1995,1996,1997,1998,1999,2000,2001,2002,2003,2008,2013],\"xaxis\":\"x\",\"y\":[1.0,2.0,13.0,13.0,29.0,93.0,318.0,339.0,383.0,483.0,518.0,519.0,531.0,535.0,539.0,540.0,541.0,541.0],\"yaxis\":\"y\",\"type\":\"scattergl\"},{\"hovertemplate\":\"country_txt=Cameroon<br>iyear=%{x}<br>nkill=%{y}<extra></extra>\",\"legendgroup\":\"Cameroon\",\"line\":{\"color\":\"#FECB52\",\"dash\":\"solid\"},\"marker\":{\"symbol\":\"circle\"},\"mode\":\"lines\",\"name\":\"Cameroon\",\"showlegend\":true,\"x\":[1991,1992,1994,1995,1998,2007,2008,2009,2010,2011,2013,2014,2015,2016,2017],\"xaxis\":\"x\",\"y\":[36.0,42.0,75.0,80.0,80.0,111.0,114.0,114.0,119.0,123.0,130.0,919.0,1850.0,2119.0,2347.0],\"yaxis\":\"y\",\"type\":\"scattergl\"},{\"hovertemplate\":\"country_txt=Canada<br>iyear=%{x}<br>nkill=%{y}<extra></extra>\",\"legendgroup\":\"Canada\",\"line\":{\"color\":\"#636efa\",\"dash\":\"solid\"},\"marker\":{\"symbol\":\"circle\"},\"mode\":\"lines\",\"name\":\"Canada\",\"showlegend\":true,\"x\":[1970,1972,1974,1980,1982,1983,1985,1986,1989,1992,1994,1995,1996,1997,1998,1999,2000,2004,2006,2008,2009,2010,2012,2013,2014,2015,2016,2017],\"xaxis\":\"x\",\"y\":[1.0,2.0,2.0,2.0,3.0,3.0,334.0,334.0,349.0,349.0,349.0,350.0,350.0,350.0,351.0,351.0,351.0,351.0,351.0,351.0,351.0,351.0,351.0,351.0,358.0,358.0,359.0,365.0],\"yaxis\":\"y\",\"type\":\"scattergl\"},{\"hovertemplate\":\"country_txt=Central African Republic<br>iyear=%{x}<br>nkill=%{y}<extra></extra>\",\"legendgroup\":\"Central African Republic\",\"line\":{\"color\":\"#EF553B\",\"dash\":\"solid\"},\"marker\":{\"symbol\":\"circle\"},\"mode\":\"lines\",\"name\":\"Central African Republic\",\"showlegend\":true,\"x\":[1981,1986,1991,1992,1994,1996,2000,2001,2006,2007,2008,2009,2010,2011,2012,2013,2014,2015,2016,2017],\"xaxis\":\"x\",\"y\":[3.0,3.0,6.0,7.0,9.0,11.0,12.0,19.0,23.0,24.0,25.0,63.0,109.0,144.0,158.0,278.0,1029.0,1200.0,1389.0,1990.0],\"yaxis\":\"y\",\"type\":\"scattergl\"},{\"hovertemplate\":\"country_txt=Chad<br>iyear=%{x}<br>nkill=%{y}<extra></extra>\",\"legendgroup\":\"Chad\",\"line\":{\"color\":\"#00cc96\",\"dash\":\"solid\"},\"marker\":{\"symbol\":\"circle\"},\"mode\":\"lines\",\"name\":\"Chad\",\"showlegend\":true,\"x\":[1974,1984,1985,1986,1991,1992,1994,1995,1996,1997,1998,1999,2002,2006,2007,2008,2009,2010,2014,2015,2016,2017],\"xaxis\":\"x\",\"y\":[0.0,0.0,0.0,0.0,40.0,210.0,211.0,211.0,212.0,214.0,214.0,291.0,312.0,415.0,551.0,723.0,723.0,723.0,729.0,1035.0,1057.0,1119.0],\"yaxis\":\"y\",\"type\":\"scattergl\"},{\"hovertemplate\":\"country_txt=Chile<br>iyear=%{x}<br>nkill=%{y}<extra></extra>\",\"legendgroup\":\"Chile\",\"line\":{\"color\":\"#ab63fa\",\"dash\":\"solid\"},\"marker\":{\"symbol\":\"circle\"},\"mode\":\"lines\",\"name\":\"Chile\",\"showlegend\":true,\"x\":[1973,1976,1977,1978,1979,1980,1981,1982,1983,1984,1985,1986,1987,1988,1989,1990,1991,1992,1994,1995,1996,1997,1998,1999,2000,2001,2002,2003,2006,2007,2008,2009,2010,2011,2012,2013,2014,2015,2016,2017],\"xaxis\":\"x\",\"y\":[0.0,0.0,0.0,0.0,6.0,12.0,31.0,33.0,48.0,85.0,115.0,137.0,146.0,165.0,184.0,192.0,208.0,220.0,220.0,221.0,223.0,223.0,223.0,223.0,223.0,223.0,223.0,223.0,223.0,223.0,223.0,223.0,223.0,223.0,223.0,225.0,226.0,226.0,228.0,228.0],\"yaxis\":\"y\",\"type\":\"scattergl\"},{\"hovertemplate\":\"country_txt=China<br>iyear=%{x}<br>nkill=%{y}<extra></extra>\",\"legendgroup\":\"China\",\"line\":{\"color\":\"#FFA15A\",\"dash\":\"solid\"},\"marker\":{\"symbol\":\"circle\"},\"mode\":\"lines\",\"name\":\"China\",\"showlegend\":true,\"x\":[1989,1990,1991,1992,1994,1995,1996,1997,1998,1999,2000,2001,2002,2003,2004,2005,2008,2009,2010,2011,2012,2013,2014,2015,2016,2017],\"xaxis\":\"x\",\"y\":[20.0,22.0,22.0,31.0,49.0,55.0,78.0,115.0,165.0,170.0,171.0,178.0,179.0,180.0,184.0,196.0,235.0,421.0,428.0,447.0,474.0,534.0,856.0,979.0,992.0,1008.0],\"yaxis\":\"y\",\"type\":\"scattergl\"},{\"hovertemplate\":\"country_txt=Colombia<br>iyear=%{x}<br>nkill=%{y}<extra></extra>\",\"legendgroup\":\"Colombia\",\"line\":{\"color\":\"#19d3f3\",\"dash\":\"solid\"},\"marker\":{\"symbol\":\"circle\"},\"mode\":\"lines\",\"name\":\"Colombia\",\"showlegend\":true,\"x\":[1970,1972,1973,1975,1976,1977,1978,1979,1980,1981,1982,1983,1984,1985,1986,1987,1988,1989,1990,1991,1992,1994,1995,1996,1997,1998,1999,2000,2001,2002,2003,2004,2005,2006,2007,2008,2009,2010,2011,2012,2013,2014,2015,2016,2017],\"xaxis\":\"x\",\"y\":[0.0,1.0,1.0,8.0,18.0,54.0,124.0,280.0,439.0,804.0,1168.0,1597.0,2075.0,3010.0,3781.0,4436.0,5532.0,6277.0,6970.0,7712.0,8343.0,8561.0,9082.0,9693.0,10923.0,11515.0,11773.0,12150.0,12701.0,13047.0,13227.0,13310.0,13455.0,13534.0,13598.0,13683.0,13790.0,13846.0,13889.0,14057.0,14194.0,14337.0,14441.0,14493.0,14577.0],\"yaxis\":\"y\",\"type\":\"scattergl\"},{\"hovertemplate\":\"country_txt=Comoros<br>iyear=%{x}<br>nkill=%{y}<extra></extra>\",\"legendgroup\":\"Comoros\",\"line\":{\"color\":\"#FF6692\",\"dash\":\"solid\"},\"marker\":{\"symbol\":\"circle\"},\"mode\":\"lines\",\"name\":\"Comoros\",\"showlegend\":true,\"x\":[1992,1994,1997],\"xaxis\":\"x\",\"y\":[1.0,1.0,1.0],\"yaxis\":\"y\",\"type\":\"scattergl\"},{\"hovertemplate\":\"country_txt=Costa Rica<br>iyear=%{x}<br>nkill=%{y}<extra></extra>\",\"legendgroup\":\"Costa Rica\",\"line\":{\"color\":\"#B6E880\",\"dash\":\"solid\"},\"marker\":{\"symbol\":\"circle\"},\"mode\":\"lines\",\"name\":\"Costa Rica\",\"showlegend\":true,\"x\":[1971,1976,1977,1978,1979,1980,1981,1982,1983,1984,1985,1986,1987,1988,1989,1990,1991,1992,1994,1996,1997,2001],\"xaxis\":\"x\",\"y\":[0.0,0.0,0.0,0.0,3.0,3.0,7.0,11.0,11.0,11.0,11.0,11.0,11.0,11.0,12.0,12.0,12.0,12.0,13.0,14.0,16.0,17.0],\"yaxis\":\"y\",\"type\":\"scattergl\"},{\"hovertemplate\":\"country_txt=Croatia<br>iyear=%{x}<br>nkill=%{y}<extra></extra>\",\"legendgroup\":\"Croatia\",\"line\":{\"color\":\"#FF97FF\",\"dash\":\"solid\"},\"marker\":{\"symbol\":\"circle\"},\"mode\":\"lines\",\"name\":\"Croatia\",\"showlegend\":true,\"x\":[1991,1992,1994,1995,1996,1997,2000,2001,2005,2008,2009,2013],\"xaxis\":\"x\",\"y\":[237.0,239.0,242.0,243.0,243.0,245.0,248.0,248.0,248.0,248.0,248.0,248.0],\"yaxis\":\"y\",\"type\":\"scattergl\"},{\"hovertemplate\":\"country_txt=Cuba<br>iyear=%{x}<br>nkill=%{y}<extra></extra>\",\"legendgroup\":\"Cuba\",\"line\":{\"color\":\"#FECB52\",\"dash\":\"solid\"},\"marker\":{\"symbol\":\"circle\"},\"mode\":\"lines\",\"name\":\"Cuba\",\"showlegend\":true,\"x\":[1991,1992,1994,1996,1997,2007],\"xaxis\":\"x\",\"y\":[0.0,3.0,6.0,6.0,7.0,8.0],\"yaxis\":\"y\",\"type\":\"scattergl\"},{\"hovertemplate\":\"country_txt=Cyprus<br>iyear=%{x}<br>nkill=%{y}<extra></extra>\",\"legendgroup\":\"Cyprus\",\"line\":{\"color\":\"#636efa\",\"dash\":\"solid\"},\"marker\":{\"symbol\":\"circle\"},\"mode\":\"lines\",\"name\":\"Cyprus\",\"showlegend\":true,\"x\":[1973,1975,1977,1978,1979,1980,1981,1982,1983,1984,1985,1986,1987,1988,1989,1990,1991,1992,1994,1995,1996,1998,1999,2000,2001,2004,2007,2012,2013,2014,2015,2016],\"xaxis\":\"x\",\"y\":[1.0,1.0,1.0,17.0,19.0,22.0,22.0,22.0,22.0,28.0,31.0,32.0,33.0,39.0,40.0,40.0,40.0,40.0,42.0,42.0,45.0,45.0,45.0,45.0,45.0,45.0,45.0,45.0,45.0,45.0,45.0,45.0],\"yaxis\":\"y\",\"type\":\"scattergl\"},{\"hovertemplate\":\"country_txt=Czech Republic<br>iyear=%{x}<br>nkill=%{y}<extra></extra>\",\"legendgroup\":\"Czech Republic\",\"line\":{\"color\":\"#EF553B\",\"dash\":\"solid\"},\"marker\":{\"symbol\":\"circle\"},\"mode\":\"lines\",\"name\":\"Czech Republic\",\"showlegend\":true,\"x\":[1994,1995,1996,1997,2001,2003,2008,2009,2011,2013,2014,2015,2016,2017],\"xaxis\":\"x\",\"y\":[0.0,1.0,3.0,4.0,4.0,4.0,4.0,4.0,4.0,5.0,6.0,6.0,6.0,6.0],\"yaxis\":\"y\",\"type\":\"scattergl\"},{\"hovertemplate\":\"country_txt=Czechoslovakia<br>iyear=%{x}<br>nkill=%{y}<extra></extra>\",\"legendgroup\":\"Czechoslovakia\",\"line\":{\"color\":\"#00cc96\",\"dash\":\"solid\"},\"marker\":{\"symbol\":\"circle\"},\"mode\":\"lines\",\"name\":\"Czechoslovakia\",\"showlegend\":true,\"x\":[1972,1989,1990,1991,1992],\"xaxis\":\"x\",\"y\":[26.0,26.0,26.0,27.0,27.0],\"yaxis\":\"y\",\"type\":\"scattergl\"},{\"hovertemplate\":\"country_txt=Democratic Republic of the Congo<br>iyear=%{x}<br>nkill=%{y}<extra></extra>\",\"legendgroup\":\"Democratic Republic of the Congo\",\"line\":{\"color\":\"#ab63fa\",\"dash\":\"solid\"},\"marker\":{\"symbol\":\"circle\"},\"mode\":\"lines\",\"name\":\"Democratic Republic of the Congo\",\"showlegend\":true,\"x\":[1997,1998,1999,2000,2001,2002,2003,2004,2005,2006,2007,2008,2009,2010,2011,2012,2013,2014,2015,2016,2017],\"xaxis\":\"x\",\"y\":[8.0,75.0,82.0,122.0,137.0,153.0,242.0,264.0,295.0,318.0,390.0,709.0,1533.0,1632.0,1682.0,1970.0,2120.0,2486.0,2857.0,3389.0,3985.0],\"yaxis\":\"y\",\"type\":\"scattergl\"},{\"hovertemplate\":\"country_txt=Denmark<br>iyear=%{x}<br>nkill=%{y}<extra></extra>\",\"legendgroup\":\"Denmark\",\"line\":{\"color\":\"#FFA15A\",\"dash\":\"solid\"},\"marker\":{\"symbol\":\"circle\"},\"mode\":\"lines\",\"name\":\"Denmark\",\"showlegend\":true,\"x\":[1978,1979,1980,1981,1985,1986,1987,1988,1989,1991,1992,1995,1999,2008,2010,2013,2015,2016],\"xaxis\":\"x\",\"y\":[0.0,0.0,0.0,0.0,1.0,1.0,1.0,1.0,1.0,1.0,2.0,2.0,2.0,2.0,2.0,2.0,4.0,5.0],\"yaxis\":\"y\",\"type\":\"scattergl\"},{\"hovertemplate\":\"country_txt=Djibouti<br>iyear=%{x}<br>nkill=%{y}<extra></extra>\",\"legendgroup\":\"Djibouti\",\"line\":{\"color\":\"#19d3f3\",\"dash\":\"solid\"},\"marker\":{\"symbol\":\"circle\"},\"mode\":\"lines\",\"name\":\"Djibouti\",\"showlegend\":true,\"x\":[1977,1979,1987,1988,1990,1991,1992,1994,1995,1997,2004,2014,2015,2017],\"xaxis\":\"x\",\"y\":[1.0,5.0,15.0,15.0,16.0,24.0,252.0,258.0,258.0,269.0,269.0,274.0,274.0,274.0],\"yaxis\":\"y\",\"type\":\"scattergl\"},{\"hovertemplate\":\"country_txt=Dominica<br>iyear=%{x}<br>nkill=%{y}<extra></extra>\",\"legendgroup\":\"Dominica\",\"line\":{\"color\":\"#FF6692\",\"dash\":\"solid\"},\"marker\":{\"symbol\":\"circle\"},\"mode\":\"lines\",\"name\":\"Dominica\",\"showlegend\":true,\"x\":[1981,1997],\"xaxis\":\"x\",\"y\":[3.0,3.0],\"yaxis\":\"y\",\"type\":\"scattergl\"},{\"hovertemplate\":\"country_txt=Dominican Republic<br>iyear=%{x}<br>nkill=%{y}<extra></extra>\",\"legendgroup\":\"Dominican Republic\",\"line\":{\"color\":\"#B6E880\",\"dash\":\"solid\"},\"marker\":{\"symbol\":\"circle\"},\"mode\":\"lines\",\"name\":\"Dominican Republic\",\"showlegend\":true,\"x\":[1970,1971,1973,1974,1978,1979,1980,1982,1987,1988,1989,1990,1991,1992,1994,1996,1997,2013,2014,2017],\"xaxis\":\"x\",\"y\":[1.0,1.0,1.0,1.0,4.0,5.0,6.0,11.0,18.0,18.0,19.0,22.0,23.0,24.0,26.0,29.0,32.0,32.0,32.0,34.0],\"yaxis\":\"y\",\"type\":\"scattergl\"},{\"hovertemplate\":\"country_txt=East Germany (GDR)<br>iyear=%{x}<br>nkill=%{y}<extra></extra>\",\"legendgroup\":\"East Germany (GDR)\",\"line\":{\"color\":\"#FF97FF\",\"dash\":\"solid\"},\"marker\":{\"symbol\":\"circle\"},\"mode\":\"lines\",\"name\":\"East Germany (GDR)\",\"showlegend\":true,\"x\":[1970,1971,1974,1977,1978,1982,1983,1984,1985,1986,1987,1988,1989,1990],\"xaxis\":\"x\",\"y\":[0.0,0.0,1.0,1.0,1.0,1.0,1.0,1.0,1.0,2.0,2.0,2.0,2.0,2.0],\"yaxis\":\"y\",\"type\":\"scattergl\"},{\"hovertemplate\":\"country_txt=East Timor<br>iyear=%{x}<br>nkill=%{y}<extra></extra>\",\"legendgroup\":\"East Timor\",\"line\":{\"color\":\"#FECB52\",\"dash\":\"solid\"},\"marker\":{\"symbol\":\"circle\"},\"mode\":\"lines\",\"name\":\"East Timor\",\"showlegend\":true,\"x\":[2000,2003,2005,2007,2008],\"xaxis\":\"x\",\"y\":[1.0,6.0,6.0,7.0,9.0],\"yaxis\":\"y\",\"type\":\"scattergl\"},{\"hovertemplate\":\"country_txt=Ecuador<br>iyear=%{x}<br>nkill=%{y}<extra></extra>\",\"legendgroup\":\"Ecuador\",\"line\":{\"color\":\"#636efa\",\"dash\":\"solid\"},\"marker\":{\"symbol\":\"circle\"},\"mode\":\"lines\",\"name\":\"Ecuador\",\"showlegend\":true,\"x\":[1973,1974,1976,1977,1978,1979,1980,1981,1982,1983,1984,1985,1986,1987,1988,1989,1990,1991,1992,1994,1995,1996,1997,1998,1999,2000,2001,2002,2003,2004,2008,2009,2011,2012,2013,2015,2016,2017],\"xaxis\":\"x\",\"y\":[0.0,0.0,1.0,2.0,4.0,4.0,6.0,8.0,9.0,9.0,10.0,14.0,27.0,27.0,31.0,40.0,43.0,43.0,45.0,45.0,49.0,51.0,52.0,52.0,52.0,52.0,52.0,52.0,52.0,52.0,52.0,52.0,52.0,52.0,53.0,53.0,54.0,54.0],\"yaxis\":\"y\",\"type\":\"scattergl\"},{\"hovertemplate\":\"country_txt=Egypt<br>iyear=%{x}<br>nkill=%{y}<extra></extra>\",\"legendgroup\":\"Egypt\",\"line\":{\"color\":\"#EF553B\",\"dash\":\"solid\"},\"marker\":{\"symbol\":\"circle\"},\"mode\":\"lines\",\"name\":\"Egypt\",\"showlegend\":true,\"x\":[1970,1971,1972,1977,1978,1979,1980,1981,1982,1985,1986,1987,1988,1989,1990,1991,1992,1994,1995,1996,1997,1998,1999,2004,2005,2006,2008,2009,2010,2011,2012,2013,2014,2015,2016,2017],\"xaxis\":\"x\",\"y\":[0.0,1.0,1.0,2.0,4.0,5.0,6.0,73.0,73.0,75.0,87.0,88.0,89.0,90.0,111.0,119.0,168.0,341.0,475.0,572.0,737.0,746.0,747.0,784.0,876.0,895.0,895.0,896.0,896.0,924.0,968.0,1211.0,1554.0,2383.0,2992.0,3869.0],\"yaxis\":\"y\",\"type\":\"scattergl\"},{\"hovertemplate\":\"country_txt=El Salvador<br>iyear=%{x}<br>nkill=%{y}<extra></extra>\",\"legendgroup\":\"El Salvador\",\"line\":{\"color\":\"#00cc96\",\"dash\":\"solid\"},\"marker\":{\"symbol\":\"circle\"},\"mode\":\"lines\",\"name\":\"El Salvador\",\"showlegend\":true,\"x\":[1972,1973,1974,1975,1976,1977,1978,1979,1980,1981,1982,1983,1984,1985,1986,1987,1988,1989,1990,1991,1992,1994,1995,1996,1997],\"xaxis\":\"x\",\"y\":[0.0,0.0,0.0,2.0,5.0,9.0,41.0,285.0,2666.0,4244.0,5791.0,7457.0,8772.0,9785.0,10078.0,10499.0,10860.0,11210.0,11504.0,11930.0,11953.0,11975.0,11978.0,12004.0,12005.0],\"yaxis\":\"y\",\"type\":\"scattergl\"},{\"hovertemplate\":\"country_txt=Equatorial Guinea<br>iyear=%{x}<br>nkill=%{y}<extra></extra>\",\"legendgroup\":\"Equatorial Guinea\",\"line\":{\"color\":\"#ab63fa\",\"dash\":\"solid\"},\"marker\":{\"symbol\":\"circle\"},\"mode\":\"lines\",\"name\":\"Equatorial Guinea\",\"showlegend\":true,\"x\":[1992,2009],\"xaxis\":\"x\",\"y\":[1.0,2.0],\"yaxis\":\"y\",\"type\":\"scattergl\"},{\"hovertemplate\":\"country_txt=Eritrea<br>iyear=%{x}<br>nkill=%{y}<extra></extra>\",\"legendgroup\":\"Eritrea\",\"line\":{\"color\":\"#FFA15A\",\"dash\":\"solid\"},\"marker\":{\"symbol\":\"circle\"},\"mode\":\"lines\",\"name\":\"Eritrea\",\"showlegend\":true,\"x\":[1995,1996,2007,2008,2009,2010],\"xaxis\":\"x\",\"y\":[0.0,6.0,6.0,10.0,12.0,29.0],\"yaxis\":\"y\",\"type\":\"scattergl\"},{\"hovertemplate\":\"country_txt=Estonia<br>iyear=%{x}<br>nkill=%{y}<extra></extra>\",\"legendgroup\":\"Estonia\",\"line\":{\"color\":\"#19d3f3\",\"dash\":\"solid\"},\"marker\":{\"symbol\":\"circle\"},\"mode\":\"lines\",\"name\":\"Estonia\",\"showlegend\":true,\"x\":[1992,1994,1995,1996,1999,2001,2011,2015],\"xaxis\":\"x\",\"y\":[0.0,0.0,0.0,1.0,1.0,2.0,3.0,3.0],\"yaxis\":\"y\",\"type\":\"scattergl\"},{\"hovertemplate\":\"country_txt=Ethiopia<br>iyear=%{x}<br>nkill=%{y}<extra></extra>\",\"legendgroup\":\"Ethiopia\",\"line\":{\"color\":\"#FF6692\",\"dash\":\"solid\"},\"marker\":{\"symbol\":\"circle\"},\"mode\":\"lines\",\"name\":\"Ethiopia\",\"showlegend\":true,\"x\":[1970,1971,1973,1974,1975,1976,1977,1978,1979,1983,1984,1985,1986,1987,1988,1989,1990,1991,1992,1994,1995,1996,1997,1999,2000,2002,2003,2004,2005,2006,2007,2008,2009,2010,2011,2012,2013,2014,2015,2016,2017],\"xaxis\":\"x\",\"y\":[1.0,1.0,1.0,4.0,4.0,4.0,9.0,34.0,135.0,135.0,335.0,335.0,375.0,375.0,375.0,376.0,393.0,554.0,884.0,890.0,895.0,1028.0,1036.0,1038.0,1041.0,1042.0,1044.0,1045.0,1054.0,1066.0,1270.0,1297.0,1310.0,1318.0,1319.0,1344.0,1361.0,1370.0,1418.0,1697.0,1764.0],\"yaxis\":\"y\",\"type\":\"scattergl\"},{\"hovertemplate\":\"country_txt=Falkland Islands<br>iyear=%{x}<br>nkill=%{y}<extra></extra>\",\"legendgroup\":\"Falkland Islands\",\"line\":{\"color\":\"#B6E880\",\"dash\":\"solid\"},\"marker\":{\"symbol\":\"circle\"},\"mode\":\"lines\",\"name\":\"Falkland Islands\",\"showlegend\":true,\"x\":[1983],\"xaxis\":\"x\",\"y\":[0.0],\"yaxis\":\"y\",\"type\":\"scattergl\"},{\"hovertemplate\":\"country_txt=Fiji<br>iyear=%{x}<br>nkill=%{y}<extra></extra>\",\"legendgroup\":\"Fiji\",\"line\":{\"color\":\"#FF97FF\",\"dash\":\"solid\"},\"marker\":{\"symbol\":\"circle\"},\"mode\":\"lines\",\"name\":\"Fiji\",\"showlegend\":true,\"x\":[1987,1989,1991,1992,1999,2000,2001],\"xaxis\":\"x\",\"y\":[0.0,0.0,0.0,1.0,1.0,8.0,8.0],\"yaxis\":\"y\",\"type\":\"scattergl\"},{\"hovertemplate\":\"country_txt=Finland<br>iyear=%{x}<br>nkill=%{y}<extra></extra>\",\"legendgroup\":\"Finland\",\"line\":{\"color\":\"#FECB52\",\"dash\":\"solid\"},\"marker\":{\"symbol\":\"circle\"},\"mode\":\"lines\",\"name\":\"Finland\",\"showlegend\":true,\"x\":[1986,1992,1994,1995,2007,2008,2015,2016,2017],\"xaxis\":\"x\",\"y\":[0.0,0.0,0.0,0.0,9.0,9.0,9.0,9.0,11.0],\"yaxis\":\"y\",\"type\":\"scattergl\"},{\"hovertemplate\":\"country_txt=France<br>iyear=%{x}<br>nkill=%{y}<extra></extra>\",\"legendgroup\":\"France\",\"line\":{\"color\":\"#636efa\",\"dash\":\"solid\"},\"marker\":{\"symbol\":\"circle\"},\"mode\":\"lines\",\"name\":\"France\",\"showlegend\":true,\"x\":[1972,1973,1974,1975,1976,1977,1978,1979,1980,1981,1982,1983,1984,1985,1986,1987,1988,1989,1990,1991,1992,1994,1995,1996,1997,1998,1999,2000,2001,2002,2003,2004,2005,2006,2007,2008,2009,2010,2011,2012,2013,2014,2015,2016,2017],\"xaxis\":\"x\",\"y\":[1.0,6.0,9.0,12.0,19.0,22.0,43.0,54.0,73.0,81.0,98.0,118.0,133.0,149.0,174.0,179.0,185.0,188.0,191.0,197.0,206.0,213.0,232.0,248.0,248.0,249.0,249.0,253.0,253.0,253.0,253.0,253.0,253.0,254.0,257.0,257.0,257.0,257.0,257.0,265.0,265.0,266.0,428.0,523.0,530.0],\"yaxis\":\"y\",\"type\":\"scattergl\"},{\"hovertemplate\":\"country_txt=French Guiana<br>iyear=%{x}<br>nkill=%{y}<extra></extra>\",\"legendgroup\":\"French Guiana\",\"line\":{\"color\":\"#EF553B\",\"dash\":\"solid\"},\"marker\":{\"symbol\":\"circle\"},\"mode\":\"lines\",\"name\":\"French Guiana\",\"showlegend\":true,\"x\":[1983,1996,1997],\"xaxis\":\"x\",\"y\":[1.0,1.0,1.0],\"yaxis\":\"y\",\"type\":\"scattergl\"},{\"hovertemplate\":\"country_txt=French Polynesia<br>iyear=%{x}<br>nkill=%{y}<extra></extra>\",\"legendgroup\":\"French Polynesia\",\"line\":{\"color\":\"#00cc96\",\"dash\":\"solid\"},\"marker\":{\"symbol\":\"circle\"},\"mode\":\"lines\",\"name\":\"French Polynesia\",\"showlegend\":true,\"x\":[1995],\"xaxis\":\"x\",\"y\":[0.0],\"yaxis\":\"y\",\"type\":\"scattergl\"},{\"hovertemplate\":\"country_txt=Gabon<br>iyear=%{x}<br>nkill=%{y}<extra></extra>\",\"legendgroup\":\"Gabon\",\"line\":{\"color\":\"#ab63fa\",\"dash\":\"solid\"},\"marker\":{\"symbol\":\"circle\"},\"mode\":\"lines\",\"name\":\"Gabon\",\"showlegend\":true,\"x\":[1979,1994,1996,1997,2017],\"xaxis\":\"x\",\"y\":[2.0,2.0,2.0,6.0,6.0],\"yaxis\":\"y\",\"type\":\"scattergl\"},{\"hovertemplate\":\"country_txt=Gambia<br>iyear=%{x}<br>nkill=%{y}<extra></extra>\",\"legendgroup\":\"Gambia\",\"line\":{\"color\":\"#FFA15A\",\"dash\":\"solid\"},\"marker\":{\"symbol\":\"circle\"},\"mode\":\"lines\",\"name\":\"Gambia\",\"showlegend\":true,\"x\":[1994,1995,2000],\"xaxis\":\"x\",\"y\":[13.0,13.0,13.0],\"yaxis\":\"y\",\"type\":\"scattergl\"},{\"hovertemplate\":\"country_txt=Georgia<br>iyear=%{x}<br>nkill=%{y}<extra></extra>\",\"legendgroup\":\"Georgia\",\"line\":{\"color\":\"#19d3f3\",\"dash\":\"solid\"},\"marker\":{\"symbol\":\"circle\"},\"mode\":\"lines\",\"name\":\"Georgia\",\"showlegend\":true,\"x\":[1991,1992,1994,1995,1996,1997,1998,1999,2000,2001,2002,2003,2004,2005,2006,2008,2009,2010,2011,2012,2013,2014,2015,2016,2017],\"xaxis\":\"x\",\"y\":[2.0,111.0,140.0,154.0,156.0,191.0,223.0,228.0,231.0,237.0,238.0,238.0,238.0,246.0,251.0,264.0,269.0,273.0,274.0,275.0,277.0,277.0,277.0,278.0,278.0],\"yaxis\":\"y\",\"type\":\"scattergl\"},{\"hovertemplate\":\"country_txt=Germany<br>iyear=%{x}<br>nkill=%{y}<extra></extra>\",\"legendgroup\":\"Germany\",\"line\":{\"color\":\"#FF6692\",\"dash\":\"solid\"},\"marker\":{\"symbol\":\"circle\"},\"mode\":\"lines\",\"name\":\"Germany\",\"showlegend\":true,\"x\":[1990,1991,1992,1994,1995,1996,1997,1998,1999,2000,2001,2002,2003,2004,2005,2006,2007,2008,2009,2010,2011,2012,2014,2015,2016,2017],\"xaxis\":\"x\",\"y\":[0.0,10.0,27.0,29.0,39.0,40.0,40.0,40.0,43.0,44.0,47.0,47.0,47.0,48.0,50.0,52.0,53.0,53.0,53.0,53.0,55.0,55.0,55.0,56.0,83.0,84.0],\"yaxis\":\"y\",\"type\":\"scattergl\"},{\"hovertemplate\":\"country_txt=Ghana<br>iyear=%{x}<br>nkill=%{y}<extra></extra>\",\"legendgroup\":\"Ghana\",\"line\":{\"color\":\"#B6E880\",\"dash\":\"solid\"},\"marker\":{\"symbol\":\"circle\"},\"mode\":\"lines\",\"name\":\"Ghana\",\"showlegend\":true,\"x\":[1987,1992,1994,1995,1996,1997,2014,2016],\"xaxis\":\"x\",\"y\":[0.0,0.0,13.0,15.0,18.0,19.0,19.0,19.0],\"yaxis\":\"y\",\"type\":\"scattergl\"},{\"hovertemplate\":\"country_txt=Greece<br>iyear=%{x}<br>nkill=%{y}<extra></extra>\",\"legendgroup\":\"Greece\",\"line\":{\"color\":\"#FF97FF\",\"dash\":\"solid\"},\"marker\":{\"symbol\":\"circle\"},\"mode\":\"lines\",\"name\":\"Greece\",\"showlegend\":true,\"x\":[1970,1971,1972,1973,1974,1975,1976,1977,1978,1979,1980,1981,1982,1983,1984,1985,1986,1987,1988,1989,1990,1991,1992,1994,1995,1996,1997,1998,1999,2000,2001,2002,2003,2004,2005,2006,2007,2008,2009,2010,2011,2012,2013,2014,2015,2016,2017],\"xaxis\":\"x\",\"y\":[2.0,2.0,2.0,7.0,99.0,100.0,114.0,114.0,114.0,115.0,120.0,123.0,125.0,129.0,134.0,198.0,204.0,206.0,220.0,224.0,226.0,241.0,243.0,246.0,246.0,246.0,247.0,247.0,248.0,249.0,249.0,249.0,249.0,249.0,249.0,249.0,249.0,249.0,250.0,253.0,253.0,253.0,256.0,256.0,257.0,323.0,323.0],\"yaxis\":\"y\",\"type\":\"scattergl\"},{\"hovertemplate\":\"country_txt=Grenada<br>iyear=%{x}<br>nkill=%{y}<extra></extra>\",\"legendgroup\":\"Grenada\",\"line\":{\"color\":\"#FECB52\",\"dash\":\"solid\"},\"marker\":{\"symbol\":\"circle\"},\"mode\":\"lines\",\"name\":\"Grenada\",\"showlegend\":true,\"x\":[1980,1983],\"xaxis\":\"x\",\"y\":[9.0,9.0],\"yaxis\":\"y\",\"type\":\"scattergl\"},{\"hovertemplate\":\"country_txt=Guadeloupe<br>iyear=%{x}<br>nkill=%{y}<extra></extra>\",\"legendgroup\":\"Guadeloupe\",\"line\":{\"color\":\"#636efa\",\"dash\":\"solid\"},\"marker\":{\"symbol\":\"circle\"},\"mode\":\"lines\",\"name\":\"Guadeloupe\",\"showlegend\":true,\"x\":[1980,1981,1983,1984,1985,1986,1988,1991],\"xaxis\":\"x\",\"y\":[1.0,1.0,1.0,5.0,7.0,7.0,7.0,8.0],\"yaxis\":\"y\",\"type\":\"scattergl\"},{\"hovertemplate\":\"country_txt=Guatemala<br>iyear=%{x}<br>nkill=%{y}<extra></extra>\",\"legendgroup\":\"Guatemala\",\"line\":{\"color\":\"#EF553B\",\"dash\":\"solid\"},\"marker\":{\"symbol\":\"circle\"},\"mode\":\"lines\",\"name\":\"Guatemala\",\"showlegend\":true,\"x\":[1970,1971,1974,1975,1976,1977,1978,1979,1980,1981,1982,1983,1984,1985,1986,1987,1988,1989,1990,1991,1992,1994,1995,1996,1997,1999,2000,2001,2003,2004,2006,2012,2013],\"xaxis\":\"x\",\"y\":[2.0,2.0,2.0,25.0,32.0,38.0,73.0,126.0,651.0,2030.0,3591.0,4119.0,4279.0,4416.0,4470.0,4681.0,4816.0,4859.0,4925.0,4998.0,5026.0,5048.0,5088.0,5102.0,5124.0,5127.0,5129.0,5130.0,5131.0,5134.0,5139.0,5141.0,5145.0],\"yaxis\":\"y\",\"type\":\"scattergl\"},{\"hovertemplate\":\"country_txt=Guinea<br>iyear=%{x}<br>nkill=%{y}<extra></extra>\",\"legendgroup\":\"Guinea\",\"line\":{\"color\":\"#00cc96\",\"dash\":\"solid\"},\"marker\":{\"symbol\":\"circle\"},\"mode\":\"lines\",\"name\":\"Guinea\",\"showlegend\":true,\"x\":[1980,1992,1994,1996,2000,2005,2013,2015,2016],\"xaxis\":\"x\",\"y\":[1.0,1.0,3.0,5.0,208.0,208.0,208.0,209.0,210.0],\"yaxis\":\"y\",\"type\":\"scattergl\"},{\"hovertemplate\":\"country_txt=Guinea-Bissau<br>iyear=%{x}<br>nkill=%{y}<extra></extra>\",\"legendgroup\":\"Guinea-Bissau\",\"line\":{\"color\":\"#ab63fa\",\"dash\":\"solid\"},\"marker\":{\"symbol\":\"circle\"},\"mode\":\"lines\",\"name\":\"Guinea-Bissau\",\"showlegend\":true,\"x\":[2001,2003,2005,2006,2009,2012],\"xaxis\":\"x\",\"y\":[0.0,1.0,4.0,15.0,16.0,17.0],\"yaxis\":\"y\",\"type\":\"scattergl\"},{\"hovertemplate\":\"country_txt=Guyana<br>iyear=%{x}<br>nkill=%{y}<extra></extra>\",\"legendgroup\":\"Guyana\",\"line\":{\"color\":\"#FFA15A\",\"dash\":\"solid\"},\"marker\":{\"symbol\":\"circle\"},\"mode\":\"lines\",\"name\":\"Guyana\",\"showlegend\":true,\"x\":[1978,1979,1980,1981,1990,1992,1997,1998,2001,2002,2003,2006,2008,2016],\"xaxis\":\"x\",\"y\":[5.0,6.0,7.0,8.0,8.0,8.0,8.0,8.0,8.0,12.0,12.0,18.0,41.0,41.0],\"yaxis\":\"y\",\"type\":\"scattergl\"},{\"hovertemplate\":\"country_txt=Haiti<br>iyear=%{x}<br>nkill=%{y}<extra></extra>\",\"legendgroup\":\"Haiti\",\"line\":{\"color\":\"#19d3f3\",\"dash\":\"solid\"},\"marker\":{\"symbol\":\"circle\"},\"mode\":\"lines\",\"name\":\"Haiti\",\"showlegend\":true,\"x\":[1973,1974,1983,1987,1988,1989,1990,1991,1992,1994,1995,1996,1997,1998,1999,2000,2001,2002,2003,2004,2005,2006,2007,2016],\"xaxis\":\"x\",\"y\":[0.0,0.0,5.0,9.0,12.0,12.0,25.0,162.0,180.0,267.0,283.0,297.0,306.0,306.0,309.0,314.0,314.0,314.0,318.0,325.0,326.0,328.0,329.0,336.0],\"yaxis\":\"y\",\"type\":\"scattergl\"},{\"hovertemplate\":\"country_txt=Honduras<br>iyear=%{x}<br>nkill=%{y}<extra></extra>\",\"legendgroup\":\"Honduras\",\"line\":{\"color\":\"#FF6692\",\"dash\":\"solid\"},\"marker\":{\"symbol\":\"circle\"},\"mode\":\"lines\",\"name\":\"Honduras\",\"showlegend\":true,\"x\":[1973,1979,1980,1981,1982,1983,1984,1985,1986,1987,1988,1989,1990,1991,1992,1994,1995,1996,1997,2002,2004,2009,2011,2013,2014,2016,2017],\"xaxis\":\"x\",\"y\":[0.0,1.0,7.0,14.0,38.0,113.0,118.0,125.0,135.0,156.0,188.0,197.0,200.0,218.0,223.0,233.0,241.0,252.0,266.0,266.0,294.0,296.0,298.0,303.0,303.0,305.0,307.0],\"yaxis\":\"y\",\"type\":\"scattergl\"},{\"hovertemplate\":\"country_txt=Hong Kong<br>iyear=%{x}<br>nkill=%{y}<extra></extra>\",\"legendgroup\":\"Hong Kong\",\"line\":{\"color\":\"#B6E880\",\"dash\":\"solid\"},\"marker\":{\"symbol\":\"circle\"},\"mode\":\"lines\",\"name\":\"Hong Kong\",\"showlegend\":true,\"x\":[1980,1981,1989,1990,1991,1992,1994,1995,1996,2000,2001,2005,2008],\"xaxis\":\"x\",\"y\":[0.0,0.0,0.0,0.0,0.0,1.0,4.0,4.0,4.0,4.0,4.0,4.0,4.0],\"yaxis\":\"y\",\"type\":\"scattergl\"},{\"hovertemplate\":\"country_txt=Hungary<br>iyear=%{x}<br>nkill=%{y}<extra></extra>\",\"legendgroup\":\"Hungary\",\"line\":{\"color\":\"#FF97FF\",\"dash\":\"solid\"},\"marker\":{\"symbol\":\"circle\"},\"mode\":\"lines\",\"name\":\"Hungary\",\"showlegend\":true,\"x\":[1989,1991,1992,1994,1996,1997,1998,2001,2008,2009,2014,2015,2016],\"xaxis\":\"x\",\"y\":[0.0,0.0,0.0,0.0,0.0,3.0,3.0,4.0,4.0,6.0,6.0,6.0,6.0],\"yaxis\":\"y\",\"type\":\"scattergl\"},{\"hovertemplate\":\"country_txt=Iceland<br>iyear=%{x}<br>nkill=%{y}<extra></extra>\",\"legendgroup\":\"Iceland\",\"line\":{\"color\":\"#FECB52\",\"dash\":\"solid\"},\"marker\":{\"symbol\":\"circle\"},\"mode\":\"lines\",\"name\":\"Iceland\",\"showlegend\":true,\"x\":[1983,1986,2012,2014],\"xaxis\":\"x\",\"y\":[0.0,0.0,0.0,0.0],\"yaxis\":\"y\",\"type\":\"scattergl\"},{\"hovertemplate\":\"country_txt=India<br>iyear=%{x}<br>nkill=%{y}<extra></extra>\",\"legendgroup\":\"India\",\"line\":{\"color\":\"#636efa\",\"dash\":\"solid\"},\"marker\":{\"symbol\":\"circle\"},\"mode\":\"lines\",\"name\":\"India\",\"showlegend\":true,\"x\":[1972,1975,1976,1977,1979,1980,1981,1982,1983,1984,1985,1986,1987,1988,1989,1990,1991,1992,1994,1995,1996,1997,1998,1999,2000,2001,2002,2003,2004,2005,2006,2007,2008,2009,2010,2011,2012,2013,2014,2015,2016,2017],\"xaxis\":\"x\",\"y\":[0.0,4.0,4.0,4.0,35.0,52.0,76.0,135.0,194.0,387.0,438.0,778.0,1284.0,2250.0,3124.0,4030.0,5143.0,6295.0,6684.0,7045.0,7614.0,8467.0,8865.0,9334.0,9999.0,10659.0,11241.0,11713.0,12047.0,12513.0,13229.0,13855.0,14678.0,15452.0,16253.0,16746.0,17010.0,17477.0,17967.0,18354.0,18821.0,19286.0],\"yaxis\":\"y\",\"type\":\"scattergl\"},{\"hovertemplate\":\"country_txt=Indonesia<br>iyear=%{x}<br>nkill=%{y}<extra></extra>\",\"legendgroup\":\"Indonesia\",\"line\":{\"color\":\"#EF553B\",\"dash\":\"solid\"},\"marker\":{\"symbol\":\"circle\"},\"mode\":\"lines\",\"name\":\"Indonesia\",\"showlegend\":true,\"x\":[1977,1978,1981,1984,1985,1986,1989,1990,1991,1992,1994,1995,1996,1997,1998,1999,2000,2001,2002,2003,2004,2005,2006,2007,2008,2009,2010,2011,2012,2013,2014,2015,2016,2017],\"xaxis\":\"x\",\"y\":[1.0,1.0,5.0,7.0,14.0,14.0,99.0,111.0,132.0,165.0,165.0,206.0,236.0,338.0,347.0,414.0,560.0,694.0,940.0,966.0,1008.0,1074.0,1080.0,1080.0,1080.0,1095.0,1095.0,1115.0,1130.0,1153.0,1173.0,1195.0,1217.0,1237.0],\"yaxis\":\"y\",\"type\":\"scattergl\"},{\"hovertemplate\":\"country_txt=International<br>iyear=%{x}<br>nkill=%{y}<extra></extra>\",\"legendgroup\":\"International\",\"line\":{\"color\":\"#00cc96\",\"dash\":\"solid\"},\"marker\":{\"symbol\":\"circle\"},\"mode\":\"lines\",\"name\":\"International\",\"showlegend\":true,\"x\":[2002],\"xaxis\":\"x\",\"y\":[1.0],\"yaxis\":\"y\",\"type\":\"scattergl\"},{\"hovertemplate\":\"country_txt=Iran<br>iyear=%{x}<br>nkill=%{y}<extra></extra>\",\"legendgroup\":\"Iran\",\"line\":{\"color\":\"#ab63fa\",\"dash\":\"solid\"},\"marker\":{\"symbol\":\"circle\"},\"mode\":\"lines\",\"name\":\"Iran\",\"showlegend\":true,\"x\":[1970,1971,1972,1973,1974,1975,1976,1977,1978,1979,1980,1981,1982,1983,1984,1985,1986,1987,1988,1989,1990,1991,1992,1994,1995,1996,1998,1999,2000,2001,2003,2005,2006,2007,2008,2009,2010,2011,2012,2013,2014,2015,2016,2017],\"xaxis\":\"x\",\"y\":[0.0,1.0,2.0,3.0,4.0,12.0,17.0,19.0,465.0,521.0,576.0,792.0,924.0,924.0,953.0,975.0,1014.0,1014.0,1032.0,1046.0,1056.0,1058.0,1067.0,1141.0,1141.0,1144.0,1150.0,1154.0,1159.0,1159.0,1159.0,1172.0,1220.0,1244.0,1270.0,1367.0,1482.0,1500.0,1512.0,1551.0,1564.0,1602.0,1614.0,1653.0],\"yaxis\":\"y\",\"type\":\"scattergl\"},{\"hovertemplate\":\"country_txt=Iraq<br>iyear=%{x}<br>nkill=%{y}<extra></extra>\",\"legendgroup\":\"Iraq\",\"line\":{\"color\":\"#FFA15A\",\"dash\":\"solid\"},\"marker\":{\"symbol\":\"circle\"},\"mode\":\"lines\",\"name\":\"Iraq\",\"showlegend\":true,\"x\":[1975,1976,1979,1980,1981,1982,1983,1984,1987,1988,1989,1991,1992,1994,1995,1996,1997,1998,1999,2000,2001,2002,2003,2004,2005,2006,2007,2008,2009,2010,2011,2012,2013,2014,2015,2016,2017],\"xaxis\":\"x\",\"y\":[0.0,12.0,13.0,19.0,19.0,115.0,116.0,116.0,116.0,159.0,159.0,160.0,277.0,352.0,508.0,519.0,625.0,644.0,676.0,686.0,695.0,705.0,1096.0,3265.0,6648.0,11241.0,17908.0,20772.0,23357.0,25430.0,27297.0,29983.0,37024.0,50989.0,59874.0,72081.0,78557.0],\"yaxis\":\"y\",\"type\":\"scattergl\"},{\"hovertemplate\":\"country_txt=Ireland<br>iyear=%{x}<br>nkill=%{y}<extra></extra>\",\"legendgroup\":\"Ireland\",\"line\":{\"color\":\"#19d3f3\",\"dash\":\"solid\"},\"marker\":{\"symbol\":\"circle\"},\"mode\":\"lines\",\"name\":\"Ireland\",\"showlegend\":true,\"x\":[1970,1971,1972,1973,1974,1975,1976,1977,1978,1979,1980,1981,1982,1983,1984,1985,1986,1987,1989,1990,1991,1992,1994,1995,1996,1997,1998,1999,2001,2003,2006,2007,2008,2010,2011,2012,2013,2014,2015,2016,2017],\"xaxis\":\"x\",\"y\":[1.0,2.0,8.0,12.0,46.0,53.0,58.0,60.0,61.0,70.0,82.0,83.0,85.0,90.0,91.0,93.0,93.0,99.0,102.0,102.0,105.0,105.0,109.0,110.0,111.0,111.0,112.0,112.0,112.0,112.0,113.0,113.0,113.0,113.0,114.0,114.0,114.0,114.0,114.0,116.0,116.0],\"yaxis\":\"y\",\"type\":\"scattergl\"},{\"hovertemplate\":\"country_txt=Israel<br>iyear=%{x}<br>nkill=%{y}<extra></extra>\",\"legendgroup\":\"Israel\",\"line\":{\"color\":\"#FF6692\",\"dash\":\"solid\"},\"marker\":{\"symbol\":\"circle\"},\"mode\":\"lines\",\"name\":\"Israel\",\"showlegend\":true,\"x\":[1971,1972,1973,1974,1975,1976,1977,1978,1979,1980,1981,1982,1983,1984,1985,1986,1987,1988,1989,1990,1991,1992,1994,1995,1996,1997,1998,1999,2000,2001,2002,2003,2004,2005,2006,2007,2008,2009,2010,2011,2012,2013,2014,2015,2016,2017],\"xaxis\":\"x\",\"y\":[1.0,27.0,29.0,107.0,131.0,132.0,137.0,189.0,253.0,267.0,270.0,273.0,289.0,296.0,308.0,316.0,327.0,340.0,383.0,440.0,471.0,509.0,569.0,587.0,660.0,691.0,710.0,716.0,727.0,868.0,1205.0,1361.0,1420.0,1465.0,1522.0,1539.0,1573.0,1574.0,1578.0,1599.0,1613.0,1615.0,1664.0,1684.0,1700.0,1703.0],\"yaxis\":\"y\",\"type\":\"scattergl\"},{\"hovertemplate\":\"country_txt=Italy<br>iyear=%{x}<br>nkill=%{y}<extra></extra>\",\"legendgroup\":\"Italy\",\"line\":{\"color\":\"#B6E880\",\"dash\":\"solid\"},\"marker\":{\"symbol\":\"circle\"},\"mode\":\"lines\",\"name\":\"Italy\",\"showlegend\":true,\"x\":[1970,1971,1972,1973,1974,1975,1976,1977,1978,1979,1980,1981,1982,1983,1984,1985,1986,1987,1988,1989,1990,1991,1992,1994,1995,1996,1997,1998,1999,2000,2001,2002,2003,2004,2005,2006,2008,2009,2010,2011,2012,2013,2014,2015,2016,2017],\"xaxis\":\"x\",\"y\":[0.0,0.0,1.0,63.0,86.0,86.0,95.0,120.0,146.0,170.0,302.0,326.0,338.0,340.0,363.0,382.0,383.0,386.0,392.0,392.0,392.0,392.0,409.0,411.0,411.0,411.0,411.0,411.0,412.0,412.0,412.0,413.0,413.0,414.0,415.0,415.0,415.0,415.0,415.0,417.0,417.0,417.0,417.0,417.0,418.0,418.0],\"yaxis\":\"y\",\"type\":\"scattergl\"},{\"hovertemplate\":\"country_txt=Ivory Coast<br>iyear=%{x}<br>nkill=%{y}<extra></extra>\",\"legendgroup\":\"Ivory Coast\",\"line\":{\"color\":\"#FF97FF\",\"dash\":\"solid\"},\"marker\":{\"symbol\":\"circle\"},\"mode\":\"lines\",\"name\":\"Ivory Coast\",\"showlegend\":true,\"x\":[1992,1994,1995,1996,1997,2000,2001,2002,2004,2005,2006,2007,2010,2011,2012,2013,2014,2015,2016,2017],\"xaxis\":\"x\",\"y\":[1.0,6.0,46.0,51.0,51.0,55.0,67.0,70.0,82.0,123.0,143.0,143.0,153.0,176.0,221.0,225.0,229.0,243.0,265.0,268.0],\"yaxis\":\"y\",\"type\":\"scattergl\"},{\"hovertemplate\":\"country_txt=Jamaica<br>iyear=%{x}<br>nkill=%{y}<extra></extra>\",\"legendgroup\":\"Jamaica\",\"line\":{\"color\":\"#FECB52\",\"dash\":\"solid\"},\"marker\":{\"symbol\":\"circle\"},\"mode\":\"lines\",\"name\":\"Jamaica\",\"showlegend\":true,\"x\":[1974,1976,1979,1980,1981,1986,1991,1992,1994,1995,1996,1997,2007,2014,2017],\"xaxis\":\"x\",\"y\":[0.0,0.0,4.0,15.0,20.0,23.0,23.0,28.0,30.0,31.0,32.0,42.0,42.0,42.0,42.0],\"yaxis\":\"y\",\"type\":\"scattergl\"},{\"hovertemplate\":\"country_txt=Japan<br>iyear=%{x}<br>nkill=%{y}<extra></extra>\",\"legendgroup\":\"Japan\",\"line\":{\"color\":\"#636efa\",\"dash\":\"solid\"},\"marker\":{\"symbol\":\"circle\"},\"mode\":\"lines\",\"name\":\"Japan\",\"showlegend\":true,\"x\":[1970,1973,1974,1975,1976,1978,1979,1981,1982,1983,1984,1985,1986,1987,1988,1989,1990,1991,1992,1994,1995,1996,1997,1998,1999,2000,2001,2002,2003,2008,2009,2013,2014,2015,2016],\"xaxis\":\"x\",\"y\":[0.0,0.0,0.0,0.0,2.0,6.0,8.0,8.0,8.0,10.0,10.0,12.0,15.0,16.0,16.0,18.0,20.0,21.0,21.0,29.0,44.0,44.0,44.0,44.0,44.0,44.0,44.0,44.0,44.0,44.0,44.0,44.0,44.0,44.0,63.0],\"yaxis\":\"y\",\"type\":\"scattergl\"},{\"hovertemplate\":\"country_txt=Jordan<br>iyear=%{x}<br>nkill=%{y}<extra></extra>\",\"legendgroup\":\"Jordan\",\"line\":{\"color\":\"#EF553B\",\"dash\":\"solid\"},\"marker\":{\"symbol\":\"circle\"},\"mode\":\"lines\",\"name\":\"Jordan\",\"showlegend\":true,\"x\":[1970,1971,1972,1973,1976,1980,1981,1982,1983,1984,1988,1990,1991,1992,1994,1995,1996,1997,1998,1999,2000,2001,2002,2005,2006,2010,2012,2013,2014,2015,2016,2017],\"xaxis\":\"x\",\"y\":[1.0,1.0,3.0,3.0,12.0,13.0,13.0,13.0,13.0,14.0,14.0,14.0,15.0,16.0,16.0,17.0,17.0,17.0,17.0,17.0,17.0,18.0,21.0,83.0,84.0,85.0,86.0,86.0,87.0,94.0,129.0,133.0],\"yaxis\":\"y\",\"type\":\"scattergl\"},{\"hovertemplate\":\"country_txt=Kazakhstan<br>iyear=%{x}<br>nkill=%{y}<extra></extra>\",\"legendgroup\":\"Kazakhstan\",\"line\":{\"color\":\"#00cc96\",\"dash\":\"solid\"},\"marker\":{\"symbol\":\"circle\"},\"mode\":\"lines\",\"name\":\"Kazakhstan\",\"showlegend\":true,\"x\":[1992,1994,1997,2000,2001,2008,2011,2012,2013,2016],\"xaxis\":\"x\",\"y\":[7.0,7.0,9.0,11.0,11.0,13.0,25.0,27.0,27.0,37.0],\"yaxis\":\"y\",\"type\":\"scattergl\"},{\"hovertemplate\":\"country_txt=Kenya<br>iyear=%{x}<br>nkill=%{y}<extra></extra>\",\"legendgroup\":\"Kenya\",\"line\":{\"color\":\"#ab63fa\",\"dash\":\"solid\"},\"marker\":{\"symbol\":\"circle\"},\"mode\":\"lines\",\"name\":\"Kenya\",\"showlegend\":true,\"x\":[1975,1976,1978,1980,1989,1991,1992,1994,1995,1996,1997,1998,2000,2001,2002,2003,2005,2006,2007,2008,2009,2010,2011,2012,2013,2014,2015,2016,2017],\"xaxis\":\"x\",\"y\":[27.0,27.0,31.0,46.0,50.0,50.0,205.0,245.0,247.0,249.0,285.0,511.0,537.0,550.0,566.0,569.0,625.0,643.0,676.0,779.0,779.0,798.0,840.0,947.0,1154.0,1469.0,1750.0,1822.0,1948.0],\"yaxis\":\"y\",\"type\":\"scattergl\"},{\"hovertemplate\":\"country_txt=Kosovo<br>iyear=%{x}<br>nkill=%{y}<extra></extra>\",\"legendgroup\":\"Kosovo\",\"line\":{\"color\":\"#FFA15A\",\"dash\":\"solid\"},\"marker\":{\"symbol\":\"circle\"},\"mode\":\"lines\",\"name\":\"Kosovo\",\"showlegend\":true,\"x\":[1999,2000,2001,2002,2003,2004,2005,2006,2007,2008,2009,2010,2012,2013,2014,2015,2016,2017],\"xaxis\":\"x\",\"y\":[23.0,46.0,66.0,67.0,74.0,74.0,75.0,75.0,76.0,76.0,76.0,77.0,80.0,81.0,83.0,83.0,83.0,83.0],\"yaxis\":\"y\",\"type\":\"scattergl\"},{\"hovertemplate\":\"country_txt=Kuwait<br>iyear=%{x}<br>nkill=%{y}<extra></extra>\",\"legendgroup\":\"Kuwait\",\"line\":{\"color\":\"#19d3f3\",\"dash\":\"solid\"},\"marker\":{\"symbol\":\"circle\"},\"mode\":\"lines\",\"name\":\"Kuwait\",\"showlegend\":true,\"x\":[1974,1975,1976,1978,1980,1981,1982,1983,1984,1985,1986,1987,1988,1991,1992,1994,1997,2001,2002,2003,2005,2011,2015,2016],\"xaxis\":\"x\",\"y\":[0.0,0.0,0.0,1.0,1.0,3.0,3.0,4.0,8.0,19.0,19.0,20.0,22.0,23.0,25.0,25.0,25.0,27.0,31.0,32.0,34.0,34.0,62.0,63.0],\"yaxis\":\"y\",\"type\":\"scattergl\"},{\"hovertemplate\":\"country_txt=Kyrgyzstan<br>iyear=%{x}<br>nkill=%{y}<extra></extra>\",\"legendgroup\":\"Kyrgyzstan\",\"line\":{\"color\":\"#FF6692\",\"dash\":\"solid\"},\"marker\":{\"symbol\":\"circle\"},\"mode\":\"lines\",\"name\":\"Kyrgyzstan\",\"showlegend\":true,\"x\":[1996,1999,2000,2001,2002,2003,2005,2006,2007,2010,2011,2014,2015,2016,2017],\"xaxis\":\"x\",\"y\":[0.0,1.0,3.0,3.0,5.0,6.0,6.0,7.0,7.0,7.0,7.0,8.0,9.0,10.0,10.0],\"yaxis\":\"y\",\"type\":\"scattergl\"},{\"hovertemplate\":\"country_txt=Laos<br>iyear=%{x}<br>nkill=%{y}<extra></extra>\",\"legendgroup\":\"Laos\",\"line\":{\"color\":\"#B6E880\",\"dash\":\"solid\"},\"marker\":{\"symbol\":\"circle\"},\"mode\":\"lines\",\"name\":\"Laos\",\"showlegend\":true,\"x\":[1989,1990,1992,1994,1996,2000,2001,2003,2012,2015,2016,2017],\"xaxis\":\"x\",\"y\":[2.0,2.0,5.0,7.0,12.0,13.0,13.0,23.0,23.0,23.0,26.0,27.0],\"yaxis\":\"y\",\"type\":\"scattergl\"},{\"hovertemplate\":\"country_txt=Latvia<br>iyear=%{x}<br>nkill=%{y}<extra></extra>\",\"legendgroup\":\"Latvia\",\"line\":{\"color\":\"#FF97FF\",\"dash\":\"solid\"},\"marker\":{\"symbol\":\"circle\"},\"mode\":\"lines\",\"name\":\"Latvia\",\"showlegend\":true,\"x\":[1992,1994,1995,1997,1998,1999,2000,2007,2017],\"xaxis\":\"x\",\"y\":[0.0,1.0,1.0,1.0,1.0,1.0,2.0,2.0,2.0],\"yaxis\":\"y\",\"type\":\"scattergl\"},{\"hovertemplate\":\"country_txt=Lebanon<br>iyear=%{x}<br>nkill=%{y}<extra></extra>\",\"legendgroup\":\"Lebanon\",\"line\":{\"color\":\"#FECB52\",\"dash\":\"solid\"},\"marker\":{\"symbol\":\"circle\"},\"mode\":\"lines\",\"name\":\"Lebanon\",\"showlegend\":true,\"x\":[1970,1971,1972,1973,1974,1975,1976,1977,1978,1979,1980,1981,1982,1983,1984,1985,1986,1987,1988,1989,1990,1991,1992,1994,1995,1996,1997,1998,1999,2000,2001,2002,2003,2004,2005,2006,2007,2008,2009,2010,2011,2012,2013,2014,2015,2016,2017],\"xaxis\":\"x\",\"y\":[0.0,0.0,0.0,4.0,4.0,32.0,36.0,39.0,146.0,179.0,269.0,533.0,764.0,1373.0,1433.0,2077.0,2323.0,2501.0,2677.0,2790.0,2903.0,2999.0,3078.0,3135.0,3170.0,3227.0,3263.0,3280.0,3303.0,3315.0,3315.0,3317.0,3320.0,3321.0,3343.0,3360.0,3400.0,3542.0,3559.0,3561.0,3562.0,3571.0,3761.0,3895.0,4006.0,4031.0,4048.0],\"yaxis\":\"y\",\"type\":\"scattergl\"},{\"hovertemplate\":\"country_txt=Lesotho<br>iyear=%{x}<br>nkill=%{y}<extra></extra>\",\"legendgroup\":\"Lesotho\",\"line\":{\"color\":\"#636efa\",\"dash\":\"solid\"},\"marker\":{\"symbol\":\"circle\"},\"mode\":\"lines\",\"name\":\"Lesotho\",\"showlegend\":true,\"x\":[1979,1981,1982,1983,1984,1988,1994,2006,2009,2015],\"xaxis\":\"x\",\"y\":[0.0,10.0,10.0,40.0,41.0,45.0,45.0,45.0,45.0,46.0],\"yaxis\":\"y\",\"type\":\"scattergl\"},{\"hovertemplate\":\"country_txt=Liberia<br>iyear=%{x}<br>nkill=%{y}<extra></extra>\",\"legendgroup\":\"Liberia\",\"line\":{\"color\":\"#EF553B\",\"dash\":\"solid\"},\"marker\":{\"symbol\":\"circle\"},\"mode\":\"lines\",\"name\":\"Liberia\",\"showlegend\":true,\"x\":[1990,1991,1992,1994,1996,1999,2000,2001,2002,2003,2008,2012,2014,2017],\"xaxis\":\"x\",\"y\":[2.0,2.0,39.0,149.0,159.0,159.0,159.0,160.0,163.0,165.0,177.0,177.0,177.0,177.0],\"yaxis\":\"y\",\"type\":\"scattergl\"},{\"hovertemplate\":\"country_txt=Libya<br>iyear=%{x}<br>nkill=%{y}<extra></extra>\",\"legendgroup\":\"Libya\",\"line\":{\"color\":\"#00cc96\",\"dash\":\"solid\"},\"marker\":{\"symbol\":\"circle\"},\"mode\":\"lines\",\"name\":\"Libya\",\"showlegend\":true,\"x\":[1979,1980,1984,1992,1995,1996,2007,2008,2011,2012,2013,2014,2015,2016,2017],\"xaxis\":\"x\",\"y\":[0.0,0.0,15.0,15.0,15.0,27.0,27.0,27.0,27.0,60.0,292.0,986.0,1675.0,2309.0,2598.0],\"yaxis\":\"y\",\"type\":\"scattergl\"},{\"hovertemplate\":\"country_txt=Lithuania<br>iyear=%{x}<br>nkill=%{y}<extra></extra>\",\"legendgroup\":\"Lithuania\",\"line\":{\"color\":\"#ab63fa\",\"dash\":\"solid\"},\"marker\":{\"symbol\":\"circle\"},\"mode\":\"lines\",\"name\":\"Lithuania\",\"showlegend\":true,\"x\":[1991,1992,1995,1996,1997],\"xaxis\":\"x\",\"y\":[0.0,0.0,0.0,0.0,1.0],\"yaxis\":\"y\",\"type\":\"scattergl\"},{\"hovertemplate\":\"country_txt=Luxembourg<br>iyear=%{x}<br>nkill=%{y}<extra></extra>\",\"legendgroup\":\"Luxembourg\",\"line\":{\"color\":\"#FFA15A\",\"dash\":\"solid\"},\"marker\":{\"symbol\":\"circle\"},\"mode\":\"lines\",\"name\":\"Luxembourg\",\"showlegend\":true,\"x\":[1983,1985,1986,1994],\"xaxis\":\"x\",\"y\":[0.0,0.0,0.0,0.0],\"yaxis\":\"y\",\"type\":\"scattergl\"},{\"hovertemplate\":\"country_txt=Macau<br>iyear=%{x}<br>nkill=%{y}<extra></extra>\",\"legendgroup\":\"Macau\",\"line\":{\"color\":\"#19d3f3\",\"dash\":\"solid\"},\"marker\":{\"symbol\":\"circle\"},\"mode\":\"lines\",\"name\":\"Macau\",\"showlegend\":true,\"x\":[1995,1996,1997,1998],\"xaxis\":\"x\",\"y\":[0.0,0.0,1.0,1.0],\"yaxis\":\"y\",\"type\":\"scattergl\"},{\"hovertemplate\":\"country_txt=Macedonia<br>iyear=%{x}<br>nkill=%{y}<extra></extra>\",\"legendgroup\":\"Macedonia\",\"line\":{\"color\":\"#FF6692\",\"dash\":\"solid\"},\"marker\":{\"symbol\":\"circle\"},\"mode\":\"lines\",\"name\":\"Macedonia\",\"showlegend\":true,\"x\":[1994,1995,1997,1998,1999,2000,2001,2002,2003,2006,2007,2008,2009,2012,2014,2015,2017],\"xaxis\":\"x\",\"y\":[0.0,1.0,1.0,1.0,1.0,4.0,39.0,42.0,42.0,42.0,42.0,44.0,44.0,49.0,49.0,49.0,49.0],\"yaxis\":\"y\",\"type\":\"scattergl\"},{\"hovertemplate\":\"country_txt=Madagascar<br>iyear=%{x}<br>nkill=%{y}<extra></extra>\",\"legendgroup\":\"Madagascar\",\"line\":{\"color\":\"#B6E880\",\"dash\":\"solid\"},\"marker\":{\"symbol\":\"circle\"},\"mode\":\"lines\",\"name\":\"Madagascar\",\"showlegend\":true,\"x\":[1991,1992,1995,1996,1997,2002,2006,2009,2011,2012,2013,2014,2016],\"xaxis\":\"x\",\"y\":[4.0,20.0,24.0,25.0,25.0,25.0,25.0,27.0,27.0,27.0,27.0,28.0,31.0],\"yaxis\":\"y\",\"type\":\"scattergl\"},{\"hovertemplate\":\"country_txt=Malawi<br>iyear=%{x}<br>nkill=%{y}<extra></extra>\",\"legendgroup\":\"Malawi\",\"line\":{\"color\":\"#FF97FF\",\"dash\":\"solid\"},\"marker\":{\"symbol\":\"circle\"},\"mode\":\"lines\",\"name\":\"Malawi\",\"showlegend\":true,\"x\":[1992,2002,2017],\"xaxis\":\"x\",\"y\":[32.0,33.0,33.0],\"yaxis\":\"y\",\"type\":\"scattergl\"},{\"hovertemplate\":\"country_txt=Malaysia<br>iyear=%{x}<br>nkill=%{y}<extra></extra>\",\"legendgroup\":\"Malaysia\",\"line\":{\"color\":\"#FECB52\",\"dash\":\"solid\"},\"marker\":{\"symbol\":\"circle\"},\"mode\":\"lines\",\"name\":\"Malaysia\",\"showlegend\":true,\"x\":[1973,1975,1977,1979,1983,1986,1988,1989,1990,1991,1992,2000,2001,2008,2009,2012,2013,2014,2015,2016,2017],\"xaxis\":\"x\",\"y\":[0.0,0.0,100.0,105.0,105.0,125.0,134.0,134.0,134.0,134.0,134.0,136.0,136.0,136.0,136.0,138.0,140.0,141.0,142.0,148.0,152.0],\"yaxis\":\"y\",\"type\":\"scattergl\"},{\"hovertemplate\":\"country_txt=Maldives<br>iyear=%{x}<br>nkill=%{y}<extra></extra>\",\"legendgroup\":\"Maldives\",\"line\":{\"color\":\"#636efa\",\"dash\":\"solid\"},\"marker\":{\"symbol\":\"circle\"},\"mode\":\"lines\",\"name\":\"Maldives\",\"showlegend\":true,\"x\":[1988,2006,2007,2008,2012,2013,2014,2015,2016,2017],\"xaxis\":\"x\",\"y\":[19.0,19.0,19.0,19.0,19.0,19.0,19.0,19.0,19.0,20.0],\"yaxis\":\"y\",\"type\":\"scattergl\"},{\"hovertemplate\":\"country_txt=Mali<br>iyear=%{x}<br>nkill=%{y}<extra></extra>\",\"legendgroup\":\"Mali\",\"line\":{\"color\":\"#EF553B\",\"dash\":\"solid\"},\"marker\":{\"symbol\":\"circle\"},\"mode\":\"lines\",\"name\":\"Mali\",\"showlegend\":true,\"x\":[1990,1991,1992,1994,1995,1997,2005,2007,2008,2009,2010,2011,2012,2013,2014,2015,2016,2017],\"xaxis\":\"x\",\"y\":[14.0,57.0,62.0,193.0,195.0,195.0,195.0,215.0,270.0,300.0,301.0,306.0,359.0,496.0,621.0,890.0,1071.0,1432.0],\"yaxis\":\"y\",\"type\":\"scattergl\"},{\"hovertemplate\":\"country_txt=Malta<br>iyear=%{x}<br>nkill=%{y}<extra></extra>\",\"legendgroup\":\"Malta\",\"line\":{\"color\":\"#00cc96\",\"dash\":\"solid\"},\"marker\":{\"symbol\":\"circle\"},\"mode\":\"lines\",\"name\":\"Malta\",\"showlegend\":true,\"x\":[1984,1985,1986,1987,1992,1995,1997,2014,2015,2017],\"xaxis\":\"x\",\"y\":[0.0,0.0,1.0,1.0,2.0,3.0,3.0,3.0,3.0,4.0],\"yaxis\":\"y\",\"type\":\"scattergl\"},{\"hovertemplate\":\"country_txt=Martinique<br>iyear=%{x}<br>nkill=%{y}<extra></extra>\",\"legendgroup\":\"Martinique\",\"line\":{\"color\":\"#ab63fa\",\"dash\":\"solid\"},\"marker\":{\"symbol\":\"circle\"},\"mode\":\"lines\",\"name\":\"Martinique\",\"showlegend\":true,\"x\":[1981,1983,1984,1987,1988,1991,1992],\"xaxis\":\"x\",\"y\":[0.0,0.0,0.0,0.0,0.0,0.0,0.0],\"yaxis\":\"y\",\"type\":\"scattergl\"},{\"hovertemplate\":\"country_txt=Mauritania<br>iyear=%{x}<br>nkill=%{y}<extra></extra>\",\"legendgroup\":\"Mauritania\",\"line\":{\"color\":\"#FFA15A\",\"dash\":\"solid\"},\"marker\":{\"symbol\":\"circle\"},\"mode\":\"lines\",\"name\":\"Mauritania\",\"showlegend\":true,\"x\":[1977,1996,2004,2005,2008,2009,2010,2011],\"xaxis\":\"x\",\"y\":[4.0,4.0,4.0,27.0,39.0,41.0,42.0,43.0],\"yaxis\":\"y\",\"type\":\"scattergl\"},{\"hovertemplate\":\"country_txt=Mauritius<br>iyear=%{x}<br>nkill=%{y}<extra></extra>\",\"legendgroup\":\"Mauritius\",\"line\":{\"color\":\"#19d3f3\",\"dash\":\"solid\"},\"marker\":{\"symbol\":\"circle\"},\"mode\":\"lines\",\"name\":\"Mauritius\",\"showlegend\":true,\"x\":[1988,1989],\"xaxis\":\"x\",\"y\":[0.0,0.0],\"yaxis\":\"y\",\"type\":\"scattergl\"},{\"hovertemplate\":\"country_txt=Mexico<br>iyear=%{x}<br>nkill=%{y}<extra></extra>\",\"legendgroup\":\"Mexico\",\"line\":{\"color\":\"#FF6692\",\"dash\":\"solid\"},\"marker\":{\"symbol\":\"circle\"},\"mode\":\"lines\",\"name\":\"Mexico\",\"showlegend\":true,\"x\":[1970,1972,1973,1974,1975,1976,1977,1978,1979,1980,1981,1982,1983,1984,1985,1986,1987,1988,1989,1990,1991,1992,1994,1995,1996,1997,1998,1999,2000,2001,2003,2004,2005,2006,2007,2008,2009,2010,2011,2012,2013,2014,2015,2016,2017],\"xaxis\":\"x\",\"y\":[0.0,0.0,1.0,3.0,35.0,61.0,72.0,77.0,82.0,85.0,85.0,86.0,86.0,99.0,99.0,99.0,99.0,101.0,101.0,104.0,117.0,123.0,211.0,272.0,368.0,597.0,600.0,600.0,605.0,618.0,620.0,620.0,622.0,629.0,654.0,675.0,677.0,677.0,677.0,694.0,741.0,742.0,751.0,755.0,778.0],\"yaxis\":\"y\",\"type\":\"scattergl\"},{\"hovertemplate\":\"country_txt=Moldova<br>iyear=%{x}<br>nkill=%{y}<extra></extra>\",\"legendgroup\":\"Moldova\",\"line\":{\"color\":\"#B6E880\",\"dash\":\"solid\"},\"marker\":{\"symbol\":\"circle\"},\"mode\":\"lines\",\"name\":\"Moldova\",\"showlegend\":true,\"x\":[1991,1992,1994,1996,1997,2000,2006,2009,2012,2016],\"xaxis\":\"x\",\"y\":[0.0,10.0,11.0,11.0,11.0,11.0,13.0,13.0,13.0,13.0],\"yaxis\":\"y\",\"type\":\"scattergl\"},{\"hovertemplate\":\"country_txt=Montenegro<br>iyear=%{x}<br>nkill=%{y}<extra></extra>\",\"legendgroup\":\"Montenegro\",\"line\":{\"color\":\"#FF97FF\",\"dash\":\"solid\"},\"marker\":{\"symbol\":\"circle\"},\"mode\":\"lines\",\"name\":\"Montenegro\",\"showlegend\":true,\"x\":[2001,2007,2013,2015],\"xaxis\":\"x\",\"y\":[1.0,1.0,1.0,1.0],\"yaxis\":\"y\",\"type\":\"scattergl\"},{\"hovertemplate\":\"country_txt=Morocco<br>iyear=%{x}<br>nkill=%{y}<extra></extra>\",\"legendgroup\":\"Morocco\",\"line\":{\"color\":\"#FECB52\",\"dash\":\"solid\"},\"marker\":{\"symbol\":\"circle\"},\"mode\":\"lines\",\"name\":\"Morocco\",\"showlegend\":true,\"x\":[1973,1976,1978,1979,1985,1986,1987,1991,1992,1994,1995,1996,2003,2007,2011,2015],\"xaxis\":\"x\",\"y\":[0.0,0.0,10.0,10.0,10.0,12.0,212.0,215.0,217.0,217.0,217.0,217.0,262.0,275.0,292.0,292.0],\"yaxis\":\"y\",\"type\":\"scattergl\"},{\"hovertemplate\":\"country_txt=Mozambique<br>iyear=%{x}<br>nkill=%{y}<extra></extra>\",\"legendgroup\":\"Mozambique\",\"line\":{\"color\":\"#636efa\",\"dash\":\"solid\"},\"marker\":{\"symbol\":\"circle\"},\"mode\":\"lines\",\"name\":\"Mozambique\",\"showlegend\":true,\"x\":[1978,1979,1981,1982,1983,1984,1985,1986,1987,1988,1989,1990,1991,1992,1994,1995,1999,2000,2007,2012,2013,2014,2015,2016,2017],\"xaxis\":\"x\",\"y\":[2.0,36.0,42.0,60.0,65.0,115.0,123.0,593.0,1061.0,1206.0,1916.0,2101.0,2372.0,2527.0,2527.0,2542.0,2542.0,2543.0,2549.0,2550.0,2587.0,2609.0,2621.0,2683.0,2705.0],\"yaxis\":\"y\",\"type\":\"scattergl\"},{\"hovertemplate\":\"country_txt=Myanmar<br>iyear=%{x}<br>nkill=%{y}<extra></extra>\",\"legendgroup\":\"Myanmar\",\"line\":{\"color\":\"#EF553B\",\"dash\":\"solid\"},\"marker\":{\"symbol\":\"circle\"},\"mode\":\"lines\",\"name\":\"Myanmar\",\"showlegend\":true,\"x\":[1973,1976,1979,1980,1982,1983,1987,1988,1989,1990,1991,1992,1994,1995,1996,1997,1999,2001,2002,2003,2004,2005,2006,2007,2008,2009,2010,2011,2012,2013,2014,2015,2016,2017],\"xaxis\":\"x\",\"y\":[0.0,0.0,86.0,92.0,95.0,116.0,116.0,209.0,289.0,360.0,450.0,589.0,607.0,637.0,723.0,739.0,749.0,757.0,762.0,780.0,781.0,802.0,802.0,812.0,826.0,872.0,885.0,885.0,901.0,912.0,929.0,989.0,1062.0,1280.0],\"yaxis\":\"y\",\"type\":\"scattergl\"},{\"hovertemplate\":\"country_txt=Namibia<br>iyear=%{x}<br>nkill=%{y}<extra></extra>\",\"legendgroup\":\"Namibia\",\"line\":{\"color\":\"#00cc96\",\"dash\":\"solid\"},\"marker\":{\"symbol\":\"circle\"},\"mode\":\"lines\",\"name\":\"Namibia\",\"showlegend\":true,\"x\":[1975,1976,1978,1979,1980,1982,1983,1984,1985,1986,1987,1988,1989,1990,1991,1994,1999,2000,2001],\"xaxis\":\"x\",\"y\":[1.0,4.0,6.0,38.0,39.0,41.0,45.0,69.0,143.0,148.0,150.0,175.0,176.0,176.0,179.0,179.0,192.0,216.0,217.0],\"yaxis\":\"y\",\"type\":\"scattergl\"},{\"hovertemplate\":\"country_txt=Nepal<br>iyear=%{x}<br>nkill=%{y}<extra></extra>\",\"legendgroup\":\"Nepal\",\"line\":{\"color\":\"#ab63fa\",\"dash\":\"solid\"},\"marker\":{\"symbol\":\"circle\"},\"mode\":\"lines\",\"name\":\"Nepal\",\"showlegend\":true,\"x\":[1985,1991,1992,1994,1996,1997,1999,2000,2001,2002,2003,2004,2005,2006,2007,2008,2009,2010,2011,2012,2013,2014,2015,2016,2017],\"xaxis\":\"x\",\"y\":[6.0,6.0,15.0,19.0,25.0,40.0,58.0,149.0,321.0,807.0,829.0,1459.0,1670.0,1803.0,1847.0,1897.0,1917.0,1927.0,1943.0,1952.0,1955.0,1955.0,1955.0,1960.0,1964.0],\"yaxis\":\"y\",\"type\":\"scattergl\"},{\"hovertemplate\":\"country_txt=Netherlands<br>iyear=%{x}<br>nkill=%{y}<extra></extra>\",\"legendgroup\":\"Netherlands\",\"line\":{\"color\":\"#FFA15A\",\"dash\":\"solid\"},\"marker\":{\"symbol\":\"circle\"},\"mode\":\"lines\",\"name\":\"Netherlands\",\"showlegend\":true,\"x\":[1970,1971,1972,1973,1974,1975,1976,1977,1978,1979,1980,1981,1982,1983,1984,1985,1986,1987,1988,1989,1990,1991,1992,1994,1995,1996,1997,1999,2000,2001,2002,2003,2004,2008,2009,2010,2011,2014,2015,2016,2017],\"xaxis\":\"x\",\"y\":[1.0,1.0,1.0,2.0,2.0,5.0,5.0,14.0,15.0,18.0,18.0,18.0,18.0,18.0,18.0,18.0,18.0,18.0,22.0,22.0,24.0,24.0,24.0,24.0,25.0,25.0,25.0,25.0,25.0,25.0,26.0,26.0,27.0,27.0,34.0,34.0,34.0,34.0,34.0,35.0,35.0],\"yaxis\":\"y\",\"type\":\"scattergl\"},{\"hovertemplate\":\"country_txt=New Caledonia<br>iyear=%{x}<br>nkill=%{y}<extra></extra>\",\"legendgroup\":\"New Caledonia\",\"line\":{\"color\":\"#19d3f3\",\"dash\":\"solid\"},\"marker\":{\"symbol\":\"circle\"},\"mode\":\"lines\",\"name\":\"New Caledonia\",\"showlegend\":true,\"x\":[1984,1985,1986,1988,1989,1992],\"xaxis\":\"x\",\"y\":[11.0,11.0,11.0,33.0,35.0,35.0],\"yaxis\":\"y\",\"type\":\"scattergl\"},{\"hovertemplate\":\"country_txt=New Hebrides<br>iyear=%{x}<br>nkill=%{y}<extra></extra>\",\"legendgroup\":\"New Hebrides\",\"line\":{\"color\":\"#FF6692\",\"dash\":\"solid\"},\"marker\":{\"symbol\":\"circle\"},\"mode\":\"lines\",\"name\":\"New Hebrides\",\"showlegend\":true,\"x\":[1980],\"xaxis\":\"x\",\"y\":[0.0],\"yaxis\":\"y\",\"type\":\"scattergl\"},{\"hovertemplate\":\"country_txt=New Zealand<br>iyear=%{x}<br>nkill=%{y}<extra></extra>\",\"legendgroup\":\"New Zealand\",\"line\":{\"color\":\"#B6E880\",\"dash\":\"solid\"},\"marker\":{\"symbol\":\"circle\"},\"mode\":\"lines\",\"name\":\"New Zealand\",\"showlegend\":true,\"x\":[1973,1981,1984,1991,1994,1996,1997,2003,2008,2014,2016],\"xaxis\":\"x\",\"y\":[0.0,0.0,1.0,1.0,1.0,1.0,1.0,1.0,1.0,1.0,1.0],\"yaxis\":\"y\",\"type\":\"scattergl\"},{\"hovertemplate\":\"country_txt=Nicaragua<br>iyear=%{x}<br>nkill=%{y}<extra></extra>\",\"legendgroup\":\"Nicaragua\",\"line\":{\"color\":\"#FF97FF\",\"dash\":\"solid\"},\"marker\":{\"symbol\":\"circle\"},\"mode\":\"lines\",\"name\":\"Nicaragua\",\"showlegend\":true,\"x\":[1970,1974,1975,1977,1978,1979,1980,1981,1982,1983,1984,1985,1986,1987,1988,1989,1990,1991,1992,1994,1995,1996,1997,1999,2000,2014],\"xaxis\":\"x\",\"y\":[0.0,0.0,11.0,37.0,129.0,297.0,334.0,499.0,753.0,4029.0,7646.0,9221.0,9616.0,10165.0,10373.0,10421.0,10444.0,10498.0,10520.0,10532.0,10538.0,10556.0,10563.0,10563.0,10565.0,10570.0],\"yaxis\":\"y\",\"type\":\"scattergl\"},{\"hovertemplate\":\"country_txt=Niger<br>iyear=%{x}<br>nkill=%{y}<extra></extra>\",\"legendgroup\":\"Niger\",\"line\":{\"color\":\"#FECB52\",\"dash\":\"solid\"},\"marker\":{\"symbol\":\"circle\"},\"mode\":\"lines\",\"name\":\"Niger\",\"showlegend\":true,\"x\":[1985,1989,1991,1992,1994,1995,1996,1997,1999,2007,2008,2009,2010,2011,2012,2013,2014,2015,2016,2017],\"xaxis\":\"x\",\"y\":[3.0,174.0,182.0,216.0,269.0,291.0,293.0,325.0,329.0,395.0,401.0,419.0,428.0,432.0,433.0,459.0,470.0,1136.0,1326.0,1474.0],\"yaxis\":\"y\",\"type\":\"scattergl\"},{\"hovertemplate\":\"country_txt=Nigeria<br>iyear=%{x}<br>nkill=%{y}<extra></extra>\",\"legendgroup\":\"Nigeria\",\"line\":{\"color\":\"#636efa\",\"dash\":\"solid\"},\"marker\":{\"symbol\":\"circle\"},\"mode\":\"lines\",\"name\":\"Nigeria\",\"showlegend\":true,\"x\":[1976,1980,1983,1988,1991,1992,1994,1995,1996,1997,1998,1999,2000,2001,2002,2003,2004,2005,2006,2007,2008,2009,2010,2011,2012,2013,2014,2015,2016,2017],\"xaxis\":\"x\",\"y\":[3.0,3.0,4.0,8.0,18.0,153.0,168.0,169.0,193.0,300.0,309.0,443.0,443.0,446.0,474.0,502.0,543.0,562.0,816.0,898.0,970.0,1286.0,1403.0,1850.0,3358.0,5372.0,13153.0,18712.0,20877.0,22682.0],\"yaxis\":\"y\",\"type\":\"scattergl\"},{\"hovertemplate\":\"country_txt=North Korea<br>iyear=%{x}<br>nkill=%{y}<extra></extra>\",\"legendgroup\":\"North Korea\",\"line\":{\"color\":\"#EF553B\",\"dash\":\"solid\"},\"marker\":{\"symbol\":\"circle\"},\"mode\":\"lines\",\"name\":\"North Korea\",\"showlegend\":true,\"x\":[1994],\"xaxis\":\"x\",\"y\":[3.0],\"yaxis\":\"y\",\"type\":\"scattergl\"},{\"hovertemplate\":\"country_txt=North Yemen<br>iyear=%{x}<br>nkill=%{y}<extra></extra>\",\"legendgroup\":\"North Yemen\",\"line\":{\"color\":\"#00cc96\",\"dash\":\"solid\"},\"marker\":{\"symbol\":\"circle\"},\"mode\":\"lines\",\"name\":\"North Yemen\",\"showlegend\":true,\"x\":[1974,1977,1978,1981,1988],\"xaxis\":\"x\",\"y\":[0.0,1.0,2.0,3.0,3.0],\"yaxis\":\"y\",\"type\":\"scattergl\"},{\"hovertemplate\":\"country_txt=Norway<br>iyear=%{x}<br>nkill=%{y}<extra></extra>\",\"legendgroup\":\"Norway\",\"line\":{\"color\":\"#ab63fa\",\"dash\":\"solid\"},\"marker\":{\"symbol\":\"circle\"},\"mode\":\"lines\",\"name\":\"Norway\",\"showlegend\":true,\"x\":[1979,1981,1987,1991,1992,1994,1996,2001,2003,2006,2010,2011,2017],\"xaxis\":\"x\",\"y\":[0.0,0.0,1.0,1.0,1.0,1.0,1.0,2.0,2.0,2.0,2.0,79.0,79.0],\"yaxis\":\"y\",\"type\":\"scattergl\"},{\"hovertemplate\":\"country_txt=Pakistan<br>iyear=%{x}<br>nkill=%{y}<extra></extra>\",\"legendgroup\":\"Pakistan\",\"line\":{\"color\":\"#FFA15A\",\"dash\":\"solid\"},\"marker\":{\"symbol\":\"circle\"},\"mode\":\"lines\",\"name\":\"Pakistan\",\"showlegend\":true,\"x\":[1970,1974,1975,1976,1978,1979,1980,1981,1982,1983,1984,1985,1986,1987,1988,1989,1990,1991,1992,1994,1995,1996,1997,1998,1999,2000,2001,2002,2003,2004,2005,2006,2007,2008,2009,2010,2011,2012,2013,2014,2015,2016,2017],\"xaxis\":\"x\",\"y\":[4.0,4.0,5.0,6.0,11.0,17.0,34.0,38.0,41.0,51.0,63.0,63.0,123.0,306.0,442.0,498.0,686.0,917.0,1066.0,1420.0,2132.0,2555.0,2998.0,3149.0,3276.0,3394.0,3503.0,3608.0,3727.0,4031.0,4183.0,4497.0,5903.0,7079.0,8566.0,10260.0,11923.0,14707.0,17582.0,19995.0,21603.0,22716.0,23792.0],\"yaxis\":\"y\",\"type\":\"scattergl\"},{\"hovertemplate\":\"country_txt=Panama<br>iyear=%{x}<br>nkill=%{y}<extra></extra>\",\"legendgroup\":\"Panama\",\"line\":{\"color\":\"#19d3f3\",\"dash\":\"solid\"},\"marker\":{\"symbol\":\"circle\"},\"mode\":\"lines\",\"name\":\"Panama\",\"showlegend\":true,\"x\":[1972,1976,1979,1980,1981,1983,1984,1986,1987,1988,1989,1990,1991,1992,1994,1995,1996,1997,1999,2009,2016],\"xaxis\":\"x\",\"y\":[0.0,0.0,1.0,1.0,2.0,2.0,2.0,2.0,3.0,3.0,3.0,5.0,7.0,10.0,31.0,34.0,34.0,37.0,37.0,38.0,38.0],\"yaxis\":\"y\",\"type\":\"scattergl\"},{\"hovertemplate\":\"country_txt=Papua New Guinea<br>iyear=%{x}<br>nkill=%{y}<extra></extra>\",\"legendgroup\":\"Papua New Guinea\",\"line\":{\"color\":\"#FF6692\",\"dash\":\"solid\"},\"marker\":{\"symbol\":\"circle\"},\"mode\":\"lines\",\"name\":\"Papua New Guinea\",\"showlegend\":true,\"x\":[1989,1990,1991,1992,1994,1995,1996,1997,2002,2007,2017],\"xaxis\":\"x\",\"y\":[13.0,25.0,28.0,35.0,52.0,58.0,79.0,79.0,79.0,79.0,79.0],\"yaxis\":\"y\",\"type\":\"scattergl\"},{\"hovertemplate\":\"country_txt=Paraguay<br>iyear=%{x}<br>nkill=%{y}<extra></extra>\",\"legendgroup\":\"Paraguay\",\"line\":{\"color\":\"#B6E880\",\"dash\":\"solid\"},\"marker\":{\"symbol\":\"circle\"},\"mode\":\"lines\",\"name\":\"Paraguay\",\"showlegend\":true,\"x\":[1970,1976,1980,1984,1985,1987,1992,1994,1995,1997,1999,2000,2010,2011,2012,2013,2014,2015,2016,2017],\"xaxis\":\"x\",\"y\":[1.0,2.0,5.0,6.0,6.0,6.0,6.0,7.0,7.0,8.0,10.0,10.0,12.0,12.0,13.0,25.0,31.0,45.0,55.0,59.0],\"yaxis\":\"y\",\"type\":\"scattergl\"},{\"hovertemplate\":\"country_txt=People's Republic of the Congo<br>iyear=%{x}<br>nkill=%{y}<extra></extra>\",\"legendgroup\":\"People's Republic of the Congo\",\"line\":{\"color\":\"#FF97FF\",\"dash\":\"solid\"},\"marker\":{\"symbol\":\"circle\"},\"mode\":\"lines\",\"name\":\"People's Republic of the Congo\",\"showlegend\":true,\"x\":[1972,1977,1982],\"xaxis\":\"x\",\"y\":[0.0,0.0,15.0],\"yaxis\":\"y\",\"type\":\"scattergl\"},{\"hovertemplate\":\"country_txt=Peru<br>iyear=%{x}<br>nkill=%{y}<extra></extra>\",\"legendgroup\":\"Peru\",\"line\":{\"color\":\"#FECB52\",\"dash\":\"solid\"},\"marker\":{\"symbol\":\"circle\"},\"mode\":\"lines\",\"name\":\"Peru\",\"showlegend\":true,\"x\":[1973,1974,1975,1977,1978,1979,1980,1981,1982,1983,1984,1985,1986,1987,1988,1989,1990,1991,1992,1994,1995,1996,1997,1998,1999,2000,2001,2002,2003,2004,2005,2006,2007,2008,2009,2012,2013,2014,2015,2016,2017],\"xaxis\":\"x\",\"y\":[0.0,0.0,0.0,0.0,0.0,5.0,7.0,17.0,260.0,2065.0,4429.0,5158.0,5671.0,6444.0,7299.0,8801.0,9947.0,11351.0,12169.0,12250.0,12353.0,12427.0,12474.0,12481.0,12509.0,12513.0,12529.0,12538.0,12545.0,12551.0,12558.0,12565.0,12583.0,12583.0,12602.0,12612.0,12618.0,12622.0,12628.0,12639.0,12647.0],\"yaxis\":\"y\",\"type\":\"scattergl\"},{\"hovertemplate\":\"country_txt=Philippines<br>iyear=%{x}<br>nkill=%{y}<extra></extra>\",\"legendgroup\":\"Philippines\",\"line\":{\"color\":\"#636efa\",\"dash\":\"solid\"},\"marker\":{\"symbol\":\"circle\"},\"mode\":\"lines\",\"name\":\"Philippines\",\"showlegend\":true,\"x\":[1970,1971,1972,1974,1975,1976,1977,1978,1979,1980,1981,1982,1983,1984,1985,1986,1987,1988,1989,1990,1991,1992,1994,1995,1996,1997,1998,1999,2000,2001,2002,2003,2004,2005,2006,2007,2008,2009,2010,2011,2012,2013,2014,2015,2016,2017],\"xaxis\":\"x\",\"y\":[40.0,40.0,42.0,45.0,46.0,93.0,93.0,221.0,323.0,481.0,657.0,783.0,880.0,1141.0,1592.0,1909.0,2305.0,2855.0,3248.0,3705.0,4129.0,4524.0,4650.0,4851.0,4946.0,5044.0,5050.0,5095.0,5384.0,5533.0,5658.0,5946.0,6152.0,6201.0,6261.0,6376.0,6596.0,6747.0,6901.0,7028.0,7239.0,7671.0,8143.0,8590.0,9005.0,9501.0],\"yaxis\":\"y\",\"type\":\"scattergl\"},{\"hovertemplate\":\"country_txt=Poland<br>iyear=%{x}<br>nkill=%{y}<extra></extra>\",\"legendgroup\":\"Poland\",\"line\":{\"color\":\"#EF553B\",\"dash\":\"solid\"},\"marker\":{\"symbol\":\"circle\"},\"mode\":\"lines\",\"name\":\"Poland\",\"showlegend\":true,\"x\":[1971,1979,1981,1990,1992,1994,1995,1996,1997,1998,2001,2010,2016,2017],\"xaxis\":\"x\",\"y\":[0.0,0.0,0.0,1.0,5.0,5.0,5.0,6.0,8.0,8.0,8.0,9.0,9.0,9.0],\"yaxis\":\"y\",\"type\":\"scattergl\"},{\"hovertemplate\":\"country_txt=Portugal<br>iyear=%{x}<br>nkill=%{y}<extra></extra>\",\"legendgroup\":\"Portugal\",\"line\":{\"color\":\"#00cc96\",\"dash\":\"solid\"},\"marker\":{\"symbol\":\"circle\"},\"mode\":\"lines\",\"name\":\"Portugal\",\"showlegend\":true,\"x\":[1972,1973,1975,1976,1977,1978,1979,1980,1981,1982,1983,1984,1985,1986,1988,1989,1992,1994,1995,2011],\"xaxis\":\"x\",\"y\":[0.0,0.0,0.0,3.0,3.0,3.0,6.0,9.0,11.0,14.0,22.0,25.0,26.0,27.0,29.0,30.0,30.0,32.0,32.0,32.0],\"yaxis\":\"y\",\"type\":\"scattergl\"},{\"hovertemplate\":\"country_txt=Qatar<br>iyear=%{x}<br>nkill=%{y}<extra></extra>\",\"legendgroup\":\"Qatar\",\"line\":{\"color\":\"#ab63fa\",\"dash\":\"solid\"},\"marker\":{\"symbol\":\"circle\"},\"mode\":\"lines\",\"name\":\"Qatar\",\"showlegend\":true,\"x\":[1982,1989,1996,2000,2001,2005,2015],\"xaxis\":\"x\",\"y\":[1.0,4.0,4.0,4.0,5.0,7.0,7.0],\"yaxis\":\"y\",\"type\":\"scattergl\"},{\"hovertemplate\":\"country_txt=Republic of the Congo<br>iyear=%{x}<br>nkill=%{y}<extra></extra>\",\"legendgroup\":\"Republic of the Congo\",\"line\":{\"color\":\"#FFA15A\",\"dash\":\"solid\"},\"marker\":{\"symbol\":\"circle\"},\"mode\":\"lines\",\"name\":\"Republic of the Congo\",\"showlegend\":true,\"x\":[1990,1994,1996,1997,1999,2001,2002,2003,2013,2016],\"xaxis\":\"x\",\"y\":[0.0,12.0,12.0,14.0,121.0,121.0,138.0,149.0,151.0,182.0],\"yaxis\":\"y\",\"type\":\"scattergl\"},{\"hovertemplate\":\"country_txt=Rhodesia<br>iyear=%{x}<br>nkill=%{y}<extra></extra>\",\"legendgroup\":\"Rhodesia\",\"line\":{\"color\":\"#19d3f3\",\"dash\":\"solid\"},\"marker\":{\"symbol\":\"circle\"},\"mode\":\"lines\",\"name\":\"Rhodesia\",\"showlegend\":true,\"x\":[1978,1979,1980],\"xaxis\":\"x\",\"y\":[73.0,183.0,207.0],\"yaxis\":\"y\",\"type\":\"scattergl\"},{\"hovertemplate\":\"country_txt=Romania<br>iyear=%{x}<br>nkill=%{y}<extra></extra>\",\"legendgroup\":\"Romania\",\"line\":{\"color\":\"#FF6692\",\"dash\":\"solid\"},\"marker\":{\"symbol\":\"circle\"},\"mode\":\"lines\",\"name\":\"Romania\",\"showlegend\":true,\"x\":[1984,1985,1991,1995,2008],\"xaxis\":\"x\",\"y\":[1.0,3.0,4.0,4.0,4.0],\"yaxis\":\"y\",\"type\":\"scattergl\"},{\"hovertemplate\":\"country_txt=Russia<br>iyear=%{x}<br>nkill=%{y}<extra></extra>\",\"legendgroup\":\"Russia\",\"line\":{\"color\":\"#B6E880\",\"dash\":\"solid\"},\"marker\":{\"symbol\":\"circle\"},\"mode\":\"lines\",\"name\":\"Russia\",\"showlegend\":true,\"x\":[1992,1994,1995,1996,1997,1998,1999,2000,2001,2002,2003,2004,2005,2006,2007,2008,2009,2010,2011,2012,2013,2014,2015,2016,2017],\"xaxis\":\"x\",\"y\":[34.0,68.0,213.0,348.0,409.0,458.0,853.0,1215.0,1442.0,1954.0,2282.0,2889.0,3046.0,3103.0,3158.0,3253.0,3394.0,3622.0,3782.0,3943.0,4091.0,4158.0,4179.0,4243.0,4304.0],\"yaxis\":\"y\",\"type\":\"scattergl\"},{\"hovertemplate\":\"country_txt=Rwanda<br>iyear=%{x}<br>nkill=%{y}<extra></extra>\",\"legendgroup\":\"Rwanda\",\"line\":{\"color\":\"#FF97FF\",\"dash\":\"solid\"},\"marker\":{\"symbol\":\"circle\"},\"mode\":\"lines\",\"name\":\"Rwanda\",\"showlegend\":true,\"x\":[1991,1992,1994,1995,1996,1997,1998,2000,2001,2005,2008,2009,2010,2011,2012,2013,2014,2016,2017],\"xaxis\":\"x\",\"y\":[0.0,141.0,1712.0,1913.0,2042.0,3069.0,3169.0,3173.0,3175.0,3205.0,3205.0,3209.0,3215.0,3217.0,3227.0,3233.0,3234.0,3234.0,3236.0],\"yaxis\":\"y\",\"type\":\"scattergl\"},{\"hovertemplate\":\"country_txt=Saudi Arabia<br>iyear=%{x}<br>nkill=%{y}<extra></extra>\",\"legendgroup\":\"Saudi Arabia\",\"line\":{\"color\":\"#FECB52\",\"dash\":\"solid\"},\"marker\":{\"symbol\":\"circle\"},\"mode\":\"lines\",\"name\":\"Saudi Arabia\",\"showlegend\":true,\"x\":[1977,1979,1984,1985,1986,1988,1989,1991,1994,1995,1996,2000,2001,2002,2003,2004,2005,2006,2007,2009,2011,2012,2013,2014,2015,2016,2017],\"xaxis\":\"x\",\"y\":[0.0,5.0,5.0,6.0,68.0,68.0,69.0,69.0,69.0,83.0,102.0,103.0,105.0,106.0,161.0,225.0,226.0,230.0,233.0,238.0,241.0,245.0,246.0,266.0,479.0,641.0,672.0],\"yaxis\":\"y\",\"type\":\"scattergl\"},{\"hovertemplate\":\"country_txt=Senegal<br>iyear=%{x}<br>nkill=%{y}<extra></extra>\",\"legendgroup\":\"Senegal\",\"line\":{\"color\":\"#636efa\",\"dash\":\"solid\"},\"marker\":{\"symbol\":\"circle\"},\"mode\":\"lines\",\"name\":\"Senegal\",\"showlegend\":true,\"x\":[1980,1988,1990,1991,1992,1994,1995,1997,1998,1999,2000,2001,2002,2005,2007,2008,2009,2010,2011,2012,2013,2014,2015],\"xaxis\":\"x\",\"y\":[0.0,2.0,22.0,27.0,91.0,96.0,114.0,206.0,210.0,211.0,215.0,243.0,251.0,251.0,252.0,262.0,271.0,274.0,295.0,311.0,318.0,325.0,325.0],\"yaxis\":\"y\",\"type\":\"scattergl\"},{\"hovertemplate\":\"country_txt=Serbia<br>iyear=%{x}<br>nkill=%{y}<extra></extra>\",\"legendgroup\":\"Serbia\",\"line\":{\"color\":\"#EF553B\",\"dash\":\"solid\"},\"marker\":{\"symbol\":\"circle\"},\"mode\":\"lines\",\"name\":\"Serbia\",\"showlegend\":true,\"x\":[2008,2009,2010,2012,2017],\"xaxis\":\"x\",\"y\":[2.0,2.0,2.0,3.0,3.0],\"yaxis\":\"y\",\"type\":\"scattergl\"},{\"hovertemplate\":\"country_txt=Serbia-Montenegro<br>iyear=%{x}<br>nkill=%{y}<extra></extra>\",\"legendgroup\":\"Serbia-Montenegro\",\"line\":{\"color\":\"#00cc96\",\"dash\":\"solid\"},\"marker\":{\"symbol\":\"circle\"},\"mode\":\"lines\",\"name\":\"Serbia-Montenegro\",\"showlegend\":true,\"x\":[2003,2004,2005,2006],\"xaxis\":\"x\",\"y\":[2.0,3.0,3.0,3.0],\"yaxis\":\"y\",\"type\":\"scattergl\"},{\"hovertemplate\":\"country_txt=Seychelles<br>iyear=%{x}<br>nkill=%{y}<extra></extra>\",\"legendgroup\":\"Seychelles\",\"line\":{\"color\":\"#ab63fa\",\"dash\":\"solid\"},\"marker\":{\"symbol\":\"circle\"},\"mode\":\"lines\",\"name\":\"Seychelles\",\"showlegend\":true,\"x\":[1981],\"xaxis\":\"x\",\"y\":[0.0],\"yaxis\":\"y\",\"type\":\"scattergl\"},{\"hovertemplate\":\"country_txt=Sierra Leone<br>iyear=%{x}<br>nkill=%{y}<extra></extra>\",\"legendgroup\":\"Sierra Leone\",\"line\":{\"color\":\"#FFA15A\",\"dash\":\"solid\"},\"marker\":{\"symbol\":\"circle\"},\"mode\":\"lines\",\"name\":\"Sierra Leone\",\"showlegend\":true,\"x\":[1991,1992,1994,1995,1996,1997,1998,1999,2000,2016,2017],\"xaxis\":\"x\",\"y\":[128.0,149.0,377.0,417.0,475.0,491.0,749.0,777.0,837.0,838.0,838.0],\"yaxis\":\"y\",\"type\":\"scattergl\"},{\"hovertemplate\":\"country_txt=Singapore<br>iyear=%{x}<br>nkill=%{y}<extra></extra>\",\"legendgroup\":\"Singapore\",\"line\":{\"color\":\"#19d3f3\",\"dash\":\"solid\"},\"marker\":{\"symbol\":\"circle\"},\"mode\":\"lines\",\"name\":\"Singapore\",\"showlegend\":true,\"x\":[1974,1985,1987,1991,1992,1994],\"xaxis\":\"x\",\"y\":[0.0,0.0,0.0,4.0,4.0,5.0],\"yaxis\":\"y\",\"type\":\"scattergl\"},{\"hovertemplate\":\"country_txt=Slovak Republic<br>iyear=%{x}<br>nkill=%{y}<extra></extra>\",\"legendgroup\":\"Slovak Republic\",\"line\":{\"color\":\"#FF6692\",\"dash\":\"solid\"},\"marker\":{\"symbol\":\"circle\"},\"mode\":\"lines\",\"name\":\"Slovak Republic\",\"showlegend\":true,\"x\":[1994,1995,1996,1997,1998,1999,2000,2016],\"xaxis\":\"x\",\"y\":[0.0,3.0,4.0,6.0,7.0,7.0,7.0,7.0],\"yaxis\":\"y\",\"type\":\"scattergl\"},{\"hovertemplate\":\"country_txt=Slovenia<br>iyear=%{x}<br>nkill=%{y}<extra></extra>\",\"legendgroup\":\"Slovenia\",\"line\":{\"color\":\"#B6E880\",\"dash\":\"solid\"},\"marker\":{\"symbol\":\"circle\"},\"mode\":\"lines\",\"name\":\"Slovenia\",\"showlegend\":true,\"x\":[1994,1996,1997,2000],\"xaxis\":\"x\",\"y\":[1.0,1.0,1.0,1.0],\"yaxis\":\"y\",\"type\":\"scattergl\"},{\"hovertemplate\":\"country_txt=Solomon Islands<br>iyear=%{x}<br>nkill=%{y}<extra></extra>\",\"legendgroup\":\"Solomon Islands\",\"line\":{\"color\":\"#FF97FF\",\"dash\":\"solid\"},\"marker\":{\"symbol\":\"circle\"},\"mode\":\"lines\",\"name\":\"Solomon Islands\",\"showlegend\":true,\"x\":[1999,2000,2002,2003],\"xaxis\":\"x\",\"y\":[2.0,2.0,3.0,4.0],\"yaxis\":\"y\",\"type\":\"scattergl\"},{\"hovertemplate\":\"country_txt=Somalia<br>iyear=%{x}<br>nkill=%{y}<extra></extra>\",\"legendgroup\":\"Somalia\",\"line\":{\"color\":\"#FECB52\",\"dash\":\"solid\"},\"marker\":{\"symbol\":\"circle\"},\"mode\":\"lines\",\"name\":\"Somalia\",\"showlegend\":true,\"x\":[1975,1981,1983,1984,1987,1988,1989,1990,1991,1992,1994,1995,1996,1997,1998,1999,2000,2001,2002,2003,2004,2005,2006,2007,2008,2009,2010,2011,2012,2013,2014,2015,2016,2017],\"xaxis\":\"x\",\"y\":[0.0,0.0,0.0,0.0,0.0,0.0,30.0,35.0,41.0,49.0,127.0,156.0,184.0,329.0,329.0,335.0,371.0,374.0,380.0,387.0,389.0,409.0,431.0,839.0,1275.0,1656.0,1951.0,2288.0,3071.0,3731.0,5320.0,6767.0,8350.0,10262.0],\"yaxis\":\"y\",\"type\":\"scattergl\"},{\"hovertemplate\":\"country_txt=South Africa<br>iyear=%{x}<br>nkill=%{y}<extra></extra>\",\"legendgroup\":\"South Africa\",\"line\":{\"color\":\"#636efa\",\"dash\":\"solid\"},\"marker\":{\"symbol\":\"circle\"},\"mode\":\"lines\",\"name\":\"South Africa\",\"showlegend\":true,\"x\":[1974,1976,1977,1978,1979,1980,1981,1982,1983,1984,1985,1986,1987,1988,1989,1990,1991,1992,1994,1995,1996,1997,1998,1999,2000,2002,2007,2008,2012,2013,2014,2015,2016,2017],\"xaxis\":\"x\",\"y\":[0.0,2.0,7.0,13.0,21.0,38.0,46.0,55.0,83.0,104.0,186.0,339.0,459.0,611.0,668.0,818.0,1202.0,1908.0,2355.0,2460.0,2542.0,2565.0,2578.0,2582.0,2600.0,2601.0,2602.0,2602.0,2607.0,2609.0,2618.0,2623.0,2644.0,2665.0],\"yaxis\":\"y\",\"type\":\"scattergl\"},{\"hovertemplate\":\"country_txt=South Korea<br>iyear=%{x}<br>nkill=%{y}<extra></extra>\",\"legendgroup\":\"South Korea\",\"line\":{\"color\":\"#EF553B\",\"dash\":\"solid\"},\"marker\":{\"symbol\":\"circle\"},\"mode\":\"lines\",\"name\":\"South Korea\",\"showlegend\":true,\"x\":[1974,1982,1983,1986,1988,1989,1990,1991,1992,1994,1995,1996,2001,2003,2006,2015,2016],\"xaxis\":\"x\",\"y\":[1.0,2.0,3.0,8.0,8.0,8.0,8.0,8.0,9.0,10.0,10.0,10.0,10.0,10.0,10.0,10.0,10.0],\"yaxis\":\"y\",\"type\":\"scattergl\"},{\"hovertemplate\":\"country_txt=South Sudan<br>iyear=%{x}<br>nkill=%{y}<extra></extra>\",\"legendgroup\":\"South Sudan\",\"line\":{\"color\":\"#00cc96\",\"dash\":\"solid\"},\"marker\":{\"symbol\":\"circle\"},\"mode\":\"lines\",\"name\":\"South Sudan\",\"showlegend\":true,\"x\":[2012,2013,2014,2015,2016,2017],\"xaxis\":\"x\",\"y\":[68.0,294.0,1202.0,1420.0,2053.0,2634.0],\"yaxis\":\"y\",\"type\":\"scattergl\"},{\"hovertemplate\":\"country_txt=South Vietnam<br>iyear=%{x}<br>nkill=%{y}<extra></extra>\",\"legendgroup\":\"South Vietnam\",\"line\":{\"color\":\"#ab63fa\",\"dash\":\"solid\"},\"marker\":{\"symbol\":\"circle\"},\"mode\":\"lines\",\"name\":\"South Vietnam\",\"showlegend\":true,\"x\":[1972],\"xaxis\":\"x\",\"y\":[81.0],\"yaxis\":\"y\",\"type\":\"scattergl\"},{\"hovertemplate\":\"country_txt=South Yemen<br>iyear=%{x}<br>nkill=%{y}<extra></extra>\",\"legendgroup\":\"South Yemen\",\"line\":{\"color\":\"#FFA15A\",\"dash\":\"solid\"},\"marker\":{\"symbol\":\"circle\"},\"mode\":\"lines\",\"name\":\"South Yemen\",\"showlegend\":true,\"x\":[1971,1983],\"xaxis\":\"x\",\"y\":[0.0,0.0],\"yaxis\":\"y\",\"type\":\"scattergl\"},{\"hovertemplate\":\"country_txt=Soviet Union<br>iyear=%{x}<br>nkill=%{y}<extra></extra>\",\"legendgroup\":\"Soviet Union\",\"line\":{\"color\":\"#19d3f3\",\"dash\":\"solid\"},\"marker\":{\"symbol\":\"circle\"},\"mode\":\"lines\",\"name\":\"Soviet Union\",\"showlegend\":true,\"x\":[1978,1989,1990,1991],\"xaxis\":\"x\",\"y\":[4.0,10.0,68.0,96.0],\"yaxis\":\"y\",\"type\":\"scattergl\"},{\"hovertemplate\":\"country_txt=Spain<br>iyear=%{x}<br>nkill=%{y}<extra></extra>\",\"legendgroup\":\"Spain\",\"line\":{\"color\":\"#FF6692\",\"dash\":\"solid\"},\"marker\":{\"symbol\":\"circle\"},\"mode\":\"lines\",\"name\":\"Spain\",\"showlegend\":true,\"x\":[1970,1971,1972,1973,1974,1975,1976,1977,1978,1979,1980,1981,1982,1983,1984,1985,1986,1987,1988,1989,1990,1991,1992,1994,1995,1996,1997,1998,1999,2000,2001,2002,2003,2004,2005,2006,2007,2008,2009,2010,2012,2013,2014,2015,2016,2017],\"xaxis\":\"x\",\"y\":[0.0,0.0,2.0,8.0,27.0,58.0,75.0,118.0,200.0,312.0,428.0,467.0,509.0,551.0,602.0,669.0,726.0,794.0,819.0,848.0,880.0,926.0,955.0,972.0,990.0,995.0,1006.0,1012.0,1012.0,1041.0,1055.0,1060.0,1063.0,1256.0,1256.0,1258.0,1258.0,1261.0,1264.0,1264.0,1264.0,1264.0,1264.0,1264.0,1264.0,1285.0],\"yaxis\":\"y\",\"type\":\"scattergl\"},{\"hovertemplate\":\"country_txt=Sri Lanka<br>iyear=%{x}<br>nkill=%{y}<extra></extra>\",\"legendgroup\":\"Sri Lanka\",\"line\":{\"color\":\"#B6E880\",\"dash\":\"solid\"},\"marker\":{\"symbol\":\"circle\"},\"mode\":\"lines\",\"name\":\"Sri Lanka\",\"showlegend\":true,\"x\":[1975,1979,1981,1982,1983,1984,1985,1986,1987,1988,1989,1990,1991,1992,1994,1995,1996,1997,1998,1999,2000,2001,2002,2003,2004,2005,2006,2007,2008,2009,2010,2012,2013,2014,2015,2016,2017],\"xaxis\":\"x\",\"y\":[1.0,3.0,6.0,13.0,19.0,477.0,1088.0,1778.0,3043.0,3928.0,5750.0,7247.0,8281.0,9265.0,9451.0,10471.0,11298.0,11784.0,12464.0,12676.0,13125.0,13320.0,13323.0,13346.0,13376.0,13501.0,14508.0,14913.0,15266.0,15467.0,15469.0,15469.0,15469.0,15472.0,15475.0,15475.0,15476.0],\"yaxis\":\"y\",\"type\":\"scattergl\"},{\"hovertemplate\":\"country_txt=St. Kitts and Nevis<br>iyear=%{x}<br>nkill=%{y}<extra></extra>\",\"legendgroup\":\"St. Kitts and Nevis\",\"line\":{\"color\":\"#FF97FF\",\"dash\":\"solid\"},\"marker\":{\"symbol\":\"circle\"},\"mode\":\"lines\",\"name\":\"St. Kitts and Nevis\",\"showlegend\":true,\"x\":[1995],\"xaxis\":\"x\",\"y\":[0.0],\"yaxis\":\"y\",\"type\":\"scattergl\"},{\"hovertemplate\":\"country_txt=St. Lucia<br>iyear=%{x}<br>nkill=%{y}<extra></extra>\",\"legendgroup\":\"St. Lucia\",\"line\":{\"color\":\"#FECB52\",\"dash\":\"solid\"},\"marker\":{\"symbol\":\"circle\"},\"mode\":\"lines\",\"name\":\"St. Lucia\",\"showlegend\":true,\"x\":[2000],\"xaxis\":\"x\",\"y\":[2.0],\"yaxis\":\"y\",\"type\":\"scattergl\"},{\"hovertemplate\":\"country_txt=Sudan<br>iyear=%{x}<br>nkill=%{y}<extra></extra>\",\"legendgroup\":\"Sudan\",\"line\":{\"color\":\"#636efa\",\"dash\":\"solid\"},\"marker\":{\"symbol\":\"circle\"},\"mode\":\"lines\",\"name\":\"Sudan\",\"showlegend\":true,\"x\":[1973,1981,1982,1983,1984,1986,1987,1988,1989,1990,1991,1992,1994,1995,1996,1997,1999,2000,2001,2002,2004,2005,2006,2007,2008,2009,2010,2011,2012,2013,2014,2015,2016,2017],\"xaxis\":\"x\",\"y\":[3.0,5.0,5.0,5.0,310.0,318.0,318.0,376.0,390.0,390.0,422.0,435.0,452.0,458.0,498.0,499.0,515.0,538.0,551.0,1116.0,1144.0,1198.0,1682.0,1999.0,2204.0,2281.0,2361.0,2550.0,2610.0,2830.0,3376.0,3586.0,3768.0,3850.0],\"yaxis\":\"y\",\"type\":\"scattergl\"},{\"hovertemplate\":\"country_txt=Suriname<br>iyear=%{x}<br>nkill=%{y}<extra></extra>\",\"legendgroup\":\"Suriname\",\"line\":{\"color\":\"#EF553B\",\"dash\":\"solid\"},\"marker\":{\"symbol\":\"circle\"},\"mode\":\"lines\",\"name\":\"Suriname\",\"showlegend\":true,\"x\":[1983,1984,1986,1987,1988,1989,1990,1991,1992,1994,1997],\"xaxis\":\"x\",\"y\":[0.0,0.0,2.0,8.0,14.0,28.0,28.0,29.0,29.0,29.0,29.0],\"yaxis\":\"y\",\"type\":\"scattergl\"},{\"hovertemplate\":\"country_txt=Swaziland<br>iyear=%{x}<br>nkill=%{y}<extra></extra>\",\"legendgroup\":\"Swaziland\",\"line\":{\"color\":\"#00cc96\",\"dash\":\"solid\"},\"marker\":{\"symbol\":\"circle\"},\"mode\":\"lines\",\"name\":\"Swaziland\",\"showlegend\":true,\"x\":[1982,1984,1986,1987,1989,1991,1992,1995,1997,1998,1999,2003,2006,2008],\"xaxis\":\"x\",\"y\":[0.0,1.0,1.0,5.0,5.0,5.0,5.0,5.0,5.0,6.0,6.0,6.0,6.0,6.0],\"yaxis\":\"y\",\"type\":\"scattergl\"},{\"hovertemplate\":\"country_txt=Sweden<br>iyear=%{x}<br>nkill=%{y}<extra></extra>\",\"legendgroup\":\"Sweden\",\"line\":{\"color\":\"#ab63fa\",\"dash\":\"solid\"},\"marker\":{\"symbol\":\"circle\"},\"mode\":\"lines\",\"name\":\"Sweden\",\"showlegend\":true,\"x\":[1971,1972,1975,1978,1979,1983,1986,1989,1990,1991,1992,1994,1995,1996,1997,1999,2000,2005,2006,2008,2009,2010,2011,2012,2014,2015,2016,2017],\"xaxis\":\"x\",\"y\":[1.0,1.0,4.0,4.0,5.0,6.0,7.0,7.0,8.0,9.0,11.0,11.0,11.0,11.0,12.0,12.0,12.0,12.0,12.0,12.0,12.0,13.0,13.0,13.0,13.0,17.0,17.0,22.0],\"yaxis\":\"y\",\"type\":\"scattergl\"},{\"hovertemplate\":\"country_txt=Switzerland<br>iyear=%{x}<br>nkill=%{y}<extra></extra>\",\"legendgroup\":\"Switzerland\",\"line\":{\"color\":\"#FFA15A\",\"dash\":\"solid\"},\"marker\":{\"symbol\":\"circle\"},\"mode\":\"lines\",\"name\":\"Switzerland\",\"showlegend\":true,\"x\":[1970,1971,1972,1973,1974,1975,1976,1977,1978,1979,1980,1981,1982,1983,1984,1985,1987,1988,1990,1991,1992,1995,1996,1997,1998,1999,2000,2001,2003,2007,2011,2013,2016],\"xaxis\":\"x\",\"y\":[47.0,47.0,47.0,47.0,47.0,47.0,47.0,47.0,47.0,48.0,48.0,50.0,50.0,50.0,50.0,50.0,51.0,51.0,52.0,52.0,58.0,59.0,60.0,60.0,60.0,60.0,60.0,74.0,74.0,74.0,74.0,74.0,74.0],\"yaxis\":\"y\",\"type\":\"scattergl\"},{\"hovertemplate\":\"country_txt=Syria<br>iyear=%{x}<br>nkill=%{y}<extra></extra>\",\"legendgroup\":\"Syria\",\"line\":{\"color\":\"#19d3f3\",\"dash\":\"solid\"},\"marker\":{\"symbol\":\"circle\"},\"mode\":\"lines\",\"name\":\"Syria\",\"showlegend\":true,\"x\":[1974,1975,1976,1977,1978,1979,1980,1981,1982,1983,1984,1985,1986,1989,1996,1997,1998,2004,2006,2008,2011,2012,2013,2014,2015,2016,2017],\"xaxis\":\"x\",\"y\":[1.0,1.0,6.0,7.0,7.0,82.0,169.0,355.0,453.0,454.0,454.0,484.0,492.0,492.0,507.0,509.0,509.0,513.0,518.0,536.0,699.0,1576.0,3144.0,6456.0,10380.0,13190.0,15216.0],\"yaxis\":\"y\",\"type\":\"scattergl\"},{\"hovertemplate\":\"country_txt=Taiwan<br>iyear=%{x}<br>nkill=%{y}<extra></extra>\",\"legendgroup\":\"Taiwan\",\"line\":{\"color\":\"#FF6692\",\"dash\":\"solid\"},\"marker\":{\"symbol\":\"circle\"},\"mode\":\"lines\",\"name\":\"Taiwan\",\"showlegend\":true,\"x\":[1971,1976,1990,1991,1992,1994,1995,1996,1997,2001,2004,2008,2013,2014,2016,2017],\"xaxis\":\"x\",\"y\":[25.0,25.0,25.0,32.0,48.0,49.0,49.0,58.0,58.0,60.0,60.0,60.0,60.0,60.0,60.0,60.0],\"yaxis\":\"y\",\"type\":\"scattergl\"},{\"hovertemplate\":\"country_txt=Tajikistan<br>iyear=%{x}<br>nkill=%{y}<extra></extra>\",\"legendgroup\":\"Tajikistan\",\"line\":{\"color\":\"#B6E880\",\"dash\":\"solid\"},\"marker\":{\"symbol\":\"circle\"},\"mode\":\"lines\",\"name\":\"Tajikistan\",\"showlegend\":true,\"x\":[1992,1994,1995,1996,1997,1998,1999,2000,2001,2005,2007,2009,2010,2012,2014,2015,2016,2017],\"xaxis\":\"x\",\"y\":[14.0,62.0,140.0,190.0,233.0,262.0,264.0,275.0,283.0,283.0,284.0,284.0,288.0,291.0,292.0,304.0,306.0,307.0],\"yaxis\":\"y\",\"type\":\"scattergl\"},{\"hovertemplate\":\"country_txt=Tanzania<br>iyear=%{x}<br>nkill=%{y}<extra></extra>\",\"legendgroup\":\"Tanzania\",\"line\":{\"color\":\"#FF97FF\",\"dash\":\"solid\"},\"marker\":{\"symbol\":\"circle\"},\"mode\":\"lines\",\"name\":\"Tanzania\",\"showlegend\":true,\"x\":[1975,1979,1982,1994,1995,1997,1998,2000,2001,2002,2004,2008,2010,2013,2014,2015,2016,2017],\"xaxis\":\"x\",\"y\":[0.0,1.0,1.0,2.0,2.0,3.0,14.0,14.0,16.0,40.0,40.0,40.0,40.0,48.0,52.0,62.0,65.0,73.0],\"yaxis\":\"y\",\"type\":\"scattergl\"},{\"hovertemplate\":\"country_txt=Thailand<br>iyear=%{x}<br>nkill=%{y}<extra></extra>\",\"legendgroup\":\"Thailand\",\"line\":{\"color\":\"#FECB52\",\"dash\":\"solid\"},\"marker\":{\"symbol\":\"circle\"},\"mode\":\"lines\",\"name\":\"Thailand\",\"showlegend\":true,\"x\":[1972,1974,1977,1978,1979,1980,1981,1982,1983,1984,1985,1986,1988,1989,1990,1991,1992,1994,1995,1996,1997,1998,1999,2000,2001,2002,2003,2004,2005,2006,2007,2008,2009,2010,2011,2012,2013,2014,2015,2016,2017],\"xaxis\":\"x\",\"y\":[0.0,2.0,3.0,32.0,94.0,165.0,186.0,187.0,187.0,187.0,187.0,187.0,197.0,232.0,254.0,265.0,304.0,321.0,340.0,350.0,368.0,372.0,372.0,379.0,390.0,406.0,412.0,444.0,574.0,766.0,1030.0,1196.0,1465.0,1619.0,1771.0,1980.0,2235.0,2427.0,2543.0,2663.0,2735.0],\"yaxis\":\"y\",\"type\":\"scattergl\"},{\"hovertemplate\":\"country_txt=Togo<br>iyear=%{x}<br>nkill=%{y}<extra></extra>\",\"legendgroup\":\"Togo\",\"line\":{\"color\":\"#636efa\",\"dash\":\"solid\"},\"marker\":{\"symbol\":\"circle\"},\"mode\":\"lines\",\"name\":\"Togo\",\"showlegend\":true,\"x\":[1985,1991,1992,1994,1995,1996,2005],\"xaxis\":\"x\",\"y\":[1.0,14.0,26.0,73.0,73.0,76.0,76.0],\"yaxis\":\"y\",\"type\":\"scattergl\"},{\"hovertemplate\":\"country_txt=Trinidad and Tobago<br>iyear=%{x}<br>nkill=%{y}<extra></extra>\",\"legendgroup\":\"Trinidad and Tobago\",\"line\":{\"color\":\"#EF553B\",\"dash\":\"solid\"},\"marker\":{\"symbol\":\"circle\"},\"mode\":\"lines\",\"name\":\"Trinidad and Tobago\",\"showlegend\":true,\"x\":[1976,1979,1981,1983,1989,1991,1992,1994,1995,1996,2005,2010,2013,2015],\"xaxis\":\"x\",\"y\":[0.0,0.0,0.0,0.0,0.0,0.0,0.0,2.0,6.0,6.0,6.0,6.0,6.0,6.0],\"yaxis\":\"y\",\"type\":\"scattergl\"},{\"hovertemplate\":\"country_txt=Tunisia<br>iyear=%{x}<br>nkill=%{y}<extra></extra>\",\"legendgroup\":\"Tunisia\",\"line\":{\"color\":\"#00cc96\",\"dash\":\"solid\"},\"marker\":{\"symbol\":\"circle\"},\"mode\":\"lines\",\"name\":\"Tunisia\",\"showlegend\":true,\"x\":[1979,1980,1986,1987,1991,1994,1995,2000,2001,2002,2007,2008,2011,2012,2013,2014,2015,2016,2017],\"xaxis\":\"x\",\"y\":[0.0,41.0,41.0,41.0,45.0,46.0,53.0,58.0,61.0,82.0,96.0,96.0,100.0,104.0,129.0,172.0,275.0,346.0,351.0],\"yaxis\":\"y\",\"type\":\"scattergl\"},{\"hovertemplate\":\"country_txt=Turkey<br>iyear=%{x}<br>nkill=%{y}<extra></extra>\",\"legendgroup\":\"Turkey\",\"line\":{\"color\":\"#ab63fa\",\"dash\":\"solid\"},\"marker\":{\"symbol\":\"circle\"},\"mode\":\"lines\",\"name\":\"Turkey\",\"showlegend\":true,\"x\":[1970,1971,1972,1974,1975,1976,1977,1978,1979,1980,1981,1982,1983,1984,1985,1986,1987,1988,1989,1990,1991,1992,1994,1995,1996,1997,1998,1999,2000,2001,2002,2003,2004,2005,2006,2007,2008,2009,2010,2011,2012,2013,2014,2015,2016,2017],\"xaxis\":\"x\",\"y\":[0.0,1.0,4.0,4.0,4.0,11.0,40.0,74.0,197.0,299.0,310.0,319.0,321.0,348.0,349.0,375.0,562.0,664.0,896.0,1408.0,1716.0,2949.0,3900.0,4089.0,4206.0,4266.0,4303.0,4430.0,4439.0,4456.0,4456.0,4523.0,4548.0,4583.0,4629.0,4654.0,4696.0,4714.0,4727.0,4752.0,4999.0,5082.0,5121.0,5611.0,6617.0,6839.0],\"yaxis\":\"y\",\"type\":\"scattergl\"},{\"hovertemplate\":\"country_txt=Turkmenistan<br>iyear=%{x}<br>nkill=%{y}<extra></extra>\",\"legendgroup\":\"Turkmenistan\",\"line\":{\"color\":\"#FFA15A\",\"dash\":\"solid\"},\"marker\":{\"symbol\":\"circle\"},\"mode\":\"lines\",\"name\":\"Turkmenistan\",\"showlegend\":true,\"x\":[2002,2014],\"xaxis\":\"x\",\"y\":[0.0,3.0],\"yaxis\":\"y\",\"type\":\"scattergl\"},{\"hovertemplate\":\"country_txt=Uganda<br>iyear=%{x}<br>nkill=%{y}<extra></extra>\",\"legendgroup\":\"Uganda\",\"line\":{\"color\":\"#19d3f3\",\"dash\":\"solid\"},\"marker\":{\"symbol\":\"circle\"},\"mode\":\"lines\",\"name\":\"Uganda\",\"showlegend\":true,\"x\":[1979,1981,1982,1983,1984,1985,1986,1987,1988,1989,1990,1991,1992,1994,1995,1996,1997,1998,1999,2000,2001,2002,2003,2004,2005,2007,2008,2009,2010,2012,2014,2015,2016,2017],\"xaxis\":\"x\",\"y\":[13.0,66.0,66.0,179.0,414.0,446.0,447.0,448.0,608.0,680.0,764.0,766.0,768.0,790.0,935.0,1348.0,1587.0,1668.0,1743.0,2040.0,2096.0,2269.0,2500.0,2693.0,2773.0,2775.0,2778.0,2789.0,2864.0,2869.0,2967.0,2971.0,3046.0,3053.0],\"yaxis\":\"y\",\"type\":\"scattergl\"},{\"hovertemplate\":\"country_txt=Ukraine<br>iyear=%{x}<br>nkill=%{y}<extra></extra>\",\"legendgroup\":\"Ukraine\",\"line\":{\"color\":\"#FF6692\",\"dash\":\"solid\"},\"marker\":{\"symbol\":\"circle\"},\"mode\":\"lines\",\"name\":\"Ukraine\",\"showlegend\":true,\"x\":[1991,1992,1994,1995,1996,1997,1999,2000,2002,2003,2007,2008,2009,2010,2011,2012,2013,2014,2015,2016,2017],\"xaxis\":\"x\",\"y\":[0.0,1.0,5.0,5.0,5.0,7.0,8.0,8.0,9.0,9.0,9.0,9.0,9.0,10.0,10.0,11.0,12.0,1408.0,2173.0,2221.0,2261.0],\"yaxis\":\"y\",\"type\":\"scattergl\"},{\"hovertemplate\":\"country_txt=United Arab Emirates<br>iyear=%{x}<br>nkill=%{y}<extra></extra>\",\"legendgroup\":\"United Arab Emirates\",\"line\":{\"color\":\"#B6E880\",\"dash\":\"solid\"},\"marker\":{\"symbol\":\"circle\"},\"mode\":\"lines\",\"name\":\"United Arab Emirates\",\"showlegend\":true,\"x\":[1974,1977,1979,1980,1981,1983,1985,1986,1989,1992,1995,2010,2013,2014],\"xaxis\":\"x\",\"y\":[1.0,2.0,2.0,3.0,5.0,116.0,116.0,116.0,117.0,117.0,117.0,117.0,117.0,118.0],\"yaxis\":\"y\",\"type\":\"scattergl\"},{\"hovertemplate\":\"country_txt=United Kingdom<br>iyear=%{x}<br>nkill=%{y}<extra></extra>\",\"legendgroup\":\"United Kingdom\",\"line\":{\"color\":\"#FF97FF\",\"dash\":\"solid\"},\"marker\":{\"symbol\":\"circle\"},\"mode\":\"lines\",\"name\":\"United Kingdom\",\"showlegend\":true,\"x\":[1970,1971,1972,1973,1974,1975,1976,1977,1978,1979,1980,1981,1982,1983,1984,1985,1986,1987,1988,1989,1990,1991,1992,1994,1995,1996,1997,1998,1999,2000,2001,2002,2003,2004,2005,2006,2007,2008,2009,2010,2011,2012,2013,2014,2015,2016,2017],\"xaxis\":\"x\",\"y\":[20.0,130.0,498.0,708.0,943.0,1185.0,1449.0,1552.0,1633.0,1766.0,1843.0,1928.0,2023.0,2100.0,2169.0,2233.0,2296.0,2400.0,2772.0,2838.0,2912.0,3000.0,3094.0,3160.0,3171.0,3185.0,3208.0,3254.0,3261.0,3268.0,3276.0,3278.0,3280.0,3280.0,3337.0,3337.0,3341.0,3341.0,3344.0,3344.0,3345.0,3347.0,3351.0,3351.0,3352.0,3361.0,3403.0],\"yaxis\":\"y\",\"type\":\"scattergl\"},{\"hovertemplate\":\"country_txt=United States<br>iyear=%{x}<br>nkill=%{y}<extra></extra>\",\"legendgroup\":\"United States\",\"line\":{\"color\":\"#FECB52\",\"dash\":\"solid\"},\"marker\":{\"symbol\":\"circle\"},\"mode\":\"lines\",\"name\":\"United States\",\"showlegend\":true,\"x\":[1970,1971,1972,1973,1974,1975,1976,1977,1978,1979,1980,1981,1982,1983,1984,1985,1986,1987,1988,1989,1990,1991,1992,1994,1995,1996,1997,1998,1999,2000,2001,2002,2003,2004,2005,2006,2007,2008,2009,2010,2011,2012,2013,2014,2015,2016,2017],\"xaxis\":\"x\",\"y\":[33.0,53.0,63.0,108.0,124.0,148.0,152.0,156.0,164.0,182.0,196.0,204.0,215.0,223.0,226.0,229.0,230.0,231.0,232.0,235.0,240.0,242.0,244.0,254.0,432.0,434.0,436.0,440.0,460.0,460.0,3468.0,3472.0,3472.0,3472.0,3472.0,3473.0,3473.0,3475.0,3493.0,3497.0,3497.0,3504.0,3527.0,3553.0,3607.0,3675.0,3770.0],\"yaxis\":\"y\",\"type\":\"scattergl\"},{\"hovertemplate\":\"country_txt=Uruguay<br>iyear=%{x}<br>nkill=%{y}<extra></extra>\",\"legendgroup\":\"Uruguay\",\"line\":{\"color\":\"#636efa\",\"dash\":\"solid\"},\"marker\":{\"symbol\":\"circle\"},\"mode\":\"lines\",\"name\":\"Uruguay\",\"showlegend\":true,\"x\":[1970,1971,1972,1984,1985,1986,1989,1990,1991,1992,1994,1995,1996,1997,2005,2016],\"xaxis\":\"x\",\"y\":[1.0,2.0,2.0,2.0,2.0,2.0,3.0,3.0,3.0,3.0,3.0,3.0,3.0,3.0,3.0,4.0],\"yaxis\":\"y\",\"type\":\"scattergl\"},{\"hovertemplate\":\"country_txt=Uzbekistan<br>iyear=%{x}<br>nkill=%{y}<extra></extra>\",\"legendgroup\":\"Uzbekistan\",\"line\":{\"color\":\"#EF553B\",\"dash\":\"solid\"},\"marker\":{\"symbol\":\"circle\"},\"mode\":\"lines\",\"name\":\"Uzbekistan\",\"showlegend\":true,\"x\":[1992,1995,1999,2004,2005,2009,2015],\"xaxis\":\"x\",\"y\":[0.0,0.0,19.0,55.0,65.0,68.0,68.0],\"yaxis\":\"y\",\"type\":\"scattergl\"},{\"hovertemplate\":\"country_txt=Vanuatu<br>iyear=%{x}<br>nkill=%{y}<extra></extra>\",\"legendgroup\":\"Vanuatu\",\"line\":{\"color\":\"#00cc96\",\"dash\":\"solid\"},\"marker\":{\"symbol\":\"circle\"},\"mode\":\"lines\",\"name\":\"Vanuatu\",\"showlegend\":true,\"x\":[1996],\"xaxis\":\"x\",\"y\":[0.0],\"yaxis\":\"y\",\"type\":\"scattergl\"},{\"hovertemplate\":\"country_txt=Vatican City<br>iyear=%{x}<br>nkill=%{y}<extra></extra>\",\"legendgroup\":\"Vatican City\",\"line\":{\"color\":\"#ab63fa\",\"dash\":\"solid\"},\"marker\":{\"symbol\":\"circle\"},\"mode\":\"lines\",\"name\":\"Vatican City\",\"showlegend\":true,\"x\":[1981],\"xaxis\":\"x\",\"y\":[0.0],\"yaxis\":\"y\",\"type\":\"scattergl\"},{\"hovertemplate\":\"country_txt=Venezuela<br>iyear=%{x}<br>nkill=%{y}<extra></extra>\",\"legendgroup\":\"Venezuela\",\"line\":{\"color\":\"#FFA15A\",\"dash\":\"solid\"},\"marker\":{\"symbol\":\"circle\"},\"mode\":\"lines\",\"name\":\"Venezuela\",\"showlegend\":true,\"x\":[1970,1971,1972,1973,1974,1975,1976,1977,1978,1979,1980,1981,1982,1983,1984,1985,1986,1987,1988,1989,1990,1991,1992,1994,1995,1996,1997,1998,1999,2001,2002,2003,2007,2008,2009,2012,2013,2014,2015,2016,2017],\"xaxis\":\"x\",\"y\":[0.0,0.0,0.0,0.0,0.0,0.0,0.0,1.0,2.0,2.0,5.0,7.0,37.0,44.0,46.0,46.0,59.0,62.0,103.0,117.0,117.0,164.0,171.0,175.0,183.0,196.0,199.0,199.0,199.0,199.0,199.0,199.0,200.0,201.0,211.0,211.0,211.0,212.0,213.0,222.0,227.0],\"yaxis\":\"y\",\"type\":\"scattergl\"},{\"hovertemplate\":\"country_txt=Vietnam<br>iyear=%{x}<br>nkill=%{y}<extra></extra>\",\"legendgroup\":\"Vietnam\",\"line\":{\"color\":\"#19d3f3\",\"dash\":\"solid\"},\"marker\":{\"symbol\":\"circle\"},\"mode\":\"lines\",\"name\":\"Vietnam\",\"showlegend\":true,\"x\":[1992,1994,1995,1996,1997,2001,2017],\"xaxis\":\"x\",\"y\":[0.0,0.0,0.0,0.0,1.0,1.0,1.0],\"yaxis\":\"y\",\"type\":\"scattergl\"},{\"hovertemplate\":\"country_txt=Wallis and Futuna<br>iyear=%{x}<br>nkill=%{y}<extra></extra>\",\"legendgroup\":\"Wallis and Futuna\",\"line\":{\"color\":\"#FF6692\",\"dash\":\"solid\"},\"marker\":{\"symbol\":\"circle\"},\"mode\":\"lines\",\"name\":\"Wallis and Futuna\",\"showlegend\":true,\"x\":[1994],\"xaxis\":\"x\",\"y\":[0.0],\"yaxis\":\"y\",\"type\":\"scattergl\"},{\"hovertemplate\":\"country_txt=West Bank and Gaza Strip<br>iyear=%{x}<br>nkill=%{y}<extra></extra>\",\"legendgroup\":\"West Bank and Gaza Strip\",\"line\":{\"color\":\"#B6E880\",\"dash\":\"solid\"},\"marker\":{\"symbol\":\"circle\"},\"mode\":\"lines\",\"name\":\"West Bank and Gaza Strip\",\"showlegend\":true,\"x\":[1972,1976,1978,1979,1980,1981,1982,1983,1984,1985,1986,1987,1988,1989,1990,1991,1992,1994,1995,1996,1997,1998,1999,2000,2001,2002,2003,2004,2005,2006,2007,2008,2009,2010,2011,2012,2013,2014,2015,2016,2017],\"xaxis\":\"x\",\"y\":[1.0,3.0,9.0,10.0,41.0,47.0,54.0,63.0,68.0,68.0,72.0,75.0,85.0,157.0,219.0,262.0,355.0,484.0,527.0,544.0,553.0,565.0,566.0,587.0,692.0,868.0,928.0,959.0,979.0,997.0,1109.0,1126.0,1133.0,1133.0,1148.0,1160.0,1172.0,1239.0,1356.0,1446.0,1496.0],\"yaxis\":\"y\",\"type\":\"scattergl\"},{\"hovertemplate\":\"country_txt=West Germany (FRG)<br>iyear=%{x}<br>nkill=%{y}<extra></extra>\",\"legendgroup\":\"West Germany (FRG)\",\"line\":{\"color\":\"#FF97FF\",\"dash\":\"solid\"},\"marker\":{\"symbol\":\"circle\"},\"mode\":\"lines\",\"name\":\"West Germany (FRG)\",\"showlegend\":true,\"x\":[1970,1971,1972,1973,1974,1975,1976,1977,1978,1979,1980,1981,1982,1983,1984,1985,1986,1987,1988,1989,1990],\"xaxis\":\"x\",\"y\":[8.0,8.0,31.0,32.0,33.0,34.0,38.0,44.0,44.0,44.0,61.0,63.0,68.0,70.0,70.0,79.0,88.0,90.0,91.0,96.0,97.0],\"yaxis\":\"y\",\"type\":\"scattergl\"},{\"hovertemplate\":\"country_txt=Western Sahara<br>iyear=%{x}<br>nkill=%{y}<extra></extra>\",\"legendgroup\":\"Western Sahara\",\"line\":{\"color\":\"#FECB52\",\"dash\":\"solid\"},\"marker\":{\"symbol\":\"circle\"},\"mode\":\"lines\",\"name\":\"Western Sahara\",\"showlegend\":true,\"x\":[1978,1984,1986,1992,2007],\"xaxis\":\"x\",\"y\":[0.0,0.0,1.0,1.0,1.0],\"yaxis\":\"y\",\"type\":\"scattergl\"},{\"hovertemplate\":\"country_txt=Yemen<br>iyear=%{x}<br>nkill=%{y}<extra></extra>\",\"legendgroup\":\"Yemen\",\"line\":{\"color\":\"#636efa\",\"dash\":\"solid\"},\"marker\":{\"symbol\":\"circle\"},\"mode\":\"lines\",\"name\":\"Yemen\",\"showlegend\":true,\"x\":[1991,1992,1994,1995,1996,1997,1998,1999,2000,2001,2002,2003,2005,2006,2007,2008,2009,2010,2011,2012,2013,2014,2015,2016,2017],\"xaxis\":\"x\",\"y\":[0.0,20.0,34.0,38.0,41.0,52.0,60.0,71.0,90.0,92.0,96.0,112.0,124.0,138.0,162.0,236.0,283.0,628.0,1089.0,2145.0,2769.0,4122.0,6496.0,8013.0,8775.0],\"yaxis\":\"y\",\"type\":\"scattergl\"},{\"hovertemplate\":\"country_txt=Yugoslavia<br>iyear=%{x}<br>nkill=%{y}<extra></extra>\",\"legendgroup\":\"Yugoslavia\",\"line\":{\"color\":\"#EF553B\",\"dash\":\"solid\"},\"marker\":{\"symbol\":\"circle\"},\"mode\":\"lines\",\"name\":\"Yugoslavia\",\"showlegend\":true,\"x\":[1973,1974,1977,1980,1981,1983,1984,1989,1990,1991,1992,1994,1995,1996,1997,1998,1999,2000,2001,2002],\"xaxis\":\"x\",\"y\":[1.0,1.0,2.0,2.0,2.0,4.0,6.0,6.0,6.0,12.0,15.0,15.0,17.0,26.0,35.0,92.0,106.0,111.0,119.0,119.0],\"yaxis\":\"y\",\"type\":\"scattergl\"},{\"hovertemplate\":\"country_txt=Zaire<br>iyear=%{x}<br>nkill=%{y}<extra></extra>\",\"legendgroup\":\"Zaire\",\"line\":{\"color\":\"#00cc96\",\"dash\":\"solid\"},\"marker\":{\"symbol\":\"circle\"},\"mode\":\"lines\",\"name\":\"Zaire\",\"showlegend\":true,\"x\":[1972,1973,1977,1984,1988,1991,1992,1994,1995,1996,1997],\"xaxis\":\"x\",\"y\":[0.0,0.0,1.0,3.0,31.0,34.0,36.0,37.0,80.0,303.0,316.0],\"yaxis\":\"y\",\"type\":\"scattergl\"},{\"hovertemplate\":\"country_txt=Zambia<br>iyear=%{x}<br>nkill=%{y}<extra></extra>\",\"legendgroup\":\"Zambia\",\"line\":{\"color\":\"#ab63fa\",\"dash\":\"solid\"},\"marker\":{\"symbol\":\"circle\"},\"mode\":\"lines\",\"name\":\"Zambia\",\"showlegend\":true,\"x\":[1971,1973,1975,1977,1978,1979,1981,1985,1986,1987,1988,1989,1990,1995,1996,1999,2000,2002,2017],\"xaxis\":\"x\",\"y\":[1.0,3.0,4.0,5.0,5.0,5.0,5.0,5.0,7.0,7.0,16.0,49.0,69.0,69.0,69.0,70.0,70.0,70.0,70.0],\"yaxis\":\"y\",\"type\":\"scattergl\"},{\"hovertemplate\":\"country_txt=Zimbabwe<br>iyear=%{x}<br>nkill=%{y}<extra></extra>\",\"legendgroup\":\"Zimbabwe\",\"line\":{\"color\":\"#FFA15A\",\"dash\":\"solid\"},\"marker\":{\"symbol\":\"circle\"},\"mode\":\"lines\",\"name\":\"Zimbabwe\",\"showlegend\":true,\"x\":[1980,1981,1982,1983,1984,1985,1986,1987,1988,1989,1990,1991,1992,1994,1995,2000,2001,2002,2003,2006,2007,2008,2010,2011,2013,2014,2017],\"xaxis\":\"x\",\"y\":[13.0,26.0,48.0,59.0,63.0,68.0,69.0,104.0,106.0,127.0,136.0,136.0,136.0,136.0,136.0,136.0,136.0,144.0,144.0,144.0,144.0,151.0,152.0,152.0,153.0,153.0,153.0],\"yaxis\":\"y\",\"type\":\"scattergl\"}],                        {\"template\":{\"data\":{\"bar\":[{\"error_x\":{\"color\":\"#2a3f5f\"},\"error_y\":{\"color\":\"#2a3f5f\"},\"marker\":{\"line\":{\"color\":\"#E5ECF6\",\"width\":0.5},\"pattern\":{\"fillmode\":\"overlay\",\"size\":10,\"solidity\":0.2}},\"type\":\"bar\"}],\"barpolar\":[{\"marker\":{\"line\":{\"color\":\"#E5ECF6\",\"width\":0.5},\"pattern\":{\"fillmode\":\"overlay\",\"size\":10,\"solidity\":0.2}},\"type\":\"barpolar\"}],\"carpet\":[{\"aaxis\":{\"endlinecolor\":\"#2a3f5f\",\"gridcolor\":\"white\",\"linecolor\":\"white\",\"minorgridcolor\":\"white\",\"startlinecolor\":\"#2a3f5f\"},\"baxis\":{\"endlinecolor\":\"#2a3f5f\",\"gridcolor\":\"white\",\"linecolor\":\"white\",\"minorgridcolor\":\"white\",\"startlinecolor\":\"#2a3f5f\"},\"type\":\"carpet\"}],\"choropleth\":[{\"colorbar\":{\"outlinewidth\":0,\"ticks\":\"\"},\"type\":\"choropleth\"}],\"contour\":[{\"colorbar\":{\"outlinewidth\":0,\"ticks\":\"\"},\"colorscale\":[[0.0,\"#0d0887\"],[0.1111111111111111,\"#46039f\"],[0.2222222222222222,\"#7201a8\"],[0.3333333333333333,\"#9c179e\"],[0.4444444444444444,\"#bd3786\"],[0.5555555555555556,\"#d8576b\"],[0.6666666666666666,\"#ed7953\"],[0.7777777777777778,\"#fb9f3a\"],[0.8888888888888888,\"#fdca26\"],[1.0,\"#f0f921\"]],\"type\":\"contour\"}],\"contourcarpet\":[{\"colorbar\":{\"outlinewidth\":0,\"ticks\":\"\"},\"type\":\"contourcarpet\"}],\"heatmap\":[{\"colorbar\":{\"outlinewidth\":0,\"ticks\":\"\"},\"colorscale\":[[0.0,\"#0d0887\"],[0.1111111111111111,\"#46039f\"],[0.2222222222222222,\"#7201a8\"],[0.3333333333333333,\"#9c179e\"],[0.4444444444444444,\"#bd3786\"],[0.5555555555555556,\"#d8576b\"],[0.6666666666666666,\"#ed7953\"],[0.7777777777777778,\"#fb9f3a\"],[0.8888888888888888,\"#fdca26\"],[1.0,\"#f0f921\"]],\"type\":\"heatmap\"}],\"heatmapgl\":[{\"colorbar\":{\"outlinewidth\":0,\"ticks\":\"\"},\"colorscale\":[[0.0,\"#0d0887\"],[0.1111111111111111,\"#46039f\"],[0.2222222222222222,\"#7201a8\"],[0.3333333333333333,\"#9c179e\"],[0.4444444444444444,\"#bd3786\"],[0.5555555555555556,\"#d8576b\"],[0.6666666666666666,\"#ed7953\"],[0.7777777777777778,\"#fb9f3a\"],[0.8888888888888888,\"#fdca26\"],[1.0,\"#f0f921\"]],\"type\":\"heatmapgl\"}],\"histogram\":[{\"marker\":{\"pattern\":{\"fillmode\":\"overlay\",\"size\":10,\"solidity\":0.2}},\"type\":\"histogram\"}],\"histogram2d\":[{\"colorbar\":{\"outlinewidth\":0,\"ticks\":\"\"},\"colorscale\":[[0.0,\"#0d0887\"],[0.1111111111111111,\"#46039f\"],[0.2222222222222222,\"#7201a8\"],[0.3333333333333333,\"#9c179e\"],[0.4444444444444444,\"#bd3786\"],[0.5555555555555556,\"#d8576b\"],[0.6666666666666666,\"#ed7953\"],[0.7777777777777778,\"#fb9f3a\"],[0.8888888888888888,\"#fdca26\"],[1.0,\"#f0f921\"]],\"type\":\"histogram2d\"}],\"histogram2dcontour\":[{\"colorbar\":{\"outlinewidth\":0,\"ticks\":\"\"},\"colorscale\":[[0.0,\"#0d0887\"],[0.1111111111111111,\"#46039f\"],[0.2222222222222222,\"#7201a8\"],[0.3333333333333333,\"#9c179e\"],[0.4444444444444444,\"#bd3786\"],[0.5555555555555556,\"#d8576b\"],[0.6666666666666666,\"#ed7953\"],[0.7777777777777778,\"#fb9f3a\"],[0.8888888888888888,\"#fdca26\"],[1.0,\"#f0f921\"]],\"type\":\"histogram2dcontour\"}],\"mesh3d\":[{\"colorbar\":{\"outlinewidth\":0,\"ticks\":\"\"},\"type\":\"mesh3d\"}],\"parcoords\":[{\"line\":{\"colorbar\":{\"outlinewidth\":0,\"ticks\":\"\"}},\"type\":\"parcoords\"}],\"pie\":[{\"automargin\":true,\"type\":\"pie\"}],\"scatter\":[{\"marker\":{\"colorbar\":{\"outlinewidth\":0,\"ticks\":\"\"}},\"type\":\"scatter\"}],\"scatter3d\":[{\"line\":{\"colorbar\":{\"outlinewidth\":0,\"ticks\":\"\"}},\"marker\":{\"colorbar\":{\"outlinewidth\":0,\"ticks\":\"\"}},\"type\":\"scatter3d\"}],\"scattercarpet\":[{\"marker\":{\"colorbar\":{\"outlinewidth\":0,\"ticks\":\"\"}},\"type\":\"scattercarpet\"}],\"scattergeo\":[{\"marker\":{\"colorbar\":{\"outlinewidth\":0,\"ticks\":\"\"}},\"type\":\"scattergeo\"}],\"scattergl\":[{\"marker\":{\"colorbar\":{\"outlinewidth\":0,\"ticks\":\"\"}},\"type\":\"scattergl\"}],\"scattermapbox\":[{\"marker\":{\"colorbar\":{\"outlinewidth\":0,\"ticks\":\"\"}},\"type\":\"scattermapbox\"}],\"scatterpolar\":[{\"marker\":{\"colorbar\":{\"outlinewidth\":0,\"ticks\":\"\"}},\"type\":\"scatterpolar\"}],\"scatterpolargl\":[{\"marker\":{\"colorbar\":{\"outlinewidth\":0,\"ticks\":\"\"}},\"type\":\"scatterpolargl\"}],\"scatterternary\":[{\"marker\":{\"colorbar\":{\"outlinewidth\":0,\"ticks\":\"\"}},\"type\":\"scatterternary\"}],\"surface\":[{\"colorbar\":{\"outlinewidth\":0,\"ticks\":\"\"},\"colorscale\":[[0.0,\"#0d0887\"],[0.1111111111111111,\"#46039f\"],[0.2222222222222222,\"#7201a8\"],[0.3333333333333333,\"#9c179e\"],[0.4444444444444444,\"#bd3786\"],[0.5555555555555556,\"#d8576b\"],[0.6666666666666666,\"#ed7953\"],[0.7777777777777778,\"#fb9f3a\"],[0.8888888888888888,\"#fdca26\"],[1.0,\"#f0f921\"]],\"type\":\"surface\"}],\"table\":[{\"cells\":{\"fill\":{\"color\":\"#EBF0F8\"},\"line\":{\"color\":\"white\"}},\"header\":{\"fill\":{\"color\":\"#C8D4E3\"},\"line\":{\"color\":\"white\"}},\"type\":\"table\"}]},\"layout\":{\"annotationdefaults\":{\"arrowcolor\":\"#2a3f5f\",\"arrowhead\":0,\"arrowwidth\":1},\"autotypenumbers\":\"strict\",\"coloraxis\":{\"colorbar\":{\"outlinewidth\":0,\"ticks\":\"\"}},\"colorscale\":{\"diverging\":[[0,\"#8e0152\"],[0.1,\"#c51b7d\"],[0.2,\"#de77ae\"],[0.3,\"#f1b6da\"],[0.4,\"#fde0ef\"],[0.5,\"#f7f7f7\"],[0.6,\"#e6f5d0\"],[0.7,\"#b8e186\"],[0.8,\"#7fbc41\"],[0.9,\"#4d9221\"],[1,\"#276419\"]],\"sequential\":[[0.0,\"#0d0887\"],[0.1111111111111111,\"#46039f\"],[0.2222222222222222,\"#7201a8\"],[0.3333333333333333,\"#9c179e\"],[0.4444444444444444,\"#bd3786\"],[0.5555555555555556,\"#d8576b\"],[0.6666666666666666,\"#ed7953\"],[0.7777777777777778,\"#fb9f3a\"],[0.8888888888888888,\"#fdca26\"],[1.0,\"#f0f921\"]],\"sequentialminus\":[[0.0,\"#0d0887\"],[0.1111111111111111,\"#46039f\"],[0.2222222222222222,\"#7201a8\"],[0.3333333333333333,\"#9c179e\"],[0.4444444444444444,\"#bd3786\"],[0.5555555555555556,\"#d8576b\"],[0.6666666666666666,\"#ed7953\"],[0.7777777777777778,\"#fb9f3a\"],[0.8888888888888888,\"#fdca26\"],[1.0,\"#f0f921\"]]},\"colorway\":[\"#636efa\",\"#EF553B\",\"#00cc96\",\"#ab63fa\",\"#FFA15A\",\"#19d3f3\",\"#FF6692\",\"#B6E880\",\"#FF97FF\",\"#FECB52\"],\"font\":{\"color\":\"#2a3f5f\"},\"geo\":{\"bgcolor\":\"white\",\"lakecolor\":\"white\",\"landcolor\":\"#E5ECF6\",\"showlakes\":true,\"showland\":true,\"subunitcolor\":\"white\"},\"hoverlabel\":{\"align\":\"left\"},\"hovermode\":\"closest\",\"mapbox\":{\"style\":\"light\"},\"paper_bgcolor\":\"white\",\"plot_bgcolor\":\"#E5ECF6\",\"polar\":{\"angularaxis\":{\"gridcolor\":\"white\",\"linecolor\":\"white\",\"ticks\":\"\"},\"bgcolor\":\"#E5ECF6\",\"radialaxis\":{\"gridcolor\":\"white\",\"linecolor\":\"white\",\"ticks\":\"\"}},\"scene\":{\"xaxis\":{\"backgroundcolor\":\"#E5ECF6\",\"gridcolor\":\"white\",\"gridwidth\":2,\"linecolor\":\"white\",\"showbackground\":true,\"ticks\":\"\",\"zerolinecolor\":\"white\"},\"yaxis\":{\"backgroundcolor\":\"#E5ECF6\",\"gridcolor\":\"white\",\"gridwidth\":2,\"linecolor\":\"white\",\"showbackground\":true,\"ticks\":\"\",\"zerolinecolor\":\"white\"},\"zaxis\":{\"backgroundcolor\":\"#E5ECF6\",\"gridcolor\":\"white\",\"gridwidth\":2,\"linecolor\":\"white\",\"showbackground\":true,\"ticks\":\"\",\"zerolinecolor\":\"white\"}},\"shapedefaults\":{\"line\":{\"color\":\"#2a3f5f\"}},\"ternary\":{\"aaxis\":{\"gridcolor\":\"white\",\"linecolor\":\"white\",\"ticks\":\"\"},\"baxis\":{\"gridcolor\":\"white\",\"linecolor\":\"white\",\"ticks\":\"\"},\"bgcolor\":\"#E5ECF6\",\"caxis\":{\"gridcolor\":\"white\",\"linecolor\":\"white\",\"ticks\":\"\"}},\"title\":{\"x\":0.05},\"xaxis\":{\"automargin\":true,\"gridcolor\":\"white\",\"linecolor\":\"white\",\"ticks\":\"\",\"title\":{\"standoff\":15},\"zerolinecolor\":\"white\",\"zerolinewidth\":2},\"yaxis\":{\"automargin\":true,\"gridcolor\":\"white\",\"linecolor\":\"white\",\"ticks\":\"\",\"title\":{\"standoff\":15},\"zerolinecolor\":\"white\",\"zerolinewidth\":2}}},\"xaxis\":{\"anchor\":\"y\",\"domain\":[0.0,1.0],\"title\":{\"text\":\"iyear\"}},\"yaxis\":{\"anchor\":\"x\",\"domain\":[0.0,1.0],\"title\":{\"text\":\"nkill\"}},\"legend\":{\"title\":{\"text\":\"country_txt\"},\"tracegroupgap\":0},\"margin\":{\"t\":60}},                        {\"responsive\": true}                    ).then(function(){\n",
       "                            \n",
       "var gd = document.getElementById('404fa71c-0ef5-476f-b092-484540cface3');\n",
       "var x = new MutationObserver(function (mutations, observer) {{\n",
       "        var display = window.getComputedStyle(gd).display;\n",
       "        if (!display || display === 'none') {{\n",
       "            console.log([gd, 'removed!']);\n",
       "            Plotly.purge(gd);\n",
       "            observer.disconnect();\n",
       "        }}\n",
       "}});\n",
       "\n",
       "// Listen for the removal of the full notebook cells\n",
       "var notebookContainer = gd.closest('#notebook-container');\n",
       "if (notebookContainer) {{\n",
       "    x.observe(notebookContainer, {childList: true});\n",
       "}}\n",
       "\n",
       "// Listen for the clearing of the current output cell\n",
       "var outputEl = gd.closest('.output');\n",
       "if (outputEl) {{\n",
       "    x.observe(outputEl, {childList: true});\n",
       "}}\n",
       "\n",
       "                        })                };                });            </script>        </div>"
      ]
     },
     "metadata": {},
     "output_type": "display_data"
    }
   ],
   "source": [
    "px.line(data_nmort,x='iyear',y='nkill', color='country_txt')"
   ]
  },
  {
   "cell_type": "markdown",
   "metadata": {},
   "source": [
    "# visualiser le cumul annuel du nombre de morts causes par attaques terroristes par region"
   ]
  },
  {
   "cell_type": "code",
   "execution_count": 102,
   "metadata": {},
   "outputs": [
    {
     "data": {
      "text/html": [
       "<div>\n",
       "<style scoped>\n",
       "    .dataframe tbody tr th:only-of-type {\n",
       "        vertical-align: middle;\n",
       "    }\n",
       "\n",
       "    .dataframe tbody tr th {\n",
       "        vertical-align: top;\n",
       "    }\n",
       "\n",
       "    .dataframe thead th {\n",
       "        text-align: right;\n",
       "    }\n",
       "</style>\n",
       "<table border=\"1\" class=\"dataframe\">\n",
       "  <thead>\n",
       "    <tr style=\"text-align: right;\">\n",
       "      <th></th>\n",
       "      <th>region_txt</th>\n",
       "      <th>iyear</th>\n",
       "      <th>iday</th>\n",
       "      <th>imonth</th>\n",
       "      <th>nkill</th>\n",
       "      <th>nwound</th>\n",
       "      <th>nkillus</th>\n",
       "      <th>nwoundus</th>\n",
       "      <th>latitude</th>\n",
       "      <th>longitude</th>\n",
       "      <th>suicide</th>\n",
       "      <th>ransompaid</th>\n",
       "      <th>nhostkid</th>\n",
       "      <th>nhours</th>\n",
       "      <th>ndays</th>\n",
       "      <th>ransompaidus</th>\n",
       "      <th>nhostkidus</th>\n",
       "      <th>propextent</th>\n",
       "      <th>propvalue</th>\n",
       "    </tr>\n",
       "  </thead>\n",
       "  <tbody>\n",
       "    <tr>\n",
       "      <th>0</th>\n",
       "      <td>Australasia &amp; Oceania</td>\n",
       "      <td>1970</td>\n",
       "      <td>21</td>\n",
       "      <td>10</td>\n",
       "      <td>0.0</td>\n",
       "      <td>0.0</td>\n",
       "      <td>0.0</td>\n",
       "      <td>0.0</td>\n",
       "      <td>-37.813187</td>\n",
       "      <td>144.962980</td>\n",
       "      <td>0</td>\n",
       "      <td>0.0</td>\n",
       "      <td>0.0</td>\n",
       "      <td>0.0</td>\n",
       "      <td>0.0</td>\n",
       "      <td>0.0</td>\n",
       "      <td>0.0</td>\n",
       "      <td>0.0</td>\n",
       "      <td>0.000000e+00</td>\n",
       "    </tr>\n",
       "    <tr>\n",
       "      <th>1</th>\n",
       "      <td>Australasia &amp; Oceania</td>\n",
       "      <td>1971</td>\n",
       "      <td>44</td>\n",
       "      <td>21</td>\n",
       "      <td>0.0</td>\n",
       "      <td>0.0</td>\n",
       "      <td>0.0</td>\n",
       "      <td>0.0</td>\n",
       "      <td>-71.686838</td>\n",
       "      <td>296.169870</td>\n",
       "      <td>0</td>\n",
       "      <td>0.0</td>\n",
       "      <td>0.0</td>\n",
       "      <td>0.0</td>\n",
       "      <td>0.0</td>\n",
       "      <td>0.0</td>\n",
       "      <td>0.0</td>\n",
       "      <td>4.0</td>\n",
       "      <td>0.000000e+00</td>\n",
       "    </tr>\n",
       "    <tr>\n",
       "      <th>2</th>\n",
       "      <td>Australasia &amp; Oceania</td>\n",
       "      <td>1972</td>\n",
       "      <td>219</td>\n",
       "      <td>96</td>\n",
       "      <td>1.0</td>\n",
       "      <td>0.0</td>\n",
       "      <td>1.0</td>\n",
       "      <td>0.0</td>\n",
       "      <td>-160.497524</td>\n",
       "      <td>753.426169</td>\n",
       "      <td>0</td>\n",
       "      <td>0.0</td>\n",
       "      <td>0.0</td>\n",
       "      <td>0.0</td>\n",
       "      <td>0.0</td>\n",
       "      <td>0.0</td>\n",
       "      <td>0.0</td>\n",
       "      <td>4.0</td>\n",
       "      <td>0.000000e+00</td>\n",
       "    </tr>\n",
       "    <tr>\n",
       "      <th>3</th>\n",
       "      <td>Australasia &amp; Oceania</td>\n",
       "      <td>1973</td>\n",
       "      <td>234</td>\n",
       "      <td>104</td>\n",
       "      <td>1.0</td>\n",
       "      <td>0.0</td>\n",
       "      <td>1.0</td>\n",
       "      <td>0.0</td>\n",
       "      <td>-204.029578</td>\n",
       "      <td>926.062394</td>\n",
       "      <td>0</td>\n",
       "      <td>0.0</td>\n",
       "      <td>0.0</td>\n",
       "      <td>0.0</td>\n",
       "      <td>0.0</td>\n",
       "      <td>0.0</td>\n",
       "      <td>0.0</td>\n",
       "      <td>4.0</td>\n",
       "      <td>0.000000e+00</td>\n",
       "    </tr>\n",
       "    <tr>\n",
       "      <th>4</th>\n",
       "      <td>Australasia &amp; Oceania</td>\n",
       "      <td>1974</td>\n",
       "      <td>258</td>\n",
       "      <td>116</td>\n",
       "      <td>1.0</td>\n",
       "      <td>0.0</td>\n",
       "      <td>1.0</td>\n",
       "      <td>0.0</td>\n",
       "      <td>-237.903229</td>\n",
       "      <td>1077.269284</td>\n",
       "      <td>0</td>\n",
       "      <td>0.0</td>\n",
       "      <td>0.0</td>\n",
       "      <td>0.0</td>\n",
       "      <td>0.0</td>\n",
       "      <td>0.0</td>\n",
       "      <td>0.0</td>\n",
       "      <td>4.0</td>\n",
       "      <td>0.000000e+00</td>\n",
       "    </tr>\n",
       "    <tr>\n",
       "      <th>...</th>\n",
       "      <td>...</td>\n",
       "      <td>...</td>\n",
       "      <td>...</td>\n",
       "      <td>...</td>\n",
       "      <td>...</td>\n",
       "      <td>...</td>\n",
       "      <td>...</td>\n",
       "      <td>...</td>\n",
       "      <td>...</td>\n",
       "      <td>...</td>\n",
       "      <td>...</td>\n",
       "      <td>...</td>\n",
       "      <td>...</td>\n",
       "      <td>...</td>\n",
       "      <td>...</td>\n",
       "      <td>...</td>\n",
       "      <td>...</td>\n",
       "      <td>...</td>\n",
       "      <td>...</td>\n",
       "    </tr>\n",
       "    <tr>\n",
       "      <th>523</th>\n",
       "      <td>Western Europe</td>\n",
       "      <td>2013</td>\n",
       "      <td>236272</td>\n",
       "      <td>97487</td>\n",
       "      <td>6174.0</td>\n",
       "      <td>16281.0</td>\n",
       "      <td>261.0</td>\n",
       "      <td>204.0</td>\n",
       "      <td>716097.134139</td>\n",
       "      <td>41317.345839</td>\n",
       "      <td>9</td>\n",
       "      <td>86335500.0</td>\n",
       "      <td>-622.0</td>\n",
       "      <td>350.0</td>\n",
       "      <td>2945.0</td>\n",
       "      <td>0.0</td>\n",
       "      <td>-168.0</td>\n",
       "      <td>16405.0</td>\n",
       "      <td>4.605582e+09</td>\n",
       "    </tr>\n",
       "    <tr>\n",
       "      <th>524</th>\n",
       "      <td>Western Europe</td>\n",
       "      <td>2014</td>\n",
       "      <td>239721</td>\n",
       "      <td>98975</td>\n",
       "      <td>6179.0</td>\n",
       "      <td>16312.0</td>\n",
       "      <td>261.0</td>\n",
       "      <td>204.0</td>\n",
       "      <td>726925.891570</td>\n",
       "      <td>41644.831715</td>\n",
       "      <td>10</td>\n",
       "      <td>86335500.0</td>\n",
       "      <td>-621.0</td>\n",
       "      <td>251.0</td>\n",
       "      <td>2945.0</td>\n",
       "      <td>0.0</td>\n",
       "      <td>-168.0</td>\n",
       "      <td>16783.0</td>\n",
       "      <td>4.607515e+09</td>\n",
       "    </tr>\n",
       "    <tr>\n",
       "      <th>525</th>\n",
       "      <td>Western Europe</td>\n",
       "      <td>2015</td>\n",
       "      <td>244761</td>\n",
       "      <td>101477</td>\n",
       "      <td>6350.0</td>\n",
       "      <td>16838.0</td>\n",
       "      <td>262.0</td>\n",
       "      <td>205.0</td>\n",
       "      <td>744018.038121</td>\n",
       "      <td>43230.933547</td>\n",
       "      <td>15</td>\n",
       "      <td>86335500.0</td>\n",
       "      <td>-661.0</td>\n",
       "      <td>-128.0</td>\n",
       "      <td>2945.0</td>\n",
       "      <td>0.0</td>\n",
       "      <td>-168.0</td>\n",
       "      <td>17376.0</td>\n",
       "      <td>4.608483e+09</td>\n",
       "    </tr>\n",
       "    <tr>\n",
       "      <th>526</th>\n",
       "      <td>Western Europe</td>\n",
       "      <td>2016</td>\n",
       "      <td>249308</td>\n",
       "      <td>103162</td>\n",
       "      <td>6588.0</td>\n",
       "      <td>17738.0</td>\n",
       "      <td>269.0</td>\n",
       "      <td>216.0</td>\n",
       "      <td>757843.049634</td>\n",
       "      <td>44487.698285</td>\n",
       "      <td>17</td>\n",
       "      <td>86335500.0</td>\n",
       "      <td>-651.0</td>\n",
       "      <td>-419.0</td>\n",
       "      <td>2945.0</td>\n",
       "      <td>0.0</td>\n",
       "      <td>-168.0</td>\n",
       "      <td>17841.0</td>\n",
       "      <td>4.611180e+09</td>\n",
       "    </tr>\n",
       "    <tr>\n",
       "      <th>527</th>\n",
       "      <td>Western Europe</td>\n",
       "      <td>2017</td>\n",
       "      <td>254258</td>\n",
       "      <td>105018</td>\n",
       "      <td>6671.0</td>\n",
       "      <td>18247.0</td>\n",
       "      <td>271.0</td>\n",
       "      <td>219.0</td>\n",
       "      <td>772391.518625</td>\n",
       "      <td>45711.056160</td>\n",
       "      <td>23</td>\n",
       "      <td>86335500.0</td>\n",
       "      <td>-647.0</td>\n",
       "      <td>-815.0</td>\n",
       "      <td>2945.0</td>\n",
       "      <td>0.0</td>\n",
       "      <td>-168.0</td>\n",
       "      <td>18323.0</td>\n",
       "      <td>4.611165e+09</td>\n",
       "    </tr>\n",
       "  </tbody>\n",
       "</table>\n",
       "<p>528 rows × 19 columns</p>\n",
       "</div>"
      ],
      "text/plain": [
       "                region_txt  iyear    iday  imonth   nkill   nwound  nkillus  \\\n",
       "0    Australasia & Oceania   1970      21      10     0.0      0.0      0.0   \n",
       "1    Australasia & Oceania   1971      44      21     0.0      0.0      0.0   \n",
       "2    Australasia & Oceania   1972     219      96     1.0      0.0      1.0   \n",
       "3    Australasia & Oceania   1973     234     104     1.0      0.0      1.0   \n",
       "4    Australasia & Oceania   1974     258     116     1.0      0.0      1.0   \n",
       "..                     ...    ...     ...     ...     ...      ...      ...   \n",
       "523         Western Europe   2013  236272   97487  6174.0  16281.0    261.0   \n",
       "524         Western Europe   2014  239721   98975  6179.0  16312.0    261.0   \n",
       "525         Western Europe   2015  244761  101477  6350.0  16838.0    262.0   \n",
       "526         Western Europe   2016  249308  103162  6588.0  17738.0    269.0   \n",
       "527         Western Europe   2017  254258  105018  6671.0  18247.0    271.0   \n",
       "\n",
       "     nwoundus       latitude     longitude  suicide  ransompaid  nhostkid  \\\n",
       "0         0.0     -37.813187    144.962980        0         0.0       0.0   \n",
       "1         0.0     -71.686838    296.169870        0         0.0       0.0   \n",
       "2         0.0    -160.497524    753.426169        0         0.0       0.0   \n",
       "3         0.0    -204.029578    926.062394        0         0.0       0.0   \n",
       "4         0.0    -237.903229   1077.269284        0         0.0       0.0   \n",
       "..        ...            ...           ...      ...         ...       ...   \n",
       "523     204.0  716097.134139  41317.345839        9  86335500.0    -622.0   \n",
       "524     204.0  726925.891570  41644.831715       10  86335500.0    -621.0   \n",
       "525     205.0  744018.038121  43230.933547       15  86335500.0    -661.0   \n",
       "526     216.0  757843.049634  44487.698285       17  86335500.0    -651.0   \n",
       "527     219.0  772391.518625  45711.056160       23  86335500.0    -647.0   \n",
       "\n",
       "     nhours   ndays  ransompaidus  nhostkidus  propextent     propvalue  \n",
       "0       0.0     0.0           0.0         0.0         0.0  0.000000e+00  \n",
       "1       0.0     0.0           0.0         0.0         4.0  0.000000e+00  \n",
       "2       0.0     0.0           0.0         0.0         4.0  0.000000e+00  \n",
       "3       0.0     0.0           0.0         0.0         4.0  0.000000e+00  \n",
       "4       0.0     0.0           0.0         0.0         4.0  0.000000e+00  \n",
       "..      ...     ...           ...         ...         ...           ...  \n",
       "523   350.0  2945.0           0.0      -168.0     16405.0  4.605582e+09  \n",
       "524   251.0  2945.0           0.0      -168.0     16783.0  4.607515e+09  \n",
       "525  -128.0  2945.0           0.0      -168.0     17376.0  4.608483e+09  \n",
       "526  -419.0  2945.0           0.0      -168.0     17841.0  4.611180e+09  \n",
       "527  -815.0  2945.0           0.0      -168.0     18323.0  4.611165e+09  \n",
       "\n",
       "[528 rows x 19 columns]"
      ]
     },
     "execution_count": 102,
     "metadata": {},
     "output_type": "execute_result"
    }
   ],
   "source": [
    "data_nmort_region=cleaned_data.groupby(['region_txt','iyear']).sum('nkill').groupby(level=0).cumsum().reset_index()\n",
    "data_nmort_region"
   ]
  },
  {
   "cell_type": "code",
   "execution_count": 103,
   "metadata": {},
   "outputs": [
    {
     "data": {
      "application/vnd.plotly.v1+json": {
       "config": {
        "plotlyServerURL": "https://plot.ly"
       },
       "data": [
        {
         "hovertemplate": "region_txt=Australasia & Oceania<br>iyear=%{x}<br>nkill=%{y}<extra></extra>",
         "legendgroup": "Australasia & Oceania",
         "line": {
          "color": "#636efa",
          "dash": "solid"
         },
         "marker": {
          "symbol": "circle"
         },
         "mode": "lines",
         "name": "Australasia & Oceania",
         "orientation": "v",
         "showlegend": true,
         "type": "scatter",
         "x": [
          1970,
          1971,
          1972,
          1973,
          1974,
          1978,
          1979,
          1980,
          1981,
          1982,
          1984,
          1985,
          1986,
          1987,
          1988,
          1989,
          1990,
          1991,
          1992,
          1994,
          1995,
          1996,
          1997,
          1998,
          1999,
          2000,
          2001,
          2002,
          2003,
          2006,
          2007,
          2008,
          2009,
          2010,
          2013,
          2014,
          2015,
          2016,
          2017
         ],
         "xaxis": "x",
         "y": [
          0,
          0,
          1,
          1,
          1,
          3,
          3,
          5,
          6,
          6,
          18,
          18,
          19,
          19,
          41,
          56,
          68,
          71,
          80,
          100,
          106,
          129,
          129,
          129,
          131,
          138,
          138,
          139,
          140,
          140,
          140,
          140,
          140,
          140,
          140,
          144,
          146,
          146,
          150
         ],
         "yaxis": "y"
        },
        {
         "hovertemplate": "region_txt=Central America & Caribbean<br>iyear=%{x}<br>nkill=%{y}<extra></extra>",
         "legendgroup": "Central America & Caribbean",
         "line": {
          "color": "#EF553B",
          "dash": "solid"
         },
         "marker": {
          "symbol": "circle"
         },
         "mode": "lines",
         "name": "Central America & Caribbean",
         "orientation": "v",
         "showlegend": true,
         "type": "scatter",
         "x": [
          1970,
          1971,
          1972,
          1973,
          1974,
          1975,
          1976,
          1977,
          1978,
          1979,
          1980,
          1981,
          1982,
          1983,
          1984,
          1985,
          1986,
          1987,
          1988,
          1989,
          1990,
          1991,
          1992,
          1994,
          1995,
          1996,
          1997,
          1998,
          1999,
          2000,
          2001,
          2002,
          2003,
          2004,
          2005,
          2006,
          2007,
          2009,
          2010,
          2011,
          2012,
          2013,
          2014,
          2015,
          2016,
          2017
         ],
         "xaxis": "x",
         "y": [
          3,
          3,
          3,
          3,
          3,
          39,
          122,
          158,
          320,
          795,
          3766,
          6908,
          10303,
          15853,
          20954,
          23688,
          24443,
          25657,
          26396,
          26848,
          27252,
          27966,
          28078,
          28262,
          28343,
          28431,
          28504,
          28504,
          28510,
          28521,
          28523,
          28523,
          28528,
          28566,
          28567,
          28574,
          28576,
          28579,
          28579,
          28581,
          28583,
          28592,
          28597,
          28597,
          28606,
          28610
         ],
         "yaxis": "y"
        },
        {
         "hovertemplate": "region_txt=Central Asia<br>iyear=%{x}<br>nkill=%{y}<extra></extra>",
         "legendgroup": "Central Asia",
         "line": {
          "color": "#00cc96",
          "dash": "solid"
         },
         "marker": {
          "symbol": "circle"
         },
         "mode": "lines",
         "name": "Central Asia",
         "orientation": "v",
         "showlegend": true,
         "type": "scatter",
         "x": [
          1991,
          1992,
          1994,
          1995,
          1996,
          1997,
          1998,
          1999,
          2000,
          2001,
          2002,
          2003,
          2004,
          2005,
          2006,
          2007,
          2008,
          2009,
          2010,
          2011,
          2012,
          2013,
          2014,
          2015,
          2016,
          2017
         ],
         "xaxis": "x",
         "y": [
          28,
          346,
          468,
          562,
          618,
          699,
          760,
          795,
          813,
          829,
          832,
          833,
          869,
          887,
          893,
          894,
          914,
          924,
          932,
          945,
          951,
          953,
          958,
          971,
          992,
          998
         ],
         "yaxis": "y"
        },
        {
         "hovertemplate": "region_txt=East Asia<br>iyear=%{x}<br>nkill=%{y}<extra></extra>",
         "legendgroup": "East Asia",
         "line": {
          "color": "#ab63fa",
          "dash": "solid"
         },
         "marker": {
          "symbol": "circle"
         },
         "mode": "lines",
         "name": "East Asia",
         "orientation": "v",
         "showlegend": true,
         "type": "scatter",
         "x": [
          1970,
          1971,
          1973,
          1974,
          1975,
          1976,
          1978,
          1979,
          1980,
          1981,
          1982,
          1983,
          1984,
          1985,
          1986,
          1987,
          1988,
          1989,
          1990,
          1991,
          1992,
          1994,
          1995,
          1996,
          1997,
          1998,
          1999,
          2000,
          2001,
          2002,
          2003,
          2004,
          2005,
          2006,
          2008,
          2009,
          2010,
          2011,
          2012,
          2013,
          2014,
          2015,
          2016,
          2017
         ],
         "xaxis": "x",
         "y": [
          0,
          25,
          25,
          26,
          26,
          28,
          32,
          34,
          34,
          34,
          35,
          38,
          38,
          40,
          48,
          49,
          49,
          71,
          75,
          83,
          110,
          144,
          165,
          197,
          235,
          285,
          290,
          291,
          300,
          301,
          302,
          306,
          318,
          318,
          357,
          543,
          550,
          569,
          596,
          656,
          978,
          1101,
          1133,
          1149
         ],
         "yaxis": "y"
        },
        {
         "hovertemplate": "region_txt=Eastern Europe<br>iyear=%{x}<br>nkill=%{y}<extra></extra>",
         "legendgroup": "Eastern Europe",
         "line": {
          "color": "#FFA15A",
          "dash": "solid"
         },
         "marker": {
          "symbol": "circle"
         },
         "mode": "lines",
         "name": "Eastern Europe",
         "orientation": "v",
         "showlegend": true,
         "type": "scatter",
         "x": [
          1970,
          1971,
          1972,
          1973,
          1974,
          1977,
          1978,
          1979,
          1980,
          1981,
          1982,
          1983,
          1984,
          1985,
          1986,
          1987,
          1988,
          1989,
          1990,
          1991,
          1992,
          1994,
          1995,
          1996,
          1997,
          1998,
          1999,
          2000,
          2001,
          2002,
          2003,
          2004,
          2005,
          2006,
          2007,
          2008,
          2009,
          2010,
          2011,
          2012,
          2013,
          2014,
          2015,
          2016,
          2017
         ],
         "xaxis": "x",
         "y": [
          0,
          0,
          26,
          27,
          28,
          29,
          33,
          33,
          33,
          33,
          35,
          37,
          40,
          42,
          43,
          43,
          43,
          49,
          108,
          381,
          491,
          540,
          698,
          865,
          980,
          1089,
          1529,
          1931,
          2224,
          2742,
          3079,
          3687,
          3845,
          3904,
          3961,
          4062,
          4205,
          4437,
          4611,
          4790,
          4941,
          6408,
          7198,
          7310,
          7411
         ],
         "yaxis": "y"
        },
        {
         "hovertemplate": "region_txt=Middle East & North Africa<br>iyear=%{x}<br>nkill=%{y}<extra></extra>",
         "legendgroup": "Middle East & North Africa",
         "line": {
          "color": "#19d3f3",
          "dash": "solid"
         },
         "marker": {
          "symbol": "circle"
         },
         "mode": "lines",
         "name": "Middle East & North Africa",
         "orientation": "v",
         "showlegend": true,
         "type": "scatter",
         "x": [
          1970,
          1971,
          1972,
          1973,
          1974,
          1975,
          1976,
          1977,
          1978,
          1979,
          1980,
          1981,
          1982,
          1983,
          1984,
          1985,
          1986,
          1987,
          1988,
          1989,
          1990,
          1991,
          1992,
          1994,
          1995,
          1996,
          1997,
          1998,
          1999,
          2000,
          2001,
          2002,
          2003,
          2004,
          2005,
          2006,
          2007,
          2008,
          2009,
          2010,
          2011,
          2012,
          2013,
          2014,
          2015,
          2016,
          2017
         ],
         "xaxis": "x",
         "y": [
          1,
          5,
          38,
          45,
          126,
          186,
          231,
          274,
          933,
          1292,
          1721,
          2479,
          3056,
          3806,
          3954,
          4677,
          5085,
          5666,
          6031,
          6511,
          7289,
          7830,
          9709,
          11743,
          12763,
          13724,
          18337,
          19404,
          20054,
          20666,
          21528,
          22702,
          23755,
          26311,
          30228,
          35214,
          42393,
          45857,
          48828,
          51482,
          54130,
          59163,
          69327,
          89407,
          107261,
          126466,
          137285
         ],
         "yaxis": "y"
        },
        {
         "hovertemplate": "region_txt=North America<br>iyear=%{x}<br>nkill=%{y}<extra></extra>",
         "legendgroup": "North America",
         "line": {
          "color": "#FF6692",
          "dash": "solid"
         },
         "marker": {
          "symbol": "circle"
         },
         "mode": "lines",
         "name": "North America",
         "orientation": "v",
         "showlegend": true,
         "type": "scatter",
         "x": [
          1970,
          1971,
          1972,
          1973,
          1974,
          1975,
          1976,
          1977,
          1978,
          1979,
          1980,
          1981,
          1982,
          1983,
          1984,
          1985,
          1986,
          1987,
          1988,
          1989,
          1990,
          1991,
          1992,
          1994,
          1995,
          1996,
          1997,
          1998,
          1999,
          2000,
          2001,
          2002,
          2003,
          2004,
          2005,
          2006,
          2007,
          2008,
          2009,
          2010,
          2011,
          2012,
          2013,
          2014,
          2015,
          2016,
          2017
         ],
         "xaxis": "x",
         "y": [
          34,
          54,
          65,
          111,
          129,
          185,
          215,
          230,
          243,
          266,
          283,
          291,
          304,
          312,
          328,
          662,
          663,
          664,
          667,
          685,
          693,
          708,
          716,
          814,
          1054,
          1152,
          1383,
          1391,
          1411,
          1416,
          4437,
          4441,
          4443,
          4443,
          4445,
          4453,
          4478,
          4501,
          4521,
          4525,
          4525,
          4549,
          4619,
          4653,
          4716,
          4789,
          4913
         ],
         "yaxis": "y"
        },
        {
         "hovertemplate": "region_txt=South America<br>iyear=%{x}<br>nkill=%{y}<extra></extra>",
         "legendgroup": "South America",
         "line": {
          "color": "#B6E880",
          "dash": "solid"
         },
         "marker": {
          "symbol": "circle"
         },
         "mode": "lines",
         "name": "South America",
         "orientation": "v",
         "showlegend": true,
         "type": "scatter",
         "x": [
          1970,
          1971,
          1972,
          1973,
          1974,
          1975,
          1976,
          1977,
          1978,
          1979,
          1980,
          1981,
          1982,
          1983,
          1984,
          1985,
          1986,
          1987,
          1988,
          1989,
          1990,
          1991,
          1992,
          1994,
          1995,
          1996,
          1997,
          1998,
          1999,
          2000,
          2001,
          2002,
          2003,
          2004,
          2005,
          2006,
          2007,
          2008,
          2009,
          2010,
          2011,
          2012,
          2013,
          2014,
          2015,
          2016,
          2017
         ],
         "xaxis": "x",
         "y": [
          9,
          15,
          21,
          37,
          58,
          187,
          320,
          365,
          457,
          640,
          846,
          1248,
          1916,
          4174,
          7059,
          8759,
          10110,
          11560,
          13584,
          15917,
          17777,
          20007,
          21543,
          21949,
          22599,
          23324,
          24641,
          25240,
          25529,
          25910,
          26478,
          26837,
          27024,
          27113,
          27265,
          27358,
          27441,
          27550,
          27686,
          27744,
          27787,
          27967,
          28127,
          28284,
          28412,
          28499,
          28600
         ],
         "yaxis": "y"
        },
        {
         "hovertemplate": "region_txt=South Asia<br>iyear=%{x}<br>nkill=%{y}<extra></extra>",
         "legendgroup": "South Asia",
         "line": {
          "color": "#FF97FF",
          "dash": "solid"
         },
         "marker": {
          "symbol": "circle"
         },
         "mode": "lines",
         "name": "South Asia",
         "orientation": "v",
         "showlegend": true,
         "type": "scatter",
         "x": [
          1970,
          1972,
          1973,
          1974,
          1975,
          1976,
          1977,
          1978,
          1979,
          1980,
          1981,
          1982,
          1983,
          1984,
          1985,
          1986,
          1987,
          1988,
          1989,
          1990,
          1991,
          1992,
          1994,
          1995,
          1996,
          1997,
          1998,
          1999,
          2000,
          2001,
          2002,
          2003,
          2004,
          2005,
          2006,
          2007,
          2008,
          2009,
          2010,
          2011,
          2012,
          2013,
          2014,
          2015,
          2016,
          2017
         ],
         "xaxis": "x",
         "y": [
          4,
          4,
          4,
          4,
          10,
          11,
          11,
          16,
          108,
          148,
          185,
          254,
          329,
          993,
          1661,
          2805,
          4785,
          7006,
          9899,
          12568,
          15083,
          17527,
          18512,
          20645,
          22590,
          24405,
          25642,
          26537,
          27909,
          29276,
          30547,
          31349,
          32965,
          34330,
          37254,
          40927,
          44435,
          47999,
          51678,
          55384,
          61970,
          69040,
          77398,
          85698,
          93501,
          101165
         ],
         "yaxis": "y"
        },
        {
         "hovertemplate": "region_txt=Southeast Asia<br>iyear=%{x}<br>nkill=%{y}<extra></extra>",
         "legendgroup": "Southeast Asia",
         "line": {
          "color": "#FECB52",
          "dash": "solid"
         },
         "marker": {
          "symbol": "circle"
         },
         "mode": "lines",
         "name": "Southeast Asia",
         "orientation": "v",
         "showlegend": true,
         "type": "scatter",
         "x": [
          1970,
          1971,
          1972,
          1973,
          1974,
          1975,
          1976,
          1977,
          1978,
          1979,
          1980,
          1981,
          1982,
          1983,
          1984,
          1985,
          1986,
          1987,
          1988,
          1989,
          1990,
          1991,
          1992,
          1994,
          1995,
          1996,
          1997,
          1998,
          1999,
          2000,
          2001,
          2002,
          2003,
          2004,
          2005,
          2006,
          2007,
          2008,
          2009,
          2010,
          2011,
          2012,
          2013,
          2014,
          2015,
          2016,
          2017
         ],
         "xaxis": "x",
         "y": [
          40,
          40,
          124,
          124,
          129,
          130,
          177,
          279,
          437,
          692,
          927,
          1128,
          1258,
          1376,
          1639,
          2097,
          2434,
          2830,
          3492,
          4098,
          4660,
          5226,
          5899,
          6288,
          6600,
          6870,
          7205,
          7259,
          7382,
          7840,
          8146,
          8542,
          8896,
          9177,
          9443,
          9701,
          10091,
          10494,
          10975,
          11296,
          11595,
          12048,
          12771,
          13473,
          14119,
          14758,
          15569
         ],
         "yaxis": "y"
        },
        {
         "hovertemplate": "region_txt=Sub-Saharan Africa<br>iyear=%{x}<br>nkill=%{y}<extra></extra>",
         "legendgroup": "Sub-Saharan Africa",
         "line": {
          "color": "#636efa",
          "dash": "solid"
         },
         "marker": {
          "symbol": "circle"
         },
         "mode": "lines",
         "name": "Sub-Saharan Africa",
         "orientation": "v",
         "showlegend": true,
         "type": "scatter",
         "x": [
          1970,
          1971,
          1972,
          1973,
          1974,
          1975,
          1976,
          1977,
          1978,
          1979,
          1980,
          1981,
          1982,
          1983,
          1984,
          1985,
          1986,
          1987,
          1988,
          1989,
          1990,
          1991,
          1992,
          1994,
          1995,
          1996,
          1997,
          1998,
          1999,
          2000,
          2001,
          2002,
          2003,
          2004,
          2005,
          2006,
          2007,
          2008,
          2009,
          2010,
          2011,
          2012,
          2013,
          2014,
          2015,
          2016,
          2017
         ],
         "xaxis": "x",
         "y": [
          1,
          2,
          2,
          7,
          11,
          40,
          48,
          65,
          177,
          483,
          554,
          652,
          720,
          1194,
          2216,
          2427,
          3226,
          3874,
          4609,
          5811,
          6471,
          7818,
          10239,
          13471,
          14791,
          17347,
          19535,
          20972,
          21854,
          22859,
          24025,
          25040,
          25530,
          25847,
          26226,
          27198,
          28581,
          30056,
          31787,
          32597,
          33805,
          36801,
          40658,
          54009,
          64772,
          71424,
          78136
         ],
         "yaxis": "y"
        },
        {
         "hovertemplate": "region_txt=Western Europe<br>iyear=%{x}<br>nkill=%{y}<extra></extra>",
         "legendgroup": "Western Europe",
         "line": {
          "color": "#EF553B",
          "dash": "solid"
         },
         "marker": {
          "symbol": "circle"
         },
         "mode": "lines",
         "name": "Western Europe",
         "orientation": "v",
         "showlegend": true,
         "type": "scatter",
         "x": [
          1970,
          1971,
          1972,
          1973,
          1974,
          1975,
          1976,
          1977,
          1978,
          1979,
          1980,
          1981,
          1982,
          1983,
          1984,
          1985,
          1986,
          1987,
          1988,
          1989,
          1990,
          1991,
          1992,
          1994,
          1995,
          1996,
          1997,
          1998,
          1999,
          2000,
          2001,
          2002,
          2003,
          2004,
          2005,
          2006,
          2007,
          2008,
          2009,
          2010,
          2011,
          2012,
          2013,
          2014,
          2015,
          2016,
          2017
         ],
         "xaxis": "x",
         "y": [
          79,
          191,
          596,
          891,
          1298,
          1593,
          1916,
          2108,
          2337,
          2638,
          3023,
          3198,
          3376,
          3539,
          3714,
          3974,
          4139,
          4333,
          4770,
          4889,
          5007,
          5177,
          5356,
          5461,
          5529,
          5570,
          5610,
          5664,
          5676,
          5718,
          5758,
          5767,
          5772,
          5968,
          6028,
          6034,
          6051,
          6054,
          6069,
          6073,
          6156,
          6167,
          6174,
          6179,
          6350,
          6588,
          6671
         ],
         "yaxis": "y"
        }
       ],
       "layout": {
        "legend": {
         "title": {
          "text": "region_txt"
         },
         "tracegroupgap": 0
        },
        "margin": {
         "t": 60
        },
        "template": {
         "data": {
          "bar": [
           {
            "error_x": {
             "color": "#2a3f5f"
            },
            "error_y": {
             "color": "#2a3f5f"
            },
            "marker": {
             "line": {
              "color": "#E5ECF6",
              "width": 0.5
             },
             "pattern": {
              "fillmode": "overlay",
              "size": 10,
              "solidity": 0.2
             }
            },
            "type": "bar"
           }
          ],
          "barpolar": [
           {
            "marker": {
             "line": {
              "color": "#E5ECF6",
              "width": 0.5
             },
             "pattern": {
              "fillmode": "overlay",
              "size": 10,
              "solidity": 0.2
             }
            },
            "type": "barpolar"
           }
          ],
          "carpet": [
           {
            "aaxis": {
             "endlinecolor": "#2a3f5f",
             "gridcolor": "white",
             "linecolor": "white",
             "minorgridcolor": "white",
             "startlinecolor": "#2a3f5f"
            },
            "baxis": {
             "endlinecolor": "#2a3f5f",
             "gridcolor": "white",
             "linecolor": "white",
             "minorgridcolor": "white",
             "startlinecolor": "#2a3f5f"
            },
            "type": "carpet"
           }
          ],
          "choropleth": [
           {
            "colorbar": {
             "outlinewidth": 0,
             "ticks": ""
            },
            "type": "choropleth"
           }
          ],
          "contour": [
           {
            "colorbar": {
             "outlinewidth": 0,
             "ticks": ""
            },
            "colorscale": [
             [
              0,
              "#0d0887"
             ],
             [
              0.1111111111111111,
              "#46039f"
             ],
             [
              0.2222222222222222,
              "#7201a8"
             ],
             [
              0.3333333333333333,
              "#9c179e"
             ],
             [
              0.4444444444444444,
              "#bd3786"
             ],
             [
              0.5555555555555556,
              "#d8576b"
             ],
             [
              0.6666666666666666,
              "#ed7953"
             ],
             [
              0.7777777777777778,
              "#fb9f3a"
             ],
             [
              0.8888888888888888,
              "#fdca26"
             ],
             [
              1,
              "#f0f921"
             ]
            ],
            "type": "contour"
           }
          ],
          "contourcarpet": [
           {
            "colorbar": {
             "outlinewidth": 0,
             "ticks": ""
            },
            "type": "contourcarpet"
           }
          ],
          "heatmap": [
           {
            "colorbar": {
             "outlinewidth": 0,
             "ticks": ""
            },
            "colorscale": [
             [
              0,
              "#0d0887"
             ],
             [
              0.1111111111111111,
              "#46039f"
             ],
             [
              0.2222222222222222,
              "#7201a8"
             ],
             [
              0.3333333333333333,
              "#9c179e"
             ],
             [
              0.4444444444444444,
              "#bd3786"
             ],
             [
              0.5555555555555556,
              "#d8576b"
             ],
             [
              0.6666666666666666,
              "#ed7953"
             ],
             [
              0.7777777777777778,
              "#fb9f3a"
             ],
             [
              0.8888888888888888,
              "#fdca26"
             ],
             [
              1,
              "#f0f921"
             ]
            ],
            "type": "heatmap"
           }
          ],
          "heatmapgl": [
           {
            "colorbar": {
             "outlinewidth": 0,
             "ticks": ""
            },
            "colorscale": [
             [
              0,
              "#0d0887"
             ],
             [
              0.1111111111111111,
              "#46039f"
             ],
             [
              0.2222222222222222,
              "#7201a8"
             ],
             [
              0.3333333333333333,
              "#9c179e"
             ],
             [
              0.4444444444444444,
              "#bd3786"
             ],
             [
              0.5555555555555556,
              "#d8576b"
             ],
             [
              0.6666666666666666,
              "#ed7953"
             ],
             [
              0.7777777777777778,
              "#fb9f3a"
             ],
             [
              0.8888888888888888,
              "#fdca26"
             ],
             [
              1,
              "#f0f921"
             ]
            ],
            "type": "heatmapgl"
           }
          ],
          "histogram": [
           {
            "marker": {
             "pattern": {
              "fillmode": "overlay",
              "size": 10,
              "solidity": 0.2
             }
            },
            "type": "histogram"
           }
          ],
          "histogram2d": [
           {
            "colorbar": {
             "outlinewidth": 0,
             "ticks": ""
            },
            "colorscale": [
             [
              0,
              "#0d0887"
             ],
             [
              0.1111111111111111,
              "#46039f"
             ],
             [
              0.2222222222222222,
              "#7201a8"
             ],
             [
              0.3333333333333333,
              "#9c179e"
             ],
             [
              0.4444444444444444,
              "#bd3786"
             ],
             [
              0.5555555555555556,
              "#d8576b"
             ],
             [
              0.6666666666666666,
              "#ed7953"
             ],
             [
              0.7777777777777778,
              "#fb9f3a"
             ],
             [
              0.8888888888888888,
              "#fdca26"
             ],
             [
              1,
              "#f0f921"
             ]
            ],
            "type": "histogram2d"
           }
          ],
          "histogram2dcontour": [
           {
            "colorbar": {
             "outlinewidth": 0,
             "ticks": ""
            },
            "colorscale": [
             [
              0,
              "#0d0887"
             ],
             [
              0.1111111111111111,
              "#46039f"
             ],
             [
              0.2222222222222222,
              "#7201a8"
             ],
             [
              0.3333333333333333,
              "#9c179e"
             ],
             [
              0.4444444444444444,
              "#bd3786"
             ],
             [
              0.5555555555555556,
              "#d8576b"
             ],
             [
              0.6666666666666666,
              "#ed7953"
             ],
             [
              0.7777777777777778,
              "#fb9f3a"
             ],
             [
              0.8888888888888888,
              "#fdca26"
             ],
             [
              1,
              "#f0f921"
             ]
            ],
            "type": "histogram2dcontour"
           }
          ],
          "mesh3d": [
           {
            "colorbar": {
             "outlinewidth": 0,
             "ticks": ""
            },
            "type": "mesh3d"
           }
          ],
          "parcoords": [
           {
            "line": {
             "colorbar": {
              "outlinewidth": 0,
              "ticks": ""
             }
            },
            "type": "parcoords"
           }
          ],
          "pie": [
           {
            "automargin": true,
            "type": "pie"
           }
          ],
          "scatter": [
           {
            "marker": {
             "colorbar": {
              "outlinewidth": 0,
              "ticks": ""
             }
            },
            "type": "scatter"
           }
          ],
          "scatter3d": [
           {
            "line": {
             "colorbar": {
              "outlinewidth": 0,
              "ticks": ""
             }
            },
            "marker": {
             "colorbar": {
              "outlinewidth": 0,
              "ticks": ""
             }
            },
            "type": "scatter3d"
           }
          ],
          "scattercarpet": [
           {
            "marker": {
             "colorbar": {
              "outlinewidth": 0,
              "ticks": ""
             }
            },
            "type": "scattercarpet"
           }
          ],
          "scattergeo": [
           {
            "marker": {
             "colorbar": {
              "outlinewidth": 0,
              "ticks": ""
             }
            },
            "type": "scattergeo"
           }
          ],
          "scattergl": [
           {
            "marker": {
             "colorbar": {
              "outlinewidth": 0,
              "ticks": ""
             }
            },
            "type": "scattergl"
           }
          ],
          "scattermapbox": [
           {
            "marker": {
             "colorbar": {
              "outlinewidth": 0,
              "ticks": ""
             }
            },
            "type": "scattermapbox"
           }
          ],
          "scatterpolar": [
           {
            "marker": {
             "colorbar": {
              "outlinewidth": 0,
              "ticks": ""
             }
            },
            "type": "scatterpolar"
           }
          ],
          "scatterpolargl": [
           {
            "marker": {
             "colorbar": {
              "outlinewidth": 0,
              "ticks": ""
             }
            },
            "type": "scatterpolargl"
           }
          ],
          "scatterternary": [
           {
            "marker": {
             "colorbar": {
              "outlinewidth": 0,
              "ticks": ""
             }
            },
            "type": "scatterternary"
           }
          ],
          "surface": [
           {
            "colorbar": {
             "outlinewidth": 0,
             "ticks": ""
            },
            "colorscale": [
             [
              0,
              "#0d0887"
             ],
             [
              0.1111111111111111,
              "#46039f"
             ],
             [
              0.2222222222222222,
              "#7201a8"
             ],
             [
              0.3333333333333333,
              "#9c179e"
             ],
             [
              0.4444444444444444,
              "#bd3786"
             ],
             [
              0.5555555555555556,
              "#d8576b"
             ],
             [
              0.6666666666666666,
              "#ed7953"
             ],
             [
              0.7777777777777778,
              "#fb9f3a"
             ],
             [
              0.8888888888888888,
              "#fdca26"
             ],
             [
              1,
              "#f0f921"
             ]
            ],
            "type": "surface"
           }
          ],
          "table": [
           {
            "cells": {
             "fill": {
              "color": "#EBF0F8"
             },
             "line": {
              "color": "white"
             }
            },
            "header": {
             "fill": {
              "color": "#C8D4E3"
             },
             "line": {
              "color": "white"
             }
            },
            "type": "table"
           }
          ]
         },
         "layout": {
          "annotationdefaults": {
           "arrowcolor": "#2a3f5f",
           "arrowhead": 0,
           "arrowwidth": 1
          },
          "autotypenumbers": "strict",
          "coloraxis": {
           "colorbar": {
            "outlinewidth": 0,
            "ticks": ""
           }
          },
          "colorscale": {
           "diverging": [
            [
             0,
             "#8e0152"
            ],
            [
             0.1,
             "#c51b7d"
            ],
            [
             0.2,
             "#de77ae"
            ],
            [
             0.3,
             "#f1b6da"
            ],
            [
             0.4,
             "#fde0ef"
            ],
            [
             0.5,
             "#f7f7f7"
            ],
            [
             0.6,
             "#e6f5d0"
            ],
            [
             0.7,
             "#b8e186"
            ],
            [
             0.8,
             "#7fbc41"
            ],
            [
             0.9,
             "#4d9221"
            ],
            [
             1,
             "#276419"
            ]
           ],
           "sequential": [
            [
             0,
             "#0d0887"
            ],
            [
             0.1111111111111111,
             "#46039f"
            ],
            [
             0.2222222222222222,
             "#7201a8"
            ],
            [
             0.3333333333333333,
             "#9c179e"
            ],
            [
             0.4444444444444444,
             "#bd3786"
            ],
            [
             0.5555555555555556,
             "#d8576b"
            ],
            [
             0.6666666666666666,
             "#ed7953"
            ],
            [
             0.7777777777777778,
             "#fb9f3a"
            ],
            [
             0.8888888888888888,
             "#fdca26"
            ],
            [
             1,
             "#f0f921"
            ]
           ],
           "sequentialminus": [
            [
             0,
             "#0d0887"
            ],
            [
             0.1111111111111111,
             "#46039f"
            ],
            [
             0.2222222222222222,
             "#7201a8"
            ],
            [
             0.3333333333333333,
             "#9c179e"
            ],
            [
             0.4444444444444444,
             "#bd3786"
            ],
            [
             0.5555555555555556,
             "#d8576b"
            ],
            [
             0.6666666666666666,
             "#ed7953"
            ],
            [
             0.7777777777777778,
             "#fb9f3a"
            ],
            [
             0.8888888888888888,
             "#fdca26"
            ],
            [
             1,
             "#f0f921"
            ]
           ]
          },
          "colorway": [
           "#636efa",
           "#EF553B",
           "#00cc96",
           "#ab63fa",
           "#FFA15A",
           "#19d3f3",
           "#FF6692",
           "#B6E880",
           "#FF97FF",
           "#FECB52"
          ],
          "font": {
           "color": "#2a3f5f"
          },
          "geo": {
           "bgcolor": "white",
           "lakecolor": "white",
           "landcolor": "#E5ECF6",
           "showlakes": true,
           "showland": true,
           "subunitcolor": "white"
          },
          "hoverlabel": {
           "align": "left"
          },
          "hovermode": "closest",
          "mapbox": {
           "style": "light"
          },
          "paper_bgcolor": "white",
          "plot_bgcolor": "#E5ECF6",
          "polar": {
           "angularaxis": {
            "gridcolor": "white",
            "linecolor": "white",
            "ticks": ""
           },
           "bgcolor": "#E5ECF6",
           "radialaxis": {
            "gridcolor": "white",
            "linecolor": "white",
            "ticks": ""
           }
          },
          "scene": {
           "xaxis": {
            "backgroundcolor": "#E5ECF6",
            "gridcolor": "white",
            "gridwidth": 2,
            "linecolor": "white",
            "showbackground": true,
            "ticks": "",
            "zerolinecolor": "white"
           },
           "yaxis": {
            "backgroundcolor": "#E5ECF6",
            "gridcolor": "white",
            "gridwidth": 2,
            "linecolor": "white",
            "showbackground": true,
            "ticks": "",
            "zerolinecolor": "white"
           },
           "zaxis": {
            "backgroundcolor": "#E5ECF6",
            "gridcolor": "white",
            "gridwidth": 2,
            "linecolor": "white",
            "showbackground": true,
            "ticks": "",
            "zerolinecolor": "white"
           }
          },
          "shapedefaults": {
           "line": {
            "color": "#2a3f5f"
           }
          },
          "ternary": {
           "aaxis": {
            "gridcolor": "white",
            "linecolor": "white",
            "ticks": ""
           },
           "baxis": {
            "gridcolor": "white",
            "linecolor": "white",
            "ticks": ""
           },
           "bgcolor": "#E5ECF6",
           "caxis": {
            "gridcolor": "white",
            "linecolor": "white",
            "ticks": ""
           }
          },
          "title": {
           "x": 0.05
          },
          "xaxis": {
           "automargin": true,
           "gridcolor": "white",
           "linecolor": "white",
           "ticks": "",
           "title": {
            "standoff": 15
           },
           "zerolinecolor": "white",
           "zerolinewidth": 2
          },
          "yaxis": {
           "automargin": true,
           "gridcolor": "white",
           "linecolor": "white",
           "ticks": "",
           "title": {
            "standoff": 15
           },
           "zerolinecolor": "white",
           "zerolinewidth": 2
          }
         }
        },
        "xaxis": {
         "anchor": "y",
         "domain": [
          0,
          1
         ],
         "title": {
          "text": "iyear"
         }
        },
        "yaxis": {
         "anchor": "x",
         "domain": [
          0,
          1
         ],
         "title": {
          "text": "nkill"
         }
        }
       }
      },
      "text/html": [
       "<div>                            <div id=\"fb968cb5-30a6-4c81-b24e-113c87c7999a\" class=\"plotly-graph-div\" style=\"height:525px; width:100%;\"></div>            <script type=\"text/javascript\">                require([\"plotly\"], function(Plotly) {                    window.PLOTLYENV=window.PLOTLYENV || {};                                    if (document.getElementById(\"fb968cb5-30a6-4c81-b24e-113c87c7999a\")) {                    Plotly.newPlot(                        \"fb968cb5-30a6-4c81-b24e-113c87c7999a\",                        [{\"hovertemplate\":\"region_txt=Australasia & Oceania<br>iyear=%{x}<br>nkill=%{y}<extra></extra>\",\"legendgroup\":\"Australasia & Oceania\",\"line\":{\"color\":\"#636efa\",\"dash\":\"solid\"},\"marker\":{\"symbol\":\"circle\"},\"mode\":\"lines\",\"name\":\"Australasia & Oceania\",\"orientation\":\"v\",\"showlegend\":true,\"x\":[1970,1971,1972,1973,1974,1978,1979,1980,1981,1982,1984,1985,1986,1987,1988,1989,1990,1991,1992,1994,1995,1996,1997,1998,1999,2000,2001,2002,2003,2006,2007,2008,2009,2010,2013,2014,2015,2016,2017],\"xaxis\":\"x\",\"y\":[0.0,0.0,1.0,1.0,1.0,3.0,3.0,5.0,6.0,6.0,18.0,18.0,19.0,19.0,41.0,56.0,68.0,71.0,80.0,100.0,106.0,129.0,129.0,129.0,131.0,138.0,138.0,139.0,140.0,140.0,140.0,140.0,140.0,140.0,140.0,144.0,146.0,146.0,150.0],\"yaxis\":\"y\",\"type\":\"scatter\"},{\"hovertemplate\":\"region_txt=Central America & Caribbean<br>iyear=%{x}<br>nkill=%{y}<extra></extra>\",\"legendgroup\":\"Central America & Caribbean\",\"line\":{\"color\":\"#EF553B\",\"dash\":\"solid\"},\"marker\":{\"symbol\":\"circle\"},\"mode\":\"lines\",\"name\":\"Central America & Caribbean\",\"orientation\":\"v\",\"showlegend\":true,\"x\":[1970,1971,1972,1973,1974,1975,1976,1977,1978,1979,1980,1981,1982,1983,1984,1985,1986,1987,1988,1989,1990,1991,1992,1994,1995,1996,1997,1998,1999,2000,2001,2002,2003,2004,2005,2006,2007,2009,2010,2011,2012,2013,2014,2015,2016,2017],\"xaxis\":\"x\",\"y\":[3.0,3.0,3.0,3.0,3.0,39.0,122.0,158.0,320.0,795.0,3766.0,6908.0,10303.0,15853.0,20954.0,23688.0,24443.0,25657.0,26396.0,26848.0,27252.0,27966.0,28078.0,28262.0,28343.0,28431.0,28504.0,28504.0,28510.0,28521.0,28523.0,28523.0,28528.0,28566.0,28567.0,28574.0,28576.0,28579.0,28579.0,28581.0,28583.0,28592.0,28597.0,28597.0,28606.0,28610.0],\"yaxis\":\"y\",\"type\":\"scatter\"},{\"hovertemplate\":\"region_txt=Central Asia<br>iyear=%{x}<br>nkill=%{y}<extra></extra>\",\"legendgroup\":\"Central Asia\",\"line\":{\"color\":\"#00cc96\",\"dash\":\"solid\"},\"marker\":{\"symbol\":\"circle\"},\"mode\":\"lines\",\"name\":\"Central Asia\",\"orientation\":\"v\",\"showlegend\":true,\"x\":[1991,1992,1994,1995,1996,1997,1998,1999,2000,2001,2002,2003,2004,2005,2006,2007,2008,2009,2010,2011,2012,2013,2014,2015,2016,2017],\"xaxis\":\"x\",\"y\":[28.0,346.0,468.0,562.0,618.0,699.0,760.0,795.0,813.0,829.0,832.0,833.0,869.0,887.0,893.0,894.0,914.0,924.0,932.0,945.0,951.0,953.0,958.0,971.0,992.0,998.0],\"yaxis\":\"y\",\"type\":\"scatter\"},{\"hovertemplate\":\"region_txt=East Asia<br>iyear=%{x}<br>nkill=%{y}<extra></extra>\",\"legendgroup\":\"East Asia\",\"line\":{\"color\":\"#ab63fa\",\"dash\":\"solid\"},\"marker\":{\"symbol\":\"circle\"},\"mode\":\"lines\",\"name\":\"East Asia\",\"orientation\":\"v\",\"showlegend\":true,\"x\":[1970,1971,1973,1974,1975,1976,1978,1979,1980,1981,1982,1983,1984,1985,1986,1987,1988,1989,1990,1991,1992,1994,1995,1996,1997,1998,1999,2000,2001,2002,2003,2004,2005,2006,2008,2009,2010,2011,2012,2013,2014,2015,2016,2017],\"xaxis\":\"x\",\"y\":[0.0,25.0,25.0,26.0,26.0,28.0,32.0,34.0,34.0,34.0,35.0,38.0,38.0,40.0,48.0,49.0,49.0,71.0,75.0,83.0,110.0,144.0,165.0,197.0,235.0,285.0,290.0,291.0,300.0,301.0,302.0,306.0,318.0,318.0,357.0,543.0,550.0,569.0,596.0,656.0,978.0,1101.0,1133.0,1149.0],\"yaxis\":\"y\",\"type\":\"scatter\"},{\"hovertemplate\":\"region_txt=Eastern Europe<br>iyear=%{x}<br>nkill=%{y}<extra></extra>\",\"legendgroup\":\"Eastern Europe\",\"line\":{\"color\":\"#FFA15A\",\"dash\":\"solid\"},\"marker\":{\"symbol\":\"circle\"},\"mode\":\"lines\",\"name\":\"Eastern Europe\",\"orientation\":\"v\",\"showlegend\":true,\"x\":[1970,1971,1972,1973,1974,1977,1978,1979,1980,1981,1982,1983,1984,1985,1986,1987,1988,1989,1990,1991,1992,1994,1995,1996,1997,1998,1999,2000,2001,2002,2003,2004,2005,2006,2007,2008,2009,2010,2011,2012,2013,2014,2015,2016,2017],\"xaxis\":\"x\",\"y\":[0.0,0.0,26.0,27.0,28.0,29.0,33.0,33.0,33.0,33.0,35.0,37.0,40.0,42.0,43.0,43.0,43.0,49.0,108.0,381.0,491.0,540.0,698.0,865.0,980.0,1089.0,1529.0,1931.0,2224.0,2742.0,3079.0,3687.0,3845.0,3904.0,3961.0,4062.0,4205.0,4437.0,4611.0,4790.0,4941.0,6408.0,7198.0,7310.0,7411.0],\"yaxis\":\"y\",\"type\":\"scatter\"},{\"hovertemplate\":\"region_txt=Middle East & North Africa<br>iyear=%{x}<br>nkill=%{y}<extra></extra>\",\"legendgroup\":\"Middle East & North Africa\",\"line\":{\"color\":\"#19d3f3\",\"dash\":\"solid\"},\"marker\":{\"symbol\":\"circle\"},\"mode\":\"lines\",\"name\":\"Middle East & North Africa\",\"orientation\":\"v\",\"showlegend\":true,\"x\":[1970,1971,1972,1973,1974,1975,1976,1977,1978,1979,1980,1981,1982,1983,1984,1985,1986,1987,1988,1989,1990,1991,1992,1994,1995,1996,1997,1998,1999,2000,2001,2002,2003,2004,2005,2006,2007,2008,2009,2010,2011,2012,2013,2014,2015,2016,2017],\"xaxis\":\"x\",\"y\":[1.0,5.0,38.0,45.0,126.0,186.0,231.0,274.0,933.0,1292.0,1721.0,2479.0,3056.0,3806.0,3954.0,4677.0,5085.0,5666.0,6031.0,6511.0,7289.0,7830.0,9709.0,11743.0,12763.0,13724.0,18337.0,19404.0,20054.0,20666.0,21528.0,22702.0,23755.0,26311.0,30228.0,35214.0,42393.0,45857.0,48828.0,51482.0,54130.0,59163.0,69327.0,89407.0,107261.0,126466.0,137285.0],\"yaxis\":\"y\",\"type\":\"scatter\"},{\"hovertemplate\":\"region_txt=North America<br>iyear=%{x}<br>nkill=%{y}<extra></extra>\",\"legendgroup\":\"North America\",\"line\":{\"color\":\"#FF6692\",\"dash\":\"solid\"},\"marker\":{\"symbol\":\"circle\"},\"mode\":\"lines\",\"name\":\"North America\",\"orientation\":\"v\",\"showlegend\":true,\"x\":[1970,1971,1972,1973,1974,1975,1976,1977,1978,1979,1980,1981,1982,1983,1984,1985,1986,1987,1988,1989,1990,1991,1992,1994,1995,1996,1997,1998,1999,2000,2001,2002,2003,2004,2005,2006,2007,2008,2009,2010,2011,2012,2013,2014,2015,2016,2017],\"xaxis\":\"x\",\"y\":[34.0,54.0,65.0,111.0,129.0,185.0,215.0,230.0,243.0,266.0,283.0,291.0,304.0,312.0,328.0,662.0,663.0,664.0,667.0,685.0,693.0,708.0,716.0,814.0,1054.0,1152.0,1383.0,1391.0,1411.0,1416.0,4437.0,4441.0,4443.0,4443.0,4445.0,4453.0,4478.0,4501.0,4521.0,4525.0,4525.0,4549.0,4619.0,4653.0,4716.0,4789.0,4913.0],\"yaxis\":\"y\",\"type\":\"scatter\"},{\"hovertemplate\":\"region_txt=South America<br>iyear=%{x}<br>nkill=%{y}<extra></extra>\",\"legendgroup\":\"South America\",\"line\":{\"color\":\"#B6E880\",\"dash\":\"solid\"},\"marker\":{\"symbol\":\"circle\"},\"mode\":\"lines\",\"name\":\"South America\",\"orientation\":\"v\",\"showlegend\":true,\"x\":[1970,1971,1972,1973,1974,1975,1976,1977,1978,1979,1980,1981,1982,1983,1984,1985,1986,1987,1988,1989,1990,1991,1992,1994,1995,1996,1997,1998,1999,2000,2001,2002,2003,2004,2005,2006,2007,2008,2009,2010,2011,2012,2013,2014,2015,2016,2017],\"xaxis\":\"x\",\"y\":[9.0,15.0,21.0,37.0,58.0,187.0,320.0,365.0,457.0,640.0,846.0,1248.0,1916.0,4174.0,7059.0,8759.0,10110.0,11560.0,13584.0,15917.0,17777.0,20007.0,21543.0,21949.0,22599.0,23324.0,24641.0,25240.0,25529.0,25910.0,26478.0,26837.0,27024.0,27113.0,27265.0,27358.0,27441.0,27550.0,27686.0,27744.0,27787.0,27967.0,28127.0,28284.0,28412.0,28499.0,28600.0],\"yaxis\":\"y\",\"type\":\"scatter\"},{\"hovertemplate\":\"region_txt=South Asia<br>iyear=%{x}<br>nkill=%{y}<extra></extra>\",\"legendgroup\":\"South Asia\",\"line\":{\"color\":\"#FF97FF\",\"dash\":\"solid\"},\"marker\":{\"symbol\":\"circle\"},\"mode\":\"lines\",\"name\":\"South Asia\",\"orientation\":\"v\",\"showlegend\":true,\"x\":[1970,1972,1973,1974,1975,1976,1977,1978,1979,1980,1981,1982,1983,1984,1985,1986,1987,1988,1989,1990,1991,1992,1994,1995,1996,1997,1998,1999,2000,2001,2002,2003,2004,2005,2006,2007,2008,2009,2010,2011,2012,2013,2014,2015,2016,2017],\"xaxis\":\"x\",\"y\":[4.0,4.0,4.0,4.0,10.0,11.0,11.0,16.0,108.0,148.0,185.0,254.0,329.0,993.0,1661.0,2805.0,4785.0,7006.0,9899.0,12568.0,15083.0,17527.0,18512.0,20645.0,22590.0,24405.0,25642.0,26537.0,27909.0,29276.0,30547.0,31349.0,32965.0,34330.0,37254.0,40927.0,44435.0,47999.0,51678.0,55384.0,61970.0,69040.0,77398.0,85698.0,93501.0,101165.0],\"yaxis\":\"y\",\"type\":\"scatter\"},{\"hovertemplate\":\"region_txt=Southeast Asia<br>iyear=%{x}<br>nkill=%{y}<extra></extra>\",\"legendgroup\":\"Southeast Asia\",\"line\":{\"color\":\"#FECB52\",\"dash\":\"solid\"},\"marker\":{\"symbol\":\"circle\"},\"mode\":\"lines\",\"name\":\"Southeast Asia\",\"orientation\":\"v\",\"showlegend\":true,\"x\":[1970,1971,1972,1973,1974,1975,1976,1977,1978,1979,1980,1981,1982,1983,1984,1985,1986,1987,1988,1989,1990,1991,1992,1994,1995,1996,1997,1998,1999,2000,2001,2002,2003,2004,2005,2006,2007,2008,2009,2010,2011,2012,2013,2014,2015,2016,2017],\"xaxis\":\"x\",\"y\":[40.0,40.0,124.0,124.0,129.0,130.0,177.0,279.0,437.0,692.0,927.0,1128.0,1258.0,1376.0,1639.0,2097.0,2434.0,2830.0,3492.0,4098.0,4660.0,5226.0,5899.0,6288.0,6600.0,6870.0,7205.0,7259.0,7382.0,7840.0,8146.0,8542.0,8896.0,9177.0,9443.0,9701.0,10091.0,10494.0,10975.0,11296.0,11595.0,12048.0,12771.0,13473.0,14119.0,14758.0,15569.0],\"yaxis\":\"y\",\"type\":\"scatter\"},{\"hovertemplate\":\"region_txt=Sub-Saharan Africa<br>iyear=%{x}<br>nkill=%{y}<extra></extra>\",\"legendgroup\":\"Sub-Saharan Africa\",\"line\":{\"color\":\"#636efa\",\"dash\":\"solid\"},\"marker\":{\"symbol\":\"circle\"},\"mode\":\"lines\",\"name\":\"Sub-Saharan Africa\",\"orientation\":\"v\",\"showlegend\":true,\"x\":[1970,1971,1972,1973,1974,1975,1976,1977,1978,1979,1980,1981,1982,1983,1984,1985,1986,1987,1988,1989,1990,1991,1992,1994,1995,1996,1997,1998,1999,2000,2001,2002,2003,2004,2005,2006,2007,2008,2009,2010,2011,2012,2013,2014,2015,2016,2017],\"xaxis\":\"x\",\"y\":[1.0,2.0,2.0,7.0,11.0,40.0,48.0,65.0,177.0,483.0,554.0,652.0,720.0,1194.0,2216.0,2427.0,3226.0,3874.0,4609.0,5811.0,6471.0,7818.0,10239.0,13471.0,14791.0,17347.0,19535.0,20972.0,21854.0,22859.0,24025.0,25040.0,25530.0,25847.0,26226.0,27198.0,28581.0,30056.0,31787.0,32597.0,33805.0,36801.0,40658.0,54009.0,64772.0,71424.0,78136.0],\"yaxis\":\"y\",\"type\":\"scatter\"},{\"hovertemplate\":\"region_txt=Western Europe<br>iyear=%{x}<br>nkill=%{y}<extra></extra>\",\"legendgroup\":\"Western Europe\",\"line\":{\"color\":\"#EF553B\",\"dash\":\"solid\"},\"marker\":{\"symbol\":\"circle\"},\"mode\":\"lines\",\"name\":\"Western Europe\",\"orientation\":\"v\",\"showlegend\":true,\"x\":[1970,1971,1972,1973,1974,1975,1976,1977,1978,1979,1980,1981,1982,1983,1984,1985,1986,1987,1988,1989,1990,1991,1992,1994,1995,1996,1997,1998,1999,2000,2001,2002,2003,2004,2005,2006,2007,2008,2009,2010,2011,2012,2013,2014,2015,2016,2017],\"xaxis\":\"x\",\"y\":[79.0,191.0,596.0,891.0,1298.0,1593.0,1916.0,2108.0,2337.0,2638.0,3023.0,3198.0,3376.0,3539.0,3714.0,3974.0,4139.0,4333.0,4770.0,4889.0,5007.0,5177.0,5356.0,5461.0,5529.0,5570.0,5610.0,5664.0,5676.0,5718.0,5758.0,5767.0,5772.0,5968.0,6028.0,6034.0,6051.0,6054.0,6069.0,6073.0,6156.0,6167.0,6174.0,6179.0,6350.0,6588.0,6671.0],\"yaxis\":\"y\",\"type\":\"scatter\"}],                        {\"template\":{\"data\":{\"bar\":[{\"error_x\":{\"color\":\"#2a3f5f\"},\"error_y\":{\"color\":\"#2a3f5f\"},\"marker\":{\"line\":{\"color\":\"#E5ECF6\",\"width\":0.5},\"pattern\":{\"fillmode\":\"overlay\",\"size\":10,\"solidity\":0.2}},\"type\":\"bar\"}],\"barpolar\":[{\"marker\":{\"line\":{\"color\":\"#E5ECF6\",\"width\":0.5},\"pattern\":{\"fillmode\":\"overlay\",\"size\":10,\"solidity\":0.2}},\"type\":\"barpolar\"}],\"carpet\":[{\"aaxis\":{\"endlinecolor\":\"#2a3f5f\",\"gridcolor\":\"white\",\"linecolor\":\"white\",\"minorgridcolor\":\"white\",\"startlinecolor\":\"#2a3f5f\"},\"baxis\":{\"endlinecolor\":\"#2a3f5f\",\"gridcolor\":\"white\",\"linecolor\":\"white\",\"minorgridcolor\":\"white\",\"startlinecolor\":\"#2a3f5f\"},\"type\":\"carpet\"}],\"choropleth\":[{\"colorbar\":{\"outlinewidth\":0,\"ticks\":\"\"},\"type\":\"choropleth\"}],\"contour\":[{\"colorbar\":{\"outlinewidth\":0,\"ticks\":\"\"},\"colorscale\":[[0.0,\"#0d0887\"],[0.1111111111111111,\"#46039f\"],[0.2222222222222222,\"#7201a8\"],[0.3333333333333333,\"#9c179e\"],[0.4444444444444444,\"#bd3786\"],[0.5555555555555556,\"#d8576b\"],[0.6666666666666666,\"#ed7953\"],[0.7777777777777778,\"#fb9f3a\"],[0.8888888888888888,\"#fdca26\"],[1.0,\"#f0f921\"]],\"type\":\"contour\"}],\"contourcarpet\":[{\"colorbar\":{\"outlinewidth\":0,\"ticks\":\"\"},\"type\":\"contourcarpet\"}],\"heatmap\":[{\"colorbar\":{\"outlinewidth\":0,\"ticks\":\"\"},\"colorscale\":[[0.0,\"#0d0887\"],[0.1111111111111111,\"#46039f\"],[0.2222222222222222,\"#7201a8\"],[0.3333333333333333,\"#9c179e\"],[0.4444444444444444,\"#bd3786\"],[0.5555555555555556,\"#d8576b\"],[0.6666666666666666,\"#ed7953\"],[0.7777777777777778,\"#fb9f3a\"],[0.8888888888888888,\"#fdca26\"],[1.0,\"#f0f921\"]],\"type\":\"heatmap\"}],\"heatmapgl\":[{\"colorbar\":{\"outlinewidth\":0,\"ticks\":\"\"},\"colorscale\":[[0.0,\"#0d0887\"],[0.1111111111111111,\"#46039f\"],[0.2222222222222222,\"#7201a8\"],[0.3333333333333333,\"#9c179e\"],[0.4444444444444444,\"#bd3786\"],[0.5555555555555556,\"#d8576b\"],[0.6666666666666666,\"#ed7953\"],[0.7777777777777778,\"#fb9f3a\"],[0.8888888888888888,\"#fdca26\"],[1.0,\"#f0f921\"]],\"type\":\"heatmapgl\"}],\"histogram\":[{\"marker\":{\"pattern\":{\"fillmode\":\"overlay\",\"size\":10,\"solidity\":0.2}},\"type\":\"histogram\"}],\"histogram2d\":[{\"colorbar\":{\"outlinewidth\":0,\"ticks\":\"\"},\"colorscale\":[[0.0,\"#0d0887\"],[0.1111111111111111,\"#46039f\"],[0.2222222222222222,\"#7201a8\"],[0.3333333333333333,\"#9c179e\"],[0.4444444444444444,\"#bd3786\"],[0.5555555555555556,\"#d8576b\"],[0.6666666666666666,\"#ed7953\"],[0.7777777777777778,\"#fb9f3a\"],[0.8888888888888888,\"#fdca26\"],[1.0,\"#f0f921\"]],\"type\":\"histogram2d\"}],\"histogram2dcontour\":[{\"colorbar\":{\"outlinewidth\":0,\"ticks\":\"\"},\"colorscale\":[[0.0,\"#0d0887\"],[0.1111111111111111,\"#46039f\"],[0.2222222222222222,\"#7201a8\"],[0.3333333333333333,\"#9c179e\"],[0.4444444444444444,\"#bd3786\"],[0.5555555555555556,\"#d8576b\"],[0.6666666666666666,\"#ed7953\"],[0.7777777777777778,\"#fb9f3a\"],[0.8888888888888888,\"#fdca26\"],[1.0,\"#f0f921\"]],\"type\":\"histogram2dcontour\"}],\"mesh3d\":[{\"colorbar\":{\"outlinewidth\":0,\"ticks\":\"\"},\"type\":\"mesh3d\"}],\"parcoords\":[{\"line\":{\"colorbar\":{\"outlinewidth\":0,\"ticks\":\"\"}},\"type\":\"parcoords\"}],\"pie\":[{\"automargin\":true,\"type\":\"pie\"}],\"scatter\":[{\"marker\":{\"colorbar\":{\"outlinewidth\":0,\"ticks\":\"\"}},\"type\":\"scatter\"}],\"scatter3d\":[{\"line\":{\"colorbar\":{\"outlinewidth\":0,\"ticks\":\"\"}},\"marker\":{\"colorbar\":{\"outlinewidth\":0,\"ticks\":\"\"}},\"type\":\"scatter3d\"}],\"scattercarpet\":[{\"marker\":{\"colorbar\":{\"outlinewidth\":0,\"ticks\":\"\"}},\"type\":\"scattercarpet\"}],\"scattergeo\":[{\"marker\":{\"colorbar\":{\"outlinewidth\":0,\"ticks\":\"\"}},\"type\":\"scattergeo\"}],\"scattergl\":[{\"marker\":{\"colorbar\":{\"outlinewidth\":0,\"ticks\":\"\"}},\"type\":\"scattergl\"}],\"scattermapbox\":[{\"marker\":{\"colorbar\":{\"outlinewidth\":0,\"ticks\":\"\"}},\"type\":\"scattermapbox\"}],\"scatterpolar\":[{\"marker\":{\"colorbar\":{\"outlinewidth\":0,\"ticks\":\"\"}},\"type\":\"scatterpolar\"}],\"scatterpolargl\":[{\"marker\":{\"colorbar\":{\"outlinewidth\":0,\"ticks\":\"\"}},\"type\":\"scatterpolargl\"}],\"scatterternary\":[{\"marker\":{\"colorbar\":{\"outlinewidth\":0,\"ticks\":\"\"}},\"type\":\"scatterternary\"}],\"surface\":[{\"colorbar\":{\"outlinewidth\":0,\"ticks\":\"\"},\"colorscale\":[[0.0,\"#0d0887\"],[0.1111111111111111,\"#46039f\"],[0.2222222222222222,\"#7201a8\"],[0.3333333333333333,\"#9c179e\"],[0.4444444444444444,\"#bd3786\"],[0.5555555555555556,\"#d8576b\"],[0.6666666666666666,\"#ed7953\"],[0.7777777777777778,\"#fb9f3a\"],[0.8888888888888888,\"#fdca26\"],[1.0,\"#f0f921\"]],\"type\":\"surface\"}],\"table\":[{\"cells\":{\"fill\":{\"color\":\"#EBF0F8\"},\"line\":{\"color\":\"white\"}},\"header\":{\"fill\":{\"color\":\"#C8D4E3\"},\"line\":{\"color\":\"white\"}},\"type\":\"table\"}]},\"layout\":{\"annotationdefaults\":{\"arrowcolor\":\"#2a3f5f\",\"arrowhead\":0,\"arrowwidth\":1},\"autotypenumbers\":\"strict\",\"coloraxis\":{\"colorbar\":{\"outlinewidth\":0,\"ticks\":\"\"}},\"colorscale\":{\"diverging\":[[0,\"#8e0152\"],[0.1,\"#c51b7d\"],[0.2,\"#de77ae\"],[0.3,\"#f1b6da\"],[0.4,\"#fde0ef\"],[0.5,\"#f7f7f7\"],[0.6,\"#e6f5d0\"],[0.7,\"#b8e186\"],[0.8,\"#7fbc41\"],[0.9,\"#4d9221\"],[1,\"#276419\"]],\"sequential\":[[0.0,\"#0d0887\"],[0.1111111111111111,\"#46039f\"],[0.2222222222222222,\"#7201a8\"],[0.3333333333333333,\"#9c179e\"],[0.4444444444444444,\"#bd3786\"],[0.5555555555555556,\"#d8576b\"],[0.6666666666666666,\"#ed7953\"],[0.7777777777777778,\"#fb9f3a\"],[0.8888888888888888,\"#fdca26\"],[1.0,\"#f0f921\"]],\"sequentialminus\":[[0.0,\"#0d0887\"],[0.1111111111111111,\"#46039f\"],[0.2222222222222222,\"#7201a8\"],[0.3333333333333333,\"#9c179e\"],[0.4444444444444444,\"#bd3786\"],[0.5555555555555556,\"#d8576b\"],[0.6666666666666666,\"#ed7953\"],[0.7777777777777778,\"#fb9f3a\"],[0.8888888888888888,\"#fdca26\"],[1.0,\"#f0f921\"]]},\"colorway\":[\"#636efa\",\"#EF553B\",\"#00cc96\",\"#ab63fa\",\"#FFA15A\",\"#19d3f3\",\"#FF6692\",\"#B6E880\",\"#FF97FF\",\"#FECB52\"],\"font\":{\"color\":\"#2a3f5f\"},\"geo\":{\"bgcolor\":\"white\",\"lakecolor\":\"white\",\"landcolor\":\"#E5ECF6\",\"showlakes\":true,\"showland\":true,\"subunitcolor\":\"white\"},\"hoverlabel\":{\"align\":\"left\"},\"hovermode\":\"closest\",\"mapbox\":{\"style\":\"light\"},\"paper_bgcolor\":\"white\",\"plot_bgcolor\":\"#E5ECF6\",\"polar\":{\"angularaxis\":{\"gridcolor\":\"white\",\"linecolor\":\"white\",\"ticks\":\"\"},\"bgcolor\":\"#E5ECF6\",\"radialaxis\":{\"gridcolor\":\"white\",\"linecolor\":\"white\",\"ticks\":\"\"}},\"scene\":{\"xaxis\":{\"backgroundcolor\":\"#E5ECF6\",\"gridcolor\":\"white\",\"gridwidth\":2,\"linecolor\":\"white\",\"showbackground\":true,\"ticks\":\"\",\"zerolinecolor\":\"white\"},\"yaxis\":{\"backgroundcolor\":\"#E5ECF6\",\"gridcolor\":\"white\",\"gridwidth\":2,\"linecolor\":\"white\",\"showbackground\":true,\"ticks\":\"\",\"zerolinecolor\":\"white\"},\"zaxis\":{\"backgroundcolor\":\"#E5ECF6\",\"gridcolor\":\"white\",\"gridwidth\":2,\"linecolor\":\"white\",\"showbackground\":true,\"ticks\":\"\",\"zerolinecolor\":\"white\"}},\"shapedefaults\":{\"line\":{\"color\":\"#2a3f5f\"}},\"ternary\":{\"aaxis\":{\"gridcolor\":\"white\",\"linecolor\":\"white\",\"ticks\":\"\"},\"baxis\":{\"gridcolor\":\"white\",\"linecolor\":\"white\",\"ticks\":\"\"},\"bgcolor\":\"#E5ECF6\",\"caxis\":{\"gridcolor\":\"white\",\"linecolor\":\"white\",\"ticks\":\"\"}},\"title\":{\"x\":0.05},\"xaxis\":{\"automargin\":true,\"gridcolor\":\"white\",\"linecolor\":\"white\",\"ticks\":\"\",\"title\":{\"standoff\":15},\"zerolinecolor\":\"white\",\"zerolinewidth\":2},\"yaxis\":{\"automargin\":true,\"gridcolor\":\"white\",\"linecolor\":\"white\",\"ticks\":\"\",\"title\":{\"standoff\":15},\"zerolinecolor\":\"white\",\"zerolinewidth\":2}}},\"xaxis\":{\"anchor\":\"y\",\"domain\":[0.0,1.0],\"title\":{\"text\":\"iyear\"}},\"yaxis\":{\"anchor\":\"x\",\"domain\":[0.0,1.0],\"title\":{\"text\":\"nkill\"}},\"legend\":{\"title\":{\"text\":\"region_txt\"},\"tracegroupgap\":0},\"margin\":{\"t\":60}},                        {\"responsive\": true}                    ).then(function(){\n",
       "                            \n",
       "var gd = document.getElementById('fb968cb5-30a6-4c81-b24e-113c87c7999a');\n",
       "var x = new MutationObserver(function (mutations, observer) {{\n",
       "        var display = window.getComputedStyle(gd).display;\n",
       "        if (!display || display === 'none') {{\n",
       "            console.log([gd, 'removed!']);\n",
       "            Plotly.purge(gd);\n",
       "            observer.disconnect();\n",
       "        }}\n",
       "}});\n",
       "\n",
       "// Listen for the removal of the full notebook cells\n",
       "var notebookContainer = gd.closest('#notebook-container');\n",
       "if (notebookContainer) {{\n",
       "    x.observe(notebookContainer, {childList: true});\n",
       "}}\n",
       "\n",
       "// Listen for the clearing of the current output cell\n",
       "var outputEl = gd.closest('.output');\n",
       "if (outputEl) {{\n",
       "    x.observe(outputEl, {childList: true});\n",
       "}}\n",
       "\n",
       "                        })                };                });            </script>        </div>"
      ]
     },
     "metadata": {},
     "output_type": "display_data"
    }
   ],
   "source": [
    "px.line(data_nmort_region,x='iyear',y='nkill',color=\"region_txt\")"
   ]
  },
  {
   "cell_type": "markdown",
   "metadata": {},
   "source": [
    "# visualiser le cumul annuel du nombre de morts par type d'attaques terroriste\n"
   ]
  },
  {
   "cell_type": "code",
   "execution_count": 104,
   "metadata": {},
   "outputs": [
    {
     "data": {
      "text/html": [
       "<div>\n",
       "<style scoped>\n",
       "    .dataframe tbody tr th:only-of-type {\n",
       "        vertical-align: middle;\n",
       "    }\n",
       "\n",
       "    .dataframe tbody tr th {\n",
       "        vertical-align: top;\n",
       "    }\n",
       "\n",
       "    .dataframe thead th {\n",
       "        text-align: right;\n",
       "    }\n",
       "</style>\n",
       "<table border=\"1\" class=\"dataframe\">\n",
       "  <thead>\n",
       "    <tr style=\"text-align: right;\">\n",
       "      <th></th>\n",
       "      <th>attacktype1_txt</th>\n",
       "      <th>iyear</th>\n",
       "      <th>iday</th>\n",
       "      <th>imonth</th>\n",
       "      <th>nkill</th>\n",
       "      <th>nwound</th>\n",
       "      <th>nkillus</th>\n",
       "      <th>nwoundus</th>\n",
       "      <th>latitude</th>\n",
       "      <th>longitude</th>\n",
       "      <th>suicide</th>\n",
       "      <th>ransompaid</th>\n",
       "      <th>nhostkid</th>\n",
       "      <th>nhours</th>\n",
       "      <th>ndays</th>\n",
       "      <th>ransompaidus</th>\n",
       "      <th>nhostkidus</th>\n",
       "      <th>propextent</th>\n",
       "      <th>propvalue</th>\n",
       "    </tr>\n",
       "  </thead>\n",
       "  <tbody>\n",
       "    <tr>\n",
       "      <th>0</th>\n",
       "      <td>Armed Assault</td>\n",
       "      <td>1970</td>\n",
       "      <td>1067</td>\n",
       "      <td>420</td>\n",
       "      <td>36.0</td>\n",
       "      <td>20.0</td>\n",
       "      <td>14.0</td>\n",
       "      <td>13.0</td>\n",
       "      <td>1653.092246</td>\n",
       "      <td>-3165.222185</td>\n",
       "      <td>0</td>\n",
       "      <td>0.0</td>\n",
       "      <td>62.0</td>\n",
       "      <td>0.0</td>\n",
       "      <td>0.0</td>\n",
       "      <td>0.0</td>\n",
       "      <td>2.0</td>\n",
       "      <td>87.0</td>\n",
       "      <td>686000.00</td>\n",
       "    </tr>\n",
       "    <tr>\n",
       "      <th>1</th>\n",
       "      <td>Armed Assault</td>\n",
       "      <td>1971</td>\n",
       "      <td>1866</td>\n",
       "      <td>634</td>\n",
       "      <td>50.0</td>\n",
       "      <td>34.0</td>\n",
       "      <td>21.0</td>\n",
       "      <td>20.0</td>\n",
       "      <td>2703.066317</td>\n",
       "      <td>-5319.477287</td>\n",
       "      <td>0</td>\n",
       "      <td>0.0</td>\n",
       "      <td>-36.0</td>\n",
       "      <td>0.0</td>\n",
       "      <td>0.0</td>\n",
       "      <td>0.0</td>\n",
       "      <td>2.0</td>\n",
       "      <td>185.0</td>\n",
       "      <td>774000.00</td>\n",
       "    </tr>\n",
       "    <tr>\n",
       "      <th>2</th>\n",
       "      <td>Armed Assault</td>\n",
       "      <td>1972</td>\n",
       "      <td>3140</td>\n",
       "      <td>1160</td>\n",
       "      <td>108.0</td>\n",
       "      <td>44.0</td>\n",
       "      <td>28.0</td>\n",
       "      <td>26.0</td>\n",
       "      <td>5516.934195</td>\n",
       "      <td>-5282.378275</td>\n",
       "      <td>0</td>\n",
       "      <td>0.0</td>\n",
       "      <td>-36.0</td>\n",
       "      <td>0.0</td>\n",
       "      <td>0.0</td>\n",
       "      <td>0.0</td>\n",
       "      <td>2.0</td>\n",
       "      <td>228.0</td>\n",
       "      <td>822000.00</td>\n",
       "    </tr>\n",
       "    <tr>\n",
       "      <th>3</th>\n",
       "      <td>Armed Assault</td>\n",
       "      <td>1973</td>\n",
       "      <td>4027</td>\n",
       "      <td>1521</td>\n",
       "      <td>149.0</td>\n",
       "      <td>72.0</td>\n",
       "      <td>53.0</td>\n",
       "      <td>50.0</td>\n",
       "      <td>7254.423932</td>\n",
       "      <td>-7572.545223</td>\n",
       "      <td>0</td>\n",
       "      <td>0.0</td>\n",
       "      <td>-234.0</td>\n",
       "      <td>0.0</td>\n",
       "      <td>0.0</td>\n",
       "      <td>0.0</td>\n",
       "      <td>2.0</td>\n",
       "      <td>326.0</td>\n",
       "      <td>1303000.00</td>\n",
       "    </tr>\n",
       "    <tr>\n",
       "      <th>4</th>\n",
       "      <td>Armed Assault</td>\n",
       "      <td>1974</td>\n",
       "      <td>4807</td>\n",
       "      <td>1773</td>\n",
       "      <td>182.0</td>\n",
       "      <td>95.0</td>\n",
       "      <td>60.0</td>\n",
       "      <td>58.0</td>\n",
       "      <td>8871.219485</td>\n",
       "      <td>-9530.546530</td>\n",
       "      <td>0</td>\n",
       "      <td>0.0</td>\n",
       "      <td>-220.0</td>\n",
       "      <td>0.0</td>\n",
       "      <td>0.0</td>\n",
       "      <td>0.0</td>\n",
       "      <td>3.0</td>\n",
       "      <td>390.0</td>\n",
       "      <td>1596000.00</td>\n",
       "    </tr>\n",
       "    <tr>\n",
       "      <th>...</th>\n",
       "      <td>...</td>\n",
       "      <td>...</td>\n",
       "      <td>...</td>\n",
       "      <td>...</td>\n",
       "      <td>...</td>\n",
       "      <td>...</td>\n",
       "      <td>...</td>\n",
       "      <td>...</td>\n",
       "      <td>...</td>\n",
       "      <td>...</td>\n",
       "      <td>...</td>\n",
       "      <td>...</td>\n",
       "      <td>...</td>\n",
       "      <td>...</td>\n",
       "      <td>...</td>\n",
       "      <td>...</td>\n",
       "      <td>...</td>\n",
       "      <td>...</td>\n",
       "      <td>...</td>\n",
       "    </tr>\n",
       "    <tr>\n",
       "      <th>411</th>\n",
       "      <td>Unknown</td>\n",
       "      <td>2013</td>\n",
       "      <td>58020</td>\n",
       "      <td>24942</td>\n",
       "      <td>15847.0</td>\n",
       "      <td>8058.0</td>\n",
       "      <td>56.0</td>\n",
       "      <td>31.0</td>\n",
       "      <td>55307.605436</td>\n",
       "      <td>58158.943787</td>\n",
       "      <td>2</td>\n",
       "      <td>0.0</td>\n",
       "      <td>3996.0</td>\n",
       "      <td>27.0</td>\n",
       "      <td>103.0</td>\n",
       "      <td>0.0</td>\n",
       "      <td>2.0</td>\n",
       "      <td>2685.0</td>\n",
       "      <td>55997656.00</td>\n",
       "    </tr>\n",
       "    <tr>\n",
       "      <th>412</th>\n",
       "      <td>Unknown</td>\n",
       "      <td>2014</td>\n",
       "      <td>70326</td>\n",
       "      <td>30580</td>\n",
       "      <td>19240.0</td>\n",
       "      <td>9349.0</td>\n",
       "      <td>58.0</td>\n",
       "      <td>31.0</td>\n",
       "      <td>72562.029994</td>\n",
       "      <td>94704.592052</td>\n",
       "      <td>2</td>\n",
       "      <td>0.0</td>\n",
       "      <td>3998.0</td>\n",
       "      <td>-71.0</td>\n",
       "      <td>103.0</td>\n",
       "      <td>0.0</td>\n",
       "      <td>2.0</td>\n",
       "      <td>3114.0</td>\n",
       "      <td>55985083.00</td>\n",
       "    </tr>\n",
       "    <tr>\n",
       "      <th>413</th>\n",
       "      <td>Unknown</td>\n",
       "      <td>2015</td>\n",
       "      <td>84404</td>\n",
       "      <td>36654</td>\n",
       "      <td>24003.0</td>\n",
       "      <td>11494.0</td>\n",
       "      <td>58.0</td>\n",
       "      <td>32.0</td>\n",
       "      <td>94834.686393</td>\n",
       "      <td>134310.532296</td>\n",
       "      <td>2</td>\n",
       "      <td>0.0</td>\n",
       "      <td>4027.0</td>\n",
       "      <td>-269.0</td>\n",
       "      <td>103.0</td>\n",
       "      <td>0.0</td>\n",
       "      <td>2.0</td>\n",
       "      <td>3484.0</td>\n",
       "      <td>56698789.16</td>\n",
       "    </tr>\n",
       "    <tr>\n",
       "      <th>414</th>\n",
       "      <td>Unknown</td>\n",
       "      <td>2016</td>\n",
       "      <td>99499</td>\n",
       "      <td>42752</td>\n",
       "      <td>28313.0</td>\n",
       "      <td>13188.0</td>\n",
       "      <td>58.0</td>\n",
       "      <td>32.0</td>\n",
       "      <td>118871.533272</td>\n",
       "      <td>178380.630814</td>\n",
       "      <td>2</td>\n",
       "      <td>0.0</td>\n",
       "      <td>4027.0</td>\n",
       "      <td>-269.0</td>\n",
       "      <td>103.0</td>\n",
       "      <td>0.0</td>\n",
       "      <td>2.0</td>\n",
       "      <td>3661.0</td>\n",
       "      <td>56693740.16</td>\n",
       "    </tr>\n",
       "    <tr>\n",
       "      <th>415</th>\n",
       "      <td>Unknown</td>\n",
       "      <td>2017</td>\n",
       "      <td>113181</td>\n",
       "      <td>48169</td>\n",
       "      <td>32165.0</td>\n",
       "      <td>14683.0</td>\n",
       "      <td>58.0</td>\n",
       "      <td>32.0</td>\n",
       "      <td>141220.882485</td>\n",
       "      <td>220449.703488</td>\n",
       "      <td>2</td>\n",
       "      <td>0.0</td>\n",
       "      <td>4027.0</td>\n",
       "      <td>-269.0</td>\n",
       "      <td>103.0</td>\n",
       "      <td>0.0</td>\n",
       "      <td>2.0</td>\n",
       "      <td>3809.0</td>\n",
       "      <td>56689384.16</td>\n",
       "    </tr>\n",
       "  </tbody>\n",
       "</table>\n",
       "<p>416 rows × 19 columns</p>\n",
       "</div>"
      ],
      "text/plain": [
       "    attacktype1_txt  iyear    iday  imonth    nkill   nwound  nkillus  \\\n",
       "0     Armed Assault   1970    1067     420     36.0     20.0     14.0   \n",
       "1     Armed Assault   1971    1866     634     50.0     34.0     21.0   \n",
       "2     Armed Assault   1972    3140    1160    108.0     44.0     28.0   \n",
       "3     Armed Assault   1973    4027    1521    149.0     72.0     53.0   \n",
       "4     Armed Assault   1974    4807    1773    182.0     95.0     60.0   \n",
       "..              ...    ...     ...     ...      ...      ...      ...   \n",
       "411         Unknown   2013   58020   24942  15847.0   8058.0     56.0   \n",
       "412         Unknown   2014   70326   30580  19240.0   9349.0     58.0   \n",
       "413         Unknown   2015   84404   36654  24003.0  11494.0     58.0   \n",
       "414         Unknown   2016   99499   42752  28313.0  13188.0     58.0   \n",
       "415         Unknown   2017  113181   48169  32165.0  14683.0     58.0   \n",
       "\n",
       "     nwoundus       latitude      longitude  suicide  ransompaid  nhostkid  \\\n",
       "0        13.0    1653.092246   -3165.222185        0         0.0      62.0   \n",
       "1        20.0    2703.066317   -5319.477287        0         0.0     -36.0   \n",
       "2        26.0    5516.934195   -5282.378275        0         0.0     -36.0   \n",
       "3        50.0    7254.423932   -7572.545223        0         0.0    -234.0   \n",
       "4        58.0    8871.219485   -9530.546530        0         0.0    -220.0   \n",
       "..        ...            ...            ...      ...         ...       ...   \n",
       "411      31.0   55307.605436   58158.943787        2         0.0    3996.0   \n",
       "412      31.0   72562.029994   94704.592052        2         0.0    3998.0   \n",
       "413      32.0   94834.686393  134310.532296        2         0.0    4027.0   \n",
       "414      32.0  118871.533272  178380.630814        2         0.0    4027.0   \n",
       "415      32.0  141220.882485  220449.703488        2         0.0    4027.0   \n",
       "\n",
       "     nhours  ndays  ransompaidus  nhostkidus  propextent    propvalue  \n",
       "0       0.0    0.0           0.0         2.0        87.0    686000.00  \n",
       "1       0.0    0.0           0.0         2.0       185.0    774000.00  \n",
       "2       0.0    0.0           0.0         2.0       228.0    822000.00  \n",
       "3       0.0    0.0           0.0         2.0       326.0   1303000.00  \n",
       "4       0.0    0.0           0.0         3.0       390.0   1596000.00  \n",
       "..      ...    ...           ...         ...         ...          ...  \n",
       "411    27.0  103.0           0.0         2.0      2685.0  55997656.00  \n",
       "412   -71.0  103.0           0.0         2.0      3114.0  55985083.00  \n",
       "413  -269.0  103.0           0.0         2.0      3484.0  56698789.16  \n",
       "414  -269.0  103.0           0.0         2.0      3661.0  56693740.16  \n",
       "415  -269.0  103.0           0.0         2.0      3809.0  56689384.16  \n",
       "\n",
       "[416 rows x 19 columns]"
      ]
     },
     "execution_count": 104,
     "metadata": {},
     "output_type": "execute_result"
    }
   ],
   "source": [
    "data_nmort_attaque_terroriste=cleaned_data.groupby(['attacktype1_txt','iyear']).sum('nkill').groupby(level=0).cumsum().reset_index()\n",
    "data_nmort_attaque_terroriste"
   ]
  },
  {
   "cell_type": "code",
   "execution_count": 105,
   "metadata": {},
   "outputs": [
    {
     "data": {
      "application/vnd.plotly.v1+json": {
       "config": {
        "plotlyServerURL": "https://plot.ly"
       },
       "data": [
        {
         "hovertemplate": "attacktype1_txt=Armed Assault<br>iyear=%{x}<br>nkill=%{y}<extra></extra>",
         "legendgroup": "Armed Assault",
         "marker": {
          "color": "#636efa",
          "symbol": "circle"
         },
         "mode": "markers",
         "name": "Armed Assault",
         "orientation": "v",
         "showlegend": true,
         "type": "scatter",
         "x": [
          1970,
          1971,
          1972,
          1973,
          1974,
          1975,
          1976,
          1977,
          1978,
          1979,
          1980,
          1981,
          1982,
          1983,
          1984,
          1985,
          1986,
          1987,
          1988,
          1989,
          1990,
          1991,
          1992,
          1994,
          1995,
          1996,
          1997,
          1998,
          1999,
          2000,
          2001,
          2002,
          2003,
          2004,
          2005,
          2006,
          2007,
          2008,
          2009,
          2010,
          2011,
          2012,
          2013,
          2014,
          2015,
          2016,
          2017
         ],
         "xaxis": "x",
         "y": [
          36,
          50,
          108,
          149,
          182,
          406,
          566,
          707,
          1019,
          1562,
          4063,
          6997,
          10371,
          17265,
          23808,
          27901,
          29821,
          33254,
          37285,
          42099,
          46560,
          52256,
          58402,
          62745,
          65001,
          67424,
          73396,
          75419,
          77215,
          79150,
          81811,
          84182,
          85411,
          87178,
          88887,
          91592,
          94771,
          97650,
          99900,
          101973,
          104447,
          109667,
          117005,
          132822,
          144539,
          152907,
          159640
         ],
         "yaxis": "y"
        },
        {
         "hovertemplate": "attacktype1_txt=Assassination<br>iyear=%{x}<br>nkill=%{y}<extra></extra>",
         "legendgroup": "Assassination",
         "marker": {
          "color": "#EF553B",
          "symbol": "circle"
         },
         "mode": "markers",
         "name": "Assassination",
         "orientation": "v",
         "showlegend": true,
         "type": "scatter",
         "x": [
          1970,
          1971,
          1972,
          1973,
          1974,
          1975,
          1976,
          1977,
          1978,
          1979,
          1980,
          1981,
          1982,
          1983,
          1984,
          1985,
          1986,
          1987,
          1988,
          1989,
          1990,
          1991,
          1992,
          1994,
          1995,
          1996,
          1997,
          1998,
          1999,
          2000,
          2001,
          2002,
          2003,
          2004,
          2005,
          2006,
          2007,
          2008,
          2009,
          2010,
          2011,
          2012,
          2013,
          2014,
          2015,
          2016,
          2017
         ],
         "xaxis": "x",
         "y": [
          17,
          88,
          296,
          467,
          628,
          838,
          1070,
          1209,
          1452,
          1937,
          2638,
          3094,
          3675,
          4148,
          4721,
          5120,
          5580,
          6284,
          7539,
          8939,
          10114,
          11105,
          12656,
          13660,
          14512,
          15295,
          15991,
          16031,
          16106,
          16320,
          16464,
          16571,
          16714,
          16884,
          17233,
          17476,
          17665,
          18030,
          18445,
          18928,
          19409,
          19964,
          20798,
          21790,
          23021,
          23950,
          24776
         ],
         "yaxis": "y"
        },
        {
         "hovertemplate": "attacktype1_txt=Bombing/Explosion<br>iyear=%{x}<br>nkill=%{y}<extra></extra>",
         "legendgroup": "Bombing/Explosion",
         "marker": {
          "color": "#00cc96",
          "symbol": "circle"
         },
         "mode": "markers",
         "name": "Bombing/Explosion",
         "orientation": "v",
         "showlegend": true,
         "type": "scatter",
         "x": [
          1970,
          1971,
          1972,
          1973,
          1974,
          1975,
          1976,
          1977,
          1978,
          1979,
          1980,
          1981,
          1982,
          1983,
          1984,
          1985,
          1986,
          1987,
          1988,
          1989,
          1990,
          1991,
          1992,
          1994,
          1995,
          1996,
          1997,
          1998,
          1999,
          2000,
          2001,
          2002,
          2003,
          2004,
          2005,
          2006,
          2007,
          2008,
          2009,
          2010,
          2011,
          2012,
          2013,
          2014,
          2015,
          2016,
          2017
         ],
         "xaxis": "x",
         "y": [
          96,
          175,
          456,
          531,
          817,
          950,
          1172,
          1203,
          1520,
          2084,
          2917,
          3960,
          4817,
          6434,
          8141,
          10105,
          11222,
          12956,
          14663,
          16404,
          17419,
          18927,
          20574,
          21830,
          23538,
          25178,
          26900,
          28518,
          29628,
          30883,
          31875,
          33629,
          35304,
          38412,
          42339,
          48233,
          56937,
          62200,
          67267,
          71654,
          76252,
          84436,
          96715,
          112315,
          129374,
          145404,
          157235
         ],
         "yaxis": "y"
        },
        {
         "hovertemplate": "attacktype1_txt=Facility/Infrastructure Attack<br>iyear=%{x}<br>nkill=%{y}<extra></extra>",
         "legendgroup": "Facility/Infrastructure Attack",
         "marker": {
          "color": "#ab63fa",
          "symbol": "circle"
         },
         "mode": "markers",
         "name": "Facility/Infrastructure Attack",
         "orientation": "v",
         "showlegend": true,
         "type": "scatter",
         "x": [
          1970,
          1971,
          1972,
          1973,
          1974,
          1975,
          1976,
          1977,
          1978,
          1979,
          1980,
          1981,
          1982,
          1983,
          1984,
          1985,
          1986,
          1987,
          1988,
          1989,
          1990,
          1991,
          1992,
          1994,
          1995,
          1996,
          1997,
          1998,
          1999,
          2000,
          2001,
          2002,
          2003,
          2004,
          2005,
          2006,
          2007,
          2008,
          2009,
          2010,
          2011,
          2012,
          2013,
          2014,
          2015,
          2016,
          2017
         ],
         "xaxis": "x",
         "y": [
          7,
          8,
          9,
          9,
          9,
          9,
          15,
          17,
          451,
          495,
          524,
          563,
          587,
          606,
          691,
          781,
          1093,
          1102,
          1130,
          1146,
          1156,
          1195,
          1311,
          1343,
          1379,
          1395,
          1439,
          1478,
          1508,
          1660,
          1793,
          1794,
          1796,
          1824,
          1840,
          1907,
          2024,
          2061,
          2509,
          2543,
          2589,
          2677,
          2816,
          3188,
          3283,
          3474,
          3640
         ],
         "yaxis": "y"
        },
        {
         "hovertemplate": "attacktype1_txt=Hijacking<br>iyear=%{x}<br>nkill=%{y}<extra></extra>",
         "legendgroup": "Hijacking",
         "marker": {
          "color": "#FFA15A",
          "symbol": "circle"
         },
         "mode": "markers",
         "name": "Hijacking",
         "orientation": "v",
         "showlegend": true,
         "type": "scatter",
         "x": [
          1970,
          1971,
          1972,
          1973,
          1974,
          1975,
          1976,
          1977,
          1979,
          1980,
          1981,
          1982,
          1983,
          1984,
          1985,
          1986,
          1987,
          1988,
          1989,
          1990,
          1991,
          1992,
          1994,
          1995,
          1996,
          1997,
          1998,
          1999,
          2000,
          2001,
          2002,
          2003,
          2004,
          2005,
          2006,
          2007,
          2008,
          2009,
          2010,
          2011,
          2012,
          2013,
          2014,
          2015,
          2016,
          2017
         ],
         "xaxis": "x",
         "y": [
          1,
          1,
          6,
          40,
          41,
          41,
          68,
          175,
          175,
          175,
          184,
          186,
          186,
          214,
          297,
          396,
          397,
          409,
          412,
          422,
          427,
          428,
          446,
          457,
          462,
          462,
          463,
          470,
          470,
          3475,
          3481,
          3481,
          3527,
          3539,
          3541,
          3542,
          3564,
          3566,
          3567,
          3569,
          3569,
          3582,
          3610,
          3666,
          3693,
          3715
         ],
         "yaxis": "y"
        },
        {
         "hovertemplate": "attacktype1_txt=Hostage Taking (Barricade Incident)<br>iyear=%{x}<br>nkill=%{y}<extra></extra>",
         "legendgroup": "Hostage Taking (Barricade Incident)",
         "marker": {
          "color": "#19d3f3",
          "symbol": "circle"
         },
         "mode": "markers",
         "name": "Hostage Taking (Barricade Incident)",
         "orientation": "v",
         "showlegend": true,
         "type": "scatter",
         "x": [
          1970,
          1971,
          1972,
          1973,
          1974,
          1975,
          1976,
          1977,
          1978,
          1979,
          1980,
          1981,
          1982,
          1983,
          1984,
          1985,
          1986,
          1987,
          1988,
          1989,
          1990,
          1991,
          1992,
          1994,
          1995,
          1996,
          1997,
          1999,
          2000,
          2001,
          2002,
          2003,
          2004,
          2006,
          2007,
          2008,
          2009,
          2010,
          2011,
          2012,
          2013,
          2014,
          2015,
          2016,
          2017
         ],
         "xaxis": "x",
         "y": [
          0,
          0,
          0,
          38,
          73,
          108,
          124,
          125,
          177,
          197,
          206,
          214,
          240,
          241,
          445,
          465,
          467,
          473,
          474,
          495,
          495,
          506,
          512,
          572,
          816,
          963,
          967,
          967,
          967,
          984,
          1154,
          1160,
          1530,
          1535,
          1545,
          1654,
          1654,
          1803,
          1810,
          1875,
          2137,
          2571,
          3283,
          3664,
          4478
         ],
         "yaxis": "y"
        },
        {
         "hovertemplate": "attacktype1_txt=Hostage Taking (Kidnapping)<br>iyear=%{x}<br>nkill=%{y}<extra></extra>",
         "legendgroup": "Hostage Taking (Kidnapping)",
         "marker": {
          "color": "#FF6692",
          "symbol": "circle"
         },
         "mode": "markers",
         "name": "Hostage Taking (Kidnapping)",
         "orientation": "v",
         "showlegend": true,
         "type": "scatter",
         "x": [
          1970,
          1971,
          1972,
          1973,
          1974,
          1975,
          1976,
          1977,
          1978,
          1979,
          1980,
          1981,
          1982,
          1983,
          1984,
          1985,
          1986,
          1987,
          1988,
          1989,
          1990,
          1991,
          1992,
          1994,
          1995,
          1996,
          1997,
          1998,
          1999,
          2000,
          2001,
          2002,
          2003,
          2004,
          2005,
          2006,
          2007,
          2008,
          2009,
          2010,
          2011,
          2012,
          2013,
          2014,
          2015,
          2016,
          2017
         ],
         "xaxis": "x",
         "y": [
          10,
          12,
          24,
          35,
          49,
          57,
          64,
          84,
          108,
          188,
          295,
          345,
          376,
          402,
          452,
          482,
          623,
          691,
          770,
          865,
          1259,
          1375,
          1421,
          1537,
          1620,
          1715,
          1840,
          2178,
          2271,
          2479,
          2741,
          2848,
          2905,
          2962,
          3102,
          3347,
          3796,
          4022,
          4385,
          4647,
          4891,
          5542,
          6393,
          14213,
          17401,
          22006,
          24129
         ],
         "yaxis": "y"
        },
        {
         "hovertemplate": "attacktype1_txt=Unarmed Assault<br>iyear=%{x}<br>nkill=%{y}<extra></extra>",
         "legendgroup": "Unarmed Assault",
         "marker": {
          "color": "#B6E880",
          "symbol": "circle"
         },
         "mode": "markers",
         "name": "Unarmed Assault",
         "orientation": "v",
         "showlegend": true,
         "type": "scatter",
         "x": [
          1970,
          1973,
          1974,
          1976,
          1978,
          1979,
          1980,
          1981,
          1982,
          1983,
          1984,
          1985,
          1986,
          1987,
          1988,
          1989,
          1990,
          1991,
          1992,
          1994,
          1995,
          1996,
          1997,
          1998,
          1999,
          2000,
          2001,
          2002,
          2003,
          2004,
          2005,
          2006,
          2007,
          2008,
          2009,
          2010,
          2011,
          2012,
          2013,
          2014,
          2015,
          2016,
          2017
         ],
         "xaxis": "x",
         "y": [
          0,
          0,
          1,
          1,
          8,
          11,
          16,
          17,
          19,
          19,
          19,
          24,
          27,
          48,
          49,
          67,
          89,
          94,
          99,
          179,
          213,
          224,
          232,
          333,
          401,
          604,
          624,
          634,
          647,
          647,
          651,
          653,
          660,
          673,
          682,
          688,
          694,
          703,
          705,
          739,
          771,
          801,
          879
         ],
         "yaxis": "y"
        },
        {
         "hovertemplate": "attacktype1_txt=Unknown<br>iyear=%{x}<br>nkill=%{y}<extra></extra>",
         "legendgroup": "Unknown",
         "marker": {
          "color": "#FF97FF",
          "symbol": "circle"
         },
         "mode": "markers",
         "name": "Unknown",
         "orientation": "v",
         "showlegend": true,
         "type": "scatter",
         "x": [
          1970,
          1971,
          1972,
          1973,
          1974,
          1975,
          1976,
          1977,
          1978,
          1979,
          1980,
          1981,
          1982,
          1983,
          1984,
          1985,
          1986,
          1987,
          1988,
          1989,
          1990,
          1991,
          1992,
          1994,
          1995,
          1996,
          1997,
          1998,
          1999,
          2000,
          2001,
          2002,
          2003,
          2004,
          2005,
          2006,
          2007,
          2008,
          2009,
          2010,
          2011,
          2012,
          2013,
          2014,
          2015,
          2016,
          2017
         ],
         "xaxis": "x",
         "y": [
          4,
          5,
          6,
          6,
          13,
          15,
          17,
          27,
          78,
          335,
          506,
          788,
          992,
          1363,
          2462,
          2870,
          3786,
          4275,
          4369,
          4407,
          4454,
          4493,
          4691,
          5440,
          6319,
          8161,
          10436,
          10952,
          11132,
          11479,
          11895,
          12120,
          12233,
          12428,
          12601,
          12757,
          12911,
          13142,
          13848,
          14230,
          14567,
          15292,
          15847,
          19240,
          24003,
          28313,
          32165
         ],
         "yaxis": "y"
        }
       ],
       "layout": {
        "legend": {
         "title": {
          "text": "attacktype1_txt"
         },
         "tracegroupgap": 0
        },
        "margin": {
         "t": 60
        },
        "template": {
         "data": {
          "bar": [
           {
            "error_x": {
             "color": "#2a3f5f"
            },
            "error_y": {
             "color": "#2a3f5f"
            },
            "marker": {
             "line": {
              "color": "#E5ECF6",
              "width": 0.5
             },
             "pattern": {
              "fillmode": "overlay",
              "size": 10,
              "solidity": 0.2
             }
            },
            "type": "bar"
           }
          ],
          "barpolar": [
           {
            "marker": {
             "line": {
              "color": "#E5ECF6",
              "width": 0.5
             },
             "pattern": {
              "fillmode": "overlay",
              "size": 10,
              "solidity": 0.2
             }
            },
            "type": "barpolar"
           }
          ],
          "carpet": [
           {
            "aaxis": {
             "endlinecolor": "#2a3f5f",
             "gridcolor": "white",
             "linecolor": "white",
             "minorgridcolor": "white",
             "startlinecolor": "#2a3f5f"
            },
            "baxis": {
             "endlinecolor": "#2a3f5f",
             "gridcolor": "white",
             "linecolor": "white",
             "minorgridcolor": "white",
             "startlinecolor": "#2a3f5f"
            },
            "type": "carpet"
           }
          ],
          "choropleth": [
           {
            "colorbar": {
             "outlinewidth": 0,
             "ticks": ""
            },
            "type": "choropleth"
           }
          ],
          "contour": [
           {
            "colorbar": {
             "outlinewidth": 0,
             "ticks": ""
            },
            "colorscale": [
             [
              0,
              "#0d0887"
             ],
             [
              0.1111111111111111,
              "#46039f"
             ],
             [
              0.2222222222222222,
              "#7201a8"
             ],
             [
              0.3333333333333333,
              "#9c179e"
             ],
             [
              0.4444444444444444,
              "#bd3786"
             ],
             [
              0.5555555555555556,
              "#d8576b"
             ],
             [
              0.6666666666666666,
              "#ed7953"
             ],
             [
              0.7777777777777778,
              "#fb9f3a"
             ],
             [
              0.8888888888888888,
              "#fdca26"
             ],
             [
              1,
              "#f0f921"
             ]
            ],
            "type": "contour"
           }
          ],
          "contourcarpet": [
           {
            "colorbar": {
             "outlinewidth": 0,
             "ticks": ""
            },
            "type": "contourcarpet"
           }
          ],
          "heatmap": [
           {
            "colorbar": {
             "outlinewidth": 0,
             "ticks": ""
            },
            "colorscale": [
             [
              0,
              "#0d0887"
             ],
             [
              0.1111111111111111,
              "#46039f"
             ],
             [
              0.2222222222222222,
              "#7201a8"
             ],
             [
              0.3333333333333333,
              "#9c179e"
             ],
             [
              0.4444444444444444,
              "#bd3786"
             ],
             [
              0.5555555555555556,
              "#d8576b"
             ],
             [
              0.6666666666666666,
              "#ed7953"
             ],
             [
              0.7777777777777778,
              "#fb9f3a"
             ],
             [
              0.8888888888888888,
              "#fdca26"
             ],
             [
              1,
              "#f0f921"
             ]
            ],
            "type": "heatmap"
           }
          ],
          "heatmapgl": [
           {
            "colorbar": {
             "outlinewidth": 0,
             "ticks": ""
            },
            "colorscale": [
             [
              0,
              "#0d0887"
             ],
             [
              0.1111111111111111,
              "#46039f"
             ],
             [
              0.2222222222222222,
              "#7201a8"
             ],
             [
              0.3333333333333333,
              "#9c179e"
             ],
             [
              0.4444444444444444,
              "#bd3786"
             ],
             [
              0.5555555555555556,
              "#d8576b"
             ],
             [
              0.6666666666666666,
              "#ed7953"
             ],
             [
              0.7777777777777778,
              "#fb9f3a"
             ],
             [
              0.8888888888888888,
              "#fdca26"
             ],
             [
              1,
              "#f0f921"
             ]
            ],
            "type": "heatmapgl"
           }
          ],
          "histogram": [
           {
            "marker": {
             "pattern": {
              "fillmode": "overlay",
              "size": 10,
              "solidity": 0.2
             }
            },
            "type": "histogram"
           }
          ],
          "histogram2d": [
           {
            "colorbar": {
             "outlinewidth": 0,
             "ticks": ""
            },
            "colorscale": [
             [
              0,
              "#0d0887"
             ],
             [
              0.1111111111111111,
              "#46039f"
             ],
             [
              0.2222222222222222,
              "#7201a8"
             ],
             [
              0.3333333333333333,
              "#9c179e"
             ],
             [
              0.4444444444444444,
              "#bd3786"
             ],
             [
              0.5555555555555556,
              "#d8576b"
             ],
             [
              0.6666666666666666,
              "#ed7953"
             ],
             [
              0.7777777777777778,
              "#fb9f3a"
             ],
             [
              0.8888888888888888,
              "#fdca26"
             ],
             [
              1,
              "#f0f921"
             ]
            ],
            "type": "histogram2d"
           }
          ],
          "histogram2dcontour": [
           {
            "colorbar": {
             "outlinewidth": 0,
             "ticks": ""
            },
            "colorscale": [
             [
              0,
              "#0d0887"
             ],
             [
              0.1111111111111111,
              "#46039f"
             ],
             [
              0.2222222222222222,
              "#7201a8"
             ],
             [
              0.3333333333333333,
              "#9c179e"
             ],
             [
              0.4444444444444444,
              "#bd3786"
             ],
             [
              0.5555555555555556,
              "#d8576b"
             ],
             [
              0.6666666666666666,
              "#ed7953"
             ],
             [
              0.7777777777777778,
              "#fb9f3a"
             ],
             [
              0.8888888888888888,
              "#fdca26"
             ],
             [
              1,
              "#f0f921"
             ]
            ],
            "type": "histogram2dcontour"
           }
          ],
          "mesh3d": [
           {
            "colorbar": {
             "outlinewidth": 0,
             "ticks": ""
            },
            "type": "mesh3d"
           }
          ],
          "parcoords": [
           {
            "line": {
             "colorbar": {
              "outlinewidth": 0,
              "ticks": ""
             }
            },
            "type": "parcoords"
           }
          ],
          "pie": [
           {
            "automargin": true,
            "type": "pie"
           }
          ],
          "scatter": [
           {
            "marker": {
             "colorbar": {
              "outlinewidth": 0,
              "ticks": ""
             }
            },
            "type": "scatter"
           }
          ],
          "scatter3d": [
           {
            "line": {
             "colorbar": {
              "outlinewidth": 0,
              "ticks": ""
             }
            },
            "marker": {
             "colorbar": {
              "outlinewidth": 0,
              "ticks": ""
             }
            },
            "type": "scatter3d"
           }
          ],
          "scattercarpet": [
           {
            "marker": {
             "colorbar": {
              "outlinewidth": 0,
              "ticks": ""
             }
            },
            "type": "scattercarpet"
           }
          ],
          "scattergeo": [
           {
            "marker": {
             "colorbar": {
              "outlinewidth": 0,
              "ticks": ""
             }
            },
            "type": "scattergeo"
           }
          ],
          "scattergl": [
           {
            "marker": {
             "colorbar": {
              "outlinewidth": 0,
              "ticks": ""
             }
            },
            "type": "scattergl"
           }
          ],
          "scattermapbox": [
           {
            "marker": {
             "colorbar": {
              "outlinewidth": 0,
              "ticks": ""
             }
            },
            "type": "scattermapbox"
           }
          ],
          "scatterpolar": [
           {
            "marker": {
             "colorbar": {
              "outlinewidth": 0,
              "ticks": ""
             }
            },
            "type": "scatterpolar"
           }
          ],
          "scatterpolargl": [
           {
            "marker": {
             "colorbar": {
              "outlinewidth": 0,
              "ticks": ""
             }
            },
            "type": "scatterpolargl"
           }
          ],
          "scatterternary": [
           {
            "marker": {
             "colorbar": {
              "outlinewidth": 0,
              "ticks": ""
             }
            },
            "type": "scatterternary"
           }
          ],
          "surface": [
           {
            "colorbar": {
             "outlinewidth": 0,
             "ticks": ""
            },
            "colorscale": [
             [
              0,
              "#0d0887"
             ],
             [
              0.1111111111111111,
              "#46039f"
             ],
             [
              0.2222222222222222,
              "#7201a8"
             ],
             [
              0.3333333333333333,
              "#9c179e"
             ],
             [
              0.4444444444444444,
              "#bd3786"
             ],
             [
              0.5555555555555556,
              "#d8576b"
             ],
             [
              0.6666666666666666,
              "#ed7953"
             ],
             [
              0.7777777777777778,
              "#fb9f3a"
             ],
             [
              0.8888888888888888,
              "#fdca26"
             ],
             [
              1,
              "#f0f921"
             ]
            ],
            "type": "surface"
           }
          ],
          "table": [
           {
            "cells": {
             "fill": {
              "color": "#EBF0F8"
             },
             "line": {
              "color": "white"
             }
            },
            "header": {
             "fill": {
              "color": "#C8D4E3"
             },
             "line": {
              "color": "white"
             }
            },
            "type": "table"
           }
          ]
         },
         "layout": {
          "annotationdefaults": {
           "arrowcolor": "#2a3f5f",
           "arrowhead": 0,
           "arrowwidth": 1
          },
          "autotypenumbers": "strict",
          "coloraxis": {
           "colorbar": {
            "outlinewidth": 0,
            "ticks": ""
           }
          },
          "colorscale": {
           "diverging": [
            [
             0,
             "#8e0152"
            ],
            [
             0.1,
             "#c51b7d"
            ],
            [
             0.2,
             "#de77ae"
            ],
            [
             0.3,
             "#f1b6da"
            ],
            [
             0.4,
             "#fde0ef"
            ],
            [
             0.5,
             "#f7f7f7"
            ],
            [
             0.6,
             "#e6f5d0"
            ],
            [
             0.7,
             "#b8e186"
            ],
            [
             0.8,
             "#7fbc41"
            ],
            [
             0.9,
             "#4d9221"
            ],
            [
             1,
             "#276419"
            ]
           ],
           "sequential": [
            [
             0,
             "#0d0887"
            ],
            [
             0.1111111111111111,
             "#46039f"
            ],
            [
             0.2222222222222222,
             "#7201a8"
            ],
            [
             0.3333333333333333,
             "#9c179e"
            ],
            [
             0.4444444444444444,
             "#bd3786"
            ],
            [
             0.5555555555555556,
             "#d8576b"
            ],
            [
             0.6666666666666666,
             "#ed7953"
            ],
            [
             0.7777777777777778,
             "#fb9f3a"
            ],
            [
             0.8888888888888888,
             "#fdca26"
            ],
            [
             1,
             "#f0f921"
            ]
           ],
           "sequentialminus": [
            [
             0,
             "#0d0887"
            ],
            [
             0.1111111111111111,
             "#46039f"
            ],
            [
             0.2222222222222222,
             "#7201a8"
            ],
            [
             0.3333333333333333,
             "#9c179e"
            ],
            [
             0.4444444444444444,
             "#bd3786"
            ],
            [
             0.5555555555555556,
             "#d8576b"
            ],
            [
             0.6666666666666666,
             "#ed7953"
            ],
            [
             0.7777777777777778,
             "#fb9f3a"
            ],
            [
             0.8888888888888888,
             "#fdca26"
            ],
            [
             1,
             "#f0f921"
            ]
           ]
          },
          "colorway": [
           "#636efa",
           "#EF553B",
           "#00cc96",
           "#ab63fa",
           "#FFA15A",
           "#19d3f3",
           "#FF6692",
           "#B6E880",
           "#FF97FF",
           "#FECB52"
          ],
          "font": {
           "color": "#2a3f5f"
          },
          "geo": {
           "bgcolor": "white",
           "lakecolor": "white",
           "landcolor": "#E5ECF6",
           "showlakes": true,
           "showland": true,
           "subunitcolor": "white"
          },
          "hoverlabel": {
           "align": "left"
          },
          "hovermode": "closest",
          "mapbox": {
           "style": "light"
          },
          "paper_bgcolor": "white",
          "plot_bgcolor": "#E5ECF6",
          "polar": {
           "angularaxis": {
            "gridcolor": "white",
            "linecolor": "white",
            "ticks": ""
           },
           "bgcolor": "#E5ECF6",
           "radialaxis": {
            "gridcolor": "white",
            "linecolor": "white",
            "ticks": ""
           }
          },
          "scene": {
           "xaxis": {
            "backgroundcolor": "#E5ECF6",
            "gridcolor": "white",
            "gridwidth": 2,
            "linecolor": "white",
            "showbackground": true,
            "ticks": "",
            "zerolinecolor": "white"
           },
           "yaxis": {
            "backgroundcolor": "#E5ECF6",
            "gridcolor": "white",
            "gridwidth": 2,
            "linecolor": "white",
            "showbackground": true,
            "ticks": "",
            "zerolinecolor": "white"
           },
           "zaxis": {
            "backgroundcolor": "#E5ECF6",
            "gridcolor": "white",
            "gridwidth": 2,
            "linecolor": "white",
            "showbackground": true,
            "ticks": "",
            "zerolinecolor": "white"
           }
          },
          "shapedefaults": {
           "line": {
            "color": "#2a3f5f"
           }
          },
          "ternary": {
           "aaxis": {
            "gridcolor": "white",
            "linecolor": "white",
            "ticks": ""
           },
           "baxis": {
            "gridcolor": "white",
            "linecolor": "white",
            "ticks": ""
           },
           "bgcolor": "#E5ECF6",
           "caxis": {
            "gridcolor": "white",
            "linecolor": "white",
            "ticks": ""
           }
          },
          "title": {
           "x": 0.05
          },
          "xaxis": {
           "automargin": true,
           "gridcolor": "white",
           "linecolor": "white",
           "ticks": "",
           "title": {
            "standoff": 15
           },
           "zerolinecolor": "white",
           "zerolinewidth": 2
          },
          "yaxis": {
           "automargin": true,
           "gridcolor": "white",
           "linecolor": "white",
           "ticks": "",
           "title": {
            "standoff": 15
           },
           "zerolinecolor": "white",
           "zerolinewidth": 2
          }
         }
        },
        "xaxis": {
         "anchor": "y",
         "domain": [
          0,
          1
         ],
         "title": {
          "text": "iyear"
         }
        },
        "yaxis": {
         "anchor": "x",
         "domain": [
          0,
          1
         ],
         "title": {
          "text": "nkill"
         }
        }
       }
      },
      "text/html": [
       "<div>                            <div id=\"80408965-d68b-4bb0-8c41-135f40aff541\" class=\"plotly-graph-div\" style=\"height:525px; width:100%;\"></div>            <script type=\"text/javascript\">                require([\"plotly\"], function(Plotly) {                    window.PLOTLYENV=window.PLOTLYENV || {};                                    if (document.getElementById(\"80408965-d68b-4bb0-8c41-135f40aff541\")) {                    Plotly.newPlot(                        \"80408965-d68b-4bb0-8c41-135f40aff541\",                        [{\"hovertemplate\":\"attacktype1_txt=Armed Assault<br>iyear=%{x}<br>nkill=%{y}<extra></extra>\",\"legendgroup\":\"Armed Assault\",\"marker\":{\"color\":\"#636efa\",\"symbol\":\"circle\"},\"mode\":\"markers\",\"name\":\"Armed Assault\",\"orientation\":\"v\",\"showlegend\":true,\"x\":[1970,1971,1972,1973,1974,1975,1976,1977,1978,1979,1980,1981,1982,1983,1984,1985,1986,1987,1988,1989,1990,1991,1992,1994,1995,1996,1997,1998,1999,2000,2001,2002,2003,2004,2005,2006,2007,2008,2009,2010,2011,2012,2013,2014,2015,2016,2017],\"xaxis\":\"x\",\"y\":[36.0,50.0,108.0,149.0,182.0,406.0,566.0,707.0,1019.0,1562.0,4063.0,6997.0,10371.0,17265.0,23808.0,27901.0,29821.0,33254.0,37285.0,42099.0,46560.0,52256.0,58402.0,62745.0,65001.0,67424.0,73396.0,75419.0,77215.0,79150.0,81811.0,84182.0,85411.0,87178.0,88887.0,91592.0,94771.0,97650.0,99900.0,101973.0,104447.0,109667.0,117005.0,132822.0,144539.0,152907.0,159640.0],\"yaxis\":\"y\",\"type\":\"scatter\"},{\"hovertemplate\":\"attacktype1_txt=Assassination<br>iyear=%{x}<br>nkill=%{y}<extra></extra>\",\"legendgroup\":\"Assassination\",\"marker\":{\"color\":\"#EF553B\",\"symbol\":\"circle\"},\"mode\":\"markers\",\"name\":\"Assassination\",\"orientation\":\"v\",\"showlegend\":true,\"x\":[1970,1971,1972,1973,1974,1975,1976,1977,1978,1979,1980,1981,1982,1983,1984,1985,1986,1987,1988,1989,1990,1991,1992,1994,1995,1996,1997,1998,1999,2000,2001,2002,2003,2004,2005,2006,2007,2008,2009,2010,2011,2012,2013,2014,2015,2016,2017],\"xaxis\":\"x\",\"y\":[17.0,88.0,296.0,467.0,628.0,838.0,1070.0,1209.0,1452.0,1937.0,2638.0,3094.0,3675.0,4148.0,4721.0,5120.0,5580.0,6284.0,7539.0,8939.0,10114.0,11105.0,12656.0,13660.0,14512.0,15295.0,15991.0,16031.0,16106.0,16320.0,16464.0,16571.0,16714.0,16884.0,17233.0,17476.0,17665.0,18030.0,18445.0,18928.0,19409.0,19964.0,20798.0,21790.0,23021.0,23950.0,24776.0],\"yaxis\":\"y\",\"type\":\"scatter\"},{\"hovertemplate\":\"attacktype1_txt=Bombing/Explosion<br>iyear=%{x}<br>nkill=%{y}<extra></extra>\",\"legendgroup\":\"Bombing/Explosion\",\"marker\":{\"color\":\"#00cc96\",\"symbol\":\"circle\"},\"mode\":\"markers\",\"name\":\"Bombing/Explosion\",\"orientation\":\"v\",\"showlegend\":true,\"x\":[1970,1971,1972,1973,1974,1975,1976,1977,1978,1979,1980,1981,1982,1983,1984,1985,1986,1987,1988,1989,1990,1991,1992,1994,1995,1996,1997,1998,1999,2000,2001,2002,2003,2004,2005,2006,2007,2008,2009,2010,2011,2012,2013,2014,2015,2016,2017],\"xaxis\":\"x\",\"y\":[96.0,175.0,456.0,531.0,817.0,950.0,1172.0,1203.0,1520.0,2084.0,2917.0,3960.0,4817.0,6434.0,8141.0,10105.0,11222.0,12956.0,14663.0,16404.0,17419.0,18927.0,20574.0,21830.0,23538.0,25178.0,26900.0,28518.0,29628.0,30883.0,31875.0,33629.0,35304.0,38412.0,42339.0,48233.0,56937.0,62200.0,67267.0,71654.0,76252.0,84436.0,96715.0,112315.0,129374.0,145404.0,157235.0],\"yaxis\":\"y\",\"type\":\"scatter\"},{\"hovertemplate\":\"attacktype1_txt=Facility/Infrastructure Attack<br>iyear=%{x}<br>nkill=%{y}<extra></extra>\",\"legendgroup\":\"Facility/Infrastructure Attack\",\"marker\":{\"color\":\"#ab63fa\",\"symbol\":\"circle\"},\"mode\":\"markers\",\"name\":\"Facility/Infrastructure Attack\",\"orientation\":\"v\",\"showlegend\":true,\"x\":[1970,1971,1972,1973,1974,1975,1976,1977,1978,1979,1980,1981,1982,1983,1984,1985,1986,1987,1988,1989,1990,1991,1992,1994,1995,1996,1997,1998,1999,2000,2001,2002,2003,2004,2005,2006,2007,2008,2009,2010,2011,2012,2013,2014,2015,2016,2017],\"xaxis\":\"x\",\"y\":[7.0,8.0,9.0,9.0,9.0,9.0,15.0,17.0,451.0,495.0,524.0,563.0,587.0,606.0,691.0,781.0,1093.0,1102.0,1130.0,1146.0,1156.0,1195.0,1311.0,1343.0,1379.0,1395.0,1439.0,1478.0,1508.0,1660.0,1793.0,1794.0,1796.0,1824.0,1840.0,1907.0,2024.0,2061.0,2509.0,2543.0,2589.0,2677.0,2816.0,3188.0,3283.0,3474.0,3640.0],\"yaxis\":\"y\",\"type\":\"scatter\"},{\"hovertemplate\":\"attacktype1_txt=Hijacking<br>iyear=%{x}<br>nkill=%{y}<extra></extra>\",\"legendgroup\":\"Hijacking\",\"marker\":{\"color\":\"#FFA15A\",\"symbol\":\"circle\"},\"mode\":\"markers\",\"name\":\"Hijacking\",\"orientation\":\"v\",\"showlegend\":true,\"x\":[1970,1971,1972,1973,1974,1975,1976,1977,1979,1980,1981,1982,1983,1984,1985,1986,1987,1988,1989,1990,1991,1992,1994,1995,1996,1997,1998,1999,2000,2001,2002,2003,2004,2005,2006,2007,2008,2009,2010,2011,2012,2013,2014,2015,2016,2017],\"xaxis\":\"x\",\"y\":[1.0,1.0,6.0,40.0,41.0,41.0,68.0,175.0,175.0,175.0,184.0,186.0,186.0,214.0,297.0,396.0,397.0,409.0,412.0,422.0,427.0,428.0,446.0,457.0,462.0,462.0,463.0,470.0,470.0,3475.0,3481.0,3481.0,3527.0,3539.0,3541.0,3542.0,3564.0,3566.0,3567.0,3569.0,3569.0,3582.0,3610.0,3666.0,3693.0,3715.0],\"yaxis\":\"y\",\"type\":\"scatter\"},{\"hovertemplate\":\"attacktype1_txt=Hostage Taking (Barricade Incident)<br>iyear=%{x}<br>nkill=%{y}<extra></extra>\",\"legendgroup\":\"Hostage Taking (Barricade Incident)\",\"marker\":{\"color\":\"#19d3f3\",\"symbol\":\"circle\"},\"mode\":\"markers\",\"name\":\"Hostage Taking (Barricade Incident)\",\"orientation\":\"v\",\"showlegend\":true,\"x\":[1970,1971,1972,1973,1974,1975,1976,1977,1978,1979,1980,1981,1982,1983,1984,1985,1986,1987,1988,1989,1990,1991,1992,1994,1995,1996,1997,1999,2000,2001,2002,2003,2004,2006,2007,2008,2009,2010,2011,2012,2013,2014,2015,2016,2017],\"xaxis\":\"x\",\"y\":[0.0,0.0,0.0,38.0,73.0,108.0,124.0,125.0,177.0,197.0,206.0,214.0,240.0,241.0,445.0,465.0,467.0,473.0,474.0,495.0,495.0,506.0,512.0,572.0,816.0,963.0,967.0,967.0,967.0,984.0,1154.0,1160.0,1530.0,1535.0,1545.0,1654.0,1654.0,1803.0,1810.0,1875.0,2137.0,2571.0,3283.0,3664.0,4478.0],\"yaxis\":\"y\",\"type\":\"scatter\"},{\"hovertemplate\":\"attacktype1_txt=Hostage Taking (Kidnapping)<br>iyear=%{x}<br>nkill=%{y}<extra></extra>\",\"legendgroup\":\"Hostage Taking (Kidnapping)\",\"marker\":{\"color\":\"#FF6692\",\"symbol\":\"circle\"},\"mode\":\"markers\",\"name\":\"Hostage Taking (Kidnapping)\",\"orientation\":\"v\",\"showlegend\":true,\"x\":[1970,1971,1972,1973,1974,1975,1976,1977,1978,1979,1980,1981,1982,1983,1984,1985,1986,1987,1988,1989,1990,1991,1992,1994,1995,1996,1997,1998,1999,2000,2001,2002,2003,2004,2005,2006,2007,2008,2009,2010,2011,2012,2013,2014,2015,2016,2017],\"xaxis\":\"x\",\"y\":[10.0,12.0,24.0,35.0,49.0,57.0,64.0,84.0,108.0,188.0,295.0,345.0,376.0,402.0,452.0,482.0,623.0,691.0,770.0,865.0,1259.0,1375.0,1421.0,1537.0,1620.0,1715.0,1840.0,2178.0,2271.0,2479.0,2741.0,2848.0,2905.0,2962.0,3102.0,3347.0,3796.0,4022.0,4385.0,4647.0,4891.0,5542.0,6393.0,14213.0,17401.0,22006.0,24129.0],\"yaxis\":\"y\",\"type\":\"scatter\"},{\"hovertemplate\":\"attacktype1_txt=Unarmed Assault<br>iyear=%{x}<br>nkill=%{y}<extra></extra>\",\"legendgroup\":\"Unarmed Assault\",\"marker\":{\"color\":\"#B6E880\",\"symbol\":\"circle\"},\"mode\":\"markers\",\"name\":\"Unarmed Assault\",\"orientation\":\"v\",\"showlegend\":true,\"x\":[1970,1973,1974,1976,1978,1979,1980,1981,1982,1983,1984,1985,1986,1987,1988,1989,1990,1991,1992,1994,1995,1996,1997,1998,1999,2000,2001,2002,2003,2004,2005,2006,2007,2008,2009,2010,2011,2012,2013,2014,2015,2016,2017],\"xaxis\":\"x\",\"y\":[0.0,0.0,1.0,1.0,8.0,11.0,16.0,17.0,19.0,19.0,19.0,24.0,27.0,48.0,49.0,67.0,89.0,94.0,99.0,179.0,213.0,224.0,232.0,333.0,401.0,604.0,624.0,634.0,647.0,647.0,651.0,653.0,660.0,673.0,682.0,688.0,694.0,703.0,705.0,739.0,771.0,801.0,879.0],\"yaxis\":\"y\",\"type\":\"scatter\"},{\"hovertemplate\":\"attacktype1_txt=Unknown<br>iyear=%{x}<br>nkill=%{y}<extra></extra>\",\"legendgroup\":\"Unknown\",\"marker\":{\"color\":\"#FF97FF\",\"symbol\":\"circle\"},\"mode\":\"markers\",\"name\":\"Unknown\",\"orientation\":\"v\",\"showlegend\":true,\"x\":[1970,1971,1972,1973,1974,1975,1976,1977,1978,1979,1980,1981,1982,1983,1984,1985,1986,1987,1988,1989,1990,1991,1992,1994,1995,1996,1997,1998,1999,2000,2001,2002,2003,2004,2005,2006,2007,2008,2009,2010,2011,2012,2013,2014,2015,2016,2017],\"xaxis\":\"x\",\"y\":[4.0,5.0,6.0,6.0,13.0,15.0,17.0,27.0,78.0,335.0,506.0,788.0,992.0,1363.0,2462.0,2870.0,3786.0,4275.0,4369.0,4407.0,4454.0,4493.0,4691.0,5440.0,6319.0,8161.0,10436.0,10952.0,11132.0,11479.0,11895.0,12120.0,12233.0,12428.0,12601.0,12757.0,12911.0,13142.0,13848.0,14230.0,14567.0,15292.0,15847.0,19240.0,24003.0,28313.0,32165.0],\"yaxis\":\"y\",\"type\":\"scatter\"}],                        {\"template\":{\"data\":{\"bar\":[{\"error_x\":{\"color\":\"#2a3f5f\"},\"error_y\":{\"color\":\"#2a3f5f\"},\"marker\":{\"line\":{\"color\":\"#E5ECF6\",\"width\":0.5},\"pattern\":{\"fillmode\":\"overlay\",\"size\":10,\"solidity\":0.2}},\"type\":\"bar\"}],\"barpolar\":[{\"marker\":{\"line\":{\"color\":\"#E5ECF6\",\"width\":0.5},\"pattern\":{\"fillmode\":\"overlay\",\"size\":10,\"solidity\":0.2}},\"type\":\"barpolar\"}],\"carpet\":[{\"aaxis\":{\"endlinecolor\":\"#2a3f5f\",\"gridcolor\":\"white\",\"linecolor\":\"white\",\"minorgridcolor\":\"white\",\"startlinecolor\":\"#2a3f5f\"},\"baxis\":{\"endlinecolor\":\"#2a3f5f\",\"gridcolor\":\"white\",\"linecolor\":\"white\",\"minorgridcolor\":\"white\",\"startlinecolor\":\"#2a3f5f\"},\"type\":\"carpet\"}],\"choropleth\":[{\"colorbar\":{\"outlinewidth\":0,\"ticks\":\"\"},\"type\":\"choropleth\"}],\"contour\":[{\"colorbar\":{\"outlinewidth\":0,\"ticks\":\"\"},\"colorscale\":[[0.0,\"#0d0887\"],[0.1111111111111111,\"#46039f\"],[0.2222222222222222,\"#7201a8\"],[0.3333333333333333,\"#9c179e\"],[0.4444444444444444,\"#bd3786\"],[0.5555555555555556,\"#d8576b\"],[0.6666666666666666,\"#ed7953\"],[0.7777777777777778,\"#fb9f3a\"],[0.8888888888888888,\"#fdca26\"],[1.0,\"#f0f921\"]],\"type\":\"contour\"}],\"contourcarpet\":[{\"colorbar\":{\"outlinewidth\":0,\"ticks\":\"\"},\"type\":\"contourcarpet\"}],\"heatmap\":[{\"colorbar\":{\"outlinewidth\":0,\"ticks\":\"\"},\"colorscale\":[[0.0,\"#0d0887\"],[0.1111111111111111,\"#46039f\"],[0.2222222222222222,\"#7201a8\"],[0.3333333333333333,\"#9c179e\"],[0.4444444444444444,\"#bd3786\"],[0.5555555555555556,\"#d8576b\"],[0.6666666666666666,\"#ed7953\"],[0.7777777777777778,\"#fb9f3a\"],[0.8888888888888888,\"#fdca26\"],[1.0,\"#f0f921\"]],\"type\":\"heatmap\"}],\"heatmapgl\":[{\"colorbar\":{\"outlinewidth\":0,\"ticks\":\"\"},\"colorscale\":[[0.0,\"#0d0887\"],[0.1111111111111111,\"#46039f\"],[0.2222222222222222,\"#7201a8\"],[0.3333333333333333,\"#9c179e\"],[0.4444444444444444,\"#bd3786\"],[0.5555555555555556,\"#d8576b\"],[0.6666666666666666,\"#ed7953\"],[0.7777777777777778,\"#fb9f3a\"],[0.8888888888888888,\"#fdca26\"],[1.0,\"#f0f921\"]],\"type\":\"heatmapgl\"}],\"histogram\":[{\"marker\":{\"pattern\":{\"fillmode\":\"overlay\",\"size\":10,\"solidity\":0.2}},\"type\":\"histogram\"}],\"histogram2d\":[{\"colorbar\":{\"outlinewidth\":0,\"ticks\":\"\"},\"colorscale\":[[0.0,\"#0d0887\"],[0.1111111111111111,\"#46039f\"],[0.2222222222222222,\"#7201a8\"],[0.3333333333333333,\"#9c179e\"],[0.4444444444444444,\"#bd3786\"],[0.5555555555555556,\"#d8576b\"],[0.6666666666666666,\"#ed7953\"],[0.7777777777777778,\"#fb9f3a\"],[0.8888888888888888,\"#fdca26\"],[1.0,\"#f0f921\"]],\"type\":\"histogram2d\"}],\"histogram2dcontour\":[{\"colorbar\":{\"outlinewidth\":0,\"ticks\":\"\"},\"colorscale\":[[0.0,\"#0d0887\"],[0.1111111111111111,\"#46039f\"],[0.2222222222222222,\"#7201a8\"],[0.3333333333333333,\"#9c179e\"],[0.4444444444444444,\"#bd3786\"],[0.5555555555555556,\"#d8576b\"],[0.6666666666666666,\"#ed7953\"],[0.7777777777777778,\"#fb9f3a\"],[0.8888888888888888,\"#fdca26\"],[1.0,\"#f0f921\"]],\"type\":\"histogram2dcontour\"}],\"mesh3d\":[{\"colorbar\":{\"outlinewidth\":0,\"ticks\":\"\"},\"type\":\"mesh3d\"}],\"parcoords\":[{\"line\":{\"colorbar\":{\"outlinewidth\":0,\"ticks\":\"\"}},\"type\":\"parcoords\"}],\"pie\":[{\"automargin\":true,\"type\":\"pie\"}],\"scatter\":[{\"marker\":{\"colorbar\":{\"outlinewidth\":0,\"ticks\":\"\"}},\"type\":\"scatter\"}],\"scatter3d\":[{\"line\":{\"colorbar\":{\"outlinewidth\":0,\"ticks\":\"\"}},\"marker\":{\"colorbar\":{\"outlinewidth\":0,\"ticks\":\"\"}},\"type\":\"scatter3d\"}],\"scattercarpet\":[{\"marker\":{\"colorbar\":{\"outlinewidth\":0,\"ticks\":\"\"}},\"type\":\"scattercarpet\"}],\"scattergeo\":[{\"marker\":{\"colorbar\":{\"outlinewidth\":0,\"ticks\":\"\"}},\"type\":\"scattergeo\"}],\"scattergl\":[{\"marker\":{\"colorbar\":{\"outlinewidth\":0,\"ticks\":\"\"}},\"type\":\"scattergl\"}],\"scattermapbox\":[{\"marker\":{\"colorbar\":{\"outlinewidth\":0,\"ticks\":\"\"}},\"type\":\"scattermapbox\"}],\"scatterpolar\":[{\"marker\":{\"colorbar\":{\"outlinewidth\":0,\"ticks\":\"\"}},\"type\":\"scatterpolar\"}],\"scatterpolargl\":[{\"marker\":{\"colorbar\":{\"outlinewidth\":0,\"ticks\":\"\"}},\"type\":\"scatterpolargl\"}],\"scatterternary\":[{\"marker\":{\"colorbar\":{\"outlinewidth\":0,\"ticks\":\"\"}},\"type\":\"scatterternary\"}],\"surface\":[{\"colorbar\":{\"outlinewidth\":0,\"ticks\":\"\"},\"colorscale\":[[0.0,\"#0d0887\"],[0.1111111111111111,\"#46039f\"],[0.2222222222222222,\"#7201a8\"],[0.3333333333333333,\"#9c179e\"],[0.4444444444444444,\"#bd3786\"],[0.5555555555555556,\"#d8576b\"],[0.6666666666666666,\"#ed7953\"],[0.7777777777777778,\"#fb9f3a\"],[0.8888888888888888,\"#fdca26\"],[1.0,\"#f0f921\"]],\"type\":\"surface\"}],\"table\":[{\"cells\":{\"fill\":{\"color\":\"#EBF0F8\"},\"line\":{\"color\":\"white\"}},\"header\":{\"fill\":{\"color\":\"#C8D4E3\"},\"line\":{\"color\":\"white\"}},\"type\":\"table\"}]},\"layout\":{\"annotationdefaults\":{\"arrowcolor\":\"#2a3f5f\",\"arrowhead\":0,\"arrowwidth\":1},\"autotypenumbers\":\"strict\",\"coloraxis\":{\"colorbar\":{\"outlinewidth\":0,\"ticks\":\"\"}},\"colorscale\":{\"diverging\":[[0,\"#8e0152\"],[0.1,\"#c51b7d\"],[0.2,\"#de77ae\"],[0.3,\"#f1b6da\"],[0.4,\"#fde0ef\"],[0.5,\"#f7f7f7\"],[0.6,\"#e6f5d0\"],[0.7,\"#b8e186\"],[0.8,\"#7fbc41\"],[0.9,\"#4d9221\"],[1,\"#276419\"]],\"sequential\":[[0.0,\"#0d0887\"],[0.1111111111111111,\"#46039f\"],[0.2222222222222222,\"#7201a8\"],[0.3333333333333333,\"#9c179e\"],[0.4444444444444444,\"#bd3786\"],[0.5555555555555556,\"#d8576b\"],[0.6666666666666666,\"#ed7953\"],[0.7777777777777778,\"#fb9f3a\"],[0.8888888888888888,\"#fdca26\"],[1.0,\"#f0f921\"]],\"sequentialminus\":[[0.0,\"#0d0887\"],[0.1111111111111111,\"#46039f\"],[0.2222222222222222,\"#7201a8\"],[0.3333333333333333,\"#9c179e\"],[0.4444444444444444,\"#bd3786\"],[0.5555555555555556,\"#d8576b\"],[0.6666666666666666,\"#ed7953\"],[0.7777777777777778,\"#fb9f3a\"],[0.8888888888888888,\"#fdca26\"],[1.0,\"#f0f921\"]]},\"colorway\":[\"#636efa\",\"#EF553B\",\"#00cc96\",\"#ab63fa\",\"#FFA15A\",\"#19d3f3\",\"#FF6692\",\"#B6E880\",\"#FF97FF\",\"#FECB52\"],\"font\":{\"color\":\"#2a3f5f\"},\"geo\":{\"bgcolor\":\"white\",\"lakecolor\":\"white\",\"landcolor\":\"#E5ECF6\",\"showlakes\":true,\"showland\":true,\"subunitcolor\":\"white\"},\"hoverlabel\":{\"align\":\"left\"},\"hovermode\":\"closest\",\"mapbox\":{\"style\":\"light\"},\"paper_bgcolor\":\"white\",\"plot_bgcolor\":\"#E5ECF6\",\"polar\":{\"angularaxis\":{\"gridcolor\":\"white\",\"linecolor\":\"white\",\"ticks\":\"\"},\"bgcolor\":\"#E5ECF6\",\"radialaxis\":{\"gridcolor\":\"white\",\"linecolor\":\"white\",\"ticks\":\"\"}},\"scene\":{\"xaxis\":{\"backgroundcolor\":\"#E5ECF6\",\"gridcolor\":\"white\",\"gridwidth\":2,\"linecolor\":\"white\",\"showbackground\":true,\"ticks\":\"\",\"zerolinecolor\":\"white\"},\"yaxis\":{\"backgroundcolor\":\"#E5ECF6\",\"gridcolor\":\"white\",\"gridwidth\":2,\"linecolor\":\"white\",\"showbackground\":true,\"ticks\":\"\",\"zerolinecolor\":\"white\"},\"zaxis\":{\"backgroundcolor\":\"#E5ECF6\",\"gridcolor\":\"white\",\"gridwidth\":2,\"linecolor\":\"white\",\"showbackground\":true,\"ticks\":\"\",\"zerolinecolor\":\"white\"}},\"shapedefaults\":{\"line\":{\"color\":\"#2a3f5f\"}},\"ternary\":{\"aaxis\":{\"gridcolor\":\"white\",\"linecolor\":\"white\",\"ticks\":\"\"},\"baxis\":{\"gridcolor\":\"white\",\"linecolor\":\"white\",\"ticks\":\"\"},\"bgcolor\":\"#E5ECF6\",\"caxis\":{\"gridcolor\":\"white\",\"linecolor\":\"white\",\"ticks\":\"\"}},\"title\":{\"x\":0.05},\"xaxis\":{\"automargin\":true,\"gridcolor\":\"white\",\"linecolor\":\"white\",\"ticks\":\"\",\"title\":{\"standoff\":15},\"zerolinecolor\":\"white\",\"zerolinewidth\":2},\"yaxis\":{\"automargin\":true,\"gridcolor\":\"white\",\"linecolor\":\"white\",\"ticks\":\"\",\"title\":{\"standoff\":15},\"zerolinecolor\":\"white\",\"zerolinewidth\":2}}},\"xaxis\":{\"anchor\":\"y\",\"domain\":[0.0,1.0],\"title\":{\"text\":\"iyear\"}},\"yaxis\":{\"anchor\":\"x\",\"domain\":[0.0,1.0],\"title\":{\"text\":\"nkill\"}},\"legend\":{\"title\":{\"text\":\"attacktype1_txt\"},\"tracegroupgap\":0},\"margin\":{\"t\":60}},                        {\"responsive\": true}                    ).then(function(){\n",
       "                            \n",
       "var gd = document.getElementById('80408965-d68b-4bb0-8c41-135f40aff541');\n",
       "var x = new MutationObserver(function (mutations, observer) {{\n",
       "        var display = window.getComputedStyle(gd).display;\n",
       "        if (!display || display === 'none') {{\n",
       "            console.log([gd, 'removed!']);\n",
       "            Plotly.purge(gd);\n",
       "            observer.disconnect();\n",
       "        }}\n",
       "}});\n",
       "\n",
       "// Listen for the removal of the full notebook cells\n",
       "var notebookContainer = gd.closest('#notebook-container');\n",
       "if (notebookContainer) {{\n",
       "    x.observe(notebookContainer, {childList: true});\n",
       "}}\n",
       "\n",
       "// Listen for the clearing of the current output cell\n",
       "var outputEl = gd.closest('.output');\n",
       "if (outputEl) {{\n",
       "    x.observe(outputEl, {childList: true});\n",
       "}}\n",
       "\n",
       "                        })                };                });            </script>        </div>"
      ]
     },
     "metadata": {},
     "output_type": "display_data"
    }
   ],
   "source": [
    "px.scatter(data_nmort_attaque_terroriste,x='iyear',y='nkill',color='attacktype1_txt')"
   ]
  },
  {
   "cell_type": "code",
   "execution_count": null,
   "metadata": {},
   "outputs": [],
   "source": []
  },
  {
   "cell_type": "code",
   "execution_count": null,
   "metadata": {},
   "outputs": [],
   "source": []
  }
 ],
 "metadata": {
  "interpreter": {
   "hash": "d9cb4fe90d1e8890f1d760e5203fc044f921dddd2ce0dfa0f0205b983aed132e"
  },
  "kernelspec": {
   "display_name": "Python 3",
   "language": "python",
   "name": "python3"
  },
  "language_info": {
   "codemirror_mode": {
    "name": "ipython",
    "version": 3
   },
   "file_extension": ".py",
   "mimetype": "text/x-python",
   "name": "python",
   "nbconvert_exporter": "python",
   "pygments_lexer": "ipython3",
   "version": "3.8.8"
  }
 },
 "nbformat": 4,
 "nbformat_minor": 2
}
