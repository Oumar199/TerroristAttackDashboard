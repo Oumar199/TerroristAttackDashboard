{
  "cells": [
    {
      "cell_type": "markdown",
      "metadata": {
        "id": "4GSWigI1bYX1"
      },
      "source": [
        "# DATACAMP TERROSRIST ATTACK\n",
        "\n",
        "---\n",
        "\n",
        "**Papa Ba GAYE**"
      ]
    },
    {
      "cell_type": "code",
      "execution_count": 39,
      "metadata": {
        "colab": {
          "base_uri": "https://localhost:8080/"
        },
        "id": "cz3FPU8hWMoF",
        "outputId": "e258783c-e12f-487f-ecb6-f80579488330"
      },
      "outputs": [
        {
          "output_type": "stream",
          "name": "stdout",
          "text": [
            "Requirement already satisfied: opendatasets in /usr/local/lib/python3.7/dist-packages (0.1.22)\n",
            "Requirement already satisfied: kaggle in /usr/local/lib/python3.7/dist-packages (from opendatasets) (1.5.12)\n",
            "Requirement already satisfied: click in /usr/local/lib/python3.7/dist-packages (from opendatasets) (7.1.2)\n",
            "Requirement already satisfied: tqdm in /usr/local/lib/python3.7/dist-packages (from opendatasets) (4.64.0)\n",
            "Requirement already satisfied: six>=1.10 in /usr/local/lib/python3.7/dist-packages (from kaggle->opendatasets) (1.15.0)\n",
            "Requirement already satisfied: certifi in /usr/local/lib/python3.7/dist-packages (from kaggle->opendatasets) (2021.10.8)\n",
            "Requirement already satisfied: urllib3 in /usr/local/lib/python3.7/dist-packages (from kaggle->opendatasets) (1.24.3)\n",
            "Requirement already satisfied: requests in /usr/local/lib/python3.7/dist-packages (from kaggle->opendatasets) (2.23.0)\n",
            "Requirement already satisfied: python-slugify in /usr/local/lib/python3.7/dist-packages (from kaggle->opendatasets) (6.1.2)\n",
            "Requirement already satisfied: python-dateutil in /usr/local/lib/python3.7/dist-packages (from kaggle->opendatasets) (2.8.2)\n",
            "Requirement already satisfied: text-unidecode>=1.3 in /usr/local/lib/python3.7/dist-packages (from python-slugify->kaggle->opendatasets) (1.3)\n",
            "Requirement already satisfied: idna<3,>=2.5 in /usr/local/lib/python3.7/dist-packages (from requests->kaggle->opendatasets) (2.10)\n",
            "Requirement already satisfied: chardet<4,>=3.0.2 in /usr/local/lib/python3.7/dist-packages (from requests->kaggle->opendatasets) (3.0.4)\n"
          ]
        }
      ],
      "source": [
        "# !pip install dash\n",
        "# !pip install jupyter-dash\n",
        "# !pip install dash-bootstrap-components\n",
        "!pip install opendatasets"
      ]
    },
    {
      "cell_type": "code",
      "execution_count": 40,
      "metadata": {
        "id": "bh0sCCYGZujW"
      },
      "outputs": [],
      "source": [
        "import pandas as pd\n",
        "import plotly.express as px\n",
        "import numpy as np\n",
        "# import opendatasets as od\n",
        "# import dash\n",
        "# from jupyter_dash import JupyterDash\n",
        "# from dash import dash_table\n",
        "# import pandas as pd\n",
        "# from dash import  dcc\n",
        "# import dash_bootstrap_components as dbc\n",
        "# from dash import html\n",
        "# from dash.dependencies import Input, Output"
      ]
    },
    {
      "cell_type": "markdown",
      "metadata": {
        "id": "9h9i_i2Su9vk"
      },
      "source": [
        "```\n",
        "papabagaye\n",
        "```\n",
        "\n",
        "```\n",
        "63fe435dfbb43e774d9f0b5643b639b9\n",
        "```"
      ]
    },
    {
      "cell_type": "code",
      "execution_count": 41,
      "metadata": {
        "id": "JGmrc9k6pMmI"
      },
      "outputs": [],
      "source": [
        "# download_url = 'https://www.kaggle.com/START-UMD/gtd'\n",
        "# od.download(download_url)"
      ]
    },
    {
      "cell_type": "code",
      "execution_count": 42,
      "metadata": {
        "id": "T7wUQ3UpaGi9"
      },
      "outputs": [],
      "source": [
        "# path_data = './gtd/globalterrorismdb_0718dist.csv'\n",
        "# df = pd.read_csv(path_data, encoding = \"ISO-8859-1\")"
      ]
    },
    {
      "cell_type": "code",
      "execution_count": 43,
      "metadata": {
        "colab": {
          "base_uri": "https://localhost:8080/"
        },
        "id": "YtoUnqGGwmpC",
        "outputId": "f6fd3979-3240-4cd0-96c7-b1c2888571c1"
      },
      "outputs": [
        {
          "output_type": "stream",
          "name": "stdout",
          "text": [
            "Drive already mounted at /content/drive; to attempt to forcibly remount, call drive.mount(\"/content/drive\", force_remount=True).\n"
          ]
        }
      ],
      "source": [
        "from google.colab import drive\n",
        "drive.mount(\"/content/drive\")"
      ]
    },
    {
      "cell_type": "code",
      "execution_count": 44,
      "metadata": {
        "id": "QfB3pag5PWVt"
      },
      "outputs": [],
      "source": [
        "import os\n",
        "import zipfile\n",
        "\n",
        "file_to_unzip = \"/content/drive/MyDrive/00 - Datacamp/terror.zip\"\n",
        "\n",
        "file_ziped = zipfile.ZipFile(file_to_unzip, \"r\")\n",
        "file_ziped.extractall(\"//content/drive/MyDrive//00 - Datacamp\")\n",
        "file_ziped.close()"
      ]
    },
    {
      "cell_type": "code",
      "execution_count": 44,
      "metadata": {
        "id": "f276-WJtPWUI"
      },
      "outputs": [],
      "source": [
        ""
      ]
    },
    {
      "cell_type": "code",
      "execution_count": 45,
      "metadata": {
        "id": "UPTNl2TiwlfV"
      },
      "outputs": [],
      "source": [
        "path_data = '/content/drive/MyDrive/00 - Datacamp/terror.csv'\n",
        "df = pd.read_csv(path_data, encoding = \"ISO-8859-1\")"
      ]
    },
    {
      "cell_type": "code",
      "execution_count": 46,
      "metadata": {
        "colab": {
          "base_uri": "https://localhost:8080/",
          "height": 748
        },
        "id": "CE3BVXaNavqJ",
        "outputId": "1052b545-d45a-41bd-b396-49669dfa6ac3"
      },
      "outputs": [
        {
          "output_type": "execute_result",
          "data": {
            "text/plain": [
              "        iyear  iday  imonth  nkill    country_txt  nwound  \\\n",
              "0        1970     1       1    0.0  United States     0.0   \n",
              "1        1970     1       1    0.0  United States     0.0   \n",
              "2        1970     2       1    0.0        Uruguay     0.0   \n",
              "3        1970     2       1    0.0  United States     0.0   \n",
              "4        1970     2       1    0.0  United States     0.0   \n",
              "...       ...   ...     ...    ...            ...     ...   \n",
              "180795   2017    31      12    0.0        Somalia     0.0   \n",
              "180796   2017    31      12   13.0           Iraq     0.0   \n",
              "180797   2017    31      12    5.0    Afghanistan     0.0   \n",
              "180798   2017    31      12   18.0    Afghanistan    14.0   \n",
              "180799   2017    31      12    0.0    Philippines     0.0   \n",
              "\n",
              "                        region_txt    provstate                    city  \\\n",
              "0                    North America     Illinois                   Cairo   \n",
              "1                    North America    Wisconsin                 Baraboo   \n",
              "2                    South America   Montevideo              Montevideo   \n",
              "3                    North America   California                 Oakland   \n",
              "4                    North America    Wisconsin                 Madison   \n",
              "...                            ...          ...                     ...   \n",
              "180795          Sub-Saharan Africa       Bakool                   Wajid   \n",
              "180796  Middle East & North Africa       Diyala              Muqdadiyah   \n",
              "180797                  South Asia        Logar  Mohammad Agha district   \n",
              "180798                  South Asia    Nangarhar               Jalalabad   \n",
              "180799              Southeast Asia  Maguindanao           Cotabato City   \n",
              "\n",
              "        nkillus  ...  targtype2_txt targsubtype2_txt  targtype3_txt  \\\n",
              "0           0.0  ...             ''               ''             ''   \n",
              "1           0.0  ...             ''               ''             ''   \n",
              "2           0.0  ...             ''               ''             ''   \n",
              "3           0.0  ...             ''               ''             ''   \n",
              "4           0.0  ...             ''               ''             ''   \n",
              "...         ...  ...            ...              ...            ...   \n",
              "180795      0.0  ...             ''               ''             ''   \n",
              "180796      0.0  ...             ''               ''             ''   \n",
              "180797      0.0  ...             ''               ''             ''   \n",
              "180798      0.0  ...             ''               ''             ''   \n",
              "180799      0.0  ...             ''               ''             ''   \n",
              "\n",
              "        targsubtype3_txt   claimmode_txt               propextent_txt  \\\n",
              "0                     ''              ''  Minor (likely < $1 million)   \n",
              "1                     ''              ''  Minor (likely < $1 million)   \n",
              "2                     ''              ''                           ''   \n",
              "3                     ''              ''  Minor (likely < $1 million)   \n",
              "4                     ''          Letter  Minor (likely < $1 million)   \n",
              "...                  ...             ...                          ...   \n",
              "180795                ''              ''                           ''   \n",
              "180796                ''              ''                           ''   \n",
              "180797                ''  Personal claim  Minor (likely < $1 million)   \n",
              "180798                ''              ''                           ''   \n",
              "180799                ''              ''                           ''   \n",
              "\n",
              "        propextent  propvalue                  dbsource        date  \n",
              "0              3.0        0.0            Hewitt Project  1970-01-01  \n",
              "1              3.0        0.0                      PGIS  1970-01-01  \n",
              "2              0.0        0.0                      PGIS  1970-01-02  \n",
              "3              3.0    22500.0            Hewitt Project  1970-01-02  \n",
              "4              3.0    60000.0            Hewitt Project  1970-01-02  \n",
              "...            ...        ...                       ...         ...  \n",
              "180795         0.0        0.0  START Primary Collection  2017-12-31  \n",
              "180796         0.0        0.0  START Primary Collection  2017-12-31  \n",
              "180797         3.0      -99.0  START Primary Collection  2017-12-31  \n",
              "180798         0.0        0.0  START Primary Collection  2017-12-31  \n",
              "180799         0.0        0.0  START Primary Collection  2017-12-31  \n",
              "\n",
              "[180800 rows x 50 columns]"
            ],
            "text/html": [
              "\n",
              "  <div id=\"df-c1cd781d-de4b-41ae-939c-9fa23634c5c1\">\n",
              "    <div class=\"colab-df-container\">\n",
              "      <div>\n",
              "<style scoped>\n",
              "    .dataframe tbody tr th:only-of-type {\n",
              "        vertical-align: middle;\n",
              "    }\n",
              "\n",
              "    .dataframe tbody tr th {\n",
              "        vertical-align: top;\n",
              "    }\n",
              "\n",
              "    .dataframe thead th {\n",
              "        text-align: right;\n",
              "    }\n",
              "</style>\n",
              "<table border=\"1\" class=\"dataframe\">\n",
              "  <thead>\n",
              "    <tr style=\"text-align: right;\">\n",
              "      <th></th>\n",
              "      <th>iyear</th>\n",
              "      <th>iday</th>\n",
              "      <th>imonth</th>\n",
              "      <th>nkill</th>\n",
              "      <th>country_txt</th>\n",
              "      <th>nwound</th>\n",
              "      <th>region_txt</th>\n",
              "      <th>provstate</th>\n",
              "      <th>city</th>\n",
              "      <th>nkillus</th>\n",
              "      <th>...</th>\n",
              "      <th>targtype2_txt</th>\n",
              "      <th>targsubtype2_txt</th>\n",
              "      <th>targtype3_txt</th>\n",
              "      <th>targsubtype3_txt</th>\n",
              "      <th>claimmode_txt</th>\n",
              "      <th>propextent_txt</th>\n",
              "      <th>propextent</th>\n",
              "      <th>propvalue</th>\n",
              "      <th>dbsource</th>\n",
              "      <th>date</th>\n",
              "    </tr>\n",
              "  </thead>\n",
              "  <tbody>\n",
              "    <tr>\n",
              "      <th>0</th>\n",
              "      <td>1970</td>\n",
              "      <td>1</td>\n",
              "      <td>1</td>\n",
              "      <td>0.0</td>\n",
              "      <td>United States</td>\n",
              "      <td>0.0</td>\n",
              "      <td>North America</td>\n",
              "      <td>Illinois</td>\n",
              "      <td>Cairo</td>\n",
              "      <td>0.0</td>\n",
              "      <td>...</td>\n",
              "      <td>''</td>\n",
              "      <td>''</td>\n",
              "      <td>''</td>\n",
              "      <td>''</td>\n",
              "      <td>''</td>\n",
              "      <td>Minor (likely &lt; $1 million)</td>\n",
              "      <td>3.0</td>\n",
              "      <td>0.0</td>\n",
              "      <td>Hewitt Project</td>\n",
              "      <td>1970-01-01</td>\n",
              "    </tr>\n",
              "    <tr>\n",
              "      <th>1</th>\n",
              "      <td>1970</td>\n",
              "      <td>1</td>\n",
              "      <td>1</td>\n",
              "      <td>0.0</td>\n",
              "      <td>United States</td>\n",
              "      <td>0.0</td>\n",
              "      <td>North America</td>\n",
              "      <td>Wisconsin</td>\n",
              "      <td>Baraboo</td>\n",
              "      <td>0.0</td>\n",
              "      <td>...</td>\n",
              "      <td>''</td>\n",
              "      <td>''</td>\n",
              "      <td>''</td>\n",
              "      <td>''</td>\n",
              "      <td>''</td>\n",
              "      <td>Minor (likely &lt; $1 million)</td>\n",
              "      <td>3.0</td>\n",
              "      <td>0.0</td>\n",
              "      <td>PGIS</td>\n",
              "      <td>1970-01-01</td>\n",
              "    </tr>\n",
              "    <tr>\n",
              "      <th>2</th>\n",
              "      <td>1970</td>\n",
              "      <td>2</td>\n",
              "      <td>1</td>\n",
              "      <td>0.0</td>\n",
              "      <td>Uruguay</td>\n",
              "      <td>0.0</td>\n",
              "      <td>South America</td>\n",
              "      <td>Montevideo</td>\n",
              "      <td>Montevideo</td>\n",
              "      <td>0.0</td>\n",
              "      <td>...</td>\n",
              "      <td>''</td>\n",
              "      <td>''</td>\n",
              "      <td>''</td>\n",
              "      <td>''</td>\n",
              "      <td>''</td>\n",
              "      <td>''</td>\n",
              "      <td>0.0</td>\n",
              "      <td>0.0</td>\n",
              "      <td>PGIS</td>\n",
              "      <td>1970-01-02</td>\n",
              "    </tr>\n",
              "    <tr>\n",
              "      <th>3</th>\n",
              "      <td>1970</td>\n",
              "      <td>2</td>\n",
              "      <td>1</td>\n",
              "      <td>0.0</td>\n",
              "      <td>United States</td>\n",
              "      <td>0.0</td>\n",
              "      <td>North America</td>\n",
              "      <td>California</td>\n",
              "      <td>Oakland</td>\n",
              "      <td>0.0</td>\n",
              "      <td>...</td>\n",
              "      <td>''</td>\n",
              "      <td>''</td>\n",
              "      <td>''</td>\n",
              "      <td>''</td>\n",
              "      <td>''</td>\n",
              "      <td>Minor (likely &lt; $1 million)</td>\n",
              "      <td>3.0</td>\n",
              "      <td>22500.0</td>\n",
              "      <td>Hewitt Project</td>\n",
              "      <td>1970-01-02</td>\n",
              "    </tr>\n",
              "    <tr>\n",
              "      <th>4</th>\n",
              "      <td>1970</td>\n",
              "      <td>2</td>\n",
              "      <td>1</td>\n",
              "      <td>0.0</td>\n",
              "      <td>United States</td>\n",
              "      <td>0.0</td>\n",
              "      <td>North America</td>\n",
              "      <td>Wisconsin</td>\n",
              "      <td>Madison</td>\n",
              "      <td>0.0</td>\n",
              "      <td>...</td>\n",
              "      <td>''</td>\n",
              "      <td>''</td>\n",
              "      <td>''</td>\n",
              "      <td>''</td>\n",
              "      <td>Letter</td>\n",
              "      <td>Minor (likely &lt; $1 million)</td>\n",
              "      <td>3.0</td>\n",
              "      <td>60000.0</td>\n",
              "      <td>Hewitt Project</td>\n",
              "      <td>1970-01-02</td>\n",
              "    </tr>\n",
              "    <tr>\n",
              "      <th>...</th>\n",
              "      <td>...</td>\n",
              "      <td>...</td>\n",
              "      <td>...</td>\n",
              "      <td>...</td>\n",
              "      <td>...</td>\n",
              "      <td>...</td>\n",
              "      <td>...</td>\n",
              "      <td>...</td>\n",
              "      <td>...</td>\n",
              "      <td>...</td>\n",
              "      <td>...</td>\n",
              "      <td>...</td>\n",
              "      <td>...</td>\n",
              "      <td>...</td>\n",
              "      <td>...</td>\n",
              "      <td>...</td>\n",
              "      <td>...</td>\n",
              "      <td>...</td>\n",
              "      <td>...</td>\n",
              "      <td>...</td>\n",
              "      <td>...</td>\n",
              "    </tr>\n",
              "    <tr>\n",
              "      <th>180795</th>\n",
              "      <td>2017</td>\n",
              "      <td>31</td>\n",
              "      <td>12</td>\n",
              "      <td>0.0</td>\n",
              "      <td>Somalia</td>\n",
              "      <td>0.0</td>\n",
              "      <td>Sub-Saharan Africa</td>\n",
              "      <td>Bakool</td>\n",
              "      <td>Wajid</td>\n",
              "      <td>0.0</td>\n",
              "      <td>...</td>\n",
              "      <td>''</td>\n",
              "      <td>''</td>\n",
              "      <td>''</td>\n",
              "      <td>''</td>\n",
              "      <td>''</td>\n",
              "      <td>''</td>\n",
              "      <td>0.0</td>\n",
              "      <td>0.0</td>\n",
              "      <td>START Primary Collection</td>\n",
              "      <td>2017-12-31</td>\n",
              "    </tr>\n",
              "    <tr>\n",
              "      <th>180796</th>\n",
              "      <td>2017</td>\n",
              "      <td>31</td>\n",
              "      <td>12</td>\n",
              "      <td>13.0</td>\n",
              "      <td>Iraq</td>\n",
              "      <td>0.0</td>\n",
              "      <td>Middle East &amp; North Africa</td>\n",
              "      <td>Diyala</td>\n",
              "      <td>Muqdadiyah</td>\n",
              "      <td>0.0</td>\n",
              "      <td>...</td>\n",
              "      <td>''</td>\n",
              "      <td>''</td>\n",
              "      <td>''</td>\n",
              "      <td>''</td>\n",
              "      <td>''</td>\n",
              "      <td>''</td>\n",
              "      <td>0.0</td>\n",
              "      <td>0.0</td>\n",
              "      <td>START Primary Collection</td>\n",
              "      <td>2017-12-31</td>\n",
              "    </tr>\n",
              "    <tr>\n",
              "      <th>180797</th>\n",
              "      <td>2017</td>\n",
              "      <td>31</td>\n",
              "      <td>12</td>\n",
              "      <td>5.0</td>\n",
              "      <td>Afghanistan</td>\n",
              "      <td>0.0</td>\n",
              "      <td>South Asia</td>\n",
              "      <td>Logar</td>\n",
              "      <td>Mohammad Agha district</td>\n",
              "      <td>0.0</td>\n",
              "      <td>...</td>\n",
              "      <td>''</td>\n",
              "      <td>''</td>\n",
              "      <td>''</td>\n",
              "      <td>''</td>\n",
              "      <td>Personal claim</td>\n",
              "      <td>Minor (likely &lt; $1 million)</td>\n",
              "      <td>3.0</td>\n",
              "      <td>-99.0</td>\n",
              "      <td>START Primary Collection</td>\n",
              "      <td>2017-12-31</td>\n",
              "    </tr>\n",
              "    <tr>\n",
              "      <th>180798</th>\n",
              "      <td>2017</td>\n",
              "      <td>31</td>\n",
              "      <td>12</td>\n",
              "      <td>18.0</td>\n",
              "      <td>Afghanistan</td>\n",
              "      <td>14.0</td>\n",
              "      <td>South Asia</td>\n",
              "      <td>Nangarhar</td>\n",
              "      <td>Jalalabad</td>\n",
              "      <td>0.0</td>\n",
              "      <td>...</td>\n",
              "      <td>''</td>\n",
              "      <td>''</td>\n",
              "      <td>''</td>\n",
              "      <td>''</td>\n",
              "      <td>''</td>\n",
              "      <td>''</td>\n",
              "      <td>0.0</td>\n",
              "      <td>0.0</td>\n",
              "      <td>START Primary Collection</td>\n",
              "      <td>2017-12-31</td>\n",
              "    </tr>\n",
              "    <tr>\n",
              "      <th>180799</th>\n",
              "      <td>2017</td>\n",
              "      <td>31</td>\n",
              "      <td>12</td>\n",
              "      <td>0.0</td>\n",
              "      <td>Philippines</td>\n",
              "      <td>0.0</td>\n",
              "      <td>Southeast Asia</td>\n",
              "      <td>Maguindanao</td>\n",
              "      <td>Cotabato City</td>\n",
              "      <td>0.0</td>\n",
              "      <td>...</td>\n",
              "      <td>''</td>\n",
              "      <td>''</td>\n",
              "      <td>''</td>\n",
              "      <td>''</td>\n",
              "      <td>''</td>\n",
              "      <td>''</td>\n",
              "      <td>0.0</td>\n",
              "      <td>0.0</td>\n",
              "      <td>START Primary Collection</td>\n",
              "      <td>2017-12-31</td>\n",
              "    </tr>\n",
              "  </tbody>\n",
              "</table>\n",
              "<p>180800 rows × 50 columns</p>\n",
              "</div>\n",
              "      <button class=\"colab-df-convert\" onclick=\"convertToInteractive('df-c1cd781d-de4b-41ae-939c-9fa23634c5c1')\"\n",
              "              title=\"Convert this dataframe to an interactive table.\"\n",
              "              style=\"display:none;\">\n",
              "        \n",
              "  <svg xmlns=\"http://www.w3.org/2000/svg\" height=\"24px\"viewBox=\"0 0 24 24\"\n",
              "       width=\"24px\">\n",
              "    <path d=\"M0 0h24v24H0V0z\" fill=\"none\"/>\n",
              "    <path d=\"M18.56 5.44l.94 2.06.94-2.06 2.06-.94-2.06-.94-.94-2.06-.94 2.06-2.06.94zm-11 1L8.5 8.5l.94-2.06 2.06-.94-2.06-.94L8.5 2.5l-.94 2.06-2.06.94zm10 10l.94 2.06.94-2.06 2.06-.94-2.06-.94-.94-2.06-.94 2.06-2.06.94z\"/><path d=\"M17.41 7.96l-1.37-1.37c-.4-.4-.92-.59-1.43-.59-.52 0-1.04.2-1.43.59L10.3 9.45l-7.72 7.72c-.78.78-.78 2.05 0 2.83L4 21.41c.39.39.9.59 1.41.59.51 0 1.02-.2 1.41-.59l7.78-7.78 2.81-2.81c.8-.78.8-2.07 0-2.86zM5.41 20L4 18.59l7.72-7.72 1.47 1.35L5.41 20z\"/>\n",
              "  </svg>\n",
              "      </button>\n",
              "      \n",
              "  <style>\n",
              "    .colab-df-container {\n",
              "      display:flex;\n",
              "      flex-wrap:wrap;\n",
              "      gap: 12px;\n",
              "    }\n",
              "\n",
              "    .colab-df-convert {\n",
              "      background-color: #E8F0FE;\n",
              "      border: none;\n",
              "      border-radius: 50%;\n",
              "      cursor: pointer;\n",
              "      display: none;\n",
              "      fill: #1967D2;\n",
              "      height: 32px;\n",
              "      padding: 0 0 0 0;\n",
              "      width: 32px;\n",
              "    }\n",
              "\n",
              "    .colab-df-convert:hover {\n",
              "      background-color: #E2EBFA;\n",
              "      box-shadow: 0px 1px 2px rgba(60, 64, 67, 0.3), 0px 1px 3px 1px rgba(60, 64, 67, 0.15);\n",
              "      fill: #174EA6;\n",
              "    }\n",
              "\n",
              "    [theme=dark] .colab-df-convert {\n",
              "      background-color: #3B4455;\n",
              "      fill: #D2E3FC;\n",
              "    }\n",
              "\n",
              "    [theme=dark] .colab-df-convert:hover {\n",
              "      background-color: #434B5C;\n",
              "      box-shadow: 0px 1px 3px 1px rgba(0, 0, 0, 0.15);\n",
              "      filter: drop-shadow(0px 1px 2px rgba(0, 0, 0, 0.3));\n",
              "      fill: #FFFFFF;\n",
              "    }\n",
              "  </style>\n",
              "\n",
              "      <script>\n",
              "        const buttonEl =\n",
              "          document.querySelector('#df-c1cd781d-de4b-41ae-939c-9fa23634c5c1 button.colab-df-convert');\n",
              "        buttonEl.style.display =\n",
              "          google.colab.kernel.accessAllowed ? 'block' : 'none';\n",
              "\n",
              "        async function convertToInteractive(key) {\n",
              "          const element = document.querySelector('#df-c1cd781d-de4b-41ae-939c-9fa23634c5c1');\n",
              "          const dataTable =\n",
              "            await google.colab.kernel.invokeFunction('convertToInteractive',\n",
              "                                                     [key], {});\n",
              "          if (!dataTable) return;\n",
              "\n",
              "          const docLinkHtml = 'Like what you see? Visit the ' +\n",
              "            '<a target=\"_blank\" href=https://colab.research.google.com/notebooks/data_table.ipynb>data table notebook</a>'\n",
              "            + ' to learn more about interactive tables.';\n",
              "          element.innerHTML = '';\n",
              "          dataTable['output_type'] = 'display_data';\n",
              "          await google.colab.output.renderOutput(dataTable, element);\n",
              "          const docLink = document.createElement('div');\n",
              "          docLink.innerHTML = docLinkHtml;\n",
              "          element.appendChild(docLink);\n",
              "        }\n",
              "      </script>\n",
              "    </div>\n",
              "  </div>\n",
              "  "
            ]
          },
          "metadata": {},
          "execution_count": 46
        }
      ],
      "source": [
        "df"
      ]
    },
    {
      "cell_type": "code",
      "execution_count": 47,
      "metadata": {
        "colab": {
          "base_uri": "https://localhost:8080/"
        },
        "id": "v8V6NgnQArKT",
        "outputId": "20d4c488-c3cc-4e08-b127-0697620378d7"
      },
      "outputs": [
        {
          "output_type": "execute_result",
          "data": {
            "text/plain": [
              "(180800, 50)"
            ]
          },
          "metadata": {},
          "execution_count": 47
        }
      ],
      "source": [
        "df.shape"
      ]
    },
    {
      "cell_type": "code",
      "execution_count": 48,
      "metadata": {
        "colab": {
          "base_uri": "https://localhost:8080/"
        },
        "id": "4rZoyeIo__Fa",
        "outputId": "eedd6003-2c1d-4381-af25-04b7f7c628d0"
      },
      "outputs": [
        {
          "output_type": "execute_result",
          "data": {
            "text/plain": [
              "iyear                 0\n",
              "weapsubtype4_txt      0\n",
              "gname                 0\n",
              "natlty1_txt           0\n",
              "kidhijcountry         0\n",
              "weaptype1_txt         0\n",
              "weapsubtype1_txt      0\n",
              "weaptype2_txt         0\n",
              "weapsubtype2_txt      0\n",
              "weaptype3_txt         0\n",
              "weapsubtype3_txt      0\n",
              "weaptype4_txt         0\n",
              "targtype1_txt         0\n",
              "iday                  0\n",
              "targsubtype1_txt      0\n",
              "targtype2_txt         0\n",
              "targsubtype2_txt      0\n",
              "targtype3_txt         0\n",
              "targsubtype3_txt      0\n",
              "claimmode_txt         0\n",
              "propextent_txt        0\n",
              "propextent            0\n",
              "propvalue             0\n",
              "dbsource              0\n",
              "motive                0\n",
              "summary               0\n",
              "nhostkidus            0\n",
              "ransompaidus          0\n",
              "imonth                0\n",
              "nkill                 0\n",
              "country_txt           0\n",
              "nwound                0\n",
              "region_txt            0\n",
              "provstate             0\n",
              "city                  0\n",
              "nkillus               0\n",
              "nwoundus              0\n",
              "region_txt.1          0\n",
              "latitude              0\n",
              "longitude             0\n",
              "attacktype1_txt       0\n",
              "alternative_txt       0\n",
              "suicide               0\n",
              "ransompaid            0\n",
              "nhostkid              0\n",
              "hostkidoutcome_txt    0\n",
              "ransomnote            0\n",
              "nhours                0\n",
              "ndays                 0\n",
              "date                  0\n",
              "dtype: int64"
            ]
          },
          "metadata": {},
          "execution_count": 48
        }
      ],
      "source": [
        "df.isnull().sum().sort_values(ascending=False).head(50)"
      ]
    },
    {
      "cell_type": "code",
      "execution_count": 49,
      "metadata": {
        "colab": {
          "base_uri": "https://localhost:8080/"
        },
        "id": "ItG6-hxPu5GF",
        "outputId": "af64aa4b-3a23-4d90-b989-7841ddf3f179"
      },
      "outputs": [
        {
          "output_type": "execute_result",
          "data": {
            "text/plain": [
              "['iyear',\n",
              " 'iday',\n",
              " 'imonth',\n",
              " 'nkill',\n",
              " 'country_txt',\n",
              " 'nwound',\n",
              " 'region_txt',\n",
              " 'provstate',\n",
              " 'city',\n",
              " 'nkillus',\n",
              " 'nwoundus',\n",
              " 'region_txt.1',\n",
              " 'latitude',\n",
              " 'longitude',\n",
              " 'attacktype1_txt',\n",
              " 'alternative_txt',\n",
              " 'suicide',\n",
              " 'ransompaid',\n",
              " 'nhostkid',\n",
              " 'hostkidoutcome_txt',\n",
              " 'ransomnote',\n",
              " 'nhours',\n",
              " 'ndays',\n",
              " 'ransompaidus',\n",
              " 'nhostkidus',\n",
              " 'summary',\n",
              " 'motive',\n",
              " 'gname',\n",
              " 'natlty1_txt',\n",
              " 'kidhijcountry',\n",
              " 'weaptype1_txt',\n",
              " 'weapsubtype1_txt',\n",
              " 'weaptype2_txt',\n",
              " 'weapsubtype2_txt',\n",
              " 'weaptype3_txt',\n",
              " 'weapsubtype3_txt',\n",
              " 'weaptype4_txt',\n",
              " 'weapsubtype4_txt',\n",
              " 'targtype1_txt',\n",
              " 'targsubtype1_txt',\n",
              " 'targtype2_txt',\n",
              " 'targsubtype2_txt',\n",
              " 'targtype3_txt',\n",
              " 'targsubtype3_txt',\n",
              " 'claimmode_txt',\n",
              " 'propextent_txt',\n",
              " 'propextent',\n",
              " 'propvalue',\n",
              " 'dbsource',\n",
              " 'date']"
            ]
          },
          "metadata": {},
          "execution_count": 49
        }
      ],
      "source": [
        "list(df.columns)"
      ]
    },
    {
      "cell_type": "markdown",
      "metadata": {
        "id": "JXneDoTU2-Wf"
      },
      "source": [
        "1. Nombre de morts d'africains par régions et par années\n",
        "2. Nombre d'africains blessés par régions et par années\n",
        "3. Evolution annuelle du nombre de morts par pays africains"
      ]
    },
    {
      "cell_type": "code",
      "execution_count": 50,
      "metadata": {
        "id": "CvB-HoB3fZAx"
      },
      "outputs": [],
      "source": [
        "df_africa_sub_sahara = df[df[\"region_txt\"] == \"Sub-Saharan Africa\"]"
      ]
    },
    {
      "cell_type": "code",
      "execution_count": 51,
      "metadata": {
        "id": "4uYf_c4KhKPy"
      },
      "outputs": [],
      "source": [
        "df_africa_sub_sahara = df[df[\"region_txt\"] == \"Sub-Saharan Africa\"]\n",
        "df_africa_north = df[df[\"region_txt\"] == \"Middle East & North Africa\"]\n",
        "df_africa = df_africa_sub_sahara.append(df_africa_north)\n",
        "\n",
        "hors_africa = ['Jordan', 'Turkey', 'Iran', 'South Yemen', 'Israel', 'Kuwait',\n",
        "               'West Bank and Gaza Strip',  'North Yemen', 'Syria',  'United Arab Emirates',\n",
        "               'Iraq', 'Saudi Arabia', 'Bahrain', 'Qatar', 'Yemen', 'International']\n",
        "\n",
        "index_hors_africa = []\n",
        "for pays in hors_africa:\n",
        "    idx = df_africa.index[df_africa['country_txt'] == pays].tolist()\n",
        "    index_hors_africa = index_hors_africa + idx\n",
        "\n",
        "df_africa.drop(index=index_hors_africa, inplace=True)"
      ]
    },
    {
      "cell_type": "markdown",
      "source": [
        "## Visualiser le nombre d’africains morts du terrorisme par région et par année"
      ],
      "metadata": {
        "id": "DSZJTPC6S3I8"
      }
    },
    {
      "cell_type": "code",
      "execution_count": 57,
      "metadata": {
        "id": "au5Ax_eKusJX"
      },
      "outputs": [],
      "source": [
        "df_africa = df_africa.groupby(['country_txt', 'iyear']).sum(\"nkill\").reset_index()"
      ]
    },
    {
      "cell_type": "code",
      "execution_count": 91,
      "metadata": {
        "colab": {
          "base_uri": "https://localhost:8080/",
          "height": 542
        },
        "id": "H5zb8XMmzm54",
        "outputId": "30cd9ecf-692b-48c7-b3f2-5c5f13c10553"
      },
      "outputs": [
        {
          "output_type": "display_data",
          "data": {
            "text/html": [
              "<html>\n",
              "<head><meta charset=\"utf-8\" /></head>\n",
              "<body>\n",
              "    <div>            <script src=\"https://cdnjs.cloudflare.com/ajax/libs/mathjax/2.7.5/MathJax.js?config=TeX-AMS-MML_SVG\"></script><script type=\"text/javascript\">if (window.MathJax) {MathJax.Hub.Config({SVG: {font: \"STIX-Web\"}});}</script>                <script type=\"text/javascript\">window.PlotlyConfig = {MathJaxConfig: 'local'};</script>\n",
              "        <script src=\"https://cdn.plot.ly/plotly-2.8.3.min.js\"></script>                <div id=\"04875fda-26f2-4de1-8803-873fabd98409\" class=\"plotly-graph-div\" style=\"height:525px; width:100%;\"></div>            <script type=\"text/javascript\">                                    window.PLOTLYENV=window.PLOTLYENV || {};                                    if (document.getElementById(\"04875fda-26f2-4de1-8803-873fabd98409\")) {                    Plotly.newPlot(                        \"04875fda-26f2-4de1-8803-873fabd98409\",                        [{\"alignmentgroup\":\"True\",\"hovertemplate\":\"country_txt=%{x}<br>nkill=%{marker.color}<extra></extra>\",\"legendgroup\":\"\",\"marker\":{\"color\":[0.0,0.0,0.0,0.0,3.0,42.0,236.0,500.0,418.0,529.0,4188.0,940.0,445.0,519.0,579.0,615.0,259.0,166.0,228.0,164.0,240.0,246.0,193.0,101.0,25.0,30.0,101.0,37.0,21.0,9.0,12.0,0.0,1.0,3.0,2.0,282.0,179.0,6.0,119.0,5.0,145.0,88.0,147.0,69.0,84.0,108.0,52.0,18.0,34.0,275.0,299.0,171.0,844.0,59.0,2.0,4.0,0.0,7.0,0.0,0.0,0.0,0.0,0.0,1.0,0.0,3.0,1.0,0.0,6.0,0.0,1.0,1.0,16.0,62.0,53.0,117.0,61.0,265.0,583.0,1371.0,386.0,392.0,108.0,90.0,166.0,65.0,116.0,18.0,13.0,21.0,3.0,28.0,14.0,47.0,6.0,5.0,4.0,223.0,74.0,20.0,36.0,6.0,33.0,5.0,0.0,31.0,3.0,0.0,5.0,4.0,7.0,789.0,931.0,269.0,228.0,3.0,0.0,3.0,1.0,2.0,2.0,1.0,7.0,4.0,1.0,1.0,38.0,46.0,35.0,14.0,120.0,751.0,171.0,189.0,601.0,0.0,0.0,0.0,0.0,40.0,170.0,1.0,0.0,1.0,2.0,0.0,77.0,21.0,103.0,136.0,172.0,0.0,0.0,6.0,306.0,22.0,62.0,1.0,0.0,0.0,8.0,67.0,7.0,40.0,15.0,16.0,89.0,22.0,31.0,23.0,72.0,319.0,824.0,99.0,50.0,288.0,150.0,366.0,371.0,532.0,596.0,1.0,4.0,10.0,0.0,1.0,8.0,228.0,6.0,0.0,11.0,0.0,5.0,0.0,0.0,0.0,1.0,0.0,1.0,2.0,1.0,1.0,67.0,0.0,2.0,12.0,1.0,1.0,1.0,21.0,8.0,49.0,173.0,134.0,97.0,165.0,9.0,1.0,37.0,92.0,19.0,0.0,1.0,0.0,28.0,44.0,243.0,343.0,829.0,609.0,877.0,1.0,1.0,0.0,6.0,0.0,4.0,2.0,17.0,1.0,0.0,0.0,3.0,0.0,0.0,5.0,25.0,101.0,0.0,200.0,0.0,40.0,0.0,0.0,1.0,17.0,161.0,330.0,6.0,5.0,133.0,8.0,2.0,3.0,1.0,2.0,1.0,9.0,12.0,204.0,27.0,13.0,8.0,1.0,25.0,17.0,9.0,48.0,279.0,67.0,2.0,0.0,0.0,4.0,0.0,13.0,0.0,0.0,0.0,0.0,13.0,2.0,3.0,1.0,0.0,0.0,1.0,0.0,2.0,2.0,203.0,0.0,0.0,1.0,1.0,0.0,1.0,3.0,11.0,1.0,1.0,1.0,5.0,40.0,5.0,0.0,4.0,12.0,3.0,12.0,41.0,20.0,0.0,10.0,23.0,45.0,4.0,4.0,14.0,22.0,3.0,27.0,0.0,4.0,15.0,4.0,0.0,155.0,40.0,2.0,2.0,36.0,226.0,26.0,13.0,16.0,3.0,56.0,18.0,33.0,103.0,0.0,19.0,42.0,107.0,207.0,315.0,281.0,72.0,126.0,0.0,0.0,0.0,4.0,0.0,28.0,4.0,3.0,107.0,33.0,90.0,264.0,231.0,609.0,60.0,644.0,246.0,178.0,176.0,113.0,113.0,96.0,79.0,57.0,35.0,57.0,36.0,17.0,23.0,12.0,0.0,2.0,3.0,1.0,22.0,17.0,40.0,142.0,17.0,2.0,1.0,9.0,190.0,134.0,111.0,25.0,17.0,0.0,10.0,0.0,30.0,1.0,4.0,0.0,0.0,0.0,1.0,2.0,0.0,37.0,110.0,10.0,0.0,0.0,1.0,3.0,2.0,12.0,0.0,0.0,0.0,0.0,0.0,15.0,0.0,0.0,12.0,0.0,0.0,0.0,33.0,232.0,694.0,689.0,634.0,289.0,4.0,16.0,4.0,1.0,0.0,0.0,0.0,2.0,0.0,0.0,0.0,1.0,3.0,32.0,1.0,0.0,14.0,43.0,5.0,131.0,2.0,0.0,0.0,20.0,55.0,30.0,1.0,5.0,53.0,137.0,125.0,269.0,181.0,361.0,4.0,0.0,0.0,23.0,12.0,2.0,1.0,1.0,0.0,0.0,10.0,0.0,0.0,2.0,200.0,3.0,2.0,0.0,0.0,0.0,45.0,13.0,17.0,0.0,2.0,34.0,6.0,18.0,5.0,50.0,8.0,470.0,468.0,145.0,710.0,185.0,271.0,155.0,0.0,15.0,0.0,1.0,6.0,1.0,37.0,22.0,12.0,62.0,22.0,1.0,3.0,2.0,32.0,1.0,2.0,4.0,24.0,74.0,5.0,2.0,25.0,1.0,0.0,3.0,0.0,13.0,24.0,1.0,3.0,171.0,8.0,34.0,53.0,22.0,2.0,32.0,4.0,66.0,6.0,18.0,9.0,4.0,1.0,26.0,11.0,666.0,190.0,148.0,3.0,0.0,1.0,4.0,10.0,135.0,15.0,1.0,24.0,107.0,9.0,134.0,0.0,3.0,28.0,28.0,41.0,19.0,254.0,82.0,72.0,316.0,117.0,447.0,1508.0,2014.0,7781.0,5559.0,2165.0,1805.0,0.0,0.0,15.0,0.0,12.0,0.0,2.0,107.0,0.0,17.0,11.0,2.0,31.0,73.0,110.0,24.0,0.0,141.0,1571.0,201.0,129.0,1027.0,100.0,4.0,2.0,30.0,0.0,4.0,6.0,2.0,10.0,6.0,1.0,0.0,2.0,0.0,2.0,20.0,5.0,64.0,5.0,18.0,92.0,4.0,1.0,4.0,28.0,8.0,0.0,1.0,10.0,9.0,3.0,21.0,16.0,7.0,7.0,0.0,0.0,128.0,21.0,228.0,40.0,58.0,16.0,258.0,28.0,60.0,1.0,0.0,0.0,0.0,0.0,0.0,0.0,0.0,30.0,5.0,6.0,8.0,78.0,29.0,28.0,145.0,0.0,6.0,36.0,3.0,6.0,7.0,2.0,20.0,22.0,408.0,436.0,381.0,295.0,337.0,783.0,660.0,1589.0,1447.0,1583.0,1912.0,0.0,2.0,5.0,6.0,8.0,17.0,8.0,9.0,28.0,21.0,82.0,153.0,120.0,152.0,57.0,150.0,384.0,706.0,447.0,105.0,82.0,23.0,13.0,4.0,18.0,1.0,1.0,0.0,5.0,2.0,9.0,5.0,21.0,21.0,68.0,226.0,908.0,218.0,633.0,581.0,3.0,2.0,0.0,0.0,305.0,8.0,0.0,58.0,14.0,0.0,32.0,13.0,17.0,6.0,40.0,1.0,16.0,23.0,13.0,565.0,28.0,54.0,484.0,317.0,205.0,77.0,80.0,189.0,60.0,220.0,546.0,210.0,182.0,82.0,0.0,1.0,0.0,4.0,0.0,0.0,0.0,0.0,0.0,1.0,0.0,0.0,0.0,0.0,0.0,1.0,0.0,1.0,0.0,1.0,11.0,0.0,2.0,24.0,0.0,0.0,0.0,8.0,4.0,10.0,3.0,8.0,1.0,13.0,12.0,47.0,0.0,3.0,0.0,0.0,41.0,0.0,0.0,4.0,1.0,7.0,5.0,3.0,21.0,14.0,0.0,4.0,4.0,25.0,43.0,103.0,71.0,5.0,13.0,53.0,0.0,113.0,235.0,32.0,1.0,1.0,160.0,72.0,84.0,2.0,2.0,22.0,145.0,413.0,239.0,81.0,75.0,297.0,56.0,173.0,231.0,193.0,80.0,2.0,3.0,11.0,75.0,5.0,98.0,4.0,75.0,7.0,0.0,0.0,1.0,0.0,0.0,0.0,0.0,1.0,2.0,28.0,3.0,2.0,1.0,43.0,223.0,13.0,1.0,2.0,1.0,1.0,0.0,0.0,0.0,0.0,2.0,0.0,9.0,33.0,20.0,0.0,0.0,1.0,0.0,0.0,0.0,13.0,13.0,22.0,11.0,4.0,5.0,1.0,35.0,2.0,21.0,9.0,0.0,0.0,0.0,0.0,0.0,0.0,8.0,0.0,0.0,0.0,7.0,1.0,0.0,1.0,0.0,0.0],\"coloraxis\":\"coloraxis\",\"pattern\":{\"shape\":\"\"}},\"name\":\"\",\"offsetgroup\":\"\",\"orientation\":\"v\",\"showlegend\":false,\"textposition\":\"auto\",\"x\":[\"Algeria\",\"Algeria\",\"Algeria\",\"Algeria\",\"Algeria\",\"Algeria\",\"Algeria\",\"Algeria\",\"Algeria\",\"Algeria\",\"Algeria\",\"Algeria\",\"Algeria\",\"Algeria\",\"Algeria\",\"Algeria\",\"Algeria\",\"Algeria\",\"Algeria\",\"Algeria\",\"Algeria\",\"Algeria\",\"Algeria\",\"Algeria\",\"Algeria\",\"Algeria\",\"Algeria\",\"Algeria\",\"Algeria\",\"Algeria\",\"Algeria\",\"Angola\",\"Angola\",\"Angola\",\"Angola\",\"Angola\",\"Angola\",\"Angola\",\"Angola\",\"Angola\",\"Angola\",\"Angola\",\"Angola\",\"Angola\",\"Angola\",\"Angola\",\"Angola\",\"Angola\",\"Angola\",\"Angola\",\"Angola\",\"Angola\",\"Angola\",\"Angola\",\"Angola\",\"Angola\",\"Angola\",\"Angola\",\"Benin\",\"Benin\",\"Benin\",\"Benin\",\"Benin\",\"Botswana\",\"Botswana\",\"Botswana\",\"Botswana\",\"Botswana\",\"Botswana\",\"Botswana\",\"Burkina Faso\",\"Burkina Faso\",\"Burkina Faso\",\"Burkina Faso\",\"Burkina Faso\",\"Burundi\",\"Burundi\",\"Burundi\",\"Burundi\",\"Burundi\",\"Burundi\",\"Burundi\",\"Burundi\",\"Burundi\",\"Burundi\",\"Burundi\",\"Burundi\",\"Burundi\",\"Burundi\",\"Burundi\",\"Burundi\",\"Burundi\",\"Burundi\",\"Burundi\",\"Burundi\",\"Burundi\",\"Burundi\",\"Burundi\",\"Burundi\",\"Burundi\",\"Cameroon\",\"Cameroon\",\"Cameroon\",\"Cameroon\",\"Cameroon\",\"Cameroon\",\"Cameroon\",\"Cameroon\",\"Cameroon\",\"Cameroon\",\"Cameroon\",\"Cameroon\",\"Cameroon\",\"Cameroon\",\"Cameroon\",\"Central African Republic\",\"Central African Republic\",\"Central African Republic\",\"Central African Republic\",\"Central African Republic\",\"Central African Republic\",\"Central African Republic\",\"Central African Republic\",\"Central African Republic\",\"Central African Republic\",\"Central African Republic\",\"Central African Republic\",\"Central African Republic\",\"Central African Republic\",\"Central African Republic\",\"Central African Republic\",\"Central African Republic\",\"Central African Republic\",\"Central African Republic\",\"Central African Republic\",\"Chad\",\"Chad\",\"Chad\",\"Chad\",\"Chad\",\"Chad\",\"Chad\",\"Chad\",\"Chad\",\"Chad\",\"Chad\",\"Chad\",\"Chad\",\"Chad\",\"Chad\",\"Chad\",\"Chad\",\"Chad\",\"Chad\",\"Chad\",\"Chad\",\"Chad\",\"Comoros\",\"Comoros\",\"Comoros\",\"Democratic Republic of the Congo\",\"Democratic Republic of the Congo\",\"Democratic Republic of the Congo\",\"Democratic Republic of the Congo\",\"Democratic Republic of the Congo\",\"Democratic Republic of the Congo\",\"Democratic Republic of the Congo\",\"Democratic Republic of the Congo\",\"Democratic Republic of the Congo\",\"Democratic Republic of the Congo\",\"Democratic Republic of the Congo\",\"Democratic Republic of the Congo\",\"Democratic Republic of the Congo\",\"Democratic Republic of the Congo\",\"Democratic Republic of the Congo\",\"Democratic Republic of the Congo\",\"Democratic Republic of the Congo\",\"Democratic Republic of the Congo\",\"Democratic Republic of the Congo\",\"Democratic Republic of the Congo\",\"Democratic Republic of the Congo\",\"Djibouti\",\"Djibouti\",\"Djibouti\",\"Djibouti\",\"Djibouti\",\"Djibouti\",\"Djibouti\",\"Djibouti\",\"Djibouti\",\"Djibouti\",\"Djibouti\",\"Djibouti\",\"Djibouti\",\"Djibouti\",\"Egypt\",\"Egypt\",\"Egypt\",\"Egypt\",\"Egypt\",\"Egypt\",\"Egypt\",\"Egypt\",\"Egypt\",\"Egypt\",\"Egypt\",\"Egypt\",\"Egypt\",\"Egypt\",\"Egypt\",\"Egypt\",\"Egypt\",\"Egypt\",\"Egypt\",\"Egypt\",\"Egypt\",\"Egypt\",\"Egypt\",\"Egypt\",\"Egypt\",\"Egypt\",\"Egypt\",\"Egypt\",\"Egypt\",\"Egypt\",\"Egypt\",\"Egypt\",\"Egypt\",\"Egypt\",\"Egypt\",\"Egypt\",\"Equatorial Guinea\",\"Equatorial Guinea\",\"Eritrea\",\"Eritrea\",\"Eritrea\",\"Eritrea\",\"Eritrea\",\"Eritrea\",\"Ethiopia\",\"Ethiopia\",\"Ethiopia\",\"Ethiopia\",\"Ethiopia\",\"Ethiopia\",\"Ethiopia\",\"Ethiopia\",\"Ethiopia\",\"Ethiopia\",\"Ethiopia\",\"Ethiopia\",\"Ethiopia\",\"Ethiopia\",\"Ethiopia\",\"Ethiopia\",\"Ethiopia\",\"Ethiopia\",\"Ethiopia\",\"Ethiopia\",\"Ethiopia\",\"Ethiopia\",\"Ethiopia\",\"Ethiopia\",\"Ethiopia\",\"Ethiopia\",\"Ethiopia\",\"Ethiopia\",\"Ethiopia\",\"Ethiopia\",\"Ethiopia\",\"Ethiopia\",\"Ethiopia\",\"Ethiopia\",\"Ethiopia\",\"Ethiopia\",\"Ethiopia\",\"Ethiopia\",\"Ethiopia\",\"Ethiopia\",\"Ethiopia\",\"Gabon\",\"Gabon\",\"Gabon\",\"Gabon\",\"Gabon\",\"Gambia\",\"Gambia\",\"Gambia\",\"Ghana\",\"Ghana\",\"Ghana\",\"Ghana\",\"Ghana\",\"Ghana\",\"Ghana\",\"Ghana\",\"Guinea\",\"Guinea\",\"Guinea\",\"Guinea\",\"Guinea\",\"Guinea\",\"Guinea\",\"Guinea\",\"Guinea\",\"Guinea-Bissau\",\"Guinea-Bissau\",\"Guinea-Bissau\",\"Guinea-Bissau\",\"Guinea-Bissau\",\"Guinea-Bissau\",\"Ivory Coast\",\"Ivory Coast\",\"Ivory Coast\",\"Ivory Coast\",\"Ivory Coast\",\"Ivory Coast\",\"Ivory Coast\",\"Ivory Coast\",\"Ivory Coast\",\"Ivory Coast\",\"Ivory Coast\",\"Ivory Coast\",\"Ivory Coast\",\"Ivory Coast\",\"Ivory Coast\",\"Ivory Coast\",\"Ivory Coast\",\"Ivory Coast\",\"Ivory Coast\",\"Ivory Coast\",\"Kenya\",\"Kenya\",\"Kenya\",\"Kenya\",\"Kenya\",\"Kenya\",\"Kenya\",\"Kenya\",\"Kenya\",\"Kenya\",\"Kenya\",\"Kenya\",\"Kenya\",\"Kenya\",\"Kenya\",\"Kenya\",\"Kenya\",\"Kenya\",\"Kenya\",\"Kenya\",\"Kenya\",\"Kenya\",\"Kenya\",\"Kenya\",\"Kenya\",\"Kenya\",\"Kenya\",\"Kenya\",\"Kenya\",\"Lebanon\",\"Lebanon\",\"Lebanon\",\"Lebanon\",\"Lebanon\",\"Lebanon\",\"Lebanon\",\"Lebanon\",\"Lebanon\",\"Lebanon\",\"Lebanon\",\"Lebanon\",\"Lebanon\",\"Lebanon\",\"Lebanon\",\"Lebanon\",\"Lebanon\",\"Lebanon\",\"Lebanon\",\"Lebanon\",\"Lebanon\",\"Lebanon\",\"Lebanon\",\"Lebanon\",\"Lebanon\",\"Lebanon\",\"Lebanon\",\"Lebanon\",\"Lebanon\",\"Lebanon\",\"Lebanon\",\"Lebanon\",\"Lebanon\",\"Lebanon\",\"Lebanon\",\"Lebanon\",\"Lebanon\",\"Lebanon\",\"Lebanon\",\"Lebanon\",\"Lebanon\",\"Lebanon\",\"Lebanon\",\"Lebanon\",\"Lebanon\",\"Lebanon\",\"Lebanon\",\"Lesotho\",\"Lesotho\",\"Lesotho\",\"Lesotho\",\"Lesotho\",\"Lesotho\",\"Lesotho\",\"Lesotho\",\"Lesotho\",\"Lesotho\",\"Liberia\",\"Liberia\",\"Liberia\",\"Liberia\",\"Liberia\",\"Liberia\",\"Liberia\",\"Liberia\",\"Liberia\",\"Liberia\",\"Liberia\",\"Liberia\",\"Liberia\",\"Liberia\",\"Libya\",\"Libya\",\"Libya\",\"Libya\",\"Libya\",\"Libya\",\"Libya\",\"Libya\",\"Libya\",\"Libya\",\"Libya\",\"Libya\",\"Libya\",\"Libya\",\"Libya\",\"Madagascar\",\"Madagascar\",\"Madagascar\",\"Madagascar\",\"Madagascar\",\"Madagascar\",\"Madagascar\",\"Madagascar\",\"Madagascar\",\"Madagascar\",\"Madagascar\",\"Madagascar\",\"Madagascar\",\"Malawi\",\"Malawi\",\"Malawi\",\"Mali\",\"Mali\",\"Mali\",\"Mali\",\"Mali\",\"Mali\",\"Mali\",\"Mali\",\"Mali\",\"Mali\",\"Mali\",\"Mali\",\"Mali\",\"Mali\",\"Mali\",\"Mali\",\"Mali\",\"Mali\",\"Mauritania\",\"Mauritania\",\"Mauritania\",\"Mauritania\",\"Mauritania\",\"Mauritania\",\"Mauritania\",\"Mauritania\",\"Morocco\",\"Morocco\",\"Morocco\",\"Morocco\",\"Morocco\",\"Morocco\",\"Morocco\",\"Morocco\",\"Morocco\",\"Morocco\",\"Morocco\",\"Morocco\",\"Morocco\",\"Morocco\",\"Morocco\",\"Morocco\",\"Mozambique\",\"Mozambique\",\"Mozambique\",\"Mozambique\",\"Mozambique\",\"Mozambique\",\"Mozambique\",\"Mozambique\",\"Mozambique\",\"Mozambique\",\"Mozambique\",\"Mozambique\",\"Mozambique\",\"Mozambique\",\"Mozambique\",\"Mozambique\",\"Mozambique\",\"Mozambique\",\"Mozambique\",\"Mozambique\",\"Mozambique\",\"Mozambique\",\"Mozambique\",\"Mozambique\",\"Mozambique\",\"Namibia\",\"Namibia\",\"Namibia\",\"Namibia\",\"Namibia\",\"Namibia\",\"Namibia\",\"Namibia\",\"Namibia\",\"Namibia\",\"Namibia\",\"Namibia\",\"Namibia\",\"Namibia\",\"Namibia\",\"Namibia\",\"Namibia\",\"Namibia\",\"Namibia\",\"Niger\",\"Niger\",\"Niger\",\"Niger\",\"Niger\",\"Niger\",\"Niger\",\"Niger\",\"Niger\",\"Niger\",\"Niger\",\"Niger\",\"Niger\",\"Niger\",\"Niger\",\"Niger\",\"Niger\",\"Niger\",\"Niger\",\"Niger\",\"Nigeria\",\"Nigeria\",\"Nigeria\",\"Nigeria\",\"Nigeria\",\"Nigeria\",\"Nigeria\",\"Nigeria\",\"Nigeria\",\"Nigeria\",\"Nigeria\",\"Nigeria\",\"Nigeria\",\"Nigeria\",\"Nigeria\",\"Nigeria\",\"Nigeria\",\"Nigeria\",\"Nigeria\",\"Nigeria\",\"Nigeria\",\"Nigeria\",\"Nigeria\",\"Nigeria\",\"Nigeria\",\"Nigeria\",\"Nigeria\",\"Nigeria\",\"Nigeria\",\"Nigeria\",\"People's Republic of the Congo\",\"People's Republic of the Congo\",\"People's Republic of the Congo\",\"Republic of the Congo\",\"Republic of the Congo\",\"Republic of the Congo\",\"Republic of the Congo\",\"Republic of the Congo\",\"Republic of the Congo\",\"Republic of the Congo\",\"Republic of the Congo\",\"Republic of the Congo\",\"Republic of the Congo\",\"Rhodesia\",\"Rhodesia\",\"Rhodesia\",\"Rwanda\",\"Rwanda\",\"Rwanda\",\"Rwanda\",\"Rwanda\",\"Rwanda\",\"Rwanda\",\"Rwanda\",\"Rwanda\",\"Rwanda\",\"Rwanda\",\"Rwanda\",\"Rwanda\",\"Rwanda\",\"Rwanda\",\"Rwanda\",\"Rwanda\",\"Rwanda\",\"Rwanda\",\"Senegal\",\"Senegal\",\"Senegal\",\"Senegal\",\"Senegal\",\"Senegal\",\"Senegal\",\"Senegal\",\"Senegal\",\"Senegal\",\"Senegal\",\"Senegal\",\"Senegal\",\"Senegal\",\"Senegal\",\"Senegal\",\"Senegal\",\"Senegal\",\"Senegal\",\"Senegal\",\"Senegal\",\"Senegal\",\"Senegal\",\"Seychelles\",\"Sierra Leone\",\"Sierra Leone\",\"Sierra Leone\",\"Sierra Leone\",\"Sierra Leone\",\"Sierra Leone\",\"Sierra Leone\",\"Sierra Leone\",\"Sierra Leone\",\"Sierra Leone\",\"Sierra Leone\",\"Somalia\",\"Somalia\",\"Somalia\",\"Somalia\",\"Somalia\",\"Somalia\",\"Somalia\",\"Somalia\",\"Somalia\",\"Somalia\",\"Somalia\",\"Somalia\",\"Somalia\",\"Somalia\",\"Somalia\",\"Somalia\",\"Somalia\",\"Somalia\",\"Somalia\",\"Somalia\",\"Somalia\",\"Somalia\",\"Somalia\",\"Somalia\",\"Somalia\",\"Somalia\",\"Somalia\",\"Somalia\",\"Somalia\",\"Somalia\",\"Somalia\",\"Somalia\",\"Somalia\",\"Somalia\",\"South Africa\",\"South Africa\",\"South Africa\",\"South Africa\",\"South Africa\",\"South Africa\",\"South Africa\",\"South Africa\",\"South Africa\",\"South Africa\",\"South Africa\",\"South Africa\",\"South Africa\",\"South Africa\",\"South Africa\",\"South Africa\",\"South Africa\",\"South Africa\",\"South Africa\",\"South Africa\",\"South Africa\",\"South Africa\",\"South Africa\",\"South Africa\",\"South Africa\",\"South Africa\",\"South Africa\",\"South Africa\",\"South Africa\",\"South Africa\",\"South Africa\",\"South Africa\",\"South Africa\",\"South Africa\",\"South Sudan\",\"South Sudan\",\"South Sudan\",\"South Sudan\",\"South Sudan\",\"South Sudan\",\"Sudan\",\"Sudan\",\"Sudan\",\"Sudan\",\"Sudan\",\"Sudan\",\"Sudan\",\"Sudan\",\"Sudan\",\"Sudan\",\"Sudan\",\"Sudan\",\"Sudan\",\"Sudan\",\"Sudan\",\"Sudan\",\"Sudan\",\"Sudan\",\"Sudan\",\"Sudan\",\"Sudan\",\"Sudan\",\"Sudan\",\"Sudan\",\"Sudan\",\"Sudan\",\"Sudan\",\"Sudan\",\"Sudan\",\"Sudan\",\"Sudan\",\"Sudan\",\"Sudan\",\"Sudan\",\"Swaziland\",\"Swaziland\",\"Swaziland\",\"Swaziland\",\"Swaziland\",\"Swaziland\",\"Swaziland\",\"Swaziland\",\"Swaziland\",\"Swaziland\",\"Swaziland\",\"Swaziland\",\"Swaziland\",\"Swaziland\",\"Tanzania\",\"Tanzania\",\"Tanzania\",\"Tanzania\",\"Tanzania\",\"Tanzania\",\"Tanzania\",\"Tanzania\",\"Tanzania\",\"Tanzania\",\"Tanzania\",\"Tanzania\",\"Tanzania\",\"Tanzania\",\"Tanzania\",\"Tanzania\",\"Tanzania\",\"Tanzania\",\"Togo\",\"Togo\",\"Togo\",\"Togo\",\"Togo\",\"Togo\",\"Togo\",\"Tunisia\",\"Tunisia\",\"Tunisia\",\"Tunisia\",\"Tunisia\",\"Tunisia\",\"Tunisia\",\"Tunisia\",\"Tunisia\",\"Tunisia\",\"Tunisia\",\"Tunisia\",\"Tunisia\",\"Tunisia\",\"Tunisia\",\"Tunisia\",\"Tunisia\",\"Tunisia\",\"Tunisia\",\"Uganda\",\"Uganda\",\"Uganda\",\"Uganda\",\"Uganda\",\"Uganda\",\"Uganda\",\"Uganda\",\"Uganda\",\"Uganda\",\"Uganda\",\"Uganda\",\"Uganda\",\"Uganda\",\"Uganda\",\"Uganda\",\"Uganda\",\"Uganda\",\"Uganda\",\"Uganda\",\"Uganda\",\"Uganda\",\"Uganda\",\"Uganda\",\"Uganda\",\"Uganda\",\"Uganda\",\"Uganda\",\"Uganda\",\"Uganda\",\"Uganda\",\"Uganda\",\"Uganda\",\"Uganda\",\"Western Sahara\",\"Western Sahara\",\"Western Sahara\",\"Western Sahara\",\"Western Sahara\",\"Zaire\",\"Zaire\",\"Zaire\",\"Zaire\",\"Zaire\",\"Zaire\",\"Zaire\",\"Zaire\",\"Zaire\",\"Zaire\",\"Zaire\",\"Zambia\",\"Zambia\",\"Zambia\",\"Zambia\",\"Zambia\",\"Zambia\",\"Zambia\",\"Zambia\",\"Zambia\",\"Zambia\",\"Zambia\",\"Zambia\",\"Zambia\",\"Zambia\",\"Zambia\",\"Zambia\",\"Zambia\",\"Zambia\",\"Zambia\",\"Zimbabwe\",\"Zimbabwe\",\"Zimbabwe\",\"Zimbabwe\",\"Zimbabwe\",\"Zimbabwe\",\"Zimbabwe\",\"Zimbabwe\",\"Zimbabwe\",\"Zimbabwe\",\"Zimbabwe\",\"Zimbabwe\",\"Zimbabwe\",\"Zimbabwe\",\"Zimbabwe\",\"Zimbabwe\",\"Zimbabwe\",\"Zimbabwe\",\"Zimbabwe\",\"Zimbabwe\",\"Zimbabwe\",\"Zimbabwe\",\"Zimbabwe\",\"Zimbabwe\",\"Zimbabwe\",\"Zimbabwe\",\"Zimbabwe\"],\"xaxis\":\"x\",\"y\":[0.0,0.0,0.0,0.0,3.0,42.0,236.0,500.0,418.0,529.0,4188.0,940.0,445.0,519.0,579.0,615.0,259.0,166.0,228.0,164.0,240.0,246.0,193.0,101.0,25.0,30.0,101.0,37.0,21.0,9.0,12.0,0.0,1.0,3.0,2.0,282.0,179.0,6.0,119.0,5.0,145.0,88.0,147.0,69.0,84.0,108.0,52.0,18.0,34.0,275.0,299.0,171.0,844.0,59.0,2.0,4.0,0.0,7.0,0.0,0.0,0.0,0.0,0.0,1.0,0.0,3.0,1.0,0.0,6.0,0.0,1.0,1.0,16.0,62.0,53.0,117.0,61.0,265.0,583.0,1371.0,386.0,392.0,108.0,90.0,166.0,65.0,116.0,18.0,13.0,21.0,3.0,28.0,14.0,47.0,6.0,5.0,4.0,223.0,74.0,20.0,36.0,6.0,33.0,5.0,0.0,31.0,3.0,0.0,5.0,4.0,7.0,789.0,931.0,269.0,228.0,3.0,0.0,3.0,1.0,2.0,2.0,1.0,7.0,4.0,1.0,1.0,38.0,46.0,35.0,14.0,120.0,751.0,171.0,189.0,601.0,0.0,0.0,0.0,0.0,40.0,170.0,1.0,0.0,1.0,2.0,0.0,77.0,21.0,103.0,136.0,172.0,0.0,0.0,6.0,306.0,22.0,62.0,1.0,0.0,0.0,8.0,67.0,7.0,40.0,15.0,16.0,89.0,22.0,31.0,23.0,72.0,319.0,824.0,99.0,50.0,288.0,150.0,366.0,371.0,532.0,596.0,1.0,4.0,10.0,0.0,1.0,8.0,228.0,6.0,0.0,11.0,0.0,5.0,0.0,0.0,0.0,1.0,0.0,1.0,2.0,1.0,1.0,67.0,0.0,2.0,12.0,1.0,1.0,1.0,21.0,8.0,49.0,173.0,134.0,97.0,165.0,9.0,1.0,37.0,92.0,19.0,0.0,1.0,0.0,28.0,44.0,243.0,343.0,829.0,609.0,877.0,1.0,1.0,0.0,6.0,0.0,4.0,2.0,17.0,1.0,0.0,0.0,3.0,0.0,0.0,5.0,25.0,101.0,0.0,200.0,0.0,40.0,0.0,0.0,1.0,17.0,161.0,330.0,6.0,5.0,133.0,8.0,2.0,3.0,1.0,2.0,1.0,9.0,12.0,204.0,27.0,13.0,8.0,1.0,25.0,17.0,9.0,48.0,279.0,67.0,2.0,0.0,0.0,4.0,0.0,13.0,0.0,0.0,0.0,0.0,13.0,2.0,3.0,1.0,0.0,0.0,1.0,0.0,2.0,2.0,203.0,0.0,0.0,1.0,1.0,0.0,1.0,3.0,11.0,1.0,1.0,1.0,5.0,40.0,5.0,0.0,4.0,12.0,3.0,12.0,41.0,20.0,0.0,10.0,23.0,45.0,4.0,4.0,14.0,22.0,3.0,27.0,0.0,4.0,15.0,4.0,0.0,155.0,40.0,2.0,2.0,36.0,226.0,26.0,13.0,16.0,3.0,56.0,18.0,33.0,103.0,0.0,19.0,42.0,107.0,207.0,315.0,281.0,72.0,126.0,0.0,0.0,0.0,4.0,0.0,28.0,4.0,3.0,107.0,33.0,90.0,264.0,231.0,609.0,60.0,644.0,246.0,178.0,176.0,113.0,113.0,96.0,79.0,57.0,35.0,57.0,36.0,17.0,23.0,12.0,0.0,2.0,3.0,1.0,22.0,17.0,40.0,142.0,17.0,2.0,1.0,9.0,190.0,134.0,111.0,25.0,17.0,0.0,10.0,0.0,30.0,1.0,4.0,0.0,0.0,0.0,1.0,2.0,0.0,37.0,110.0,10.0,0.0,0.0,1.0,3.0,2.0,12.0,0.0,0.0,0.0,0.0,0.0,15.0,0.0,0.0,12.0,0.0,0.0,0.0,33.0,232.0,694.0,689.0,634.0,289.0,4.0,16.0,4.0,1.0,0.0,0.0,0.0,2.0,0.0,0.0,0.0,1.0,3.0,32.0,1.0,0.0,14.0,43.0,5.0,131.0,2.0,0.0,0.0,20.0,55.0,30.0,1.0,5.0,53.0,137.0,125.0,269.0,181.0,361.0,4.0,0.0,0.0,23.0,12.0,2.0,1.0,1.0,0.0,0.0,10.0,0.0,0.0,2.0,200.0,3.0,2.0,0.0,0.0,0.0,45.0,13.0,17.0,0.0,2.0,34.0,6.0,18.0,5.0,50.0,8.0,470.0,468.0,145.0,710.0,185.0,271.0,155.0,0.0,15.0,0.0,1.0,6.0,1.0,37.0,22.0,12.0,62.0,22.0,1.0,3.0,2.0,32.0,1.0,2.0,4.0,24.0,74.0,5.0,2.0,25.0,1.0,0.0,3.0,0.0,13.0,24.0,1.0,3.0,171.0,8.0,34.0,53.0,22.0,2.0,32.0,4.0,66.0,6.0,18.0,9.0,4.0,1.0,26.0,11.0,666.0,190.0,148.0,3.0,0.0,1.0,4.0,10.0,135.0,15.0,1.0,24.0,107.0,9.0,134.0,0.0,3.0,28.0,28.0,41.0,19.0,254.0,82.0,72.0,316.0,117.0,447.0,1508.0,2014.0,7781.0,5559.0,2165.0,1805.0,0.0,0.0,15.0,0.0,12.0,0.0,2.0,107.0,0.0,17.0,11.0,2.0,31.0,73.0,110.0,24.0,0.0,141.0,1571.0,201.0,129.0,1027.0,100.0,4.0,2.0,30.0,0.0,4.0,6.0,2.0,10.0,6.0,1.0,0.0,2.0,0.0,2.0,20.0,5.0,64.0,5.0,18.0,92.0,4.0,1.0,4.0,28.0,8.0,0.0,1.0,10.0,9.0,3.0,21.0,16.0,7.0,7.0,0.0,0.0,128.0,21.0,228.0,40.0,58.0,16.0,258.0,28.0,60.0,1.0,0.0,0.0,0.0,0.0,0.0,0.0,0.0,30.0,5.0,6.0,8.0,78.0,29.0,28.0,145.0,0.0,6.0,36.0,3.0,6.0,7.0,2.0,20.0,22.0,408.0,436.0,381.0,295.0,337.0,783.0,660.0,1589.0,1447.0,1583.0,1912.0,0.0,2.0,5.0,6.0,8.0,17.0,8.0,9.0,28.0,21.0,82.0,153.0,120.0,152.0,57.0,150.0,384.0,706.0,447.0,105.0,82.0,23.0,13.0,4.0,18.0,1.0,1.0,0.0,5.0,2.0,9.0,5.0,21.0,21.0,68.0,226.0,908.0,218.0,633.0,581.0,3.0,2.0,0.0,0.0,305.0,8.0,0.0,58.0,14.0,0.0,32.0,13.0,17.0,6.0,40.0,1.0,16.0,23.0,13.0,565.0,28.0,54.0,484.0,317.0,205.0,77.0,80.0,189.0,60.0,220.0,546.0,210.0,182.0,82.0,0.0,1.0,0.0,4.0,0.0,0.0,0.0,0.0,0.0,1.0,0.0,0.0,0.0,0.0,0.0,1.0,0.0,1.0,0.0,1.0,11.0,0.0,2.0,24.0,0.0,0.0,0.0,8.0,4.0,10.0,3.0,8.0,1.0,13.0,12.0,47.0,0.0,3.0,0.0,0.0,41.0,0.0,0.0,4.0,1.0,7.0,5.0,3.0,21.0,14.0,0.0,4.0,4.0,25.0,43.0,103.0,71.0,5.0,13.0,53.0,0.0,113.0,235.0,32.0,1.0,1.0,160.0,72.0,84.0,2.0,2.0,22.0,145.0,413.0,239.0,81.0,75.0,297.0,56.0,173.0,231.0,193.0,80.0,2.0,3.0,11.0,75.0,5.0,98.0,4.0,75.0,7.0,0.0,0.0,1.0,0.0,0.0,0.0,0.0,1.0,2.0,28.0,3.0,2.0,1.0,43.0,223.0,13.0,1.0,2.0,1.0,1.0,0.0,0.0,0.0,0.0,2.0,0.0,9.0,33.0,20.0,0.0,0.0,1.0,0.0,0.0,0.0,13.0,13.0,22.0,11.0,4.0,5.0,1.0,35.0,2.0,21.0,9.0,0.0,0.0,0.0,0.0,0.0,0.0,8.0,0.0,0.0,0.0,7.0,1.0,0.0,1.0,0.0,0.0],\"yaxis\":\"y\",\"type\":\"bar\"}],                        {\"template\":{\"data\":{\"bar\":[{\"error_x\":{\"color\":\"#2a3f5f\"},\"error_y\":{\"color\":\"#2a3f5f\"},\"marker\":{\"line\":{\"color\":\"#E5ECF6\",\"width\":0.5},\"pattern\":{\"fillmode\":\"overlay\",\"size\":10,\"solidity\":0.2}},\"type\":\"bar\"}],\"barpolar\":[{\"marker\":{\"line\":{\"color\":\"#E5ECF6\",\"width\":0.5},\"pattern\":{\"fillmode\":\"overlay\",\"size\":10,\"solidity\":0.2}},\"type\":\"barpolar\"}],\"carpet\":[{\"aaxis\":{\"endlinecolor\":\"#2a3f5f\",\"gridcolor\":\"white\",\"linecolor\":\"white\",\"minorgridcolor\":\"white\",\"startlinecolor\":\"#2a3f5f\"},\"baxis\":{\"endlinecolor\":\"#2a3f5f\",\"gridcolor\":\"white\",\"linecolor\":\"white\",\"minorgridcolor\":\"white\",\"startlinecolor\":\"#2a3f5f\"},\"type\":\"carpet\"}],\"choropleth\":[{\"colorbar\":{\"outlinewidth\":0,\"ticks\":\"\"},\"type\":\"choropleth\"}],\"contour\":[{\"colorbar\":{\"outlinewidth\":0,\"ticks\":\"\"},\"colorscale\":[[0.0,\"#0d0887\"],[0.1111111111111111,\"#46039f\"],[0.2222222222222222,\"#7201a8\"],[0.3333333333333333,\"#9c179e\"],[0.4444444444444444,\"#bd3786\"],[0.5555555555555556,\"#d8576b\"],[0.6666666666666666,\"#ed7953\"],[0.7777777777777778,\"#fb9f3a\"],[0.8888888888888888,\"#fdca26\"],[1.0,\"#f0f921\"]],\"type\":\"contour\"}],\"contourcarpet\":[{\"colorbar\":{\"outlinewidth\":0,\"ticks\":\"\"},\"type\":\"contourcarpet\"}],\"heatmap\":[{\"colorbar\":{\"outlinewidth\":0,\"ticks\":\"\"},\"colorscale\":[[0.0,\"#0d0887\"],[0.1111111111111111,\"#46039f\"],[0.2222222222222222,\"#7201a8\"],[0.3333333333333333,\"#9c179e\"],[0.4444444444444444,\"#bd3786\"],[0.5555555555555556,\"#d8576b\"],[0.6666666666666666,\"#ed7953\"],[0.7777777777777778,\"#fb9f3a\"],[0.8888888888888888,\"#fdca26\"],[1.0,\"#f0f921\"]],\"type\":\"heatmap\"}],\"heatmapgl\":[{\"colorbar\":{\"outlinewidth\":0,\"ticks\":\"\"},\"colorscale\":[[0.0,\"#0d0887\"],[0.1111111111111111,\"#46039f\"],[0.2222222222222222,\"#7201a8\"],[0.3333333333333333,\"#9c179e\"],[0.4444444444444444,\"#bd3786\"],[0.5555555555555556,\"#d8576b\"],[0.6666666666666666,\"#ed7953\"],[0.7777777777777778,\"#fb9f3a\"],[0.8888888888888888,\"#fdca26\"],[1.0,\"#f0f921\"]],\"type\":\"heatmapgl\"}],\"histogram\":[{\"marker\":{\"pattern\":{\"fillmode\":\"overlay\",\"size\":10,\"solidity\":0.2}},\"type\":\"histogram\"}],\"histogram2d\":[{\"colorbar\":{\"outlinewidth\":0,\"ticks\":\"\"},\"colorscale\":[[0.0,\"#0d0887\"],[0.1111111111111111,\"#46039f\"],[0.2222222222222222,\"#7201a8\"],[0.3333333333333333,\"#9c179e\"],[0.4444444444444444,\"#bd3786\"],[0.5555555555555556,\"#d8576b\"],[0.6666666666666666,\"#ed7953\"],[0.7777777777777778,\"#fb9f3a\"],[0.8888888888888888,\"#fdca26\"],[1.0,\"#f0f921\"]],\"type\":\"histogram2d\"}],\"histogram2dcontour\":[{\"colorbar\":{\"outlinewidth\":0,\"ticks\":\"\"},\"colorscale\":[[0.0,\"#0d0887\"],[0.1111111111111111,\"#46039f\"],[0.2222222222222222,\"#7201a8\"],[0.3333333333333333,\"#9c179e\"],[0.4444444444444444,\"#bd3786\"],[0.5555555555555556,\"#d8576b\"],[0.6666666666666666,\"#ed7953\"],[0.7777777777777778,\"#fb9f3a\"],[0.8888888888888888,\"#fdca26\"],[1.0,\"#f0f921\"]],\"type\":\"histogram2dcontour\"}],\"mesh3d\":[{\"colorbar\":{\"outlinewidth\":0,\"ticks\":\"\"},\"type\":\"mesh3d\"}],\"parcoords\":[{\"line\":{\"colorbar\":{\"outlinewidth\":0,\"ticks\":\"\"}},\"type\":\"parcoords\"}],\"pie\":[{\"automargin\":true,\"type\":\"pie\"}],\"scatter\":[{\"marker\":{\"colorbar\":{\"outlinewidth\":0,\"ticks\":\"\"}},\"type\":\"scatter\"}],\"scatter3d\":[{\"line\":{\"colorbar\":{\"outlinewidth\":0,\"ticks\":\"\"}},\"marker\":{\"colorbar\":{\"outlinewidth\":0,\"ticks\":\"\"}},\"type\":\"scatter3d\"}],\"scattercarpet\":[{\"marker\":{\"colorbar\":{\"outlinewidth\":0,\"ticks\":\"\"}},\"type\":\"scattercarpet\"}],\"scattergeo\":[{\"marker\":{\"colorbar\":{\"outlinewidth\":0,\"ticks\":\"\"}},\"type\":\"scattergeo\"}],\"scattergl\":[{\"marker\":{\"colorbar\":{\"outlinewidth\":0,\"ticks\":\"\"}},\"type\":\"scattergl\"}],\"scattermapbox\":[{\"marker\":{\"colorbar\":{\"outlinewidth\":0,\"ticks\":\"\"}},\"type\":\"scattermapbox\"}],\"scatterpolar\":[{\"marker\":{\"colorbar\":{\"outlinewidth\":0,\"ticks\":\"\"}},\"type\":\"scatterpolar\"}],\"scatterpolargl\":[{\"marker\":{\"colorbar\":{\"outlinewidth\":0,\"ticks\":\"\"}},\"type\":\"scatterpolargl\"}],\"scatterternary\":[{\"marker\":{\"colorbar\":{\"outlinewidth\":0,\"ticks\":\"\"}},\"type\":\"scatterternary\"}],\"surface\":[{\"colorbar\":{\"outlinewidth\":0,\"ticks\":\"\"},\"colorscale\":[[0.0,\"#0d0887\"],[0.1111111111111111,\"#46039f\"],[0.2222222222222222,\"#7201a8\"],[0.3333333333333333,\"#9c179e\"],[0.4444444444444444,\"#bd3786\"],[0.5555555555555556,\"#d8576b\"],[0.6666666666666666,\"#ed7953\"],[0.7777777777777778,\"#fb9f3a\"],[0.8888888888888888,\"#fdca26\"],[1.0,\"#f0f921\"]],\"type\":\"surface\"}],\"table\":[{\"cells\":{\"fill\":{\"color\":\"#EBF0F8\"},\"line\":{\"color\":\"white\"}},\"header\":{\"fill\":{\"color\":\"#C8D4E3\"},\"line\":{\"color\":\"white\"}},\"type\":\"table\"}]},\"layout\":{\"annotationdefaults\":{\"arrowcolor\":\"#2a3f5f\",\"arrowhead\":0,\"arrowwidth\":1},\"autotypenumbers\":\"strict\",\"coloraxis\":{\"colorbar\":{\"outlinewidth\":0,\"ticks\":\"\"}},\"colorscale\":{\"diverging\":[[0,\"#8e0152\"],[0.1,\"#c51b7d\"],[0.2,\"#de77ae\"],[0.3,\"#f1b6da\"],[0.4,\"#fde0ef\"],[0.5,\"#f7f7f7\"],[0.6,\"#e6f5d0\"],[0.7,\"#b8e186\"],[0.8,\"#7fbc41\"],[0.9,\"#4d9221\"],[1,\"#276419\"]],\"sequential\":[[0.0,\"#0d0887\"],[0.1111111111111111,\"#46039f\"],[0.2222222222222222,\"#7201a8\"],[0.3333333333333333,\"#9c179e\"],[0.4444444444444444,\"#bd3786\"],[0.5555555555555556,\"#d8576b\"],[0.6666666666666666,\"#ed7953\"],[0.7777777777777778,\"#fb9f3a\"],[0.8888888888888888,\"#fdca26\"],[1.0,\"#f0f921\"]],\"sequentialminus\":[[0.0,\"#0d0887\"],[0.1111111111111111,\"#46039f\"],[0.2222222222222222,\"#7201a8\"],[0.3333333333333333,\"#9c179e\"],[0.4444444444444444,\"#bd3786\"],[0.5555555555555556,\"#d8576b\"],[0.6666666666666666,\"#ed7953\"],[0.7777777777777778,\"#fb9f3a\"],[0.8888888888888888,\"#fdca26\"],[1.0,\"#f0f921\"]]},\"colorway\":[\"#636efa\",\"#EF553B\",\"#00cc96\",\"#ab63fa\",\"#FFA15A\",\"#19d3f3\",\"#FF6692\",\"#B6E880\",\"#FF97FF\",\"#FECB52\"],\"font\":{\"color\":\"#2a3f5f\"},\"geo\":{\"bgcolor\":\"white\",\"lakecolor\":\"white\",\"landcolor\":\"#E5ECF6\",\"showlakes\":true,\"showland\":true,\"subunitcolor\":\"white\"},\"hoverlabel\":{\"align\":\"left\"},\"hovermode\":\"closest\",\"mapbox\":{\"style\":\"light\"},\"paper_bgcolor\":\"white\",\"plot_bgcolor\":\"#E5ECF6\",\"polar\":{\"angularaxis\":{\"gridcolor\":\"white\",\"linecolor\":\"white\",\"ticks\":\"\"},\"bgcolor\":\"#E5ECF6\",\"radialaxis\":{\"gridcolor\":\"white\",\"linecolor\":\"white\",\"ticks\":\"\"}},\"scene\":{\"xaxis\":{\"backgroundcolor\":\"#E5ECF6\",\"gridcolor\":\"white\",\"gridwidth\":2,\"linecolor\":\"white\",\"showbackground\":true,\"ticks\":\"\",\"zerolinecolor\":\"white\"},\"yaxis\":{\"backgroundcolor\":\"#E5ECF6\",\"gridcolor\":\"white\",\"gridwidth\":2,\"linecolor\":\"white\",\"showbackground\":true,\"ticks\":\"\",\"zerolinecolor\":\"white\"},\"zaxis\":{\"backgroundcolor\":\"#E5ECF6\",\"gridcolor\":\"white\",\"gridwidth\":2,\"linecolor\":\"white\",\"showbackground\":true,\"ticks\":\"\",\"zerolinecolor\":\"white\"}},\"shapedefaults\":{\"line\":{\"color\":\"#2a3f5f\"}},\"ternary\":{\"aaxis\":{\"gridcolor\":\"white\",\"linecolor\":\"white\",\"ticks\":\"\"},\"baxis\":{\"gridcolor\":\"white\",\"linecolor\":\"white\",\"ticks\":\"\"},\"bgcolor\":\"#E5ECF6\",\"caxis\":{\"gridcolor\":\"white\",\"linecolor\":\"white\",\"ticks\":\"\"}},\"title\":{\"x\":0.05},\"xaxis\":{\"automargin\":true,\"gridcolor\":\"white\",\"linecolor\":\"white\",\"ticks\":\"\",\"title\":{\"standoff\":15},\"zerolinecolor\":\"white\",\"zerolinewidth\":2},\"yaxis\":{\"automargin\":true,\"gridcolor\":\"white\",\"linecolor\":\"white\",\"ticks\":\"\",\"title\":{\"standoff\":15},\"zerolinecolor\":\"white\",\"zerolinewidth\":2}}},\"xaxis\":{\"anchor\":\"y\",\"domain\":[0.0,1.0],\"title\":{\"text\":\"country_txt\"}},\"yaxis\":{\"anchor\":\"x\",\"domain\":[0.0,1.0],\"title\":{\"text\":\"nkill\"}},\"coloraxis\":{\"colorbar\":{\"title\":{\"text\":\"nkill\"}},\"colorscale\":[[0.0,\"#0d0887\"],[0.1111111111111111,\"#46039f\"],[0.2222222222222222,\"#7201a8\"],[0.3333333333333333,\"#9c179e\"],[0.4444444444444444,\"#bd3786\"],[0.5555555555555556,\"#d8576b\"],[0.6666666666666666,\"#ed7953\"],[0.7777777777777778,\"#fb9f3a\"],[0.8888888888888888,\"#fdca26\"],[1.0,\"#f0f921\"]]},\"legend\":{\"tracegroupgap\":0},\"title\":{\"text\":\"nombre de morts par terrorisme pour chaque pays africain\"},\"barmode\":\"relative\"},                        {\"responsive\": true}                    ).then(function(){\n",
              "                            \n",
              "var gd = document.getElementById('04875fda-26f2-4de1-8803-873fabd98409');\n",
              "var x = new MutationObserver(function (mutations, observer) {{\n",
              "        var display = window.getComputedStyle(gd).display;\n",
              "        if (!display || display === 'none') {{\n",
              "            console.log([gd, 'removed!']);\n",
              "            Plotly.purge(gd);\n",
              "            observer.disconnect();\n",
              "        }}\n",
              "}});\n",
              "\n",
              "// Listen for the removal of the full notebook cells\n",
              "var notebookContainer = gd.closest('#notebook-container');\n",
              "if (notebookContainer) {{\n",
              "    x.observe(notebookContainer, {childList: true});\n",
              "}}\n",
              "\n",
              "// Listen for the clearing of the current output cell\n",
              "var outputEl = gd.closest('.output');\n",
              "if (outputEl) {{\n",
              "    x.observe(outputEl, {childList: true});\n",
              "}}\n",
              "\n",
              "                        })                };                            </script>        </div>\n",
              "</body>\n",
              "</html>"
            ]
          },
          "metadata": {}
        }
      ],
      "source": [
        "px.bar(df_africa, x='country_txt', y=\"nkill\",color=\"nkill\", title = f\"nombre de morts par terrorisme pour chaque pays africain\")\n",
        "# px.bar(df_africa, x='country_txt', y=\"nkill\",color=\"nkill\", title = f\"nombre de morts par terrorisme pour chaque pays africain\", animation_frame=\"iyear\")"
      ]
    },
    {
      "cell_type": "markdown",
      "source": [
        "On voit que les attaques terroristes sur le sol africains ne font pas généralement de victimes qui frollent les 1000 sauf pour quelques exceptions comme le Nigéria qui en qui dépassent les 5000 ou meme 7000 ou l'Algérie"
      ],
      "metadata": {
        "id": "_TUqBWzXeR1-"
      }
    },
    {
      "cell_type": "markdown",
      "source": [
        "## Visualiser le nombre d’africains blessés à cause de terrorisme par région par année"
      ],
      "metadata": {
        "id": "FE45fjqOS9WX"
      }
    },
    {
      "cell_type": "code",
      "source": [
        "df_blesse = df_africa.groupby(['country_txt', 'iyear']).sum(\"nwound\").reset_index()"
      ],
      "metadata": {
        "id": "pJGKNbb6S8yr"
      },
      "execution_count": 94,
      "outputs": []
    },
    {
      "cell_type": "code",
      "execution_count": 96,
      "metadata": {
        "id": "-vtolBqDGBIm",
        "colab": {
          "base_uri": "https://localhost:8080/",
          "height": 542
        },
        "outputId": "d50917d5-53f3-4133-8000-e8efbc3e3b64"
      },
      "outputs": [
        {
          "output_type": "display_data",
          "data": {
            "text/html": [
              "<html>\n",
              "<head><meta charset=\"utf-8\" /></head>\n",
              "<body>\n",
              "    <div>            <script src=\"https://cdnjs.cloudflare.com/ajax/libs/mathjax/2.7.5/MathJax.js?config=TeX-AMS-MML_SVG\"></script><script type=\"text/javascript\">if (window.MathJax) {MathJax.Hub.Config({SVG: {font: \"STIX-Web\"}});}</script>                <script type=\"text/javascript\">window.PlotlyConfig = {MathJaxConfig: 'local'};</script>\n",
              "        <script src=\"https://cdn.plot.ly/plotly-2.8.3.min.js\"></script>                <div id=\"5be47f5b-0d0f-41dc-b44e-0fd63d0f6917\" class=\"plotly-graph-div\" style=\"height:525px; width:100%;\"></div>            <script type=\"text/javascript\">                                    window.PLOTLYENV=window.PLOTLYENV || {};                                    if (document.getElementById(\"5be47f5b-0d0f-41dc-b44e-0fd63d0f6917\")) {                    Plotly.newPlot(                        \"5be47f5b-0d0f-41dc-b44e-0fd63d0f6917\",                        [{\"alignmentgroup\":\"True\",\"hovertemplate\":\"country_txt=%{x}<br>nkill=%{y}<extra></extra>\",\"legendgroup\":\"\",\"marker\":{\"color\":\"#636efa\",\"pattern\":{\"shape\":\"\"}},\"name\":\"\",\"offsetgroup\":\"\",\"orientation\":\"v\",\"showlegend\":false,\"textposition\":\"auto\",\"x\":[\"Algeria\",\"Algeria\",\"Algeria\",\"Algeria\",\"Algeria\",\"Algeria\",\"Algeria\",\"Algeria\",\"Algeria\",\"Algeria\",\"Algeria\",\"Algeria\",\"Algeria\",\"Algeria\",\"Algeria\",\"Algeria\",\"Algeria\",\"Algeria\",\"Algeria\",\"Algeria\",\"Algeria\",\"Algeria\",\"Algeria\",\"Algeria\",\"Algeria\",\"Algeria\",\"Algeria\",\"Algeria\",\"Algeria\",\"Algeria\",\"Algeria\",\"Angola\",\"Angola\",\"Angola\",\"Angola\",\"Angola\",\"Angola\",\"Angola\",\"Angola\",\"Angola\",\"Angola\",\"Angola\",\"Angola\",\"Angola\",\"Angola\",\"Angola\",\"Angola\",\"Angola\",\"Angola\",\"Angola\",\"Angola\",\"Angola\",\"Angola\",\"Angola\",\"Angola\",\"Angola\",\"Angola\",\"Angola\",\"Benin\",\"Benin\",\"Benin\",\"Benin\",\"Benin\",\"Botswana\",\"Botswana\",\"Botswana\",\"Botswana\",\"Botswana\",\"Botswana\",\"Botswana\",\"Burkina Faso\",\"Burkina Faso\",\"Burkina Faso\",\"Burkina Faso\",\"Burkina Faso\",\"Burundi\",\"Burundi\",\"Burundi\",\"Burundi\",\"Burundi\",\"Burundi\",\"Burundi\",\"Burundi\",\"Burundi\",\"Burundi\",\"Burundi\",\"Burundi\",\"Burundi\",\"Burundi\",\"Burundi\",\"Burundi\",\"Burundi\",\"Burundi\",\"Burundi\",\"Burundi\",\"Burundi\",\"Burundi\",\"Burundi\",\"Burundi\",\"Burundi\",\"Cameroon\",\"Cameroon\",\"Cameroon\",\"Cameroon\",\"Cameroon\",\"Cameroon\",\"Cameroon\",\"Cameroon\",\"Cameroon\",\"Cameroon\",\"Cameroon\",\"Cameroon\",\"Cameroon\",\"Cameroon\",\"Cameroon\",\"Central African Republic\",\"Central African Republic\",\"Central African Republic\",\"Central African Republic\",\"Central African Republic\",\"Central African Republic\",\"Central African Republic\",\"Central African Republic\",\"Central African Republic\",\"Central African Republic\",\"Central African Republic\",\"Central African Republic\",\"Central African Republic\",\"Central African Republic\",\"Central African Republic\",\"Central African Republic\",\"Central African Republic\",\"Central African Republic\",\"Central African Republic\",\"Central African Republic\",\"Chad\",\"Chad\",\"Chad\",\"Chad\",\"Chad\",\"Chad\",\"Chad\",\"Chad\",\"Chad\",\"Chad\",\"Chad\",\"Chad\",\"Chad\",\"Chad\",\"Chad\",\"Chad\",\"Chad\",\"Chad\",\"Chad\",\"Chad\",\"Chad\",\"Chad\",\"Comoros\",\"Comoros\",\"Comoros\",\"Democratic Republic of the Congo\",\"Democratic Republic of the Congo\",\"Democratic Republic of the Congo\",\"Democratic Republic of the Congo\",\"Democratic Republic of the Congo\",\"Democratic Republic of the Congo\",\"Democratic Republic of the Congo\",\"Democratic Republic of the Congo\",\"Democratic Republic of the Congo\",\"Democratic Republic of the Congo\",\"Democratic Republic of the Congo\",\"Democratic Republic of the Congo\",\"Democratic Republic of the Congo\",\"Democratic Republic of the Congo\",\"Democratic Republic of the Congo\",\"Democratic Republic of the Congo\",\"Democratic Republic of the Congo\",\"Democratic Republic of the Congo\",\"Democratic Republic of the Congo\",\"Democratic Republic of the Congo\",\"Democratic Republic of the Congo\",\"Djibouti\",\"Djibouti\",\"Djibouti\",\"Djibouti\",\"Djibouti\",\"Djibouti\",\"Djibouti\",\"Djibouti\",\"Djibouti\",\"Djibouti\",\"Djibouti\",\"Djibouti\",\"Djibouti\",\"Djibouti\",\"Egypt\",\"Egypt\",\"Egypt\",\"Egypt\",\"Egypt\",\"Egypt\",\"Egypt\",\"Egypt\",\"Egypt\",\"Egypt\",\"Egypt\",\"Egypt\",\"Egypt\",\"Egypt\",\"Egypt\",\"Egypt\",\"Egypt\",\"Egypt\",\"Egypt\",\"Egypt\",\"Egypt\",\"Egypt\",\"Egypt\",\"Egypt\",\"Egypt\",\"Egypt\",\"Egypt\",\"Egypt\",\"Egypt\",\"Egypt\",\"Egypt\",\"Egypt\",\"Egypt\",\"Egypt\",\"Egypt\",\"Egypt\",\"Equatorial Guinea\",\"Equatorial Guinea\",\"Eritrea\",\"Eritrea\",\"Eritrea\",\"Eritrea\",\"Eritrea\",\"Eritrea\",\"Ethiopia\",\"Ethiopia\",\"Ethiopia\",\"Ethiopia\",\"Ethiopia\",\"Ethiopia\",\"Ethiopia\",\"Ethiopia\",\"Ethiopia\",\"Ethiopia\",\"Ethiopia\",\"Ethiopia\",\"Ethiopia\",\"Ethiopia\",\"Ethiopia\",\"Ethiopia\",\"Ethiopia\",\"Ethiopia\",\"Ethiopia\",\"Ethiopia\",\"Ethiopia\",\"Ethiopia\",\"Ethiopia\",\"Ethiopia\",\"Ethiopia\",\"Ethiopia\",\"Ethiopia\",\"Ethiopia\",\"Ethiopia\",\"Ethiopia\",\"Ethiopia\",\"Ethiopia\",\"Ethiopia\",\"Ethiopia\",\"Ethiopia\",\"Ethiopia\",\"Ethiopia\",\"Ethiopia\",\"Ethiopia\",\"Ethiopia\",\"Ethiopia\",\"Gabon\",\"Gabon\",\"Gabon\",\"Gabon\",\"Gabon\",\"Gambia\",\"Gambia\",\"Gambia\",\"Ghana\",\"Ghana\",\"Ghana\",\"Ghana\",\"Ghana\",\"Ghana\",\"Ghana\",\"Ghana\",\"Guinea\",\"Guinea\",\"Guinea\",\"Guinea\",\"Guinea\",\"Guinea\",\"Guinea\",\"Guinea\",\"Guinea\",\"Guinea-Bissau\",\"Guinea-Bissau\",\"Guinea-Bissau\",\"Guinea-Bissau\",\"Guinea-Bissau\",\"Guinea-Bissau\",\"Ivory Coast\",\"Ivory Coast\",\"Ivory Coast\",\"Ivory Coast\",\"Ivory Coast\",\"Ivory Coast\",\"Ivory Coast\",\"Ivory Coast\",\"Ivory Coast\",\"Ivory Coast\",\"Ivory Coast\",\"Ivory Coast\",\"Ivory Coast\",\"Ivory Coast\",\"Ivory Coast\",\"Ivory Coast\",\"Ivory Coast\",\"Ivory Coast\",\"Ivory Coast\",\"Ivory Coast\",\"Kenya\",\"Kenya\",\"Kenya\",\"Kenya\",\"Kenya\",\"Kenya\",\"Kenya\",\"Kenya\",\"Kenya\",\"Kenya\",\"Kenya\",\"Kenya\",\"Kenya\",\"Kenya\",\"Kenya\",\"Kenya\",\"Kenya\",\"Kenya\",\"Kenya\",\"Kenya\",\"Kenya\",\"Kenya\",\"Kenya\",\"Kenya\",\"Kenya\",\"Kenya\",\"Kenya\",\"Kenya\",\"Kenya\",\"Lebanon\",\"Lebanon\",\"Lebanon\",\"Lebanon\",\"Lebanon\",\"Lebanon\",\"Lebanon\",\"Lebanon\",\"Lebanon\",\"Lebanon\",\"Lebanon\",\"Lebanon\",\"Lebanon\",\"Lebanon\",\"Lebanon\",\"Lebanon\",\"Lebanon\",\"Lebanon\",\"Lebanon\",\"Lebanon\",\"Lebanon\",\"Lebanon\",\"Lebanon\",\"Lebanon\",\"Lebanon\",\"Lebanon\",\"Lebanon\",\"Lebanon\",\"Lebanon\",\"Lebanon\",\"Lebanon\",\"Lebanon\",\"Lebanon\",\"Lebanon\",\"Lebanon\",\"Lebanon\",\"Lebanon\",\"Lebanon\",\"Lebanon\",\"Lebanon\",\"Lebanon\",\"Lebanon\",\"Lebanon\",\"Lebanon\",\"Lebanon\",\"Lebanon\",\"Lebanon\",\"Lesotho\",\"Lesotho\",\"Lesotho\",\"Lesotho\",\"Lesotho\",\"Lesotho\",\"Lesotho\",\"Lesotho\",\"Lesotho\",\"Lesotho\",\"Liberia\",\"Liberia\",\"Liberia\",\"Liberia\",\"Liberia\",\"Liberia\",\"Liberia\",\"Liberia\",\"Liberia\",\"Liberia\",\"Liberia\",\"Liberia\",\"Liberia\",\"Liberia\",\"Libya\",\"Libya\",\"Libya\",\"Libya\",\"Libya\",\"Libya\",\"Libya\",\"Libya\",\"Libya\",\"Libya\",\"Libya\",\"Libya\",\"Libya\",\"Libya\",\"Libya\",\"Madagascar\",\"Madagascar\",\"Madagascar\",\"Madagascar\",\"Madagascar\",\"Madagascar\",\"Madagascar\",\"Madagascar\",\"Madagascar\",\"Madagascar\",\"Madagascar\",\"Madagascar\",\"Madagascar\",\"Malawi\",\"Malawi\",\"Malawi\",\"Mali\",\"Mali\",\"Mali\",\"Mali\",\"Mali\",\"Mali\",\"Mali\",\"Mali\",\"Mali\",\"Mali\",\"Mali\",\"Mali\",\"Mali\",\"Mali\",\"Mali\",\"Mali\",\"Mali\",\"Mali\",\"Mauritania\",\"Mauritania\",\"Mauritania\",\"Mauritania\",\"Mauritania\",\"Mauritania\",\"Mauritania\",\"Mauritania\",\"Morocco\",\"Morocco\",\"Morocco\",\"Morocco\",\"Morocco\",\"Morocco\",\"Morocco\",\"Morocco\",\"Morocco\",\"Morocco\",\"Morocco\",\"Morocco\",\"Morocco\",\"Morocco\",\"Morocco\",\"Morocco\",\"Mozambique\",\"Mozambique\",\"Mozambique\",\"Mozambique\",\"Mozambique\",\"Mozambique\",\"Mozambique\",\"Mozambique\",\"Mozambique\",\"Mozambique\",\"Mozambique\",\"Mozambique\",\"Mozambique\",\"Mozambique\",\"Mozambique\",\"Mozambique\",\"Mozambique\",\"Mozambique\",\"Mozambique\",\"Mozambique\",\"Mozambique\",\"Mozambique\",\"Mozambique\",\"Mozambique\",\"Mozambique\",\"Namibia\",\"Namibia\",\"Namibia\",\"Namibia\",\"Namibia\",\"Namibia\",\"Namibia\",\"Namibia\",\"Namibia\",\"Namibia\",\"Namibia\",\"Namibia\",\"Namibia\",\"Namibia\",\"Namibia\",\"Namibia\",\"Namibia\",\"Namibia\",\"Namibia\",\"Niger\",\"Niger\",\"Niger\",\"Niger\",\"Niger\",\"Niger\",\"Niger\",\"Niger\",\"Niger\",\"Niger\",\"Niger\",\"Niger\",\"Niger\",\"Niger\",\"Niger\",\"Niger\",\"Niger\",\"Niger\",\"Niger\",\"Niger\",\"Nigeria\",\"Nigeria\",\"Nigeria\",\"Nigeria\",\"Nigeria\",\"Nigeria\",\"Nigeria\",\"Nigeria\",\"Nigeria\",\"Nigeria\",\"Nigeria\",\"Nigeria\",\"Nigeria\",\"Nigeria\",\"Nigeria\",\"Nigeria\",\"Nigeria\",\"Nigeria\",\"Nigeria\",\"Nigeria\",\"Nigeria\",\"Nigeria\",\"Nigeria\",\"Nigeria\",\"Nigeria\",\"Nigeria\",\"Nigeria\",\"Nigeria\",\"Nigeria\",\"Nigeria\",\"People's Republic of the Congo\",\"People's Republic of the Congo\",\"People's Republic of the Congo\",\"Republic of the Congo\",\"Republic of the Congo\",\"Republic of the Congo\",\"Republic of the Congo\",\"Republic of the Congo\",\"Republic of the Congo\",\"Republic of the Congo\",\"Republic of the Congo\",\"Republic of the Congo\",\"Republic of the Congo\",\"Rhodesia\",\"Rhodesia\",\"Rhodesia\",\"Rwanda\",\"Rwanda\",\"Rwanda\",\"Rwanda\",\"Rwanda\",\"Rwanda\",\"Rwanda\",\"Rwanda\",\"Rwanda\",\"Rwanda\",\"Rwanda\",\"Rwanda\",\"Rwanda\",\"Rwanda\",\"Rwanda\",\"Rwanda\",\"Rwanda\",\"Rwanda\",\"Rwanda\",\"Senegal\",\"Senegal\",\"Senegal\",\"Senegal\",\"Senegal\",\"Senegal\",\"Senegal\",\"Senegal\",\"Senegal\",\"Senegal\",\"Senegal\",\"Senegal\",\"Senegal\",\"Senegal\",\"Senegal\",\"Senegal\",\"Senegal\",\"Senegal\",\"Senegal\",\"Senegal\",\"Senegal\",\"Senegal\",\"Senegal\",\"Seychelles\",\"Sierra Leone\",\"Sierra Leone\",\"Sierra Leone\",\"Sierra Leone\",\"Sierra Leone\",\"Sierra Leone\",\"Sierra Leone\",\"Sierra Leone\",\"Sierra Leone\",\"Sierra Leone\",\"Sierra Leone\",\"Somalia\",\"Somalia\",\"Somalia\",\"Somalia\",\"Somalia\",\"Somalia\",\"Somalia\",\"Somalia\",\"Somalia\",\"Somalia\",\"Somalia\",\"Somalia\",\"Somalia\",\"Somalia\",\"Somalia\",\"Somalia\",\"Somalia\",\"Somalia\",\"Somalia\",\"Somalia\",\"Somalia\",\"Somalia\",\"Somalia\",\"Somalia\",\"Somalia\",\"Somalia\",\"Somalia\",\"Somalia\",\"Somalia\",\"Somalia\",\"Somalia\",\"Somalia\",\"Somalia\",\"Somalia\",\"South Africa\",\"South Africa\",\"South Africa\",\"South Africa\",\"South Africa\",\"South Africa\",\"South Africa\",\"South Africa\",\"South Africa\",\"South Africa\",\"South Africa\",\"South Africa\",\"South Africa\",\"South Africa\",\"South Africa\",\"South Africa\",\"South Africa\",\"South Africa\",\"South Africa\",\"South Africa\",\"South Africa\",\"South Africa\",\"South Africa\",\"South Africa\",\"South Africa\",\"South Africa\",\"South Africa\",\"South Africa\",\"South Africa\",\"South Africa\",\"South Africa\",\"South Africa\",\"South Africa\",\"South Africa\",\"South Sudan\",\"South Sudan\",\"South Sudan\",\"South Sudan\",\"South Sudan\",\"South Sudan\",\"Sudan\",\"Sudan\",\"Sudan\",\"Sudan\",\"Sudan\",\"Sudan\",\"Sudan\",\"Sudan\",\"Sudan\",\"Sudan\",\"Sudan\",\"Sudan\",\"Sudan\",\"Sudan\",\"Sudan\",\"Sudan\",\"Sudan\",\"Sudan\",\"Sudan\",\"Sudan\",\"Sudan\",\"Sudan\",\"Sudan\",\"Sudan\",\"Sudan\",\"Sudan\",\"Sudan\",\"Sudan\",\"Sudan\",\"Sudan\",\"Sudan\",\"Sudan\",\"Sudan\",\"Sudan\",\"Swaziland\",\"Swaziland\",\"Swaziland\",\"Swaziland\",\"Swaziland\",\"Swaziland\",\"Swaziland\",\"Swaziland\",\"Swaziland\",\"Swaziland\",\"Swaziland\",\"Swaziland\",\"Swaziland\",\"Swaziland\",\"Tanzania\",\"Tanzania\",\"Tanzania\",\"Tanzania\",\"Tanzania\",\"Tanzania\",\"Tanzania\",\"Tanzania\",\"Tanzania\",\"Tanzania\",\"Tanzania\",\"Tanzania\",\"Tanzania\",\"Tanzania\",\"Tanzania\",\"Tanzania\",\"Tanzania\",\"Tanzania\",\"Togo\",\"Togo\",\"Togo\",\"Togo\",\"Togo\",\"Togo\",\"Togo\",\"Tunisia\",\"Tunisia\",\"Tunisia\",\"Tunisia\",\"Tunisia\",\"Tunisia\",\"Tunisia\",\"Tunisia\",\"Tunisia\",\"Tunisia\",\"Tunisia\",\"Tunisia\",\"Tunisia\",\"Tunisia\",\"Tunisia\",\"Tunisia\",\"Tunisia\",\"Tunisia\",\"Tunisia\",\"Uganda\",\"Uganda\",\"Uganda\",\"Uganda\",\"Uganda\",\"Uganda\",\"Uganda\",\"Uganda\",\"Uganda\",\"Uganda\",\"Uganda\",\"Uganda\",\"Uganda\",\"Uganda\",\"Uganda\",\"Uganda\",\"Uganda\",\"Uganda\",\"Uganda\",\"Uganda\",\"Uganda\",\"Uganda\",\"Uganda\",\"Uganda\",\"Uganda\",\"Uganda\",\"Uganda\",\"Uganda\",\"Uganda\",\"Uganda\",\"Uganda\",\"Uganda\",\"Uganda\",\"Uganda\",\"Western Sahara\",\"Western Sahara\",\"Western Sahara\",\"Western Sahara\",\"Western Sahara\",\"Zaire\",\"Zaire\",\"Zaire\",\"Zaire\",\"Zaire\",\"Zaire\",\"Zaire\",\"Zaire\",\"Zaire\",\"Zaire\",\"Zaire\",\"Zambia\",\"Zambia\",\"Zambia\",\"Zambia\",\"Zambia\",\"Zambia\",\"Zambia\",\"Zambia\",\"Zambia\",\"Zambia\",\"Zambia\",\"Zambia\",\"Zambia\",\"Zambia\",\"Zambia\",\"Zambia\",\"Zambia\",\"Zambia\",\"Zambia\",\"Zimbabwe\",\"Zimbabwe\",\"Zimbabwe\",\"Zimbabwe\",\"Zimbabwe\",\"Zimbabwe\",\"Zimbabwe\",\"Zimbabwe\",\"Zimbabwe\",\"Zimbabwe\",\"Zimbabwe\",\"Zimbabwe\",\"Zimbabwe\",\"Zimbabwe\",\"Zimbabwe\",\"Zimbabwe\",\"Zimbabwe\",\"Zimbabwe\",\"Zimbabwe\",\"Zimbabwe\",\"Zimbabwe\",\"Zimbabwe\",\"Zimbabwe\",\"Zimbabwe\",\"Zimbabwe\",\"Zimbabwe\",\"Zimbabwe\"],\"xaxis\":\"x\",\"y\":[0.0,0.0,0.0,0.0,3.0,42.0,236.0,500.0,418.0,529.0,4188.0,940.0,445.0,519.0,579.0,615.0,259.0,166.0,228.0,164.0,240.0,246.0,193.0,101.0,25.0,30.0,101.0,37.0,21.0,9.0,12.0,0.0,1.0,3.0,2.0,282.0,179.0,6.0,119.0,5.0,145.0,88.0,147.0,69.0,84.0,108.0,52.0,18.0,34.0,275.0,299.0,171.0,844.0,59.0,2.0,4.0,0.0,7.0,0.0,0.0,0.0,0.0,0.0,1.0,0.0,3.0,1.0,0.0,6.0,0.0,1.0,1.0,16.0,62.0,53.0,117.0,61.0,265.0,583.0,1371.0,386.0,392.0,108.0,90.0,166.0,65.0,116.0,18.0,13.0,21.0,3.0,28.0,14.0,47.0,6.0,5.0,4.0,223.0,74.0,20.0,36.0,6.0,33.0,5.0,0.0,31.0,3.0,0.0,5.0,4.0,7.0,789.0,931.0,269.0,228.0,3.0,0.0,3.0,1.0,2.0,2.0,1.0,7.0,4.0,1.0,1.0,38.0,46.0,35.0,14.0,120.0,751.0,171.0,189.0,601.0,0.0,0.0,0.0,0.0,40.0,170.0,1.0,0.0,1.0,2.0,0.0,77.0,21.0,103.0,136.0,172.0,0.0,0.0,6.0,306.0,22.0,62.0,1.0,0.0,0.0,8.0,67.0,7.0,40.0,15.0,16.0,89.0,22.0,31.0,23.0,72.0,319.0,824.0,99.0,50.0,288.0,150.0,366.0,371.0,532.0,596.0,1.0,4.0,10.0,0.0,1.0,8.0,228.0,6.0,0.0,11.0,0.0,5.0,0.0,0.0,0.0,1.0,0.0,1.0,2.0,1.0,1.0,67.0,0.0,2.0,12.0,1.0,1.0,1.0,21.0,8.0,49.0,173.0,134.0,97.0,165.0,9.0,1.0,37.0,92.0,19.0,0.0,1.0,0.0,28.0,44.0,243.0,343.0,829.0,609.0,877.0,1.0,1.0,0.0,6.0,0.0,4.0,2.0,17.0,1.0,0.0,0.0,3.0,0.0,0.0,5.0,25.0,101.0,0.0,200.0,0.0,40.0,0.0,0.0,1.0,17.0,161.0,330.0,6.0,5.0,133.0,8.0,2.0,3.0,1.0,2.0,1.0,9.0,12.0,204.0,27.0,13.0,8.0,1.0,25.0,17.0,9.0,48.0,279.0,67.0,2.0,0.0,0.0,4.0,0.0,13.0,0.0,0.0,0.0,0.0,13.0,2.0,3.0,1.0,0.0,0.0,1.0,0.0,2.0,2.0,203.0,0.0,0.0,1.0,1.0,0.0,1.0,3.0,11.0,1.0,1.0,1.0,5.0,40.0,5.0,0.0,4.0,12.0,3.0,12.0,41.0,20.0,0.0,10.0,23.0,45.0,4.0,4.0,14.0,22.0,3.0,27.0,0.0,4.0,15.0,4.0,0.0,155.0,40.0,2.0,2.0,36.0,226.0,26.0,13.0,16.0,3.0,56.0,18.0,33.0,103.0,0.0,19.0,42.0,107.0,207.0,315.0,281.0,72.0,126.0,0.0,0.0,0.0,4.0,0.0,28.0,4.0,3.0,107.0,33.0,90.0,264.0,231.0,609.0,60.0,644.0,246.0,178.0,176.0,113.0,113.0,96.0,79.0,57.0,35.0,57.0,36.0,17.0,23.0,12.0,0.0,2.0,3.0,1.0,22.0,17.0,40.0,142.0,17.0,2.0,1.0,9.0,190.0,134.0,111.0,25.0,17.0,0.0,10.0,0.0,30.0,1.0,4.0,0.0,0.0,0.0,1.0,2.0,0.0,37.0,110.0,10.0,0.0,0.0,1.0,3.0,2.0,12.0,0.0,0.0,0.0,0.0,0.0,15.0,0.0,0.0,12.0,0.0,0.0,0.0,33.0,232.0,694.0,689.0,634.0,289.0,4.0,16.0,4.0,1.0,0.0,0.0,0.0,2.0,0.0,0.0,0.0,1.0,3.0,32.0,1.0,0.0,14.0,43.0,5.0,131.0,2.0,0.0,0.0,20.0,55.0,30.0,1.0,5.0,53.0,137.0,125.0,269.0,181.0,361.0,4.0,0.0,0.0,23.0,12.0,2.0,1.0,1.0,0.0,0.0,10.0,0.0,0.0,2.0,200.0,3.0,2.0,0.0,0.0,0.0,45.0,13.0,17.0,0.0,2.0,34.0,6.0,18.0,5.0,50.0,8.0,470.0,468.0,145.0,710.0,185.0,271.0,155.0,0.0,15.0,0.0,1.0,6.0,1.0,37.0,22.0,12.0,62.0,22.0,1.0,3.0,2.0,32.0,1.0,2.0,4.0,24.0,74.0,5.0,2.0,25.0,1.0,0.0,3.0,0.0,13.0,24.0,1.0,3.0,171.0,8.0,34.0,53.0,22.0,2.0,32.0,4.0,66.0,6.0,18.0,9.0,4.0,1.0,26.0,11.0,666.0,190.0,148.0,3.0,0.0,1.0,4.0,10.0,135.0,15.0,1.0,24.0,107.0,9.0,134.0,0.0,3.0,28.0,28.0,41.0,19.0,254.0,82.0,72.0,316.0,117.0,447.0,1508.0,2014.0,7781.0,5559.0,2165.0,1805.0,0.0,0.0,15.0,0.0,12.0,0.0,2.0,107.0,0.0,17.0,11.0,2.0,31.0,73.0,110.0,24.0,0.0,141.0,1571.0,201.0,129.0,1027.0,100.0,4.0,2.0,30.0,0.0,4.0,6.0,2.0,10.0,6.0,1.0,0.0,2.0,0.0,2.0,20.0,5.0,64.0,5.0,18.0,92.0,4.0,1.0,4.0,28.0,8.0,0.0,1.0,10.0,9.0,3.0,21.0,16.0,7.0,7.0,0.0,0.0,128.0,21.0,228.0,40.0,58.0,16.0,258.0,28.0,60.0,1.0,0.0,0.0,0.0,0.0,0.0,0.0,0.0,30.0,5.0,6.0,8.0,78.0,29.0,28.0,145.0,0.0,6.0,36.0,3.0,6.0,7.0,2.0,20.0,22.0,408.0,436.0,381.0,295.0,337.0,783.0,660.0,1589.0,1447.0,1583.0,1912.0,0.0,2.0,5.0,6.0,8.0,17.0,8.0,9.0,28.0,21.0,82.0,153.0,120.0,152.0,57.0,150.0,384.0,706.0,447.0,105.0,82.0,23.0,13.0,4.0,18.0,1.0,1.0,0.0,5.0,2.0,9.0,5.0,21.0,21.0,68.0,226.0,908.0,218.0,633.0,581.0,3.0,2.0,0.0,0.0,305.0,8.0,0.0,58.0,14.0,0.0,32.0,13.0,17.0,6.0,40.0,1.0,16.0,23.0,13.0,565.0,28.0,54.0,484.0,317.0,205.0,77.0,80.0,189.0,60.0,220.0,546.0,210.0,182.0,82.0,0.0,1.0,0.0,4.0,0.0,0.0,0.0,0.0,0.0,1.0,0.0,0.0,0.0,0.0,0.0,1.0,0.0,1.0,0.0,1.0,11.0,0.0,2.0,24.0,0.0,0.0,0.0,8.0,4.0,10.0,3.0,8.0,1.0,13.0,12.0,47.0,0.0,3.0,0.0,0.0,41.0,0.0,0.0,4.0,1.0,7.0,5.0,3.0,21.0,14.0,0.0,4.0,4.0,25.0,43.0,103.0,71.0,5.0,13.0,53.0,0.0,113.0,235.0,32.0,1.0,1.0,160.0,72.0,84.0,2.0,2.0,22.0,145.0,413.0,239.0,81.0,75.0,297.0,56.0,173.0,231.0,193.0,80.0,2.0,3.0,11.0,75.0,5.0,98.0,4.0,75.0,7.0,0.0,0.0,1.0,0.0,0.0,0.0,0.0,1.0,2.0,28.0,3.0,2.0,1.0,43.0,223.0,13.0,1.0,2.0,1.0,1.0,0.0,0.0,0.0,0.0,2.0,0.0,9.0,33.0,20.0,0.0,0.0,1.0,0.0,0.0,0.0,13.0,13.0,22.0,11.0,4.0,5.0,1.0,35.0,2.0,21.0,9.0,0.0,0.0,0.0,0.0,0.0,0.0,8.0,0.0,0.0,0.0,7.0,1.0,0.0,1.0,0.0,0.0],\"yaxis\":\"y\",\"type\":\"bar\"}],                        {\"template\":{\"data\":{\"bar\":[{\"error_x\":{\"color\":\"#2a3f5f\"},\"error_y\":{\"color\":\"#2a3f5f\"},\"marker\":{\"line\":{\"color\":\"#E5ECF6\",\"width\":0.5},\"pattern\":{\"fillmode\":\"overlay\",\"size\":10,\"solidity\":0.2}},\"type\":\"bar\"}],\"barpolar\":[{\"marker\":{\"line\":{\"color\":\"#E5ECF6\",\"width\":0.5},\"pattern\":{\"fillmode\":\"overlay\",\"size\":10,\"solidity\":0.2}},\"type\":\"barpolar\"}],\"carpet\":[{\"aaxis\":{\"endlinecolor\":\"#2a3f5f\",\"gridcolor\":\"white\",\"linecolor\":\"white\",\"minorgridcolor\":\"white\",\"startlinecolor\":\"#2a3f5f\"},\"baxis\":{\"endlinecolor\":\"#2a3f5f\",\"gridcolor\":\"white\",\"linecolor\":\"white\",\"minorgridcolor\":\"white\",\"startlinecolor\":\"#2a3f5f\"},\"type\":\"carpet\"}],\"choropleth\":[{\"colorbar\":{\"outlinewidth\":0,\"ticks\":\"\"},\"type\":\"choropleth\"}],\"contour\":[{\"colorbar\":{\"outlinewidth\":0,\"ticks\":\"\"},\"colorscale\":[[0.0,\"#0d0887\"],[0.1111111111111111,\"#46039f\"],[0.2222222222222222,\"#7201a8\"],[0.3333333333333333,\"#9c179e\"],[0.4444444444444444,\"#bd3786\"],[0.5555555555555556,\"#d8576b\"],[0.6666666666666666,\"#ed7953\"],[0.7777777777777778,\"#fb9f3a\"],[0.8888888888888888,\"#fdca26\"],[1.0,\"#f0f921\"]],\"type\":\"contour\"}],\"contourcarpet\":[{\"colorbar\":{\"outlinewidth\":0,\"ticks\":\"\"},\"type\":\"contourcarpet\"}],\"heatmap\":[{\"colorbar\":{\"outlinewidth\":0,\"ticks\":\"\"},\"colorscale\":[[0.0,\"#0d0887\"],[0.1111111111111111,\"#46039f\"],[0.2222222222222222,\"#7201a8\"],[0.3333333333333333,\"#9c179e\"],[0.4444444444444444,\"#bd3786\"],[0.5555555555555556,\"#d8576b\"],[0.6666666666666666,\"#ed7953\"],[0.7777777777777778,\"#fb9f3a\"],[0.8888888888888888,\"#fdca26\"],[1.0,\"#f0f921\"]],\"type\":\"heatmap\"}],\"heatmapgl\":[{\"colorbar\":{\"outlinewidth\":0,\"ticks\":\"\"},\"colorscale\":[[0.0,\"#0d0887\"],[0.1111111111111111,\"#46039f\"],[0.2222222222222222,\"#7201a8\"],[0.3333333333333333,\"#9c179e\"],[0.4444444444444444,\"#bd3786\"],[0.5555555555555556,\"#d8576b\"],[0.6666666666666666,\"#ed7953\"],[0.7777777777777778,\"#fb9f3a\"],[0.8888888888888888,\"#fdca26\"],[1.0,\"#f0f921\"]],\"type\":\"heatmapgl\"}],\"histogram\":[{\"marker\":{\"pattern\":{\"fillmode\":\"overlay\",\"size\":10,\"solidity\":0.2}},\"type\":\"histogram\"}],\"histogram2d\":[{\"colorbar\":{\"outlinewidth\":0,\"ticks\":\"\"},\"colorscale\":[[0.0,\"#0d0887\"],[0.1111111111111111,\"#46039f\"],[0.2222222222222222,\"#7201a8\"],[0.3333333333333333,\"#9c179e\"],[0.4444444444444444,\"#bd3786\"],[0.5555555555555556,\"#d8576b\"],[0.6666666666666666,\"#ed7953\"],[0.7777777777777778,\"#fb9f3a\"],[0.8888888888888888,\"#fdca26\"],[1.0,\"#f0f921\"]],\"type\":\"histogram2d\"}],\"histogram2dcontour\":[{\"colorbar\":{\"outlinewidth\":0,\"ticks\":\"\"},\"colorscale\":[[0.0,\"#0d0887\"],[0.1111111111111111,\"#46039f\"],[0.2222222222222222,\"#7201a8\"],[0.3333333333333333,\"#9c179e\"],[0.4444444444444444,\"#bd3786\"],[0.5555555555555556,\"#d8576b\"],[0.6666666666666666,\"#ed7953\"],[0.7777777777777778,\"#fb9f3a\"],[0.8888888888888888,\"#fdca26\"],[1.0,\"#f0f921\"]],\"type\":\"histogram2dcontour\"}],\"mesh3d\":[{\"colorbar\":{\"outlinewidth\":0,\"ticks\":\"\"},\"type\":\"mesh3d\"}],\"parcoords\":[{\"line\":{\"colorbar\":{\"outlinewidth\":0,\"ticks\":\"\"}},\"type\":\"parcoords\"}],\"pie\":[{\"automargin\":true,\"type\":\"pie\"}],\"scatter\":[{\"marker\":{\"colorbar\":{\"outlinewidth\":0,\"ticks\":\"\"}},\"type\":\"scatter\"}],\"scatter3d\":[{\"line\":{\"colorbar\":{\"outlinewidth\":0,\"ticks\":\"\"}},\"marker\":{\"colorbar\":{\"outlinewidth\":0,\"ticks\":\"\"}},\"type\":\"scatter3d\"}],\"scattercarpet\":[{\"marker\":{\"colorbar\":{\"outlinewidth\":0,\"ticks\":\"\"}},\"type\":\"scattercarpet\"}],\"scattergeo\":[{\"marker\":{\"colorbar\":{\"outlinewidth\":0,\"ticks\":\"\"}},\"type\":\"scattergeo\"}],\"scattergl\":[{\"marker\":{\"colorbar\":{\"outlinewidth\":0,\"ticks\":\"\"}},\"type\":\"scattergl\"}],\"scattermapbox\":[{\"marker\":{\"colorbar\":{\"outlinewidth\":0,\"ticks\":\"\"}},\"type\":\"scattermapbox\"}],\"scatterpolar\":[{\"marker\":{\"colorbar\":{\"outlinewidth\":0,\"ticks\":\"\"}},\"type\":\"scatterpolar\"}],\"scatterpolargl\":[{\"marker\":{\"colorbar\":{\"outlinewidth\":0,\"ticks\":\"\"}},\"type\":\"scatterpolargl\"}],\"scatterternary\":[{\"marker\":{\"colorbar\":{\"outlinewidth\":0,\"ticks\":\"\"}},\"type\":\"scatterternary\"}],\"surface\":[{\"colorbar\":{\"outlinewidth\":0,\"ticks\":\"\"},\"colorscale\":[[0.0,\"#0d0887\"],[0.1111111111111111,\"#46039f\"],[0.2222222222222222,\"#7201a8\"],[0.3333333333333333,\"#9c179e\"],[0.4444444444444444,\"#bd3786\"],[0.5555555555555556,\"#d8576b\"],[0.6666666666666666,\"#ed7953\"],[0.7777777777777778,\"#fb9f3a\"],[0.8888888888888888,\"#fdca26\"],[1.0,\"#f0f921\"]],\"type\":\"surface\"}],\"table\":[{\"cells\":{\"fill\":{\"color\":\"#EBF0F8\"},\"line\":{\"color\":\"white\"}},\"header\":{\"fill\":{\"color\":\"#C8D4E3\"},\"line\":{\"color\":\"white\"}},\"type\":\"table\"}]},\"layout\":{\"annotationdefaults\":{\"arrowcolor\":\"#2a3f5f\",\"arrowhead\":0,\"arrowwidth\":1},\"autotypenumbers\":\"strict\",\"coloraxis\":{\"colorbar\":{\"outlinewidth\":0,\"ticks\":\"\"}},\"colorscale\":{\"diverging\":[[0,\"#8e0152\"],[0.1,\"#c51b7d\"],[0.2,\"#de77ae\"],[0.3,\"#f1b6da\"],[0.4,\"#fde0ef\"],[0.5,\"#f7f7f7\"],[0.6,\"#e6f5d0\"],[0.7,\"#b8e186\"],[0.8,\"#7fbc41\"],[0.9,\"#4d9221\"],[1,\"#276419\"]],\"sequential\":[[0.0,\"#0d0887\"],[0.1111111111111111,\"#46039f\"],[0.2222222222222222,\"#7201a8\"],[0.3333333333333333,\"#9c179e\"],[0.4444444444444444,\"#bd3786\"],[0.5555555555555556,\"#d8576b\"],[0.6666666666666666,\"#ed7953\"],[0.7777777777777778,\"#fb9f3a\"],[0.8888888888888888,\"#fdca26\"],[1.0,\"#f0f921\"]],\"sequentialminus\":[[0.0,\"#0d0887\"],[0.1111111111111111,\"#46039f\"],[0.2222222222222222,\"#7201a8\"],[0.3333333333333333,\"#9c179e\"],[0.4444444444444444,\"#bd3786\"],[0.5555555555555556,\"#d8576b\"],[0.6666666666666666,\"#ed7953\"],[0.7777777777777778,\"#fb9f3a\"],[0.8888888888888888,\"#fdca26\"],[1.0,\"#f0f921\"]]},\"colorway\":[\"#636efa\",\"#EF553B\",\"#00cc96\",\"#ab63fa\",\"#FFA15A\",\"#19d3f3\",\"#FF6692\",\"#B6E880\",\"#FF97FF\",\"#FECB52\"],\"font\":{\"color\":\"#2a3f5f\"},\"geo\":{\"bgcolor\":\"white\",\"lakecolor\":\"white\",\"landcolor\":\"#E5ECF6\",\"showlakes\":true,\"showland\":true,\"subunitcolor\":\"white\"},\"hoverlabel\":{\"align\":\"left\"},\"hovermode\":\"closest\",\"mapbox\":{\"style\":\"light\"},\"paper_bgcolor\":\"white\",\"plot_bgcolor\":\"#E5ECF6\",\"polar\":{\"angularaxis\":{\"gridcolor\":\"white\",\"linecolor\":\"white\",\"ticks\":\"\"},\"bgcolor\":\"#E5ECF6\",\"radialaxis\":{\"gridcolor\":\"white\",\"linecolor\":\"white\",\"ticks\":\"\"}},\"scene\":{\"xaxis\":{\"backgroundcolor\":\"#E5ECF6\",\"gridcolor\":\"white\",\"gridwidth\":2,\"linecolor\":\"white\",\"showbackground\":true,\"ticks\":\"\",\"zerolinecolor\":\"white\"},\"yaxis\":{\"backgroundcolor\":\"#E5ECF6\",\"gridcolor\":\"white\",\"gridwidth\":2,\"linecolor\":\"white\",\"showbackground\":true,\"ticks\":\"\",\"zerolinecolor\":\"white\"},\"zaxis\":{\"backgroundcolor\":\"#E5ECF6\",\"gridcolor\":\"white\",\"gridwidth\":2,\"linecolor\":\"white\",\"showbackground\":true,\"ticks\":\"\",\"zerolinecolor\":\"white\"}},\"shapedefaults\":{\"line\":{\"color\":\"#2a3f5f\"}},\"ternary\":{\"aaxis\":{\"gridcolor\":\"white\",\"linecolor\":\"white\",\"ticks\":\"\"},\"baxis\":{\"gridcolor\":\"white\",\"linecolor\":\"white\",\"ticks\":\"\"},\"bgcolor\":\"#E5ECF6\",\"caxis\":{\"gridcolor\":\"white\",\"linecolor\":\"white\",\"ticks\":\"\"}},\"title\":{\"x\":0.05},\"xaxis\":{\"automargin\":true,\"gridcolor\":\"white\",\"linecolor\":\"white\",\"ticks\":\"\",\"title\":{\"standoff\":15},\"zerolinecolor\":\"white\",\"zerolinewidth\":2},\"yaxis\":{\"automargin\":true,\"gridcolor\":\"white\",\"linecolor\":\"white\",\"ticks\":\"\",\"title\":{\"standoff\":15},\"zerolinecolor\":\"white\",\"zerolinewidth\":2}}},\"xaxis\":{\"anchor\":\"y\",\"domain\":[0.0,1.0],\"title\":{\"text\":\"country_txt\"}},\"yaxis\":{\"anchor\":\"x\",\"domain\":[0.0,1.0],\"title\":{\"text\":\"nkill\"}},\"legend\":{\"tracegroupgap\":0},\"title\":{\"text\":\"Nombre d\\u2019africains bless\\u00e9s \\u00e0 cause de terrorisme par r\\u00e9gion par ann\\u00e9e\"},\"barmode\":\"relative\"},                        {\"responsive\": true}                    ).then(function(){\n",
              "                            \n",
              "var gd = document.getElementById('5be47f5b-0d0f-41dc-b44e-0fd63d0f6917');\n",
              "var x = new MutationObserver(function (mutations, observer) {{\n",
              "        var display = window.getComputedStyle(gd).display;\n",
              "        if (!display || display === 'none') {{\n",
              "            console.log([gd, 'removed!']);\n",
              "            Plotly.purge(gd);\n",
              "            observer.disconnect();\n",
              "        }}\n",
              "}});\n",
              "\n",
              "// Listen for the removal of the full notebook cells\n",
              "var notebookContainer = gd.closest('#notebook-container');\n",
              "if (notebookContainer) {{\n",
              "    x.observe(notebookContainer, {childList: true});\n",
              "}}\n",
              "\n",
              "// Listen for the clearing of the current output cell\n",
              "var outputEl = gd.closest('.output');\n",
              "if (outputEl) {{\n",
              "    x.observe(outputEl, {childList: true});\n",
              "}}\n",
              "\n",
              "                        })                };                            </script>        </div>\n",
              "</body>\n",
              "</html>"
            ]
          },
          "metadata": {}
        }
      ],
      "source": [
        "px.bar(df_blesse, x='country_txt', y='nkill', title =f\"Nombre d’africains blessés à cause de terrorisme par région par année\")\n",
        "# px.bar(df_blesse, x='country_txt', y='nkill', title =f\"Nombre d’africains blessés à cause de terrorisme par région par année\", animation_frame='iyear')"
      ]
    },
    {
      "cell_type": "markdown",
      "source": [
        "## Visualiser le cumul annuel du nombre de morts causés par des attaques terroristes par région"
      ],
      "metadata": {
        "id": "6FyyOe1yYum5"
      }
    },
    {
      "cell_type": "code",
      "execution_count": 97,
      "metadata": {
        "id": "weHyFBsqnM0s"
      },
      "outputs": [],
      "source": [
        "df_cum_total_death_annual = df.groupby(['iyear'])[\"nkill\"].sum().reset_index()"
      ]
    },
    {
      "cell_type": "code",
      "execution_count": 83,
      "metadata": {
        "colab": {
          "base_uri": "https://localhost:8080/",
          "height": 542
        },
        "id": "CZZnkmT_nMeC",
        "outputId": "8016151d-7655-4b98-e797-5b280a9156d6"
      },
      "outputs": [
        {
          "output_type": "display_data",
          "data": {
            "text/html": [
              "<html>\n",
              "<head><meta charset=\"utf-8\" /></head>\n",
              "<body>\n",
              "    <div>            <script src=\"https://cdnjs.cloudflare.com/ajax/libs/mathjax/2.7.5/MathJax.js?config=TeX-AMS-MML_SVG\"></script><script type=\"text/javascript\">if (window.MathJax) {MathJax.Hub.Config({SVG: {font: \"STIX-Web\"}});}</script>                <script type=\"text/javascript\">window.PlotlyConfig = {MathJaxConfig: 'local'};</script>\n",
              "        <script src=\"https://cdn.plot.ly/plotly-2.8.3.min.js\"></script>                <div id=\"3c41bc2d-6e96-4415-82be-10b01d61d34c\" class=\"plotly-graph-div\" style=\"height:525px; width:100%;\"></div>            <script type=\"text/javascript\">                                    window.PLOTLYENV=window.PLOTLYENV || {};                                    if (document.getElementById(\"3c41bc2d-6e96-4415-82be-10b01d61d34c\")) {                    Plotly.newPlot(                        \"3c41bc2d-6e96-4415-82be-10b01d61d34c\",                        [{\"alignmentgroup\":\"True\",\"hovertemplate\":\"iyear=%{x}<br>nkill=%{y}<extra></extra>\",\"legendgroup\":\"\",\"marker\":{\"color\":\"#636efa\",\"pattern\":{\"shape\":\"\"}},\"name\":\"\",\"offsetgroup\":\"\",\"orientation\":\"v\",\"showlegend\":false,\"textposition\":\"auto\",\"x\":[1970,1971,1972,1973,1974,1975,1976,1977,1978,1979,1980,1981,1982,1983,1984,1985,1986,1987,1988,1989,1990,1991,1992,1994,1995,1996,1997,1998,1999,2000,2001,2002,2003,2004,2005,2006,2007,2008,2009,2010,2011,2012,2013,2014,2015,2016,2017],\"xaxis\":\"x\",\"y\":[171.0,168.0,566.0,370.0,538.0,612.0,672.0,451.0,1440.0,1996.0,4356.0,4822.0,5101.0,9401.0,10289.0,7092.0,4970.0,6465.0,7208.0,8146.0,7134.0,8410.0,9716.0,7658.0,6103.0,6962.0,10846.0,4676.0,3359.0,4314.0,7650.0,4751.0,3238.0,5741.0,6330.0,9319.0,12810.0,9145.0,9260.0,7777.0,8195.0,15497.0,22273.0,44490.0,38853.0,34871.0,26445.0],\"yaxis\":\"y\",\"type\":\"bar\"}],                        {\"template\":{\"data\":{\"bar\":[{\"error_x\":{\"color\":\"#2a3f5f\"},\"error_y\":{\"color\":\"#2a3f5f\"},\"marker\":{\"line\":{\"color\":\"#E5ECF6\",\"width\":0.5},\"pattern\":{\"fillmode\":\"overlay\",\"size\":10,\"solidity\":0.2}},\"type\":\"bar\"}],\"barpolar\":[{\"marker\":{\"line\":{\"color\":\"#E5ECF6\",\"width\":0.5},\"pattern\":{\"fillmode\":\"overlay\",\"size\":10,\"solidity\":0.2}},\"type\":\"barpolar\"}],\"carpet\":[{\"aaxis\":{\"endlinecolor\":\"#2a3f5f\",\"gridcolor\":\"white\",\"linecolor\":\"white\",\"minorgridcolor\":\"white\",\"startlinecolor\":\"#2a3f5f\"},\"baxis\":{\"endlinecolor\":\"#2a3f5f\",\"gridcolor\":\"white\",\"linecolor\":\"white\",\"minorgridcolor\":\"white\",\"startlinecolor\":\"#2a3f5f\"},\"type\":\"carpet\"}],\"choropleth\":[{\"colorbar\":{\"outlinewidth\":0,\"ticks\":\"\"},\"type\":\"choropleth\"}],\"contour\":[{\"colorbar\":{\"outlinewidth\":0,\"ticks\":\"\"},\"colorscale\":[[0.0,\"#0d0887\"],[0.1111111111111111,\"#46039f\"],[0.2222222222222222,\"#7201a8\"],[0.3333333333333333,\"#9c179e\"],[0.4444444444444444,\"#bd3786\"],[0.5555555555555556,\"#d8576b\"],[0.6666666666666666,\"#ed7953\"],[0.7777777777777778,\"#fb9f3a\"],[0.8888888888888888,\"#fdca26\"],[1.0,\"#f0f921\"]],\"type\":\"contour\"}],\"contourcarpet\":[{\"colorbar\":{\"outlinewidth\":0,\"ticks\":\"\"},\"type\":\"contourcarpet\"}],\"heatmap\":[{\"colorbar\":{\"outlinewidth\":0,\"ticks\":\"\"},\"colorscale\":[[0.0,\"#0d0887\"],[0.1111111111111111,\"#46039f\"],[0.2222222222222222,\"#7201a8\"],[0.3333333333333333,\"#9c179e\"],[0.4444444444444444,\"#bd3786\"],[0.5555555555555556,\"#d8576b\"],[0.6666666666666666,\"#ed7953\"],[0.7777777777777778,\"#fb9f3a\"],[0.8888888888888888,\"#fdca26\"],[1.0,\"#f0f921\"]],\"type\":\"heatmap\"}],\"heatmapgl\":[{\"colorbar\":{\"outlinewidth\":0,\"ticks\":\"\"},\"colorscale\":[[0.0,\"#0d0887\"],[0.1111111111111111,\"#46039f\"],[0.2222222222222222,\"#7201a8\"],[0.3333333333333333,\"#9c179e\"],[0.4444444444444444,\"#bd3786\"],[0.5555555555555556,\"#d8576b\"],[0.6666666666666666,\"#ed7953\"],[0.7777777777777778,\"#fb9f3a\"],[0.8888888888888888,\"#fdca26\"],[1.0,\"#f0f921\"]],\"type\":\"heatmapgl\"}],\"histogram\":[{\"marker\":{\"pattern\":{\"fillmode\":\"overlay\",\"size\":10,\"solidity\":0.2}},\"type\":\"histogram\"}],\"histogram2d\":[{\"colorbar\":{\"outlinewidth\":0,\"ticks\":\"\"},\"colorscale\":[[0.0,\"#0d0887\"],[0.1111111111111111,\"#46039f\"],[0.2222222222222222,\"#7201a8\"],[0.3333333333333333,\"#9c179e\"],[0.4444444444444444,\"#bd3786\"],[0.5555555555555556,\"#d8576b\"],[0.6666666666666666,\"#ed7953\"],[0.7777777777777778,\"#fb9f3a\"],[0.8888888888888888,\"#fdca26\"],[1.0,\"#f0f921\"]],\"type\":\"histogram2d\"}],\"histogram2dcontour\":[{\"colorbar\":{\"outlinewidth\":0,\"ticks\":\"\"},\"colorscale\":[[0.0,\"#0d0887\"],[0.1111111111111111,\"#46039f\"],[0.2222222222222222,\"#7201a8\"],[0.3333333333333333,\"#9c179e\"],[0.4444444444444444,\"#bd3786\"],[0.5555555555555556,\"#d8576b\"],[0.6666666666666666,\"#ed7953\"],[0.7777777777777778,\"#fb9f3a\"],[0.8888888888888888,\"#fdca26\"],[1.0,\"#f0f921\"]],\"type\":\"histogram2dcontour\"}],\"mesh3d\":[{\"colorbar\":{\"outlinewidth\":0,\"ticks\":\"\"},\"type\":\"mesh3d\"}],\"parcoords\":[{\"line\":{\"colorbar\":{\"outlinewidth\":0,\"ticks\":\"\"}},\"type\":\"parcoords\"}],\"pie\":[{\"automargin\":true,\"type\":\"pie\"}],\"scatter\":[{\"marker\":{\"colorbar\":{\"outlinewidth\":0,\"ticks\":\"\"}},\"type\":\"scatter\"}],\"scatter3d\":[{\"line\":{\"colorbar\":{\"outlinewidth\":0,\"ticks\":\"\"}},\"marker\":{\"colorbar\":{\"outlinewidth\":0,\"ticks\":\"\"}},\"type\":\"scatter3d\"}],\"scattercarpet\":[{\"marker\":{\"colorbar\":{\"outlinewidth\":0,\"ticks\":\"\"}},\"type\":\"scattercarpet\"}],\"scattergeo\":[{\"marker\":{\"colorbar\":{\"outlinewidth\":0,\"ticks\":\"\"}},\"type\":\"scattergeo\"}],\"scattergl\":[{\"marker\":{\"colorbar\":{\"outlinewidth\":0,\"ticks\":\"\"}},\"type\":\"scattergl\"}],\"scattermapbox\":[{\"marker\":{\"colorbar\":{\"outlinewidth\":0,\"ticks\":\"\"}},\"type\":\"scattermapbox\"}],\"scatterpolar\":[{\"marker\":{\"colorbar\":{\"outlinewidth\":0,\"ticks\":\"\"}},\"type\":\"scatterpolar\"}],\"scatterpolargl\":[{\"marker\":{\"colorbar\":{\"outlinewidth\":0,\"ticks\":\"\"}},\"type\":\"scatterpolargl\"}],\"scatterternary\":[{\"marker\":{\"colorbar\":{\"outlinewidth\":0,\"ticks\":\"\"}},\"type\":\"scatterternary\"}],\"surface\":[{\"colorbar\":{\"outlinewidth\":0,\"ticks\":\"\"},\"colorscale\":[[0.0,\"#0d0887\"],[0.1111111111111111,\"#46039f\"],[0.2222222222222222,\"#7201a8\"],[0.3333333333333333,\"#9c179e\"],[0.4444444444444444,\"#bd3786\"],[0.5555555555555556,\"#d8576b\"],[0.6666666666666666,\"#ed7953\"],[0.7777777777777778,\"#fb9f3a\"],[0.8888888888888888,\"#fdca26\"],[1.0,\"#f0f921\"]],\"type\":\"surface\"}],\"table\":[{\"cells\":{\"fill\":{\"color\":\"#EBF0F8\"},\"line\":{\"color\":\"white\"}},\"header\":{\"fill\":{\"color\":\"#C8D4E3\"},\"line\":{\"color\":\"white\"}},\"type\":\"table\"}]},\"layout\":{\"annotationdefaults\":{\"arrowcolor\":\"#2a3f5f\",\"arrowhead\":0,\"arrowwidth\":1},\"autotypenumbers\":\"strict\",\"coloraxis\":{\"colorbar\":{\"outlinewidth\":0,\"ticks\":\"\"}},\"colorscale\":{\"diverging\":[[0,\"#8e0152\"],[0.1,\"#c51b7d\"],[0.2,\"#de77ae\"],[0.3,\"#f1b6da\"],[0.4,\"#fde0ef\"],[0.5,\"#f7f7f7\"],[0.6,\"#e6f5d0\"],[0.7,\"#b8e186\"],[0.8,\"#7fbc41\"],[0.9,\"#4d9221\"],[1,\"#276419\"]],\"sequential\":[[0.0,\"#0d0887\"],[0.1111111111111111,\"#46039f\"],[0.2222222222222222,\"#7201a8\"],[0.3333333333333333,\"#9c179e\"],[0.4444444444444444,\"#bd3786\"],[0.5555555555555556,\"#d8576b\"],[0.6666666666666666,\"#ed7953\"],[0.7777777777777778,\"#fb9f3a\"],[0.8888888888888888,\"#fdca26\"],[1.0,\"#f0f921\"]],\"sequentialminus\":[[0.0,\"#0d0887\"],[0.1111111111111111,\"#46039f\"],[0.2222222222222222,\"#7201a8\"],[0.3333333333333333,\"#9c179e\"],[0.4444444444444444,\"#bd3786\"],[0.5555555555555556,\"#d8576b\"],[0.6666666666666666,\"#ed7953\"],[0.7777777777777778,\"#fb9f3a\"],[0.8888888888888888,\"#fdca26\"],[1.0,\"#f0f921\"]]},\"colorway\":[\"#636efa\",\"#EF553B\",\"#00cc96\",\"#ab63fa\",\"#FFA15A\",\"#19d3f3\",\"#FF6692\",\"#B6E880\",\"#FF97FF\",\"#FECB52\"],\"font\":{\"color\":\"#2a3f5f\"},\"geo\":{\"bgcolor\":\"white\",\"lakecolor\":\"white\",\"landcolor\":\"#E5ECF6\",\"showlakes\":true,\"showland\":true,\"subunitcolor\":\"white\"},\"hoverlabel\":{\"align\":\"left\"},\"hovermode\":\"closest\",\"mapbox\":{\"style\":\"light\"},\"paper_bgcolor\":\"white\",\"plot_bgcolor\":\"#E5ECF6\",\"polar\":{\"angularaxis\":{\"gridcolor\":\"white\",\"linecolor\":\"white\",\"ticks\":\"\"},\"bgcolor\":\"#E5ECF6\",\"radialaxis\":{\"gridcolor\":\"white\",\"linecolor\":\"white\",\"ticks\":\"\"}},\"scene\":{\"xaxis\":{\"backgroundcolor\":\"#E5ECF6\",\"gridcolor\":\"white\",\"gridwidth\":2,\"linecolor\":\"white\",\"showbackground\":true,\"ticks\":\"\",\"zerolinecolor\":\"white\"},\"yaxis\":{\"backgroundcolor\":\"#E5ECF6\",\"gridcolor\":\"white\",\"gridwidth\":2,\"linecolor\":\"white\",\"showbackground\":true,\"ticks\":\"\",\"zerolinecolor\":\"white\"},\"zaxis\":{\"backgroundcolor\":\"#E5ECF6\",\"gridcolor\":\"white\",\"gridwidth\":2,\"linecolor\":\"white\",\"showbackground\":true,\"ticks\":\"\",\"zerolinecolor\":\"white\"}},\"shapedefaults\":{\"line\":{\"color\":\"#2a3f5f\"}},\"ternary\":{\"aaxis\":{\"gridcolor\":\"white\",\"linecolor\":\"white\",\"ticks\":\"\"},\"baxis\":{\"gridcolor\":\"white\",\"linecolor\":\"white\",\"ticks\":\"\"},\"bgcolor\":\"#E5ECF6\",\"caxis\":{\"gridcolor\":\"white\",\"linecolor\":\"white\",\"ticks\":\"\"}},\"title\":{\"x\":0.05},\"xaxis\":{\"automargin\":true,\"gridcolor\":\"white\",\"linecolor\":\"white\",\"ticks\":\"\",\"title\":{\"standoff\":15},\"zerolinecolor\":\"white\",\"zerolinewidth\":2},\"yaxis\":{\"automargin\":true,\"gridcolor\":\"white\",\"linecolor\":\"white\",\"ticks\":\"\",\"title\":{\"standoff\":15},\"zerolinecolor\":\"white\",\"zerolinewidth\":2}}},\"xaxis\":{\"anchor\":\"y\",\"domain\":[0.0,1.0],\"title\":{\"text\":\"iyear\"}},\"yaxis\":{\"anchor\":\"x\",\"domain\":[0.0,1.0],\"title\":{\"text\":\"nkill\"}},\"legend\":{\"tracegroupgap\":0},\"title\":{\"text\":\"Nombre d\\u2019africains bless\\u00e9s \\u00e0 cause de terrorisme par r\\u00e9gion par ann\\u00e9e\"},\"barmode\":\"relative\"},                        {\"responsive\": true}                    ).then(function(){\n",
              "                            \n",
              "var gd = document.getElementById('3c41bc2d-6e96-4415-82be-10b01d61d34c');\n",
              "var x = new MutationObserver(function (mutations, observer) {{\n",
              "        var display = window.getComputedStyle(gd).display;\n",
              "        if (!display || display === 'none') {{\n",
              "            console.log([gd, 'removed!']);\n",
              "            Plotly.purge(gd);\n",
              "            observer.disconnect();\n",
              "        }}\n",
              "}});\n",
              "\n",
              "// Listen for the removal of the full notebook cells\n",
              "var notebookContainer = gd.closest('#notebook-container');\n",
              "if (notebookContainer) {{\n",
              "    x.observe(notebookContainer, {childList: true});\n",
              "}}\n",
              "\n",
              "// Listen for the clearing of the current output cell\n",
              "var outputEl = gd.closest('.output');\n",
              "if (outputEl) {{\n",
              "    x.observe(outputEl, {childList: true});\n",
              "}}\n",
              "\n",
              "                        })                };                            </script>        </div>\n",
              "</body>\n",
              "</html>"
            ]
          },
          "metadata": {}
        }
      ],
      "source": [
        "px.bar(df_cum_total_death_annual, x='iyear', y=\"nkill\", title =f\"Nombre d’africains blessés à cause de terrorisme par région par année\")"
      ]
    },
    {
      "cell_type": "markdown",
      "source": [
        "Dans ce graphique on peut voir que les attentats térroristes augmentent au fil des années\n",
        "- L'année 2014 est celle ou il ya le plus d'attack terrorites avec 44,49K morts\n",
        "- Maintenant 2014 on note une dimunition du morts mais ce n'est beaucoup"
      ],
      "metadata": {
        "id": "EfkJcHLnbZb8"
      }
    },
    {
      "cell_type": "markdown",
      "source": [
        "## Visualiser la répartition géographique du nombre d’attaques terroristes par leurs types et par pays"
      ],
      "metadata": {
        "id": "9MR8seY5evOs"
      }
    },
    {
      "cell_type": "code",
      "source": [
        "import folium"
      ],
      "metadata": {
        "id": "18coaFJ9gP4V"
      },
      "execution_count": 101,
      "outputs": []
    },
    {
      "cell_type": "code",
      "source": [
        ""
      ],
      "metadata": {
        "colab": {
          "base_uri": "https://localhost:8080/"
        },
        "id": "ligXIfSMe1EZ",
        "outputId": "58f26c59-74d4-4b24-f085-d6780e8e99d1"
      },
      "execution_count": 102,
      "outputs": [
        {
          "name": "stdout",
          "output_type": "stream",
          "text": [
            "Please give a year: 2000\n",
            "Please give a country of interest: India\n"
          ]
        }
      ]
    },
    {
      "cell_type": "code",
      "source": [
        ""
      ],
      "metadata": {
        "id": "tbCIjRN2fYi9"
      },
      "execution_count": 103,
      "outputs": []
    }
  ],
  "metadata": {
    "colab": {
      "collapsed_sections": [],
      "name": "00 - Datacamp.ipynb",
      "provenance": []
    },
    "kernelspec": {
      "display_name": "Python 3",
      "name": "python3"
    },
    "language_info": {
      "name": "python"
    }
  },
  "nbformat": 4,
  "nbformat_minor": 0
}