{
 "cells": [
  {
   "cell_type": "code",
   "execution_count": 3,
   "metadata": {},
   "outputs": [],
   "source": [
    "from plotly import express as px, graph_objects as go"
   ]
  },
  {
   "cell_type": "code",
   "execution_count": 4,
   "metadata": {},
   "outputs": [],
   "source": [
    "import pandas as pd"
   ]
  },
  {
   "cell_type": "code",
   "execution_count": 5,
   "metadata": {},
   "outputs": [],
   "source": [
    "cleaned_data = pd.read_csv(\"data/cleaned/terror.csv\")"
   ]
  },
  {
   "cell_type": "markdown",
   "metadata": {},
   "source": [
    "## Observation avant exploration"
   ]
  },
  {
   "cell_type": "code",
   "execution_count": 44,
   "metadata": {},
   "outputs": [
    {
     "data": {
      "text/plain": [
       "(180800, 50)"
      ]
     },
     "execution_count": 44,
     "metadata": {},
     "output_type": "execute_result"
    }
   ],
   "source": [
    "# nombre de colonnes et de lignes\n",
    "cleaned_data.shape"
   ]
  },
  {
   "cell_type": "markdown",
   "metadata": {},
   "source": [
    "On a 49 variables et 181691 observations dans le jeu de données"
   ]
  },
  {
   "cell_type": "code",
   "execution_count": 9,
   "metadata": {},
   "outputs": [],
   "source": [
    "# faisons en sorte que toutes colonnes sortent lors de l'affichage\n",
    "pd.options.display.max_columns = cleaned_data.shape[1]"
   ]
  },
  {
   "cell_type": "code",
   "execution_count": 10,
   "metadata": {},
   "outputs": [
    {
     "data": {
      "text/html": [
       "<div>\n",
       "<style scoped>\n",
       "    .dataframe tbody tr th:only-of-type {\n",
       "        vertical-align: middle;\n",
       "    }\n",
       "\n",
       "    .dataframe tbody tr th {\n",
       "        vertical-align: top;\n",
       "    }\n",
       "\n",
       "    .dataframe thead th {\n",
       "        text-align: right;\n",
       "    }\n",
       "</style>\n",
       "<table border=\"1\" class=\"dataframe\">\n",
       "  <thead>\n",
       "    <tr style=\"text-align: right;\">\n",
       "      <th></th>\n",
       "      <th>iyear</th>\n",
       "      <th>iday</th>\n",
       "      <th>imonth</th>\n",
       "      <th>nkill</th>\n",
       "      <th>country_txt</th>\n",
       "      <th>nwound</th>\n",
       "      <th>region_txt</th>\n",
       "      <th>provstate</th>\n",
       "      <th>city</th>\n",
       "      <th>nkillus</th>\n",
       "      <th>nwoundus</th>\n",
       "      <th>region_txt.1</th>\n",
       "      <th>latitude</th>\n",
       "      <th>longitude</th>\n",
       "      <th>attacktype1_txt</th>\n",
       "      <th>alternative_txt</th>\n",
       "      <th>suicide</th>\n",
       "      <th>ransompaid</th>\n",
       "      <th>nhostkid</th>\n",
       "      <th>hostkidoutcome_txt</th>\n",
       "      <th>ransomnote</th>\n",
       "      <th>nhours</th>\n",
       "      <th>ndays</th>\n",
       "      <th>ransompaidus</th>\n",
       "      <th>nhostkidus</th>\n",
       "      <th>summary</th>\n",
       "      <th>motive</th>\n",
       "      <th>gname</th>\n",
       "      <th>natlty1_txt</th>\n",
       "      <th>kidhijcountry</th>\n",
       "      <th>weaptype1_txt</th>\n",
       "      <th>weapsubtype1_txt</th>\n",
       "      <th>weaptype2_txt</th>\n",
       "      <th>weapsubtype2_txt</th>\n",
       "      <th>weaptype3_txt</th>\n",
       "      <th>weapsubtype3_txt</th>\n",
       "      <th>weaptype4_txt</th>\n",
       "      <th>weapsubtype4_txt</th>\n",
       "      <th>targtype1_txt</th>\n",
       "      <th>targsubtype1_txt</th>\n",
       "      <th>targtype2_txt</th>\n",
       "      <th>targsubtype2_txt</th>\n",
       "      <th>targtype3_txt</th>\n",
       "      <th>targsubtype3_txt</th>\n",
       "      <th>claimmode_txt</th>\n",
       "      <th>propextent_txt</th>\n",
       "      <th>propextent</th>\n",
       "      <th>propvalue</th>\n",
       "      <th>dbsource</th>\n",
       "    </tr>\n",
       "  </thead>\n",
       "  <tbody>\n",
       "    <tr>\n",
       "      <th>0</th>\n",
       "      <td>1970</td>\n",
       "      <td>2</td>\n",
       "      <td>7</td>\n",
       "      <td>1.0</td>\n",
       "      <td>Dominican Republic</td>\n",
       "      <td>0.0</td>\n",
       "      <td>Central America &amp; Caribbean</td>\n",
       "      <td>''</td>\n",
       "      <td>Santo Domingo</td>\n",
       "      <td>0.0</td>\n",
       "      <td>0.0</td>\n",
       "      <td>Central America &amp; Caribbean</td>\n",
       "      <td>18.456792</td>\n",
       "      <td>-69.951164</td>\n",
       "      <td>Assassination</td>\n",
       "      <td>''</td>\n",
       "      <td>0</td>\n",
       "      <td>0.0</td>\n",
       "      <td>0.0</td>\n",
       "      <td>''</td>\n",
       "      <td>''</td>\n",
       "      <td>0.0</td>\n",
       "      <td>0.0</td>\n",
       "      <td>0.0</td>\n",
       "      <td>0.0</td>\n",
       "      <td>''</td>\n",
       "      <td>''</td>\n",
       "      <td>MANO-D</td>\n",
       "      <td>Dominican Republic</td>\n",
       "      <td>''</td>\n",
       "      <td>Unknown</td>\n",
       "      <td>''</td>\n",
       "      <td>''</td>\n",
       "      <td>''</td>\n",
       "      <td>''</td>\n",
       "      <td>''</td>\n",
       "      <td>''</td>\n",
       "      <td>''</td>\n",
       "      <td>Private Citizens &amp; Property</td>\n",
       "      <td>Named Civilian</td>\n",
       "      <td>''</td>\n",
       "      <td>''</td>\n",
       "      <td>''</td>\n",
       "      <td>''</td>\n",
       "      <td>''</td>\n",
       "      <td>''</td>\n",
       "      <td>0.0</td>\n",
       "      <td>0.0</td>\n",
       "      <td>PGIS</td>\n",
       "    </tr>\n",
       "    <tr>\n",
       "      <th>1</th>\n",
       "      <td>1970</td>\n",
       "      <td>0</td>\n",
       "      <td>0</td>\n",
       "      <td>0.0</td>\n",
       "      <td>Mexico</td>\n",
       "      <td>0.0</td>\n",
       "      <td>North America</td>\n",
       "      <td>Federal</td>\n",
       "      <td>Mexico city</td>\n",
       "      <td>0.0</td>\n",
       "      <td>0.0</td>\n",
       "      <td>North America</td>\n",
       "      <td>19.371887</td>\n",
       "      <td>-99.086624</td>\n",
       "      <td>Hostage Taking (Kidnapping)</td>\n",
       "      <td>''</td>\n",
       "      <td>0</td>\n",
       "      <td>0.0</td>\n",
       "      <td>1.0</td>\n",
       "      <td>''</td>\n",
       "      <td>''</td>\n",
       "      <td>0.0</td>\n",
       "      <td>0.0</td>\n",
       "      <td>0.0</td>\n",
       "      <td>0.0</td>\n",
       "      <td>''</td>\n",
       "      <td>''</td>\n",
       "      <td>23rd of September Communist League</td>\n",
       "      <td>Belgium</td>\n",
       "      <td>Mexico</td>\n",
       "      <td>Unknown</td>\n",
       "      <td>''</td>\n",
       "      <td>''</td>\n",
       "      <td>''</td>\n",
       "      <td>''</td>\n",
       "      <td>''</td>\n",
       "      <td>''</td>\n",
       "      <td>''</td>\n",
       "      <td>Government (Diplomatic)</td>\n",
       "      <td>Diplomatic Personnel (outside of embassy, cons...</td>\n",
       "      <td>''</td>\n",
       "      <td>''</td>\n",
       "      <td>''</td>\n",
       "      <td>''</td>\n",
       "      <td>''</td>\n",
       "      <td>''</td>\n",
       "      <td>0.0</td>\n",
       "      <td>0.0</td>\n",
       "      <td>PGIS</td>\n",
       "    </tr>\n",
       "    <tr>\n",
       "      <th>2</th>\n",
       "      <td>1970</td>\n",
       "      <td>0</td>\n",
       "      <td>1</td>\n",
       "      <td>1.0</td>\n",
       "      <td>Philippines</td>\n",
       "      <td>0.0</td>\n",
       "      <td>Southeast Asia</td>\n",
       "      <td>Tarlac</td>\n",
       "      <td>Unknown</td>\n",
       "      <td>0.0</td>\n",
       "      <td>0.0</td>\n",
       "      <td>Southeast Asia</td>\n",
       "      <td>15.478598</td>\n",
       "      <td>120.599741</td>\n",
       "      <td>Assassination</td>\n",
       "      <td>''</td>\n",
       "      <td>0</td>\n",
       "      <td>0.0</td>\n",
       "      <td>0.0</td>\n",
       "      <td>''</td>\n",
       "      <td>''</td>\n",
       "      <td>0.0</td>\n",
       "      <td>0.0</td>\n",
       "      <td>0.0</td>\n",
       "      <td>0.0</td>\n",
       "      <td>''</td>\n",
       "      <td>''</td>\n",
       "      <td>Unknown</td>\n",
       "      <td>United States</td>\n",
       "      <td>''</td>\n",
       "      <td>Unknown</td>\n",
       "      <td>''</td>\n",
       "      <td>''</td>\n",
       "      <td>''</td>\n",
       "      <td>''</td>\n",
       "      <td>''</td>\n",
       "      <td>''</td>\n",
       "      <td>''</td>\n",
       "      <td>Journalists &amp; Media</td>\n",
       "      <td>Radio Journalist/Staff/Facility</td>\n",
       "      <td>''</td>\n",
       "      <td>''</td>\n",
       "      <td>''</td>\n",
       "      <td>''</td>\n",
       "      <td>''</td>\n",
       "      <td>''</td>\n",
       "      <td>0.0</td>\n",
       "      <td>0.0</td>\n",
       "      <td>PGIS</td>\n",
       "    </tr>\n",
       "    <tr>\n",
       "      <th>3</th>\n",
       "      <td>1970</td>\n",
       "      <td>0</td>\n",
       "      <td>1</td>\n",
       "      <td>0.0</td>\n",
       "      <td>Greece</td>\n",
       "      <td>0.0</td>\n",
       "      <td>Western Europe</td>\n",
       "      <td>Attica</td>\n",
       "      <td>Athens</td>\n",
       "      <td>0.0</td>\n",
       "      <td>0.0</td>\n",
       "      <td>Western Europe</td>\n",
       "      <td>37.997490</td>\n",
       "      <td>23.762728</td>\n",
       "      <td>Bombing/Explosion</td>\n",
       "      <td>''</td>\n",
       "      <td>0</td>\n",
       "      <td>0.0</td>\n",
       "      <td>0.0</td>\n",
       "      <td>''</td>\n",
       "      <td>''</td>\n",
       "      <td>0.0</td>\n",
       "      <td>0.0</td>\n",
       "      <td>0.0</td>\n",
       "      <td>0.0</td>\n",
       "      <td>''</td>\n",
       "      <td>''</td>\n",
       "      <td>Unknown</td>\n",
       "      <td>United States</td>\n",
       "      <td>''</td>\n",
       "      <td>Explosives</td>\n",
       "      <td>Unknown Explosive Type</td>\n",
       "      <td>''</td>\n",
       "      <td>''</td>\n",
       "      <td>''</td>\n",
       "      <td>''</td>\n",
       "      <td>''</td>\n",
       "      <td>''</td>\n",
       "      <td>Government (Diplomatic)</td>\n",
       "      <td>Embassy/Consulate</td>\n",
       "      <td>''</td>\n",
       "      <td>''</td>\n",
       "      <td>''</td>\n",
       "      <td>''</td>\n",
       "      <td>''</td>\n",
       "      <td>''</td>\n",
       "      <td>0.0</td>\n",
       "      <td>0.0</td>\n",
       "      <td>PGIS</td>\n",
       "    </tr>\n",
       "    <tr>\n",
       "      <th>4</th>\n",
       "      <td>1970</td>\n",
       "      <td>0</td>\n",
       "      <td>1</td>\n",
       "      <td>0.0</td>\n",
       "      <td>Japan</td>\n",
       "      <td>0.0</td>\n",
       "      <td>East Asia</td>\n",
       "      <td>Fukouka</td>\n",
       "      <td>Fukouka</td>\n",
       "      <td>0.0</td>\n",
       "      <td>0.0</td>\n",
       "      <td>East Asia</td>\n",
       "      <td>33.580412</td>\n",
       "      <td>130.396361</td>\n",
       "      <td>Facility/Infrastructure Attack</td>\n",
       "      <td>''</td>\n",
       "      <td>0</td>\n",
       "      <td>0.0</td>\n",
       "      <td>0.0</td>\n",
       "      <td>''</td>\n",
       "      <td>''</td>\n",
       "      <td>0.0</td>\n",
       "      <td>0.0</td>\n",
       "      <td>0.0</td>\n",
       "      <td>0.0</td>\n",
       "      <td>''</td>\n",
       "      <td>''</td>\n",
       "      <td>Unknown</td>\n",
       "      <td>United States</td>\n",
       "      <td>''</td>\n",
       "      <td>Incendiary</td>\n",
       "      <td>''</td>\n",
       "      <td>''</td>\n",
       "      <td>''</td>\n",
       "      <td>''</td>\n",
       "      <td>''</td>\n",
       "      <td>''</td>\n",
       "      <td>''</td>\n",
       "      <td>Government (Diplomatic)</td>\n",
       "      <td>Embassy/Consulate</td>\n",
       "      <td>''</td>\n",
       "      <td>''</td>\n",
       "      <td>''</td>\n",
       "      <td>''</td>\n",
       "      <td>''</td>\n",
       "      <td>''</td>\n",
       "      <td>0.0</td>\n",
       "      <td>0.0</td>\n",
       "      <td>PGIS</td>\n",
       "    </tr>\n",
       "  </tbody>\n",
       "</table>\n",
       "</div>"
      ],
      "text/plain": [
       "   iyear  iday  imonth  nkill         country_txt  nwound  \\\n",
       "0   1970     2       7    1.0  Dominican Republic     0.0   \n",
       "1   1970     0       0    0.0              Mexico     0.0   \n",
       "2   1970     0       1    1.0         Philippines     0.0   \n",
       "3   1970     0       1    0.0              Greece     0.0   \n",
       "4   1970     0       1    0.0               Japan     0.0   \n",
       "\n",
       "                    region_txt provstate           city  nkillus  nwoundus  \\\n",
       "0  Central America & Caribbean        ''  Santo Domingo      0.0       0.0   \n",
       "1                North America   Federal    Mexico city      0.0       0.0   \n",
       "2               Southeast Asia    Tarlac        Unknown      0.0       0.0   \n",
       "3               Western Europe    Attica         Athens      0.0       0.0   \n",
       "4                    East Asia   Fukouka        Fukouka      0.0       0.0   \n",
       "\n",
       "                  region_txt.1   latitude   longitude  \\\n",
       "0  Central America & Caribbean  18.456792  -69.951164   \n",
       "1                North America  19.371887  -99.086624   \n",
       "2               Southeast Asia  15.478598  120.599741   \n",
       "3               Western Europe  37.997490   23.762728   \n",
       "4                    East Asia  33.580412  130.396361   \n",
       "\n",
       "                  attacktype1_txt alternative_txt  suicide  ransompaid  \\\n",
       "0                   Assassination              ''        0         0.0   \n",
       "1     Hostage Taking (Kidnapping)              ''        0         0.0   \n",
       "2                   Assassination              ''        0         0.0   \n",
       "3               Bombing/Explosion              ''        0         0.0   \n",
       "4  Facility/Infrastructure Attack              ''        0         0.0   \n",
       "\n",
       "   nhostkid hostkidoutcome_txt ransomnote  nhours  ndays  ransompaidus  \\\n",
       "0       0.0                 ''         ''     0.0    0.0           0.0   \n",
       "1       1.0                 ''         ''     0.0    0.0           0.0   \n",
       "2       0.0                 ''         ''     0.0    0.0           0.0   \n",
       "3       0.0                 ''         ''     0.0    0.0           0.0   \n",
       "4       0.0                 ''         ''     0.0    0.0           0.0   \n",
       "\n",
       "   nhostkidus summary motive                               gname  \\\n",
       "0         0.0      ''     ''                              MANO-D   \n",
       "1         0.0      ''     ''  23rd of September Communist League   \n",
       "2         0.0      ''     ''                             Unknown   \n",
       "3         0.0      ''     ''                             Unknown   \n",
       "4         0.0      ''     ''                             Unknown   \n",
       "\n",
       "          natlty1_txt kidhijcountry weaptype1_txt        weapsubtype1_txt  \\\n",
       "0  Dominican Republic            ''       Unknown                      ''   \n",
       "1             Belgium        Mexico       Unknown                      ''   \n",
       "2       United States            ''       Unknown                      ''   \n",
       "3       United States            ''    Explosives  Unknown Explosive Type   \n",
       "4       United States            ''    Incendiary                      ''   \n",
       "\n",
       "  weaptype2_txt weapsubtype2_txt weaptype3_txt weapsubtype3_txt weaptype4_txt  \\\n",
       "0            ''               ''            ''               ''            ''   \n",
       "1            ''               ''            ''               ''            ''   \n",
       "2            ''               ''            ''               ''            ''   \n",
       "3            ''               ''            ''               ''            ''   \n",
       "4            ''               ''            ''               ''            ''   \n",
       "\n",
       "  weapsubtype4_txt                targtype1_txt  \\\n",
       "0               ''  Private Citizens & Property   \n",
       "1               ''      Government (Diplomatic)   \n",
       "2               ''          Journalists & Media   \n",
       "3               ''      Government (Diplomatic)   \n",
       "4               ''      Government (Diplomatic)   \n",
       "\n",
       "                                    targsubtype1_txt targtype2_txt  \\\n",
       "0                                     Named Civilian            ''   \n",
       "1  Diplomatic Personnel (outside of embassy, cons...            ''   \n",
       "2                    Radio Journalist/Staff/Facility            ''   \n",
       "3                                  Embassy/Consulate            ''   \n",
       "4                                  Embassy/Consulate            ''   \n",
       "\n",
       "  targsubtype2_txt targtype3_txt targsubtype3_txt claimmode_txt  \\\n",
       "0               ''            ''               ''            ''   \n",
       "1               ''            ''               ''            ''   \n",
       "2               ''            ''               ''            ''   \n",
       "3               ''            ''               ''            ''   \n",
       "4               ''            ''               ''            ''   \n",
       "\n",
       "  propextent_txt  propextent  propvalue dbsource  \n",
       "0             ''         0.0        0.0     PGIS  \n",
       "1             ''         0.0        0.0     PGIS  \n",
       "2             ''         0.0        0.0     PGIS  \n",
       "3             ''         0.0        0.0     PGIS  \n",
       "4             ''         0.0        0.0     PGIS  "
      ]
     },
     "execution_count": 10,
     "metadata": {},
     "output_type": "execute_result"
    }
   ],
   "source": [
    "# regardons à quoi ressemble les dix premières lignes\n",
    "cleaned_data.head()"
   ]
  },
  {
   "cell_type": "markdown",
   "metadata": {},
   "source": [
    "Ajoutons une nouvelle colonne date qui va nous permettre de classer directement par date les observations"
   ]
  },
  {
   "cell_type": "code",
   "execution_count": 13,
   "metadata": {},
   "outputs": [
    {
     "data": {
      "text/plain": [
       "array([ 2,  0,  1,  3,  6,  8,  9, 10, 11, 12, 13, 14, 15, 19, 20, 21, 22,\n",
       "       25, 26, 27, 28, 30, 31,  4,  7, 16, 17, 18, 23, 24,  5, 29],\n",
       "      dtype=int64)"
      ]
     },
     "execution_count": 13,
     "metadata": {},
     "output_type": "execute_result"
    }
   ],
   "source": [
    "# further we must see if the column iday, imonth and iyear can be concatenated\n",
    "cleaned_data[\"iday\"].unique()"
   ]
  },
  {
   "cell_type": "code",
   "execution_count": 15,
   "metadata": {},
   "outputs": [
    {
     "data": {
      "text/plain": [
       "array([ 7,  0,  1,  2,  3,  4,  5,  6,  8,  9, 10, 11, 12], dtype=int64)"
      ]
     },
     "execution_count": 15,
     "metadata": {},
     "output_type": "execute_result"
    }
   ],
   "source": [
    "cleaned_data[\"imonth\"].unique()"
   ]
  },
  {
   "cell_type": "code",
   "execution_count": 16,
   "metadata": {},
   "outputs": [
    {
     "data": {
      "text/plain": [
       "array([1970, 1971, 1972, 1973, 1974, 1975, 1976, 1977, 1978, 1979, 1980,\n",
       "       1981, 1986, 1982, 1983, 1984, 1985, 1987, 1988, 1989, 1990, 1991,\n",
       "       1992, 1994, 1995, 1996, 1997, 1998, 1999, 2000, 2001, 2002, 2003,\n",
       "       2004, 2005, 2006, 2007, 2008, 2009, 2010, 2011, 2012, 2013, 2014,\n",
       "       2015, 2016, 2017], dtype=int64)"
      ]
     },
     "execution_count": 16,
     "metadata": {},
     "output_type": "execute_result"
    }
   ],
   "source": [
    "cleaned_data[\"iyear\"].unique()"
   ]
  },
  {
   "cell_type": "code",
   "execution_count": 17,
   "metadata": {},
   "outputs": [
    {
     "data": {
      "text/plain": [
       "891"
      ]
     },
     "execution_count": 17,
     "metadata": {},
     "output_type": "execute_result"
    }
   ],
   "source": [
    "cleaned_data[(cleaned_data[\"iday\"] == 0)].index.__len__()"
   ]
  },
  {
   "cell_type": "code",
   "execution_count": 18,
   "metadata": {},
   "outputs": [
    {
     "data": {
      "text/plain": [
       "20"
      ]
     },
     "execution_count": 18,
     "metadata": {},
     "output_type": "execute_result"
    }
   ],
   "source": [
    "cleaned_data[(cleaned_data[\"imonth\"] == 0)].index.__len__()"
   ]
  },
  {
   "cell_type": "code",
   "execution_count": 19,
   "metadata": {},
   "outputs": [],
   "source": [
    "# Let's remove some lines by the indexes\n",
    "cleaned_data.drop(index = cleaned_data[(cleaned_data[\"iday\"] == 0)].index, axis = 0, inplace = True)"
   ]
  },
  {
   "cell_type": "code",
   "execution_count": 20,
   "metadata": {},
   "outputs": [
    {
     "data": {
      "text/plain": [
       "array([ 2,  1,  3,  6,  8,  9, 10, 11, 12, 13, 14, 15, 19, 20, 21, 22, 25,\n",
       "       26, 27, 28, 30, 31,  4,  7, 16, 17, 18, 23, 24,  5, 29],\n",
       "      dtype=int64)"
      ]
     },
     "execution_count": 20,
     "metadata": {},
     "output_type": "execute_result"
    }
   ],
   "source": [
    "cleaned_data[\"iday\"].unique()"
   ]
  },
  {
   "cell_type": "code",
   "execution_count": 22,
   "metadata": {},
   "outputs": [],
   "source": [
    "# create a new column named as date\n",
    "cleaned_data['date'] = cleaned_data[\"iyear\"].astype(\"str\") + \"-\" + cleaned_data[\"imonth\"].astype(\"str\") + \"-\" + cleaned_data[\"iday\"].astype(\"str\")"
   ]
  },
  {
   "cell_type": "code",
   "execution_count": 23,
   "metadata": {},
   "outputs": [
    {
     "data": {
      "text/plain": [
       "0           1970-7-2\n",
       "5           1970-1-1\n",
       "6           1970-1-2\n",
       "7           1970-1-2\n",
       "8           1970-1-2\n",
       "             ...    \n",
       "181686    2017-12-31\n",
       "181687    2017-12-31\n",
       "181688    2017-12-31\n",
       "181689    2017-12-31\n",
       "181690    2017-12-31\n",
       "Name: date, Length: 180800, dtype: object"
      ]
     },
     "execution_count": 23,
     "metadata": {},
     "output_type": "execute_result"
    }
   ],
   "source": [
    "cleaned_data[\"date\"]"
   ]
  },
  {
   "cell_type": "code",
   "execution_count": 24,
   "metadata": {},
   "outputs": [],
   "source": [
    "# transformation de la colonne en format date_time\n",
    "cleaned_data[\"date\"] = pd.to_datetime(cleaned_data['date'])"
   ]
  },
  {
   "cell_type": "code",
   "execution_count": 26,
   "metadata": {},
   "outputs": [],
   "source": [
    "cleaned_data.sort_values('date', inplace=True)"
   ]
  },
  {
   "cell_type": "code",
   "execution_count": 27,
   "metadata": {},
   "outputs": [
    {
     "data": {
      "text/plain": [
       "dtype('<M8[ns]')"
      ]
     },
     "execution_count": 27,
     "metadata": {},
     "output_type": "execute_result"
    }
   ],
   "source": [
    "cleaned_data[\"date\"].dtype"
   ]
  },
  {
   "cell_type": "code",
   "execution_count": 28,
   "metadata": {},
   "outputs": [
    {
     "data": {
      "text/plain": [
       "5        1970-01-01\n",
       "10       1970-01-01\n",
       "6        1970-01-02\n",
       "7        1970-01-02\n",
       "8        1970-01-02\n",
       "            ...    \n",
       "181644   2017-12-31\n",
       "181645   2017-12-31\n",
       "181653   2017-12-31\n",
       "181676   2017-12-31\n",
       "181690   2017-12-31\n",
       "Name: date, Length: 180800, dtype: datetime64[ns]"
      ]
     },
     "execution_count": 28,
     "metadata": {},
     "output_type": "execute_result"
    }
   ],
   "source": [
    "cleaned_data['date']"
   ]
  },
  {
   "cell_type": "code",
   "execution_count": 30,
   "metadata": {},
   "outputs": [],
   "source": [
    "cleaned_data.to_csv('data/cleaned/terror.csv', index=False)"
   ]
  },
  {
   "cell_type": "markdown",
   "metadata": {},
   "source": [
    "# Visualiser le nombre de morts causés par des attaques terroristes par pays et par année"
   ]
  },
  {
   "cell_type": "markdown",
   "metadata": {},
   "source": [
    "variables : nkill, country_txt, iyear"
   ]
  },
  {
   "cell_type": "markdown",
   "metadata": {},
   "source": [
    "Récupération des données par pays et années et aggrégeons par morts"
   ]
  },
  {
   "cell_type": "code",
   "execution_count": 6,
   "metadata": {},
   "outputs": [],
   "source": [
    "# créons un dataframe qui prend la colonne date comme index\n",
    "cleaned_data_2 = cleaned_data.set_index('date')"
   ]
  },
  {
   "cell_type": "code",
   "execution_count": 7,
   "metadata": {},
   "outputs": [
    {
     "data": {
      "text/html": [
       "<div>\n",
       "<style scoped>\n",
       "    .dataframe tbody tr th:only-of-type {\n",
       "        vertical-align: middle;\n",
       "    }\n",
       "\n",
       "    .dataframe tbody tr th {\n",
       "        vertical-align: top;\n",
       "    }\n",
       "\n",
       "    .dataframe thead th {\n",
       "        text-align: right;\n",
       "    }\n",
       "</style>\n",
       "<table border=\"1\" class=\"dataframe\">\n",
       "  <thead>\n",
       "    <tr style=\"text-align: right;\">\n",
       "      <th></th>\n",
       "      <th>iyear</th>\n",
       "      <th>iday</th>\n",
       "      <th>imonth</th>\n",
       "      <th>nkill</th>\n",
       "      <th>country_txt</th>\n",
       "      <th>nwound</th>\n",
       "      <th>region_txt</th>\n",
       "      <th>provstate</th>\n",
       "      <th>city</th>\n",
       "      <th>nkillus</th>\n",
       "      <th>...</th>\n",
       "      <th>targsubtype1_txt</th>\n",
       "      <th>targtype2_txt</th>\n",
       "      <th>targsubtype2_txt</th>\n",
       "      <th>targtype3_txt</th>\n",
       "      <th>targsubtype3_txt</th>\n",
       "      <th>claimmode_txt</th>\n",
       "      <th>propextent_txt</th>\n",
       "      <th>propextent</th>\n",
       "      <th>propvalue</th>\n",
       "      <th>dbsource</th>\n",
       "    </tr>\n",
       "    <tr>\n",
       "      <th>date</th>\n",
       "      <th></th>\n",
       "      <th></th>\n",
       "      <th></th>\n",
       "      <th></th>\n",
       "      <th></th>\n",
       "      <th></th>\n",
       "      <th></th>\n",
       "      <th></th>\n",
       "      <th></th>\n",
       "      <th></th>\n",
       "      <th></th>\n",
       "      <th></th>\n",
       "      <th></th>\n",
       "      <th></th>\n",
       "      <th></th>\n",
       "      <th></th>\n",
       "      <th></th>\n",
       "      <th></th>\n",
       "      <th></th>\n",
       "      <th></th>\n",
       "      <th></th>\n",
       "    </tr>\n",
       "  </thead>\n",
       "  <tbody>\n",
       "    <tr>\n",
       "      <th>1970-01-01</th>\n",
       "      <td>1970</td>\n",
       "      <td>1</td>\n",
       "      <td>1</td>\n",
       "      <td>0.0</td>\n",
       "      <td>United States</td>\n",
       "      <td>0.0</td>\n",
       "      <td>North America</td>\n",
       "      <td>Illinois</td>\n",
       "      <td>Cairo</td>\n",
       "      <td>0.0</td>\n",
       "      <td>...</td>\n",
       "      <td>Police Building (headquarters, station, school)</td>\n",
       "      <td>''</td>\n",
       "      <td>''</td>\n",
       "      <td>''</td>\n",
       "      <td>''</td>\n",
       "      <td>''</td>\n",
       "      <td>Minor (likely &lt; $1 million)</td>\n",
       "      <td>3.0</td>\n",
       "      <td>0.0</td>\n",
       "      <td>Hewitt Project</td>\n",
       "    </tr>\n",
       "    <tr>\n",
       "      <th>1970-01-01</th>\n",
       "      <td>1970</td>\n",
       "      <td>1</td>\n",
       "      <td>1</td>\n",
       "      <td>0.0</td>\n",
       "      <td>United States</td>\n",
       "      <td>0.0</td>\n",
       "      <td>North America</td>\n",
       "      <td>Wisconsin</td>\n",
       "      <td>Baraboo</td>\n",
       "      <td>0.0</td>\n",
       "      <td>...</td>\n",
       "      <td>Military Barracks/Base/Headquarters/Checkpost</td>\n",
       "      <td>''</td>\n",
       "      <td>''</td>\n",
       "      <td>''</td>\n",
       "      <td>''</td>\n",
       "      <td>''</td>\n",
       "      <td>Minor (likely &lt; $1 million)</td>\n",
       "      <td>3.0</td>\n",
       "      <td>0.0</td>\n",
       "      <td>PGIS</td>\n",
       "    </tr>\n",
       "    <tr>\n",
       "      <th>1970-01-02</th>\n",
       "      <td>1970</td>\n",
       "      <td>2</td>\n",
       "      <td>1</td>\n",
       "      <td>0.0</td>\n",
       "      <td>Uruguay</td>\n",
       "      <td>0.0</td>\n",
       "      <td>South America</td>\n",
       "      <td>Montevideo</td>\n",
       "      <td>Montevideo</td>\n",
       "      <td>0.0</td>\n",
       "      <td>...</td>\n",
       "      <td>Police Security Forces/Officers</td>\n",
       "      <td>''</td>\n",
       "      <td>''</td>\n",
       "      <td>''</td>\n",
       "      <td>''</td>\n",
       "      <td>''</td>\n",
       "      <td>''</td>\n",
       "      <td>0.0</td>\n",
       "      <td>0.0</td>\n",
       "      <td>PGIS</td>\n",
       "    </tr>\n",
       "    <tr>\n",
       "      <th>1970-01-02</th>\n",
       "      <td>1970</td>\n",
       "      <td>2</td>\n",
       "      <td>1</td>\n",
       "      <td>0.0</td>\n",
       "      <td>United States</td>\n",
       "      <td>0.0</td>\n",
       "      <td>North America</td>\n",
       "      <td>California</td>\n",
       "      <td>Oakland</td>\n",
       "      <td>0.0</td>\n",
       "      <td>...</td>\n",
       "      <td>Electricity</td>\n",
       "      <td>''</td>\n",
       "      <td>''</td>\n",
       "      <td>''</td>\n",
       "      <td>''</td>\n",
       "      <td>''</td>\n",
       "      <td>Minor (likely &lt; $1 million)</td>\n",
       "      <td>3.0</td>\n",
       "      <td>22500.0</td>\n",
       "      <td>Hewitt Project</td>\n",
       "    </tr>\n",
       "    <tr>\n",
       "      <th>1970-01-02</th>\n",
       "      <td>1970</td>\n",
       "      <td>2</td>\n",
       "      <td>1</td>\n",
       "      <td>0.0</td>\n",
       "      <td>United States</td>\n",
       "      <td>0.0</td>\n",
       "      <td>North America</td>\n",
       "      <td>Wisconsin</td>\n",
       "      <td>Madison</td>\n",
       "      <td>0.0</td>\n",
       "      <td>...</td>\n",
       "      <td>Military Recruiting Station/Academy</td>\n",
       "      <td>''</td>\n",
       "      <td>''</td>\n",
       "      <td>''</td>\n",
       "      <td>''</td>\n",
       "      <td>Letter</td>\n",
       "      <td>Minor (likely &lt; $1 million)</td>\n",
       "      <td>3.0</td>\n",
       "      <td>60000.0</td>\n",
       "      <td>Hewitt Project</td>\n",
       "    </tr>\n",
       "  </tbody>\n",
       "</table>\n",
       "<p>5 rows × 49 columns</p>\n",
       "</div>"
      ],
      "text/plain": [
       "            iyear  iday  imonth  nkill    country_txt  nwound     region_txt  \\\n",
       "date                                                                           \n",
       "1970-01-01   1970     1       1    0.0  United States     0.0  North America   \n",
       "1970-01-01   1970     1       1    0.0  United States     0.0  North America   \n",
       "1970-01-02   1970     2       1    0.0        Uruguay     0.0  South America   \n",
       "1970-01-02   1970     2       1    0.0  United States     0.0  North America   \n",
       "1970-01-02   1970     2       1    0.0  United States     0.0  North America   \n",
       "\n",
       "             provstate        city  nkillus  ...  \\\n",
       "date                                         ...   \n",
       "1970-01-01    Illinois       Cairo      0.0  ...   \n",
       "1970-01-01   Wisconsin     Baraboo      0.0  ...   \n",
       "1970-01-02  Montevideo  Montevideo      0.0  ...   \n",
       "1970-01-02  California     Oakland      0.0  ...   \n",
       "1970-01-02   Wisconsin     Madison      0.0  ...   \n",
       "\n",
       "                                           targsubtype1_txt targtype2_txt  \\\n",
       "date                                                                        \n",
       "1970-01-01  Police Building (headquarters, station, school)            ''   \n",
       "1970-01-01    Military Barracks/Base/Headquarters/Checkpost            ''   \n",
       "1970-01-02                  Police Security Forces/Officers            ''   \n",
       "1970-01-02                                      Electricity            ''   \n",
       "1970-01-02              Military Recruiting Station/Academy            ''   \n",
       "\n",
       "            targsubtype2_txt  targtype3_txt targsubtype3_txt claimmode_txt  \\\n",
       "date                                                                         \n",
       "1970-01-01                ''             ''               ''            ''   \n",
       "1970-01-01                ''             ''               ''            ''   \n",
       "1970-01-02                ''             ''               ''            ''   \n",
       "1970-01-02                ''             ''               ''            ''   \n",
       "1970-01-02                ''             ''               ''        Letter   \n",
       "\n",
       "                         propextent_txt  propextent  propvalue        dbsource  \n",
       "date                                                                            \n",
       "1970-01-01  Minor (likely < $1 million)         3.0        0.0  Hewitt Project  \n",
       "1970-01-01  Minor (likely < $1 million)         3.0        0.0            PGIS  \n",
       "1970-01-02                           ''         0.0        0.0            PGIS  \n",
       "1970-01-02  Minor (likely < $1 million)         3.0    22500.0  Hewitt Project  \n",
       "1970-01-02  Minor (likely < $1 million)         3.0    60000.0  Hewitt Project  \n",
       "\n",
       "[5 rows x 49 columns]"
      ]
     },
     "execution_count": 7,
     "metadata": {},
     "output_type": "execute_result"
    }
   ],
   "source": [
    "cleaned_data_2.head()"
   ]
  },
  {
   "cell_type": "code",
   "execution_count": 8,
   "metadata": {},
   "outputs": [],
   "source": [
    "df_pays_morts = cleaned_data_2.groupby(['country_txt', 'iyear'], as_index=False).sum('nkill')"
   ]
  },
  {
   "cell_type": "code",
   "execution_count": 12,
   "metadata": {},
   "outputs": [],
   "source": [
    "# renommons les colonnes qui nous intéresse \n",
    "df_pays_morts.rename(columns={\"nkill\": \"nombre de morts\", \"country_txt\": \"pays\", \"iyear\": \"années\"}, inplace=True)"
   ]
  },
  {
   "cell_type": "code",
   "execution_count": 13,
   "metadata": {},
   "outputs": [
    {
     "data": {
      "text/html": [
       "<div>\n",
       "<style scoped>\n",
       "    .dataframe tbody tr th:only-of-type {\n",
       "        vertical-align: middle;\n",
       "    }\n",
       "\n",
       "    .dataframe tbody tr th {\n",
       "        vertical-align: top;\n",
       "    }\n",
       "\n",
       "    .dataframe thead th {\n",
       "        text-align: right;\n",
       "    }\n",
       "</style>\n",
       "<table border=\"1\" class=\"dataframe\">\n",
       "  <thead>\n",
       "    <tr style=\"text-align: right;\">\n",
       "      <th></th>\n",
       "      <th>pays</th>\n",
       "      <th>années</th>\n",
       "      <th>iday</th>\n",
       "      <th>imonth</th>\n",
       "      <th>nombre de morts</th>\n",
       "      <th>nwound</th>\n",
       "      <th>nkillus</th>\n",
       "      <th>nwoundus</th>\n",
       "      <th>latitude</th>\n",
       "      <th>longitude</th>\n",
       "      <th>suicide</th>\n",
       "      <th>ransompaid</th>\n",
       "      <th>nhostkid</th>\n",
       "      <th>nhours</th>\n",
       "      <th>ndays</th>\n",
       "      <th>ransompaidus</th>\n",
       "      <th>nhostkidus</th>\n",
       "      <th>propextent</th>\n",
       "      <th>propvalue</th>\n",
       "    </tr>\n",
       "  </thead>\n",
       "  <tbody>\n",
       "    <tr>\n",
       "      <th>0</th>\n",
       "      <td>Afghanistan</td>\n",
       "      <td>1973</td>\n",
       "      <td>1</td>\n",
       "      <td>5</td>\n",
       "      <td>0.0</td>\n",
       "      <td>1.0</td>\n",
       "      <td>0.0</td>\n",
       "      <td>0.0</td>\n",
       "      <td>34.516895</td>\n",
       "      <td>69.147011</td>\n",
       "      <td>0</td>\n",
       "      <td>0.0</td>\n",
       "      <td>0.0</td>\n",
       "      <td>0.0</td>\n",
       "      <td>0.0</td>\n",
       "      <td>0.0</td>\n",
       "      <td>0.0</td>\n",
       "      <td>0.0</td>\n",
       "      <td>0.0</td>\n",
       "    </tr>\n",
       "    <tr>\n",
       "      <th>1</th>\n",
       "      <td>Afghanistan</td>\n",
       "      <td>1979</td>\n",
       "      <td>50</td>\n",
       "      <td>19</td>\n",
       "      <td>53.0</td>\n",
       "      <td>1.0</td>\n",
       "      <td>1.0</td>\n",
       "      <td>0.0</td>\n",
       "      <td>102.406239</td>\n",
       "      <td>199.759655</td>\n",
       "      <td>0</td>\n",
       "      <td>0.0</td>\n",
       "      <td>1.0</td>\n",
       "      <td>0.0</td>\n",
       "      <td>0.0</td>\n",
       "      <td>0.0</td>\n",
       "      <td>1.0</td>\n",
       "      <td>3.0</td>\n",
       "      <td>30000.0</td>\n",
       "    </tr>\n",
       "    <tr>\n",
       "      <th>2</th>\n",
       "      <td>Afghanistan</td>\n",
       "      <td>1987</td>\n",
       "      <td>31</td>\n",
       "      <td>5</td>\n",
       "      <td>0.0</td>\n",
       "      <td>2.0</td>\n",
       "      <td>0.0</td>\n",
       "      <td>0.0</td>\n",
       "      <td>0.000000</td>\n",
       "      <td>0.000000</td>\n",
       "      <td>0</td>\n",
       "      <td>0.0</td>\n",
       "      <td>0.0</td>\n",
       "      <td>0.0</td>\n",
       "      <td>0.0</td>\n",
       "      <td>0.0</td>\n",
       "      <td>0.0</td>\n",
       "      <td>0.0</td>\n",
       "      <td>0.0</td>\n",
       "    </tr>\n",
       "    <tr>\n",
       "      <th>3</th>\n",
       "      <td>Afghanistan</td>\n",
       "      <td>1988</td>\n",
       "      <td>148</td>\n",
       "      <td>75</td>\n",
       "      <td>128.0</td>\n",
       "      <td>106.0</td>\n",
       "      <td>0.0</td>\n",
       "      <td>0.0</td>\n",
       "      <td>380.645164</td>\n",
       "      <td>759.021904</td>\n",
       "      <td>0</td>\n",
       "      <td>0.0</td>\n",
       "      <td>0.0</td>\n",
       "      <td>0.0</td>\n",
       "      <td>0.0</td>\n",
       "      <td>0.0</td>\n",
       "      <td>0.0</td>\n",
       "      <td>17.0</td>\n",
       "      <td>2135000.0</td>\n",
       "    </tr>\n",
       "    <tr>\n",
       "      <th>4</th>\n",
       "      <td>Afghanistan</td>\n",
       "      <td>1989</td>\n",
       "      <td>168</td>\n",
       "      <td>61</td>\n",
       "      <td>10.0</td>\n",
       "      <td>84.0</td>\n",
       "      <td>0.0</td>\n",
       "      <td>0.0</td>\n",
       "      <td>341.883293</td>\n",
       "      <td>674.938996</td>\n",
       "      <td>0</td>\n",
       "      <td>0.0</td>\n",
       "      <td>0.0</td>\n",
       "      <td>0.0</td>\n",
       "      <td>0.0</td>\n",
       "      <td>0.0</td>\n",
       "      <td>0.0</td>\n",
       "      <td>3.0</td>\n",
       "      <td>100000.0</td>\n",
       "    </tr>\n",
       "  </tbody>\n",
       "</table>\n",
       "</div>"
      ],
      "text/plain": [
       "          pays  années  iday  imonth  nombre de morts  nwound  nkillus  \\\n",
       "0  Afghanistan    1973     1       5              0.0     1.0      0.0   \n",
       "1  Afghanistan    1979    50      19             53.0     1.0      1.0   \n",
       "2  Afghanistan    1987    31       5              0.0     2.0      0.0   \n",
       "3  Afghanistan    1988   148      75            128.0   106.0      0.0   \n",
       "4  Afghanistan    1989   168      61             10.0    84.0      0.0   \n",
       "\n",
       "   nwoundus    latitude   longitude  suicide  ransompaid  nhostkid  nhours  \\\n",
       "0       0.0   34.516895   69.147011        0         0.0       0.0     0.0   \n",
       "1       0.0  102.406239  199.759655        0         0.0       1.0     0.0   \n",
       "2       0.0    0.000000    0.000000        0         0.0       0.0     0.0   \n",
       "3       0.0  380.645164  759.021904        0         0.0       0.0     0.0   \n",
       "4       0.0  341.883293  674.938996        0         0.0       0.0     0.0   \n",
       "\n",
       "   ndays  ransompaidus  nhostkidus  propextent  propvalue  \n",
       "0    0.0           0.0         0.0         0.0        0.0  \n",
       "1    0.0           0.0         1.0         3.0    30000.0  \n",
       "2    0.0           0.0         0.0         0.0        0.0  \n",
       "3    0.0           0.0         0.0        17.0  2135000.0  \n",
       "4    0.0           0.0         0.0         3.0   100000.0  "
      ]
     },
     "execution_count": 13,
     "metadata": {},
     "output_type": "execute_result"
    }
   ],
   "source": [
    "df_pays_morts.head()"
   ]
  },
  {
   "cell_type": "code",
   "execution_count": 14,
   "metadata": {},
   "outputs": [
    {
     "data": {
      "application/vnd.plotly.v1+json": {
       "config": {
        "plotlyServerURL": "https://plot.ly"
       },
       "data": [
        {
         "hovertemplate": "pays=Afghanistan<br>années=%{x}<br>nombre de morts=%{y}<extra></extra>",
         "legendgroup": "Afghanistan",
         "line": {
          "color": "#636efa",
          "dash": "solid"
         },
         "marker": {
          "symbol": "circle"
         },
         "mode": "lines",
         "name": "Afghanistan",
         "showlegend": true,
         "type": "scattergl",
         "x": [
          1973,
          1979,
          1987,
          1988,
          1989,
          1990,
          1991,
          1992,
          1994,
          1995,
          1996,
          1997,
          1998,
          1999,
          2000,
          2001,
          2002,
          2003,
          2004,
          2005,
          2006,
          2007,
          2008,
          2009,
          2010,
          2011,
          2012,
          2013,
          2014,
          2015,
          2016,
          2017
         ],
         "xaxis": "x",
         "y": [
          0,
          53,
          0,
          128,
          10,
          12,
          68,
          49,
          22,
          5,
          31,
          4,
          8,
          39,
          38,
          174,
          74,
          163,
          275,
          367,
          731,
          1191,
          1092,
          1064,
          1157,
          1525,
          3521,
          3709,
          5414,
          6216,
          6142,
          6092
         ],
         "yaxis": "y"
        },
        {
         "hovertemplate": "pays=Albania<br>années=%{x}<br>nombre de morts=%{y}<extra></extra>",
         "legendgroup": "Albania",
         "line": {
          "color": "#EF553B",
          "dash": "solid"
         },
         "marker": {
          "symbol": "circle"
         },
         "mode": "lines",
         "name": "Albania",
         "showlegend": true,
         "type": "scattergl",
         "x": [
          1981,
          1990,
          1991,
          1992,
          1994,
          1996,
          1997,
          1998,
          1999,
          2000,
          2001,
          2003,
          2009,
          2013,
          2014,
          2015,
          2016,
          2017
         ],
         "xaxis": "x",
         "y": [
          0,
          0,
          0,
          1,
          1,
          7,
          26,
          0,
          6,
          0,
          0,
          0,
          0,
          0,
          1,
          0,
          0,
          0
         ],
         "yaxis": "y"
        },
        {
         "hovertemplate": "pays=Algeria<br>années=%{x}<br>nombre de morts=%{y}<extra></extra>",
         "legendgroup": "Algeria",
         "line": {
          "color": "#00cc96",
          "dash": "solid"
         },
         "marker": {
          "symbol": "circle"
         },
         "mode": "lines",
         "name": "Algeria",
         "showlegend": true,
         "type": "scattergl",
         "x": [
          1972,
          1976,
          1978,
          1979,
          1990,
          1991,
          1992,
          1994,
          1995,
          1996,
          1997,
          1998,
          1999,
          2000,
          2001,
          2002,
          2003,
          2004,
          2005,
          2006,
          2007,
          2008,
          2009,
          2010,
          2011,
          2012,
          2013,
          2014,
          2015,
          2016,
          2017
         ],
         "xaxis": "x",
         "y": [
          0,
          0,
          0,
          0,
          3,
          42,
          236,
          500,
          418,
          529,
          4188,
          940,
          445,
          519,
          579,
          615,
          259,
          166,
          228,
          164,
          240,
          246,
          193,
          101,
          25,
          30,
          101,
          37,
          21,
          9,
          12
         ],
         "yaxis": "y"
        },
        {
         "hovertemplate": "pays=Andorra<br>années=%{x}<br>nombre de morts=%{y}<extra></extra>",
         "legendgroup": "Andorra",
         "line": {
          "color": "#ab63fa",
          "dash": "solid"
         },
         "marker": {
          "symbol": "circle"
         },
         "mode": "lines",
         "name": "Andorra",
         "showlegend": true,
         "type": "scattergl",
         "x": [
          1974
         ],
         "xaxis": "x",
         "y": [
          0
         ],
         "yaxis": "y"
        },
        {
         "hovertemplate": "pays=Angola<br>années=%{x}<br>nombre de morts=%{y}<extra></extra>",
         "legendgroup": "Angola",
         "line": {
          "color": "#FFA15A",
          "dash": "solid"
         },
         "marker": {
          "symbol": "circle"
         },
         "mode": "lines",
         "name": "Angola",
         "showlegend": true,
         "type": "scattergl",
         "x": [
          1977,
          1979,
          1981,
          1982,
          1983,
          1984,
          1985,
          1986,
          1987,
          1988,
          1989,
          1990,
          1991,
          1992,
          1994,
          1995,
          1996,
          1997,
          1998,
          1999,
          2000,
          2001,
          2002,
          2009,
          2010,
          2016,
          2017
         ],
         "xaxis": "x",
         "y": [
          0,
          1,
          3,
          2,
          282,
          179,
          6,
          119,
          5,
          145,
          88,
          147,
          69,
          84,
          108,
          52,
          18,
          34,
          275,
          299,
          171,
          844,
          59,
          2,
          4,
          0,
          7
         ],
         "yaxis": "y"
        },
        {
         "hovertemplate": "pays=Antigua and Barbuda<br>années=%{x}<br>nombre de morts=%{y}<extra></extra>",
         "legendgroup": "Antigua and Barbuda",
         "line": {
          "color": "#19d3f3",
          "dash": "solid"
         },
         "marker": {
          "symbol": "circle"
         },
         "mode": "lines",
         "name": "Antigua and Barbuda",
         "showlegend": true,
         "type": "scattergl",
         "x": [
          1992
         ],
         "xaxis": "x",
         "y": [
          0
         ],
         "yaxis": "y"
        },
        {
         "hovertemplate": "pays=Argentina<br>années=%{x}<br>nombre de morts=%{y}<extra></extra>",
         "legendgroup": "Argentina",
         "line": {
          "color": "#FF6692",
          "dash": "solid"
         },
         "marker": {
          "symbol": "circle"
         },
         "mode": "lines",
         "name": "Argentina",
         "showlegend": true,
         "type": "scattergl",
         "x": [
          1970,
          1971,
          1972,
          1973,
          1974,
          1975,
          1976,
          1977,
          1978,
          1979,
          1980,
          1981,
          1982,
          1983,
          1984,
          1985,
          1986,
          1987,
          1988,
          1989,
          1990,
          1991,
          1992,
          1994,
          1995,
          1996,
          1997,
          1999,
          2001,
          2003,
          2005,
          2009,
          2010,
          2011,
          2012,
          2013,
          2014,
          2015,
          2016,
          2017
         ],
         "xaxis": "x",
         "y": [
          5,
          5,
          5,
          16,
          21,
          122,
          121,
          7,
          13,
          11,
          0,
          0,
          1,
          1,
          1,
          2,
          2,
          3,
          1,
          26,
          1,
          1,
          33,
          86,
          0,
          1,
          3,
          0,
          0,
          0,
          0,
          0,
          0,
          0,
          0,
          0,
          0,
          0,
          0,
          0
         ],
         "yaxis": "y"
        },
        {
         "hovertemplate": "pays=Armenia<br>années=%{x}<br>nombre de morts=%{y}<extra></extra>",
         "legendgroup": "Armenia",
         "line": {
          "color": "#B6E880",
          "dash": "solid"
         },
         "marker": {
          "symbol": "circle"
         },
         "mode": "lines",
         "name": "Armenia",
         "showlegend": true,
         "type": "scattergl",
         "x": [
          1991,
          1992,
          1994,
          1995,
          1996,
          1998,
          1999,
          2000,
          2001,
          2007,
          2009,
          2013,
          2015,
          2016
         ],
         "xaxis": "x",
         "y": [
          0,
          2,
          15,
          2,
          2,
          0,
          8,
          0,
          1,
          0,
          1,
          0,
          0,
          6
         ],
         "yaxis": "y"
        },
        {
         "hovertemplate": "pays=Australia<br>années=%{x}<br>nombre de morts=%{y}<extra></extra>",
         "legendgroup": "Australia",
         "line": {
          "color": "#FF97FF",
          "dash": "solid"
         },
         "marker": {
          "symbol": "circle"
         },
         "mode": "lines",
         "name": "Australia",
         "showlegend": true,
         "type": "scattergl",
         "x": [
          1970,
          1971,
          1972,
          1974,
          1978,
          1979,
          1980,
          1981,
          1982,
          1986,
          1988,
          1989,
          1991,
          1992,
          1994,
          1995,
          1996,
          1997,
          1998,
          2000,
          2001,
          2006,
          2008,
          2009,
          2010,
          2013,
          2014,
          2015,
          2016,
          2017
         ],
         "xaxis": "x",
         "y": [
          0,
          0,
          1,
          0,
          2,
          0,
          2,
          1,
          0,
          1,
          0,
          0,
          0,
          1,
          3,
          0,
          2,
          0,
          0,
          0,
          0,
          0,
          0,
          0,
          0,
          0,
          4,
          2,
          0,
          4
         ],
         "yaxis": "y"
        },
        {
         "hovertemplate": "pays=Austria<br>années=%{x}<br>nombre de morts=%{y}<extra></extra>",
         "legendgroup": "Austria",
         "line": {
          "color": "#FECB52",
          "dash": "solid"
         },
         "marker": {
          "symbol": "circle"
         },
         "mode": "lines",
         "name": "Austria",
         "showlegend": true,
         "type": "scattergl",
         "x": [
          1972,
          1973,
          1974,
          1975,
          1976,
          1977,
          1978,
          1979,
          1980,
          1981,
          1982,
          1984,
          1985,
          1986,
          1987,
          1988,
          1989,
          1990,
          1991,
          1992,
          1994,
          1995,
          1996,
          1997,
          1998,
          2006,
          2007,
          2008,
          2009,
          2011,
          2013,
          2016,
          2017
         ],
         "xaxis": "x",
         "y": [
          4,
          0,
          0,
          4,
          0,
          1,
          0,
          0,
          0,
          3,
          0,
          2,
          4,
          0,
          0,
          0,
          3,
          0,
          0,
          0,
          0,
          6,
          0,
          0,
          0,
          0,
          0,
          0,
          1,
          0,
          0,
          0,
          2
         ],
         "yaxis": "y"
        },
        {
         "hovertemplate": "pays=Azerbaijan<br>années=%{x}<br>nombre de morts=%{y}<extra></extra>",
         "legendgroup": "Azerbaijan",
         "line": {
          "color": "#636efa",
          "dash": "solid"
         },
         "marker": {
          "symbol": "circle"
         },
         "mode": "lines",
         "name": "Azerbaijan",
         "showlegend": true,
         "type": "scattergl",
         "x": [
          1991,
          1992,
          1994,
          1995,
          1996,
          1997,
          2000,
          2001,
          2002,
          2007,
          2008,
          2009,
          2014,
          2016,
          2017
         ],
         "xaxis": "x",
         "y": [
          26,
          186,
          30,
          0,
          2,
          1,
          0,
          1,
          0,
          0,
          5,
          1,
          0,
          1,
          5
         ],
         "yaxis": "y"
        },
        {
         "hovertemplate": "pays=Bahamas<br>années=%{x}<br>nombre de morts=%{y}<extra></extra>",
         "legendgroup": "Bahamas",
         "line": {
          "color": "#EF553B",
          "dash": "solid"
         },
         "marker": {
          "symbol": "circle"
         },
         "mode": "lines",
         "name": "Bahamas",
         "showlegend": true,
         "type": "scattergl",
         "x": [
          1976,
          1981,
          1997,
          2013
         ],
         "xaxis": "x",
         "y": [
          0,
          0,
          1,
          0
         ],
         "yaxis": "y"
        },
        {
         "hovertemplate": "pays=Bahrain<br>années=%{x}<br>nombre de morts=%{y}<extra></extra>",
         "legendgroup": "Bahrain",
         "line": {
          "color": "#00cc96",
          "dash": "solid"
         },
         "marker": {
          "symbol": "circle"
         },
         "mode": "lines",
         "name": "Bahrain",
         "showlegend": true,
         "type": "scattergl",
         "x": [
          1979,
          1991,
          1994,
          1995,
          1996,
          1997,
          2003,
          2008,
          2010,
          2011,
          2012,
          2013,
          2014,
          2015,
          2016,
          2017
         ],
         "xaxis": "x",
         "y": [
          0,
          1,
          0,
          1,
          8,
          5,
          0,
          1,
          0,
          0,
          4,
          3,
          9,
          5,
          1,
          6
         ],
         "yaxis": "y"
        },
        {
         "hovertemplate": "pays=Bangladesh<br>années=%{x}<br>nombre de morts=%{y}<extra></extra>",
         "legendgroup": "Bangladesh",
         "line": {
          "color": "#ab63fa",
          "dash": "solid"
         },
         "marker": {
          "symbol": "circle"
         },
         "mode": "lines",
         "name": "Bangladesh",
         "showlegend": true,
         "type": "scattergl",
         "x": [
          1977,
          1979,
          1980,
          1981,
          1982,
          1984,
          1985,
          1986,
          1987,
          1988,
          1989,
          1990,
          1991,
          1992,
          1994,
          1995,
          1996,
          1997,
          1998,
          1999,
          2000,
          2001,
          2002,
          2003,
          2004,
          2005,
          2006,
          2007,
          2008,
          2009,
          2010,
          2011,
          2012,
          2013,
          2014,
          2015,
          2016,
          2017
         ],
         "xaxis": "x",
         "y": [
          0,
          0,
          6,
          6,
          0,
          1,
          0,
          54,
          26,
          87,
          131,
          66,
          69,
          101,
          30,
          35,
          89,
          14,
          0,
          30,
          11,
          57,
          21,
          3,
          43,
          44,
          19,
          1,
          9,
          18,
          15,
          9,
          8,
          16,
          38,
          86,
          76,
          25
         ],
         "yaxis": "y"
        },
        {
         "hovertemplate": "pays=Barbados<br>années=%{x}<br>nombre de morts=%{y}<extra></extra>",
         "legendgroup": "Barbados",
         "line": {
          "color": "#FFA15A",
          "dash": "solid"
         },
         "marker": {
          "symbol": "circle"
         },
         "mode": "lines",
         "name": "Barbados",
         "showlegend": true,
         "type": "scattergl",
         "x": [
          1976,
          1992
         ],
         "xaxis": "x",
         "y": [
          73,
          3
         ],
         "yaxis": "y"
        },
        {
         "hovertemplate": "pays=Belarus<br>années=%{x}<br>nombre de morts=%{y}<extra></extra>",
         "legendgroup": "Belarus",
         "line": {
          "color": "#19d3f3",
          "dash": "solid"
         },
         "marker": {
          "symbol": "circle"
         },
         "mode": "lines",
         "name": "Belarus",
         "showlegend": true,
         "type": "scattergl",
         "x": [
          1994,
          1997,
          1999,
          2001,
          2006,
          2008,
          2010,
          2011,
          2012
         ],
         "xaxis": "x",
         "y": [
          0,
          1,
          0,
          0,
          0,
          0,
          0,
          13,
          0
         ],
         "yaxis": "y"
        },
        {
         "hovertemplate": "pays=Belgium<br>années=%{x}<br>nombre de morts=%{y}<extra></extra>",
         "legendgroup": "Belgium",
         "line": {
          "color": "#FF6692",
          "dash": "solid"
         },
         "marker": {
          "symbol": "circle"
         },
         "mode": "lines",
         "name": "Belgium",
         "showlegend": true,
         "type": "scattergl",
         "x": [
          1970,
          1972,
          1973,
          1974,
          1976,
          1977,
          1978,
          1979,
          1980,
          1981,
          1982,
          1983,
          1984,
          1985,
          1986,
          1987,
          1988,
          1989,
          1990,
          1991,
          1992,
          1994,
          1995,
          1997,
          1998,
          1999,
          2002,
          2003,
          2007,
          2009,
          2012,
          2014,
          2016,
          2017
         ],
         "xaxis": "x",
         "y": [
          0,
          0,
          0,
          0,
          0,
          0,
          1,
          1,
          1,
          6,
          0,
          2,
          0,
          10,
          0,
          1,
          1,
          4,
          2,
          1,
          1,
          0,
          0,
          4,
          0,
          0,
          0,
          0,
          0,
          0,
          1,
          4,
          36,
          2
         ],
         "yaxis": "y"
        },
        {
         "hovertemplate": "pays=Belize<br>années=%{x}<br>nombre de morts=%{y}<extra></extra>",
         "legendgroup": "Belize",
         "line": {
          "color": "#B6E880",
          "dash": "solid"
         },
         "marker": {
          "symbol": "circle"
         },
         "mode": "lines",
         "name": "Belize",
         "showlegend": true,
         "type": "scattergl",
         "x": [
          1980,
          1991,
          1992,
          2000,
          2013
         ],
         "xaxis": "x",
         "y": [
          0,
          2,
          1,
          0,
          0
         ],
         "yaxis": "y"
        },
        {
         "hovertemplate": "pays=Benin<br>années=%{x}<br>nombre de morts=%{y}<extra></extra>",
         "legendgroup": "Benin",
         "line": {
          "color": "#FF97FF",
          "dash": "solid"
         },
         "marker": {
          "symbol": "circle"
         },
         "mode": "lines",
         "name": "Benin",
         "showlegend": true,
         "type": "scattergl",
         "x": [
          1992,
          1994,
          1995,
          1996,
          2007
         ],
         "xaxis": "x",
         "y": [
          0,
          0,
          0,
          0,
          0
         ],
         "yaxis": "y"
        },
        {
         "hovertemplate": "pays=Bhutan<br>années=%{x}<br>nombre de morts=%{y}<extra></extra>",
         "legendgroup": "Bhutan",
         "line": {
          "color": "#FECB52",
          "dash": "solid"
         },
         "marker": {
          "symbol": "circle"
         },
         "mode": "lines",
         "name": "Bhutan",
         "showlegend": true,
         "type": "scattergl",
         "x": [
          2006,
          2008,
          2011,
          2014
         ],
         "xaxis": "x",
         "y": [
          4,
          5,
          0,
          0
         ],
         "yaxis": "y"
        },
        {
         "hovertemplate": "pays=Bolivia<br>années=%{x}<br>nombre de morts=%{y}<extra></extra>",
         "legendgroup": "Bolivia",
         "line": {
          "color": "#636efa",
          "dash": "solid"
         },
         "marker": {
          "symbol": "circle"
         },
         "mode": "lines",
         "name": "Bolivia",
         "showlegend": true,
         "type": "scattergl",
         "x": [
          1970,
          1971,
          1976,
          1977,
          1978,
          1979,
          1980,
          1981,
          1982,
          1983,
          1984,
          1985,
          1986,
          1987,
          1988,
          1989,
          1990,
          1991,
          1992,
          1994,
          1995,
          1996,
          1997,
          2003,
          2005,
          2007,
          2009,
          2012
         ],
         "xaxis": "x",
         "y": [
          0,
          0,
          0,
          0,
          0,
          0,
          11,
          1,
          0,
          0,
          1,
          0,
          1,
          1,
          2,
          2,
          6,
          7,
          5,
          1,
          0,
          0,
          4,
          0,
          0,
          0,
          0,
          0
         ],
         "yaxis": "y"
        },
        {
         "hovertemplate": "pays=Bosnia-Herzegovina<br>années=%{x}<br>nombre de morts=%{y}<extra></extra>",
         "legendgroup": "Bosnia-Herzegovina",
         "line": {
          "color": "#EF553B",
          "dash": "solid"
         },
         "marker": {
          "symbol": "circle"
         },
         "mode": "lines",
         "name": "Bosnia-Herzegovina",
         "showlegend": true,
         "type": "scattergl",
         "x": [
          1992,
          1994,
          1995,
          1996,
          1997,
          1998,
          1999,
          2000,
          2001,
          2002,
          2003,
          2005,
          2006,
          2007,
          2008,
          2009,
          2010,
          2011,
          2013,
          2014,
          2015
         ],
         "xaxis": "x",
         "y": [
          55,
          3,
          2,
          2,
          5,
          2,
          1,
          1,
          0,
          0,
          0,
          0,
          0,
          1,
          2,
          0,
          1,
          0,
          0,
          0,
          4
         ],
         "yaxis": "y"
        },
        {
         "hovertemplate": "pays=Botswana<br>années=%{x}<br>nombre de morts=%{y}<extra></extra>",
         "legendgroup": "Botswana",
         "line": {
          "color": "#00cc96",
          "dash": "solid"
         },
         "marker": {
          "symbol": "circle"
         },
         "mode": "lines",
         "name": "Botswana",
         "showlegend": true,
         "type": "scattergl",
         "x": [
          1974,
          1985,
          1987,
          1988,
          1989,
          1990,
          1995
         ],
         "xaxis": "x",
         "y": [
          1,
          0,
          3,
          1,
          0,
          6,
          0
         ],
         "yaxis": "y"
        },
        {
         "hovertemplate": "pays=Brazil<br>années=%{x}<br>nombre de morts=%{y}<extra></extra>",
         "legendgroup": "Brazil",
         "line": {
          "color": "#ab63fa",
          "dash": "solid"
         },
         "marker": {
          "symbol": "circle"
         },
         "mode": "lines",
         "name": "Brazil",
         "showlegend": true,
         "type": "scattergl",
         "x": [
          1970,
          1971,
          1972,
          1973,
          1976,
          1977,
          1978,
          1979,
          1980,
          1981,
          1982,
          1983,
          1984,
          1985,
          1986,
          1987,
          1988,
          1989,
          1990,
          1991,
          1992,
          1994,
          1995,
          1996,
          1997,
          1998,
          1999,
          2000,
          2001,
          2002,
          2003,
          2006,
          2012,
          2013,
          2014,
          2015,
          2016,
          2017
         ],
         "xaxis": "x",
         "y": [
          2,
          0,
          0,
          0,
          0,
          0,
          1,
          4,
          19,
          2,
          27,
          0,
          0,
          0,
          14,
          0,
          0,
          1,
          3,
          12,
          28,
          15,
          13,
          22,
          28,
          0,
          1,
          0,
          1,
          0,
          0,
          1,
          1,
          2,
          2,
          3,
          1,
          0
         ],
         "yaxis": "y"
        },
        {
         "hovertemplate": "pays=Brunei<br>années=%{x}<br>nombre de morts=%{y}<extra></extra>",
         "legendgroup": "Brunei",
         "line": {
          "color": "#FFA15A",
          "dash": "solid"
         },
         "marker": {
          "symbol": "circle"
         },
         "mode": "lines",
         "name": "Brunei",
         "showlegend": true,
         "type": "scattergl",
         "x": [
          1972,
          1992
         ],
         "xaxis": "x",
         "y": [
          0,
          0
         ],
         "yaxis": "y"
        },
        {
         "hovertemplate": "pays=Bulgaria<br>années=%{x}<br>nombre de morts=%{y}<extra></extra>",
         "legendgroup": "Bulgaria",
         "line": {
          "color": "#19d3f3",
          "dash": "solid"
         },
         "marker": {
          "symbol": "circle"
         },
         "mode": "lines",
         "name": "Bulgaria",
         "showlegend": true,
         "type": "scattergl",
         "x": [
          1982,
          1984,
          1990,
          1991,
          1992,
          1994,
          1995,
          1996,
          1997,
          1998,
          1999,
          2000,
          2001,
          2002,
          2008,
          2011,
          2012,
          2013,
          2014,
          2015,
          2016
         ],
         "xaxis": "x",
         "y": [
          2,
          0,
          0,
          0,
          0,
          1,
          3,
          9,
          0,
          0,
          0,
          4,
          0,
          1,
          0,
          0,
          8,
          0,
          0,
          0,
          0
         ],
         "yaxis": "y"
        },
        {
         "hovertemplate": "pays=Burkina Faso<br>années=%{x}<br>nombre de morts=%{y}<extra></extra>",
         "legendgroup": "Burkina Faso",
         "line": {
          "color": "#FF6692",
          "dash": "solid"
         },
         "marker": {
          "symbol": "circle"
         },
         "mode": "lines",
         "name": "Burkina Faso",
         "showlegend": true,
         "type": "scattergl",
         "x": [
          1991,
          2013,
          2015,
          2016,
          2017
         ],
         "xaxis": "x",
         "y": [
          1,
          1,
          16,
          62,
          53
         ],
         "yaxis": "y"
        },
        {
         "hovertemplate": "pays=Burundi<br>années=%{x}<br>nombre de morts=%{y}<extra></extra>",
         "legendgroup": "Burundi",
         "line": {
          "color": "#B6E880",
          "dash": "solid"
         },
         "marker": {
          "symbol": "circle"
         },
         "mode": "lines",
         "name": "Burundi",
         "showlegend": true,
         "type": "scattergl",
         "x": [
          1991,
          1992,
          1994,
          1995,
          1996,
          1997,
          1998,
          1999,
          2000,
          2001,
          2002,
          2003,
          2004,
          2005,
          2006,
          2007,
          2008,
          2010,
          2011,
          2012,
          2013,
          2014,
          2015,
          2016,
          2017
         ],
         "xaxis": "x",
         "y": [
          117,
          61,
          265,
          583,
          1371,
          386,
          392,
          108,
          90,
          166,
          65,
          116,
          18,
          13,
          21,
          3,
          28,
          14,
          47,
          6,
          5,
          4,
          223,
          74,
          20
         ],
         "yaxis": "y"
        },
        {
         "hovertemplate": "pays=Cambodia<br>années=%{x}<br>nombre de morts=%{y}<extra></extra>",
         "legendgroup": "Cambodia",
         "line": {
          "color": "#FF97FF",
          "dash": "solid"
         },
         "marker": {
          "symbol": "circle"
         },
         "mode": "lines",
         "name": "Cambodia",
         "showlegend": true,
         "type": "scattergl",
         "x": [
          1972,
          1978,
          1989,
          1990,
          1991,
          1992,
          1994,
          1995,
          1996,
          1997,
          1998,
          1999,
          2000,
          2001,
          2002,
          2003,
          2008,
          2013
         ],
         "xaxis": "x",
         "y": [
          1,
          1,
          11,
          0,
          16,
          64,
          225,
          21,
          44,
          100,
          35,
          1,
          12,
          4,
          4,
          1,
          1,
          0
         ],
         "yaxis": "y"
        },
        {
         "hovertemplate": "pays=Cameroon<br>années=%{x}<br>nombre de morts=%{y}<extra></extra>",
         "legendgroup": "Cameroon",
         "line": {
          "color": "#FECB52",
          "dash": "solid"
         },
         "marker": {
          "symbol": "circle"
         },
         "mode": "lines",
         "name": "Cameroon",
         "showlegend": true,
         "type": "scattergl",
         "x": [
          1991,
          1992,
          1994,
          1995,
          1998,
          2007,
          2008,
          2009,
          2010,
          2011,
          2013,
          2014,
          2015,
          2016,
          2017
         ],
         "xaxis": "x",
         "y": [
          36,
          6,
          33,
          5,
          0,
          31,
          3,
          0,
          5,
          4,
          7,
          789,
          931,
          269,
          228
         ],
         "yaxis": "y"
        },
        {
         "hovertemplate": "pays=Canada<br>années=%{x}<br>nombre de morts=%{y}<extra></extra>",
         "legendgroup": "Canada",
         "line": {
          "color": "#636efa",
          "dash": "solid"
         },
         "marker": {
          "symbol": "circle"
         },
         "mode": "lines",
         "name": "Canada",
         "showlegend": true,
         "type": "scattergl",
         "x": [
          1970,
          1972,
          1974,
          1980,
          1982,
          1983,
          1985,
          1986,
          1989,
          1992,
          1994,
          1995,
          1996,
          1997,
          1998,
          1999,
          2000,
          2004,
          2006,
          2008,
          2009,
          2010,
          2012,
          2013,
          2014,
          2015,
          2016,
          2017
         ],
         "xaxis": "x",
         "y": [
          1,
          1,
          0,
          0,
          1,
          0,
          331,
          0,
          15,
          0,
          0,
          1,
          0,
          0,
          1,
          0,
          0,
          0,
          0,
          0,
          0,
          0,
          0,
          0,
          7,
          0,
          1,
          6
         ],
         "yaxis": "y"
        },
        {
         "hovertemplate": "pays=Central African Republic<br>années=%{x}<br>nombre de morts=%{y}<extra></extra>",
         "legendgroup": "Central African Republic",
         "line": {
          "color": "#EF553B",
          "dash": "solid"
         },
         "marker": {
          "symbol": "circle"
         },
         "mode": "lines",
         "name": "Central African Republic",
         "showlegend": true,
         "type": "scattergl",
         "x": [
          1981,
          1986,
          1991,
          1992,
          1994,
          1996,
          2000,
          2001,
          2006,
          2007,
          2008,
          2009,
          2010,
          2011,
          2012,
          2013,
          2014,
          2015,
          2016,
          2017
         ],
         "xaxis": "x",
         "y": [
          3,
          0,
          3,
          1,
          2,
          2,
          1,
          7,
          4,
          1,
          1,
          38,
          46,
          35,
          14,
          120,
          751,
          171,
          189,
          601
         ],
         "yaxis": "y"
        },
        {
         "hovertemplate": "pays=Chad<br>années=%{x}<br>nombre de morts=%{y}<extra></extra>",
         "legendgroup": "Chad",
         "line": {
          "color": "#00cc96",
          "dash": "solid"
         },
         "marker": {
          "symbol": "circle"
         },
         "mode": "lines",
         "name": "Chad",
         "showlegend": true,
         "type": "scattergl",
         "x": [
          1974,
          1984,
          1985,
          1986,
          1991,
          1992,
          1994,
          1995,
          1996,
          1997,
          1998,
          1999,
          2002,
          2006,
          2007,
          2008,
          2009,
          2010,
          2014,
          2015,
          2016,
          2017
         ],
         "xaxis": "x",
         "y": [
          0,
          0,
          0,
          0,
          40,
          170,
          1,
          0,
          1,
          2,
          0,
          77,
          21,
          103,
          136,
          172,
          0,
          0,
          6,
          306,
          22,
          62
         ],
         "yaxis": "y"
        },
        {
         "hovertemplate": "pays=Chile<br>années=%{x}<br>nombre de morts=%{y}<extra></extra>",
         "legendgroup": "Chile",
         "line": {
          "color": "#ab63fa",
          "dash": "solid"
         },
         "marker": {
          "symbol": "circle"
         },
         "mode": "lines",
         "name": "Chile",
         "showlegend": true,
         "type": "scattergl",
         "x": [
          1973,
          1976,
          1977,
          1978,
          1979,
          1980,
          1981,
          1982,
          1983,
          1984,
          1985,
          1986,
          1987,
          1988,
          1989,
          1990,
          1991,
          1992,
          1994,
          1995,
          1996,
          1997,
          1998,
          1999,
          2000,
          2001,
          2002,
          2003,
          2006,
          2007,
          2008,
          2009,
          2010,
          2011,
          2012,
          2013,
          2014,
          2015,
          2016,
          2017
         ],
         "xaxis": "x",
         "y": [
          0,
          0,
          0,
          0,
          6,
          6,
          19,
          2,
          15,
          37,
          30,
          22,
          9,
          19,
          19,
          8,
          16,
          12,
          0,
          1,
          2,
          0,
          0,
          0,
          0,
          0,
          0,
          0,
          0,
          0,
          0,
          0,
          0,
          0,
          0,
          2,
          1,
          0,
          2,
          0
         ],
         "yaxis": "y"
        },
        {
         "hovertemplate": "pays=China<br>années=%{x}<br>nombre de morts=%{y}<extra></extra>",
         "legendgroup": "China",
         "line": {
          "color": "#FFA15A",
          "dash": "solid"
         },
         "marker": {
          "symbol": "circle"
         },
         "mode": "lines",
         "name": "China",
         "showlegend": true,
         "type": "scattergl",
         "x": [
          1989,
          1990,
          1991,
          1992,
          1994,
          1995,
          1996,
          1997,
          1998,
          1999,
          2000,
          2001,
          2002,
          2003,
          2004,
          2005,
          2008,
          2009,
          2010,
          2011,
          2012,
          2013,
          2014,
          2015,
          2016,
          2017
         ],
         "xaxis": "x",
         "y": [
          20,
          2,
          0,
          9,
          18,
          6,
          23,
          37,
          50,
          5,
          1,
          7,
          1,
          1,
          4,
          12,
          39,
          186,
          7,
          19,
          27,
          60,
          322,
          123,
          13,
          16
         ],
         "yaxis": "y"
        },
        {
         "hovertemplate": "pays=Colombia<br>années=%{x}<br>nombre de morts=%{y}<extra></extra>",
         "legendgroup": "Colombia",
         "line": {
          "color": "#19d3f3",
          "dash": "solid"
         },
         "marker": {
          "symbol": "circle"
         },
         "mode": "lines",
         "name": "Colombia",
         "showlegend": true,
         "type": "scattergl",
         "x": [
          1970,
          1972,
          1973,
          1975,
          1976,
          1977,
          1978,
          1979,
          1980,
          1981,
          1982,
          1983,
          1984,
          1985,
          1986,
          1987,
          1988,
          1989,
          1990,
          1991,
          1992,
          1994,
          1995,
          1996,
          1997,
          1998,
          1999,
          2000,
          2001,
          2002,
          2003,
          2004,
          2005,
          2006,
          2007,
          2008,
          2009,
          2010,
          2011,
          2012,
          2013,
          2014,
          2015,
          2016,
          2017
         ],
         "xaxis": "x",
         "y": [
          0,
          1,
          0,
          7,
          10,
          36,
          70,
          156,
          159,
          365,
          364,
          429,
          478,
          935,
          771,
          655,
          1096,
          745,
          693,
          742,
          631,
          218,
          521,
          611,
          1230,
          592,
          258,
          377,
          551,
          346,
          180,
          83,
          145,
          79,
          64,
          85,
          107,
          56,
          43,
          168,
          137,
          143,
          104,
          52,
          84
         ],
         "yaxis": "y"
        },
        {
         "hovertemplate": "pays=Comoros<br>années=%{x}<br>nombre de morts=%{y}<extra></extra>",
         "legendgroup": "Comoros",
         "line": {
          "color": "#FF6692",
          "dash": "solid"
         },
         "marker": {
          "symbol": "circle"
         },
         "mode": "lines",
         "name": "Comoros",
         "showlegend": true,
         "type": "scattergl",
         "x": [
          1992,
          1994,
          1997
         ],
         "xaxis": "x",
         "y": [
          1,
          0,
          0
         ],
         "yaxis": "y"
        },
        {
         "hovertemplate": "pays=Costa Rica<br>années=%{x}<br>nombre de morts=%{y}<extra></extra>",
         "legendgroup": "Costa Rica",
         "line": {
          "color": "#B6E880",
          "dash": "solid"
         },
         "marker": {
          "symbol": "circle"
         },
         "mode": "lines",
         "name": "Costa Rica",
         "showlegend": true,
         "type": "scattergl",
         "x": [
          1971,
          1976,
          1977,
          1978,
          1979,
          1980,
          1981,
          1982,
          1983,
          1984,
          1985,
          1986,
          1987,
          1988,
          1989,
          1990,
          1991,
          1992,
          1994,
          1996,
          1997,
          2001
         ],
         "xaxis": "x",
         "y": [
          0,
          0,
          0,
          0,
          3,
          0,
          4,
          4,
          0,
          0,
          0,
          0,
          0,
          0,
          1,
          0,
          0,
          0,
          1,
          1,
          2,
          1
         ],
         "yaxis": "y"
        },
        {
         "hovertemplate": "pays=Croatia<br>années=%{x}<br>nombre de morts=%{y}<extra></extra>",
         "legendgroup": "Croatia",
         "line": {
          "color": "#FF97FF",
          "dash": "solid"
         },
         "marker": {
          "symbol": "circle"
         },
         "mode": "lines",
         "name": "Croatia",
         "showlegend": true,
         "type": "scattergl",
         "x": [
          1991,
          1992,
          1994,
          1995,
          1996,
          1997,
          2000,
          2001,
          2005,
          2008,
          2009,
          2013
         ],
         "xaxis": "x",
         "y": [
          237,
          2,
          3,
          1,
          0,
          2,
          3,
          0,
          0,
          0,
          0,
          0
         ],
         "yaxis": "y"
        },
        {
         "hovertemplate": "pays=Cuba<br>années=%{x}<br>nombre de morts=%{y}<extra></extra>",
         "legendgroup": "Cuba",
         "line": {
          "color": "#FECB52",
          "dash": "solid"
         },
         "marker": {
          "symbol": "circle"
         },
         "mode": "lines",
         "name": "Cuba",
         "showlegend": true,
         "type": "scattergl",
         "x": [
          1991,
          1992,
          1994,
          1996,
          1997,
          2007
         ],
         "xaxis": "x",
         "y": [
          0,
          3,
          3,
          0,
          1,
          1
         ],
         "yaxis": "y"
        },
        {
         "hovertemplate": "pays=Cyprus<br>années=%{x}<br>nombre de morts=%{y}<extra></extra>",
         "legendgroup": "Cyprus",
         "line": {
          "color": "#636efa",
          "dash": "solid"
         },
         "marker": {
          "symbol": "circle"
         },
         "mode": "lines",
         "name": "Cyprus",
         "showlegend": true,
         "type": "scattergl",
         "x": [
          1973,
          1975,
          1977,
          1978,
          1979,
          1980,
          1981,
          1982,
          1983,
          1984,
          1985,
          1986,
          1987,
          1988,
          1989,
          1990,
          1991,
          1992,
          1994,
          1995,
          1996,
          1998,
          1999,
          2000,
          2001,
          2004,
          2007,
          2012,
          2013,
          2014,
          2015,
          2016
         ],
         "xaxis": "x",
         "y": [
          1,
          0,
          0,
          16,
          2,
          3,
          0,
          0,
          0,
          6,
          3,
          1,
          1,
          6,
          1,
          0,
          0,
          0,
          2,
          0,
          3,
          0,
          0,
          0,
          0,
          0,
          0,
          0,
          0,
          0,
          0,
          0
         ],
         "yaxis": "y"
        },
        {
         "hovertemplate": "pays=Czech Republic<br>années=%{x}<br>nombre de morts=%{y}<extra></extra>",
         "legendgroup": "Czech Republic",
         "line": {
          "color": "#EF553B",
          "dash": "solid"
         },
         "marker": {
          "symbol": "circle"
         },
         "mode": "lines",
         "name": "Czech Republic",
         "showlegend": true,
         "type": "scattergl",
         "x": [
          1994,
          1995,
          1996,
          1997,
          2001,
          2003,
          2008,
          2009,
          2011,
          2013,
          2014,
          2015,
          2016,
          2017
         ],
         "xaxis": "x",
         "y": [
          0,
          1,
          2,
          1,
          0,
          0,
          0,
          0,
          0,
          1,
          1,
          0,
          0,
          0
         ],
         "yaxis": "y"
        },
        {
         "hovertemplate": "pays=Czechoslovakia<br>années=%{x}<br>nombre de morts=%{y}<extra></extra>",
         "legendgroup": "Czechoslovakia",
         "line": {
          "color": "#00cc96",
          "dash": "solid"
         },
         "marker": {
          "symbol": "circle"
         },
         "mode": "lines",
         "name": "Czechoslovakia",
         "showlegend": true,
         "type": "scattergl",
         "x": [
          1972,
          1989,
          1990,
          1991,
          1992
         ],
         "xaxis": "x",
         "y": [
          26,
          0,
          0,
          1,
          0
         ],
         "yaxis": "y"
        },
        {
         "hovertemplate": "pays=Democratic Republic of the Congo<br>années=%{x}<br>nombre de morts=%{y}<extra></extra>",
         "legendgroup": "Democratic Republic of the Congo",
         "line": {
          "color": "#ab63fa",
          "dash": "solid"
         },
         "marker": {
          "symbol": "circle"
         },
         "mode": "lines",
         "name": "Democratic Republic of the Congo",
         "showlegend": true,
         "type": "scattergl",
         "x": [
          1997,
          1998,
          1999,
          2000,
          2001,
          2002,
          2003,
          2004,
          2005,
          2006,
          2007,
          2008,
          2009,
          2010,
          2011,
          2012,
          2013,
          2014,
          2015,
          2016,
          2017
         ],
         "xaxis": "x",
         "y": [
          8,
          67,
          7,
          40,
          15,
          16,
          89,
          22,
          31,
          23,
          72,
          319,
          824,
          99,
          50,
          288,
          150,
          366,
          371,
          532,
          596
         ],
         "yaxis": "y"
        },
        {
         "hovertemplate": "pays=Denmark<br>années=%{x}<br>nombre de morts=%{y}<extra></extra>",
         "legendgroup": "Denmark",
         "line": {
          "color": "#FFA15A",
          "dash": "solid"
         },
         "marker": {
          "symbol": "circle"
         },
         "mode": "lines",
         "name": "Denmark",
         "showlegend": true,
         "type": "scattergl",
         "x": [
          1978,
          1979,
          1980,
          1981,
          1985,
          1986,
          1987,
          1988,
          1989,
          1991,
          1992,
          1995,
          1999,
          2008,
          2010,
          2013,
          2015,
          2016
         ],
         "xaxis": "x",
         "y": [
          0,
          0,
          0,
          0,
          1,
          0,
          0,
          0,
          0,
          0,
          1,
          0,
          0,
          0,
          0,
          0,
          2,
          1
         ],
         "yaxis": "y"
        },
        {
         "hovertemplate": "pays=Djibouti<br>années=%{x}<br>nombre de morts=%{y}<extra></extra>",
         "legendgroup": "Djibouti",
         "line": {
          "color": "#19d3f3",
          "dash": "solid"
         },
         "marker": {
          "symbol": "circle"
         },
         "mode": "lines",
         "name": "Djibouti",
         "showlegend": true,
         "type": "scattergl",
         "x": [
          1977,
          1979,
          1987,
          1988,
          1990,
          1991,
          1992,
          1994,
          1995,
          1997,
          2004,
          2014,
          2015,
          2017
         ],
         "xaxis": "x",
         "y": [
          1,
          4,
          10,
          0,
          1,
          8,
          228,
          6,
          0,
          11,
          0,
          5,
          0,
          0
         ],
         "yaxis": "y"
        },
        {
         "hovertemplate": "pays=Dominica<br>années=%{x}<br>nombre de morts=%{y}<extra></extra>",
         "legendgroup": "Dominica",
         "line": {
          "color": "#FF6692",
          "dash": "solid"
         },
         "marker": {
          "symbol": "circle"
         },
         "mode": "lines",
         "name": "Dominica",
         "showlegend": true,
         "type": "scattergl",
         "x": [
          1981,
          1997
         ],
         "xaxis": "x",
         "y": [
          3,
          0
         ],
         "yaxis": "y"
        },
        {
         "hovertemplate": "pays=Dominican Republic<br>années=%{x}<br>nombre de morts=%{y}<extra></extra>",
         "legendgroup": "Dominican Republic",
         "line": {
          "color": "#B6E880",
          "dash": "solid"
         },
         "marker": {
          "symbol": "circle"
         },
         "mode": "lines",
         "name": "Dominican Republic",
         "showlegend": true,
         "type": "scattergl",
         "x": [
          1970,
          1971,
          1973,
          1974,
          1978,
          1979,
          1980,
          1982,
          1987,
          1988,
          1989,
          1990,
          1991,
          1992,
          1994,
          1996,
          1997,
          2013,
          2014,
          2017
         ],
         "xaxis": "x",
         "y": [
          1,
          0,
          0,
          0,
          3,
          1,
          1,
          5,
          7,
          0,
          1,
          3,
          1,
          1,
          2,
          3,
          3,
          0,
          0,
          2
         ],
         "yaxis": "y"
        },
        {
         "hovertemplate": "pays=East Germany (GDR)<br>années=%{x}<br>nombre de morts=%{y}<extra></extra>",
         "legendgroup": "East Germany (GDR)",
         "line": {
          "color": "#FF97FF",
          "dash": "solid"
         },
         "marker": {
          "symbol": "circle"
         },
         "mode": "lines",
         "name": "East Germany (GDR)",
         "showlegend": true,
         "type": "scattergl",
         "x": [
          1970,
          1971,
          1974,
          1977,
          1978,
          1982,
          1983,
          1984,
          1985,
          1986,
          1987,
          1988,
          1989,
          1990
         ],
         "xaxis": "x",
         "y": [
          0,
          0,
          1,
          0,
          0,
          0,
          0,
          0,
          0,
          1,
          0,
          0,
          0,
          0
         ],
         "yaxis": "y"
        },
        {
         "hovertemplate": "pays=East Timor<br>années=%{x}<br>nombre de morts=%{y}<extra></extra>",
         "legendgroup": "East Timor",
         "line": {
          "color": "#FECB52",
          "dash": "solid"
         },
         "marker": {
          "symbol": "circle"
         },
         "mode": "lines",
         "name": "East Timor",
         "showlegend": true,
         "type": "scattergl",
         "x": [
          2000,
          2003,
          2005,
          2007,
          2008
         ],
         "xaxis": "x",
         "y": [
          1,
          5,
          0,
          1,
          2
         ],
         "yaxis": "y"
        },
        {
         "hovertemplate": "pays=Ecuador<br>années=%{x}<br>nombre de morts=%{y}<extra></extra>",
         "legendgroup": "Ecuador",
         "line": {
          "color": "#636efa",
          "dash": "solid"
         },
         "marker": {
          "symbol": "circle"
         },
         "mode": "lines",
         "name": "Ecuador",
         "showlegend": true,
         "type": "scattergl",
         "x": [
          1973,
          1974,
          1976,
          1977,
          1978,
          1979,
          1980,
          1981,
          1982,
          1983,
          1984,
          1985,
          1986,
          1987,
          1988,
          1989,
          1990,
          1991,
          1992,
          1994,
          1995,
          1996,
          1997,
          1998,
          1999,
          2000,
          2001,
          2002,
          2003,
          2004,
          2008,
          2009,
          2011,
          2012,
          2013,
          2015,
          2016,
          2017
         ],
         "xaxis": "x",
         "y": [
          0,
          0,
          1,
          1,
          2,
          0,
          2,
          2,
          1,
          0,
          1,
          4,
          13,
          0,
          4,
          9,
          3,
          0,
          2,
          0,
          4,
          2,
          1,
          0,
          0,
          0,
          0,
          0,
          0,
          0,
          0,
          0,
          0,
          0,
          1,
          0,
          1,
          0
         ],
         "yaxis": "y"
        },
        {
         "hovertemplate": "pays=Egypt<br>années=%{x}<br>nombre de morts=%{y}<extra></extra>",
         "legendgroup": "Egypt",
         "line": {
          "color": "#EF553B",
          "dash": "solid"
         },
         "marker": {
          "symbol": "circle"
         },
         "mode": "lines",
         "name": "Egypt",
         "showlegend": true,
         "type": "scattergl",
         "x": [
          1970,
          1971,
          1972,
          1977,
          1978,
          1979,
          1980,
          1981,
          1982,
          1985,
          1986,
          1987,
          1988,
          1989,
          1990,
          1991,
          1992,
          1994,
          1995,
          1996,
          1997,
          1998,
          1999,
          2004,
          2005,
          2006,
          2008,
          2009,
          2010,
          2011,
          2012,
          2013,
          2014,
          2015,
          2016,
          2017
         ],
         "xaxis": "x",
         "y": [
          0,
          1,
          0,
          1,
          2,
          1,
          1,
          67,
          0,
          2,
          12,
          1,
          1,
          1,
          21,
          8,
          49,
          173,
          134,
          97,
          165,
          9,
          1,
          37,
          92,
          19,
          0,
          1,
          0,
          28,
          44,
          243,
          343,
          829,
          609,
          877
         ],
         "yaxis": "y"
        },
        {
         "hovertemplate": "pays=El Salvador<br>années=%{x}<br>nombre de morts=%{y}<extra></extra>",
         "legendgroup": "El Salvador",
         "line": {
          "color": "#00cc96",
          "dash": "solid"
         },
         "marker": {
          "symbol": "circle"
         },
         "mode": "lines",
         "name": "El Salvador",
         "showlegend": true,
         "type": "scattergl",
         "x": [
          1972,
          1973,
          1974,
          1975,
          1976,
          1977,
          1978,
          1979,
          1980,
          1981,
          1982,
          1983,
          1984,
          1985,
          1986,
          1987,
          1988,
          1989,
          1990,
          1991,
          1992,
          1994,
          1995,
          1996,
          1997
         ],
         "xaxis": "x",
         "y": [
          0,
          0,
          0,
          2,
          3,
          4,
          32,
          244,
          2381,
          1578,
          1547,
          1666,
          1315,
          1013,
          293,
          421,
          361,
          350,
          294,
          426,
          23,
          22,
          3,
          26,
          1
         ],
         "yaxis": "y"
        },
        {
         "hovertemplate": "pays=Equatorial Guinea<br>années=%{x}<br>nombre de morts=%{y}<extra></extra>",
         "legendgroup": "Equatorial Guinea",
         "line": {
          "color": "#ab63fa",
          "dash": "solid"
         },
         "marker": {
          "symbol": "circle"
         },
         "mode": "lines",
         "name": "Equatorial Guinea",
         "showlegend": true,
         "type": "scattergl",
         "x": [
          1992,
          2009
         ],
         "xaxis": "x",
         "y": [
          1,
          1
         ],
         "yaxis": "y"
        },
        {
         "hovertemplate": "pays=Eritrea<br>années=%{x}<br>nombre de morts=%{y}<extra></extra>",
         "legendgroup": "Eritrea",
         "line": {
          "color": "#FFA15A",
          "dash": "solid"
         },
         "marker": {
          "symbol": "circle"
         },
         "mode": "lines",
         "name": "Eritrea",
         "showlegend": true,
         "type": "scattergl",
         "x": [
          1995,
          1996,
          2007,
          2008,
          2009,
          2010
         ],
         "xaxis": "x",
         "y": [
          0,
          6,
          0,
          4,
          2,
          17
         ],
         "yaxis": "y"
        },
        {
         "hovertemplate": "pays=Estonia<br>années=%{x}<br>nombre de morts=%{y}<extra></extra>",
         "legendgroup": "Estonia",
         "line": {
          "color": "#19d3f3",
          "dash": "solid"
         },
         "marker": {
          "symbol": "circle"
         },
         "mode": "lines",
         "name": "Estonia",
         "showlegend": true,
         "type": "scattergl",
         "x": [
          1992,
          1994,
          1995,
          1996,
          1999,
          2001,
          2011,
          2015
         ],
         "xaxis": "x",
         "y": [
          0,
          0,
          0,
          1,
          0,
          1,
          1,
          0
         ],
         "yaxis": "y"
        },
        {
         "hovertemplate": "pays=Ethiopia<br>années=%{x}<br>nombre de morts=%{y}<extra></extra>",
         "legendgroup": "Ethiopia",
         "line": {
          "color": "#FF6692",
          "dash": "solid"
         },
         "marker": {
          "symbol": "circle"
         },
         "mode": "lines",
         "name": "Ethiopia",
         "showlegend": true,
         "type": "scattergl",
         "x": [
          1970,
          1971,
          1973,
          1974,
          1975,
          1976,
          1977,
          1978,
          1979,
          1983,
          1984,
          1985,
          1986,
          1987,
          1988,
          1989,
          1990,
          1991,
          1992,
          1994,
          1995,
          1996,
          1997,
          1999,
          2000,
          2002,
          2003,
          2004,
          2005,
          2006,
          2007,
          2008,
          2009,
          2010,
          2011,
          2012,
          2013,
          2014,
          2015,
          2016,
          2017
         ],
         "xaxis": "x",
         "y": [
          1,
          0,
          0,
          3,
          0,
          0,
          5,
          25,
          101,
          0,
          200,
          0,
          40,
          0,
          0,
          1,
          17,
          161,
          330,
          6,
          5,
          133,
          8,
          2,
          3,
          1,
          2,
          1,
          9,
          12,
          204,
          27,
          13,
          8,
          1,
          25,
          17,
          9,
          48,
          279,
          67
         ],
         "yaxis": "y"
        },
        {
         "hovertemplate": "pays=Falkland Islands<br>années=%{x}<br>nombre de morts=%{y}<extra></extra>",
         "legendgroup": "Falkland Islands",
         "line": {
          "color": "#B6E880",
          "dash": "solid"
         },
         "marker": {
          "symbol": "circle"
         },
         "mode": "lines",
         "name": "Falkland Islands",
         "showlegend": true,
         "type": "scattergl",
         "x": [
          1983
         ],
         "xaxis": "x",
         "y": [
          0
         ],
         "yaxis": "y"
        },
        {
         "hovertemplate": "pays=Fiji<br>années=%{x}<br>nombre de morts=%{y}<extra></extra>",
         "legendgroup": "Fiji",
         "line": {
          "color": "#FF97FF",
          "dash": "solid"
         },
         "marker": {
          "symbol": "circle"
         },
         "mode": "lines",
         "name": "Fiji",
         "showlegend": true,
         "type": "scattergl",
         "x": [
          1987,
          1989,
          1991,
          1992,
          1999,
          2000,
          2001
         ],
         "xaxis": "x",
         "y": [
          0,
          0,
          0,
          1,
          0,
          7,
          0
         ],
         "yaxis": "y"
        },
        {
         "hovertemplate": "pays=Finland<br>années=%{x}<br>nombre de morts=%{y}<extra></extra>",
         "legendgroup": "Finland",
         "line": {
          "color": "#FECB52",
          "dash": "solid"
         },
         "marker": {
          "symbol": "circle"
         },
         "mode": "lines",
         "name": "Finland",
         "showlegend": true,
         "type": "scattergl",
         "x": [
          1986,
          1992,
          1994,
          1995,
          2007,
          2008,
          2015,
          2016,
          2017
         ],
         "xaxis": "x",
         "y": [
          0,
          0,
          0,
          0,
          9,
          0,
          0,
          0,
          2
         ],
         "yaxis": "y"
        },
        {
         "hovertemplate": "pays=France<br>années=%{x}<br>nombre de morts=%{y}<extra></extra>",
         "legendgroup": "France",
         "line": {
          "color": "#636efa",
          "dash": "solid"
         },
         "marker": {
          "symbol": "circle"
         },
         "mode": "lines",
         "name": "France",
         "showlegend": true,
         "type": "scattergl",
         "x": [
          1972,
          1973,
          1974,
          1975,
          1976,
          1977,
          1978,
          1979,
          1980,
          1981,
          1982,
          1983,
          1984,
          1985,
          1986,
          1987,
          1988,
          1989,
          1990,
          1991,
          1992,
          1994,
          1995,
          1996,
          1997,
          1998,
          1999,
          2000,
          2001,
          2002,
          2003,
          2004,
          2005,
          2006,
          2007,
          2008,
          2009,
          2010,
          2011,
          2012,
          2013,
          2014,
          2015,
          2016,
          2017
         ],
         "xaxis": "x",
         "y": [
          1,
          5,
          3,
          3,
          7,
          3,
          21,
          11,
          19,
          8,
          17,
          20,
          15,
          16,
          25,
          5,
          6,
          3,
          3,
          6,
          9,
          7,
          19,
          16,
          0,
          1,
          0,
          4,
          0,
          0,
          0,
          0,
          0,
          1,
          3,
          0,
          0,
          0,
          0,
          8,
          0,
          1,
          162,
          95,
          7
         ],
         "yaxis": "y"
        },
        {
         "hovertemplate": "pays=French Guiana<br>années=%{x}<br>nombre de morts=%{y}<extra></extra>",
         "legendgroup": "French Guiana",
         "line": {
          "color": "#EF553B",
          "dash": "solid"
         },
         "marker": {
          "symbol": "circle"
         },
         "mode": "lines",
         "name": "French Guiana",
         "showlegend": true,
         "type": "scattergl",
         "x": [
          1983,
          1996,
          1997
         ],
         "xaxis": "x",
         "y": [
          1,
          0,
          0
         ],
         "yaxis": "y"
        },
        {
         "hovertemplate": "pays=French Polynesia<br>années=%{x}<br>nombre de morts=%{y}<extra></extra>",
         "legendgroup": "French Polynesia",
         "line": {
          "color": "#00cc96",
          "dash": "solid"
         },
         "marker": {
          "symbol": "circle"
         },
         "mode": "lines",
         "name": "French Polynesia",
         "showlegend": true,
         "type": "scattergl",
         "x": [
          1995
         ],
         "xaxis": "x",
         "y": [
          0
         ],
         "yaxis": "y"
        },
        {
         "hovertemplate": "pays=Gabon<br>années=%{x}<br>nombre de morts=%{y}<extra></extra>",
         "legendgroup": "Gabon",
         "line": {
          "color": "#ab63fa",
          "dash": "solid"
         },
         "marker": {
          "symbol": "circle"
         },
         "mode": "lines",
         "name": "Gabon",
         "showlegend": true,
         "type": "scattergl",
         "x": [
          1979,
          1994,
          1996,
          1997,
          2017
         ],
         "xaxis": "x",
         "y": [
          2,
          0,
          0,
          4,
          0
         ],
         "yaxis": "y"
        },
        {
         "hovertemplate": "pays=Gambia<br>années=%{x}<br>nombre de morts=%{y}<extra></extra>",
         "legendgroup": "Gambia",
         "line": {
          "color": "#FFA15A",
          "dash": "solid"
         },
         "marker": {
          "symbol": "circle"
         },
         "mode": "lines",
         "name": "Gambia",
         "showlegend": true,
         "type": "scattergl",
         "x": [
          1994,
          1995,
          2000
         ],
         "xaxis": "x",
         "y": [
          13,
          0,
          0
         ],
         "yaxis": "y"
        },
        {
         "hovertemplate": "pays=Georgia<br>années=%{x}<br>nombre de morts=%{y}<extra></extra>",
         "legendgroup": "Georgia",
         "line": {
          "color": "#19d3f3",
          "dash": "solid"
         },
         "marker": {
          "symbol": "circle"
         },
         "mode": "lines",
         "name": "Georgia",
         "showlegend": true,
         "type": "scattergl",
         "x": [
          1991,
          1992,
          1994,
          1995,
          1996,
          1997,
          1998,
          1999,
          2000,
          2001,
          2002,
          2003,
          2004,
          2005,
          2006,
          2008,
          2009,
          2010,
          2011,
          2012,
          2013,
          2014,
          2015,
          2016,
          2017
         ],
         "xaxis": "x",
         "y": [
          2,
          109,
          29,
          14,
          2,
          35,
          32,
          5,
          3,
          6,
          1,
          0,
          0,
          8,
          5,
          13,
          5,
          4,
          1,
          1,
          2,
          0,
          0,
          1,
          0
         ],
         "yaxis": "y"
        },
        {
         "hovertemplate": "pays=Germany<br>années=%{x}<br>nombre de morts=%{y}<extra></extra>",
         "legendgroup": "Germany",
         "line": {
          "color": "#FF6692",
          "dash": "solid"
         },
         "marker": {
          "symbol": "circle"
         },
         "mode": "lines",
         "name": "Germany",
         "showlegend": true,
         "type": "scattergl",
         "x": [
          1990,
          1991,
          1992,
          1994,
          1995,
          1996,
          1997,
          1998,
          1999,
          2000,
          2001,
          2002,
          2003,
          2004,
          2005,
          2006,
          2007,
          2008,
          2009,
          2010,
          2011,
          2012,
          2014,
          2015,
          2016,
          2017
         ],
         "xaxis": "x",
         "y": [
          0,
          10,
          17,
          2,
          10,
          1,
          0,
          0,
          3,
          1,
          3,
          0,
          0,
          1,
          2,
          2,
          1,
          0,
          0,
          0,
          2,
          0,
          0,
          1,
          27,
          1
         ],
         "yaxis": "y"
        },
        {
         "hovertemplate": "pays=Ghana<br>années=%{x}<br>nombre de morts=%{y}<extra></extra>",
         "legendgroup": "Ghana",
         "line": {
          "color": "#B6E880",
          "dash": "solid"
         },
         "marker": {
          "symbol": "circle"
         },
         "mode": "lines",
         "name": "Ghana",
         "showlegend": true,
         "type": "scattergl",
         "x": [
          1987,
          1992,
          1994,
          1995,
          1996,
          1997,
          2014,
          2016
         ],
         "xaxis": "x",
         "y": [
          0,
          0,
          13,
          2,
          3,
          1,
          0,
          0
         ],
         "yaxis": "y"
        },
        {
         "hovertemplate": "pays=Greece<br>années=%{x}<br>nombre de morts=%{y}<extra></extra>",
         "legendgroup": "Greece",
         "line": {
          "color": "#FF97FF",
          "dash": "solid"
         },
         "marker": {
          "symbol": "circle"
         },
         "mode": "lines",
         "name": "Greece",
         "showlegend": true,
         "type": "scattergl",
         "x": [
          1970,
          1971,
          1972,
          1973,
          1974,
          1975,
          1976,
          1977,
          1978,
          1979,
          1980,
          1981,
          1982,
          1983,
          1984,
          1985,
          1986,
          1987,
          1988,
          1989,
          1990,
          1991,
          1992,
          1994,
          1995,
          1996,
          1997,
          1998,
          1999,
          2000,
          2001,
          2002,
          2003,
          2004,
          2005,
          2006,
          2007,
          2008,
          2009,
          2010,
          2011,
          2012,
          2013,
          2014,
          2015,
          2016,
          2017
         ],
         "xaxis": "x",
         "y": [
          2,
          0,
          0,
          5,
          92,
          1,
          14,
          0,
          0,
          1,
          5,
          3,
          2,
          4,
          5,
          64,
          6,
          2,
          14,
          4,
          2,
          15,
          2,
          3,
          0,
          0,
          1,
          0,
          1,
          1,
          0,
          0,
          0,
          0,
          0,
          0,
          0,
          0,
          1,
          3,
          0,
          0,
          3,
          0,
          1,
          66,
          0
         ],
         "yaxis": "y"
        },
        {
         "hovertemplate": "pays=Grenada<br>années=%{x}<br>nombre de morts=%{y}<extra></extra>",
         "legendgroup": "Grenada",
         "line": {
          "color": "#FECB52",
          "dash": "solid"
         },
         "marker": {
          "symbol": "circle"
         },
         "mode": "lines",
         "name": "Grenada",
         "showlegend": true,
         "type": "scattergl",
         "x": [
          1980,
          1983
         ],
         "xaxis": "x",
         "y": [
          9,
          0
         ],
         "yaxis": "y"
        },
        {
         "hovertemplate": "pays=Guadeloupe<br>années=%{x}<br>nombre de morts=%{y}<extra></extra>",
         "legendgroup": "Guadeloupe",
         "line": {
          "color": "#636efa",
          "dash": "solid"
         },
         "marker": {
          "symbol": "circle"
         },
         "mode": "lines",
         "name": "Guadeloupe",
         "showlegend": true,
         "type": "scattergl",
         "x": [
          1980,
          1981,
          1983,
          1984,
          1985,
          1986,
          1988,
          1991
         ],
         "xaxis": "x",
         "y": [
          1,
          0,
          0,
          4,
          2,
          0,
          0,
          1
         ],
         "yaxis": "y"
        },
        {
         "hovertemplate": "pays=Guatemala<br>années=%{x}<br>nombre de morts=%{y}<extra></extra>",
         "legendgroup": "Guatemala",
         "line": {
          "color": "#EF553B",
          "dash": "solid"
         },
         "marker": {
          "symbol": "circle"
         },
         "mode": "lines",
         "name": "Guatemala",
         "showlegend": true,
         "type": "scattergl",
         "x": [
          1970,
          1971,
          1974,
          1975,
          1976,
          1977,
          1978,
          1979,
          1980,
          1981,
          1982,
          1983,
          1984,
          1985,
          1986,
          1987,
          1988,
          1989,
          1990,
          1991,
          1992,
          1994,
          1995,
          1996,
          1997,
          1999,
          2000,
          2001,
          2003,
          2004,
          2006,
          2012,
          2013
         ],
         "xaxis": "x",
         "y": [
          2,
          0,
          0,
          23,
          7,
          6,
          35,
          53,
          525,
          1379,
          1561,
          528,
          160,
          137,
          54,
          211,
          135,
          43,
          66,
          73,
          28,
          22,
          40,
          14,
          22,
          3,
          2,
          1,
          1,
          3,
          5,
          2,
          4
         ],
         "yaxis": "y"
        },
        {
         "hovertemplate": "pays=Guinea<br>années=%{x}<br>nombre de morts=%{y}<extra></extra>",
         "legendgroup": "Guinea",
         "line": {
          "color": "#00cc96",
          "dash": "solid"
         },
         "marker": {
          "symbol": "circle"
         },
         "mode": "lines",
         "name": "Guinea",
         "showlegend": true,
         "type": "scattergl",
         "x": [
          1980,
          1992,
          1994,
          1996,
          2000,
          2005,
          2013,
          2015,
          2016
         ],
         "xaxis": "x",
         "y": [
          1,
          0,
          2,
          2,
          203,
          0,
          0,
          1,
          1
         ],
         "yaxis": "y"
        },
        {
         "hovertemplate": "pays=Guinea-Bissau<br>années=%{x}<br>nombre de morts=%{y}<extra></extra>",
         "legendgroup": "Guinea-Bissau",
         "line": {
          "color": "#ab63fa",
          "dash": "solid"
         },
         "marker": {
          "symbol": "circle"
         },
         "mode": "lines",
         "name": "Guinea-Bissau",
         "showlegend": true,
         "type": "scattergl",
         "x": [
          2001,
          2003,
          2005,
          2006,
          2009,
          2012
         ],
         "xaxis": "x",
         "y": [
          0,
          1,
          3,
          11,
          1,
          1
         ],
         "yaxis": "y"
        },
        {
         "hovertemplate": "pays=Guyana<br>années=%{x}<br>nombre de morts=%{y}<extra></extra>",
         "legendgroup": "Guyana",
         "line": {
          "color": "#FFA15A",
          "dash": "solid"
         },
         "marker": {
          "symbol": "circle"
         },
         "mode": "lines",
         "name": "Guyana",
         "showlegend": true,
         "type": "scattergl",
         "x": [
          1978,
          1979,
          1980,
          1981,
          1990,
          1992,
          1997,
          1998,
          2001,
          2002,
          2003,
          2006,
          2008,
          2016
         ],
         "xaxis": "x",
         "y": [
          5,
          1,
          1,
          1,
          0,
          0,
          0,
          0,
          0,
          4,
          0,
          6,
          23,
          0
         ],
         "yaxis": "y"
        },
        {
         "hovertemplate": "pays=Haiti<br>années=%{x}<br>nombre de morts=%{y}<extra></extra>",
         "legendgroup": "Haiti",
         "line": {
          "color": "#19d3f3",
          "dash": "solid"
         },
         "marker": {
          "symbol": "circle"
         },
         "mode": "lines",
         "name": "Haiti",
         "showlegend": true,
         "type": "scattergl",
         "x": [
          1973,
          1974,
          1983,
          1987,
          1988,
          1989,
          1990,
          1991,
          1992,
          1994,
          1995,
          1996,
          1997,
          1998,
          1999,
          2000,
          2001,
          2002,
          2003,
          2004,
          2005,
          2006,
          2007,
          2016
         ],
         "xaxis": "x",
         "y": [
          0,
          0,
          5,
          4,
          3,
          0,
          13,
          137,
          18,
          87,
          16,
          14,
          9,
          0,
          3,
          5,
          0,
          0,
          4,
          7,
          1,
          2,
          1,
          7
         ],
         "yaxis": "y"
        },
        {
         "hovertemplate": "pays=Honduras<br>années=%{x}<br>nombre de morts=%{y}<extra></extra>",
         "legendgroup": "Honduras",
         "line": {
          "color": "#FF6692",
          "dash": "solid"
         },
         "marker": {
          "symbol": "circle"
         },
         "mode": "lines",
         "name": "Honduras",
         "showlegend": true,
         "type": "scattergl",
         "x": [
          1973,
          1979,
          1980,
          1981,
          1982,
          1983,
          1984,
          1985,
          1986,
          1987,
          1988,
          1989,
          1990,
          1991,
          1992,
          1994,
          1995,
          1996,
          1997,
          2002,
          2004,
          2009,
          2011,
          2013,
          2014,
          2016,
          2017
         ],
         "xaxis": "x",
         "y": [
          0,
          1,
          6,
          7,
          24,
          75,
          5,
          7,
          10,
          21,
          32,
          9,
          3,
          18,
          5,
          10,
          8,
          11,
          14,
          0,
          28,
          2,
          2,
          5,
          0,
          2,
          2
         ],
         "yaxis": "y"
        },
        {
         "hovertemplate": "pays=Hong Kong<br>années=%{x}<br>nombre de morts=%{y}<extra></extra>",
         "legendgroup": "Hong Kong",
         "line": {
          "color": "#B6E880",
          "dash": "solid"
         },
         "marker": {
          "symbol": "circle"
         },
         "mode": "lines",
         "name": "Hong Kong",
         "showlegend": true,
         "type": "scattergl",
         "x": [
          1980,
          1981,
          1989,
          1990,
          1991,
          1992,
          1994,
          1995,
          1996,
          2000,
          2001,
          2005,
          2008
         ],
         "xaxis": "x",
         "y": [
          0,
          0,
          0,
          0,
          0,
          1,
          3,
          0,
          0,
          0,
          0,
          0,
          0
         ],
         "yaxis": "y"
        },
        {
         "hovertemplate": "pays=Hungary<br>années=%{x}<br>nombre de morts=%{y}<extra></extra>",
         "legendgroup": "Hungary",
         "line": {
          "color": "#FF97FF",
          "dash": "solid"
         },
         "marker": {
          "symbol": "circle"
         },
         "mode": "lines",
         "name": "Hungary",
         "showlegend": true,
         "type": "scattergl",
         "x": [
          1989,
          1991,
          1992,
          1994,
          1996,
          1997,
          1998,
          2001,
          2008,
          2009,
          2014,
          2015,
          2016
         ],
         "xaxis": "x",
         "y": [
          0,
          0,
          0,
          0,
          0,
          3,
          0,
          1,
          0,
          2,
          0,
          0,
          0
         ],
         "yaxis": "y"
        },
        {
         "hovertemplate": "pays=Iceland<br>années=%{x}<br>nombre de morts=%{y}<extra></extra>",
         "legendgroup": "Iceland",
         "line": {
          "color": "#FECB52",
          "dash": "solid"
         },
         "marker": {
          "symbol": "circle"
         },
         "mode": "lines",
         "name": "Iceland",
         "showlegend": true,
         "type": "scattergl",
         "x": [
          1983,
          1986,
          2012,
          2014
         ],
         "xaxis": "x",
         "y": [
          0,
          0,
          0,
          0
         ],
         "yaxis": "y"
        },
        {
         "hovertemplate": "pays=India<br>années=%{x}<br>nombre de morts=%{y}<extra></extra>",
         "legendgroup": "India",
         "line": {
          "color": "#636efa",
          "dash": "solid"
         },
         "marker": {
          "symbol": "circle"
         },
         "mode": "lines",
         "name": "India",
         "showlegend": true,
         "type": "scattergl",
         "x": [
          1972,
          1975,
          1976,
          1977,
          1979,
          1980,
          1981,
          1982,
          1983,
          1984,
          1985,
          1986,
          1987,
          1988,
          1989,
          1990,
          1991,
          1992,
          1994,
          1995,
          1996,
          1997,
          1998,
          1999,
          2000,
          2001,
          2002,
          2003,
          2004,
          2005,
          2006,
          2007,
          2008,
          2009,
          2010,
          2011,
          2012,
          2013,
          2014,
          2015,
          2016,
          2017
         ],
         "xaxis": "x",
         "y": [
          0,
          4,
          0,
          0,
          31,
          17,
          24,
          59,
          59,
          193,
          51,
          340,
          506,
          966,
          874,
          906,
          1113,
          1152,
          389,
          361,
          569,
          853,
          398,
          469,
          665,
          660,
          582,
          472,
          334,
          466,
          716,
          626,
          823,
          774,
          801,
          493,
          264,
          467,
          490,
          387,
          467,
          465
         ],
         "yaxis": "y"
        },
        {
         "hovertemplate": "pays=Indonesia<br>années=%{x}<br>nombre de morts=%{y}<extra></extra>",
         "legendgroup": "Indonesia",
         "line": {
          "color": "#EF553B",
          "dash": "solid"
         },
         "marker": {
          "symbol": "circle"
         },
         "mode": "lines",
         "name": "Indonesia",
         "showlegend": true,
         "type": "scattergl",
         "x": [
          1977,
          1978,
          1981,
          1984,
          1985,
          1986,
          1989,
          1990,
          1991,
          1992,
          1994,
          1995,
          1996,
          1997,
          1998,
          1999,
          2000,
          2001,
          2002,
          2003,
          2004,
          2005,
          2006,
          2007,
          2008,
          2009,
          2010,
          2011,
          2012,
          2013,
          2014,
          2015,
          2016,
          2017
         ],
         "xaxis": "x",
         "y": [
          1,
          0,
          4,
          2,
          7,
          0,
          85,
          12,
          21,
          33,
          0,
          41,
          30,
          102,
          9,
          67,
          146,
          134,
          246,
          26,
          42,
          66,
          6,
          0,
          0,
          15,
          0,
          20,
          15,
          23,
          20,
          22,
          22,
          20
         ],
         "yaxis": "y"
        },
        {
         "hovertemplate": "pays=International<br>années=%{x}<br>nombre de morts=%{y}<extra></extra>",
         "legendgroup": "International",
         "line": {
          "color": "#00cc96",
          "dash": "solid"
         },
         "marker": {
          "symbol": "circle"
         },
         "mode": "lines",
         "name": "International",
         "showlegend": true,
         "type": "scattergl",
         "x": [
          2002
         ],
         "xaxis": "x",
         "y": [
          1
         ],
         "yaxis": "y"
        },
        {
         "hovertemplate": "pays=Iran<br>années=%{x}<br>nombre de morts=%{y}<extra></extra>",
         "legendgroup": "Iran",
         "line": {
          "color": "#ab63fa",
          "dash": "solid"
         },
         "marker": {
          "symbol": "circle"
         },
         "mode": "lines",
         "name": "Iran",
         "showlegend": true,
         "type": "scattergl",
         "x": [
          1970,
          1971,
          1972,
          1973,
          1974,
          1975,
          1976,
          1977,
          1978,
          1979,
          1980,
          1981,
          1982,
          1983,
          1984,
          1985,
          1986,
          1987,
          1988,
          1989,
          1990,
          1991,
          1992,
          1994,
          1995,
          1996,
          1998,
          1999,
          2000,
          2001,
          2003,
          2005,
          2006,
          2007,
          2008,
          2009,
          2010,
          2011,
          2012,
          2013,
          2014,
          2015,
          2016,
          2017
         ],
         "xaxis": "x",
         "y": [
          0,
          1,
          1,
          1,
          1,
          8,
          5,
          2,
          446,
          56,
          55,
          216,
          132,
          0,
          29,
          22,
          39,
          0,
          18,
          14,
          10,
          2,
          9,
          74,
          0,
          3,
          6,
          4,
          5,
          0,
          0,
          13,
          48,
          24,
          26,
          97,
          115,
          18,
          12,
          39,
          13,
          38,
          12,
          39
         ],
         "yaxis": "y"
        },
        {
         "hovertemplate": "pays=Iraq<br>années=%{x}<br>nombre de morts=%{y}<extra></extra>",
         "legendgroup": "Iraq",
         "line": {
          "color": "#FFA15A",
          "dash": "solid"
         },
         "marker": {
          "symbol": "circle"
         },
         "mode": "lines",
         "name": "Iraq",
         "showlegend": true,
         "type": "scattergl",
         "x": [
          1975,
          1976,
          1979,
          1980,
          1981,
          1982,
          1983,
          1984,
          1987,
          1988,
          1989,
          1991,
          1992,
          1994,
          1995,
          1996,
          1997,
          1998,
          1999,
          2000,
          2001,
          2002,
          2003,
          2004,
          2005,
          2006,
          2007,
          2008,
          2009,
          2010,
          2011,
          2012,
          2013,
          2014,
          2015,
          2016,
          2017
         ],
         "xaxis": "x",
         "y": [
          0,
          12,
          1,
          6,
          0,
          96,
          1,
          0,
          0,
          43,
          0,
          1,
          117,
          75,
          156,
          11,
          106,
          19,
          32,
          10,
          9,
          10,
          391,
          2169,
          3383,
          4593,
          6667,
          2864,
          2585,
          2073,
          1867,
          2686,
          7041,
          13965,
          8885,
          12207,
          6476
         ],
         "yaxis": "y"
        },
        {
         "hovertemplate": "pays=Ireland<br>années=%{x}<br>nombre de morts=%{y}<extra></extra>",
         "legendgroup": "Ireland",
         "line": {
          "color": "#19d3f3",
          "dash": "solid"
         },
         "marker": {
          "symbol": "circle"
         },
         "mode": "lines",
         "name": "Ireland",
         "showlegend": true,
         "type": "scattergl",
         "x": [
          1970,
          1971,
          1972,
          1973,
          1974,
          1975,
          1976,
          1977,
          1978,
          1979,
          1980,
          1981,
          1982,
          1983,
          1984,
          1985,
          1986,
          1987,
          1989,
          1990,
          1991,
          1992,
          1994,
          1995,
          1996,
          1997,
          1998,
          1999,
          2001,
          2003,
          2006,
          2007,
          2008,
          2010,
          2011,
          2012,
          2013,
          2014,
          2015,
          2016,
          2017
         ],
         "xaxis": "x",
         "y": [
          1,
          1,
          6,
          4,
          34,
          7,
          5,
          2,
          1,
          9,
          12,
          1,
          2,
          5,
          1,
          2,
          0,
          6,
          3,
          0,
          3,
          0,
          4,
          1,
          1,
          0,
          1,
          0,
          0,
          0,
          1,
          0,
          0,
          0,
          1,
          0,
          0,
          0,
          0,
          2,
          0
         ],
         "yaxis": "y"
        },
        {
         "hovertemplate": "pays=Israel<br>années=%{x}<br>nombre de morts=%{y}<extra></extra>",
         "legendgroup": "Israel",
         "line": {
          "color": "#FF6692",
          "dash": "solid"
         },
         "marker": {
          "symbol": "circle"
         },
         "mode": "lines",
         "name": "Israel",
         "showlegend": true,
         "type": "scattergl",
         "x": [
          1971,
          1972,
          1973,
          1974,
          1975,
          1976,
          1977,
          1978,
          1979,
          1980,
          1981,
          1982,
          1983,
          1984,
          1985,
          1986,
          1987,
          1988,
          1989,
          1990,
          1991,
          1992,
          1994,
          1995,
          1996,
          1997,
          1998,
          1999,
          2000,
          2001,
          2002,
          2003,
          2004,
          2005,
          2006,
          2007,
          2008,
          2009,
          2010,
          2011,
          2012,
          2013,
          2014,
          2015,
          2016,
          2017
         ],
         "xaxis": "x",
         "y": [
          1,
          26,
          2,
          78,
          24,
          1,
          5,
          52,
          64,
          14,
          3,
          3,
          16,
          7,
          12,
          8,
          11,
          13,
          43,
          57,
          31,
          38,
          60,
          18,
          73,
          31,
          19,
          6,
          11,
          141,
          337,
          156,
          59,
          45,
          57,
          17,
          34,
          1,
          4,
          21,
          14,
          2,
          49,
          20,
          16,
          3
         ],
         "yaxis": "y"
        },
        {
         "hovertemplate": "pays=Italy<br>années=%{x}<br>nombre de morts=%{y}<extra></extra>",
         "legendgroup": "Italy",
         "line": {
          "color": "#B6E880",
          "dash": "solid"
         },
         "marker": {
          "symbol": "circle"
         },
         "mode": "lines",
         "name": "Italy",
         "showlegend": true,
         "type": "scattergl",
         "x": [
          1970,
          1971,
          1972,
          1973,
          1974,
          1975,
          1976,
          1977,
          1978,
          1979,
          1980,
          1981,
          1982,
          1983,
          1984,
          1985,
          1986,
          1987,
          1988,
          1989,
          1990,
          1991,
          1992,
          1994,
          1995,
          1996,
          1997,
          1998,
          1999,
          2000,
          2001,
          2002,
          2003,
          2004,
          2005,
          2006,
          2008,
          2009,
          2010,
          2011,
          2012,
          2013,
          2014,
          2015,
          2016,
          2017
         ],
         "xaxis": "x",
         "y": [
          0,
          0,
          1,
          62,
          23,
          0,
          9,
          25,
          26,
          24,
          132,
          24,
          12,
          2,
          23,
          19,
          1,
          3,
          6,
          0,
          0,
          0,
          17,
          2,
          0,
          0,
          0,
          0,
          1,
          0,
          0,
          1,
          0,
          1,
          1,
          0,
          0,
          0,
          0,
          2,
          0,
          0,
          0,
          0,
          1,
          0
         ],
         "yaxis": "y"
        },
        {
         "hovertemplate": "pays=Ivory Coast<br>années=%{x}<br>nombre de morts=%{y}<extra></extra>",
         "legendgroup": "Ivory Coast",
         "line": {
          "color": "#FF97FF",
          "dash": "solid"
         },
         "marker": {
          "symbol": "circle"
         },
         "mode": "lines",
         "name": "Ivory Coast",
         "showlegend": true,
         "type": "scattergl",
         "x": [
          1992,
          1994,
          1995,
          1996,
          1997,
          2000,
          2001,
          2002,
          2004,
          2005,
          2006,
          2007,
          2010,
          2011,
          2012,
          2013,
          2014,
          2015,
          2016,
          2017
         ],
         "xaxis": "x",
         "y": [
          1,
          5,
          40,
          5,
          0,
          4,
          12,
          3,
          12,
          41,
          20,
          0,
          10,
          23,
          45,
          4,
          4,
          14,
          22,
          3
         ],
         "yaxis": "y"
        },
        {
         "hovertemplate": "pays=Jamaica<br>années=%{x}<br>nombre de morts=%{y}<extra></extra>",
         "legendgroup": "Jamaica",
         "line": {
          "color": "#FECB52",
          "dash": "solid"
         },
         "marker": {
          "symbol": "circle"
         },
         "mode": "lines",
         "name": "Jamaica",
         "showlegend": true,
         "type": "scattergl",
         "x": [
          1974,
          1976,
          1979,
          1980,
          1981,
          1986,
          1991,
          1992,
          1994,
          1995,
          1996,
          1997,
          2007,
          2014,
          2017
         ],
         "xaxis": "x",
         "y": [
          0,
          0,
          4,
          11,
          5,
          3,
          0,
          5,
          2,
          1,
          1,
          10,
          0,
          0,
          0
         ],
         "yaxis": "y"
        },
        {
         "hovertemplate": "pays=Japan<br>années=%{x}<br>nombre de morts=%{y}<extra></extra>",
         "legendgroup": "Japan",
         "line": {
          "color": "#636efa",
          "dash": "solid"
         },
         "marker": {
          "symbol": "circle"
         },
         "mode": "lines",
         "name": "Japan",
         "showlegend": true,
         "type": "scattergl",
         "x": [
          1970,
          1973,
          1974,
          1975,
          1976,
          1978,
          1979,
          1981,
          1982,
          1983,
          1984,
          1985,
          1986,
          1987,
          1988,
          1989,
          1990,
          1991,
          1992,
          1994,
          1995,
          1996,
          1997,
          1998,
          1999,
          2000,
          2001,
          2002,
          2003,
          2008,
          2009,
          2013,
          2014,
          2015,
          2016
         ],
         "xaxis": "x",
         "y": [
          0,
          0,
          0,
          0,
          2,
          4,
          2,
          0,
          0,
          2,
          0,
          2,
          3,
          1,
          0,
          2,
          2,
          1,
          0,
          8,
          15,
          0,
          0,
          0,
          0,
          0,
          0,
          0,
          0,
          0,
          0,
          0,
          0,
          0,
          19
         ],
         "yaxis": "y"
        },
        {
         "hovertemplate": "pays=Jordan<br>années=%{x}<br>nombre de morts=%{y}<extra></extra>",
         "legendgroup": "Jordan",
         "line": {
          "color": "#EF553B",
          "dash": "solid"
         },
         "marker": {
          "symbol": "circle"
         },
         "mode": "lines",
         "name": "Jordan",
         "showlegend": true,
         "type": "scattergl",
         "x": [
          1970,
          1971,
          1972,
          1973,
          1976,
          1980,
          1981,
          1982,
          1983,
          1984,
          1988,
          1990,
          1991,
          1992,
          1994,
          1995,
          1996,
          1997,
          1998,
          1999,
          2000,
          2001,
          2002,
          2005,
          2006,
          2010,
          2012,
          2013,
          2014,
          2015,
          2016,
          2017
         ],
         "xaxis": "x",
         "y": [
          1,
          0,
          2,
          0,
          9,
          1,
          0,
          0,
          0,
          1,
          0,
          0,
          1,
          1,
          0,
          1,
          0,
          0,
          0,
          0,
          0,
          1,
          3,
          62,
          1,
          1,
          1,
          0,
          1,
          7,
          35,
          4
         ],
         "yaxis": "y"
        },
        {
         "hovertemplate": "pays=Kazakhstan<br>années=%{x}<br>nombre de morts=%{y}<extra></extra>",
         "legendgroup": "Kazakhstan",
         "line": {
          "color": "#00cc96",
          "dash": "solid"
         },
         "marker": {
          "symbol": "circle"
         },
         "mode": "lines",
         "name": "Kazakhstan",
         "showlegend": true,
         "type": "scattergl",
         "x": [
          1992,
          1994,
          1997,
          2000,
          2001,
          2008,
          2011,
          2012,
          2013,
          2016
         ],
         "xaxis": "x",
         "y": [
          7,
          0,
          2,
          2,
          0,
          2,
          12,
          2,
          0,
          10
         ],
         "yaxis": "y"
        },
        {
         "hovertemplate": "pays=Kenya<br>années=%{x}<br>nombre de morts=%{y}<extra></extra>",
         "legendgroup": "Kenya",
         "line": {
          "color": "#ab63fa",
          "dash": "solid"
         },
         "marker": {
          "symbol": "circle"
         },
         "mode": "lines",
         "name": "Kenya",
         "showlegend": true,
         "type": "scattergl",
         "x": [
          1975,
          1976,
          1978,
          1980,
          1989,
          1991,
          1992,
          1994,
          1995,
          1996,
          1997,
          1998,
          2000,
          2001,
          2002,
          2003,
          2005,
          2006,
          2007,
          2008,
          2009,
          2010,
          2011,
          2012,
          2013,
          2014,
          2015,
          2016,
          2017
         ],
         "xaxis": "x",
         "y": [
          27,
          0,
          4,
          15,
          4,
          0,
          155,
          40,
          2,
          2,
          36,
          226,
          26,
          13,
          16,
          3,
          56,
          18,
          33,
          103,
          0,
          19,
          42,
          107,
          207,
          315,
          281,
          72,
          126
         ],
         "yaxis": "y"
        },
        {
         "hovertemplate": "pays=Kosovo<br>années=%{x}<br>nombre de morts=%{y}<extra></extra>",
         "legendgroup": "Kosovo",
         "line": {
          "color": "#FFA15A",
          "dash": "solid"
         },
         "marker": {
          "symbol": "circle"
         },
         "mode": "lines",
         "name": "Kosovo",
         "showlegend": true,
         "type": "scattergl",
         "x": [
          1999,
          2000,
          2001,
          2002,
          2003,
          2004,
          2005,
          2006,
          2007,
          2008,
          2009,
          2010,
          2012,
          2013,
          2014,
          2015,
          2016,
          2017
         ],
         "xaxis": "x",
         "y": [
          23,
          23,
          20,
          1,
          7,
          0,
          1,
          0,
          1,
          0,
          0,
          1,
          3,
          1,
          2,
          0,
          0,
          0
         ],
         "yaxis": "y"
        },
        {
         "hovertemplate": "pays=Kuwait<br>années=%{x}<br>nombre de morts=%{y}<extra></extra>",
         "legendgroup": "Kuwait",
         "line": {
          "color": "#19d3f3",
          "dash": "solid"
         },
         "marker": {
          "symbol": "circle"
         },
         "mode": "lines",
         "name": "Kuwait",
         "showlegend": true,
         "type": "scattergl",
         "x": [
          1974,
          1975,
          1976,
          1978,
          1980,
          1981,
          1982,
          1983,
          1984,
          1985,
          1986,
          1987,
          1988,
          1991,
          1992,
          1994,
          1997,
          2001,
          2002,
          2003,
          2005,
          2011,
          2015,
          2016
         ],
         "xaxis": "x",
         "y": [
          0,
          0,
          0,
          1,
          0,
          2,
          0,
          1,
          4,
          11,
          0,
          1,
          2,
          1,
          2,
          0,
          0,
          2,
          4,
          1,
          2,
          0,
          28,
          1
         ],
         "yaxis": "y"
        },
        {
         "hovertemplate": "pays=Kyrgyzstan<br>années=%{x}<br>nombre de morts=%{y}<extra></extra>",
         "legendgroup": "Kyrgyzstan",
         "line": {
          "color": "#FF6692",
          "dash": "solid"
         },
         "marker": {
          "symbol": "circle"
         },
         "mode": "lines",
         "name": "Kyrgyzstan",
         "showlegend": true,
         "type": "scattergl",
         "x": [
          1996,
          1999,
          2000,
          2001,
          2002,
          2003,
          2005,
          2006,
          2007,
          2010,
          2011,
          2014,
          2015,
          2016,
          2017
         ],
         "xaxis": "x",
         "y": [
          0,
          1,
          2,
          0,
          2,
          1,
          0,
          1,
          0,
          0,
          0,
          1,
          1,
          1,
          0
         ],
         "yaxis": "y"
        },
        {
         "hovertemplate": "pays=Laos<br>années=%{x}<br>nombre de morts=%{y}<extra></extra>",
         "legendgroup": "Laos",
         "line": {
          "color": "#B6E880",
          "dash": "solid"
         },
         "marker": {
          "symbol": "circle"
         },
         "mode": "lines",
         "name": "Laos",
         "showlegend": true,
         "type": "scattergl",
         "x": [
          1989,
          1990,
          1992,
          1994,
          1996,
          2000,
          2001,
          2003,
          2012,
          2015,
          2016,
          2017
         ],
         "xaxis": "x",
         "y": [
          2,
          0,
          3,
          2,
          5,
          1,
          0,
          10,
          0,
          0,
          3,
          1
         ],
         "yaxis": "y"
        },
        {
         "hovertemplate": "pays=Latvia<br>années=%{x}<br>nombre de morts=%{y}<extra></extra>",
         "legendgroup": "Latvia",
         "line": {
          "color": "#FF97FF",
          "dash": "solid"
         },
         "marker": {
          "symbol": "circle"
         },
         "mode": "lines",
         "name": "Latvia",
         "showlegend": true,
         "type": "scattergl",
         "x": [
          1992,
          1994,
          1995,
          1997,
          1998,
          1999,
          2000,
          2007,
          2017
         ],
         "xaxis": "x",
         "y": [
          0,
          1,
          0,
          0,
          0,
          0,
          1,
          0,
          0
         ],
         "yaxis": "y"
        },
        {
         "hovertemplate": "pays=Lebanon<br>années=%{x}<br>nombre de morts=%{y}<extra></extra>",
         "legendgroup": "Lebanon",
         "line": {
          "color": "#FECB52",
          "dash": "solid"
         },
         "marker": {
          "symbol": "circle"
         },
         "mode": "lines",
         "name": "Lebanon",
         "showlegend": true,
         "type": "scattergl",
         "x": [
          1970,
          1971,
          1972,
          1973,
          1974,
          1975,
          1976,
          1977,
          1978,
          1979,
          1980,
          1981,
          1982,
          1983,
          1984,
          1985,
          1986,
          1987,
          1988,
          1989,
          1990,
          1991,
          1992,
          1994,
          1995,
          1996,
          1997,
          1998,
          1999,
          2000,
          2001,
          2002,
          2003,
          2004,
          2005,
          2006,
          2007,
          2008,
          2009,
          2010,
          2011,
          2012,
          2013,
          2014,
          2015,
          2016,
          2017
         ],
         "xaxis": "x",
         "y": [
          0,
          0,
          0,
          4,
          0,
          28,
          4,
          3,
          107,
          33,
          90,
          264,
          231,
          609,
          60,
          644,
          246,
          178,
          176,
          113,
          113,
          96,
          79,
          57,
          35,
          57,
          36,
          17,
          23,
          12,
          0,
          2,
          3,
          1,
          22,
          17,
          40,
          142,
          17,
          2,
          1,
          9,
          190,
          134,
          111,
          25,
          17
         ],
         "yaxis": "y"
        },
        {
         "hovertemplate": "pays=Lesotho<br>années=%{x}<br>nombre de morts=%{y}<extra></extra>",
         "legendgroup": "Lesotho",
         "line": {
          "color": "#636efa",
          "dash": "solid"
         },
         "marker": {
          "symbol": "circle"
         },
         "mode": "lines",
         "name": "Lesotho",
         "showlegend": true,
         "type": "scattergl",
         "x": [
          1979,
          1981,
          1982,
          1983,
          1984,
          1988,
          1994,
          2006,
          2009,
          2015
         ],
         "xaxis": "x",
         "y": [
          0,
          10,
          0,
          30,
          1,
          4,
          0,
          0,
          0,
          1
         ],
         "yaxis": "y"
        },
        {
         "hovertemplate": "pays=Liberia<br>années=%{x}<br>nombre de morts=%{y}<extra></extra>",
         "legendgroup": "Liberia",
         "line": {
          "color": "#EF553B",
          "dash": "solid"
         },
         "marker": {
          "symbol": "circle"
         },
         "mode": "lines",
         "name": "Liberia",
         "showlegend": true,
         "type": "scattergl",
         "x": [
          1990,
          1991,
          1992,
          1994,
          1996,
          1999,
          2000,
          2001,
          2002,
          2003,
          2008,
          2012,
          2014,
          2017
         ],
         "xaxis": "x",
         "y": [
          2,
          0,
          37,
          110,
          10,
          0,
          0,
          1,
          3,
          2,
          12,
          0,
          0,
          0
         ],
         "yaxis": "y"
        },
        {
         "hovertemplate": "pays=Libya<br>années=%{x}<br>nombre de morts=%{y}<extra></extra>",
         "legendgroup": "Libya",
         "line": {
          "color": "#00cc96",
          "dash": "solid"
         },
         "marker": {
          "symbol": "circle"
         },
         "mode": "lines",
         "name": "Libya",
         "showlegend": true,
         "type": "scattergl",
         "x": [
          1979,
          1980,
          1984,
          1992,
          1995,
          1996,
          2007,
          2008,
          2011,
          2012,
          2013,
          2014,
          2015,
          2016,
          2017
         ],
         "xaxis": "x",
         "y": [
          0,
          0,
          15,
          0,
          0,
          12,
          0,
          0,
          0,
          33,
          232,
          694,
          689,
          634,
          289
         ],
         "yaxis": "y"
        },
        {
         "hovertemplate": "pays=Lithuania<br>années=%{x}<br>nombre de morts=%{y}<extra></extra>",
         "legendgroup": "Lithuania",
         "line": {
          "color": "#ab63fa",
          "dash": "solid"
         },
         "marker": {
          "symbol": "circle"
         },
         "mode": "lines",
         "name": "Lithuania",
         "showlegend": true,
         "type": "scattergl",
         "x": [
          1991,
          1992,
          1995,
          1996,
          1997
         ],
         "xaxis": "x",
         "y": [
          0,
          0,
          0,
          0,
          1
         ],
         "yaxis": "y"
        },
        {
         "hovertemplate": "pays=Luxembourg<br>années=%{x}<br>nombre de morts=%{y}<extra></extra>",
         "legendgroup": "Luxembourg",
         "line": {
          "color": "#FFA15A",
          "dash": "solid"
         },
         "marker": {
          "symbol": "circle"
         },
         "mode": "lines",
         "name": "Luxembourg",
         "showlegend": true,
         "type": "scattergl",
         "x": [
          1983,
          1985,
          1986,
          1994
         ],
         "xaxis": "x",
         "y": [
          0,
          0,
          0,
          0
         ],
         "yaxis": "y"
        },
        {
         "hovertemplate": "pays=Macau<br>années=%{x}<br>nombre de morts=%{y}<extra></extra>",
         "legendgroup": "Macau",
         "line": {
          "color": "#19d3f3",
          "dash": "solid"
         },
         "marker": {
          "symbol": "circle"
         },
         "mode": "lines",
         "name": "Macau",
         "showlegend": true,
         "type": "scattergl",
         "x": [
          1995,
          1996,
          1997,
          1998
         ],
         "xaxis": "x",
         "y": [
          0,
          0,
          1,
          0
         ],
         "yaxis": "y"
        },
        {
         "hovertemplate": "pays=Macedonia<br>années=%{x}<br>nombre de morts=%{y}<extra></extra>",
         "legendgroup": "Macedonia",
         "line": {
          "color": "#FF6692",
          "dash": "solid"
         },
         "marker": {
          "symbol": "circle"
         },
         "mode": "lines",
         "name": "Macedonia",
         "showlegend": true,
         "type": "scattergl",
         "x": [
          1994,
          1995,
          1997,
          1998,
          1999,
          2000,
          2001,
          2002,
          2003,
          2006,
          2007,
          2008,
          2009,
          2012,
          2014,
          2015,
          2017
         ],
         "xaxis": "x",
         "y": [
          0,
          1,
          0,
          0,
          0,
          3,
          35,
          3,
          0,
          0,
          0,
          2,
          0,
          5,
          0,
          0,
          0
         ],
         "yaxis": "y"
        },
        {
         "hovertemplate": "pays=Madagascar<br>années=%{x}<br>nombre de morts=%{y}<extra></extra>",
         "legendgroup": "Madagascar",
         "line": {
          "color": "#B6E880",
          "dash": "solid"
         },
         "marker": {
          "symbol": "circle"
         },
         "mode": "lines",
         "name": "Madagascar",
         "showlegend": true,
         "type": "scattergl",
         "x": [
          1991,
          1992,
          1995,
          1996,
          1997,
          2002,
          2006,
          2009,
          2011,
          2012,
          2013,
          2014,
          2016
         ],
         "xaxis": "x",
         "y": [
          4,
          16,
          4,
          1,
          0,
          0,
          0,
          2,
          0,
          0,
          0,
          1,
          3
         ],
         "yaxis": "y"
        },
        {
         "hovertemplate": "pays=Malawi<br>années=%{x}<br>nombre de morts=%{y}<extra></extra>",
         "legendgroup": "Malawi",
         "line": {
          "color": "#FF97FF",
          "dash": "solid"
         },
         "marker": {
          "symbol": "circle"
         },
         "mode": "lines",
         "name": "Malawi",
         "showlegend": true,
         "type": "scattergl",
         "x": [
          1992,
          2002,
          2017
         ],
         "xaxis": "x",
         "y": [
          32,
          1,
          0
         ],
         "yaxis": "y"
        },
        {
         "hovertemplate": "pays=Malaysia<br>années=%{x}<br>nombre de morts=%{y}<extra></extra>",
         "legendgroup": "Malaysia",
         "line": {
          "color": "#FECB52",
          "dash": "solid"
         },
         "marker": {
          "symbol": "circle"
         },
         "mode": "lines",
         "name": "Malaysia",
         "showlegend": true,
         "type": "scattergl",
         "x": [
          1973,
          1975,
          1977,
          1979,
          1983,
          1986,
          1988,
          1989,
          1990,
          1991,
          1992,
          2000,
          2001,
          2008,
          2009,
          2012,
          2013,
          2014,
          2015,
          2016,
          2017
         ],
         "xaxis": "x",
         "y": [
          0,
          0,
          100,
          5,
          0,
          20,
          9,
          0,
          0,
          0,
          0,
          2,
          0,
          0,
          0,
          2,
          2,
          1,
          1,
          6,
          4
         ],
         "yaxis": "y"
        },
        {
         "hovertemplate": "pays=Maldives<br>années=%{x}<br>nombre de morts=%{y}<extra></extra>",
         "legendgroup": "Maldives",
         "line": {
          "color": "#636efa",
          "dash": "solid"
         },
         "marker": {
          "symbol": "circle"
         },
         "mode": "lines",
         "name": "Maldives",
         "showlegend": true,
         "type": "scattergl",
         "x": [
          1988,
          2006,
          2007,
          2008,
          2012,
          2013,
          2014,
          2015,
          2016,
          2017
         ],
         "xaxis": "x",
         "y": [
          19,
          0,
          0,
          0,
          0,
          0,
          0,
          0,
          0,
          1
         ],
         "yaxis": "y"
        },
        {
         "hovertemplate": "pays=Mali<br>années=%{x}<br>nombre de morts=%{y}<extra></extra>",
         "legendgroup": "Mali",
         "line": {
          "color": "#EF553B",
          "dash": "solid"
         },
         "marker": {
          "symbol": "circle"
         },
         "mode": "lines",
         "name": "Mali",
         "showlegend": true,
         "type": "scattergl",
         "x": [
          1990,
          1991,
          1992,
          1994,
          1995,
          1997,
          2005,
          2007,
          2008,
          2009,
          2010,
          2011,
          2012,
          2013,
          2014,
          2015,
          2016,
          2017
         ],
         "xaxis": "x",
         "y": [
          14,
          43,
          5,
          131,
          2,
          0,
          0,
          20,
          55,
          30,
          1,
          5,
          53,
          137,
          125,
          269,
          181,
          361
         ],
         "yaxis": "y"
        },
        {
         "hovertemplate": "pays=Malta<br>années=%{x}<br>nombre de morts=%{y}<extra></extra>",
         "legendgroup": "Malta",
         "line": {
          "color": "#00cc96",
          "dash": "solid"
         },
         "marker": {
          "symbol": "circle"
         },
         "mode": "lines",
         "name": "Malta",
         "showlegend": true,
         "type": "scattergl",
         "x": [
          1984,
          1985,
          1986,
          1987,
          1992,
          1995,
          1997,
          2014,
          2015,
          2017
         ],
         "xaxis": "x",
         "y": [
          0,
          0,
          1,
          0,
          1,
          1,
          0,
          0,
          0,
          1
         ],
         "yaxis": "y"
        },
        {
         "hovertemplate": "pays=Martinique<br>années=%{x}<br>nombre de morts=%{y}<extra></extra>",
         "legendgroup": "Martinique",
         "line": {
          "color": "#ab63fa",
          "dash": "solid"
         },
         "marker": {
          "symbol": "circle"
         },
         "mode": "lines",
         "name": "Martinique",
         "showlegend": true,
         "type": "scattergl",
         "x": [
          1981,
          1983,
          1984,
          1987,
          1988,
          1991,
          1992
         ],
         "xaxis": "x",
         "y": [
          0,
          0,
          0,
          0,
          0,
          0,
          0
         ],
         "yaxis": "y"
        },
        {
         "hovertemplate": "pays=Mauritania<br>années=%{x}<br>nombre de morts=%{y}<extra></extra>",
         "legendgroup": "Mauritania",
         "line": {
          "color": "#FFA15A",
          "dash": "solid"
         },
         "marker": {
          "symbol": "circle"
         },
         "mode": "lines",
         "name": "Mauritania",
         "showlegend": true,
         "type": "scattergl",
         "x": [
          1977,
          1996,
          2004,
          2005,
          2008,
          2009,
          2010,
          2011
         ],
         "xaxis": "x",
         "y": [
          4,
          0,
          0,
          23,
          12,
          2,
          1,
          1
         ],
         "yaxis": "y"
        },
        {
         "hovertemplate": "pays=Mauritius<br>années=%{x}<br>nombre de morts=%{y}<extra></extra>",
         "legendgroup": "Mauritius",
         "line": {
          "color": "#19d3f3",
          "dash": "solid"
         },
         "marker": {
          "symbol": "circle"
         },
         "mode": "lines",
         "name": "Mauritius",
         "showlegend": true,
         "type": "scattergl",
         "x": [
          1988,
          1989
         ],
         "xaxis": "x",
         "y": [
          0,
          0
         ],
         "yaxis": "y"
        },
        {
         "hovertemplate": "pays=Mexico<br>années=%{x}<br>nombre de morts=%{y}<extra></extra>",
         "legendgroup": "Mexico",
         "line": {
          "color": "#FF6692",
          "dash": "solid"
         },
         "marker": {
          "symbol": "circle"
         },
         "mode": "lines",
         "name": "Mexico",
         "showlegend": true,
         "type": "scattergl",
         "x": [
          1970,
          1972,
          1973,
          1974,
          1975,
          1976,
          1977,
          1978,
          1979,
          1980,
          1981,
          1982,
          1983,
          1984,
          1985,
          1986,
          1987,
          1988,
          1989,
          1990,
          1991,
          1992,
          1994,
          1995,
          1996,
          1997,
          1998,
          1999,
          2000,
          2001,
          2003,
          2004,
          2005,
          2006,
          2007,
          2008,
          2009,
          2010,
          2011,
          2012,
          2013,
          2014,
          2015,
          2016,
          2017
         ],
         "xaxis": "x",
         "y": [
          0,
          0,
          1,
          2,
          32,
          26,
          11,
          5,
          5,
          3,
          0,
          1,
          0,
          13,
          0,
          0,
          0,
          2,
          0,
          3,
          13,
          6,
          88,
          61,
          96,
          229,
          3,
          0,
          5,
          13,
          2,
          0,
          2,
          7,
          25,
          21,
          2,
          0,
          0,
          17,
          47,
          1,
          9,
          4,
          23
         ],
         "yaxis": "y"
        },
        {
         "hovertemplate": "pays=Moldova<br>années=%{x}<br>nombre de morts=%{y}<extra></extra>",
         "legendgroup": "Moldova",
         "line": {
          "color": "#B6E880",
          "dash": "solid"
         },
         "marker": {
          "symbol": "circle"
         },
         "mode": "lines",
         "name": "Moldova",
         "showlegend": true,
         "type": "scattergl",
         "x": [
          1991,
          1992,
          1994,
          1996,
          1997,
          2000,
          2006,
          2009,
          2012,
          2016
         ],
         "xaxis": "x",
         "y": [
          0,
          10,
          1,
          0,
          0,
          0,
          2,
          0,
          0,
          0
         ],
         "yaxis": "y"
        },
        {
         "hovertemplate": "pays=Montenegro<br>années=%{x}<br>nombre de morts=%{y}<extra></extra>",
         "legendgroup": "Montenegro",
         "line": {
          "color": "#FF97FF",
          "dash": "solid"
         },
         "marker": {
          "symbol": "circle"
         },
         "mode": "lines",
         "name": "Montenegro",
         "showlegend": true,
         "type": "scattergl",
         "x": [
          2001,
          2007,
          2013,
          2015
         ],
         "xaxis": "x",
         "y": [
          1,
          0,
          0,
          0
         ],
         "yaxis": "y"
        },
        {
         "hovertemplate": "pays=Morocco<br>années=%{x}<br>nombre de morts=%{y}<extra></extra>",
         "legendgroup": "Morocco",
         "line": {
          "color": "#FECB52",
          "dash": "solid"
         },
         "marker": {
          "symbol": "circle"
         },
         "mode": "lines",
         "name": "Morocco",
         "showlegend": true,
         "type": "scattergl",
         "x": [
          1973,
          1976,
          1978,
          1979,
          1985,
          1986,
          1987,
          1991,
          1992,
          1994,
          1995,
          1996,
          2003,
          2007,
          2011,
          2015
         ],
         "xaxis": "x",
         "y": [
          0,
          0,
          10,
          0,
          0,
          2,
          200,
          3,
          2,
          0,
          0,
          0,
          45,
          13,
          17,
          0
         ],
         "yaxis": "y"
        },
        {
         "hovertemplate": "pays=Mozambique<br>années=%{x}<br>nombre de morts=%{y}<extra></extra>",
         "legendgroup": "Mozambique",
         "line": {
          "color": "#636efa",
          "dash": "solid"
         },
         "marker": {
          "symbol": "circle"
         },
         "mode": "lines",
         "name": "Mozambique",
         "showlegend": true,
         "type": "scattergl",
         "x": [
          1978,
          1979,
          1981,
          1982,
          1983,
          1984,
          1985,
          1986,
          1987,
          1988,
          1989,
          1990,
          1991,
          1992,
          1994,
          1995,
          1999,
          2000,
          2007,
          2012,
          2013,
          2014,
          2015,
          2016,
          2017
         ],
         "xaxis": "x",
         "y": [
          2,
          34,
          6,
          18,
          5,
          50,
          8,
          470,
          468,
          145,
          710,
          185,
          271,
          155,
          0,
          15,
          0,
          1,
          6,
          1,
          37,
          22,
          12,
          62,
          22
         ],
         "yaxis": "y"
        },
        {
         "hovertemplate": "pays=Myanmar<br>années=%{x}<br>nombre de morts=%{y}<extra></extra>",
         "legendgroup": "Myanmar",
         "line": {
          "color": "#EF553B",
          "dash": "solid"
         },
         "marker": {
          "symbol": "circle"
         },
         "mode": "lines",
         "name": "Myanmar",
         "showlegend": true,
         "type": "scattergl",
         "x": [
          1973,
          1976,
          1979,
          1980,
          1982,
          1983,
          1987,
          1988,
          1989,
          1990,
          1991,
          1992,
          1994,
          1995,
          1996,
          1997,
          1999,
          2001,
          2002,
          2003,
          2004,
          2005,
          2006,
          2007,
          2008,
          2009,
          2010,
          2011,
          2012,
          2013,
          2014,
          2015,
          2016,
          2017
         ],
         "xaxis": "x",
         "y": [
          0,
          0,
          86,
          6,
          3,
          21,
          0,
          93,
          80,
          71,
          90,
          139,
          18,
          30,
          86,
          16,
          10,
          8,
          5,
          18,
          1,
          21,
          0,
          10,
          14,
          46,
          13,
          0,
          16,
          11,
          17,
          60,
          73,
          218
         ],
         "yaxis": "y"
        },
        {
         "hovertemplate": "pays=Namibia<br>années=%{x}<br>nombre de morts=%{y}<extra></extra>",
         "legendgroup": "Namibia",
         "line": {
          "color": "#00cc96",
          "dash": "solid"
         },
         "marker": {
          "symbol": "circle"
         },
         "mode": "lines",
         "name": "Namibia",
         "showlegend": true,
         "type": "scattergl",
         "x": [
          1975,
          1976,
          1978,
          1979,
          1980,
          1982,
          1983,
          1984,
          1985,
          1986,
          1987,
          1988,
          1989,
          1990,
          1991,
          1994,
          1999,
          2000,
          2001
         ],
         "xaxis": "x",
         "y": [
          1,
          3,
          2,
          32,
          1,
          2,
          4,
          24,
          74,
          5,
          2,
          25,
          1,
          0,
          3,
          0,
          13,
          24,
          1
         ],
         "yaxis": "y"
        },
        {
         "hovertemplate": "pays=Nepal<br>années=%{x}<br>nombre de morts=%{y}<extra></extra>",
         "legendgroup": "Nepal",
         "line": {
          "color": "#ab63fa",
          "dash": "solid"
         },
         "marker": {
          "symbol": "circle"
         },
         "mode": "lines",
         "name": "Nepal",
         "showlegend": true,
         "type": "scattergl",
         "x": [
          1985,
          1991,
          1992,
          1994,
          1996,
          1997,
          1999,
          2000,
          2001,
          2002,
          2003,
          2004,
          2005,
          2006,
          2007,
          2008,
          2009,
          2010,
          2011,
          2012,
          2013,
          2014,
          2015,
          2016,
          2017
         ],
         "xaxis": "x",
         "y": [
          6,
          0,
          9,
          4,
          6,
          15,
          18,
          91,
          172,
          486,
          22,
          630,
          211,
          133,
          44,
          50,
          20,
          10,
          16,
          9,
          3,
          0,
          0,
          5,
          4
         ],
         "yaxis": "y"
        },
        {
         "hovertemplate": "pays=Netherlands<br>années=%{x}<br>nombre de morts=%{y}<extra></extra>",
         "legendgroup": "Netherlands",
         "line": {
          "color": "#FFA15A",
          "dash": "solid"
         },
         "marker": {
          "symbol": "circle"
         },
         "mode": "lines",
         "name": "Netherlands",
         "showlegend": true,
         "type": "scattergl",
         "x": [
          1970,
          1971,
          1972,
          1973,
          1974,
          1975,
          1976,
          1977,
          1978,
          1979,
          1980,
          1981,
          1982,
          1983,
          1984,
          1985,
          1986,
          1987,
          1988,
          1989,
          1990,
          1991,
          1992,
          1994,
          1995,
          1996,
          1997,
          1999,
          2000,
          2001,
          2002,
          2003,
          2004,
          2008,
          2009,
          2010,
          2011,
          2014,
          2015,
          2016,
          2017
         ],
         "xaxis": "x",
         "y": [
          1,
          0,
          0,
          1,
          0,
          3,
          0,
          9,
          1,
          3,
          0,
          0,
          0,
          0,
          0,
          0,
          0,
          0,
          4,
          0,
          2,
          0,
          0,
          0,
          1,
          0,
          0,
          0,
          0,
          0,
          1,
          0,
          1,
          0,
          7,
          0,
          0,
          0,
          0,
          1,
          0
         ],
         "yaxis": "y"
        },
        {
         "hovertemplate": "pays=New Caledonia<br>années=%{x}<br>nombre de morts=%{y}<extra></extra>",
         "legendgroup": "New Caledonia",
         "line": {
          "color": "#19d3f3",
          "dash": "solid"
         },
         "marker": {
          "symbol": "circle"
         },
         "mode": "lines",
         "name": "New Caledonia",
         "showlegend": true,
         "type": "scattergl",
         "x": [
          1984,
          1985,
          1986,
          1988,
          1989,
          1992
         ],
         "xaxis": "x",
         "y": [
          11,
          0,
          0,
          22,
          2,
          0
         ],
         "yaxis": "y"
        },
        {
         "hovertemplate": "pays=New Hebrides<br>années=%{x}<br>nombre de morts=%{y}<extra></extra>",
         "legendgroup": "New Hebrides",
         "line": {
          "color": "#FF6692",
          "dash": "solid"
         },
         "marker": {
          "symbol": "circle"
         },
         "mode": "lines",
         "name": "New Hebrides",
         "showlegend": true,
         "type": "scattergl",
         "x": [
          1980
         ],
         "xaxis": "x",
         "y": [
          0
         ],
         "yaxis": "y"
        },
        {
         "hovertemplate": "pays=New Zealand<br>années=%{x}<br>nombre de morts=%{y}<extra></extra>",
         "legendgroup": "New Zealand",
         "line": {
          "color": "#B6E880",
          "dash": "solid"
         },
         "marker": {
          "symbol": "circle"
         },
         "mode": "lines",
         "name": "New Zealand",
         "showlegend": true,
         "type": "scattergl",
         "x": [
          1973,
          1981,
          1984,
          1991,
          1994,
          1996,
          1997,
          2003,
          2008,
          2014,
          2016
         ],
         "xaxis": "x",
         "y": [
          0,
          0,
          1,
          0,
          0,
          0,
          0,
          0,
          0,
          0,
          0
         ],
         "yaxis": "y"
        },
        {
         "hovertemplate": "pays=Nicaragua<br>années=%{x}<br>nombre de morts=%{y}<extra></extra>",
         "legendgroup": "Nicaragua",
         "line": {
          "color": "#FF97FF",
          "dash": "solid"
         },
         "marker": {
          "symbol": "circle"
         },
         "mode": "lines",
         "name": "Nicaragua",
         "showlegend": true,
         "type": "scattergl",
         "x": [
          1970,
          1974,
          1975,
          1977,
          1978,
          1979,
          1980,
          1981,
          1982,
          1983,
          1984,
          1985,
          1986,
          1987,
          1988,
          1989,
          1990,
          1991,
          1992,
          1994,
          1995,
          1996,
          1997,
          1999,
          2000,
          2014
         ],
         "xaxis": "x",
         "y": [
          0,
          0,
          11,
          26,
          92,
          168,
          37,
          165,
          254,
          3276,
          3617,
          1575,
          395,
          549,
          208,
          48,
          23,
          54,
          22,
          12,
          6,
          18,
          7,
          0,
          2,
          5
         ],
         "yaxis": "y"
        },
        {
         "hovertemplate": "pays=Niger<br>années=%{x}<br>nombre de morts=%{y}<extra></extra>",
         "legendgroup": "Niger",
         "line": {
          "color": "#FECB52",
          "dash": "solid"
         },
         "marker": {
          "symbol": "circle"
         },
         "mode": "lines",
         "name": "Niger",
         "showlegend": true,
         "type": "scattergl",
         "x": [
          1985,
          1989,
          1991,
          1992,
          1994,
          1995,
          1996,
          1997,
          1999,
          2007,
          2008,
          2009,
          2010,
          2011,
          2012,
          2013,
          2014,
          2015,
          2016,
          2017
         ],
         "xaxis": "x",
         "y": [
          3,
          171,
          8,
          34,
          53,
          22,
          2,
          32,
          4,
          66,
          6,
          18,
          9,
          4,
          1,
          26,
          11,
          666,
          190,
          148
         ],
         "yaxis": "y"
        },
        {
         "hovertemplate": "pays=Nigeria<br>années=%{x}<br>nombre de morts=%{y}<extra></extra>",
         "legendgroup": "Nigeria",
         "line": {
          "color": "#636efa",
          "dash": "solid"
         },
         "marker": {
          "symbol": "circle"
         },
         "mode": "lines",
         "name": "Nigeria",
         "showlegend": true,
         "type": "scattergl",
         "x": [
          1976,
          1980,
          1983,
          1988,
          1991,
          1992,
          1994,
          1995,
          1996,
          1997,
          1998,
          1999,
          2000,
          2001,
          2002,
          2003,
          2004,
          2005,
          2006,
          2007,
          2008,
          2009,
          2010,
          2011,
          2012,
          2013,
          2014,
          2015,
          2016,
          2017
         ],
         "xaxis": "x",
         "y": [
          3,
          0,
          1,
          4,
          10,
          135,
          15,
          1,
          24,
          107,
          9,
          134,
          0,
          3,
          28,
          28,
          41,
          19,
          254,
          82,
          72,
          316,
          117,
          447,
          1508,
          2014,
          7781,
          5559,
          2165,
          1805
         ],
         "yaxis": "y"
        },
        {
         "hovertemplate": "pays=North Korea<br>années=%{x}<br>nombre de morts=%{y}<extra></extra>",
         "legendgroup": "North Korea",
         "line": {
          "color": "#EF553B",
          "dash": "solid"
         },
         "marker": {
          "symbol": "circle"
         },
         "mode": "lines",
         "name": "North Korea",
         "showlegend": true,
         "type": "scattergl",
         "x": [
          1994
         ],
         "xaxis": "x",
         "y": [
          3
         ],
         "yaxis": "y"
        },
        {
         "hovertemplate": "pays=North Yemen<br>années=%{x}<br>nombre de morts=%{y}<extra></extra>",
         "legendgroup": "North Yemen",
         "line": {
          "color": "#00cc96",
          "dash": "solid"
         },
         "marker": {
          "symbol": "circle"
         },
         "mode": "lines",
         "name": "North Yemen",
         "showlegend": true,
         "type": "scattergl",
         "x": [
          1974,
          1977,
          1978,
          1981,
          1988
         ],
         "xaxis": "x",
         "y": [
          0,
          1,
          1,
          1,
          0
         ],
         "yaxis": "y"
        },
        {
         "hovertemplate": "pays=Norway<br>années=%{x}<br>nombre de morts=%{y}<extra></extra>",
         "legendgroup": "Norway",
         "line": {
          "color": "#ab63fa",
          "dash": "solid"
         },
         "marker": {
          "symbol": "circle"
         },
         "mode": "lines",
         "name": "Norway",
         "showlegend": true,
         "type": "scattergl",
         "x": [
          1979,
          1981,
          1987,
          1991,
          1992,
          1994,
          1996,
          2001,
          2003,
          2006,
          2010,
          2011,
          2017
         ],
         "xaxis": "x",
         "y": [
          0,
          0,
          1,
          0,
          0,
          0,
          0,
          1,
          0,
          0,
          0,
          77,
          0
         ],
         "yaxis": "y"
        },
        {
         "hovertemplate": "pays=Pakistan<br>années=%{x}<br>nombre de morts=%{y}<extra></extra>",
         "legendgroup": "Pakistan",
         "line": {
          "color": "#FFA15A",
          "dash": "solid"
         },
         "marker": {
          "symbol": "circle"
         },
         "mode": "lines",
         "name": "Pakistan",
         "showlegend": true,
         "type": "scattergl",
         "x": [
          1970,
          1974,
          1975,
          1976,
          1978,
          1979,
          1980,
          1981,
          1982,
          1983,
          1984,
          1985,
          1986,
          1987,
          1988,
          1989,
          1990,
          1991,
          1992,
          1994,
          1995,
          1996,
          1997,
          1998,
          1999,
          2000,
          2001,
          2002,
          2003,
          2004,
          2005,
          2006,
          2007,
          2008,
          2009,
          2010,
          2011,
          2012,
          2013,
          2014,
          2015,
          2016,
          2017
         ],
         "xaxis": "x",
         "y": [
          4,
          0,
          1,
          1,
          5,
          6,
          17,
          4,
          3,
          10,
          12,
          0,
          60,
          183,
          136,
          56,
          188,
          231,
          149,
          354,
          712,
          423,
          443,
          151,
          127,
          118,
          109,
          105,
          119,
          304,
          152,
          314,
          1406,
          1176,
          1487,
          1694,
          1663,
          2784,
          2875,
          2413,
          1608,
          1113,
          1076
         ],
         "yaxis": "y"
        },
        {
         "hovertemplate": "pays=Panama<br>années=%{x}<br>nombre de morts=%{y}<extra></extra>",
         "legendgroup": "Panama",
         "line": {
          "color": "#19d3f3",
          "dash": "solid"
         },
         "marker": {
          "symbol": "circle"
         },
         "mode": "lines",
         "name": "Panama",
         "showlegend": true,
         "type": "scattergl",
         "x": [
          1972,
          1976,
          1979,
          1980,
          1981,
          1983,
          1984,
          1986,
          1987,
          1988,
          1989,
          1990,
          1991,
          1992,
          1994,
          1995,
          1996,
          1997,
          1999,
          2009,
          2016
         ],
         "xaxis": "x",
         "y": [
          0,
          0,
          1,
          0,
          1,
          0,
          0,
          0,
          1,
          0,
          0,
          2,
          2,
          3,
          21,
          3,
          0,
          3,
          0,
          1,
          0
         ],
         "yaxis": "y"
        },
        {
         "hovertemplate": "pays=Papua New Guinea<br>années=%{x}<br>nombre de morts=%{y}<extra></extra>",
         "legendgroup": "Papua New Guinea",
         "line": {
          "color": "#FF6692",
          "dash": "solid"
         },
         "marker": {
          "symbol": "circle"
         },
         "mode": "lines",
         "name": "Papua New Guinea",
         "showlegend": true,
         "type": "scattergl",
         "x": [
          1989,
          1990,
          1991,
          1992,
          1994,
          1995,
          1996,
          1997,
          2002,
          2007,
          2017
         ],
         "xaxis": "x",
         "y": [
          13,
          12,
          3,
          7,
          17,
          6,
          21,
          0,
          0,
          0,
          0
         ],
         "yaxis": "y"
        },
        {
         "hovertemplate": "pays=Paraguay<br>années=%{x}<br>nombre de morts=%{y}<extra></extra>",
         "legendgroup": "Paraguay",
         "line": {
          "color": "#B6E880",
          "dash": "solid"
         },
         "marker": {
          "symbol": "circle"
         },
         "mode": "lines",
         "name": "Paraguay",
         "showlegend": true,
         "type": "scattergl",
         "x": [
          1970,
          1976,
          1980,
          1984,
          1985,
          1987,
          1992,
          1994,
          1995,
          1997,
          1999,
          2000,
          2010,
          2011,
          2012,
          2013,
          2014,
          2015,
          2016,
          2017
         ],
         "xaxis": "x",
         "y": [
          1,
          1,
          3,
          1,
          0,
          0,
          0,
          1,
          0,
          1,
          2,
          0,
          2,
          0,
          1,
          12,
          6,
          14,
          10,
          4
         ],
         "yaxis": "y"
        },
        {
         "hovertemplate": "pays=People's Republic of the Congo<br>années=%{x}<br>nombre de morts=%{y}<extra></extra>",
         "legendgroup": "People's Republic of the Congo",
         "line": {
          "color": "#FF97FF",
          "dash": "solid"
         },
         "marker": {
          "symbol": "circle"
         },
         "mode": "lines",
         "name": "People's Republic of the Congo",
         "showlegend": true,
         "type": "scattergl",
         "x": [
          1972,
          1977,
          1982
         ],
         "xaxis": "x",
         "y": [
          0,
          0,
          15
         ],
         "yaxis": "y"
        },
        {
         "hovertemplate": "pays=Peru<br>années=%{x}<br>nombre de morts=%{y}<extra></extra>",
         "legendgroup": "Peru",
         "line": {
          "color": "#FECB52",
          "dash": "solid"
         },
         "marker": {
          "symbol": "circle"
         },
         "mode": "lines",
         "name": "Peru",
         "showlegend": true,
         "type": "scattergl",
         "x": [
          1973,
          1974,
          1975,
          1977,
          1978,
          1979,
          1980,
          1981,
          1982,
          1983,
          1984,
          1985,
          1986,
          1987,
          1988,
          1989,
          1990,
          1991,
          1992,
          1994,
          1995,
          1996,
          1997,
          1998,
          1999,
          2000,
          2001,
          2002,
          2003,
          2004,
          2005,
          2006,
          2007,
          2008,
          2009,
          2012,
          2013,
          2014,
          2015,
          2016,
          2017
         ],
         "xaxis": "x",
         "y": [
          0,
          0,
          0,
          0,
          0,
          5,
          2,
          10,
          243,
          1805,
          2364,
          729,
          513,
          773,
          855,
          1502,
          1146,
          1404,
          818,
          81,
          103,
          74,
          47,
          7,
          28,
          4,
          16,
          9,
          7,
          6,
          7,
          7,
          18,
          0,
          19,
          10,
          6,
          4,
          6,
          11,
          8
         ],
         "yaxis": "y"
        },
        {
         "hovertemplate": "pays=Philippines<br>années=%{x}<br>nombre de morts=%{y}<extra></extra>",
         "legendgroup": "Philippines",
         "line": {
          "color": "#636efa",
          "dash": "solid"
         },
         "marker": {
          "symbol": "circle"
         },
         "mode": "lines",
         "name": "Philippines",
         "showlegend": true,
         "type": "scattergl",
         "x": [
          1970,
          1971,
          1972,
          1974,
          1975,
          1976,
          1977,
          1978,
          1979,
          1980,
          1981,
          1982,
          1983,
          1984,
          1985,
          1986,
          1987,
          1988,
          1989,
          1990,
          1991,
          1992,
          1994,
          1995,
          1996,
          1997,
          1998,
          1999,
          2000,
          2001,
          2002,
          2003,
          2004,
          2005,
          2006,
          2007,
          2008,
          2009,
          2010,
          2011,
          2012,
          2013,
          2014,
          2015,
          2016,
          2017
         ],
         "xaxis": "x",
         "y": [
          40,
          0,
          2,
          3,
          1,
          47,
          0,
          128,
          102,
          158,
          176,
          126,
          97,
          261,
          451,
          317,
          396,
          550,
          393,
          457,
          424,
          395,
          126,
          201,
          95,
          98,
          6,
          45,
          289,
          149,
          125,
          288,
          206,
          49,
          60,
          115,
          220,
          151,
          154,
          127,
          211,
          432,
          472,
          447,
          415,
          496
         ],
         "yaxis": "y"
        },
        {
         "hovertemplate": "pays=Poland<br>années=%{x}<br>nombre de morts=%{y}<extra></extra>",
         "legendgroup": "Poland",
         "line": {
          "color": "#EF553B",
          "dash": "solid"
         },
         "marker": {
          "symbol": "circle"
         },
         "mode": "lines",
         "name": "Poland",
         "showlegend": true,
         "type": "scattergl",
         "x": [
          1971,
          1979,
          1981,
          1990,
          1992,
          1994,
          1995,
          1996,
          1997,
          1998,
          2001,
          2010,
          2016,
          2017
         ],
         "xaxis": "x",
         "y": [
          0,
          0,
          0,
          1,
          4,
          0,
          0,
          1,
          2,
          0,
          0,
          1,
          0,
          0
         ],
         "yaxis": "y"
        },
        {
         "hovertemplate": "pays=Portugal<br>années=%{x}<br>nombre de morts=%{y}<extra></extra>",
         "legendgroup": "Portugal",
         "line": {
          "color": "#00cc96",
          "dash": "solid"
         },
         "marker": {
          "symbol": "circle"
         },
         "mode": "lines",
         "name": "Portugal",
         "showlegend": true,
         "type": "scattergl",
         "x": [
          1972,
          1973,
          1975,
          1976,
          1977,
          1978,
          1979,
          1980,
          1981,
          1982,
          1983,
          1984,
          1985,
          1986,
          1988,
          1989,
          1992,
          1994,
          1995,
          2011
         ],
         "xaxis": "x",
         "y": [
          0,
          0,
          0,
          3,
          0,
          0,
          3,
          3,
          2,
          3,
          8,
          3,
          1,
          1,
          2,
          1,
          0,
          2,
          0,
          0
         ],
         "yaxis": "y"
        },
        {
         "hovertemplate": "pays=Qatar<br>années=%{x}<br>nombre de morts=%{y}<extra></extra>",
         "legendgroup": "Qatar",
         "line": {
          "color": "#ab63fa",
          "dash": "solid"
         },
         "marker": {
          "symbol": "circle"
         },
         "mode": "lines",
         "name": "Qatar",
         "showlegend": true,
         "type": "scattergl",
         "x": [
          1982,
          1989,
          1996,
          2000,
          2001,
          2005,
          2015
         ],
         "xaxis": "x",
         "y": [
          1,
          3,
          0,
          0,
          1,
          2,
          0
         ],
         "yaxis": "y"
        },
        {
         "hovertemplate": "pays=Republic of the Congo<br>années=%{x}<br>nombre de morts=%{y}<extra></extra>",
         "legendgroup": "Republic of the Congo",
         "line": {
          "color": "#FFA15A",
          "dash": "solid"
         },
         "marker": {
          "symbol": "circle"
         },
         "mode": "lines",
         "name": "Republic of the Congo",
         "showlegend": true,
         "type": "scattergl",
         "x": [
          1990,
          1994,
          1996,
          1997,
          1999,
          2001,
          2002,
          2003,
          2013,
          2016
         ],
         "xaxis": "x",
         "y": [
          0,
          12,
          0,
          2,
          107,
          0,
          17,
          11,
          2,
          31
         ],
         "yaxis": "y"
        },
        {
         "hovertemplate": "pays=Rhodesia<br>années=%{x}<br>nombre de morts=%{y}<extra></extra>",
         "legendgroup": "Rhodesia",
         "line": {
          "color": "#19d3f3",
          "dash": "solid"
         },
         "marker": {
          "symbol": "circle"
         },
         "mode": "lines",
         "name": "Rhodesia",
         "showlegend": true,
         "type": "scattergl",
         "x": [
          1978,
          1979,
          1980
         ],
         "xaxis": "x",
         "y": [
          73,
          110,
          24
         ],
         "yaxis": "y"
        },
        {
         "hovertemplate": "pays=Romania<br>années=%{x}<br>nombre de morts=%{y}<extra></extra>",
         "legendgroup": "Romania",
         "line": {
          "color": "#FF6692",
          "dash": "solid"
         },
         "marker": {
          "symbol": "circle"
         },
         "mode": "lines",
         "name": "Romania",
         "showlegend": true,
         "type": "scattergl",
         "x": [
          1984,
          1985,
          1991,
          1995,
          2008
         ],
         "xaxis": "x",
         "y": [
          1,
          2,
          1,
          0,
          0
         ],
         "yaxis": "y"
        },
        {
         "hovertemplate": "pays=Russia<br>années=%{x}<br>nombre de morts=%{y}<extra></extra>",
         "legendgroup": "Russia",
         "line": {
          "color": "#B6E880",
          "dash": "solid"
         },
         "marker": {
          "symbol": "circle"
         },
         "mode": "lines",
         "name": "Russia",
         "showlegend": true,
         "type": "scattergl",
         "x": [
          1992,
          1994,
          1995,
          1996,
          1997,
          1998,
          1999,
          2000,
          2001,
          2002,
          2003,
          2004,
          2005,
          2006,
          2007,
          2008,
          2009,
          2010,
          2011,
          2012,
          2013,
          2014,
          2015,
          2016,
          2017
         ],
         "xaxis": "x",
         "y": [
          34,
          34,
          145,
          135,
          61,
          49,
          395,
          362,
          227,
          512,
          328,
          607,
          157,
          57,
          55,
          95,
          141,
          228,
          160,
          161,
          148,
          67,
          21,
          64,
          61
         ],
         "yaxis": "y"
        },
        {
         "hovertemplate": "pays=Rwanda<br>années=%{x}<br>nombre de morts=%{y}<extra></extra>",
         "legendgroup": "Rwanda",
         "line": {
          "color": "#FF97FF",
          "dash": "solid"
         },
         "marker": {
          "symbol": "circle"
         },
         "mode": "lines",
         "name": "Rwanda",
         "showlegend": true,
         "type": "scattergl",
         "x": [
          1991,
          1992,
          1994,
          1995,
          1996,
          1997,
          1998,
          2000,
          2001,
          2005,
          2008,
          2009,
          2010,
          2011,
          2012,
          2013,
          2014,
          2016,
          2017
         ],
         "xaxis": "x",
         "y": [
          0,
          141,
          1571,
          201,
          129,
          1027,
          100,
          4,
          2,
          30,
          0,
          4,
          6,
          2,
          10,
          6,
          1,
          0,
          2
         ],
         "yaxis": "y"
        },
        {
         "hovertemplate": "pays=Saudi Arabia<br>années=%{x}<br>nombre de morts=%{y}<extra></extra>",
         "legendgroup": "Saudi Arabia",
         "line": {
          "color": "#FECB52",
          "dash": "solid"
         },
         "marker": {
          "symbol": "circle"
         },
         "mode": "lines",
         "name": "Saudi Arabia",
         "showlegend": true,
         "type": "scattergl",
         "x": [
          1977,
          1979,
          1984,
          1985,
          1986,
          1988,
          1989,
          1991,
          1994,
          1995,
          1996,
          2000,
          2001,
          2002,
          2003,
          2004,
          2005,
          2006,
          2007,
          2009,
          2011,
          2012,
          2013,
          2014,
          2015,
          2016,
          2017
         ],
         "xaxis": "x",
         "y": [
          0,
          5,
          0,
          1,
          62,
          0,
          1,
          0,
          0,
          14,
          19,
          1,
          2,
          1,
          55,
          64,
          1,
          4,
          3,
          5,
          3,
          4,
          1,
          20,
          213,
          162,
          31
         ],
         "yaxis": "y"
        },
        {
         "hovertemplate": "pays=Senegal<br>années=%{x}<br>nombre de morts=%{y}<extra></extra>",
         "legendgroup": "Senegal",
         "line": {
          "color": "#636efa",
          "dash": "solid"
         },
         "marker": {
          "symbol": "circle"
         },
         "mode": "lines",
         "name": "Senegal",
         "showlegend": true,
         "type": "scattergl",
         "x": [
          1980,
          1988,
          1990,
          1991,
          1992,
          1994,
          1995,
          1997,
          1998,
          1999,
          2000,
          2001,
          2002,
          2005,
          2007,
          2008,
          2009,
          2010,
          2011,
          2012,
          2013,
          2014,
          2015
         ],
         "xaxis": "x",
         "y": [
          0,
          2,
          20,
          5,
          64,
          5,
          18,
          92,
          4,
          1,
          4,
          28,
          8,
          0,
          1,
          10,
          9,
          3,
          21,
          16,
          7,
          7,
          0
         ],
         "yaxis": "y"
        },
        {
         "hovertemplate": "pays=Serbia<br>années=%{x}<br>nombre de morts=%{y}<extra></extra>",
         "legendgroup": "Serbia",
         "line": {
          "color": "#EF553B",
          "dash": "solid"
         },
         "marker": {
          "symbol": "circle"
         },
         "mode": "lines",
         "name": "Serbia",
         "showlegend": true,
         "type": "scattergl",
         "x": [
          2008,
          2009,
          2010,
          2012,
          2017
         ],
         "xaxis": "x",
         "y": [
          2,
          0,
          0,
          1,
          0
         ],
         "yaxis": "y"
        },
        {
         "hovertemplate": "pays=Serbia-Montenegro<br>années=%{x}<br>nombre de morts=%{y}<extra></extra>",
         "legendgroup": "Serbia-Montenegro",
         "line": {
          "color": "#00cc96",
          "dash": "solid"
         },
         "marker": {
          "symbol": "circle"
         },
         "mode": "lines",
         "name": "Serbia-Montenegro",
         "showlegend": true,
         "type": "scattergl",
         "x": [
          2003,
          2004,
          2005,
          2006
         ],
         "xaxis": "x",
         "y": [
          2,
          1,
          0,
          0
         ],
         "yaxis": "y"
        },
        {
         "hovertemplate": "pays=Seychelles<br>années=%{x}<br>nombre de morts=%{y}<extra></extra>",
         "legendgroup": "Seychelles",
         "line": {
          "color": "#ab63fa",
          "dash": "solid"
         },
         "marker": {
          "symbol": "circle"
         },
         "mode": "lines",
         "name": "Seychelles",
         "showlegend": true,
         "type": "scattergl",
         "x": [
          1981
         ],
         "xaxis": "x",
         "y": [
          0
         ],
         "yaxis": "y"
        },
        {
         "hovertemplate": "pays=Sierra Leone<br>années=%{x}<br>nombre de morts=%{y}<extra></extra>",
         "legendgroup": "Sierra Leone",
         "line": {
          "color": "#FFA15A",
          "dash": "solid"
         },
         "marker": {
          "symbol": "circle"
         },
         "mode": "lines",
         "name": "Sierra Leone",
         "showlegend": true,
         "type": "scattergl",
         "x": [
          1991,
          1992,
          1994,
          1995,
          1996,
          1997,
          1998,
          1999,
          2000,
          2016,
          2017
         ],
         "xaxis": "x",
         "y": [
          128,
          21,
          228,
          40,
          58,
          16,
          258,
          28,
          60,
          1,
          0
         ],
         "yaxis": "y"
        },
        {
         "hovertemplate": "pays=Singapore<br>années=%{x}<br>nombre de morts=%{y}<extra></extra>",
         "legendgroup": "Singapore",
         "line": {
          "color": "#19d3f3",
          "dash": "solid"
         },
         "marker": {
          "symbol": "circle"
         },
         "mode": "lines",
         "name": "Singapore",
         "showlegend": true,
         "type": "scattergl",
         "x": [
          1974,
          1985,
          1987,
          1991,
          1992,
          1994
         ],
         "xaxis": "x",
         "y": [
          0,
          0,
          0,
          4,
          0,
          1
         ],
         "yaxis": "y"
        },
        {
         "hovertemplate": "pays=Slovak Republic<br>années=%{x}<br>nombre de morts=%{y}<extra></extra>",
         "legendgroup": "Slovak Republic",
         "line": {
          "color": "#FF6692",
          "dash": "solid"
         },
         "marker": {
          "symbol": "circle"
         },
         "mode": "lines",
         "name": "Slovak Republic",
         "showlegend": true,
         "type": "scattergl",
         "x": [
          1994,
          1995,
          1996,
          1997,
          1998,
          1999,
          2000,
          2016
         ],
         "xaxis": "x",
         "y": [
          0,
          3,
          1,
          2,
          1,
          0,
          0,
          0
         ],
         "yaxis": "y"
        },
        {
         "hovertemplate": "pays=Slovenia<br>années=%{x}<br>nombre de morts=%{y}<extra></extra>",
         "legendgroup": "Slovenia",
         "line": {
          "color": "#B6E880",
          "dash": "solid"
         },
         "marker": {
          "symbol": "circle"
         },
         "mode": "lines",
         "name": "Slovenia",
         "showlegend": true,
         "type": "scattergl",
         "x": [
          1994,
          1996,
          1997,
          2000
         ],
         "xaxis": "x",
         "y": [
          1,
          0,
          0,
          0
         ],
         "yaxis": "y"
        },
        {
         "hovertemplate": "pays=Solomon Islands<br>années=%{x}<br>nombre de morts=%{y}<extra></extra>",
         "legendgroup": "Solomon Islands",
         "line": {
          "color": "#FF97FF",
          "dash": "solid"
         },
         "marker": {
          "symbol": "circle"
         },
         "mode": "lines",
         "name": "Solomon Islands",
         "showlegend": true,
         "type": "scattergl",
         "x": [
          1999,
          2000,
          2002,
          2003
         ],
         "xaxis": "x",
         "y": [
          2,
          0,
          1,
          1
         ],
         "yaxis": "y"
        },
        {
         "hovertemplate": "pays=Somalia<br>années=%{x}<br>nombre de morts=%{y}<extra></extra>",
         "legendgroup": "Somalia",
         "line": {
          "color": "#FECB52",
          "dash": "solid"
         },
         "marker": {
          "symbol": "circle"
         },
         "mode": "lines",
         "name": "Somalia",
         "showlegend": true,
         "type": "scattergl",
         "x": [
          1975,
          1981,
          1983,
          1984,
          1987,
          1988,
          1989,
          1990,
          1991,
          1992,
          1994,
          1995,
          1996,
          1997,
          1998,
          1999,
          2000,
          2001,
          2002,
          2003,
          2004,
          2005,
          2006,
          2007,
          2008,
          2009,
          2010,
          2011,
          2012,
          2013,
          2014,
          2015,
          2016,
          2017
         ],
         "xaxis": "x",
         "y": [
          0,
          0,
          0,
          0,
          0,
          0,
          30,
          5,
          6,
          8,
          78,
          29,
          28,
          145,
          0,
          6,
          36,
          3,
          6,
          7,
          2,
          20,
          22,
          408,
          436,
          381,
          295,
          337,
          783,
          660,
          1589,
          1447,
          1583,
          1912
         ],
         "yaxis": "y"
        },
        {
         "hovertemplate": "pays=South Africa<br>années=%{x}<br>nombre de morts=%{y}<extra></extra>",
         "legendgroup": "South Africa",
         "line": {
          "color": "#636efa",
          "dash": "solid"
         },
         "marker": {
          "symbol": "circle"
         },
         "mode": "lines",
         "name": "South Africa",
         "showlegend": true,
         "type": "scattergl",
         "x": [
          1974,
          1976,
          1977,
          1978,
          1979,
          1980,
          1981,
          1982,
          1983,
          1984,
          1985,
          1986,
          1987,
          1988,
          1989,
          1990,
          1991,
          1992,
          1994,
          1995,
          1996,
          1997,
          1998,
          1999,
          2000,
          2002,
          2007,
          2008,
          2012,
          2013,
          2014,
          2015,
          2016,
          2017
         ],
         "xaxis": "x",
         "y": [
          0,
          2,
          5,
          6,
          8,
          17,
          8,
          9,
          28,
          21,
          82,
          153,
          120,
          152,
          57,
          150,
          384,
          706,
          447,
          105,
          82,
          23,
          13,
          4,
          18,
          1,
          1,
          0,
          5,
          2,
          9,
          5,
          21,
          21
         ],
         "yaxis": "y"
        },
        {
         "hovertemplate": "pays=South Korea<br>années=%{x}<br>nombre de morts=%{y}<extra></extra>",
         "legendgroup": "South Korea",
         "line": {
          "color": "#EF553B",
          "dash": "solid"
         },
         "marker": {
          "symbol": "circle"
         },
         "mode": "lines",
         "name": "South Korea",
         "showlegend": true,
         "type": "scattergl",
         "x": [
          1974,
          1982,
          1983,
          1986,
          1988,
          1989,
          1990,
          1991,
          1992,
          1994,
          1995,
          1996,
          2001,
          2003,
          2006,
          2015,
          2016
         ],
         "xaxis": "x",
         "y": [
          1,
          1,
          1,
          5,
          0,
          0,
          0,
          0,
          1,
          1,
          0,
          0,
          0,
          0,
          0,
          0,
          0
         ],
         "yaxis": "y"
        },
        {
         "hovertemplate": "pays=South Sudan<br>années=%{x}<br>nombre de morts=%{y}<extra></extra>",
         "legendgroup": "South Sudan",
         "line": {
          "color": "#00cc96",
          "dash": "solid"
         },
         "marker": {
          "symbol": "circle"
         },
         "mode": "lines",
         "name": "South Sudan",
         "showlegend": true,
         "type": "scattergl",
         "x": [
          2012,
          2013,
          2014,
          2015,
          2016,
          2017
         ],
         "xaxis": "x",
         "y": [
          68,
          226,
          908,
          218,
          633,
          581
         ],
         "yaxis": "y"
        },
        {
         "hovertemplate": "pays=South Vietnam<br>années=%{x}<br>nombre de morts=%{y}<extra></extra>",
         "legendgroup": "South Vietnam",
         "line": {
          "color": "#ab63fa",
          "dash": "solid"
         },
         "marker": {
          "symbol": "circle"
         },
         "mode": "lines",
         "name": "South Vietnam",
         "showlegend": true,
         "type": "scattergl",
         "x": [
          1972
         ],
         "xaxis": "x",
         "y": [
          81
         ],
         "yaxis": "y"
        },
        {
         "hovertemplate": "pays=South Yemen<br>années=%{x}<br>nombre de morts=%{y}<extra></extra>",
         "legendgroup": "South Yemen",
         "line": {
          "color": "#FFA15A",
          "dash": "solid"
         },
         "marker": {
          "symbol": "circle"
         },
         "mode": "lines",
         "name": "South Yemen",
         "showlegend": true,
         "type": "scattergl",
         "x": [
          1971,
          1983
         ],
         "xaxis": "x",
         "y": [
          0,
          0
         ],
         "yaxis": "y"
        },
        {
         "hovertemplate": "pays=Soviet Union<br>années=%{x}<br>nombre de morts=%{y}<extra></extra>",
         "legendgroup": "Soviet Union",
         "line": {
          "color": "#19d3f3",
          "dash": "solid"
         },
         "marker": {
          "symbol": "circle"
         },
         "mode": "lines",
         "name": "Soviet Union",
         "showlegend": true,
         "type": "scattergl",
         "x": [
          1978,
          1989,
          1990,
          1991
         ],
         "xaxis": "x",
         "y": [
          4,
          6,
          58,
          28
         ],
         "yaxis": "y"
        },
        {
         "hovertemplate": "pays=Spain<br>années=%{x}<br>nombre de morts=%{y}<extra></extra>",
         "legendgroup": "Spain",
         "line": {
          "color": "#FF6692",
          "dash": "solid"
         },
         "marker": {
          "symbol": "circle"
         },
         "mode": "lines",
         "name": "Spain",
         "showlegend": true,
         "type": "scattergl",
         "x": [
          1970,
          1971,
          1972,
          1973,
          1974,
          1975,
          1976,
          1977,
          1978,
          1979,
          1980,
          1981,
          1982,
          1983,
          1984,
          1985,
          1986,
          1987,
          1988,
          1989,
          1990,
          1991,
          1992,
          1994,
          1995,
          1996,
          1997,
          1998,
          1999,
          2000,
          2001,
          2002,
          2003,
          2004,
          2005,
          2006,
          2007,
          2008,
          2009,
          2010,
          2012,
          2013,
          2014,
          2015,
          2016,
          2017
         ],
         "xaxis": "x",
         "y": [
          0,
          0,
          2,
          6,
          19,
          31,
          17,
          43,
          82,
          112,
          116,
          39,
          42,
          42,
          51,
          67,
          57,
          68,
          25,
          29,
          32,
          46,
          29,
          17,
          18,
          5,
          11,
          6,
          0,
          29,
          14,
          5,
          3,
          193,
          0,
          2,
          0,
          3,
          3,
          0,
          0,
          0,
          0,
          0,
          0,
          21
         ],
         "yaxis": "y"
        },
        {
         "hovertemplate": "pays=Sri Lanka<br>années=%{x}<br>nombre de morts=%{y}<extra></extra>",
         "legendgroup": "Sri Lanka",
         "line": {
          "color": "#B6E880",
          "dash": "solid"
         },
         "marker": {
          "symbol": "circle"
         },
         "mode": "lines",
         "name": "Sri Lanka",
         "showlegend": true,
         "type": "scattergl",
         "x": [
          1975,
          1979,
          1981,
          1982,
          1983,
          1984,
          1985,
          1986,
          1987,
          1988,
          1989,
          1990,
          1991,
          1992,
          1994,
          1995,
          1996,
          1997,
          1998,
          1999,
          2000,
          2001,
          2002,
          2003,
          2004,
          2005,
          2006,
          2007,
          2008,
          2009,
          2010,
          2012,
          2013,
          2014,
          2015,
          2016,
          2017
         ],
         "xaxis": "x",
         "y": [
          1,
          2,
          3,
          7,
          6,
          458,
          611,
          690,
          1265,
          885,
          1822,
          1497,
          1034,
          984,
          186,
          1020,
          827,
          486,
          680,
          212,
          449,
          195,
          3,
          23,
          30,
          125,
          1007,
          405,
          353,
          201,
          2,
          0,
          0,
          3,
          3,
          0,
          1
         ],
         "yaxis": "y"
        },
        {
         "hovertemplate": "pays=St. Kitts and Nevis<br>années=%{x}<br>nombre de morts=%{y}<extra></extra>",
         "legendgroup": "St. Kitts and Nevis",
         "line": {
          "color": "#FF97FF",
          "dash": "solid"
         },
         "marker": {
          "symbol": "circle"
         },
         "mode": "lines",
         "name": "St. Kitts and Nevis",
         "showlegend": true,
         "type": "scattergl",
         "x": [
          1995
         ],
         "xaxis": "x",
         "y": [
          0
         ],
         "yaxis": "y"
        },
        {
         "hovertemplate": "pays=St. Lucia<br>années=%{x}<br>nombre de morts=%{y}<extra></extra>",
         "legendgroup": "St. Lucia",
         "line": {
          "color": "#FECB52",
          "dash": "solid"
         },
         "marker": {
          "symbol": "circle"
         },
         "mode": "lines",
         "name": "St. Lucia",
         "showlegend": true,
         "type": "scattergl",
         "x": [
          2000
         ],
         "xaxis": "x",
         "y": [
          2
         ],
         "yaxis": "y"
        },
        {
         "hovertemplate": "pays=Sudan<br>années=%{x}<br>nombre de morts=%{y}<extra></extra>",
         "legendgroup": "Sudan",
         "line": {
          "color": "#636efa",
          "dash": "solid"
         },
         "marker": {
          "symbol": "circle"
         },
         "mode": "lines",
         "name": "Sudan",
         "showlegend": true,
         "type": "scattergl",
         "x": [
          1973,
          1981,
          1982,
          1983,
          1984,
          1986,
          1987,
          1988,
          1989,
          1990,
          1991,
          1992,
          1994,
          1995,
          1996,
          1997,
          1999,
          2000,
          2001,
          2002,
          2004,
          2005,
          2006,
          2007,
          2008,
          2009,
          2010,
          2011,
          2012,
          2013,
          2014,
          2015,
          2016,
          2017
         ],
         "xaxis": "x",
         "y": [
          3,
          2,
          0,
          0,
          305,
          8,
          0,
          58,
          14,
          0,
          32,
          13,
          17,
          6,
          40,
          1,
          16,
          23,
          13,
          565,
          28,
          54,
          484,
          317,
          205,
          77,
          80,
          189,
          60,
          220,
          546,
          210,
          182,
          82
         ],
         "yaxis": "y"
        },
        {
         "hovertemplate": "pays=Suriname<br>années=%{x}<br>nombre de morts=%{y}<extra></extra>",
         "legendgroup": "Suriname",
         "line": {
          "color": "#EF553B",
          "dash": "solid"
         },
         "marker": {
          "symbol": "circle"
         },
         "mode": "lines",
         "name": "Suriname",
         "showlegend": true,
         "type": "scattergl",
         "x": [
          1983,
          1984,
          1986,
          1987,
          1988,
          1989,
          1990,
          1991,
          1992,
          1994,
          1997
         ],
         "xaxis": "x",
         "y": [
          0,
          0,
          2,
          6,
          6,
          14,
          0,
          1,
          0,
          0,
          0
         ],
         "yaxis": "y"
        },
        {
         "hovertemplate": "pays=Swaziland<br>années=%{x}<br>nombre de morts=%{y}<extra></extra>",
         "legendgroup": "Swaziland",
         "line": {
          "color": "#00cc96",
          "dash": "solid"
         },
         "marker": {
          "symbol": "circle"
         },
         "mode": "lines",
         "name": "Swaziland",
         "showlegend": true,
         "type": "scattergl",
         "x": [
          1982,
          1984,
          1986,
          1987,
          1989,
          1991,
          1992,
          1995,
          1997,
          1998,
          1999,
          2003,
          2006,
          2008
         ],
         "xaxis": "x",
         "y": [
          0,
          1,
          0,
          4,
          0,
          0,
          0,
          0,
          0,
          1,
          0,
          0,
          0,
          0
         ],
         "yaxis": "y"
        },
        {
         "hovertemplate": "pays=Sweden<br>années=%{x}<br>nombre de morts=%{y}<extra></extra>",
         "legendgroup": "Sweden",
         "line": {
          "color": "#ab63fa",
          "dash": "solid"
         },
         "marker": {
          "symbol": "circle"
         },
         "mode": "lines",
         "name": "Sweden",
         "showlegend": true,
         "type": "scattergl",
         "x": [
          1971,
          1972,
          1975,
          1978,
          1979,
          1983,
          1986,
          1989,
          1990,
          1991,
          1992,
          1994,
          1995,
          1996,
          1997,
          1999,
          2000,
          2005,
          2006,
          2008,
          2009,
          2010,
          2011,
          2012,
          2014,
          2015,
          2016,
          2017
         ],
         "xaxis": "x",
         "y": [
          1,
          0,
          3,
          0,
          1,
          1,
          1,
          0,
          1,
          1,
          2,
          0,
          0,
          0,
          1,
          0,
          0,
          0,
          0,
          0,
          0,
          1,
          0,
          0,
          0,
          4,
          0,
          5
         ],
         "yaxis": "y"
        },
        {
         "hovertemplate": "pays=Switzerland<br>années=%{x}<br>nombre de morts=%{y}<extra></extra>",
         "legendgroup": "Switzerland",
         "line": {
          "color": "#FFA15A",
          "dash": "solid"
         },
         "marker": {
          "symbol": "circle"
         },
         "mode": "lines",
         "name": "Switzerland",
         "showlegend": true,
         "type": "scattergl",
         "x": [
          1970,
          1971,
          1972,
          1973,
          1974,
          1975,
          1976,
          1977,
          1978,
          1979,
          1980,
          1981,
          1982,
          1983,
          1984,
          1985,
          1987,
          1988,
          1990,
          1991,
          1992,
          1995,
          1996,
          1997,
          1998,
          1999,
          2000,
          2001,
          2003,
          2007,
          2011,
          2013,
          2016
         ],
         "xaxis": "x",
         "y": [
          47,
          0,
          0,
          0,
          0,
          0,
          0,
          0,
          0,
          1,
          0,
          2,
          0,
          0,
          0,
          0,
          1,
          0,
          1,
          0,
          6,
          1,
          1,
          0,
          0,
          0,
          0,
          14,
          0,
          0,
          0,
          0,
          0
         ],
         "yaxis": "y"
        },
        {
         "hovertemplate": "pays=Syria<br>années=%{x}<br>nombre de morts=%{y}<extra></extra>",
         "legendgroup": "Syria",
         "line": {
          "color": "#19d3f3",
          "dash": "solid"
         },
         "marker": {
          "symbol": "circle"
         },
         "mode": "lines",
         "name": "Syria",
         "showlegend": true,
         "type": "scattergl",
         "x": [
          1974,
          1975,
          1976,
          1977,
          1978,
          1979,
          1980,
          1981,
          1982,
          1983,
          1984,
          1985,
          1986,
          1989,
          1996,
          1997,
          1998,
          2004,
          2006,
          2008,
          2011,
          2012,
          2013,
          2014,
          2015,
          2016,
          2017
         ],
         "xaxis": "x",
         "y": [
          1,
          0,
          5,
          1,
          0,
          75,
          87,
          186,
          98,
          1,
          0,
          30,
          8,
          0,
          15,
          2,
          0,
          4,
          5,
          18,
          163,
          877,
          1568,
          3312,
          3924,
          2810,
          2026
         ],
         "yaxis": "y"
        },
        {
         "hovertemplate": "pays=Taiwan<br>années=%{x}<br>nombre de morts=%{y}<extra></extra>",
         "legendgroup": "Taiwan",
         "line": {
          "color": "#FF6692",
          "dash": "solid"
         },
         "marker": {
          "symbol": "circle"
         },
         "mode": "lines",
         "name": "Taiwan",
         "showlegend": true,
         "type": "scattergl",
         "x": [
          1971,
          1976,
          1990,
          1991,
          1992,
          1994,
          1995,
          1996,
          1997,
          2001,
          2004,
          2008,
          2013,
          2014,
          2016,
          2017
         ],
         "xaxis": "x",
         "y": [
          25,
          0,
          0,
          7,
          16,
          1,
          0,
          9,
          0,
          2,
          0,
          0,
          0,
          0,
          0,
          0
         ],
         "yaxis": "y"
        },
        {
         "hovertemplate": "pays=Tajikistan<br>années=%{x}<br>nombre de morts=%{y}<extra></extra>",
         "legendgroup": "Tajikistan",
         "line": {
          "color": "#B6E880",
          "dash": "solid"
         },
         "marker": {
          "symbol": "circle"
         },
         "mode": "lines",
         "name": "Tajikistan",
         "showlegend": true,
         "type": "scattergl",
         "x": [
          1992,
          1994,
          1995,
          1996,
          1997,
          1998,
          1999,
          2000,
          2001,
          2005,
          2007,
          2009,
          2010,
          2012,
          2014,
          2015,
          2016,
          2017
         ],
         "xaxis": "x",
         "y": [
          14,
          48,
          78,
          50,
          43,
          29,
          2,
          11,
          8,
          0,
          1,
          0,
          4,
          3,
          1,
          12,
          2,
          1
         ],
         "yaxis": "y"
        },
        {
         "hovertemplate": "pays=Tanzania<br>années=%{x}<br>nombre de morts=%{y}<extra></extra>",
         "legendgroup": "Tanzania",
         "line": {
          "color": "#FF97FF",
          "dash": "solid"
         },
         "marker": {
          "symbol": "circle"
         },
         "mode": "lines",
         "name": "Tanzania",
         "showlegend": true,
         "type": "scattergl",
         "x": [
          1975,
          1979,
          1982,
          1994,
          1995,
          1997,
          1998,
          2000,
          2001,
          2002,
          2004,
          2008,
          2010,
          2013,
          2014,
          2015,
          2016,
          2017
         ],
         "xaxis": "x",
         "y": [
          0,
          1,
          0,
          1,
          0,
          1,
          11,
          0,
          2,
          24,
          0,
          0,
          0,
          8,
          4,
          10,
          3,
          8
         ],
         "yaxis": "y"
        },
        {
         "hovertemplate": "pays=Thailand<br>années=%{x}<br>nombre de morts=%{y}<extra></extra>",
         "legendgroup": "Thailand",
         "line": {
          "color": "#FECB52",
          "dash": "solid"
         },
         "marker": {
          "symbol": "circle"
         },
         "mode": "lines",
         "name": "Thailand",
         "showlegend": true,
         "type": "scattergl",
         "x": [
          1972,
          1974,
          1977,
          1978,
          1979,
          1980,
          1981,
          1982,
          1983,
          1984,
          1985,
          1986,
          1988,
          1989,
          1990,
          1991,
          1992,
          1994,
          1995,
          1996,
          1997,
          1998,
          1999,
          2000,
          2001,
          2002,
          2003,
          2004,
          2005,
          2006,
          2007,
          2008,
          2009,
          2010,
          2011,
          2012,
          2013,
          2014,
          2015,
          2016,
          2017
         ],
         "xaxis": "x",
         "y": [
          0,
          2,
          1,
          29,
          62,
          71,
          21,
          1,
          0,
          0,
          0,
          0,
          10,
          35,
          22,
          11,
          39,
          17,
          19,
          10,
          18,
          4,
          0,
          7,
          11,
          16,
          6,
          32,
          130,
          192,
          264,
          166,
          269,
          154,
          152,
          209,
          255,
          192,
          116,
          120,
          72
         ],
         "yaxis": "y"
        },
        {
         "hovertemplate": "pays=Togo<br>années=%{x}<br>nombre de morts=%{y}<extra></extra>",
         "legendgroup": "Togo",
         "line": {
          "color": "#636efa",
          "dash": "solid"
         },
         "marker": {
          "symbol": "circle"
         },
         "mode": "lines",
         "name": "Togo",
         "showlegend": true,
         "type": "scattergl",
         "x": [
          1985,
          1991,
          1992,
          1994,
          1995,
          1996,
          2005
         ],
         "xaxis": "x",
         "y": [
          1,
          13,
          12,
          47,
          0,
          3,
          0
         ],
         "yaxis": "y"
        },
        {
         "hovertemplate": "pays=Trinidad and Tobago<br>années=%{x}<br>nombre de morts=%{y}<extra></extra>",
         "legendgroup": "Trinidad and Tobago",
         "line": {
          "color": "#EF553B",
          "dash": "solid"
         },
         "marker": {
          "symbol": "circle"
         },
         "mode": "lines",
         "name": "Trinidad and Tobago",
         "showlegend": true,
         "type": "scattergl",
         "x": [
          1976,
          1979,
          1981,
          1983,
          1989,
          1991,
          1992,
          1994,
          1995,
          1996,
          2005,
          2010,
          2013,
          2015
         ],
         "xaxis": "x",
         "y": [
          0,
          0,
          0,
          0,
          0,
          0,
          0,
          2,
          4,
          0,
          0,
          0,
          0,
          0
         ],
         "yaxis": "y"
        },
        {
         "hovertemplate": "pays=Tunisia<br>années=%{x}<br>nombre de morts=%{y}<extra></extra>",
         "legendgroup": "Tunisia",
         "line": {
          "color": "#00cc96",
          "dash": "solid"
         },
         "marker": {
          "symbol": "circle"
         },
         "mode": "lines",
         "name": "Tunisia",
         "showlegend": true,
         "type": "scattergl",
         "x": [
          1979,
          1980,
          1986,
          1987,
          1991,
          1994,
          1995,
          2000,
          2001,
          2002,
          2007,
          2008,
          2011,
          2012,
          2013,
          2014,
          2015,
          2016,
          2017
         ],
         "xaxis": "x",
         "y": [
          0,
          41,
          0,
          0,
          4,
          1,
          7,
          5,
          3,
          21,
          14,
          0,
          4,
          4,
          25,
          43,
          103,
          71,
          5
         ],
         "yaxis": "y"
        },
        {
         "hovertemplate": "pays=Turkey<br>années=%{x}<br>nombre de morts=%{y}<extra></extra>",
         "legendgroup": "Turkey",
         "line": {
          "color": "#ab63fa",
          "dash": "solid"
         },
         "marker": {
          "symbol": "circle"
         },
         "mode": "lines",
         "name": "Turkey",
         "showlegend": true,
         "type": "scattergl",
         "x": [
          1970,
          1971,
          1972,
          1974,
          1975,
          1976,
          1977,
          1978,
          1979,
          1980,
          1981,
          1982,
          1983,
          1984,
          1985,
          1986,
          1987,
          1988,
          1989,
          1990,
          1991,
          1992,
          1994,
          1995,
          1996,
          1997,
          1998,
          1999,
          2000,
          2001,
          2002,
          2003,
          2004,
          2005,
          2006,
          2007,
          2008,
          2009,
          2010,
          2011,
          2012,
          2013,
          2014,
          2015,
          2016,
          2017
         ],
         "xaxis": "x",
         "y": [
          0,
          1,
          3,
          0,
          0,
          7,
          29,
          34,
          123,
          102,
          11,
          9,
          2,
          27,
          1,
          26,
          187,
          102,
          232,
          512,
          308,
          1233,
          951,
          189,
          117,
          60,
          37,
          127,
          9,
          17,
          0,
          67,
          25,
          35,
          46,
          25,
          42,
          18,
          13,
          25,
          247,
          83,
          39,
          490,
          1006,
          222
         ],
         "yaxis": "y"
        },
        {
         "hovertemplate": "pays=Turkmenistan<br>années=%{x}<br>nombre de morts=%{y}<extra></extra>",
         "legendgroup": "Turkmenistan",
         "line": {
          "color": "#FFA15A",
          "dash": "solid"
         },
         "marker": {
          "symbol": "circle"
         },
         "mode": "lines",
         "name": "Turkmenistan",
         "showlegend": true,
         "type": "scattergl",
         "x": [
          2002,
          2014
         ],
         "xaxis": "x",
         "y": [
          0,
          3
         ],
         "yaxis": "y"
        },
        {
         "hovertemplate": "pays=Uganda<br>années=%{x}<br>nombre de morts=%{y}<extra></extra>",
         "legendgroup": "Uganda",
         "line": {
          "color": "#19d3f3",
          "dash": "solid"
         },
         "marker": {
          "symbol": "circle"
         },
         "mode": "lines",
         "name": "Uganda",
         "showlegend": true,
         "type": "scattergl",
         "x": [
          1979,
          1981,
          1982,
          1983,
          1984,
          1985,
          1986,
          1987,
          1988,
          1989,
          1990,
          1991,
          1992,
          1994,
          1995,
          1996,
          1997,
          1998,
          1999,
          2000,
          2001,
          2002,
          2003,
          2004,
          2005,
          2007,
          2008,
          2009,
          2010,
          2012,
          2014,
          2015,
          2016,
          2017
         ],
         "xaxis": "x",
         "y": [
          13,
          53,
          0,
          113,
          235,
          32,
          1,
          1,
          160,
          72,
          84,
          2,
          2,
          22,
          145,
          413,
          239,
          81,
          75,
          297,
          56,
          173,
          231,
          193,
          80,
          2,
          3,
          11,
          75,
          5,
          98,
          4,
          75,
          7
         ],
         "yaxis": "y"
        },
        {
         "hovertemplate": "pays=Ukraine<br>années=%{x}<br>nombre de morts=%{y}<extra></extra>",
         "legendgroup": "Ukraine",
         "line": {
          "color": "#FF6692",
          "dash": "solid"
         },
         "marker": {
          "symbol": "circle"
         },
         "mode": "lines",
         "name": "Ukraine",
         "showlegend": true,
         "type": "scattergl",
         "x": [
          1991,
          1992,
          1994,
          1995,
          1996,
          1997,
          1999,
          2000,
          2002,
          2003,
          2007,
          2008,
          2009,
          2010,
          2011,
          2012,
          2013,
          2014,
          2015,
          2016,
          2017
         ],
         "xaxis": "x",
         "y": [
          0,
          1,
          4,
          0,
          0,
          2,
          1,
          0,
          1,
          0,
          0,
          0,
          0,
          1,
          0,
          1,
          1,
          1396,
          765,
          48,
          40
         ],
         "yaxis": "y"
        },
        {
         "hovertemplate": "pays=United Arab Emirates<br>années=%{x}<br>nombre de morts=%{y}<extra></extra>",
         "legendgroup": "United Arab Emirates",
         "line": {
          "color": "#B6E880",
          "dash": "solid"
         },
         "marker": {
          "symbol": "circle"
         },
         "mode": "lines",
         "name": "United Arab Emirates",
         "showlegend": true,
         "type": "scattergl",
         "x": [
          1974,
          1977,
          1979,
          1980,
          1981,
          1983,
          1985,
          1986,
          1989,
          1992,
          1995,
          2010,
          2013,
          2014
         ],
         "xaxis": "x",
         "y": [
          1,
          1,
          0,
          1,
          2,
          111,
          0,
          0,
          1,
          0,
          0,
          0,
          0,
          1
         ],
         "yaxis": "y"
        },
        {
         "hovertemplate": "pays=United Kingdom<br>années=%{x}<br>nombre de morts=%{y}<extra></extra>",
         "legendgroup": "United Kingdom",
         "line": {
          "color": "#FF97FF",
          "dash": "solid"
         },
         "marker": {
          "symbol": "circle"
         },
         "mode": "lines",
         "name": "United Kingdom",
         "showlegend": true,
         "type": "scattergl",
         "x": [
          1970,
          1971,
          1972,
          1973,
          1974,
          1975,
          1976,
          1977,
          1978,
          1979,
          1980,
          1981,
          1982,
          1983,
          1984,
          1985,
          1986,
          1987,
          1988,
          1989,
          1990,
          1991,
          1992,
          1994,
          1995,
          1996,
          1997,
          1998,
          1999,
          2000,
          2001,
          2002,
          2003,
          2004,
          2005,
          2006,
          2007,
          2008,
          2009,
          2010,
          2011,
          2012,
          2013,
          2014,
          2015,
          2016,
          2017
         ],
         "xaxis": "x",
         "y": [
          20,
          110,
          368,
          210,
          235,
          242,
          264,
          103,
          81,
          133,
          77,
          85,
          95,
          77,
          69,
          64,
          63,
          104,
          372,
          66,
          74,
          88,
          94,
          66,
          11,
          14,
          23,
          46,
          7,
          7,
          8,
          2,
          2,
          0,
          57,
          0,
          4,
          0,
          3,
          0,
          1,
          2,
          4,
          0,
          1,
          9,
          42
         ],
         "yaxis": "y"
        },
        {
         "hovertemplate": "pays=United States<br>années=%{x}<br>nombre de morts=%{y}<extra></extra>",
         "legendgroup": "United States",
         "line": {
          "color": "#FECB52",
          "dash": "solid"
         },
         "marker": {
          "symbol": "circle"
         },
         "mode": "lines",
         "name": "United States",
         "showlegend": true,
         "type": "scattergl",
         "x": [
          1970,
          1971,
          1972,
          1973,
          1974,
          1975,
          1976,
          1977,
          1978,
          1979,
          1980,
          1981,
          1982,
          1983,
          1984,
          1985,
          1986,
          1987,
          1988,
          1989,
          1990,
          1991,
          1992,
          1994,
          1995,
          1996,
          1997,
          1998,
          1999,
          2000,
          2001,
          2002,
          2003,
          2004,
          2005,
          2006,
          2007,
          2008,
          2009,
          2010,
          2011,
          2012,
          2013,
          2014,
          2015,
          2016,
          2017
         ],
         "xaxis": "x",
         "y": [
          33,
          20,
          10,
          45,
          16,
          24,
          4,
          4,
          8,
          18,
          14,
          8,
          11,
          8,
          3,
          3,
          1,
          1,
          1,
          3,
          5,
          2,
          2,
          10,
          178,
          2,
          2,
          4,
          20,
          0,
          3008,
          4,
          0,
          0,
          0,
          1,
          0,
          2,
          18,
          4,
          0,
          7,
          23,
          26,
          54,
          68,
          95
         ],
         "yaxis": "y"
        },
        {
         "hovertemplate": "pays=Uruguay<br>années=%{x}<br>nombre de morts=%{y}<extra></extra>",
         "legendgroup": "Uruguay",
         "line": {
          "color": "#636efa",
          "dash": "solid"
         },
         "marker": {
          "symbol": "circle"
         },
         "mode": "lines",
         "name": "Uruguay",
         "showlegend": true,
         "type": "scattergl",
         "x": [
          1970,
          1971,
          1972,
          1984,
          1985,
          1986,
          1989,
          1990,
          1991,
          1992,
          1994,
          1995,
          1996,
          1997,
          2005,
          2016
         ],
         "xaxis": "x",
         "y": [
          1,
          1,
          0,
          0,
          0,
          0,
          1,
          0,
          0,
          0,
          0,
          0,
          0,
          0,
          0,
          1
         ],
         "yaxis": "y"
        },
        {
         "hovertemplate": "pays=Uzbekistan<br>années=%{x}<br>nombre de morts=%{y}<extra></extra>",
         "legendgroup": "Uzbekistan",
         "line": {
          "color": "#EF553B",
          "dash": "solid"
         },
         "marker": {
          "symbol": "circle"
         },
         "mode": "lines",
         "name": "Uzbekistan",
         "showlegend": true,
         "type": "scattergl",
         "x": [
          1992,
          1995,
          1999,
          2004,
          2005,
          2009,
          2015
         ],
         "xaxis": "x",
         "y": [
          0,
          0,
          19,
          36,
          10,
          3,
          0
         ],
         "yaxis": "y"
        },
        {
         "hovertemplate": "pays=Vanuatu<br>années=%{x}<br>nombre de morts=%{y}<extra></extra>",
         "legendgroup": "Vanuatu",
         "line": {
          "color": "#00cc96",
          "dash": "solid"
         },
         "marker": {
          "symbol": "circle"
         },
         "mode": "lines",
         "name": "Vanuatu",
         "showlegend": true,
         "type": "scattergl",
         "x": [
          1996
         ],
         "xaxis": "x",
         "y": [
          0
         ],
         "yaxis": "y"
        },
        {
         "hovertemplate": "pays=Vatican City<br>années=%{x}<br>nombre de morts=%{y}<extra></extra>",
         "legendgroup": "Vatican City",
         "line": {
          "color": "#ab63fa",
          "dash": "solid"
         },
         "marker": {
          "symbol": "circle"
         },
         "mode": "lines",
         "name": "Vatican City",
         "showlegend": true,
         "type": "scattergl",
         "x": [
          1981
         ],
         "xaxis": "x",
         "y": [
          0
         ],
         "yaxis": "y"
        },
        {
         "hovertemplate": "pays=Venezuela<br>années=%{x}<br>nombre de morts=%{y}<extra></extra>",
         "legendgroup": "Venezuela",
         "line": {
          "color": "#FFA15A",
          "dash": "solid"
         },
         "marker": {
          "symbol": "circle"
         },
         "mode": "lines",
         "name": "Venezuela",
         "showlegend": true,
         "type": "scattergl",
         "x": [
          1970,
          1971,
          1972,
          1973,
          1974,
          1975,
          1976,
          1977,
          1978,
          1979,
          1980,
          1981,
          1982,
          1983,
          1984,
          1985,
          1986,
          1987,
          1988,
          1989,
          1990,
          1991,
          1992,
          1994,
          1995,
          1996,
          1997,
          1998,
          1999,
          2001,
          2002,
          2003,
          2007,
          2008,
          2009,
          2012,
          2013,
          2014,
          2015,
          2016,
          2017
         ],
         "xaxis": "x",
         "y": [
          0,
          0,
          0,
          0,
          0,
          0,
          0,
          1,
          1,
          0,
          3,
          2,
          30,
          7,
          2,
          0,
          13,
          3,
          41,
          14,
          0,
          47,
          7,
          4,
          8,
          13,
          3,
          0,
          0,
          0,
          0,
          0,
          1,
          1,
          10,
          0,
          0,
          1,
          1,
          9,
          5
         ],
         "yaxis": "y"
        },
        {
         "hovertemplate": "pays=Vietnam<br>années=%{x}<br>nombre de morts=%{y}<extra></extra>",
         "legendgroup": "Vietnam",
         "line": {
          "color": "#19d3f3",
          "dash": "solid"
         },
         "marker": {
          "symbol": "circle"
         },
         "mode": "lines",
         "name": "Vietnam",
         "showlegend": true,
         "type": "scattergl",
         "x": [
          1992,
          1994,
          1995,
          1996,
          1997,
          2001,
          2017
         ],
         "xaxis": "x",
         "y": [
          0,
          0,
          0,
          0,
          1,
          0,
          0
         ],
         "yaxis": "y"
        },
        {
         "hovertemplate": "pays=Wallis and Futuna<br>années=%{x}<br>nombre de morts=%{y}<extra></extra>",
         "legendgroup": "Wallis and Futuna",
         "line": {
          "color": "#FF6692",
          "dash": "solid"
         },
         "marker": {
          "symbol": "circle"
         },
         "mode": "lines",
         "name": "Wallis and Futuna",
         "showlegend": true,
         "type": "scattergl",
         "x": [
          1994
         ],
         "xaxis": "x",
         "y": [
          0
         ],
         "yaxis": "y"
        },
        {
         "hovertemplate": "pays=West Bank and Gaza Strip<br>années=%{x}<br>nombre de morts=%{y}<extra></extra>",
         "legendgroup": "West Bank and Gaza Strip",
         "line": {
          "color": "#B6E880",
          "dash": "solid"
         },
         "marker": {
          "symbol": "circle"
         },
         "mode": "lines",
         "name": "West Bank and Gaza Strip",
         "showlegend": true,
         "type": "scattergl",
         "x": [
          1972,
          1976,
          1978,
          1979,
          1980,
          1981,
          1982,
          1983,
          1984,
          1985,
          1986,
          1987,
          1988,
          1989,
          1990,
          1991,
          1992,
          1994,
          1995,
          1996,
          1997,
          1998,
          1999,
          2000,
          2001,
          2002,
          2003,
          2004,
          2005,
          2006,
          2007,
          2008,
          2009,
          2010,
          2011,
          2012,
          2013,
          2014,
          2015,
          2016,
          2017
         ],
         "xaxis": "x",
         "y": [
          1,
          2,
          6,
          1,
          31,
          6,
          7,
          9,
          5,
          0,
          4,
          3,
          10,
          72,
          62,
          43,
          93,
          129,
          43,
          17,
          9,
          12,
          1,
          21,
          105,
          176,
          60,
          31,
          20,
          18,
          112,
          17,
          7,
          0,
          15,
          12,
          12,
          67,
          117,
          90,
          50
         ],
         "yaxis": "y"
        },
        {
         "hovertemplate": "pays=West Germany (FRG)<br>années=%{x}<br>nombre de morts=%{y}<extra></extra>",
         "legendgroup": "West Germany (FRG)",
         "line": {
          "color": "#FF97FF",
          "dash": "solid"
         },
         "marker": {
          "symbol": "circle"
         },
         "mode": "lines",
         "name": "West Germany (FRG)",
         "showlegend": true,
         "type": "scattergl",
         "x": [
          1970,
          1971,
          1972,
          1973,
          1974,
          1975,
          1976,
          1977,
          1978,
          1979,
          1980,
          1981,
          1982,
          1983,
          1984,
          1985,
          1986,
          1987,
          1988,
          1989,
          1990
         ],
         "xaxis": "x",
         "y": [
          8,
          0,
          23,
          1,
          1,
          1,
          4,
          6,
          0,
          0,
          17,
          2,
          5,
          2,
          0,
          9,
          9,
          2,
          1,
          5,
          1
         ],
         "yaxis": "y"
        },
        {
         "hovertemplate": "pays=Western Sahara<br>années=%{x}<br>nombre de morts=%{y}<extra></extra>",
         "legendgroup": "Western Sahara",
         "line": {
          "color": "#FECB52",
          "dash": "solid"
         },
         "marker": {
          "symbol": "circle"
         },
         "mode": "lines",
         "name": "Western Sahara",
         "showlegend": true,
         "type": "scattergl",
         "x": [
          1978,
          1984,
          1986,
          1992,
          2007
         ],
         "xaxis": "x",
         "y": [
          0,
          0,
          1,
          0,
          0
         ],
         "yaxis": "y"
        },
        {
         "hovertemplate": "pays=Yemen<br>années=%{x}<br>nombre de morts=%{y}<extra></extra>",
         "legendgroup": "Yemen",
         "line": {
          "color": "#636efa",
          "dash": "solid"
         },
         "marker": {
          "symbol": "circle"
         },
         "mode": "lines",
         "name": "Yemen",
         "showlegend": true,
         "type": "scattergl",
         "x": [
          1991,
          1992,
          1994,
          1995,
          1996,
          1997,
          1998,
          1999,
          2000,
          2001,
          2002,
          2003,
          2005,
          2006,
          2007,
          2008,
          2009,
          2010,
          2011,
          2012,
          2013,
          2014,
          2015,
          2016,
          2017
         ],
         "xaxis": "x",
         "y": [
          0,
          20,
          14,
          4,
          3,
          11,
          8,
          11,
          19,
          2,
          4,
          16,
          12,
          14,
          24,
          74,
          47,
          345,
          461,
          1056,
          624,
          1353,
          2374,
          1517,
          762
         ],
         "yaxis": "y"
        },
        {
         "hovertemplate": "pays=Yugoslavia<br>années=%{x}<br>nombre de morts=%{y}<extra></extra>",
         "legendgroup": "Yugoslavia",
         "line": {
          "color": "#EF553B",
          "dash": "solid"
         },
         "marker": {
          "symbol": "circle"
         },
         "mode": "lines",
         "name": "Yugoslavia",
         "showlegend": true,
         "type": "scattergl",
         "x": [
          1973,
          1974,
          1977,
          1980,
          1981,
          1983,
          1984,
          1989,
          1990,
          1991,
          1992,
          1994,
          1995,
          1996,
          1997,
          1998,
          1999,
          2000,
          2001,
          2002
         ],
         "xaxis": "x",
         "y": [
          1,
          0,
          1,
          0,
          0,
          2,
          2,
          0,
          0,
          6,
          3,
          0,
          2,
          9,
          9,
          57,
          14,
          5,
          8,
          0
         ],
         "yaxis": "y"
        },
        {
         "hovertemplate": "pays=Zaire<br>années=%{x}<br>nombre de morts=%{y}<extra></extra>",
         "legendgroup": "Zaire",
         "line": {
          "color": "#00cc96",
          "dash": "solid"
         },
         "marker": {
          "symbol": "circle"
         },
         "mode": "lines",
         "name": "Zaire",
         "showlegend": true,
         "type": "scattergl",
         "x": [
          1972,
          1973,
          1977,
          1984,
          1988,
          1991,
          1992,
          1994,
          1995,
          1996,
          1997
         ],
         "xaxis": "x",
         "y": [
          0,
          0,
          1,
          2,
          28,
          3,
          2,
          1,
          43,
          223,
          13
         ],
         "yaxis": "y"
        },
        {
         "hovertemplate": "pays=Zambia<br>années=%{x}<br>nombre de morts=%{y}<extra></extra>",
         "legendgroup": "Zambia",
         "line": {
          "color": "#ab63fa",
          "dash": "solid"
         },
         "marker": {
          "symbol": "circle"
         },
         "mode": "lines",
         "name": "Zambia",
         "showlegend": true,
         "type": "scattergl",
         "x": [
          1971,
          1973,
          1975,
          1977,
          1978,
          1979,
          1981,
          1985,
          1986,
          1987,
          1988,
          1989,
          1990,
          1995,
          1996,
          1999,
          2000,
          2002,
          2017
         ],
         "xaxis": "x",
         "y": [
          1,
          2,
          1,
          1,
          0,
          0,
          0,
          0,
          2,
          0,
          9,
          33,
          20,
          0,
          0,
          1,
          0,
          0,
          0
         ],
         "yaxis": "y"
        },
        {
         "hovertemplate": "pays=Zimbabwe<br>années=%{x}<br>nombre de morts=%{y}<extra></extra>",
         "legendgroup": "Zimbabwe",
         "line": {
          "color": "#FFA15A",
          "dash": "solid"
         },
         "marker": {
          "symbol": "circle"
         },
         "mode": "lines",
         "name": "Zimbabwe",
         "showlegend": true,
         "type": "scattergl",
         "x": [
          1980,
          1981,
          1982,
          1983,
          1984,
          1985,
          1986,
          1987,
          1988,
          1989,
          1990,
          1991,
          1992,
          1994,
          1995,
          2000,
          2001,
          2002,
          2003,
          2006,
          2007,
          2008,
          2010,
          2011,
          2013,
          2014,
          2017
         ],
         "xaxis": "x",
         "y": [
          13,
          13,
          22,
          11,
          4,
          5,
          1,
          35,
          2,
          21,
          9,
          0,
          0,
          0,
          0,
          0,
          0,
          8,
          0,
          0,
          0,
          7,
          1,
          0,
          1,
          0,
          0
         ],
         "yaxis": "y"
        }
       ],
       "layout": {
        "legend": {
         "title": {
          "text": "pays"
         },
         "tracegroupgap": 0
        },
        "margin": {
         "t": 60
        },
        "template": {
         "data": {
          "bar": [
           {
            "error_x": {
             "color": "#2a3f5f"
            },
            "error_y": {
             "color": "#2a3f5f"
            },
            "marker": {
             "line": {
              "color": "#E5ECF6",
              "width": 0.5
             },
             "pattern": {
              "fillmode": "overlay",
              "size": 10,
              "solidity": 0.2
             }
            },
            "type": "bar"
           }
          ],
          "barpolar": [
           {
            "marker": {
             "line": {
              "color": "#E5ECF6",
              "width": 0.5
             },
             "pattern": {
              "fillmode": "overlay",
              "size": 10,
              "solidity": 0.2
             }
            },
            "type": "barpolar"
           }
          ],
          "carpet": [
           {
            "aaxis": {
             "endlinecolor": "#2a3f5f",
             "gridcolor": "white",
             "linecolor": "white",
             "minorgridcolor": "white",
             "startlinecolor": "#2a3f5f"
            },
            "baxis": {
             "endlinecolor": "#2a3f5f",
             "gridcolor": "white",
             "linecolor": "white",
             "minorgridcolor": "white",
             "startlinecolor": "#2a3f5f"
            },
            "type": "carpet"
           }
          ],
          "choropleth": [
           {
            "colorbar": {
             "outlinewidth": 0,
             "ticks": ""
            },
            "type": "choropleth"
           }
          ],
          "contour": [
           {
            "colorbar": {
             "outlinewidth": 0,
             "ticks": ""
            },
            "colorscale": [
             [
              0,
              "#0d0887"
             ],
             [
              0.1111111111111111,
              "#46039f"
             ],
             [
              0.2222222222222222,
              "#7201a8"
             ],
             [
              0.3333333333333333,
              "#9c179e"
             ],
             [
              0.4444444444444444,
              "#bd3786"
             ],
             [
              0.5555555555555556,
              "#d8576b"
             ],
             [
              0.6666666666666666,
              "#ed7953"
             ],
             [
              0.7777777777777778,
              "#fb9f3a"
             ],
             [
              0.8888888888888888,
              "#fdca26"
             ],
             [
              1,
              "#f0f921"
             ]
            ],
            "type": "contour"
           }
          ],
          "contourcarpet": [
           {
            "colorbar": {
             "outlinewidth": 0,
             "ticks": ""
            },
            "type": "contourcarpet"
           }
          ],
          "heatmap": [
           {
            "colorbar": {
             "outlinewidth": 0,
             "ticks": ""
            },
            "colorscale": [
             [
              0,
              "#0d0887"
             ],
             [
              0.1111111111111111,
              "#46039f"
             ],
             [
              0.2222222222222222,
              "#7201a8"
             ],
             [
              0.3333333333333333,
              "#9c179e"
             ],
             [
              0.4444444444444444,
              "#bd3786"
             ],
             [
              0.5555555555555556,
              "#d8576b"
             ],
             [
              0.6666666666666666,
              "#ed7953"
             ],
             [
              0.7777777777777778,
              "#fb9f3a"
             ],
             [
              0.8888888888888888,
              "#fdca26"
             ],
             [
              1,
              "#f0f921"
             ]
            ],
            "type": "heatmap"
           }
          ],
          "heatmapgl": [
           {
            "colorbar": {
             "outlinewidth": 0,
             "ticks": ""
            },
            "colorscale": [
             [
              0,
              "#0d0887"
             ],
             [
              0.1111111111111111,
              "#46039f"
             ],
             [
              0.2222222222222222,
              "#7201a8"
             ],
             [
              0.3333333333333333,
              "#9c179e"
             ],
             [
              0.4444444444444444,
              "#bd3786"
             ],
             [
              0.5555555555555556,
              "#d8576b"
             ],
             [
              0.6666666666666666,
              "#ed7953"
             ],
             [
              0.7777777777777778,
              "#fb9f3a"
             ],
             [
              0.8888888888888888,
              "#fdca26"
             ],
             [
              1,
              "#f0f921"
             ]
            ],
            "type": "heatmapgl"
           }
          ],
          "histogram": [
           {
            "marker": {
             "pattern": {
              "fillmode": "overlay",
              "size": 10,
              "solidity": 0.2
             }
            },
            "type": "histogram"
           }
          ],
          "histogram2d": [
           {
            "colorbar": {
             "outlinewidth": 0,
             "ticks": ""
            },
            "colorscale": [
             [
              0,
              "#0d0887"
             ],
             [
              0.1111111111111111,
              "#46039f"
             ],
             [
              0.2222222222222222,
              "#7201a8"
             ],
             [
              0.3333333333333333,
              "#9c179e"
             ],
             [
              0.4444444444444444,
              "#bd3786"
             ],
             [
              0.5555555555555556,
              "#d8576b"
             ],
             [
              0.6666666666666666,
              "#ed7953"
             ],
             [
              0.7777777777777778,
              "#fb9f3a"
             ],
             [
              0.8888888888888888,
              "#fdca26"
             ],
             [
              1,
              "#f0f921"
             ]
            ],
            "type": "histogram2d"
           }
          ],
          "histogram2dcontour": [
           {
            "colorbar": {
             "outlinewidth": 0,
             "ticks": ""
            },
            "colorscale": [
             [
              0,
              "#0d0887"
             ],
             [
              0.1111111111111111,
              "#46039f"
             ],
             [
              0.2222222222222222,
              "#7201a8"
             ],
             [
              0.3333333333333333,
              "#9c179e"
             ],
             [
              0.4444444444444444,
              "#bd3786"
             ],
             [
              0.5555555555555556,
              "#d8576b"
             ],
             [
              0.6666666666666666,
              "#ed7953"
             ],
             [
              0.7777777777777778,
              "#fb9f3a"
             ],
             [
              0.8888888888888888,
              "#fdca26"
             ],
             [
              1,
              "#f0f921"
             ]
            ],
            "type": "histogram2dcontour"
           }
          ],
          "mesh3d": [
           {
            "colorbar": {
             "outlinewidth": 0,
             "ticks": ""
            },
            "type": "mesh3d"
           }
          ],
          "parcoords": [
           {
            "line": {
             "colorbar": {
              "outlinewidth": 0,
              "ticks": ""
             }
            },
            "type": "parcoords"
           }
          ],
          "pie": [
           {
            "automargin": true,
            "type": "pie"
           }
          ],
          "scatter": [
           {
            "fillpattern": {
             "fillmode": "overlay",
             "size": 10,
             "solidity": 0.2
            },
            "type": "scatter"
           }
          ],
          "scatter3d": [
           {
            "line": {
             "colorbar": {
              "outlinewidth": 0,
              "ticks": ""
             }
            },
            "marker": {
             "colorbar": {
              "outlinewidth": 0,
              "ticks": ""
             }
            },
            "type": "scatter3d"
           }
          ],
          "scattercarpet": [
           {
            "marker": {
             "colorbar": {
              "outlinewidth": 0,
              "ticks": ""
             }
            },
            "type": "scattercarpet"
           }
          ],
          "scattergeo": [
           {
            "marker": {
             "colorbar": {
              "outlinewidth": 0,
              "ticks": ""
             }
            },
            "type": "scattergeo"
           }
          ],
          "scattergl": [
           {
            "marker": {
             "colorbar": {
              "outlinewidth": 0,
              "ticks": ""
             }
            },
            "type": "scattergl"
           }
          ],
          "scattermapbox": [
           {
            "marker": {
             "colorbar": {
              "outlinewidth": 0,
              "ticks": ""
             }
            },
            "type": "scattermapbox"
           }
          ],
          "scatterpolar": [
           {
            "marker": {
             "colorbar": {
              "outlinewidth": 0,
              "ticks": ""
             }
            },
            "type": "scatterpolar"
           }
          ],
          "scatterpolargl": [
           {
            "marker": {
             "colorbar": {
              "outlinewidth": 0,
              "ticks": ""
             }
            },
            "type": "scatterpolargl"
           }
          ],
          "scatterternary": [
           {
            "marker": {
             "colorbar": {
              "outlinewidth": 0,
              "ticks": ""
             }
            },
            "type": "scatterternary"
           }
          ],
          "surface": [
           {
            "colorbar": {
             "outlinewidth": 0,
             "ticks": ""
            },
            "colorscale": [
             [
              0,
              "#0d0887"
             ],
             [
              0.1111111111111111,
              "#46039f"
             ],
             [
              0.2222222222222222,
              "#7201a8"
             ],
             [
              0.3333333333333333,
              "#9c179e"
             ],
             [
              0.4444444444444444,
              "#bd3786"
             ],
             [
              0.5555555555555556,
              "#d8576b"
             ],
             [
              0.6666666666666666,
              "#ed7953"
             ],
             [
              0.7777777777777778,
              "#fb9f3a"
             ],
             [
              0.8888888888888888,
              "#fdca26"
             ],
             [
              1,
              "#f0f921"
             ]
            ],
            "type": "surface"
           }
          ],
          "table": [
           {
            "cells": {
             "fill": {
              "color": "#EBF0F8"
             },
             "line": {
              "color": "white"
             }
            },
            "header": {
             "fill": {
              "color": "#C8D4E3"
             },
             "line": {
              "color": "white"
             }
            },
            "type": "table"
           }
          ]
         },
         "layout": {
          "annotationdefaults": {
           "arrowcolor": "#2a3f5f",
           "arrowhead": 0,
           "arrowwidth": 1
          },
          "autotypenumbers": "strict",
          "coloraxis": {
           "colorbar": {
            "outlinewidth": 0,
            "ticks": ""
           }
          },
          "colorscale": {
           "diverging": [
            [
             0,
             "#8e0152"
            ],
            [
             0.1,
             "#c51b7d"
            ],
            [
             0.2,
             "#de77ae"
            ],
            [
             0.3,
             "#f1b6da"
            ],
            [
             0.4,
             "#fde0ef"
            ],
            [
             0.5,
             "#f7f7f7"
            ],
            [
             0.6,
             "#e6f5d0"
            ],
            [
             0.7,
             "#b8e186"
            ],
            [
             0.8,
             "#7fbc41"
            ],
            [
             0.9,
             "#4d9221"
            ],
            [
             1,
             "#276419"
            ]
           ],
           "sequential": [
            [
             0,
             "#0d0887"
            ],
            [
             0.1111111111111111,
             "#46039f"
            ],
            [
             0.2222222222222222,
             "#7201a8"
            ],
            [
             0.3333333333333333,
             "#9c179e"
            ],
            [
             0.4444444444444444,
             "#bd3786"
            ],
            [
             0.5555555555555556,
             "#d8576b"
            ],
            [
             0.6666666666666666,
             "#ed7953"
            ],
            [
             0.7777777777777778,
             "#fb9f3a"
            ],
            [
             0.8888888888888888,
             "#fdca26"
            ],
            [
             1,
             "#f0f921"
            ]
           ],
           "sequentialminus": [
            [
             0,
             "#0d0887"
            ],
            [
             0.1111111111111111,
             "#46039f"
            ],
            [
             0.2222222222222222,
             "#7201a8"
            ],
            [
             0.3333333333333333,
             "#9c179e"
            ],
            [
             0.4444444444444444,
             "#bd3786"
            ],
            [
             0.5555555555555556,
             "#d8576b"
            ],
            [
             0.6666666666666666,
             "#ed7953"
            ],
            [
             0.7777777777777778,
             "#fb9f3a"
            ],
            [
             0.8888888888888888,
             "#fdca26"
            ],
            [
             1,
             "#f0f921"
            ]
           ]
          },
          "colorway": [
           "#636efa",
           "#EF553B",
           "#00cc96",
           "#ab63fa",
           "#FFA15A",
           "#19d3f3",
           "#FF6692",
           "#B6E880",
           "#FF97FF",
           "#FECB52"
          ],
          "font": {
           "color": "#2a3f5f"
          },
          "geo": {
           "bgcolor": "white",
           "lakecolor": "white",
           "landcolor": "#E5ECF6",
           "showlakes": true,
           "showland": true,
           "subunitcolor": "white"
          },
          "hoverlabel": {
           "align": "left"
          },
          "hovermode": "closest",
          "mapbox": {
           "style": "light"
          },
          "paper_bgcolor": "white",
          "plot_bgcolor": "#E5ECF6",
          "polar": {
           "angularaxis": {
            "gridcolor": "white",
            "linecolor": "white",
            "ticks": ""
           },
           "bgcolor": "#E5ECF6",
           "radialaxis": {
            "gridcolor": "white",
            "linecolor": "white",
            "ticks": ""
           }
          },
          "scene": {
           "xaxis": {
            "backgroundcolor": "#E5ECF6",
            "gridcolor": "white",
            "gridwidth": 2,
            "linecolor": "white",
            "showbackground": true,
            "ticks": "",
            "zerolinecolor": "white"
           },
           "yaxis": {
            "backgroundcolor": "#E5ECF6",
            "gridcolor": "white",
            "gridwidth": 2,
            "linecolor": "white",
            "showbackground": true,
            "ticks": "",
            "zerolinecolor": "white"
           },
           "zaxis": {
            "backgroundcolor": "#E5ECF6",
            "gridcolor": "white",
            "gridwidth": 2,
            "linecolor": "white",
            "showbackground": true,
            "ticks": "",
            "zerolinecolor": "white"
           }
          },
          "shapedefaults": {
           "line": {
            "color": "#2a3f5f"
           }
          },
          "ternary": {
           "aaxis": {
            "gridcolor": "white",
            "linecolor": "white",
            "ticks": ""
           },
           "baxis": {
            "gridcolor": "white",
            "linecolor": "white",
            "ticks": ""
           },
           "bgcolor": "#E5ECF6",
           "caxis": {
            "gridcolor": "white",
            "linecolor": "white",
            "ticks": ""
           }
          },
          "title": {
           "x": 0.05
          },
          "xaxis": {
           "automargin": true,
           "gridcolor": "white",
           "linecolor": "white",
           "ticks": "",
           "title": {
            "standoff": 15
           },
           "zerolinecolor": "white",
           "zerolinewidth": 2
          },
          "yaxis": {
           "automargin": true,
           "gridcolor": "white",
           "linecolor": "white",
           "ticks": "",
           "title": {
            "standoff": 15
           },
           "zerolinecolor": "white",
           "zerolinewidth": 2
          }
         }
        },
        "xaxis": {
         "anchor": "y",
         "domain": [
          0,
          1
         ],
         "title": {
          "text": "années"
         }
        },
        "yaxis": {
         "anchor": "x",
         "domain": [
          0,
          1
         ],
         "title": {
          "text": "nombre de morts"
         }
        }
       }
      }
     },
     "metadata": {},
     "output_type": "display_data"
    }
   ],
   "source": [
    "px.line(df_pays_morts, x = \"années\", y = \"nombre de morts\", color = \"pays\")"
   ]
  },
  {
   "cell_type": "markdown",
   "metadata": {},
   "source": [
    "Analyse : Nous remarquons quelques pics sur le graphique. Notemment durant les années suivantes :\n",
    "\n",
    "- Entre 1980 et 1987 : Nous constatons que le terrorisme s'était plus profondément au niveau de certains pays d'Amérique du Sud comme El Salvador et Nicaragua (max morts = 3617);\n",
    "\n",
    "- En 1989 : Sri lanka avec 1822 morts ;\n",
    "\n",
    "- En 1994 : Rwanda avec 1571 morts ;\n",
    "\n",
    "- En 1997 : Algérie avec 4188 morts ;\n",
    "\n",
    "- En 2001 : Etats-Unis avec 3008 morts ;\n",
    "\n",
    "- En 2007 : Irak avec 6667 morts, Nous constatons une hausse pendant les prochaines années ;\n",
    "\n",
    "- En 2014 : Irak encore avec 13965 morts ;\n",
    "\n",
    "- En 2016 : Irak avec 12207 morts ;\n",
    "\n",
    "En tout l'Irak enregistre le plus grand nombre de morts."
   ]
  },
  {
   "cell_type": "markdown",
   "metadata": {},
   "source": [
    "## Visualiser le nombre de morts causés par des attaques terroristes par région et par année"
   ]
  },
  {
   "cell_type": "code",
   "execution_count": 23,
   "metadata": {},
   "outputs": [],
   "source": [
    "# créons un dataframe pour le nombre de morts par region et annee\n",
    "df_region_morts = cleaned_data_2.groupby(['region_txt', 'iyear'], as_index = False).sum('nkill') "
   ]
  },
  {
   "cell_type": "code",
   "execution_count": 24,
   "metadata": {},
   "outputs": [],
   "source": [
    "# renommons les colonnes qui nous intéresse \n",
    "df_region_morts.rename(columns={\"nkill\": \"nombre de morts\", \"region_txt\": \"région\", \"iyear\": \"années\"}, inplace=True)"
   ]
  },
  {
   "cell_type": "code",
   "execution_count": 25,
   "metadata": {},
   "outputs": [
    {
     "data": {
      "text/html": [
       "<div>\n",
       "<style scoped>\n",
       "    .dataframe tbody tr th:only-of-type {\n",
       "        vertical-align: middle;\n",
       "    }\n",
       "\n",
       "    .dataframe tbody tr th {\n",
       "        vertical-align: top;\n",
       "    }\n",
       "\n",
       "    .dataframe thead th {\n",
       "        text-align: right;\n",
       "    }\n",
       "</style>\n",
       "<table border=\"1\" class=\"dataframe\">\n",
       "  <thead>\n",
       "    <tr style=\"text-align: right;\">\n",
       "      <th></th>\n",
       "      <th>région</th>\n",
       "      <th>années</th>\n",
       "      <th>iday</th>\n",
       "      <th>imonth</th>\n",
       "      <th>nombre de morts</th>\n",
       "      <th>nwound</th>\n",
       "      <th>nkillus</th>\n",
       "      <th>nwoundus</th>\n",
       "      <th>latitude</th>\n",
       "      <th>longitude</th>\n",
       "      <th>suicide</th>\n",
       "      <th>ransompaid</th>\n",
       "      <th>nhostkid</th>\n",
       "      <th>nhours</th>\n",
       "      <th>ndays</th>\n",
       "      <th>ransompaidus</th>\n",
       "      <th>nhostkidus</th>\n",
       "      <th>propextent</th>\n",
       "      <th>propvalue</th>\n",
       "    </tr>\n",
       "  </thead>\n",
       "  <tbody>\n",
       "    <tr>\n",
       "      <th>0</th>\n",
       "      <td>Australasia &amp; Oceania</td>\n",
       "      <td>1970</td>\n",
       "      <td>21</td>\n",
       "      <td>10</td>\n",
       "      <td>0.0</td>\n",
       "      <td>0.0</td>\n",
       "      <td>0.0</td>\n",
       "      <td>0.0</td>\n",
       "      <td>-37.813187</td>\n",
       "      <td>144.962980</td>\n",
       "      <td>0</td>\n",
       "      <td>0.0</td>\n",
       "      <td>0.0</td>\n",
       "      <td>0.0</td>\n",
       "      <td>0.0</td>\n",
       "      <td>0.0</td>\n",
       "      <td>0.0</td>\n",
       "      <td>0.0</td>\n",
       "      <td>0.0</td>\n",
       "    </tr>\n",
       "    <tr>\n",
       "      <th>1</th>\n",
       "      <td>Australasia &amp; Oceania</td>\n",
       "      <td>1971</td>\n",
       "      <td>23</td>\n",
       "      <td>11</td>\n",
       "      <td>0.0</td>\n",
       "      <td>0.0</td>\n",
       "      <td>0.0</td>\n",
       "      <td>0.0</td>\n",
       "      <td>-33.873651</td>\n",
       "      <td>151.206890</td>\n",
       "      <td>0</td>\n",
       "      <td>0.0</td>\n",
       "      <td>0.0</td>\n",
       "      <td>0.0</td>\n",
       "      <td>0.0</td>\n",
       "      <td>0.0</td>\n",
       "      <td>0.0</td>\n",
       "      <td>4.0</td>\n",
       "      <td>0.0</td>\n",
       "    </tr>\n",
       "    <tr>\n",
       "      <th>2</th>\n",
       "      <td>Australasia &amp; Oceania</td>\n",
       "      <td>1972</td>\n",
       "      <td>175</td>\n",
       "      <td>75</td>\n",
       "      <td>1.0</td>\n",
       "      <td>0.0</td>\n",
       "      <td>1.0</td>\n",
       "      <td>0.0</td>\n",
       "      <td>-88.810686</td>\n",
       "      <td>457.256299</td>\n",
       "      <td>0</td>\n",
       "      <td>0.0</td>\n",
       "      <td>0.0</td>\n",
       "      <td>0.0</td>\n",
       "      <td>0.0</td>\n",
       "      <td>0.0</td>\n",
       "      <td>0.0</td>\n",
       "      <td>0.0</td>\n",
       "      <td>0.0</td>\n",
       "    </tr>\n",
       "    <tr>\n",
       "      <th>3</th>\n",
       "      <td>Australasia &amp; Oceania</td>\n",
       "      <td>1973</td>\n",
       "      <td>15</td>\n",
       "      <td>8</td>\n",
       "      <td>0.0</td>\n",
       "      <td>0.0</td>\n",
       "      <td>0.0</td>\n",
       "      <td>0.0</td>\n",
       "      <td>-43.532054</td>\n",
       "      <td>172.636225</td>\n",
       "      <td>0</td>\n",
       "      <td>0.0</td>\n",
       "      <td>0.0</td>\n",
       "      <td>0.0</td>\n",
       "      <td>0.0</td>\n",
       "      <td>0.0</td>\n",
       "      <td>0.0</td>\n",
       "      <td>0.0</td>\n",
       "      <td>0.0</td>\n",
       "    </tr>\n",
       "    <tr>\n",
       "      <th>4</th>\n",
       "      <td>Australasia &amp; Oceania</td>\n",
       "      <td>1974</td>\n",
       "      <td>24</td>\n",
       "      <td>12</td>\n",
       "      <td>0.0</td>\n",
       "      <td>0.0</td>\n",
       "      <td>0.0</td>\n",
       "      <td>0.0</td>\n",
       "      <td>-33.873651</td>\n",
       "      <td>151.206890</td>\n",
       "      <td>0</td>\n",
       "      <td>0.0</td>\n",
       "      <td>0.0</td>\n",
       "      <td>0.0</td>\n",
       "      <td>0.0</td>\n",
       "      <td>0.0</td>\n",
       "      <td>0.0</td>\n",
       "      <td>0.0</td>\n",
       "      <td>0.0</td>\n",
       "    </tr>\n",
       "  </tbody>\n",
       "</table>\n",
       "</div>"
      ],
      "text/plain": [
       "                  région  années  iday  imonth  nombre de morts  nwound  \\\n",
       "0  Australasia & Oceania    1970    21      10              0.0     0.0   \n",
       "1  Australasia & Oceania    1971    23      11              0.0     0.0   \n",
       "2  Australasia & Oceania    1972   175      75              1.0     0.0   \n",
       "3  Australasia & Oceania    1973    15       8              0.0     0.0   \n",
       "4  Australasia & Oceania    1974    24      12              0.0     0.0   \n",
       "\n",
       "   nkillus  nwoundus   latitude   longitude  suicide  ransompaid  nhostkid  \\\n",
       "0      0.0       0.0 -37.813187  144.962980        0         0.0       0.0   \n",
       "1      0.0       0.0 -33.873651  151.206890        0         0.0       0.0   \n",
       "2      1.0       0.0 -88.810686  457.256299        0         0.0       0.0   \n",
       "3      0.0       0.0 -43.532054  172.636225        0         0.0       0.0   \n",
       "4      0.0       0.0 -33.873651  151.206890        0         0.0       0.0   \n",
       "\n",
       "   nhours  ndays  ransompaidus  nhostkidus  propextent  propvalue  \n",
       "0     0.0    0.0           0.0         0.0         0.0        0.0  \n",
       "1     0.0    0.0           0.0         0.0         4.0        0.0  \n",
       "2     0.0    0.0           0.0         0.0         0.0        0.0  \n",
       "3     0.0    0.0           0.0         0.0         0.0        0.0  \n",
       "4     0.0    0.0           0.0         0.0         0.0        0.0  "
      ]
     },
     "execution_count": 25,
     "metadata": {},
     "output_type": "execute_result"
    }
   ],
   "source": [
    "df_region_morts.head()"
   ]
  },
  {
   "cell_type": "code",
   "execution_count": 26,
   "metadata": {},
   "outputs": [
    {
     "data": {
      "application/vnd.plotly.v1+json": {
       "config": {
        "plotlyServerURL": "https://plot.ly"
       },
       "data": [
        {
         "hovertemplate": "région=Australasia & Oceania<br>années=%{x}<br>nombre de morts=%{y}<extra></extra>",
         "legendgroup": "Australasia & Oceania",
         "line": {
          "color": "#636efa",
          "dash": "solid"
         },
         "marker": {
          "symbol": "circle"
         },
         "mode": "lines",
         "name": "Australasia & Oceania",
         "orientation": "v",
         "showlegend": true,
         "type": "scatter",
         "x": [
          1970,
          1971,
          1972,
          1973,
          1974,
          1978,
          1979,
          1980,
          1981,
          1982,
          1984,
          1985,
          1986,
          1987,
          1988,
          1989,
          1990,
          1991,
          1992,
          1994,
          1995,
          1996,
          1997,
          1998,
          1999,
          2000,
          2001,
          2002,
          2003,
          2006,
          2007,
          2008,
          2009,
          2010,
          2013,
          2014,
          2015,
          2016,
          2017
         ],
         "xaxis": "x",
         "y": [
          0,
          0,
          1,
          0,
          0,
          2,
          0,
          2,
          1,
          0,
          12,
          0,
          1,
          0,
          22,
          15,
          12,
          3,
          9,
          20,
          6,
          23,
          0,
          0,
          2,
          7,
          0,
          1,
          1,
          0,
          0,
          0,
          0,
          0,
          0,
          4,
          2,
          0,
          4
         ],
         "yaxis": "y"
        },
        {
         "hovertemplate": "région=Central America & Caribbean<br>années=%{x}<br>nombre de morts=%{y}<extra></extra>",
         "legendgroup": "Central America & Caribbean",
         "line": {
          "color": "#EF553B",
          "dash": "solid"
         },
         "marker": {
          "symbol": "circle"
         },
         "mode": "lines",
         "name": "Central America & Caribbean",
         "orientation": "v",
         "showlegend": true,
         "type": "scatter",
         "x": [
          1970,
          1971,
          1972,
          1973,
          1974,
          1975,
          1976,
          1977,
          1978,
          1979,
          1980,
          1981,
          1982,
          1983,
          1984,
          1985,
          1986,
          1987,
          1988,
          1989,
          1990,
          1991,
          1992,
          1994,
          1995,
          1996,
          1997,
          1998,
          1999,
          2000,
          2001,
          2002,
          2003,
          2004,
          2005,
          2006,
          2007,
          2009,
          2010,
          2011,
          2012,
          2013,
          2014,
          2015,
          2016,
          2017
         ],
         "xaxis": "x",
         "y": [
          3,
          0,
          0,
          0,
          0,
          36,
          83,
          36,
          162,
          475,
          2971,
          3142,
          3395,
          5550,
          5101,
          2734,
          755,
          1214,
          739,
          452,
          404,
          714,
          112,
          184,
          81,
          88,
          73,
          0,
          6,
          11,
          2,
          0,
          5,
          38,
          1,
          7,
          2,
          3,
          0,
          2,
          2,
          9,
          5,
          0,
          9,
          4
         ],
         "yaxis": "y"
        },
        {
         "hovertemplate": "région=Central Asia<br>années=%{x}<br>nombre de morts=%{y}<extra></extra>",
         "legendgroup": "Central Asia",
         "line": {
          "color": "#00cc96",
          "dash": "solid"
         },
         "marker": {
          "symbol": "circle"
         },
         "mode": "lines",
         "name": "Central Asia",
         "orientation": "v",
         "showlegend": true,
         "type": "scatter",
         "x": [
          1991,
          1992,
          1994,
          1995,
          1996,
          1997,
          1998,
          1999,
          2000,
          2001,
          2002,
          2003,
          2004,
          2005,
          2006,
          2007,
          2008,
          2009,
          2010,
          2011,
          2012,
          2013,
          2014,
          2015,
          2016,
          2017
         ],
         "xaxis": "x",
         "y": [
          28,
          318,
          122,
          94,
          56,
          81,
          61,
          35,
          18,
          16,
          3,
          1,
          36,
          18,
          6,
          1,
          20,
          10,
          8,
          13,
          6,
          2,
          5,
          13,
          21,
          6
         ],
         "yaxis": "y"
        },
        {
         "hovertemplate": "région=East Asia<br>années=%{x}<br>nombre de morts=%{y}<extra></extra>",
         "legendgroup": "East Asia",
         "line": {
          "color": "#ab63fa",
          "dash": "solid"
         },
         "marker": {
          "symbol": "circle"
         },
         "mode": "lines",
         "name": "East Asia",
         "orientation": "v",
         "showlegend": true,
         "type": "scatter",
         "x": [
          1970,
          1971,
          1973,
          1974,
          1975,
          1976,
          1978,
          1979,
          1980,
          1981,
          1982,
          1983,
          1984,
          1985,
          1986,
          1987,
          1988,
          1989,
          1990,
          1991,
          1992,
          1994,
          1995,
          1996,
          1997,
          1998,
          1999,
          2000,
          2001,
          2002,
          2003,
          2004,
          2005,
          2006,
          2008,
          2009,
          2010,
          2011,
          2012,
          2013,
          2014,
          2015,
          2016,
          2017
         ],
         "xaxis": "x",
         "y": [
          0,
          25,
          0,
          1,
          0,
          2,
          4,
          2,
          0,
          0,
          1,
          3,
          0,
          2,
          8,
          1,
          0,
          22,
          4,
          8,
          27,
          34,
          21,
          32,
          38,
          50,
          5,
          1,
          9,
          1,
          1,
          4,
          12,
          0,
          39,
          186,
          7,
          19,
          27,
          60,
          322,
          123,
          32,
          16
         ],
         "yaxis": "y"
        },
        {
         "hovertemplate": "région=Eastern Europe<br>années=%{x}<br>nombre de morts=%{y}<extra></extra>",
         "legendgroup": "Eastern Europe",
         "line": {
          "color": "#FFA15A",
          "dash": "solid"
         },
         "marker": {
          "symbol": "circle"
         },
         "mode": "lines",
         "name": "Eastern Europe",
         "orientation": "v",
         "showlegend": true,
         "type": "scatter",
         "x": [
          1970,
          1971,
          1972,
          1973,
          1974,
          1977,
          1978,
          1979,
          1980,
          1981,
          1982,
          1983,
          1984,
          1985,
          1986,
          1987,
          1988,
          1989,
          1990,
          1991,
          1992,
          1994,
          1995,
          1996,
          1997,
          1998,
          1999,
          2000,
          2001,
          2002,
          2003,
          2004,
          2005,
          2006,
          2007,
          2008,
          2009,
          2010,
          2011,
          2012,
          2013,
          2014,
          2015,
          2016,
          2017
         ],
         "xaxis": "x",
         "y": [
          0,
          0,
          26,
          1,
          1,
          1,
          4,
          0,
          0,
          0,
          2,
          2,
          3,
          2,
          1,
          0,
          0,
          6,
          59,
          273,
          110,
          49,
          158,
          167,
          115,
          109,
          440,
          402,
          293,
          518,
          337,
          608,
          158,
          59,
          57,
          101,
          143,
          232,
          174,
          179,
          151,
          1467,
          790,
          112,
          101
         ],
         "yaxis": "y"
        },
        {
         "hovertemplate": "région=Middle East & North Africa<br>années=%{x}<br>nombre de morts=%{y}<extra></extra>",
         "legendgroup": "Middle East & North Africa",
         "line": {
          "color": "#19d3f3",
          "dash": "solid"
         },
         "marker": {
          "symbol": "circle"
         },
         "mode": "lines",
         "name": "Middle East & North Africa",
         "orientation": "v",
         "showlegend": true,
         "type": "scatter",
         "x": [
          1970,
          1971,
          1972,
          1973,
          1974,
          1975,
          1976,
          1977,
          1978,
          1979,
          1980,
          1981,
          1982,
          1983,
          1984,
          1985,
          1986,
          1987,
          1988,
          1989,
          1990,
          1991,
          1992,
          1994,
          1995,
          1996,
          1997,
          1998,
          1999,
          2000,
          2001,
          2002,
          2003,
          2004,
          2005,
          2006,
          2007,
          2008,
          2009,
          2010,
          2011,
          2012,
          2013,
          2014,
          2015,
          2016,
          2017
         ],
         "xaxis": "x",
         "y": [
          1,
          4,
          33,
          7,
          81,
          60,
          45,
          43,
          659,
          359,
          429,
          758,
          577,
          750,
          148,
          723,
          408,
          581,
          365,
          480,
          778,
          541,
          1879,
          2034,
          1020,
          961,
          4613,
          1067,
          650,
          612,
          862,
          1174,
          1053,
          2556,
          3917,
          4986,
          7179,
          3464,
          2971,
          2654,
          2648,
          5033,
          10164,
          20080,
          17854,
          19205,
          10819
         ],
         "yaxis": "y"
        },
        {
         "hovertemplate": "région=North America<br>années=%{x}<br>nombre de morts=%{y}<extra></extra>",
         "legendgroup": "North America",
         "line": {
          "color": "#FF6692",
          "dash": "solid"
         },
         "marker": {
          "symbol": "circle"
         },
         "mode": "lines",
         "name": "North America",
         "orientation": "v",
         "showlegend": true,
         "type": "scatter",
         "x": [
          1970,
          1971,
          1972,
          1973,
          1974,
          1975,
          1976,
          1977,
          1978,
          1979,
          1980,
          1981,
          1982,
          1983,
          1984,
          1985,
          1986,
          1987,
          1988,
          1989,
          1990,
          1991,
          1992,
          1994,
          1995,
          1996,
          1997,
          1998,
          1999,
          2000,
          2001,
          2002,
          2003,
          2004,
          2005,
          2006,
          2007,
          2008,
          2009,
          2010,
          2011,
          2012,
          2013,
          2014,
          2015,
          2016,
          2017
         ],
         "xaxis": "x",
         "y": [
          34,
          20,
          11,
          46,
          18,
          56,
          30,
          15,
          13,
          23,
          17,
          8,
          13,
          8,
          16,
          334,
          1,
          1,
          3,
          18,
          8,
          15,
          8,
          98,
          240,
          98,
          231,
          8,
          20,
          5,
          3021,
          4,
          2,
          0,
          2,
          8,
          25,
          23,
          20,
          4,
          0,
          24,
          70,
          34,
          63,
          73,
          124
         ],
         "yaxis": "y"
        },
        {
         "hovertemplate": "région=South America<br>années=%{x}<br>nombre de morts=%{y}<extra></extra>",
         "legendgroup": "South America",
         "line": {
          "color": "#B6E880",
          "dash": "solid"
         },
         "marker": {
          "symbol": "circle"
         },
         "mode": "lines",
         "name": "South America",
         "orientation": "v",
         "showlegend": true,
         "type": "scatter",
         "x": [
          1970,
          1971,
          1972,
          1973,
          1974,
          1975,
          1976,
          1977,
          1978,
          1979,
          1980,
          1981,
          1982,
          1983,
          1984,
          1985,
          1986,
          1987,
          1988,
          1989,
          1990,
          1991,
          1992,
          1994,
          1995,
          1996,
          1997,
          1998,
          1999,
          2000,
          2001,
          2002,
          2003,
          2004,
          2005,
          2006,
          2007,
          2008,
          2009,
          2010,
          2011,
          2012,
          2013,
          2014,
          2015,
          2016,
          2017
         ],
         "xaxis": "x",
         "y": [
          9,
          6,
          6,
          16,
          21,
          129,
          133,
          45,
          92,
          183,
          206,
          402,
          668,
          2258,
          2885,
          1700,
          1351,
          1450,
          2024,
          2333,
          1860,
          2230,
          1536,
          406,
          650,
          725,
          1317,
          599,
          289,
          381,
          568,
          359,
          187,
          89,
          152,
          93,
          83,
          109,
          136,
          58,
          43,
          180,
          160,
          157,
          128,
          87,
          101
         ],
         "yaxis": "y"
        },
        {
         "hovertemplate": "région=South Asia<br>années=%{x}<br>nombre de morts=%{y}<extra></extra>",
         "legendgroup": "South Asia",
         "line": {
          "color": "#FF97FF",
          "dash": "solid"
         },
         "marker": {
          "symbol": "circle"
         },
         "mode": "lines",
         "name": "South Asia",
         "orientation": "v",
         "showlegend": true,
         "type": "scatter",
         "x": [
          1970,
          1972,
          1973,
          1974,
          1975,
          1976,
          1977,
          1978,
          1979,
          1980,
          1981,
          1982,
          1983,
          1984,
          1985,
          1986,
          1987,
          1988,
          1989,
          1990,
          1991,
          1992,
          1994,
          1995,
          1996,
          1997,
          1998,
          1999,
          2000,
          2001,
          2002,
          2003,
          2004,
          2005,
          2006,
          2007,
          2008,
          2009,
          2010,
          2011,
          2012,
          2013,
          2014,
          2015,
          2016,
          2017
         ],
         "xaxis": "x",
         "y": [
          4,
          0,
          0,
          0,
          6,
          1,
          0,
          5,
          92,
          40,
          37,
          69,
          75,
          664,
          668,
          1144,
          1980,
          2221,
          2893,
          2669,
          2515,
          2444,
          985,
          2133,
          1945,
          1815,
          1237,
          895,
          1372,
          1367,
          1271,
          802,
          1616,
          1365,
          2924,
          3673,
          3508,
          3564,
          3679,
          3706,
          6586,
          7070,
          8358,
          8300,
          7803,
          7664
         ],
         "yaxis": "y"
        },
        {
         "hovertemplate": "région=Southeast Asia<br>années=%{x}<br>nombre de morts=%{y}<extra></extra>",
         "legendgroup": "Southeast Asia",
         "line": {
          "color": "#FECB52",
          "dash": "solid"
         },
         "marker": {
          "symbol": "circle"
         },
         "mode": "lines",
         "name": "Southeast Asia",
         "orientation": "v",
         "showlegend": true,
         "type": "scatter",
         "x": [
          1970,
          1971,
          1972,
          1973,
          1974,
          1975,
          1976,
          1977,
          1978,
          1979,
          1980,
          1981,
          1982,
          1983,
          1984,
          1985,
          1986,
          1987,
          1988,
          1989,
          1990,
          1991,
          1992,
          1994,
          1995,
          1996,
          1997,
          1998,
          1999,
          2000,
          2001,
          2002,
          2003,
          2004,
          2005,
          2006,
          2007,
          2008,
          2009,
          2010,
          2011,
          2012,
          2013,
          2014,
          2015,
          2016,
          2017
         ],
         "xaxis": "x",
         "y": [
          40,
          0,
          84,
          0,
          5,
          1,
          47,
          102,
          158,
          255,
          235,
          201,
          130,
          118,
          263,
          458,
          337,
          396,
          662,
          606,
          562,
          566,
          673,
          389,
          312,
          270,
          335,
          54,
          123,
          458,
          306,
          396,
          354,
          281,
          266,
          258,
          390,
          403,
          481,
          321,
          299,
          453,
          723,
          702,
          646,
          639,
          811
         ],
         "yaxis": "y"
        },
        {
         "hovertemplate": "région=Sub-Saharan Africa<br>années=%{x}<br>nombre de morts=%{y}<extra></extra>",
         "legendgroup": "Sub-Saharan Africa",
         "line": {
          "color": "#636efa",
          "dash": "solid"
         },
         "marker": {
          "symbol": "circle"
         },
         "mode": "lines",
         "name": "Sub-Saharan Africa",
         "orientation": "v",
         "showlegend": true,
         "type": "scatter",
         "x": [
          1970,
          1971,
          1972,
          1973,
          1974,
          1975,
          1976,
          1977,
          1978,
          1979,
          1980,
          1981,
          1982,
          1983,
          1984,
          1985,
          1986,
          1987,
          1988,
          1989,
          1990,
          1991,
          1992,
          1994,
          1995,
          1996,
          1997,
          1998,
          1999,
          2000,
          2001,
          2002,
          2003,
          2004,
          2005,
          2006,
          2007,
          2008,
          2009,
          2010,
          2011,
          2012,
          2013,
          2014,
          2015,
          2016,
          2017
         ],
         "xaxis": "x",
         "y": [
          1,
          1,
          0,
          5,
          4,
          29,
          8,
          17,
          112,
          306,
          71,
          98,
          68,
          474,
          1022,
          211,
          799,
          648,
          735,
          1202,
          660,
          1347,
          2421,
          3232,
          1320,
          2556,
          2188,
          1437,
          882,
          1005,
          1166,
          1015,
          490,
          317,
          379,
          972,
          1383,
          1475,
          1731,
          810,
          1208,
          2996,
          3857,
          13351,
          10763,
          6652,
          6712
         ],
         "yaxis": "y"
        },
        {
         "hovertemplate": "région=Western Europe<br>années=%{x}<br>nombre de morts=%{y}<extra></extra>",
         "legendgroup": "Western Europe",
         "line": {
          "color": "#EF553B",
          "dash": "solid"
         },
         "marker": {
          "symbol": "circle"
         },
         "mode": "lines",
         "name": "Western Europe",
         "orientation": "v",
         "showlegend": true,
         "type": "scatter",
         "x": [
          1970,
          1971,
          1972,
          1973,
          1974,
          1975,
          1976,
          1977,
          1978,
          1979,
          1980,
          1981,
          1982,
          1983,
          1984,
          1985,
          1986,
          1987,
          1988,
          1989,
          1990,
          1991,
          1992,
          1994,
          1995,
          1996,
          1997,
          1998,
          1999,
          2000,
          2001,
          2002,
          2003,
          2004,
          2005,
          2006,
          2007,
          2008,
          2009,
          2010,
          2011,
          2012,
          2013,
          2014,
          2015,
          2016,
          2017
         ],
         "xaxis": "x",
         "y": [
          79,
          112,
          405,
          295,
          407,
          295,
          323,
          192,
          229,
          301,
          385,
          175,
          178,
          163,
          175,
          260,
          165,
          194,
          437,
          119,
          118,
          170,
          179,
          105,
          68,
          41,
          40,
          54,
          12,
          42,
          40,
          9,
          5,
          196,
          60,
          6,
          17,
          3,
          15,
          4,
          83,
          11,
          7,
          5,
          171,
          238,
          83
         ],
         "yaxis": "y"
        }
       ],
       "layout": {
        "legend": {
         "title": {
          "text": "région"
         },
         "tracegroupgap": 0
        },
        "margin": {
         "t": 60
        },
        "template": {
         "data": {
          "bar": [
           {
            "error_x": {
             "color": "#2a3f5f"
            },
            "error_y": {
             "color": "#2a3f5f"
            },
            "marker": {
             "line": {
              "color": "#E5ECF6",
              "width": 0.5
             },
             "pattern": {
              "fillmode": "overlay",
              "size": 10,
              "solidity": 0.2
             }
            },
            "type": "bar"
           }
          ],
          "barpolar": [
           {
            "marker": {
             "line": {
              "color": "#E5ECF6",
              "width": 0.5
             },
             "pattern": {
              "fillmode": "overlay",
              "size": 10,
              "solidity": 0.2
             }
            },
            "type": "barpolar"
           }
          ],
          "carpet": [
           {
            "aaxis": {
             "endlinecolor": "#2a3f5f",
             "gridcolor": "white",
             "linecolor": "white",
             "minorgridcolor": "white",
             "startlinecolor": "#2a3f5f"
            },
            "baxis": {
             "endlinecolor": "#2a3f5f",
             "gridcolor": "white",
             "linecolor": "white",
             "minorgridcolor": "white",
             "startlinecolor": "#2a3f5f"
            },
            "type": "carpet"
           }
          ],
          "choropleth": [
           {
            "colorbar": {
             "outlinewidth": 0,
             "ticks": ""
            },
            "type": "choropleth"
           }
          ],
          "contour": [
           {
            "colorbar": {
             "outlinewidth": 0,
             "ticks": ""
            },
            "colorscale": [
             [
              0,
              "#0d0887"
             ],
             [
              0.1111111111111111,
              "#46039f"
             ],
             [
              0.2222222222222222,
              "#7201a8"
             ],
             [
              0.3333333333333333,
              "#9c179e"
             ],
             [
              0.4444444444444444,
              "#bd3786"
             ],
             [
              0.5555555555555556,
              "#d8576b"
             ],
             [
              0.6666666666666666,
              "#ed7953"
             ],
             [
              0.7777777777777778,
              "#fb9f3a"
             ],
             [
              0.8888888888888888,
              "#fdca26"
             ],
             [
              1,
              "#f0f921"
             ]
            ],
            "type": "contour"
           }
          ],
          "contourcarpet": [
           {
            "colorbar": {
             "outlinewidth": 0,
             "ticks": ""
            },
            "type": "contourcarpet"
           }
          ],
          "heatmap": [
           {
            "colorbar": {
             "outlinewidth": 0,
             "ticks": ""
            },
            "colorscale": [
             [
              0,
              "#0d0887"
             ],
             [
              0.1111111111111111,
              "#46039f"
             ],
             [
              0.2222222222222222,
              "#7201a8"
             ],
             [
              0.3333333333333333,
              "#9c179e"
             ],
             [
              0.4444444444444444,
              "#bd3786"
             ],
             [
              0.5555555555555556,
              "#d8576b"
             ],
             [
              0.6666666666666666,
              "#ed7953"
             ],
             [
              0.7777777777777778,
              "#fb9f3a"
             ],
             [
              0.8888888888888888,
              "#fdca26"
             ],
             [
              1,
              "#f0f921"
             ]
            ],
            "type": "heatmap"
           }
          ],
          "heatmapgl": [
           {
            "colorbar": {
             "outlinewidth": 0,
             "ticks": ""
            },
            "colorscale": [
             [
              0,
              "#0d0887"
             ],
             [
              0.1111111111111111,
              "#46039f"
             ],
             [
              0.2222222222222222,
              "#7201a8"
             ],
             [
              0.3333333333333333,
              "#9c179e"
             ],
             [
              0.4444444444444444,
              "#bd3786"
             ],
             [
              0.5555555555555556,
              "#d8576b"
             ],
             [
              0.6666666666666666,
              "#ed7953"
             ],
             [
              0.7777777777777778,
              "#fb9f3a"
             ],
             [
              0.8888888888888888,
              "#fdca26"
             ],
             [
              1,
              "#f0f921"
             ]
            ],
            "type": "heatmapgl"
           }
          ],
          "histogram": [
           {
            "marker": {
             "pattern": {
              "fillmode": "overlay",
              "size": 10,
              "solidity": 0.2
             }
            },
            "type": "histogram"
           }
          ],
          "histogram2d": [
           {
            "colorbar": {
             "outlinewidth": 0,
             "ticks": ""
            },
            "colorscale": [
             [
              0,
              "#0d0887"
             ],
             [
              0.1111111111111111,
              "#46039f"
             ],
             [
              0.2222222222222222,
              "#7201a8"
             ],
             [
              0.3333333333333333,
              "#9c179e"
             ],
             [
              0.4444444444444444,
              "#bd3786"
             ],
             [
              0.5555555555555556,
              "#d8576b"
             ],
             [
              0.6666666666666666,
              "#ed7953"
             ],
             [
              0.7777777777777778,
              "#fb9f3a"
             ],
             [
              0.8888888888888888,
              "#fdca26"
             ],
             [
              1,
              "#f0f921"
             ]
            ],
            "type": "histogram2d"
           }
          ],
          "histogram2dcontour": [
           {
            "colorbar": {
             "outlinewidth": 0,
             "ticks": ""
            },
            "colorscale": [
             [
              0,
              "#0d0887"
             ],
             [
              0.1111111111111111,
              "#46039f"
             ],
             [
              0.2222222222222222,
              "#7201a8"
             ],
             [
              0.3333333333333333,
              "#9c179e"
             ],
             [
              0.4444444444444444,
              "#bd3786"
             ],
             [
              0.5555555555555556,
              "#d8576b"
             ],
             [
              0.6666666666666666,
              "#ed7953"
             ],
             [
              0.7777777777777778,
              "#fb9f3a"
             ],
             [
              0.8888888888888888,
              "#fdca26"
             ],
             [
              1,
              "#f0f921"
             ]
            ],
            "type": "histogram2dcontour"
           }
          ],
          "mesh3d": [
           {
            "colorbar": {
             "outlinewidth": 0,
             "ticks": ""
            },
            "type": "mesh3d"
           }
          ],
          "parcoords": [
           {
            "line": {
             "colorbar": {
              "outlinewidth": 0,
              "ticks": ""
             }
            },
            "type": "parcoords"
           }
          ],
          "pie": [
           {
            "automargin": true,
            "type": "pie"
           }
          ],
          "scatter": [
           {
            "fillpattern": {
             "fillmode": "overlay",
             "size": 10,
             "solidity": 0.2
            },
            "type": "scatter"
           }
          ],
          "scatter3d": [
           {
            "line": {
             "colorbar": {
              "outlinewidth": 0,
              "ticks": ""
             }
            },
            "marker": {
             "colorbar": {
              "outlinewidth": 0,
              "ticks": ""
             }
            },
            "type": "scatter3d"
           }
          ],
          "scattercarpet": [
           {
            "marker": {
             "colorbar": {
              "outlinewidth": 0,
              "ticks": ""
             }
            },
            "type": "scattercarpet"
           }
          ],
          "scattergeo": [
           {
            "marker": {
             "colorbar": {
              "outlinewidth": 0,
              "ticks": ""
             }
            },
            "type": "scattergeo"
           }
          ],
          "scattergl": [
           {
            "marker": {
             "colorbar": {
              "outlinewidth": 0,
              "ticks": ""
             }
            },
            "type": "scattergl"
           }
          ],
          "scattermapbox": [
           {
            "marker": {
             "colorbar": {
              "outlinewidth": 0,
              "ticks": ""
             }
            },
            "type": "scattermapbox"
           }
          ],
          "scatterpolar": [
           {
            "marker": {
             "colorbar": {
              "outlinewidth": 0,
              "ticks": ""
             }
            },
            "type": "scatterpolar"
           }
          ],
          "scatterpolargl": [
           {
            "marker": {
             "colorbar": {
              "outlinewidth": 0,
              "ticks": ""
             }
            },
            "type": "scatterpolargl"
           }
          ],
          "scatterternary": [
           {
            "marker": {
             "colorbar": {
              "outlinewidth": 0,
              "ticks": ""
             }
            },
            "type": "scatterternary"
           }
          ],
          "surface": [
           {
            "colorbar": {
             "outlinewidth": 0,
             "ticks": ""
            },
            "colorscale": [
             [
              0,
              "#0d0887"
             ],
             [
              0.1111111111111111,
              "#46039f"
             ],
             [
              0.2222222222222222,
              "#7201a8"
             ],
             [
              0.3333333333333333,
              "#9c179e"
             ],
             [
              0.4444444444444444,
              "#bd3786"
             ],
             [
              0.5555555555555556,
              "#d8576b"
             ],
             [
              0.6666666666666666,
              "#ed7953"
             ],
             [
              0.7777777777777778,
              "#fb9f3a"
             ],
             [
              0.8888888888888888,
              "#fdca26"
             ],
             [
              1,
              "#f0f921"
             ]
            ],
            "type": "surface"
           }
          ],
          "table": [
           {
            "cells": {
             "fill": {
              "color": "#EBF0F8"
             },
             "line": {
              "color": "white"
             }
            },
            "header": {
             "fill": {
              "color": "#C8D4E3"
             },
             "line": {
              "color": "white"
             }
            },
            "type": "table"
           }
          ]
         },
         "layout": {
          "annotationdefaults": {
           "arrowcolor": "#2a3f5f",
           "arrowhead": 0,
           "arrowwidth": 1
          },
          "autotypenumbers": "strict",
          "coloraxis": {
           "colorbar": {
            "outlinewidth": 0,
            "ticks": ""
           }
          },
          "colorscale": {
           "diverging": [
            [
             0,
             "#8e0152"
            ],
            [
             0.1,
             "#c51b7d"
            ],
            [
             0.2,
             "#de77ae"
            ],
            [
             0.3,
             "#f1b6da"
            ],
            [
             0.4,
             "#fde0ef"
            ],
            [
             0.5,
             "#f7f7f7"
            ],
            [
             0.6,
             "#e6f5d0"
            ],
            [
             0.7,
             "#b8e186"
            ],
            [
             0.8,
             "#7fbc41"
            ],
            [
             0.9,
             "#4d9221"
            ],
            [
             1,
             "#276419"
            ]
           ],
           "sequential": [
            [
             0,
             "#0d0887"
            ],
            [
             0.1111111111111111,
             "#46039f"
            ],
            [
             0.2222222222222222,
             "#7201a8"
            ],
            [
             0.3333333333333333,
             "#9c179e"
            ],
            [
             0.4444444444444444,
             "#bd3786"
            ],
            [
             0.5555555555555556,
             "#d8576b"
            ],
            [
             0.6666666666666666,
             "#ed7953"
            ],
            [
             0.7777777777777778,
             "#fb9f3a"
            ],
            [
             0.8888888888888888,
             "#fdca26"
            ],
            [
             1,
             "#f0f921"
            ]
           ],
           "sequentialminus": [
            [
             0,
             "#0d0887"
            ],
            [
             0.1111111111111111,
             "#46039f"
            ],
            [
             0.2222222222222222,
             "#7201a8"
            ],
            [
             0.3333333333333333,
             "#9c179e"
            ],
            [
             0.4444444444444444,
             "#bd3786"
            ],
            [
             0.5555555555555556,
             "#d8576b"
            ],
            [
             0.6666666666666666,
             "#ed7953"
            ],
            [
             0.7777777777777778,
             "#fb9f3a"
            ],
            [
             0.8888888888888888,
             "#fdca26"
            ],
            [
             1,
             "#f0f921"
            ]
           ]
          },
          "colorway": [
           "#636efa",
           "#EF553B",
           "#00cc96",
           "#ab63fa",
           "#FFA15A",
           "#19d3f3",
           "#FF6692",
           "#B6E880",
           "#FF97FF",
           "#FECB52"
          ],
          "font": {
           "color": "#2a3f5f"
          },
          "geo": {
           "bgcolor": "white",
           "lakecolor": "white",
           "landcolor": "#E5ECF6",
           "showlakes": true,
           "showland": true,
           "subunitcolor": "white"
          },
          "hoverlabel": {
           "align": "left"
          },
          "hovermode": "closest",
          "mapbox": {
           "style": "light"
          },
          "paper_bgcolor": "white",
          "plot_bgcolor": "#E5ECF6",
          "polar": {
           "angularaxis": {
            "gridcolor": "white",
            "linecolor": "white",
            "ticks": ""
           },
           "bgcolor": "#E5ECF6",
           "radialaxis": {
            "gridcolor": "white",
            "linecolor": "white",
            "ticks": ""
           }
          },
          "scene": {
           "xaxis": {
            "backgroundcolor": "#E5ECF6",
            "gridcolor": "white",
            "gridwidth": 2,
            "linecolor": "white",
            "showbackground": true,
            "ticks": "",
            "zerolinecolor": "white"
           },
           "yaxis": {
            "backgroundcolor": "#E5ECF6",
            "gridcolor": "white",
            "gridwidth": 2,
            "linecolor": "white",
            "showbackground": true,
            "ticks": "",
            "zerolinecolor": "white"
           },
           "zaxis": {
            "backgroundcolor": "#E5ECF6",
            "gridcolor": "white",
            "gridwidth": 2,
            "linecolor": "white",
            "showbackground": true,
            "ticks": "",
            "zerolinecolor": "white"
           }
          },
          "shapedefaults": {
           "line": {
            "color": "#2a3f5f"
           }
          },
          "ternary": {
           "aaxis": {
            "gridcolor": "white",
            "linecolor": "white",
            "ticks": ""
           },
           "baxis": {
            "gridcolor": "white",
            "linecolor": "white",
            "ticks": ""
           },
           "bgcolor": "#E5ECF6",
           "caxis": {
            "gridcolor": "white",
            "linecolor": "white",
            "ticks": ""
           }
          },
          "title": {
           "x": 0.05
          },
          "xaxis": {
           "automargin": true,
           "gridcolor": "white",
           "linecolor": "white",
           "ticks": "",
           "title": {
            "standoff": 15
           },
           "zerolinecolor": "white",
           "zerolinewidth": 2
          },
          "yaxis": {
           "automargin": true,
           "gridcolor": "white",
           "linecolor": "white",
           "ticks": "",
           "title": {
            "standoff": 15
           },
           "zerolinecolor": "white",
           "zerolinewidth": 2
          }
         }
        },
        "xaxis": {
         "anchor": "y",
         "domain": [
          0,
          1
         ],
         "title": {
          "text": "années"
         }
        },
        "yaxis": {
         "anchor": "x",
         "domain": [
          0,
          1
         ],
         "title": {
          "text": "nombre de morts"
         }
        }
       }
      }
     },
     "metadata": {},
     "output_type": "display_data"
    }
   ],
   "source": [
    "px.line(df_region_morts, x = \"années\", y = \"nombre de morts\", color = \"région\")"
   ]
  },
  {
   "cell_type": "code",
   "execution_count": null,
   "metadata": {},
   "outputs": [],
   "source": []
  }
 ],
 "metadata": {
  "interpreter": {
   "hash": "d9cb4fe90d1e8890f1d760e5203fc044f921dddd2ce0dfa0f0205b983aed132e"
  },
  "kernelspec": {
   "display_name": "Python 3.9.0 32-bit",
   "language": "python",
   "name": "python3"
  },
  "language_info": {
   "codemirror_mode": {
    "name": "ipython",
    "version": 3
   },
   "file_extension": ".py",
   "mimetype": "text/x-python",
   "name": "python",
   "nbconvert_exporter": "python",
   "pygments_lexer": "ipython3",
   "version": "3.9.0"
  },
  "orig_nbformat": 4
 },
 "nbformat": 4,
 "nbformat_minor": 2
}
