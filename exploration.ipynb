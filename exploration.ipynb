{
 "cells": [
  {
   "cell_type": "code",
   "execution_count": 42,
   "metadata": {},
   "outputs": [],
   "source": [
    "#from plotly import express, graph_objects"
   ]
  },
  {
   "cell_type": "code",
   "execution_count": 12,
   "metadata": {},
   "outputs": [
    {
     "name": "stdout",
     "output_type": "stream",
     "text": [
      "Defaulting to user installation because normal site-packages is not writeable\n",
      "Requirement already satisfied: matplotlib in c:\\users\\user\\appdata\\roaming\\python\\python39\\site-packages (3.5.2)\n",
      "Requirement already satisfied: cycler>=0.10 in c:\\users\\user\\appdata\\roaming\\python\\python39\\site-packages (from matplotlib) (0.11.0)\n",
      "Requirement already satisfied: packaging>=20.0 in c:\\users\\user\\appdata\\roaming\\python\\python39\\site-packages (from matplotlib) (21.3)\n",
      "Requirement already satisfied: fonttools>=4.22.0 in c:\\users\\user\\appdata\\roaming\\python\\python39\\site-packages (from matplotlib) (4.33.3)\n",
      "Requirement already satisfied: pyparsing>=2.2.1 in c:\\users\\user\\appdata\\roaming\\python\\python39\\site-packages (from matplotlib) (3.0.9)\n",
      "Requirement already satisfied: numpy>=1.17 in c:\\users\\user\\appdata\\roaming\\python\\python39\\site-packages (from matplotlib) (1.22.3)\n",
      "Requirement already satisfied: kiwisolver>=1.0.1 in c:\\users\\user\\appdata\\roaming\\python\\python39\\site-packages (from matplotlib) (1.4.2)\n",
      "Requirement already satisfied: pillow>=6.2.0 in c:\\users\\user\\appdata\\roaming\\python\\python39\\site-packages (from matplotlib) (9.1.0)\n",
      "Requirement already satisfied: python-dateutil>=2.7 in c:\\users\\user\\appdata\\roaming\\python\\python39\\site-packages (from matplotlib) (2.8.2)\n",
      "Requirement already satisfied: six>=1.5 in c:\\users\\user\\appdata\\roaming\\python\\python39\\site-packages (from python-dateutil>=2.7->matplotlib) (1.16.0)\n"
     ]
    }
   ],
   "source": [
    "! pip install matplotlib"
   ]
  },
  {
   "cell_type": "code",
   "execution_count": 65,
   "metadata": {},
   "outputs": [
    {
     "name": "stdout",
     "output_type": "stream",
     "text": [
      "Defaulting to user installation because normal site-packages is not writeable"
     ]
    },
    {
     "name": "stderr",
     "output_type": "stream",
     "text": [
      "  WARNING: The scripts fonttools.exe, pyftmerge.exe, pyftsubset.exe and ttx.exe are installed in 'C:\\Users\\USER\\AppData\\Roaming\\Python\\Python39\\Scripts' which is not on PATH.\n",
      "  Consider adding this directory to PATH or, if you prefer to suppress this warning, use --no-warn-script-location.\n"
     ]
    },
    {
     "name": "stdout",
     "output_type": "stream",
     "text": [
      "\n",
      "Collecting seaborn\n",
      "  Using cached seaborn-0.11.2-py3-none-any.whl (292 kB)\n",
      "Requirement already satisfied: pandas>=0.23 in c:\\users\\user\\appdata\\roaming\\python\\python39\\site-packages (from seaborn) (1.4.2)\n",
      "Requirement already satisfied: numpy>=1.15 in c:\\users\\user\\appdata\\roaming\\python\\python39\\site-packages (from seaborn) (1.22.3)\n",
      "Collecting scipy>=1.0\n",
      "  Using cached scipy-1.8.0-cp39-cp39-win_amd64.whl (36.9 MB)\n",
      "Collecting matplotlib>=2.2\n",
      "  Using cached matplotlib-3.5.2-cp39-cp39-win_amd64.whl (7.2 MB)\n",
      "Requirement already satisfied: python-dateutil>=2.7 in c:\\users\\user\\appdata\\roaming\\python\\python39\\site-packages (from matplotlib>=2.2->seaborn) (2.8.2)\n",
      "Collecting pillow>=6.2.0\n",
      "  Downloading Pillow-9.1.0-cp39-cp39-win_amd64.whl (3.3 MB)\n",
      "     ---------------------------------------- 3.3/3.3 MB 95.6 kB/s eta 0:00:00\n",
      "Requirement already satisfied: packaging>=20.0 in c:\\users\\user\\appdata\\roaming\\python\\python39\\site-packages (from matplotlib>=2.2->seaborn) (21.3)\n",
      "Requirement already satisfied: pyparsing>=2.2.1 in c:\\users\\user\\appdata\\roaming\\python\\python39\\site-packages (from matplotlib>=2.2->seaborn) (3.0.9)\n",
      "Collecting cycler>=0.10\n",
      "  Downloading cycler-0.11.0-py3-none-any.whl (6.4 kB)\n",
      "Collecting fonttools>=4.22.0\n",
      "  Using cached fonttools-4.33.3-py3-none-any.whl (930 kB)\n",
      "Collecting kiwisolver>=1.0.1\n",
      "  Using cached kiwisolver-1.4.2-cp39-cp39-win_amd64.whl (55 kB)\n",
      "Requirement already satisfied: pytz>=2020.1 in c:\\users\\user\\appdata\\roaming\\python\\python39\\site-packages (from pandas>=0.23->seaborn) (2022.1)\n",
      "Requirement already satisfied: six>=1.5 in c:\\users\\user\\appdata\\roaming\\python\\python39\\site-packages (from python-dateutil>=2.7->matplotlib>=2.2->seaborn) (1.16.0)\n",
      "Installing collected packages: scipy, pillow, kiwisolver, fonttools, cycler, matplotlib, seaborn\n",
      "Successfully installed cycler-0.11.0 fonttools-4.33.3 kiwisolver-1.4.2 matplotlib-3.5.2 pillow-9.1.0 scipy-1.8.0 seaborn-0.11.2\n"
     ]
    }
   ],
   "source": [
    "! pip install seaborn "
   ]
  },
  {
   "cell_type": "code",
   "execution_count": 4,
   "metadata": {},
   "outputs": [],
   "source": [
    "import pandas as pd\n",
    "import plotly.express as px\n",
    "import seaborn as sns"
   ]
  },
  {
   "cell_type": "code",
   "execution_count": 13,
   "metadata": {},
   "outputs": [],
   "source": [
    "import matplotlib.pyplot as plt"
   ]
  },
  {
   "cell_type": "code",
   "execution_count": 6,
   "metadata": {},
   "outputs": [],
   "source": [
    "cleaned_data = pd.read_csv(\"data/cleaned/terror.csv\")"
   ]
  },
  {
   "cell_type": "code",
   "execution_count": null,
   "metadata": {},
   "outputs": [
    {
     "data": {
      "text/html": [
       "<div>\n",
       "<style scoped>\n",
       "    .dataframe tbody tr th:only-of-type {\n",
       "        vertical-align: middle;\n",
       "    }\n",
       "\n",
       "    .dataframe tbody tr th {\n",
       "        vertical-align: top;\n",
       "    }\n",
       "\n",
       "    .dataframe thead th {\n",
       "        text-align: right;\n",
       "    }\n",
       "</style>\n",
       "<table border=\"1\" class=\"dataframe\">\n",
       "  <thead>\n",
       "    <tr style=\"text-align: right;\">\n",
       "      <th></th>\n",
       "      <th>iyear</th>\n",
       "      <th>iday</th>\n",
       "      <th>imonth</th>\n",
       "      <th>nkill</th>\n",
       "      <th>country_txt</th>\n",
       "      <th>nwound</th>\n",
       "      <th>region_txt</th>\n",
       "      <th>provstate</th>\n",
       "      <th>city</th>\n",
       "      <th>nkillus</th>\n",
       "      <th>...</th>\n",
       "      <th>targsubtype1_txt</th>\n",
       "      <th>targtype2_txt</th>\n",
       "      <th>targsubtype2_txt</th>\n",
       "      <th>targtype3_txt</th>\n",
       "      <th>targsubtype3_txt</th>\n",
       "      <th>claimmode_txt</th>\n",
       "      <th>propextent_txt</th>\n",
       "      <th>propextent</th>\n",
       "      <th>propvalue</th>\n",
       "      <th>dbsource</th>\n",
       "    </tr>\n",
       "  </thead>\n",
       "  <tbody>\n",
       "    <tr>\n",
       "      <th>0</th>\n",
       "      <td>1970</td>\n",
       "      <td>2</td>\n",
       "      <td>7</td>\n",
       "      <td>1.0</td>\n",
       "      <td>Dominican Republic</td>\n",
       "      <td>0.0</td>\n",
       "      <td>Central America &amp; Caribbean</td>\n",
       "      <td>''</td>\n",
       "      <td>Santo Domingo</td>\n",
       "      <td>0.0</td>\n",
       "      <td>...</td>\n",
       "      <td>Named Civilian</td>\n",
       "      <td>''</td>\n",
       "      <td>''</td>\n",
       "      <td>''</td>\n",
       "      <td>''</td>\n",
       "      <td>''</td>\n",
       "      <td>''</td>\n",
       "      <td>0.0</td>\n",
       "      <td>0.0</td>\n",
       "      <td>PGIS</td>\n",
       "    </tr>\n",
       "    <tr>\n",
       "      <th>1</th>\n",
       "      <td>1970</td>\n",
       "      <td>0</td>\n",
       "      <td>0</td>\n",
       "      <td>0.0</td>\n",
       "      <td>Mexico</td>\n",
       "      <td>0.0</td>\n",
       "      <td>North America</td>\n",
       "      <td>Federal</td>\n",
       "      <td>Mexico city</td>\n",
       "      <td>0.0</td>\n",
       "      <td>...</td>\n",
       "      <td>Diplomatic Personnel (outside of embassy, cons...</td>\n",
       "      <td>''</td>\n",
       "      <td>''</td>\n",
       "      <td>''</td>\n",
       "      <td>''</td>\n",
       "      <td>''</td>\n",
       "      <td>''</td>\n",
       "      <td>0.0</td>\n",
       "      <td>0.0</td>\n",
       "      <td>PGIS</td>\n",
       "    </tr>\n",
       "    <tr>\n",
       "      <th>2</th>\n",
       "      <td>1970</td>\n",
       "      <td>0</td>\n",
       "      <td>1</td>\n",
       "      <td>1.0</td>\n",
       "      <td>Philippines</td>\n",
       "      <td>0.0</td>\n",
       "      <td>Southeast Asia</td>\n",
       "      <td>Tarlac</td>\n",
       "      <td>Unknown</td>\n",
       "      <td>0.0</td>\n",
       "      <td>...</td>\n",
       "      <td>Radio Journalist/Staff/Facility</td>\n",
       "      <td>''</td>\n",
       "      <td>''</td>\n",
       "      <td>''</td>\n",
       "      <td>''</td>\n",
       "      <td>''</td>\n",
       "      <td>''</td>\n",
       "      <td>0.0</td>\n",
       "      <td>0.0</td>\n",
       "      <td>PGIS</td>\n",
       "    </tr>\n",
       "    <tr>\n",
       "      <th>3</th>\n",
       "      <td>1970</td>\n",
       "      <td>0</td>\n",
       "      <td>1</td>\n",
       "      <td>0.0</td>\n",
       "      <td>Greece</td>\n",
       "      <td>0.0</td>\n",
       "      <td>Western Europe</td>\n",
       "      <td>Attica</td>\n",
       "      <td>Athens</td>\n",
       "      <td>0.0</td>\n",
       "      <td>...</td>\n",
       "      <td>Embassy/Consulate</td>\n",
       "      <td>''</td>\n",
       "      <td>''</td>\n",
       "      <td>''</td>\n",
       "      <td>''</td>\n",
       "      <td>''</td>\n",
       "      <td>''</td>\n",
       "      <td>0.0</td>\n",
       "      <td>0.0</td>\n",
       "      <td>PGIS</td>\n",
       "    </tr>\n",
       "    <tr>\n",
       "      <th>4</th>\n",
       "      <td>1970</td>\n",
       "      <td>0</td>\n",
       "      <td>1</td>\n",
       "      <td>0.0</td>\n",
       "      <td>Japan</td>\n",
       "      <td>0.0</td>\n",
       "      <td>East Asia</td>\n",
       "      <td>Fukouka</td>\n",
       "      <td>Fukouka</td>\n",
       "      <td>0.0</td>\n",
       "      <td>...</td>\n",
       "      <td>Embassy/Consulate</td>\n",
       "      <td>''</td>\n",
       "      <td>''</td>\n",
       "      <td>''</td>\n",
       "      <td>''</td>\n",
       "      <td>''</td>\n",
       "      <td>''</td>\n",
       "      <td>0.0</td>\n",
       "      <td>0.0</td>\n",
       "      <td>PGIS</td>\n",
       "    </tr>\n",
       "    <tr>\n",
       "      <th>...</th>\n",
       "      <td>...</td>\n",
       "      <td>...</td>\n",
       "      <td>...</td>\n",
       "      <td>...</td>\n",
       "      <td>...</td>\n",
       "      <td>...</td>\n",
       "      <td>...</td>\n",
       "      <td>...</td>\n",
       "      <td>...</td>\n",
       "      <td>...</td>\n",
       "      <td>...</td>\n",
       "      <td>...</td>\n",
       "      <td>...</td>\n",
       "      <td>...</td>\n",
       "      <td>...</td>\n",
       "      <td>...</td>\n",
       "      <td>...</td>\n",
       "      <td>...</td>\n",
       "      <td>...</td>\n",
       "      <td>...</td>\n",
       "      <td>...</td>\n",
       "    </tr>\n",
       "    <tr>\n",
       "      <th>181686</th>\n",
       "      <td>2017</td>\n",
       "      <td>31</td>\n",
       "      <td>12</td>\n",
       "      <td>1.0</td>\n",
       "      <td>Somalia</td>\n",
       "      <td>2.0</td>\n",
       "      <td>Sub-Saharan Africa</td>\n",
       "      <td>Middle Shebelle</td>\n",
       "      <td>Ceelka Geelow</td>\n",
       "      <td>0.0</td>\n",
       "      <td>...</td>\n",
       "      <td>Military Checkpoint</td>\n",
       "      <td>''</td>\n",
       "      <td>''</td>\n",
       "      <td>''</td>\n",
       "      <td>''</td>\n",
       "      <td>Unknown</td>\n",
       "      <td>''</td>\n",
       "      <td>0.0</td>\n",
       "      <td>0.0</td>\n",
       "      <td>START Primary Collection</td>\n",
       "    </tr>\n",
       "    <tr>\n",
       "      <th>181687</th>\n",
       "      <td>2017</td>\n",
       "      <td>31</td>\n",
       "      <td>12</td>\n",
       "      <td>2.0</td>\n",
       "      <td>Syria</td>\n",
       "      <td>7.0</td>\n",
       "      <td>Middle East &amp; North Africa</td>\n",
       "      <td>Lattakia</td>\n",
       "      <td>Jableh</td>\n",
       "      <td>0.0</td>\n",
       "      <td>...</td>\n",
       "      <td>Military Barracks/Base/Headquarters/Checkpost</td>\n",
       "      <td>''</td>\n",
       "      <td>''</td>\n",
       "      <td>''</td>\n",
       "      <td>''</td>\n",
       "      <td>''</td>\n",
       "      <td>Unknown</td>\n",
       "      <td>4.0</td>\n",
       "      <td>-99.0</td>\n",
       "      <td>START Primary Collection</td>\n",
       "    </tr>\n",
       "    <tr>\n",
       "      <th>181688</th>\n",
       "      <td>2017</td>\n",
       "      <td>31</td>\n",
       "      <td>12</td>\n",
       "      <td>0.0</td>\n",
       "      <td>Philippines</td>\n",
       "      <td>0.0</td>\n",
       "      <td>Southeast Asia</td>\n",
       "      <td>Maguindanao</td>\n",
       "      <td>Kubentog</td>\n",
       "      <td>0.0</td>\n",
       "      <td>...</td>\n",
       "      <td>House/Apartment/Residence</td>\n",
       "      <td>''</td>\n",
       "      <td>''</td>\n",
       "      <td>''</td>\n",
       "      <td>''</td>\n",
       "      <td>''</td>\n",
       "      <td>Unknown</td>\n",
       "      <td>4.0</td>\n",
       "      <td>-99.0</td>\n",
       "      <td>START Primary Collection</td>\n",
       "    </tr>\n",
       "    <tr>\n",
       "      <th>181689</th>\n",
       "      <td>2017</td>\n",
       "      <td>31</td>\n",
       "      <td>12</td>\n",
       "      <td>0.0</td>\n",
       "      <td>India</td>\n",
       "      <td>0.0</td>\n",
       "      <td>South Asia</td>\n",
       "      <td>Manipur</td>\n",
       "      <td>Imphal</td>\n",
       "      <td>0.0</td>\n",
       "      <td>...</td>\n",
       "      <td>Government Building/Facility/Office</td>\n",
       "      <td>''</td>\n",
       "      <td>''</td>\n",
       "      <td>''</td>\n",
       "      <td>''</td>\n",
       "      <td>''</td>\n",
       "      <td>''</td>\n",
       "      <td>0.0</td>\n",
       "      <td>0.0</td>\n",
       "      <td>START Primary Collection</td>\n",
       "    </tr>\n",
       "    <tr>\n",
       "      <th>181690</th>\n",
       "      <td>2017</td>\n",
       "      <td>31</td>\n",
       "      <td>12</td>\n",
       "      <td>0.0</td>\n",
       "      <td>Philippines</td>\n",
       "      <td>0.0</td>\n",
       "      <td>Southeast Asia</td>\n",
       "      <td>Maguindanao</td>\n",
       "      <td>Cotabato City</td>\n",
       "      <td>0.0</td>\n",
       "      <td>...</td>\n",
       "      <td>''</td>\n",
       "      <td>''</td>\n",
       "      <td>''</td>\n",
       "      <td>''</td>\n",
       "      <td>''</td>\n",
       "      <td>''</td>\n",
       "      <td>''</td>\n",
       "      <td>0.0</td>\n",
       "      <td>0.0</td>\n",
       "      <td>START Primary Collection</td>\n",
       "    </tr>\n",
       "  </tbody>\n",
       "</table>\n",
       "<p>181691 rows × 49 columns</p>\n",
       "</div>"
      ],
      "text/plain": [
       "        iyear  iday  imonth  nkill         country_txt  nwound  \\\n",
       "0        1970     2       7    1.0  Dominican Republic     0.0   \n",
       "1        1970     0       0    0.0              Mexico     0.0   \n",
       "2        1970     0       1    1.0         Philippines     0.0   \n",
       "3        1970     0       1    0.0              Greece     0.0   \n",
       "4        1970     0       1    0.0               Japan     0.0   \n",
       "...       ...   ...     ...    ...                 ...     ...   \n",
       "181686   2017    31      12    1.0             Somalia     2.0   \n",
       "181687   2017    31      12    2.0               Syria     7.0   \n",
       "181688   2017    31      12    0.0         Philippines     0.0   \n",
       "181689   2017    31      12    0.0               India     0.0   \n",
       "181690   2017    31      12    0.0         Philippines     0.0   \n",
       "\n",
       "                         region_txt        provstate           city  nkillus  \\\n",
       "0       Central America & Caribbean               ''  Santo Domingo      0.0   \n",
       "1                     North America          Federal    Mexico city      0.0   \n",
       "2                    Southeast Asia           Tarlac        Unknown      0.0   \n",
       "3                    Western Europe           Attica         Athens      0.0   \n",
       "4                         East Asia          Fukouka        Fukouka      0.0   \n",
       "...                             ...              ...            ...      ...   \n",
       "181686           Sub-Saharan Africa  Middle Shebelle  Ceelka Geelow      0.0   \n",
       "181687   Middle East & North Africa         Lattakia         Jableh      0.0   \n",
       "181688               Southeast Asia      Maguindanao       Kubentog      0.0   \n",
       "181689                   South Asia          Manipur         Imphal      0.0   \n",
       "181690               Southeast Asia      Maguindanao  Cotabato City      0.0   \n",
       "\n",
       "        ...                                   targsubtype1_txt targtype2_txt  \\\n",
       "0       ...                                     Named Civilian            ''   \n",
       "1       ...  Diplomatic Personnel (outside of embassy, cons...            ''   \n",
       "2       ...                    Radio Journalist/Staff/Facility            ''   \n",
       "3       ...                                  Embassy/Consulate            ''   \n",
       "4       ...                                  Embassy/Consulate            ''   \n",
       "...     ...                                                ...           ...   \n",
       "181686  ...                                Military Checkpoint            ''   \n",
       "181687  ...      Military Barracks/Base/Headquarters/Checkpost            ''   \n",
       "181688  ...                          House/Apartment/Residence            ''   \n",
       "181689  ...                Government Building/Facility/Office            ''   \n",
       "181690  ...                                                 ''            ''   \n",
       "\n",
       "        targsubtype2_txt  targtype3_txt targsubtype3_txt claimmode_txt  \\\n",
       "0                     ''             ''               ''            ''   \n",
       "1                     ''             ''               ''            ''   \n",
       "2                     ''             ''               ''            ''   \n",
       "3                     ''             ''               ''            ''   \n",
       "4                     ''             ''               ''            ''   \n",
       "...                  ...            ...              ...           ...   \n",
       "181686                ''             ''               ''       Unknown   \n",
       "181687                ''             ''               ''            ''   \n",
       "181688                ''             ''               ''            ''   \n",
       "181689                ''             ''               ''            ''   \n",
       "181690                ''             ''               ''            ''   \n",
       "\n",
       "        propextent_txt  propextent  propvalue                  dbsource  \n",
       "0                   ''         0.0        0.0                      PGIS  \n",
       "1                   ''         0.0        0.0                      PGIS  \n",
       "2                   ''         0.0        0.0                      PGIS  \n",
       "3                   ''         0.0        0.0                      PGIS  \n",
       "4                   ''         0.0        0.0                      PGIS  \n",
       "...                ...         ...        ...                       ...  \n",
       "181686              ''         0.0        0.0  START Primary Collection  \n",
       "181687         Unknown         4.0      -99.0  START Primary Collection  \n",
       "181688         Unknown         4.0      -99.0  START Primary Collection  \n",
       "181689              ''         0.0        0.0  START Primary Collection  \n",
       "181690              ''         0.0        0.0  START Primary Collection  \n",
       "\n",
       "[181691 rows x 49 columns]"
      ]
     },
     "execution_count": 47,
     "metadata": {},
     "output_type": "execute_result"
    }
   ],
   "source": [
    "cleaned_data"
   ]
  },
  {
   "cell_type": "markdown",
   "metadata": {},
   "source": [
    "#### Colonnes que nous analyserons\n",
    "1. nkill : nombre de personnes tuées lors d'attentats terroristes\n",
    "2. nwound : nombre de personnes blessées lors d'attentats terroristes\n",
    "3. attacktype_txt : type d'attaque\n",
    "4. weapsubtype1_txt : type d'armes utilisées lors des attaques\n",
    "5. targsubtype1_txt : Type de cibles\n",
    "6. régions : noms de régions\n",
    "7. country_txt : noms de pays"
   ]
  },
  {
   "cell_type": "markdown",
   "metadata": {},
   "source": [
    "__Visualiser le nombre d’attaques terroristes accompagnées de suicides par année__"
   ]
  },
  {
   "cell_type": "code",
   "execution_count": 27,
   "metadata": {},
   "outputs": [],
   "source": [
    "num_attack=cleaned_data.groupby(['iyear','suicide']).size().reset_index(name='NombreAttaque')"
   ]
  },
  {
   "cell_type": "code",
   "execution_count": 28,
   "metadata": {},
   "outputs": [
    {
     "data": {
      "text/html": [
       "<div>\n",
       "<style scoped>\n",
       "    .dataframe tbody tr th:only-of-type {\n",
       "        vertical-align: middle;\n",
       "    }\n",
       "\n",
       "    .dataframe tbody tr th {\n",
       "        vertical-align: top;\n",
       "    }\n",
       "\n",
       "    .dataframe thead th {\n",
       "        text-align: right;\n",
       "    }\n",
       "</style>\n",
       "<table border=\"1\" class=\"dataframe\">\n",
       "  <thead>\n",
       "    <tr style=\"text-align: right;\">\n",
       "      <th></th>\n",
       "      <th>iyear</th>\n",
       "      <th>suicide</th>\n",
       "      <th>NombreAttaque</th>\n",
       "    </tr>\n",
       "  </thead>\n",
       "  <tbody>\n",
       "    <tr>\n",
       "      <th>0</th>\n",
       "      <td>1970</td>\n",
       "      <td>0</td>\n",
       "      <td>651</td>\n",
       "    </tr>\n",
       "    <tr>\n",
       "      <th>1</th>\n",
       "      <td>1971</td>\n",
       "      <td>0</td>\n",
       "      <td>471</td>\n",
       "    </tr>\n",
       "    <tr>\n",
       "      <th>2</th>\n",
       "      <td>1972</td>\n",
       "      <td>0</td>\n",
       "      <td>568</td>\n",
       "    </tr>\n",
       "    <tr>\n",
       "      <th>3</th>\n",
       "      <td>1973</td>\n",
       "      <td>0</td>\n",
       "      <td>473</td>\n",
       "    </tr>\n",
       "    <tr>\n",
       "      <th>4</th>\n",
       "      <td>1974</td>\n",
       "      <td>0</td>\n",
       "      <td>581</td>\n",
       "    </tr>\n",
       "  </tbody>\n",
       "</table>\n",
       "</div>"
      ],
      "text/plain": [
       "   iyear  suicide  NombreAttaque\n",
       "0   1970        0            651\n",
       "1   1971        0            471\n",
       "2   1972        0            568\n",
       "3   1973        0            473\n",
       "4   1974        0            581"
      ]
     },
     "execution_count": 28,
     "metadata": {},
     "output_type": "execute_result"
    }
   ],
   "source": [
    "num_attack.head()"
   ]
  },
  {
   "cell_type": "code",
   "execution_count": 32,
   "metadata": {},
   "outputs": [
    {
     "data": {
      "text/html": [
       "<div>\n",
       "<style scoped>\n",
       "    .dataframe tbody tr th:only-of-type {\n",
       "        vertical-align: middle;\n",
       "    }\n",
       "\n",
       "    .dataframe tbody tr th {\n",
       "        vertical-align: top;\n",
       "    }\n",
       "\n",
       "    .dataframe thead th {\n",
       "        text-align: right;\n",
       "    }\n",
       "</style>\n",
       "<table border=\"1\" class=\"dataframe\">\n",
       "  <thead>\n",
       "    <tr style=\"text-align: right;\">\n",
       "      <th></th>\n",
       "      <th>iyear</th>\n",
       "      <th>suicide</th>\n",
       "      <th>NombreAttaque</th>\n",
       "    </tr>\n",
       "  </thead>\n",
       "  <tbody>\n",
       "    <tr>\n",
       "      <th>12</th>\n",
       "      <td>1981</td>\n",
       "      <td>1</td>\n",
       "      <td>1</td>\n",
       "    </tr>\n",
       "    <tr>\n",
       "      <th>14</th>\n",
       "      <td>1982</td>\n",
       "      <td>1</td>\n",
       "      <td>1</td>\n",
       "    </tr>\n",
       "    <tr>\n",
       "      <th>16</th>\n",
       "      <td>1983</td>\n",
       "      <td>1</td>\n",
       "      <td>5</td>\n",
       "    </tr>\n",
       "    <tr>\n",
       "      <th>18</th>\n",
       "      <td>1984</td>\n",
       "      <td>1</td>\n",
       "      <td>2</td>\n",
       "    </tr>\n",
       "    <tr>\n",
       "      <th>20</th>\n",
       "      <td>1985</td>\n",
       "      <td>1</td>\n",
       "      <td>16</td>\n",
       "    </tr>\n",
       "    <tr>\n",
       "      <th>22</th>\n",
       "      <td>1986</td>\n",
       "      <td>1</td>\n",
       "      <td>3</td>\n",
       "    </tr>\n",
       "    <tr>\n",
       "      <th>24</th>\n",
       "      <td>1987</td>\n",
       "      <td>1</td>\n",
       "      <td>3</td>\n",
       "    </tr>\n",
       "    <tr>\n",
       "      <th>26</th>\n",
       "      <td>1988</td>\n",
       "      <td>1</td>\n",
       "      <td>2</td>\n",
       "    </tr>\n",
       "    <tr>\n",
       "      <th>28</th>\n",
       "      <td>1989</td>\n",
       "      <td>1</td>\n",
       "      <td>3</td>\n",
       "    </tr>\n",
       "    <tr>\n",
       "      <th>30</th>\n",
       "      <td>1990</td>\n",
       "      <td>1</td>\n",
       "      <td>2</td>\n",
       "    </tr>\n",
       "    <tr>\n",
       "      <th>32</th>\n",
       "      <td>1991</td>\n",
       "      <td>1</td>\n",
       "      <td>3</td>\n",
       "    </tr>\n",
       "    <tr>\n",
       "      <th>34</th>\n",
       "      <td>1992</td>\n",
       "      <td>1</td>\n",
       "      <td>2</td>\n",
       "    </tr>\n",
       "    <tr>\n",
       "      <th>36</th>\n",
       "      <td>1994</td>\n",
       "      <td>1</td>\n",
       "      <td>11</td>\n",
       "    </tr>\n",
       "    <tr>\n",
       "      <th>38</th>\n",
       "      <td>1995</td>\n",
       "      <td>1</td>\n",
       "      <td>22</td>\n",
       "    </tr>\n",
       "    <tr>\n",
       "      <th>40</th>\n",
       "      <td>1996</td>\n",
       "      <td>1</td>\n",
       "      <td>15</td>\n",
       "    </tr>\n",
       "    <tr>\n",
       "      <th>42</th>\n",
       "      <td>1997</td>\n",
       "      <td>1</td>\n",
       "      <td>11</td>\n",
       "    </tr>\n",
       "    <tr>\n",
       "      <th>44</th>\n",
       "      <td>1998</td>\n",
       "      <td>1</td>\n",
       "      <td>21</td>\n",
       "    </tr>\n",
       "    <tr>\n",
       "      <th>46</th>\n",
       "      <td>1999</td>\n",
       "      <td>1</td>\n",
       "      <td>28</td>\n",
       "    </tr>\n",
       "    <tr>\n",
       "      <th>48</th>\n",
       "      <td>2000</td>\n",
       "      <td>1</td>\n",
       "      <td>37</td>\n",
       "    </tr>\n",
       "    <tr>\n",
       "      <th>50</th>\n",
       "      <td>2001</td>\n",
       "      <td>1</td>\n",
       "      <td>54</td>\n",
       "    </tr>\n",
       "    <tr>\n",
       "      <th>52</th>\n",
       "      <td>2002</td>\n",
       "      <td>1</td>\n",
       "      <td>78</td>\n",
       "    </tr>\n",
       "    <tr>\n",
       "      <th>54</th>\n",
       "      <td>2003</td>\n",
       "      <td>1</td>\n",
       "      <td>89</td>\n",
       "    </tr>\n",
       "    <tr>\n",
       "      <th>56</th>\n",
       "      <td>2004</td>\n",
       "      <td>1</td>\n",
       "      <td>122</td>\n",
       "    </tr>\n",
       "    <tr>\n",
       "      <th>58</th>\n",
       "      <td>2005</td>\n",
       "      <td>1</td>\n",
       "      <td>213</td>\n",
       "    </tr>\n",
       "    <tr>\n",
       "      <th>60</th>\n",
       "      <td>2006</td>\n",
       "      <td>1</td>\n",
       "      <td>183</td>\n",
       "    </tr>\n",
       "    <tr>\n",
       "      <th>62</th>\n",
       "      <td>2007</td>\n",
       "      <td>1</td>\n",
       "      <td>374</td>\n",
       "    </tr>\n",
       "    <tr>\n",
       "      <th>64</th>\n",
       "      <td>2008</td>\n",
       "      <td>1</td>\n",
       "      <td>247</td>\n",
       "    </tr>\n",
       "    <tr>\n",
       "      <th>66</th>\n",
       "      <td>2009</td>\n",
       "      <td>1</td>\n",
       "      <td>183</td>\n",
       "    </tr>\n",
       "    <tr>\n",
       "      <th>68</th>\n",
       "      <td>2010</td>\n",
       "      <td>1</td>\n",
       "      <td>175</td>\n",
       "    </tr>\n",
       "    <tr>\n",
       "      <th>70</th>\n",
       "      <td>2011</td>\n",
       "      <td>1</td>\n",
       "      <td>208</td>\n",
       "    </tr>\n",
       "    <tr>\n",
       "      <th>72</th>\n",
       "      <td>2012</td>\n",
       "      <td>1</td>\n",
       "      <td>402</td>\n",
       "    </tr>\n",
       "    <tr>\n",
       "      <th>74</th>\n",
       "      <td>2013</td>\n",
       "      <td>1</td>\n",
       "      <td>622</td>\n",
       "    </tr>\n",
       "    <tr>\n",
       "      <th>76</th>\n",
       "      <td>2014</td>\n",
       "      <td>1</td>\n",
       "      <td>744</td>\n",
       "    </tr>\n",
       "    <tr>\n",
       "      <th>78</th>\n",
       "      <td>2015</td>\n",
       "      <td>1</td>\n",
       "      <td>922</td>\n",
       "    </tr>\n",
       "    <tr>\n",
       "      <th>80</th>\n",
       "      <td>2016</td>\n",
       "      <td>1</td>\n",
       "      <td>985</td>\n",
       "    </tr>\n",
       "    <tr>\n",
       "      <th>82</th>\n",
       "      <td>2017</td>\n",
       "      <td>1</td>\n",
       "      <td>844</td>\n",
       "    </tr>\n",
       "  </tbody>\n",
       "</table>\n",
       "</div>"
      ],
      "text/plain": [
       "    iyear  suicide  NombreAttaque\n",
       "12   1981        1              1\n",
       "14   1982        1              1\n",
       "16   1983        1              5\n",
       "18   1984        1              2\n",
       "20   1985        1             16\n",
       "22   1986        1              3\n",
       "24   1987        1              3\n",
       "26   1988        1              2\n",
       "28   1989        1              3\n",
       "30   1990        1              2\n",
       "32   1991        1              3\n",
       "34   1992        1              2\n",
       "36   1994        1             11\n",
       "38   1995        1             22\n",
       "40   1996        1             15\n",
       "42   1997        1             11\n",
       "44   1998        1             21\n",
       "46   1999        1             28\n",
       "48   2000        1             37\n",
       "50   2001        1             54\n",
       "52   2002        1             78\n",
       "54   2003        1             89\n",
       "56   2004        1            122\n",
       "58   2005        1            213\n",
       "60   2006        1            183\n",
       "62   2007        1            374\n",
       "64   2008        1            247\n",
       "66   2009        1            183\n",
       "68   2010        1            175\n",
       "70   2011        1            208\n",
       "72   2012        1            402\n",
       "74   2013        1            622\n",
       "76   2014        1            744\n",
       "78   2015        1            922\n",
       "80   2016        1            985\n",
       "82   2017        1            844"
      ]
     },
     "execution_count": 32,
     "metadata": {},
     "output_type": "execute_result"
    }
   ],
   "source": [
    "num_attack=num_attack[num_attack['suicide'].isin([1])]\n",
    "num_attack"
   ]
  },
  {
   "cell_type": "code",
   "execution_count": 33,
   "metadata": {},
   "outputs": [
    {
     "data": {
      "application/vnd.plotly.v1+json": {
       "config": {
        "plotlyServerURL": "https://plot.ly"
       },
       "data": [
        {
         "alignmentgroup": "True",
         "hovertemplate": "iyear=%{x}<br>NombreAttaque=%{marker.color}<extra></extra>",
         "legendgroup": "",
         "marker": {
          "color": [
           1,
           1,
           5,
           2,
           16,
           3,
           3,
           2,
           3,
           2,
           3,
           2,
           11,
           22,
           15,
           11,
           21,
           28,
           37,
           54,
           78,
           89,
           122,
           213,
           183,
           374,
           247,
           183,
           175,
           208,
           402,
           622,
           744,
           922,
           985,
           844
          ],
          "coloraxis": "coloraxis",
          "pattern": {
           "shape": ""
          }
         },
         "name": "",
         "offsetgroup": "",
         "orientation": "v",
         "showlegend": false,
         "textposition": "auto",
         "type": "bar",
         "x": [
          1981,
          1982,
          1983,
          1984,
          1985,
          1986,
          1987,
          1988,
          1989,
          1990,
          1991,
          1992,
          1994,
          1995,
          1996,
          1997,
          1998,
          1999,
          2000,
          2001,
          2002,
          2003,
          2004,
          2005,
          2006,
          2007,
          2008,
          2009,
          2010,
          2011,
          2012,
          2013,
          2014,
          2015,
          2016,
          2017
         ],
         "xaxis": "x",
         "y": [
          1,
          1,
          5,
          2,
          16,
          3,
          3,
          2,
          3,
          2,
          3,
          2,
          11,
          22,
          15,
          11,
          21,
          28,
          37,
          54,
          78,
          89,
          122,
          213,
          183,
          374,
          247,
          183,
          175,
          208,
          402,
          622,
          744,
          922,
          985,
          844
         ],
         "yaxis": "y"
        }
       ],
       "layout": {
        "barmode": "relative",
        "coloraxis": {
         "colorbar": {
          "title": {
           "text": "NombreAttaque"
          }
         },
         "colorscale": [
          [
           0,
           "#0d0887"
          ],
          [
           0.1111111111111111,
           "#46039f"
          ],
          [
           0.2222222222222222,
           "#7201a8"
          ],
          [
           0.3333333333333333,
           "#9c179e"
          ],
          [
           0.4444444444444444,
           "#bd3786"
          ],
          [
           0.5555555555555556,
           "#d8576b"
          ],
          [
           0.6666666666666666,
           "#ed7953"
          ],
          [
           0.7777777777777778,
           "#fb9f3a"
          ],
          [
           0.8888888888888888,
           "#fdca26"
          ],
          [
           1,
           "#f0f921"
          ]
         ]
        },
        "legend": {
         "tracegroupgap": 0
        },
        "template": {
         "data": {
          "bar": [
           {
            "error_x": {
             "color": "#2a3f5f"
            },
            "error_y": {
             "color": "#2a3f5f"
            },
            "marker": {
             "line": {
              "color": "#E5ECF6",
              "width": 0.5
             },
             "pattern": {
              "fillmode": "overlay",
              "size": 10,
              "solidity": 0.2
             }
            },
            "type": "bar"
           }
          ],
          "barpolar": [
           {
            "marker": {
             "line": {
              "color": "#E5ECF6",
              "width": 0.5
             },
             "pattern": {
              "fillmode": "overlay",
              "size": 10,
              "solidity": 0.2
             }
            },
            "type": "barpolar"
           }
          ],
          "carpet": [
           {
            "aaxis": {
             "endlinecolor": "#2a3f5f",
             "gridcolor": "white",
             "linecolor": "white",
             "minorgridcolor": "white",
             "startlinecolor": "#2a3f5f"
            },
            "baxis": {
             "endlinecolor": "#2a3f5f",
             "gridcolor": "white",
             "linecolor": "white",
             "minorgridcolor": "white",
             "startlinecolor": "#2a3f5f"
            },
            "type": "carpet"
           }
          ],
          "choropleth": [
           {
            "colorbar": {
             "outlinewidth": 0,
             "ticks": ""
            },
            "type": "choropleth"
           }
          ],
          "contour": [
           {
            "colorbar": {
             "outlinewidth": 0,
             "ticks": ""
            },
            "colorscale": [
             [
              0,
              "#0d0887"
             ],
             [
              0.1111111111111111,
              "#46039f"
             ],
             [
              0.2222222222222222,
              "#7201a8"
             ],
             [
              0.3333333333333333,
              "#9c179e"
             ],
             [
              0.4444444444444444,
              "#bd3786"
             ],
             [
              0.5555555555555556,
              "#d8576b"
             ],
             [
              0.6666666666666666,
              "#ed7953"
             ],
             [
              0.7777777777777778,
              "#fb9f3a"
             ],
             [
              0.8888888888888888,
              "#fdca26"
             ],
             [
              1,
              "#f0f921"
             ]
            ],
            "type": "contour"
           }
          ],
          "contourcarpet": [
           {
            "colorbar": {
             "outlinewidth": 0,
             "ticks": ""
            },
            "type": "contourcarpet"
           }
          ],
          "heatmap": [
           {
            "colorbar": {
             "outlinewidth": 0,
             "ticks": ""
            },
            "colorscale": [
             [
              0,
              "#0d0887"
             ],
             [
              0.1111111111111111,
              "#46039f"
             ],
             [
              0.2222222222222222,
              "#7201a8"
             ],
             [
              0.3333333333333333,
              "#9c179e"
             ],
             [
              0.4444444444444444,
              "#bd3786"
             ],
             [
              0.5555555555555556,
              "#d8576b"
             ],
             [
              0.6666666666666666,
              "#ed7953"
             ],
             [
              0.7777777777777778,
              "#fb9f3a"
             ],
             [
              0.8888888888888888,
              "#fdca26"
             ],
             [
              1,
              "#f0f921"
             ]
            ],
            "type": "heatmap"
           }
          ],
          "heatmapgl": [
           {
            "colorbar": {
             "outlinewidth": 0,
             "ticks": ""
            },
            "colorscale": [
             [
              0,
              "#0d0887"
             ],
             [
              0.1111111111111111,
              "#46039f"
             ],
             [
              0.2222222222222222,
              "#7201a8"
             ],
             [
              0.3333333333333333,
              "#9c179e"
             ],
             [
              0.4444444444444444,
              "#bd3786"
             ],
             [
              0.5555555555555556,
              "#d8576b"
             ],
             [
              0.6666666666666666,
              "#ed7953"
             ],
             [
              0.7777777777777778,
              "#fb9f3a"
             ],
             [
              0.8888888888888888,
              "#fdca26"
             ],
             [
              1,
              "#f0f921"
             ]
            ],
            "type": "heatmapgl"
           }
          ],
          "histogram": [
           {
            "marker": {
             "pattern": {
              "fillmode": "overlay",
              "size": 10,
              "solidity": 0.2
             }
            },
            "type": "histogram"
           }
          ],
          "histogram2d": [
           {
            "colorbar": {
             "outlinewidth": 0,
             "ticks": ""
            },
            "colorscale": [
             [
              0,
              "#0d0887"
             ],
             [
              0.1111111111111111,
              "#46039f"
             ],
             [
              0.2222222222222222,
              "#7201a8"
             ],
             [
              0.3333333333333333,
              "#9c179e"
             ],
             [
              0.4444444444444444,
              "#bd3786"
             ],
             [
              0.5555555555555556,
              "#d8576b"
             ],
             [
              0.6666666666666666,
              "#ed7953"
             ],
             [
              0.7777777777777778,
              "#fb9f3a"
             ],
             [
              0.8888888888888888,
              "#fdca26"
             ],
             [
              1,
              "#f0f921"
             ]
            ],
            "type": "histogram2d"
           }
          ],
          "histogram2dcontour": [
           {
            "colorbar": {
             "outlinewidth": 0,
             "ticks": ""
            },
            "colorscale": [
             [
              0,
              "#0d0887"
             ],
             [
              0.1111111111111111,
              "#46039f"
             ],
             [
              0.2222222222222222,
              "#7201a8"
             ],
             [
              0.3333333333333333,
              "#9c179e"
             ],
             [
              0.4444444444444444,
              "#bd3786"
             ],
             [
              0.5555555555555556,
              "#d8576b"
             ],
             [
              0.6666666666666666,
              "#ed7953"
             ],
             [
              0.7777777777777778,
              "#fb9f3a"
             ],
             [
              0.8888888888888888,
              "#fdca26"
             ],
             [
              1,
              "#f0f921"
             ]
            ],
            "type": "histogram2dcontour"
           }
          ],
          "mesh3d": [
           {
            "colorbar": {
             "outlinewidth": 0,
             "ticks": ""
            },
            "type": "mesh3d"
           }
          ],
          "parcoords": [
           {
            "line": {
             "colorbar": {
              "outlinewidth": 0,
              "ticks": ""
             }
            },
            "type": "parcoords"
           }
          ],
          "pie": [
           {
            "automargin": true,
            "type": "pie"
           }
          ],
          "scatter": [
           {
            "fillpattern": {
             "fillmode": "overlay",
             "size": 10,
             "solidity": 0.2
            },
            "type": "scatter"
           }
          ],
          "scatter3d": [
           {
            "line": {
             "colorbar": {
              "outlinewidth": 0,
              "ticks": ""
             }
            },
            "marker": {
             "colorbar": {
              "outlinewidth": 0,
              "ticks": ""
             }
            },
            "type": "scatter3d"
           }
          ],
          "scattercarpet": [
           {
            "marker": {
             "colorbar": {
              "outlinewidth": 0,
              "ticks": ""
             }
            },
            "type": "scattercarpet"
           }
          ],
          "scattergeo": [
           {
            "marker": {
             "colorbar": {
              "outlinewidth": 0,
              "ticks": ""
             }
            },
            "type": "scattergeo"
           }
          ],
          "scattergl": [
           {
            "marker": {
             "colorbar": {
              "outlinewidth": 0,
              "ticks": ""
             }
            },
            "type": "scattergl"
           }
          ],
          "scattermapbox": [
           {
            "marker": {
             "colorbar": {
              "outlinewidth": 0,
              "ticks": ""
             }
            },
            "type": "scattermapbox"
           }
          ],
          "scatterpolar": [
           {
            "marker": {
             "colorbar": {
              "outlinewidth": 0,
              "ticks": ""
             }
            },
            "type": "scatterpolar"
           }
          ],
          "scatterpolargl": [
           {
            "marker": {
             "colorbar": {
              "outlinewidth": 0,
              "ticks": ""
             }
            },
            "type": "scatterpolargl"
           }
          ],
          "scatterternary": [
           {
            "marker": {
             "colorbar": {
              "outlinewidth": 0,
              "ticks": ""
             }
            },
            "type": "scatterternary"
           }
          ],
          "surface": [
           {
            "colorbar": {
             "outlinewidth": 0,
             "ticks": ""
            },
            "colorscale": [
             [
              0,
              "#0d0887"
             ],
             [
              0.1111111111111111,
              "#46039f"
             ],
             [
              0.2222222222222222,
              "#7201a8"
             ],
             [
              0.3333333333333333,
              "#9c179e"
             ],
             [
              0.4444444444444444,
              "#bd3786"
             ],
             [
              0.5555555555555556,
              "#d8576b"
             ],
             [
              0.6666666666666666,
              "#ed7953"
             ],
             [
              0.7777777777777778,
              "#fb9f3a"
             ],
             [
              0.8888888888888888,
              "#fdca26"
             ],
             [
              1,
              "#f0f921"
             ]
            ],
            "type": "surface"
           }
          ],
          "table": [
           {
            "cells": {
             "fill": {
              "color": "#EBF0F8"
             },
             "line": {
              "color": "white"
             }
            },
            "header": {
             "fill": {
              "color": "#C8D4E3"
             },
             "line": {
              "color": "white"
             }
            },
            "type": "table"
           }
          ]
         },
         "layout": {
          "annotationdefaults": {
           "arrowcolor": "#2a3f5f",
           "arrowhead": 0,
           "arrowwidth": 1
          },
          "autotypenumbers": "strict",
          "coloraxis": {
           "colorbar": {
            "outlinewidth": 0,
            "ticks": ""
           }
          },
          "colorscale": {
           "diverging": [
            [
             0,
             "#8e0152"
            ],
            [
             0.1,
             "#c51b7d"
            ],
            [
             0.2,
             "#de77ae"
            ],
            [
             0.3,
             "#f1b6da"
            ],
            [
             0.4,
             "#fde0ef"
            ],
            [
             0.5,
             "#f7f7f7"
            ],
            [
             0.6,
             "#e6f5d0"
            ],
            [
             0.7,
             "#b8e186"
            ],
            [
             0.8,
             "#7fbc41"
            ],
            [
             0.9,
             "#4d9221"
            ],
            [
             1,
             "#276419"
            ]
           ],
           "sequential": [
            [
             0,
             "#0d0887"
            ],
            [
             0.1111111111111111,
             "#46039f"
            ],
            [
             0.2222222222222222,
             "#7201a8"
            ],
            [
             0.3333333333333333,
             "#9c179e"
            ],
            [
             0.4444444444444444,
             "#bd3786"
            ],
            [
             0.5555555555555556,
             "#d8576b"
            ],
            [
             0.6666666666666666,
             "#ed7953"
            ],
            [
             0.7777777777777778,
             "#fb9f3a"
            ],
            [
             0.8888888888888888,
             "#fdca26"
            ],
            [
             1,
             "#f0f921"
            ]
           ],
           "sequentialminus": [
            [
             0,
             "#0d0887"
            ],
            [
             0.1111111111111111,
             "#46039f"
            ],
            [
             0.2222222222222222,
             "#7201a8"
            ],
            [
             0.3333333333333333,
             "#9c179e"
            ],
            [
             0.4444444444444444,
             "#bd3786"
            ],
            [
             0.5555555555555556,
             "#d8576b"
            ],
            [
             0.6666666666666666,
             "#ed7953"
            ],
            [
             0.7777777777777778,
             "#fb9f3a"
            ],
            [
             0.8888888888888888,
             "#fdca26"
            ],
            [
             1,
             "#f0f921"
            ]
           ]
          },
          "colorway": [
           "#636efa",
           "#EF553B",
           "#00cc96",
           "#ab63fa",
           "#FFA15A",
           "#19d3f3",
           "#FF6692",
           "#B6E880",
           "#FF97FF",
           "#FECB52"
          ],
          "font": {
           "color": "#2a3f5f"
          },
          "geo": {
           "bgcolor": "white",
           "lakecolor": "white",
           "landcolor": "#E5ECF6",
           "showlakes": true,
           "showland": true,
           "subunitcolor": "white"
          },
          "hoverlabel": {
           "align": "left"
          },
          "hovermode": "closest",
          "mapbox": {
           "style": "light"
          },
          "paper_bgcolor": "white",
          "plot_bgcolor": "#E5ECF6",
          "polar": {
           "angularaxis": {
            "gridcolor": "white",
            "linecolor": "white",
            "ticks": ""
           },
           "bgcolor": "#E5ECF6",
           "radialaxis": {
            "gridcolor": "white",
            "linecolor": "white",
            "ticks": ""
           }
          },
          "scene": {
           "xaxis": {
            "backgroundcolor": "#E5ECF6",
            "gridcolor": "white",
            "gridwidth": 2,
            "linecolor": "white",
            "showbackground": true,
            "ticks": "",
            "zerolinecolor": "white"
           },
           "yaxis": {
            "backgroundcolor": "#E5ECF6",
            "gridcolor": "white",
            "gridwidth": 2,
            "linecolor": "white",
            "showbackground": true,
            "ticks": "",
            "zerolinecolor": "white"
           },
           "zaxis": {
            "backgroundcolor": "#E5ECF6",
            "gridcolor": "white",
            "gridwidth": 2,
            "linecolor": "white",
            "showbackground": true,
            "ticks": "",
            "zerolinecolor": "white"
           }
          },
          "shapedefaults": {
           "line": {
            "color": "#2a3f5f"
           }
          },
          "ternary": {
           "aaxis": {
            "gridcolor": "white",
            "linecolor": "white",
            "ticks": ""
           },
           "baxis": {
            "gridcolor": "white",
            "linecolor": "white",
            "ticks": ""
           },
           "bgcolor": "#E5ECF6",
           "caxis": {
            "gridcolor": "white",
            "linecolor": "white",
            "ticks": ""
           }
          },
          "title": {
           "x": 0.05
          },
          "xaxis": {
           "automargin": true,
           "gridcolor": "white",
           "linecolor": "white",
           "ticks": "",
           "title": {
            "standoff": 15
           },
           "zerolinecolor": "white",
           "zerolinewidth": 2
          },
          "yaxis": {
           "automargin": true,
           "gridcolor": "white",
           "linecolor": "white",
           "ticks": "",
           "title": {
            "standoff": 15
           },
           "zerolinecolor": "white",
           "zerolinewidth": 2
          }
         }
        },
        "title": {
         "text": " Diagramme en barre du nombre d’attaques terroristes accompagnées de suicides par année"
        },
        "xaxis": {
         "anchor": "y",
         "domain": [
          0,
          1
         ],
         "title": {
          "text": "iyear"
         }
        },
        "yaxis": {
         "anchor": "x",
         "domain": [
          0,
          1
         ],
         "title": {
          "text": "NombreAttaque"
         }
        }
       }
      }
     },
     "metadata": {},
     "output_type": "display_data"
    }
   ],
   "source": [
    "bar_fig1=px.bar(num_attack,x='iyear',y='NombreAttaque',color='NombreAttaque',title=\" Diagramme en barre du nombre d’attaques terroristes accompagnées de suicides par année\")\n",
    "bar_fig1.show()"
   ]
  },
  {
   "cell_type": "markdown",
   "metadata": {},
   "source": [
    "__Visualiser l'évolution annuel (animation par année) du nombre d'attaques terroristes par type d’attaque et par mois__"
   ]
  },
  {
   "cell_type": "code",
   "execution_count": 8,
   "metadata": {},
   "outputs": [
    {
     "data": {
      "text/html": [
       "<div>\n",
       "<style scoped>\n",
       "    .dataframe tbody tr th:only-of-type {\n",
       "        vertical-align: middle;\n",
       "    }\n",
       "\n",
       "    .dataframe tbody tr th {\n",
       "        vertical-align: top;\n",
       "    }\n",
       "\n",
       "    .dataframe thead th {\n",
       "        text-align: right;\n",
       "    }\n",
       "</style>\n",
       "<table border=\"1\" class=\"dataframe\">\n",
       "  <thead>\n",
       "    <tr style=\"text-align: right;\">\n",
       "      <th></th>\n",
       "      <th>iyear</th>\n",
       "      <th>imonth</th>\n",
       "      <th>attacktype1_txt</th>\n",
       "      <th>NombreAttaqueTypeMois</th>\n",
       "    </tr>\n",
       "  </thead>\n",
       "  <tbody>\n",
       "    <tr>\n",
       "      <th>0</th>\n",
       "      <td>1970</td>\n",
       "      <td>0</td>\n",
       "      <td>Hostage Taking (Kidnapping)</td>\n",
       "      <td>1</td>\n",
       "    </tr>\n",
       "    <tr>\n",
       "      <th>1</th>\n",
       "      <td>1970</td>\n",
       "      <td>1</td>\n",
       "      <td>Armed Assault</td>\n",
       "      <td>4</td>\n",
       "    </tr>\n",
       "    <tr>\n",
       "      <th>2</th>\n",
       "      <td>1970</td>\n",
       "      <td>1</td>\n",
       "      <td>Assassination</td>\n",
       "      <td>3</td>\n",
       "    </tr>\n",
       "    <tr>\n",
       "      <th>3</th>\n",
       "      <td>1970</td>\n",
       "      <td>1</td>\n",
       "      <td>Bombing/Explosion</td>\n",
       "      <td>15</td>\n",
       "    </tr>\n",
       "    <tr>\n",
       "      <th>4</th>\n",
       "      <td>1970</td>\n",
       "      <td>1</td>\n",
       "      <td>Facility/Infrastructure Attack</td>\n",
       "      <td>13</td>\n",
       "    </tr>\n",
       "    <tr>\n",
       "      <th>...</th>\n",
       "      <td>...</td>\n",
       "      <td>...</td>\n",
       "      <td>...</td>\n",
       "      <td>...</td>\n",
       "    </tr>\n",
       "    <tr>\n",
       "      <th>4160</th>\n",
       "      <td>2017</td>\n",
       "      <td>12</td>\n",
       "      <td>Hijacking</td>\n",
       "      <td>1</td>\n",
       "    </tr>\n",
       "    <tr>\n",
       "      <th>4161</th>\n",
       "      <td>2017</td>\n",
       "      <td>12</td>\n",
       "      <td>Hostage Taking (Barricade Incident)</td>\n",
       "      <td>4</td>\n",
       "    </tr>\n",
       "    <tr>\n",
       "      <th>4162</th>\n",
       "      <td>2017</td>\n",
       "      <td>12</td>\n",
       "      <td>Hostage Taking (Kidnapping)</td>\n",
       "      <td>58</td>\n",
       "    </tr>\n",
       "    <tr>\n",
       "      <th>4163</th>\n",
       "      <td>2017</td>\n",
       "      <td>12</td>\n",
       "      <td>Unarmed Assault</td>\n",
       "      <td>5</td>\n",
       "    </tr>\n",
       "    <tr>\n",
       "      <th>4164</th>\n",
       "      <td>2017</td>\n",
       "      <td>12</td>\n",
       "      <td>Unknown</td>\n",
       "      <td>62</td>\n",
       "    </tr>\n",
       "  </tbody>\n",
       "</table>\n",
       "<p>4165 rows × 4 columns</p>\n",
       "</div>"
      ],
      "text/plain": [
       "      iyear  imonth                      attacktype1_txt  \\\n",
       "0      1970       0          Hostage Taking (Kidnapping)   \n",
       "1      1970       1                        Armed Assault   \n",
       "2      1970       1                        Assassination   \n",
       "3      1970       1                    Bombing/Explosion   \n",
       "4      1970       1       Facility/Infrastructure Attack   \n",
       "...     ...     ...                                  ...   \n",
       "4160   2017      12                            Hijacking   \n",
       "4161   2017      12  Hostage Taking (Barricade Incident)   \n",
       "4162   2017      12          Hostage Taking (Kidnapping)   \n",
       "4163   2017      12                      Unarmed Assault   \n",
       "4164   2017      12                              Unknown   \n",
       "\n",
       "      NombreAttaqueTypeMois  \n",
       "0                         1  \n",
       "1                         4  \n",
       "2                         3  \n",
       "3                        15  \n",
       "4                        13  \n",
       "...                     ...  \n",
       "4160                      1  \n",
       "4161                      4  \n",
       "4162                     58  \n",
       "4163                      5  \n",
       "4164                     62  \n",
       "\n",
       "[4165 rows x 4 columns]"
      ]
     },
     "execution_count": 8,
     "metadata": {},
     "output_type": "execute_result"
    }
   ],
   "source": [
    "attaque_type_month=cleaned_data.groupby(['iyear','imonth','attacktype1_txt']).size().reset_index(name='NombreAttaqueTypeMois')\n",
    "attaque_type_month"
   ]
  },
  {
   "cell_type": "code",
   "execution_count": 59,
   "metadata": {},
   "outputs": [],
   "source": [
    "! pip install plotly --upgrade --quiet"
   ]
  },
  {
   "cell_type": "code",
   "execution_count": 66,
   "metadata": {},
   "outputs": [
    {
     "name": "stdout",
     "output_type": "stream",
     "text": [
      "Defaulting to user installation because normal site-packages is not writeable\n",
      "Collecting nbformat\n",
      "  Downloading nbformat-5.4.0-py3-none-any.whl (73 kB)\n",
      "     -------------------------------------- 73.3/73.3 kB 237.1 kB/s eta 0:00:00\n",
      "Collecting fastjsonschema\n",
      "  Downloading fastjsonschema-2.15.3-py3-none-any.whl (22 kB)\n",
      "Collecting jsonschema>=2.6\n",
      "  Downloading jsonschema-4.5.1-py3-none-any.whl (72 kB)\n",
      "     -------------------------------------- 72.9/72.9 kB 267.6 kB/s eta 0:00:00\n",
      "Requirement already satisfied: traitlets>=5.1 in c:\\users\\user\\appdata\\roaming\\python\\python39\\site-packages (from nbformat) (5.2.0)\n",
      "Requirement already satisfied: jupyter-core in c:\\users\\user\\appdata\\roaming\\python\\python39\\site-packages (from nbformat) (4.10.0)\n",
      "Collecting pyrsistent!=0.17.0,!=0.17.1,!=0.17.2,>=0.14.0\n",
      "  Downloading pyrsistent-0.18.1-cp39-cp39-win_amd64.whl (61 kB)\n",
      "     -------------------------------------- 61.6/61.6 kB 253.0 kB/s eta 0:00:00\n",
      "Collecting attrs>=17.4.0\n",
      "  Downloading attrs-21.4.0-py2.py3-none-any.whl (60 kB)\n",
      "     -------------------------------------- 60.6/60.6 kB 247.9 kB/s eta 0:00:00\n",
      "Requirement already satisfied: pywin32>=1.0 in c:\\users\\user\\appdata\\roaming\\python\\python39\\site-packages (from jupyter-core->nbformat) (304)\n",
      "Installing collected packages: fastjsonschema, pyrsistent, attrs, jsonschema, nbformat\n",
      "Successfully installed attrs-21.4.0 fastjsonschema-2.15.3 jsonschema-4.5.1 nbformat-5.4.0 pyrsistent-0.18.1\n"
     ]
    },
    {
     "name": "stderr",
     "output_type": "stream",
     "text": [
      "  WARNING: The script jsonschema.exe is installed in 'C:\\Users\\USER\\AppData\\Roaming\\Python\\Python39\\Scripts' which is not on PATH.\n",
      "  Consider adding this directory to PATH or, if you prefer to suppress this warning, use --no-warn-script-location.\n",
      "  WARNING: The script jupyter-trust.exe is installed in 'C:\\Users\\USER\\AppData\\Roaming\\Python\\Python39\\Scripts' which is not on PATH.\n",
      "  Consider adding this directory to PATH or, if you prefer to suppress this warning, use --no-warn-script-location.\n"
     ]
    }
   ],
   "source": [
    "! pip install --upgrade nbformat"
   ]
  },
  {
   "cell_type": "code",
   "execution_count": 52,
   "metadata": {},
   "outputs": [
    {
     "data": {
      "application/vnd.plotly.v1+json": {
       "config": {
        "plotlyServerURL": "https://plot.ly"
       },
       "data": [
        {
         "hovertemplate": "attacktype1_txt=Hostage Taking (Kidnapping)<br>iyear=1970<br>imonth=%{x}<br>NombreAttaqueTypeMois=%{y}<extra></extra>",
         "legendgroup": "Hostage Taking (Kidnapping)",
         "line": {
          "color": "#636efa",
          "dash": "solid"
         },
         "marker": {
          "symbol": "circle"
         },
         "mode": "lines",
         "name": "Hostage Taking (Kidnapping)",
         "orientation": "v",
         "showlegend": true,
         "type": "scatter",
         "x": [
          0,
          1,
          3,
          4,
          5,
          6,
          7,
          8,
          9,
          10,
          11,
          12
         ],
         "xaxis": "x",
         "y": [
          1,
          1,
          8,
          2,
          1,
          3,
          9,
          3,
          5,
          2,
          1,
          2
         ],
         "yaxis": "y"
        },
        {
         "hovertemplate": "attacktype1_txt=Armed Assault<br>iyear=1970<br>imonth=%{x}<br>NombreAttaqueTypeMois=%{y}<extra></extra>",
         "legendgroup": "Armed Assault",
         "line": {
          "color": "#EF553B",
          "dash": "solid"
         },
         "marker": {
          "symbol": "circle"
         },
         "mode": "lines",
         "name": "Armed Assault",
         "orientation": "v",
         "showlegend": true,
         "type": "scatter",
         "x": [
          1,
          2,
          4,
          5,
          6,
          7,
          8,
          9,
          10,
          11,
          12
         ],
         "xaxis": "x",
         "y": [
          4,
          4,
          4,
          5,
          12,
          4,
          4,
          5,
          5,
          10,
          4
         ],
         "yaxis": "y"
        },
        {
         "hovertemplate": "attacktype1_txt=Assassination<br>iyear=1970<br>imonth=%{x}<br>NombreAttaqueTypeMois=%{y}<extra></extra>",
         "legendgroup": "Assassination",
         "line": {
          "color": "#00cc96",
          "dash": "solid"
         },
         "marker": {
          "symbol": "circle"
         },
         "mode": "lines",
         "name": "Assassination",
         "orientation": "v",
         "showlegend": true,
         "type": "scatter",
         "x": [
          1,
          3,
          4,
          5,
          6,
          7,
          8,
          9,
          10,
          11,
          12
         ],
         "xaxis": "x",
         "y": [
          3,
          2,
          1,
          2,
          4,
          3,
          2,
          1,
          1,
          2,
          1
         ],
         "yaxis": "y"
        },
        {
         "hovertemplate": "attacktype1_txt=Bombing/Explosion<br>iyear=1970<br>imonth=%{x}<br>NombreAttaqueTypeMois=%{y}<extra></extra>",
         "legendgroup": "Bombing/Explosion",
         "line": {
          "color": "#ab63fa",
          "dash": "solid"
         },
         "marker": {
          "symbol": "circle"
         },
         "mode": "lines",
         "name": "Bombing/Explosion",
         "orientation": "v",
         "showlegend": true,
         "type": "scatter",
         "x": [
          1,
          2,
          3,
          4,
          5,
          6,
          7,
          8,
          9,
          10,
          11,
          12
         ],
         "xaxis": "x",
         "y": [
          15,
          32,
          41,
          46,
          28,
          26,
          38,
          20,
          20,
          31,
          20,
          16
         ],
         "yaxis": "y"
        },
        {
         "hovertemplate": "attacktype1_txt=Facility/Infrastructure Attack<br>iyear=1970<br>imonth=%{x}<br>NombreAttaqueTypeMois=%{y}<extra></extra>",
         "legendgroup": "Facility/Infrastructure Attack",
         "line": {
          "color": "#FFA15A",
          "dash": "solid"
         },
         "marker": {
          "symbol": "circle"
         },
         "mode": "lines",
         "name": "Facility/Infrastructure Attack",
         "orientation": "v",
         "showlegend": true,
         "type": "scatter",
         "x": [
          1,
          2,
          3,
          4,
          5,
          6,
          7,
          8,
          9,
          10,
          11,
          12
         ],
         "xaxis": "x",
         "y": [
          13,
          19,
          15,
          25,
          35,
          12,
          13,
          12,
          6,
          14,
          7,
          3
         ],
         "yaxis": "y"
        },
        {
         "hovertemplate": "attacktype1_txt=Hijacking<br>iyear=1970<br>imonth=%{x}<br>NombreAttaqueTypeMois=%{y}<extra></extra>",
         "legendgroup": "Hijacking",
         "line": {
          "color": "#19d3f3",
          "dash": "solid"
         },
         "marker": {
          "symbol": "circle"
         },
         "mode": "lines",
         "name": "Hijacking",
         "orientation": "v",
         "showlegend": true,
         "type": "scatter",
         "x": [
          1,
          3,
          7,
          9,
          10
         ],
         "xaxis": "x",
         "y": [
          1,
          2,
          2,
          5,
          1
         ],
         "yaxis": "y"
        },
        {
         "hovertemplate": "attacktype1_txt=Unknown<br>iyear=1970<br>imonth=%{x}<br>NombreAttaqueTypeMois=%{y}<extra></extra>",
         "legendgroup": "Unknown",
         "line": {
          "color": "#FF6692",
          "dash": "solid"
         },
         "marker": {
          "symbol": "circle"
         },
         "mode": "lines",
         "name": "Unknown",
         "orientation": "v",
         "showlegend": true,
         "type": "scatter",
         "x": [
          1,
          3,
          4,
          6
         ],
         "xaxis": "x",
         "y": [
          2,
          1,
          1,
          2
         ],
         "yaxis": "y"
        },
        {
         "hovertemplate": "attacktype1_txt=Unarmed Assault<br>iyear=1970<br>imonth=%{x}<br>NombreAttaqueTypeMois=%{y}<extra></extra>",
         "legendgroup": "Unarmed Assault",
         "line": {
          "color": "#B6E880",
          "dash": "solid"
         },
         "marker": {
          "symbol": "circle"
         },
         "mode": "lines",
         "name": "Unarmed Assault",
         "orientation": "v",
         "showlegend": true,
         "type": "scatter",
         "x": [
          5,
          10,
          11
         ],
         "xaxis": "x",
         "y": [
          1,
          1,
          1
         ],
         "yaxis": "y"
        },
        {
         "hovertemplate": "attacktype1_txt=Hostage Taking (Barricade Incident)<br>iyear=1970<br>imonth=%{x}<br>NombreAttaqueTypeMois=%{y}<extra></extra>",
         "legendgroup": "Hostage Taking (Barricade Incident)",
         "line": {
          "color": "#FF97FF",
          "dash": "solid"
         },
         "marker": {
          "symbol": "circle"
         },
         "mode": "lines",
         "name": "Hostage Taking (Barricade Incident)",
         "orientation": "v",
         "showlegend": true,
         "type": "scatter",
         "x": [
          6,
          8
         ],
         "xaxis": "x",
         "y": [
          2,
          1
         ],
         "yaxis": "y"
        }
       ],
       "frames": [
        {
         "data": [
          {
           "hovertemplate": "attacktype1_txt=Hostage Taking (Kidnapping)<br>iyear=1970<br>imonth=%{x}<br>NombreAttaqueTypeMois=%{y}<extra></extra>",
           "legendgroup": "Hostage Taking (Kidnapping)",
           "line": {
            "color": "#636efa",
            "dash": "solid"
           },
           "marker": {
            "symbol": "circle"
           },
           "mode": "lines",
           "name": "Hostage Taking (Kidnapping)",
           "orientation": "v",
           "showlegend": true,
           "type": "scatter",
           "x": [
            0,
            1,
            3,
            4,
            5,
            6,
            7,
            8,
            9,
            10,
            11,
            12
           ],
           "xaxis": "x",
           "y": [
            1,
            1,
            8,
            2,
            1,
            3,
            9,
            3,
            5,
            2,
            1,
            2
           ],
           "yaxis": "y"
          },
          {
           "hovertemplate": "attacktype1_txt=Armed Assault<br>iyear=1970<br>imonth=%{x}<br>NombreAttaqueTypeMois=%{y}<extra></extra>",
           "legendgroup": "Armed Assault",
           "line": {
            "color": "#EF553B",
            "dash": "solid"
           },
           "marker": {
            "symbol": "circle"
           },
           "mode": "lines",
           "name": "Armed Assault",
           "orientation": "v",
           "showlegend": true,
           "type": "scatter",
           "x": [
            1,
            2,
            4,
            5,
            6,
            7,
            8,
            9,
            10,
            11,
            12
           ],
           "xaxis": "x",
           "y": [
            4,
            4,
            4,
            5,
            12,
            4,
            4,
            5,
            5,
            10,
            4
           ],
           "yaxis": "y"
          },
          {
           "hovertemplate": "attacktype1_txt=Assassination<br>iyear=1970<br>imonth=%{x}<br>NombreAttaqueTypeMois=%{y}<extra></extra>",
           "legendgroup": "Assassination",
           "line": {
            "color": "#00cc96",
            "dash": "solid"
           },
           "marker": {
            "symbol": "circle"
           },
           "mode": "lines",
           "name": "Assassination",
           "orientation": "v",
           "showlegend": true,
           "type": "scatter",
           "x": [
            1,
            3,
            4,
            5,
            6,
            7,
            8,
            9,
            10,
            11,
            12
           ],
           "xaxis": "x",
           "y": [
            3,
            2,
            1,
            2,
            4,
            3,
            2,
            1,
            1,
            2,
            1
           ],
           "yaxis": "y"
          },
          {
           "hovertemplate": "attacktype1_txt=Bombing/Explosion<br>iyear=1970<br>imonth=%{x}<br>NombreAttaqueTypeMois=%{y}<extra></extra>",
           "legendgroup": "Bombing/Explosion",
           "line": {
            "color": "#ab63fa",
            "dash": "solid"
           },
           "marker": {
            "symbol": "circle"
           },
           "mode": "lines",
           "name": "Bombing/Explosion",
           "orientation": "v",
           "showlegend": true,
           "type": "scatter",
           "x": [
            1,
            2,
            3,
            4,
            5,
            6,
            7,
            8,
            9,
            10,
            11,
            12
           ],
           "xaxis": "x",
           "y": [
            15,
            32,
            41,
            46,
            28,
            26,
            38,
            20,
            20,
            31,
            20,
            16
           ],
           "yaxis": "y"
          },
          {
           "hovertemplate": "attacktype1_txt=Facility/Infrastructure Attack<br>iyear=1970<br>imonth=%{x}<br>NombreAttaqueTypeMois=%{y}<extra></extra>",
           "legendgroup": "Facility/Infrastructure Attack",
           "line": {
            "color": "#FFA15A",
            "dash": "solid"
           },
           "marker": {
            "symbol": "circle"
           },
           "mode": "lines",
           "name": "Facility/Infrastructure Attack",
           "orientation": "v",
           "showlegend": true,
           "type": "scatter",
           "x": [
            1,
            2,
            3,
            4,
            5,
            6,
            7,
            8,
            9,
            10,
            11,
            12
           ],
           "xaxis": "x",
           "y": [
            13,
            19,
            15,
            25,
            35,
            12,
            13,
            12,
            6,
            14,
            7,
            3
           ],
           "yaxis": "y"
          },
          {
           "hovertemplate": "attacktype1_txt=Hijacking<br>iyear=1970<br>imonth=%{x}<br>NombreAttaqueTypeMois=%{y}<extra></extra>",
           "legendgroup": "Hijacking",
           "line": {
            "color": "#19d3f3",
            "dash": "solid"
           },
           "marker": {
            "symbol": "circle"
           },
           "mode": "lines",
           "name": "Hijacking",
           "orientation": "v",
           "showlegend": true,
           "type": "scatter",
           "x": [
            1,
            3,
            7,
            9,
            10
           ],
           "xaxis": "x",
           "y": [
            1,
            2,
            2,
            5,
            1
           ],
           "yaxis": "y"
          },
          {
           "hovertemplate": "attacktype1_txt=Unknown<br>iyear=1970<br>imonth=%{x}<br>NombreAttaqueTypeMois=%{y}<extra></extra>",
           "legendgroup": "Unknown",
           "line": {
            "color": "#FF6692",
            "dash": "solid"
           },
           "marker": {
            "symbol": "circle"
           },
           "mode": "lines",
           "name": "Unknown",
           "orientation": "v",
           "showlegend": true,
           "type": "scatter",
           "x": [
            1,
            3,
            4,
            6
           ],
           "xaxis": "x",
           "y": [
            2,
            1,
            1,
            2
           ],
           "yaxis": "y"
          },
          {
           "hovertemplate": "attacktype1_txt=Unarmed Assault<br>iyear=1970<br>imonth=%{x}<br>NombreAttaqueTypeMois=%{y}<extra></extra>",
           "legendgroup": "Unarmed Assault",
           "line": {
            "color": "#B6E880",
            "dash": "solid"
           },
           "marker": {
            "symbol": "circle"
           },
           "mode": "lines",
           "name": "Unarmed Assault",
           "orientation": "v",
           "showlegend": true,
           "type": "scatter",
           "x": [
            5,
            10,
            11
           ],
           "xaxis": "x",
           "y": [
            1,
            1,
            1
           ],
           "yaxis": "y"
          },
          {
           "hovertemplate": "attacktype1_txt=Hostage Taking (Barricade Incident)<br>iyear=1970<br>imonth=%{x}<br>NombreAttaqueTypeMois=%{y}<extra></extra>",
           "legendgroup": "Hostage Taking (Barricade Incident)",
           "line": {
            "color": "#FF97FF",
            "dash": "solid"
           },
           "marker": {
            "symbol": "circle"
           },
           "mode": "lines",
           "name": "Hostage Taking (Barricade Incident)",
           "orientation": "v",
           "showlegend": true,
           "type": "scatter",
           "x": [
            6,
            8
           ],
           "xaxis": "x",
           "y": [
            2,
            1
           ],
           "yaxis": "y"
          }
         ],
         "name": "1970"
        },
        {
         "data": [
          {
           "hovertemplate": "attacktype1_txt=Hostage Taking (Kidnapping)<br>iyear=1971<br>imonth=%{x}<br>NombreAttaqueTypeMois=%{y}<extra></extra>",
           "legendgroup": "Hostage Taking (Kidnapping)",
           "line": {
            "color": "#636efa",
            "dash": "solid"
           },
           "marker": {
            "symbol": "circle"
           },
           "mode": "lines",
           "name": "Hostage Taking (Kidnapping)",
           "orientation": "v",
           "showlegend": true,
           "type": "scatter",
           "x": [
            1,
            2,
            3,
            4,
            5,
            9,
            10,
            11
           ],
           "xaxis": "x",
           "y": [
            2,
            5,
            3,
            1,
            6,
            1,
            1,
            1
           ],
           "yaxis": "y"
          },
          {
           "hovertemplate": "attacktype1_txt=Armed Assault<br>iyear=1971<br>imonth=%{x}<br>NombreAttaqueTypeMois=%{y}<extra></extra>",
           "legendgroup": "Armed Assault",
           "line": {
            "color": "#EF553B",
            "dash": "solid"
           },
           "marker": {
            "symbol": "circle"
           },
           "mode": "lines",
           "name": "Armed Assault",
           "orientation": "v",
           "showlegend": true,
           "type": "scatter",
           "x": [
            1,
            2,
            3,
            4,
            5,
            6,
            7,
            8,
            9,
            10,
            11
           ],
           "xaxis": "x",
           "y": [
            10,
            4,
            3,
            6,
            5,
            2,
            1,
            5,
            1,
            3,
            4
           ],
           "yaxis": "y"
          },
          {
           "hovertemplate": "attacktype1_txt=Assassination<br>iyear=1971<br>imonth=%{x}<br>NombreAttaqueTypeMois=%{y}<extra></extra>",
           "legendgroup": "Assassination",
           "line": {
            "color": "#00cc96",
            "dash": "solid"
           },
           "marker": {
            "symbol": "circle"
           },
           "mode": "lines",
           "name": "Assassination",
           "orientation": "v",
           "showlegend": true,
           "type": "scatter",
           "x": [
            1,
            2,
            3,
            4,
            5,
            7,
            8,
            9,
            10,
            11,
            12
           ],
           "xaxis": "x",
           "y": [
            2,
            4,
            2,
            4,
            3,
            3,
            9,
            13,
            9,
            11,
            10
           ],
           "yaxis": "y"
          },
          {
           "hovertemplate": "attacktype1_txt=Bombing/Explosion<br>iyear=1971<br>imonth=%{x}<br>NombreAttaqueTypeMois=%{y}<extra></extra>",
           "legendgroup": "Bombing/Explosion",
           "line": {
            "color": "#ab63fa",
            "dash": "solid"
           },
           "marker": {
            "symbol": "circle"
           },
           "mode": "lines",
           "name": "Bombing/Explosion",
           "orientation": "v",
           "showlegend": true,
           "type": "scatter",
           "x": [
            1,
            2,
            3,
            4,
            5,
            6,
            7,
            8,
            9,
            10,
            11,
            12
           ],
           "xaxis": "x",
           "y": [
            18,
            23,
            28,
            33,
            24,
            21,
            17,
            23,
            16,
            11,
            14,
            11
           ],
           "yaxis": "y"
          },
          {
           "hovertemplate": "attacktype1_txt=Facility/Infrastructure Attack<br>iyear=1971<br>imonth=%{x}<br>NombreAttaqueTypeMois=%{y}<extra></extra>",
           "legendgroup": "Facility/Infrastructure Attack",
           "line": {
            "color": "#FFA15A",
            "dash": "solid"
           },
           "marker": {
            "symbol": "circle"
           },
           "mode": "lines",
           "name": "Facility/Infrastructure Attack",
           "orientation": "v",
           "showlegend": true,
           "type": "scatter",
           "x": [
            1,
            2,
            3,
            4,
            5,
            6,
            7,
            8,
            9,
            10,
            11,
            12
           ],
           "xaxis": "x",
           "y": [
            11,
            7,
            13,
            12,
            17,
            1,
            2,
            8,
            4,
            2,
            9,
            2
           ],
           "yaxis": "y"
          },
          {
           "hovertemplate": "attacktype1_txt=Hijacking<br>iyear=1971<br>imonth=%{x}<br>NombreAttaqueTypeMois=%{y}<extra></extra>",
           "legendgroup": "Hijacking",
           "line": {
            "color": "#19d3f3",
            "dash": "solid"
           },
           "marker": {
            "symbol": "circle"
           },
           "mode": "lines",
           "name": "Hijacking",
           "orientation": "v",
           "showlegend": true,
           "type": "scatter",
           "x": [
            1,
            3,
            8,
            9,
            10
           ],
           "xaxis": "x",
           "y": [
            1,
            1,
            1,
            2,
            1
           ],
           "yaxis": "y"
          },
          {
           "hovertemplate": "attacktype1_txt=Unknown<br>iyear=1971<br>imonth=%{x}<br>NombreAttaqueTypeMois=%{y}<extra></extra>",
           "legendgroup": "Unknown",
           "line": {
            "color": "#FF6692",
            "dash": "solid"
           },
           "marker": {
            "symbol": "circle"
           },
           "mode": "lines",
           "name": "Unknown",
           "orientation": "v",
           "showlegend": true,
           "type": "scatter",
           "x": [
            4,
            5,
            8
           ],
           "xaxis": "x",
           "y": [
            1,
            1,
            1
           ],
           "yaxis": "y"
          },
          {
           "hovertemplate": "attacktype1_txt=Hostage Taking (Barricade Incident)<br>iyear=1971<br>imonth=%{x}<br>NombreAttaqueTypeMois=%{y}<extra></extra>",
           "legendgroup": "Hostage Taking (Barricade Incident)",
           "line": {
            "color": "#FF97FF",
            "dash": "solid"
           },
           "marker": {
            "symbol": "circle"
           },
           "mode": "lines",
           "name": "Hostage Taking (Barricade Incident)",
           "orientation": "v",
           "showlegend": true,
           "type": "scatter",
           "x": [
            7
           ],
           "xaxis": "x",
           "y": [
            1
           ],
           "yaxis": "y"
          }
         ],
         "name": "1971"
        },
        {
         "data": [
          {
           "hovertemplate": "attacktype1_txt=Hostage Taking (Kidnapping)<br>iyear=1972<br>imonth=%{x}<br>NombreAttaqueTypeMois=%{y}<extra></extra>",
           "legendgroup": "Hostage Taking (Kidnapping)",
           "line": {
            "color": "#636efa",
            "dash": "solid"
           },
           "marker": {
            "symbol": "circle"
           },
           "mode": "lines",
           "name": "Hostage Taking (Kidnapping)",
           "orientation": "v",
           "showlegend": true,
           "type": "scatter",
           "x": [
            1,
            2,
            3,
            4,
            6,
            7,
            8,
            10,
            12
           ],
           "xaxis": "x",
           "y": [
            1,
            1,
            2,
            1,
            1,
            2,
            1,
            2,
            5
           ],
           "yaxis": "y"
          },
          {
           "hovertemplate": "attacktype1_txt=Armed Assault<br>iyear=1972<br>imonth=%{x}<br>NombreAttaqueTypeMois=%{y}<extra></extra>",
           "legendgroup": "Armed Assault",
           "line": {
            "color": "#EF553B",
            "dash": "solid"
           },
           "marker": {
            "symbol": "circle"
           },
           "mode": "lines",
           "name": "Armed Assault",
           "orientation": "v",
           "showlegend": true,
           "type": "scatter",
           "x": [
            1,
            2,
            3,
            4,
            5,
            6,
            7,
            8,
            9,
            10,
            11,
            12
           ],
           "xaxis": "x",
           "y": [
            2,
            2,
            6,
            3,
            2,
            1,
            2,
            7,
            10,
            9,
            4,
            15
           ],
           "yaxis": "y"
          },
          {
           "hovertemplate": "attacktype1_txt=Assassination<br>iyear=1972<br>imonth=%{x}<br>NombreAttaqueTypeMois=%{y}<extra></extra>",
           "legendgroup": "Assassination",
           "line": {
            "color": "#00cc96",
            "dash": "solid"
           },
           "marker": {
            "symbol": "circle"
           },
           "mode": "lines",
           "name": "Assassination",
           "orientation": "v",
           "showlegend": true,
           "type": "scatter",
           "x": [
            1,
            2,
            3,
            4,
            5,
            6,
            7,
            8,
            9,
            10,
            11,
            12
           ],
           "xaxis": "x",
           "y": [
            8,
            8,
            9,
            9,
            27,
            21,
            43,
            21,
            85,
            10,
            11,
            13
           ],
           "yaxis": "y"
          },
          {
           "hovertemplate": "attacktype1_txt=Bombing/Explosion<br>iyear=1972<br>imonth=%{x}<br>NombreAttaqueTypeMois=%{y}<extra></extra>",
           "legendgroup": "Bombing/Explosion",
           "line": {
            "color": "#ab63fa",
            "dash": "solid"
           },
           "marker": {
            "symbol": "circle"
           },
           "mode": "lines",
           "name": "Bombing/Explosion",
           "orientation": "v",
           "showlegend": true,
           "type": "scatter",
           "x": [
            0,
            1,
            2,
            3,
            4,
            5,
            6,
            7,
            8,
            9,
            10,
            11,
            12
           ],
           "xaxis": "x",
           "y": [
            1,
            23,
            14,
            18,
            8,
            39,
            10,
            13,
            14,
            10,
            12,
            11,
            15
           ],
           "yaxis": "y"
          },
          {
           "hovertemplate": "attacktype1_txt=Facility/Infrastructure Attack<br>iyear=1972<br>imonth=%{x}<br>NombreAttaqueTypeMois=%{y}<extra></extra>",
           "legendgroup": "Facility/Infrastructure Attack",
           "line": {
            "color": "#FFA15A",
            "dash": "solid"
           },
           "marker": {
            "symbol": "circle"
           },
           "mode": "lines",
           "name": "Facility/Infrastructure Attack",
           "orientation": "v",
           "showlegend": true,
           "type": "scatter",
           "x": [
            1,
            2,
            3,
            4,
            5,
            8,
            12
           ],
           "xaxis": "x",
           "y": [
            3,
            2,
            3,
            1,
            4,
            5,
            1
           ],
           "yaxis": "y"
          },
          {
           "hovertemplate": "attacktype1_txt=Hijacking<br>iyear=1972<br>imonth=%{x}<br>NombreAttaqueTypeMois=%{y}<extra></extra>",
           "legendgroup": "Hijacking",
           "line": {
            "color": "#19d3f3",
            "dash": "solid"
           },
           "marker": {
            "symbol": "circle"
           },
           "mode": "lines",
           "name": "Hijacking",
           "orientation": "v",
           "showlegend": true,
           "type": "scatter",
           "x": [
            2,
            5,
            6,
            7,
            8,
            9,
            10,
            11
           ],
           "xaxis": "x",
           "y": [
            2,
            2,
            1,
            1,
            1,
            1,
            2,
            2
           ],
           "yaxis": "y"
          },
          {
           "hovertemplate": "attacktype1_txt=Unknown<br>iyear=1972<br>imonth=%{x}<br>NombreAttaqueTypeMois=%{y}<extra></extra>",
           "legendgroup": "Unknown",
           "line": {
            "color": "#FF6692",
            "dash": "solid"
           },
           "marker": {
            "symbol": "circle"
           },
           "mode": "lines",
           "name": "Unknown",
           "orientation": "v",
           "showlegend": true,
           "type": "scatter",
           "x": [
            11
           ],
           "xaxis": "x",
           "y": [
            1
           ],
           "yaxis": "y"
          },
          {
           "hovertemplate": "attacktype1_txt=Hostage Taking (Barricade Incident)<br>iyear=1972<br>imonth=%{x}<br>NombreAttaqueTypeMois=%{y}<extra></extra>",
           "legendgroup": "Hostage Taking (Barricade Incident)",
           "line": {
            "color": "#FF97FF",
            "dash": "solid"
           },
           "marker": {
            "symbol": "circle"
           },
           "mode": "lines",
           "name": "Hostage Taking (Barricade Incident)",
           "orientation": "v",
           "showlegend": true,
           "type": "scatter",
           "x": [
            3,
            9,
            10,
            12
           ],
           "xaxis": "x",
           "y": [
            1,
            1,
            1,
            1
           ],
           "yaxis": "y"
          }
         ],
         "name": "1972"
        },
        {
         "data": [
          {
           "hovertemplate": "attacktype1_txt=Hostage Taking (Kidnapping)<br>iyear=1973<br>imonth=%{x}<br>NombreAttaqueTypeMois=%{y}<extra></extra>",
           "legendgroup": "Hostage Taking (Kidnapping)",
           "line": {
            "color": "#636efa",
            "dash": "solid"
           },
           "marker": {
            "symbol": "circle"
           },
           "mode": "lines",
           "name": "Hostage Taking (Kidnapping)",
           "orientation": "v",
           "showlegend": true,
           "type": "scatter",
           "x": [
            0,
            1,
            2,
            3,
            4,
            5,
            9,
            10,
            11,
            12
           ],
           "xaxis": "x",
           "y": [
            1,
            6,
            1,
            3,
            7,
            6,
            4,
            5,
            5,
            5
           ],
           "yaxis": "y"
          },
          {
           "hovertemplate": "attacktype1_txt=Armed Assault<br>iyear=1973<br>imonth=%{x}<br>NombreAttaqueTypeMois=%{y}<extra></extra>",
           "legendgroup": "Armed Assault",
           "line": {
            "color": "#EF553B",
            "dash": "solid"
           },
           "marker": {
            "symbol": "circle"
           },
           "mode": "lines",
           "name": "Armed Assault",
           "orientation": "v",
           "showlegend": true,
           "type": "scatter",
           "x": [
            1,
            2,
            3,
            4,
            5,
            6,
            7,
            8,
            9,
            10,
            11,
            12
           ],
           "xaxis": "x",
           "y": [
            12,
            6,
            5,
            5,
            3,
            6,
            4,
            3,
            2,
            4,
            3,
            9
           ],
           "yaxis": "y"
          },
          {
           "hovertemplate": "attacktype1_txt=Assassination<br>iyear=1973<br>imonth=%{x}<br>NombreAttaqueTypeMois=%{y}<extra></extra>",
           "legendgroup": "Assassination",
           "line": {
            "color": "#00cc96",
            "dash": "solid"
           },
           "marker": {
            "symbol": "circle"
           },
           "mode": "lines",
           "name": "Assassination",
           "orientation": "v",
           "showlegend": true,
           "type": "scatter",
           "x": [
            1,
            2,
            3,
            4,
            5,
            6,
            7,
            8,
            9,
            10,
            11,
            12
           ],
           "xaxis": "x",
           "y": [
            13,
            23,
            17,
            12,
            13,
            16,
            9,
            14,
            12,
            9,
            13,
            13
           ],
           "yaxis": "y"
          },
          {
           "hovertemplate": "attacktype1_txt=Bombing/Explosion<br>iyear=1973<br>imonth=%{x}<br>NombreAttaqueTypeMois=%{y}<extra></extra>",
           "legendgroup": "Bombing/Explosion",
           "line": {
            "color": "#ab63fa",
            "dash": "solid"
           },
           "marker": {
            "symbol": "circle"
           },
           "mode": "lines",
           "name": "Bombing/Explosion",
           "orientation": "v",
           "showlegend": true,
           "type": "scatter",
           "x": [
            1,
            2,
            3,
            4,
            5,
            6,
            7,
            8,
            9,
            10,
            11,
            12
           ],
           "xaxis": "x",
           "y": [
            10,
            5,
            18,
            12,
            19,
            5,
            14,
            13,
            13,
            13,
            12,
            15
           ],
           "yaxis": "y"
          },
          {
           "hovertemplate": "attacktype1_txt=Facility/Infrastructure Attack<br>iyear=1973<br>imonth=%{x}<br>NombreAttaqueTypeMois=%{y}<extra></extra>",
           "legendgroup": "Facility/Infrastructure Attack",
           "line": {
            "color": "#FFA15A",
            "dash": "solid"
           },
           "marker": {
            "symbol": "circle"
           },
           "mode": "lines",
           "name": "Facility/Infrastructure Attack",
           "orientation": "v",
           "showlegend": true,
           "type": "scatter",
           "x": [
            1,
            3,
            4,
            5,
            7,
            8,
            9,
            10,
            11,
            12
           ],
           "xaxis": "x",
           "y": [
            3,
            3,
            6,
            3,
            1,
            7,
            5,
            4,
            1,
            3
           ],
           "yaxis": "y"
          },
          {
           "hovertemplate": "attacktype1_txt=Hijacking<br>iyear=1973<br>imonth=%{x}<br>NombreAttaqueTypeMois=%{y}<extra></extra>",
           "legendgroup": "Hijacking",
           "line": {
            "color": "#19d3f3",
            "dash": "solid"
           },
           "marker": {
            "symbol": "circle"
           },
           "mode": "lines",
           "name": "Hijacking",
           "orientation": "v",
           "showlegend": true,
           "type": "scatter",
           "x": [
            5,
            7,
            11,
            12
           ],
           "xaxis": "x",
           "y": [
            2,
            3,
            2,
            1
           ],
           "yaxis": "y"
          },
          {
           "hovertemplate": "attacktype1_txt=Unknown<br>iyear=1973<br>imonth=%{x}<br>NombreAttaqueTypeMois=%{y}<extra></extra>",
           "legendgroup": "Unknown",
           "line": {
            "color": "#FF6692",
            "dash": "solid"
           },
           "marker": {
            "symbol": "circle"
           },
           "mode": "lines",
           "name": "Unknown",
           "orientation": "v",
           "showlegend": true,
           "type": "scatter",
           "x": [
            5
           ],
           "xaxis": "x",
           "y": [
            1
           ],
           "yaxis": "y"
          },
          {
           "hovertemplate": "attacktype1_txt=Unarmed Assault<br>iyear=1973<br>imonth=%{x}<br>NombreAttaqueTypeMois=%{y}<extra></extra>",
           "legendgroup": "Unarmed Assault",
           "line": {
            "color": "#B6E880",
            "dash": "solid"
           },
           "marker": {
            "symbol": "circle"
           },
           "mode": "lines",
           "name": "Unarmed Assault",
           "orientation": "v",
           "showlegend": true,
           "type": "scatter",
           "x": [
            4,
            7
           ],
           "xaxis": "x",
           "y": [
            2,
            1
           ],
           "yaxis": "y"
          },
          {
           "hovertemplate": "attacktype1_txt=Hostage Taking (Barricade Incident)<br>iyear=1973<br>imonth=%{x}<br>NombreAttaqueTypeMois=%{y}<extra></extra>",
           "legendgroup": "Hostage Taking (Barricade Incident)",
           "line": {
            "color": "#FF97FF",
            "dash": "solid"
           },
           "marker": {
            "symbol": "circle"
           },
           "mode": "lines",
           "name": "Hostage Taking (Barricade Incident)",
           "orientation": "v",
           "showlegend": true,
           "type": "scatter",
           "x": [
            2,
            7,
            9,
            10,
            12
           ],
           "xaxis": "x",
           "y": [
            2,
            1,
            1,
            1,
            2
           ],
           "yaxis": "y"
          }
         ],
         "name": "1973"
        },
        {
         "data": [
          {
           "hovertemplate": "attacktype1_txt=Hostage Taking (Kidnapping)<br>iyear=1974<br>imonth=%{x}<br>NombreAttaqueTypeMois=%{y}<extra></extra>",
           "legendgroup": "Hostage Taking (Kidnapping)",
           "line": {
            "color": "#636efa",
            "dash": "solid"
           },
           "marker": {
            "symbol": "circle"
           },
           "mode": "lines",
           "name": "Hostage Taking (Kidnapping)",
           "orientation": "v",
           "showlegend": true,
           "type": "scatter",
           "x": [
            1,
            2,
            3,
            4,
            5,
            6,
            7,
            8,
            9,
            10,
            11,
            12
           ],
           "xaxis": "x",
           "y": [
            6,
            2,
            7,
            5,
            3,
            2,
            3,
            1,
            3,
            1,
            2,
            2
           ],
           "yaxis": "y"
          },
          {
           "hovertemplate": "attacktype1_txt=Armed Assault<br>iyear=1974<br>imonth=%{x}<br>NombreAttaqueTypeMois=%{y}<extra></extra>",
           "legendgroup": "Armed Assault",
           "line": {
            "color": "#EF553B",
            "dash": "solid"
           },
           "marker": {
            "symbol": "circle"
           },
           "mode": "lines",
           "name": "Armed Assault",
           "orientation": "v",
           "showlegend": true,
           "type": "scatter",
           "x": [
            1,
            2,
            3,
            4,
            5,
            6,
            7,
            8,
            9,
            10,
            11,
            12
           ],
           "xaxis": "x",
           "y": [
            9,
            1,
            3,
            8,
            7,
            2,
            3,
            1,
            1,
            3,
            4,
            4
           ],
           "yaxis": "y"
          },
          {
           "hovertemplate": "attacktype1_txt=Assassination<br>iyear=1974<br>imonth=%{x}<br>NombreAttaqueTypeMois=%{y}<extra></extra>",
           "legendgroup": "Assassination",
           "line": {
            "color": "#00cc96",
            "dash": "solid"
           },
           "marker": {
            "symbol": "circle"
           },
           "mode": "lines",
           "name": "Assassination",
           "orientation": "v",
           "showlegend": true,
           "type": "scatter",
           "x": [
            1,
            2,
            3,
            4,
            5,
            6,
            7,
            8,
            9,
            10,
            11,
            12
           ],
           "xaxis": "x",
           "y": [
            16,
            11,
            16,
            17,
            10,
            12,
            8,
            11,
            12,
            13,
            26,
            6
           ],
           "yaxis": "y"
          },
          {
           "hovertemplate": "attacktype1_txt=Bombing/Explosion<br>iyear=1974<br>imonth=%{x}<br>NombreAttaqueTypeMois=%{y}<extra></extra>",
           "legendgroup": "Bombing/Explosion",
           "line": {
            "color": "#ab63fa",
            "dash": "solid"
           },
           "marker": {
            "symbol": "circle"
           },
           "mode": "lines",
           "name": "Bombing/Explosion",
           "orientation": "v",
           "showlegend": true,
           "type": "scatter",
           "x": [
            0,
            1,
            2,
            3,
            4,
            5,
            6,
            7,
            8,
            9,
            10,
            11,
            12
           ],
           "xaxis": "x",
           "y": [
            2,
            13,
            26,
            29,
            13,
            26,
            23,
            16,
            18,
            29,
            29,
            21,
            40
           ],
           "yaxis": "y"
          },
          {
           "hovertemplate": "attacktype1_txt=Facility/Infrastructure Attack<br>iyear=1974<br>imonth=%{x}<br>NombreAttaqueTypeMois=%{y}<extra></extra>",
           "legendgroup": "Facility/Infrastructure Attack",
           "line": {
            "color": "#FFA15A",
            "dash": "solid"
           },
           "marker": {
            "symbol": "circle"
           },
           "mode": "lines",
           "name": "Facility/Infrastructure Attack",
           "orientation": "v",
           "showlegend": true,
           "type": "scatter",
           "x": [
            1,
            3,
            4,
            5,
            6,
            7,
            10,
            11,
            12
           ],
           "xaxis": "x",
           "y": [
            1,
            6,
            1,
            4,
            11,
            1,
            7,
            10,
            1
           ],
           "yaxis": "y"
          },
          {
           "hovertemplate": "attacktype1_txt=Hijacking<br>iyear=1974<br>imonth=%{x}<br>NombreAttaqueTypeMois=%{y}<extra></extra>",
           "legendgroup": "Hijacking",
           "line": {
            "color": "#19d3f3",
            "dash": "solid"
           },
           "marker": {
            "symbol": "circle"
           },
           "mode": "lines",
           "name": "Hijacking",
           "orientation": "v",
           "showlegend": true,
           "type": "scatter",
           "x": [
            3,
            7,
            11
           ],
           "xaxis": "x",
           "y": [
            1,
            1,
            1
           ],
           "yaxis": "y"
          },
          {
           "hovertemplate": "attacktype1_txt=Unknown<br>iyear=1974<br>imonth=%{x}<br>NombreAttaqueTypeMois=%{y}<extra></extra>",
           "legendgroup": "Unknown",
           "line": {
            "color": "#FF6692",
            "dash": "solid"
           },
           "marker": {
            "symbol": "circle"
           },
           "mode": "lines",
           "name": "Unknown",
           "orientation": "v",
           "showlegend": true,
           "type": "scatter",
           "x": [
            11
           ],
           "xaxis": "x",
           "y": [
            1
           ],
           "yaxis": "y"
          },
          {
           "hovertemplate": "attacktype1_txt=Unarmed Assault<br>iyear=1974<br>imonth=%{x}<br>NombreAttaqueTypeMois=%{y}<extra></extra>",
           "legendgroup": "Unarmed Assault",
           "line": {
            "color": "#B6E880",
            "dash": "solid"
           },
           "marker": {
            "symbol": "circle"
           },
           "mode": "lines",
           "name": "Unarmed Assault",
           "orientation": "v",
           "showlegend": true,
           "type": "scatter",
           "x": [
            4,
            5,
            6,
            7
           ],
           "xaxis": "x",
           "y": [
            1,
            1,
            1,
            1
           ],
           "yaxis": "y"
          },
          {
           "hovertemplate": "attacktype1_txt=Hostage Taking (Barricade Incident)<br>iyear=1974<br>imonth=%{x}<br>NombreAttaqueTypeMois=%{y}<extra></extra>",
           "legendgroup": "Hostage Taking (Barricade Incident)",
           "line": {
            "color": "#FF97FF",
            "dash": "solid"
           },
           "marker": {
            "symbol": "circle"
           },
           "mode": "lines",
           "name": "Hostage Taking (Barricade Incident)",
           "orientation": "v",
           "showlegend": true,
           "type": "scatter",
           "x": [
            4,
            6,
            9
           ],
           "xaxis": "x",
           "y": [
            2,
            1,
            2
           ],
           "yaxis": "y"
          }
         ],
         "name": "1974"
        },
        {
         "data": [
          {
           "hovertemplate": "attacktype1_txt=Hostage Taking (Kidnapping)<br>iyear=1975<br>imonth=%{x}<br>NombreAttaqueTypeMois=%{y}<extra></extra>",
           "legendgroup": "Hostage Taking (Kidnapping)",
           "line": {
            "color": "#636efa",
            "dash": "solid"
           },
           "marker": {
            "symbol": "circle"
           },
           "mode": "lines",
           "name": "Hostage Taking (Kidnapping)",
           "orientation": "v",
           "showlegend": true,
           "type": "scatter",
           "x": [
            2,
            3,
            4,
            5,
            6,
            7,
            8,
            9,
            10,
            11,
            12
           ],
           "xaxis": "x",
           "y": [
            2,
            1,
            1,
            4,
            1,
            4,
            5,
            1,
            6,
            1,
            1
           ],
           "yaxis": "y"
          },
          {
           "hovertemplate": "attacktype1_txt=Armed Assault<br>iyear=1975<br>imonth=%{x}<br>NombreAttaqueTypeMois=%{y}<extra></extra>",
           "legendgroup": "Armed Assault",
           "line": {
            "color": "#EF553B",
            "dash": "solid"
           },
           "marker": {
            "symbol": "circle"
           },
           "mode": "lines",
           "name": "Armed Assault",
           "orientation": "v",
           "showlegend": true,
           "type": "scatter",
           "x": [
            1,
            2,
            3,
            4,
            5,
            6,
            7,
            8,
            9,
            10,
            11,
            12
           ],
           "xaxis": "x",
           "y": [
            5,
            5,
            8,
            8,
            12,
            7,
            6,
            8,
            3,
            8,
            5,
            6
           ],
           "yaxis": "y"
          },
          {
           "hovertemplate": "attacktype1_txt=Assassination<br>iyear=1975<br>imonth=%{x}<br>NombreAttaqueTypeMois=%{y}<extra></extra>",
           "legendgroup": "Assassination",
           "line": {
            "color": "#00cc96",
            "dash": "solid"
           },
           "marker": {
            "symbol": "circle"
           },
           "mode": "lines",
           "name": "Assassination",
           "orientation": "v",
           "showlegend": true,
           "type": "scatter",
           "x": [
            1,
            2,
            3,
            4,
            5,
            6,
            7,
            8,
            9,
            10,
            11,
            12
           ],
           "xaxis": "x",
           "y": [
            4,
            18,
            12,
            16,
            12,
            17,
            11,
            20,
            17,
            28,
            18,
            8
           ],
           "yaxis": "y"
          },
          {
           "hovertemplate": "attacktype1_txt=Bombing/Explosion<br>iyear=1975<br>imonth=%{x}<br>NombreAttaqueTypeMois=%{y}<extra></extra>",
           "legendgroup": "Bombing/Explosion",
           "line": {
            "color": "#ab63fa",
            "dash": "solid"
           },
           "marker": {
            "symbol": "circle"
           },
           "mode": "lines",
           "name": "Bombing/Explosion",
           "orientation": "v",
           "showlegend": true,
           "type": "scatter",
           "x": [
            0,
            1,
            2,
            3,
            4,
            5,
            6,
            7,
            8,
            9,
            10,
            11,
            12
           ],
           "xaxis": "x",
           "y": [
            1,
            22,
            36,
            47,
            26,
            39,
            20,
            16,
            28,
            39,
            45,
            18,
            33
           ],
           "yaxis": "y"
          },
          {
           "hovertemplate": "attacktype1_txt=Facility/Infrastructure Attack<br>iyear=1975<br>imonth=%{x}<br>NombreAttaqueTypeMois=%{y}<extra></extra>",
           "legendgroup": "Facility/Infrastructure Attack",
           "line": {
            "color": "#FFA15A",
            "dash": "solid"
           },
           "marker": {
            "symbol": "circle"
           },
           "mode": "lines",
           "name": "Facility/Infrastructure Attack",
           "orientation": "v",
           "showlegend": true,
           "type": "scatter",
           "x": [
            2,
            3,
            4,
            5,
            6,
            7,
            8,
            9,
            10,
            11,
            12
           ],
           "xaxis": "x",
           "y": [
            7,
            4,
            3,
            15,
            4,
            6,
            3,
            10,
            7,
            3,
            2
           ],
           "yaxis": "y"
          },
          {
           "hovertemplate": "attacktype1_txt=Hijacking<br>iyear=1975<br>imonth=%{x}<br>NombreAttaqueTypeMois=%{y}<extra></extra>",
           "legendgroup": "Hijacking",
           "line": {
            "color": "#19d3f3",
            "dash": "solid"
           },
           "marker": {
            "symbol": "circle"
           },
           "mode": "lines",
           "name": "Hijacking",
           "orientation": "v",
           "showlegend": true,
           "type": "scatter",
           "x": [
            3
           ],
           "xaxis": "x",
           "y": [
            1
           ],
           "yaxis": "y"
          },
          {
           "hovertemplate": "attacktype1_txt=Unknown<br>iyear=1975<br>imonth=%{x}<br>NombreAttaqueTypeMois=%{y}<extra></extra>",
           "legendgroup": "Unknown",
           "line": {
            "color": "#FF6692",
            "dash": "solid"
           },
           "marker": {
            "symbol": "circle"
           },
           "mode": "lines",
           "name": "Unknown",
           "orientation": "v",
           "showlegend": true,
           "type": "scatter",
           "x": [
            4,
            10
           ],
           "xaxis": "x",
           "y": [
            2,
            1
           ],
           "yaxis": "y"
          },
          {
           "hovertemplate": "attacktype1_txt=Hostage Taking (Barricade Incident)<br>iyear=1975<br>imonth=%{x}<br>NombreAttaqueTypeMois=%{y}<extra></extra>",
           "legendgroup": "Hostage Taking (Barricade Incident)",
           "line": {
            "color": "#FF97FF",
            "dash": "solid"
           },
           "marker": {
            "symbol": "circle"
           },
           "mode": "lines",
           "name": "Hostage Taking (Barricade Incident)",
           "orientation": "v",
           "showlegend": true,
           "type": "scatter",
           "x": [
            1,
            3,
            4,
            8,
            9,
            10,
            11,
            12
           ],
           "xaxis": "x",
           "y": [
            1,
            1,
            1,
            3,
            1,
            1,
            2,
            3
           ],
           "yaxis": "y"
          }
         ],
         "name": "1975"
        },
        {
         "data": [
          {
           "hovertemplate": "attacktype1_txt=Hostage Taking (Kidnapping)<br>iyear=1976<br>imonth=%{x}<br>NombreAttaqueTypeMois=%{y}<extra></extra>",
           "legendgroup": "Hostage Taking (Kidnapping)",
           "line": {
            "color": "#636efa",
            "dash": "solid"
           },
           "marker": {
            "symbol": "circle"
           },
           "mode": "lines",
           "name": "Hostage Taking (Kidnapping)",
           "orientation": "v",
           "showlegend": true,
           "type": "scatter",
           "x": [
            1,
            2,
            3,
            4,
            5,
            6,
            7,
            8,
            9,
            11,
            12
           ],
           "xaxis": "x",
           "y": [
            6,
            5,
            2,
            2,
            7,
            5,
            4,
            3,
            5,
            2,
            4
           ],
           "yaxis": "y"
          },
          {
           "hovertemplate": "attacktype1_txt=Armed Assault<br>iyear=1976<br>imonth=%{x}<br>NombreAttaqueTypeMois=%{y}<extra></extra>",
           "legendgroup": "Armed Assault",
           "line": {
            "color": "#EF553B",
            "dash": "solid"
           },
           "marker": {
            "symbol": "circle"
           },
           "mode": "lines",
           "name": "Armed Assault",
           "orientation": "v",
           "showlegend": true,
           "type": "scatter",
           "x": [
            1,
            2,
            3,
            4,
            5,
            6,
            7,
            8,
            9,
            10,
            11,
            12
           ],
           "xaxis": "x",
           "y": [
            12,
            12,
            6,
            11,
            18,
            10,
            4,
            9,
            7,
            10,
            15,
            10
           ],
           "yaxis": "y"
          },
          {
           "hovertemplate": "attacktype1_txt=Assassination<br>iyear=1976<br>imonth=%{x}<br>NombreAttaqueTypeMois=%{y}<extra></extra>",
           "legendgroup": "Assassination",
           "line": {
            "color": "#00cc96",
            "dash": "solid"
           },
           "marker": {
            "symbol": "circle"
           },
           "mode": "lines",
           "name": "Assassination",
           "orientation": "v",
           "showlegend": true,
           "type": "scatter",
           "x": [
            1,
            2,
            3,
            4,
            5,
            6,
            7,
            8,
            9,
            10,
            11,
            12
           ],
           "xaxis": "x",
           "y": [
            21,
            17,
            10,
            15,
            16,
            28,
            15,
            13,
            16,
            20,
            22,
            11
           ],
           "yaxis": "y"
          },
          {
           "hovertemplate": "attacktype1_txt=Bombing/Explosion<br>iyear=1976<br>imonth=%{x}<br>NombreAttaqueTypeMois=%{y}<extra></extra>",
           "legendgroup": "Bombing/Explosion",
           "line": {
            "color": "#ab63fa",
            "dash": "solid"
           },
           "marker": {
            "symbol": "circle"
           },
           "mode": "lines",
           "name": "Bombing/Explosion",
           "orientation": "v",
           "showlegend": true,
           "type": "scatter",
           "x": [
            1,
            2,
            3,
            4,
            5,
            6,
            7,
            8,
            9,
            10,
            11,
            12
           ],
           "xaxis": "x",
           "y": [
            28,
            30,
            37,
            30,
            43,
            31,
            53,
            44,
            30,
            34,
            32,
            27
           ],
           "yaxis": "y"
          },
          {
           "hovertemplate": "attacktype1_txt=Facility/Infrastructure Attack<br>iyear=1976<br>imonth=%{x}<br>NombreAttaqueTypeMois=%{y}<extra></extra>",
           "legendgroup": "Facility/Infrastructure Attack",
           "line": {
            "color": "#FFA15A",
            "dash": "solid"
           },
           "marker": {
            "symbol": "circle"
           },
           "mode": "lines",
           "name": "Facility/Infrastructure Attack",
           "orientation": "v",
           "showlegend": true,
           "type": "scatter",
           "x": [
            1,
            2,
            3,
            4,
            5,
            6,
            7,
            8,
            9,
            10,
            11,
            12
           ],
           "xaxis": "x",
           "y": [
            2,
            8,
            4,
            17,
            21,
            10,
            3,
            3,
            11,
            18,
            8,
            8
           ],
           "yaxis": "y"
          },
          {
           "hovertemplate": "attacktype1_txt=Hijacking<br>iyear=1976<br>imonth=%{x}<br>NombreAttaqueTypeMois=%{y}<extra></extra>",
           "legendgroup": "Hijacking",
           "line": {
            "color": "#19d3f3",
            "dash": "solid"
           },
           "marker": {
            "symbol": "circle"
           },
           "mode": "lines",
           "name": "Hijacking",
           "orientation": "v",
           "showlegend": true,
           "type": "scatter",
           "x": [
            4,
            5,
            6,
            9
           ],
           "xaxis": "x",
           "y": [
            1,
            1,
            1,
            1
           ],
           "yaxis": "y"
          },
          {
           "hovertemplate": "attacktype1_txt=Unknown<br>iyear=1976<br>imonth=%{x}<br>NombreAttaqueTypeMois=%{y}<extra></extra>",
           "legendgroup": "Unknown",
           "line": {
            "color": "#FF6692",
            "dash": "solid"
           },
           "marker": {
            "symbol": "circle"
           },
           "mode": "lines",
           "name": "Unknown",
           "orientation": "v",
           "showlegend": true,
           "type": "scatter",
           "x": [
            0,
            1,
            4,
            7
           ],
           "xaxis": "x",
           "y": [
            2,
            1,
            1,
            1
           ],
           "yaxis": "y"
          },
          {
           "hovertemplate": "attacktype1_txt=Unarmed Assault<br>iyear=1976<br>imonth=%{x}<br>NombreAttaqueTypeMois=%{y}<extra></extra>",
           "legendgroup": "Unarmed Assault",
           "line": {
            "color": "#B6E880",
            "dash": "solid"
           },
           "marker": {
            "symbol": "circle"
           },
           "mode": "lines",
           "name": "Unarmed Assault",
           "orientation": "v",
           "showlegend": true,
           "type": "scatter",
           "x": [
            1,
            4,
            9
           ],
           "xaxis": "x",
           "y": [
            1,
            1,
            1
           ],
           "yaxis": "y"
          },
          {
           "hovertemplate": "attacktype1_txt=Hostage Taking (Barricade Incident)<br>iyear=1976<br>imonth=%{x}<br>NombreAttaqueTypeMois=%{y}<extra></extra>",
           "legendgroup": "Hostage Taking (Barricade Incident)",
           "line": {
            "color": "#FF97FF",
            "dash": "solid"
           },
           "marker": {
            "symbol": "circle"
           },
           "mode": "lines",
           "name": "Hostage Taking (Barricade Incident)",
           "orientation": "v",
           "showlegend": true,
           "type": "scatter",
           "x": [
            5,
            9,
            10,
            11
           ],
           "xaxis": "x",
           "y": [
            1,
            2,
            1,
            2
           ],
           "yaxis": "y"
          }
         ],
         "name": "1976"
        },
        {
         "data": [
          {
           "hovertemplate": "attacktype1_txt=Hostage Taking (Kidnapping)<br>iyear=1977<br>imonth=%{x}<br>NombreAttaqueTypeMois=%{y}<extra></extra>",
           "legendgroup": "Hostage Taking (Kidnapping)",
           "line": {
            "color": "#636efa",
            "dash": "solid"
           },
           "marker": {
            "symbol": "circle"
           },
           "mode": "lines",
           "name": "Hostage Taking (Kidnapping)",
           "orientation": "v",
           "showlegend": true,
           "type": "scatter",
           "x": [
            1,
            2,
            3,
            4,
            5,
            6,
            7,
            8,
            9,
            10,
            11,
            12
           ],
           "xaxis": "x",
           "y": [
            8,
            3,
            3,
            6,
            5,
            1,
            5,
            1,
            2,
            9,
            14,
            10
           ],
           "yaxis": "y"
          },
          {
           "hovertemplate": "attacktype1_txt=Armed Assault<br>iyear=1977<br>imonth=%{x}<br>NombreAttaqueTypeMois=%{y}<extra></extra>",
           "legendgroup": "Armed Assault",
           "line": {
            "color": "#EF553B",
            "dash": "solid"
           },
           "marker": {
            "symbol": "circle"
           },
           "mode": "lines",
           "name": "Armed Assault",
           "orientation": "v",
           "showlegend": true,
           "type": "scatter",
           "x": [
            1,
            2,
            3,
            4,
            5,
            6,
            7,
            8,
            9,
            10,
            11,
            12
           ],
           "xaxis": "x",
           "y": [
            20,
            13,
            34,
            16,
            25,
            34,
            20,
            25,
            13,
            21,
            17,
            17
           ],
           "yaxis": "y"
          },
          {
           "hovertemplate": "attacktype1_txt=Assassination<br>iyear=1977<br>imonth=%{x}<br>NombreAttaqueTypeMois=%{y}<extra></extra>",
           "legendgroup": "Assassination",
           "line": {
            "color": "#00cc96",
            "dash": "solid"
           },
           "marker": {
            "symbol": "circle"
           },
           "mode": "lines",
           "name": "Assassination",
           "orientation": "v",
           "showlegend": true,
           "type": "scatter",
           "x": [
            1,
            2,
            3,
            4,
            5,
            6,
            7,
            8,
            9,
            10,
            11,
            12
           ],
           "xaxis": "x",
           "y": [
            14,
            10,
            11,
            11,
            6,
            13,
            12,
            4,
            15,
            19,
            10,
            21
           ],
           "yaxis": "y"
          },
          {
           "hovertemplate": "attacktype1_txt=Bombing/Explosion<br>iyear=1977<br>imonth=%{x}<br>NombreAttaqueTypeMois=%{y}<extra></extra>",
           "legendgroup": "Bombing/Explosion",
           "line": {
            "color": "#ab63fa",
            "dash": "solid"
           },
           "marker": {
            "symbol": "circle"
           },
           "mode": "lines",
           "name": "Bombing/Explosion",
           "orientation": "v",
           "showlegend": true,
           "type": "scatter",
           "x": [
            0,
            1,
            2,
            3,
            4,
            5,
            6,
            7,
            8,
            9,
            10,
            11,
            12
           ],
           "xaxis": "x",
           "y": [
            5,
            31,
            35,
            49,
            21,
            39,
            79,
            69,
            75,
            57,
            79,
            24,
            72
           ],
           "yaxis": "y"
          },
          {
           "hovertemplate": "attacktype1_txt=Facility/Infrastructure Attack<br>iyear=1977<br>imonth=%{x}<br>NombreAttaqueTypeMois=%{y}<extra></extra>",
           "legendgroup": "Facility/Infrastructure Attack",
           "line": {
            "color": "#FFA15A",
            "dash": "solid"
           },
           "marker": {
            "symbol": "circle"
           },
           "mode": "lines",
           "name": "Facility/Infrastructure Attack",
           "orientation": "v",
           "showlegend": true,
           "type": "scatter",
           "x": [
            1,
            2,
            3,
            4,
            5,
            6,
            7,
            8,
            9,
            10,
            11,
            12
           ],
           "xaxis": "x",
           "y": [
            9,
            6,
            13,
            7,
            5,
            16,
            23,
            28,
            9,
            32,
            9,
            25
           ],
           "yaxis": "y"
          },
          {
           "hovertemplate": "attacktype1_txt=Hijacking<br>iyear=1977<br>imonth=%{x}<br>NombreAttaqueTypeMois=%{y}<extra></extra>",
           "legendgroup": "Hijacking",
           "line": {
            "color": "#19d3f3",
            "dash": "solid"
           },
           "marker": {
            "symbol": "circle"
           },
           "mode": "lines",
           "name": "Hijacking",
           "orientation": "v",
           "showlegend": true,
           "type": "scatter",
           "x": [
            4,
            6,
            7,
            8,
            9,
            10,
            12
           ],
           "xaxis": "x",
           "y": [
            1,
            1,
            1,
            1,
            1,
            1,
            1
           ],
           "yaxis": "y"
          },
          {
           "hovertemplate": "attacktype1_txt=Unknown<br>iyear=1977<br>imonth=%{x}<br>NombreAttaqueTypeMois=%{y}<extra></extra>",
           "legendgroup": "Unknown",
           "line": {
            "color": "#FF6692",
            "dash": "solid"
           },
           "marker": {
            "symbol": "circle"
           },
           "mode": "lines",
           "name": "Unknown",
           "orientation": "v",
           "showlegend": true,
           "type": "scatter",
           "x": [
            1,
            2,
            3,
            7,
            8,
            11,
            12
           ],
           "xaxis": "x",
           "y": [
            2,
            1,
            2,
            3,
            1,
            2,
            3
           ],
           "yaxis": "y"
          },
          {
           "hovertemplate": "attacktype1_txt=Hostage Taking (Barricade Incident)<br>iyear=1977<br>imonth=%{x}<br>NombreAttaqueTypeMois=%{y}<extra></extra>",
           "legendgroup": "Hostage Taking (Barricade Incident)",
           "line": {
            "color": "#FF97FF",
            "dash": "solid"
           },
           "marker": {
            "symbol": "circle"
           },
           "mode": "lines",
           "name": "Hostage Taking (Barricade Incident)",
           "orientation": "v",
           "showlegend": true,
           "type": "scatter",
           "x": [
            3,
            4,
            5,
            6,
            8,
            10,
            12
           ],
           "xaxis": "x",
           "y": [
            2,
            1,
            1,
            1,
            1,
            4,
            3
           ],
           "yaxis": "y"
          }
         ],
         "name": "1977"
        },
        {
         "data": [
          {
           "hovertemplate": "attacktype1_txt=Hostage Taking (Kidnapping)<br>iyear=1978<br>imonth=%{x}<br>NombreAttaqueTypeMois=%{y}<extra></extra>",
           "legendgroup": "Hostage Taking (Kidnapping)",
           "line": {
            "color": "#636efa",
            "dash": "solid"
           },
           "marker": {
            "symbol": "circle"
           },
           "mode": "lines",
           "name": "Hostage Taking (Kidnapping)",
           "orientation": "v",
           "showlegend": true,
           "type": "scatter",
           "x": [
            0,
            1,
            2,
            3,
            4,
            5,
            6,
            7,
            8,
            9,
            10,
            11,
            12
           ],
           "xaxis": "x",
           "y": [
            2,
            6,
            11,
            9,
            9,
            10,
            1,
            2,
            6,
            12,
            4,
            11,
            14
           ],
           "yaxis": "y"
          },
          {
           "hovertemplate": "attacktype1_txt=Armed Assault<br>iyear=1978<br>imonth=%{x}<br>NombreAttaqueTypeMois=%{y}<extra></extra>",
           "legendgroup": "Armed Assault",
           "line": {
            "color": "#EF553B",
            "dash": "solid"
           },
           "marker": {
            "symbol": "circle"
           },
           "mode": "lines",
           "name": "Armed Assault",
           "orientation": "v",
           "showlegend": true,
           "type": "scatter",
           "x": [
            1,
            2,
            3,
            4,
            5,
            6,
            7,
            8,
            9,
            10,
            11,
            12
           ],
           "xaxis": "x",
           "y": [
            27,
            23,
            18,
            12,
            22,
            12,
            20,
            18,
            31,
            21,
            19,
            18
           ],
           "yaxis": "y"
          },
          {
           "hovertemplate": "attacktype1_txt=Assassination<br>iyear=1978<br>imonth=%{x}<br>NombreAttaqueTypeMois=%{y}<extra></extra>",
           "legendgroup": "Assassination",
           "line": {
            "color": "#00cc96",
            "dash": "solid"
           },
           "marker": {
            "symbol": "circle"
           },
           "mode": "lines",
           "name": "Assassination",
           "orientation": "v",
           "showlegend": true,
           "type": "scatter",
           "x": [
            1,
            2,
            3,
            4,
            5,
            6,
            7,
            8,
            9,
            10,
            11,
            12
           ],
           "xaxis": "x",
           "y": [
            16,
            15,
            20,
            21,
            22,
            23,
            12,
            18,
            18,
            34,
            29,
            35
           ],
           "yaxis": "y"
          },
          {
           "hovertemplate": "attacktype1_txt=Bombing/Explosion<br>iyear=1978<br>imonth=%{x}<br>NombreAttaqueTypeMois=%{y}<extra></extra>",
           "legendgroup": "Bombing/Explosion",
           "line": {
            "color": "#ab63fa",
            "dash": "solid"
           },
           "marker": {
            "symbol": "circle"
           },
           "mode": "lines",
           "name": "Bombing/Explosion",
           "orientation": "v",
           "showlegend": true,
           "type": "scatter",
           "x": [
            1,
            2,
            3,
            4,
            5,
            6,
            7,
            8,
            9,
            10,
            11,
            12
           ],
           "xaxis": "x",
           "y": [
            63,
            64,
            52,
            42,
            47,
            46,
            34,
            48,
            57,
            54,
            40,
            97
           ],
           "yaxis": "y"
          },
          {
           "hovertemplate": "attacktype1_txt=Facility/Infrastructure Attack<br>iyear=1978<br>imonth=%{x}<br>NombreAttaqueTypeMois=%{y}<extra></extra>",
           "legendgroup": "Facility/Infrastructure Attack",
           "line": {
            "color": "#FFA15A",
            "dash": "solid"
           },
           "marker": {
            "symbol": "circle"
           },
           "mode": "lines",
           "name": "Facility/Infrastructure Attack",
           "orientation": "v",
           "showlegend": true,
           "type": "scatter",
           "x": [
            1,
            2,
            3,
            4,
            5,
            6,
            7,
            8,
            9,
            10,
            11,
            12
           ],
           "xaxis": "x",
           "y": [
            36,
            28,
            23,
            25,
            19,
            10,
            4,
            4,
            8,
            10,
            4,
            10
           ],
           "yaxis": "y"
          },
          {
           "hovertemplate": "attacktype1_txt=Unknown<br>iyear=1978<br>imonth=%{x}<br>NombreAttaqueTypeMois=%{y}<extra></extra>",
           "legendgroup": "Unknown",
           "line": {
            "color": "#FF6692",
            "dash": "solid"
           },
           "marker": {
            "symbol": "circle"
           },
           "mode": "lines",
           "name": "Unknown",
           "orientation": "v",
           "showlegend": true,
           "type": "scatter",
           "x": [
            1,
            2,
            3,
            5,
            6,
            8,
            10,
            11,
            12
           ],
           "xaxis": "x",
           "y": [
            3,
            3,
            1,
            1,
            2,
            1,
            2,
            22,
            17
           ],
           "yaxis": "y"
          },
          {
           "hovertemplate": "attacktype1_txt=Unarmed Assault<br>iyear=1978<br>imonth=%{x}<br>NombreAttaqueTypeMois=%{y}<extra></extra>",
           "legendgroup": "Unarmed Assault",
           "line": {
            "color": "#B6E880",
            "dash": "solid"
           },
           "marker": {
            "symbol": "circle"
           },
           "mode": "lines",
           "name": "Unarmed Assault",
           "orientation": "v",
           "showlegend": true,
           "type": "scatter",
           "x": [
            1,
            6,
            7,
            10,
            11
           ],
           "xaxis": "x",
           "y": [
            1,
            1,
            1,
            1,
            1
           ],
           "yaxis": "y"
          },
          {
           "hovertemplate": "attacktype1_txt=Hostage Taking (Barricade Incident)<br>iyear=1978<br>imonth=%{x}<br>NombreAttaqueTypeMois=%{y}<extra></extra>",
           "legendgroup": "Hostage Taking (Barricade Incident)",
           "line": {
            "color": "#FF97FF",
            "dash": "solid"
           },
           "marker": {
            "symbol": "circle"
           },
           "mode": "lines",
           "name": "Hostage Taking (Barricade Incident)",
           "orientation": "v",
           "showlegend": true,
           "type": "scatter",
           "x": [
            1,
            2,
            3,
            4,
            5,
            6,
            7,
            8,
            9,
            10,
            12
           ],
           "xaxis": "x",
           "y": [
            10,
            5,
            2,
            3,
            3,
            4,
            4,
            6,
            1,
            2,
            3
           ],
           "yaxis": "y"
          }
         ],
         "name": "1978"
        },
        {
         "data": [
          {
           "hovertemplate": "attacktype1_txt=Hostage Taking (Kidnapping)<br>iyear=1979<br>imonth=%{x}<br>NombreAttaqueTypeMois=%{y}<extra></extra>",
           "legendgroup": "Hostage Taking (Kidnapping)",
           "line": {
            "color": "#636efa",
            "dash": "solid"
           },
           "marker": {
            "symbol": "circle"
           },
           "mode": "lines",
           "name": "Hostage Taking (Kidnapping)",
           "orientation": "v",
           "showlegend": true,
           "type": "scatter",
           "x": [
            1,
            2,
            3,
            4,
            5,
            6,
            7,
            8,
            9,
            10,
            11,
            12
           ],
           "xaxis": "x",
           "y": [
            16,
            22,
            19,
            7,
            17,
            14,
            6,
            8,
            7,
            15,
            7,
            8
           ],
           "yaxis": "y"
          },
          {
           "hovertemplate": "attacktype1_txt=Armed Assault<br>iyear=1979<br>imonth=%{x}<br>NombreAttaqueTypeMois=%{y}<extra></extra>",
           "legendgroup": "Armed Assault",
           "line": {
            "color": "#EF553B",
            "dash": "solid"
           },
           "marker": {
            "symbol": "circle"
           },
           "mode": "lines",
           "name": "Armed Assault",
           "orientation": "v",
           "showlegend": true,
           "type": "scatter",
           "x": [
            1,
            2,
            3,
            4,
            5,
            6,
            7,
            8,
            9,
            10,
            11,
            12
           ],
           "xaxis": "x",
           "y": [
            56,
            46,
            18,
            33,
            44,
            19,
            23,
            33,
            35,
            54,
            35,
            51
           ],
           "yaxis": "y"
          },
          {
           "hovertemplate": "attacktype1_txt=Assassination<br>iyear=1979<br>imonth=%{x}<br>NombreAttaqueTypeMois=%{y}<extra></extra>",
           "legendgroup": "Assassination",
           "line": {
            "color": "#00cc96",
            "dash": "solid"
           },
           "marker": {
            "symbol": "circle"
           },
           "mode": "lines",
           "name": "Assassination",
           "orientation": "v",
           "showlegend": true,
           "type": "scatter",
           "x": [
            1,
            2,
            3,
            4,
            5,
            6,
            7,
            8,
            9,
            10,
            11,
            12
           ],
           "xaxis": "x",
           "y": [
            51,
            34,
            45,
            46,
            60,
            66,
            25,
            46,
            54,
            33,
            29,
            37
           ],
           "yaxis": "y"
          },
          {
           "hovertemplate": "attacktype1_txt=Bombing/Explosion<br>iyear=1979<br>imonth=%{x}<br>NombreAttaqueTypeMois=%{y}<extra></extra>",
           "legendgroup": "Bombing/Explosion",
           "line": {
            "color": "#ab63fa",
            "dash": "solid"
           },
           "marker": {
            "symbol": "circle"
           },
           "mode": "lines",
           "name": "Bombing/Explosion",
           "orientation": "v",
           "showlegend": true,
           "type": "scatter",
           "x": [
            1,
            2,
            3,
            4,
            5,
            6,
            7,
            8,
            9,
            10,
            11,
            12
           ],
           "xaxis": "x",
           "y": [
            75,
            86,
            129,
            94,
            158,
            90,
            83,
            89,
            70,
            72,
            57,
            55
           ],
           "yaxis": "y"
          },
          {
           "hovertemplate": "attacktype1_txt=Facility/Infrastructure Attack<br>iyear=1979<br>imonth=%{x}<br>NombreAttaqueTypeMois=%{y}<extra></extra>",
           "legendgroup": "Facility/Infrastructure Attack",
           "line": {
            "color": "#FFA15A",
            "dash": "solid"
           },
           "marker": {
            "symbol": "circle"
           },
           "mode": "lines",
           "name": "Facility/Infrastructure Attack",
           "orientation": "v",
           "showlegend": true,
           "type": "scatter",
           "x": [
            1,
            2,
            3,
            4,
            5,
            6,
            7,
            8,
            9,
            10,
            11,
            12
           ],
           "xaxis": "x",
           "y": [
            14,
            16,
            25,
            22,
            24,
            36,
            7,
            9,
            1,
            13,
            17,
            13
           ],
           "yaxis": "y"
          },
          {
           "hovertemplate": "attacktype1_txt=Hijacking<br>iyear=1979<br>imonth=%{x}<br>NombreAttaqueTypeMois=%{y}<extra></extra>",
           "legendgroup": "Hijacking",
           "line": {
            "color": "#19d3f3",
            "dash": "solid"
           },
           "marker": {
            "symbol": "circle"
           },
           "mode": "lines",
           "name": "Hijacking",
           "orientation": "v",
           "showlegend": true,
           "type": "scatter",
           "x": [
            1,
            2,
            3,
            6,
            8,
            9,
            10
           ],
           "xaxis": "x",
           "y": [
            2,
            1,
            1,
            1,
            1,
            2,
            1
           ],
           "yaxis": "y"
          },
          {
           "hovertemplate": "attacktype1_txt=Unknown<br>iyear=1979<br>imonth=%{x}<br>NombreAttaqueTypeMois=%{y}<extra></extra>",
           "legendgroup": "Unknown",
           "line": {
            "color": "#FF6692",
            "dash": "solid"
           },
           "marker": {
            "symbol": "circle"
           },
           "mode": "lines",
           "name": "Unknown",
           "orientation": "v",
           "showlegend": true,
           "type": "scatter",
           "x": [
            0,
            1,
            2,
            3,
            4,
            5,
            6,
            7,
            8,
            9,
            10,
            11,
            12
           ],
           "xaxis": "x",
           "y": [
            3,
            28,
            23,
            18,
            5,
            47,
            21,
            14,
            23,
            3,
            6,
            3,
            2
           ],
           "yaxis": "y"
          },
          {
           "hovertemplate": "attacktype1_txt=Unarmed Assault<br>iyear=1979<br>imonth=%{x}<br>NombreAttaqueTypeMois=%{y}<extra></extra>",
           "legendgroup": "Unarmed Assault",
           "line": {
            "color": "#B6E880",
            "dash": "solid"
           },
           "marker": {
            "symbol": "circle"
           },
           "mode": "lines",
           "name": "Unarmed Assault",
           "orientation": "v",
           "showlegend": true,
           "type": "scatter",
           "x": [
            2,
            5,
            6,
            9
           ],
           "xaxis": "x",
           "y": [
            1,
            3,
            2,
            1
           ],
           "yaxis": "y"
          },
          {
           "hovertemplate": "attacktype1_txt=Hostage Taking (Barricade Incident)<br>iyear=1979<br>imonth=%{x}<br>NombreAttaqueTypeMois=%{y}<extra></extra>",
           "legendgroup": "Hostage Taking (Barricade Incident)",
           "line": {
            "color": "#FF97FF",
            "dash": "solid"
           },
           "marker": {
            "symbol": "circle"
           },
           "mode": "lines",
           "name": "Hostage Taking (Barricade Incident)",
           "orientation": "v",
           "showlegend": true,
           "type": "scatter",
           "x": [
            1,
            2,
            3,
            4,
            5,
            6,
            7,
            8,
            9,
            10,
            11,
            12
           ],
           "xaxis": "x",
           "y": [
            8,
            4,
            4,
            5,
            8,
            1,
            2,
            1,
            4,
            28,
            5,
            6
           ],
           "yaxis": "y"
          }
         ],
         "name": "1979"
        },
        {
         "data": [
          {
           "hovertemplate": "attacktype1_txt=Hostage Taking (Kidnapping)<br>iyear=1980<br>imonth=%{x}<br>NombreAttaqueTypeMois=%{y}<extra></extra>",
           "legendgroup": "Hostage Taking (Kidnapping)",
           "line": {
            "color": "#636efa",
            "dash": "solid"
           },
           "marker": {
            "symbol": "circle"
           },
           "mode": "lines",
           "name": "Hostage Taking (Kidnapping)",
           "orientation": "v",
           "showlegend": true,
           "type": "scatter",
           "x": [
            1,
            2,
            3,
            4,
            5,
            6,
            7,
            8,
            9,
            10,
            11,
            12
           ],
           "xaxis": "x",
           "y": [
            10,
            15,
            6,
            19,
            17,
            12,
            3,
            12,
            11,
            14,
            9,
            12
           ],
           "yaxis": "y"
          },
          {
           "hovertemplate": "attacktype1_txt=Armed Assault<br>iyear=1980<br>imonth=%{x}<br>NombreAttaqueTypeMois=%{y}<extra></extra>",
           "legendgroup": "Armed Assault",
           "line": {
            "color": "#EF553B",
            "dash": "solid"
           },
           "marker": {
            "symbol": "circle"
           },
           "mode": "lines",
           "name": "Armed Assault",
           "orientation": "v",
           "showlegend": true,
           "type": "scatter",
           "x": [
            1,
            2,
            3,
            4,
            5,
            6,
            7,
            8,
            9,
            10,
            11,
            12
           ],
           "xaxis": "x",
           "y": [
            43,
            34,
            57,
            91,
            58,
            45,
            40,
            41,
            46,
            47,
            45,
            27
           ],
           "yaxis": "y"
          },
          {
           "hovertemplate": "attacktype1_txt=Assassination<br>iyear=1980<br>imonth=%{x}<br>NombreAttaqueTypeMois=%{y}<extra></extra>",
           "legendgroup": "Assassination",
           "line": {
            "color": "#00cc96",
            "dash": "solid"
           },
           "marker": {
            "symbol": "circle"
           },
           "mode": "lines",
           "name": "Assassination",
           "orientation": "v",
           "showlegend": true,
           "type": "scatter",
           "x": [
            1,
            2,
            3,
            4,
            5,
            6,
            7,
            8,
            9,
            10,
            11,
            12
           ],
           "xaxis": "x",
           "y": [
            50,
            44,
            44,
            51,
            68,
            64,
            66,
            41,
            40,
            56,
            58,
            36
           ],
           "yaxis": "y"
          },
          {
           "hovertemplate": "attacktype1_txt=Bombing/Explosion<br>iyear=1980<br>imonth=%{x}<br>NombreAttaqueTypeMois=%{y}<extra></extra>",
           "legendgroup": "Bombing/Explosion",
           "line": {
            "color": "#ab63fa",
            "dash": "solid"
           },
           "marker": {
            "symbol": "circle"
           },
           "mode": "lines",
           "name": "Bombing/Explosion",
           "orientation": "v",
           "showlegend": true,
           "type": "scatter",
           "x": [
            1,
            2,
            3,
            4,
            5,
            6,
            7,
            8,
            9,
            10,
            11,
            12
           ],
           "xaxis": "x",
           "y": [
            72,
            65,
            115,
            104,
            39,
            118,
            99,
            64,
            88,
            98,
            59,
            76
           ],
           "yaxis": "y"
          },
          {
           "hovertemplate": "attacktype1_txt=Facility/Infrastructure Attack<br>iyear=1980<br>imonth=%{x}<br>NombreAttaqueTypeMois=%{y}<extra></extra>",
           "legendgroup": "Facility/Infrastructure Attack",
           "line": {
            "color": "#FFA15A",
            "dash": "solid"
           },
           "marker": {
            "symbol": "circle"
           },
           "mode": "lines",
           "name": "Facility/Infrastructure Attack",
           "orientation": "v",
           "showlegend": true,
           "type": "scatter",
           "x": [
            1,
            2,
            3,
            4,
            5,
            6,
            7,
            8,
            9,
            10,
            11,
            12
           ],
           "xaxis": "x",
           "y": [
            23,
            12,
            19,
            10,
            12,
            14,
            6,
            22,
            14,
            12,
            14,
            11
           ],
           "yaxis": "y"
          },
          {
           "hovertemplate": "attacktype1_txt=Hijacking<br>iyear=1980<br>imonth=%{x}<br>NombreAttaqueTypeMois=%{y}<extra></extra>",
           "legendgroup": "Hijacking",
           "line": {
            "color": "#19d3f3",
            "dash": "solid"
           },
           "marker": {
            "symbol": "circle"
           },
           "mode": "lines",
           "name": "Hijacking",
           "orientation": "v",
           "showlegend": true,
           "type": "scatter",
           "x": [
            1,
            3,
            10,
            11,
            12
           ],
           "xaxis": "x",
           "y": [
            6,
            3,
            1,
            2,
            2
           ],
           "yaxis": "y"
          },
          {
           "hovertemplate": "attacktype1_txt=Unknown<br>iyear=1980<br>imonth=%{x}<br>NombreAttaqueTypeMois=%{y}<extra></extra>",
           "legendgroup": "Unknown",
           "line": {
            "color": "#FF6692",
            "dash": "solid"
           },
           "marker": {
            "symbol": "circle"
           },
           "mode": "lines",
           "name": "Unknown",
           "orientation": "v",
           "showlegend": true,
           "type": "scatter",
           "x": [
            1,
            2,
            3,
            4,
            5,
            6,
            7,
            8,
            9,
            10,
            11,
            12
           ],
           "xaxis": "x",
           "y": [
            9,
            9,
            10,
            10,
            1,
            14,
            5,
            2,
            12,
            10,
            13,
            3
           ],
           "yaxis": "y"
          },
          {
           "hovertemplate": "attacktype1_txt=Unarmed Assault<br>iyear=1980<br>imonth=%{x}<br>NombreAttaqueTypeMois=%{y}<extra></extra>",
           "legendgroup": "Unarmed Assault",
           "line": {
            "color": "#B6E880",
            "dash": "solid"
           },
           "marker": {
            "symbol": "circle"
           },
           "mode": "lines",
           "name": "Unarmed Assault",
           "orientation": "v",
           "showlegend": true,
           "type": "scatter",
           "x": [
            8,
            9
           ],
           "xaxis": "x",
           "y": [
            1,
            1
           ],
           "yaxis": "y"
          },
          {
           "hovertemplate": "attacktype1_txt=Hostage Taking (Barricade Incident)<br>iyear=1980<br>imonth=%{x}<br>NombreAttaqueTypeMois=%{y}<extra></extra>",
           "legendgroup": "Hostage Taking (Barricade Incident)",
           "line": {
            "color": "#FF97FF",
            "dash": "solid"
           },
           "marker": {
            "symbol": "circle"
           },
           "mode": "lines",
           "name": "Hostage Taking (Barricade Incident)",
           "orientation": "v",
           "showlegend": true,
           "type": "scatter",
           "x": [
            1,
            2,
            4,
            5,
            6,
            7,
            9,
            10,
            11,
            12
           ],
           "xaxis": "x",
           "y": [
            7,
            2,
            13,
            3,
            6,
            5,
            4,
            2,
            7,
            1
           ],
           "yaxis": "y"
          }
         ],
         "name": "1980"
        },
        {
         "data": [
          {
           "hovertemplate": "attacktype1_txt=Hostage Taking (Kidnapping)<br>iyear=1981<br>imonth=%{x}<br>NombreAttaqueTypeMois=%{y}<extra></extra>",
           "legendgroup": "Hostage Taking (Kidnapping)",
           "line": {
            "color": "#636efa",
            "dash": "solid"
           },
           "marker": {
            "symbol": "circle"
           },
           "mode": "lines",
           "name": "Hostage Taking (Kidnapping)",
           "orientation": "v",
           "showlegend": true,
           "type": "scatter",
           "x": [
            1,
            2,
            3,
            4,
            5,
            6,
            7,
            8,
            9,
            10,
            11,
            12
           ],
           "xaxis": "x",
           "y": [
            6,
            16,
            10,
            5,
            11,
            10,
            3,
            11,
            5,
            16,
            11,
            18
           ],
           "yaxis": "y"
          },
          {
           "hovertemplate": "attacktype1_txt=Armed Assault<br>iyear=1981<br>imonth=%{x}<br>NombreAttaqueTypeMois=%{y}<extra></extra>",
           "legendgroup": "Armed Assault",
           "line": {
            "color": "#EF553B",
            "dash": "solid"
           },
           "marker": {
            "symbol": "circle"
           },
           "mode": "lines",
           "name": "Armed Assault",
           "orientation": "v",
           "showlegend": true,
           "type": "scatter",
           "x": [
            1,
            2,
            3,
            4,
            5,
            6,
            7,
            8,
            9,
            10,
            11,
            12
           ],
           "xaxis": "x",
           "y": [
            71,
            40,
            55,
            61,
            63,
            41,
            51,
            53,
            45,
            56,
            60,
            101
           ],
           "yaxis": "y"
          },
          {
           "hovertemplate": "attacktype1_txt=Assassination<br>iyear=1981<br>imonth=%{x}<br>NombreAttaqueTypeMois=%{y}<extra></extra>",
           "legendgroup": "Assassination",
           "line": {
            "color": "#00cc96",
            "dash": "solid"
           },
           "marker": {
            "symbol": "circle"
           },
           "mode": "lines",
           "name": "Assassination",
           "orientation": "v",
           "showlegend": true,
           "type": "scatter",
           "x": [
            1,
            2,
            3,
            4,
            5,
            6,
            7,
            8,
            9,
            10,
            11,
            12
           ],
           "xaxis": "x",
           "y": [
            42,
            36,
            44,
            39,
            34,
            30,
            33,
            29,
            31,
            35,
            32,
            20
           ],
           "yaxis": "y"
          },
          {
           "hovertemplate": "attacktype1_txt=Bombing/Explosion<br>iyear=1981<br>imonth=%{x}<br>NombreAttaqueTypeMois=%{y}<extra></extra>",
           "legendgroup": "Bombing/Explosion",
           "line": {
            "color": "#ab63fa",
            "dash": "solid"
           },
           "marker": {
            "symbol": "circle"
           },
           "mode": "lines",
           "name": "Bombing/Explosion",
           "orientation": "v",
           "showlegend": true,
           "type": "scatter",
           "x": [
            1,
            2,
            3,
            4,
            5,
            6,
            7,
            8,
            9,
            10,
            11,
            12
           ],
           "xaxis": "x",
           "y": [
            73,
            81,
            76,
            87,
            101,
            60,
            88,
            149,
            84,
            107,
            79,
            97
           ],
           "yaxis": "y"
          },
          {
           "hovertemplate": "attacktype1_txt=Facility/Infrastructure Attack<br>iyear=1981<br>imonth=%{x}<br>NombreAttaqueTypeMois=%{y}<extra></extra>",
           "legendgroup": "Facility/Infrastructure Attack",
           "line": {
            "color": "#FFA15A",
            "dash": "solid"
           },
           "marker": {
            "symbol": "circle"
           },
           "mode": "lines",
           "name": "Facility/Infrastructure Attack",
           "orientation": "v",
           "showlegend": true,
           "type": "scatter",
           "x": [
            1,
            2,
            3,
            4,
            5,
            6,
            7,
            8,
            9,
            10,
            11,
            12
           ],
           "xaxis": "x",
           "y": [
            8,
            29,
            14,
            11,
            6,
            15,
            13,
            12,
            9,
            7,
            9,
            18
           ],
           "yaxis": "y"
          },
          {
           "hovertemplate": "attacktype1_txt=Hijacking<br>iyear=1981<br>imonth=%{x}<br>NombreAttaqueTypeMois=%{y}<extra></extra>",
           "legendgroup": "Hijacking",
           "line": {
            "color": "#19d3f3",
            "dash": "solid"
           },
           "marker": {
            "symbol": "circle"
           },
           "mode": "lines",
           "name": "Hijacking",
           "orientation": "v",
           "showlegend": true,
           "type": "scatter",
           "x": [
            2,
            3,
            5,
            8,
            9,
            10,
            11,
            12
           ],
           "xaxis": "x",
           "y": [
            1,
            3,
            2,
            1,
            3,
            2,
            1,
            5
           ],
           "yaxis": "y"
          },
          {
           "hovertemplate": "attacktype1_txt=Unknown<br>iyear=1981<br>imonth=%{x}<br>NombreAttaqueTypeMois=%{y}<extra></extra>",
           "legendgroup": "Unknown",
           "line": {
            "color": "#FF6692",
            "dash": "solid"
           },
           "marker": {
            "symbol": "circle"
           },
           "mode": "lines",
           "name": "Unknown",
           "orientation": "v",
           "showlegend": true,
           "type": "scatter",
           "x": [
            1,
            2,
            3,
            4,
            5,
            6,
            7,
            8,
            9,
            10,
            11,
            12
           ],
           "xaxis": "x",
           "y": [
            8,
            7,
            2,
            2,
            4,
            12,
            8,
            6,
            6,
            9,
            5,
            5
           ],
           "yaxis": "y"
          },
          {
           "hovertemplate": "attacktype1_txt=Unarmed Assault<br>iyear=1981<br>imonth=%{x}<br>NombreAttaqueTypeMois=%{y}<extra></extra>",
           "legendgroup": "Unarmed Assault",
           "line": {
            "color": "#B6E880",
            "dash": "solid"
           },
           "marker": {
            "symbol": "circle"
           },
           "mode": "lines",
           "name": "Unarmed Assault",
           "orientation": "v",
           "showlegend": true,
           "type": "scatter",
           "x": [
            1,
            10
           ],
           "xaxis": "x",
           "y": [
            1,
            2
           ],
           "yaxis": "y"
          },
          {
           "hovertemplate": "attacktype1_txt=Hostage Taking (Barricade Incident)<br>iyear=1981<br>imonth=%{x}<br>NombreAttaqueTypeMois=%{y}<extra></extra>",
           "legendgroup": "Hostage Taking (Barricade Incident)",
           "line": {
            "color": "#FF97FF",
            "dash": "solid"
           },
           "marker": {
            "symbol": "circle"
           },
           "mode": "lines",
           "name": "Hostage Taking (Barricade Incident)",
           "orientation": "v",
           "showlegend": true,
           "type": "scatter",
           "x": [
            2,
            3,
            4,
            5,
            6,
            8,
            9,
            11,
            12
           ],
           "xaxis": "x",
           "y": [
            4,
            2,
            3,
            2,
            7,
            4,
            4,
            3,
            5
           ],
           "yaxis": "y"
          }
         ],
         "name": "1981"
        },
        {
         "data": [
          {
           "hovertemplate": "attacktype1_txt=Hostage Taking (Kidnapping)<br>iyear=1982<br>imonth=%{x}<br>NombreAttaqueTypeMois=%{y}<extra></extra>",
           "legendgroup": "Hostage Taking (Kidnapping)",
           "line": {
            "color": "#636efa",
            "dash": "solid"
           },
           "marker": {
            "symbol": "circle"
           },
           "mode": "lines",
           "name": "Hostage Taking (Kidnapping)",
           "orientation": "v",
           "showlegend": true,
           "type": "scatter",
           "x": [
            1,
            2,
            3,
            4,
            5,
            6,
            7,
            8,
            9,
            10,
            11,
            12
           ],
           "xaxis": "x",
           "y": [
            12,
            9,
            5,
            1,
            9,
            10,
            9,
            7,
            7,
            20,
            6,
            10
           ],
           "yaxis": "y"
          },
          {
           "hovertemplate": "attacktype1_txt=Armed Assault<br>iyear=1982<br>imonth=%{x}<br>NombreAttaqueTypeMois=%{y}<extra></extra>",
           "legendgroup": "Armed Assault",
           "line": {
            "color": "#EF553B",
            "dash": "solid"
           },
           "marker": {
            "symbol": "circle"
           },
           "mode": "lines",
           "name": "Armed Assault",
           "orientation": "v",
           "showlegend": true,
           "type": "scatter",
           "x": [
            1,
            2,
            3,
            4,
            5,
            6,
            7,
            8,
            9,
            10,
            11,
            12
           ],
           "xaxis": "x",
           "y": [
            58,
            43,
            98,
            64,
            58,
            35,
            47,
            48,
            37,
            85,
            38,
            54
           ],
           "yaxis": "y"
          },
          {
           "hovertemplate": "attacktype1_txt=Assassination<br>iyear=1982<br>imonth=%{x}<br>NombreAttaqueTypeMois=%{y}<extra></extra>",
           "legendgroup": "Assassination",
           "line": {
            "color": "#00cc96",
            "dash": "solid"
           },
           "marker": {
            "symbol": "circle"
           },
           "mode": "lines",
           "name": "Assassination",
           "orientation": "v",
           "showlegend": true,
           "type": "scatter",
           "x": [
            1,
            2,
            3,
            4,
            5,
            6,
            7,
            8,
            9,
            10,
            11,
            12
           ],
           "xaxis": "x",
           "y": [
            35,
            29,
            34,
            41,
            37,
            38,
            20,
            20,
            27,
            25,
            23,
            32
           ],
           "yaxis": "y"
          },
          {
           "hovertemplate": "attacktype1_txt=Bombing/Explosion<br>iyear=1982<br>imonth=%{x}<br>NombreAttaqueTypeMois=%{y}<extra></extra>",
           "legendgroup": "Bombing/Explosion",
           "line": {
            "color": "#ab63fa",
            "dash": "solid"
           },
           "marker": {
            "symbol": "circle"
           },
           "mode": "lines",
           "name": "Bombing/Explosion",
           "orientation": "v",
           "showlegend": true,
           "type": "scatter",
           "x": [
            0,
            1,
            2,
            3,
            4,
            5,
            6,
            7,
            8,
            9,
            10,
            11,
            12
           ],
           "xaxis": "x",
           "y": [
            1,
            93,
            82,
            116,
            116,
            103,
            66,
            117,
            117,
            73,
            102,
            56,
            83
           ],
           "yaxis": "y"
          },
          {
           "hovertemplate": "attacktype1_txt=Facility/Infrastructure Attack<br>iyear=1982<br>imonth=%{x}<br>NombreAttaqueTypeMois=%{y}<extra></extra>",
           "legendgroup": "Facility/Infrastructure Attack",
           "line": {
            "color": "#FFA15A",
            "dash": "solid"
           },
           "marker": {
            "symbol": "circle"
           },
           "mode": "lines",
           "name": "Facility/Infrastructure Attack",
           "orientation": "v",
           "showlegend": true,
           "type": "scatter",
           "x": [
            1,
            2,
            3,
            4,
            5,
            6,
            7,
            8,
            9,
            10,
            11,
            12
           ],
           "xaxis": "x",
           "y": [
            21,
            5,
            13,
            16,
            17,
            7,
            10,
            20,
            13,
            9,
            5,
            12
           ],
           "yaxis": "y"
          },
          {
           "hovertemplate": "attacktype1_txt=Hijacking<br>iyear=1982<br>imonth=%{x}<br>NombreAttaqueTypeMois=%{y}<extra></extra>",
           "legendgroup": "Hijacking",
           "line": {
            "color": "#19d3f3",
            "dash": "solid"
           },
           "marker": {
            "symbol": "circle"
           },
           "mode": "lines",
           "name": "Hijacking",
           "orientation": "v",
           "showlegend": true,
           "type": "scatter",
           "x": [
            1,
            2,
            4,
            5,
            8,
            9,
            10
           ],
           "xaxis": "x",
           "y": [
            1,
            2,
            1,
            1,
            1,
            1,
            1
           ],
           "yaxis": "y"
          },
          {
           "hovertemplate": "attacktype1_txt=Unknown<br>iyear=1982<br>imonth=%{x}<br>NombreAttaqueTypeMois=%{y}<extra></extra>",
           "legendgroup": "Unknown",
           "line": {
            "color": "#FF6692",
            "dash": "solid"
           },
           "marker": {
            "symbol": "circle"
           },
           "mode": "lines",
           "name": "Unknown",
           "orientation": "v",
           "showlegend": true,
           "type": "scatter",
           "x": [
            1,
            2,
            3,
            4,
            5,
            6,
            7,
            8,
            9,
            10,
            11,
            12
           ],
           "xaxis": "x",
           "y": [
            6,
            6,
            4,
            8,
            7,
            6,
            9,
            9,
            7,
            7,
            4,
            6
           ],
           "yaxis": "y"
          },
          {
           "hovertemplate": "attacktype1_txt=Unarmed Assault<br>iyear=1982<br>imonth=%{x}<br>NombreAttaqueTypeMois=%{y}<extra></extra>",
           "legendgroup": "Unarmed Assault",
           "line": {
            "color": "#B6E880",
            "dash": "solid"
           },
           "marker": {
            "symbol": "circle"
           },
           "mode": "lines",
           "name": "Unarmed Assault",
           "orientation": "v",
           "showlegend": true,
           "type": "scatter",
           "x": [
            7,
            10,
            12
           ],
           "xaxis": "x",
           "y": [
            1,
            1,
            1
           ],
           "yaxis": "y"
          },
          {
           "hovertemplate": "attacktype1_txt=Hostage Taking (Barricade Incident)<br>iyear=1982<br>imonth=%{x}<br>NombreAttaqueTypeMois=%{y}<extra></extra>",
           "legendgroup": "Hostage Taking (Barricade Incident)",
           "line": {
            "color": "#FF97FF",
            "dash": "solid"
           },
           "marker": {
            "symbol": "circle"
           },
           "mode": "lines",
           "name": "Hostage Taking (Barricade Incident)",
           "orientation": "v",
           "showlegend": true,
           "type": "scatter",
           "x": [
            1,
            2,
            3,
            4,
            5,
            6,
            7,
            8,
            9,
            10,
            11,
            12
           ],
           "xaxis": "x",
           "y": [
            5,
            4,
            7,
            4,
            4,
            2,
            3,
            2,
            8,
            1,
            5,
            5
           ],
           "yaxis": "y"
          }
         ],
         "name": "1982"
        },
        {
         "data": [
          {
           "hovertemplate": "attacktype1_txt=Hostage Taking (Kidnapping)<br>iyear=1983<br>imonth=%{x}<br>NombreAttaqueTypeMois=%{y}<extra></extra>",
           "legendgroup": "Hostage Taking (Kidnapping)",
           "line": {
            "color": "#636efa",
            "dash": "solid"
           },
           "marker": {
            "symbol": "circle"
           },
           "mode": "lines",
           "name": "Hostage Taking (Kidnapping)",
           "orientation": "v",
           "showlegend": true,
           "type": "scatter",
           "x": [
            1,
            2,
            3,
            4,
            5,
            6,
            7,
            8,
            9,
            10,
            11,
            12
           ],
           "xaxis": "x",
           "y": [
            21,
            6,
            9,
            5,
            15,
            9,
            4,
            12,
            12,
            8,
            18,
            5
           ],
           "yaxis": "y"
          },
          {
           "hovertemplate": "attacktype1_txt=Armed Assault<br>iyear=1983<br>imonth=%{x}<br>NombreAttaqueTypeMois=%{y}<extra></extra>",
           "legendgroup": "Armed Assault",
           "line": {
            "color": "#EF553B",
            "dash": "solid"
           },
           "marker": {
            "symbol": "circle"
           },
           "mode": "lines",
           "name": "Armed Assault",
           "orientation": "v",
           "showlegend": true,
           "type": "scatter",
           "x": [
            1,
            2,
            3,
            4,
            5,
            6,
            7,
            8,
            9,
            10,
            11,
            12
           ],
           "xaxis": "x",
           "y": [
            84,
            88,
            84,
            75,
            92,
            50,
            42,
            86,
            73,
            61,
            57,
            60
           ],
           "yaxis": "y"
          },
          {
           "hovertemplate": "attacktype1_txt=Assassination<br>iyear=1983<br>imonth=%{x}<br>NombreAttaqueTypeMois=%{y}<extra></extra>",
           "legendgroup": "Assassination",
           "line": {
            "color": "#00cc96",
            "dash": "solid"
           },
           "marker": {
            "symbol": "circle"
           },
           "mode": "lines",
           "name": "Assassination",
           "orientation": "v",
           "showlegend": true,
           "type": "scatter",
           "x": [
            1,
            2,
            3,
            4,
            5,
            6,
            7,
            8,
            9,
            10,
            11,
            12
           ],
           "xaxis": "x",
           "y": [
            42,
            19,
            26,
            19,
            27,
            33,
            19,
            34,
            34,
            45,
            37,
            25
           ],
           "yaxis": "y"
          },
          {
           "hovertemplate": "attacktype1_txt=Bombing/Explosion<br>iyear=1983<br>imonth=%{x}<br>NombreAttaqueTypeMois=%{y}<extra></extra>",
           "legendgroup": "Bombing/Explosion",
           "line": {
            "color": "#ab63fa",
            "dash": "solid"
           },
           "marker": {
            "symbol": "circle"
           },
           "mode": "lines",
           "name": "Bombing/Explosion",
           "orientation": "v",
           "showlegend": true,
           "type": "scatter",
           "x": [
            1,
            2,
            3,
            4,
            5,
            6,
            7,
            8,
            9,
            10,
            11,
            12
           ],
           "xaxis": "x",
           "y": [
            103,
            71,
            96,
            101,
            150,
            141,
            110,
            75,
            83,
            120,
            95,
            101
           ],
           "yaxis": "y"
          },
          {
           "hovertemplate": "attacktype1_txt=Facility/Infrastructure Attack<br>iyear=1983<br>imonth=%{x}<br>NombreAttaqueTypeMois=%{y}<extra></extra>",
           "legendgroup": "Facility/Infrastructure Attack",
           "line": {
            "color": "#FFA15A",
            "dash": "solid"
           },
           "marker": {
            "symbol": "circle"
           },
           "mode": "lines",
           "name": "Facility/Infrastructure Attack",
           "orientation": "v",
           "showlegend": true,
           "type": "scatter",
           "x": [
            1,
            2,
            3,
            4,
            5,
            6,
            7,
            8,
            9,
            10,
            11,
            12
           ],
           "xaxis": "x",
           "y": [
            24,
            6,
            7,
            7,
            5,
            11,
            24,
            11,
            19,
            12,
            8,
            8
           ],
           "yaxis": "y"
          },
          {
           "hovertemplate": "attacktype1_txt=Hijacking<br>iyear=1983<br>imonth=%{x}<br>NombreAttaqueTypeMois=%{y}<extra></extra>",
           "legendgroup": "Hijacking",
           "line": {
            "color": "#19d3f3",
            "dash": "solid"
           },
           "marker": {
            "symbol": "circle"
           },
           "mode": "lines",
           "name": "Hijacking",
           "orientation": "v",
           "showlegend": true,
           "type": "scatter",
           "x": [
            1,
            2,
            4,
            5,
            6,
            7,
            8
           ],
           "xaxis": "x",
           "y": [
            1,
            1,
            1,
            1,
            1,
            2,
            1
           ],
           "yaxis": "y"
          },
          {
           "hovertemplate": "attacktype1_txt=Unknown<br>iyear=1983<br>imonth=%{x}<br>NombreAttaqueTypeMois=%{y}<extra></extra>",
           "legendgroup": "Unknown",
           "line": {
            "color": "#FF6692",
            "dash": "solid"
           },
           "marker": {
            "symbol": "circle"
           },
           "mode": "lines",
           "name": "Unknown",
           "orientation": "v",
           "showlegend": true,
           "type": "scatter",
           "x": [
            1,
            2,
            3,
            4,
            5,
            6,
            7,
            8,
            9,
            10,
            11,
            12
           ],
           "xaxis": "x",
           "y": [
            14,
            6,
            7,
            10,
            6,
            6,
            10,
            6,
            14,
            10,
            12,
            9
           ],
           "yaxis": "y"
          },
          {
           "hovertemplate": "attacktype1_txt=Unarmed Assault<br>iyear=1983<br>imonth=%{x}<br>NombreAttaqueTypeMois=%{y}<extra></extra>",
           "legendgroup": "Unarmed Assault",
           "line": {
            "color": "#B6E880",
            "dash": "solid"
           },
           "marker": {
            "symbol": "circle"
           },
           "mode": "lines",
           "name": "Unarmed Assault",
           "orientation": "v",
           "showlegend": true,
           "type": "scatter",
           "x": [
            11,
            12
           ],
           "xaxis": "x",
           "y": [
            1,
            1
           ],
           "yaxis": "y"
          },
          {
           "hovertemplate": "attacktype1_txt=Hostage Taking (Barricade Incident)<br>iyear=1983<br>imonth=%{x}<br>NombreAttaqueTypeMois=%{y}<extra></extra>",
           "legendgroup": "Hostage Taking (Barricade Incident)",
           "line": {
            "color": "#FF97FF",
            "dash": "solid"
           },
           "marker": {
            "symbol": "circle"
           },
           "mode": "lines",
           "name": "Hostage Taking (Barricade Incident)",
           "orientation": "v",
           "showlegend": true,
           "type": "scatter",
           "x": [
            1,
            2,
            3,
            4,
            7,
            9,
            10,
            11
           ],
           "xaxis": "x",
           "y": [
            3,
            1,
            3,
            3,
            7,
            1,
            3,
            5
           ],
           "yaxis": "y"
          }
         ],
         "name": "1983"
        },
        {
         "data": [
          {
           "hovertemplate": "attacktype1_txt=Hostage Taking (Kidnapping)<br>iyear=1984<br>imonth=%{x}<br>NombreAttaqueTypeMois=%{y}<extra></extra>",
           "legendgroup": "Hostage Taking (Kidnapping)",
           "line": {
            "color": "#636efa",
            "dash": "solid"
           },
           "marker": {
            "symbol": "circle"
           },
           "mode": "lines",
           "name": "Hostage Taking (Kidnapping)",
           "orientation": "v",
           "showlegend": true,
           "type": "scatter",
           "x": [
            1,
            2,
            3,
            4,
            5,
            6,
            7,
            8,
            9,
            10,
            11,
            12
           ],
           "xaxis": "x",
           "y": [
            5,
            11,
            7,
            2,
            8,
            9,
            7,
            3,
            10,
            4,
            6,
            5
           ],
           "yaxis": "y"
          },
          {
           "hovertemplate": "attacktype1_txt=Armed Assault<br>iyear=1984<br>imonth=%{x}<br>NombreAttaqueTypeMois=%{y}<extra></extra>",
           "legendgroup": "Armed Assault",
           "line": {
            "color": "#EF553B",
            "dash": "solid"
           },
           "marker": {
            "symbol": "circle"
           },
           "mode": "lines",
           "name": "Armed Assault",
           "orientation": "v",
           "showlegend": true,
           "type": "scatter",
           "x": [
            1,
            2,
            3,
            4,
            5,
            6,
            7,
            8,
            9,
            10,
            11,
            12
           ],
           "xaxis": "x",
           "y": [
            57,
            75,
            78,
            89,
            53,
            73,
            66,
            73,
            103,
            59,
            52,
            45
           ],
           "yaxis": "y"
          },
          {
           "hovertemplate": "attacktype1_txt=Assassination<br>iyear=1984<br>imonth=%{x}<br>NombreAttaqueTypeMois=%{y}<extra></extra>",
           "legendgroup": "Assassination",
           "line": {
            "color": "#00cc96",
            "dash": "solid"
           },
           "marker": {
            "symbol": "circle"
           },
           "mode": "lines",
           "name": "Assassination",
           "orientation": "v",
           "showlegend": true,
           "type": "scatter",
           "x": [
            1,
            2,
            3,
            4,
            5,
            6,
            7,
            8,
            9,
            10,
            11,
            12
           ],
           "xaxis": "x",
           "y": [
            36,
            31,
            66,
            62,
            56,
            31,
            34,
            14,
            22,
            28,
            37,
            26
           ],
           "yaxis": "y"
          },
          {
           "hovertemplate": "attacktype1_txt=Bombing/Explosion<br>iyear=1984<br>imonth=%{x}<br>NombreAttaqueTypeMois=%{y}<extra></extra>",
           "legendgroup": "Bombing/Explosion",
           "line": {
            "color": "#ab63fa",
            "dash": "solid"
           },
           "marker": {
            "symbol": "circle"
           },
           "mode": "lines",
           "name": "Bombing/Explosion",
           "orientation": "v",
           "showlegend": true,
           "type": "scatter",
           "x": [
            1,
            2,
            3,
            4,
            5,
            6,
            7,
            8,
            9,
            10,
            11,
            12
           ],
           "xaxis": "x",
           "y": [
            160,
            133,
            182,
            181,
            148,
            110,
            195,
            205,
            124,
            122,
            123,
            93
           ],
           "yaxis": "y"
          },
          {
           "hovertemplate": "attacktype1_txt=Facility/Infrastructure Attack<br>iyear=1984<br>imonth=%{x}<br>NombreAttaqueTypeMois=%{y}<extra></extra>",
           "legendgroup": "Facility/Infrastructure Attack",
           "line": {
            "color": "#FFA15A",
            "dash": "solid"
           },
           "marker": {
            "symbol": "circle"
           },
           "mode": "lines",
           "name": "Facility/Infrastructure Attack",
           "orientation": "v",
           "showlegend": true,
           "type": "scatter",
           "x": [
            1,
            2,
            3,
            4,
            5,
            6,
            7,
            8,
            9,
            10,
            11,
            12
           ],
           "xaxis": "x",
           "y": [
            13,
            19,
            23,
            17,
            12,
            8,
            18,
            10,
            12,
            6,
            13,
            11
           ],
           "yaxis": "y"
          },
          {
           "hovertemplate": "attacktype1_txt=Hijacking<br>iyear=1984<br>imonth=%{x}<br>NombreAttaqueTypeMois=%{y}<extra></extra>",
           "legendgroup": "Hijacking",
           "line": {
            "color": "#19d3f3",
            "dash": "solid"
           },
           "marker": {
            "symbol": "circle"
           },
           "mode": "lines",
           "name": "Hijacking",
           "orientation": "v",
           "showlegend": true,
           "type": "scatter",
           "x": [
            3,
            5,
            6,
            7,
            8,
            9,
            10,
            11,
            12
           ],
           "xaxis": "x",
           "y": [
            2,
            1,
            1,
            4,
            3,
            4,
            1,
            3,
            2
           ],
           "yaxis": "y"
          },
          {
           "hovertemplate": "attacktype1_txt=Unknown<br>iyear=1984<br>imonth=%{x}<br>NombreAttaqueTypeMois=%{y}<extra></extra>",
           "legendgroup": "Unknown",
           "line": {
            "color": "#FF6692",
            "dash": "solid"
           },
           "marker": {
            "symbol": "circle"
           },
           "mode": "lines",
           "name": "Unknown",
           "orientation": "v",
           "showlegend": true,
           "type": "scatter",
           "x": [
            1,
            2,
            3,
            4,
            5,
            6,
            7,
            8,
            9,
            10,
            11,
            12
           ],
           "xaxis": "x",
           "y": [
            3,
            15,
            14,
            13,
            18,
            12,
            20,
            22,
            13,
            12,
            3,
            12
           ],
           "yaxis": "y"
          },
          {
           "hovertemplate": "attacktype1_txt=Unarmed Assault<br>iyear=1984<br>imonth=%{x}<br>NombreAttaqueTypeMois=%{y}<extra></extra>",
           "legendgroup": "Unarmed Assault",
           "line": {
            "color": "#B6E880",
            "dash": "solid"
           },
           "marker": {
            "symbol": "circle"
           },
           "mode": "lines",
           "name": "Unarmed Assault",
           "orientation": "v",
           "showlegend": true,
           "type": "scatter",
           "x": [
            4,
            7,
            8,
            9,
            12
           ],
           "xaxis": "x",
           "y": [
            1,
            1,
            1,
            2,
            2
           ],
           "yaxis": "y"
          },
          {
           "hovertemplate": "attacktype1_txt=Hostage Taking (Barricade Incident)<br>iyear=1984<br>imonth=%{x}<br>NombreAttaqueTypeMois=%{y}<extra></extra>",
           "legendgroup": "Hostage Taking (Barricade Incident)",
           "line": {
            "color": "#FF97FF",
            "dash": "solid"
           },
           "marker": {
            "symbol": "circle"
           },
           "mode": "lines",
           "name": "Hostage Taking (Barricade Incident)",
           "orientation": "v",
           "showlegend": true,
           "type": "scatter",
           "x": [
            1,
            2,
            3,
            4,
            5,
            6,
            9,
            10,
            11,
            12
           ],
           "xaxis": "x",
           "y": [
            4,
            2,
            2,
            5,
            3,
            5,
            4,
            1,
            2,
            1
           ],
           "yaxis": "y"
          }
         ],
         "name": "1984"
        },
        {
         "data": [
          {
           "hovertemplate": "attacktype1_txt=Hostage Taking (Kidnapping)<br>iyear=1985<br>imonth=%{x}<br>NombreAttaqueTypeMois=%{y}<extra></extra>",
           "legendgroup": "Hostage Taking (Kidnapping)",
           "line": {
            "color": "#636efa",
            "dash": "solid"
           },
           "marker": {
            "symbol": "circle"
           },
           "mode": "lines",
           "name": "Hostage Taking (Kidnapping)",
           "orientation": "v",
           "showlegend": true,
           "type": "scatter",
           "x": [
            1,
            2,
            3,
            4,
            5,
            6,
            7,
            8,
            9,
            10,
            11,
            12
           ],
           "xaxis": "x",
           "y": [
            8,
            7,
            23,
            4,
            18,
            8,
            8,
            6,
            14,
            7,
            3,
            10
           ],
           "yaxis": "y"
          },
          {
           "hovertemplate": "attacktype1_txt=Armed Assault<br>iyear=1985<br>imonth=%{x}<br>NombreAttaqueTypeMois=%{y}<extra></extra>",
           "legendgroup": "Armed Assault",
           "line": {
            "color": "#EF553B",
            "dash": "solid"
           },
           "marker": {
            "symbol": "circle"
           },
           "mode": "lines",
           "name": "Armed Assault",
           "orientation": "v",
           "showlegend": true,
           "type": "scatter",
           "x": [
            1,
            2,
            3,
            4,
            5,
            6,
            7,
            8,
            9,
            10,
            11,
            12
           ],
           "xaxis": "x",
           "y": [
            68,
            39,
            42,
            24,
            74,
            60,
            53,
            69,
            54,
            66,
            57,
            53
           ],
           "yaxis": "y"
          },
          {
           "hovertemplate": "attacktype1_txt=Assassination<br>iyear=1985<br>imonth=%{x}<br>NombreAttaqueTypeMois=%{y}<extra></extra>",
           "legendgroup": "Assassination",
           "line": {
            "color": "#00cc96",
            "dash": "solid"
           },
           "marker": {
            "symbol": "circle"
           },
           "mode": "lines",
           "name": "Assassination",
           "orientation": "v",
           "showlegend": true,
           "type": "scatter",
           "x": [
            1,
            2,
            3,
            4,
            5,
            6,
            7,
            8,
            9,
            10,
            11,
            12
           ],
           "xaxis": "x",
           "y": [
            15,
            12,
            23,
            24,
            40,
            40,
            34,
            24,
            18,
            24,
            30,
            27
           ],
           "yaxis": "y"
          },
          {
           "hovertemplate": "attacktype1_txt=Bombing/Explosion<br>iyear=1985<br>imonth=%{x}<br>NombreAttaqueTypeMois=%{y}<extra></extra>",
           "legendgroup": "Bombing/Explosion",
           "line": {
            "color": "#ab63fa",
            "dash": "solid"
           },
           "marker": {
            "symbol": "circle"
           },
           "mode": "lines",
           "name": "Bombing/Explosion",
           "orientation": "v",
           "showlegend": true,
           "type": "scatter",
           "x": [
            1,
            2,
            3,
            4,
            5,
            6,
            7,
            8,
            9,
            10,
            11,
            12
           ],
           "xaxis": "x",
           "y": [
            99,
            95,
            115,
            83,
            254,
            151,
            137,
            119,
            109,
            104,
            110,
            106
           ],
           "yaxis": "y"
          },
          {
           "hovertemplate": "attacktype1_txt=Facility/Infrastructure Attack<br>iyear=1985<br>imonth=%{x}<br>NombreAttaqueTypeMois=%{y}<extra></extra>",
           "legendgroup": "Facility/Infrastructure Attack",
           "line": {
            "color": "#FFA15A",
            "dash": "solid"
           },
           "marker": {
            "symbol": "circle"
           },
           "mode": "lines",
           "name": "Facility/Infrastructure Attack",
           "orientation": "v",
           "showlegend": true,
           "type": "scatter",
           "x": [
            1,
            2,
            3,
            4,
            5,
            6,
            7,
            8,
            9,
            10,
            11,
            12
           ],
           "xaxis": "x",
           "y": [
            25,
            8,
            6,
            14,
            19,
            18,
            9,
            6,
            5,
            9,
            13,
            6
           ],
           "yaxis": "y"
          },
          {
           "hovertemplate": "attacktype1_txt=Hijacking<br>iyear=1985<br>imonth=%{x}<br>NombreAttaqueTypeMois=%{y}<extra></extra>",
           "legendgroup": "Hijacking",
           "line": {
            "color": "#19d3f3",
            "dash": "solid"
           },
           "marker": {
            "symbol": "circle"
           },
           "mode": "lines",
           "name": "Hijacking",
           "orientation": "v",
           "showlegend": true,
           "type": "scatter",
           "x": [
            2,
            3,
            5,
            6,
            7,
            8,
            9,
            10,
            11
           ],
           "xaxis": "x",
           "y": [
            2,
            1,
            1,
            3,
            1,
            2,
            1,
            2,
            2
           ],
           "yaxis": "y"
          },
          {
           "hovertemplate": "attacktype1_txt=Unknown<br>iyear=1985<br>imonth=%{x}<br>NombreAttaqueTypeMois=%{y}<extra></extra>",
           "legendgroup": "Unknown",
           "line": {
            "color": "#FF6692",
            "dash": "solid"
           },
           "marker": {
            "symbol": "circle"
           },
           "mode": "lines",
           "name": "Unknown",
           "orientation": "v",
           "showlegend": true,
           "type": "scatter",
           "x": [
            1,
            2,
            3,
            4,
            5,
            6,
            7,
            8,
            9,
            10,
            11,
            12
           ],
           "xaxis": "x",
           "y": [
            16,
            9,
            7,
            5,
            8,
            11,
            10,
            35,
            4,
            2,
            14,
            13
           ],
           "yaxis": "y"
          },
          {
           "hovertemplate": "attacktype1_txt=Unarmed Assault<br>iyear=1985<br>imonth=%{x}<br>NombreAttaqueTypeMois=%{y}<extra></extra>",
           "legendgroup": "Unarmed Assault",
           "line": {
            "color": "#B6E880",
            "dash": "solid"
           },
           "marker": {
            "symbol": "circle"
           },
           "mode": "lines",
           "name": "Unarmed Assault",
           "orientation": "v",
           "showlegend": true,
           "type": "scatter",
           "x": [
            3,
            4,
            5,
            7
           ],
           "xaxis": "x",
           "y": [
            1,
            2,
            1,
            1
           ],
           "yaxis": "y"
          },
          {
           "hovertemplate": "attacktype1_txt=Hostage Taking (Barricade Incident)<br>iyear=1985<br>imonth=%{x}<br>NombreAttaqueTypeMois=%{y}<extra></extra>",
           "legendgroup": "Hostage Taking (Barricade Incident)",
           "line": {
            "color": "#FF97FF",
            "dash": "solid"
           },
           "marker": {
            "symbol": "circle"
           },
           "mode": "lines",
           "name": "Hostage Taking (Barricade Incident)",
           "orientation": "v",
           "showlegend": true,
           "type": "scatter",
           "x": [
            1,
            2,
            3,
            5,
            6,
            7,
            8,
            10,
            11,
            12
           ],
           "xaxis": "x",
           "y": [
            3,
            12,
            6,
            7,
            5,
            10,
            5,
            3,
            2,
            2
           ],
           "yaxis": "y"
          }
         ],
         "name": "1985"
        },
        {
         "data": [
          {
           "hovertemplate": "attacktype1_txt=Hostage Taking (Kidnapping)<br>iyear=1986<br>imonth=%{x}<br>NombreAttaqueTypeMois=%{y}<extra></extra>",
           "legendgroup": "Hostage Taking (Kidnapping)",
           "line": {
            "color": "#636efa",
            "dash": "solid"
           },
           "marker": {
            "symbol": "circle"
           },
           "mode": "lines",
           "name": "Hostage Taking (Kidnapping)",
           "orientation": "v",
           "showlegend": true,
           "type": "scatter",
           "x": [
            0,
            1,
            2,
            3,
            4,
            5,
            6,
            7,
            8,
            9,
            10,
            11,
            12
           ],
           "xaxis": "x",
           "y": [
            1,
            9,
            8,
            14,
            9,
            7,
            1,
            9,
            6,
            11,
            13,
            3,
            5
           ],
           "yaxis": "y"
          },
          {
           "hovertemplate": "attacktype1_txt=Armed Assault<br>iyear=1986<br>imonth=%{x}<br>NombreAttaqueTypeMois=%{y}<extra></extra>",
           "legendgroup": "Armed Assault",
           "line": {
            "color": "#EF553B",
            "dash": "solid"
           },
           "marker": {
            "symbol": "circle"
           },
           "mode": "lines",
           "name": "Armed Assault",
           "orientation": "v",
           "showlegend": true,
           "type": "scatter",
           "x": [
            1,
            2,
            3,
            4,
            5,
            6,
            7,
            8,
            9,
            10,
            11,
            12
           ],
           "xaxis": "x",
           "y": [
            52,
            38,
            68,
            58,
            54,
            34,
            57,
            51,
            45,
            43,
            44,
            48
           ],
           "yaxis": "y"
          },
          {
           "hovertemplate": "attacktype1_txt=Assassination<br>iyear=1986<br>imonth=%{x}<br>NombreAttaqueTypeMois=%{y}<extra></extra>",
           "legendgroup": "Assassination",
           "line": {
            "color": "#00cc96",
            "dash": "solid"
           },
           "marker": {
            "symbol": "circle"
           },
           "mode": "lines",
           "name": "Assassination",
           "orientation": "v",
           "showlegend": true,
           "type": "scatter",
           "x": [
            1,
            2,
            3,
            4,
            5,
            6,
            7,
            8,
            9,
            10,
            11,
            12
           ],
           "xaxis": "x",
           "y": [
            23,
            30,
            37,
            24,
            25,
            54,
            35,
            27,
            44,
            30,
            22,
            20
           ],
           "yaxis": "y"
          },
          {
           "hovertemplate": "attacktype1_txt=Bombing/Explosion<br>iyear=1986<br>imonth=%{x}<br>NombreAttaqueTypeMois=%{y}<extra></extra>",
           "legendgroup": "Bombing/Explosion",
           "line": {
            "color": "#ab63fa",
            "dash": "solid"
           },
           "marker": {
            "symbol": "circle"
           },
           "mode": "lines",
           "name": "Bombing/Explosion",
           "orientation": "v",
           "showlegend": true,
           "type": "scatter",
           "x": [
            1,
            2,
            3,
            4,
            5,
            6,
            7,
            8,
            9,
            10,
            11,
            12
           ],
           "xaxis": "x",
           "y": [
            124,
            108,
            155,
            139,
            133,
            220,
            135,
            118,
            92,
            94,
            77,
            111
           ],
           "yaxis": "y"
          },
          {
           "hovertemplate": "attacktype1_txt=Facility/Infrastructure Attack<br>iyear=1986<br>imonth=%{x}<br>NombreAttaqueTypeMois=%{y}<extra></extra>",
           "legendgroup": "Facility/Infrastructure Attack",
           "line": {
            "color": "#FFA15A",
            "dash": "solid"
           },
           "marker": {
            "symbol": "circle"
           },
           "mode": "lines",
           "name": "Facility/Infrastructure Attack",
           "orientation": "v",
           "showlegend": true,
           "type": "scatter",
           "x": [
            1,
            2,
            3,
            4,
            5,
            6,
            7,
            8,
            9,
            10,
            11,
            12
           ],
           "xaxis": "x",
           "y": [
            4,
            7,
            13,
            12,
            21,
            13,
            14,
            19,
            11,
            6,
            9,
            12
           ],
           "yaxis": "y"
          },
          {
           "hovertemplate": "attacktype1_txt=Hijacking<br>iyear=1986<br>imonth=%{x}<br>NombreAttaqueTypeMois=%{y}<extra></extra>",
           "legendgroup": "Hijacking",
           "line": {
            "color": "#19d3f3",
            "dash": "solid"
           },
           "marker": {
            "symbol": "circle"
           },
           "mode": "lines",
           "name": "Hijacking",
           "orientation": "v",
           "showlegend": true,
           "type": "scatter",
           "x": [
            7,
            9,
            10,
            12
           ],
           "xaxis": "x",
           "y": [
            1,
            1,
            1,
            1
           ],
           "yaxis": "y"
          },
          {
           "hovertemplate": "attacktype1_txt=Unknown<br>iyear=1986<br>imonth=%{x}<br>NombreAttaqueTypeMois=%{y}<extra></extra>",
           "legendgroup": "Unknown",
           "line": {
            "color": "#FF6692",
            "dash": "solid"
           },
           "marker": {
            "symbol": "circle"
           },
           "mode": "lines",
           "name": "Unknown",
           "orientation": "v",
           "showlegend": true,
           "type": "scatter",
           "x": [
            1,
            2,
            3,
            4,
            5,
            6,
            7,
            8,
            9,
            10,
            11,
            12
           ],
           "xaxis": "x",
           "y": [
            6,
            10,
            9,
            7,
            4,
            13,
            15,
            11,
            9,
            11,
            10,
            12
           ],
           "yaxis": "y"
          },
          {
           "hovertemplate": "attacktype1_txt=Unarmed Assault<br>iyear=1986<br>imonth=%{x}<br>NombreAttaqueTypeMois=%{y}<extra></extra>",
           "legendgroup": "Unarmed Assault",
           "line": {
            "color": "#B6E880",
            "dash": "solid"
           },
           "marker": {
            "symbol": "circle"
           },
           "mode": "lines",
           "name": "Unarmed Assault",
           "orientation": "v",
           "showlegend": true,
           "type": "scatter",
           "x": [
            1,
            3,
            5,
            9,
            12
           ],
           "xaxis": "x",
           "y": [
            2,
            1,
            1,
            1,
            1
           ],
           "yaxis": "y"
          },
          {
           "hovertemplate": "attacktype1_txt=Hostage Taking (Barricade Incident)<br>iyear=1986<br>imonth=%{x}<br>NombreAttaqueTypeMois=%{y}<extra></extra>",
           "legendgroup": "Hostage Taking (Barricade Incident)",
           "line": {
            "color": "#FF97FF",
            "dash": "solid"
           },
           "marker": {
            "symbol": "circle"
           },
           "mode": "lines",
           "name": "Hostage Taking (Barricade Incident)",
           "orientation": "v",
           "showlegend": true,
           "type": "scatter",
           "x": [
            1,
            3,
            5,
            6,
            8,
            9,
            10,
            11,
            12
           ],
           "xaxis": "x",
           "y": [
            3,
            3,
            3,
            9,
            4,
            2,
            1,
            1,
            1
           ],
           "yaxis": "y"
          }
         ],
         "name": "1986"
        },
        {
         "data": [
          {
           "hovertemplate": "attacktype1_txt=Hostage Taking (Kidnapping)<br>iyear=1987<br>imonth=%{x}<br>NombreAttaqueTypeMois=%{y}<extra></extra>",
           "legendgroup": "Hostage Taking (Kidnapping)",
           "line": {
            "color": "#636efa",
            "dash": "solid"
           },
           "marker": {
            "symbol": "circle"
           },
           "mode": "lines",
           "name": "Hostage Taking (Kidnapping)",
           "orientation": "v",
           "showlegend": true,
           "type": "scatter",
           "x": [
            1,
            2,
            3,
            4,
            5,
            6,
            7,
            8,
            9,
            10,
            11,
            12
           ],
           "xaxis": "x",
           "y": [
            19,
            12,
            6,
            9,
            7,
            9,
            6,
            6,
            5,
            8,
            4,
            8
           ],
           "yaxis": "y"
          },
          {
           "hovertemplate": "attacktype1_txt=Armed Assault<br>iyear=1987<br>imonth=%{x}<br>NombreAttaqueTypeMois=%{y}<extra></extra>",
           "legendgroup": "Armed Assault",
           "line": {
            "color": "#EF553B",
            "dash": "solid"
           },
           "marker": {
            "symbol": "circle"
           },
           "mode": "lines",
           "name": "Armed Assault",
           "orientation": "v",
           "showlegend": true,
           "type": "scatter",
           "x": [
            1,
            2,
            3,
            4,
            5,
            6,
            7,
            8,
            9,
            10,
            11,
            12
           ],
           "xaxis": "x",
           "y": [
            37,
            37,
            38,
            67,
            67,
            66,
            76,
            97,
            91,
            74,
            82,
            66
           ],
           "yaxis": "y"
          },
          {
           "hovertemplate": "attacktype1_txt=Assassination<br>iyear=1987<br>imonth=%{x}<br>NombreAttaqueTypeMois=%{y}<extra></extra>",
           "legendgroup": "Assassination",
           "line": {
            "color": "#00cc96",
            "dash": "solid"
           },
           "marker": {
            "symbol": "circle"
           },
           "mode": "lines",
           "name": "Assassination",
           "orientation": "v",
           "showlegend": true,
           "type": "scatter",
           "x": [
            1,
            2,
            3,
            4,
            5,
            6,
            7,
            8,
            9,
            10,
            11,
            12
           ],
           "xaxis": "x",
           "y": [
            34,
            25,
            36,
            56,
            30,
            56,
            36,
            43,
            53,
            54,
            39,
            33
           ],
           "yaxis": "y"
          },
          {
           "hovertemplate": "attacktype1_txt=Bombing/Explosion<br>iyear=1987<br>imonth=%{x}<br>NombreAttaqueTypeMois=%{y}<extra></extra>",
           "legendgroup": "Bombing/Explosion",
           "line": {
            "color": "#ab63fa",
            "dash": "solid"
           },
           "marker": {
            "symbol": "circle"
           },
           "mode": "lines",
           "name": "Bombing/Explosion",
           "orientation": "v",
           "showlegend": true,
           "type": "scatter",
           "x": [
            1,
            2,
            3,
            4,
            5,
            6,
            7,
            8,
            9,
            10,
            11,
            12
           ],
           "xaxis": "x",
           "y": [
            96,
            141,
            99,
            149,
            125,
            135,
            165,
            134,
            115,
            98,
            171,
            49
           ],
           "yaxis": "y"
          },
          {
           "hovertemplate": "attacktype1_txt=Facility/Infrastructure Attack<br>iyear=1987<br>imonth=%{x}<br>NombreAttaqueTypeMois=%{y}<extra></extra>",
           "legendgroup": "Facility/Infrastructure Attack",
           "line": {
            "color": "#FFA15A",
            "dash": "solid"
           },
           "marker": {
            "symbol": "circle"
           },
           "mode": "lines",
           "name": "Facility/Infrastructure Attack",
           "orientation": "v",
           "showlegend": true,
           "type": "scatter",
           "x": [
            1,
            2,
            3,
            4,
            5,
            6,
            7,
            8,
            9,
            10,
            11,
            12
           ],
           "xaxis": "x",
           "y": [
            9,
            25,
            5,
            9,
            6,
            20,
            5,
            5,
            15,
            7,
            11,
            3
           ],
           "yaxis": "y"
          },
          {
           "hovertemplate": "attacktype1_txt=Hijacking<br>iyear=1987<br>imonth=%{x}<br>NombreAttaqueTypeMois=%{y}<extra></extra>",
           "legendgroup": "Hijacking",
           "line": {
            "color": "#19d3f3",
            "dash": "solid"
           },
           "marker": {
            "symbol": "circle"
           },
           "mode": "lines",
           "name": "Hijacking",
           "orientation": "v",
           "showlegend": true,
           "type": "scatter",
           "x": [
            7,
            11
           ],
           "xaxis": "x",
           "y": [
            1,
            1
           ],
           "yaxis": "y"
          },
          {
           "hovertemplate": "attacktype1_txt=Unknown<br>iyear=1987<br>imonth=%{x}<br>NombreAttaqueTypeMois=%{y}<extra></extra>",
           "legendgroup": "Unknown",
           "line": {
            "color": "#FF6692",
            "dash": "solid"
           },
           "marker": {
            "symbol": "circle"
           },
           "mode": "lines",
           "name": "Unknown",
           "orientation": "v",
           "showlegend": true,
           "type": "scatter",
           "x": [
            1,
            2,
            3,
            4,
            5,
            6,
            7,
            8,
            9,
            10,
            11,
            12
           ],
           "xaxis": "x",
           "y": [
            42,
            29,
            42,
            8,
            9,
            3,
            8,
            3,
            8,
            6,
            3,
            2
           ],
           "yaxis": "y"
          },
          {
           "hovertemplate": "attacktype1_txt=Unarmed Assault<br>iyear=1987<br>imonth=%{x}<br>NombreAttaqueTypeMois=%{y}<extra></extra>",
           "legendgroup": "Unarmed Assault",
           "line": {
            "color": "#B6E880",
            "dash": "solid"
           },
           "marker": {
            "symbol": "circle"
           },
           "mode": "lines",
           "name": "Unarmed Assault",
           "orientation": "v",
           "showlegend": true,
           "type": "scatter",
           "x": [
            4,
            5,
            9
           ],
           "xaxis": "x",
           "y": [
            1,
            1,
            1
           ],
           "yaxis": "y"
          },
          {
           "hovertemplate": "attacktype1_txt=Hostage Taking (Barricade Incident)<br>iyear=1987<br>imonth=%{x}<br>NombreAttaqueTypeMois=%{y}<extra></extra>",
           "legendgroup": "Hostage Taking (Barricade Incident)",
           "line": {
            "color": "#FF97FF",
            "dash": "solid"
           },
           "marker": {
            "symbol": "circle"
           },
           "mode": "lines",
           "name": "Hostage Taking (Barricade Incident)",
           "orientation": "v",
           "showlegend": true,
           "type": "scatter",
           "x": [
            1,
            3,
            4,
            5,
            6,
            8,
            9,
            10,
            11,
            12
           ],
           "xaxis": "x",
           "y": [
            2,
            1,
            7,
            1,
            6,
            1,
            1,
            3,
            3,
            1
           ],
           "yaxis": "y"
          }
         ],
         "name": "1987"
        },
        {
         "data": [
          {
           "hovertemplate": "attacktype1_txt=Hostage Taking (Kidnapping)<br>iyear=1988<br>imonth=%{x}<br>NombreAttaqueTypeMois=%{y}<extra></extra>",
           "legendgroup": "Hostage Taking (Kidnapping)",
           "line": {
            "color": "#636efa",
            "dash": "solid"
           },
           "marker": {
            "symbol": "circle"
           },
           "mode": "lines",
           "name": "Hostage Taking (Kidnapping)",
           "orientation": "v",
           "showlegend": true,
           "type": "scatter",
           "x": [
            1,
            2,
            3,
            4,
            5,
            6,
            7,
            8,
            9,
            10,
            11,
            12
           ],
           "xaxis": "x",
           "y": [
            8,
            25,
            11,
            12,
            18,
            6,
            1,
            3,
            2,
            4,
            9,
            10
           ],
           "yaxis": "y"
          },
          {
           "hovertemplate": "attacktype1_txt=Armed Assault<br>iyear=1988<br>imonth=%{x}<br>NombreAttaqueTypeMois=%{y}<extra></extra>",
           "legendgroup": "Armed Assault",
           "line": {
            "color": "#EF553B",
            "dash": "solid"
           },
           "marker": {
            "symbol": "circle"
           },
           "mode": "lines",
           "name": "Armed Assault",
           "orientation": "v",
           "showlegend": true,
           "type": "scatter",
           "x": [
            1,
            2,
            3,
            4,
            5,
            6,
            7,
            8,
            9,
            10,
            11,
            12
           ],
           "xaxis": "x",
           "y": [
            84,
            71,
            97,
            72,
            71,
            95,
            93,
            49,
            53,
            75,
            90,
            72
           ],
           "yaxis": "y"
          },
          {
           "hovertemplate": "attacktype1_txt=Assassination<br>iyear=1988<br>imonth=%{x}<br>NombreAttaqueTypeMois=%{y}<extra></extra>",
           "legendgroup": "Assassination",
           "line": {
            "color": "#00cc96",
            "dash": "solid"
           },
           "marker": {
            "symbol": "circle"
           },
           "mode": "lines",
           "name": "Assassination",
           "orientation": "v",
           "showlegend": true,
           "type": "scatter",
           "x": [
            1,
            2,
            3,
            4,
            5,
            6,
            7,
            8,
            9,
            10,
            11,
            12
           ],
           "xaxis": "x",
           "y": [
            85,
            56,
            83,
            65,
            89,
            83,
            75,
            70,
            51,
            54,
            51,
            59
           ],
           "yaxis": "y"
          },
          {
           "hovertemplate": "attacktype1_txt=Bombing/Explosion<br>iyear=1988<br>imonth=%{x}<br>NombreAttaqueTypeMois=%{y}<extra></extra>",
           "legendgroup": "Bombing/Explosion",
           "line": {
            "color": "#ab63fa",
            "dash": "solid"
           },
           "marker": {
            "symbol": "circle"
           },
           "mode": "lines",
           "name": "Bombing/Explosion",
           "orientation": "v",
           "showlegend": true,
           "type": "scatter",
           "x": [
            1,
            2,
            3,
            4,
            5,
            6,
            7,
            8,
            9,
            10,
            11,
            12
           ],
           "xaxis": "x",
           "y": [
            95,
            156,
            144,
            107,
            139,
            133,
            160,
            126,
            120,
            170,
            140,
            159
           ],
           "yaxis": "y"
          },
          {
           "hovertemplate": "attacktype1_txt=Facility/Infrastructure Attack<br>iyear=1988<br>imonth=%{x}<br>NombreAttaqueTypeMois=%{y}<extra></extra>",
           "legendgroup": "Facility/Infrastructure Attack",
           "line": {
            "color": "#FFA15A",
            "dash": "solid"
           },
           "marker": {
            "symbol": "circle"
           },
           "mode": "lines",
           "name": "Facility/Infrastructure Attack",
           "orientation": "v",
           "showlegend": true,
           "type": "scatter",
           "x": [
            1,
            2,
            3,
            4,
            5,
            6,
            7,
            8,
            9,
            10,
            11,
            12
           ],
           "xaxis": "x",
           "y": [
            7,
            12,
            13,
            11,
            5,
            14,
            6,
            8,
            9,
            19,
            23,
            24
           ],
           "yaxis": "y"
          },
          {
           "hovertemplate": "attacktype1_txt=Hijacking<br>iyear=1988<br>imonth=%{x}<br>NombreAttaqueTypeMois=%{y}<extra></extra>",
           "legendgroup": "Hijacking",
           "line": {
            "color": "#19d3f3",
            "dash": "solid"
           },
           "marker": {
            "symbol": "circle"
           },
           "mode": "lines",
           "name": "Hijacking",
           "orientation": "v",
           "showlegend": true,
           "type": "scatter",
           "x": [
            3,
            4,
            9,
            10,
            12
           ],
           "xaxis": "x",
           "y": [
            3,
            1,
            1,
            3,
            1
           ],
           "yaxis": "y"
          },
          {
           "hovertemplate": "attacktype1_txt=Unknown<br>iyear=1988<br>imonth=%{x}<br>NombreAttaqueTypeMois=%{y}<extra></extra>",
           "legendgroup": "Unknown",
           "line": {
            "color": "#FF6692",
            "dash": "solid"
           },
           "marker": {
            "symbol": "circle"
           },
           "mode": "lines",
           "name": "Unknown",
           "orientation": "v",
           "showlegend": true,
           "type": "scatter",
           "x": [
            1,
            2,
            3,
            4,
            5,
            6,
            7,
            8,
            10,
            11,
            12
           ],
           "xaxis": "x",
           "y": [
            4,
            3,
            7,
            8,
            2,
            3,
            4,
            4,
            1,
            2,
            1
           ],
           "yaxis": "y"
          },
          {
           "hovertemplate": "attacktype1_txt=Unarmed Assault<br>iyear=1988<br>imonth=%{x}<br>NombreAttaqueTypeMois=%{y}<extra></extra>",
           "legendgroup": "Unarmed Assault",
           "line": {
            "color": "#B6E880",
            "dash": "solid"
           },
           "marker": {
            "symbol": "circle"
           },
           "mode": "lines",
           "name": "Unarmed Assault",
           "orientation": "v",
           "showlegend": true,
           "type": "scatter",
           "x": [
            2,
            5,
            12
           ],
           "xaxis": "x",
           "y": [
            1,
            1,
            3
           ],
           "yaxis": "y"
          },
          {
           "hovertemplate": "attacktype1_txt=Hostage Taking (Barricade Incident)<br>iyear=1988<br>imonth=%{x}<br>NombreAttaqueTypeMois=%{y}<extra></extra>",
           "legendgroup": "Hostage Taking (Barricade Incident)",
           "line": {
            "color": "#FF97FF",
            "dash": "solid"
           },
           "marker": {
            "symbol": "circle"
           },
           "mode": "lines",
           "name": "Hostage Taking (Barricade Incident)",
           "orientation": "v",
           "showlegend": true,
           "type": "scatter",
           "x": [
            1,
            5,
            6,
            7,
            9,
            11,
            12
           ],
           "xaxis": "x",
           "y": [
            5,
            1,
            1,
            1,
            2,
            5,
            1
           ],
           "yaxis": "y"
          }
         ],
         "name": "1988"
        },
        {
         "data": [
          {
           "hovertemplate": "attacktype1_txt=Hostage Taking (Kidnapping)<br>iyear=1989<br>imonth=%{x}<br>NombreAttaqueTypeMois=%{y}<extra></extra>",
           "legendgroup": "Hostage Taking (Kidnapping)",
           "line": {
            "color": "#636efa",
            "dash": "solid"
           },
           "marker": {
            "symbol": "circle"
           },
           "mode": "lines",
           "name": "Hostage Taking (Kidnapping)",
           "orientation": "v",
           "showlegend": true,
           "type": "scatter",
           "x": [
            1,
            2,
            3,
            4,
            5,
            6,
            7,
            8,
            9,
            10,
            11,
            12
           ],
           "xaxis": "x",
           "y": [
            7,
            7,
            5,
            13,
            11,
            12,
            13,
            12,
            9,
            17,
            10,
            14
           ],
           "yaxis": "y"
          },
          {
           "hovertemplate": "attacktype1_txt=Armed Assault<br>iyear=1989<br>imonth=%{x}<br>NombreAttaqueTypeMois=%{y}<extra></extra>",
           "legendgroup": "Armed Assault",
           "line": {
            "color": "#EF553B",
            "dash": "solid"
           },
           "marker": {
            "symbol": "circle"
           },
           "mode": "lines",
           "name": "Armed Assault",
           "orientation": "v",
           "showlegend": true,
           "type": "scatter",
           "x": [
            1,
            2,
            3,
            4,
            5,
            6,
            7,
            8,
            9,
            10,
            11,
            12
           ],
           "xaxis": "x",
           "y": [
            100,
            118,
            83,
            79,
            92,
            71,
            84,
            86,
            139,
            112,
            86,
            71
           ],
           "yaxis": "y"
          },
          {
           "hovertemplate": "attacktype1_txt=Assassination<br>iyear=1989<br>imonth=%{x}<br>NombreAttaqueTypeMois=%{y}<extra></extra>",
           "legendgroup": "Assassination",
           "line": {
            "color": "#00cc96",
            "dash": "solid"
           },
           "marker": {
            "symbol": "circle"
           },
           "mode": "lines",
           "name": "Assassination",
           "orientation": "v",
           "showlegend": true,
           "type": "scatter",
           "x": [
            1,
            2,
            3,
            4,
            5,
            6,
            7,
            8,
            9,
            10,
            11,
            12
           ],
           "xaxis": "x",
           "y": [
            88,
            77,
            75,
            64,
            72,
            71,
            70,
            81,
            118,
            110,
            97,
            57
           ],
           "yaxis": "y"
          },
          {
           "hovertemplate": "attacktype1_txt=Bombing/Explosion<br>iyear=1989<br>imonth=%{x}<br>NombreAttaqueTypeMois=%{y}<extra></extra>",
           "legendgroup": "Bombing/Explosion",
           "line": {
            "color": "#ab63fa",
            "dash": "solid"
           },
           "marker": {
            "symbol": "circle"
           },
           "mode": "lines",
           "name": "Bombing/Explosion",
           "orientation": "v",
           "showlegend": true,
           "type": "scatter",
           "x": [
            1,
            2,
            3,
            4,
            5,
            6,
            7,
            8,
            9,
            10,
            11,
            12
           ],
           "xaxis": "x",
           "y": [
            118,
            157,
            134,
            151,
            153,
            109,
            142,
            169,
            196,
            184,
            159,
            125
           ],
           "yaxis": "y"
          },
          {
           "hovertemplate": "attacktype1_txt=Facility/Infrastructure Attack<br>iyear=1989<br>imonth=%{x}<br>NombreAttaqueTypeMois=%{y}<extra></extra>",
           "legendgroup": "Facility/Infrastructure Attack",
           "line": {
            "color": "#FFA15A",
            "dash": "solid"
           },
           "marker": {
            "symbol": "circle"
           },
           "mode": "lines",
           "name": "Facility/Infrastructure Attack",
           "orientation": "v",
           "showlegend": true,
           "type": "scatter",
           "x": [
            1,
            2,
            3,
            4,
            5,
            6,
            7,
            8,
            9,
            10,
            11,
            12
           ],
           "xaxis": "x",
           "y": [
            9,
            10,
            20,
            29,
            26,
            6,
            8,
            12,
            33,
            46,
            20,
            21
           ],
           "yaxis": "y"
          },
          {
           "hovertemplate": "attacktype1_txt=Hijacking<br>iyear=1989<br>imonth=%{x}<br>NombreAttaqueTypeMois=%{y}<extra></extra>",
           "legendgroup": "Hijacking",
           "line": {
            "color": "#19d3f3",
            "dash": "solid"
           },
           "marker": {
            "symbol": "circle"
           },
           "mode": "lines",
           "name": "Hijacking",
           "orientation": "v",
           "showlegend": true,
           "type": "scatter",
           "x": [
            3,
            4,
            5,
            6,
            8,
            9,
            10,
            11,
            12
           ],
           "xaxis": "x",
           "y": [
            1,
            2,
            1,
            2,
            1,
            2,
            2,
            1,
            1
           ],
           "yaxis": "y"
          },
          {
           "hovertemplate": "attacktype1_txt=Unknown<br>iyear=1989<br>imonth=%{x}<br>NombreAttaqueTypeMois=%{y}<extra></extra>",
           "legendgroup": "Unknown",
           "line": {
            "color": "#FF6692",
            "dash": "solid"
           },
           "marker": {
            "symbol": "circle"
           },
           "mode": "lines",
           "name": "Unknown",
           "orientation": "v",
           "showlegend": true,
           "type": "scatter",
           "x": [
            1,
            2,
            4,
            5,
            6,
            7,
            8,
            9,
            11
           ],
           "xaxis": "x",
           "y": [
            1,
            5,
            2,
            2,
            1,
            1,
            2,
            2,
            1
           ],
           "yaxis": "y"
          },
          {
           "hovertemplate": "attacktype1_txt=Unarmed Assault<br>iyear=1989<br>imonth=%{x}<br>NombreAttaqueTypeMois=%{y}<extra></extra>",
           "legendgroup": "Unarmed Assault",
           "line": {
            "color": "#B6E880",
            "dash": "solid"
           },
           "marker": {
            "symbol": "circle"
           },
           "mode": "lines",
           "name": "Unarmed Assault",
           "orientation": "v",
           "showlegend": true,
           "type": "scatter",
           "x": [
            2,
            3,
            4,
            7,
            8,
            11
           ],
           "xaxis": "x",
           "y": [
            1,
            1,
            1,
            3,
            1,
            1
           ],
           "yaxis": "y"
          },
          {
           "hovertemplate": "attacktype1_txt=Hostage Taking (Barricade Incident)<br>iyear=1989<br>imonth=%{x}<br>NombreAttaqueTypeMois=%{y}<extra></extra>",
           "legendgroup": "Hostage Taking (Barricade Incident)",
           "line": {
            "color": "#FF97FF",
            "dash": "solid"
           },
           "marker": {
            "symbol": "circle"
           },
           "mode": "lines",
           "name": "Hostage Taking (Barricade Incident)",
           "orientation": "v",
           "showlegend": true,
           "type": "scatter",
           "x": [
            1,
            2,
            3,
            4,
            5,
            7,
            8,
            10,
            11,
            12
           ],
           "xaxis": "x",
           "y": [
            1,
            3,
            1,
            1,
            2,
            3,
            2,
            1,
            2,
            2
           ],
           "yaxis": "y"
          }
         ],
         "name": "1989"
        },
        {
         "data": [
          {
           "hovertemplate": "attacktype1_txt=Hostage Taking (Kidnapping)<br>iyear=1990<br>imonth=%{x}<br>NombreAttaqueTypeMois=%{y}<extra></extra>",
           "legendgroup": "Hostage Taking (Kidnapping)",
           "line": {
            "color": "#636efa",
            "dash": "solid"
           },
           "marker": {
            "symbol": "circle"
           },
           "mode": "lines",
           "name": "Hostage Taking (Kidnapping)",
           "orientation": "v",
           "showlegend": true,
           "type": "scatter",
           "x": [
            1,
            2,
            3,
            4,
            5,
            6,
            7,
            8,
            9,
            10,
            11,
            12
           ],
           "xaxis": "x",
           "y": [
            19,
            21,
            28,
            11,
            16,
            12,
            16,
            6,
            12,
            9,
            10,
            8
           ],
           "yaxis": "y"
          },
          {
           "hovertemplate": "attacktype1_txt=Armed Assault<br>iyear=1990<br>imonth=%{x}<br>NombreAttaqueTypeMois=%{y}<extra></extra>",
           "legendgroup": "Armed Assault",
           "line": {
            "color": "#EF553B",
            "dash": "solid"
           },
           "marker": {
            "symbol": "circle"
           },
           "mode": "lines",
           "name": "Armed Assault",
           "orientation": "v",
           "showlegend": true,
           "type": "scatter",
           "x": [
            1,
            2,
            3,
            4,
            5,
            6,
            7,
            8,
            9,
            10,
            11,
            12
           ],
           "xaxis": "x",
           "y": [
            62,
            38,
            85,
            66,
            84,
            103,
            92,
            100,
            50,
            89,
            59,
            48
           ],
           "yaxis": "y"
          },
          {
           "hovertemplate": "attacktype1_txt=Assassination<br>iyear=1990<br>imonth=%{x}<br>NombreAttaqueTypeMois=%{y}<extra></extra>",
           "legendgroup": "Assassination",
           "line": {
            "color": "#00cc96",
            "dash": "solid"
           },
           "marker": {
            "symbol": "circle"
           },
           "mode": "lines",
           "name": "Assassination",
           "orientation": "v",
           "showlegend": true,
           "type": "scatter",
           "x": [
            1,
            2,
            3,
            4,
            5,
            6,
            7,
            8,
            9,
            10,
            11,
            12
           ],
           "xaxis": "x",
           "y": [
            90,
            61,
            85,
            93,
            71,
            101,
            94,
            48,
            43,
            83,
            55,
            53
           ],
           "yaxis": "y"
          },
          {
           "hovertemplate": "attacktype1_txt=Bombing/Explosion<br>iyear=1990<br>imonth=%{x}<br>NombreAttaqueTypeMois=%{y}<extra></extra>",
           "legendgroup": "Bombing/Explosion",
           "line": {
            "color": "#ab63fa",
            "dash": "solid"
           },
           "marker": {
            "symbol": "circle"
           },
           "mode": "lines",
           "name": "Bombing/Explosion",
           "orientation": "v",
           "showlegend": true,
           "type": "scatter",
           "x": [
            1,
            2,
            3,
            4,
            5,
            6,
            7,
            8,
            9,
            10,
            11,
            12
           ],
           "xaxis": "x",
           "y": [
            95,
            107,
            178,
            150,
            217,
            161,
            146,
            177,
            176,
            122,
            112,
            90
           ],
           "yaxis": "y"
          },
          {
           "hovertemplate": "attacktype1_txt=Facility/Infrastructure Attack<br>iyear=1990<br>imonth=%{x}<br>NombreAttaqueTypeMois=%{y}<extra></extra>",
           "legendgroup": "Facility/Infrastructure Attack",
           "line": {
            "color": "#FFA15A",
            "dash": "solid"
           },
           "marker": {
            "symbol": "circle"
           },
           "mode": "lines",
           "name": "Facility/Infrastructure Attack",
           "orientation": "v",
           "showlegend": true,
           "type": "scatter",
           "x": [
            1,
            2,
            3,
            4,
            5,
            6,
            7,
            8,
            9,
            10,
            11,
            12
           ],
           "xaxis": "x",
           "y": [
            13,
            12,
            17,
            14,
            20,
            14,
            20,
            6,
            9,
            14,
            35,
            16
           ],
           "yaxis": "y"
          },
          {
           "hovertemplate": "attacktype1_txt=Hijacking<br>iyear=1990<br>imonth=%{x}<br>NombreAttaqueTypeMois=%{y}<extra></extra>",
           "legendgroup": "Hijacking",
           "line": {
            "color": "#19d3f3",
            "dash": "solid"
           },
           "marker": {
            "symbol": "circle"
           },
           "mode": "lines",
           "name": "Hijacking",
           "orientation": "v",
           "showlegend": true,
           "type": "scatter",
           "x": [
            1,
            8,
            9,
            10,
            11,
            12
           ],
           "xaxis": "x",
           "y": [
            2,
            1,
            1,
            1,
            2,
            1
           ],
           "yaxis": "y"
          },
          {
           "hovertemplate": "attacktype1_txt=Unknown<br>iyear=1990<br>imonth=%{x}<br>NombreAttaqueTypeMois=%{y}<extra></extra>",
           "legendgroup": "Unknown",
           "line": {
            "color": "#FF6692",
            "dash": "solid"
           },
           "marker": {
            "symbol": "circle"
           },
           "mode": "lines",
           "name": "Unknown",
           "orientation": "v",
           "showlegend": true,
           "type": "scatter",
           "x": [
            1,
            3,
            4,
            5,
            6,
            7,
            8,
            9,
            11
           ],
           "xaxis": "x",
           "y": [
            2,
            1,
            1,
            2,
            1,
            2,
            1,
            2,
            1
           ],
           "yaxis": "y"
          },
          {
           "hovertemplate": "attacktype1_txt=Unarmed Assault<br>iyear=1990<br>imonth=%{x}<br>NombreAttaqueTypeMois=%{y}<extra></extra>",
           "legendgroup": "Unarmed Assault",
           "line": {
            "color": "#B6E880",
            "dash": "solid"
           },
           "marker": {
            "symbol": "circle"
           },
           "mode": "lines",
           "name": "Unarmed Assault",
           "orientation": "v",
           "showlegend": true,
           "type": "scatter",
           "x": [
            2,
            4,
            5,
            6,
            10
           ],
           "xaxis": "x",
           "y": [
            1,
            3,
            1,
            1,
            1
           ],
           "yaxis": "y"
          },
          {
           "hovertemplate": "attacktype1_txt=Hostage Taking (Barricade Incident)<br>iyear=1990<br>imonth=%{x}<br>NombreAttaqueTypeMois=%{y}<extra></extra>",
           "legendgroup": "Hostage Taking (Barricade Incident)",
           "line": {
            "color": "#FF97FF",
            "dash": "solid"
           },
           "marker": {
            "symbol": "circle"
           },
           "mode": "lines",
           "name": "Hostage Taking (Barricade Incident)",
           "orientation": "v",
           "showlegend": true,
           "type": "scatter",
           "x": [
            1,
            3,
            4,
            5,
            6,
            7,
            8,
            9,
            10,
            12
           ],
           "xaxis": "x",
           "y": [
            2,
            3,
            1,
            2,
            1,
            1,
            1,
            1,
            4,
            1
           ],
           "yaxis": "y"
          }
         ],
         "name": "1990"
        },
        {
         "data": [
          {
           "hovertemplate": "attacktype1_txt=Hostage Taking (Kidnapping)<br>iyear=1991<br>imonth=%{x}<br>NombreAttaqueTypeMois=%{y}<extra></extra>",
           "legendgroup": "Hostage Taking (Kidnapping)",
           "line": {
            "color": "#636efa",
            "dash": "solid"
           },
           "marker": {
            "symbol": "circle"
           },
           "mode": "lines",
           "name": "Hostage Taking (Kidnapping)",
           "orientation": "v",
           "showlegend": true,
           "type": "scatter",
           "x": [
            1,
            2,
            3,
            4,
            5,
            6,
            7,
            8,
            9,
            10,
            11,
            12
           ],
           "xaxis": "x",
           "y": [
            12,
            10,
            17,
            10,
            13,
            13,
            35,
            23,
            23,
            13,
            18,
            35
           ],
           "yaxis": "y"
          },
          {
           "hovertemplate": "attacktype1_txt=Armed Assault<br>iyear=1991<br>imonth=%{x}<br>NombreAttaqueTypeMois=%{y}<extra></extra>",
           "legendgroup": "Armed Assault",
           "line": {
            "color": "#EF553B",
            "dash": "solid"
           },
           "marker": {
            "symbol": "circle"
           },
           "mode": "lines",
           "name": "Armed Assault",
           "orientation": "v",
           "showlegend": true,
           "type": "scatter",
           "x": [
            1,
            2,
            3,
            4,
            5,
            6,
            7,
            8,
            9,
            10,
            11,
            12
           ],
           "xaxis": "x",
           "y": [
            79,
            63,
            58,
            83,
            105,
            101,
            150,
            144,
            96,
            169,
            127,
            96
           ],
           "yaxis": "y"
          },
          {
           "hovertemplate": "attacktype1_txt=Assassination<br>iyear=1991<br>imonth=%{x}<br>NombreAttaqueTypeMois=%{y}<extra></extra>",
           "legendgroup": "Assassination",
           "line": {
            "color": "#00cc96",
            "dash": "solid"
           },
           "marker": {
            "symbol": "circle"
           },
           "mode": "lines",
           "name": "Assassination",
           "orientation": "v",
           "showlegend": true,
           "type": "scatter",
           "x": [
            1,
            2,
            3,
            4,
            5,
            6,
            7,
            8,
            9,
            10,
            11,
            12
           ],
           "xaxis": "x",
           "y": [
            29,
            53,
            55,
            53,
            61,
            68,
            68,
            71,
            75,
            86,
            59,
            52
           ],
           "yaxis": "y"
          },
          {
           "hovertemplate": "attacktype1_txt=Bombing/Explosion<br>iyear=1991<br>imonth=%{x}<br>NombreAttaqueTypeMois=%{y}<extra></extra>",
           "legendgroup": "Bombing/Explosion",
           "line": {
            "color": "#ab63fa",
            "dash": "solid"
           },
           "marker": {
            "symbol": "circle"
           },
           "mode": "lines",
           "name": "Bombing/Explosion",
           "orientation": "v",
           "showlegend": true,
           "type": "scatter",
           "x": [
            1,
            2,
            3,
            4,
            5,
            6,
            7,
            8,
            9,
            10,
            11,
            12
           ],
           "xaxis": "x",
           "y": [
            221,
            162,
            131,
            155,
            155,
            151,
            221,
            158,
            189,
            183,
            159,
            103
           ],
           "yaxis": "y"
          },
          {
           "hovertemplate": "attacktype1_txt=Facility/Infrastructure Attack<br>iyear=1991<br>imonth=%{x}<br>NombreAttaqueTypeMois=%{y}<extra></extra>",
           "legendgroup": "Facility/Infrastructure Attack",
           "line": {
            "color": "#FFA15A",
            "dash": "solid"
           },
           "marker": {
            "symbol": "circle"
           },
           "mode": "lines",
           "name": "Facility/Infrastructure Attack",
           "orientation": "v",
           "showlegend": true,
           "type": "scatter",
           "x": [
            1,
            2,
            3,
            4,
            5,
            6,
            7,
            8,
            9,
            10,
            11,
            12
           ],
           "xaxis": "x",
           "y": [
            49,
            42,
            10,
            20,
            9,
            14,
            26,
            17,
            15,
            48,
            59,
            44
           ],
           "yaxis": "y"
          },
          {
           "hovertemplate": "attacktype1_txt=Hijacking<br>iyear=1991<br>imonth=%{x}<br>NombreAttaqueTypeMois=%{y}<extra></extra>",
           "legendgroup": "Hijacking",
           "line": {
            "color": "#19d3f3",
            "dash": "solid"
           },
           "marker": {
            "symbol": "circle"
           },
           "mode": "lines",
           "name": "Hijacking",
           "orientation": "v",
           "showlegend": true,
           "type": "scatter",
           "x": [
            1,
            2,
            3,
            4,
            5,
            6,
            7,
            8,
            9,
            10,
            11,
            12
           ],
           "xaxis": "x",
           "y": [
            2,
            2,
            3,
            2,
            2,
            1,
            1,
            1,
            2,
            4,
            3,
            2
           ],
           "yaxis": "y"
          },
          {
           "hovertemplate": "attacktype1_txt=Unknown<br>iyear=1991<br>imonth=%{x}<br>NombreAttaqueTypeMois=%{y}<extra></extra>",
           "legendgroup": "Unknown",
           "line": {
            "color": "#FF6692",
            "dash": "solid"
           },
           "marker": {
            "symbol": "circle"
           },
           "mode": "lines",
           "name": "Unknown",
           "orientation": "v",
           "showlegend": true,
           "type": "scatter",
           "x": [
            1,
            2,
            4,
            7,
            8,
            9,
            10,
            11,
            12
           ],
           "xaxis": "x",
           "y": [
            4,
            2,
            2,
            11,
            9,
            5,
            19,
            5,
            7
           ],
           "yaxis": "y"
          },
          {
           "hovertemplate": "attacktype1_txt=Unarmed Assault<br>iyear=1991<br>imonth=%{x}<br>NombreAttaqueTypeMois=%{y}<extra></extra>",
           "legendgroup": "Unarmed Assault",
           "line": {
            "color": "#B6E880",
            "dash": "solid"
           },
           "marker": {
            "symbol": "circle"
           },
           "mode": "lines",
           "name": "Unarmed Assault",
           "orientation": "v",
           "showlegend": true,
           "type": "scatter",
           "x": [
            2,
            5,
            6,
            7,
            8,
            10,
            11
           ],
           "xaxis": "x",
           "y": [
            1,
            2,
            1,
            1,
            2,
            4,
            3
           ],
           "yaxis": "y"
          },
          {
           "hovertemplate": "attacktype1_txt=Hostage Taking (Barricade Incident)<br>iyear=1991<br>imonth=%{x}<br>NombreAttaqueTypeMois=%{y}<extra></extra>",
           "legendgroup": "Hostage Taking (Barricade Incident)",
           "line": {
            "color": "#FF97FF",
            "dash": "solid"
           },
           "marker": {
            "symbol": "circle"
           },
           "mode": "lines",
           "name": "Hostage Taking (Barricade Incident)",
           "orientation": "v",
           "showlegend": true,
           "type": "scatter",
           "x": [
            1,
            2,
            3,
            4,
            5,
            6,
            7,
            8,
            9,
            10,
            11
           ],
           "xaxis": "x",
           "y": [
            3,
            1,
            1,
            2,
            2,
            1,
            1,
            1,
            1,
            2,
            1
           ],
           "yaxis": "y"
          }
         ],
         "name": "1991"
        },
        {
         "data": [
          {
           "hovertemplate": "attacktype1_txt=Hostage Taking (Kidnapping)<br>iyear=1992<br>imonth=%{x}<br>NombreAttaqueTypeMois=%{y}<extra></extra>",
           "legendgroup": "Hostage Taking (Kidnapping)",
           "line": {
            "color": "#636efa",
            "dash": "solid"
           },
           "marker": {
            "symbol": "circle"
           },
           "mode": "lines",
           "name": "Hostage Taking (Kidnapping)",
           "orientation": "v",
           "showlegend": true,
           "type": "scatter",
           "x": [
            1,
            2,
            3,
            4,
            5,
            6,
            7,
            8,
            9,
            10,
            11,
            12
           ],
           "xaxis": "x",
           "y": [
            15,
            15,
            13,
            11,
            16,
            6,
            6,
            11,
            16,
            13,
            4,
            16
           ],
           "yaxis": "y"
          },
          {
           "hovertemplate": "attacktype1_txt=Armed Assault<br>iyear=1992<br>imonth=%{x}<br>NombreAttaqueTypeMois=%{y}<extra></extra>",
           "legendgroup": "Armed Assault",
           "line": {
            "color": "#EF553B",
            "dash": "solid"
           },
           "marker": {
            "symbol": "circle"
           },
           "mode": "lines",
           "name": "Armed Assault",
           "orientation": "v",
           "showlegend": true,
           "type": "scatter",
           "x": [
            1,
            2,
            3,
            4,
            5,
            6,
            7,
            8,
            9,
            10,
            11,
            12
           ],
           "xaxis": "x",
           "y": [
            98,
            84,
            125,
            104,
            137,
            80,
            122,
            128,
            134,
            144,
            92,
            79
           ],
           "yaxis": "y"
          },
          {
           "hovertemplate": "attacktype1_txt=Assassination<br>iyear=1992<br>imonth=%{x}<br>NombreAttaqueTypeMois=%{y}<extra></extra>",
           "legendgroup": "Assassination",
           "line": {
            "color": "#00cc96",
            "dash": "solid"
           },
           "marker": {
            "symbol": "circle"
           },
           "mode": "lines",
           "name": "Assassination",
           "orientation": "v",
           "showlegend": true,
           "type": "scatter",
           "x": [
            1,
            2,
            3,
            4,
            5,
            6,
            7,
            8,
            9,
            10,
            11,
            12
           ],
           "xaxis": "x",
           "y": [
            88,
            85,
            122,
            88,
            104,
            75,
            91,
            96,
            102,
            86,
            116,
            58
           ],
           "yaxis": "y"
          },
          {
           "hovertemplate": "attacktype1_txt=Bombing/Explosion<br>iyear=1992<br>imonth=%{x}<br>NombreAttaqueTypeMois=%{y}<extra></extra>",
           "legendgroup": "Bombing/Explosion",
           "line": {
            "color": "#ab63fa",
            "dash": "solid"
           },
           "marker": {
            "symbol": "circle"
           },
           "mode": "lines",
           "name": "Bombing/Explosion",
           "orientation": "v",
           "showlegend": true,
           "type": "scatter",
           "x": [
            1,
            2,
            3,
            4,
            5,
            6,
            7,
            8,
            9,
            10,
            11,
            12
           ],
           "xaxis": "x",
           "y": [
            131,
            118,
            145,
            103,
            154,
            100,
            133,
            110,
            105,
            169,
            252,
            218
           ],
           "yaxis": "y"
          },
          {
           "hovertemplate": "attacktype1_txt=Facility/Infrastructure Attack<br>iyear=1992<br>imonth=%{x}<br>NombreAttaqueTypeMois=%{y}<extra></extra>",
           "legendgroup": "Facility/Infrastructure Attack",
           "line": {
            "color": "#FFA15A",
            "dash": "solid"
           },
           "marker": {
            "symbol": "circle"
           },
           "mode": "lines",
           "name": "Facility/Infrastructure Attack",
           "orientation": "v",
           "showlegend": true,
           "type": "scatter",
           "x": [
            1,
            2,
            3,
            4,
            5,
            6,
            7,
            8,
            9,
            10,
            11,
            12
           ],
           "xaxis": "x",
           "y": [
            22,
            19,
            63,
            33,
            28,
            32,
            26,
            31,
            80,
            63,
            31,
            44
           ],
           "yaxis": "y"
          },
          {
           "hovertemplate": "attacktype1_txt=Hijacking<br>iyear=1992<br>imonth=%{x}<br>NombreAttaqueTypeMois=%{y}<extra></extra>",
           "legendgroup": "Hijacking",
           "line": {
            "color": "#19d3f3",
            "dash": "solid"
           },
           "marker": {
            "symbol": "circle"
           },
           "mode": "lines",
           "name": "Hijacking",
           "orientation": "v",
           "showlegend": true,
           "type": "scatter",
           "x": [
            1,
            2,
            3,
            4,
            5,
            6,
            8,
            9,
            10,
            11,
            12
           ],
           "xaxis": "x",
           "y": [
            3,
            2,
            2,
            5,
            2,
            2,
            2,
            3,
            1,
            1,
            1
           ],
           "yaxis": "y"
          },
          {
           "hovertemplate": "attacktype1_txt=Unknown<br>iyear=1992<br>imonth=%{x}<br>NombreAttaqueTypeMois=%{y}<extra></extra>",
           "legendgroup": "Unknown",
           "line": {
            "color": "#FF6692",
            "dash": "solid"
           },
           "marker": {
            "symbol": "circle"
           },
           "mode": "lines",
           "name": "Unknown",
           "orientation": "v",
           "showlegend": true,
           "type": "scatter",
           "x": [
            1,
            2,
            3,
            4,
            5,
            6,
            7,
            8,
            9,
            10,
            11,
            12
           ],
           "xaxis": "x",
           "y": [
            6,
            9,
            31,
            18,
            13,
            9,
            8,
            10,
            12,
            24,
            21,
            26
           ],
           "yaxis": "y"
          },
          {
           "hovertemplate": "attacktype1_txt=Unarmed Assault<br>iyear=1992<br>imonth=%{x}<br>NombreAttaqueTypeMois=%{y}<extra></extra>",
           "legendgroup": "Unarmed Assault",
           "line": {
            "color": "#B6E880",
            "dash": "solid"
           },
           "marker": {
            "symbol": "circle"
           },
           "mode": "lines",
           "name": "Unarmed Assault",
           "orientation": "v",
           "showlegend": true,
           "type": "scatter",
           "x": [
            1,
            2,
            3,
            4,
            5,
            6,
            7,
            8,
            9,
            10,
            11,
            12
           ],
           "xaxis": "x",
           "y": [
            2,
            2,
            8,
            3,
            3,
            2,
            2,
            1,
            5,
            4,
            11,
            5
           ],
           "yaxis": "y"
          },
          {
           "hovertemplate": "attacktype1_txt=Hostage Taking (Barricade Incident)<br>iyear=1992<br>imonth=%{x}<br>NombreAttaqueTypeMois=%{y}<extra></extra>",
           "legendgroup": "Hostage Taking (Barricade Incident)",
           "line": {
            "color": "#FF97FF",
            "dash": "solid"
           },
           "marker": {
            "symbol": "circle"
           },
           "mode": "lines",
           "name": "Hostage Taking (Barricade Incident)",
           "orientation": "v",
           "showlegend": true,
           "type": "scatter",
           "x": [
            1,
            2,
            3,
            4,
            5,
            6,
            7,
            8,
            10,
            11,
            12
           ],
           "xaxis": "x",
           "y": [
            1,
            1,
            5,
            2,
            1,
            1,
            1,
            1,
            3,
            4,
            2
           ],
           "yaxis": "y"
          }
         ],
         "name": "1992"
        },
        {
         "data": [
          {
           "hovertemplate": "attacktype1_txt=Hostage Taking (Kidnapping)<br>iyear=1994<br>imonth=%{x}<br>NombreAttaqueTypeMois=%{y}<extra></extra>",
           "legendgroup": "Hostage Taking (Kidnapping)",
           "line": {
            "color": "#636efa",
            "dash": "solid"
           },
           "marker": {
            "symbol": "circle"
           },
           "mode": "lines",
           "name": "Hostage Taking (Kidnapping)",
           "orientation": "v",
           "showlegend": true,
           "type": "scatter",
           "x": [
            1,
            2,
            3,
            4,
            5,
            6,
            7,
            8,
            9,
            10,
            11,
            12
           ],
           "xaxis": "x",
           "y": [
            10,
            18,
            17,
            17,
            16,
            20,
            18,
            11,
            21,
            14,
            14,
            15
           ],
           "yaxis": "y"
          },
          {
           "hovertemplate": "attacktype1_txt=Armed Assault<br>iyear=1994<br>imonth=%{x}<br>NombreAttaqueTypeMois=%{y}<extra></extra>",
           "legendgroup": "Armed Assault",
           "line": {
            "color": "#EF553B",
            "dash": "solid"
           },
           "marker": {
            "symbol": "circle"
           },
           "mode": "lines",
           "name": "Armed Assault",
           "orientation": "v",
           "showlegend": true,
           "type": "scatter",
           "x": [
            1,
            2,
            3,
            4,
            5,
            6,
            7,
            8,
            9,
            10,
            11,
            12
           ],
           "xaxis": "x",
           "y": [
            85,
            62,
            119,
            109,
            104,
            46,
            64,
            31,
            38,
            53,
            47,
            58
           ],
           "yaxis": "y"
          },
          {
           "hovertemplate": "attacktype1_txt=Assassination<br>iyear=1994<br>imonth=%{x}<br>NombreAttaqueTypeMois=%{y}<extra></extra>",
           "legendgroup": "Assassination",
           "line": {
            "color": "#00cc96",
            "dash": "solid"
           },
           "marker": {
            "symbol": "circle"
           },
           "mode": "lines",
           "name": "Assassination",
           "orientation": "v",
           "showlegend": true,
           "type": "scatter",
           "x": [
            1,
            2,
            3,
            4,
            5,
            6,
            7,
            8,
            9,
            10,
            11,
            12
           ],
           "xaxis": "x",
           "y": [
            56,
            97,
            94,
            107,
            68,
            49,
            43,
            38,
            52,
            53,
            42,
            72
           ],
           "yaxis": "y"
          },
          {
           "hovertemplate": "attacktype1_txt=Bombing/Explosion<br>iyear=1994<br>imonth=%{x}<br>NombreAttaqueTypeMois=%{y}<extra></extra>",
           "legendgroup": "Bombing/Explosion",
           "line": {
            "color": "#ab63fa",
            "dash": "solid"
           },
           "marker": {
            "symbol": "circle"
           },
           "mode": "lines",
           "name": "Bombing/Explosion",
           "orientation": "v",
           "showlegend": true,
           "type": "scatter",
           "x": [
            1,
            2,
            3,
            4,
            5,
            6,
            7,
            8,
            9,
            10,
            11,
            12
           ],
           "xaxis": "x",
           "y": [
            125,
            99,
            140,
            107,
            98,
            100,
            83,
            89,
            83,
            72,
            55,
            102
           ],
           "yaxis": "y"
          },
          {
           "hovertemplate": "attacktype1_txt=Facility/Infrastructure Attack<br>iyear=1994<br>imonth=%{x}<br>NombreAttaqueTypeMois=%{y}<extra></extra>",
           "legendgroup": "Facility/Infrastructure Attack",
           "line": {
            "color": "#FFA15A",
            "dash": "solid"
           },
           "marker": {
            "symbol": "circle"
           },
           "mode": "lines",
           "name": "Facility/Infrastructure Attack",
           "orientation": "v",
           "showlegend": true,
           "type": "scatter",
           "x": [
            1,
            2,
            3,
            4,
            5,
            6,
            7,
            8,
            9,
            10,
            11,
            12
           ],
           "xaxis": "x",
           "y": [
            32,
            26,
            24,
            5,
            9,
            6,
            16,
            17,
            14,
            11,
            16,
            13
           ],
           "yaxis": "y"
          },
          {
           "hovertemplate": "attacktype1_txt=Hijacking<br>iyear=1994<br>imonth=%{x}<br>NombreAttaqueTypeMois=%{y}<extra></extra>",
           "legendgroup": "Hijacking",
           "line": {
            "color": "#19d3f3",
            "dash": "solid"
           },
           "marker": {
            "symbol": "circle"
           },
           "mode": "lines",
           "name": "Hijacking",
           "orientation": "v",
           "showlegend": true,
           "type": "scatter",
           "x": [
            1,
            2,
            3,
            4,
            6,
            7,
            8,
            9,
            10,
            11,
            12
           ],
           "xaxis": "x",
           "y": [
            2,
            5,
            1,
            2,
            2,
            3,
            6,
            3,
            2,
            6,
            5
           ],
           "yaxis": "y"
          },
          {
           "hovertemplate": "attacktype1_txt=Unknown<br>iyear=1994<br>imonth=%{x}<br>NombreAttaqueTypeMois=%{y}<extra></extra>",
           "legendgroup": "Unknown",
           "line": {
            "color": "#FF6692",
            "dash": "solid"
           },
           "marker": {
            "symbol": "circle"
           },
           "mode": "lines",
           "name": "Unknown",
           "orientation": "v",
           "showlegend": true,
           "type": "scatter",
           "x": [
            1,
            2,
            3,
            4,
            5,
            6,
            7,
            8,
            9,
            10,
            11,
            12
           ],
           "xaxis": "x",
           "y": [
            7,
            3,
            12,
            13,
            12,
            11,
            22,
            15,
            30,
            23,
            33,
            23
           ],
           "yaxis": "y"
          },
          {
           "hovertemplate": "attacktype1_txt=Unarmed Assault<br>iyear=1994<br>imonth=%{x}<br>NombreAttaqueTypeMois=%{y}<extra></extra>",
           "legendgroup": "Unarmed Assault",
           "line": {
            "color": "#B6E880",
            "dash": "solid"
           },
           "marker": {
            "symbol": "circle"
           },
           "mode": "lines",
           "name": "Unarmed Assault",
           "orientation": "v",
           "showlegend": true,
           "type": "scatter",
           "x": [
            1,
            2,
            3,
            4,
            5,
            6,
            7,
            8,
            9,
            10,
            11,
            12
           ],
           "xaxis": "x",
           "y": [
            10,
            6,
            7,
            5,
            7,
            4,
            5,
            4,
            1,
            7,
            4,
            1
           ],
           "yaxis": "y"
          },
          {
           "hovertemplate": "attacktype1_txt=Hostage Taking (Barricade Incident)<br>iyear=1994<br>imonth=%{x}<br>NombreAttaqueTypeMois=%{y}<extra></extra>",
           "legendgroup": "Hostage Taking (Barricade Incident)",
           "line": {
            "color": "#FF97FF",
            "dash": "solid"
           },
           "marker": {
            "symbol": "circle"
           },
           "mode": "lines",
           "name": "Hostage Taking (Barricade Incident)",
           "orientation": "v",
           "showlegend": true,
           "type": "scatter",
           "x": [
            1,
            2,
            3,
            4,
            5,
            6,
            7,
            8,
            9,
            10,
            11,
            12
           ],
           "xaxis": "x",
           "y": [
            2,
            2,
            5,
            1,
            1,
            5,
            2,
            1,
            3,
            5,
            2,
            5
           ],
           "yaxis": "y"
          }
         ],
         "name": "1994"
        },
        {
         "data": [
          {
           "hovertemplate": "attacktype1_txt=Hostage Taking (Kidnapping)<br>iyear=1995<br>imonth=%{x}<br>NombreAttaqueTypeMois=%{y}<extra></extra>",
           "legendgroup": "Hostage Taking (Kidnapping)",
           "line": {
            "color": "#636efa",
            "dash": "solid"
           },
           "marker": {
            "symbol": "circle"
           },
           "mode": "lines",
           "name": "Hostage Taking (Kidnapping)",
           "orientation": "v",
           "showlegend": true,
           "type": "scatter",
           "x": [
            1,
            2,
            3,
            4,
            5,
            6,
            7,
            8,
            9,
            10,
            11,
            12
           ],
           "xaxis": "x",
           "y": [
            15,
            19,
            9,
            7,
            14,
            13,
            11,
            10,
            10,
            12,
            12,
            9
           ],
           "yaxis": "y"
          },
          {
           "hovertemplate": "attacktype1_txt=Armed Assault<br>iyear=1995<br>imonth=%{x}<br>NombreAttaqueTypeMois=%{y}<extra></extra>",
           "legendgroup": "Armed Assault",
           "line": {
            "color": "#EF553B",
            "dash": "solid"
           },
           "marker": {
            "symbol": "circle"
           },
           "mode": "lines",
           "name": "Armed Assault",
           "orientation": "v",
           "showlegend": true,
           "type": "scatter",
           "x": [
            1,
            2,
            3,
            4,
            5,
            6,
            7,
            8,
            9,
            10,
            11,
            12
           ],
           "xaxis": "x",
           "y": [
            49,
            39,
            58,
            37,
            57,
            79,
            54,
            50,
            133,
            91,
            37,
            56
           ],
           "yaxis": "y"
          },
          {
           "hovertemplate": "attacktype1_txt=Assassination<br>iyear=1995<br>imonth=%{x}<br>NombreAttaqueTypeMois=%{y}<extra></extra>",
           "legendgroup": "Assassination",
           "line": {
            "color": "#00cc96",
            "dash": "solid"
           },
           "marker": {
            "symbol": "circle"
           },
           "mode": "lines",
           "name": "Assassination",
           "orientation": "v",
           "showlegend": true,
           "type": "scatter",
           "x": [
            1,
            2,
            3,
            4,
            5,
            6,
            7,
            8,
            9,
            10,
            11,
            12
           ],
           "xaxis": "x",
           "y": [
            55,
            88,
            66,
            43,
            39,
            84,
            59,
            74,
            47,
            89,
            34,
            51
           ],
           "yaxis": "y"
          },
          {
           "hovertemplate": "attacktype1_txt=Bombing/Explosion<br>iyear=1995<br>imonth=%{x}<br>NombreAttaqueTypeMois=%{y}<extra></extra>",
           "legendgroup": "Bombing/Explosion",
           "line": {
            "color": "#ab63fa",
            "dash": "solid"
           },
           "marker": {
            "symbol": "circle"
           },
           "mode": "lines",
           "name": "Bombing/Explosion",
           "orientation": "v",
           "showlegend": true,
           "type": "scatter",
           "x": [
            1,
            2,
            3,
            4,
            5,
            6,
            7,
            8,
            9,
            10,
            11,
            12
           ],
           "xaxis": "x",
           "y": [
            61,
            60,
            55,
            39,
            73,
            74,
            80,
            83,
            63,
            73,
            58,
            72
           ],
           "yaxis": "y"
          },
          {
           "hovertemplate": "attacktype1_txt=Facility/Infrastructure Attack<br>iyear=1995<br>imonth=%{x}<br>NombreAttaqueTypeMois=%{y}<extra></extra>",
           "legendgroup": "Facility/Infrastructure Attack",
           "line": {
            "color": "#FFA15A",
            "dash": "solid"
           },
           "marker": {
            "symbol": "circle"
           },
           "mode": "lines",
           "name": "Facility/Infrastructure Attack",
           "orientation": "v",
           "showlegend": true,
           "type": "scatter",
           "x": [
            1,
            2,
            3,
            4,
            5,
            6,
            7,
            8,
            9,
            10,
            11,
            12
           ],
           "xaxis": "x",
           "y": [
            18,
            20,
            62,
            24,
            39,
            11,
            55,
            14,
            13,
            18,
            14,
            8
           ],
           "yaxis": "y"
          },
          {
           "hovertemplate": "attacktype1_txt=Hijacking<br>iyear=1995<br>imonth=%{x}<br>NombreAttaqueTypeMois=%{y}<extra></extra>",
           "legendgroup": "Hijacking",
           "line": {
            "color": "#19d3f3",
            "dash": "solid"
           },
           "marker": {
            "symbol": "circle"
           },
           "mode": "lines",
           "name": "Hijacking",
           "orientation": "v",
           "showlegend": true,
           "type": "scatter",
           "x": [
            1,
            2,
            3,
            5,
            6,
            7,
            8,
            9,
            10,
            11,
            12
           ],
           "xaxis": "x",
           "y": [
            1,
            1,
            2,
            1,
            3,
            6,
            4,
            6,
            3,
            1,
            2
           ],
           "yaxis": "y"
          },
          {
           "hovertemplate": "attacktype1_txt=Unknown<br>iyear=1995<br>imonth=%{x}<br>NombreAttaqueTypeMois=%{y}<extra></extra>",
           "legendgroup": "Unknown",
           "line": {
            "color": "#FF6692",
            "dash": "solid"
           },
           "marker": {
            "symbol": "circle"
           },
           "mode": "lines",
           "name": "Unknown",
           "orientation": "v",
           "showlegend": true,
           "type": "scatter",
           "x": [
            1,
            2,
            3,
            4,
            5,
            6,
            7,
            8,
            9,
            10,
            11,
            12
           ],
           "xaxis": "x",
           "y": [
            17,
            26,
            13,
            13,
            22,
            22,
            33,
            8,
            16,
            26,
            13,
            23
           ],
           "yaxis": "y"
          },
          {
           "hovertemplate": "attacktype1_txt=Unarmed Assault<br>iyear=1995<br>imonth=%{x}<br>NombreAttaqueTypeMois=%{y}<extra></extra>",
           "legendgroup": "Unarmed Assault",
           "line": {
            "color": "#B6E880",
            "dash": "solid"
           },
           "marker": {
            "symbol": "circle"
           },
           "mode": "lines",
           "name": "Unarmed Assault",
           "orientation": "v",
           "showlegend": true,
           "type": "scatter",
           "x": [
            2,
            3,
            4,
            5,
            6,
            7,
            8,
            9,
            10
           ],
           "xaxis": "x",
           "y": [
            1,
            4,
            4,
            77,
            1,
            6,
            2,
            12,
            1
           ],
           "yaxis": "y"
          },
          {
           "hovertemplate": "attacktype1_txt=Hostage Taking (Barricade Incident)<br>iyear=1995<br>imonth=%{x}<br>NombreAttaqueTypeMois=%{y}<extra></extra>",
           "legendgroup": "Hostage Taking (Barricade Incident)",
           "line": {
            "color": "#FF97FF",
            "dash": "solid"
           },
           "marker": {
            "symbol": "circle"
           },
           "mode": "lines",
           "name": "Hostage Taking (Barricade Incident)",
           "orientation": "v",
           "showlegend": true,
           "type": "scatter",
           "x": [
            3,
            4,
            5,
            6,
            7,
            8,
            10,
            11,
            12
           ],
           "xaxis": "x",
           "y": [
            1,
            1,
            1,
            2,
            1,
            2,
            2,
            2,
            2
           ],
           "yaxis": "y"
          }
         ],
         "name": "1995"
        },
        {
         "data": [
          {
           "hovertemplate": "attacktype1_txt=Hostage Taking (Kidnapping)<br>iyear=1996<br>imonth=%{x}<br>NombreAttaqueTypeMois=%{y}<extra></extra>",
           "legendgroup": "Hostage Taking (Kidnapping)",
           "line": {
            "color": "#636efa",
            "dash": "solid"
           },
           "marker": {
            "symbol": "circle"
           },
           "mode": "lines",
           "name": "Hostage Taking (Kidnapping)",
           "orientation": "v",
           "showlegend": true,
           "type": "scatter",
           "x": [
            1,
            2,
            3,
            4,
            5,
            6,
            7,
            8,
            9,
            10,
            11,
            12
           ],
           "xaxis": "x",
           "y": [
            8,
            16,
            16,
            13,
            16,
            7,
            14,
            22,
            16,
            11,
            8,
            8
           ],
           "yaxis": "y"
          },
          {
           "hovertemplate": "attacktype1_txt=Armed Assault<br>iyear=1996<br>imonth=%{x}<br>NombreAttaqueTypeMois=%{y}<extra></extra>",
           "legendgroup": "Armed Assault",
           "line": {
            "color": "#EF553B",
            "dash": "solid"
           },
           "marker": {
            "symbol": "circle"
           },
           "mode": "lines",
           "name": "Armed Assault",
           "orientation": "v",
           "showlegend": true,
           "type": "scatter",
           "x": [
            1,
            2,
            3,
            4,
            5,
            6,
            7,
            8,
            9,
            10,
            11,
            12
           ],
           "xaxis": "x",
           "y": [
            59,
            46,
            47,
            62,
            75,
            57,
            47,
            50,
            75,
            40,
            41,
            39
           ],
           "yaxis": "y"
          },
          {
           "hovertemplate": "attacktype1_txt=Assassination<br>iyear=1996<br>imonth=%{x}<br>NombreAttaqueTypeMois=%{y}<extra></extra>",
           "legendgroup": "Assassination",
           "line": {
            "color": "#00cc96",
            "dash": "solid"
           },
           "marker": {
            "symbol": "circle"
           },
           "mode": "lines",
           "name": "Assassination",
           "orientation": "v",
           "showlegend": true,
           "type": "scatter",
           "x": [
            1,
            2,
            3,
            4,
            5,
            6,
            7,
            8,
            9,
            10,
            11,
            12
           ],
           "xaxis": "x",
           "y": [
            65,
            61,
            36,
            35,
            47,
            30,
            34,
            33,
            29,
            40,
            34,
            34
           ],
           "yaxis": "y"
          },
          {
           "hovertemplate": "attacktype1_txt=Bombing/Explosion<br>iyear=1996<br>imonth=%{x}<br>NombreAttaqueTypeMois=%{y}<extra></extra>",
           "legendgroup": "Bombing/Explosion",
           "line": {
            "color": "#ab63fa",
            "dash": "solid"
           },
           "marker": {
            "symbol": "circle"
           },
           "mode": "lines",
           "name": "Bombing/Explosion",
           "orientation": "v",
           "showlegend": true,
           "type": "scatter",
           "x": [
            1,
            2,
            3,
            4,
            5,
            6,
            7,
            8,
            9,
            10,
            11,
            12
           ],
           "xaxis": "x",
           "y": [
            124,
            70,
            87,
            93,
            82,
            65,
            125,
            102,
            116,
            138,
            97,
            120
           ],
           "yaxis": "y"
          },
          {
           "hovertemplate": "attacktype1_txt=Facility/Infrastructure Attack<br>iyear=1996<br>imonth=%{x}<br>NombreAttaqueTypeMois=%{y}<extra></extra>",
           "legendgroup": "Facility/Infrastructure Attack",
           "line": {
            "color": "#FFA15A",
            "dash": "solid"
           },
           "marker": {
            "symbol": "circle"
           },
           "mode": "lines",
           "name": "Facility/Infrastructure Attack",
           "orientation": "v",
           "showlegend": true,
           "type": "scatter",
           "x": [
            1,
            2,
            3,
            4,
            5,
            6,
            7,
            8,
            9,
            10,
            11,
            12
           ],
           "xaxis": "x",
           "y": [
            16,
            20,
            17,
            4,
            19,
            5,
            39,
            4,
            9,
            37,
            12,
            34
           ],
           "yaxis": "y"
          },
          {
           "hovertemplate": "attacktype1_txt=Hijacking<br>iyear=1996<br>imonth=%{x}<br>NombreAttaqueTypeMois=%{y}<extra></extra>",
           "legendgroup": "Hijacking",
           "line": {
            "color": "#19d3f3",
            "dash": "solid"
           },
           "marker": {
            "symbol": "circle"
           },
           "mode": "lines",
           "name": "Hijacking",
           "orientation": "v",
           "showlegend": true,
           "type": "scatter",
           "x": [
            1,
            3,
            4,
            5,
            6,
            7,
            8,
            9,
            10,
            11,
            12
           ],
           "xaxis": "x",
           "y": [
            4,
            2,
            5,
            1,
            1,
            2,
            2,
            1,
            1,
            2,
            2
           ],
           "yaxis": "y"
          },
          {
           "hovertemplate": "attacktype1_txt=Unknown<br>iyear=1996<br>imonth=%{x}<br>NombreAttaqueTypeMois=%{y}<extra></extra>",
           "legendgroup": "Unknown",
           "line": {
            "color": "#FF6692",
            "dash": "solid"
           },
           "marker": {
            "symbol": "circle"
           },
           "mode": "lines",
           "name": "Unknown",
           "orientation": "v",
           "showlegend": true,
           "type": "scatter",
           "x": [
            1,
            2,
            3,
            4,
            5,
            6,
            7,
            8,
            9,
            10,
            11,
            12
           ],
           "xaxis": "x",
           "y": [
            18,
            18,
            24,
            36,
            43,
            23,
            13,
            18,
            39,
            35,
            14,
            10
           ],
           "yaxis": "y"
          },
          {
           "hovertemplate": "attacktype1_txt=Unarmed Assault<br>iyear=1996<br>imonth=%{x}<br>NombreAttaqueTypeMois=%{y}<extra></extra>",
           "legendgroup": "Unarmed Assault",
           "line": {
            "color": "#B6E880",
            "dash": "solid"
           },
           "marker": {
            "symbol": "circle"
           },
           "mode": "lines",
           "name": "Unarmed Assault",
           "orientation": "v",
           "showlegend": true,
           "type": "scatter",
           "x": [
            1,
            2,
            3,
            5,
            6,
            7,
            8,
            9,
            10,
            11,
            12
           ],
           "xaxis": "x",
           "y": [
            1,
            2,
            2,
            4,
            1,
            2,
            3,
            2,
            2,
            2,
            2
           ],
           "yaxis": "y"
          },
          {
           "hovertemplate": "attacktype1_txt=Hostage Taking (Barricade Incident)<br>iyear=1996<br>imonth=%{x}<br>NombreAttaqueTypeMois=%{y}<extra></extra>",
           "legendgroup": "Hostage Taking (Barricade Incident)",
           "line": {
            "color": "#FF97FF",
            "dash": "solid"
           },
           "marker": {
            "symbol": "circle"
           },
           "mode": "lines",
           "name": "Hostage Taking (Barricade Incident)",
           "orientation": "v",
           "showlegend": true,
           "type": "scatter",
           "x": [
            1,
            3,
            4,
            5,
            6,
            10,
            11,
            12
           ],
           "xaxis": "x",
           "y": [
            3,
            2,
            1,
            1,
            1,
            1,
            2,
            4
           ],
           "yaxis": "y"
          }
         ],
         "name": "1996"
        },
        {
         "data": [
          {
           "hovertemplate": "attacktype1_txt=Hostage Taking (Kidnapping)<br>iyear=1997<br>imonth=%{x}<br>NombreAttaqueTypeMois=%{y}<extra></extra>",
           "legendgroup": "Hostage Taking (Kidnapping)",
           "line": {
            "color": "#636efa",
            "dash": "solid"
           },
           "marker": {
            "symbol": "circle"
           },
           "mode": "lines",
           "name": "Hostage Taking (Kidnapping)",
           "orientation": "v",
           "showlegend": true,
           "type": "scatter",
           "x": [
            1,
            2,
            3,
            4,
            5,
            6,
            7,
            8,
            9,
            10,
            11,
            12
           ],
           "xaxis": "x",
           "y": [
            14,
            20,
            31,
            7,
            21,
            32,
            34,
            59,
            21,
            17,
            19,
            24
           ],
           "yaxis": "y"
          },
          {
           "hovertemplate": "attacktype1_txt=Armed Assault<br>iyear=1997<br>imonth=%{x}<br>NombreAttaqueTypeMois=%{y}<extra></extra>",
           "legendgroup": "Armed Assault",
           "line": {
            "color": "#EF553B",
            "dash": "solid"
           },
           "marker": {
            "symbol": "circle"
           },
           "mode": "lines",
           "name": "Armed Assault",
           "orientation": "v",
           "showlegend": true,
           "type": "scatter",
           "x": [
            1,
            2,
            3,
            4,
            5,
            6,
            7,
            8,
            9,
            10,
            11,
            12
           ],
           "xaxis": "x",
           "y": [
            58,
            52,
            44,
            65,
            51,
            69,
            99,
            90,
            69,
            68,
            65,
            96
           ],
           "yaxis": "y"
          },
          {
           "hovertemplate": "attacktype1_txt=Assassination<br>iyear=1997<br>imonth=%{x}<br>NombreAttaqueTypeMois=%{y}<extra></extra>",
           "legendgroup": "Assassination",
           "line": {
            "color": "#00cc96",
            "dash": "solid"
           },
           "marker": {
            "symbol": "circle"
           },
           "mode": "lines",
           "name": "Assassination",
           "orientation": "v",
           "showlegend": true,
           "type": "scatter",
           "x": [
            1,
            2,
            3,
            4,
            5,
            6,
            7,
            8,
            9,
            10,
            11,
            12
           ],
           "xaxis": "x",
           "y": [
            22,
            36,
            26,
            29,
            22,
            78,
            37,
            51,
            24,
            32,
            36,
            27
           ],
           "yaxis": "y"
          },
          {
           "hovertemplate": "attacktype1_txt=Bombing/Explosion<br>iyear=1997<br>imonth=%{x}<br>NombreAttaqueTypeMois=%{y}<extra></extra>",
           "legendgroup": "Bombing/Explosion",
           "line": {
            "color": "#ab63fa",
            "dash": "solid"
           },
           "marker": {
            "symbol": "circle"
           },
           "mode": "lines",
           "name": "Bombing/Explosion",
           "orientation": "v",
           "showlegend": true,
           "type": "scatter",
           "x": [
            1,
            2,
            3,
            4,
            5,
            6,
            7,
            8,
            9,
            10,
            11,
            12
           ],
           "xaxis": "x",
           "y": [
            111,
            127,
            101,
            91,
            63,
            91,
            120,
            93,
            97,
            98,
            60,
            71
           ],
           "yaxis": "y"
          },
          {
           "hovertemplate": "attacktype1_txt=Facility/Infrastructure Attack<br>iyear=1997<br>imonth=%{x}<br>NombreAttaqueTypeMois=%{y}<extra></extra>",
           "legendgroup": "Facility/Infrastructure Attack",
           "line": {
            "color": "#FFA15A",
            "dash": "solid"
           },
           "marker": {
            "symbol": "circle"
           },
           "mode": "lines",
           "name": "Facility/Infrastructure Attack",
           "orientation": "v",
           "showlegend": true,
           "type": "scatter",
           "x": [
            1,
            2,
            3,
            4,
            5,
            6,
            7,
            8,
            9,
            10,
            11,
            12
           ],
           "xaxis": "x",
           "y": [
            8,
            10,
            8,
            11,
            17,
            6,
            11,
            10,
            3,
            37,
            6,
            10
           ],
           "yaxis": "y"
          },
          {
           "hovertemplate": "attacktype1_txt=Hijacking<br>iyear=1997<br>imonth=%{x}<br>NombreAttaqueTypeMois=%{y}<extra></extra>",
           "legendgroup": "Hijacking",
           "line": {
            "color": "#19d3f3",
            "dash": "solid"
           },
           "marker": {
            "symbol": "circle"
           },
           "mode": "lines",
           "name": "Hijacking",
           "orientation": "v",
           "showlegend": true,
           "type": "scatter",
           "x": [
            1,
            2,
            3,
            4,
            6,
            7,
            9,
            10,
            11,
            12
           ],
           "xaxis": "x",
           "y": [
            1,
            2,
            1,
            2,
            5,
            1,
            1,
            1,
            1,
            1
           ],
           "yaxis": "y"
          },
          {
           "hovertemplate": "attacktype1_txt=Unknown<br>iyear=1997<br>imonth=%{x}<br>NombreAttaqueTypeMois=%{y}<extra></extra>",
           "legendgroup": "Unknown",
           "line": {
            "color": "#FF6692",
            "dash": "solid"
           },
           "marker": {
            "symbol": "circle"
           },
           "mode": "lines",
           "name": "Unknown",
           "orientation": "v",
           "showlegend": true,
           "type": "scatter",
           "x": [
            1,
            2,
            3,
            4,
            5,
            6,
            7,
            8,
            9,
            10,
            11,
            12
           ],
           "xaxis": "x",
           "y": [
            24,
            15,
            44,
            24,
            14,
            25,
            32,
            39,
            39,
            26,
            29,
            37
           ],
           "yaxis": "y"
          },
          {
           "hovertemplate": "attacktype1_txt=Unarmed Assault<br>iyear=1997<br>imonth=%{x}<br>NombreAttaqueTypeMois=%{y}<extra></extra>",
           "legendgroup": "Unarmed Assault",
           "line": {
            "color": "#B6E880",
            "dash": "solid"
           },
           "marker": {
            "symbol": "circle"
           },
           "mode": "lines",
           "name": "Unarmed Assault",
           "orientation": "v",
           "showlegend": true,
           "type": "scatter",
           "x": [
            1,
            2,
            3,
            4,
            5,
            6,
            7,
            8,
            9,
            11,
            12
           ],
           "xaxis": "x",
           "y": [
            1,
            4,
            1,
            4,
            1,
            2,
            3,
            4,
            1,
            2,
            2
           ],
           "yaxis": "y"
          },
          {
           "hovertemplate": "attacktype1_txt=Hostage Taking (Barricade Incident)<br>iyear=1997<br>imonth=%{x}<br>NombreAttaqueTypeMois=%{y}<extra></extra>",
           "legendgroup": "Hostage Taking (Barricade Incident)",
           "line": {
            "color": "#FF97FF",
            "dash": "solid"
           },
           "marker": {
            "symbol": "circle"
           },
           "mode": "lines",
           "name": "Hostage Taking (Barricade Incident)",
           "orientation": "v",
           "showlegend": true,
           "type": "scatter",
           "x": [
            8,
            9
           ],
           "xaxis": "x",
           "y": [
            1,
            2
           ],
           "yaxis": "y"
          }
         ],
         "name": "1997"
        },
        {
         "data": [
          {
           "hovertemplate": "attacktype1_txt=Hostage Taking (Kidnapping)<br>iyear=1998<br>imonth=%{x}<br>NombreAttaqueTypeMois=%{y}<extra></extra>",
           "legendgroup": "Hostage Taking (Kidnapping)",
           "line": {
            "color": "#636efa",
            "dash": "solid"
           },
           "marker": {
            "symbol": "circle"
           },
           "mode": "lines",
           "name": "Hostage Taking (Kidnapping)",
           "orientation": "v",
           "showlegend": true,
           "type": "scatter",
           "x": [
            2,
            3,
            4,
            5,
            6,
            7,
            8,
            9,
            10,
            11,
            12
           ],
           "xaxis": "x",
           "y": [
            4,
            3,
            2,
            3,
            1,
            4,
            9,
            4,
            7,
            3,
            3
           ],
           "yaxis": "y"
          },
          {
           "hovertemplate": "attacktype1_txt=Armed Assault<br>iyear=1998<br>imonth=%{x}<br>NombreAttaqueTypeMois=%{y}<extra></extra>",
           "legendgroup": "Armed Assault",
           "line": {
            "color": "#EF553B",
            "dash": "solid"
           },
           "marker": {
            "symbol": "circle"
           },
           "mode": "lines",
           "name": "Armed Assault",
           "orientation": "v",
           "showlegend": true,
           "type": "scatter",
           "x": [
            1,
            2,
            3,
            4,
            5,
            6,
            7,
            8,
            9,
            10,
            11,
            12
           ],
           "xaxis": "x",
           "y": [
            27,
            20,
            14,
            15,
            10,
            7,
            32,
            48,
            19,
            39,
            25,
            8
           ],
           "yaxis": "y"
          },
          {
           "hovertemplate": "attacktype1_txt=Assassination<br>iyear=1998<br>imonth=%{x}<br>NombreAttaqueTypeMois=%{y}<extra></extra>",
           "legendgroup": "Assassination",
           "line": {
            "color": "#00cc96",
            "dash": "solid"
           },
           "marker": {
            "symbol": "circle"
           },
           "mode": "lines",
           "name": "Assassination",
           "orientation": "v",
           "showlegend": true,
           "type": "scatter",
           "x": [
            1,
            2,
            4,
            5,
            7,
            8,
            9,
            10,
            11,
            12
           ],
           "xaxis": "x",
           "y": [
            1,
            2,
            1,
            5,
            3,
            1,
            4,
            4,
            2,
            1
           ],
           "yaxis": "y"
          },
          {
           "hovertemplate": "attacktype1_txt=Bombing/Explosion<br>iyear=1998<br>imonth=%{x}<br>NombreAttaqueTypeMois=%{y}<extra></extra>",
           "legendgroup": "Bombing/Explosion",
           "line": {
            "color": "#ab63fa",
            "dash": "solid"
           },
           "marker": {
            "symbol": "circle"
           },
           "mode": "lines",
           "name": "Bombing/Explosion",
           "orientation": "v",
           "showlegend": true,
           "type": "scatter",
           "x": [
            1,
            2,
            3,
            4,
            5,
            6,
            7,
            8,
            9,
            10,
            11,
            12
           ],
           "xaxis": "x",
           "y": [
            45,
            62,
            42,
            38,
            32,
            29,
            47,
            57,
            28,
            56,
            49,
            19
           ],
           "yaxis": "y"
          },
          {
           "hovertemplate": "attacktype1_txt=Facility/Infrastructure Attack<br>iyear=1998<br>imonth=%{x}<br>NombreAttaqueTypeMois=%{y}<extra></extra>",
           "legendgroup": "Facility/Infrastructure Attack",
           "line": {
            "color": "#FFA15A",
            "dash": "solid"
           },
           "marker": {
            "symbol": "circle"
           },
           "mode": "lines",
           "name": "Facility/Infrastructure Attack",
           "orientation": "v",
           "showlegend": true,
           "type": "scatter",
           "x": [
            1,
            2,
            3,
            4,
            5,
            6,
            7,
            8,
            9,
            10,
            11,
            12
           ],
           "xaxis": "x",
           "y": [
            6,
            3,
            3,
            3,
            2,
            3,
            16,
            7,
            6,
            5,
            3,
            1
           ],
           "yaxis": "y"
          },
          {
           "hovertemplate": "attacktype1_txt=Hijacking<br>iyear=1998<br>imonth=%{x}<br>NombreAttaqueTypeMois=%{y}<extra></extra>",
           "legendgroup": "Hijacking",
           "line": {
            "color": "#19d3f3",
            "dash": "solid"
           },
           "marker": {
            "symbol": "circle"
           },
           "mode": "lines",
           "name": "Hijacking",
           "orientation": "v",
           "showlegend": true,
           "type": "scatter",
           "x": [
            8,
            10
           ],
           "xaxis": "x",
           "y": [
            2,
            1
           ],
           "yaxis": "y"
          },
          {
           "hovertemplate": "attacktype1_txt=Unknown<br>iyear=1998<br>imonth=%{x}<br>NombreAttaqueTypeMois=%{y}<extra></extra>",
           "legendgroup": "Unknown",
           "line": {
            "color": "#FF6692",
            "dash": "solid"
           },
           "marker": {
            "symbol": "circle"
           },
           "mode": "lines",
           "name": "Unknown",
           "orientation": "v",
           "showlegend": true,
           "type": "scatter",
           "x": [
            1,
            2,
            4,
            6,
            7,
            8,
            9,
            10,
            11,
            12
           ],
           "xaxis": "x",
           "y": [
            3,
            2,
            1,
            1,
            3,
            1,
            4,
            2,
            5,
            1
           ],
           "yaxis": "y"
          },
          {
           "hovertemplate": "attacktype1_txt=Unarmed Assault<br>iyear=1998<br>imonth=%{x}<br>NombreAttaqueTypeMois=%{y}<extra></extra>",
           "legendgroup": "Unarmed Assault",
           "line": {
            "color": "#B6E880",
            "dash": "solid"
           },
           "marker": {
            "symbol": "circle"
           },
           "mode": "lines",
           "name": "Unarmed Assault",
           "orientation": "v",
           "showlegend": true,
           "type": "scatter",
           "x": [
            2,
            3,
            4,
            5,
            11,
            12
           ],
           "xaxis": "x",
           "y": [
            2,
            1,
            6,
            2,
            3,
            1
           ],
           "yaxis": "y"
          }
         ],
         "name": "1998"
        },
        {
         "data": [
          {
           "hovertemplate": "attacktype1_txt=Hostage Taking (Kidnapping)<br>iyear=1999<br>imonth=%{x}<br>NombreAttaqueTypeMois=%{y}<extra></extra>",
           "legendgroup": "Hostage Taking (Kidnapping)",
           "line": {
            "color": "#636efa",
            "dash": "solid"
           },
           "marker": {
            "symbol": "circle"
           },
           "mode": "lines",
           "name": "Hostage Taking (Kidnapping)",
           "orientation": "v",
           "showlegend": true,
           "type": "scatter",
           "x": [
            1,
            2,
            3,
            4,
            5,
            6,
            7,
            8,
            9,
            10,
            11,
            12
           ],
           "xaxis": "x",
           "y": [
            9,
            12,
            15,
            5,
            9,
            14,
            10,
            13,
            8,
            8,
            8,
            3
           ],
           "yaxis": "y"
          },
          {
           "hovertemplate": "attacktype1_txt=Armed Assault<br>iyear=1999<br>imonth=%{x}<br>NombreAttaqueTypeMois=%{y}<extra></extra>",
           "legendgroup": "Armed Assault",
           "line": {
            "color": "#EF553B",
            "dash": "solid"
           },
           "marker": {
            "symbol": "circle"
           },
           "mode": "lines",
           "name": "Armed Assault",
           "orientation": "v",
           "showlegend": true,
           "type": "scatter",
           "x": [
            1,
            2,
            3,
            4,
            5,
            6,
            7,
            8,
            9,
            10,
            11,
            12
           ],
           "xaxis": "x",
           "y": [
            17,
            11,
            42,
            15,
            23,
            64,
            66,
            26,
            17,
            35,
            40,
            11
           ],
           "yaxis": "y"
          },
          {
           "hovertemplate": "attacktype1_txt=Assassination<br>iyear=1999<br>imonth=%{x}<br>NombreAttaqueTypeMois=%{y}<extra></extra>",
           "legendgroup": "Assassination",
           "line": {
            "color": "#00cc96",
            "dash": "solid"
           },
           "marker": {
            "symbol": "circle"
           },
           "mode": "lines",
           "name": "Assassination",
           "orientation": "v",
           "showlegend": true,
           "type": "scatter",
           "x": [
            1,
            2,
            3,
            4,
            5,
            6,
            7,
            9,
            10,
            11,
            12
           ],
           "xaxis": "x",
           "y": [
            4,
            1,
            4,
            9,
            7,
            6,
            3,
            7,
            7,
            11,
            2
           ],
           "yaxis": "y"
          },
          {
           "hovertemplate": "attacktype1_txt=Bombing/Explosion<br>iyear=1999<br>imonth=%{x}<br>NombreAttaqueTypeMois=%{y}<extra></extra>",
           "legendgroup": "Bombing/Explosion",
           "line": {
            "color": "#ab63fa",
            "dash": "solid"
           },
           "marker": {
            "symbol": "circle"
           },
           "mode": "lines",
           "name": "Bombing/Explosion",
           "orientation": "v",
           "showlegend": true,
           "type": "scatter",
           "x": [
            1,
            2,
            3,
            4,
            5,
            6,
            7,
            8,
            9,
            10,
            11,
            12
           ],
           "xaxis": "x",
           "y": [
            29,
            32,
            107,
            48,
            44,
            69,
            55,
            64,
            38,
            66,
            61,
            39
           ],
           "yaxis": "y"
          },
          {
           "hovertemplate": "attacktype1_txt=Facility/Infrastructure Attack<br>iyear=1999<br>imonth=%{x}<br>NombreAttaqueTypeMois=%{y}<extra></extra>",
           "legendgroup": "Facility/Infrastructure Attack",
           "line": {
            "color": "#FFA15A",
            "dash": "solid"
           },
           "marker": {
            "symbol": "circle"
           },
           "mode": "lines",
           "name": "Facility/Infrastructure Attack",
           "orientation": "v",
           "showlegend": true,
           "type": "scatter",
           "x": [
            1,
            2,
            3,
            4,
            5,
            6,
            7,
            8,
            9,
            10,
            11,
            12
           ],
           "xaxis": "x",
           "y": [
            2,
            1,
            12,
            7,
            9,
            10,
            19,
            5,
            5,
            25,
            15,
            4
           ],
           "yaxis": "y"
          },
          {
           "hovertemplate": "attacktype1_txt=Hijacking<br>iyear=1999<br>imonth=%{x}<br>NombreAttaqueTypeMois=%{y}<extra></extra>",
           "legendgroup": "Hijacking",
           "line": {
            "color": "#19d3f3",
            "dash": "solid"
           },
           "marker": {
            "symbol": "circle"
           },
           "mode": "lines",
           "name": "Hijacking",
           "orientation": "v",
           "showlegend": true,
           "type": "scatter",
           "x": [
            3,
            4,
            10,
            12
           ],
           "xaxis": "x",
           "y": [
            3,
            1,
            1,
            1
           ],
           "yaxis": "y"
          },
          {
           "hovertemplate": "attacktype1_txt=Unknown<br>iyear=1999<br>imonth=%{x}<br>NombreAttaqueTypeMois=%{y}<extra></extra>",
           "legendgroup": "Unknown",
           "line": {
            "color": "#FF6692",
            "dash": "solid"
           },
           "marker": {
            "symbol": "circle"
           },
           "mode": "lines",
           "name": "Unknown",
           "orientation": "v",
           "showlegend": true,
           "type": "scatter",
           "x": [
            3,
            4,
            5,
            6,
            7,
            9,
            10,
            11
           ],
           "xaxis": "x",
           "y": [
            1,
            3,
            1,
            16,
            4,
            4,
            6,
            4
           ],
           "yaxis": "y"
          },
          {
           "hovertemplate": "attacktype1_txt=Unarmed Assault<br>iyear=1999<br>imonth=%{x}<br>NombreAttaqueTypeMois=%{y}<extra></extra>",
           "legendgroup": "Unarmed Assault",
           "line": {
            "color": "#B6E880",
            "dash": "solid"
           },
           "marker": {
            "symbol": "circle"
           },
           "mode": "lines",
           "name": "Unarmed Assault",
           "orientation": "v",
           "showlegend": true,
           "type": "scatter",
           "x": [
            1,
            2,
            5,
            6,
            7,
            8,
            10,
            11,
            12
           ],
           "xaxis": "x",
           "y": [
            2,
            1,
            1,
            4,
            1,
            5,
            15,
            1,
            6
           ],
           "yaxis": "y"
          },
          {
           "hovertemplate": "attacktype1_txt=Hostage Taking (Barricade Incident)<br>iyear=1999<br>imonth=%{x}<br>NombreAttaqueTypeMois=%{y}<extra></extra>",
           "legendgroup": "Hostage Taking (Barricade Incident)",
           "line": {
            "color": "#FF97FF",
            "dash": "solid"
           },
           "marker": {
            "symbol": "circle"
           },
           "mode": "lines",
           "name": "Hostage Taking (Barricade Incident)",
           "orientation": "v",
           "showlegend": true,
           "type": "scatter",
           "x": [
            2,
            8,
            10,
            11
           ],
           "xaxis": "x",
           "y": [
            3,
            1,
            1,
            1
           ],
           "yaxis": "y"
          }
         ],
         "name": "1999"
        },
        {
         "data": [
          {
           "hovertemplate": "attacktype1_txt=Hostage Taking (Kidnapping)<br>iyear=2000<br>imonth=%{x}<br>NombreAttaqueTypeMois=%{y}<extra></extra>",
           "legendgroup": "Hostage Taking (Kidnapping)",
           "line": {
            "color": "#636efa",
            "dash": "solid"
           },
           "marker": {
            "symbol": "circle"
           },
           "mode": "lines",
           "name": "Hostage Taking (Kidnapping)",
           "orientation": "v",
           "showlegend": true,
           "type": "scatter",
           "x": [
            1,
            2,
            3,
            4,
            5,
            6,
            7,
            8,
            9,
            10,
            11,
            12
           ],
           "xaxis": "x",
           "y": [
            12,
            6,
            7,
            14,
            10,
            11,
            15,
            10,
            11,
            10,
            13,
            6
           ],
           "yaxis": "y"
          },
          {
           "hovertemplate": "attacktype1_txt=Armed Assault<br>iyear=2000<br>imonth=%{x}<br>NombreAttaqueTypeMois=%{y}<extra></extra>",
           "legendgroup": "Armed Assault",
           "line": {
            "color": "#EF553B",
            "dash": "solid"
           },
           "marker": {
            "symbol": "circle"
           },
           "mode": "lines",
           "name": "Armed Assault",
           "orientation": "v",
           "showlegend": true,
           "type": "scatter",
           "x": [
            1,
            2,
            3,
            4,
            5,
            6,
            7,
            8,
            9,
            10,
            11,
            12
           ],
           "xaxis": "x",
           "y": [
            70,
            28,
            35,
            12,
            24,
            43,
            43,
            25,
            66,
            62,
            51,
            34
           ],
           "yaxis": "y"
          },
          {
           "hovertemplate": "attacktype1_txt=Assassination<br>iyear=2000<br>imonth=%{x}<br>NombreAttaqueTypeMois=%{y}<extra></extra>",
           "legendgroup": "Assassination",
           "line": {
            "color": "#00cc96",
            "dash": "solid"
           },
           "marker": {
            "symbol": "circle"
           },
           "mode": "lines",
           "name": "Assassination",
           "orientation": "v",
           "showlegend": true,
           "type": "scatter",
           "x": [
            1,
            2,
            3,
            4,
            5,
            6,
            7,
            8,
            9,
            10,
            11,
            12
           ],
           "xaxis": "x",
           "y": [
            6,
            5,
            7,
            6,
            14,
            12,
            11,
            4,
            9,
            9,
            11,
            9
           ],
           "yaxis": "y"
          },
          {
           "hovertemplate": "attacktype1_txt=Bombing/Explosion<br>iyear=2000<br>imonth=%{x}<br>NombreAttaqueTypeMois=%{y}<extra></extra>",
           "legendgroup": "Bombing/Explosion",
           "line": {
            "color": "#ab63fa",
            "dash": "solid"
           },
           "marker": {
            "symbol": "circle"
           },
           "mode": "lines",
           "name": "Bombing/Explosion",
           "orientation": "v",
           "showlegend": true,
           "type": "scatter",
           "x": [
            1,
            2,
            3,
            4,
            5,
            6,
            7,
            8,
            9,
            10,
            11,
            12
           ],
           "xaxis": "x",
           "y": [
            81,
            57,
            39,
            62,
            70,
            78,
            70,
            74,
            112,
            76,
            89,
            96
           ],
           "yaxis": "y"
          },
          {
           "hovertemplate": "attacktype1_txt=Facility/Infrastructure Attack<br>iyear=2000<br>imonth=%{x}<br>NombreAttaqueTypeMois=%{y}<extra></extra>",
           "legendgroup": "Facility/Infrastructure Attack",
           "line": {
            "color": "#FFA15A",
            "dash": "solid"
           },
           "marker": {
            "symbol": "circle"
           },
           "mode": "lines",
           "name": "Facility/Infrastructure Attack",
           "orientation": "v",
           "showlegend": true,
           "type": "scatter",
           "x": [
            1,
            2,
            3,
            4,
            5,
            6,
            7,
            8,
            9,
            10,
            11,
            12
           ],
           "xaxis": "x",
           "y": [
            10,
            10,
            6,
            2,
            6,
            6,
            9,
            9,
            15,
            12,
            13,
            13
           ],
           "yaxis": "y"
          },
          {
           "hovertemplate": "attacktype1_txt=Hijacking<br>iyear=2000<br>imonth=%{x}<br>NombreAttaqueTypeMois=%{y}<extra></extra>",
           "legendgroup": "Hijacking",
           "line": {
            "color": "#19d3f3",
            "dash": "solid"
           },
           "marker": {
            "symbol": "circle"
           },
           "mode": "lines",
           "name": "Hijacking",
           "orientation": "v",
           "showlegend": true,
           "type": "scatter",
           "x": [
            1,
            2,
            9,
            10
           ],
           "xaxis": "x",
           "y": [
            1,
            1,
            4,
            1
           ],
           "yaxis": "y"
          },
          {
           "hovertemplate": "attacktype1_txt=Unknown<br>iyear=2000<br>imonth=%{x}<br>NombreAttaqueTypeMois=%{y}<extra></extra>",
           "legendgroup": "Unknown",
           "line": {
            "color": "#FF6692",
            "dash": "solid"
           },
           "marker": {
            "symbol": "circle"
           },
           "mode": "lines",
           "name": "Unknown",
           "orientation": "v",
           "showlegend": true,
           "type": "scatter",
           "x": [
            1,
            2,
            4,
            5,
            6,
            7,
            8,
            9,
            10,
            11,
            12
           ],
           "xaxis": "x",
           "y": [
            3,
            2,
            1,
            4,
            4,
            6,
            2,
            6,
            3,
            3,
            9
           ],
           "yaxis": "y"
          },
          {
           "hovertemplate": "attacktype1_txt=Unarmed Assault<br>iyear=2000<br>imonth=%{x}<br>NombreAttaqueTypeMois=%{y}<extra></extra>",
           "legendgroup": "Unarmed Assault",
           "line": {
            "color": "#B6E880",
            "dash": "solid"
           },
           "marker": {
            "symbol": "circle"
           },
           "mode": "lines",
           "name": "Unarmed Assault",
           "orientation": "v",
           "showlegend": true,
           "type": "scatter",
           "x": [
            1,
            2,
            3,
            4,
            5,
            6,
            7,
            9,
            11
           ],
           "xaxis": "x",
           "y": [
            1,
            3,
            2,
            1,
            3,
            12,
            2,
            1,
            1
           ],
           "yaxis": "y"
          },
          {
           "hovertemplate": "attacktype1_txt=Hostage Taking (Barricade Incident)<br>iyear=2000<br>imonth=%{x}<br>NombreAttaqueTypeMois=%{y}<extra></extra>",
           "legendgroup": "Hostage Taking (Barricade Incident)",
           "line": {
            "color": "#FF97FF",
            "dash": "solid"
           },
           "marker": {
            "symbol": "circle"
           },
           "mode": "lines",
           "name": "Hostage Taking (Barricade Incident)",
           "orientation": "v",
           "showlegend": true,
           "type": "scatter",
           "x": [
            6,
            9
           ],
           "xaxis": "x",
           "y": [
            1,
            1
           ],
           "yaxis": "y"
          }
         ],
         "name": "2000"
        },
        {
         "data": [
          {
           "hovertemplate": "attacktype1_txt=Hostage Taking (Kidnapping)<br>iyear=2001<br>imonth=%{x}<br>NombreAttaqueTypeMois=%{y}<extra></extra>",
           "legendgroup": "Hostage Taking (Kidnapping)",
           "line": {
            "color": "#636efa",
            "dash": "solid"
           },
           "marker": {
            "symbol": "circle"
           },
           "mode": "lines",
           "name": "Hostage Taking (Kidnapping)",
           "orientation": "v",
           "showlegend": true,
           "type": "scatter",
           "x": [
            1,
            2,
            3,
            4,
            5,
            6,
            7,
            8,
            9,
            10,
            11,
            12
           ],
           "xaxis": "x",
           "y": [
            11,
            10,
            10,
            4,
            7,
            7,
            10,
            47,
            7,
            7,
            17,
            8
           ],
           "yaxis": "y"
          },
          {
           "hovertemplate": "attacktype1_txt=Armed Assault<br>iyear=2001<br>imonth=%{x}<br>NombreAttaqueTypeMois=%{y}<extra></extra>",
           "legendgroup": "Armed Assault",
           "line": {
            "color": "#EF553B",
            "dash": "solid"
           },
           "marker": {
            "symbol": "circle"
           },
           "mode": "lines",
           "name": "Armed Assault",
           "orientation": "v",
           "showlegend": true,
           "type": "scatter",
           "x": [
            1,
            2,
            3,
            4,
            5,
            6,
            7,
            8,
            9,
            10,
            11,
            12
           ],
           "xaxis": "x",
           "y": [
            45,
            39,
            54,
            26,
            26,
            26,
            23,
            159,
            49,
            21,
            59,
            55
           ],
           "yaxis": "y"
          },
          {
           "hovertemplate": "attacktype1_txt=Assassination<br>iyear=2001<br>imonth=%{x}<br>NombreAttaqueTypeMois=%{y}<extra></extra>",
           "legendgroup": "Assassination",
           "line": {
            "color": "#00cc96",
            "dash": "solid"
           },
           "marker": {
            "symbol": "circle"
           },
           "mode": "lines",
           "name": "Assassination",
           "orientation": "v",
           "showlegend": true,
           "type": "scatter",
           "x": [
            1,
            2,
            3,
            4,
            5,
            6,
            7,
            8,
            9,
            10,
            11,
            12
           ],
           "xaxis": "x",
           "y": [
            11,
            15,
            11,
            8,
            7,
            7,
            7,
            28,
            10,
            7,
            8,
            8
           ],
           "yaxis": "y"
          },
          {
           "hovertemplate": "attacktype1_txt=Bombing/Explosion<br>iyear=2001<br>imonth=%{x}<br>NombreAttaqueTypeMois=%{y}<extra></extra>",
           "legendgroup": "Bombing/Explosion",
           "line": {
            "color": "#ab63fa",
            "dash": "solid"
           },
           "marker": {
            "symbol": "circle"
           },
           "mode": "lines",
           "name": "Bombing/Explosion",
           "orientation": "v",
           "showlegend": true,
           "type": "scatter",
           "x": [
            1,
            2,
            3,
            4,
            5,
            6,
            7,
            8,
            9,
            10,
            11,
            12
           ],
           "xaxis": "x",
           "y": [
            77,
            57,
            75,
            63,
            50,
            33,
            32,
            225,
            53,
            39,
            47,
            49
           ],
           "yaxis": "y"
          },
          {
           "hovertemplate": "attacktype1_txt=Facility/Infrastructure Attack<br>iyear=2001<br>imonth=%{x}<br>NombreAttaqueTypeMois=%{y}<extra></extra>",
           "legendgroup": "Facility/Infrastructure Attack",
           "line": {
            "color": "#FFA15A",
            "dash": "solid"
           },
           "marker": {
            "symbol": "circle"
           },
           "mode": "lines",
           "name": "Facility/Infrastructure Attack",
           "orientation": "v",
           "showlegend": true,
           "type": "scatter",
           "x": [
            1,
            2,
            3,
            4,
            5,
            6,
            7,
            8,
            9,
            10,
            11,
            12
           ],
           "xaxis": "x",
           "y": [
            10,
            6,
            7,
            9,
            6,
            3,
            2,
            85,
            11,
            2,
            3,
            4
           ],
           "yaxis": "y"
          },
          {
           "hovertemplate": "attacktype1_txt=Hijacking<br>iyear=2001<br>imonth=%{x}<br>NombreAttaqueTypeMois=%{y}<extra></extra>",
           "legendgroup": "Hijacking",
           "line": {
            "color": "#19d3f3",
            "dash": "solid"
           },
           "marker": {
            "symbol": "circle"
           },
           "mode": "lines",
           "name": "Hijacking",
           "orientation": "v",
           "showlegend": true,
           "type": "scatter",
           "x": [
            1,
            3,
            4,
            7,
            8,
            9
           ],
           "xaxis": "x",
           "y": [
            3,
            1,
            1,
            1,
            4,
            4
           ],
           "yaxis": "y"
          },
          {
           "hovertemplate": "attacktype1_txt=Unknown<br>iyear=2001<br>imonth=%{x}<br>NombreAttaqueTypeMois=%{y}<extra></extra>",
           "legendgroup": "Unknown",
           "line": {
            "color": "#FF6692",
            "dash": "solid"
           },
           "marker": {
            "symbol": "circle"
           },
           "mode": "lines",
           "name": "Unknown",
           "orientation": "v",
           "showlegend": true,
           "type": "scatter",
           "x": [
            1,
            2,
            3,
            4,
            5,
            6,
            7,
            8,
            9,
            10,
            11,
            12
           ],
           "xaxis": "x",
           "y": [
            7,
            4,
            6,
            5,
            2,
            3,
            2,
            7,
            3,
            2,
            3,
            1
           ],
           "yaxis": "y"
          },
          {
           "hovertemplate": "attacktype1_txt=Unarmed Assault<br>iyear=2001<br>imonth=%{x}<br>NombreAttaqueTypeMois=%{y}<extra></extra>",
           "legendgroup": "Unarmed Assault",
           "line": {
            "color": "#B6E880",
            "dash": "solid"
           },
           "marker": {
            "symbol": "circle"
           },
           "mode": "lines",
           "name": "Unarmed Assault",
           "orientation": "v",
           "showlegend": true,
           "type": "scatter",
           "x": [
            2,
            3,
            8,
            9,
            10,
            11,
            12
           ],
           "xaxis": "x",
           "y": [
            5,
            2,
            12,
            2,
            16,
            3,
            1
           ],
           "yaxis": "y"
          },
          {
           "hovertemplate": "attacktype1_txt=Hostage Taking (Barricade Incident)<br>iyear=2001<br>imonth=%{x}<br>NombreAttaqueTypeMois=%{y}<extra></extra>",
           "legendgroup": "Hostage Taking (Barricade Incident)",
           "line": {
            "color": "#FF97FF",
            "dash": "solid"
           },
           "marker": {
            "symbol": "circle"
           },
           "mode": "lines",
           "name": "Hostage Taking (Barricade Incident)",
           "orientation": "v",
           "showlegend": true,
           "type": "scatter",
           "x": [
            4,
            6,
            8,
            11
           ],
           "xaxis": "x",
           "y": [
            1,
            1,
            1,
            1
           ],
           "yaxis": "y"
          }
         ],
         "name": "2001"
        },
        {
         "data": [
          {
           "hovertemplate": "attacktype1_txt=Hostage Taking (Kidnapping)<br>iyear=2002<br>imonth=%{x}<br>NombreAttaqueTypeMois=%{y}<extra></extra>",
           "legendgroup": "Hostage Taking (Kidnapping)",
           "line": {
            "color": "#636efa",
            "dash": "solid"
           },
           "marker": {
            "symbol": "circle"
           },
           "mode": "lines",
           "name": "Hostage Taking (Kidnapping)",
           "orientation": "v",
           "showlegend": true,
           "type": "scatter",
           "x": [
            1,
            2,
            3,
            4,
            5,
            6,
            7,
            8,
            9,
            10,
            11
           ],
           "xaxis": "x",
           "y": [
            6,
            5,
            5,
            12,
            15,
            9,
            2,
            11,
            8,
            3,
            3
           ],
           "yaxis": "y"
          },
          {
           "hovertemplate": "attacktype1_txt=Armed Assault<br>iyear=2002<br>imonth=%{x}<br>NombreAttaqueTypeMois=%{y}<extra></extra>",
           "legendgroup": "Armed Assault",
           "line": {
            "color": "#EF553B",
            "dash": "solid"
           },
           "marker": {
            "symbol": "circle"
           },
           "mode": "lines",
           "name": "Armed Assault",
           "orientation": "v",
           "showlegend": true,
           "type": "scatter",
           "x": [
            1,
            2,
            3,
            4,
            5,
            6,
            7,
            8,
            9,
            10,
            11,
            12
           ],
           "xaxis": "x",
           "y": [
            56,
            50,
            26,
            28,
            36,
            26,
            35,
            42,
            19,
            20,
            16,
            13
           ],
           "yaxis": "y"
          },
          {
           "hovertemplate": "attacktype1_txt=Assassination<br>iyear=2002<br>imonth=%{x}<br>NombreAttaqueTypeMois=%{y}<extra></extra>",
           "legendgroup": "Assassination",
           "line": {
            "color": "#00cc96",
            "dash": "solid"
           },
           "marker": {
            "symbol": "circle"
           },
           "mode": "lines",
           "name": "Assassination",
           "orientation": "v",
           "showlegend": true,
           "type": "scatter",
           "x": [
            1,
            2,
            3,
            4,
            5,
            6,
            7,
            8,
            9,
            10,
            11,
            12
           ],
           "xaxis": "x",
           "y": [
            7,
            4,
            5,
            3,
            8,
            11,
            5,
            7,
            9,
            6,
            3,
            5
           ],
           "yaxis": "y"
          },
          {
           "hovertemplate": "attacktype1_txt=Bombing/Explosion<br>iyear=2002<br>imonth=%{x}<br>NombreAttaqueTypeMois=%{y}<extra></extra>",
           "legendgroup": "Bombing/Explosion",
           "line": {
            "color": "#ab63fa",
            "dash": "solid"
           },
           "marker": {
            "symbol": "circle"
           },
           "mode": "lines",
           "name": "Bombing/Explosion",
           "orientation": "v",
           "showlegend": true,
           "type": "scatter",
           "x": [
            1,
            2,
            3,
            4,
            5,
            6,
            7,
            8,
            9,
            10,
            11,
            12
           ],
           "xaxis": "x",
           "y": [
            74,
            70,
            42,
            54,
            108,
            51,
            48,
            75,
            30,
            61,
            72,
            35
           ],
           "yaxis": "y"
          },
          {
           "hovertemplate": "attacktype1_txt=Facility/Infrastructure Attack<br>iyear=2002<br>imonth=%{x}<br>NombreAttaqueTypeMois=%{y}<extra></extra>",
           "legendgroup": "Facility/Infrastructure Attack",
           "line": {
            "color": "#FFA15A",
            "dash": "solid"
           },
           "marker": {
            "symbol": "circle"
           },
           "mode": "lines",
           "name": "Facility/Infrastructure Attack",
           "orientation": "v",
           "showlegend": true,
           "type": "scatter",
           "x": [
            1,
            2,
            3,
            4,
            5,
            6,
            7,
            8,
            9,
            10,
            11,
            12
           ],
           "xaxis": "x",
           "y": [
            4,
            4,
            1,
            4,
            13,
            4,
            1,
            3,
            3,
            1,
            9,
            2
           ],
           "yaxis": "y"
          },
          {
           "hovertemplate": "attacktype1_txt=Hijacking<br>iyear=2002<br>imonth=%{x}<br>NombreAttaqueTypeMois=%{y}<extra></extra>",
           "legendgroup": "Hijacking",
           "line": {
            "color": "#19d3f3",
            "dash": "solid"
           },
           "marker": {
            "symbol": "circle"
           },
           "mode": "lines",
           "name": "Hijacking",
           "orientation": "v",
           "showlegend": true,
           "type": "scatter",
           "x": [
            1,
            2,
            5,
            6,
            9,
            11
           ],
           "xaxis": "x",
           "y": [
            1,
            1,
            1,
            1,
            1,
            1
           ],
           "yaxis": "y"
          },
          {
           "hovertemplate": "attacktype1_txt=Unknown<br>iyear=2002<br>imonth=%{x}<br>NombreAttaqueTypeMois=%{y}<extra></extra>",
           "legendgroup": "Unknown",
           "line": {
            "color": "#FF6692",
            "dash": "solid"
           },
           "marker": {
            "symbol": "circle"
           },
           "mode": "lines",
           "name": "Unknown",
           "orientation": "v",
           "showlegend": true,
           "type": "scatter",
           "x": [
            2,
            4,
            5,
            6,
            7,
            8,
            9,
            10,
            11,
            12
           ],
           "xaxis": "x",
           "y": [
            2,
            3,
            5,
            1,
            2,
            1,
            3,
            2,
            2,
            4
           ],
           "yaxis": "y"
          },
          {
           "hovertemplate": "attacktype1_txt=Unarmed Assault<br>iyear=2002<br>imonth=%{x}<br>NombreAttaqueTypeMois=%{y}<extra></extra>",
           "legendgroup": "Unarmed Assault",
           "line": {
            "color": "#B6E880",
            "dash": "solid"
           },
           "marker": {
            "symbol": "circle"
           },
           "mode": "lines",
           "name": "Unarmed Assault",
           "orientation": "v",
           "showlegend": true,
           "type": "scatter",
           "x": [
            2,
            3,
            4,
            5,
            7,
            8,
            12
           ],
           "xaxis": "x",
           "y": [
            2,
            1,
            2,
            2,
            1,
            1,
            1
           ],
           "yaxis": "y"
          },
          {
           "hovertemplate": "attacktype1_txt=Hostage Taking (Barricade Incident)<br>iyear=2002<br>imonth=%{x}<br>NombreAttaqueTypeMois=%{y}<extra></extra>",
           "legendgroup": "Hostage Taking (Barricade Incident)",
           "line": {
            "color": "#FF97FF",
            "dash": "solid"
           },
           "marker": {
            "symbol": "circle"
           },
           "mode": "lines",
           "name": "Hostage Taking (Barricade Incident)",
           "orientation": "v",
           "showlegend": true,
           "type": "scatter",
           "x": [
            4,
            5,
            8,
            10
           ],
           "xaxis": "x",
           "y": [
            1,
            1,
            1,
            1
           ],
           "yaxis": "y"
          }
         ],
         "name": "2002"
        },
        {
         "data": [
          {
           "hovertemplate": "attacktype1_txt=Hostage Taking (Kidnapping)<br>iyear=2003<br>imonth=%{x}<br>NombreAttaqueTypeMois=%{y}<extra></extra>",
           "legendgroup": "Hostage Taking (Kidnapping)",
           "line": {
            "color": "#636efa",
            "dash": "solid"
           },
           "marker": {
            "symbol": "circle"
           },
           "mode": "lines",
           "name": "Hostage Taking (Kidnapping)",
           "orientation": "v",
           "showlegend": true,
           "type": "scatter",
           "x": [
            1,
            2,
            3,
            4,
            5,
            6,
            7,
            9,
            10,
            11,
            12
           ],
           "xaxis": "x",
           "y": [
            8,
            4,
            6,
            6,
            3,
            3,
            4,
            2,
            2,
            6,
            2
           ],
           "yaxis": "y"
          },
          {
           "hovertemplate": "attacktype1_txt=Armed Assault<br>iyear=2003<br>imonth=%{x}<br>NombreAttaqueTypeMois=%{y}<extra></extra>",
           "legendgroup": "Armed Assault",
           "line": {
            "color": "#EF553B",
            "dash": "solid"
           },
           "marker": {
            "symbol": "circle"
           },
           "mode": "lines",
           "name": "Armed Assault",
           "orientation": "v",
           "showlegend": true,
           "type": "scatter",
           "x": [
            1,
            2,
            3,
            4,
            5,
            6,
            7,
            8,
            9,
            10,
            11,
            12
           ],
           "xaxis": "x",
           "y": [
            45,
            40,
            36,
            31,
            36,
            16,
            37,
            3,
            21,
            7,
            28,
            15
           ],
           "yaxis": "y"
          },
          {
           "hovertemplate": "attacktype1_txt=Assassination<br>iyear=2003<br>imonth=%{x}<br>NombreAttaqueTypeMois=%{y}<extra></extra>",
           "legendgroup": "Assassination",
           "line": {
            "color": "#00cc96",
            "dash": "solid"
           },
           "marker": {
            "symbol": "circle"
           },
           "mode": "lines",
           "name": "Assassination",
           "orientation": "v",
           "showlegend": true,
           "type": "scatter",
           "x": [
            1,
            2,
            3,
            4,
            5,
            6,
            7,
            8,
            9,
            10,
            11,
            12
           ],
           "xaxis": "x",
           "y": [
            34,
            11,
            2,
            3,
            4,
            6,
            7,
            3,
            1,
            6,
            5,
            6
           ],
           "yaxis": "y"
          },
          {
           "hovertemplate": "attacktype1_txt=Bombing/Explosion<br>iyear=2003<br>imonth=%{x}<br>NombreAttaqueTypeMois=%{y}<extra></extra>",
           "legendgroup": "Bombing/Explosion",
           "line": {
            "color": "#ab63fa",
            "dash": "solid"
           },
           "marker": {
            "symbol": "circle"
           },
           "mode": "lines",
           "name": "Bombing/Explosion",
           "orientation": "v",
           "showlegend": true,
           "type": "scatter",
           "x": [
            1,
            2,
            3,
            4,
            5,
            6,
            7,
            8,
            9,
            10,
            11,
            12
           ],
           "xaxis": "x",
           "y": [
            91,
            52,
            120,
            36,
            95,
            23,
            61,
            27,
            43,
            38,
            53,
            50
           ],
           "yaxis": "y"
          },
          {
           "hovertemplate": "attacktype1_txt=Facility/Infrastructure Attack<br>iyear=2003<br>imonth=%{x}<br>NombreAttaqueTypeMois=%{y}<extra></extra>",
           "legendgroup": "Facility/Infrastructure Attack",
           "line": {
            "color": "#FFA15A",
            "dash": "solid"
           },
           "marker": {
            "symbol": "circle"
           },
           "mode": "lines",
           "name": "Facility/Infrastructure Attack",
           "orientation": "v",
           "showlegend": true,
           "type": "scatter",
           "x": [
            1,
            2,
            3,
            4,
            5,
            6,
            7,
            8,
            9,
            10,
            11,
            12
           ],
           "xaxis": "x",
           "y": [
            13,
            1,
            28,
            3,
            9,
            4,
            5,
            3,
            7,
            5,
            4,
            6
           ],
           "yaxis": "y"
          },
          {
           "hovertemplate": "attacktype1_txt=Hijacking<br>iyear=2003<br>imonth=%{x}<br>NombreAttaqueTypeMois=%{y}<extra></extra>",
           "legendgroup": "Hijacking",
           "line": {
            "color": "#19d3f3",
            "dash": "solid"
           },
           "marker": {
            "symbol": "circle"
           },
           "mode": "lines",
           "name": "Hijacking",
           "orientation": "v",
           "showlegend": true,
           "type": "scatter",
           "x": [
            2
           ],
           "xaxis": "x",
           "y": [
            3
           ],
           "yaxis": "y"
          },
          {
           "hovertemplate": "attacktype1_txt=Unknown<br>iyear=2003<br>imonth=%{x}<br>NombreAttaqueTypeMois=%{y}<extra></extra>",
           "legendgroup": "Unknown",
           "line": {
            "color": "#FF6692",
            "dash": "solid"
           },
           "marker": {
            "symbol": "circle"
           },
           "mode": "lines",
           "name": "Unknown",
           "orientation": "v",
           "showlegend": true,
           "type": "scatter",
           "x": [
            1,
            2,
            4,
            5,
            6,
            7,
            11
           ],
           "xaxis": "x",
           "y": [
            3,
            2,
            3,
            9,
            1,
            3,
            6
           ],
           "yaxis": "y"
          },
          {
           "hovertemplate": "attacktype1_txt=Unarmed Assault<br>iyear=2003<br>imonth=%{x}<br>NombreAttaqueTypeMois=%{y}<extra></extra>",
           "legendgroup": "Unarmed Assault",
           "line": {
            "color": "#B6E880",
            "dash": "solid"
           },
           "marker": {
            "symbol": "circle"
           },
           "mode": "lines",
           "name": "Unarmed Assault",
           "orientation": "v",
           "showlegend": true,
           "type": "scatter",
           "x": [
            1,
            2,
            3,
            6,
            10,
            11,
            12
           ],
           "xaxis": "x",
           "y": [
            1,
            1,
            2,
            9,
            1,
            5,
            1
           ],
           "yaxis": "y"
          },
          {
           "hovertemplate": "attacktype1_txt=Hostage Taking (Barricade Incident)<br>iyear=2003<br>imonth=%{x}<br>NombreAttaqueTypeMois=%{y}<extra></extra>",
           "legendgroup": "Hostage Taking (Barricade Incident)",
           "line": {
            "color": "#FF97FF",
            "dash": "solid"
           },
           "marker": {
            "symbol": "circle"
           },
           "mode": "lines",
           "name": "Hostage Taking (Barricade Incident)",
           "orientation": "v",
           "showlegend": true,
           "type": "scatter",
           "x": [
            3,
            4
           ],
           "xaxis": "x",
           "y": [
            1,
            1
           ],
           "yaxis": "y"
          }
         ],
         "name": "2003"
        },
        {
         "data": [
          {
           "hovertemplate": "attacktype1_txt=Hostage Taking (Kidnapping)<br>iyear=2004<br>imonth=%{x}<br>NombreAttaqueTypeMois=%{y}<extra></extra>",
           "legendgroup": "Hostage Taking (Kidnapping)",
           "line": {
            "color": "#636efa",
            "dash": "solid"
           },
           "marker": {
            "symbol": "circle"
           },
           "mode": "lines",
           "name": "Hostage Taking (Kidnapping)",
           "orientation": "v",
           "showlegend": true,
           "type": "scatter",
           "x": [
            1,
            3,
            4,
            5,
            6,
            7,
            8,
            9,
            10,
            11,
            12
           ],
           "xaxis": "x",
           "y": [
            2,
            2,
            16,
            3,
            4,
            12,
            8,
            8,
            11,
            5,
            6
           ],
           "yaxis": "y"
          },
          {
           "hovertemplate": "attacktype1_txt=Armed Assault<br>iyear=2004<br>imonth=%{x}<br>NombreAttaqueTypeMois=%{y}<extra></extra>",
           "legendgroup": "Armed Assault",
           "line": {
            "color": "#EF553B",
            "dash": "solid"
           },
           "marker": {
            "symbol": "circle"
           },
           "mode": "lines",
           "name": "Armed Assault",
           "orientation": "v",
           "showlegend": true,
           "type": "scatter",
           "x": [
            1,
            2,
            3,
            4,
            5,
            6,
            7,
            8,
            9,
            10,
            11,
            12
           ],
           "xaxis": "x",
           "y": [
            20,
            9,
            20,
            30,
            28,
            48,
            14,
            14,
            22,
            25,
            11,
            18
           ],
           "yaxis": "y"
          },
          {
           "hovertemplate": "attacktype1_txt=Assassination<br>iyear=2004<br>imonth=%{x}<br>NombreAttaqueTypeMois=%{y}<extra></extra>",
           "legendgroup": "Assassination",
           "line": {
            "color": "#00cc96",
            "dash": "solid"
           },
           "marker": {
            "symbol": "circle"
           },
           "mode": "lines",
           "name": "Assassination",
           "orientation": "v",
           "showlegend": true,
           "type": "scatter",
           "x": [
            1,
            2,
            3,
            4,
            5,
            6,
            7,
            8,
            9,
            10,
            11,
            12
           ],
           "xaxis": "x",
           "y": [
            4,
            2,
            18,
            6,
            5,
            5,
            23,
            10,
            7,
            10,
            12,
            2
           ],
           "yaxis": "y"
          },
          {
           "hovertemplate": "attacktype1_txt=Bombing/Explosion<br>iyear=2004<br>imonth=%{x}<br>NombreAttaqueTypeMois=%{y}<extra></extra>",
           "legendgroup": "Bombing/Explosion",
           "line": {
            "color": "#ab63fa",
            "dash": "solid"
           },
           "marker": {
            "symbol": "circle"
           },
           "mode": "lines",
           "name": "Bombing/Explosion",
           "orientation": "v",
           "showlegend": true,
           "type": "scatter",
           "x": [
            1,
            2,
            3,
            4,
            5,
            6,
            7,
            8,
            9,
            10,
            11,
            12
           ],
           "xaxis": "x",
           "y": [
            51,
            29,
            37,
            40,
            49,
            85,
            60,
            81,
            55,
            73,
            45,
            54
           ],
           "yaxis": "y"
          },
          {
           "hovertemplate": "attacktype1_txt=Facility/Infrastructure Attack<br>iyear=2004<br>imonth=%{x}<br>NombreAttaqueTypeMois=%{y}<extra></extra>",
           "legendgroup": "Facility/Infrastructure Attack",
           "line": {
            "color": "#FFA15A",
            "dash": "solid"
           },
           "marker": {
            "symbol": "circle"
           },
           "mode": "lines",
           "name": "Facility/Infrastructure Attack",
           "orientation": "v",
           "showlegend": true,
           "type": "scatter",
           "x": [
            2,
            3,
            4,
            6,
            7,
            8,
            9,
            12
           ],
           "xaxis": "x",
           "y": [
            2,
            3,
            6,
            3,
            2,
            3,
            10,
            4
           ],
           "yaxis": "y"
          },
          {
           "hovertemplate": "attacktype1_txt=Hijacking<br>iyear=2004<br>imonth=%{x}<br>NombreAttaqueTypeMois=%{y}<extra></extra>",
           "legendgroup": "Hijacking",
           "line": {
            "color": "#19d3f3",
            "dash": "solid"
           },
           "marker": {
            "symbol": "circle"
           },
           "mode": "lines",
           "name": "Hijacking",
           "orientation": "v",
           "showlegend": true,
           "type": "scatter",
           "x": [
            8
           ],
           "xaxis": "x",
           "y": [
            1
           ],
           "yaxis": "y"
          },
          {
           "hovertemplate": "attacktype1_txt=Unknown<br>iyear=2004<br>imonth=%{x}<br>NombreAttaqueTypeMois=%{y}<extra></extra>",
           "legendgroup": "Unknown",
           "line": {
            "color": "#FF6692",
            "dash": "solid"
           },
           "marker": {
            "symbol": "circle"
           },
           "mode": "lines",
           "name": "Unknown",
           "orientation": "v",
           "showlegend": true,
           "type": "scatter",
           "x": [
            1,
            2,
            5,
            6,
            7,
            8,
            9
           ],
           "xaxis": "x",
           "y": [
            2,
            1,
            5,
            11,
            3,
            3,
            1
           ],
           "yaxis": "y"
          },
          {
           "hovertemplate": "attacktype1_txt=Unarmed Assault<br>iyear=2004<br>imonth=%{x}<br>NombreAttaqueTypeMois=%{y}<extra></extra>",
           "legendgroup": "Unarmed Assault",
           "line": {
            "color": "#B6E880",
            "dash": "solid"
           },
           "marker": {
            "symbol": "circle"
           },
           "mode": "lines",
           "name": "Unarmed Assault",
           "orientation": "v",
           "showlegend": true,
           "type": "scatter",
           "x": [
            2,
            3,
            5,
            9
           ],
           "xaxis": "x",
           "y": [
            1,
            1,
            1,
            1
           ],
           "yaxis": "y"
          },
          {
           "hovertemplate": "attacktype1_txt=Hostage Taking (Barricade Incident)<br>iyear=2004<br>imonth=%{x}<br>NombreAttaqueTypeMois=%{y}<extra></extra>",
           "legendgroup": "Hostage Taking (Barricade Incident)",
           "line": {
            "color": "#FF97FF",
            "dash": "solid"
           },
           "marker": {
            "symbol": "circle"
           },
           "mode": "lines",
           "name": "Hostage Taking (Barricade Incident)",
           "orientation": "v",
           "showlegend": true,
           "type": "scatter",
           "x": [
            3,
            5,
            9
           ],
           "xaxis": "x",
           "y": [
            1,
            1,
            1
           ],
           "yaxis": "y"
          }
         ],
         "name": "2004"
        },
        {
         "data": [
          {
           "hovertemplate": "attacktype1_txt=Hostage Taking (Kidnapping)<br>iyear=2005<br>imonth=%{x}<br>NombreAttaqueTypeMois=%{y}<extra></extra>",
           "legendgroup": "Hostage Taking (Kidnapping)",
           "line": {
            "color": "#636efa",
            "dash": "solid"
           },
           "marker": {
            "symbol": "circle"
           },
           "mode": "lines",
           "name": "Hostage Taking (Kidnapping)",
           "orientation": "v",
           "showlegend": true,
           "type": "scatter",
           "x": [
            1,
            2,
            3,
            4,
            5,
            6,
            7,
            8,
            9,
            10,
            11,
            12
           ],
           "xaxis": "x",
           "y": [
            10,
            3,
            10,
            11,
            16,
            6,
            16,
            20,
            4,
            11,
            3,
            10
           ],
           "yaxis": "y"
          },
          {
           "hovertemplate": "attacktype1_txt=Armed Assault<br>iyear=2005<br>imonth=%{x}<br>NombreAttaqueTypeMois=%{y}<extra></extra>",
           "legendgroup": "Armed Assault",
           "line": {
            "color": "#EF553B",
            "dash": "solid"
           },
           "marker": {
            "symbol": "circle"
           },
           "mode": "lines",
           "name": "Armed Assault",
           "orientation": "v",
           "showlegend": true,
           "type": "scatter",
           "x": [
            1,
            2,
            3,
            4,
            5,
            6,
            7,
            8,
            9,
            10,
            11,
            12
           ],
           "xaxis": "x",
           "y": [
            35,
            12,
            35,
            49,
            48,
            52,
            75,
            80,
            34,
            49,
            13,
            30
           ],
           "yaxis": "y"
          },
          {
           "hovertemplate": "attacktype1_txt=Assassination<br>iyear=2005<br>imonth=%{x}<br>NombreAttaqueTypeMois=%{y}<extra></extra>",
           "legendgroup": "Assassination",
           "line": {
            "color": "#00cc96",
            "dash": "solid"
           },
           "marker": {
            "symbol": "circle"
           },
           "mode": "lines",
           "name": "Assassination",
           "orientation": "v",
           "showlegend": true,
           "type": "scatter",
           "x": [
            1,
            2,
            3,
            4,
            5,
            6,
            7,
            8,
            9,
            10,
            11,
            12
           ],
           "xaxis": "x",
           "y": [
            21,
            6,
            32,
            28,
            36,
            8,
            23,
            33,
            8,
            20,
            4,
            6
           ],
           "yaxis": "y"
          },
          {
           "hovertemplate": "attacktype1_txt=Bombing/Explosion<br>iyear=2005<br>imonth=%{x}<br>NombreAttaqueTypeMois=%{y}<extra></extra>",
           "legendgroup": "Bombing/Explosion",
           "line": {
            "color": "#ab63fa",
            "dash": "solid"
           },
           "marker": {
            "symbol": "circle"
           },
           "mode": "lines",
           "name": "Bombing/Explosion",
           "orientation": "v",
           "showlegend": true,
           "type": "scatter",
           "x": [
            1,
            2,
            3,
            4,
            5,
            6,
            7,
            8,
            9,
            10,
            11,
            12
           ],
           "xaxis": "x",
           "y": [
            98,
            42,
            114,
            108,
            123,
            67,
            149,
            124,
            66,
            62,
            54,
            57
           ],
           "yaxis": "y"
          },
          {
           "hovertemplate": "attacktype1_txt=Facility/Infrastructure Attack<br>iyear=2005<br>imonth=%{x}<br>NombreAttaqueTypeMois=%{y}<extra></extra>",
           "legendgroup": "Facility/Infrastructure Attack",
           "line": {
            "color": "#FFA15A",
            "dash": "solid"
           },
           "marker": {
            "symbol": "circle"
           },
           "mode": "lines",
           "name": "Facility/Infrastructure Attack",
           "orientation": "v",
           "showlegend": true,
           "type": "scatter",
           "x": [
            1,
            2,
            3,
            4,
            5,
            6,
            7,
            8,
            9,
            10,
            12
           ],
           "xaxis": "x",
           "y": [
            8,
            1,
            4,
            11,
            2,
            5,
            8,
            2,
            3,
            1,
            5
           ],
           "yaxis": "y"
          },
          {
           "hovertemplate": "attacktype1_txt=Hijacking<br>iyear=2005<br>imonth=%{x}<br>NombreAttaqueTypeMois=%{y}<extra></extra>",
           "legendgroup": "Hijacking",
           "line": {
            "color": "#19d3f3",
            "dash": "solid"
           },
           "marker": {
            "symbol": "circle"
           },
           "mode": "lines",
           "name": "Hijacking",
           "orientation": "v",
           "showlegend": true,
           "type": "scatter",
           "x": [
            2,
            12
           ],
           "xaxis": "x",
           "y": [
            1,
            1
           ],
           "yaxis": "y"
          },
          {
           "hovertemplate": "attacktype1_txt=Unknown<br>iyear=2005<br>imonth=%{x}<br>NombreAttaqueTypeMois=%{y}<extra></extra>",
           "legendgroup": "Unknown",
           "line": {
            "color": "#FF6692",
            "dash": "solid"
           },
           "marker": {
            "symbol": "circle"
           },
           "mode": "lines",
           "name": "Unknown",
           "orientation": "v",
           "showlegend": true,
           "type": "scatter",
           "x": [
            1,
            2,
            3,
            4,
            5,
            6,
            7,
            8,
            9,
            10,
            12
           ],
           "xaxis": "x",
           "y": [
            5,
            6,
            1,
            2,
            4,
            5,
            2,
            1,
            4,
            2,
            6
           ],
           "yaxis": "y"
          },
          {
           "hovertemplate": "attacktype1_txt=Unarmed Assault<br>iyear=2005<br>imonth=%{x}<br>NombreAttaqueTypeMois=%{y}<extra></extra>",
           "legendgroup": "Unarmed Assault",
           "line": {
            "color": "#B6E880",
            "dash": "solid"
           },
           "marker": {
            "symbol": "circle"
           },
           "mode": "lines",
           "name": "Unarmed Assault",
           "orientation": "v",
           "showlegend": true,
           "type": "scatter",
           "x": [
            3,
            5,
            6,
            9
           ],
           "xaxis": "x",
           "y": [
            2,
            2,
            1,
            1
           ],
           "yaxis": "y"
          }
         ],
         "name": "2005"
        },
        {
         "data": [
          {
           "hovertemplate": "attacktype1_txt=Hostage Taking (Kidnapping)<br>iyear=2006<br>imonth=%{x}<br>NombreAttaqueTypeMois=%{y}<extra></extra>",
           "legendgroup": "Hostage Taking (Kidnapping)",
           "line": {
            "color": "#636efa",
            "dash": "solid"
           },
           "marker": {
            "symbol": "circle"
           },
           "mode": "lines",
           "name": "Hostage Taking (Kidnapping)",
           "orientation": "v",
           "showlegend": true,
           "type": "scatter",
           "x": [
            1,
            2,
            3,
            4,
            5,
            6,
            7,
            8,
            9,
            10,
            11,
            12
           ],
           "xaxis": "x",
           "y": [
            18,
            31,
            6,
            31,
            19,
            7,
            21,
            13,
            9,
            13,
            15,
            19
           ],
           "yaxis": "y"
          },
          {
           "hovertemplate": "attacktype1_txt=Armed Assault<br>iyear=2006<br>imonth=%{x}<br>NombreAttaqueTypeMois=%{y}<extra></extra>",
           "legendgroup": "Armed Assault",
           "line": {
            "color": "#EF553B",
            "dash": "solid"
           },
           "marker": {
            "symbol": "circle"
           },
           "mode": "lines",
           "name": "Armed Assault",
           "orientation": "v",
           "showlegend": true,
           "type": "scatter",
           "x": [
            1,
            2,
            3,
            4,
            5,
            6,
            7,
            8,
            9,
            10,
            11,
            12
           ],
           "xaxis": "x",
           "y": [
            69,
            133,
            24,
            121,
            70,
            32,
            72,
            62,
            32,
            52,
            46,
            26
           ],
           "yaxis": "y"
          },
          {
           "hovertemplate": "attacktype1_txt=Assassination<br>iyear=2006<br>imonth=%{x}<br>NombreAttaqueTypeMois=%{y}<extra></extra>",
           "legendgroup": "Assassination",
           "line": {
            "color": "#00cc96",
            "dash": "solid"
           },
           "marker": {
            "symbol": "circle"
           },
           "mode": "lines",
           "name": "Assassination",
           "orientation": "v",
           "showlegend": true,
           "type": "scatter",
           "x": [
            1,
            2,
            3,
            4,
            5,
            6,
            7,
            8,
            9,
            10,
            11,
            12
           ],
           "xaxis": "x",
           "y": [
            37,
            6,
            4,
            26,
            7,
            2,
            10,
            9,
            8,
            10,
            19,
            2
           ],
           "yaxis": "y"
          },
          {
           "hovertemplate": "attacktype1_txt=Bombing/Explosion<br>iyear=2006<br>imonth=%{x}<br>NombreAttaqueTypeMois=%{y}<extra></extra>",
           "legendgroup": "Bombing/Explosion",
           "line": {
            "color": "#ab63fa",
            "dash": "solid"
           },
           "marker": {
            "symbol": "circle"
           },
           "mode": "lines",
           "name": "Bombing/Explosion",
           "orientation": "v",
           "showlegend": true,
           "type": "scatter",
           "x": [
            1,
            2,
            3,
            4,
            5,
            6,
            7,
            8,
            9,
            10,
            11,
            12
           ],
           "xaxis": "x",
           "y": [
            124,
            247,
            73,
            182,
            109,
            70,
            163,
            149,
            100,
            107,
            80,
            102
           ],
           "yaxis": "y"
          },
          {
           "hovertemplate": "attacktype1_txt=Facility/Infrastructure Attack<br>iyear=2006<br>imonth=%{x}<br>NombreAttaqueTypeMois=%{y}<extra></extra>",
           "legendgroup": "Facility/Infrastructure Attack",
           "line": {
            "color": "#FFA15A",
            "dash": "solid"
           },
           "marker": {
            "symbol": "circle"
           },
           "mode": "lines",
           "name": "Facility/Infrastructure Attack",
           "orientation": "v",
           "showlegend": true,
           "type": "scatter",
           "x": [
            1,
            2,
            3,
            4,
            5,
            6,
            7,
            8,
            9,
            10,
            12
           ],
           "xaxis": "x",
           "y": [
            25,
            13,
            11,
            25,
            6,
            2,
            3,
            4,
            5,
            2,
            11
           ],
           "yaxis": "y"
          },
          {
           "hovertemplate": "attacktype1_txt=Hijacking<br>iyear=2006<br>imonth=%{x}<br>NombreAttaqueTypeMois=%{y}<extra></extra>",
           "legendgroup": "Hijacking",
           "line": {
            "color": "#19d3f3",
            "dash": "solid"
           },
           "marker": {
            "symbol": "circle"
           },
           "mode": "lines",
           "name": "Hijacking",
           "orientation": "v",
           "showlegend": true,
           "type": "scatter",
           "x": [
            2,
            4,
            12
           ],
           "xaxis": "x",
           "y": [
            1,
            1,
            1
           ],
           "yaxis": "y"
          },
          {
           "hovertemplate": "attacktype1_txt=Unknown<br>iyear=2006<br>imonth=%{x}<br>NombreAttaqueTypeMois=%{y}<extra></extra>",
           "legendgroup": "Unknown",
           "line": {
            "color": "#FF6692",
            "dash": "solid"
           },
           "marker": {
            "symbol": "circle"
           },
           "mode": "lines",
           "name": "Unknown",
           "orientation": "v",
           "showlegend": true,
           "type": "scatter",
           "x": [
            1,
            2,
            3,
            4,
            5,
            6,
            7,
            8,
            9,
            10,
            11,
            12
           ],
           "xaxis": "x",
           "y": [
            5,
            3,
            1,
            6,
            4,
            6,
            2,
            5,
            3,
            2,
            1,
            1
           ],
           "yaxis": "y"
          },
          {
           "hovertemplate": "attacktype1_txt=Unarmed Assault<br>iyear=2006<br>imonth=%{x}<br>NombreAttaqueTypeMois=%{y}<extra></extra>",
           "legendgroup": "Unarmed Assault",
           "line": {
            "color": "#B6E880",
            "dash": "solid"
           },
           "marker": {
            "symbol": "circle"
           },
           "mode": "lines",
           "name": "Unarmed Assault",
           "orientation": "v",
           "showlegend": true,
           "type": "scatter",
           "x": [
            1,
            3,
            4,
            6,
            11
           ],
           "xaxis": "x",
           "y": [
            3,
            1,
            9,
            1,
            1
           ],
           "yaxis": "y"
          },
          {
           "hovertemplate": "attacktype1_txt=Hostage Taking (Barricade Incident)<br>iyear=2006<br>imonth=%{x}<br>NombreAttaqueTypeMois=%{y}<extra></extra>",
           "legendgroup": "Hostage Taking (Barricade Incident)",
           "line": {
            "color": "#FF97FF",
            "dash": "solid"
           },
           "marker": {
            "symbol": "circle"
           },
           "mode": "lines",
           "name": "Hostage Taking (Barricade Incident)",
           "orientation": "v",
           "showlegend": true,
           "type": "scatter",
           "x": [
            1,
            4,
            11,
            12
           ],
           "xaxis": "x",
           "y": [
            1,
            4,
            1,
            1
           ],
           "yaxis": "y"
          }
         ],
         "name": "2006"
        },
        {
         "data": [
          {
           "hovertemplate": "attacktype1_txt=Hostage Taking (Kidnapping)<br>iyear=2007<br>imonth=%{x}<br>NombreAttaqueTypeMois=%{y}<extra></extra>",
           "legendgroup": "Hostage Taking (Kidnapping)",
           "line": {
            "color": "#636efa",
            "dash": "solid"
           },
           "marker": {
            "symbol": "circle"
           },
           "mode": "lines",
           "name": "Hostage Taking (Kidnapping)",
           "orientation": "v",
           "showlegend": true,
           "type": "scatter",
           "x": [
            1,
            2,
            3,
            4,
            5,
            6,
            7,
            8,
            9,
            10,
            11,
            12
           ],
           "xaxis": "x",
           "y": [
            15,
            13,
            18,
            18,
            16,
            45,
            18,
            15,
            11,
            22,
            24,
            8
           ],
           "yaxis": "y"
          },
          {
           "hovertemplate": "attacktype1_txt=Armed Assault<br>iyear=2007<br>imonth=%{x}<br>NombreAttaqueTypeMois=%{y}<extra></extra>",
           "legendgroup": "Armed Assault",
           "line": {
            "color": "#EF553B",
            "dash": "solid"
           },
           "marker": {
            "symbol": "circle"
           },
           "mode": "lines",
           "name": "Armed Assault",
           "orientation": "v",
           "showlegend": true,
           "type": "scatter",
           "x": [
            1,
            2,
            3,
            4,
            5,
            6,
            7,
            8,
            9,
            10,
            11,
            12
           ],
           "xaxis": "x",
           "y": [
            43,
            78,
            67,
            69,
            31,
            154,
            34,
            68,
            24,
            71,
            170,
            40
           ],
           "yaxis": "y"
          },
          {
           "hovertemplate": "attacktype1_txt=Assassination<br>iyear=2007<br>imonth=%{x}<br>NombreAttaqueTypeMois=%{y}<extra></extra>",
           "legendgroup": "Assassination",
           "line": {
            "color": "#00cc96",
            "dash": "solid"
           },
           "marker": {
            "symbol": "circle"
           },
           "mode": "lines",
           "name": "Assassination",
           "orientation": "v",
           "showlegend": true,
           "type": "scatter",
           "x": [
            1,
            2,
            3,
            4,
            5,
            6,
            7,
            8,
            9,
            10,
            11,
            12
           ],
           "xaxis": "x",
           "y": [
            3,
            2,
            7,
            9,
            9,
            27,
            22,
            7,
            12,
            10,
            24,
            8
           ],
           "yaxis": "y"
          },
          {
           "hovertemplate": "attacktype1_txt=Bombing/Explosion<br>iyear=2007<br>imonth=%{x}<br>NombreAttaqueTypeMois=%{y}<extra></extra>",
           "legendgroup": "Bombing/Explosion",
           "line": {
            "color": "#ab63fa",
            "dash": "solid"
           },
           "marker": {
            "symbol": "circle"
           },
           "mode": "lines",
           "name": "Bombing/Explosion",
           "orientation": "v",
           "showlegend": true,
           "type": "scatter",
           "x": [
            1,
            2,
            3,
            4,
            5,
            6,
            7,
            8,
            9,
            10,
            11,
            12
           ],
           "xaxis": "x",
           "y": [
            109,
            135,
            118,
            113,
            107,
            324,
            142,
            105,
            112,
            227,
            261,
            113
           ],
           "yaxis": "y"
          },
          {
           "hovertemplate": "attacktype1_txt=Facility/Infrastructure Attack<br>iyear=2007<br>imonth=%{x}<br>NombreAttaqueTypeMois=%{y}<extra></extra>",
           "legendgroup": "Facility/Infrastructure Attack",
           "line": {
            "color": "#FFA15A",
            "dash": "solid"
           },
           "marker": {
            "symbol": "circle"
           },
           "mode": "lines",
           "name": "Facility/Infrastructure Attack",
           "orientation": "v",
           "showlegend": true,
           "type": "scatter",
           "x": [
            1,
            2,
            3,
            4,
            5,
            6,
            7,
            8,
            9,
            10,
            11,
            12
           ],
           "xaxis": "x",
           "y": [
            3,
            4,
            10,
            5,
            5,
            34,
            6,
            4,
            4,
            1,
            37,
            2
           ],
           "yaxis": "y"
          },
          {
           "hovertemplate": "attacktype1_txt=Hijacking<br>iyear=2007<br>imonth=%{x}<br>NombreAttaqueTypeMois=%{y}<extra></extra>",
           "legendgroup": "Hijacking",
           "line": {
            "color": "#19d3f3",
            "dash": "solid"
           },
           "marker": {
            "symbol": "circle"
           },
           "mode": "lines",
           "name": "Hijacking",
           "orientation": "v",
           "showlegend": true,
           "type": "scatter",
           "x": [
            1,
            3,
            4,
            5,
            6
           ],
           "xaxis": "x",
           "y": [
            2,
            1,
            1,
            2,
            1
           ],
           "yaxis": "y"
          },
          {
           "hovertemplate": "attacktype1_txt=Unknown<br>iyear=2007<br>imonth=%{x}<br>NombreAttaqueTypeMois=%{y}<extra></extra>",
           "legendgroup": "Unknown",
           "line": {
            "color": "#FF6692",
            "dash": "solid"
           },
           "marker": {
            "symbol": "circle"
           },
           "mode": "lines",
           "name": "Unknown",
           "orientation": "v",
           "showlegend": true,
           "type": "scatter",
           "x": [
            1,
            2,
            3,
            4,
            5,
            6,
            7,
            9,
            10,
            11,
            12
           ],
           "xaxis": "x",
           "y": [
            1,
            2,
            5,
            2,
            1,
            1,
            2,
            2,
            1,
            12,
            1
           ],
           "yaxis": "y"
          },
          {
           "hovertemplate": "attacktype1_txt=Unarmed Assault<br>iyear=2007<br>imonth=%{x}<br>NombreAttaqueTypeMois=%{y}<extra></extra>",
           "legendgroup": "Unarmed Assault",
           "line": {
            "color": "#B6E880",
            "dash": "solid"
           },
           "marker": {
            "symbol": "circle"
           },
           "mode": "lines",
           "name": "Unarmed Assault",
           "orientation": "v",
           "showlegend": true,
           "type": "scatter",
           "x": [
            3,
            6,
            8,
            11,
            12
           ],
           "xaxis": "x",
           "y": [
            2,
            1,
            1,
            1,
            1
           ],
           "yaxis": "y"
          },
          {
           "hovertemplate": "attacktype1_txt=Hostage Taking (Barricade Incident)<br>iyear=2007<br>imonth=%{x}<br>NombreAttaqueTypeMois=%{y}<extra></extra>",
           "legendgroup": "Hostage Taking (Barricade Incident)",
           "line": {
            "color": "#FF97FF",
            "dash": "solid"
           },
           "marker": {
            "symbol": "circle"
           },
           "mode": "lines",
           "name": "Hostage Taking (Barricade Incident)",
           "orientation": "v",
           "showlegend": true,
           "type": "scatter",
           "x": [
            6,
            11
           ],
           "xaxis": "x",
           "y": [
            1,
            5
           ],
           "yaxis": "y"
          }
         ],
         "name": "2007"
        },
        {
         "data": [
          {
           "hovertemplate": "attacktype1_txt=Hostage Taking (Kidnapping)<br>iyear=2008<br>imonth=%{x}<br>NombreAttaqueTypeMois=%{y}<extra></extra>",
           "legendgroup": "Hostage Taking (Kidnapping)",
           "line": {
            "color": "#636efa",
            "dash": "solid"
           },
           "marker": {
            "symbol": "circle"
           },
           "mode": "lines",
           "name": "Hostage Taking (Kidnapping)",
           "orientation": "v",
           "showlegend": true,
           "type": "scatter",
           "x": [
            1,
            2,
            3,
            4,
            5,
            6,
            7,
            8,
            9,
            10,
            11,
            12
           ],
           "xaxis": "x",
           "y": [
            31,
            9,
            10,
            44,
            44,
            43,
            51,
            37,
            11,
            25,
            46,
            37
           ],
           "yaxis": "y"
          },
          {
           "hovertemplate": "attacktype1_txt=Armed Assault<br>iyear=2008<br>imonth=%{x}<br>NombreAttaqueTypeMois=%{y}<extra></extra>",
           "legendgroup": "Armed Assault",
           "line": {
            "color": "#EF553B",
            "dash": "solid"
           },
           "marker": {
            "symbol": "circle"
           },
           "mode": "lines",
           "name": "Armed Assault",
           "orientation": "v",
           "showlegend": true,
           "type": "scatter",
           "x": [
            1,
            2,
            3,
            4,
            5,
            6,
            7,
            8,
            9,
            10,
            11,
            12
           ],
           "xaxis": "x",
           "y": [
            72,
            24,
            45,
            115,
            112,
            122,
            147,
            100,
            61,
            87,
            85,
            123
           ],
           "yaxis": "y"
          },
          {
           "hovertemplate": "attacktype1_txt=Assassination<br>iyear=2008<br>imonth=%{x}<br>NombreAttaqueTypeMois=%{y}<extra></extra>",
           "legendgroup": "Assassination",
           "line": {
            "color": "#00cc96",
            "dash": "solid"
           },
           "marker": {
            "symbol": "circle"
           },
           "mode": "lines",
           "name": "Assassination",
           "orientation": "v",
           "showlegend": true,
           "type": "scatter",
           "x": [
            1,
            2,
            3,
            4,
            5,
            6,
            7,
            8,
            9,
            10,
            11,
            12
           ],
           "xaxis": "x",
           "y": [
            10,
            11,
            14,
            35,
            28,
            23,
            16,
            10,
            7,
            11,
            42,
            12
           ],
           "yaxis": "y"
          },
          {
           "hovertemplate": "attacktype1_txt=Bombing/Explosion<br>iyear=2008<br>imonth=%{x}<br>NombreAttaqueTypeMois=%{y}<extra></extra>",
           "legendgroup": "Bombing/Explosion",
           "line": {
            "color": "#ab63fa",
            "dash": "solid"
           },
           "marker": {
            "symbol": "circle"
           },
           "mode": "lines",
           "name": "Bombing/Explosion",
           "orientation": "v",
           "showlegend": true,
           "type": "scatter",
           "x": [
            1,
            2,
            3,
            4,
            5,
            6,
            7,
            8,
            9,
            10,
            11,
            12
           ],
           "xaxis": "x",
           "y": [
            197,
            95,
            230,
            264,
            256,
            261,
            307,
            266,
            164,
            171,
            218,
            233
           ],
           "yaxis": "y"
          },
          {
           "hovertemplate": "attacktype1_txt=Facility/Infrastructure Attack<br>iyear=2008<br>imonth=%{x}<br>NombreAttaqueTypeMois=%{y}<extra></extra>",
           "legendgroup": "Facility/Infrastructure Attack",
           "line": {
            "color": "#FFA15A",
            "dash": "solid"
           },
           "marker": {
            "symbol": "circle"
           },
           "mode": "lines",
           "name": "Facility/Infrastructure Attack",
           "orientation": "v",
           "showlegend": true,
           "type": "scatter",
           "x": [
            1,
            2,
            3,
            4,
            5,
            6,
            7,
            8,
            9,
            10,
            11,
            12
           ],
           "xaxis": "x",
           "y": [
            7,
            17,
            11,
            34,
            36,
            39,
            24,
            32,
            25,
            20,
            22,
            18
           ],
           "yaxis": "y"
          },
          {
           "hovertemplate": "attacktype1_txt=Hijacking<br>iyear=2008<br>imonth=%{x}<br>NombreAttaqueTypeMois=%{y}<extra></extra>",
           "legendgroup": "Hijacking",
           "line": {
            "color": "#19d3f3",
            "dash": "solid"
           },
           "marker": {
            "symbol": "circle"
           },
           "mode": "lines",
           "name": "Hijacking",
           "orientation": "v",
           "showlegend": true,
           "type": "scatter",
           "x": [
            3,
            4,
            5,
            7,
            8,
            10,
            11
           ],
           "xaxis": "x",
           "y": [
            1,
            1,
            2,
            1,
            4,
            2,
            5
           ],
           "yaxis": "y"
          },
          {
           "hovertemplate": "attacktype1_txt=Unknown<br>iyear=2008<br>imonth=%{x}<br>NombreAttaqueTypeMois=%{y}<extra></extra>",
           "legendgroup": "Unknown",
           "line": {
            "color": "#FF6692",
            "dash": "solid"
           },
           "marker": {
            "symbol": "circle"
           },
           "mode": "lines",
           "name": "Unknown",
           "orientation": "v",
           "showlegend": true,
           "type": "scatter",
           "x": [
            1,
            2,
            3,
            4,
            5,
            6,
            7,
            8,
            9,
            10,
            11,
            12
           ],
           "xaxis": "x",
           "y": [
            9,
            1,
            9,
            13,
            15,
            15,
            5,
            9,
            1,
            6,
            6,
            17
           ],
           "yaxis": "y"
          },
          {
           "hovertemplate": "attacktype1_txt=Unarmed Assault<br>iyear=2008<br>imonth=%{x}<br>NombreAttaqueTypeMois=%{y}<extra></extra>",
           "legendgroup": "Unarmed Assault",
           "line": {
            "color": "#B6E880",
            "dash": "solid"
           },
           "marker": {
            "symbol": "circle"
           },
           "mode": "lines",
           "name": "Unarmed Assault",
           "orientation": "v",
           "showlegend": true,
           "type": "scatter",
           "x": [
            3,
            4,
            5,
            6,
            7,
            8,
            10,
            11,
            12
           ],
           "xaxis": "x",
           "y": [
            1,
            1,
            6,
            7,
            3,
            4,
            3,
            3,
            3
           ],
           "yaxis": "y"
          },
          {
           "hovertemplate": "attacktype1_txt=Hostage Taking (Barricade Incident)<br>iyear=2008<br>imonth=%{x}<br>NombreAttaqueTypeMois=%{y}<extra></extra>",
           "legendgroup": "Hostage Taking (Barricade Incident)",
           "line": {
            "color": "#FF97FF",
            "dash": "solid"
           },
           "marker": {
            "symbol": "circle"
           },
           "mode": "lines",
           "name": "Hostage Taking (Barricade Incident)",
           "orientation": "v",
           "showlegend": true,
           "type": "scatter",
           "x": [
            1,
            10,
            11
           ],
           "xaxis": "x",
           "y": [
            1,
            1,
            3
           ],
           "yaxis": "y"
          }
         ],
         "name": "2008"
        },
        {
         "data": [
          {
           "hovertemplate": "attacktype1_txt=Hostage Taking (Kidnapping)<br>iyear=2009<br>imonth=%{x}<br>NombreAttaqueTypeMois=%{y}<extra></extra>",
           "legendgroup": "Hostage Taking (Kidnapping)",
           "line": {
            "color": "#636efa",
            "dash": "solid"
           },
           "marker": {
            "symbol": "circle"
           },
           "mode": "lines",
           "name": "Hostage Taking (Kidnapping)",
           "orientation": "v",
           "showlegend": true,
           "type": "scatter",
           "x": [
            1,
            2,
            3,
            4,
            5,
            6,
            7,
            8,
            9,
            10,
            11,
            12
           ],
           "xaxis": "x",
           "y": [
            33,
            24,
            18,
            18,
            24,
            23,
            25,
            25,
            25,
            31,
            18,
            15
           ],
           "yaxis": "y"
          },
          {
           "hovertemplate": "attacktype1_txt=Armed Assault<br>iyear=2009<br>imonth=%{x}<br>NombreAttaqueTypeMois=%{y}<extra></extra>",
           "legendgroup": "Armed Assault",
           "line": {
            "color": "#EF553B",
            "dash": "solid"
           },
           "marker": {
            "symbol": "circle"
           },
           "mode": "lines",
           "name": "Armed Assault",
           "orientation": "v",
           "showlegend": true,
           "type": "scatter",
           "x": [
            1,
            2,
            3,
            4,
            5,
            6,
            7,
            8,
            9,
            10,
            11,
            12
           ],
           "xaxis": "x",
           "y": [
            100,
            70,
            106,
            103,
            93,
            94,
            106,
            98,
            89,
            106,
            95,
            55
           ],
           "yaxis": "y"
          },
          {
           "hovertemplate": "attacktype1_txt=Assassination<br>iyear=2009<br>imonth=%{x}<br>NombreAttaqueTypeMois=%{y}<extra></extra>",
           "legendgroup": "Assassination",
           "line": {
            "color": "#00cc96",
            "dash": "solid"
           },
           "marker": {
            "symbol": "circle"
           },
           "mode": "lines",
           "name": "Assassination",
           "orientation": "v",
           "showlegend": true,
           "type": "scatter",
           "x": [
            1,
            2,
            3,
            4,
            5,
            6,
            7,
            8,
            9,
            10,
            11,
            12
           ],
           "xaxis": "x",
           "y": [
            26,
            5,
            4,
            29,
            11,
            23,
            30,
            20,
            23,
            17,
            22,
            18
           ],
           "yaxis": "y"
          },
          {
           "hovertemplate": "attacktype1_txt=Bombing/Explosion<br>iyear=2009<br>imonth=%{x}<br>NombreAttaqueTypeMois=%{y}<extra></extra>",
           "legendgroup": "Bombing/Explosion",
           "line": {
            "color": "#ab63fa",
            "dash": "solid"
           },
           "marker": {
            "symbol": "circle"
           },
           "mode": "lines",
           "name": "Bombing/Explosion",
           "orientation": "v",
           "showlegend": true,
           "type": "scatter",
           "x": [
            1,
            2,
            3,
            4,
            5,
            6,
            7,
            8,
            9,
            10,
            11,
            12
           ],
           "xaxis": "x",
           "y": [
            196,
            190,
            228,
            221,
            235,
            229,
            239,
            217,
            180,
            227,
            182,
            224
           ],
           "yaxis": "y"
          },
          {
           "hovertemplate": "attacktype1_txt=Facility/Infrastructure Attack<br>iyear=2009<br>imonth=%{x}<br>NombreAttaqueTypeMois=%{y}<extra></extra>",
           "legendgroup": "Facility/Infrastructure Attack",
           "line": {
            "color": "#FFA15A",
            "dash": "solid"
           },
           "marker": {
            "symbol": "circle"
           },
           "mode": "lines",
           "name": "Facility/Infrastructure Attack",
           "orientation": "v",
           "showlegend": true,
           "type": "scatter",
           "x": [
            1,
            2,
            3,
            4,
            5,
            6,
            7,
            8,
            9,
            10,
            11,
            12
           ],
           "xaxis": "x",
           "y": [
            30,
            40,
            35,
            26,
            36,
            47,
            37,
            25,
            14,
            27,
            13,
            18
           ],
           "yaxis": "y"
          },
          {
           "hovertemplate": "attacktype1_txt=Hijacking<br>iyear=2009<br>imonth=%{x}<br>NombreAttaqueTypeMois=%{y}<extra></extra>",
           "legendgroup": "Hijacking",
           "line": {
            "color": "#19d3f3",
            "dash": "solid"
           },
           "marker": {
            "symbol": "circle"
           },
           "mode": "lines",
           "name": "Hijacking",
           "orientation": "v",
           "showlegend": true,
           "type": "scatter",
           "x": [
            1,
            2,
            3,
            4,
            5,
            6,
            7,
            9,
            10,
            11,
            12
           ],
           "xaxis": "x",
           "y": [
            1,
            1,
            5,
            3,
            1,
            2,
            2,
            1,
            2,
            3,
            2
           ],
           "yaxis": "y"
          },
          {
           "hovertemplate": "attacktype1_txt=Unknown<br>iyear=2009<br>imonth=%{x}<br>NombreAttaqueTypeMois=%{y}<extra></extra>",
           "legendgroup": "Unknown",
           "line": {
            "color": "#FF6692",
            "dash": "solid"
           },
           "marker": {
            "symbol": "circle"
           },
           "mode": "lines",
           "name": "Unknown",
           "orientation": "v",
           "showlegend": true,
           "type": "scatter",
           "x": [
            1,
            2,
            3,
            4,
            5,
            6,
            7,
            8,
            9,
            10,
            11,
            12
           ],
           "xaxis": "x",
           "y": [
            14,
            7,
            13,
            15,
            14,
            11,
            26,
            11,
            9,
            10,
            3,
            4
           ],
           "yaxis": "y"
          },
          {
           "hovertemplate": "attacktype1_txt=Unarmed Assault<br>iyear=2009<br>imonth=%{x}<br>NombreAttaqueTypeMois=%{y}<extra></extra>",
           "legendgroup": "Unarmed Assault",
           "line": {
            "color": "#B6E880",
            "dash": "solid"
           },
           "marker": {
            "symbol": "circle"
           },
           "mode": "lines",
           "name": "Unarmed Assault",
           "orientation": "v",
           "showlegend": true,
           "type": "scatter",
           "x": [
            1,
            2,
            3,
            4,
            5,
            6,
            7,
            8,
            9,
            11
           ],
           "xaxis": "x",
           "y": [
            1,
            1,
            3,
            1,
            4,
            1,
            2,
            3,
            2,
            1
           ],
           "yaxis": "y"
          },
          {
           "hovertemplate": "attacktype1_txt=Hostage Taking (Barricade Incident)<br>iyear=2009<br>imonth=%{x}<br>NombreAttaqueTypeMois=%{y}<extra></extra>",
           "legendgroup": "Hostage Taking (Barricade Incident)",
           "line": {
            "color": "#FF97FF",
            "dash": "solid"
           },
           "marker": {
            "symbol": "circle"
           },
           "mode": "lines",
           "name": "Hostage Taking (Barricade Incident)",
           "orientation": "v",
           "showlegend": true,
           "type": "scatter",
           "x": [
            1,
            2,
            6
           ],
           "xaxis": "x",
           "y": [
            2,
            1,
            1
           ],
           "yaxis": "y"
          }
         ],
         "name": "2009"
        },
        {
         "data": [
          {
           "hovertemplate": "attacktype1_txt=Hostage Taking (Kidnapping)<br>iyear=2010<br>imonth=%{x}<br>NombreAttaqueTypeMois=%{y}<extra></extra>",
           "legendgroup": "Hostage Taking (Kidnapping)",
           "line": {
            "color": "#636efa",
            "dash": "solid"
           },
           "marker": {
            "symbol": "circle"
           },
           "mode": "lines",
           "name": "Hostage Taking (Kidnapping)",
           "orientation": "v",
           "showlegend": true,
           "type": "scatter",
           "x": [
            1,
            2,
            3,
            4,
            5,
            6,
            7,
            8,
            9,
            10,
            11,
            12
           ],
           "xaxis": "x",
           "y": [
            26,
            25,
            29,
            31,
            35,
            29,
            31,
            33,
            48,
            32,
            33,
            39
           ],
           "yaxis": "y"
          },
          {
           "hovertemplate": "attacktype1_txt=Armed Assault<br>iyear=2010<br>imonth=%{x}<br>NombreAttaqueTypeMois=%{y}<extra></extra>",
           "legendgroup": "Armed Assault",
           "line": {
            "color": "#EF553B",
            "dash": "solid"
           },
           "marker": {
            "symbol": "circle"
           },
           "mode": "lines",
           "name": "Armed Assault",
           "orientation": "v",
           "showlegend": true,
           "type": "scatter",
           "x": [
            1,
            2,
            3,
            4,
            5,
            6,
            7,
            8,
            9,
            10,
            11,
            12
           ],
           "xaxis": "x",
           "y": [
            69,
            115,
            74,
            43,
            107,
            78,
            94,
            96,
            137,
            108,
            102,
            91
           ],
           "yaxis": "y"
          },
          {
           "hovertemplate": "attacktype1_txt=Assassination<br>iyear=2010<br>imonth=%{x}<br>NombreAttaqueTypeMois=%{y}<extra></extra>",
           "legendgroup": "Assassination",
           "line": {
            "color": "#00cc96",
            "dash": "solid"
           },
           "marker": {
            "symbol": "circle"
           },
           "mode": "lines",
           "name": "Assassination",
           "orientation": "v",
           "showlegend": true,
           "type": "scatter",
           "x": [
            1,
            2,
            3,
            4,
            5,
            6,
            7,
            8,
            9,
            10,
            11,
            12
           ],
           "xaxis": "x",
           "y": [
            19,
            27,
            18,
            29,
            28,
            29,
            38,
            45,
            34,
            28,
            37,
            28
           ],
           "yaxis": "y"
          },
          {
           "hovertemplate": "attacktype1_txt=Bombing/Explosion<br>iyear=2010<br>imonth=%{x}<br>NombreAttaqueTypeMois=%{y}<extra></extra>",
           "legendgroup": "Bombing/Explosion",
           "line": {
            "color": "#ab63fa",
            "dash": "solid"
           },
           "marker": {
            "symbol": "circle"
           },
           "mode": "lines",
           "name": "Bombing/Explosion",
           "orientation": "v",
           "showlegend": true,
           "type": "scatter",
           "x": [
            1,
            2,
            3,
            4,
            5,
            6,
            7,
            8,
            9,
            10,
            11,
            12
           ],
           "xaxis": "x",
           "y": [
            145,
            215,
            197,
            223,
            224,
            203,
            220,
            209,
            251,
            177,
            257,
            189
           ],
           "yaxis": "y"
          },
          {
           "hovertemplate": "attacktype1_txt=Facility/Infrastructure Attack<br>iyear=2010<br>imonth=%{x}<br>NombreAttaqueTypeMois=%{y}<extra></extra>",
           "legendgroup": "Facility/Infrastructure Attack",
           "line": {
            "color": "#FFA15A",
            "dash": "solid"
           },
           "marker": {
            "symbol": "circle"
           },
           "mode": "lines",
           "name": "Facility/Infrastructure Attack",
           "orientation": "v",
           "showlegend": true,
           "type": "scatter",
           "x": [
            1,
            2,
            3,
            4,
            5,
            6,
            7,
            8,
            9,
            10,
            11,
            12
           ],
           "xaxis": "x",
           "y": [
            19,
            18,
            38,
            23,
            45,
            27,
            15,
            15,
            38,
            11,
            20,
            24
           ],
           "yaxis": "y"
          },
          {
           "hovertemplate": "attacktype1_txt=Hijacking<br>iyear=2010<br>imonth=%{x}<br>NombreAttaqueTypeMois=%{y}<extra></extra>",
           "legendgroup": "Hijacking",
           "line": {
            "color": "#19d3f3",
            "dash": "solid"
           },
           "marker": {
            "symbol": "circle"
           },
           "mode": "lines",
           "name": "Hijacking",
           "orientation": "v",
           "showlegend": true,
           "type": "scatter",
           "x": [
            2,
            3,
            4,
            5,
            7,
            9,
            11,
            12
           ],
           "xaxis": "x",
           "y": [
            1,
            1,
            2,
            1,
            5,
            1,
            1,
            1
           ],
           "yaxis": "y"
          },
          {
           "hovertemplate": "attacktype1_txt=Unknown<br>iyear=2010<br>imonth=%{x}<br>NombreAttaqueTypeMois=%{y}<extra></extra>",
           "legendgroup": "Unknown",
           "line": {
            "color": "#FF6692",
            "dash": "solid"
           },
           "marker": {
            "symbol": "circle"
           },
           "mode": "lines",
           "name": "Unknown",
           "orientation": "v",
           "showlegend": true,
           "type": "scatter",
           "x": [
            2,
            3,
            4,
            5,
            6,
            7,
            8,
            9,
            10,
            11,
            12
           ],
           "xaxis": "x",
           "y": [
            10,
            10,
            4,
            16,
            8,
            7,
            8,
            16,
            13,
            12,
            12
           ],
           "yaxis": "y"
          },
          {
           "hovertemplate": "attacktype1_txt=Unarmed Assault<br>iyear=2010<br>imonth=%{x}<br>NombreAttaqueTypeMois=%{y}<extra></extra>",
           "legendgroup": "Unarmed Assault",
           "line": {
            "color": "#B6E880",
            "dash": "solid"
           },
           "marker": {
            "symbol": "circle"
           },
           "mode": "lines",
           "name": "Unarmed Assault",
           "orientation": "v",
           "showlegend": true,
           "type": "scatter",
           "x": [
            4,
            5,
            6,
            7,
            8,
            9,
            10,
            11,
            12
           ],
           "xaxis": "x",
           "y": [
            3,
            3,
            2,
            1,
            3,
            2,
            1,
            5,
            1
           ],
           "yaxis": "y"
          },
          {
           "hovertemplate": "attacktype1_txt=Hostage Taking (Barricade Incident)<br>iyear=2010<br>imonth=%{x}<br>NombreAttaqueTypeMois=%{y}<extra></extra>",
           "legendgroup": "Hostage Taking (Barricade Incident)",
           "line": {
            "color": "#FF97FF",
            "dash": "solid"
           },
           "marker": {
            "symbol": "circle"
           },
           "mode": "lines",
           "name": "Hostage Taking (Barricade Incident)",
           "orientation": "v",
           "showlegend": true,
           "type": "scatter",
           "x": [
            3,
            5,
            9,
            10
           ],
           "xaxis": "x",
           "y": [
            1,
            3,
            1,
            3
           ],
           "yaxis": "y"
          }
         ],
         "name": "2010"
        },
        {
         "data": [
          {
           "hovertemplate": "attacktype1_txt=Hostage Taking (Kidnapping)<br>iyear=2011<br>imonth=%{x}<br>NombreAttaqueTypeMois=%{y}<extra></extra>",
           "legendgroup": "Hostage Taking (Kidnapping)",
           "line": {
            "color": "#636efa",
            "dash": "solid"
           },
           "marker": {
            "symbol": "circle"
           },
           "mode": "lines",
           "name": "Hostage Taking (Kidnapping)",
           "orientation": "v",
           "showlegend": true,
           "type": "scatter",
           "x": [
            1,
            2,
            3,
            4,
            5,
            6,
            7,
            8,
            9,
            10,
            11,
            12
           ],
           "xaxis": "x",
           "y": [
            28,
            19,
            26,
            29,
            25,
            40,
            43,
            35,
            32,
            33,
            37,
            16
           ],
           "yaxis": "y"
          },
          {
           "hovertemplate": "attacktype1_txt=Armed Assault<br>iyear=2011<br>imonth=%{x}<br>NombreAttaqueTypeMois=%{y}<extra></extra>",
           "legendgroup": "Armed Assault",
           "line": {
            "color": "#EF553B",
            "dash": "solid"
           },
           "marker": {
            "symbol": "circle"
           },
           "mode": "lines",
           "name": "Armed Assault",
           "orientation": "v",
           "showlegend": true,
           "type": "scatter",
           "x": [
            1,
            2,
            3,
            4,
            5,
            6,
            7,
            8,
            9,
            10,
            11,
            12
           ],
           "xaxis": "x",
           "y": [
            106,
            105,
            153,
            128,
            130,
            118,
            120,
            84,
            108,
            131,
            140,
            72
           ],
           "yaxis": "y"
          },
          {
           "hovertemplate": "attacktype1_txt=Assassination<br>iyear=2011<br>imonth=%{x}<br>NombreAttaqueTypeMois=%{y}<extra></extra>",
           "legendgroup": "Assassination",
           "line": {
            "color": "#00cc96",
            "dash": "solid"
           },
           "marker": {
            "symbol": "circle"
           },
           "mode": "lines",
           "name": "Assassination",
           "orientation": "v",
           "showlegend": true,
           "type": "scatter",
           "x": [
            1,
            2,
            3,
            4,
            5,
            6,
            7,
            8,
            9,
            10,
            11,
            12
           ],
           "xaxis": "x",
           "y": [
            39,
            28,
            25,
            30,
            33,
            37,
            24,
            19,
            26,
            26,
            33,
            22
           ],
           "yaxis": "y"
          },
          {
           "hovertemplate": "attacktype1_txt=Bombing/Explosion<br>iyear=2011<br>imonth=%{x}<br>NombreAttaqueTypeMois=%{y}<extra></extra>",
           "legendgroup": "Bombing/Explosion",
           "line": {
            "color": "#ab63fa",
            "dash": "solid"
           },
           "marker": {
            "symbol": "circle"
           },
           "mode": "lines",
           "name": "Bombing/Explosion",
           "orientation": "v",
           "showlegend": true,
           "type": "scatter",
           "x": [
            1,
            2,
            3,
            4,
            5,
            6,
            7,
            8,
            9,
            10,
            11,
            12
           ],
           "xaxis": "x",
           "y": [
            199,
            192,
            218,
            220,
            211,
            177,
            171,
            181,
            152,
            181,
            395,
            293
           ],
           "yaxis": "y"
          },
          {
           "hovertemplate": "attacktype1_txt=Facility/Infrastructure Attack<br>iyear=2011<br>imonth=%{x}<br>NombreAttaqueTypeMois=%{y}<extra></extra>",
           "legendgroup": "Facility/Infrastructure Attack",
           "line": {
            "color": "#FFA15A",
            "dash": "solid"
           },
           "marker": {
            "symbol": "circle"
           },
           "mode": "lines",
           "name": "Facility/Infrastructure Attack",
           "orientation": "v",
           "showlegend": true,
           "type": "scatter",
           "x": [
            1,
            2,
            3,
            4,
            5,
            6,
            7,
            8,
            9,
            10,
            11,
            12
           ],
           "xaxis": "x",
           "y": [
            17,
            26,
            18,
            18,
            36,
            17,
            19,
            12,
            11,
            15,
            33,
            20
           ],
           "yaxis": "y"
          },
          {
           "hovertemplate": "attacktype1_txt=Hijacking<br>iyear=2011<br>imonth=%{x}<br>NombreAttaqueTypeMois=%{y}<extra></extra>",
           "legendgroup": "Hijacking",
           "line": {
            "color": "#19d3f3",
            "dash": "solid"
           },
           "marker": {
            "symbol": "circle"
           },
           "mode": "lines",
           "name": "Hijacking",
           "orientation": "v",
           "showlegend": true,
           "type": "scatter",
           "x": [
            1,
            3,
            5,
            6,
            7,
            8,
            11,
            12
           ],
           "xaxis": "x",
           "y": [
            2,
            1,
            1,
            1,
            1,
            1,
            1,
            1
           ],
           "yaxis": "y"
          },
          {
           "hovertemplate": "attacktype1_txt=Unknown<br>iyear=2011<br>imonth=%{x}<br>NombreAttaqueTypeMois=%{y}<extra></extra>",
           "legendgroup": "Unknown",
           "line": {
            "color": "#FF6692",
            "dash": "solid"
           },
           "marker": {
            "symbol": "circle"
           },
           "mode": "lines",
           "name": "Unknown",
           "orientation": "v",
           "showlegend": true,
           "type": "scatter",
           "x": [
            1,
            2,
            3,
            4,
            5,
            6,
            7,
            8,
            9,
            10,
            11,
            12
           ],
           "xaxis": "x",
           "y": [
            8,
            4,
            4,
            9,
            12,
            9,
            9,
            9,
            11,
            14,
            20,
            4
           ],
           "yaxis": "y"
          },
          {
           "hovertemplate": "attacktype1_txt=Unarmed Assault<br>iyear=2011<br>imonth=%{x}<br>NombreAttaqueTypeMois=%{y}<extra></extra>",
           "legendgroup": "Unarmed Assault",
           "line": {
            "color": "#B6E880",
            "dash": "solid"
           },
           "marker": {
            "symbol": "circle"
           },
           "mode": "lines",
           "name": "Unarmed Assault",
           "orientation": "v",
           "showlegend": true,
           "type": "scatter",
           "x": [
            1,
            2,
            3,
            4,
            5,
            6,
            7,
            9,
            10,
            11,
            12
           ],
           "xaxis": "x",
           "y": [
            3,
            2,
            2,
            2,
            1,
            1,
            1,
            2,
            2,
            1,
            3
           ],
           "yaxis": "y"
          },
          {
           "hovertemplate": "attacktype1_txt=Hostage Taking (Barricade Incident)<br>iyear=2011<br>imonth=%{x}<br>NombreAttaqueTypeMois=%{y}<extra></extra>",
           "legendgroup": "Hostage Taking (Barricade Incident)",
           "line": {
            "color": "#FF97FF",
            "dash": "solid"
           },
           "marker": {
            "symbol": "circle"
           },
           "mode": "lines",
           "name": "Hostage Taking (Barricade Incident)",
           "orientation": "v",
           "showlegend": true,
           "type": "scatter",
           "x": [
            5,
            11
           ],
           "xaxis": "x",
           "y": [
            1,
            1
           ],
           "yaxis": "y"
          }
         ],
         "name": "2011"
        },
        {
         "data": [
          {
           "hovertemplate": "attacktype1_txt=Hostage Taking (Kidnapping)<br>iyear=2012<br>imonth=%{x}<br>NombreAttaqueTypeMois=%{y}<extra></extra>",
           "legendgroup": "Hostage Taking (Kidnapping)",
           "line": {
            "color": "#636efa",
            "dash": "solid"
           },
           "marker": {
            "symbol": "circle"
           },
           "mode": "lines",
           "name": "Hostage Taking (Kidnapping)",
           "orientation": "v",
           "showlegend": true,
           "type": "scatter",
           "x": [
            1,
            2,
            3,
            4,
            5,
            6,
            7,
            8,
            9,
            10,
            11,
            12
           ],
           "xaxis": "x",
           "y": [
            33,
            26,
            34,
            33,
            33,
            32,
            32,
            22,
            14,
            42,
            25,
            27
           ],
           "yaxis": "y"
          },
          {
           "hovertemplate": "attacktype1_txt=Armed Assault<br>iyear=2012<br>imonth=%{x}<br>NombreAttaqueTypeMois=%{y}<extra></extra>",
           "legendgroup": "Armed Assault",
           "line": {
            "color": "#EF553B",
            "dash": "solid"
           },
           "marker": {
            "symbol": "circle"
           },
           "mode": "lines",
           "name": "Armed Assault",
           "orientation": "v",
           "showlegend": true,
           "type": "scatter",
           "x": [
            1,
            2,
            3,
            4,
            5,
            6,
            7,
            8,
            9,
            10,
            11,
            12
           ],
           "xaxis": "x",
           "y": [
            184,
            128,
            154,
            163,
            187,
            183,
            182,
            243,
            144,
            207,
            135,
            175
           ],
           "yaxis": "y"
          },
          {
           "hovertemplate": "attacktype1_txt=Assassination<br>iyear=2012<br>imonth=%{x}<br>NombreAttaqueTypeMois=%{y}<extra></extra>",
           "legendgroup": "Assassination",
           "line": {
            "color": "#00cc96",
            "dash": "solid"
           },
           "marker": {
            "symbol": "circle"
           },
           "mode": "lines",
           "name": "Assassination",
           "orientation": "v",
           "showlegend": true,
           "type": "scatter",
           "x": [
            1,
            2,
            3,
            4,
            5,
            6,
            7,
            8,
            9,
            10,
            11,
            12
           ],
           "xaxis": "x",
           "y": [
            35,
            34,
            36,
            39,
            30,
            42,
            58,
            47,
            43,
            23,
            52,
            22
           ],
           "yaxis": "y"
          },
          {
           "hovertemplate": "attacktype1_txt=Bombing/Explosion<br>iyear=2012<br>imonth=%{x}<br>NombreAttaqueTypeMois=%{y}<extra></extra>",
           "legendgroup": "Bombing/Explosion",
           "line": {
            "color": "#ab63fa",
            "dash": "solid"
           },
           "marker": {
            "symbol": "circle"
           },
           "mode": "lines",
           "name": "Bombing/Explosion",
           "orientation": "v",
           "showlegend": true,
           "type": "scatter",
           "x": [
            1,
            2,
            3,
            4,
            5,
            6,
            7,
            8,
            9,
            10,
            11,
            12
           ],
           "xaxis": "x",
           "y": [
            437,
            329,
            384,
            445,
            545,
            462,
            420,
            465,
            382,
            449,
            438,
            327
           ],
           "yaxis": "y"
          },
          {
           "hovertemplate": "attacktype1_txt=Facility/Infrastructure Attack<br>iyear=2012<br>imonth=%{x}<br>NombreAttaqueTypeMois=%{y}<extra></extra>",
           "legendgroup": "Facility/Infrastructure Attack",
           "line": {
            "color": "#FFA15A",
            "dash": "solid"
           },
           "marker": {
            "symbol": "circle"
           },
           "mode": "lines",
           "name": "Facility/Infrastructure Attack",
           "orientation": "v",
           "showlegend": true,
           "type": "scatter",
           "x": [
            1,
            2,
            3,
            4,
            5,
            6,
            7,
            8,
            9,
            10,
            11,
            12
           ],
           "xaxis": "x",
           "y": [
            22,
            20,
            28,
            17,
            16,
            35,
            24,
            14,
            50,
            37,
            24,
            18
           ],
           "yaxis": "y"
          },
          {
           "hovertemplate": "attacktype1_txt=Hijacking<br>iyear=2012<br>imonth=%{x}<br>NombreAttaqueTypeMois=%{y}<extra></extra>",
           "legendgroup": "Hijacking",
           "line": {
            "color": "#19d3f3",
            "dash": "solid"
           },
           "marker": {
            "symbol": "circle"
           },
           "mode": "lines",
           "name": "Hijacking",
           "orientation": "v",
           "showlegend": true,
           "type": "scatter",
           "x": [
            1,
            6,
            8,
            10,
            11
           ],
           "xaxis": "x",
           "y": [
            1,
            1,
            1,
            1,
            1
           ],
           "yaxis": "y"
          },
          {
           "hovertemplate": "attacktype1_txt=Unknown<br>iyear=2012<br>imonth=%{x}<br>NombreAttaqueTypeMois=%{y}<extra></extra>",
           "legendgroup": "Unknown",
           "line": {
            "color": "#FF6692",
            "dash": "solid"
           },
           "marker": {
            "symbol": "circle"
           },
           "mode": "lines",
           "name": "Unknown",
           "orientation": "v",
           "showlegend": true,
           "type": "scatter",
           "x": [
            1,
            2,
            3,
            4,
            5,
            6,
            7,
            8,
            9,
            10,
            11,
            12
           ],
           "xaxis": "x",
           "y": [
            15,
            14,
            17,
            22,
            24,
            12,
            17,
            16,
            12,
            14,
            10,
            9
           ],
           "yaxis": "y"
          },
          {
           "hovertemplate": "attacktype1_txt=Unarmed Assault<br>iyear=2012<br>imonth=%{x}<br>NombreAttaqueTypeMois=%{y}<extra></extra>",
           "legendgroup": "Unarmed Assault",
           "line": {
            "color": "#B6E880",
            "dash": "solid"
           },
           "marker": {
            "symbol": "circle"
           },
           "mode": "lines",
           "name": "Unarmed Assault",
           "orientation": "v",
           "showlegend": true,
           "type": "scatter",
           "x": [
            1,
            2,
            3,
            4,
            5,
            6,
            7,
            8,
            9,
            10,
            11
           ],
           "xaxis": "x",
           "y": [
            1,
            2,
            2,
            2,
            7,
            5,
            2,
            1,
            1,
            4,
            3
           ],
           "yaxis": "y"
          },
          {
           "hovertemplate": "attacktype1_txt=Hostage Taking (Barricade Incident)<br>iyear=2012<br>imonth=%{x}<br>NombreAttaqueTypeMois=%{y}<extra></extra>",
           "legendgroup": "Hostage Taking (Barricade Incident)",
           "line": {
            "color": "#FF97FF",
            "dash": "solid"
           },
           "marker": {
            "symbol": "circle"
           },
           "mode": "lines",
           "name": "Hostage Taking (Barricade Incident)",
           "orientation": "v",
           "showlegend": true,
           "type": "scatter",
           "x": [
            2,
            4,
            5,
            6,
            7,
            8,
            9
           ],
           "xaxis": "x",
           "y": [
            3,
            1,
            1,
            3,
            5,
            3,
            2
           ],
           "yaxis": "y"
          }
         ],
         "name": "2012"
        },
        {
         "data": [
          {
           "hovertemplate": "attacktype1_txt=Hostage Taking (Kidnapping)<br>iyear=2013<br>imonth=%{x}<br>NombreAttaqueTypeMois=%{y}<extra></extra>",
           "legendgroup": "Hostage Taking (Kidnapping)",
           "line": {
            "color": "#636efa",
            "dash": "solid"
           },
           "marker": {
            "symbol": "circle"
           },
           "mode": "lines",
           "name": "Hostage Taking (Kidnapping)",
           "orientation": "v",
           "showlegend": true,
           "type": "scatter",
           "x": [
            1,
            2,
            3,
            4,
            5,
            6,
            7,
            8,
            9,
            10,
            11,
            12
           ],
           "xaxis": "x",
           "y": [
            49,
            27,
            30,
            53,
            57,
            60,
            60,
            45,
            57,
            60,
            63,
            73
           ],
           "yaxis": "y"
          },
          {
           "hovertemplate": "attacktype1_txt=Armed Assault<br>iyear=2013<br>imonth=%{x}<br>NombreAttaqueTypeMois=%{y}<extra></extra>",
           "legendgroup": "Armed Assault",
           "line": {
            "color": "#EF553B",
            "dash": "solid"
           },
           "marker": {
            "symbol": "circle"
           },
           "mode": "lines",
           "name": "Armed Assault",
           "orientation": "v",
           "showlegend": true,
           "type": "scatter",
           "x": [
            1,
            2,
            3,
            4,
            5,
            6,
            7,
            8,
            9,
            10,
            11,
            12
           ],
           "xaxis": "x",
           "y": [
            187,
            169,
            225,
            226,
            244,
            212,
            331,
            277,
            249,
            247,
            307,
            288
           ],
           "yaxis": "y"
          },
          {
           "hovertemplate": "attacktype1_txt=Assassination<br>iyear=2013<br>imonth=%{x}<br>NombreAttaqueTypeMois=%{y}<extra></extra>",
           "legendgroup": "Assassination",
           "line": {
            "color": "#00cc96",
            "dash": "solid"
           },
           "marker": {
            "symbol": "circle"
           },
           "mode": "lines",
           "name": "Assassination",
           "orientation": "v",
           "showlegend": true,
           "type": "scatter",
           "x": [
            1,
            2,
            3,
            4,
            5,
            6,
            7,
            8,
            9,
            10,
            11,
            12
           ],
           "xaxis": "x",
           "y": [
            65,
            40,
            42,
            88,
            96,
            64,
            55,
            75,
            86,
            75,
            78,
            89
           ],
           "yaxis": "y"
          },
          {
           "hovertemplate": "attacktype1_txt=Bombing/Explosion<br>iyear=2013<br>imonth=%{x}<br>NombreAttaqueTypeMois=%{y}<extra></extra>",
           "legendgroup": "Bombing/Explosion",
           "line": {
            "color": "#ab63fa",
            "dash": "solid"
           },
           "marker": {
            "symbol": "circle"
           },
           "mode": "lines",
           "name": "Bombing/Explosion",
           "orientation": "v",
           "showlegend": true,
           "type": "scatter",
           "x": [
            1,
            2,
            3,
            4,
            5,
            6,
            7,
            8,
            9,
            10,
            11,
            12
           ],
           "xaxis": "x",
           "y": [
            453,
            391,
            428,
            538,
            622,
            468,
            659,
            576,
            509,
            689,
            691,
            661
           ],
           "yaxis": "y"
          },
          {
           "hovertemplate": "attacktype1_txt=Facility/Infrastructure Attack<br>iyear=2013<br>imonth=%{x}<br>NombreAttaqueTypeMois=%{y}<extra></extra>",
           "legendgroup": "Facility/Infrastructure Attack",
           "line": {
            "color": "#FFA15A",
            "dash": "solid"
           },
           "marker": {
            "symbol": "circle"
           },
           "mode": "lines",
           "name": "Facility/Infrastructure Attack",
           "orientation": "v",
           "showlegend": true,
           "type": "scatter",
           "x": [
            1,
            2,
            3,
            4,
            5,
            6,
            7,
            8,
            9,
            10,
            11,
            12
           ],
           "xaxis": "x",
           "y": [
            68,
            57,
            48,
            63,
            48,
            33,
            31,
            40,
            30,
            44,
            43,
            59
           ],
           "yaxis": "y"
          },
          {
           "hovertemplate": "attacktype1_txt=Hijacking<br>iyear=2013<br>imonth=%{x}<br>NombreAttaqueTypeMois=%{y}<extra></extra>",
           "legendgroup": "Hijacking",
           "line": {
            "color": "#19d3f3",
            "dash": "solid"
           },
           "marker": {
            "symbol": "circle"
           },
           "mode": "lines",
           "name": "Hijacking",
           "orientation": "v",
           "showlegend": true,
           "type": "scatter",
           "x": [
            2,
            3,
            4,
            5,
            6,
            7,
            9,
            11,
            12
           ],
           "xaxis": "x",
           "y": [
            1,
            1,
            1,
            3,
            2,
            1,
            3,
            3,
            2
           ],
           "yaxis": "y"
          },
          {
           "hovertemplate": "attacktype1_txt=Unknown<br>iyear=2013<br>imonth=%{x}<br>NombreAttaqueTypeMois=%{y}<extra></extra>",
           "legendgroup": "Unknown",
           "line": {
            "color": "#FF6692",
            "dash": "solid"
           },
           "marker": {
            "symbol": "circle"
           },
           "mode": "lines",
           "name": "Unknown",
           "orientation": "v",
           "showlegend": true,
           "type": "scatter",
           "x": [
            1,
            2,
            3,
            4,
            5,
            6,
            7,
            8,
            9,
            10,
            11,
            12
           ],
           "xaxis": "x",
           "y": [
            12,
            8,
            19,
            19,
            18,
            14,
            29,
            21,
            17,
            39,
            27,
            33
           ],
           "yaxis": "y"
          },
          {
           "hovertemplate": "attacktype1_txt=Unarmed Assault<br>iyear=2013<br>imonth=%{x}<br>NombreAttaqueTypeMois=%{y}<extra></extra>",
           "legendgroup": "Unarmed Assault",
           "line": {
            "color": "#B6E880",
            "dash": "solid"
           },
           "marker": {
            "symbol": "circle"
           },
           "mode": "lines",
           "name": "Unarmed Assault",
           "orientation": "v",
           "showlegend": true,
           "type": "scatter",
           "x": [
            1,
            3,
            4,
            5,
            6,
            7,
            8,
            9,
            10,
            11,
            12
           ],
           "xaxis": "x",
           "y": [
            2,
            5,
            3,
            12,
            2,
            2,
            3,
            2,
            5,
            1,
            2
           ],
           "yaxis": "y"
          },
          {
           "hovertemplate": "attacktype1_txt=Hostage Taking (Barricade Incident)<br>iyear=2013<br>imonth=%{x}<br>NombreAttaqueTypeMois=%{y}<extra></extra>",
           "legendgroup": "Hostage Taking (Barricade Incident)",
           "line": {
            "color": "#FF97FF",
            "dash": "solid"
           },
           "marker": {
            "symbol": "circle"
           },
           "mode": "lines",
           "name": "Hostage Taking (Barricade Incident)",
           "orientation": "v",
           "showlegend": true,
           "type": "scatter",
           "x": [
            1,
            2,
            4,
            5,
            6,
            7,
            9,
            10,
            11,
            12
           ],
           "xaxis": "x",
           "y": [
            1,
            1,
            2,
            6,
            2,
            1,
            2,
            4,
            1,
            6
           ],
           "yaxis": "y"
          }
         ],
         "name": "2013"
        },
        {
         "data": [
          {
           "hovertemplate": "attacktype1_txt=Hostage Taking (Kidnapping)<br>iyear=2014<br>imonth=%{x}<br>NombreAttaqueTypeMois=%{y}<extra></extra>",
           "legendgroup": "Hostage Taking (Kidnapping)",
           "line": {
            "color": "#636efa",
            "dash": "solid"
           },
           "marker": {
            "symbol": "circle"
           },
           "mode": "lines",
           "name": "Hostage Taking (Kidnapping)",
           "orientation": "v",
           "showlegend": true,
           "type": "scatter",
           "x": [
            1,
            2,
            3,
            4,
            5,
            6,
            7,
            8,
            9,
            10,
            11,
            12
           ],
           "xaxis": "x",
           "y": [
            82,
            75,
            86,
            128,
            115,
            132,
            149,
            144,
            147,
            121,
            108,
            110
           ],
           "yaxis": "y"
          },
          {
           "hovertemplate": "attacktype1_txt=Armed Assault<br>iyear=2014<br>imonth=%{x}<br>NombreAttaqueTypeMois=%{y}<extra></extra>",
           "legendgroup": "Armed Assault",
           "line": {
            "color": "#EF553B",
            "dash": "solid"
           },
           "marker": {
            "symbol": "circle"
           },
           "mode": "lines",
           "name": "Armed Assault",
           "orientation": "v",
           "showlegend": true,
           "type": "scatter",
           "x": [
            1,
            2,
            3,
            4,
            5,
            6,
            7,
            8,
            9,
            10,
            11,
            12
           ],
           "xaxis": "x",
           "y": [
            354,
            340,
            363,
            330,
            416,
            384,
            444,
            322,
            297,
            301,
            260,
            260
           ],
           "yaxis": "y"
          },
          {
           "hovertemplate": "attacktype1_txt=Assassination<br>iyear=2014<br>imonth=%{x}<br>NombreAttaqueTypeMois=%{y}<extra></extra>",
           "legendgroup": "Assassination",
           "line": {
            "color": "#00cc96",
            "dash": "solid"
           },
           "marker": {
            "symbol": "circle"
           },
           "mode": "lines",
           "name": "Assassination",
           "orientation": "v",
           "showlegend": true,
           "type": "scatter",
           "x": [
            1,
            2,
            3,
            4,
            5,
            6,
            7,
            8,
            9,
            10,
            11,
            12
           ],
           "xaxis": "x",
           "y": [
            90,
            89,
            111,
            89,
            89,
            66,
            77,
            72,
            58,
            71,
            50,
            58
           ],
           "yaxis": "y"
          },
          {
           "hovertemplate": "attacktype1_txt=Bombing/Explosion<br>iyear=2014<br>imonth=%{x}<br>NombreAttaqueTypeMois=%{y}<extra></extra>",
           "legendgroup": "Bombing/Explosion",
           "line": {
            "color": "#ab63fa",
            "dash": "solid"
           },
           "marker": {
            "symbol": "circle"
           },
           "mode": "lines",
           "name": "Bombing/Explosion",
           "orientation": "v",
           "showlegend": true,
           "type": "scatter",
           "x": [
            1,
            2,
            3,
            4,
            5,
            6,
            7,
            8,
            9,
            10,
            11,
            12
           ],
           "xaxis": "x",
           "y": [
            706,
            781,
            844,
            744,
            926,
            672,
            901,
            681,
            610,
            664,
            665,
            605
           ],
           "yaxis": "y"
          },
          {
           "hovertemplate": "attacktype1_txt=Facility/Infrastructure Attack<br>iyear=2014<br>imonth=%{x}<br>NombreAttaqueTypeMois=%{y}<extra></extra>",
           "legendgroup": "Facility/Infrastructure Attack",
           "line": {
            "color": "#FFA15A",
            "dash": "solid"
           },
           "marker": {
            "symbol": "circle"
           },
           "mode": "lines",
           "name": "Facility/Infrastructure Attack",
           "orientation": "v",
           "showlegend": true,
           "type": "scatter",
           "x": [
            1,
            2,
            3,
            4,
            5,
            6,
            7,
            8,
            9,
            10,
            11,
            12
           ],
           "xaxis": "x",
           "y": [
            86,
            54,
            49,
            103,
            53,
            81,
            50,
            55,
            80,
            58,
            70,
            44
           ],
           "yaxis": "y"
          },
          {
           "hovertemplate": "attacktype1_txt=Hijacking<br>iyear=2014<br>imonth=%{x}<br>NombreAttaqueTypeMois=%{y}<extra></extra>",
           "legendgroup": "Hijacking",
           "line": {
            "color": "#19d3f3",
            "dash": "solid"
           },
           "marker": {
            "symbol": "circle"
           },
           "mode": "lines",
           "name": "Hijacking",
           "orientation": "v",
           "showlegend": true,
           "type": "scatter",
           "x": [
            1,
            2,
            3,
            4,
            5,
            6,
            7,
            8,
            9,
            10,
            11
           ],
           "xaxis": "x",
           "y": [
            2,
            2,
            6,
            7,
            3,
            3,
            10,
            6,
            4,
            2,
            4
           ],
           "yaxis": "y"
          },
          {
           "hovertemplate": "attacktype1_txt=Unknown<br>iyear=2014<br>imonth=%{x}<br>NombreAttaqueTypeMois=%{y}<extra></extra>",
           "legendgroup": "Unknown",
           "line": {
            "color": "#FF6692",
            "dash": "solid"
           },
           "marker": {
            "symbol": "circle"
           },
           "mode": "lines",
           "name": "Unknown",
           "orientation": "v",
           "showlegend": true,
           "type": "scatter",
           "x": [
            1,
            2,
            3,
            4,
            5,
            6,
            7,
            8,
            9,
            10,
            11,
            12
           ],
           "xaxis": "x",
           "y": [
            30,
            46,
            52,
            56,
            65,
            58,
            93,
            66,
            86,
            103,
            68,
            61
           ],
           "yaxis": "y"
          },
          {
           "hovertemplate": "attacktype1_txt=Unarmed Assault<br>iyear=2014<br>imonth=%{x}<br>NombreAttaqueTypeMois=%{y}<extra></extra>",
           "legendgroup": "Unarmed Assault",
           "line": {
            "color": "#B6E880",
            "dash": "solid"
           },
           "marker": {
            "symbol": "circle"
           },
           "mode": "lines",
           "name": "Unarmed Assault",
           "orientation": "v",
           "showlegend": true,
           "type": "scatter",
           "x": [
            1,
            2,
            3,
            4,
            5,
            6,
            7,
            8,
            9,
            10,
            11,
            12
           ],
           "xaxis": "x",
           "y": [
            2,
            1,
            6,
            8,
            4,
            1,
            3,
            9,
            4,
            6,
            6,
            4
           ],
           "yaxis": "y"
          },
          {
           "hovertemplate": "attacktype1_txt=Hostage Taking (Barricade Incident)<br>iyear=2014<br>imonth=%{x}<br>NombreAttaqueTypeMois=%{y}<extra></extra>",
           "legendgroup": "Hostage Taking (Barricade Incident)",
           "line": {
            "color": "#FF97FF",
            "dash": "solid"
           },
           "marker": {
            "symbol": "circle"
           },
           "mode": "lines",
           "name": "Hostage Taking (Barricade Incident)",
           "orientation": "v",
           "showlegend": true,
           "type": "scatter",
           "x": [
            1,
            2,
            3,
            4,
            5,
            6,
            7,
            8,
            9,
            10,
            11,
            12
           ],
           "xaxis": "x",
           "y": [
            6,
            1,
            5,
            8,
            2,
            7,
            2,
            2,
            3,
            3,
            1,
            6
           ],
           "yaxis": "y"
          }
         ],
         "name": "2014"
        },
        {
         "data": [
          {
           "hovertemplate": "attacktype1_txt=Hostage Taking (Kidnapping)<br>iyear=2015<br>imonth=%{x}<br>NombreAttaqueTypeMois=%{y}<extra></extra>",
           "legendgroup": "Hostage Taking (Kidnapping)",
           "line": {
            "color": "#636efa",
            "dash": "solid"
           },
           "marker": {
            "symbol": "circle"
           },
           "mode": "lines",
           "name": "Hostage Taking (Kidnapping)",
           "orientation": "v",
           "showlegend": true,
           "type": "scatter",
           "x": [
            1,
            2,
            3,
            4,
            5,
            6,
            7,
            8,
            9,
            10,
            11,
            12
           ],
           "xaxis": "x",
           "y": [
            128,
            85,
            99,
            112,
            119,
            86,
            90,
            97,
            96,
            112,
            90,
            83
           ],
           "yaxis": "y"
          },
          {
           "hovertemplate": "attacktype1_txt=Armed Assault<br>iyear=2015<br>imonth=%{x}<br>NombreAttaqueTypeMois=%{y}<extra></extra>",
           "legendgroup": "Armed Assault",
           "line": {
            "color": "#EF553B",
            "dash": "solid"
           },
           "marker": {
            "symbol": "circle"
           },
           "mode": "lines",
           "name": "Armed Assault",
           "orientation": "v",
           "showlegend": true,
           "type": "scatter",
           "x": [
            1,
            2,
            3,
            4,
            5,
            6,
            7,
            8,
            9,
            10,
            11,
            12
           ],
           "xaxis": "x",
           "y": [
            286,
            254,
            256,
            304,
            328,
            258,
            302,
            281,
            286,
            304,
            288,
            221
           ],
           "yaxis": "y"
          },
          {
           "hovertemplate": "attacktype1_txt=Assassination<br>iyear=2015<br>imonth=%{x}<br>NombreAttaqueTypeMois=%{y}<extra></extra>",
           "legendgroup": "Assassination",
           "line": {
            "color": "#00cc96",
            "dash": "solid"
           },
           "marker": {
            "symbol": "circle"
           },
           "mode": "lines",
           "name": "Assassination",
           "orientation": "v",
           "showlegend": true,
           "type": "scatter",
           "x": [
            1,
            2,
            3,
            4,
            5,
            6,
            7,
            8,
            9,
            10,
            11,
            12
           ],
           "xaxis": "x",
           "y": [
            114,
            79,
            80,
            73,
            107,
            101,
            73,
            90,
            33,
            75,
            43,
            59
           ],
           "yaxis": "y"
          },
          {
           "hovertemplate": "attacktype1_txt=Bombing/Explosion<br>iyear=2015<br>imonth=%{x}<br>NombreAttaqueTypeMois=%{y}<extra></extra>",
           "legendgroup": "Bombing/Explosion",
           "line": {
            "color": "#ab63fa",
            "dash": "solid"
           },
           "marker": {
            "symbol": "circle"
           },
           "mode": "lines",
           "name": "Bombing/Explosion",
           "orientation": "v",
           "showlegend": true,
           "type": "scatter",
           "x": [
            1,
            2,
            3,
            4,
            5,
            6,
            7,
            8,
            9,
            10,
            11,
            12
           ],
           "xaxis": "x",
           "y": [
            828,
            754,
            644,
            639,
            625,
            592,
            661,
            638,
            517,
            629,
            567,
            568
           ],
           "yaxis": "y"
          },
          {
           "hovertemplate": "attacktype1_txt=Facility/Infrastructure Attack<br>iyear=2015<br>imonth=%{x}<br>NombreAttaqueTypeMois=%{y}<extra></extra>",
           "legendgroup": "Facility/Infrastructure Attack",
           "line": {
            "color": "#FFA15A",
            "dash": "solid"
           },
           "marker": {
            "symbol": "circle"
           },
           "mode": "lines",
           "name": "Facility/Infrastructure Attack",
           "orientation": "v",
           "showlegend": true,
           "type": "scatter",
           "x": [
            1,
            2,
            3,
            4,
            5,
            6,
            7,
            8,
            9,
            10,
            11,
            12
           ],
           "xaxis": "x",
           "y": [
            94,
            55,
            41,
            48,
            45,
            41,
            42,
            79,
            69,
            66,
            60,
            65
           ],
           "yaxis": "y"
          },
          {
           "hovertemplate": "attacktype1_txt=Hijacking<br>iyear=2015<br>imonth=%{x}<br>NombreAttaqueTypeMois=%{y}<extra></extra>",
           "legendgroup": "Hijacking",
           "line": {
            "color": "#19d3f3",
            "dash": "solid"
           },
           "marker": {
            "symbol": "circle"
           },
           "mode": "lines",
           "name": "Hijacking",
           "orientation": "v",
           "showlegend": true,
           "type": "scatter",
           "x": [
            1,
            2,
            3,
            4,
            5,
            6,
            7,
            8,
            10,
            11,
            12
           ],
           "xaxis": "x",
           "y": [
            2,
            1,
            4,
            4,
            7,
            5,
            4,
            3,
            3,
            3,
            2
           ],
           "yaxis": "y"
          },
          {
           "hovertemplate": "attacktype1_txt=Unknown<br>iyear=2015<br>imonth=%{x}<br>NombreAttaqueTypeMois=%{y}<extra></extra>",
           "legendgroup": "Unknown",
           "line": {
            "color": "#FF6692",
            "dash": "solid"
           },
           "marker": {
            "symbol": "circle"
           },
           "mode": "lines",
           "name": "Unknown",
           "orientation": "v",
           "showlegend": true,
           "type": "scatter",
           "x": [
            1,
            2,
            3,
            4,
            5,
            6,
            7,
            8,
            9,
            10,
            11,
            12
           ],
           "xaxis": "x",
           "y": [
            69,
            61,
            49,
            82,
            64,
            73,
            82,
            88,
            91,
            67,
            97,
            68
           ],
           "yaxis": "y"
          },
          {
           "hovertemplate": "attacktype1_txt=Unarmed Assault<br>iyear=2015<br>imonth=%{x}<br>NombreAttaqueTypeMois=%{y}<extra></extra>",
           "legendgroup": "Unarmed Assault",
           "line": {
            "color": "#B6E880",
            "dash": "solid"
           },
           "marker": {
            "symbol": "circle"
           },
           "mode": "lines",
           "name": "Unarmed Assault",
           "orientation": "v",
           "showlegend": true,
           "type": "scatter",
           "x": [
            1,
            2,
            3,
            4,
            5,
            6,
            7,
            8,
            9,
            10,
            11,
            12
           ],
           "xaxis": "x",
           "y": [
            1,
            2,
            2,
            8,
            14,
            5,
            2,
            3,
            11,
            10,
            15,
            22
           ],
           "yaxis": "y"
          },
          {
           "hovertemplate": "attacktype1_txt=Hostage Taking (Barricade Incident)<br>iyear=2015<br>imonth=%{x}<br>NombreAttaqueTypeMois=%{y}<extra></extra>",
           "legendgroup": "Hostage Taking (Barricade Incident)",
           "line": {
            "color": "#FF97FF",
            "dash": "solid"
           },
           "marker": {
            "symbol": "circle"
           },
           "mode": "lines",
           "name": "Hostage Taking (Barricade Incident)",
           "orientation": "v",
           "showlegend": true,
           "type": "scatter",
           "x": [
            1,
            2,
            3,
            4,
            5,
            6,
            7,
            8,
            9,
            10,
            11,
            12
           ],
           "xaxis": "x",
           "y": [
            12,
            4,
            8,
            7,
            7,
            7,
            7,
            11,
            4,
            3,
            9,
            3
           ],
           "yaxis": "y"
          }
         ],
         "name": "2015"
        },
        {
         "data": [
          {
           "hovertemplate": "attacktype1_txt=Hostage Taking (Kidnapping)<br>iyear=2016<br>imonth=%{x}<br>NombreAttaqueTypeMois=%{y}<extra></extra>",
           "legendgroup": "Hostage Taking (Kidnapping)",
           "line": {
            "color": "#636efa",
            "dash": "solid"
           },
           "marker": {
            "symbol": "circle"
           },
           "mode": "lines",
           "name": "Hostage Taking (Kidnapping)",
           "orientation": "v",
           "showlegend": true,
           "type": "scatter",
           "x": [
            1,
            2,
            3,
            4,
            5,
            6,
            7,
            8,
            9,
            10,
            11,
            12
           ],
           "xaxis": "x",
           "y": [
            117,
            102,
            97,
            127,
            128,
            87,
            74,
            55,
            70,
            99,
            97,
            79
           ],
           "yaxis": "y"
          },
          {
           "hovertemplate": "attacktype1_txt=Armed Assault<br>iyear=2016<br>imonth=%{x}<br>NombreAttaqueTypeMois=%{y}<extra></extra>",
           "legendgroup": "Armed Assault",
           "line": {
            "color": "#EF553B",
            "dash": "solid"
           },
           "marker": {
            "symbol": "circle"
           },
           "mode": "lines",
           "name": "Armed Assault",
           "orientation": "v",
           "showlegend": true,
           "type": "scatter",
           "x": [
            1,
            2,
            3,
            4,
            5,
            6,
            7,
            8,
            9,
            10,
            11,
            12
           ],
           "xaxis": "x",
           "y": [
            236,
            242,
            269,
            204,
            226,
            268,
            231,
            246,
            182,
            247,
            203,
            179
           ],
           "yaxis": "y"
          },
          {
           "hovertemplate": "attacktype1_txt=Assassination<br>iyear=2016<br>imonth=%{x}<br>NombreAttaqueTypeMois=%{y}<extra></extra>",
           "legendgroup": "Assassination",
           "line": {
            "color": "#00cc96",
            "dash": "solid"
           },
           "marker": {
            "symbol": "circle"
           },
           "mode": "lines",
           "name": "Assassination",
           "orientation": "v",
           "showlegend": true,
           "type": "scatter",
           "x": [
            1,
            2,
            3,
            4,
            5,
            6,
            7,
            8,
            9,
            10,
            11,
            12
           ],
           "xaxis": "x",
           "y": [
            50,
            65,
            59,
            75,
            79,
            80,
            71,
            70,
            55,
            68,
            74,
            75
           ],
           "yaxis": "y"
          },
          {
           "hovertemplate": "attacktype1_txt=Bombing/Explosion<br>iyear=2016<br>imonth=%{x}<br>NombreAttaqueTypeMois=%{y}<extra></extra>",
           "legendgroup": "Bombing/Explosion",
           "line": {
            "color": "#ab63fa",
            "dash": "solid"
           },
           "marker": {
            "symbol": "circle"
           },
           "mode": "lines",
           "name": "Bombing/Explosion",
           "orientation": "v",
           "showlegend": true,
           "type": "scatter",
           "x": [
            1,
            2,
            3,
            4,
            5,
            6,
            7,
            8,
            9,
            10,
            11,
            12
           ],
           "xaxis": "x",
           "y": [
            597,
            609,
            582,
            579,
            760,
            563,
            576,
            658,
            604,
            547,
            557,
            476
           ],
           "yaxis": "y"
          },
          {
           "hovertemplate": "attacktype1_txt=Facility/Infrastructure Attack<br>iyear=2016<br>imonth=%{x}<br>NombreAttaqueTypeMois=%{y}<extra></extra>",
           "legendgroup": "Facility/Infrastructure Attack",
           "line": {
            "color": "#FFA15A",
            "dash": "solid"
           },
           "marker": {
            "symbol": "circle"
           },
           "mode": "lines",
           "name": "Facility/Infrastructure Attack",
           "orientation": "v",
           "showlegend": true,
           "type": "scatter",
           "x": [
            1,
            2,
            3,
            4,
            5,
            6,
            7,
            8,
            9,
            10,
            11,
            12
           ],
           "xaxis": "x",
           "y": [
            99,
            61,
            42,
            47,
            36,
            60,
            57,
            41,
            56,
            61,
            101,
            35
           ],
           "yaxis": "y"
          },
          {
           "hovertemplate": "attacktype1_txt=Hijacking<br>iyear=2016<br>imonth=%{x}<br>NombreAttaqueTypeMois=%{y}<extra></extra>",
           "legendgroup": "Hijacking",
           "line": {
            "color": "#19d3f3",
            "dash": "solid"
           },
           "marker": {
            "symbol": "circle"
           },
           "mode": "lines",
           "name": "Hijacking",
           "orientation": "v",
           "showlegend": true,
           "type": "scatter",
           "x": [
            1,
            3,
            4,
            5,
            6,
            7,
            8,
            9,
            10,
            11,
            12
           ],
           "xaxis": "x",
           "y": [
            4,
            5,
            5,
            4,
            3,
            3,
            3,
            2,
            3,
            6,
            5
           ],
           "yaxis": "y"
          },
          {
           "hovertemplate": "attacktype1_txt=Unknown<br>iyear=2016<br>imonth=%{x}<br>NombreAttaqueTypeMois=%{y}<extra></extra>",
           "legendgroup": "Unknown",
           "line": {
            "color": "#FF6692",
            "dash": "solid"
           },
           "marker": {
            "symbol": "circle"
           },
           "mode": "lines",
           "name": "Unknown",
           "orientation": "v",
           "showlegend": true,
           "type": "scatter",
           "x": [
            1,
            2,
            3,
            4,
            5,
            6,
            7,
            8,
            9,
            10,
            11,
            12
           ],
           "xaxis": "x",
           "y": [
            45,
            66,
            81,
            78,
            108,
            84,
            87,
            74,
            66,
            102,
            65,
            66
           ],
           "yaxis": "y"
          },
          {
           "hovertemplate": "attacktype1_txt=Unarmed Assault<br>iyear=2016<br>imonth=%{x}<br>NombreAttaqueTypeMois=%{y}<extra></extra>",
           "legendgroup": "Unarmed Assault",
           "line": {
            "color": "#B6E880",
            "dash": "solid"
           },
           "marker": {
            "symbol": "circle"
           },
           "mode": "lines",
           "name": "Unarmed Assault",
           "orientation": "v",
           "showlegend": true,
           "type": "scatter",
           "x": [
            1,
            2,
            3,
            4,
            5,
            6,
            7,
            8,
            9,
            10,
            11,
            12
           ],
           "xaxis": "x",
           "y": [
            7,
            5,
            8,
            3,
            8,
            4,
            5,
            9,
            8,
            8,
            3,
            3
           ],
           "yaxis": "y"
          },
          {
           "hovertemplate": "attacktype1_txt=Hostage Taking (Barricade Incident)<br>iyear=2016<br>imonth=%{x}<br>NombreAttaqueTypeMois=%{y}<extra></extra>",
           "legendgroup": "Hostage Taking (Barricade Incident)",
           "line": {
            "color": "#FF97FF",
            "dash": "solid"
           },
           "marker": {
            "symbol": "circle"
           },
           "mode": "lines",
           "name": "Hostage Taking (Barricade Incident)",
           "orientation": "v",
           "showlegend": true,
           "type": "scatter",
           "x": [
            1,
            2,
            3,
            4,
            5,
            6,
            7,
            8,
            9,
            10,
            11,
            12
           ],
           "xaxis": "x",
           "y": [
            7,
            3,
            2,
            2,
            4,
            7,
            10,
            6,
            2,
            5,
            8,
            5
           ],
           "yaxis": "y"
          }
         ],
         "name": "2016"
        },
        {
         "data": [
          {
           "hovertemplate": "attacktype1_txt=Hostage Taking (Kidnapping)<br>iyear=2017<br>imonth=%{x}<br>NombreAttaqueTypeMois=%{y}<extra></extra>",
           "legendgroup": "Hostage Taking (Kidnapping)",
           "line": {
            "color": "#636efa",
            "dash": "solid"
           },
           "marker": {
            "symbol": "circle"
           },
           "mode": "lines",
           "name": "Hostage Taking (Kidnapping)",
           "orientation": "v",
           "showlegend": true,
           "type": "scatter",
           "x": [
            1,
            2,
            3,
            4,
            5,
            6,
            7,
            8,
            9,
            10,
            11,
            12
           ],
           "xaxis": "x",
           "y": [
            81,
            74,
            86,
            69,
            84,
            83,
            85,
            74,
            64,
            76,
            44,
            58
           ],
           "yaxis": "y"
          },
          {
           "hovertemplate": "attacktype1_txt=Armed Assault<br>iyear=2017<br>imonth=%{x}<br>NombreAttaqueTypeMois=%{y}<extra></extra>",
           "legendgroup": "Armed Assault",
           "line": {
            "color": "#EF553B",
            "dash": "solid"
           },
           "marker": {
            "symbol": "circle"
           },
           "mode": "lines",
           "name": "Armed Assault",
           "orientation": "v",
           "showlegend": true,
           "type": "scatter",
           "x": [
            1,
            2,
            3,
            4,
            5,
            6,
            7,
            8,
            9,
            10,
            11,
            12
           ],
           "xaxis": "x",
           "y": [
            215,
            160,
            194,
            198,
            212,
            237,
            215,
            214,
            161,
            206,
            182,
            171
           ],
           "yaxis": "y"
          },
          {
           "hovertemplate": "attacktype1_txt=Assassination<br>iyear=2017<br>imonth=%{x}<br>NombreAttaqueTypeMois=%{y}<extra></extra>",
           "legendgroup": "Assassination",
           "line": {
            "color": "#00cc96",
            "dash": "solid"
           },
           "marker": {
            "symbol": "circle"
           },
           "mode": "lines",
           "name": "Assassination",
           "orientation": "v",
           "showlegend": true,
           "type": "scatter",
           "x": [
            1,
            2,
            3,
            4,
            5,
            6,
            7,
            8,
            9,
            10,
            11,
            12
           ],
           "xaxis": "x",
           "y": [
            54,
            70,
            76,
            46,
            78,
            81,
            64,
            56,
            74,
            68,
            78,
            71
           ],
           "yaxis": "y"
          },
          {
           "hovertemplate": "attacktype1_txt=Bombing/Explosion<br>iyear=2017<br>imonth=%{x}<br>NombreAttaqueTypeMois=%{y}<extra></extra>",
           "legendgroup": "Bombing/Explosion",
           "line": {
            "color": "#ab63fa",
            "dash": "solid"
           },
           "marker": {
            "symbol": "circle"
           },
           "mode": "lines",
           "name": "Bombing/Explosion",
           "orientation": "v",
           "showlegend": true,
           "type": "scatter",
           "x": [
            1,
            2,
            3,
            4,
            5,
            6,
            7,
            8,
            9,
            10,
            11,
            12
           ],
           "xaxis": "x",
           "y": [
            400,
            455,
            441,
            435,
            498,
            485,
            401,
            466,
            393,
            321,
            389,
            340
           ],
           "yaxis": "y"
          },
          {
           "hovertemplate": "attacktype1_txt=Facility/Infrastructure Attack<br>iyear=2017<br>imonth=%{x}<br>NombreAttaqueTypeMois=%{y}<extra></extra>",
           "legendgroup": "Facility/Infrastructure Attack",
           "line": {
            "color": "#FFA15A",
            "dash": "solid"
           },
           "marker": {
            "symbol": "circle"
           },
           "mode": "lines",
           "name": "Facility/Infrastructure Attack",
           "orientation": "v",
           "showlegend": true,
           "type": "scatter",
           "x": [
            1,
            2,
            3,
            4,
            5,
            6,
            7,
            8,
            9,
            10,
            11,
            12
           ],
           "xaxis": "x",
           "y": [
            44,
            49,
            81,
            57,
            91,
            88,
            103,
            52,
            54,
            66,
            29,
            37
           ],
           "yaxis": "y"
          },
          {
           "hovertemplate": "attacktype1_txt=Hijacking<br>iyear=2017<br>imonth=%{x}<br>NombreAttaqueTypeMois=%{y}<extra></extra>",
           "legendgroup": "Hijacking",
           "line": {
            "color": "#19d3f3",
            "dash": "solid"
           },
           "marker": {
            "symbol": "circle"
           },
           "mode": "lines",
           "name": "Hijacking",
           "orientation": "v",
           "showlegend": true,
           "type": "scatter",
           "x": [
            1,
            2,
            3,
            4,
            5,
            6,
            7,
            8,
            9,
            10,
            11,
            12
           ],
           "xaxis": "x",
           "y": [
            5,
            7,
            6,
            3,
            7,
            3,
            5,
            8,
            4,
            5,
            4,
            1
           ],
           "yaxis": "y"
          },
          {
           "hovertemplate": "attacktype1_txt=Unknown<br>iyear=2017<br>imonth=%{x}<br>NombreAttaqueTypeMois=%{y}<extra></extra>",
           "legendgroup": "Unknown",
           "line": {
            "color": "#FF6692",
            "dash": "solid"
           },
           "marker": {
            "symbol": "circle"
           },
           "mode": "lines",
           "name": "Unknown",
           "orientation": "v",
           "showlegend": true,
           "type": "scatter",
           "x": [
            1,
            2,
            3,
            4,
            5,
            6,
            7,
            8,
            9,
            10,
            11,
            12
           ],
           "xaxis": "x",
           "y": [
            65,
            54,
            63,
            42,
            93,
            80,
            100,
            80,
            68,
            52,
            66,
            62
           ],
           "yaxis": "y"
          },
          {
           "hovertemplate": "attacktype1_txt=Unarmed Assault<br>iyear=2017<br>imonth=%{x}<br>NombreAttaqueTypeMois=%{y}<extra></extra>",
           "legendgroup": "Unarmed Assault",
           "line": {
            "color": "#B6E880",
            "dash": "solid"
           },
           "marker": {
            "symbol": "circle"
           },
           "mode": "lines",
           "name": "Unarmed Assault",
           "orientation": "v",
           "showlegend": true,
           "type": "scatter",
           "x": [
            1,
            2,
            3,
            4,
            5,
            6,
            7,
            8,
            9,
            10,
            11,
            12
           ],
           "xaxis": "x",
           "y": [
            9,
            2,
            5,
            13,
            6,
            12,
            12,
            12,
            13,
            5,
            7,
            5
           ],
           "yaxis": "y"
          },
          {
           "hovertemplate": "attacktype1_txt=Hostage Taking (Barricade Incident)<br>iyear=2017<br>imonth=%{x}<br>NombreAttaqueTypeMois=%{y}<extra></extra>",
           "legendgroup": "Hostage Taking (Barricade Incident)",
           "line": {
            "color": "#FF97FF",
            "dash": "solid"
           },
           "marker": {
            "symbol": "circle"
           },
           "mode": "lines",
           "name": "Hostage Taking (Barricade Incident)",
           "orientation": "v",
           "showlegend": true,
           "type": "scatter",
           "x": [
            1,
            2,
            3,
            4,
            5,
            6,
            7,
            8,
            9,
            10,
            11,
            12
           ],
           "xaxis": "x",
           "y": [
            6,
            8,
            9,
            2,
            12,
            8,
            9,
            6,
            7,
            6,
            5,
            4
           ],
           "yaxis": "y"
          }
         ],
         "name": "2017"
        }
       ],
       "layout": {
        "legend": {
         "title": {
          "text": "attacktype1_txt"
         },
         "tracegroupgap": 0
        },
        "sliders": [
         {
          "active": 0,
          "currentvalue": {
           "prefix": "iyear="
          },
          "len": 0.9,
          "pad": {
           "b": 10,
           "t": 60
          },
          "steps": [
           {
            "args": [
             [
              "1970"
             ],
             {
              "frame": {
               "duration": 0,
               "redraw": false
              },
              "fromcurrent": true,
              "mode": "immediate",
              "transition": {
               "duration": 0,
               "easing": "linear"
              }
             }
            ],
            "label": "1970",
            "method": "animate"
           },
           {
            "args": [
             [
              "1971"
             ],
             {
              "frame": {
               "duration": 0,
               "redraw": false
              },
              "fromcurrent": true,
              "mode": "immediate",
              "transition": {
               "duration": 0,
               "easing": "linear"
              }
             }
            ],
            "label": "1971",
            "method": "animate"
           },
           {
            "args": [
             [
              "1972"
             ],
             {
              "frame": {
               "duration": 0,
               "redraw": false
              },
              "fromcurrent": true,
              "mode": "immediate",
              "transition": {
               "duration": 0,
               "easing": "linear"
              }
             }
            ],
            "label": "1972",
            "method": "animate"
           },
           {
            "args": [
             [
              "1973"
             ],
             {
              "frame": {
               "duration": 0,
               "redraw": false
              },
              "fromcurrent": true,
              "mode": "immediate",
              "transition": {
               "duration": 0,
               "easing": "linear"
              }
             }
            ],
            "label": "1973",
            "method": "animate"
           },
           {
            "args": [
             [
              "1974"
             ],
             {
              "frame": {
               "duration": 0,
               "redraw": false
              },
              "fromcurrent": true,
              "mode": "immediate",
              "transition": {
               "duration": 0,
               "easing": "linear"
              }
             }
            ],
            "label": "1974",
            "method": "animate"
           },
           {
            "args": [
             [
              "1975"
             ],
             {
              "frame": {
               "duration": 0,
               "redraw": false
              },
              "fromcurrent": true,
              "mode": "immediate",
              "transition": {
               "duration": 0,
               "easing": "linear"
              }
             }
            ],
            "label": "1975",
            "method": "animate"
           },
           {
            "args": [
             [
              "1976"
             ],
             {
              "frame": {
               "duration": 0,
               "redraw": false
              },
              "fromcurrent": true,
              "mode": "immediate",
              "transition": {
               "duration": 0,
               "easing": "linear"
              }
             }
            ],
            "label": "1976",
            "method": "animate"
           },
           {
            "args": [
             [
              "1977"
             ],
             {
              "frame": {
               "duration": 0,
               "redraw": false
              },
              "fromcurrent": true,
              "mode": "immediate",
              "transition": {
               "duration": 0,
               "easing": "linear"
              }
             }
            ],
            "label": "1977",
            "method": "animate"
           },
           {
            "args": [
             [
              "1978"
             ],
             {
              "frame": {
               "duration": 0,
               "redraw": false
              },
              "fromcurrent": true,
              "mode": "immediate",
              "transition": {
               "duration": 0,
               "easing": "linear"
              }
             }
            ],
            "label": "1978",
            "method": "animate"
           },
           {
            "args": [
             [
              "1979"
             ],
             {
              "frame": {
               "duration": 0,
               "redraw": false
              },
              "fromcurrent": true,
              "mode": "immediate",
              "transition": {
               "duration": 0,
               "easing": "linear"
              }
             }
            ],
            "label": "1979",
            "method": "animate"
           },
           {
            "args": [
             [
              "1980"
             ],
             {
              "frame": {
               "duration": 0,
               "redraw": false
              },
              "fromcurrent": true,
              "mode": "immediate",
              "transition": {
               "duration": 0,
               "easing": "linear"
              }
             }
            ],
            "label": "1980",
            "method": "animate"
           },
           {
            "args": [
             [
              "1981"
             ],
             {
              "frame": {
               "duration": 0,
               "redraw": false
              },
              "fromcurrent": true,
              "mode": "immediate",
              "transition": {
               "duration": 0,
               "easing": "linear"
              }
             }
            ],
            "label": "1981",
            "method": "animate"
           },
           {
            "args": [
             [
              "1982"
             ],
             {
              "frame": {
               "duration": 0,
               "redraw": false
              },
              "fromcurrent": true,
              "mode": "immediate",
              "transition": {
               "duration": 0,
               "easing": "linear"
              }
             }
            ],
            "label": "1982",
            "method": "animate"
           },
           {
            "args": [
             [
              "1983"
             ],
             {
              "frame": {
               "duration": 0,
               "redraw": false
              },
              "fromcurrent": true,
              "mode": "immediate",
              "transition": {
               "duration": 0,
               "easing": "linear"
              }
             }
            ],
            "label": "1983",
            "method": "animate"
           },
           {
            "args": [
             [
              "1984"
             ],
             {
              "frame": {
               "duration": 0,
               "redraw": false
              },
              "fromcurrent": true,
              "mode": "immediate",
              "transition": {
               "duration": 0,
               "easing": "linear"
              }
             }
            ],
            "label": "1984",
            "method": "animate"
           },
           {
            "args": [
             [
              "1985"
             ],
             {
              "frame": {
               "duration": 0,
               "redraw": false
              },
              "fromcurrent": true,
              "mode": "immediate",
              "transition": {
               "duration": 0,
               "easing": "linear"
              }
             }
            ],
            "label": "1985",
            "method": "animate"
           },
           {
            "args": [
             [
              "1986"
             ],
             {
              "frame": {
               "duration": 0,
               "redraw": false
              },
              "fromcurrent": true,
              "mode": "immediate",
              "transition": {
               "duration": 0,
               "easing": "linear"
              }
             }
            ],
            "label": "1986",
            "method": "animate"
           },
           {
            "args": [
             [
              "1987"
             ],
             {
              "frame": {
               "duration": 0,
               "redraw": false
              },
              "fromcurrent": true,
              "mode": "immediate",
              "transition": {
               "duration": 0,
               "easing": "linear"
              }
             }
            ],
            "label": "1987",
            "method": "animate"
           },
           {
            "args": [
             [
              "1988"
             ],
             {
              "frame": {
               "duration": 0,
               "redraw": false
              },
              "fromcurrent": true,
              "mode": "immediate",
              "transition": {
               "duration": 0,
               "easing": "linear"
              }
             }
            ],
            "label": "1988",
            "method": "animate"
           },
           {
            "args": [
             [
              "1989"
             ],
             {
              "frame": {
               "duration": 0,
               "redraw": false
              },
              "fromcurrent": true,
              "mode": "immediate",
              "transition": {
               "duration": 0,
               "easing": "linear"
              }
             }
            ],
            "label": "1989",
            "method": "animate"
           },
           {
            "args": [
             [
              "1990"
             ],
             {
              "frame": {
               "duration": 0,
               "redraw": false
              },
              "fromcurrent": true,
              "mode": "immediate",
              "transition": {
               "duration": 0,
               "easing": "linear"
              }
             }
            ],
            "label": "1990",
            "method": "animate"
           },
           {
            "args": [
             [
              "1991"
             ],
             {
              "frame": {
               "duration": 0,
               "redraw": false
              },
              "fromcurrent": true,
              "mode": "immediate",
              "transition": {
               "duration": 0,
               "easing": "linear"
              }
             }
            ],
            "label": "1991",
            "method": "animate"
           },
           {
            "args": [
             [
              "1992"
             ],
             {
              "frame": {
               "duration": 0,
               "redraw": false
              },
              "fromcurrent": true,
              "mode": "immediate",
              "transition": {
               "duration": 0,
               "easing": "linear"
              }
             }
            ],
            "label": "1992",
            "method": "animate"
           },
           {
            "args": [
             [
              "1994"
             ],
             {
              "frame": {
               "duration": 0,
               "redraw": false
              },
              "fromcurrent": true,
              "mode": "immediate",
              "transition": {
               "duration": 0,
               "easing": "linear"
              }
             }
            ],
            "label": "1994",
            "method": "animate"
           },
           {
            "args": [
             [
              "1995"
             ],
             {
              "frame": {
               "duration": 0,
               "redraw": false
              },
              "fromcurrent": true,
              "mode": "immediate",
              "transition": {
               "duration": 0,
               "easing": "linear"
              }
             }
            ],
            "label": "1995",
            "method": "animate"
           },
           {
            "args": [
             [
              "1996"
             ],
             {
              "frame": {
               "duration": 0,
               "redraw": false
              },
              "fromcurrent": true,
              "mode": "immediate",
              "transition": {
               "duration": 0,
               "easing": "linear"
              }
             }
            ],
            "label": "1996",
            "method": "animate"
           },
           {
            "args": [
             [
              "1997"
             ],
             {
              "frame": {
               "duration": 0,
               "redraw": false
              },
              "fromcurrent": true,
              "mode": "immediate",
              "transition": {
               "duration": 0,
               "easing": "linear"
              }
             }
            ],
            "label": "1997",
            "method": "animate"
           },
           {
            "args": [
             [
              "1998"
             ],
             {
              "frame": {
               "duration": 0,
               "redraw": false
              },
              "fromcurrent": true,
              "mode": "immediate",
              "transition": {
               "duration": 0,
               "easing": "linear"
              }
             }
            ],
            "label": "1998",
            "method": "animate"
           },
           {
            "args": [
             [
              "1999"
             ],
             {
              "frame": {
               "duration": 0,
               "redraw": false
              },
              "fromcurrent": true,
              "mode": "immediate",
              "transition": {
               "duration": 0,
               "easing": "linear"
              }
             }
            ],
            "label": "1999",
            "method": "animate"
           },
           {
            "args": [
             [
              "2000"
             ],
             {
              "frame": {
               "duration": 0,
               "redraw": false
              },
              "fromcurrent": true,
              "mode": "immediate",
              "transition": {
               "duration": 0,
               "easing": "linear"
              }
             }
            ],
            "label": "2000",
            "method": "animate"
           },
           {
            "args": [
             [
              "2001"
             ],
             {
              "frame": {
               "duration": 0,
               "redraw": false
              },
              "fromcurrent": true,
              "mode": "immediate",
              "transition": {
               "duration": 0,
               "easing": "linear"
              }
             }
            ],
            "label": "2001",
            "method": "animate"
           },
           {
            "args": [
             [
              "2002"
             ],
             {
              "frame": {
               "duration": 0,
               "redraw": false
              },
              "fromcurrent": true,
              "mode": "immediate",
              "transition": {
               "duration": 0,
               "easing": "linear"
              }
             }
            ],
            "label": "2002",
            "method": "animate"
           },
           {
            "args": [
             [
              "2003"
             ],
             {
              "frame": {
               "duration": 0,
               "redraw": false
              },
              "fromcurrent": true,
              "mode": "immediate",
              "transition": {
               "duration": 0,
               "easing": "linear"
              }
             }
            ],
            "label": "2003",
            "method": "animate"
           },
           {
            "args": [
             [
              "2004"
             ],
             {
              "frame": {
               "duration": 0,
               "redraw": false
              },
              "fromcurrent": true,
              "mode": "immediate",
              "transition": {
               "duration": 0,
               "easing": "linear"
              }
             }
            ],
            "label": "2004",
            "method": "animate"
           },
           {
            "args": [
             [
              "2005"
             ],
             {
              "frame": {
               "duration": 0,
               "redraw": false
              },
              "fromcurrent": true,
              "mode": "immediate",
              "transition": {
               "duration": 0,
               "easing": "linear"
              }
             }
            ],
            "label": "2005",
            "method": "animate"
           },
           {
            "args": [
             [
              "2006"
             ],
             {
              "frame": {
               "duration": 0,
               "redraw": false
              },
              "fromcurrent": true,
              "mode": "immediate",
              "transition": {
               "duration": 0,
               "easing": "linear"
              }
             }
            ],
            "label": "2006",
            "method": "animate"
           },
           {
            "args": [
             [
              "2007"
             ],
             {
              "frame": {
               "duration": 0,
               "redraw": false
              },
              "fromcurrent": true,
              "mode": "immediate",
              "transition": {
               "duration": 0,
               "easing": "linear"
              }
             }
            ],
            "label": "2007",
            "method": "animate"
           },
           {
            "args": [
             [
              "2008"
             ],
             {
              "frame": {
               "duration": 0,
               "redraw": false
              },
              "fromcurrent": true,
              "mode": "immediate",
              "transition": {
               "duration": 0,
               "easing": "linear"
              }
             }
            ],
            "label": "2008",
            "method": "animate"
           },
           {
            "args": [
             [
              "2009"
             ],
             {
              "frame": {
               "duration": 0,
               "redraw": false
              },
              "fromcurrent": true,
              "mode": "immediate",
              "transition": {
               "duration": 0,
               "easing": "linear"
              }
             }
            ],
            "label": "2009",
            "method": "animate"
           },
           {
            "args": [
             [
              "2010"
             ],
             {
              "frame": {
               "duration": 0,
               "redraw": false
              },
              "fromcurrent": true,
              "mode": "immediate",
              "transition": {
               "duration": 0,
               "easing": "linear"
              }
             }
            ],
            "label": "2010",
            "method": "animate"
           },
           {
            "args": [
             [
              "2011"
             ],
             {
              "frame": {
               "duration": 0,
               "redraw": false
              },
              "fromcurrent": true,
              "mode": "immediate",
              "transition": {
               "duration": 0,
               "easing": "linear"
              }
             }
            ],
            "label": "2011",
            "method": "animate"
           },
           {
            "args": [
             [
              "2012"
             ],
             {
              "frame": {
               "duration": 0,
               "redraw": false
              },
              "fromcurrent": true,
              "mode": "immediate",
              "transition": {
               "duration": 0,
               "easing": "linear"
              }
             }
            ],
            "label": "2012",
            "method": "animate"
           },
           {
            "args": [
             [
              "2013"
             ],
             {
              "frame": {
               "duration": 0,
               "redraw": false
              },
              "fromcurrent": true,
              "mode": "immediate",
              "transition": {
               "duration": 0,
               "easing": "linear"
              }
             }
            ],
            "label": "2013",
            "method": "animate"
           },
           {
            "args": [
             [
              "2014"
             ],
             {
              "frame": {
               "duration": 0,
               "redraw": false
              },
              "fromcurrent": true,
              "mode": "immediate",
              "transition": {
               "duration": 0,
               "easing": "linear"
              }
             }
            ],
            "label": "2014",
            "method": "animate"
           },
           {
            "args": [
             [
              "2015"
             ],
             {
              "frame": {
               "duration": 0,
               "redraw": false
              },
              "fromcurrent": true,
              "mode": "immediate",
              "transition": {
               "duration": 0,
               "easing": "linear"
              }
             }
            ],
            "label": "2015",
            "method": "animate"
           },
           {
            "args": [
             [
              "2016"
             ],
             {
              "frame": {
               "duration": 0,
               "redraw": false
              },
              "fromcurrent": true,
              "mode": "immediate",
              "transition": {
               "duration": 0,
               "easing": "linear"
              }
             }
            ],
            "label": "2016",
            "method": "animate"
           },
           {
            "args": [
             [
              "2017"
             ],
             {
              "frame": {
               "duration": 0,
               "redraw": false
              },
              "fromcurrent": true,
              "mode": "immediate",
              "transition": {
               "duration": 0,
               "easing": "linear"
              }
             }
            ],
            "label": "2017",
            "method": "animate"
           }
          ],
          "x": 0.1,
          "xanchor": "left",
          "y": 0,
          "yanchor": "top"
         }
        ],
        "template": {
         "data": {
          "bar": [
           {
            "error_x": {
             "color": "#2a3f5f"
            },
            "error_y": {
             "color": "#2a3f5f"
            },
            "marker": {
             "line": {
              "color": "#E5ECF6",
              "width": 0.5
             },
             "pattern": {
              "fillmode": "overlay",
              "size": 10,
              "solidity": 0.2
             }
            },
            "type": "bar"
           }
          ],
          "barpolar": [
           {
            "marker": {
             "line": {
              "color": "#E5ECF6",
              "width": 0.5
             },
             "pattern": {
              "fillmode": "overlay",
              "size": 10,
              "solidity": 0.2
             }
            },
            "type": "barpolar"
           }
          ],
          "carpet": [
           {
            "aaxis": {
             "endlinecolor": "#2a3f5f",
             "gridcolor": "white",
             "linecolor": "white",
             "minorgridcolor": "white",
             "startlinecolor": "#2a3f5f"
            },
            "baxis": {
             "endlinecolor": "#2a3f5f",
             "gridcolor": "white",
             "linecolor": "white",
             "minorgridcolor": "white",
             "startlinecolor": "#2a3f5f"
            },
            "type": "carpet"
           }
          ],
          "choropleth": [
           {
            "colorbar": {
             "outlinewidth": 0,
             "ticks": ""
            },
            "type": "choropleth"
           }
          ],
          "contour": [
           {
            "colorbar": {
             "outlinewidth": 0,
             "ticks": ""
            },
            "colorscale": [
             [
              0,
              "#0d0887"
             ],
             [
              0.1111111111111111,
              "#46039f"
             ],
             [
              0.2222222222222222,
              "#7201a8"
             ],
             [
              0.3333333333333333,
              "#9c179e"
             ],
             [
              0.4444444444444444,
              "#bd3786"
             ],
             [
              0.5555555555555556,
              "#d8576b"
             ],
             [
              0.6666666666666666,
              "#ed7953"
             ],
             [
              0.7777777777777778,
              "#fb9f3a"
             ],
             [
              0.8888888888888888,
              "#fdca26"
             ],
             [
              1,
              "#f0f921"
             ]
            ],
            "type": "contour"
           }
          ],
          "contourcarpet": [
           {
            "colorbar": {
             "outlinewidth": 0,
             "ticks": ""
            },
            "type": "contourcarpet"
           }
          ],
          "heatmap": [
           {
            "colorbar": {
             "outlinewidth": 0,
             "ticks": ""
            },
            "colorscale": [
             [
              0,
              "#0d0887"
             ],
             [
              0.1111111111111111,
              "#46039f"
             ],
             [
              0.2222222222222222,
              "#7201a8"
             ],
             [
              0.3333333333333333,
              "#9c179e"
             ],
             [
              0.4444444444444444,
              "#bd3786"
             ],
             [
              0.5555555555555556,
              "#d8576b"
             ],
             [
              0.6666666666666666,
              "#ed7953"
             ],
             [
              0.7777777777777778,
              "#fb9f3a"
             ],
             [
              0.8888888888888888,
              "#fdca26"
             ],
             [
              1,
              "#f0f921"
             ]
            ],
            "type": "heatmap"
           }
          ],
          "heatmapgl": [
           {
            "colorbar": {
             "outlinewidth": 0,
             "ticks": ""
            },
            "colorscale": [
             [
              0,
              "#0d0887"
             ],
             [
              0.1111111111111111,
              "#46039f"
             ],
             [
              0.2222222222222222,
              "#7201a8"
             ],
             [
              0.3333333333333333,
              "#9c179e"
             ],
             [
              0.4444444444444444,
              "#bd3786"
             ],
             [
              0.5555555555555556,
              "#d8576b"
             ],
             [
              0.6666666666666666,
              "#ed7953"
             ],
             [
              0.7777777777777778,
              "#fb9f3a"
             ],
             [
              0.8888888888888888,
              "#fdca26"
             ],
             [
              1,
              "#f0f921"
             ]
            ],
            "type": "heatmapgl"
           }
          ],
          "histogram": [
           {
            "marker": {
             "pattern": {
              "fillmode": "overlay",
              "size": 10,
              "solidity": 0.2
             }
            },
            "type": "histogram"
           }
          ],
          "histogram2d": [
           {
            "colorbar": {
             "outlinewidth": 0,
             "ticks": ""
            },
            "colorscale": [
             [
              0,
              "#0d0887"
             ],
             [
              0.1111111111111111,
              "#46039f"
             ],
             [
              0.2222222222222222,
              "#7201a8"
             ],
             [
              0.3333333333333333,
              "#9c179e"
             ],
             [
              0.4444444444444444,
              "#bd3786"
             ],
             [
              0.5555555555555556,
              "#d8576b"
             ],
             [
              0.6666666666666666,
              "#ed7953"
             ],
             [
              0.7777777777777778,
              "#fb9f3a"
             ],
             [
              0.8888888888888888,
              "#fdca26"
             ],
             [
              1,
              "#f0f921"
             ]
            ],
            "type": "histogram2d"
           }
          ],
          "histogram2dcontour": [
           {
            "colorbar": {
             "outlinewidth": 0,
             "ticks": ""
            },
            "colorscale": [
             [
              0,
              "#0d0887"
             ],
             [
              0.1111111111111111,
              "#46039f"
             ],
             [
              0.2222222222222222,
              "#7201a8"
             ],
             [
              0.3333333333333333,
              "#9c179e"
             ],
             [
              0.4444444444444444,
              "#bd3786"
             ],
             [
              0.5555555555555556,
              "#d8576b"
             ],
             [
              0.6666666666666666,
              "#ed7953"
             ],
             [
              0.7777777777777778,
              "#fb9f3a"
             ],
             [
              0.8888888888888888,
              "#fdca26"
             ],
             [
              1,
              "#f0f921"
             ]
            ],
            "type": "histogram2dcontour"
           }
          ],
          "mesh3d": [
           {
            "colorbar": {
             "outlinewidth": 0,
             "ticks": ""
            },
            "type": "mesh3d"
           }
          ],
          "parcoords": [
           {
            "line": {
             "colorbar": {
              "outlinewidth": 0,
              "ticks": ""
             }
            },
            "type": "parcoords"
           }
          ],
          "pie": [
           {
            "automargin": true,
            "type": "pie"
           }
          ],
          "scatter": [
           {
            "fillpattern": {
             "fillmode": "overlay",
             "size": 10,
             "solidity": 0.2
            },
            "type": "scatter"
           }
          ],
          "scatter3d": [
           {
            "line": {
             "colorbar": {
              "outlinewidth": 0,
              "ticks": ""
             }
            },
            "marker": {
             "colorbar": {
              "outlinewidth": 0,
              "ticks": ""
             }
            },
            "type": "scatter3d"
           }
          ],
          "scattercarpet": [
           {
            "marker": {
             "colorbar": {
              "outlinewidth": 0,
              "ticks": ""
             }
            },
            "type": "scattercarpet"
           }
          ],
          "scattergeo": [
           {
            "marker": {
             "colorbar": {
              "outlinewidth": 0,
              "ticks": ""
             }
            },
            "type": "scattergeo"
           }
          ],
          "scattergl": [
           {
            "marker": {
             "colorbar": {
              "outlinewidth": 0,
              "ticks": ""
             }
            },
            "type": "scattergl"
           }
          ],
          "scattermapbox": [
           {
            "marker": {
             "colorbar": {
              "outlinewidth": 0,
              "ticks": ""
             }
            },
            "type": "scattermapbox"
           }
          ],
          "scatterpolar": [
           {
            "marker": {
             "colorbar": {
              "outlinewidth": 0,
              "ticks": ""
             }
            },
            "type": "scatterpolar"
           }
          ],
          "scatterpolargl": [
           {
            "marker": {
             "colorbar": {
              "outlinewidth": 0,
              "ticks": ""
             }
            },
            "type": "scatterpolargl"
           }
          ],
          "scatterternary": [
           {
            "marker": {
             "colorbar": {
              "outlinewidth": 0,
              "ticks": ""
             }
            },
            "type": "scatterternary"
           }
          ],
          "surface": [
           {
            "colorbar": {
             "outlinewidth": 0,
             "ticks": ""
            },
            "colorscale": [
             [
              0,
              "#0d0887"
             ],
             [
              0.1111111111111111,
              "#46039f"
             ],
             [
              0.2222222222222222,
              "#7201a8"
             ],
             [
              0.3333333333333333,
              "#9c179e"
             ],
             [
              0.4444444444444444,
              "#bd3786"
             ],
             [
              0.5555555555555556,
              "#d8576b"
             ],
             [
              0.6666666666666666,
              "#ed7953"
             ],
             [
              0.7777777777777778,
              "#fb9f3a"
             ],
             [
              0.8888888888888888,
              "#fdca26"
             ],
             [
              1,
              "#f0f921"
             ]
            ],
            "type": "surface"
           }
          ],
          "table": [
           {
            "cells": {
             "fill": {
              "color": "#EBF0F8"
             },
             "line": {
              "color": "white"
             }
            },
            "header": {
             "fill": {
              "color": "#C8D4E3"
             },
             "line": {
              "color": "white"
             }
            },
            "type": "table"
           }
          ]
         },
         "layout": {
          "annotationdefaults": {
           "arrowcolor": "#2a3f5f",
           "arrowhead": 0,
           "arrowwidth": 1
          },
          "autotypenumbers": "strict",
          "coloraxis": {
           "colorbar": {
            "outlinewidth": 0,
            "ticks": ""
           }
          },
          "colorscale": {
           "diverging": [
            [
             0,
             "#8e0152"
            ],
            [
             0.1,
             "#c51b7d"
            ],
            [
             0.2,
             "#de77ae"
            ],
            [
             0.3,
             "#f1b6da"
            ],
            [
             0.4,
             "#fde0ef"
            ],
            [
             0.5,
             "#f7f7f7"
            ],
            [
             0.6,
             "#e6f5d0"
            ],
            [
             0.7,
             "#b8e186"
            ],
            [
             0.8,
             "#7fbc41"
            ],
            [
             0.9,
             "#4d9221"
            ],
            [
             1,
             "#276419"
            ]
           ],
           "sequential": [
            [
             0,
             "#0d0887"
            ],
            [
             0.1111111111111111,
             "#46039f"
            ],
            [
             0.2222222222222222,
             "#7201a8"
            ],
            [
             0.3333333333333333,
             "#9c179e"
            ],
            [
             0.4444444444444444,
             "#bd3786"
            ],
            [
             0.5555555555555556,
             "#d8576b"
            ],
            [
             0.6666666666666666,
             "#ed7953"
            ],
            [
             0.7777777777777778,
             "#fb9f3a"
            ],
            [
             0.8888888888888888,
             "#fdca26"
            ],
            [
             1,
             "#f0f921"
            ]
           ],
           "sequentialminus": [
            [
             0,
             "#0d0887"
            ],
            [
             0.1111111111111111,
             "#46039f"
            ],
            [
             0.2222222222222222,
             "#7201a8"
            ],
            [
             0.3333333333333333,
             "#9c179e"
            ],
            [
             0.4444444444444444,
             "#bd3786"
            ],
            [
             0.5555555555555556,
             "#d8576b"
            ],
            [
             0.6666666666666666,
             "#ed7953"
            ],
            [
             0.7777777777777778,
             "#fb9f3a"
            ],
            [
             0.8888888888888888,
             "#fdca26"
            ],
            [
             1,
             "#f0f921"
            ]
           ]
          },
          "colorway": [
           "#636efa",
           "#EF553B",
           "#00cc96",
           "#ab63fa",
           "#FFA15A",
           "#19d3f3",
           "#FF6692",
           "#B6E880",
           "#FF97FF",
           "#FECB52"
          ],
          "font": {
           "color": "#2a3f5f"
          },
          "geo": {
           "bgcolor": "white",
           "lakecolor": "white",
           "landcolor": "#E5ECF6",
           "showlakes": true,
           "showland": true,
           "subunitcolor": "white"
          },
          "hoverlabel": {
           "align": "left"
          },
          "hovermode": "closest",
          "mapbox": {
           "style": "light"
          },
          "paper_bgcolor": "white",
          "plot_bgcolor": "#E5ECF6",
          "polar": {
           "angularaxis": {
            "gridcolor": "white",
            "linecolor": "white",
            "ticks": ""
           },
           "bgcolor": "#E5ECF6",
           "radialaxis": {
            "gridcolor": "white",
            "linecolor": "white",
            "ticks": ""
           }
          },
          "scene": {
           "xaxis": {
            "backgroundcolor": "#E5ECF6",
            "gridcolor": "white",
            "gridwidth": 2,
            "linecolor": "white",
            "showbackground": true,
            "ticks": "",
            "zerolinecolor": "white"
           },
           "yaxis": {
            "backgroundcolor": "#E5ECF6",
            "gridcolor": "white",
            "gridwidth": 2,
            "linecolor": "white",
            "showbackground": true,
            "ticks": "",
            "zerolinecolor": "white"
           },
           "zaxis": {
            "backgroundcolor": "#E5ECF6",
            "gridcolor": "white",
            "gridwidth": 2,
            "linecolor": "white",
            "showbackground": true,
            "ticks": "",
            "zerolinecolor": "white"
           }
          },
          "shapedefaults": {
           "line": {
            "color": "#2a3f5f"
           }
          },
          "ternary": {
           "aaxis": {
            "gridcolor": "white",
            "linecolor": "white",
            "ticks": ""
           },
           "baxis": {
            "gridcolor": "white",
            "linecolor": "white",
            "ticks": ""
           },
           "bgcolor": "#E5ECF6",
           "caxis": {
            "gridcolor": "white",
            "linecolor": "white",
            "ticks": ""
           }
          },
          "title": {
           "x": 0.05
          },
          "xaxis": {
           "automargin": true,
           "gridcolor": "white",
           "linecolor": "white",
           "ticks": "",
           "title": {
            "standoff": 15
           },
           "zerolinecolor": "white",
           "zerolinewidth": 2
          },
          "yaxis": {
           "automargin": true,
           "gridcolor": "white",
           "linecolor": "white",
           "ticks": "",
           "title": {
            "standoff": 15
           },
           "zerolinecolor": "white",
           "zerolinewidth": 2
          }
         }
        },
        "title": {
         "text": " Courbe d'évolution annuel (animation par année) du nombre d'attaques terroristes par type d’attaque et par mois"
        },
        "updatemenus": [
         {
          "buttons": [
           {
            "args": [
             null,
             {
              "frame": {
               "duration": 500,
               "redraw": false
              },
              "fromcurrent": true,
              "mode": "immediate",
              "transition": {
               "duration": 500,
               "easing": "linear"
              }
             }
            ],
            "label": "&#9654;",
            "method": "animate"
           },
           {
            "args": [
             [
              null
             ],
             {
              "frame": {
               "duration": 0,
               "redraw": false
              },
              "fromcurrent": true,
              "mode": "immediate",
              "transition": {
               "duration": 0,
               "easing": "linear"
              }
             }
            ],
            "label": "&#9724;",
            "method": "animate"
           }
          ],
          "direction": "left",
          "pad": {
           "r": 10,
           "t": 70
          },
          "showactive": false,
          "type": "buttons",
          "x": 0.1,
          "xanchor": "right",
          "y": 0,
          "yanchor": "top"
         }
        ],
        "xaxis": {
         "anchor": "y",
         "domain": [
          0,
          1
         ],
         "title": {
          "text": "imonth"
         }
        },
        "yaxis": {
         "anchor": "x",
         "domain": [
          0,
          1
         ],
         "title": {
          "text": "NombreAttaqueTypeMois"
         }
        }
       }
      }
     },
     "metadata": {},
     "output_type": "display_data"
    }
   ],
   "source": [
    "bar_fig2=px.line(attaque_type_month,x='imonth',y='NombreAttaqueTypeMois',color='attacktype1_txt',animation_frame='iyear',title=\" Courbe d'évolution annuel (animation par année) du nombre d'attaques terroristes par type d’attaque et par mois\")\n",
    "bar_fig2.show()"
   ]
  },
  {
   "cell_type": "markdown",
   "metadata": {},
   "source": [
    "__Visualiser la répartition géographique du nombre d’attaques terroristes accompagnés de suicide par pays__"
   ]
  },
  {
   "cell_type": "code",
   "execution_count": 34,
   "metadata": {},
   "outputs": [
    {
     "data": {
      "text/html": [
       "<div>\n",
       "<style scoped>\n",
       "    .dataframe tbody tr th:only-of-type {\n",
       "        vertical-align: middle;\n",
       "    }\n",
       "\n",
       "    .dataframe tbody tr th {\n",
       "        vertical-align: top;\n",
       "    }\n",
       "\n",
       "    .dataframe thead th {\n",
       "        text-align: right;\n",
       "    }\n",
       "</style>\n",
       "<table border=\"1\" class=\"dataframe\">\n",
       "  <thead>\n",
       "    <tr style=\"text-align: right;\">\n",
       "      <th></th>\n",
       "      <th>country_txt</th>\n",
       "      <th>suicide</th>\n",
       "      <th>AttaqueSuicidePays</th>\n",
       "    </tr>\n",
       "  </thead>\n",
       "  <tbody>\n",
       "    <tr>\n",
       "      <th>0</th>\n",
       "      <td>Afghanistan</td>\n",
       "      <td>0</td>\n",
       "      <td>11503</td>\n",
       "    </tr>\n",
       "    <tr>\n",
       "      <th>1</th>\n",
       "      <td>Afghanistan</td>\n",
       "      <td>1</td>\n",
       "      <td>1228</td>\n",
       "    </tr>\n",
       "    <tr>\n",
       "      <th>2</th>\n",
       "      <td>Albania</td>\n",
       "      <td>0</td>\n",
       "      <td>80</td>\n",
       "    </tr>\n",
       "    <tr>\n",
       "      <th>3</th>\n",
       "      <td>Algeria</td>\n",
       "      <td>0</td>\n",
       "      <td>2710</td>\n",
       "    </tr>\n",
       "    <tr>\n",
       "      <th>4</th>\n",
       "      <td>Algeria</td>\n",
       "      <td>1</td>\n",
       "      <td>33</td>\n",
       "    </tr>\n",
       "    <tr>\n",
       "      <th>...</th>\n",
       "      <td>...</td>\n",
       "      <td>...</td>\n",
       "      <td>...</td>\n",
       "    </tr>\n",
       "    <tr>\n",
       "      <th>266</th>\n",
       "      <td>Yemen</td>\n",
       "      <td>1</td>\n",
       "      <td>220</td>\n",
       "    </tr>\n",
       "    <tr>\n",
       "      <th>267</th>\n",
       "      <td>Yugoslavia</td>\n",
       "      <td>0</td>\n",
       "      <td>203</td>\n",
       "    </tr>\n",
       "    <tr>\n",
       "      <th>268</th>\n",
       "      <td>Zaire</td>\n",
       "      <td>0</td>\n",
       "      <td>50</td>\n",
       "    </tr>\n",
       "    <tr>\n",
       "      <th>269</th>\n",
       "      <td>Zambia</td>\n",
       "      <td>0</td>\n",
       "      <td>62</td>\n",
       "    </tr>\n",
       "    <tr>\n",
       "      <th>270</th>\n",
       "      <td>Zimbabwe</td>\n",
       "      <td>0</td>\n",
       "      <td>101</td>\n",
       "    </tr>\n",
       "  </tbody>\n",
       "</table>\n",
       "<p>271 rows × 3 columns</p>\n",
       "</div>"
      ],
      "text/plain": [
       "     country_txt  suicide  AttaqueSuicidePays\n",
       "0    Afghanistan        0               11503\n",
       "1    Afghanistan        1                1228\n",
       "2        Albania        0                  80\n",
       "3        Algeria        0                2710\n",
       "4        Algeria        1                  33\n",
       "..           ...      ...                 ...\n",
       "266        Yemen        1                 220\n",
       "267   Yugoslavia        0                 203\n",
       "268        Zaire        0                  50\n",
       "269       Zambia        0                  62\n",
       "270     Zimbabwe        0                 101\n",
       "\n",
       "[271 rows x 3 columns]"
      ]
     },
     "execution_count": 34,
     "metadata": {},
     "output_type": "execute_result"
    }
   ],
   "source": [
    "attaque_suicide_pays=cleaned_data.groupby(['country_txt','suicide']).size().reset_index(name='AttaqueSuicidePays')\n",
    "attaque_suicide_pays"
   ]
  },
  {
   "cell_type": "code",
   "execution_count": 36,
   "metadata": {},
   "outputs": [
    {
     "data": {
      "text/html": [
       "<div>\n",
       "<style scoped>\n",
       "    .dataframe tbody tr th:only-of-type {\n",
       "        vertical-align: middle;\n",
       "    }\n",
       "\n",
       "    .dataframe tbody tr th {\n",
       "        vertical-align: top;\n",
       "    }\n",
       "\n",
       "    .dataframe thead th {\n",
       "        text-align: right;\n",
       "    }\n",
       "</style>\n",
       "<table border=\"1\" class=\"dataframe\">\n",
       "  <thead>\n",
       "    <tr style=\"text-align: right;\">\n",
       "      <th></th>\n",
       "      <th>country_txt</th>\n",
       "      <th>suicide</th>\n",
       "      <th>AttaqueSuicidePays</th>\n",
       "    </tr>\n",
       "  </thead>\n",
       "  <tbody>\n",
       "    <tr>\n",
       "      <th>1</th>\n",
       "      <td>Afghanistan</td>\n",
       "      <td>1</td>\n",
       "      <td>1228</td>\n",
       "    </tr>\n",
       "    <tr>\n",
       "      <th>4</th>\n",
       "      <td>Algeria</td>\n",
       "      <td>1</td>\n",
       "      <td>33</td>\n",
       "    </tr>\n",
       "    <tr>\n",
       "      <th>9</th>\n",
       "      <td>Argentina</td>\n",
       "      <td>1</td>\n",
       "      <td>2</td>\n",
       "    </tr>\n",
       "    <tr>\n",
       "      <th>12</th>\n",
       "      <td>Australia</td>\n",
       "      <td>1</td>\n",
       "      <td>1</td>\n",
       "    </tr>\n",
       "    <tr>\n",
       "      <th>15</th>\n",
       "      <td>Azerbaijan</td>\n",
       "      <td>1</td>\n",
       "      <td>1</td>\n",
       "    </tr>\n",
       "    <tr>\n",
       "      <th>...</th>\n",
       "      <td>...</td>\n",
       "      <td>...</td>\n",
       "      <td>...</td>\n",
       "    </tr>\n",
       "    <tr>\n",
       "      <th>250</th>\n",
       "      <td>United Kingdom</td>\n",
       "      <td>1</td>\n",
       "      <td>7</td>\n",
       "    </tr>\n",
       "    <tr>\n",
       "      <th>252</th>\n",
       "      <td>United States</td>\n",
       "      <td>1</td>\n",
       "      <td>14</td>\n",
       "    </tr>\n",
       "    <tr>\n",
       "      <th>255</th>\n",
       "      <td>Uzbekistan</td>\n",
       "      <td>1</td>\n",
       "      <td>6</td>\n",
       "    </tr>\n",
       "    <tr>\n",
       "      <th>262</th>\n",
       "      <td>West Bank and Gaza Strip</td>\n",
       "      <td>1</td>\n",
       "      <td>66</td>\n",
       "    </tr>\n",
       "    <tr>\n",
       "      <th>266</th>\n",
       "      <td>Yemen</td>\n",
       "      <td>1</td>\n",
       "      <td>220</td>\n",
       "    </tr>\n",
       "  </tbody>\n",
       "</table>\n",
       "<p>67 rows × 3 columns</p>\n",
       "</div>"
      ],
      "text/plain": [
       "                  country_txt  suicide  AttaqueSuicidePays\n",
       "1                 Afghanistan        1                1228\n",
       "4                     Algeria        1                  33\n",
       "9                   Argentina        1                   2\n",
       "12                  Australia        1                   1\n",
       "15                 Azerbaijan        1                   1\n",
       "..                        ...      ...                 ...\n",
       "250            United Kingdom        1                   7\n",
       "252             United States        1                  14\n",
       "255                Uzbekistan        1                   6\n",
       "262  West Bank and Gaza Strip        1                  66\n",
       "266                     Yemen        1                 220\n",
       "\n",
       "[67 rows x 3 columns]"
      ]
     },
     "execution_count": 36,
     "metadata": {},
     "output_type": "execute_result"
    }
   ],
   "source": [
    "attaque_suicide_pays=attaque_suicide_pays[attaque_suicide_pays['suicide'].isin([1])]\n",
    "attaque_suicide_pays"
   ]
  },
  {
   "cell_type": "code",
   "execution_count": 40,
   "metadata": {},
   "outputs": [
    {
     "data": {
      "application/vnd.plotly.v1+json": {
       "config": {
        "plotlyServerURL": "https://plot.ly"
       },
       "data": [
        {
         "alignmentgroup": "True",
         "hovertemplate": "country_txt=%{x}<br>AttaqueSuicidePays=%{y}<extra></extra>",
         "legendgroup": "Afghanistan",
         "marker": {
          "color": "#636efa",
          "pattern": {
           "shape": ""
          }
         },
         "name": "Afghanistan",
         "offsetgroup": "Afghanistan",
         "orientation": "v",
         "showlegend": true,
         "textposition": "auto",
         "type": "bar",
         "x": [
          "Afghanistan"
         ],
         "xaxis": "x",
         "y": [
          1228
         ],
         "yaxis": "y"
        },
        {
         "alignmentgroup": "True",
         "hovertemplate": "country_txt=%{x}<br>AttaqueSuicidePays=%{y}<extra></extra>",
         "legendgroup": "Algeria",
         "marker": {
          "color": "#EF553B",
          "pattern": {
           "shape": ""
          }
         },
         "name": "Algeria",
         "offsetgroup": "Algeria",
         "orientation": "v",
         "showlegend": true,
         "textposition": "auto",
         "type": "bar",
         "x": [
          "Algeria"
         ],
         "xaxis": "x",
         "y": [
          33
         ],
         "yaxis": "y"
        },
        {
         "alignmentgroup": "True",
         "hovertemplate": "country_txt=%{x}<br>AttaqueSuicidePays=%{y}<extra></extra>",
         "legendgroup": "Argentina",
         "marker": {
          "color": "#00cc96",
          "pattern": {
           "shape": ""
          }
         },
         "name": "Argentina",
         "offsetgroup": "Argentina",
         "orientation": "v",
         "showlegend": true,
         "textposition": "auto",
         "type": "bar",
         "x": [
          "Argentina"
         ],
         "xaxis": "x",
         "y": [
          2
         ],
         "yaxis": "y"
        },
        {
         "alignmentgroup": "True",
         "hovertemplate": "country_txt=%{x}<br>AttaqueSuicidePays=%{y}<extra></extra>",
         "legendgroup": "Australia",
         "marker": {
          "color": "#ab63fa",
          "pattern": {
           "shape": ""
          }
         },
         "name": "Australia",
         "offsetgroup": "Australia",
         "orientation": "v",
         "showlegend": true,
         "textposition": "auto",
         "type": "bar",
         "x": [
          "Australia"
         ],
         "xaxis": "x",
         "y": [
          1
         ],
         "yaxis": "y"
        },
        {
         "alignmentgroup": "True",
         "hovertemplate": "country_txt=%{x}<br>AttaqueSuicidePays=%{y}<extra></extra>",
         "legendgroup": "Azerbaijan",
         "marker": {
          "color": "#FFA15A",
          "pattern": {
           "shape": ""
          }
         },
         "name": "Azerbaijan",
         "offsetgroup": "Azerbaijan",
         "orientation": "v",
         "showlegend": true,
         "textposition": "auto",
         "type": "bar",
         "x": [
          "Azerbaijan"
         ],
         "xaxis": "x",
         "y": [
          1
         ],
         "yaxis": "y"
        },
        {
         "alignmentgroup": "True",
         "hovertemplate": "country_txt=%{x}<br>AttaqueSuicidePays=%{y}<extra></extra>",
         "legendgroup": "Bangladesh",
         "marker": {
          "color": "#19d3f3",
          "pattern": {
           "shape": ""
          }
         },
         "name": "Bangladesh",
         "offsetgroup": "Bangladesh",
         "orientation": "v",
         "showlegend": true,
         "textposition": "auto",
         "type": "bar",
         "x": [
          "Bangladesh"
         ],
         "xaxis": "x",
         "y": [
          13
         ],
         "yaxis": "y"
        },
        {
         "alignmentgroup": "True",
         "hovertemplate": "country_txt=%{x}<br>AttaqueSuicidePays=%{y}<extra></extra>",
         "legendgroup": "Belgium",
         "marker": {
          "color": "#FF6692",
          "pattern": {
           "shape": ""
          }
         },
         "name": "Belgium",
         "offsetgroup": "Belgium",
         "orientation": "v",
         "showlegend": true,
         "textposition": "auto",
         "type": "bar",
         "x": [
          "Belgium"
         ],
         "xaxis": "x",
         "y": [
          3
         ],
         "yaxis": "y"
        },
        {
         "alignmentgroup": "True",
         "hovertemplate": "country_txt=%{x}<br>AttaqueSuicidePays=%{y}<extra></extra>",
         "legendgroup": "Bulgaria",
         "marker": {
          "color": "#B6E880",
          "pattern": {
           "shape": ""
          }
         },
         "name": "Bulgaria",
         "offsetgroup": "Bulgaria",
         "orientation": "v",
         "showlegend": true,
         "textposition": "auto",
         "type": "bar",
         "x": [
          "Bulgaria"
         ],
         "xaxis": "x",
         "y": [
          1
         ],
         "yaxis": "y"
        },
        {
         "alignmentgroup": "True",
         "hovertemplate": "country_txt=%{x}<br>AttaqueSuicidePays=%{y}<extra></extra>",
         "legendgroup": "Cameroon",
         "marker": {
          "color": "#FF97FF",
          "pattern": {
           "shape": ""
          }
         },
         "name": "Cameroon",
         "offsetgroup": "Cameroon",
         "orientation": "v",
         "showlegend": true,
         "textposition": "auto",
         "type": "bar",
         "x": [
          "Cameroon"
         ],
         "xaxis": "x",
         "y": [
          88
         ],
         "yaxis": "y"
        },
        {
         "alignmentgroup": "True",
         "hovertemplate": "country_txt=%{x}<br>AttaqueSuicidePays=%{y}<extra></extra>",
         "legendgroup": "Canada",
         "marker": {
          "color": "#FECB52",
          "pattern": {
           "shape": ""
          }
         },
         "name": "Canada",
         "offsetgroup": "Canada",
         "orientation": "v",
         "showlegend": true,
         "textposition": "auto",
         "type": "bar",
         "x": [
          "Canada"
         ],
         "xaxis": "x",
         "y": [
          1
         ],
         "yaxis": "y"
        },
        {
         "alignmentgroup": "True",
         "hovertemplate": "country_txt=%{x}<br>AttaqueSuicidePays=%{y}<extra></extra>",
         "legendgroup": "Chad",
         "marker": {
          "color": "#636efa",
          "pattern": {
           "shape": ""
          }
         },
         "name": "Chad",
         "offsetgroup": "Chad",
         "orientation": "v",
         "showlegend": true,
         "textposition": "auto",
         "type": "bar",
         "x": [
          "Chad"
         ],
         "xaxis": "x",
         "y": [
          15
         ],
         "yaxis": "y"
        },
        {
         "alignmentgroup": "True",
         "hovertemplate": "country_txt=%{x}<br>AttaqueSuicidePays=%{y}<extra></extra>",
         "legendgroup": "China",
         "marker": {
          "color": "#EF553B",
          "pattern": {
           "shape": ""
          }
         },
         "name": "China",
         "offsetgroup": "China",
         "orientation": "v",
         "showlegend": true,
         "textposition": "auto",
         "type": "bar",
         "x": [
          "China"
         ],
         "xaxis": "x",
         "y": [
          17
         ],
         "yaxis": "y"
        },
        {
         "alignmentgroup": "True",
         "hovertemplate": "country_txt=%{x}<br>AttaqueSuicidePays=%{y}<extra></extra>",
         "legendgroup": "Colombia",
         "marker": {
          "color": "#00cc96",
          "pattern": {
           "shape": ""
          }
         },
         "name": "Colombia",
         "offsetgroup": "Colombia",
         "orientation": "v",
         "showlegend": true,
         "textposition": "auto",
         "type": "bar",
         "x": [
          "Colombia"
         ],
         "xaxis": "x",
         "y": [
          4
         ],
         "yaxis": "y"
        },
        {
         "alignmentgroup": "True",
         "hovertemplate": "country_txt=%{x}<br>AttaqueSuicidePays=%{y}<extra></extra>",
         "legendgroup": "Croatia",
         "marker": {
          "color": "#ab63fa",
          "pattern": {
           "shape": ""
          }
         },
         "name": "Croatia",
         "offsetgroup": "Croatia",
         "orientation": "v",
         "showlegend": true,
         "textposition": "auto",
         "type": "bar",
         "x": [
          "Croatia"
         ],
         "xaxis": "x",
         "y": [
          1
         ],
         "yaxis": "y"
        },
        {
         "alignmentgroup": "True",
         "hovertemplate": "country_txt=%{x}<br>AttaqueSuicidePays=%{y}<extra></extra>",
         "legendgroup": "Czech Republic",
         "marker": {
          "color": "#FFA15A",
          "pattern": {
           "shape": ""
          }
         },
         "name": "Czech Republic",
         "offsetgroup": "Czech Republic",
         "orientation": "v",
         "showlegend": true,
         "textposition": "auto",
         "type": "bar",
         "x": [
          "Czech Republic"
         ],
         "xaxis": "x",
         "y": [
          1
         ],
         "yaxis": "y"
        },
        {
         "alignmentgroup": "True",
         "hovertemplate": "country_txt=%{x}<br>AttaqueSuicidePays=%{y}<extra></extra>",
         "legendgroup": "Djibouti",
         "marker": {
          "color": "#19d3f3",
          "pattern": {
           "shape": ""
          }
         },
         "name": "Djibouti",
         "offsetgroup": "Djibouti",
         "orientation": "v",
         "showlegend": true,
         "textposition": "auto",
         "type": "bar",
         "x": [
          "Djibouti"
         ],
         "xaxis": "x",
         "y": [
          1
         ],
         "yaxis": "y"
        },
        {
         "alignmentgroup": "True",
         "hovertemplate": "country_txt=%{x}<br>AttaqueSuicidePays=%{y}<extra></extra>",
         "legendgroup": "Egypt",
         "marker": {
          "color": "#FF6692",
          "pattern": {
           "shape": ""
          }
         },
         "name": "Egypt",
         "offsetgroup": "Egypt",
         "orientation": "v",
         "showlegend": true,
         "textposition": "auto",
         "type": "bar",
         "x": [
          "Egypt"
         ],
         "xaxis": "x",
         "y": [
          62
         ],
         "yaxis": "y"
        },
        {
         "alignmentgroup": "True",
         "hovertemplate": "country_txt=%{x}<br>AttaqueSuicidePays=%{y}<extra></extra>",
         "legendgroup": "Ethiopia",
         "marker": {
          "color": "#B6E880",
          "pattern": {
           "shape": ""
          }
         },
         "name": "Ethiopia",
         "offsetgroup": "Ethiopia",
         "orientation": "v",
         "showlegend": true,
         "textposition": "auto",
         "type": "bar",
         "x": [
          "Ethiopia"
         ],
         "xaxis": "x",
         "y": [
          1
         ],
         "yaxis": "y"
        },
        {
         "alignmentgroup": "True",
         "hovertemplate": "country_txt=%{x}<br>AttaqueSuicidePays=%{y}<extra></extra>",
         "legendgroup": "Finland",
         "marker": {
          "color": "#FF97FF",
          "pattern": {
           "shape": ""
          }
         },
         "name": "Finland",
         "offsetgroup": "Finland",
         "orientation": "v",
         "showlegend": true,
         "textposition": "auto",
         "type": "bar",
         "x": [
          "Finland"
         ],
         "xaxis": "x",
         "y": [
          1
         ],
         "yaxis": "y"
        },
        {
         "alignmentgroup": "True",
         "hovertemplate": "country_txt=%{x}<br>AttaqueSuicidePays=%{y}<extra></extra>",
         "legendgroup": "France",
         "marker": {
          "color": "#FECB52",
          "pattern": {
           "shape": ""
          }
         },
         "name": "France",
         "offsetgroup": "France",
         "orientation": "v",
         "showlegend": true,
         "textposition": "auto",
         "type": "bar",
         "x": [
          "France"
         ],
         "xaxis": "x",
         "y": [
          7
         ],
         "yaxis": "y"
        },
        {
         "alignmentgroup": "True",
         "hovertemplate": "country_txt=%{x}<br>AttaqueSuicidePays=%{y}<extra></extra>",
         "legendgroup": "Germany",
         "marker": {
          "color": "#636efa",
          "pattern": {
           "shape": ""
          }
         },
         "name": "Germany",
         "offsetgroup": "Germany",
         "orientation": "v",
         "showlegend": true,
         "textposition": "auto",
         "type": "bar",
         "x": [
          "Germany"
         ],
         "xaxis": "x",
         "y": [
          1
         ],
         "yaxis": "y"
        },
        {
         "alignmentgroup": "True",
         "hovertemplate": "country_txt=%{x}<br>AttaqueSuicidePays=%{y}<extra></extra>",
         "legendgroup": "India",
         "marker": {
          "color": "#EF553B",
          "pattern": {
           "shape": ""
          }
         },
         "name": "India",
         "offsetgroup": "India",
         "orientation": "v",
         "showlegend": true,
         "textposition": "auto",
         "type": "bar",
         "x": [
          "India"
         ],
         "xaxis": "x",
         "y": [
          60
         ],
         "yaxis": "y"
        },
        {
         "alignmentgroup": "True",
         "hovertemplate": "country_txt=%{x}<br>AttaqueSuicidePays=%{y}<extra></extra>",
         "legendgroup": "Indonesia",
         "marker": {
          "color": "#00cc96",
          "pattern": {
           "shape": ""
          }
         },
         "name": "Indonesia",
         "offsetgroup": "Indonesia",
         "orientation": "v",
         "showlegend": true,
         "textposition": "auto",
         "type": "bar",
         "x": [
          "Indonesia"
         ],
         "xaxis": "x",
         "y": [
          18
         ],
         "yaxis": "y"
        },
        {
         "alignmentgroup": "True",
         "hovertemplate": "country_txt=%{x}<br>AttaqueSuicidePays=%{y}<extra></extra>",
         "legendgroup": "International",
         "marker": {
          "color": "#ab63fa",
          "pattern": {
           "shape": ""
          }
         },
         "name": "International",
         "offsetgroup": "International",
         "orientation": "v",
         "showlegend": true,
         "textposition": "auto",
         "type": "bar",
         "x": [
          "International"
         ],
         "xaxis": "x",
         "y": [
          1
         ],
         "yaxis": "y"
        },
        {
         "alignmentgroup": "True",
         "hovertemplate": "country_txt=%{x}<br>AttaqueSuicidePays=%{y}<extra></extra>",
         "legendgroup": "Iran",
         "marker": {
          "color": "#FFA15A",
          "pattern": {
           "shape": ""
          }
         },
         "name": "Iran",
         "offsetgroup": "Iran",
         "orientation": "v",
         "showlegend": true,
         "textposition": "auto",
         "type": "bar",
         "x": [
          "Iran"
         ],
         "xaxis": "x",
         "y": [
          10
         ],
         "yaxis": "y"
        },
        {
         "alignmentgroup": "True",
         "hovertemplate": "country_txt=%{x}<br>AttaqueSuicidePays=%{y}<extra></extra>",
         "legendgroup": "Iraq",
         "marker": {
          "color": "#19d3f3",
          "pattern": {
           "shape": ""
          }
         },
         "name": "Iraq",
         "offsetgroup": "Iraq",
         "orientation": "v",
         "showlegend": true,
         "textposition": "auto",
         "type": "bar",
         "x": [
          "Iraq"
         ],
         "xaxis": "x",
         "y": [
          2602
         ],
         "yaxis": "y"
        },
        {
         "alignmentgroup": "True",
         "hovertemplate": "country_txt=%{x}<br>AttaqueSuicidePays=%{y}<extra></extra>",
         "legendgroup": "Israel",
         "marker": {
          "color": "#FF6692",
          "pattern": {
           "shape": ""
          }
         },
         "name": "Israel",
         "offsetgroup": "Israel",
         "orientation": "v",
         "showlegend": true,
         "textposition": "auto",
         "type": "bar",
         "x": [
          "Israel"
         ],
         "xaxis": "x",
         "y": [
          130
         ],
         "yaxis": "y"
        },
        {
         "alignmentgroup": "True",
         "hovertemplate": "country_txt=%{x}<br>AttaqueSuicidePays=%{y}<extra></extra>",
         "legendgroup": "Italy",
         "marker": {
          "color": "#B6E880",
          "pattern": {
           "shape": ""
          }
         },
         "name": "Italy",
         "offsetgroup": "Italy",
         "orientation": "v",
         "showlegend": true,
         "textposition": "auto",
         "type": "bar",
         "x": [
          "Italy"
         ],
         "xaxis": "x",
         "y": [
          1
         ],
         "yaxis": "y"
        },
        {
         "alignmentgroup": "True",
         "hovertemplate": "country_txt=%{x}<br>AttaqueSuicidePays=%{y}<extra></extra>",
         "legendgroup": "Jordan",
         "marker": {
          "color": "#FF97FF",
          "pattern": {
           "shape": ""
          }
         },
         "name": "Jordan",
         "offsetgroup": "Jordan",
         "orientation": "v",
         "showlegend": true,
         "textposition": "auto",
         "type": "bar",
         "x": [
          "Jordan"
         ],
         "xaxis": "x",
         "y": [
          5
         ],
         "yaxis": "y"
        },
        {
         "alignmentgroup": "True",
         "hovertemplate": "country_txt=%{x}<br>AttaqueSuicidePays=%{y}<extra></extra>",
         "legendgroup": "Kazakhstan",
         "marker": {
          "color": "#FECB52",
          "pattern": {
           "shape": ""
          }
         },
         "name": "Kazakhstan",
         "offsetgroup": "Kazakhstan",
         "orientation": "v",
         "showlegend": true,
         "textposition": "auto",
         "type": "bar",
         "x": [
          "Kazakhstan"
         ],
         "xaxis": "x",
         "y": [
          2
         ],
         "yaxis": "y"
        },
        {
         "alignmentgroup": "True",
         "hovertemplate": "country_txt=%{x}<br>AttaqueSuicidePays=%{y}<extra></extra>",
         "legendgroup": "Kenya",
         "marker": {
          "color": "#636efa",
          "pattern": {
           "shape": ""
          }
         },
         "name": "Kenya",
         "offsetgroup": "Kenya",
         "orientation": "v",
         "showlegend": true,
         "textposition": "auto",
         "type": "bar",
         "x": [
          "Kenya"
         ],
         "xaxis": "x",
         "y": [
          6
         ],
         "yaxis": "y"
        },
        {
         "alignmentgroup": "True",
         "hovertemplate": "country_txt=%{x}<br>AttaqueSuicidePays=%{y}<extra></extra>",
         "legendgroup": "Kuwait",
         "marker": {
          "color": "#EF553B",
          "pattern": {
           "shape": ""
          }
         },
         "name": "Kuwait",
         "offsetgroup": "Kuwait",
         "orientation": "v",
         "showlegend": true,
         "textposition": "auto",
         "type": "bar",
         "x": [
          "Kuwait"
         ],
         "xaxis": "x",
         "y": [
          3
         ],
         "yaxis": "y"
        },
        {
         "alignmentgroup": "True",
         "hovertemplate": "country_txt=%{x}<br>AttaqueSuicidePays=%{y}<extra></extra>",
         "legendgroup": "Kyrgyzstan",
         "marker": {
          "color": "#00cc96",
          "pattern": {
           "shape": ""
          }
         },
         "name": "Kyrgyzstan",
         "offsetgroup": "Kyrgyzstan",
         "orientation": "v",
         "showlegend": true,
         "textposition": "auto",
         "type": "bar",
         "x": [
          "Kyrgyzstan"
         ],
         "xaxis": "x",
         "y": [
          1
         ],
         "yaxis": "y"
        },
        {
         "alignmentgroup": "True",
         "hovertemplate": "country_txt=%{x}<br>AttaqueSuicidePays=%{y}<extra></extra>",
         "legendgroup": "Lebanon",
         "marker": {
          "color": "#ab63fa",
          "pattern": {
           "shape": ""
          }
         },
         "name": "Lebanon",
         "offsetgroup": "Lebanon",
         "orientation": "v",
         "showlegend": true,
         "textposition": "auto",
         "type": "bar",
         "x": [
          "Lebanon"
         ],
         "xaxis": "x",
         "y": [
          65
         ],
         "yaxis": "y"
        },
        {
         "alignmentgroup": "True",
         "hovertemplate": "country_txt=%{x}<br>AttaqueSuicidePays=%{y}<extra></extra>",
         "legendgroup": "Libya",
         "marker": {
          "color": "#FFA15A",
          "pattern": {
           "shape": ""
          }
         },
         "name": "Libya",
         "offsetgroup": "Libya",
         "orientation": "v",
         "showlegend": true,
         "textposition": "auto",
         "type": "bar",
         "x": [
          "Libya"
         ],
         "xaxis": "x",
         "y": [
          109
         ],
         "yaxis": "y"
        },
        {
         "alignmentgroup": "True",
         "hovertemplate": "country_txt=%{x}<br>AttaqueSuicidePays=%{y}<extra></extra>",
         "legendgroup": "Mali",
         "marker": {
          "color": "#19d3f3",
          "pattern": {
           "shape": ""
          }
         },
         "name": "Mali",
         "offsetgroup": "Mali",
         "orientation": "v",
         "showlegend": true,
         "textposition": "auto",
         "type": "bar",
         "x": [
          "Mali"
         ],
         "xaxis": "x",
         "y": [
          32
         ],
         "yaxis": "y"
        },
        {
         "alignmentgroup": "True",
         "hovertemplate": "country_txt=%{x}<br>AttaqueSuicidePays=%{y}<extra></extra>",
         "legendgroup": "Mauritania",
         "marker": {
          "color": "#FF6692",
          "pattern": {
           "shape": ""
          }
         },
         "name": "Mauritania",
         "offsetgroup": "Mauritania",
         "orientation": "v",
         "showlegend": true,
         "textposition": "auto",
         "type": "bar",
         "x": [
          "Mauritania"
         ],
         "xaxis": "x",
         "y": [
          3
         ],
         "yaxis": "y"
        },
        {
         "alignmentgroup": "True",
         "hovertemplate": "country_txt=%{x}<br>AttaqueSuicidePays=%{y}<extra></extra>",
         "legendgroup": "Mexico",
         "marker": {
          "color": "#B6E880",
          "pattern": {
           "shape": ""
          }
         },
         "name": "Mexico",
         "offsetgroup": "Mexico",
         "orientation": "v",
         "showlegend": true,
         "textposition": "auto",
         "type": "bar",
         "x": [
          "Mexico"
         ],
         "xaxis": "x",
         "y": [
          1
         ],
         "yaxis": "y"
        },
        {
         "alignmentgroup": "True",
         "hovertemplate": "country_txt=%{x}<br>AttaqueSuicidePays=%{y}<extra></extra>",
         "legendgroup": "Morocco",
         "marker": {
          "color": "#FF97FF",
          "pattern": {
           "shape": ""
          }
         },
         "name": "Morocco",
         "offsetgroup": "Morocco",
         "orientation": "v",
         "showlegend": true,
         "textposition": "auto",
         "type": "bar",
         "x": [
          "Morocco"
         ],
         "xaxis": "x",
         "y": [
          11
         ],
         "yaxis": "y"
        },
        {
         "alignmentgroup": "True",
         "hovertemplate": "country_txt=%{x}<br>AttaqueSuicidePays=%{y}<extra></extra>",
         "legendgroup": "Myanmar",
         "marker": {
          "color": "#FECB52",
          "pattern": {
           "shape": ""
          }
         },
         "name": "Myanmar",
         "offsetgroup": "Myanmar",
         "orientation": "v",
         "showlegend": true,
         "textposition": "auto",
         "type": "bar",
         "x": [
          "Myanmar"
         ],
         "xaxis": "x",
         "y": [
          1
         ],
         "yaxis": "y"
        },
        {
         "alignmentgroup": "True",
         "hovertemplate": "country_txt=%{x}<br>AttaqueSuicidePays=%{y}<extra></extra>",
         "legendgroup": "Niger",
         "marker": {
          "color": "#636efa",
          "pattern": {
           "shape": ""
          }
         },
         "name": "Niger",
         "offsetgroup": "Niger",
         "orientation": "v",
         "showlegend": true,
         "textposition": "auto",
         "type": "bar",
         "x": [
          "Niger"
         ],
         "xaxis": "x",
         "y": [
          12
         ],
         "yaxis": "y"
        },
        {
         "alignmentgroup": "True",
         "hovertemplate": "country_txt=%{x}<br>AttaqueSuicidePays=%{y}<extra></extra>",
         "legendgroup": "Nigeria",
         "marker": {
          "color": "#EF553B",
          "pattern": {
           "shape": ""
          }
         },
         "name": "Nigeria",
         "offsetgroup": "Nigeria",
         "orientation": "v",
         "showlegend": true,
         "textposition": "auto",
         "type": "bar",
         "x": [
          "Nigeria"
         ],
         "xaxis": "x",
         "y": [
          389
         ],
         "yaxis": "y"
        },
        {
         "alignmentgroup": "True",
         "hovertemplate": "country_txt=%{x}<br>AttaqueSuicidePays=%{y}<extra></extra>",
         "legendgroup": "Pakistan",
         "marker": {
          "color": "#00cc96",
          "pattern": {
           "shape": ""
          }
         },
         "name": "Pakistan",
         "offsetgroup": "Pakistan",
         "orientation": "v",
         "showlegend": true,
         "textposition": "auto",
         "type": "bar",
         "x": [
          "Pakistan"
         ],
         "xaxis": "x",
         "y": [
          511
         ],
         "yaxis": "y"
        },
        {
         "alignmentgroup": "True",
         "hovertemplate": "country_txt=%{x}<br>AttaqueSuicidePays=%{y}<extra></extra>",
         "legendgroup": "Panama",
         "marker": {
          "color": "#ab63fa",
          "pattern": {
           "shape": ""
          }
         },
         "name": "Panama",
         "offsetgroup": "Panama",
         "orientation": "v",
         "showlegend": true,
         "textposition": "auto",
         "type": "bar",
         "x": [
          "Panama"
         ],
         "xaxis": "x",
         "y": [
          1
         ],
         "yaxis": "y"
        },
        {
         "alignmentgroup": "True",
         "hovertemplate": "country_txt=%{x}<br>AttaqueSuicidePays=%{y}<extra></extra>",
         "legendgroup": "Philippines",
         "marker": {
          "color": "#FFA15A",
          "pattern": {
           "shape": ""
          }
         },
         "name": "Philippines",
         "offsetgroup": "Philippines",
         "orientation": "v",
         "showlegend": true,
         "textposition": "auto",
         "type": "bar",
         "x": [
          "Philippines"
         ],
         "xaxis": "x",
         "y": [
          9
         ],
         "yaxis": "y"
        },
        {
         "alignmentgroup": "True",
         "hovertemplate": "country_txt=%{x}<br>AttaqueSuicidePays=%{y}<extra></extra>",
         "legendgroup": "Qatar",
         "marker": {
          "color": "#19d3f3",
          "pattern": {
           "shape": ""
          }
         },
         "name": "Qatar",
         "offsetgroup": "Qatar",
         "orientation": "v",
         "showlegend": true,
         "textposition": "auto",
         "type": "bar",
         "x": [
          "Qatar"
         ],
         "xaxis": "x",
         "y": [
          1
         ],
         "yaxis": "y"
        },
        {
         "alignmentgroup": "True",
         "hovertemplate": "country_txt=%{x}<br>AttaqueSuicidePays=%{y}<extra></extra>",
         "legendgroup": "Russia",
         "marker": {
          "color": "#FF6692",
          "pattern": {
           "shape": ""
          }
         },
         "name": "Russia",
         "offsetgroup": "Russia",
         "orientation": "v",
         "showlegend": true,
         "textposition": "auto",
         "type": "bar",
         "x": [
          "Russia"
         ],
         "xaxis": "x",
         "y": [
          86
         ],
         "yaxis": "y"
        },
        {
         "alignmentgroup": "True",
         "hovertemplate": "country_txt=%{x}<br>AttaqueSuicidePays=%{y}<extra></extra>",
         "legendgroup": "Saudi Arabia",
         "marker": {
          "color": "#B6E880",
          "pattern": {
           "shape": ""
          }
         },
         "name": "Saudi Arabia",
         "offsetgroup": "Saudi Arabia",
         "orientation": "v",
         "showlegend": true,
         "textposition": "auto",
         "type": "bar",
         "x": [
          "Saudi Arabia"
         ],
         "xaxis": "x",
         "y": [
          25
         ],
         "yaxis": "y"
        },
        {
         "alignmentgroup": "True",
         "hovertemplate": "country_txt=%{x}<br>AttaqueSuicidePays=%{y}<extra></extra>",
         "legendgroup": "Somalia",
         "marker": {
          "color": "#FF97FF",
          "pattern": {
           "shape": ""
          }
         },
         "name": "Somalia",
         "offsetgroup": "Somalia",
         "orientation": "v",
         "showlegend": true,
         "textposition": "auto",
         "type": "bar",
         "x": [
          "Somalia"
         ],
         "xaxis": "x",
         "y": [
          188
         ],
         "yaxis": "y"
        },
        {
         "alignmentgroup": "True",
         "hovertemplate": "country_txt=%{x}<br>AttaqueSuicidePays=%{y}<extra></extra>",
         "legendgroup": "South Africa",
         "marker": {
          "color": "#FECB52",
          "pattern": {
           "shape": ""
          }
         },
         "name": "South Africa",
         "offsetgroup": "South Africa",
         "orientation": "v",
         "showlegend": true,
         "textposition": "auto",
         "type": "bar",
         "x": [
          "South Africa"
         ],
         "xaxis": "x",
         "y": [
          1
         ],
         "yaxis": "y"
        },
        {
         "alignmentgroup": "True",
         "hovertemplate": "country_txt=%{x}<br>AttaqueSuicidePays=%{y}<extra></extra>",
         "legendgroup": "South Sudan",
         "marker": {
          "color": "#636efa",
          "pattern": {
           "shape": ""
          }
         },
         "name": "South Sudan",
         "offsetgroup": "South Sudan",
         "orientation": "v",
         "showlegend": true,
         "textposition": "auto",
         "type": "bar",
         "x": [
          "South Sudan"
         ],
         "xaxis": "x",
         "y": [
          1
         ],
         "yaxis": "y"
        },
        {
         "alignmentgroup": "True",
         "hovertemplate": "country_txt=%{x}<br>AttaqueSuicidePays=%{y}<extra></extra>",
         "legendgroup": "Spain",
         "marker": {
          "color": "#EF553B",
          "pattern": {
           "shape": ""
          }
         },
         "name": "Spain",
         "offsetgroup": "Spain",
         "orientation": "v",
         "showlegend": true,
         "textposition": "auto",
         "type": "bar",
         "x": [
          "Spain"
         ],
         "xaxis": "x",
         "y": [
          2
         ],
         "yaxis": "y"
        },
        {
         "alignmentgroup": "True",
         "hovertemplate": "country_txt=%{x}<br>AttaqueSuicidePays=%{y}<extra></extra>",
         "legendgroup": "Sri Lanka",
         "marker": {
          "color": "#00cc96",
          "pattern": {
           "shape": ""
          }
         },
         "name": "Sri Lanka",
         "offsetgroup": "Sri Lanka",
         "orientation": "v",
         "showlegend": true,
         "textposition": "auto",
         "type": "bar",
         "x": [
          "Sri Lanka"
         ],
         "xaxis": "x",
         "y": [
          114
         ],
         "yaxis": "y"
        },
        {
         "alignmentgroup": "True",
         "hovertemplate": "country_txt=%{x}<br>AttaqueSuicidePays=%{y}<extra></extra>",
         "legendgroup": "Sweden",
         "marker": {
          "color": "#ab63fa",
          "pattern": {
           "shape": ""
          }
         },
         "name": "Sweden",
         "offsetgroup": "Sweden",
         "orientation": "v",
         "showlegend": true,
         "textposition": "auto",
         "type": "bar",
         "x": [
          "Sweden"
         ],
         "xaxis": "x",
         "y": [
          1
         ],
         "yaxis": "y"
        },
        {
         "alignmentgroup": "True",
         "hovertemplate": "country_txt=%{x}<br>AttaqueSuicidePays=%{y}<extra></extra>",
         "legendgroup": "Syria",
         "marker": {
          "color": "#FFA15A",
          "pattern": {
           "shape": ""
          }
         },
         "name": "Syria",
         "offsetgroup": "Syria",
         "orientation": "v",
         "showlegend": true,
         "textposition": "auto",
         "type": "bar",
         "x": [
          "Syria"
         ],
         "xaxis": "x",
         "y": [
          344
         ],
         "yaxis": "y"
        },
        {
         "alignmentgroup": "True",
         "hovertemplate": "country_txt=%{x}<br>AttaqueSuicidePays=%{y}<extra></extra>",
         "legendgroup": "Tajikistan",
         "marker": {
          "color": "#19d3f3",
          "pattern": {
           "shape": ""
          }
         },
         "name": "Tajikistan",
         "offsetgroup": "Tajikistan",
         "orientation": "v",
         "showlegend": true,
         "textposition": "auto",
         "type": "bar",
         "x": [
          "Tajikistan"
         ],
         "xaxis": "x",
         "y": [
          1
         ],
         "yaxis": "y"
        },
        {
         "alignmentgroup": "True",
         "hovertemplate": "country_txt=%{x}<br>AttaqueSuicidePays=%{y}<extra></extra>",
         "legendgroup": "Tanzania",
         "marker": {
          "color": "#FF6692",
          "pattern": {
           "shape": ""
          }
         },
         "name": "Tanzania",
         "offsetgroup": "Tanzania",
         "orientation": "v",
         "showlegend": true,
         "textposition": "auto",
         "type": "bar",
         "x": [
          "Tanzania"
         ],
         "xaxis": "x",
         "y": [
          1
         ],
         "yaxis": "y"
        },
        {
         "alignmentgroup": "True",
         "hovertemplate": "country_txt=%{x}<br>AttaqueSuicidePays=%{y}<extra></extra>",
         "legendgroup": "Tunisia",
         "marker": {
          "color": "#B6E880",
          "pattern": {
           "shape": ""
          }
         },
         "name": "Tunisia",
         "offsetgroup": "Tunisia",
         "orientation": "v",
         "showlegend": true,
         "textposition": "auto",
         "type": "bar",
         "x": [
          "Tunisia"
         ],
         "xaxis": "x",
         "y": [
          8
         ],
         "yaxis": "y"
        },
        {
         "alignmentgroup": "True",
         "hovertemplate": "country_txt=%{x}<br>AttaqueSuicidePays=%{y}<extra></extra>",
         "legendgroup": "Turkey",
         "marker": {
          "color": "#FF97FF",
          "pattern": {
           "shape": ""
          }
         },
         "name": "Turkey",
         "offsetgroup": "Turkey",
         "orientation": "v",
         "showlegend": true,
         "textposition": "auto",
         "type": "bar",
         "x": [
          "Turkey"
         ],
         "xaxis": "x",
         "y": [
          76
         ],
         "yaxis": "y"
        },
        {
         "alignmentgroup": "True",
         "hovertemplate": "country_txt=%{x}<br>AttaqueSuicidePays=%{y}<extra></extra>",
         "legendgroup": "Uganda",
         "marker": {
          "color": "#FECB52",
          "pattern": {
           "shape": ""
          }
         },
         "name": "Uganda",
         "offsetgroup": "Uganda",
         "orientation": "v",
         "showlegend": true,
         "textposition": "auto",
         "type": "bar",
         "x": [
          "Uganda"
         ],
         "xaxis": "x",
         "y": [
          2
         ],
         "yaxis": "y"
        },
        {
         "alignmentgroup": "True",
         "hovertemplate": "country_txt=%{x}<br>AttaqueSuicidePays=%{y}<extra></extra>",
         "legendgroup": "Ukraine",
         "marker": {
          "color": "#636efa",
          "pattern": {
           "shape": ""
          }
         },
         "name": "Ukraine",
         "offsetgroup": "Ukraine",
         "orientation": "v",
         "showlegend": true,
         "textposition": "auto",
         "type": "bar",
         "x": [
          "Ukraine"
         ],
         "xaxis": "x",
         "y": [
          3
         ],
         "yaxis": "y"
        },
        {
         "alignmentgroup": "True",
         "hovertemplate": "country_txt=%{x}<br>AttaqueSuicidePays=%{y}<extra></extra>",
         "legendgroup": "United Arab Emirates",
         "marker": {
          "color": "#EF553B",
          "pattern": {
           "shape": ""
          }
         },
         "name": "United Arab Emirates",
         "offsetgroup": "United Arab Emirates",
         "orientation": "v",
         "showlegend": true,
         "textposition": "auto",
         "type": "bar",
         "x": [
          "United Arab Emirates"
         ],
         "xaxis": "x",
         "y": [
          1
         ],
         "yaxis": "y"
        },
        {
         "alignmentgroup": "True",
         "hovertemplate": "country_txt=%{x}<br>AttaqueSuicidePays=%{y}<extra></extra>",
         "legendgroup": "United Kingdom",
         "marker": {
          "color": "#00cc96",
          "pattern": {
           "shape": ""
          }
         },
         "name": "United Kingdom",
         "offsetgroup": "United Kingdom",
         "orientation": "v",
         "showlegend": true,
         "textposition": "auto",
         "type": "bar",
         "x": [
          "United Kingdom"
         ],
         "xaxis": "x",
         "y": [
          7
         ],
         "yaxis": "y"
        },
        {
         "alignmentgroup": "True",
         "hovertemplate": "country_txt=%{x}<br>AttaqueSuicidePays=%{y}<extra></extra>",
         "legendgroup": "United States",
         "marker": {
          "color": "#ab63fa",
          "pattern": {
           "shape": ""
          }
         },
         "name": "United States",
         "offsetgroup": "United States",
         "orientation": "v",
         "showlegend": true,
         "textposition": "auto",
         "type": "bar",
         "x": [
          "United States"
         ],
         "xaxis": "x",
         "y": [
          14
         ],
         "yaxis": "y"
        },
        {
         "alignmentgroup": "True",
         "hovertemplate": "country_txt=%{x}<br>AttaqueSuicidePays=%{y}<extra></extra>",
         "legendgroup": "Uzbekistan",
         "marker": {
          "color": "#FFA15A",
          "pattern": {
           "shape": ""
          }
         },
         "name": "Uzbekistan",
         "offsetgroup": "Uzbekistan",
         "orientation": "v",
         "showlegend": true,
         "textposition": "auto",
         "type": "bar",
         "x": [
          "Uzbekistan"
         ],
         "xaxis": "x",
         "y": [
          6
         ],
         "yaxis": "y"
        },
        {
         "alignmentgroup": "True",
         "hovertemplate": "country_txt=%{x}<br>AttaqueSuicidePays=%{y}<extra></extra>",
         "legendgroup": "West Bank and Gaza Strip",
         "marker": {
          "color": "#19d3f3",
          "pattern": {
           "shape": ""
          }
         },
         "name": "West Bank and Gaza Strip",
         "offsetgroup": "West Bank and Gaza Strip",
         "orientation": "v",
         "showlegend": true,
         "textposition": "auto",
         "type": "bar",
         "x": [
          "West Bank and Gaza Strip"
         ],
         "xaxis": "x",
         "y": [
          66
         ],
         "yaxis": "y"
        },
        {
         "alignmentgroup": "True",
         "hovertemplate": "country_txt=%{x}<br>AttaqueSuicidePays=%{y}<extra></extra>",
         "legendgroup": "Yemen",
         "marker": {
          "color": "#FF6692",
          "pattern": {
           "shape": ""
          }
         },
         "name": "Yemen",
         "offsetgroup": "Yemen",
         "orientation": "v",
         "showlegend": true,
         "textposition": "auto",
         "type": "bar",
         "x": [
          "Yemen"
         ],
         "xaxis": "x",
         "y": [
          220
         ],
         "yaxis": "y"
        }
       ],
       "layout": {
        "barmode": "relative",
        "legend": {
         "title": {
          "text": "country_txt"
         },
         "tracegroupgap": 0
        },
        "template": {
         "data": {
          "bar": [
           {
            "error_x": {
             "color": "#2a3f5f"
            },
            "error_y": {
             "color": "#2a3f5f"
            },
            "marker": {
             "line": {
              "color": "#E5ECF6",
              "width": 0.5
             },
             "pattern": {
              "fillmode": "overlay",
              "size": 10,
              "solidity": 0.2
             }
            },
            "type": "bar"
           }
          ],
          "barpolar": [
           {
            "marker": {
             "line": {
              "color": "#E5ECF6",
              "width": 0.5
             },
             "pattern": {
              "fillmode": "overlay",
              "size": 10,
              "solidity": 0.2
             }
            },
            "type": "barpolar"
           }
          ],
          "carpet": [
           {
            "aaxis": {
             "endlinecolor": "#2a3f5f",
             "gridcolor": "white",
             "linecolor": "white",
             "minorgridcolor": "white",
             "startlinecolor": "#2a3f5f"
            },
            "baxis": {
             "endlinecolor": "#2a3f5f",
             "gridcolor": "white",
             "linecolor": "white",
             "minorgridcolor": "white",
             "startlinecolor": "#2a3f5f"
            },
            "type": "carpet"
           }
          ],
          "choropleth": [
           {
            "colorbar": {
             "outlinewidth": 0,
             "ticks": ""
            },
            "type": "choropleth"
           }
          ],
          "contour": [
           {
            "colorbar": {
             "outlinewidth": 0,
             "ticks": ""
            },
            "colorscale": [
             [
              0,
              "#0d0887"
             ],
             [
              0.1111111111111111,
              "#46039f"
             ],
             [
              0.2222222222222222,
              "#7201a8"
             ],
             [
              0.3333333333333333,
              "#9c179e"
             ],
             [
              0.4444444444444444,
              "#bd3786"
             ],
             [
              0.5555555555555556,
              "#d8576b"
             ],
             [
              0.6666666666666666,
              "#ed7953"
             ],
             [
              0.7777777777777778,
              "#fb9f3a"
             ],
             [
              0.8888888888888888,
              "#fdca26"
             ],
             [
              1,
              "#f0f921"
             ]
            ],
            "type": "contour"
           }
          ],
          "contourcarpet": [
           {
            "colorbar": {
             "outlinewidth": 0,
             "ticks": ""
            },
            "type": "contourcarpet"
           }
          ],
          "heatmap": [
           {
            "colorbar": {
             "outlinewidth": 0,
             "ticks": ""
            },
            "colorscale": [
             [
              0,
              "#0d0887"
             ],
             [
              0.1111111111111111,
              "#46039f"
             ],
             [
              0.2222222222222222,
              "#7201a8"
             ],
             [
              0.3333333333333333,
              "#9c179e"
             ],
             [
              0.4444444444444444,
              "#bd3786"
             ],
             [
              0.5555555555555556,
              "#d8576b"
             ],
             [
              0.6666666666666666,
              "#ed7953"
             ],
             [
              0.7777777777777778,
              "#fb9f3a"
             ],
             [
              0.8888888888888888,
              "#fdca26"
             ],
             [
              1,
              "#f0f921"
             ]
            ],
            "type": "heatmap"
           }
          ],
          "heatmapgl": [
           {
            "colorbar": {
             "outlinewidth": 0,
             "ticks": ""
            },
            "colorscale": [
             [
              0,
              "#0d0887"
             ],
             [
              0.1111111111111111,
              "#46039f"
             ],
             [
              0.2222222222222222,
              "#7201a8"
             ],
             [
              0.3333333333333333,
              "#9c179e"
             ],
             [
              0.4444444444444444,
              "#bd3786"
             ],
             [
              0.5555555555555556,
              "#d8576b"
             ],
             [
              0.6666666666666666,
              "#ed7953"
             ],
             [
              0.7777777777777778,
              "#fb9f3a"
             ],
             [
              0.8888888888888888,
              "#fdca26"
             ],
             [
              1,
              "#f0f921"
             ]
            ],
            "type": "heatmapgl"
           }
          ],
          "histogram": [
           {
            "marker": {
             "pattern": {
              "fillmode": "overlay",
              "size": 10,
              "solidity": 0.2
             }
            },
            "type": "histogram"
           }
          ],
          "histogram2d": [
           {
            "colorbar": {
             "outlinewidth": 0,
             "ticks": ""
            },
            "colorscale": [
             [
              0,
              "#0d0887"
             ],
             [
              0.1111111111111111,
              "#46039f"
             ],
             [
              0.2222222222222222,
              "#7201a8"
             ],
             [
              0.3333333333333333,
              "#9c179e"
             ],
             [
              0.4444444444444444,
              "#bd3786"
             ],
             [
              0.5555555555555556,
              "#d8576b"
             ],
             [
              0.6666666666666666,
              "#ed7953"
             ],
             [
              0.7777777777777778,
              "#fb9f3a"
             ],
             [
              0.8888888888888888,
              "#fdca26"
             ],
             [
              1,
              "#f0f921"
             ]
            ],
            "type": "histogram2d"
           }
          ],
          "histogram2dcontour": [
           {
            "colorbar": {
             "outlinewidth": 0,
             "ticks": ""
            },
            "colorscale": [
             [
              0,
              "#0d0887"
             ],
             [
              0.1111111111111111,
              "#46039f"
             ],
             [
              0.2222222222222222,
              "#7201a8"
             ],
             [
              0.3333333333333333,
              "#9c179e"
             ],
             [
              0.4444444444444444,
              "#bd3786"
             ],
             [
              0.5555555555555556,
              "#d8576b"
             ],
             [
              0.6666666666666666,
              "#ed7953"
             ],
             [
              0.7777777777777778,
              "#fb9f3a"
             ],
             [
              0.8888888888888888,
              "#fdca26"
             ],
             [
              1,
              "#f0f921"
             ]
            ],
            "type": "histogram2dcontour"
           }
          ],
          "mesh3d": [
           {
            "colorbar": {
             "outlinewidth": 0,
             "ticks": ""
            },
            "type": "mesh3d"
           }
          ],
          "parcoords": [
           {
            "line": {
             "colorbar": {
              "outlinewidth": 0,
              "ticks": ""
             }
            },
            "type": "parcoords"
           }
          ],
          "pie": [
           {
            "automargin": true,
            "type": "pie"
           }
          ],
          "scatter": [
           {
            "fillpattern": {
             "fillmode": "overlay",
             "size": 10,
             "solidity": 0.2
            },
            "type": "scatter"
           }
          ],
          "scatter3d": [
           {
            "line": {
             "colorbar": {
              "outlinewidth": 0,
              "ticks": ""
             }
            },
            "marker": {
             "colorbar": {
              "outlinewidth": 0,
              "ticks": ""
             }
            },
            "type": "scatter3d"
           }
          ],
          "scattercarpet": [
           {
            "marker": {
             "colorbar": {
              "outlinewidth": 0,
              "ticks": ""
             }
            },
            "type": "scattercarpet"
           }
          ],
          "scattergeo": [
           {
            "marker": {
             "colorbar": {
              "outlinewidth": 0,
              "ticks": ""
             }
            },
            "type": "scattergeo"
           }
          ],
          "scattergl": [
           {
            "marker": {
             "colorbar": {
              "outlinewidth": 0,
              "ticks": ""
             }
            },
            "type": "scattergl"
           }
          ],
          "scattermapbox": [
           {
            "marker": {
             "colorbar": {
              "outlinewidth": 0,
              "ticks": ""
             }
            },
            "type": "scattermapbox"
           }
          ],
          "scatterpolar": [
           {
            "marker": {
             "colorbar": {
              "outlinewidth": 0,
              "ticks": ""
             }
            },
            "type": "scatterpolar"
           }
          ],
          "scatterpolargl": [
           {
            "marker": {
             "colorbar": {
              "outlinewidth": 0,
              "ticks": ""
             }
            },
            "type": "scatterpolargl"
           }
          ],
          "scatterternary": [
           {
            "marker": {
             "colorbar": {
              "outlinewidth": 0,
              "ticks": ""
             }
            },
            "type": "scatterternary"
           }
          ],
          "surface": [
           {
            "colorbar": {
             "outlinewidth": 0,
             "ticks": ""
            },
            "colorscale": [
             [
              0,
              "#0d0887"
             ],
             [
              0.1111111111111111,
              "#46039f"
             ],
             [
              0.2222222222222222,
              "#7201a8"
             ],
             [
              0.3333333333333333,
              "#9c179e"
             ],
             [
              0.4444444444444444,
              "#bd3786"
             ],
             [
              0.5555555555555556,
              "#d8576b"
             ],
             [
              0.6666666666666666,
              "#ed7953"
             ],
             [
              0.7777777777777778,
              "#fb9f3a"
             ],
             [
              0.8888888888888888,
              "#fdca26"
             ],
             [
              1,
              "#f0f921"
             ]
            ],
            "type": "surface"
           }
          ],
          "table": [
           {
            "cells": {
             "fill": {
              "color": "#EBF0F8"
             },
             "line": {
              "color": "white"
             }
            },
            "header": {
             "fill": {
              "color": "#C8D4E3"
             },
             "line": {
              "color": "white"
             }
            },
            "type": "table"
           }
          ]
         },
         "layout": {
          "annotationdefaults": {
           "arrowcolor": "#2a3f5f",
           "arrowhead": 0,
           "arrowwidth": 1
          },
          "autotypenumbers": "strict",
          "coloraxis": {
           "colorbar": {
            "outlinewidth": 0,
            "ticks": ""
           }
          },
          "colorscale": {
           "diverging": [
            [
             0,
             "#8e0152"
            ],
            [
             0.1,
             "#c51b7d"
            ],
            [
             0.2,
             "#de77ae"
            ],
            [
             0.3,
             "#f1b6da"
            ],
            [
             0.4,
             "#fde0ef"
            ],
            [
             0.5,
             "#f7f7f7"
            ],
            [
             0.6,
             "#e6f5d0"
            ],
            [
             0.7,
             "#b8e186"
            ],
            [
             0.8,
             "#7fbc41"
            ],
            [
             0.9,
             "#4d9221"
            ],
            [
             1,
             "#276419"
            ]
           ],
           "sequential": [
            [
             0,
             "#0d0887"
            ],
            [
             0.1111111111111111,
             "#46039f"
            ],
            [
             0.2222222222222222,
             "#7201a8"
            ],
            [
             0.3333333333333333,
             "#9c179e"
            ],
            [
             0.4444444444444444,
             "#bd3786"
            ],
            [
             0.5555555555555556,
             "#d8576b"
            ],
            [
             0.6666666666666666,
             "#ed7953"
            ],
            [
             0.7777777777777778,
             "#fb9f3a"
            ],
            [
             0.8888888888888888,
             "#fdca26"
            ],
            [
             1,
             "#f0f921"
            ]
           ],
           "sequentialminus": [
            [
             0,
             "#0d0887"
            ],
            [
             0.1111111111111111,
             "#46039f"
            ],
            [
             0.2222222222222222,
             "#7201a8"
            ],
            [
             0.3333333333333333,
             "#9c179e"
            ],
            [
             0.4444444444444444,
             "#bd3786"
            ],
            [
             0.5555555555555556,
             "#d8576b"
            ],
            [
             0.6666666666666666,
             "#ed7953"
            ],
            [
             0.7777777777777778,
             "#fb9f3a"
            ],
            [
             0.8888888888888888,
             "#fdca26"
            ],
            [
             1,
             "#f0f921"
            ]
           ]
          },
          "colorway": [
           "#636efa",
           "#EF553B",
           "#00cc96",
           "#ab63fa",
           "#FFA15A",
           "#19d3f3",
           "#FF6692",
           "#B6E880",
           "#FF97FF",
           "#FECB52"
          ],
          "font": {
           "color": "#2a3f5f"
          },
          "geo": {
           "bgcolor": "white",
           "lakecolor": "white",
           "landcolor": "#E5ECF6",
           "showlakes": true,
           "showland": true,
           "subunitcolor": "white"
          },
          "hoverlabel": {
           "align": "left"
          },
          "hovermode": "closest",
          "mapbox": {
           "style": "light"
          },
          "paper_bgcolor": "white",
          "plot_bgcolor": "#E5ECF6",
          "polar": {
           "angularaxis": {
            "gridcolor": "white",
            "linecolor": "white",
            "ticks": ""
           },
           "bgcolor": "#E5ECF6",
           "radialaxis": {
            "gridcolor": "white",
            "linecolor": "white",
            "ticks": ""
           }
          },
          "scene": {
           "xaxis": {
            "backgroundcolor": "#E5ECF6",
            "gridcolor": "white",
            "gridwidth": 2,
            "linecolor": "white",
            "showbackground": true,
            "ticks": "",
            "zerolinecolor": "white"
           },
           "yaxis": {
            "backgroundcolor": "#E5ECF6",
            "gridcolor": "white",
            "gridwidth": 2,
            "linecolor": "white",
            "showbackground": true,
            "ticks": "",
            "zerolinecolor": "white"
           },
           "zaxis": {
            "backgroundcolor": "#E5ECF6",
            "gridcolor": "white",
            "gridwidth": 2,
            "linecolor": "white",
            "showbackground": true,
            "ticks": "",
            "zerolinecolor": "white"
           }
          },
          "shapedefaults": {
           "line": {
            "color": "#2a3f5f"
           }
          },
          "ternary": {
           "aaxis": {
            "gridcolor": "white",
            "linecolor": "white",
            "ticks": ""
           },
           "baxis": {
            "gridcolor": "white",
            "linecolor": "white",
            "ticks": ""
           },
           "bgcolor": "#E5ECF6",
           "caxis": {
            "gridcolor": "white",
            "linecolor": "white",
            "ticks": ""
           }
          },
          "title": {
           "x": 0.05
          },
          "xaxis": {
           "automargin": true,
           "gridcolor": "white",
           "linecolor": "white",
           "ticks": "",
           "title": {
            "standoff": 15
           },
           "zerolinecolor": "white",
           "zerolinewidth": 2
          },
          "yaxis": {
           "automargin": true,
           "gridcolor": "white",
           "linecolor": "white",
           "ticks": "",
           "title": {
            "standoff": 15
           },
           "zerolinecolor": "white",
           "zerolinewidth": 2
          }
         }
        },
        "title": {
         "text": " Diagramme en barre de la répartition géographique du nombre d’attaques terroristes accompagnés de suicide par pays"
        },
        "xaxis": {
         "anchor": "y",
         "categoryarray": [
          "Afghanistan",
          "Algeria",
          "Argentina",
          "Australia",
          "Azerbaijan",
          "Bangladesh",
          "Belgium",
          "Bulgaria",
          "Cameroon",
          "Canada",
          "Chad",
          "China",
          "Colombia",
          "Croatia",
          "Czech Republic",
          "Djibouti",
          "Egypt",
          "Ethiopia",
          "Finland",
          "France",
          "Germany",
          "India",
          "Indonesia",
          "International",
          "Iran",
          "Iraq",
          "Israel",
          "Italy",
          "Jordan",
          "Kazakhstan",
          "Kenya",
          "Kuwait",
          "Kyrgyzstan",
          "Lebanon",
          "Libya",
          "Mali",
          "Mauritania",
          "Mexico",
          "Morocco",
          "Myanmar",
          "Niger",
          "Nigeria",
          "Pakistan",
          "Panama",
          "Philippines",
          "Qatar",
          "Russia",
          "Saudi Arabia",
          "Somalia",
          "South Africa",
          "South Sudan",
          "Spain",
          "Sri Lanka",
          "Sweden",
          "Syria",
          "Tajikistan",
          "Tanzania",
          "Tunisia",
          "Turkey",
          "Uganda",
          "Ukraine",
          "United Arab Emirates",
          "United Kingdom",
          "United States",
          "Uzbekistan",
          "West Bank and Gaza Strip",
          "Yemen"
         ],
         "categoryorder": "array",
         "domain": [
          0,
          1
         ],
         "title": {
          "text": "country_txt"
         }
        },
        "yaxis": {
         "anchor": "x",
         "domain": [
          0,
          1
         ],
         "title": {
          "text": "AttaqueSuicidePays"
         }
        }
       }
      }
     },
     "metadata": {},
     "output_type": "display_data"
    }
   ],
   "source": [
    "bar_fig3=px.bar(attaque_suicide_pays,x='country_txt',y='AttaqueSuicidePays',color='country_txt',title=\" Diagramme en barre de la répartition géographique du nombre d’attaques terroristes accompagnés de suicide par pays\")\n",
    "bar_fig3.show()"
   ]
  },
  {
   "cell_type": "markdown",
   "metadata": {},
   "source": [
    "Visualiser la répartition géographique du nombre d’attaques avec demande de rançons par pays"
   ]
  },
  {
   "cell_type": "code",
   "execution_count": 37,
   "metadata": {},
   "outputs": [
    {
     "data": {
      "text/html": [
       "<div>\n",
       "<style scoped>\n",
       "    .dataframe tbody tr th:only-of-type {\n",
       "        vertical-align: middle;\n",
       "    }\n",
       "\n",
       "    .dataframe tbody tr th {\n",
       "        vertical-align: top;\n",
       "    }\n",
       "\n",
       "    .dataframe thead th {\n",
       "        text-align: right;\n",
       "    }\n",
       "</style>\n",
       "<table border=\"1\" class=\"dataframe\">\n",
       "  <thead>\n",
       "    <tr style=\"text-align: right;\">\n",
       "      <th></th>\n",
       "      <th>country_txt</th>\n",
       "      <th>ransompaid</th>\n",
       "      <th>AttaqueRanconPays</th>\n",
       "    </tr>\n",
       "  </thead>\n",
       "  <tbody>\n",
       "    <tr>\n",
       "      <th>2</th>\n",
       "      <td>Afghanistan</td>\n",
       "      <td>4314.00</td>\n",
       "      <td>1</td>\n",
       "    </tr>\n",
       "    <tr>\n",
       "      <th>3</th>\n",
       "      <td>Afghanistan</td>\n",
       "      <td>10000.00</td>\n",
       "      <td>1</td>\n",
       "    </tr>\n",
       "    <tr>\n",
       "      <th>4</th>\n",
       "      <td>Afghanistan</td>\n",
       "      <td>38169.76</td>\n",
       "      <td>1</td>\n",
       "    </tr>\n",
       "    <tr>\n",
       "      <th>8</th>\n",
       "      <td>Algeria</td>\n",
       "      <td>66000.00</td>\n",
       "      <td>1</td>\n",
       "    </tr>\n",
       "    <tr>\n",
       "      <th>9</th>\n",
       "      <td>Algeria</td>\n",
       "      <td>78600.00</td>\n",
       "      <td>1</td>\n",
       "    </tr>\n",
       "    <tr>\n",
       "      <th>...</th>\n",
       "      <td>...</td>\n",
       "      <td>...</td>\n",
       "      <td>...</td>\n",
       "    </tr>\n",
       "    <tr>\n",
       "      <th>425</th>\n",
       "      <td>Venezuela</td>\n",
       "      <td>1400000.00</td>\n",
       "      <td>1</td>\n",
       "    </tr>\n",
       "    <tr>\n",
       "      <th>426</th>\n",
       "      <td>Venezuela</td>\n",
       "      <td>2000000.00</td>\n",
       "      <td>1</td>\n",
       "    </tr>\n",
       "    <tr>\n",
       "      <th>431</th>\n",
       "      <td>West Germany (FRG)</td>\n",
       "      <td>40000.00</td>\n",
       "      <td>1</td>\n",
       "    </tr>\n",
       "    <tr>\n",
       "      <th>435</th>\n",
       "      <td>Yemen</td>\n",
       "      <td>237262.20</td>\n",
       "      <td>1</td>\n",
       "    </tr>\n",
       "    <tr>\n",
       "      <th>436</th>\n",
       "      <td>Yemen</td>\n",
       "      <td>1000000.00</td>\n",
       "      <td>1</td>\n",
       "    </tr>\n",
       "  </tbody>\n",
       "</table>\n",
       "<p>195 rows × 3 columns</p>\n",
       "</div>"
      ],
      "text/plain": [
       "            country_txt  ransompaid  AttaqueRanconPays\n",
       "2           Afghanistan     4314.00                  1\n",
       "3           Afghanistan    10000.00                  1\n",
       "4           Afghanistan    38169.76                  1\n",
       "8               Algeria    66000.00                  1\n",
       "9               Algeria    78600.00                  1\n",
       "..                  ...         ...                ...\n",
       "425           Venezuela  1400000.00                  1\n",
       "426           Venezuela  2000000.00                  1\n",
       "431  West Germany (FRG)    40000.00                  1\n",
       "435               Yemen   237262.20                  1\n",
       "436               Yemen  1000000.00                  1\n",
       "\n",
       "[195 rows x 3 columns]"
      ]
     },
     "execution_count": 37,
     "metadata": {},
     "output_type": "execute_result"
    }
   ],
   "source": [
    "attaque_ranc_pays=cleaned_data.groupby(['country_txt','ransompaid']).size().reset_index(name='AttaqueRanconPays')\n",
    "\n",
    "attaque_ranc_pays=attaque_ranc_pays[attaque_ranc_pays['ransompaid']>0]\n",
    "\n",
    "attaque_ranc_pays"
   ]
  },
  {
   "cell_type": "code",
   "execution_count": 38,
   "metadata": {},
   "outputs": [
    {
     "data": {
      "application/vnd.plotly.v1+json": {
       "config": {
        "plotlyServerURL": "https://plot.ly"
       },
       "data": [
        {
         "alignmentgroup": "True",
         "hovertemplate": "country_txt=%{x}<br>AttaqueRanconPays=%{y}<extra></extra>",
         "legendgroup": "Afghanistan",
         "marker": {
          "color": "#636efa",
          "pattern": {
           "shape": ""
          }
         },
         "name": "Afghanistan",
         "offsetgroup": "Afghanistan",
         "orientation": "v",
         "showlegend": true,
         "textposition": "auto",
         "type": "bar",
         "x": [
          "Afghanistan",
          "Afghanistan",
          "Afghanistan"
         ],
         "xaxis": "x",
         "y": [
          1,
          1,
          1
         ],
         "yaxis": "y"
        },
        {
         "alignmentgroup": "True",
         "hovertemplate": "country_txt=%{x}<br>AttaqueRanconPays=%{y}<extra></extra>",
         "legendgroup": "Algeria",
         "marker": {
          "color": "#EF553B",
          "pattern": {
           "shape": ""
          }
         },
         "name": "Algeria",
         "offsetgroup": "Algeria",
         "orientation": "v",
         "showlegend": true,
         "textposition": "auto",
         "type": "bar",
         "x": [
          "Algeria",
          "Algeria",
          "Algeria",
          "Algeria",
          "Algeria"
         ],
         "xaxis": "x",
         "y": [
          1,
          1,
          1,
          3,
          1
         ],
         "yaxis": "y"
        },
        {
         "alignmentgroup": "True",
         "hovertemplate": "country_txt=%{x}<br>AttaqueRanconPays=%{y}<extra></extra>",
         "legendgroup": "Argentina",
         "marker": {
          "color": "#00cc96",
          "pattern": {
           "shape": ""
          }
         },
         "name": "Argentina",
         "offsetgroup": "Argentina",
         "orientation": "v",
         "showlegend": true,
         "textposition": "auto",
         "type": "bar",
         "x": [
          "Argentina",
          "Argentina",
          "Argentina",
          "Argentina",
          "Argentina",
          "Argentina",
          "Argentina",
          "Argentina",
          "Argentina"
         ],
         "xaxis": "x",
         "y": [
          1,
          2,
          1,
          1,
          1,
          2,
          1,
          1,
          1
         ],
         "yaxis": "y"
        },
        {
         "alignmentgroup": "True",
         "hovertemplate": "country_txt=%{x}<br>AttaqueRanconPays=%{y}<extra></extra>",
         "legendgroup": "Austria",
         "marker": {
          "color": "#ab63fa",
          "pattern": {
           "shape": ""
          }
         },
         "name": "Austria",
         "offsetgroup": "Austria",
         "orientation": "v",
         "showlegend": true,
         "textposition": "auto",
         "type": "bar",
         "x": [
          "Austria"
         ],
         "xaxis": "x",
         "y": [
          1
         ],
         "yaxis": "y"
        },
        {
         "alignmentgroup": "True",
         "hovertemplate": "country_txt=%{x}<br>AttaqueRanconPays=%{y}<extra></extra>",
         "legendgroup": "Bangladesh",
         "marker": {
          "color": "#FFA15A",
          "pattern": {
           "shape": ""
          }
         },
         "name": "Bangladesh",
         "offsetgroup": "Bangladesh",
         "orientation": "v",
         "showlegend": true,
         "textposition": "auto",
         "type": "bar",
         "x": [
          "Bangladesh"
         ],
         "xaxis": "x",
         "y": [
          1
         ],
         "yaxis": "y"
        },
        {
         "alignmentgroup": "True",
         "hovertemplate": "country_txt=%{x}<br>AttaqueRanconPays=%{y}<extra></extra>",
         "legendgroup": "Belgium",
         "marker": {
          "color": "#19d3f3",
          "pattern": {
           "shape": ""
          }
         },
         "name": "Belgium",
         "offsetgroup": "Belgium",
         "orientation": "v",
         "showlegend": true,
         "textposition": "auto",
         "type": "bar",
         "x": [
          "Belgium",
          "Belgium"
         ],
         "xaxis": "x",
         "y": [
          1,
          1
         ],
         "yaxis": "y"
        },
        {
         "alignmentgroup": "True",
         "hovertemplate": "country_txt=%{x}<br>AttaqueRanconPays=%{y}<extra></extra>",
         "legendgroup": "Cambodia",
         "marker": {
          "color": "#FF6692",
          "pattern": {
           "shape": ""
          }
         },
         "name": "Cambodia",
         "offsetgroup": "Cambodia",
         "orientation": "v",
         "showlegend": true,
         "textposition": "auto",
         "type": "bar",
         "x": [
          "Cambodia",
          "Cambodia",
          "Cambodia"
         ],
         "xaxis": "x",
         "y": [
          1,
          1,
          1
         ],
         "yaxis": "y"
        },
        {
         "alignmentgroup": "True",
         "hovertemplate": "country_txt=%{x}<br>AttaqueRanconPays=%{y}<extra></extra>",
         "legendgroup": "Cameroon",
         "marker": {
          "color": "#B6E880",
          "pattern": {
           "shape": ""
          }
         },
         "name": "Cameroon",
         "offsetgroup": "Cameroon",
         "orientation": "v",
         "showlegend": true,
         "textposition": "auto",
         "type": "bar",
         "x": [
          "Cameroon"
         ],
         "xaxis": "x",
         "y": [
          1
         ],
         "yaxis": "y"
        },
        {
         "alignmentgroup": "True",
         "hovertemplate": "country_txt=%{x}<br>AttaqueRanconPays=%{y}<extra></extra>",
         "legendgroup": "Colombia",
         "marker": {
          "color": "#FF97FF",
          "pattern": {
           "shape": ""
          }
         },
         "name": "Colombia",
         "offsetgroup": "Colombia",
         "orientation": "v",
         "showlegend": true,
         "textposition": "auto",
         "type": "bar",
         "x": [
          "Colombia",
          "Colombia",
          "Colombia",
          "Colombia",
          "Colombia",
          "Colombia",
          "Colombia",
          "Colombia",
          "Colombia",
          "Colombia",
          "Colombia",
          "Colombia",
          "Colombia",
          "Colombia",
          "Colombia",
          "Colombia",
          "Colombia",
          "Colombia",
          "Colombia"
         ],
         "xaxis": "x",
         "y": [
          1,
          1,
          1,
          1,
          1,
          1,
          1,
          1,
          1,
          1,
          1,
          1,
          1,
          1,
          1,
          1,
          1,
          1,
          1
         ],
         "yaxis": "y"
        },
        {
         "alignmentgroup": "True",
         "hovertemplate": "country_txt=%{x}<br>AttaqueRanconPays=%{y}<extra></extra>",
         "legendgroup": "Democratic Republic of the Congo",
         "marker": {
          "color": "#FECB52",
          "pattern": {
           "shape": ""
          }
         },
         "name": "Democratic Republic of the Congo",
         "offsetgroup": "Democratic Republic of the Congo",
         "orientation": "v",
         "showlegend": true,
         "textposition": "auto",
         "type": "bar",
         "x": [
          "Democratic Republic of the Congo"
         ],
         "xaxis": "x",
         "y": [
          1
         ],
         "yaxis": "y"
        },
        {
         "alignmentgroup": "True",
         "hovertemplate": "country_txt=%{x}<br>AttaqueRanconPays=%{y}<extra></extra>",
         "legendgroup": "Ecuador",
         "marker": {
          "color": "#636efa",
          "pattern": {
           "shape": ""
          }
         },
         "name": "Ecuador",
         "offsetgroup": "Ecuador",
         "orientation": "v",
         "showlegend": true,
         "textposition": "auto",
         "type": "bar",
         "x": [
          "Ecuador"
         ],
         "xaxis": "x",
         "y": [
          1
         ],
         "yaxis": "y"
        },
        {
         "alignmentgroup": "True",
         "hovertemplate": "country_txt=%{x}<br>AttaqueRanconPays=%{y}<extra></extra>",
         "legendgroup": "Egypt",
         "marker": {
          "color": "#EF553B",
          "pattern": {
           "shape": ""
          }
         },
         "name": "Egypt",
         "offsetgroup": "Egypt",
         "orientation": "v",
         "showlegend": true,
         "textposition": "auto",
         "type": "bar",
         "x": [
          "Egypt",
          "Egypt",
          "Egypt"
         ],
         "xaxis": "x",
         "y": [
          1,
          1,
          1
         ],
         "yaxis": "y"
        },
        {
         "alignmentgroup": "True",
         "hovertemplate": "country_txt=%{x}<br>AttaqueRanconPays=%{y}<extra></extra>",
         "legendgroup": "France",
         "marker": {
          "color": "#00cc96",
          "pattern": {
           "shape": ""
          }
         },
         "name": "France",
         "offsetgroup": "France",
         "orientation": "v",
         "showlegend": true,
         "textposition": "auto",
         "type": "bar",
         "x": [
          "France",
          "France"
         ],
         "xaxis": "x",
         "y": [
          1,
          1
         ],
         "yaxis": "y"
        },
        {
         "alignmentgroup": "True",
         "hovertemplate": "country_txt=%{x}<br>AttaqueRanconPays=%{y}<extra></extra>",
         "legendgroup": "Germany",
         "marker": {
          "color": "#ab63fa",
          "pattern": {
           "shape": ""
          }
         },
         "name": "Germany",
         "offsetgroup": "Germany",
         "orientation": "v",
         "showlegend": true,
         "textposition": "auto",
         "type": "bar",
         "x": [
          "Germany",
          "Germany"
         ],
         "xaxis": "x",
         "y": [
          1,
          1
         ],
         "yaxis": "y"
        },
        {
         "alignmentgroup": "True",
         "hovertemplate": "country_txt=%{x}<br>AttaqueRanconPays=%{y}<extra></extra>",
         "legendgroup": "Greece",
         "marker": {
          "color": "#FFA15A",
          "pattern": {
           "shape": ""
          }
         },
         "name": "Greece",
         "offsetgroup": "Greece",
         "orientation": "v",
         "showlegend": true,
         "textposition": "auto",
         "type": "bar",
         "x": [
          "Greece"
         ],
         "xaxis": "x",
         "y": [
          1
         ],
         "yaxis": "y"
        },
        {
         "alignmentgroup": "True",
         "hovertemplate": "country_txt=%{x}<br>AttaqueRanconPays=%{y}<extra></extra>",
         "legendgroup": "Guatemala",
         "marker": {
          "color": "#19d3f3",
          "pattern": {
           "shape": ""
          }
         },
         "name": "Guatemala",
         "offsetgroup": "Guatemala",
         "orientation": "v",
         "showlegend": true,
         "textposition": "auto",
         "type": "bar",
         "x": [
          "Guatemala"
         ],
         "xaxis": "x",
         "y": [
          1
         ],
         "yaxis": "y"
        },
        {
         "alignmentgroup": "True",
         "hovertemplate": "country_txt=%{x}<br>AttaqueRanconPays=%{y}<extra></extra>",
         "legendgroup": "Guyana",
         "marker": {
          "color": "#FF6692",
          "pattern": {
           "shape": ""
          }
         },
         "name": "Guyana",
         "offsetgroup": "Guyana",
         "orientation": "v",
         "showlegend": true,
         "textposition": "auto",
         "type": "bar",
         "x": [
          "Guyana"
         ],
         "xaxis": "x",
         "y": [
          1
         ],
         "yaxis": "y"
        },
        {
         "alignmentgroup": "True",
         "hovertemplate": "country_txt=%{x}<br>AttaqueRanconPays=%{y}<extra></extra>",
         "legendgroup": "India",
         "marker": {
          "color": "#B6E880",
          "pattern": {
           "shape": ""
          }
         },
         "name": "India",
         "offsetgroup": "India",
         "orientation": "v",
         "showlegend": true,
         "textposition": "auto",
         "type": "bar",
         "x": [
          "India",
          "India",
          "India",
          "India",
          "India",
          "India",
          "India",
          "India",
          "India",
          "India",
          "India"
         ],
         "xaxis": "x",
         "y": [
          1,
          1,
          1,
          1,
          1,
          1,
          1,
          1,
          1,
          1,
          1
         ],
         "yaxis": "y"
        },
        {
         "alignmentgroup": "True",
         "hovertemplate": "country_txt=%{x}<br>AttaqueRanconPays=%{y}<extra></extra>",
         "legendgroup": "Iraq",
         "marker": {
          "color": "#FF97FF",
          "pattern": {
           "shape": ""
          }
         },
         "name": "Iraq",
         "offsetgroup": "Iraq",
         "orientation": "v",
         "showlegend": true,
         "textposition": "auto",
         "type": "bar",
         "x": [
          "Iraq",
          "Iraq",
          "Iraq"
         ],
         "xaxis": "x",
         "y": [
          1,
          2,
          1
         ],
         "yaxis": "y"
        },
        {
         "alignmentgroup": "True",
         "hovertemplate": "country_txt=%{x}<br>AttaqueRanconPays=%{y}<extra></extra>",
         "legendgroup": "Ireland",
         "marker": {
          "color": "#FECB52",
          "pattern": {
           "shape": ""
          }
         },
         "name": "Ireland",
         "offsetgroup": "Ireland",
         "orientation": "v",
         "showlegend": true,
         "textposition": "auto",
         "type": "bar",
         "x": [
          "Ireland"
         ],
         "xaxis": "x",
         "y": [
          1
         ],
         "yaxis": "y"
        },
        {
         "alignmentgroup": "True",
         "hovertemplate": "country_txt=%{x}<br>AttaqueRanconPays=%{y}<extra></extra>",
         "legendgroup": "Italy",
         "marker": {
          "color": "#636efa",
          "pattern": {
           "shape": ""
          }
         },
         "name": "Italy",
         "offsetgroup": "Italy",
         "orientation": "v",
         "showlegend": true,
         "textposition": "auto",
         "type": "bar",
         "x": [
          "Italy",
          "Italy",
          "Italy",
          "Italy",
          "Italy"
         ],
         "xaxis": "x",
         "y": [
          1,
          1,
          1,
          1,
          1
         ],
         "yaxis": "y"
        },
        {
         "alignmentgroup": "True",
         "hovertemplate": "country_txt=%{x}<br>AttaqueRanconPays=%{y}<extra></extra>",
         "legendgroup": "Kenya",
         "marker": {
          "color": "#EF553B",
          "pattern": {
           "shape": ""
          }
         },
         "name": "Kenya",
         "offsetgroup": "Kenya",
         "orientation": "v",
         "showlegend": true,
         "textposition": "auto",
         "type": "bar",
         "x": [
          "Kenya"
         ],
         "xaxis": "x",
         "y": [
          1
         ],
         "yaxis": "y"
        },
        {
         "alignmentgroup": "True",
         "hovertemplate": "country_txt=%{x}<br>AttaqueRanconPays=%{y}<extra></extra>",
         "legendgroup": "Lebanon",
         "marker": {
          "color": "#00cc96",
          "pattern": {
           "shape": ""
          }
         },
         "name": "Lebanon",
         "offsetgroup": "Lebanon",
         "orientation": "v",
         "showlegend": true,
         "textposition": "auto",
         "type": "bar",
         "x": [
          "Lebanon"
         ],
         "xaxis": "x",
         "y": [
          1
         ],
         "yaxis": "y"
        },
        {
         "alignmentgroup": "True",
         "hovertemplate": "country_txt=%{x}<br>AttaqueRanconPays=%{y}<extra></extra>",
         "legendgroup": "Libya",
         "marker": {
          "color": "#ab63fa",
          "pattern": {
           "shape": ""
          }
         },
         "name": "Libya",
         "offsetgroup": "Libya",
         "orientation": "v",
         "showlegend": true,
         "textposition": "auto",
         "type": "bar",
         "x": [
          "Libya",
          "Libya"
         ],
         "xaxis": "x",
         "y": [
          1,
          1
         ],
         "yaxis": "y"
        },
        {
         "alignmentgroup": "True",
         "hovertemplate": "country_txt=%{x}<br>AttaqueRanconPays=%{y}<extra></extra>",
         "legendgroup": "Malaysia",
         "marker": {
          "color": "#FFA15A",
          "pattern": {
           "shape": ""
          }
         },
         "name": "Malaysia",
         "offsetgroup": "Malaysia",
         "orientation": "v",
         "showlegend": true,
         "textposition": "auto",
         "type": "bar",
         "x": [
          "Malaysia",
          "Malaysia",
          "Malaysia",
          "Malaysia",
          "Malaysia"
         ],
         "xaxis": "x",
         "y": [
          1,
          1,
          1,
          1,
          1
         ],
         "yaxis": "y"
        },
        {
         "alignmentgroup": "True",
         "hovertemplate": "country_txt=%{x}<br>AttaqueRanconPays=%{y}<extra></extra>",
         "legendgroup": "Mali",
         "marker": {
          "color": "#19d3f3",
          "pattern": {
           "shape": ""
          }
         },
         "name": "Mali",
         "offsetgroup": "Mali",
         "orientation": "v",
         "showlegend": true,
         "textposition": "auto",
         "type": "bar",
         "x": [
          "Mali",
          "Mali"
         ],
         "xaxis": "x",
         "y": [
          1,
          1
         ],
         "yaxis": "y"
        },
        {
         "alignmentgroup": "True",
         "hovertemplate": "country_txt=%{x}<br>AttaqueRanconPays=%{y}<extra></extra>",
         "legendgroup": "Mexico",
         "marker": {
          "color": "#FF6692",
          "pattern": {
           "shape": ""
          }
         },
         "name": "Mexico",
         "offsetgroup": "Mexico",
         "orientation": "v",
         "showlegend": true,
         "textposition": "auto",
         "type": "bar",
         "x": [
          "Mexico",
          "Mexico",
          "Mexico",
          "Mexico",
          "Mexico",
          "Mexico",
          "Mexico",
          "Mexico",
          "Mexico",
          "Mexico",
          "Mexico",
          "Mexico",
          "Mexico",
          "Mexico",
          "Mexico"
         ],
         "xaxis": "x",
         "y": [
          1,
          1,
          1,
          1,
          1,
          2,
          1,
          1,
          1,
          1,
          1,
          1,
          1,
          1,
          1
         ],
         "yaxis": "y"
        },
        {
         "alignmentgroup": "True",
         "hovertemplate": "country_txt=%{x}<br>AttaqueRanconPays=%{y}<extra></extra>",
         "legendgroup": "Myanmar",
         "marker": {
          "color": "#B6E880",
          "pattern": {
           "shape": ""
          }
         },
         "name": "Myanmar",
         "offsetgroup": "Myanmar",
         "orientation": "v",
         "showlegend": true,
         "textposition": "auto",
         "type": "bar",
         "x": [
          "Myanmar"
         ],
         "xaxis": "x",
         "y": [
          1
         ],
         "yaxis": "y"
        },
        {
         "alignmentgroup": "True",
         "hovertemplate": "country_txt=%{x}<br>AttaqueRanconPays=%{y}<extra></extra>",
         "legendgroup": "Nicaragua",
         "marker": {
          "color": "#FF97FF",
          "pattern": {
           "shape": ""
          }
         },
         "name": "Nicaragua",
         "offsetgroup": "Nicaragua",
         "orientation": "v",
         "showlegend": true,
         "textposition": "auto",
         "type": "bar",
         "x": [
          "Nicaragua",
          "Nicaragua",
          "Nicaragua"
         ],
         "xaxis": "x",
         "y": [
          1,
          1,
          1
         ],
         "yaxis": "y"
        },
        {
         "alignmentgroup": "True",
         "hovertemplate": "country_txt=%{x}<br>AttaqueRanconPays=%{y}<extra></extra>",
         "legendgroup": "Nigeria",
         "marker": {
          "color": "#FECB52",
          "pattern": {
           "shape": ""
          }
         },
         "name": "Nigeria",
         "offsetgroup": "Nigeria",
         "orientation": "v",
         "showlegend": true,
         "textposition": "auto",
         "type": "bar",
         "x": [
          "Nigeria",
          "Nigeria",
          "Nigeria",
          "Nigeria",
          "Nigeria",
          "Nigeria",
          "Nigeria",
          "Nigeria",
          "Nigeria",
          "Nigeria",
          "Nigeria",
          "Nigeria"
         ],
         "xaxis": "x",
         "y": [
          1,
          1,
          1,
          1,
          1,
          1,
          1,
          1,
          1,
          1,
          1,
          1
         ],
         "yaxis": "y"
        },
        {
         "alignmentgroup": "True",
         "hovertemplate": "country_txt=%{x}<br>AttaqueRanconPays=%{y}<extra></extra>",
         "legendgroup": "Pakistan",
         "marker": {
          "color": "#636efa",
          "pattern": {
           "shape": ""
          }
         },
         "name": "Pakistan",
         "offsetgroup": "Pakistan",
         "orientation": "v",
         "showlegend": true,
         "textposition": "auto",
         "type": "bar",
         "x": [
          "Pakistan",
          "Pakistan",
          "Pakistan",
          "Pakistan",
          "Pakistan",
          "Pakistan",
          "Pakistan",
          "Pakistan"
         ],
         "xaxis": "x",
         "y": [
          1,
          1,
          1,
          1,
          1,
          1,
          1,
          1
         ],
         "yaxis": "y"
        },
        {
         "alignmentgroup": "True",
         "hovertemplate": "country_txt=%{x}<br>AttaqueRanconPays=%{y}<extra></extra>",
         "legendgroup": "Paraguay",
         "marker": {
          "color": "#EF553B",
          "pattern": {
           "shape": ""
          }
         },
         "name": "Paraguay",
         "offsetgroup": "Paraguay",
         "orientation": "v",
         "showlegend": true,
         "textposition": "auto",
         "type": "bar",
         "x": [
          "Paraguay",
          "Paraguay",
          "Paraguay"
         ],
         "xaxis": "x",
         "y": [
          1,
          3,
          1
         ],
         "yaxis": "y"
        },
        {
         "alignmentgroup": "True",
         "hovertemplate": "country_txt=%{x}<br>AttaqueRanconPays=%{y}<extra></extra>",
         "legendgroup": "Peru",
         "marker": {
          "color": "#00cc96",
          "pattern": {
           "shape": ""
          }
         },
         "name": "Peru",
         "offsetgroup": "Peru",
         "orientation": "v",
         "showlegend": true,
         "textposition": "auto",
         "type": "bar",
         "x": [
          "Peru"
         ],
         "xaxis": "x",
         "y": [
          1
         ],
         "yaxis": "y"
        },
        {
         "alignmentgroup": "True",
         "hovertemplate": "country_txt=%{x}<br>AttaqueRanconPays=%{y}<extra></extra>",
         "legendgroup": "Philippines",
         "marker": {
          "color": "#ab63fa",
          "pattern": {
           "shape": ""
          }
         },
         "name": "Philippines",
         "offsetgroup": "Philippines",
         "orientation": "v",
         "showlegend": true,
         "textposition": "auto",
         "type": "bar",
         "x": [
          "Philippines",
          "Philippines",
          "Philippines",
          "Philippines",
          "Philippines",
          "Philippines",
          "Philippines",
          "Philippines",
          "Philippines",
          "Philippines",
          "Philippines",
          "Philippines",
          "Philippines",
          "Philippines",
          "Philippines",
          "Philippines",
          "Philippines",
          "Philippines",
          "Philippines",
          "Philippines",
          "Philippines",
          "Philippines",
          "Philippines",
          "Philippines",
          "Philippines",
          "Philippines",
          "Philippines",
          "Philippines",
          "Philippines",
          "Philippines",
          "Philippines",
          "Philippines"
         ],
         "xaxis": "x",
         "y": [
          1,
          1,
          1,
          1,
          1,
          1,
          1,
          1,
          1,
          1,
          1,
          1,
          1,
          1,
          1,
          1,
          1,
          1,
          1,
          4,
          1,
          1,
          1,
          1,
          1,
          1,
          1,
          1,
          1,
          1,
          1,
          1
         ],
         "yaxis": "y"
        },
        {
         "alignmentgroup": "True",
         "hovertemplate": "country_txt=%{x}<br>AttaqueRanconPays=%{y}<extra></extra>",
         "legendgroup": "Russia",
         "marker": {
          "color": "#FFA15A",
          "pattern": {
           "shape": ""
          }
         },
         "name": "Russia",
         "offsetgroup": "Russia",
         "orientation": "v",
         "showlegend": true,
         "textposition": "auto",
         "type": "bar",
         "x": [
          "Russia",
          "Russia"
         ],
         "xaxis": "x",
         "y": [
          1,
          1
         ],
         "yaxis": "y"
        },
        {
         "alignmentgroup": "True",
         "hovertemplate": "country_txt=%{x}<br>AttaqueRanconPays=%{y}<extra></extra>",
         "legendgroup": "Somalia",
         "marker": {
          "color": "#19d3f3",
          "pattern": {
           "shape": ""
          }
         },
         "name": "Somalia",
         "offsetgroup": "Somalia",
         "orientation": "v",
         "showlegend": true,
         "textposition": "auto",
         "type": "bar",
         "x": [
          "Somalia",
          "Somalia",
          "Somalia",
          "Somalia"
         ],
         "xaxis": "x",
         "y": [
          1,
          1,
          1,
          1
         ],
         "yaxis": "y"
        },
        {
         "alignmentgroup": "True",
         "hovertemplate": "country_txt=%{x}<br>AttaqueRanconPays=%{y}<extra></extra>",
         "legendgroup": "Spain",
         "marker": {
          "color": "#FF6692",
          "pattern": {
           "shape": ""
          }
         },
         "name": "Spain",
         "offsetgroup": "Spain",
         "orientation": "v",
         "showlegend": true,
         "textposition": "auto",
         "type": "bar",
         "x": [
          "Spain",
          "Spain",
          "Spain",
          "Spain",
          "Spain",
          "Spain",
          "Spain",
          "Spain"
         ],
         "xaxis": "x",
         "y": [
          1,
          1,
          1,
          1,
          1,
          1,
          1,
          1
         ],
         "yaxis": "y"
        },
        {
         "alignmentgroup": "True",
         "hovertemplate": "country_txt=%{x}<br>AttaqueRanconPays=%{y}<extra></extra>",
         "legendgroup": "Sudan",
         "marker": {
          "color": "#B6E880",
          "pattern": {
           "shape": ""
          }
         },
         "name": "Sudan",
         "offsetgroup": "Sudan",
         "orientation": "v",
         "showlegend": true,
         "textposition": "auto",
         "type": "bar",
         "x": [
          "Sudan",
          "Sudan",
          "Sudan"
         ],
         "xaxis": "x",
         "y": [
          1,
          1,
          1
         ],
         "yaxis": "y"
        },
        {
         "alignmentgroup": "True",
         "hovertemplate": "country_txt=%{x}<br>AttaqueRanconPays=%{y}<extra></extra>",
         "legendgroup": "Syria",
         "marker": {
          "color": "#FF97FF",
          "pattern": {
           "shape": ""
          }
         },
         "name": "Syria",
         "offsetgroup": "Syria",
         "orientation": "v",
         "showlegend": true,
         "textposition": "auto",
         "type": "bar",
         "x": [
          "Syria"
         ],
         "xaxis": "x",
         "y": [
          1
         ],
         "yaxis": "y"
        },
        {
         "alignmentgroup": "True",
         "hovertemplate": "country_txt=%{x}<br>AttaqueRanconPays=%{y}<extra></extra>",
         "legendgroup": "United Kingdom",
         "marker": {
          "color": "#FECB52",
          "pattern": {
           "shape": ""
          }
         },
         "name": "United Kingdom",
         "offsetgroup": "United Kingdom",
         "orientation": "v",
         "showlegend": true,
         "textposition": "auto",
         "type": "bar",
         "x": [
          "United Kingdom"
         ],
         "xaxis": "x",
         "y": [
          1
         ],
         "yaxis": "y"
        },
        {
         "alignmentgroup": "True",
         "hovertemplate": "country_txt=%{x}<br>AttaqueRanconPays=%{y}<extra></extra>",
         "legendgroup": "Uruguay",
         "marker": {
          "color": "#636efa",
          "pattern": {
           "shape": ""
          }
         },
         "name": "Uruguay",
         "offsetgroup": "Uruguay",
         "orientation": "v",
         "showlegend": true,
         "textposition": "auto",
         "type": "bar",
         "x": [
          "Uruguay"
         ],
         "xaxis": "x",
         "y": [
          1
         ],
         "yaxis": "y"
        },
        {
         "alignmentgroup": "True",
         "hovertemplate": "country_txt=%{x}<br>AttaqueRanconPays=%{y}<extra></extra>",
         "legendgroup": "Venezuela",
         "marker": {
          "color": "#EF553B",
          "pattern": {
           "shape": ""
          }
         },
         "name": "Venezuela",
         "offsetgroup": "Venezuela",
         "orientation": "v",
         "showlegend": true,
         "textposition": "auto",
         "type": "bar",
         "x": [
          "Venezuela",
          "Venezuela",
          "Venezuela",
          "Venezuela",
          "Venezuela",
          "Venezuela",
          "Venezuela",
          "Venezuela",
          "Venezuela",
          "Venezuela"
         ],
         "xaxis": "x",
         "y": [
          1,
          1,
          1,
          1,
          1,
          1,
          1,
          1,
          1,
          1
         ],
         "yaxis": "y"
        },
        {
         "alignmentgroup": "True",
         "hovertemplate": "country_txt=%{x}<br>AttaqueRanconPays=%{y}<extra></extra>",
         "legendgroup": "West Germany (FRG)",
         "marker": {
          "color": "#00cc96",
          "pattern": {
           "shape": ""
          }
         },
         "name": "West Germany (FRG)",
         "offsetgroup": "West Germany (FRG)",
         "orientation": "v",
         "showlegend": true,
         "textposition": "auto",
         "type": "bar",
         "x": [
          "West Germany (FRG)"
         ],
         "xaxis": "x",
         "y": [
          1
         ],
         "yaxis": "y"
        },
        {
         "alignmentgroup": "True",
         "hovertemplate": "country_txt=%{x}<br>AttaqueRanconPays=%{y}<extra></extra>",
         "legendgroup": "Yemen",
         "marker": {
          "color": "#ab63fa",
          "pattern": {
           "shape": ""
          }
         },
         "name": "Yemen",
         "offsetgroup": "Yemen",
         "orientation": "v",
         "showlegend": true,
         "textposition": "auto",
         "type": "bar",
         "x": [
          "Yemen",
          "Yemen"
         ],
         "xaxis": "x",
         "y": [
          1,
          1
         ],
         "yaxis": "y"
        }
       ],
       "layout": {
        "barmode": "relative",
        "legend": {
         "title": {
          "text": "country_txt"
         },
         "tracegroupgap": 0
        },
        "template": {
         "data": {
          "bar": [
           {
            "error_x": {
             "color": "#2a3f5f"
            },
            "error_y": {
             "color": "#2a3f5f"
            },
            "marker": {
             "line": {
              "color": "#E5ECF6",
              "width": 0.5
             },
             "pattern": {
              "fillmode": "overlay",
              "size": 10,
              "solidity": 0.2
             }
            },
            "type": "bar"
           }
          ],
          "barpolar": [
           {
            "marker": {
             "line": {
              "color": "#E5ECF6",
              "width": 0.5
             },
             "pattern": {
              "fillmode": "overlay",
              "size": 10,
              "solidity": 0.2
             }
            },
            "type": "barpolar"
           }
          ],
          "carpet": [
           {
            "aaxis": {
             "endlinecolor": "#2a3f5f",
             "gridcolor": "white",
             "linecolor": "white",
             "minorgridcolor": "white",
             "startlinecolor": "#2a3f5f"
            },
            "baxis": {
             "endlinecolor": "#2a3f5f",
             "gridcolor": "white",
             "linecolor": "white",
             "minorgridcolor": "white",
             "startlinecolor": "#2a3f5f"
            },
            "type": "carpet"
           }
          ],
          "choropleth": [
           {
            "colorbar": {
             "outlinewidth": 0,
             "ticks": ""
            },
            "type": "choropleth"
           }
          ],
          "contour": [
           {
            "colorbar": {
             "outlinewidth": 0,
             "ticks": ""
            },
            "colorscale": [
             [
              0,
              "#0d0887"
             ],
             [
              0.1111111111111111,
              "#46039f"
             ],
             [
              0.2222222222222222,
              "#7201a8"
             ],
             [
              0.3333333333333333,
              "#9c179e"
             ],
             [
              0.4444444444444444,
              "#bd3786"
             ],
             [
              0.5555555555555556,
              "#d8576b"
             ],
             [
              0.6666666666666666,
              "#ed7953"
             ],
             [
              0.7777777777777778,
              "#fb9f3a"
             ],
             [
              0.8888888888888888,
              "#fdca26"
             ],
             [
              1,
              "#f0f921"
             ]
            ],
            "type": "contour"
           }
          ],
          "contourcarpet": [
           {
            "colorbar": {
             "outlinewidth": 0,
             "ticks": ""
            },
            "type": "contourcarpet"
           }
          ],
          "heatmap": [
           {
            "colorbar": {
             "outlinewidth": 0,
             "ticks": ""
            },
            "colorscale": [
             [
              0,
              "#0d0887"
             ],
             [
              0.1111111111111111,
              "#46039f"
             ],
             [
              0.2222222222222222,
              "#7201a8"
             ],
             [
              0.3333333333333333,
              "#9c179e"
             ],
             [
              0.4444444444444444,
              "#bd3786"
             ],
             [
              0.5555555555555556,
              "#d8576b"
             ],
             [
              0.6666666666666666,
              "#ed7953"
             ],
             [
              0.7777777777777778,
              "#fb9f3a"
             ],
             [
              0.8888888888888888,
              "#fdca26"
             ],
             [
              1,
              "#f0f921"
             ]
            ],
            "type": "heatmap"
           }
          ],
          "heatmapgl": [
           {
            "colorbar": {
             "outlinewidth": 0,
             "ticks": ""
            },
            "colorscale": [
             [
              0,
              "#0d0887"
             ],
             [
              0.1111111111111111,
              "#46039f"
             ],
             [
              0.2222222222222222,
              "#7201a8"
             ],
             [
              0.3333333333333333,
              "#9c179e"
             ],
             [
              0.4444444444444444,
              "#bd3786"
             ],
             [
              0.5555555555555556,
              "#d8576b"
             ],
             [
              0.6666666666666666,
              "#ed7953"
             ],
             [
              0.7777777777777778,
              "#fb9f3a"
             ],
             [
              0.8888888888888888,
              "#fdca26"
             ],
             [
              1,
              "#f0f921"
             ]
            ],
            "type": "heatmapgl"
           }
          ],
          "histogram": [
           {
            "marker": {
             "pattern": {
              "fillmode": "overlay",
              "size": 10,
              "solidity": 0.2
             }
            },
            "type": "histogram"
           }
          ],
          "histogram2d": [
           {
            "colorbar": {
             "outlinewidth": 0,
             "ticks": ""
            },
            "colorscale": [
             [
              0,
              "#0d0887"
             ],
             [
              0.1111111111111111,
              "#46039f"
             ],
             [
              0.2222222222222222,
              "#7201a8"
             ],
             [
              0.3333333333333333,
              "#9c179e"
             ],
             [
              0.4444444444444444,
              "#bd3786"
             ],
             [
              0.5555555555555556,
              "#d8576b"
             ],
             [
              0.6666666666666666,
              "#ed7953"
             ],
             [
              0.7777777777777778,
              "#fb9f3a"
             ],
             [
              0.8888888888888888,
              "#fdca26"
             ],
             [
              1,
              "#f0f921"
             ]
            ],
            "type": "histogram2d"
           }
          ],
          "histogram2dcontour": [
           {
            "colorbar": {
             "outlinewidth": 0,
             "ticks": ""
            },
            "colorscale": [
             [
              0,
              "#0d0887"
             ],
             [
              0.1111111111111111,
              "#46039f"
             ],
             [
              0.2222222222222222,
              "#7201a8"
             ],
             [
              0.3333333333333333,
              "#9c179e"
             ],
             [
              0.4444444444444444,
              "#bd3786"
             ],
             [
              0.5555555555555556,
              "#d8576b"
             ],
             [
              0.6666666666666666,
              "#ed7953"
             ],
             [
              0.7777777777777778,
              "#fb9f3a"
             ],
             [
              0.8888888888888888,
              "#fdca26"
             ],
             [
              1,
              "#f0f921"
             ]
            ],
            "type": "histogram2dcontour"
           }
          ],
          "mesh3d": [
           {
            "colorbar": {
             "outlinewidth": 0,
             "ticks": ""
            },
            "type": "mesh3d"
           }
          ],
          "parcoords": [
           {
            "line": {
             "colorbar": {
              "outlinewidth": 0,
              "ticks": ""
             }
            },
            "type": "parcoords"
           }
          ],
          "pie": [
           {
            "automargin": true,
            "type": "pie"
           }
          ],
          "scatter": [
           {
            "fillpattern": {
             "fillmode": "overlay",
             "size": 10,
             "solidity": 0.2
            },
            "type": "scatter"
           }
          ],
          "scatter3d": [
           {
            "line": {
             "colorbar": {
              "outlinewidth": 0,
              "ticks": ""
             }
            },
            "marker": {
             "colorbar": {
              "outlinewidth": 0,
              "ticks": ""
             }
            },
            "type": "scatter3d"
           }
          ],
          "scattercarpet": [
           {
            "marker": {
             "colorbar": {
              "outlinewidth": 0,
              "ticks": ""
             }
            },
            "type": "scattercarpet"
           }
          ],
          "scattergeo": [
           {
            "marker": {
             "colorbar": {
              "outlinewidth": 0,
              "ticks": ""
             }
            },
            "type": "scattergeo"
           }
          ],
          "scattergl": [
           {
            "marker": {
             "colorbar": {
              "outlinewidth": 0,
              "ticks": ""
             }
            },
            "type": "scattergl"
           }
          ],
          "scattermapbox": [
           {
            "marker": {
             "colorbar": {
              "outlinewidth": 0,
              "ticks": ""
             }
            },
            "type": "scattermapbox"
           }
          ],
          "scatterpolar": [
           {
            "marker": {
             "colorbar": {
              "outlinewidth": 0,
              "ticks": ""
             }
            },
            "type": "scatterpolar"
           }
          ],
          "scatterpolargl": [
           {
            "marker": {
             "colorbar": {
              "outlinewidth": 0,
              "ticks": ""
             }
            },
            "type": "scatterpolargl"
           }
          ],
          "scatterternary": [
           {
            "marker": {
             "colorbar": {
              "outlinewidth": 0,
              "ticks": ""
             }
            },
            "type": "scatterternary"
           }
          ],
          "surface": [
           {
            "colorbar": {
             "outlinewidth": 0,
             "ticks": ""
            },
            "colorscale": [
             [
              0,
              "#0d0887"
             ],
             [
              0.1111111111111111,
              "#46039f"
             ],
             [
              0.2222222222222222,
              "#7201a8"
             ],
             [
              0.3333333333333333,
              "#9c179e"
             ],
             [
              0.4444444444444444,
              "#bd3786"
             ],
             [
              0.5555555555555556,
              "#d8576b"
             ],
             [
              0.6666666666666666,
              "#ed7953"
             ],
             [
              0.7777777777777778,
              "#fb9f3a"
             ],
             [
              0.8888888888888888,
              "#fdca26"
             ],
             [
              1,
              "#f0f921"
             ]
            ],
            "type": "surface"
           }
          ],
          "table": [
           {
            "cells": {
             "fill": {
              "color": "#EBF0F8"
             },
             "line": {
              "color": "white"
             }
            },
            "header": {
             "fill": {
              "color": "#C8D4E3"
             },
             "line": {
              "color": "white"
             }
            },
            "type": "table"
           }
          ]
         },
         "layout": {
          "annotationdefaults": {
           "arrowcolor": "#2a3f5f",
           "arrowhead": 0,
           "arrowwidth": 1
          },
          "autotypenumbers": "strict",
          "coloraxis": {
           "colorbar": {
            "outlinewidth": 0,
            "ticks": ""
           }
          },
          "colorscale": {
           "diverging": [
            [
             0,
             "#8e0152"
            ],
            [
             0.1,
             "#c51b7d"
            ],
            [
             0.2,
             "#de77ae"
            ],
            [
             0.3,
             "#f1b6da"
            ],
            [
             0.4,
             "#fde0ef"
            ],
            [
             0.5,
             "#f7f7f7"
            ],
            [
             0.6,
             "#e6f5d0"
            ],
            [
             0.7,
             "#b8e186"
            ],
            [
             0.8,
             "#7fbc41"
            ],
            [
             0.9,
             "#4d9221"
            ],
            [
             1,
             "#276419"
            ]
           ],
           "sequential": [
            [
             0,
             "#0d0887"
            ],
            [
             0.1111111111111111,
             "#46039f"
            ],
            [
             0.2222222222222222,
             "#7201a8"
            ],
            [
             0.3333333333333333,
             "#9c179e"
            ],
            [
             0.4444444444444444,
             "#bd3786"
            ],
            [
             0.5555555555555556,
             "#d8576b"
            ],
            [
             0.6666666666666666,
             "#ed7953"
            ],
            [
             0.7777777777777778,
             "#fb9f3a"
            ],
            [
             0.8888888888888888,
             "#fdca26"
            ],
            [
             1,
             "#f0f921"
            ]
           ],
           "sequentialminus": [
            [
             0,
             "#0d0887"
            ],
            [
             0.1111111111111111,
             "#46039f"
            ],
            [
             0.2222222222222222,
             "#7201a8"
            ],
            [
             0.3333333333333333,
             "#9c179e"
            ],
            [
             0.4444444444444444,
             "#bd3786"
            ],
            [
             0.5555555555555556,
             "#d8576b"
            ],
            [
             0.6666666666666666,
             "#ed7953"
            ],
            [
             0.7777777777777778,
             "#fb9f3a"
            ],
            [
             0.8888888888888888,
             "#fdca26"
            ],
            [
             1,
             "#f0f921"
            ]
           ]
          },
          "colorway": [
           "#636efa",
           "#EF553B",
           "#00cc96",
           "#ab63fa",
           "#FFA15A",
           "#19d3f3",
           "#FF6692",
           "#B6E880",
           "#FF97FF",
           "#FECB52"
          ],
          "font": {
           "color": "#2a3f5f"
          },
          "geo": {
           "bgcolor": "white",
           "lakecolor": "white",
           "landcolor": "#E5ECF6",
           "showlakes": true,
           "showland": true,
           "subunitcolor": "white"
          },
          "hoverlabel": {
           "align": "left"
          },
          "hovermode": "closest",
          "mapbox": {
           "style": "light"
          },
          "paper_bgcolor": "white",
          "plot_bgcolor": "#E5ECF6",
          "polar": {
           "angularaxis": {
            "gridcolor": "white",
            "linecolor": "white",
            "ticks": ""
           },
           "bgcolor": "#E5ECF6",
           "radialaxis": {
            "gridcolor": "white",
            "linecolor": "white",
            "ticks": ""
           }
          },
          "scene": {
           "xaxis": {
            "backgroundcolor": "#E5ECF6",
            "gridcolor": "white",
            "gridwidth": 2,
            "linecolor": "white",
            "showbackground": true,
            "ticks": "",
            "zerolinecolor": "white"
           },
           "yaxis": {
            "backgroundcolor": "#E5ECF6",
            "gridcolor": "white",
            "gridwidth": 2,
            "linecolor": "white",
            "showbackground": true,
            "ticks": "",
            "zerolinecolor": "white"
           },
           "zaxis": {
            "backgroundcolor": "#E5ECF6",
            "gridcolor": "white",
            "gridwidth": 2,
            "linecolor": "white",
            "showbackground": true,
            "ticks": "",
            "zerolinecolor": "white"
           }
          },
          "shapedefaults": {
           "line": {
            "color": "#2a3f5f"
           }
          },
          "ternary": {
           "aaxis": {
            "gridcolor": "white",
            "linecolor": "white",
            "ticks": ""
           },
           "baxis": {
            "gridcolor": "white",
            "linecolor": "white",
            "ticks": ""
           },
           "bgcolor": "#E5ECF6",
           "caxis": {
            "gridcolor": "white",
            "linecolor": "white",
            "ticks": ""
           }
          },
          "title": {
           "x": 0.05
          },
          "xaxis": {
           "automargin": true,
           "gridcolor": "white",
           "linecolor": "white",
           "ticks": "",
           "title": {
            "standoff": 15
           },
           "zerolinecolor": "white",
           "zerolinewidth": 2
          },
          "yaxis": {
           "automargin": true,
           "gridcolor": "white",
           "linecolor": "white",
           "ticks": "",
           "title": {
            "standoff": 15
           },
           "zerolinecolor": "white",
           "zerolinewidth": 2
          }
         }
        },
        "title": {
         "text": " Diagramme en barre de la répartition géographique du nombre d’attaques terroristes aavec demande de rançonpar pays"
        },
        "xaxis": {
         "anchor": "y",
         "categoryarray": [
          "Afghanistan",
          "Algeria",
          "Argentina",
          "Austria",
          "Bangladesh",
          "Belgium",
          "Cambodia",
          "Cameroon",
          "Colombia",
          "Democratic Republic of the Congo",
          "Ecuador",
          "Egypt",
          "France",
          "Germany",
          "Greece",
          "Guatemala",
          "Guyana",
          "India",
          "Iraq",
          "Ireland",
          "Italy",
          "Kenya",
          "Lebanon",
          "Libya",
          "Malaysia",
          "Mali",
          "Mexico",
          "Myanmar",
          "Nicaragua",
          "Nigeria",
          "Pakistan",
          "Paraguay",
          "Peru",
          "Philippines",
          "Russia",
          "Somalia",
          "Spain",
          "Sudan",
          "Syria",
          "United Kingdom",
          "Uruguay",
          "Venezuela",
          "West Germany (FRG)",
          "Yemen"
         ],
         "categoryorder": "array",
         "domain": [
          0,
          1
         ],
         "title": {
          "text": "country_txt"
         }
        },
        "yaxis": {
         "anchor": "x",
         "domain": [
          0,
          1
         ],
         "title": {
          "text": "AttaqueRanconPays"
         }
        }
       }
      }
     },
     "metadata": {},
     "output_type": "display_data"
    }
   ],
   "source": [
    "bar_fig4=px.bar(attaque_ranc_pays,x='country_txt',y='AttaqueRanconPays',color='country_txt',title=\" Diagramme en barre de la répartition géographique du nombre d’attaques terroristes aavec demande de rançonpar pays\")\n",
    "bar_fig4.show()"
   ]
  },
  {
   "cell_type": "markdown",
   "metadata": {},
   "source": [
    "__Visualiser la corrélation entre différentes variables en relation directe avec le terrorisme__"
   ]
  },
  {
   "cell_type": "code",
   "execution_count": 35,
   "metadata": {},
   "outputs": [],
   "source": [
    "terro_qual = [ 'region_txt', 'provstate',\n",
    "                          'attacktype1_txt', 'alternative_txt','hostkidoutcome_txt'\n",
    "                         , 'ransomnote', 'summary', 'motive', 'gname'\n",
    "                         , 'natlty1_txt', 'kidhijcountry', 'weaptype1_txt', 'weapsubtype1_txt', 'weaptype2_txt', 'weapsubtype2_txt', 'weaptype3_txt', 'weapsubtype3_txt'\n",
    "                         , 'weaptype4_txt', 'weapsubtype4_txt', 'targtype1_txt', 'targsubtype1_txt', 'targtype2_txt', 'targsubtype2_txt', 'targtype3_txt', 'targsubtype3_txt'\n",
    "                         , 'claimmode_txt', 'propextent_txt'\n",
    "            ]\n",
    "terro_quant = [ 'nkill', 'nwound',\n",
    "                          'nkillus', 'nwoundus',\n",
    "                          'suicide', 'ransompaid', 'nhostkid', \n",
    "                         'ransompaidus', 'nhostkidus', 'propextent', 'propvalue'\n",
    "                         ]\n",
    "\n",
    "cor_var=cleaned_data[terro_quant]"
   ]
  },
  {
   "cell_type": "code",
   "execution_count": 36,
   "metadata": {},
   "outputs": [
    {
     "data": {
      "image/png": "[encoded data removed]",
      "text/plain": [
       "<Figure size 1008x576 with 2 Axes>"
      ]
     },
     "metadata": {},
     "output_type": "display_data"
    }
   ],
   "source": [
    "plt.figure(figsize=(14,8))\n",
    "sns.set_theme(style=\"white\")\n",
    "corr = cor_var.corr()\n",
    "heatmap = sns.heatmap(corr, annot=True, cmap=\"Blues\", fmt='.1g')\n"
   ]
  },
  {
   "cell_type": "markdown",
   "metadata": {},
   "source": [
    "nkilus et nwound sont très corrélées"
   ]
  },
  {
   "cell_type": "code",
   "execution_count": null,
   "metadata": {},
   "outputs": [],
   "source": []
  }
 ],
 "metadata": {
  "interpreter": {
   "hash": "d9cb4fe90d1e8890f1d760e5203fc044f921dddd2ce0dfa0f0205b983aed132e"
  },
  "kernelspec": {
   "display_name": "Python 3.9.0 32-bit",
   "language": "python",
   "name": "python3"
  },
  "language_info": {
   "codemirror_mode": {
    "name": "ipython",
    "version": 3
   },
   "file_extension": ".py",
   "mimetype": "text/x-python",
   "name": "python",
   "nbconvert_exporter": "python",
   "pygments_lexer": "ipython3",
   "version": "3.9.7"
  },
  "orig_nbformat": 4
 },
 "nbformat": 4,
 "nbformat_minor": 2
}
