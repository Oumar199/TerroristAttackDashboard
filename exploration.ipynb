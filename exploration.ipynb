{
  "cells": [
    {
      "cell_type": "markdown",
      "metadata": {
        "id": "4GSWigI1bYX1"
      },
      "source": [
        "# DATACAMP TERROSRIST ATTACK\n",
        "\n",
        "---\n",
        "\n",
        "**Papa Ba GAYE**"
      ]
    },
    {
      "cell_type": "code",
      "execution_count": 40,
      "metadata": {
        "id": "cz3FPU8hWMoF"
      },
      "outputs": [],
      "source": [
        "# !pip install dash\n",
        "# !pip install jupyter-dash\n",
        "# !pip install dash-bootstrap-components\n",
        "# !pip install opendatasets"
      ]
    },
    {
      "cell_type": "code",
      "execution_count": 41,
      "metadata": {
        "id": "bh0sCCYGZujW"
      },
      "outputs": [],
      "source": [
        "import pandas as pd\n",
        "import plotly.express as px\n",
        "import numpy as np\n",
        "# import opendatasets as od\n",
        "# import dash\n",
        "# from jupyter_dash import JupyterDash\n",
        "# from dash import dash_table\n",
        "# import pandas as pd\n",
        "# from dash import  dcc\n",
        "# import dash_bootstrap_components as dbc\n",
        "# from dash import html\n",
        "# from dash.dependencies import Input, Output"
      ]
    },
    {
      "cell_type": "markdown",
      "metadata": {
        "id": "9h9i_i2Su9vk"
      },
      "source": [
        "```\n",
        "papabagaye\n",
        "```\n",
        "\n",
        "```\n",
        "63fe435dfbb43e774d9f0b5643b639b9\n",
        "```"
      ]
    },
    {
      "cell_type": "code",
      "execution_count": 42,
      "metadata": {
        "id": "JGmrc9k6pMmI"
      },
      "outputs": [],
      "source": [
        "# download_url = 'https://www.kaggle.com/START-UMD/gtd'\n",
        "# od.download(download_url)"
      ]
    },
    {
      "cell_type": "code",
      "execution_count": 43,
      "metadata": {
        "id": "T7wUQ3UpaGi9"
      },
      "outputs": [],
      "source": [
        "# path_data = './gtd/globalterrorismdb_0718dist.csv'\n",
        "# df = pd.read_csv(path_data, encoding = \"ISO-8859-1\")"
      ]
    },
    {
      "cell_type": "code",
      "execution_count": 44,
      "metadata": {
        "colab": {
          "base_uri": "https://localhost:8080/"
        },
        "id": "YtoUnqGGwmpC",
        "outputId": "e15afc63-37bd-4838-cd2b-d0f8819ccd7d"
      },
      "outputs": [
        {
          "output_type": "stream",
          "name": "stdout",
          "text": [
            "Drive already mounted at /content/drive; to attempt to forcibly remount, call drive.mount(\"/content/drive\", force_remount=True).\n"
          ]
        }
      ],
      "source": [
        "from google.colab import drive\n",
        "drive.mount(\"/content/drive\")"
      ]
    },
    {
      "cell_type": "code",
      "execution_count": 45,
      "metadata": {
        "id": "QfB3pag5PWVt"
      },
      "outputs": [],
      "source": [
        "# import os\n",
        "# import zipfile\n",
        "\n",
        "# file_to_unzip = \"/content/drive/MyDrive/00 - Datacamp/terror.zip\"\n",
        "\n",
        "# file_ziped = zipfile.ZipFile(file_to_unzip, \"r\")\n",
        "# file_ziped.extractall(\"//content/drive/MyDrive//00 - Datacamp\")\n",
        "# file_ziped.close()"
      ]
    },
    {
      "cell_type": "code",
      "execution_count": 46,
      "metadata": {
        "id": "UPTNl2TiwlfV"
      },
      "outputs": [],
      "source": [
        "path_data = '/content/drive/MyDrive/00 - Datacamp/terror.csv'\n",
        "df = pd.read_csv(path_data, encoding = \"ISO-8859-1\")"
      ]
    },
    {
      "cell_type": "code",
      "execution_count": 47,
      "metadata": {
        "id": "CE3BVXaNavqJ",
        "colab": {
          "base_uri": "https://localhost:8080/",
          "height": 748
        },
        "outputId": "8be57737-1481-4abd-e072-989bc2006fb2"
      },
      "outputs": [
        {
          "output_type": "execute_result",
          "data": {
            "text/plain": [
              "        iyear  iday  imonth  nkill    country_txt  nwound  \\\n",
              "0        1970     1       1    0.0  United States     0.0   \n",
              "1        1970     1       1    0.0  United States     0.0   \n",
              "2        1970     2       1    0.0        Uruguay     0.0   \n",
              "3        1970     2       1    0.0  United States     0.0   \n",
              "4        1970     2       1    0.0  United States     0.0   \n",
              "...       ...   ...     ...    ...            ...     ...   \n",
              "180795   2017    31      12    0.0        Somalia     0.0   \n",
              "180796   2017    31      12   13.0           Iraq     0.0   \n",
              "180797   2017    31      12    5.0    Afghanistan     0.0   \n",
              "180798   2017    31      12   18.0    Afghanistan    14.0   \n",
              "180799   2017    31      12    0.0    Philippines     0.0   \n",
              "\n",
              "                        region_txt    provstate                    city  \\\n",
              "0                    North America     Illinois                   Cairo   \n",
              "1                    North America    Wisconsin                 Baraboo   \n",
              "2                    South America   Montevideo              Montevideo   \n",
              "3                    North America   California                 Oakland   \n",
              "4                    North America    Wisconsin                 Madison   \n",
              "...                            ...          ...                     ...   \n",
              "180795          Sub-Saharan Africa       Bakool                   Wajid   \n",
              "180796  Middle East & North Africa       Diyala              Muqdadiyah   \n",
              "180797                  South Asia        Logar  Mohammad Agha district   \n",
              "180798                  South Asia    Nangarhar               Jalalabad   \n",
              "180799              Southeast Asia  Maguindanao           Cotabato City   \n",
              "\n",
              "        nkillus  ...  targtype2_txt targsubtype2_txt  targtype3_txt  \\\n",
              "0           0.0  ...             ''               ''             ''   \n",
              "1           0.0  ...             ''               ''             ''   \n",
              "2           0.0  ...             ''               ''             ''   \n",
              "3           0.0  ...             ''               ''             ''   \n",
              "4           0.0  ...             ''               ''             ''   \n",
              "...         ...  ...            ...              ...            ...   \n",
              "180795      0.0  ...             ''               ''             ''   \n",
              "180796      0.0  ...             ''               ''             ''   \n",
              "180797      0.0  ...             ''               ''             ''   \n",
              "180798      0.0  ...             ''               ''             ''   \n",
              "180799      0.0  ...             ''               ''             ''   \n",
              "\n",
              "        targsubtype3_txt   claimmode_txt               propextent_txt  \\\n",
              "0                     ''              ''  Minor (likely < $1 million)   \n",
              "1                     ''              ''  Minor (likely < $1 million)   \n",
              "2                     ''              ''                           ''   \n",
              "3                     ''              ''  Minor (likely < $1 million)   \n",
              "4                     ''          Letter  Minor (likely < $1 million)   \n",
              "...                  ...             ...                          ...   \n",
              "180795                ''              ''                           ''   \n",
              "180796                ''              ''                           ''   \n",
              "180797                ''  Personal claim  Minor (likely < $1 million)   \n",
              "180798                ''              ''                           ''   \n",
              "180799                ''              ''                           ''   \n",
              "\n",
              "        propextent  propvalue                  dbsource        date  \n",
              "0              3.0        0.0            Hewitt Project  1970-01-01  \n",
              "1              3.0        0.0                      PGIS  1970-01-01  \n",
              "2              0.0        0.0                      PGIS  1970-01-02  \n",
              "3              3.0    22500.0            Hewitt Project  1970-01-02  \n",
              "4              3.0    60000.0            Hewitt Project  1970-01-02  \n",
              "...            ...        ...                       ...         ...  \n",
              "180795         0.0        0.0  START Primary Collection  2017-12-31  \n",
              "180796         0.0        0.0  START Primary Collection  2017-12-31  \n",
              "180797         3.0      -99.0  START Primary Collection  2017-12-31  \n",
              "180798         0.0        0.0  START Primary Collection  2017-12-31  \n",
              "180799         0.0        0.0  START Primary Collection  2017-12-31  \n",
              "\n",
              "[180800 rows x 50 columns]"
            ],
            "text/html": [
              "\n",
              "  <div id=\"df-d02477d8-35fe-433a-afd3-07f0391e13ed\">\n",
              "    <div class=\"colab-df-container\">\n",
              "      <div>\n",
              "<style scoped>\n",
              "    .dataframe tbody tr th:only-of-type {\n",
              "        vertical-align: middle;\n",
              "    }\n",
              "\n",
              "    .dataframe tbody tr th {\n",
              "        vertical-align: top;\n",
              "    }\n",
              "\n",
              "    .dataframe thead th {\n",
              "        text-align: right;\n",
              "    }\n",
              "</style>\n",
              "<table border=\"1\" class=\"dataframe\">\n",
              "  <thead>\n",
              "    <tr style=\"text-align: right;\">\n",
              "      <th></th>\n",
              "      <th>iyear</th>\n",
              "      <th>iday</th>\n",
              "      <th>imonth</th>\n",
              "      <th>nkill</th>\n",
              "      <th>country_txt</th>\n",
              "      <th>nwound</th>\n",
              "      <th>region_txt</th>\n",
              "      <th>provstate</th>\n",
              "      <th>city</th>\n",
              "      <th>nkillus</th>\n",
              "      <th>...</th>\n",
              "      <th>targtype2_txt</th>\n",
              "      <th>targsubtype2_txt</th>\n",
              "      <th>targtype3_txt</th>\n",
              "      <th>targsubtype3_txt</th>\n",
              "      <th>claimmode_txt</th>\n",
              "      <th>propextent_txt</th>\n",
              "      <th>propextent</th>\n",
              "      <th>propvalue</th>\n",
              "      <th>dbsource</th>\n",
              "      <th>date</th>\n",
              "    </tr>\n",
              "  </thead>\n",
              "  <tbody>\n",
              "    <tr>\n",
              "      <th>0</th>\n",
              "      <td>1970</td>\n",
              "      <td>1</td>\n",
              "      <td>1</td>\n",
              "      <td>0.0</td>\n",
              "      <td>United States</td>\n",
              "      <td>0.0</td>\n",
              "      <td>North America</td>\n",
              "      <td>Illinois</td>\n",
              "      <td>Cairo</td>\n",
              "      <td>0.0</td>\n",
              "      <td>...</td>\n",
              "      <td>''</td>\n",
              "      <td>''</td>\n",
              "      <td>''</td>\n",
              "      <td>''</td>\n",
              "      <td>''</td>\n",
              "      <td>Minor (likely &lt; $1 million)</td>\n",
              "      <td>3.0</td>\n",
              "      <td>0.0</td>\n",
              "      <td>Hewitt Project</td>\n",
              "      <td>1970-01-01</td>\n",
              "    </tr>\n",
              "    <tr>\n",
              "      <th>1</th>\n",
              "      <td>1970</td>\n",
              "      <td>1</td>\n",
              "      <td>1</td>\n",
              "      <td>0.0</td>\n",
              "      <td>United States</td>\n",
              "      <td>0.0</td>\n",
              "      <td>North America</td>\n",
              "      <td>Wisconsin</td>\n",
              "      <td>Baraboo</td>\n",
              "      <td>0.0</td>\n",
              "      <td>...</td>\n",
              "      <td>''</td>\n",
              "      <td>''</td>\n",
              "      <td>''</td>\n",
              "      <td>''</td>\n",
              "      <td>''</td>\n",
              "      <td>Minor (likely &lt; $1 million)</td>\n",
              "      <td>3.0</td>\n",
              "      <td>0.0</td>\n",
              "      <td>PGIS</td>\n",
              "      <td>1970-01-01</td>\n",
              "    </tr>\n",
              "    <tr>\n",
              "      <th>2</th>\n",
              "      <td>1970</td>\n",
              "      <td>2</td>\n",
              "      <td>1</td>\n",
              "      <td>0.0</td>\n",
              "      <td>Uruguay</td>\n",
              "      <td>0.0</td>\n",
              "      <td>South America</td>\n",
              "      <td>Montevideo</td>\n",
              "      <td>Montevideo</td>\n",
              "      <td>0.0</td>\n",
              "      <td>...</td>\n",
              "      <td>''</td>\n",
              "      <td>''</td>\n",
              "      <td>''</td>\n",
              "      <td>''</td>\n",
              "      <td>''</td>\n",
              "      <td>''</td>\n",
              "      <td>0.0</td>\n",
              "      <td>0.0</td>\n",
              "      <td>PGIS</td>\n",
              "      <td>1970-01-02</td>\n",
              "    </tr>\n",
              "    <tr>\n",
              "      <th>3</th>\n",
              "      <td>1970</td>\n",
              "      <td>2</td>\n",
              "      <td>1</td>\n",
              "      <td>0.0</td>\n",
              "      <td>United States</td>\n",
              "      <td>0.0</td>\n",
              "      <td>North America</td>\n",
              "      <td>California</td>\n",
              "      <td>Oakland</td>\n",
              "      <td>0.0</td>\n",
              "      <td>...</td>\n",
              "      <td>''</td>\n",
              "      <td>''</td>\n",
              "      <td>''</td>\n",
              "      <td>''</td>\n",
              "      <td>''</td>\n",
              "      <td>Minor (likely &lt; $1 million)</td>\n",
              "      <td>3.0</td>\n",
              "      <td>22500.0</td>\n",
              "      <td>Hewitt Project</td>\n",
              "      <td>1970-01-02</td>\n",
              "    </tr>\n",
              "    <tr>\n",
              "      <th>4</th>\n",
              "      <td>1970</td>\n",
              "      <td>2</td>\n",
              "      <td>1</td>\n",
              "      <td>0.0</td>\n",
              "      <td>United States</td>\n",
              "      <td>0.0</td>\n",
              "      <td>North America</td>\n",
              "      <td>Wisconsin</td>\n",
              "      <td>Madison</td>\n",
              "      <td>0.0</td>\n",
              "      <td>...</td>\n",
              "      <td>''</td>\n",
              "      <td>''</td>\n",
              "      <td>''</td>\n",
              "      <td>''</td>\n",
              "      <td>Letter</td>\n",
              "      <td>Minor (likely &lt; $1 million)</td>\n",
              "      <td>3.0</td>\n",
              "      <td>60000.0</td>\n",
              "      <td>Hewitt Project</td>\n",
              "      <td>1970-01-02</td>\n",
              "    </tr>\n",
              "    <tr>\n",
              "      <th>...</th>\n",
              "      <td>...</td>\n",
              "      <td>...</td>\n",
              "      <td>...</td>\n",
              "      <td>...</td>\n",
              "      <td>...</td>\n",
              "      <td>...</td>\n",
              "      <td>...</td>\n",
              "      <td>...</td>\n",
              "      <td>...</td>\n",
              "      <td>...</td>\n",
              "      <td>...</td>\n",
              "      <td>...</td>\n",
              "      <td>...</td>\n",
              "      <td>...</td>\n",
              "      <td>...</td>\n",
              "      <td>...</td>\n",
              "      <td>...</td>\n",
              "      <td>...</td>\n",
              "      <td>...</td>\n",
              "      <td>...</td>\n",
              "      <td>...</td>\n",
              "    </tr>\n",
              "    <tr>\n",
              "      <th>180795</th>\n",
              "      <td>2017</td>\n",
              "      <td>31</td>\n",
              "      <td>12</td>\n",
              "      <td>0.0</td>\n",
              "      <td>Somalia</td>\n",
              "      <td>0.0</td>\n",
              "      <td>Sub-Saharan Africa</td>\n",
              "      <td>Bakool</td>\n",
              "      <td>Wajid</td>\n",
              "      <td>0.0</td>\n",
              "      <td>...</td>\n",
              "      <td>''</td>\n",
              "      <td>''</td>\n",
              "      <td>''</td>\n",
              "      <td>''</td>\n",
              "      <td>''</td>\n",
              "      <td>''</td>\n",
              "      <td>0.0</td>\n",
              "      <td>0.0</td>\n",
              "      <td>START Primary Collection</td>\n",
              "      <td>2017-12-31</td>\n",
              "    </tr>\n",
              "    <tr>\n",
              "      <th>180796</th>\n",
              "      <td>2017</td>\n",
              "      <td>31</td>\n",
              "      <td>12</td>\n",
              "      <td>13.0</td>\n",
              "      <td>Iraq</td>\n",
              "      <td>0.0</td>\n",
              "      <td>Middle East &amp; North Africa</td>\n",
              "      <td>Diyala</td>\n",
              "      <td>Muqdadiyah</td>\n",
              "      <td>0.0</td>\n",
              "      <td>...</td>\n",
              "      <td>''</td>\n",
              "      <td>''</td>\n",
              "      <td>''</td>\n",
              "      <td>''</td>\n",
              "      <td>''</td>\n",
              "      <td>''</td>\n",
              "      <td>0.0</td>\n",
              "      <td>0.0</td>\n",
              "      <td>START Primary Collection</td>\n",
              "      <td>2017-12-31</td>\n",
              "    </tr>\n",
              "    <tr>\n",
              "      <th>180797</th>\n",
              "      <td>2017</td>\n",
              "      <td>31</td>\n",
              "      <td>12</td>\n",
              "      <td>5.0</td>\n",
              "      <td>Afghanistan</td>\n",
              "      <td>0.0</td>\n",
              "      <td>South Asia</td>\n",
              "      <td>Logar</td>\n",
              "      <td>Mohammad Agha district</td>\n",
              "      <td>0.0</td>\n",
              "      <td>...</td>\n",
              "      <td>''</td>\n",
              "      <td>''</td>\n",
              "      <td>''</td>\n",
              "      <td>''</td>\n",
              "      <td>Personal claim</td>\n",
              "      <td>Minor (likely &lt; $1 million)</td>\n",
              "      <td>3.0</td>\n",
              "      <td>-99.0</td>\n",
              "      <td>START Primary Collection</td>\n",
              "      <td>2017-12-31</td>\n",
              "    </tr>\n",
              "    <tr>\n",
              "      <th>180798</th>\n",
              "      <td>2017</td>\n",
              "      <td>31</td>\n",
              "      <td>12</td>\n",
              "      <td>18.0</td>\n",
              "      <td>Afghanistan</td>\n",
              "      <td>14.0</td>\n",
              "      <td>South Asia</td>\n",
              "      <td>Nangarhar</td>\n",
              "      <td>Jalalabad</td>\n",
              "      <td>0.0</td>\n",
              "      <td>...</td>\n",
              "      <td>''</td>\n",
              "      <td>''</td>\n",
              "      <td>''</td>\n",
              "      <td>''</td>\n",
              "      <td>''</td>\n",
              "      <td>''</td>\n",
              "      <td>0.0</td>\n",
              "      <td>0.0</td>\n",
              "      <td>START Primary Collection</td>\n",
              "      <td>2017-12-31</td>\n",
              "    </tr>\n",
              "    <tr>\n",
              "      <th>180799</th>\n",
              "      <td>2017</td>\n",
              "      <td>31</td>\n",
              "      <td>12</td>\n",
              "      <td>0.0</td>\n",
              "      <td>Philippines</td>\n",
              "      <td>0.0</td>\n",
              "      <td>Southeast Asia</td>\n",
              "      <td>Maguindanao</td>\n",
              "      <td>Cotabato City</td>\n",
              "      <td>0.0</td>\n",
              "      <td>...</td>\n",
              "      <td>''</td>\n",
              "      <td>''</td>\n",
              "      <td>''</td>\n",
              "      <td>''</td>\n",
              "      <td>''</td>\n",
              "      <td>''</td>\n",
              "      <td>0.0</td>\n",
              "      <td>0.0</td>\n",
              "      <td>START Primary Collection</td>\n",
              "      <td>2017-12-31</td>\n",
              "    </tr>\n",
              "  </tbody>\n",
              "</table>\n",
              "<p>180800 rows × 50 columns</p>\n",
              "</div>\n",
              "      <button class=\"colab-df-convert\" onclick=\"convertToInteractive('df-d02477d8-35fe-433a-afd3-07f0391e13ed')\"\n",
              "              title=\"Convert this dataframe to an interactive table.\"\n",
              "              style=\"display:none;\">\n",
              "        \n",
              "  <svg xmlns=\"http://www.w3.org/2000/svg\" height=\"24px\"viewBox=\"0 0 24 24\"\n",
              "       width=\"24px\">\n",
              "    <path d=\"M0 0h24v24H0V0z\" fill=\"none\"/>\n",
              "    <path d=\"M18.56 5.44l.94 2.06.94-2.06 2.06-.94-2.06-.94-.94-2.06-.94 2.06-2.06.94zm-11 1L8.5 8.5l.94-2.06 2.06-.94-2.06-.94L8.5 2.5l-.94 2.06-2.06.94zm10 10l.94 2.06.94-2.06 2.06-.94-2.06-.94-.94-2.06-.94 2.06-2.06.94z\"/><path d=\"M17.41 7.96l-1.37-1.37c-.4-.4-.92-.59-1.43-.59-.52 0-1.04.2-1.43.59L10.3 9.45l-7.72 7.72c-.78.78-.78 2.05 0 2.83L4 21.41c.39.39.9.59 1.41.59.51 0 1.02-.2 1.41-.59l7.78-7.78 2.81-2.81c.8-.78.8-2.07 0-2.86zM5.41 20L4 18.59l7.72-7.72 1.47 1.35L5.41 20z\"/>\n",
              "  </svg>\n",
              "      </button>\n",
              "      \n",
              "  <style>\n",
              "    .colab-df-container {\n",
              "      display:flex;\n",
              "      flex-wrap:wrap;\n",
              "      gap: 12px;\n",
              "    }\n",
              "\n",
              "    .colab-df-convert {\n",
              "      background-color: #E8F0FE;\n",
              "      border: none;\n",
              "      border-radius: 50%;\n",
              "      cursor: pointer;\n",
              "      display: none;\n",
              "      fill: #1967D2;\n",
              "      height: 32px;\n",
              "      padding: 0 0 0 0;\n",
              "      width: 32px;\n",
              "    }\n",
              "\n",
              "    .colab-df-convert:hover {\n",
              "      background-color: #E2EBFA;\n",
              "      box-shadow: 0px 1px 2px rgba(60, 64, 67, 0.3), 0px 1px 3px 1px rgba(60, 64, 67, 0.15);\n",
              "      fill: #174EA6;\n",
              "    }\n",
              "\n",
              "    [theme=dark] .colab-df-convert {\n",
              "      background-color: #3B4455;\n",
              "      fill: #D2E3FC;\n",
              "    }\n",
              "\n",
              "    [theme=dark] .colab-df-convert:hover {\n",
              "      background-color: #434B5C;\n",
              "      box-shadow: 0px 1px 3px 1px rgba(0, 0, 0, 0.15);\n",
              "      filter: drop-shadow(0px 1px 2px rgba(0, 0, 0, 0.3));\n",
              "      fill: #FFFFFF;\n",
              "    }\n",
              "  </style>\n",
              "\n",
              "      <script>\n",
              "        const buttonEl =\n",
              "          document.querySelector('#df-d02477d8-35fe-433a-afd3-07f0391e13ed button.colab-df-convert');\n",
              "        buttonEl.style.display =\n",
              "          google.colab.kernel.accessAllowed ? 'block' : 'none';\n",
              "\n",
              "        async function convertToInteractive(key) {\n",
              "          const element = document.querySelector('#df-d02477d8-35fe-433a-afd3-07f0391e13ed');\n",
              "          const dataTable =\n",
              "            await google.colab.kernel.invokeFunction('convertToInteractive',\n",
              "                                                     [key], {});\n",
              "          if (!dataTable) return;\n",
              "\n",
              "          const docLinkHtml = 'Like what you see? Visit the ' +\n",
              "            '<a target=\"_blank\" href=https://colab.research.google.com/notebooks/data_table.ipynb>data table notebook</a>'\n",
              "            + ' to learn more about interactive tables.';\n",
              "          element.innerHTML = '';\n",
              "          dataTable['output_type'] = 'display_data';\n",
              "          await google.colab.output.renderOutput(dataTable, element);\n",
              "          const docLink = document.createElement('div');\n",
              "          docLink.innerHTML = docLinkHtml;\n",
              "          element.appendChild(docLink);\n",
              "        }\n",
              "      </script>\n",
              "    </div>\n",
              "  </div>\n",
              "  "
            ]
          },
          "metadata": {},
          "execution_count": 47
        }
      ],
      "source": [
        "df"
      ]
    },
    {
      "cell_type": "code",
      "execution_count": 48,
      "metadata": {
        "id": "v8V6NgnQArKT",
        "colab": {
          "base_uri": "https://localhost:8080/"
        },
        "outputId": "0dade276-64a7-4bcd-e57e-0db361bd3a28"
      },
      "outputs": [
        {
          "output_type": "execute_result",
          "data": {
            "text/plain": [
              "(180800, 50)"
            ]
          },
          "metadata": {},
          "execution_count": 48
        }
      ],
      "source": [
        "df.shape"
      ]
    },
    {
      "cell_type": "code",
      "execution_count": 49,
      "metadata": {
        "id": "4rZoyeIo__Fa",
        "colab": {
          "base_uri": "https://localhost:8080/"
        },
        "outputId": "7fa574a2-67e4-43ab-e8cd-ee973f600c6c"
      },
      "outputs": [
        {
          "output_type": "execute_result",
          "data": {
            "text/plain": [
              "iyear                 0\n",
              "weapsubtype4_txt      0\n",
              "gname                 0\n",
              "natlty1_txt           0\n",
              "kidhijcountry         0\n",
              "weaptype1_txt         0\n",
              "weapsubtype1_txt      0\n",
              "weaptype2_txt         0\n",
              "weapsubtype2_txt      0\n",
              "weaptype3_txt         0\n",
              "weapsubtype3_txt      0\n",
              "weaptype4_txt         0\n",
              "targtype1_txt         0\n",
              "iday                  0\n",
              "targsubtype1_txt      0\n",
              "targtype2_txt         0\n",
              "targsubtype2_txt      0\n",
              "targtype3_txt         0\n",
              "targsubtype3_txt      0\n",
              "claimmode_txt         0\n",
              "propextent_txt        0\n",
              "propextent            0\n",
              "propvalue             0\n",
              "dbsource              0\n",
              "motive                0\n",
              "summary               0\n",
              "nhostkidus            0\n",
              "ransompaidus          0\n",
              "imonth                0\n",
              "nkill                 0\n",
              "country_txt           0\n",
              "nwound                0\n",
              "region_txt            0\n",
              "provstate             0\n",
              "city                  0\n",
              "nkillus               0\n",
              "nwoundus              0\n",
              "region_txt.1          0\n",
              "latitude              0\n",
              "longitude             0\n",
              "attacktype1_txt       0\n",
              "alternative_txt       0\n",
              "suicide               0\n",
              "ransompaid            0\n",
              "nhostkid              0\n",
              "hostkidoutcome_txt    0\n",
              "ransomnote            0\n",
              "nhours                0\n",
              "ndays                 0\n",
              "date                  0\n",
              "dtype: int64"
            ]
          },
          "metadata": {},
          "execution_count": 49
        }
      ],
      "source": [
        "df.isnull().sum().sort_values(ascending=False).head(50)"
      ]
    },
    {
      "cell_type": "code",
      "execution_count": 50,
      "metadata": {
        "id": "ItG6-hxPu5GF",
        "colab": {
          "base_uri": "https://localhost:8080/"
        },
        "outputId": "c20bc4bd-4df3-4c92-c742-95880f3778da"
      },
      "outputs": [
        {
          "output_type": "execute_result",
          "data": {
            "text/plain": [
              "['iyear',\n",
              " 'iday',\n",
              " 'imonth',\n",
              " 'nkill',\n",
              " 'country_txt',\n",
              " 'nwound',\n",
              " 'region_txt',\n",
              " 'provstate',\n",
              " 'city',\n",
              " 'nkillus',\n",
              " 'nwoundus',\n",
              " 'region_txt.1',\n",
              " 'latitude',\n",
              " 'longitude',\n",
              " 'attacktype1_txt',\n",
              " 'alternative_txt',\n",
              " 'suicide',\n",
              " 'ransompaid',\n",
              " 'nhostkid',\n",
              " 'hostkidoutcome_txt',\n",
              " 'ransomnote',\n",
              " 'nhours',\n",
              " 'ndays',\n",
              " 'ransompaidus',\n",
              " 'nhostkidus',\n",
              " 'summary',\n",
              " 'motive',\n",
              " 'gname',\n",
              " 'natlty1_txt',\n",
              " 'kidhijcountry',\n",
              " 'weaptype1_txt',\n",
              " 'weapsubtype1_txt',\n",
              " 'weaptype2_txt',\n",
              " 'weapsubtype2_txt',\n",
              " 'weaptype3_txt',\n",
              " 'weapsubtype3_txt',\n",
              " 'weaptype4_txt',\n",
              " 'weapsubtype4_txt',\n",
              " 'targtype1_txt',\n",
              " 'targsubtype1_txt',\n",
              " 'targtype2_txt',\n",
              " 'targsubtype2_txt',\n",
              " 'targtype3_txt',\n",
              " 'targsubtype3_txt',\n",
              " 'claimmode_txt',\n",
              " 'propextent_txt',\n",
              " 'propextent',\n",
              " 'propvalue',\n",
              " 'dbsource',\n",
              " 'date']"
            ]
          },
          "metadata": {},
          "execution_count": 50
        }
      ],
      "source": [
        "list(df.columns)"
      ]
    },
    {
      "cell_type": "markdown",
      "metadata": {
        "id": "JXneDoTU2-Wf"
      },
      "source": [
        "1. Nombre de morts d'africains par régions et par années\n",
        "2. Nombre d'africains blessés par régions et par années\n",
        "3. Evolution annuelle du nombre de morts par pays africains"
      ]
    },
    {
      "cell_type": "code",
      "execution_count": 51,
      "metadata": {
        "id": "CvB-HoB3fZAx"
      },
      "outputs": [],
      "source": [
        "df_africa_sub_sahara = df[df[\"region_txt\"] == \"Sub-Saharan Africa\"]"
      ]
    },
    {
      "cell_type": "code",
      "execution_count": 52,
      "metadata": {
        "id": "4uYf_c4KhKPy"
      },
      "outputs": [],
      "source": [
        "df_africa_sub_sahara = df[df[\"region_txt\"] == \"Sub-Saharan Africa\"]\n",
        "df_africa_north = df[df[\"region_txt\"] == \"Middle East & North Africa\"]\n",
        "df_africa = df_africa_sub_sahara.append(df_africa_north)\n",
        "\n",
        "hors_africa = ['Jordan', 'Turkey', 'Iran', 'South Yemen', 'Israel', 'Kuwait',\n",
        "               'West Bank and Gaza Strip',  'North Yemen', 'Syria',  'United Arab Emirates',\n",
        "               'Iraq', 'Saudi Arabia', 'Bahrain', 'Qatar', 'Yemen', 'International']\n",
        "\n",
        "index_hors_africa = []\n",
        "for pays in hors_africa:\n",
        "    idx = df_africa.index[df_africa['country_txt'] == pays].tolist()\n",
        "    index_hors_africa = index_hors_africa + idx\n",
        "\n",
        "df_africa.drop(index=index_hors_africa, inplace=True)"
      ]
    },
    {
      "cell_type": "markdown",
      "source": [
        "## Visualiser le nombre d’africains morts du terrorisme par région et par année"
      ],
      "metadata": {
        "id": "DSZJTPC6S3I8"
      }
    },
    {
      "cell_type": "code",
      "execution_count": 53,
      "metadata": {
        "id": "au5Ax_eKusJX"
      },
      "outputs": [],
      "source": [
        "df_africa = df_africa.groupby(['country_txt', 'iyear']).sum(\"nkill\").reset_index()"
      ]
    },
    {
      "cell_type": "code",
      "execution_count": 54,
      "metadata": {
        "id": "H5zb8XMmzm54",
        "colab": {
          "base_uri": "https://localhost:8080/",
          "height": 542
        },
        "outputId": "0e4d3415-6ecf-4680-88dd-a97008eb41a5"
      },
      "outputs": [
        {
          "output_type": "display_data",
          "data": {
            "text/html": [
              "<html>\n",
              "<head><meta charset=\"utf-8\" /></head>\n",
              "<body>\n",
              "    <div>            <script src=\"https://cdnjs.cloudflare.com/ajax/libs/mathjax/2.7.5/MathJax.js?config=TeX-AMS-MML_SVG\"></script><script type=\"text/javascript\">if (window.MathJax) {MathJax.Hub.Config({SVG: {font: \"STIX-Web\"}});}</script>                <script type=\"text/javascript\">window.PlotlyConfig = {MathJaxConfig: 'local'};</script>\n",
              "        <script src=\"https://cdn.plot.ly/plotly-2.8.3.min.js\"></script>                <div id=\"66eaf325-a847-4c86-8a50-beabb6f29b61\" class=\"plotly-graph-div\" style=\"height:525px; width:100%;\"></div>            <script type=\"text/javascript\">                                    window.PLOTLYENV=window.PLOTLYENV || {};                                    if (document.getElementById(\"66eaf325-a847-4c86-8a50-beabb6f29b61\")) {                    Plotly.newPlot(                        \"66eaf325-a847-4c86-8a50-beabb6f29b61\",                        [{\"alignmentgroup\":\"True\",\"hovertemplate\":\"iyear=1972<br>country_txt=%{x}<br>nkill=%{marker.color}<extra></extra>\",\"legendgroup\":\"\",\"marker\":{\"color\":[0.0,0.0,0.0,0.0,0.0],\"coloraxis\":\"coloraxis\",\"pattern\":{\"shape\":\"\"}},\"name\":\"\",\"offsetgroup\":\"\",\"orientation\":\"v\",\"showlegend\":false,\"textposition\":\"auto\",\"x\":[\"Algeria\",\"Egypt\",\"Lebanon\",\"People's Republic of the Congo\",\"Zaire\"],\"xaxis\":\"x\",\"y\":[0.0,0.0,0.0,0.0,0.0],\"yaxis\":\"y\",\"type\":\"bar\"}],                        {\"template\":{\"data\":{\"bar\":[{\"error_x\":{\"color\":\"#2a3f5f\"},\"error_y\":{\"color\":\"#2a3f5f\"},\"marker\":{\"line\":{\"color\":\"#E5ECF6\",\"width\":0.5},\"pattern\":{\"fillmode\":\"overlay\",\"size\":10,\"solidity\":0.2}},\"type\":\"bar\"}],\"barpolar\":[{\"marker\":{\"line\":{\"color\":\"#E5ECF6\",\"width\":0.5},\"pattern\":{\"fillmode\":\"overlay\",\"size\":10,\"solidity\":0.2}},\"type\":\"barpolar\"}],\"carpet\":[{\"aaxis\":{\"endlinecolor\":\"#2a3f5f\",\"gridcolor\":\"white\",\"linecolor\":\"white\",\"minorgridcolor\":\"white\",\"startlinecolor\":\"#2a3f5f\"},\"baxis\":{\"endlinecolor\":\"#2a3f5f\",\"gridcolor\":\"white\",\"linecolor\":\"white\",\"minorgridcolor\":\"white\",\"startlinecolor\":\"#2a3f5f\"},\"type\":\"carpet\"}],\"choropleth\":[{\"colorbar\":{\"outlinewidth\":0,\"ticks\":\"\"},\"type\":\"choropleth\"}],\"contour\":[{\"colorbar\":{\"outlinewidth\":0,\"ticks\":\"\"},\"colorscale\":[[0.0,\"#0d0887\"],[0.1111111111111111,\"#46039f\"],[0.2222222222222222,\"#7201a8\"],[0.3333333333333333,\"#9c179e\"],[0.4444444444444444,\"#bd3786\"],[0.5555555555555556,\"#d8576b\"],[0.6666666666666666,\"#ed7953\"],[0.7777777777777778,\"#fb9f3a\"],[0.8888888888888888,\"#fdca26\"],[1.0,\"#f0f921\"]],\"type\":\"contour\"}],\"contourcarpet\":[{\"colorbar\":{\"outlinewidth\":0,\"ticks\":\"\"},\"type\":\"contourcarpet\"}],\"heatmap\":[{\"colorbar\":{\"outlinewidth\":0,\"ticks\":\"\"},\"colorscale\":[[0.0,\"#0d0887\"],[0.1111111111111111,\"#46039f\"],[0.2222222222222222,\"#7201a8\"],[0.3333333333333333,\"#9c179e\"],[0.4444444444444444,\"#bd3786\"],[0.5555555555555556,\"#d8576b\"],[0.6666666666666666,\"#ed7953\"],[0.7777777777777778,\"#fb9f3a\"],[0.8888888888888888,\"#fdca26\"],[1.0,\"#f0f921\"]],\"type\":\"heatmap\"}],\"heatmapgl\":[{\"colorbar\":{\"outlinewidth\":0,\"ticks\":\"\"},\"colorscale\":[[0.0,\"#0d0887\"],[0.1111111111111111,\"#46039f\"],[0.2222222222222222,\"#7201a8\"],[0.3333333333333333,\"#9c179e\"],[0.4444444444444444,\"#bd3786\"],[0.5555555555555556,\"#d8576b\"],[0.6666666666666666,\"#ed7953\"],[0.7777777777777778,\"#fb9f3a\"],[0.8888888888888888,\"#fdca26\"],[1.0,\"#f0f921\"]],\"type\":\"heatmapgl\"}],\"histogram\":[{\"marker\":{\"pattern\":{\"fillmode\":\"overlay\",\"size\":10,\"solidity\":0.2}},\"type\":\"histogram\"}],\"histogram2d\":[{\"colorbar\":{\"outlinewidth\":0,\"ticks\":\"\"},\"colorscale\":[[0.0,\"#0d0887\"],[0.1111111111111111,\"#46039f\"],[0.2222222222222222,\"#7201a8\"],[0.3333333333333333,\"#9c179e\"],[0.4444444444444444,\"#bd3786\"],[0.5555555555555556,\"#d8576b\"],[0.6666666666666666,\"#ed7953\"],[0.7777777777777778,\"#fb9f3a\"],[0.8888888888888888,\"#fdca26\"],[1.0,\"#f0f921\"]],\"type\":\"histogram2d\"}],\"histogram2dcontour\":[{\"colorbar\":{\"outlinewidth\":0,\"ticks\":\"\"},\"colorscale\":[[0.0,\"#0d0887\"],[0.1111111111111111,\"#46039f\"],[0.2222222222222222,\"#7201a8\"],[0.3333333333333333,\"#9c179e\"],[0.4444444444444444,\"#bd3786\"],[0.5555555555555556,\"#d8576b\"],[0.6666666666666666,\"#ed7953\"],[0.7777777777777778,\"#fb9f3a\"],[0.8888888888888888,\"#fdca26\"],[1.0,\"#f0f921\"]],\"type\":\"histogram2dcontour\"}],\"mesh3d\":[{\"colorbar\":{\"outlinewidth\":0,\"ticks\":\"\"},\"type\":\"mesh3d\"}],\"parcoords\":[{\"line\":{\"colorbar\":{\"outlinewidth\":0,\"ticks\":\"\"}},\"type\":\"parcoords\"}],\"pie\":[{\"automargin\":true,\"type\":\"pie\"}],\"scatter\":[{\"marker\":{\"colorbar\":{\"outlinewidth\":0,\"ticks\":\"\"}},\"type\":\"scatter\"}],\"scatter3d\":[{\"line\":{\"colorbar\":{\"outlinewidth\":0,\"ticks\":\"\"}},\"marker\":{\"colorbar\":{\"outlinewidth\":0,\"ticks\":\"\"}},\"type\":\"scatter3d\"}],\"scattercarpet\":[{\"marker\":{\"colorbar\":{\"outlinewidth\":0,\"ticks\":\"\"}},\"type\":\"scattercarpet\"}],\"scattergeo\":[{\"marker\":{\"colorbar\":{\"outlinewidth\":0,\"ticks\":\"\"}},\"type\":\"scattergeo\"}],\"scattergl\":[{\"marker\":{\"colorbar\":{\"outlinewidth\":0,\"ticks\":\"\"}},\"type\":\"scattergl\"}],\"scattermapbox\":[{\"marker\":{\"colorbar\":{\"outlinewidth\":0,\"ticks\":\"\"}},\"type\":\"scattermapbox\"}],\"scatterpolar\":[{\"marker\":{\"colorbar\":{\"outlinewidth\":0,\"ticks\":\"\"}},\"type\":\"scatterpolar\"}],\"scatterpolargl\":[{\"marker\":{\"colorbar\":{\"outlinewidth\":0,\"ticks\":\"\"}},\"type\":\"scatterpolargl\"}],\"scatterternary\":[{\"marker\":{\"colorbar\":{\"outlinewidth\":0,\"ticks\":\"\"}},\"type\":\"scatterternary\"}],\"surface\":[{\"colorbar\":{\"outlinewidth\":0,\"ticks\":\"\"},\"colorscale\":[[0.0,\"#0d0887\"],[0.1111111111111111,\"#46039f\"],[0.2222222222222222,\"#7201a8\"],[0.3333333333333333,\"#9c179e\"],[0.4444444444444444,\"#bd3786\"],[0.5555555555555556,\"#d8576b\"],[0.6666666666666666,\"#ed7953\"],[0.7777777777777778,\"#fb9f3a\"],[0.8888888888888888,\"#fdca26\"],[1.0,\"#f0f921\"]],\"type\":\"surface\"}],\"table\":[{\"cells\":{\"fill\":{\"color\":\"#EBF0F8\"},\"line\":{\"color\":\"white\"}},\"header\":{\"fill\":{\"color\":\"#C8D4E3\"},\"line\":{\"color\":\"white\"}},\"type\":\"table\"}]},\"layout\":{\"annotationdefaults\":{\"arrowcolor\":\"#2a3f5f\",\"arrowhead\":0,\"arrowwidth\":1},\"autotypenumbers\":\"strict\",\"coloraxis\":{\"colorbar\":{\"outlinewidth\":0,\"ticks\":\"\"}},\"colorscale\":{\"diverging\":[[0,\"#8e0152\"],[0.1,\"#c51b7d\"],[0.2,\"#de77ae\"],[0.3,\"#f1b6da\"],[0.4,\"#fde0ef\"],[0.5,\"#f7f7f7\"],[0.6,\"#e6f5d0\"],[0.7,\"#b8e186\"],[0.8,\"#7fbc41\"],[0.9,\"#4d9221\"],[1,\"#276419\"]],\"sequential\":[[0.0,\"#0d0887\"],[0.1111111111111111,\"#46039f\"],[0.2222222222222222,\"#7201a8\"],[0.3333333333333333,\"#9c179e\"],[0.4444444444444444,\"#bd3786\"],[0.5555555555555556,\"#d8576b\"],[0.6666666666666666,\"#ed7953\"],[0.7777777777777778,\"#fb9f3a\"],[0.8888888888888888,\"#fdca26\"],[1.0,\"#f0f921\"]],\"sequentialminus\":[[0.0,\"#0d0887\"],[0.1111111111111111,\"#46039f\"],[0.2222222222222222,\"#7201a8\"],[0.3333333333333333,\"#9c179e\"],[0.4444444444444444,\"#bd3786\"],[0.5555555555555556,\"#d8576b\"],[0.6666666666666666,\"#ed7953\"],[0.7777777777777778,\"#fb9f3a\"],[0.8888888888888888,\"#fdca26\"],[1.0,\"#f0f921\"]]},\"colorway\":[\"#636efa\",\"#EF553B\",\"#00cc96\",\"#ab63fa\",\"#FFA15A\",\"#19d3f3\",\"#FF6692\",\"#B6E880\",\"#FF97FF\",\"#FECB52\"],\"font\":{\"color\":\"#2a3f5f\"},\"geo\":{\"bgcolor\":\"white\",\"lakecolor\":\"white\",\"landcolor\":\"#E5ECF6\",\"showlakes\":true,\"showland\":true,\"subunitcolor\":\"white\"},\"hoverlabel\":{\"align\":\"left\"},\"hovermode\":\"closest\",\"mapbox\":{\"style\":\"light\"},\"paper_bgcolor\":\"white\",\"plot_bgcolor\":\"#E5ECF6\",\"polar\":{\"angularaxis\":{\"gridcolor\":\"white\",\"linecolor\":\"white\",\"ticks\":\"\"},\"bgcolor\":\"#E5ECF6\",\"radialaxis\":{\"gridcolor\":\"white\",\"linecolor\":\"white\",\"ticks\":\"\"}},\"scene\":{\"xaxis\":{\"backgroundcolor\":\"#E5ECF6\",\"gridcolor\":\"white\",\"gridwidth\":2,\"linecolor\":\"white\",\"showbackground\":true,\"ticks\":\"\",\"zerolinecolor\":\"white\"},\"yaxis\":{\"backgroundcolor\":\"#E5ECF6\",\"gridcolor\":\"white\",\"gridwidth\":2,\"linecolor\":\"white\",\"showbackground\":true,\"ticks\":\"\",\"zerolinecolor\":\"white\"},\"zaxis\":{\"backgroundcolor\":\"#E5ECF6\",\"gridcolor\":\"white\",\"gridwidth\":2,\"linecolor\":\"white\",\"showbackground\":true,\"ticks\":\"\",\"zerolinecolor\":\"white\"}},\"shapedefaults\":{\"line\":{\"color\":\"#2a3f5f\"}},\"ternary\":{\"aaxis\":{\"gridcolor\":\"white\",\"linecolor\":\"white\",\"ticks\":\"\"},\"baxis\":{\"gridcolor\":\"white\",\"linecolor\":\"white\",\"ticks\":\"\"},\"bgcolor\":\"#E5ECF6\",\"caxis\":{\"gridcolor\":\"white\",\"linecolor\":\"white\",\"ticks\":\"\"}},\"title\":{\"x\":0.05},\"xaxis\":{\"automargin\":true,\"gridcolor\":\"white\",\"linecolor\":\"white\",\"ticks\":\"\",\"title\":{\"standoff\":15},\"zerolinecolor\":\"white\",\"zerolinewidth\":2},\"yaxis\":{\"automargin\":true,\"gridcolor\":\"white\",\"linecolor\":\"white\",\"ticks\":\"\",\"title\":{\"standoff\":15},\"zerolinecolor\":\"white\",\"zerolinewidth\":2}}},\"xaxis\":{\"anchor\":\"y\",\"domain\":[0.0,1.0],\"title\":{\"text\":\"country_txt\"}},\"yaxis\":{\"anchor\":\"x\",\"domain\":[0.0,1.0],\"title\":{\"text\":\"nkill\"},\"range\":[0,7781.0]},\"coloraxis\":{\"colorbar\":{\"title\":{\"text\":\"nkill\"}},\"colorscale\":[[0.0,\"#0d0887\"],[0.1111111111111111,\"#46039f\"],[0.2222222222222222,\"#7201a8\"],[0.3333333333333333,\"#9c179e\"],[0.4444444444444444,\"#bd3786\"],[0.5555555555555556,\"#d8576b\"],[0.6666666666666666,\"#ed7953\"],[0.7777777777777778,\"#fb9f3a\"],[0.8888888888888888,\"#fdca26\"],[1.0,\"#f0f921\"]]},\"legend\":{\"tracegroupgap\":0},\"title\":{\"text\":\"nombre de morts par terrorisme pour chaque pays africain\"},\"barmode\":\"relative\",\"updatemenus\":[{\"buttons\":[{\"args\":[null,{\"frame\":{\"duration\":500,\"redraw\":true},\"mode\":\"immediate\",\"fromcurrent\":true,\"transition\":{\"duration\":500,\"easing\":\"linear\"}}],\"label\":\"&#9654;\",\"method\":\"animate\"},{\"args\":[[null],{\"frame\":{\"duration\":0,\"redraw\":true},\"mode\":\"immediate\",\"fromcurrent\":true,\"transition\":{\"duration\":0,\"easing\":\"linear\"}}],\"label\":\"&#9724;\",\"method\":\"animate\"}],\"direction\":\"left\",\"pad\":{\"r\":10,\"t\":70},\"showactive\":false,\"type\":\"buttons\",\"x\":0.1,\"xanchor\":\"right\",\"y\":0,\"yanchor\":\"top\"}],\"sliders\":[{\"active\":0,\"currentvalue\":{\"prefix\":\"iyear=\"},\"len\":0.9,\"pad\":{\"b\":10,\"t\":60},\"steps\":[{\"args\":[[\"1972\"],{\"frame\":{\"duration\":0,\"redraw\":true},\"mode\":\"immediate\",\"fromcurrent\":true,\"transition\":{\"duration\":0,\"easing\":\"linear\"}}],\"label\":\"1972\",\"method\":\"animate\"},{\"args\":[[\"1976\"],{\"frame\":{\"duration\":0,\"redraw\":true},\"mode\":\"immediate\",\"fromcurrent\":true,\"transition\":{\"duration\":0,\"easing\":\"linear\"}}],\"label\":\"1976\",\"method\":\"animate\"},{\"args\":[[\"1978\"],{\"frame\":{\"duration\":0,\"redraw\":true},\"mode\":\"immediate\",\"fromcurrent\":true,\"transition\":{\"duration\":0,\"easing\":\"linear\"}}],\"label\":\"1978\",\"method\":\"animate\"},{\"args\":[[\"1979\"],{\"frame\":{\"duration\":0,\"redraw\":true},\"mode\":\"immediate\",\"fromcurrent\":true,\"transition\":{\"duration\":0,\"easing\":\"linear\"}}],\"label\":\"1979\",\"method\":\"animate\"},{\"args\":[[\"1990\"],{\"frame\":{\"duration\":0,\"redraw\":true},\"mode\":\"immediate\",\"fromcurrent\":true,\"transition\":{\"duration\":0,\"easing\":\"linear\"}}],\"label\":\"1990\",\"method\":\"animate\"},{\"args\":[[\"1991\"],{\"frame\":{\"duration\":0,\"redraw\":true},\"mode\":\"immediate\",\"fromcurrent\":true,\"transition\":{\"duration\":0,\"easing\":\"linear\"}}],\"label\":\"1991\",\"method\":\"animate\"},{\"args\":[[\"1992\"],{\"frame\":{\"duration\":0,\"redraw\":true},\"mode\":\"immediate\",\"fromcurrent\":true,\"transition\":{\"duration\":0,\"easing\":\"linear\"}}],\"label\":\"1992\",\"method\":\"animate\"},{\"args\":[[\"1994\"],{\"frame\":{\"duration\":0,\"redraw\":true},\"mode\":\"immediate\",\"fromcurrent\":true,\"transition\":{\"duration\":0,\"easing\":\"linear\"}}],\"label\":\"1994\",\"method\":\"animate\"},{\"args\":[[\"1995\"],{\"frame\":{\"duration\":0,\"redraw\":true},\"mode\":\"immediate\",\"fromcurrent\":true,\"transition\":{\"duration\":0,\"easing\":\"linear\"}}],\"label\":\"1995\",\"method\":\"animate\"},{\"args\":[[\"1996\"],{\"frame\":{\"duration\":0,\"redraw\":true},\"mode\":\"immediate\",\"fromcurrent\":true,\"transition\":{\"duration\":0,\"easing\":\"linear\"}}],\"label\":\"1996\",\"method\":\"animate\"},{\"args\":[[\"1997\"],{\"frame\":{\"duration\":0,\"redraw\":true},\"mode\":\"immediate\",\"fromcurrent\":true,\"transition\":{\"duration\":0,\"easing\":\"linear\"}}],\"label\":\"1997\",\"method\":\"animate\"},{\"args\":[[\"1998\"],{\"frame\":{\"duration\":0,\"redraw\":true},\"mode\":\"immediate\",\"fromcurrent\":true,\"transition\":{\"duration\":0,\"easing\":\"linear\"}}],\"label\":\"1998\",\"method\":\"animate\"},{\"args\":[[\"1999\"],{\"frame\":{\"duration\":0,\"redraw\":true},\"mode\":\"immediate\",\"fromcurrent\":true,\"transition\":{\"duration\":0,\"easing\":\"linear\"}}],\"label\":\"1999\",\"method\":\"animate\"},{\"args\":[[\"2000\"],{\"frame\":{\"duration\":0,\"redraw\":true},\"mode\":\"immediate\",\"fromcurrent\":true,\"transition\":{\"duration\":0,\"easing\":\"linear\"}}],\"label\":\"2000\",\"method\":\"animate\"},{\"args\":[[\"2001\"],{\"frame\":{\"duration\":0,\"redraw\":true},\"mode\":\"immediate\",\"fromcurrent\":true,\"transition\":{\"duration\":0,\"easing\":\"linear\"}}],\"label\":\"2001\",\"method\":\"animate\"},{\"args\":[[\"2002\"],{\"frame\":{\"duration\":0,\"redraw\":true},\"mode\":\"immediate\",\"fromcurrent\":true,\"transition\":{\"duration\":0,\"easing\":\"linear\"}}],\"label\":\"2002\",\"method\":\"animate\"},{\"args\":[[\"2003\"],{\"frame\":{\"duration\":0,\"redraw\":true},\"mode\":\"immediate\",\"fromcurrent\":true,\"transition\":{\"duration\":0,\"easing\":\"linear\"}}],\"label\":\"2003\",\"method\":\"animate\"},{\"args\":[[\"2004\"],{\"frame\":{\"duration\":0,\"redraw\":true},\"mode\":\"immediate\",\"fromcurrent\":true,\"transition\":{\"duration\":0,\"easing\":\"linear\"}}],\"label\":\"2004\",\"method\":\"animate\"},{\"args\":[[\"2005\"],{\"frame\":{\"duration\":0,\"redraw\":true},\"mode\":\"immediate\",\"fromcurrent\":true,\"transition\":{\"duration\":0,\"easing\":\"linear\"}}],\"label\":\"2005\",\"method\":\"animate\"},{\"args\":[[\"2006\"],{\"frame\":{\"duration\":0,\"redraw\":true},\"mode\":\"immediate\",\"fromcurrent\":true,\"transition\":{\"duration\":0,\"easing\":\"linear\"}}],\"label\":\"2006\",\"method\":\"animate\"},{\"args\":[[\"2007\"],{\"frame\":{\"duration\":0,\"redraw\":true},\"mode\":\"immediate\",\"fromcurrent\":true,\"transition\":{\"duration\":0,\"easing\":\"linear\"}}],\"label\":\"2007\",\"method\":\"animate\"},{\"args\":[[\"2008\"],{\"frame\":{\"duration\":0,\"redraw\":true},\"mode\":\"immediate\",\"fromcurrent\":true,\"transition\":{\"duration\":0,\"easing\":\"linear\"}}],\"label\":\"2008\",\"method\":\"animate\"},{\"args\":[[\"2009\"],{\"frame\":{\"duration\":0,\"redraw\":true},\"mode\":\"immediate\",\"fromcurrent\":true,\"transition\":{\"duration\":0,\"easing\":\"linear\"}}],\"label\":\"2009\",\"method\":\"animate\"},{\"args\":[[\"2010\"],{\"frame\":{\"duration\":0,\"redraw\":true},\"mode\":\"immediate\",\"fromcurrent\":true,\"transition\":{\"duration\":0,\"easing\":\"linear\"}}],\"label\":\"2010\",\"method\":\"animate\"},{\"args\":[[\"2011\"],{\"frame\":{\"duration\":0,\"redraw\":true},\"mode\":\"immediate\",\"fromcurrent\":true,\"transition\":{\"duration\":0,\"easing\":\"linear\"}}],\"label\":\"2011\",\"method\":\"animate\"},{\"args\":[[\"2012\"],{\"frame\":{\"duration\":0,\"redraw\":true},\"mode\":\"immediate\",\"fromcurrent\":true,\"transition\":{\"duration\":0,\"easing\":\"linear\"}}],\"label\":\"2012\",\"method\":\"animate\"},{\"args\":[[\"2013\"],{\"frame\":{\"duration\":0,\"redraw\":true},\"mode\":\"immediate\",\"fromcurrent\":true,\"transition\":{\"duration\":0,\"easing\":\"linear\"}}],\"label\":\"2013\",\"method\":\"animate\"},{\"args\":[[\"2014\"],{\"frame\":{\"duration\":0,\"redraw\":true},\"mode\":\"immediate\",\"fromcurrent\":true,\"transition\":{\"duration\":0,\"easing\":\"linear\"}}],\"label\":\"2014\",\"method\":\"animate\"},{\"args\":[[\"2015\"],{\"frame\":{\"duration\":0,\"redraw\":true},\"mode\":\"immediate\",\"fromcurrent\":true,\"transition\":{\"duration\":0,\"easing\":\"linear\"}}],\"label\":\"2015\",\"method\":\"animate\"},{\"args\":[[\"2016\"],{\"frame\":{\"duration\":0,\"redraw\":true},\"mode\":\"immediate\",\"fromcurrent\":true,\"transition\":{\"duration\":0,\"easing\":\"linear\"}}],\"label\":\"2016\",\"method\":\"animate\"},{\"args\":[[\"2017\"],{\"frame\":{\"duration\":0,\"redraw\":true},\"mode\":\"immediate\",\"fromcurrent\":true,\"transition\":{\"duration\":0,\"easing\":\"linear\"}}],\"label\":\"2017\",\"method\":\"animate\"},{\"args\":[[\"1977\"],{\"frame\":{\"duration\":0,\"redraw\":true},\"mode\":\"immediate\",\"fromcurrent\":true,\"transition\":{\"duration\":0,\"easing\":\"linear\"}}],\"label\":\"1977\",\"method\":\"animate\"},{\"args\":[[\"1981\"],{\"frame\":{\"duration\":0,\"redraw\":true},\"mode\":\"immediate\",\"fromcurrent\":true,\"transition\":{\"duration\":0,\"easing\":\"linear\"}}],\"label\":\"1981\",\"method\":\"animate\"},{\"args\":[[\"1982\"],{\"frame\":{\"duration\":0,\"redraw\":true},\"mode\":\"immediate\",\"fromcurrent\":true,\"transition\":{\"duration\":0,\"easing\":\"linear\"}}],\"label\":\"1982\",\"method\":\"animate\"},{\"args\":[[\"1983\"],{\"frame\":{\"duration\":0,\"redraw\":true},\"mode\":\"immediate\",\"fromcurrent\":true,\"transition\":{\"duration\":0,\"easing\":\"linear\"}}],\"label\":\"1983\",\"method\":\"animate\"},{\"args\":[[\"1984\"],{\"frame\":{\"duration\":0,\"redraw\":true},\"mode\":\"immediate\",\"fromcurrent\":true,\"transition\":{\"duration\":0,\"easing\":\"linear\"}}],\"label\":\"1984\",\"method\":\"animate\"},{\"args\":[[\"1985\"],{\"frame\":{\"duration\":0,\"redraw\":true},\"mode\":\"immediate\",\"fromcurrent\":true,\"transition\":{\"duration\":0,\"easing\":\"linear\"}}],\"label\":\"1985\",\"method\":\"animate\"},{\"args\":[[\"1986\"],{\"frame\":{\"duration\":0,\"redraw\":true},\"mode\":\"immediate\",\"fromcurrent\":true,\"transition\":{\"duration\":0,\"easing\":\"linear\"}}],\"label\":\"1986\",\"method\":\"animate\"},{\"args\":[[\"1987\"],{\"frame\":{\"duration\":0,\"redraw\":true},\"mode\":\"immediate\",\"fromcurrent\":true,\"transition\":{\"duration\":0,\"easing\":\"linear\"}}],\"label\":\"1987\",\"method\":\"animate\"},{\"args\":[[\"1988\"],{\"frame\":{\"duration\":0,\"redraw\":true},\"mode\":\"immediate\",\"fromcurrent\":true,\"transition\":{\"duration\":0,\"easing\":\"linear\"}}],\"label\":\"1988\",\"method\":\"animate\"},{\"args\":[[\"1989\"],{\"frame\":{\"duration\":0,\"redraw\":true},\"mode\":\"immediate\",\"fromcurrent\":true,\"transition\":{\"duration\":0,\"easing\":\"linear\"}}],\"label\":\"1989\",\"method\":\"animate\"},{\"args\":[[\"1974\"],{\"frame\":{\"duration\":0,\"redraw\":true},\"mode\":\"immediate\",\"fromcurrent\":true,\"transition\":{\"duration\":0,\"easing\":\"linear\"}}],\"label\":\"1974\",\"method\":\"animate\"},{\"args\":[[\"1970\"],{\"frame\":{\"duration\":0,\"redraw\":true},\"mode\":\"immediate\",\"fromcurrent\":true,\"transition\":{\"duration\":0,\"easing\":\"linear\"}}],\"label\":\"1970\",\"method\":\"animate\"},{\"args\":[[\"1971\"],{\"frame\":{\"duration\":0,\"redraw\":true},\"mode\":\"immediate\",\"fromcurrent\":true,\"transition\":{\"duration\":0,\"easing\":\"linear\"}}],\"label\":\"1971\",\"method\":\"animate\"},{\"args\":[[\"1980\"],{\"frame\":{\"duration\":0,\"redraw\":true},\"mode\":\"immediate\",\"fromcurrent\":true,\"transition\":{\"duration\":0,\"easing\":\"linear\"}}],\"label\":\"1980\",\"method\":\"animate\"},{\"args\":[[\"1973\"],{\"frame\":{\"duration\":0,\"redraw\":true},\"mode\":\"immediate\",\"fromcurrent\":true,\"transition\":{\"duration\":0,\"easing\":\"linear\"}}],\"label\":\"1973\",\"method\":\"animate\"},{\"args\":[[\"1975\"],{\"frame\":{\"duration\":0,\"redraw\":true},\"mode\":\"immediate\",\"fromcurrent\":true,\"transition\":{\"duration\":0,\"easing\":\"linear\"}}],\"label\":\"1975\",\"method\":\"animate\"}],\"x\":0.1,\"xanchor\":\"left\",\"y\":0,\"yanchor\":\"top\"}]},                        {\"responsive\": true}                    ).then(function(){\n",
              "                            Plotly.addFrames('66eaf325-a847-4c86-8a50-beabb6f29b61', [{\"data\":[{\"alignmentgroup\":\"True\",\"hovertemplate\":\"iyear=1972<br>country_txt=%{x}<br>nkill=%{marker.color}<extra></extra>\",\"legendgroup\":\"\",\"marker\":{\"color\":[0.0,0.0,0.0,0.0,0.0],\"coloraxis\":\"coloraxis\",\"pattern\":{\"shape\":\"\"}},\"name\":\"\",\"offsetgroup\":\"\",\"orientation\":\"v\",\"showlegend\":false,\"textposition\":\"auto\",\"x\":[\"Algeria\",\"Egypt\",\"Lebanon\",\"People's Republic of the Congo\",\"Zaire\"],\"xaxis\":\"x\",\"y\":[0.0,0.0,0.0,0.0,0.0],\"yaxis\":\"y\",\"type\":\"bar\"}],\"name\":\"1972\"},{\"data\":[{\"alignmentgroup\":\"True\",\"hovertemplate\":\"iyear=1976<br>country_txt=%{x}<br>nkill=%{marker.color}<extra></extra>\",\"legendgroup\":\"\",\"marker\":{\"color\":[0.0,0.0,0.0,4.0,0.0,3.0,3.0,2.0],\"coloraxis\":\"coloraxis\",\"pattern\":{\"shape\":\"\"}},\"name\":\"\",\"offsetgroup\":\"\",\"orientation\":\"v\",\"showlegend\":false,\"textposition\":\"auto\",\"x\":[\"Algeria\",\"Ethiopia\",\"Kenya\",\"Lebanon\",\"Morocco\",\"Namibia\",\"Nigeria\",\"South Africa\"],\"xaxis\":\"x\",\"y\":[0.0,0.0,0.0,4.0,0.0,3.0,3.0,2.0],\"yaxis\":\"y\",\"type\":\"bar\"}],\"name\":\"1976\"},{\"data\":[{\"alignmentgroup\":\"True\",\"hovertemplate\":\"iyear=1978<br>country_txt=%{x}<br>nkill=%{marker.color}<extra></extra>\",\"legendgroup\":\"\",\"marker\":{\"color\":[0.0,2.0,25.0,4.0,107.0,10.0,2.0,2.0,73.0,6.0,0.0,0.0],\"coloraxis\":\"coloraxis\",\"pattern\":{\"shape\":\"\"}},\"name\":\"\",\"offsetgroup\":\"\",\"orientation\":\"v\",\"showlegend\":false,\"textposition\":\"auto\",\"x\":[\"Algeria\",\"Egypt\",\"Ethiopia\",\"Kenya\",\"Lebanon\",\"Morocco\",\"Mozambique\",\"Namibia\",\"Rhodesia\",\"South Africa\",\"Western Sahara\",\"Zambia\"],\"xaxis\":\"x\",\"y\":[0.0,2.0,25.0,4.0,107.0,10.0,2.0,2.0,73.0,6.0,0.0,0.0],\"yaxis\":\"y\",\"type\":\"bar\"}],\"name\":\"1978\"},{\"data\":[{\"alignmentgroup\":\"True\",\"hovertemplate\":\"iyear=1979<br>country_txt=%{x}<br>nkill=%{marker.color}<extra></extra>\",\"legendgroup\":\"\",\"marker\":{\"color\":[0.0,1.0,4.0,1.0,101.0,2.0,33.0,0.0,0.0,0.0,34.0,32.0,110.0,8.0,1.0,0.0,13.0,0.0],\"coloraxis\":\"coloraxis\",\"pattern\":{\"shape\":\"\"}},\"name\":\"\",\"offsetgroup\":\"\",\"orientation\":\"v\",\"showlegend\":false,\"textposition\":\"auto\",\"x\":[\"Algeria\",\"Angola\",\"Djibouti\",\"Egypt\",\"Ethiopia\",\"Gabon\",\"Lebanon\",\"Lesotho\",\"Libya\",\"Morocco\",\"Mozambique\",\"Namibia\",\"Rhodesia\",\"South Africa\",\"Tanzania\",\"Tunisia\",\"Uganda\",\"Zambia\"],\"xaxis\":\"x\",\"y\":[0.0,1.0,4.0,1.0,101.0,2.0,33.0,0.0,0.0,0.0,34.0,32.0,110.0,8.0,1.0,0.0,13.0,0.0],\"yaxis\":\"y\",\"type\":\"bar\"}],\"name\":\"1979\"},{\"data\":[{\"alignmentgroup\":\"True\",\"hovertemplate\":\"iyear=1990<br>country_txt=%{x}<br>nkill=%{marker.color}<extra></extra>\",\"legendgroup\":\"\",\"marker\":{\"color\":[3.0,147.0,6.0,1.0,21.0,17.0,113.0,2.0,14.0,185.0,0.0,0.0,20.0,5.0,150.0,0.0,84.0,20.0,9.0],\"coloraxis\":\"coloraxis\",\"pattern\":{\"shape\":\"\"}},\"name\":\"\",\"offsetgroup\":\"\",\"orientation\":\"v\",\"showlegend\":false,\"textposition\":\"auto\",\"x\":[\"Algeria\",\"Angola\",\"Botswana\",\"Djibouti\",\"Egypt\",\"Ethiopia\",\"Lebanon\",\"Liberia\",\"Mali\",\"Mozambique\",\"Namibia\",\"Republic of the Congo\",\"Senegal\",\"Somalia\",\"South Africa\",\"Sudan\",\"Uganda\",\"Zambia\",\"Zimbabwe\"],\"xaxis\":\"x\",\"y\":[3.0,147.0,6.0,1.0,21.0,17.0,113.0,2.0,14.0,185.0,0.0,0.0,20.0,5.0,150.0,0.0,84.0,20.0,9.0],\"yaxis\":\"y\",\"type\":\"bar\"}],\"name\":\"1990\"},{\"data\":[{\"alignmentgroup\":\"True\",\"hovertemplate\":\"iyear=1991<br>country_txt=%{x}<br>nkill=%{marker.color}<extra></extra>\",\"legendgroup\":\"\",\"marker\":{\"color\":[42.0,69.0,1.0,117.0,36.0,3.0,40.0,8.0,8.0,161.0,0.0,96.0,0.0,4.0,43.0,3.0,271.0,3.0,8.0,10.0,0.0,5.0,128.0,6.0,384.0,32.0,0.0,13.0,4.0,2.0,3.0,0.0],\"coloraxis\":\"coloraxis\",\"pattern\":{\"shape\":\"\"}},\"name\":\"\",\"offsetgroup\":\"\",\"orientation\":\"v\",\"showlegend\":false,\"textposition\":\"auto\",\"x\":[\"Algeria\",\"Angola\",\"Burkina Faso\",\"Burundi\",\"Cameroon\",\"Central African Republic\",\"Chad\",\"Djibouti\",\"Egypt\",\"Ethiopia\",\"Kenya\",\"Lebanon\",\"Liberia\",\"Madagascar\",\"Mali\",\"Morocco\",\"Mozambique\",\"Namibia\",\"Niger\",\"Nigeria\",\"Rwanda\",\"Senegal\",\"Sierra Leone\",\"Somalia\",\"South Africa\",\"Sudan\",\"Swaziland\",\"Togo\",\"Tunisia\",\"Uganda\",\"Zaire\",\"Zimbabwe\"],\"xaxis\":\"x\",\"y\":[42.0,69.0,1.0,117.0,36.0,3.0,40.0,8.0,8.0,161.0,0.0,96.0,0.0,4.0,43.0,3.0,271.0,3.0,8.0,10.0,0.0,5.0,128.0,6.0,384.0,32.0,0.0,13.0,4.0,2.0,3.0,0.0],\"yaxis\":\"y\",\"type\":\"bar\"}],\"name\":\"1991\"},{\"data\":[{\"alignmentgroup\":\"True\",\"hovertemplate\":\"iyear=1992<br>country_txt=%{x}<br>nkill=%{marker.color}<extra></extra>\",\"legendgroup\":\"\",\"marker\":{\"color\":[236.0,84.0,0.0,61.0,6.0,1.0,170.0,1.0,228.0,49.0,1.0,330.0,0.0,0.0,1.0,155.0,79.0,37.0,0.0,16.0,32.0,5.0,2.0,155.0,34.0,135.0,141.0,64.0,21.0,8.0,706.0,13.0,0.0,12.0,2.0,0.0,2.0,0.0],\"coloraxis\":\"coloraxis\",\"pattern\":{\"shape\":\"\"}},\"name\":\"\",\"offsetgroup\":\"\",\"orientation\":\"v\",\"showlegend\":false,\"textposition\":\"auto\",\"x\":[\"Algeria\",\"Angola\",\"Benin\",\"Burundi\",\"Cameroon\",\"Central African Republic\",\"Chad\",\"Comoros\",\"Djibouti\",\"Egypt\",\"Equatorial Guinea\",\"Ethiopia\",\"Ghana\",\"Guinea\",\"Ivory Coast\",\"Kenya\",\"Lebanon\",\"Liberia\",\"Libya\",\"Madagascar\",\"Malawi\",\"Mali\",\"Morocco\",\"Mozambique\",\"Niger\",\"Nigeria\",\"Rwanda\",\"Senegal\",\"Sierra Leone\",\"Somalia\",\"South Africa\",\"Sudan\",\"Swaziland\",\"Togo\",\"Uganda\",\"Western Sahara\",\"Zaire\",\"Zimbabwe\"],\"xaxis\":\"x\",\"y\":[236.0,84.0,0.0,61.0,6.0,1.0,170.0,1.0,228.0,49.0,1.0,330.0,0.0,0.0,1.0,155.0,79.0,37.0,0.0,16.0,32.0,5.0,2.0,155.0,34.0,135.0,141.0,64.0,21.0,8.0,706.0,13.0,0.0,12.0,2.0,0.0,2.0,0.0],\"yaxis\":\"y\",\"type\":\"bar\"}],\"name\":\"1992\"},{\"data\":[{\"alignmentgroup\":\"True\",\"hovertemplate\":\"iyear=1994<br>country_txt=%{x}<br>nkill=%{marker.color}<extra></extra>\",\"legendgroup\":\"\",\"marker\":{\"color\":[500.0,108.0,0.0,265.0,33.0,2.0,1.0,0.0,6.0,173.0,6.0,0.0,13.0,13.0,2.0,5.0,40.0,57.0,0.0,110.0,131.0,0.0,0.0,0.0,53.0,15.0,12.0,1571.0,5.0,228.0,78.0,447.0,17.0,1.0,47.0,1.0,22.0,1.0,0.0],\"coloraxis\":\"coloraxis\",\"pattern\":{\"shape\":\"\"}},\"name\":\"\",\"offsetgroup\":\"\",\"orientation\":\"v\",\"showlegend\":false,\"textposition\":\"auto\",\"x\":[\"Algeria\",\"Angola\",\"Benin\",\"Burundi\",\"Cameroon\",\"Central African Republic\",\"Chad\",\"Comoros\",\"Djibouti\",\"Egypt\",\"Ethiopia\",\"Gabon\",\"Gambia\",\"Ghana\",\"Guinea\",\"Ivory Coast\",\"Kenya\",\"Lebanon\",\"Lesotho\",\"Liberia\",\"Mali\",\"Morocco\",\"Mozambique\",\"Namibia\",\"Niger\",\"Nigeria\",\"Republic of the Congo\",\"Rwanda\",\"Senegal\",\"Sierra Leone\",\"Somalia\",\"South Africa\",\"Sudan\",\"Tanzania\",\"Togo\",\"Tunisia\",\"Uganda\",\"Zaire\",\"Zimbabwe\"],\"xaxis\":\"x\",\"y\":[500.0,108.0,0.0,265.0,33.0,2.0,1.0,0.0,6.0,173.0,6.0,0.0,13.0,13.0,2.0,5.0,40.0,57.0,0.0,110.0,131.0,0.0,0.0,0.0,53.0,15.0,12.0,1571.0,5.0,228.0,78.0,447.0,17.0,1.0,47.0,1.0,22.0,1.0,0.0],\"yaxis\":\"y\",\"type\":\"bar\"}],\"name\":\"1994\"},{\"data\":[{\"alignmentgroup\":\"True\",\"hovertemplate\":\"iyear=1995<br>country_txt=%{x}<br>nkill=%{marker.color}<extra></extra>\",\"legendgroup\":\"\",\"marker\":{\"color\":[418.0,52.0,0.0,0.0,583.0,5.0,0.0,0.0,134.0,0.0,5.0,0.0,2.0,40.0,2.0,35.0,0.0,4.0,2.0,0.0,15.0,22.0,1.0,201.0,18.0,40.0,29.0,105.0,6.0,0.0,0.0,0.0,7.0,145.0,43.0,0.0,0.0],\"coloraxis\":\"coloraxis\",\"pattern\":{\"shape\":\"\"}},\"name\":\"\",\"offsetgroup\":\"\",\"orientation\":\"v\",\"showlegend\":false,\"textposition\":\"auto\",\"x\":[\"Algeria\",\"Angola\",\"Benin\",\"Botswana\",\"Burundi\",\"Cameroon\",\"Chad\",\"Djibouti\",\"Egypt\",\"Eritrea\",\"Ethiopia\",\"Gambia\",\"Ghana\",\"Ivory Coast\",\"Kenya\",\"Lebanon\",\"Libya\",\"Madagascar\",\"Mali\",\"Morocco\",\"Mozambique\",\"Niger\",\"Nigeria\",\"Rwanda\",\"Senegal\",\"Sierra Leone\",\"Somalia\",\"South Africa\",\"Sudan\",\"Swaziland\",\"Tanzania\",\"Togo\",\"Tunisia\",\"Uganda\",\"Zaire\",\"Zambia\",\"Zimbabwe\"],\"xaxis\":\"x\",\"y\":[418.0,52.0,0.0,0.0,583.0,5.0,0.0,0.0,134.0,0.0,5.0,0.0,2.0,40.0,2.0,35.0,0.0,4.0,2.0,0.0,15.0,22.0,1.0,201.0,18.0,40.0,29.0,105.0,6.0,0.0,0.0,0.0,7.0,145.0,43.0,0.0,0.0],\"yaxis\":\"y\",\"type\":\"bar\"}],\"name\":\"1995\"},{\"data\":[{\"alignmentgroup\":\"True\",\"hovertemplate\":\"iyear=1996<br>country_txt=%{x}<br>nkill=%{marker.color}<extra></extra>\",\"legendgroup\":\"\",\"marker\":{\"color\":[529.0,18.0,0.0,1371.0,2.0,1.0,97.0,6.0,133.0,0.0,3.0,2.0,5.0,2.0,57.0,10.0,12.0,1.0,0.0,0.0,2.0,24.0,0.0,129.0,58.0,28.0,82.0,40.0,3.0,413.0,223.0,0.0],\"coloraxis\":\"coloraxis\",\"pattern\":{\"shape\":\"\"}},\"name\":\"\",\"offsetgroup\":\"\",\"orientation\":\"v\",\"showlegend\":false,\"textposition\":\"auto\",\"x\":[\"Algeria\",\"Angola\",\"Benin\",\"Burundi\",\"Central African Republic\",\"Chad\",\"Egypt\",\"Eritrea\",\"Ethiopia\",\"Gabon\",\"Ghana\",\"Guinea\",\"Ivory Coast\",\"Kenya\",\"Lebanon\",\"Liberia\",\"Libya\",\"Madagascar\",\"Mauritania\",\"Morocco\",\"Niger\",\"Nigeria\",\"Republic of the Congo\",\"Rwanda\",\"Sierra Leone\",\"Somalia\",\"South Africa\",\"Sudan\",\"Togo\",\"Uganda\",\"Zaire\",\"Zambia\"],\"xaxis\":\"x\",\"y\":[529.0,18.0,0.0,1371.0,2.0,1.0,97.0,6.0,133.0,0.0,3.0,2.0,5.0,2.0,57.0,10.0,12.0,1.0,0.0,0.0,2.0,24.0,0.0,129.0,58.0,28.0,82.0,40.0,3.0,413.0,223.0,0.0],\"yaxis\":\"y\",\"type\":\"bar\"}],\"name\":\"1996\"},{\"data\":[{\"alignmentgroup\":\"True\",\"hovertemplate\":\"iyear=1997<br>country_txt=%{x}<br>nkill=%{marker.color}<extra></extra>\",\"legendgroup\":\"\",\"marker\":{\"color\":[4188.0,34.0,386.0,2.0,0.0,8.0,11.0,165.0,8.0,4.0,1.0,0.0,36.0,36.0,0.0,0.0,32.0,107.0,2.0,1027.0,92.0,16.0,145.0,23.0,1.0,0.0,1.0,239.0,13.0],\"coloraxis\":\"coloraxis\",\"pattern\":{\"shape\":\"\"}},\"name\":\"\",\"offsetgroup\":\"\",\"orientation\":\"v\",\"showlegend\":false,\"textposition\":\"auto\",\"x\":[\"Algeria\",\"Angola\",\"Burundi\",\"Chad\",\"Comoros\",\"Democratic Republic of the Congo\",\"Djibouti\",\"Egypt\",\"Ethiopia\",\"Gabon\",\"Ghana\",\"Ivory Coast\",\"Kenya\",\"Lebanon\",\"Madagascar\",\"Mali\",\"Niger\",\"Nigeria\",\"Republic of the Congo\",\"Rwanda\",\"Senegal\",\"Sierra Leone\",\"Somalia\",\"South Africa\",\"Sudan\",\"Swaziland\",\"Tanzania\",\"Uganda\",\"Zaire\"],\"xaxis\":\"x\",\"y\":[4188.0,34.0,386.0,2.0,0.0,8.0,11.0,165.0,8.0,4.0,1.0,0.0,36.0,36.0,0.0,0.0,32.0,107.0,2.0,1027.0,92.0,16.0,145.0,23.0,1.0,0.0,1.0,239.0,13.0],\"yaxis\":\"y\",\"type\":\"bar\"}],\"name\":\"1997\"},{\"data\":[{\"alignmentgroup\":\"True\",\"hovertemplate\":\"iyear=1998<br>country_txt=%{x}<br>nkill=%{marker.color}<extra></extra>\",\"legendgroup\":\"\",\"marker\":{\"color\":[940.0,275.0,392.0,0.0,0.0,67.0,9.0,226.0,17.0,9.0,100.0,4.0,258.0,0.0,13.0,1.0,11.0,81.0],\"coloraxis\":\"coloraxis\",\"pattern\":{\"shape\":\"\"}},\"name\":\"\",\"offsetgroup\":\"\",\"orientation\":\"v\",\"showlegend\":false,\"textposition\":\"auto\",\"x\":[\"Algeria\",\"Angola\",\"Burundi\",\"Cameroon\",\"Chad\",\"Democratic Republic of the Congo\",\"Egypt\",\"Kenya\",\"Lebanon\",\"Nigeria\",\"Rwanda\",\"Senegal\",\"Sierra Leone\",\"Somalia\",\"South Africa\",\"Swaziland\",\"Tanzania\",\"Uganda\"],\"xaxis\":\"x\",\"y\":[940.0,275.0,392.0,0.0,0.0,67.0,9.0,226.0,17.0,9.0,100.0,4.0,258.0,0.0,13.0,1.0,11.0,81.0],\"yaxis\":\"y\",\"type\":\"bar\"}],\"name\":\"1998\"},{\"data\":[{\"alignmentgroup\":\"True\",\"hovertemplate\":\"iyear=1999<br>country_txt=%{x}<br>nkill=%{marker.color}<extra></extra>\",\"legendgroup\":\"\",\"marker\":{\"color\":[445.0,299.0,108.0,77.0,7.0,1.0,2.0,23.0,0.0,0.0,13.0,4.0,134.0,107.0,1.0,28.0,6.0,4.0,16.0,0.0,75.0,1.0],\"coloraxis\":\"coloraxis\",\"pattern\":{\"shape\":\"\"}},\"name\":\"\",\"offsetgroup\":\"\",\"orientation\":\"v\",\"showlegend\":false,\"textposition\":\"auto\",\"x\":[\"Algeria\",\"Angola\",\"Burundi\",\"Chad\",\"Democratic Republic of the Congo\",\"Egypt\",\"Ethiopia\",\"Lebanon\",\"Liberia\",\"Mozambique\",\"Namibia\",\"Niger\",\"Nigeria\",\"Republic of the Congo\",\"Senegal\",\"Sierra Leone\",\"Somalia\",\"South Africa\",\"Sudan\",\"Swaziland\",\"Uganda\",\"Zambia\"],\"xaxis\":\"x\",\"y\":[445.0,299.0,108.0,77.0,7.0,1.0,2.0,23.0,0.0,0.0,13.0,4.0,134.0,107.0,1.0,28.0,6.0,4.0,16.0,0.0,75.0,1.0],\"yaxis\":\"y\",\"type\":\"bar\"}],\"name\":\"1999\"},{\"data\":[{\"alignmentgroup\":\"True\",\"hovertemplate\":\"iyear=2000<br>country_txt=%{x}<br>nkill=%{marker.color}<extra></extra>\",\"legendgroup\":\"\",\"marker\":{\"color\":[519.0,171.0,90.0,1.0,40.0,3.0,0.0,203.0,4.0,26.0,12.0,0.0,1.0,24.0,0.0,4.0,4.0,60.0,36.0,18.0,23.0,0.0,5.0,297.0,0.0,0.0],\"coloraxis\":\"coloraxis\",\"pattern\":{\"shape\":\"\"}},\"name\":\"\",\"offsetgroup\":\"\",\"orientation\":\"v\",\"showlegend\":false,\"textposition\":\"auto\",\"x\":[\"Algeria\",\"Angola\",\"Burundi\",\"Central African Republic\",\"Democratic Republic of the Congo\",\"Ethiopia\",\"Gambia\",\"Guinea\",\"Ivory Coast\",\"Kenya\",\"Lebanon\",\"Liberia\",\"Mozambique\",\"Namibia\",\"Nigeria\",\"Rwanda\",\"Senegal\",\"Sierra Leone\",\"Somalia\",\"South Africa\",\"Sudan\",\"Tanzania\",\"Tunisia\",\"Uganda\",\"Zambia\",\"Zimbabwe\"],\"xaxis\":\"x\",\"y\":[519.0,171.0,90.0,1.0,40.0,3.0,0.0,203.0,4.0,26.0,12.0,0.0,1.0,24.0,0.0,4.0,4.0,60.0,36.0,18.0,23.0,0.0,5.0,297.0,0.0,0.0],\"yaxis\":\"y\",\"type\":\"bar\"}],\"name\":\"2000\"},{\"data\":[{\"alignmentgroup\":\"True\",\"hovertemplate\":\"iyear=2001<br>country_txt=%{x}<br>nkill=%{marker.color}<extra></extra>\",\"legendgroup\":\"\",\"marker\":{\"color\":[579.0,844.0,166.0,7.0,15.0,0.0,12.0,13.0,0.0,1.0,1.0,3.0,0.0,2.0,28.0,3.0,13.0,2.0,3.0,56.0,0.0],\"coloraxis\":\"coloraxis\",\"pattern\":{\"shape\":\"\"}},\"name\":\"\",\"offsetgroup\":\"\",\"orientation\":\"v\",\"showlegend\":false,\"textposition\":\"auto\",\"x\":[\"Algeria\",\"Angola\",\"Burundi\",\"Central African Republic\",\"Democratic Republic of the Congo\",\"Guinea-Bissau\",\"Ivory Coast\",\"Kenya\",\"Lebanon\",\"Liberia\",\"Namibia\",\"Nigeria\",\"Republic of the Congo\",\"Rwanda\",\"Senegal\",\"Somalia\",\"Sudan\",\"Tanzania\",\"Tunisia\",\"Uganda\",\"Zimbabwe\"],\"xaxis\":\"x\",\"y\":[579.0,844.0,166.0,7.0,15.0,0.0,12.0,13.0,0.0,1.0,1.0,3.0,0.0,2.0,28.0,3.0,13.0,2.0,3.0,56.0,0.0],\"yaxis\":\"y\",\"type\":\"bar\"}],\"name\":\"2001\"},{\"data\":[{\"alignmentgroup\":\"True\",\"hovertemplate\":\"iyear=2002<br>country_txt=%{x}<br>nkill=%{marker.color}<extra></extra>\",\"legendgroup\":\"\",\"marker\":{\"color\":[615.0,59.0,65.0,21.0,16.0,1.0,3.0,16.0,2.0,3.0,0.0,1.0,28.0,17.0,8.0,6.0,1.0,565.0,24.0,21.0,173.0,0.0,8.0],\"coloraxis\":\"coloraxis\",\"pattern\":{\"shape\":\"\"}},\"name\":\"\",\"offsetgroup\":\"\",\"orientation\":\"v\",\"showlegend\":false,\"textposition\":\"auto\",\"x\":[\"Algeria\",\"Angola\",\"Burundi\",\"Chad\",\"Democratic Republic of the Congo\",\"Ethiopia\",\"Ivory Coast\",\"Kenya\",\"Lebanon\",\"Liberia\",\"Madagascar\",\"Malawi\",\"Nigeria\",\"Republic of the Congo\",\"Senegal\",\"Somalia\",\"South Africa\",\"Sudan\",\"Tanzania\",\"Tunisia\",\"Uganda\",\"Zambia\",\"Zimbabwe\"],\"xaxis\":\"x\",\"y\":[615.0,59.0,65.0,21.0,16.0,1.0,3.0,16.0,2.0,3.0,0.0,1.0,28.0,17.0,8.0,6.0,1.0,565.0,24.0,21.0,173.0,0.0,8.0],\"yaxis\":\"y\",\"type\":\"bar\"}],\"name\":\"2002\"},{\"data\":[{\"alignmentgroup\":\"True\",\"hovertemplate\":\"iyear=2003<br>country_txt=%{x}<br>nkill=%{marker.color}<extra></extra>\",\"legendgroup\":\"\",\"marker\":{\"color\":[259.0,116.0,89.0,2.0,1.0,3.0,3.0,2.0,45.0,28.0,11.0,7.0,0.0,231.0,0.0],\"coloraxis\":\"coloraxis\",\"pattern\":{\"shape\":\"\"}},\"name\":\"\",\"offsetgroup\":\"\",\"orientation\":\"v\",\"showlegend\":false,\"textposition\":\"auto\",\"x\":[\"Algeria\",\"Burundi\",\"Democratic Republic of the Congo\",\"Ethiopia\",\"Guinea-Bissau\",\"Kenya\",\"Lebanon\",\"Liberia\",\"Morocco\",\"Nigeria\",\"Republic of the Congo\",\"Somalia\",\"Swaziland\",\"Uganda\",\"Zimbabwe\"],\"xaxis\":\"x\",\"y\":[259.0,116.0,89.0,2.0,1.0,3.0,3.0,2.0,45.0,28.0,11.0,7.0,0.0,231.0,0.0],\"yaxis\":\"y\",\"type\":\"bar\"}],\"name\":\"2003\"},{\"data\":[{\"alignmentgroup\":\"True\",\"hovertemplate\":\"iyear=2004<br>country_txt=%{x}<br>nkill=%{marker.color}<extra></extra>\",\"legendgroup\":\"\",\"marker\":{\"color\":[166.0,18.0,22.0,0.0,37.0,1.0,12.0,1.0,0.0,41.0,2.0,28.0,0.0,193.0],\"coloraxis\":\"coloraxis\",\"pattern\":{\"shape\":\"\"}},\"name\":\"\",\"offsetgroup\":\"\",\"orientation\":\"v\",\"showlegend\":false,\"textposition\":\"auto\",\"x\":[\"Algeria\",\"Burundi\",\"Democratic Republic of the Congo\",\"Djibouti\",\"Egypt\",\"Ethiopia\",\"Ivory Coast\",\"Lebanon\",\"Mauritania\",\"Nigeria\",\"Somalia\",\"Sudan\",\"Tanzania\",\"Uganda\"],\"xaxis\":\"x\",\"y\":[166.0,18.0,22.0,0.0,37.0,1.0,12.0,1.0,0.0,41.0,2.0,28.0,0.0,193.0],\"yaxis\":\"y\",\"type\":\"bar\"}],\"name\":\"2004\"},{\"data\":[{\"alignmentgroup\":\"True\",\"hovertemplate\":\"iyear=2005<br>country_txt=%{x}<br>nkill=%{marker.color}<extra></extra>\",\"legendgroup\":\"\",\"marker\":{\"color\":[228.0,13.0,31.0,92.0,9.0,0.0,3.0,41.0,56.0,22.0,0.0,23.0,19.0,30.0,0.0,20.0,54.0,0.0,80.0],\"coloraxis\":\"coloraxis\",\"pattern\":{\"shape\":\"\"}},\"name\":\"\",\"offsetgroup\":\"\",\"orientation\":\"v\",\"showlegend\":false,\"textposition\":\"auto\",\"x\":[\"Algeria\",\"Burundi\",\"Democratic Republic of the Congo\",\"Egypt\",\"Ethiopia\",\"Guinea\",\"Guinea-Bissau\",\"Ivory Coast\",\"Kenya\",\"Lebanon\",\"Mali\",\"Mauritania\",\"Nigeria\",\"Rwanda\",\"Senegal\",\"Somalia\",\"Sudan\",\"Togo\",\"Uganda\"],\"xaxis\":\"x\",\"y\":[228.0,13.0,31.0,92.0,9.0,0.0,3.0,41.0,56.0,22.0,0.0,23.0,19.0,30.0,0.0,20.0,54.0,0.0,80.0],\"yaxis\":\"y\",\"type\":\"bar\"}],\"name\":\"2005\"},{\"data\":[{\"alignmentgroup\":\"True\",\"hovertemplate\":\"iyear=2006<br>country_txt=%{x}<br>nkill=%{marker.color}<extra></extra>\",\"legendgroup\":\"\",\"marker\":{\"color\":[164.0,21.0,4.0,103.0,23.0,19.0,12.0,11.0,20.0,18.0,17.0,0.0,0.0,254.0,22.0,484.0,0.0,0.0],\"coloraxis\":\"coloraxis\",\"pattern\":{\"shape\":\"\"}},\"name\":\"\",\"offsetgroup\":\"\",\"orientation\":\"v\",\"showlegend\":false,\"textposition\":\"auto\",\"x\":[\"Algeria\",\"Burundi\",\"Central African Republic\",\"Chad\",\"Democratic Republic of the Congo\",\"Egypt\",\"Ethiopia\",\"Guinea-Bissau\",\"Ivory Coast\",\"Kenya\",\"Lebanon\",\"Lesotho\",\"Madagascar\",\"Nigeria\",\"Somalia\",\"Sudan\",\"Swaziland\",\"Zimbabwe\"],\"xaxis\":\"x\",\"y\":[164.0,21.0,4.0,103.0,23.0,19.0,12.0,11.0,20.0,18.0,17.0,0.0,0.0,254.0,22.0,484.0,0.0,0.0],\"yaxis\":\"y\",\"type\":\"bar\"}],\"name\":\"2006\"},{\"data\":[{\"alignmentgroup\":\"True\",\"hovertemplate\":\"iyear=2007<br>country_txt=%{x}<br>nkill=%{marker.color}<extra></extra>\",\"legendgroup\":\"\",\"marker\":{\"color\":[240.0,0.0,3.0,31.0,1.0,136.0,72.0,0.0,204.0,0.0,33.0,40.0,0.0,20.0,13.0,6.0,66.0,82.0,1.0,408.0,1.0,317.0,14.0,2.0,0.0,0.0],\"coloraxis\":\"coloraxis\",\"pattern\":{\"shape\":\"\"}},\"name\":\"\",\"offsetgroup\":\"\",\"orientation\":\"v\",\"showlegend\":false,\"textposition\":\"auto\",\"x\":[\"Algeria\",\"Benin\",\"Burundi\",\"Cameroon\",\"Central African Republic\",\"Chad\",\"Democratic Republic of the Congo\",\"Eritrea\",\"Ethiopia\",\"Ivory Coast\",\"Kenya\",\"Lebanon\",\"Libya\",\"Mali\",\"Morocco\",\"Mozambique\",\"Niger\",\"Nigeria\",\"Senegal\",\"Somalia\",\"South Africa\",\"Sudan\",\"Tunisia\",\"Uganda\",\"Western Sahara\",\"Zimbabwe\"],\"xaxis\":\"x\",\"y\":[240.0,0.0,3.0,31.0,1.0,136.0,72.0,0.0,204.0,0.0,33.0,40.0,0.0,20.0,13.0,6.0,66.0,82.0,1.0,408.0,1.0,317.0,14.0,2.0,0.0,0.0],\"yaxis\":\"y\",\"type\":\"bar\"}],\"name\":\"2007\"},{\"data\":[{\"alignmentgroup\":\"True\",\"hovertemplate\":\"iyear=2008<br>country_txt=%{x}<br>nkill=%{marker.color}<extra></extra>\",\"legendgroup\":\"\",\"marker\":{\"color\":[246.0,28.0,3.0,1.0,172.0,319.0,0.0,4.0,27.0,103.0,142.0,12.0,0.0,55.0,12.0,6.0,72.0,0.0,10.0,436.0,0.0,205.0,0.0,0.0,0.0,3.0,7.0],\"coloraxis\":\"coloraxis\",\"pattern\":{\"shape\":\"\"}},\"name\":\"\",\"offsetgroup\":\"\",\"orientation\":\"v\",\"showlegend\":false,\"textposition\":\"auto\",\"x\":[\"Algeria\",\"Burundi\",\"Cameroon\",\"Central African Republic\",\"Chad\",\"Democratic Republic of the Congo\",\"Egypt\",\"Eritrea\",\"Ethiopia\",\"Kenya\",\"Lebanon\",\"Liberia\",\"Libya\",\"Mali\",\"Mauritania\",\"Niger\",\"Nigeria\",\"Rwanda\",\"Senegal\",\"Somalia\",\"South Africa\",\"Sudan\",\"Swaziland\",\"Tanzania\",\"Tunisia\",\"Uganda\",\"Zimbabwe\"],\"xaxis\":\"x\",\"y\":[246.0,28.0,3.0,1.0,172.0,319.0,0.0,4.0,27.0,103.0,142.0,12.0,0.0,55.0,12.0,6.0,72.0,0.0,10.0,436.0,0.0,205.0,0.0,0.0,0.0,3.0,7.0],\"yaxis\":\"y\",\"type\":\"bar\"}],\"name\":\"2008\"},{\"data\":[{\"alignmentgroup\":\"True\",\"hovertemplate\":\"iyear=2009<br>country_txt=%{x}<br>nkill=%{marker.color}<extra></extra>\",\"legendgroup\":\"\",\"marker\":{\"color\":[193.0,2.0,0.0,38.0,0.0,824.0,1.0,1.0,2.0,13.0,1.0,0.0,17.0,0.0,2.0,30.0,2.0,18.0,316.0,4.0,9.0,381.0,77.0,11.0],\"coloraxis\":\"coloraxis\",\"pattern\":{\"shape\":\"\"}},\"name\":\"\",\"offsetgroup\":\"\",\"orientation\":\"v\",\"showlegend\":false,\"textposition\":\"auto\",\"x\":[\"Algeria\",\"Angola\",\"Cameroon\",\"Central African Republic\",\"Chad\",\"Democratic Republic of the Congo\",\"Egypt\",\"Equatorial Guinea\",\"Eritrea\",\"Ethiopia\",\"Guinea-Bissau\",\"Kenya\",\"Lebanon\",\"Lesotho\",\"Madagascar\",\"Mali\",\"Mauritania\",\"Niger\",\"Nigeria\",\"Rwanda\",\"Senegal\",\"Somalia\",\"Sudan\",\"Uganda\"],\"xaxis\":\"x\",\"y\":[193.0,2.0,0.0,38.0,0.0,824.0,1.0,1.0,2.0,13.0,1.0,0.0,17.0,0.0,2.0,30.0,2.0,18.0,316.0,4.0,9.0,381.0,77.0,11.0],\"yaxis\":\"y\",\"type\":\"bar\"}],\"name\":\"2009\"},{\"data\":[{\"alignmentgroup\":\"True\",\"hovertemplate\":\"iyear=2010<br>country_txt=%{x}<br>nkill=%{marker.color}<extra></extra>\",\"legendgroup\":\"\",\"marker\":{\"color\":[101.0,4.0,14.0,5.0,46.0,0.0,99.0,0.0,17.0,8.0,10.0,19.0,2.0,1.0,1.0,9.0,117.0,6.0,3.0,295.0,80.0,0.0,75.0,1.0],\"coloraxis\":\"coloraxis\",\"pattern\":{\"shape\":\"\"}},\"name\":\"\",\"offsetgroup\":\"\",\"orientation\":\"v\",\"showlegend\":false,\"textposition\":\"auto\",\"x\":[\"Algeria\",\"Angola\",\"Burundi\",\"Cameroon\",\"Central African Republic\",\"Chad\",\"Democratic Republic of the Congo\",\"Egypt\",\"Eritrea\",\"Ethiopia\",\"Ivory Coast\",\"Kenya\",\"Lebanon\",\"Mali\",\"Mauritania\",\"Niger\",\"Nigeria\",\"Rwanda\",\"Senegal\",\"Somalia\",\"Sudan\",\"Tanzania\",\"Uganda\",\"Zimbabwe\"],\"xaxis\":\"x\",\"y\":[101.0,4.0,14.0,5.0,46.0,0.0,99.0,0.0,17.0,8.0,10.0,19.0,2.0,1.0,1.0,9.0,117.0,6.0,3.0,295.0,80.0,0.0,75.0,1.0],\"yaxis\":\"y\",\"type\":\"bar\"}],\"name\":\"2010\"},{\"data\":[{\"alignmentgroup\":\"True\",\"hovertemplate\":\"iyear=2011<br>country_txt=%{x}<br>nkill=%{marker.color}<extra></extra>\",\"legendgroup\":\"\",\"marker\":{\"color\":[25.0,47.0,4.0,35.0,50.0,28.0,1.0,23.0,42.0,1.0,0.0,0.0,5.0,1.0,17.0,4.0,447.0,2.0,21.0,337.0,189.0,4.0,0.0],\"coloraxis\":\"coloraxis\",\"pattern\":{\"shape\":\"\"}},\"name\":\"\",\"offsetgroup\":\"\",\"orientation\":\"v\",\"showlegend\":false,\"textposition\":\"auto\",\"x\":[\"Algeria\",\"Burundi\",\"Cameroon\",\"Central African Republic\",\"Democratic Republic of the Congo\",\"Egypt\",\"Ethiopia\",\"Ivory Coast\",\"Kenya\",\"Lebanon\",\"Libya\",\"Madagascar\",\"Mali\",\"Mauritania\",\"Morocco\",\"Niger\",\"Nigeria\",\"Rwanda\",\"Senegal\",\"Somalia\",\"Sudan\",\"Tunisia\",\"Zimbabwe\"],\"xaxis\":\"x\",\"y\":[25.0,47.0,4.0,35.0,50.0,28.0,1.0,23.0,42.0,1.0,0.0,0.0,5.0,1.0,17.0,4.0,447.0,2.0,21.0,337.0,189.0,4.0,0.0],\"yaxis\":\"y\",\"type\":\"bar\"}],\"name\":\"2011\"},{\"data\":[{\"alignmentgroup\":\"True\",\"hovertemplate\":\"iyear=2012<br>country_txt=%{x}<br>nkill=%{marker.color}<extra></extra>\",\"legendgroup\":\"\",\"marker\":{\"color\":[30.0,6.0,14.0,288.0,44.0,25.0,1.0,45.0,107.0,9.0,0.0,33.0,0.0,53.0,1.0,1.0,1508.0,10.0,16.0,783.0,5.0,68.0,60.0,4.0,5.0],\"coloraxis\":\"coloraxis\",\"pattern\":{\"shape\":\"\"}},\"name\":\"\",\"offsetgroup\":\"\",\"orientation\":\"v\",\"showlegend\":false,\"textposition\":\"auto\",\"x\":[\"Algeria\",\"Burundi\",\"Central African Republic\",\"Democratic Republic of the Congo\",\"Egypt\",\"Ethiopia\",\"Guinea-Bissau\",\"Ivory Coast\",\"Kenya\",\"Lebanon\",\"Liberia\",\"Libya\",\"Madagascar\",\"Mali\",\"Mozambique\",\"Niger\",\"Nigeria\",\"Rwanda\",\"Senegal\",\"Somalia\",\"South Africa\",\"South Sudan\",\"Sudan\",\"Tunisia\",\"Uganda\"],\"xaxis\":\"x\",\"y\":[30.0,6.0,14.0,288.0,44.0,25.0,1.0,45.0,107.0,9.0,0.0,33.0,0.0,53.0,1.0,1.0,1508.0,10.0,16.0,783.0,5.0,68.0,60.0,4.0,5.0],\"yaxis\":\"y\",\"type\":\"bar\"}],\"name\":\"2012\"},{\"data\":[{\"alignmentgroup\":\"True\",\"hovertemplate\":\"iyear=2013<br>country_txt=%{x}<br>nkill=%{marker.color}<extra></extra>\",\"legendgroup\":\"\",\"marker\":{\"color\":[101.0,1.0,5.0,7.0,120.0,150.0,243.0,17.0,0.0,4.0,207.0,190.0,232.0,0.0,137.0,37.0,26.0,2014.0,2.0,6.0,7.0,660.0,2.0,226.0,220.0,8.0,25.0,1.0],\"coloraxis\":\"coloraxis\",\"pattern\":{\"shape\":\"\"}},\"name\":\"\",\"offsetgroup\":\"\",\"orientation\":\"v\",\"showlegend\":false,\"textposition\":\"auto\",\"x\":[\"Algeria\",\"Burkina Faso\",\"Burundi\",\"Cameroon\",\"Central African Republic\",\"Democratic Republic of the Congo\",\"Egypt\",\"Ethiopia\",\"Guinea\",\"Ivory Coast\",\"Kenya\",\"Lebanon\",\"Libya\",\"Madagascar\",\"Mali\",\"Mozambique\",\"Niger\",\"Nigeria\",\"Republic of the Congo\",\"Rwanda\",\"Senegal\",\"Somalia\",\"South Africa\",\"South Sudan\",\"Sudan\",\"Tanzania\",\"Tunisia\",\"Zimbabwe\"],\"xaxis\":\"x\",\"y\":[101.0,1.0,5.0,7.0,120.0,150.0,243.0,17.0,0.0,4.0,207.0,190.0,232.0,0.0,137.0,37.0,26.0,2014.0,2.0,6.0,7.0,660.0,2.0,226.0,220.0,8.0,25.0,1.0],\"yaxis\":\"y\",\"type\":\"bar\"}],\"name\":\"2013\"},{\"data\":[{\"alignmentgroup\":\"True\",\"hovertemplate\":\"iyear=2014<br>country_txt=%{x}<br>nkill=%{marker.color}<extra></extra>\",\"legendgroup\":\"\",\"marker\":{\"color\":[37.0,4.0,789.0,751.0,6.0,366.0,5.0,343.0,9.0,0.0,4.0,315.0,134.0,0.0,694.0,1.0,125.0,22.0,11.0,7781.0,1.0,7.0,1589.0,9.0,908.0,546.0,4.0,43.0,98.0,0.0],\"coloraxis\":\"coloraxis\",\"pattern\":{\"shape\":\"\"}},\"name\":\"\",\"offsetgroup\":\"\",\"orientation\":\"v\",\"showlegend\":false,\"textposition\":\"auto\",\"x\":[\"Algeria\",\"Burundi\",\"Cameroon\",\"Central African Republic\",\"Chad\",\"Democratic Republic of the Congo\",\"Djibouti\",\"Egypt\",\"Ethiopia\",\"Ghana\",\"Ivory Coast\",\"Kenya\",\"Lebanon\",\"Liberia\",\"Libya\",\"Madagascar\",\"Mali\",\"Mozambique\",\"Niger\",\"Nigeria\",\"Rwanda\",\"Senegal\",\"Somalia\",\"South Africa\",\"South Sudan\",\"Sudan\",\"Tanzania\",\"Tunisia\",\"Uganda\",\"Zimbabwe\"],\"xaxis\":\"x\",\"y\":[37.0,4.0,789.0,751.0,6.0,366.0,5.0,343.0,9.0,0.0,4.0,315.0,134.0,0.0,694.0,1.0,125.0,22.0,11.0,7781.0,1.0,7.0,1589.0,9.0,908.0,546.0,4.0,43.0,98.0,0.0],\"yaxis\":\"y\",\"type\":\"bar\"}],\"name\":\"2014\"},{\"data\":[{\"alignmentgroup\":\"True\",\"hovertemplate\":\"iyear=2015<br>country_txt=%{x}<br>nkill=%{marker.color}<extra></extra>\",\"legendgroup\":\"\",\"marker\":{\"color\":[21.0,16.0,223.0,931.0,171.0,306.0,371.0,0.0,829.0,48.0,1.0,14.0,281.0,111.0,1.0,689.0,269.0,0.0,12.0,666.0,5559.0,0.0,1447.0,5.0,218.0,210.0,10.0,103.0,4.0],\"coloraxis\":\"coloraxis\",\"pattern\":{\"shape\":\"\"}},\"name\":\"\",\"offsetgroup\":\"\",\"orientation\":\"v\",\"showlegend\":false,\"textposition\":\"auto\",\"x\":[\"Algeria\",\"Burkina Faso\",\"Burundi\",\"Cameroon\",\"Central African Republic\",\"Chad\",\"Democratic Republic of the Congo\",\"Djibouti\",\"Egypt\",\"Ethiopia\",\"Guinea\",\"Ivory Coast\",\"Kenya\",\"Lebanon\",\"Lesotho\",\"Libya\",\"Mali\",\"Morocco\",\"Mozambique\",\"Niger\",\"Nigeria\",\"Senegal\",\"Somalia\",\"South Africa\",\"South Sudan\",\"Sudan\",\"Tanzania\",\"Tunisia\",\"Uganda\"],\"xaxis\":\"x\",\"y\":[21.0,16.0,223.0,931.0,171.0,306.0,371.0,0.0,829.0,48.0,1.0,14.0,281.0,111.0,1.0,689.0,269.0,0.0,12.0,666.0,5559.0,0.0,1447.0,5.0,218.0,210.0,10.0,103.0,4.0],\"yaxis\":\"y\",\"type\":\"bar\"}],\"name\":\"2015\"},{\"data\":[{\"alignmentgroup\":\"True\",\"hovertemplate\":\"iyear=2016<br>country_txt=%{x}<br>nkill=%{marker.color}<extra></extra>\",\"legendgroup\":\"\",\"marker\":{\"color\":[9.0,0.0,62.0,74.0,269.0,189.0,22.0,532.0,609.0,279.0,0.0,1.0,22.0,72.0,25.0,634.0,3.0,181.0,62.0,190.0,2165.0,31.0,0.0,1.0,1583.0,21.0,633.0,182.0,3.0,71.0,75.0],\"coloraxis\":\"coloraxis\",\"pattern\":{\"shape\":\"\"}},\"name\":\"\",\"offsetgroup\":\"\",\"orientation\":\"v\",\"showlegend\":false,\"textposition\":\"auto\",\"x\":[\"Algeria\",\"Angola\",\"Burkina Faso\",\"Burundi\",\"Cameroon\",\"Central African Republic\",\"Chad\",\"Democratic Republic of the Congo\",\"Egypt\",\"Ethiopia\",\"Ghana\",\"Guinea\",\"Ivory Coast\",\"Kenya\",\"Lebanon\",\"Libya\",\"Madagascar\",\"Mali\",\"Mozambique\",\"Niger\",\"Nigeria\",\"Republic of the Congo\",\"Rwanda\",\"Sierra Leone\",\"Somalia\",\"South Africa\",\"South Sudan\",\"Sudan\",\"Tanzania\",\"Tunisia\",\"Uganda\"],\"xaxis\":\"x\",\"y\":[9.0,0.0,62.0,74.0,269.0,189.0,22.0,532.0,609.0,279.0,0.0,1.0,22.0,72.0,25.0,634.0,3.0,181.0,62.0,190.0,2165.0,31.0,0.0,1.0,1583.0,21.0,633.0,182.0,3.0,71.0,75.0],\"yaxis\":\"y\",\"type\":\"bar\"}],\"name\":\"2016\"},{\"data\":[{\"alignmentgroup\":\"True\",\"hovertemplate\":\"iyear=2017<br>country_txt=%{x}<br>nkill=%{marker.color}<extra></extra>\",\"legendgroup\":\"\",\"marker\":{\"color\":[12.0,7.0,53.0,20.0,228.0,601.0,62.0,596.0,0.0,877.0,67.0,0.0,3.0,126.0,17.0,0.0,289.0,0.0,361.0,22.0,148.0,1805.0,2.0,0.0,1912.0,21.0,581.0,82.0,8.0,5.0,7.0,0.0,0.0],\"coloraxis\":\"coloraxis\",\"pattern\":{\"shape\":\"\"}},\"name\":\"\",\"offsetgroup\":\"\",\"orientation\":\"v\",\"showlegend\":false,\"textposition\":\"auto\",\"x\":[\"Algeria\",\"Angola\",\"Burkina Faso\",\"Burundi\",\"Cameroon\",\"Central African Republic\",\"Chad\",\"Democratic Republic of the Congo\",\"Djibouti\",\"Egypt\",\"Ethiopia\",\"Gabon\",\"Ivory Coast\",\"Kenya\",\"Lebanon\",\"Liberia\",\"Libya\",\"Malawi\",\"Mali\",\"Mozambique\",\"Niger\",\"Nigeria\",\"Rwanda\",\"Sierra Leone\",\"Somalia\",\"South Africa\",\"South Sudan\",\"Sudan\",\"Tanzania\",\"Tunisia\",\"Uganda\",\"Zambia\",\"Zimbabwe\"],\"xaxis\":\"x\",\"y\":[12.0,7.0,53.0,20.0,228.0,601.0,62.0,596.0,0.0,877.0,67.0,0.0,3.0,126.0,17.0,0.0,289.0,0.0,361.0,22.0,148.0,1805.0,2.0,0.0,1912.0,21.0,581.0,82.0,8.0,5.0,7.0,0.0,0.0],\"yaxis\":\"y\",\"type\":\"bar\"}],\"name\":\"2017\"},{\"data\":[{\"alignmentgroup\":\"True\",\"hovertemplate\":\"iyear=1977<br>country_txt=%{x}<br>nkill=%{marker.color}<extra></extra>\",\"legendgroup\":\"\",\"marker\":{\"color\":[0.0,1.0,1.0,5.0,3.0,4.0,0.0,5.0,1.0,1.0],\"coloraxis\":\"coloraxis\",\"pattern\":{\"shape\":\"\"}},\"name\":\"\",\"offsetgroup\":\"\",\"orientation\":\"v\",\"showlegend\":false,\"textposition\":\"auto\",\"x\":[\"Angola\",\"Djibouti\",\"Egypt\",\"Ethiopia\",\"Lebanon\",\"Mauritania\",\"People's Republic of the Congo\",\"South Africa\",\"Zaire\",\"Zambia\"],\"xaxis\":\"x\",\"y\":[0.0,1.0,1.0,5.0,3.0,4.0,0.0,5.0,1.0,1.0],\"yaxis\":\"y\",\"type\":\"bar\"}],\"name\":\"1977\"},{\"data\":[{\"alignmentgroup\":\"True\",\"hovertemplate\":\"iyear=1981<br>country_txt=%{x}<br>nkill=%{marker.color}<extra></extra>\",\"legendgroup\":\"\",\"marker\":{\"color\":[3.0,3.0,67.0,264.0,10.0,6.0,0.0,0.0,8.0,2.0,53.0,0.0,13.0],\"coloraxis\":\"coloraxis\",\"pattern\":{\"shape\":\"\"}},\"name\":\"\",\"offsetgroup\":\"\",\"orientation\":\"v\",\"showlegend\":false,\"textposition\":\"auto\",\"x\":[\"Angola\",\"Central African Republic\",\"Egypt\",\"Lebanon\",\"Lesotho\",\"Mozambique\",\"Seychelles\",\"Somalia\",\"South Africa\",\"Sudan\",\"Uganda\",\"Zambia\",\"Zimbabwe\"],\"xaxis\":\"x\",\"y\":[3.0,3.0,67.0,264.0,10.0,6.0,0.0,0.0,8.0,2.0,53.0,0.0,13.0],\"yaxis\":\"y\",\"type\":\"bar\"}],\"name\":\"1981\"},{\"data\":[{\"alignmentgroup\":\"True\",\"hovertemplate\":\"iyear=1982<br>country_txt=%{x}<br>nkill=%{marker.color}<extra></extra>\",\"legendgroup\":\"\",\"marker\":{\"color\":[2.0,0.0,231.0,0.0,18.0,2.0,15.0,9.0,0.0,0.0,0.0,0.0,22.0],\"coloraxis\":\"coloraxis\",\"pattern\":{\"shape\":\"\"}},\"name\":\"\",\"offsetgroup\":\"\",\"orientation\":\"v\",\"showlegend\":false,\"textposition\":\"auto\",\"x\":[\"Angola\",\"Egypt\",\"Lebanon\",\"Lesotho\",\"Mozambique\",\"Namibia\",\"People's Republic of the Congo\",\"South Africa\",\"Sudan\",\"Swaziland\",\"Tanzania\",\"Uganda\",\"Zimbabwe\"],\"xaxis\":\"x\",\"y\":[2.0,0.0,231.0,0.0,18.0,2.0,15.0,9.0,0.0,0.0,0.0,0.0,22.0],\"yaxis\":\"y\",\"type\":\"bar\"}],\"name\":\"1982\"},{\"data\":[{\"alignmentgroup\":\"True\",\"hovertemplate\":\"iyear=1983<br>country_txt=%{x}<br>nkill=%{marker.color}<extra></extra>\",\"legendgroup\":\"\",\"marker\":{\"color\":[282.0,0.0,609.0,30.0,5.0,4.0,1.0,0.0,28.0,0.0,113.0,11.0],\"coloraxis\":\"coloraxis\",\"pattern\":{\"shape\":\"\"}},\"name\":\"\",\"offsetgroup\":\"\",\"orientation\":\"v\",\"showlegend\":false,\"textposition\":\"auto\",\"x\":[\"Angola\",\"Ethiopia\",\"Lebanon\",\"Lesotho\",\"Mozambique\",\"Namibia\",\"Nigeria\",\"Somalia\",\"South Africa\",\"Sudan\",\"Uganda\",\"Zimbabwe\"],\"xaxis\":\"x\",\"y\":[282.0,0.0,609.0,30.0,5.0,4.0,1.0,0.0,28.0,0.0,113.0,11.0],\"yaxis\":\"y\",\"type\":\"bar\"}],\"name\":\"1983\"},{\"data\":[{\"alignmentgroup\":\"True\",\"hovertemplate\":\"iyear=1984<br>country_txt=%{x}<br>nkill=%{marker.color}<extra></extra>\",\"legendgroup\":\"\",\"marker\":{\"color\":[179.0,0.0,200.0,60.0,1.0,15.0,50.0,24.0,0.0,21.0,305.0,1.0,235.0,0.0,2.0,4.0],\"coloraxis\":\"coloraxis\",\"pattern\":{\"shape\":\"\"}},\"name\":\"\",\"offsetgroup\":\"\",\"orientation\":\"v\",\"showlegend\":false,\"textposition\":\"auto\",\"x\":[\"Angola\",\"Chad\",\"Ethiopia\",\"Lebanon\",\"Lesotho\",\"Libya\",\"Mozambique\",\"Namibia\",\"Somalia\",\"South Africa\",\"Sudan\",\"Swaziland\",\"Uganda\",\"Western Sahara\",\"Zaire\",\"Zimbabwe\"],\"xaxis\":\"x\",\"y\":[179.0,0.0,200.0,60.0,1.0,15.0,50.0,24.0,0.0,21.0,305.0,1.0,235.0,0.0,2.0,4.0],\"yaxis\":\"y\",\"type\":\"bar\"}],\"name\":\"1984\"},{\"data\":[{\"alignmentgroup\":\"True\",\"hovertemplate\":\"iyear=1985<br>country_txt=%{x}<br>nkill=%{marker.color}<extra></extra>\",\"legendgroup\":\"\",\"marker\":{\"color\":[6.0,0.0,0.0,2.0,0.0,644.0,0.0,8.0,74.0,3.0,82.0,1.0,32.0,0.0,5.0],\"coloraxis\":\"coloraxis\",\"pattern\":{\"shape\":\"\"}},\"name\":\"\",\"offsetgroup\":\"\",\"orientation\":\"v\",\"showlegend\":false,\"textposition\":\"auto\",\"x\":[\"Angola\",\"Botswana\",\"Chad\",\"Egypt\",\"Ethiopia\",\"Lebanon\",\"Morocco\",\"Mozambique\",\"Namibia\",\"Niger\",\"South Africa\",\"Togo\",\"Uganda\",\"Zambia\",\"Zimbabwe\"],\"xaxis\":\"x\",\"y\":[6.0,0.0,0.0,2.0,0.0,644.0,0.0,8.0,74.0,3.0,82.0,1.0,32.0,0.0,5.0],\"yaxis\":\"y\",\"type\":\"bar\"}],\"name\":\"1985\"},{\"data\":[{\"alignmentgroup\":\"True\",\"hovertemplate\":\"iyear=1986<br>country_txt=%{x}<br>nkill=%{marker.color}<extra></extra>\",\"legendgroup\":\"\",\"marker\":{\"color\":[119.0,0.0,0.0,12.0,40.0,246.0,2.0,470.0,5.0,153.0,8.0,0.0,0.0,1.0,1.0,2.0,1.0],\"coloraxis\":\"coloraxis\",\"pattern\":{\"shape\":\"\"}},\"name\":\"\",\"offsetgroup\":\"\",\"orientation\":\"v\",\"showlegend\":false,\"textposition\":\"auto\",\"x\":[\"Angola\",\"Central African Republic\",\"Chad\",\"Egypt\",\"Ethiopia\",\"Lebanon\",\"Morocco\",\"Mozambique\",\"Namibia\",\"South Africa\",\"Sudan\",\"Swaziland\",\"Tunisia\",\"Uganda\",\"Western Sahara\",\"Zambia\",\"Zimbabwe\"],\"xaxis\":\"x\",\"y\":[119.0,0.0,0.0,12.0,40.0,246.0,2.0,470.0,5.0,153.0,8.0,0.0,0.0,1.0,1.0,2.0,1.0],\"yaxis\":\"y\",\"type\":\"bar\"}],\"name\":\"1986\"},{\"data\":[{\"alignmentgroup\":\"True\",\"hovertemplate\":\"iyear=1987<br>country_txt=%{x}<br>nkill=%{marker.color}<extra></extra>\",\"legendgroup\":\"\",\"marker\":{\"color\":[5.0,3.0,10.0,1.0,0.0,0.0,178.0,200.0,468.0,2.0,0.0,120.0,0.0,4.0,0.0,1.0,0.0,35.0],\"coloraxis\":\"coloraxis\",\"pattern\":{\"shape\":\"\"}},\"name\":\"\",\"offsetgroup\":\"\",\"orientation\":\"v\",\"showlegend\":false,\"textposition\":\"auto\",\"x\":[\"Angola\",\"Botswana\",\"Djibouti\",\"Egypt\",\"Ethiopia\",\"Ghana\",\"Lebanon\",\"Morocco\",\"Mozambique\",\"Namibia\",\"Somalia\",\"South Africa\",\"Sudan\",\"Swaziland\",\"Tunisia\",\"Uganda\",\"Zambia\",\"Zimbabwe\"],\"xaxis\":\"x\",\"y\":[5.0,3.0,10.0,1.0,0.0,0.0,178.0,200.0,468.0,2.0,0.0,120.0,0.0,4.0,0.0,1.0,0.0,35.0],\"yaxis\":\"y\",\"type\":\"bar\"}],\"name\":\"1987\"},{\"data\":[{\"alignmentgroup\":\"True\",\"hovertemplate\":\"iyear=1988<br>country_txt=%{x}<br>nkill=%{marker.color}<extra></extra>\",\"legendgroup\":\"\",\"marker\":{\"color\":[145.0,1.0,0.0,1.0,0.0,176.0,4.0,145.0,25.0,4.0,2.0,0.0,152.0,58.0,160.0,28.0,9.0,2.0],\"coloraxis\":\"coloraxis\",\"pattern\":{\"shape\":\"\"}},\"name\":\"\",\"offsetgroup\":\"\",\"orientation\":\"v\",\"showlegend\":false,\"textposition\":\"auto\",\"x\":[\"Angola\",\"Botswana\",\"Djibouti\",\"Egypt\",\"Ethiopia\",\"Lebanon\",\"Lesotho\",\"Mozambique\",\"Namibia\",\"Nigeria\",\"Senegal\",\"Somalia\",\"South Africa\",\"Sudan\",\"Uganda\",\"Zaire\",\"Zambia\",\"Zimbabwe\"],\"xaxis\":\"x\",\"y\":[145.0,1.0,0.0,1.0,0.0,176.0,4.0,145.0,25.0,4.0,2.0,0.0,152.0,58.0,160.0,28.0,9.0,2.0],\"yaxis\":\"y\",\"type\":\"bar\"}],\"name\":\"1988\"},{\"data\":[{\"alignmentgroup\":\"True\",\"hovertemplate\":\"iyear=1989<br>country_txt=%{x}<br>nkill=%{marker.color}<extra></extra>\",\"legendgroup\":\"\",\"marker\":{\"color\":[88.0,0.0,1.0,1.0,4.0,113.0,710.0,1.0,171.0,30.0,57.0,14.0,0.0,72.0,33.0,21.0],\"coloraxis\":\"coloraxis\",\"pattern\":{\"shape\":\"\"}},\"name\":\"\",\"offsetgroup\":\"\",\"orientation\":\"v\",\"showlegend\":false,\"textposition\":\"auto\",\"x\":[\"Angola\",\"Botswana\",\"Egypt\",\"Ethiopia\",\"Kenya\",\"Lebanon\",\"Mozambique\",\"Namibia\",\"Niger\",\"Somalia\",\"South Africa\",\"Sudan\",\"Swaziland\",\"Uganda\",\"Zambia\",\"Zimbabwe\"],\"xaxis\":\"x\",\"y\":[88.0,0.0,1.0,1.0,4.0,113.0,710.0,1.0,171.0,30.0,57.0,14.0,0.0,72.0,33.0,21.0],\"yaxis\":\"y\",\"type\":\"bar\"}],\"name\":\"1989\"},{\"data\":[{\"alignmentgroup\":\"True\",\"hovertemplate\":\"iyear=1974<br>country_txt=%{x}<br>nkill=%{marker.color}<extra></extra>\",\"legendgroup\":\"\",\"marker\":{\"color\":[1.0,0.0,3.0,0.0,0.0],\"coloraxis\":\"coloraxis\",\"pattern\":{\"shape\":\"\"}},\"name\":\"\",\"offsetgroup\":\"\",\"orientation\":\"v\",\"showlegend\":false,\"textposition\":\"auto\",\"x\":[\"Botswana\",\"Chad\",\"Ethiopia\",\"Lebanon\",\"South Africa\"],\"xaxis\":\"x\",\"y\":[1.0,0.0,3.0,0.0,0.0],\"yaxis\":\"y\",\"type\":\"bar\"}],\"name\":\"1974\"},{\"data\":[{\"alignmentgroup\":\"True\",\"hovertemplate\":\"iyear=1970<br>country_txt=%{x}<br>nkill=%{marker.color}<extra></extra>\",\"legendgroup\":\"\",\"marker\":{\"color\":[0.0,1.0,0.0],\"coloraxis\":\"coloraxis\",\"pattern\":{\"shape\":\"\"}},\"name\":\"\",\"offsetgroup\":\"\",\"orientation\":\"v\",\"showlegend\":false,\"textposition\":\"auto\",\"x\":[\"Egypt\",\"Ethiopia\",\"Lebanon\"],\"xaxis\":\"x\",\"y\":[0.0,1.0,0.0],\"yaxis\":\"y\",\"type\":\"bar\"}],\"name\":\"1970\"},{\"data\":[{\"alignmentgroup\":\"True\",\"hovertemplate\":\"iyear=1971<br>country_txt=%{x}<br>nkill=%{marker.color}<extra></extra>\",\"legendgroup\":\"\",\"marker\":{\"color\":[1.0,0.0,0.0,1.0],\"coloraxis\":\"coloraxis\",\"pattern\":{\"shape\":\"\"}},\"name\":\"\",\"offsetgroup\":\"\",\"orientation\":\"v\",\"showlegend\":false,\"textposition\":\"auto\",\"x\":[\"Egypt\",\"Ethiopia\",\"Lebanon\",\"Zambia\"],\"xaxis\":\"x\",\"y\":[1.0,0.0,0.0,1.0],\"yaxis\":\"y\",\"type\":\"bar\"}],\"name\":\"1971\"},{\"data\":[{\"alignmentgroup\":\"True\",\"hovertemplate\":\"iyear=1980<br>country_txt=%{x}<br>nkill=%{marker.color}<extra></extra>\",\"legendgroup\":\"\",\"marker\":{\"color\":[1.0,1.0,15.0,90.0,0.0,1.0,0.0,24.0,0.0,17.0,41.0,13.0],\"coloraxis\":\"coloraxis\",\"pattern\":{\"shape\":\"\"}},\"name\":\"\",\"offsetgroup\":\"\",\"orientation\":\"v\",\"showlegend\":false,\"textposition\":\"auto\",\"x\":[\"Egypt\",\"Guinea\",\"Kenya\",\"Lebanon\",\"Libya\",\"Namibia\",\"Nigeria\",\"Rhodesia\",\"Senegal\",\"South Africa\",\"Tunisia\",\"Zimbabwe\"],\"xaxis\":\"x\",\"y\":[1.0,1.0,15.0,90.0,0.0,1.0,0.0,24.0,0.0,17.0,41.0,13.0],\"yaxis\":\"y\",\"type\":\"bar\"}],\"name\":\"1980\"},{\"data\":[{\"alignmentgroup\":\"True\",\"hovertemplate\":\"iyear=1973<br>country_txt=%{x}<br>nkill=%{marker.color}<extra></extra>\",\"legendgroup\":\"\",\"marker\":{\"color\":[0.0,4.0,0.0,3.0,0.0,2.0],\"coloraxis\":\"coloraxis\",\"pattern\":{\"shape\":\"\"}},\"name\":\"\",\"offsetgroup\":\"\",\"orientation\":\"v\",\"showlegend\":false,\"textposition\":\"auto\",\"x\":[\"Ethiopia\",\"Lebanon\",\"Morocco\",\"Sudan\",\"Zaire\",\"Zambia\"],\"xaxis\":\"x\",\"y\":[0.0,4.0,0.0,3.0,0.0,2.0],\"yaxis\":\"y\",\"type\":\"bar\"}],\"name\":\"1973\"},{\"data\":[{\"alignmentgroup\":\"True\",\"hovertemplate\":\"iyear=1975<br>country_txt=%{x}<br>nkill=%{marker.color}<extra></extra>\",\"legendgroup\":\"\",\"marker\":{\"color\":[0.0,27.0,28.0,1.0,0.0,0.0,1.0],\"coloraxis\":\"coloraxis\",\"pattern\":{\"shape\":\"\"}},\"name\":\"\",\"offsetgroup\":\"\",\"orientation\":\"v\",\"showlegend\":false,\"textposition\":\"auto\",\"x\":[\"Ethiopia\",\"Kenya\",\"Lebanon\",\"Namibia\",\"Somalia\",\"Tanzania\",\"Zambia\"],\"xaxis\":\"x\",\"y\":[0.0,27.0,28.0,1.0,0.0,0.0,1.0],\"yaxis\":\"y\",\"type\":\"bar\"}],\"name\":\"1975\"}]);\n",
              "                        }).then(function(){\n",
              "                            \n",
              "var gd = document.getElementById('66eaf325-a847-4c86-8a50-beabb6f29b61');\n",
              "var x = new MutationObserver(function (mutations, observer) {{\n",
              "        var display = window.getComputedStyle(gd).display;\n",
              "        if (!display || display === 'none') {{\n",
              "            console.log([gd, 'removed!']);\n",
              "            Plotly.purge(gd);\n",
              "            observer.disconnect();\n",
              "        }}\n",
              "}});\n",
              "\n",
              "// Listen for the removal of the full notebook cells\n",
              "var notebookContainer = gd.closest('#notebook-container');\n",
              "if (notebookContainer) {{\n",
              "    x.observe(notebookContainer, {childList: true});\n",
              "}}\n",
              "\n",
              "// Listen for the clearing of the current output cell\n",
              "var outputEl = gd.closest('.output');\n",
              "if (outputEl) {{\n",
              "    x.observe(outputEl, {childList: true});\n",
              "}}\n",
              "\n",
              "                        })                };                            </script>        </div>\n",
              "</body>\n",
              "</html>"
            ]
          },
          "metadata": {}
        }
      ],
      "source": [
        "px.bar(df_africa, x='country_txt', y=\"nkill\", color=\"nkill\", ##range_x=[df_africa[\"country_txt\"]1,100000], \n",
        "       range_y=[0, df_africa[\"nkill\"].max()], title = f\"nombre de morts par terrorisme pour chaque pays africain\", animation_frame=\"iyear\")"
      ]
    },
    {
      "cell_type": "markdown",
      "source": [
        ""
      ],
      "metadata": {
        "id": "_TUqBWzXeR1-"
      }
    },
    {
      "cell_type": "markdown",
      "source": [
        "## Visualiser le nombre d’africains blessés à cause du terrorisme par région par année"
      ],
      "metadata": {
        "id": "FE45fjqOS9WX"
      }
    },
    {
      "cell_type": "code",
      "source": [
        ""
      ],
      "metadata": {
        "id": "SRRGDBI8hcFp"
      },
      "execution_count": 54,
      "outputs": []
    },
    {
      "cell_type": "code",
      "source": [
        "df_blesse = df_africa.groupby(['country_txt', 'iyear']).sum(\"nwound\").reset_index()#"
      ],
      "metadata": {
        "id": "pJGKNbb6S8yr"
      },
      "execution_count": 55,
      "outputs": []
    },
    {
      "cell_type": "code",
      "execution_count": 56,
      "metadata": {
        "id": "-vtolBqDGBIm",
        "colab": {
          "base_uri": "https://localhost:8080/",
          "height": 542
        },
        "outputId": "019ea6f8-5db2-4ce6-fc59-6cb50f762118"
      },
      "outputs": [
        {
          "output_type": "display_data",
          "data": {
            "text/html": [
              "<html>\n",
              "<head><meta charset=\"utf-8\" /></head>\n",
              "<body>\n",
              "    <div>            <script src=\"https://cdnjs.cloudflare.com/ajax/libs/mathjax/2.7.5/MathJax.js?config=TeX-AMS-MML_SVG\"></script><script type=\"text/javascript\">if (window.MathJax) {MathJax.Hub.Config({SVG: {font: \"STIX-Web\"}});}</script>                <script type=\"text/javascript\">window.PlotlyConfig = {MathJaxConfig: 'local'};</script>\n",
              "        <script src=\"https://cdn.plot.ly/plotly-2.8.3.min.js\"></script>                <div id=\"30084a20-1723-40c6-8254-150524ba2f68\" class=\"plotly-graph-div\" style=\"height:525px; width:100%;\"></div>            <script type=\"text/javascript\">                                    window.PLOTLYENV=window.PLOTLYENV || {};                                    if (document.getElementById(\"30084a20-1723-40c6-8254-150524ba2f68\")) {                    Plotly.newPlot(                        \"30084a20-1723-40c6-8254-150524ba2f68\",                        [{\"alignmentgroup\":\"True\",\"hovertemplate\":\"iyear=1972<br>country_txt=%{x}<br>nkill=%{marker.color}<extra></extra>\",\"legendgroup\":\"\",\"marker\":{\"color\":[0.0,0.0,0.0,0.0,0.0],\"coloraxis\":\"coloraxis\",\"pattern\":{\"shape\":\"\"}},\"name\":\"\",\"offsetgroup\":\"\",\"orientation\":\"v\",\"showlegend\":false,\"textposition\":\"auto\",\"x\":[\"Algeria\",\"Egypt\",\"Lebanon\",\"People's Republic of the Congo\",\"Zaire\"],\"xaxis\":\"x\",\"y\":[0.0,0.0,0.0,0.0,0.0],\"yaxis\":\"y\",\"type\":\"bar\"}],                        {\"template\":{\"data\":{\"bar\":[{\"error_x\":{\"color\":\"#2a3f5f\"},\"error_y\":{\"color\":\"#2a3f5f\"},\"marker\":{\"line\":{\"color\":\"#E5ECF6\",\"width\":0.5},\"pattern\":{\"fillmode\":\"overlay\",\"size\":10,\"solidity\":0.2}},\"type\":\"bar\"}],\"barpolar\":[{\"marker\":{\"line\":{\"color\":\"#E5ECF6\",\"width\":0.5},\"pattern\":{\"fillmode\":\"overlay\",\"size\":10,\"solidity\":0.2}},\"type\":\"barpolar\"}],\"carpet\":[{\"aaxis\":{\"endlinecolor\":\"#2a3f5f\",\"gridcolor\":\"white\",\"linecolor\":\"white\",\"minorgridcolor\":\"white\",\"startlinecolor\":\"#2a3f5f\"},\"baxis\":{\"endlinecolor\":\"#2a3f5f\",\"gridcolor\":\"white\",\"linecolor\":\"white\",\"minorgridcolor\":\"white\",\"startlinecolor\":\"#2a3f5f\"},\"type\":\"carpet\"}],\"choropleth\":[{\"colorbar\":{\"outlinewidth\":0,\"ticks\":\"\"},\"type\":\"choropleth\"}],\"contour\":[{\"colorbar\":{\"outlinewidth\":0,\"ticks\":\"\"},\"colorscale\":[[0.0,\"#0d0887\"],[0.1111111111111111,\"#46039f\"],[0.2222222222222222,\"#7201a8\"],[0.3333333333333333,\"#9c179e\"],[0.4444444444444444,\"#bd3786\"],[0.5555555555555556,\"#d8576b\"],[0.6666666666666666,\"#ed7953\"],[0.7777777777777778,\"#fb9f3a\"],[0.8888888888888888,\"#fdca26\"],[1.0,\"#f0f921\"]],\"type\":\"contour\"}],\"contourcarpet\":[{\"colorbar\":{\"outlinewidth\":0,\"ticks\":\"\"},\"type\":\"contourcarpet\"}],\"heatmap\":[{\"colorbar\":{\"outlinewidth\":0,\"ticks\":\"\"},\"colorscale\":[[0.0,\"#0d0887\"],[0.1111111111111111,\"#46039f\"],[0.2222222222222222,\"#7201a8\"],[0.3333333333333333,\"#9c179e\"],[0.4444444444444444,\"#bd3786\"],[0.5555555555555556,\"#d8576b\"],[0.6666666666666666,\"#ed7953\"],[0.7777777777777778,\"#fb9f3a\"],[0.8888888888888888,\"#fdca26\"],[1.0,\"#f0f921\"]],\"type\":\"heatmap\"}],\"heatmapgl\":[{\"colorbar\":{\"outlinewidth\":0,\"ticks\":\"\"},\"colorscale\":[[0.0,\"#0d0887\"],[0.1111111111111111,\"#46039f\"],[0.2222222222222222,\"#7201a8\"],[0.3333333333333333,\"#9c179e\"],[0.4444444444444444,\"#bd3786\"],[0.5555555555555556,\"#d8576b\"],[0.6666666666666666,\"#ed7953\"],[0.7777777777777778,\"#fb9f3a\"],[0.8888888888888888,\"#fdca26\"],[1.0,\"#f0f921\"]],\"type\":\"heatmapgl\"}],\"histogram\":[{\"marker\":{\"pattern\":{\"fillmode\":\"overlay\",\"size\":10,\"solidity\":0.2}},\"type\":\"histogram\"}],\"histogram2d\":[{\"colorbar\":{\"outlinewidth\":0,\"ticks\":\"\"},\"colorscale\":[[0.0,\"#0d0887\"],[0.1111111111111111,\"#46039f\"],[0.2222222222222222,\"#7201a8\"],[0.3333333333333333,\"#9c179e\"],[0.4444444444444444,\"#bd3786\"],[0.5555555555555556,\"#d8576b\"],[0.6666666666666666,\"#ed7953\"],[0.7777777777777778,\"#fb9f3a\"],[0.8888888888888888,\"#fdca26\"],[1.0,\"#f0f921\"]],\"type\":\"histogram2d\"}],\"histogram2dcontour\":[{\"colorbar\":{\"outlinewidth\":0,\"ticks\":\"\"},\"colorscale\":[[0.0,\"#0d0887\"],[0.1111111111111111,\"#46039f\"],[0.2222222222222222,\"#7201a8\"],[0.3333333333333333,\"#9c179e\"],[0.4444444444444444,\"#bd3786\"],[0.5555555555555556,\"#d8576b\"],[0.6666666666666666,\"#ed7953\"],[0.7777777777777778,\"#fb9f3a\"],[0.8888888888888888,\"#fdca26\"],[1.0,\"#f0f921\"]],\"type\":\"histogram2dcontour\"}],\"mesh3d\":[{\"colorbar\":{\"outlinewidth\":0,\"ticks\":\"\"},\"type\":\"mesh3d\"}],\"parcoords\":[{\"line\":{\"colorbar\":{\"outlinewidth\":0,\"ticks\":\"\"}},\"type\":\"parcoords\"}],\"pie\":[{\"automargin\":true,\"type\":\"pie\"}],\"scatter\":[{\"marker\":{\"colorbar\":{\"outlinewidth\":0,\"ticks\":\"\"}},\"type\":\"scatter\"}],\"scatter3d\":[{\"line\":{\"colorbar\":{\"outlinewidth\":0,\"ticks\":\"\"}},\"marker\":{\"colorbar\":{\"outlinewidth\":0,\"ticks\":\"\"}},\"type\":\"scatter3d\"}],\"scattercarpet\":[{\"marker\":{\"colorbar\":{\"outlinewidth\":0,\"ticks\":\"\"}},\"type\":\"scattercarpet\"}],\"scattergeo\":[{\"marker\":{\"colorbar\":{\"outlinewidth\":0,\"ticks\":\"\"}},\"type\":\"scattergeo\"}],\"scattergl\":[{\"marker\":{\"colorbar\":{\"outlinewidth\":0,\"ticks\":\"\"}},\"type\":\"scattergl\"}],\"scattermapbox\":[{\"marker\":{\"colorbar\":{\"outlinewidth\":0,\"ticks\":\"\"}},\"type\":\"scattermapbox\"}],\"scatterpolar\":[{\"marker\":{\"colorbar\":{\"outlinewidth\":0,\"ticks\":\"\"}},\"type\":\"scatterpolar\"}],\"scatterpolargl\":[{\"marker\":{\"colorbar\":{\"outlinewidth\":0,\"ticks\":\"\"}},\"type\":\"scatterpolargl\"}],\"scatterternary\":[{\"marker\":{\"colorbar\":{\"outlinewidth\":0,\"ticks\":\"\"}},\"type\":\"scatterternary\"}],\"surface\":[{\"colorbar\":{\"outlinewidth\":0,\"ticks\":\"\"},\"colorscale\":[[0.0,\"#0d0887\"],[0.1111111111111111,\"#46039f\"],[0.2222222222222222,\"#7201a8\"],[0.3333333333333333,\"#9c179e\"],[0.4444444444444444,\"#bd3786\"],[0.5555555555555556,\"#d8576b\"],[0.6666666666666666,\"#ed7953\"],[0.7777777777777778,\"#fb9f3a\"],[0.8888888888888888,\"#fdca26\"],[1.0,\"#f0f921\"]],\"type\":\"surface\"}],\"table\":[{\"cells\":{\"fill\":{\"color\":\"#EBF0F8\"},\"line\":{\"color\":\"white\"}},\"header\":{\"fill\":{\"color\":\"#C8D4E3\"},\"line\":{\"color\":\"white\"}},\"type\":\"table\"}]},\"layout\":{\"annotationdefaults\":{\"arrowcolor\":\"#2a3f5f\",\"arrowhead\":0,\"arrowwidth\":1},\"autotypenumbers\":\"strict\",\"coloraxis\":{\"colorbar\":{\"outlinewidth\":0,\"ticks\":\"\"}},\"colorscale\":{\"diverging\":[[0,\"#8e0152\"],[0.1,\"#c51b7d\"],[0.2,\"#de77ae\"],[0.3,\"#f1b6da\"],[0.4,\"#fde0ef\"],[0.5,\"#f7f7f7\"],[0.6,\"#e6f5d0\"],[0.7,\"#b8e186\"],[0.8,\"#7fbc41\"],[0.9,\"#4d9221\"],[1,\"#276419\"]],\"sequential\":[[0.0,\"#0d0887\"],[0.1111111111111111,\"#46039f\"],[0.2222222222222222,\"#7201a8\"],[0.3333333333333333,\"#9c179e\"],[0.4444444444444444,\"#bd3786\"],[0.5555555555555556,\"#d8576b\"],[0.6666666666666666,\"#ed7953\"],[0.7777777777777778,\"#fb9f3a\"],[0.8888888888888888,\"#fdca26\"],[1.0,\"#f0f921\"]],\"sequentialminus\":[[0.0,\"#0d0887\"],[0.1111111111111111,\"#46039f\"],[0.2222222222222222,\"#7201a8\"],[0.3333333333333333,\"#9c179e\"],[0.4444444444444444,\"#bd3786\"],[0.5555555555555556,\"#d8576b\"],[0.6666666666666666,\"#ed7953\"],[0.7777777777777778,\"#fb9f3a\"],[0.8888888888888888,\"#fdca26\"],[1.0,\"#f0f921\"]]},\"colorway\":[\"#636efa\",\"#EF553B\",\"#00cc96\",\"#ab63fa\",\"#FFA15A\",\"#19d3f3\",\"#FF6692\",\"#B6E880\",\"#FF97FF\",\"#FECB52\"],\"font\":{\"color\":\"#2a3f5f\"},\"geo\":{\"bgcolor\":\"white\",\"lakecolor\":\"white\",\"landcolor\":\"#E5ECF6\",\"showlakes\":true,\"showland\":true,\"subunitcolor\":\"white\"},\"hoverlabel\":{\"align\":\"left\"},\"hovermode\":\"closest\",\"mapbox\":{\"style\":\"light\"},\"paper_bgcolor\":\"white\",\"plot_bgcolor\":\"#E5ECF6\",\"polar\":{\"angularaxis\":{\"gridcolor\":\"white\",\"linecolor\":\"white\",\"ticks\":\"\"},\"bgcolor\":\"#E5ECF6\",\"radialaxis\":{\"gridcolor\":\"white\",\"linecolor\":\"white\",\"ticks\":\"\"}},\"scene\":{\"xaxis\":{\"backgroundcolor\":\"#E5ECF6\",\"gridcolor\":\"white\",\"gridwidth\":2,\"linecolor\":\"white\",\"showbackground\":true,\"ticks\":\"\",\"zerolinecolor\":\"white\"},\"yaxis\":{\"backgroundcolor\":\"#E5ECF6\",\"gridcolor\":\"white\",\"gridwidth\":2,\"linecolor\":\"white\",\"showbackground\":true,\"ticks\":\"\",\"zerolinecolor\":\"white\"},\"zaxis\":{\"backgroundcolor\":\"#E5ECF6\",\"gridcolor\":\"white\",\"gridwidth\":2,\"linecolor\":\"white\",\"showbackground\":true,\"ticks\":\"\",\"zerolinecolor\":\"white\"}},\"shapedefaults\":{\"line\":{\"color\":\"#2a3f5f\"}},\"ternary\":{\"aaxis\":{\"gridcolor\":\"white\",\"linecolor\":\"white\",\"ticks\":\"\"},\"baxis\":{\"gridcolor\":\"white\",\"linecolor\":\"white\",\"ticks\":\"\"},\"bgcolor\":\"#E5ECF6\",\"caxis\":{\"gridcolor\":\"white\",\"linecolor\":\"white\",\"ticks\":\"\"}},\"title\":{\"x\":0.05},\"xaxis\":{\"automargin\":true,\"gridcolor\":\"white\",\"linecolor\":\"white\",\"ticks\":\"\",\"title\":{\"standoff\":15},\"zerolinecolor\":\"white\",\"zerolinewidth\":2},\"yaxis\":{\"automargin\":true,\"gridcolor\":\"white\",\"linecolor\":\"white\",\"ticks\":\"\",\"title\":{\"standoff\":15},\"zerolinecolor\":\"white\",\"zerolinewidth\":2}}},\"xaxis\":{\"anchor\":\"y\",\"domain\":[0.0,1.0],\"title\":{\"text\":\"country_txt\"}},\"yaxis\":{\"anchor\":\"x\",\"domain\":[0.0,1.0],\"title\":{\"text\":\"nkill\"},\"range\":[0,7781.0]},\"coloraxis\":{\"colorbar\":{\"title\":{\"text\":\"nkill\"}},\"colorscale\":[[0.0,\"#0d0887\"],[0.1111111111111111,\"#46039f\"],[0.2222222222222222,\"#7201a8\"],[0.3333333333333333,\"#9c179e\"],[0.4444444444444444,\"#bd3786\"],[0.5555555555555556,\"#d8576b\"],[0.6666666666666666,\"#ed7953\"],[0.7777777777777778,\"#fb9f3a\"],[0.8888888888888888,\"#fdca26\"],[1.0,\"#f0f921\"]]},\"legend\":{\"tracegroupgap\":0},\"title\":{\"text\":\"Nombre d\\u2019africains bless\\u00e9s \\u00e0 cause de terrorisme par r\\u00e9gion par ann\\u00e9e\"},\"barmode\":\"relative\",\"updatemenus\":[{\"buttons\":[{\"args\":[null,{\"frame\":{\"duration\":500,\"redraw\":true},\"mode\":\"immediate\",\"fromcurrent\":true,\"transition\":{\"duration\":500,\"easing\":\"linear\"}}],\"label\":\"&#9654;\",\"method\":\"animate\"},{\"args\":[[null],{\"frame\":{\"duration\":0,\"redraw\":true},\"mode\":\"immediate\",\"fromcurrent\":true,\"transition\":{\"duration\":0,\"easing\":\"linear\"}}],\"label\":\"&#9724;\",\"method\":\"animate\"}],\"direction\":\"left\",\"pad\":{\"r\":10,\"t\":70},\"showactive\":false,\"type\":\"buttons\",\"x\":0.1,\"xanchor\":\"right\",\"y\":0,\"yanchor\":\"top\"}],\"sliders\":[{\"active\":0,\"currentvalue\":{\"prefix\":\"iyear=\"},\"len\":0.9,\"pad\":{\"b\":10,\"t\":60},\"steps\":[{\"args\":[[\"1972\"],{\"frame\":{\"duration\":0,\"redraw\":true},\"mode\":\"immediate\",\"fromcurrent\":true,\"transition\":{\"duration\":0,\"easing\":\"linear\"}}],\"label\":\"1972\",\"method\":\"animate\"},{\"args\":[[\"1976\"],{\"frame\":{\"duration\":0,\"redraw\":true},\"mode\":\"immediate\",\"fromcurrent\":true,\"transition\":{\"duration\":0,\"easing\":\"linear\"}}],\"label\":\"1976\",\"method\":\"animate\"},{\"args\":[[\"1978\"],{\"frame\":{\"duration\":0,\"redraw\":true},\"mode\":\"immediate\",\"fromcurrent\":true,\"transition\":{\"duration\":0,\"easing\":\"linear\"}}],\"label\":\"1978\",\"method\":\"animate\"},{\"args\":[[\"1979\"],{\"frame\":{\"duration\":0,\"redraw\":true},\"mode\":\"immediate\",\"fromcurrent\":true,\"transition\":{\"duration\":0,\"easing\":\"linear\"}}],\"label\":\"1979\",\"method\":\"animate\"},{\"args\":[[\"1990\"],{\"frame\":{\"duration\":0,\"redraw\":true},\"mode\":\"immediate\",\"fromcurrent\":true,\"transition\":{\"duration\":0,\"easing\":\"linear\"}}],\"label\":\"1990\",\"method\":\"animate\"},{\"args\":[[\"1991\"],{\"frame\":{\"duration\":0,\"redraw\":true},\"mode\":\"immediate\",\"fromcurrent\":true,\"transition\":{\"duration\":0,\"easing\":\"linear\"}}],\"label\":\"1991\",\"method\":\"animate\"},{\"args\":[[\"1992\"],{\"frame\":{\"duration\":0,\"redraw\":true},\"mode\":\"immediate\",\"fromcurrent\":true,\"transition\":{\"duration\":0,\"easing\":\"linear\"}}],\"label\":\"1992\",\"method\":\"animate\"},{\"args\":[[\"1994\"],{\"frame\":{\"duration\":0,\"redraw\":true},\"mode\":\"immediate\",\"fromcurrent\":true,\"transition\":{\"duration\":0,\"easing\":\"linear\"}}],\"label\":\"1994\",\"method\":\"animate\"},{\"args\":[[\"1995\"],{\"frame\":{\"duration\":0,\"redraw\":true},\"mode\":\"immediate\",\"fromcurrent\":true,\"transition\":{\"duration\":0,\"easing\":\"linear\"}}],\"label\":\"1995\",\"method\":\"animate\"},{\"args\":[[\"1996\"],{\"frame\":{\"duration\":0,\"redraw\":true},\"mode\":\"immediate\",\"fromcurrent\":true,\"transition\":{\"duration\":0,\"easing\":\"linear\"}}],\"label\":\"1996\",\"method\":\"animate\"},{\"args\":[[\"1997\"],{\"frame\":{\"duration\":0,\"redraw\":true},\"mode\":\"immediate\",\"fromcurrent\":true,\"transition\":{\"duration\":0,\"easing\":\"linear\"}}],\"label\":\"1997\",\"method\":\"animate\"},{\"args\":[[\"1998\"],{\"frame\":{\"duration\":0,\"redraw\":true},\"mode\":\"immediate\",\"fromcurrent\":true,\"transition\":{\"duration\":0,\"easing\":\"linear\"}}],\"label\":\"1998\",\"method\":\"animate\"},{\"args\":[[\"1999\"],{\"frame\":{\"duration\":0,\"redraw\":true},\"mode\":\"immediate\",\"fromcurrent\":true,\"transition\":{\"duration\":0,\"easing\":\"linear\"}}],\"label\":\"1999\",\"method\":\"animate\"},{\"args\":[[\"2000\"],{\"frame\":{\"duration\":0,\"redraw\":true},\"mode\":\"immediate\",\"fromcurrent\":true,\"transition\":{\"duration\":0,\"easing\":\"linear\"}}],\"label\":\"2000\",\"method\":\"animate\"},{\"args\":[[\"2001\"],{\"frame\":{\"duration\":0,\"redraw\":true},\"mode\":\"immediate\",\"fromcurrent\":true,\"transition\":{\"duration\":0,\"easing\":\"linear\"}}],\"label\":\"2001\",\"method\":\"animate\"},{\"args\":[[\"2002\"],{\"frame\":{\"duration\":0,\"redraw\":true},\"mode\":\"immediate\",\"fromcurrent\":true,\"transition\":{\"duration\":0,\"easing\":\"linear\"}}],\"label\":\"2002\",\"method\":\"animate\"},{\"args\":[[\"2003\"],{\"frame\":{\"duration\":0,\"redraw\":true},\"mode\":\"immediate\",\"fromcurrent\":true,\"transition\":{\"duration\":0,\"easing\":\"linear\"}}],\"label\":\"2003\",\"method\":\"animate\"},{\"args\":[[\"2004\"],{\"frame\":{\"duration\":0,\"redraw\":true},\"mode\":\"immediate\",\"fromcurrent\":true,\"transition\":{\"duration\":0,\"easing\":\"linear\"}}],\"label\":\"2004\",\"method\":\"animate\"},{\"args\":[[\"2005\"],{\"frame\":{\"duration\":0,\"redraw\":true},\"mode\":\"immediate\",\"fromcurrent\":true,\"transition\":{\"duration\":0,\"easing\":\"linear\"}}],\"label\":\"2005\",\"method\":\"animate\"},{\"args\":[[\"2006\"],{\"frame\":{\"duration\":0,\"redraw\":true},\"mode\":\"immediate\",\"fromcurrent\":true,\"transition\":{\"duration\":0,\"easing\":\"linear\"}}],\"label\":\"2006\",\"method\":\"animate\"},{\"args\":[[\"2007\"],{\"frame\":{\"duration\":0,\"redraw\":true},\"mode\":\"immediate\",\"fromcurrent\":true,\"transition\":{\"duration\":0,\"easing\":\"linear\"}}],\"label\":\"2007\",\"method\":\"animate\"},{\"args\":[[\"2008\"],{\"frame\":{\"duration\":0,\"redraw\":true},\"mode\":\"immediate\",\"fromcurrent\":true,\"transition\":{\"duration\":0,\"easing\":\"linear\"}}],\"label\":\"2008\",\"method\":\"animate\"},{\"args\":[[\"2009\"],{\"frame\":{\"duration\":0,\"redraw\":true},\"mode\":\"immediate\",\"fromcurrent\":true,\"transition\":{\"duration\":0,\"easing\":\"linear\"}}],\"label\":\"2009\",\"method\":\"animate\"},{\"args\":[[\"2010\"],{\"frame\":{\"duration\":0,\"redraw\":true},\"mode\":\"immediate\",\"fromcurrent\":true,\"transition\":{\"duration\":0,\"easing\":\"linear\"}}],\"label\":\"2010\",\"method\":\"animate\"},{\"args\":[[\"2011\"],{\"frame\":{\"duration\":0,\"redraw\":true},\"mode\":\"immediate\",\"fromcurrent\":true,\"transition\":{\"duration\":0,\"easing\":\"linear\"}}],\"label\":\"2011\",\"method\":\"animate\"},{\"args\":[[\"2012\"],{\"frame\":{\"duration\":0,\"redraw\":true},\"mode\":\"immediate\",\"fromcurrent\":true,\"transition\":{\"duration\":0,\"easing\":\"linear\"}}],\"label\":\"2012\",\"method\":\"animate\"},{\"args\":[[\"2013\"],{\"frame\":{\"duration\":0,\"redraw\":true},\"mode\":\"immediate\",\"fromcurrent\":true,\"transition\":{\"duration\":0,\"easing\":\"linear\"}}],\"label\":\"2013\",\"method\":\"animate\"},{\"args\":[[\"2014\"],{\"frame\":{\"duration\":0,\"redraw\":true},\"mode\":\"immediate\",\"fromcurrent\":true,\"transition\":{\"duration\":0,\"easing\":\"linear\"}}],\"label\":\"2014\",\"method\":\"animate\"},{\"args\":[[\"2015\"],{\"frame\":{\"duration\":0,\"redraw\":true},\"mode\":\"immediate\",\"fromcurrent\":true,\"transition\":{\"duration\":0,\"easing\":\"linear\"}}],\"label\":\"2015\",\"method\":\"animate\"},{\"args\":[[\"2016\"],{\"frame\":{\"duration\":0,\"redraw\":true},\"mode\":\"immediate\",\"fromcurrent\":true,\"transition\":{\"duration\":0,\"easing\":\"linear\"}}],\"label\":\"2016\",\"method\":\"animate\"},{\"args\":[[\"2017\"],{\"frame\":{\"duration\":0,\"redraw\":true},\"mode\":\"immediate\",\"fromcurrent\":true,\"transition\":{\"duration\":0,\"easing\":\"linear\"}}],\"label\":\"2017\",\"method\":\"animate\"},{\"args\":[[\"1977\"],{\"frame\":{\"duration\":0,\"redraw\":true},\"mode\":\"immediate\",\"fromcurrent\":true,\"transition\":{\"duration\":0,\"easing\":\"linear\"}}],\"label\":\"1977\",\"method\":\"animate\"},{\"args\":[[\"1981\"],{\"frame\":{\"duration\":0,\"redraw\":true},\"mode\":\"immediate\",\"fromcurrent\":true,\"transition\":{\"duration\":0,\"easing\":\"linear\"}}],\"label\":\"1981\",\"method\":\"animate\"},{\"args\":[[\"1982\"],{\"frame\":{\"duration\":0,\"redraw\":true},\"mode\":\"immediate\",\"fromcurrent\":true,\"transition\":{\"duration\":0,\"easing\":\"linear\"}}],\"label\":\"1982\",\"method\":\"animate\"},{\"args\":[[\"1983\"],{\"frame\":{\"duration\":0,\"redraw\":true},\"mode\":\"immediate\",\"fromcurrent\":true,\"transition\":{\"duration\":0,\"easing\":\"linear\"}}],\"label\":\"1983\",\"method\":\"animate\"},{\"args\":[[\"1984\"],{\"frame\":{\"duration\":0,\"redraw\":true},\"mode\":\"immediate\",\"fromcurrent\":true,\"transition\":{\"duration\":0,\"easing\":\"linear\"}}],\"label\":\"1984\",\"method\":\"animate\"},{\"args\":[[\"1985\"],{\"frame\":{\"duration\":0,\"redraw\":true},\"mode\":\"immediate\",\"fromcurrent\":true,\"transition\":{\"duration\":0,\"easing\":\"linear\"}}],\"label\":\"1985\",\"method\":\"animate\"},{\"args\":[[\"1986\"],{\"frame\":{\"duration\":0,\"redraw\":true},\"mode\":\"immediate\",\"fromcurrent\":true,\"transition\":{\"duration\":0,\"easing\":\"linear\"}}],\"label\":\"1986\",\"method\":\"animate\"},{\"args\":[[\"1987\"],{\"frame\":{\"duration\":0,\"redraw\":true},\"mode\":\"immediate\",\"fromcurrent\":true,\"transition\":{\"duration\":0,\"easing\":\"linear\"}}],\"label\":\"1987\",\"method\":\"animate\"},{\"args\":[[\"1988\"],{\"frame\":{\"duration\":0,\"redraw\":true},\"mode\":\"immediate\",\"fromcurrent\":true,\"transition\":{\"duration\":0,\"easing\":\"linear\"}}],\"label\":\"1988\",\"method\":\"animate\"},{\"args\":[[\"1989\"],{\"frame\":{\"duration\":0,\"redraw\":true},\"mode\":\"immediate\",\"fromcurrent\":true,\"transition\":{\"duration\":0,\"easing\":\"linear\"}}],\"label\":\"1989\",\"method\":\"animate\"},{\"args\":[[\"1974\"],{\"frame\":{\"duration\":0,\"redraw\":true},\"mode\":\"immediate\",\"fromcurrent\":true,\"transition\":{\"duration\":0,\"easing\":\"linear\"}}],\"label\":\"1974\",\"method\":\"animate\"},{\"args\":[[\"1970\"],{\"frame\":{\"duration\":0,\"redraw\":true},\"mode\":\"immediate\",\"fromcurrent\":true,\"transition\":{\"duration\":0,\"easing\":\"linear\"}}],\"label\":\"1970\",\"method\":\"animate\"},{\"args\":[[\"1971\"],{\"frame\":{\"duration\":0,\"redraw\":true},\"mode\":\"immediate\",\"fromcurrent\":true,\"transition\":{\"duration\":0,\"easing\":\"linear\"}}],\"label\":\"1971\",\"method\":\"animate\"},{\"args\":[[\"1980\"],{\"frame\":{\"duration\":0,\"redraw\":true},\"mode\":\"immediate\",\"fromcurrent\":true,\"transition\":{\"duration\":0,\"easing\":\"linear\"}}],\"label\":\"1980\",\"method\":\"animate\"},{\"args\":[[\"1973\"],{\"frame\":{\"duration\":0,\"redraw\":true},\"mode\":\"immediate\",\"fromcurrent\":true,\"transition\":{\"duration\":0,\"easing\":\"linear\"}}],\"label\":\"1973\",\"method\":\"animate\"},{\"args\":[[\"1975\"],{\"frame\":{\"duration\":0,\"redraw\":true},\"mode\":\"immediate\",\"fromcurrent\":true,\"transition\":{\"duration\":0,\"easing\":\"linear\"}}],\"label\":\"1975\",\"method\":\"animate\"}],\"x\":0.1,\"xanchor\":\"left\",\"y\":0,\"yanchor\":\"top\"}]},                        {\"responsive\": true}                    ).then(function(){\n",
              "                            Plotly.addFrames('30084a20-1723-40c6-8254-150524ba2f68', [{\"data\":[{\"alignmentgroup\":\"True\",\"hovertemplate\":\"iyear=1972<br>country_txt=%{x}<br>nkill=%{marker.color}<extra></extra>\",\"legendgroup\":\"\",\"marker\":{\"color\":[0.0,0.0,0.0,0.0,0.0],\"coloraxis\":\"coloraxis\",\"pattern\":{\"shape\":\"\"}},\"name\":\"\",\"offsetgroup\":\"\",\"orientation\":\"v\",\"showlegend\":false,\"textposition\":\"auto\",\"x\":[\"Algeria\",\"Egypt\",\"Lebanon\",\"People's Republic of the Congo\",\"Zaire\"],\"xaxis\":\"x\",\"y\":[0.0,0.0,0.0,0.0,0.0],\"yaxis\":\"y\",\"type\":\"bar\"}],\"name\":\"1972\"},{\"data\":[{\"alignmentgroup\":\"True\",\"hovertemplate\":\"iyear=1976<br>country_txt=%{x}<br>nkill=%{marker.color}<extra></extra>\",\"legendgroup\":\"\",\"marker\":{\"color\":[0.0,0.0,0.0,4.0,0.0,3.0,3.0,2.0],\"coloraxis\":\"coloraxis\",\"pattern\":{\"shape\":\"\"}},\"name\":\"\",\"offsetgroup\":\"\",\"orientation\":\"v\",\"showlegend\":false,\"textposition\":\"auto\",\"x\":[\"Algeria\",\"Ethiopia\",\"Kenya\",\"Lebanon\",\"Morocco\",\"Namibia\",\"Nigeria\",\"South Africa\"],\"xaxis\":\"x\",\"y\":[0.0,0.0,0.0,4.0,0.0,3.0,3.0,2.0],\"yaxis\":\"y\",\"type\":\"bar\"}],\"name\":\"1976\"},{\"data\":[{\"alignmentgroup\":\"True\",\"hovertemplate\":\"iyear=1978<br>country_txt=%{x}<br>nkill=%{marker.color}<extra></extra>\",\"legendgroup\":\"\",\"marker\":{\"color\":[0.0,2.0,25.0,4.0,107.0,10.0,2.0,2.0,73.0,6.0,0.0,0.0],\"coloraxis\":\"coloraxis\",\"pattern\":{\"shape\":\"\"}},\"name\":\"\",\"offsetgroup\":\"\",\"orientation\":\"v\",\"showlegend\":false,\"textposition\":\"auto\",\"x\":[\"Algeria\",\"Egypt\",\"Ethiopia\",\"Kenya\",\"Lebanon\",\"Morocco\",\"Mozambique\",\"Namibia\",\"Rhodesia\",\"South Africa\",\"Western Sahara\",\"Zambia\"],\"xaxis\":\"x\",\"y\":[0.0,2.0,25.0,4.0,107.0,10.0,2.0,2.0,73.0,6.0,0.0,0.0],\"yaxis\":\"y\",\"type\":\"bar\"}],\"name\":\"1978\"},{\"data\":[{\"alignmentgroup\":\"True\",\"hovertemplate\":\"iyear=1979<br>country_txt=%{x}<br>nkill=%{marker.color}<extra></extra>\",\"legendgroup\":\"\",\"marker\":{\"color\":[0.0,1.0,4.0,1.0,101.0,2.0,33.0,0.0,0.0,0.0,34.0,32.0,110.0,8.0,1.0,0.0,13.0,0.0],\"coloraxis\":\"coloraxis\",\"pattern\":{\"shape\":\"\"}},\"name\":\"\",\"offsetgroup\":\"\",\"orientation\":\"v\",\"showlegend\":false,\"textposition\":\"auto\",\"x\":[\"Algeria\",\"Angola\",\"Djibouti\",\"Egypt\",\"Ethiopia\",\"Gabon\",\"Lebanon\",\"Lesotho\",\"Libya\",\"Morocco\",\"Mozambique\",\"Namibia\",\"Rhodesia\",\"South Africa\",\"Tanzania\",\"Tunisia\",\"Uganda\",\"Zambia\"],\"xaxis\":\"x\",\"y\":[0.0,1.0,4.0,1.0,101.0,2.0,33.0,0.0,0.0,0.0,34.0,32.0,110.0,8.0,1.0,0.0,13.0,0.0],\"yaxis\":\"y\",\"type\":\"bar\"}],\"name\":\"1979\"},{\"data\":[{\"alignmentgroup\":\"True\",\"hovertemplate\":\"iyear=1990<br>country_txt=%{x}<br>nkill=%{marker.color}<extra></extra>\",\"legendgroup\":\"\",\"marker\":{\"color\":[3.0,147.0,6.0,1.0,21.0,17.0,113.0,2.0,14.0,185.0,0.0,0.0,20.0,5.0,150.0,0.0,84.0,20.0,9.0],\"coloraxis\":\"coloraxis\",\"pattern\":{\"shape\":\"\"}},\"name\":\"\",\"offsetgroup\":\"\",\"orientation\":\"v\",\"showlegend\":false,\"textposition\":\"auto\",\"x\":[\"Algeria\",\"Angola\",\"Botswana\",\"Djibouti\",\"Egypt\",\"Ethiopia\",\"Lebanon\",\"Liberia\",\"Mali\",\"Mozambique\",\"Namibia\",\"Republic of the Congo\",\"Senegal\",\"Somalia\",\"South Africa\",\"Sudan\",\"Uganda\",\"Zambia\",\"Zimbabwe\"],\"xaxis\":\"x\",\"y\":[3.0,147.0,6.0,1.0,21.0,17.0,113.0,2.0,14.0,185.0,0.0,0.0,20.0,5.0,150.0,0.0,84.0,20.0,9.0],\"yaxis\":\"y\",\"type\":\"bar\"}],\"name\":\"1990\"},{\"data\":[{\"alignmentgroup\":\"True\",\"hovertemplate\":\"iyear=1991<br>country_txt=%{x}<br>nkill=%{marker.color}<extra></extra>\",\"legendgroup\":\"\",\"marker\":{\"color\":[42.0,69.0,1.0,117.0,36.0,3.0,40.0,8.0,8.0,161.0,0.0,96.0,0.0,4.0,43.0,3.0,271.0,3.0,8.0,10.0,0.0,5.0,128.0,6.0,384.0,32.0,0.0,13.0,4.0,2.0,3.0,0.0],\"coloraxis\":\"coloraxis\",\"pattern\":{\"shape\":\"\"}},\"name\":\"\",\"offsetgroup\":\"\",\"orientation\":\"v\",\"showlegend\":false,\"textposition\":\"auto\",\"x\":[\"Algeria\",\"Angola\",\"Burkina Faso\",\"Burundi\",\"Cameroon\",\"Central African Republic\",\"Chad\",\"Djibouti\",\"Egypt\",\"Ethiopia\",\"Kenya\",\"Lebanon\",\"Liberia\",\"Madagascar\",\"Mali\",\"Morocco\",\"Mozambique\",\"Namibia\",\"Niger\",\"Nigeria\",\"Rwanda\",\"Senegal\",\"Sierra Leone\",\"Somalia\",\"South Africa\",\"Sudan\",\"Swaziland\",\"Togo\",\"Tunisia\",\"Uganda\",\"Zaire\",\"Zimbabwe\"],\"xaxis\":\"x\",\"y\":[42.0,69.0,1.0,117.0,36.0,3.0,40.0,8.0,8.0,161.0,0.0,96.0,0.0,4.0,43.0,3.0,271.0,3.0,8.0,10.0,0.0,5.0,128.0,6.0,384.0,32.0,0.0,13.0,4.0,2.0,3.0,0.0],\"yaxis\":\"y\",\"type\":\"bar\"}],\"name\":\"1991\"},{\"data\":[{\"alignmentgroup\":\"True\",\"hovertemplate\":\"iyear=1992<br>country_txt=%{x}<br>nkill=%{marker.color}<extra></extra>\",\"legendgroup\":\"\",\"marker\":{\"color\":[236.0,84.0,0.0,61.0,6.0,1.0,170.0,1.0,228.0,49.0,1.0,330.0,0.0,0.0,1.0,155.0,79.0,37.0,0.0,16.0,32.0,5.0,2.0,155.0,34.0,135.0,141.0,64.0,21.0,8.0,706.0,13.0,0.0,12.0,2.0,0.0,2.0,0.0],\"coloraxis\":\"coloraxis\",\"pattern\":{\"shape\":\"\"}},\"name\":\"\",\"offsetgroup\":\"\",\"orientation\":\"v\",\"showlegend\":false,\"textposition\":\"auto\",\"x\":[\"Algeria\",\"Angola\",\"Benin\",\"Burundi\",\"Cameroon\",\"Central African Republic\",\"Chad\",\"Comoros\",\"Djibouti\",\"Egypt\",\"Equatorial Guinea\",\"Ethiopia\",\"Ghana\",\"Guinea\",\"Ivory Coast\",\"Kenya\",\"Lebanon\",\"Liberia\",\"Libya\",\"Madagascar\",\"Malawi\",\"Mali\",\"Morocco\",\"Mozambique\",\"Niger\",\"Nigeria\",\"Rwanda\",\"Senegal\",\"Sierra Leone\",\"Somalia\",\"South Africa\",\"Sudan\",\"Swaziland\",\"Togo\",\"Uganda\",\"Western Sahara\",\"Zaire\",\"Zimbabwe\"],\"xaxis\":\"x\",\"y\":[236.0,84.0,0.0,61.0,6.0,1.0,170.0,1.0,228.0,49.0,1.0,330.0,0.0,0.0,1.0,155.0,79.0,37.0,0.0,16.0,32.0,5.0,2.0,155.0,34.0,135.0,141.0,64.0,21.0,8.0,706.0,13.0,0.0,12.0,2.0,0.0,2.0,0.0],\"yaxis\":\"y\",\"type\":\"bar\"}],\"name\":\"1992\"},{\"data\":[{\"alignmentgroup\":\"True\",\"hovertemplate\":\"iyear=1994<br>country_txt=%{x}<br>nkill=%{marker.color}<extra></extra>\",\"legendgroup\":\"\",\"marker\":{\"color\":[500.0,108.0,0.0,265.0,33.0,2.0,1.0,0.0,6.0,173.0,6.0,0.0,13.0,13.0,2.0,5.0,40.0,57.0,0.0,110.0,131.0,0.0,0.0,0.0,53.0,15.0,12.0,1571.0,5.0,228.0,78.0,447.0,17.0,1.0,47.0,1.0,22.0,1.0,0.0],\"coloraxis\":\"coloraxis\",\"pattern\":{\"shape\":\"\"}},\"name\":\"\",\"offsetgroup\":\"\",\"orientation\":\"v\",\"showlegend\":false,\"textposition\":\"auto\",\"x\":[\"Algeria\",\"Angola\",\"Benin\",\"Burundi\",\"Cameroon\",\"Central African Republic\",\"Chad\",\"Comoros\",\"Djibouti\",\"Egypt\",\"Ethiopia\",\"Gabon\",\"Gambia\",\"Ghana\",\"Guinea\",\"Ivory Coast\",\"Kenya\",\"Lebanon\",\"Lesotho\",\"Liberia\",\"Mali\",\"Morocco\",\"Mozambique\",\"Namibia\",\"Niger\",\"Nigeria\",\"Republic of the Congo\",\"Rwanda\",\"Senegal\",\"Sierra Leone\",\"Somalia\",\"South Africa\",\"Sudan\",\"Tanzania\",\"Togo\",\"Tunisia\",\"Uganda\",\"Zaire\",\"Zimbabwe\"],\"xaxis\":\"x\",\"y\":[500.0,108.0,0.0,265.0,33.0,2.0,1.0,0.0,6.0,173.0,6.0,0.0,13.0,13.0,2.0,5.0,40.0,57.0,0.0,110.0,131.0,0.0,0.0,0.0,53.0,15.0,12.0,1571.0,5.0,228.0,78.0,447.0,17.0,1.0,47.0,1.0,22.0,1.0,0.0],\"yaxis\":\"y\",\"type\":\"bar\"}],\"name\":\"1994\"},{\"data\":[{\"alignmentgroup\":\"True\",\"hovertemplate\":\"iyear=1995<br>country_txt=%{x}<br>nkill=%{marker.color}<extra></extra>\",\"legendgroup\":\"\",\"marker\":{\"color\":[418.0,52.0,0.0,0.0,583.0,5.0,0.0,0.0,134.0,0.0,5.0,0.0,2.0,40.0,2.0,35.0,0.0,4.0,2.0,0.0,15.0,22.0,1.0,201.0,18.0,40.0,29.0,105.0,6.0,0.0,0.0,0.0,7.0,145.0,43.0,0.0,0.0],\"coloraxis\":\"coloraxis\",\"pattern\":{\"shape\":\"\"}},\"name\":\"\",\"offsetgroup\":\"\",\"orientation\":\"v\",\"showlegend\":false,\"textposition\":\"auto\",\"x\":[\"Algeria\",\"Angola\",\"Benin\",\"Botswana\",\"Burundi\",\"Cameroon\",\"Chad\",\"Djibouti\",\"Egypt\",\"Eritrea\",\"Ethiopia\",\"Gambia\",\"Ghana\",\"Ivory Coast\",\"Kenya\",\"Lebanon\",\"Libya\",\"Madagascar\",\"Mali\",\"Morocco\",\"Mozambique\",\"Niger\",\"Nigeria\",\"Rwanda\",\"Senegal\",\"Sierra Leone\",\"Somalia\",\"South Africa\",\"Sudan\",\"Swaziland\",\"Tanzania\",\"Togo\",\"Tunisia\",\"Uganda\",\"Zaire\",\"Zambia\",\"Zimbabwe\"],\"xaxis\":\"x\",\"y\":[418.0,52.0,0.0,0.0,583.0,5.0,0.0,0.0,134.0,0.0,5.0,0.0,2.0,40.0,2.0,35.0,0.0,4.0,2.0,0.0,15.0,22.0,1.0,201.0,18.0,40.0,29.0,105.0,6.0,0.0,0.0,0.0,7.0,145.0,43.0,0.0,0.0],\"yaxis\":\"y\",\"type\":\"bar\"}],\"name\":\"1995\"},{\"data\":[{\"alignmentgroup\":\"True\",\"hovertemplate\":\"iyear=1996<br>country_txt=%{x}<br>nkill=%{marker.color}<extra></extra>\",\"legendgroup\":\"\",\"marker\":{\"color\":[529.0,18.0,0.0,1371.0,2.0,1.0,97.0,6.0,133.0,0.0,3.0,2.0,5.0,2.0,57.0,10.0,12.0,1.0,0.0,0.0,2.0,24.0,0.0,129.0,58.0,28.0,82.0,40.0,3.0,413.0,223.0,0.0],\"coloraxis\":\"coloraxis\",\"pattern\":{\"shape\":\"\"}},\"name\":\"\",\"offsetgroup\":\"\",\"orientation\":\"v\",\"showlegend\":false,\"textposition\":\"auto\",\"x\":[\"Algeria\",\"Angola\",\"Benin\",\"Burundi\",\"Central African Republic\",\"Chad\",\"Egypt\",\"Eritrea\",\"Ethiopia\",\"Gabon\",\"Ghana\",\"Guinea\",\"Ivory Coast\",\"Kenya\",\"Lebanon\",\"Liberia\",\"Libya\",\"Madagascar\",\"Mauritania\",\"Morocco\",\"Niger\",\"Nigeria\",\"Republic of the Congo\",\"Rwanda\",\"Sierra Leone\",\"Somalia\",\"South Africa\",\"Sudan\",\"Togo\",\"Uganda\",\"Zaire\",\"Zambia\"],\"xaxis\":\"x\",\"y\":[529.0,18.0,0.0,1371.0,2.0,1.0,97.0,6.0,133.0,0.0,3.0,2.0,5.0,2.0,57.0,10.0,12.0,1.0,0.0,0.0,2.0,24.0,0.0,129.0,58.0,28.0,82.0,40.0,3.0,413.0,223.0,0.0],\"yaxis\":\"y\",\"type\":\"bar\"}],\"name\":\"1996\"},{\"data\":[{\"alignmentgroup\":\"True\",\"hovertemplate\":\"iyear=1997<br>country_txt=%{x}<br>nkill=%{marker.color}<extra></extra>\",\"legendgroup\":\"\",\"marker\":{\"color\":[4188.0,34.0,386.0,2.0,0.0,8.0,11.0,165.0,8.0,4.0,1.0,0.0,36.0,36.0,0.0,0.0,32.0,107.0,2.0,1027.0,92.0,16.0,145.0,23.0,1.0,0.0,1.0,239.0,13.0],\"coloraxis\":\"coloraxis\",\"pattern\":{\"shape\":\"\"}},\"name\":\"\",\"offsetgroup\":\"\",\"orientation\":\"v\",\"showlegend\":false,\"textposition\":\"auto\",\"x\":[\"Algeria\",\"Angola\",\"Burundi\",\"Chad\",\"Comoros\",\"Democratic Republic of the Congo\",\"Djibouti\",\"Egypt\",\"Ethiopia\",\"Gabon\",\"Ghana\",\"Ivory Coast\",\"Kenya\",\"Lebanon\",\"Madagascar\",\"Mali\",\"Niger\",\"Nigeria\",\"Republic of the Congo\",\"Rwanda\",\"Senegal\",\"Sierra Leone\",\"Somalia\",\"South Africa\",\"Sudan\",\"Swaziland\",\"Tanzania\",\"Uganda\",\"Zaire\"],\"xaxis\":\"x\",\"y\":[4188.0,34.0,386.0,2.0,0.0,8.0,11.0,165.0,8.0,4.0,1.0,0.0,36.0,36.0,0.0,0.0,32.0,107.0,2.0,1027.0,92.0,16.0,145.0,23.0,1.0,0.0,1.0,239.0,13.0],\"yaxis\":\"y\",\"type\":\"bar\"}],\"name\":\"1997\"},{\"data\":[{\"alignmentgroup\":\"True\",\"hovertemplate\":\"iyear=1998<br>country_txt=%{x}<br>nkill=%{marker.color}<extra></extra>\",\"legendgroup\":\"\",\"marker\":{\"color\":[940.0,275.0,392.0,0.0,0.0,67.0,9.0,226.0,17.0,9.0,100.0,4.0,258.0,0.0,13.0,1.0,11.0,81.0],\"coloraxis\":\"coloraxis\",\"pattern\":{\"shape\":\"\"}},\"name\":\"\",\"offsetgroup\":\"\",\"orientation\":\"v\",\"showlegend\":false,\"textposition\":\"auto\",\"x\":[\"Algeria\",\"Angola\",\"Burundi\",\"Cameroon\",\"Chad\",\"Democratic Republic of the Congo\",\"Egypt\",\"Kenya\",\"Lebanon\",\"Nigeria\",\"Rwanda\",\"Senegal\",\"Sierra Leone\",\"Somalia\",\"South Africa\",\"Swaziland\",\"Tanzania\",\"Uganda\"],\"xaxis\":\"x\",\"y\":[940.0,275.0,392.0,0.0,0.0,67.0,9.0,226.0,17.0,9.0,100.0,4.0,258.0,0.0,13.0,1.0,11.0,81.0],\"yaxis\":\"y\",\"type\":\"bar\"}],\"name\":\"1998\"},{\"data\":[{\"alignmentgroup\":\"True\",\"hovertemplate\":\"iyear=1999<br>country_txt=%{x}<br>nkill=%{marker.color}<extra></extra>\",\"legendgroup\":\"\",\"marker\":{\"color\":[445.0,299.0,108.0,77.0,7.0,1.0,2.0,23.0,0.0,0.0,13.0,4.0,134.0,107.0,1.0,28.0,6.0,4.0,16.0,0.0,75.0,1.0],\"coloraxis\":\"coloraxis\",\"pattern\":{\"shape\":\"\"}},\"name\":\"\",\"offsetgroup\":\"\",\"orientation\":\"v\",\"showlegend\":false,\"textposition\":\"auto\",\"x\":[\"Algeria\",\"Angola\",\"Burundi\",\"Chad\",\"Democratic Republic of the Congo\",\"Egypt\",\"Ethiopia\",\"Lebanon\",\"Liberia\",\"Mozambique\",\"Namibia\",\"Niger\",\"Nigeria\",\"Republic of the Congo\",\"Senegal\",\"Sierra Leone\",\"Somalia\",\"South Africa\",\"Sudan\",\"Swaziland\",\"Uganda\",\"Zambia\"],\"xaxis\":\"x\",\"y\":[445.0,299.0,108.0,77.0,7.0,1.0,2.0,23.0,0.0,0.0,13.0,4.0,134.0,107.0,1.0,28.0,6.0,4.0,16.0,0.0,75.0,1.0],\"yaxis\":\"y\",\"type\":\"bar\"}],\"name\":\"1999\"},{\"data\":[{\"alignmentgroup\":\"True\",\"hovertemplate\":\"iyear=2000<br>country_txt=%{x}<br>nkill=%{marker.color}<extra></extra>\",\"legendgroup\":\"\",\"marker\":{\"color\":[519.0,171.0,90.0,1.0,40.0,3.0,0.0,203.0,4.0,26.0,12.0,0.0,1.0,24.0,0.0,4.0,4.0,60.0,36.0,18.0,23.0,0.0,5.0,297.0,0.0,0.0],\"coloraxis\":\"coloraxis\",\"pattern\":{\"shape\":\"\"}},\"name\":\"\",\"offsetgroup\":\"\",\"orientation\":\"v\",\"showlegend\":false,\"textposition\":\"auto\",\"x\":[\"Algeria\",\"Angola\",\"Burundi\",\"Central African Republic\",\"Democratic Republic of the Congo\",\"Ethiopia\",\"Gambia\",\"Guinea\",\"Ivory Coast\",\"Kenya\",\"Lebanon\",\"Liberia\",\"Mozambique\",\"Namibia\",\"Nigeria\",\"Rwanda\",\"Senegal\",\"Sierra Leone\",\"Somalia\",\"South Africa\",\"Sudan\",\"Tanzania\",\"Tunisia\",\"Uganda\",\"Zambia\",\"Zimbabwe\"],\"xaxis\":\"x\",\"y\":[519.0,171.0,90.0,1.0,40.0,3.0,0.0,203.0,4.0,26.0,12.0,0.0,1.0,24.0,0.0,4.0,4.0,60.0,36.0,18.0,23.0,0.0,5.0,297.0,0.0,0.0],\"yaxis\":\"y\",\"type\":\"bar\"}],\"name\":\"2000\"},{\"data\":[{\"alignmentgroup\":\"True\",\"hovertemplate\":\"iyear=2001<br>country_txt=%{x}<br>nkill=%{marker.color}<extra></extra>\",\"legendgroup\":\"\",\"marker\":{\"color\":[579.0,844.0,166.0,7.0,15.0,0.0,12.0,13.0,0.0,1.0,1.0,3.0,0.0,2.0,28.0,3.0,13.0,2.0,3.0,56.0,0.0],\"coloraxis\":\"coloraxis\",\"pattern\":{\"shape\":\"\"}},\"name\":\"\",\"offsetgroup\":\"\",\"orientation\":\"v\",\"showlegend\":false,\"textposition\":\"auto\",\"x\":[\"Algeria\",\"Angola\",\"Burundi\",\"Central African Republic\",\"Democratic Republic of the Congo\",\"Guinea-Bissau\",\"Ivory Coast\",\"Kenya\",\"Lebanon\",\"Liberia\",\"Namibia\",\"Nigeria\",\"Republic of the Congo\",\"Rwanda\",\"Senegal\",\"Somalia\",\"Sudan\",\"Tanzania\",\"Tunisia\",\"Uganda\",\"Zimbabwe\"],\"xaxis\":\"x\",\"y\":[579.0,844.0,166.0,7.0,15.0,0.0,12.0,13.0,0.0,1.0,1.0,3.0,0.0,2.0,28.0,3.0,13.0,2.0,3.0,56.0,0.0],\"yaxis\":\"y\",\"type\":\"bar\"}],\"name\":\"2001\"},{\"data\":[{\"alignmentgroup\":\"True\",\"hovertemplate\":\"iyear=2002<br>country_txt=%{x}<br>nkill=%{marker.color}<extra></extra>\",\"legendgroup\":\"\",\"marker\":{\"color\":[615.0,59.0,65.0,21.0,16.0,1.0,3.0,16.0,2.0,3.0,0.0,1.0,28.0,17.0,8.0,6.0,1.0,565.0,24.0,21.0,173.0,0.0,8.0],\"coloraxis\":\"coloraxis\",\"pattern\":{\"shape\":\"\"}},\"name\":\"\",\"offsetgroup\":\"\",\"orientation\":\"v\",\"showlegend\":false,\"textposition\":\"auto\",\"x\":[\"Algeria\",\"Angola\",\"Burundi\",\"Chad\",\"Democratic Republic of the Congo\",\"Ethiopia\",\"Ivory Coast\",\"Kenya\",\"Lebanon\",\"Liberia\",\"Madagascar\",\"Malawi\",\"Nigeria\",\"Republic of the Congo\",\"Senegal\",\"Somalia\",\"South Africa\",\"Sudan\",\"Tanzania\",\"Tunisia\",\"Uganda\",\"Zambia\",\"Zimbabwe\"],\"xaxis\":\"x\",\"y\":[615.0,59.0,65.0,21.0,16.0,1.0,3.0,16.0,2.0,3.0,0.0,1.0,28.0,17.0,8.0,6.0,1.0,565.0,24.0,21.0,173.0,0.0,8.0],\"yaxis\":\"y\",\"type\":\"bar\"}],\"name\":\"2002\"},{\"data\":[{\"alignmentgroup\":\"True\",\"hovertemplate\":\"iyear=2003<br>country_txt=%{x}<br>nkill=%{marker.color}<extra></extra>\",\"legendgroup\":\"\",\"marker\":{\"color\":[259.0,116.0,89.0,2.0,1.0,3.0,3.0,2.0,45.0,28.0,11.0,7.0,0.0,231.0,0.0],\"coloraxis\":\"coloraxis\",\"pattern\":{\"shape\":\"\"}},\"name\":\"\",\"offsetgroup\":\"\",\"orientation\":\"v\",\"showlegend\":false,\"textposition\":\"auto\",\"x\":[\"Algeria\",\"Burundi\",\"Democratic Republic of the Congo\",\"Ethiopia\",\"Guinea-Bissau\",\"Kenya\",\"Lebanon\",\"Liberia\",\"Morocco\",\"Nigeria\",\"Republic of the Congo\",\"Somalia\",\"Swaziland\",\"Uganda\",\"Zimbabwe\"],\"xaxis\":\"x\",\"y\":[259.0,116.0,89.0,2.0,1.0,3.0,3.0,2.0,45.0,28.0,11.0,7.0,0.0,231.0,0.0],\"yaxis\":\"y\",\"type\":\"bar\"}],\"name\":\"2003\"},{\"data\":[{\"alignmentgroup\":\"True\",\"hovertemplate\":\"iyear=2004<br>country_txt=%{x}<br>nkill=%{marker.color}<extra></extra>\",\"legendgroup\":\"\",\"marker\":{\"color\":[166.0,18.0,22.0,0.0,37.0,1.0,12.0,1.0,0.0,41.0,2.0,28.0,0.0,193.0],\"coloraxis\":\"coloraxis\",\"pattern\":{\"shape\":\"\"}},\"name\":\"\",\"offsetgroup\":\"\",\"orientation\":\"v\",\"showlegend\":false,\"textposition\":\"auto\",\"x\":[\"Algeria\",\"Burundi\",\"Democratic Republic of the Congo\",\"Djibouti\",\"Egypt\",\"Ethiopia\",\"Ivory Coast\",\"Lebanon\",\"Mauritania\",\"Nigeria\",\"Somalia\",\"Sudan\",\"Tanzania\",\"Uganda\"],\"xaxis\":\"x\",\"y\":[166.0,18.0,22.0,0.0,37.0,1.0,12.0,1.0,0.0,41.0,2.0,28.0,0.0,193.0],\"yaxis\":\"y\",\"type\":\"bar\"}],\"name\":\"2004\"},{\"data\":[{\"alignmentgroup\":\"True\",\"hovertemplate\":\"iyear=2005<br>country_txt=%{x}<br>nkill=%{marker.color}<extra></extra>\",\"legendgroup\":\"\",\"marker\":{\"color\":[228.0,13.0,31.0,92.0,9.0,0.0,3.0,41.0,56.0,22.0,0.0,23.0,19.0,30.0,0.0,20.0,54.0,0.0,80.0],\"coloraxis\":\"coloraxis\",\"pattern\":{\"shape\":\"\"}},\"name\":\"\",\"offsetgroup\":\"\",\"orientation\":\"v\",\"showlegend\":false,\"textposition\":\"auto\",\"x\":[\"Algeria\",\"Burundi\",\"Democratic Republic of the Congo\",\"Egypt\",\"Ethiopia\",\"Guinea\",\"Guinea-Bissau\",\"Ivory Coast\",\"Kenya\",\"Lebanon\",\"Mali\",\"Mauritania\",\"Nigeria\",\"Rwanda\",\"Senegal\",\"Somalia\",\"Sudan\",\"Togo\",\"Uganda\"],\"xaxis\":\"x\",\"y\":[228.0,13.0,31.0,92.0,9.0,0.0,3.0,41.0,56.0,22.0,0.0,23.0,19.0,30.0,0.0,20.0,54.0,0.0,80.0],\"yaxis\":\"y\",\"type\":\"bar\"}],\"name\":\"2005\"},{\"data\":[{\"alignmentgroup\":\"True\",\"hovertemplate\":\"iyear=2006<br>country_txt=%{x}<br>nkill=%{marker.color}<extra></extra>\",\"legendgroup\":\"\",\"marker\":{\"color\":[164.0,21.0,4.0,103.0,23.0,19.0,12.0,11.0,20.0,18.0,17.0,0.0,0.0,254.0,22.0,484.0,0.0,0.0],\"coloraxis\":\"coloraxis\",\"pattern\":{\"shape\":\"\"}},\"name\":\"\",\"offsetgroup\":\"\",\"orientation\":\"v\",\"showlegend\":false,\"textposition\":\"auto\",\"x\":[\"Algeria\",\"Burundi\",\"Central African Republic\",\"Chad\",\"Democratic Republic of the Congo\",\"Egypt\",\"Ethiopia\",\"Guinea-Bissau\",\"Ivory Coast\",\"Kenya\",\"Lebanon\",\"Lesotho\",\"Madagascar\",\"Nigeria\",\"Somalia\",\"Sudan\",\"Swaziland\",\"Zimbabwe\"],\"xaxis\":\"x\",\"y\":[164.0,21.0,4.0,103.0,23.0,19.0,12.0,11.0,20.0,18.0,17.0,0.0,0.0,254.0,22.0,484.0,0.0,0.0],\"yaxis\":\"y\",\"type\":\"bar\"}],\"name\":\"2006\"},{\"data\":[{\"alignmentgroup\":\"True\",\"hovertemplate\":\"iyear=2007<br>country_txt=%{x}<br>nkill=%{marker.color}<extra></extra>\",\"legendgroup\":\"\",\"marker\":{\"color\":[240.0,0.0,3.0,31.0,1.0,136.0,72.0,0.0,204.0,0.0,33.0,40.0,0.0,20.0,13.0,6.0,66.0,82.0,1.0,408.0,1.0,317.0,14.0,2.0,0.0,0.0],\"coloraxis\":\"coloraxis\",\"pattern\":{\"shape\":\"\"}},\"name\":\"\",\"offsetgroup\":\"\",\"orientation\":\"v\",\"showlegend\":false,\"textposition\":\"auto\",\"x\":[\"Algeria\",\"Benin\",\"Burundi\",\"Cameroon\",\"Central African Republic\",\"Chad\",\"Democratic Republic of the Congo\",\"Eritrea\",\"Ethiopia\",\"Ivory Coast\",\"Kenya\",\"Lebanon\",\"Libya\",\"Mali\",\"Morocco\",\"Mozambique\",\"Niger\",\"Nigeria\",\"Senegal\",\"Somalia\",\"South Africa\",\"Sudan\",\"Tunisia\",\"Uganda\",\"Western Sahara\",\"Zimbabwe\"],\"xaxis\":\"x\",\"y\":[240.0,0.0,3.0,31.0,1.0,136.0,72.0,0.0,204.0,0.0,33.0,40.0,0.0,20.0,13.0,6.0,66.0,82.0,1.0,408.0,1.0,317.0,14.0,2.0,0.0,0.0],\"yaxis\":\"y\",\"type\":\"bar\"}],\"name\":\"2007\"},{\"data\":[{\"alignmentgroup\":\"True\",\"hovertemplate\":\"iyear=2008<br>country_txt=%{x}<br>nkill=%{marker.color}<extra></extra>\",\"legendgroup\":\"\",\"marker\":{\"color\":[246.0,28.0,3.0,1.0,172.0,319.0,0.0,4.0,27.0,103.0,142.0,12.0,0.0,55.0,12.0,6.0,72.0,0.0,10.0,436.0,0.0,205.0,0.0,0.0,0.0,3.0,7.0],\"coloraxis\":\"coloraxis\",\"pattern\":{\"shape\":\"\"}},\"name\":\"\",\"offsetgroup\":\"\",\"orientation\":\"v\",\"showlegend\":false,\"textposition\":\"auto\",\"x\":[\"Algeria\",\"Burundi\",\"Cameroon\",\"Central African Republic\",\"Chad\",\"Democratic Republic of the Congo\",\"Egypt\",\"Eritrea\",\"Ethiopia\",\"Kenya\",\"Lebanon\",\"Liberia\",\"Libya\",\"Mali\",\"Mauritania\",\"Niger\",\"Nigeria\",\"Rwanda\",\"Senegal\",\"Somalia\",\"South Africa\",\"Sudan\",\"Swaziland\",\"Tanzania\",\"Tunisia\",\"Uganda\",\"Zimbabwe\"],\"xaxis\":\"x\",\"y\":[246.0,28.0,3.0,1.0,172.0,319.0,0.0,4.0,27.0,103.0,142.0,12.0,0.0,55.0,12.0,6.0,72.0,0.0,10.0,436.0,0.0,205.0,0.0,0.0,0.0,3.0,7.0],\"yaxis\":\"y\",\"type\":\"bar\"}],\"name\":\"2008\"},{\"data\":[{\"alignmentgroup\":\"True\",\"hovertemplate\":\"iyear=2009<br>country_txt=%{x}<br>nkill=%{marker.color}<extra></extra>\",\"legendgroup\":\"\",\"marker\":{\"color\":[193.0,2.0,0.0,38.0,0.0,824.0,1.0,1.0,2.0,13.0,1.0,0.0,17.0,0.0,2.0,30.0,2.0,18.0,316.0,4.0,9.0,381.0,77.0,11.0],\"coloraxis\":\"coloraxis\",\"pattern\":{\"shape\":\"\"}},\"name\":\"\",\"offsetgroup\":\"\",\"orientation\":\"v\",\"showlegend\":false,\"textposition\":\"auto\",\"x\":[\"Algeria\",\"Angola\",\"Cameroon\",\"Central African Republic\",\"Chad\",\"Democratic Republic of the Congo\",\"Egypt\",\"Equatorial Guinea\",\"Eritrea\",\"Ethiopia\",\"Guinea-Bissau\",\"Kenya\",\"Lebanon\",\"Lesotho\",\"Madagascar\",\"Mali\",\"Mauritania\",\"Niger\",\"Nigeria\",\"Rwanda\",\"Senegal\",\"Somalia\",\"Sudan\",\"Uganda\"],\"xaxis\":\"x\",\"y\":[193.0,2.0,0.0,38.0,0.0,824.0,1.0,1.0,2.0,13.0,1.0,0.0,17.0,0.0,2.0,30.0,2.0,18.0,316.0,4.0,9.0,381.0,77.0,11.0],\"yaxis\":\"y\",\"type\":\"bar\"}],\"name\":\"2009\"},{\"data\":[{\"alignmentgroup\":\"True\",\"hovertemplate\":\"iyear=2010<br>country_txt=%{x}<br>nkill=%{marker.color}<extra></extra>\",\"legendgroup\":\"\",\"marker\":{\"color\":[101.0,4.0,14.0,5.0,46.0,0.0,99.0,0.0,17.0,8.0,10.0,19.0,2.0,1.0,1.0,9.0,117.0,6.0,3.0,295.0,80.0,0.0,75.0,1.0],\"coloraxis\":\"coloraxis\",\"pattern\":{\"shape\":\"\"}},\"name\":\"\",\"offsetgroup\":\"\",\"orientation\":\"v\",\"showlegend\":false,\"textposition\":\"auto\",\"x\":[\"Algeria\",\"Angola\",\"Burundi\",\"Cameroon\",\"Central African Republic\",\"Chad\",\"Democratic Republic of the Congo\",\"Egypt\",\"Eritrea\",\"Ethiopia\",\"Ivory Coast\",\"Kenya\",\"Lebanon\",\"Mali\",\"Mauritania\",\"Niger\",\"Nigeria\",\"Rwanda\",\"Senegal\",\"Somalia\",\"Sudan\",\"Tanzania\",\"Uganda\",\"Zimbabwe\"],\"xaxis\":\"x\",\"y\":[101.0,4.0,14.0,5.0,46.0,0.0,99.0,0.0,17.0,8.0,10.0,19.0,2.0,1.0,1.0,9.0,117.0,6.0,3.0,295.0,80.0,0.0,75.0,1.0],\"yaxis\":\"y\",\"type\":\"bar\"}],\"name\":\"2010\"},{\"data\":[{\"alignmentgroup\":\"True\",\"hovertemplate\":\"iyear=2011<br>country_txt=%{x}<br>nkill=%{marker.color}<extra></extra>\",\"legendgroup\":\"\",\"marker\":{\"color\":[25.0,47.0,4.0,35.0,50.0,28.0,1.0,23.0,42.0,1.0,0.0,0.0,5.0,1.0,17.0,4.0,447.0,2.0,21.0,337.0,189.0,4.0,0.0],\"coloraxis\":\"coloraxis\",\"pattern\":{\"shape\":\"\"}},\"name\":\"\",\"offsetgroup\":\"\",\"orientation\":\"v\",\"showlegend\":false,\"textposition\":\"auto\",\"x\":[\"Algeria\",\"Burundi\",\"Cameroon\",\"Central African Republic\",\"Democratic Republic of the Congo\",\"Egypt\",\"Ethiopia\",\"Ivory Coast\",\"Kenya\",\"Lebanon\",\"Libya\",\"Madagascar\",\"Mali\",\"Mauritania\",\"Morocco\",\"Niger\",\"Nigeria\",\"Rwanda\",\"Senegal\",\"Somalia\",\"Sudan\",\"Tunisia\",\"Zimbabwe\"],\"xaxis\":\"x\",\"y\":[25.0,47.0,4.0,35.0,50.0,28.0,1.0,23.0,42.0,1.0,0.0,0.0,5.0,1.0,17.0,4.0,447.0,2.0,21.0,337.0,189.0,4.0,0.0],\"yaxis\":\"y\",\"type\":\"bar\"}],\"name\":\"2011\"},{\"data\":[{\"alignmentgroup\":\"True\",\"hovertemplate\":\"iyear=2012<br>country_txt=%{x}<br>nkill=%{marker.color}<extra></extra>\",\"legendgroup\":\"\",\"marker\":{\"color\":[30.0,6.0,14.0,288.0,44.0,25.0,1.0,45.0,107.0,9.0,0.0,33.0,0.0,53.0,1.0,1.0,1508.0,10.0,16.0,783.0,5.0,68.0,60.0,4.0,5.0],\"coloraxis\":\"coloraxis\",\"pattern\":{\"shape\":\"\"}},\"name\":\"\",\"offsetgroup\":\"\",\"orientation\":\"v\",\"showlegend\":false,\"textposition\":\"auto\",\"x\":[\"Algeria\",\"Burundi\",\"Central African Republic\",\"Democratic Republic of the Congo\",\"Egypt\",\"Ethiopia\",\"Guinea-Bissau\",\"Ivory Coast\",\"Kenya\",\"Lebanon\",\"Liberia\",\"Libya\",\"Madagascar\",\"Mali\",\"Mozambique\",\"Niger\",\"Nigeria\",\"Rwanda\",\"Senegal\",\"Somalia\",\"South Africa\",\"South Sudan\",\"Sudan\",\"Tunisia\",\"Uganda\"],\"xaxis\":\"x\",\"y\":[30.0,6.0,14.0,288.0,44.0,25.0,1.0,45.0,107.0,9.0,0.0,33.0,0.0,53.0,1.0,1.0,1508.0,10.0,16.0,783.0,5.0,68.0,60.0,4.0,5.0],\"yaxis\":\"y\",\"type\":\"bar\"}],\"name\":\"2012\"},{\"data\":[{\"alignmentgroup\":\"True\",\"hovertemplate\":\"iyear=2013<br>country_txt=%{x}<br>nkill=%{marker.color}<extra></extra>\",\"legendgroup\":\"\",\"marker\":{\"color\":[101.0,1.0,5.0,7.0,120.0,150.0,243.0,17.0,0.0,4.0,207.0,190.0,232.0,0.0,137.0,37.0,26.0,2014.0,2.0,6.0,7.0,660.0,2.0,226.0,220.0,8.0,25.0,1.0],\"coloraxis\":\"coloraxis\",\"pattern\":{\"shape\":\"\"}},\"name\":\"\",\"offsetgroup\":\"\",\"orientation\":\"v\",\"showlegend\":false,\"textposition\":\"auto\",\"x\":[\"Algeria\",\"Burkina Faso\",\"Burundi\",\"Cameroon\",\"Central African Republic\",\"Democratic Republic of the Congo\",\"Egypt\",\"Ethiopia\",\"Guinea\",\"Ivory Coast\",\"Kenya\",\"Lebanon\",\"Libya\",\"Madagascar\",\"Mali\",\"Mozambique\",\"Niger\",\"Nigeria\",\"Republic of the Congo\",\"Rwanda\",\"Senegal\",\"Somalia\",\"South Africa\",\"South Sudan\",\"Sudan\",\"Tanzania\",\"Tunisia\",\"Zimbabwe\"],\"xaxis\":\"x\",\"y\":[101.0,1.0,5.0,7.0,120.0,150.0,243.0,17.0,0.0,4.0,207.0,190.0,232.0,0.0,137.0,37.0,26.0,2014.0,2.0,6.0,7.0,660.0,2.0,226.0,220.0,8.0,25.0,1.0],\"yaxis\":\"y\",\"type\":\"bar\"}],\"name\":\"2013\"},{\"data\":[{\"alignmentgroup\":\"True\",\"hovertemplate\":\"iyear=2014<br>country_txt=%{x}<br>nkill=%{marker.color}<extra></extra>\",\"legendgroup\":\"\",\"marker\":{\"color\":[37.0,4.0,789.0,751.0,6.0,366.0,5.0,343.0,9.0,0.0,4.0,315.0,134.0,0.0,694.0,1.0,125.0,22.0,11.0,7781.0,1.0,7.0,1589.0,9.0,908.0,546.0,4.0,43.0,98.0,0.0],\"coloraxis\":\"coloraxis\",\"pattern\":{\"shape\":\"\"}},\"name\":\"\",\"offsetgroup\":\"\",\"orientation\":\"v\",\"showlegend\":false,\"textposition\":\"auto\",\"x\":[\"Algeria\",\"Burundi\",\"Cameroon\",\"Central African Republic\",\"Chad\",\"Democratic Republic of the Congo\",\"Djibouti\",\"Egypt\",\"Ethiopia\",\"Ghana\",\"Ivory Coast\",\"Kenya\",\"Lebanon\",\"Liberia\",\"Libya\",\"Madagascar\",\"Mali\",\"Mozambique\",\"Niger\",\"Nigeria\",\"Rwanda\",\"Senegal\",\"Somalia\",\"South Africa\",\"South Sudan\",\"Sudan\",\"Tanzania\",\"Tunisia\",\"Uganda\",\"Zimbabwe\"],\"xaxis\":\"x\",\"y\":[37.0,4.0,789.0,751.0,6.0,366.0,5.0,343.0,9.0,0.0,4.0,315.0,134.0,0.0,694.0,1.0,125.0,22.0,11.0,7781.0,1.0,7.0,1589.0,9.0,908.0,546.0,4.0,43.0,98.0,0.0],\"yaxis\":\"y\",\"type\":\"bar\"}],\"name\":\"2014\"},{\"data\":[{\"alignmentgroup\":\"True\",\"hovertemplate\":\"iyear=2015<br>country_txt=%{x}<br>nkill=%{marker.color}<extra></extra>\",\"legendgroup\":\"\",\"marker\":{\"color\":[21.0,16.0,223.0,931.0,171.0,306.0,371.0,0.0,829.0,48.0,1.0,14.0,281.0,111.0,1.0,689.0,269.0,0.0,12.0,666.0,5559.0,0.0,1447.0,5.0,218.0,210.0,10.0,103.0,4.0],\"coloraxis\":\"coloraxis\",\"pattern\":{\"shape\":\"\"}},\"name\":\"\",\"offsetgroup\":\"\",\"orientation\":\"v\",\"showlegend\":false,\"textposition\":\"auto\",\"x\":[\"Algeria\",\"Burkina Faso\",\"Burundi\",\"Cameroon\",\"Central African Republic\",\"Chad\",\"Democratic Republic of the Congo\",\"Djibouti\",\"Egypt\",\"Ethiopia\",\"Guinea\",\"Ivory Coast\",\"Kenya\",\"Lebanon\",\"Lesotho\",\"Libya\",\"Mali\",\"Morocco\",\"Mozambique\",\"Niger\",\"Nigeria\",\"Senegal\",\"Somalia\",\"South Africa\",\"South Sudan\",\"Sudan\",\"Tanzania\",\"Tunisia\",\"Uganda\"],\"xaxis\":\"x\",\"y\":[21.0,16.0,223.0,931.0,171.0,306.0,371.0,0.0,829.0,48.0,1.0,14.0,281.0,111.0,1.0,689.0,269.0,0.0,12.0,666.0,5559.0,0.0,1447.0,5.0,218.0,210.0,10.0,103.0,4.0],\"yaxis\":\"y\",\"type\":\"bar\"}],\"name\":\"2015\"},{\"data\":[{\"alignmentgroup\":\"True\",\"hovertemplate\":\"iyear=2016<br>country_txt=%{x}<br>nkill=%{marker.color}<extra></extra>\",\"legendgroup\":\"\",\"marker\":{\"color\":[9.0,0.0,62.0,74.0,269.0,189.0,22.0,532.0,609.0,279.0,0.0,1.0,22.0,72.0,25.0,634.0,3.0,181.0,62.0,190.0,2165.0,31.0,0.0,1.0,1583.0,21.0,633.0,182.0,3.0,71.0,75.0],\"coloraxis\":\"coloraxis\",\"pattern\":{\"shape\":\"\"}},\"name\":\"\",\"offsetgroup\":\"\",\"orientation\":\"v\",\"showlegend\":false,\"textposition\":\"auto\",\"x\":[\"Algeria\",\"Angola\",\"Burkina Faso\",\"Burundi\",\"Cameroon\",\"Central African Republic\",\"Chad\",\"Democratic Republic of the Congo\",\"Egypt\",\"Ethiopia\",\"Ghana\",\"Guinea\",\"Ivory Coast\",\"Kenya\",\"Lebanon\",\"Libya\",\"Madagascar\",\"Mali\",\"Mozambique\",\"Niger\",\"Nigeria\",\"Republic of the Congo\",\"Rwanda\",\"Sierra Leone\",\"Somalia\",\"South Africa\",\"South Sudan\",\"Sudan\",\"Tanzania\",\"Tunisia\",\"Uganda\"],\"xaxis\":\"x\",\"y\":[9.0,0.0,62.0,74.0,269.0,189.0,22.0,532.0,609.0,279.0,0.0,1.0,22.0,72.0,25.0,634.0,3.0,181.0,62.0,190.0,2165.0,31.0,0.0,1.0,1583.0,21.0,633.0,182.0,3.0,71.0,75.0],\"yaxis\":\"y\",\"type\":\"bar\"}],\"name\":\"2016\"},{\"data\":[{\"alignmentgroup\":\"True\",\"hovertemplate\":\"iyear=2017<br>country_txt=%{x}<br>nkill=%{marker.color}<extra></extra>\",\"legendgroup\":\"\",\"marker\":{\"color\":[12.0,7.0,53.0,20.0,228.0,601.0,62.0,596.0,0.0,877.0,67.0,0.0,3.0,126.0,17.0,0.0,289.0,0.0,361.0,22.0,148.0,1805.0,2.0,0.0,1912.0,21.0,581.0,82.0,8.0,5.0,7.0,0.0,0.0],\"coloraxis\":\"coloraxis\",\"pattern\":{\"shape\":\"\"}},\"name\":\"\",\"offsetgroup\":\"\",\"orientation\":\"v\",\"showlegend\":false,\"textposition\":\"auto\",\"x\":[\"Algeria\",\"Angola\",\"Burkina Faso\",\"Burundi\",\"Cameroon\",\"Central African Republic\",\"Chad\",\"Democratic Republic of the Congo\",\"Djibouti\",\"Egypt\",\"Ethiopia\",\"Gabon\",\"Ivory Coast\",\"Kenya\",\"Lebanon\",\"Liberia\",\"Libya\",\"Malawi\",\"Mali\",\"Mozambique\",\"Niger\",\"Nigeria\",\"Rwanda\",\"Sierra Leone\",\"Somalia\",\"South Africa\",\"South Sudan\",\"Sudan\",\"Tanzania\",\"Tunisia\",\"Uganda\",\"Zambia\",\"Zimbabwe\"],\"xaxis\":\"x\",\"y\":[12.0,7.0,53.0,20.0,228.0,601.0,62.0,596.0,0.0,877.0,67.0,0.0,3.0,126.0,17.0,0.0,289.0,0.0,361.0,22.0,148.0,1805.0,2.0,0.0,1912.0,21.0,581.0,82.0,8.0,5.0,7.0,0.0,0.0],\"yaxis\":\"y\",\"type\":\"bar\"}],\"name\":\"2017\"},{\"data\":[{\"alignmentgroup\":\"True\",\"hovertemplate\":\"iyear=1977<br>country_txt=%{x}<br>nkill=%{marker.color}<extra></extra>\",\"legendgroup\":\"\",\"marker\":{\"color\":[0.0,1.0,1.0,5.0,3.0,4.0,0.0,5.0,1.0,1.0],\"coloraxis\":\"coloraxis\",\"pattern\":{\"shape\":\"\"}},\"name\":\"\",\"offsetgroup\":\"\",\"orientation\":\"v\",\"showlegend\":false,\"textposition\":\"auto\",\"x\":[\"Angola\",\"Djibouti\",\"Egypt\",\"Ethiopia\",\"Lebanon\",\"Mauritania\",\"People's Republic of the Congo\",\"South Africa\",\"Zaire\",\"Zambia\"],\"xaxis\":\"x\",\"y\":[0.0,1.0,1.0,5.0,3.0,4.0,0.0,5.0,1.0,1.0],\"yaxis\":\"y\",\"type\":\"bar\"}],\"name\":\"1977\"},{\"data\":[{\"alignmentgroup\":\"True\",\"hovertemplate\":\"iyear=1981<br>country_txt=%{x}<br>nkill=%{marker.color}<extra></extra>\",\"legendgroup\":\"\",\"marker\":{\"color\":[3.0,3.0,67.0,264.0,10.0,6.0,0.0,0.0,8.0,2.0,53.0,0.0,13.0],\"coloraxis\":\"coloraxis\",\"pattern\":{\"shape\":\"\"}},\"name\":\"\",\"offsetgroup\":\"\",\"orientation\":\"v\",\"showlegend\":false,\"textposition\":\"auto\",\"x\":[\"Angola\",\"Central African Republic\",\"Egypt\",\"Lebanon\",\"Lesotho\",\"Mozambique\",\"Seychelles\",\"Somalia\",\"South Africa\",\"Sudan\",\"Uganda\",\"Zambia\",\"Zimbabwe\"],\"xaxis\":\"x\",\"y\":[3.0,3.0,67.0,264.0,10.0,6.0,0.0,0.0,8.0,2.0,53.0,0.0,13.0],\"yaxis\":\"y\",\"type\":\"bar\"}],\"name\":\"1981\"},{\"data\":[{\"alignmentgroup\":\"True\",\"hovertemplate\":\"iyear=1982<br>country_txt=%{x}<br>nkill=%{marker.color}<extra></extra>\",\"legendgroup\":\"\",\"marker\":{\"color\":[2.0,0.0,231.0,0.0,18.0,2.0,15.0,9.0,0.0,0.0,0.0,0.0,22.0],\"coloraxis\":\"coloraxis\",\"pattern\":{\"shape\":\"\"}},\"name\":\"\",\"offsetgroup\":\"\",\"orientation\":\"v\",\"showlegend\":false,\"textposition\":\"auto\",\"x\":[\"Angola\",\"Egypt\",\"Lebanon\",\"Lesotho\",\"Mozambique\",\"Namibia\",\"People's Republic of the Congo\",\"South Africa\",\"Sudan\",\"Swaziland\",\"Tanzania\",\"Uganda\",\"Zimbabwe\"],\"xaxis\":\"x\",\"y\":[2.0,0.0,231.0,0.0,18.0,2.0,15.0,9.0,0.0,0.0,0.0,0.0,22.0],\"yaxis\":\"y\",\"type\":\"bar\"}],\"name\":\"1982\"},{\"data\":[{\"alignmentgroup\":\"True\",\"hovertemplate\":\"iyear=1983<br>country_txt=%{x}<br>nkill=%{marker.color}<extra></extra>\",\"legendgroup\":\"\",\"marker\":{\"color\":[282.0,0.0,609.0,30.0,5.0,4.0,1.0,0.0,28.0,0.0,113.0,11.0],\"coloraxis\":\"coloraxis\",\"pattern\":{\"shape\":\"\"}},\"name\":\"\",\"offsetgroup\":\"\",\"orientation\":\"v\",\"showlegend\":false,\"textposition\":\"auto\",\"x\":[\"Angola\",\"Ethiopia\",\"Lebanon\",\"Lesotho\",\"Mozambique\",\"Namibia\",\"Nigeria\",\"Somalia\",\"South Africa\",\"Sudan\",\"Uganda\",\"Zimbabwe\"],\"xaxis\":\"x\",\"y\":[282.0,0.0,609.0,30.0,5.0,4.0,1.0,0.0,28.0,0.0,113.0,11.0],\"yaxis\":\"y\",\"type\":\"bar\"}],\"name\":\"1983\"},{\"data\":[{\"alignmentgroup\":\"True\",\"hovertemplate\":\"iyear=1984<br>country_txt=%{x}<br>nkill=%{marker.color}<extra></extra>\",\"legendgroup\":\"\",\"marker\":{\"color\":[179.0,0.0,200.0,60.0,1.0,15.0,50.0,24.0,0.0,21.0,305.0,1.0,235.0,0.0,2.0,4.0],\"coloraxis\":\"coloraxis\",\"pattern\":{\"shape\":\"\"}},\"name\":\"\",\"offsetgroup\":\"\",\"orientation\":\"v\",\"showlegend\":false,\"textposition\":\"auto\",\"x\":[\"Angola\",\"Chad\",\"Ethiopia\",\"Lebanon\",\"Lesotho\",\"Libya\",\"Mozambique\",\"Namibia\",\"Somalia\",\"South Africa\",\"Sudan\",\"Swaziland\",\"Uganda\",\"Western Sahara\",\"Zaire\",\"Zimbabwe\"],\"xaxis\":\"x\",\"y\":[179.0,0.0,200.0,60.0,1.0,15.0,50.0,24.0,0.0,21.0,305.0,1.0,235.0,0.0,2.0,4.0],\"yaxis\":\"y\",\"type\":\"bar\"}],\"name\":\"1984\"},{\"data\":[{\"alignmentgroup\":\"True\",\"hovertemplate\":\"iyear=1985<br>country_txt=%{x}<br>nkill=%{marker.color}<extra></extra>\",\"legendgroup\":\"\",\"marker\":{\"color\":[6.0,0.0,0.0,2.0,0.0,644.0,0.0,8.0,74.0,3.0,82.0,1.0,32.0,0.0,5.0],\"coloraxis\":\"coloraxis\",\"pattern\":{\"shape\":\"\"}},\"name\":\"\",\"offsetgroup\":\"\",\"orientation\":\"v\",\"showlegend\":false,\"textposition\":\"auto\",\"x\":[\"Angola\",\"Botswana\",\"Chad\",\"Egypt\",\"Ethiopia\",\"Lebanon\",\"Morocco\",\"Mozambique\",\"Namibia\",\"Niger\",\"South Africa\",\"Togo\",\"Uganda\",\"Zambia\",\"Zimbabwe\"],\"xaxis\":\"x\",\"y\":[6.0,0.0,0.0,2.0,0.0,644.0,0.0,8.0,74.0,3.0,82.0,1.0,32.0,0.0,5.0],\"yaxis\":\"y\",\"type\":\"bar\"}],\"name\":\"1985\"},{\"data\":[{\"alignmentgroup\":\"True\",\"hovertemplate\":\"iyear=1986<br>country_txt=%{x}<br>nkill=%{marker.color}<extra></extra>\",\"legendgroup\":\"\",\"marker\":{\"color\":[119.0,0.0,0.0,12.0,40.0,246.0,2.0,470.0,5.0,153.0,8.0,0.0,0.0,1.0,1.0,2.0,1.0],\"coloraxis\":\"coloraxis\",\"pattern\":{\"shape\":\"\"}},\"name\":\"\",\"offsetgroup\":\"\",\"orientation\":\"v\",\"showlegend\":false,\"textposition\":\"auto\",\"x\":[\"Angola\",\"Central African Republic\",\"Chad\",\"Egypt\",\"Ethiopia\",\"Lebanon\",\"Morocco\",\"Mozambique\",\"Namibia\",\"South Africa\",\"Sudan\",\"Swaziland\",\"Tunisia\",\"Uganda\",\"Western Sahara\",\"Zambia\",\"Zimbabwe\"],\"xaxis\":\"x\",\"y\":[119.0,0.0,0.0,12.0,40.0,246.0,2.0,470.0,5.0,153.0,8.0,0.0,0.0,1.0,1.0,2.0,1.0],\"yaxis\":\"y\",\"type\":\"bar\"}],\"name\":\"1986\"},{\"data\":[{\"alignmentgroup\":\"True\",\"hovertemplate\":\"iyear=1987<br>country_txt=%{x}<br>nkill=%{marker.color}<extra></extra>\",\"legendgroup\":\"\",\"marker\":{\"color\":[5.0,3.0,10.0,1.0,0.0,0.0,178.0,200.0,468.0,2.0,0.0,120.0,0.0,4.0,0.0,1.0,0.0,35.0],\"coloraxis\":\"coloraxis\",\"pattern\":{\"shape\":\"\"}},\"name\":\"\",\"offsetgroup\":\"\",\"orientation\":\"v\",\"showlegend\":false,\"textposition\":\"auto\",\"x\":[\"Angola\",\"Botswana\",\"Djibouti\",\"Egypt\",\"Ethiopia\",\"Ghana\",\"Lebanon\",\"Morocco\",\"Mozambique\",\"Namibia\",\"Somalia\",\"South Africa\",\"Sudan\",\"Swaziland\",\"Tunisia\",\"Uganda\",\"Zambia\",\"Zimbabwe\"],\"xaxis\":\"x\",\"y\":[5.0,3.0,10.0,1.0,0.0,0.0,178.0,200.0,468.0,2.0,0.0,120.0,0.0,4.0,0.0,1.0,0.0,35.0],\"yaxis\":\"y\",\"type\":\"bar\"}],\"name\":\"1987\"},{\"data\":[{\"alignmentgroup\":\"True\",\"hovertemplate\":\"iyear=1988<br>country_txt=%{x}<br>nkill=%{marker.color}<extra></extra>\",\"legendgroup\":\"\",\"marker\":{\"color\":[145.0,1.0,0.0,1.0,0.0,176.0,4.0,145.0,25.0,4.0,2.0,0.0,152.0,58.0,160.0,28.0,9.0,2.0],\"coloraxis\":\"coloraxis\",\"pattern\":{\"shape\":\"\"}},\"name\":\"\",\"offsetgroup\":\"\",\"orientation\":\"v\",\"showlegend\":false,\"textposition\":\"auto\",\"x\":[\"Angola\",\"Botswana\",\"Djibouti\",\"Egypt\",\"Ethiopia\",\"Lebanon\",\"Lesotho\",\"Mozambique\",\"Namibia\",\"Nigeria\",\"Senegal\",\"Somalia\",\"South Africa\",\"Sudan\",\"Uganda\",\"Zaire\",\"Zambia\",\"Zimbabwe\"],\"xaxis\":\"x\",\"y\":[145.0,1.0,0.0,1.0,0.0,176.0,4.0,145.0,25.0,4.0,2.0,0.0,152.0,58.0,160.0,28.0,9.0,2.0],\"yaxis\":\"y\",\"type\":\"bar\"}],\"name\":\"1988\"},{\"data\":[{\"alignmentgroup\":\"True\",\"hovertemplate\":\"iyear=1989<br>country_txt=%{x}<br>nkill=%{marker.color}<extra></extra>\",\"legendgroup\":\"\",\"marker\":{\"color\":[88.0,0.0,1.0,1.0,4.0,113.0,710.0,1.0,171.0,30.0,57.0,14.0,0.0,72.0,33.0,21.0],\"coloraxis\":\"coloraxis\",\"pattern\":{\"shape\":\"\"}},\"name\":\"\",\"offsetgroup\":\"\",\"orientation\":\"v\",\"showlegend\":false,\"textposition\":\"auto\",\"x\":[\"Angola\",\"Botswana\",\"Egypt\",\"Ethiopia\",\"Kenya\",\"Lebanon\",\"Mozambique\",\"Namibia\",\"Niger\",\"Somalia\",\"South Africa\",\"Sudan\",\"Swaziland\",\"Uganda\",\"Zambia\",\"Zimbabwe\"],\"xaxis\":\"x\",\"y\":[88.0,0.0,1.0,1.0,4.0,113.0,710.0,1.0,171.0,30.0,57.0,14.0,0.0,72.0,33.0,21.0],\"yaxis\":\"y\",\"type\":\"bar\"}],\"name\":\"1989\"},{\"data\":[{\"alignmentgroup\":\"True\",\"hovertemplate\":\"iyear=1974<br>country_txt=%{x}<br>nkill=%{marker.color}<extra></extra>\",\"legendgroup\":\"\",\"marker\":{\"color\":[1.0,0.0,3.0,0.0,0.0],\"coloraxis\":\"coloraxis\",\"pattern\":{\"shape\":\"\"}},\"name\":\"\",\"offsetgroup\":\"\",\"orientation\":\"v\",\"showlegend\":false,\"textposition\":\"auto\",\"x\":[\"Botswana\",\"Chad\",\"Ethiopia\",\"Lebanon\",\"South Africa\"],\"xaxis\":\"x\",\"y\":[1.0,0.0,3.0,0.0,0.0],\"yaxis\":\"y\",\"type\":\"bar\"}],\"name\":\"1974\"},{\"data\":[{\"alignmentgroup\":\"True\",\"hovertemplate\":\"iyear=1970<br>country_txt=%{x}<br>nkill=%{marker.color}<extra></extra>\",\"legendgroup\":\"\",\"marker\":{\"color\":[0.0,1.0,0.0],\"coloraxis\":\"coloraxis\",\"pattern\":{\"shape\":\"\"}},\"name\":\"\",\"offsetgroup\":\"\",\"orientation\":\"v\",\"showlegend\":false,\"textposition\":\"auto\",\"x\":[\"Egypt\",\"Ethiopia\",\"Lebanon\"],\"xaxis\":\"x\",\"y\":[0.0,1.0,0.0],\"yaxis\":\"y\",\"type\":\"bar\"}],\"name\":\"1970\"},{\"data\":[{\"alignmentgroup\":\"True\",\"hovertemplate\":\"iyear=1971<br>country_txt=%{x}<br>nkill=%{marker.color}<extra></extra>\",\"legendgroup\":\"\",\"marker\":{\"color\":[1.0,0.0,0.0,1.0],\"coloraxis\":\"coloraxis\",\"pattern\":{\"shape\":\"\"}},\"name\":\"\",\"offsetgroup\":\"\",\"orientation\":\"v\",\"showlegend\":false,\"textposition\":\"auto\",\"x\":[\"Egypt\",\"Ethiopia\",\"Lebanon\",\"Zambia\"],\"xaxis\":\"x\",\"y\":[1.0,0.0,0.0,1.0],\"yaxis\":\"y\",\"type\":\"bar\"}],\"name\":\"1971\"},{\"data\":[{\"alignmentgroup\":\"True\",\"hovertemplate\":\"iyear=1980<br>country_txt=%{x}<br>nkill=%{marker.color}<extra></extra>\",\"legendgroup\":\"\",\"marker\":{\"color\":[1.0,1.0,15.0,90.0,0.0,1.0,0.0,24.0,0.0,17.0,41.0,13.0],\"coloraxis\":\"coloraxis\",\"pattern\":{\"shape\":\"\"}},\"name\":\"\",\"offsetgroup\":\"\",\"orientation\":\"v\",\"showlegend\":false,\"textposition\":\"auto\",\"x\":[\"Egypt\",\"Guinea\",\"Kenya\",\"Lebanon\",\"Libya\",\"Namibia\",\"Nigeria\",\"Rhodesia\",\"Senegal\",\"South Africa\",\"Tunisia\",\"Zimbabwe\"],\"xaxis\":\"x\",\"y\":[1.0,1.0,15.0,90.0,0.0,1.0,0.0,24.0,0.0,17.0,41.0,13.0],\"yaxis\":\"y\",\"type\":\"bar\"}],\"name\":\"1980\"},{\"data\":[{\"alignmentgroup\":\"True\",\"hovertemplate\":\"iyear=1973<br>country_txt=%{x}<br>nkill=%{marker.color}<extra></extra>\",\"legendgroup\":\"\",\"marker\":{\"color\":[0.0,4.0,0.0,3.0,0.0,2.0],\"coloraxis\":\"coloraxis\",\"pattern\":{\"shape\":\"\"}},\"name\":\"\",\"offsetgroup\":\"\",\"orientation\":\"v\",\"showlegend\":false,\"textposition\":\"auto\",\"x\":[\"Ethiopia\",\"Lebanon\",\"Morocco\",\"Sudan\",\"Zaire\",\"Zambia\"],\"xaxis\":\"x\",\"y\":[0.0,4.0,0.0,3.0,0.0,2.0],\"yaxis\":\"y\",\"type\":\"bar\"}],\"name\":\"1973\"},{\"data\":[{\"alignmentgroup\":\"True\",\"hovertemplate\":\"iyear=1975<br>country_txt=%{x}<br>nkill=%{marker.color}<extra></extra>\",\"legendgroup\":\"\",\"marker\":{\"color\":[0.0,27.0,28.0,1.0,0.0,0.0,1.0],\"coloraxis\":\"coloraxis\",\"pattern\":{\"shape\":\"\"}},\"name\":\"\",\"offsetgroup\":\"\",\"orientation\":\"v\",\"showlegend\":false,\"textposition\":\"auto\",\"x\":[\"Ethiopia\",\"Kenya\",\"Lebanon\",\"Namibia\",\"Somalia\",\"Tanzania\",\"Zambia\"],\"xaxis\":\"x\",\"y\":[0.0,27.0,28.0,1.0,0.0,0.0,1.0],\"yaxis\":\"y\",\"type\":\"bar\"}],\"name\":\"1975\"}]);\n",
              "                        }).then(function(){\n",
              "                            \n",
              "var gd = document.getElementById('30084a20-1723-40c6-8254-150524ba2f68');\n",
              "var x = new MutationObserver(function (mutations, observer) {{\n",
              "        var display = window.getComputedStyle(gd).display;\n",
              "        if (!display || display === 'none') {{\n",
              "            console.log([gd, 'removed!']);\n",
              "            Plotly.purge(gd);\n",
              "            observer.disconnect();\n",
              "        }}\n",
              "}});\n",
              "\n",
              "// Listen for the removal of the full notebook cells\n",
              "var notebookContainer = gd.closest('#notebook-container');\n",
              "if (notebookContainer) {{\n",
              "    x.observe(notebookContainer, {childList: true});\n",
              "}}\n",
              "\n",
              "// Listen for the clearing of the current output cell\n",
              "var outputEl = gd.closest('.output');\n",
              "if (outputEl) {{\n",
              "    x.observe(outputEl, {childList: true});\n",
              "}}\n",
              "\n",
              "                        })                };                            </script>        </div>\n",
              "</body>\n",
              "</html>"
            ]
          },
          "metadata": {}
        }
      ],
      "source": [
        "px.bar(df_blesse, x='country_txt', y='nkill', color=\"nkill\", range_y=[0, df_blesse[\"nkill\"].max()], title =f\"Nombre d’africains blessés à cause de terrorisme par région par année\", animation_frame='iyear')"
      ]
    },
    {
      "cell_type": "markdown",
      "source": [
        "## Visualiser le nombre d’attaques terroristes par année et par type d’attaque"
      ],
      "metadata": {
        "id": "AP7mNw2-0tuv"
      }
    },
    {
      "cell_type": "code",
      "execution_count": 57,
      "metadata": {
        "id": "weHyFBsqnM0s"
      },
      "outputs": [],
      "source": [
        "num_attack_df = df.groupby('iyear').size().reset_index()\n",
        "num_attack_df.columns = [\"iyear\", 'num_attack_df']"
      ]
    },
    {
      "cell_type": "code",
      "execution_count": 58,
      "metadata": {
        "id": "CZZnkmT_nMeC",
        "colab": {
          "base_uri": "https://localhost:8080/",
          "height": 542
        },
        "outputId": "da2695d9-c3c2-44a0-ec03-206293174214"
      },
      "outputs": [
        {
          "output_type": "display_data",
          "data": {
            "text/html": [
              "<html>\n",
              "<head><meta charset=\"utf-8\" /></head>\n",
              "<body>\n",
              "    <div>            <script src=\"https://cdnjs.cloudflare.com/ajax/libs/mathjax/2.7.5/MathJax.js?config=TeX-AMS-MML_SVG\"></script><script type=\"text/javascript\">if (window.MathJax) {MathJax.Hub.Config({SVG: {font: \"STIX-Web\"}});}</script>                <script type=\"text/javascript\">window.PlotlyConfig = {MathJaxConfig: 'local'};</script>\n",
              "        <script src=\"https://cdn.plot.ly/plotly-2.8.3.min.js\"></script>                <div id=\"c7987fd7-c118-4170-84ab-6b4086b4d0b8\" class=\"plotly-graph-div\" style=\"height:525px; width:100%;\"></div>            <script type=\"text/javascript\">                                    window.PLOTLYENV=window.PLOTLYENV || {};                                    if (document.getElementById(\"c7987fd7-c118-4170-84ab-6b4086b4d0b8\")) {                    Plotly.newPlot(                        \"c7987fd7-c118-4170-84ab-6b4086b4d0b8\",                        [{\"alignmentgroup\":\"True\",\"hovertemplate\":\"iyear=%{x}<br>num_attack_df=%{marker.color}<extra></extra>\",\"legendgroup\":\"\",\"marker\":{\"color\":[636,461,561,463,572,703,900,1292,1493,2601,2620,2548,2492,2810,3422,2897,2854,3179,3720,4319,3876,4666,5053,3452,3077,3023,3194,930,1382,1778,1881,1298,1269,1161,2015,2736,3237,4797,4712,4789,5018,8522,12036,16903,14965,13587,10900],\"coloraxis\":\"coloraxis\",\"pattern\":{\"shape\":\"\"}},\"name\":\"\",\"offsetgroup\":\"\",\"orientation\":\"v\",\"showlegend\":false,\"textposition\":\"auto\",\"x\":[1970,1971,1972,1973,1974,1975,1976,1977,1978,1979,1980,1981,1982,1983,1984,1985,1986,1987,1988,1989,1990,1991,1992,1994,1995,1996,1997,1998,1999,2000,2001,2002,2003,2004,2005,2006,2007,2008,2009,2010,2011,2012,2013,2014,2015,2016,2017],\"xaxis\":\"x\",\"y\":[636,461,561,463,572,703,900,1292,1493,2601,2620,2548,2492,2810,3422,2897,2854,3179,3720,4319,3876,4666,5053,3452,3077,3023,3194,930,1382,1778,1881,1298,1269,1161,2015,2736,3237,4797,4712,4789,5018,8522,12036,16903,14965,13587,10900],\"yaxis\":\"y\",\"type\":\"bar\"}],                        {\"template\":{\"data\":{\"bar\":[{\"error_x\":{\"color\":\"#2a3f5f\"},\"error_y\":{\"color\":\"#2a3f5f\"},\"marker\":{\"line\":{\"color\":\"#E5ECF6\",\"width\":0.5},\"pattern\":{\"fillmode\":\"overlay\",\"size\":10,\"solidity\":0.2}},\"type\":\"bar\"}],\"barpolar\":[{\"marker\":{\"line\":{\"color\":\"#E5ECF6\",\"width\":0.5},\"pattern\":{\"fillmode\":\"overlay\",\"size\":10,\"solidity\":0.2}},\"type\":\"barpolar\"}],\"carpet\":[{\"aaxis\":{\"endlinecolor\":\"#2a3f5f\",\"gridcolor\":\"white\",\"linecolor\":\"white\",\"minorgridcolor\":\"white\",\"startlinecolor\":\"#2a3f5f\"},\"baxis\":{\"endlinecolor\":\"#2a3f5f\",\"gridcolor\":\"white\",\"linecolor\":\"white\",\"minorgridcolor\":\"white\",\"startlinecolor\":\"#2a3f5f\"},\"type\":\"carpet\"}],\"choropleth\":[{\"colorbar\":{\"outlinewidth\":0,\"ticks\":\"\"},\"type\":\"choropleth\"}],\"contour\":[{\"colorbar\":{\"outlinewidth\":0,\"ticks\":\"\"},\"colorscale\":[[0.0,\"#0d0887\"],[0.1111111111111111,\"#46039f\"],[0.2222222222222222,\"#7201a8\"],[0.3333333333333333,\"#9c179e\"],[0.4444444444444444,\"#bd3786\"],[0.5555555555555556,\"#d8576b\"],[0.6666666666666666,\"#ed7953\"],[0.7777777777777778,\"#fb9f3a\"],[0.8888888888888888,\"#fdca26\"],[1.0,\"#f0f921\"]],\"type\":\"contour\"}],\"contourcarpet\":[{\"colorbar\":{\"outlinewidth\":0,\"ticks\":\"\"},\"type\":\"contourcarpet\"}],\"heatmap\":[{\"colorbar\":{\"outlinewidth\":0,\"ticks\":\"\"},\"colorscale\":[[0.0,\"#0d0887\"],[0.1111111111111111,\"#46039f\"],[0.2222222222222222,\"#7201a8\"],[0.3333333333333333,\"#9c179e\"],[0.4444444444444444,\"#bd3786\"],[0.5555555555555556,\"#d8576b\"],[0.6666666666666666,\"#ed7953\"],[0.7777777777777778,\"#fb9f3a\"],[0.8888888888888888,\"#fdca26\"],[1.0,\"#f0f921\"]],\"type\":\"heatmap\"}],\"heatmapgl\":[{\"colorbar\":{\"outlinewidth\":0,\"ticks\":\"\"},\"colorscale\":[[0.0,\"#0d0887\"],[0.1111111111111111,\"#46039f\"],[0.2222222222222222,\"#7201a8\"],[0.3333333333333333,\"#9c179e\"],[0.4444444444444444,\"#bd3786\"],[0.5555555555555556,\"#d8576b\"],[0.6666666666666666,\"#ed7953\"],[0.7777777777777778,\"#fb9f3a\"],[0.8888888888888888,\"#fdca26\"],[1.0,\"#f0f921\"]],\"type\":\"heatmapgl\"}],\"histogram\":[{\"marker\":{\"pattern\":{\"fillmode\":\"overlay\",\"size\":10,\"solidity\":0.2}},\"type\":\"histogram\"}],\"histogram2d\":[{\"colorbar\":{\"outlinewidth\":0,\"ticks\":\"\"},\"colorscale\":[[0.0,\"#0d0887\"],[0.1111111111111111,\"#46039f\"],[0.2222222222222222,\"#7201a8\"],[0.3333333333333333,\"#9c179e\"],[0.4444444444444444,\"#bd3786\"],[0.5555555555555556,\"#d8576b\"],[0.6666666666666666,\"#ed7953\"],[0.7777777777777778,\"#fb9f3a\"],[0.8888888888888888,\"#fdca26\"],[1.0,\"#f0f921\"]],\"type\":\"histogram2d\"}],\"histogram2dcontour\":[{\"colorbar\":{\"outlinewidth\":0,\"ticks\":\"\"},\"colorscale\":[[0.0,\"#0d0887\"],[0.1111111111111111,\"#46039f\"],[0.2222222222222222,\"#7201a8\"],[0.3333333333333333,\"#9c179e\"],[0.4444444444444444,\"#bd3786\"],[0.5555555555555556,\"#d8576b\"],[0.6666666666666666,\"#ed7953\"],[0.7777777777777778,\"#fb9f3a\"],[0.8888888888888888,\"#fdca26\"],[1.0,\"#f0f921\"]],\"type\":\"histogram2dcontour\"}],\"mesh3d\":[{\"colorbar\":{\"outlinewidth\":0,\"ticks\":\"\"},\"type\":\"mesh3d\"}],\"parcoords\":[{\"line\":{\"colorbar\":{\"outlinewidth\":0,\"ticks\":\"\"}},\"type\":\"parcoords\"}],\"pie\":[{\"automargin\":true,\"type\":\"pie\"}],\"scatter\":[{\"marker\":{\"colorbar\":{\"outlinewidth\":0,\"ticks\":\"\"}},\"type\":\"scatter\"}],\"scatter3d\":[{\"line\":{\"colorbar\":{\"outlinewidth\":0,\"ticks\":\"\"}},\"marker\":{\"colorbar\":{\"outlinewidth\":0,\"ticks\":\"\"}},\"type\":\"scatter3d\"}],\"scattercarpet\":[{\"marker\":{\"colorbar\":{\"outlinewidth\":0,\"ticks\":\"\"}},\"type\":\"scattercarpet\"}],\"scattergeo\":[{\"marker\":{\"colorbar\":{\"outlinewidth\":0,\"ticks\":\"\"}},\"type\":\"scattergeo\"}],\"scattergl\":[{\"marker\":{\"colorbar\":{\"outlinewidth\":0,\"ticks\":\"\"}},\"type\":\"scattergl\"}],\"scattermapbox\":[{\"marker\":{\"colorbar\":{\"outlinewidth\":0,\"ticks\":\"\"}},\"type\":\"scattermapbox\"}],\"scatterpolar\":[{\"marker\":{\"colorbar\":{\"outlinewidth\":0,\"ticks\":\"\"}},\"type\":\"scatterpolar\"}],\"scatterpolargl\":[{\"marker\":{\"colorbar\":{\"outlinewidth\":0,\"ticks\":\"\"}},\"type\":\"scatterpolargl\"}],\"scatterternary\":[{\"marker\":{\"colorbar\":{\"outlinewidth\":0,\"ticks\":\"\"}},\"type\":\"scatterternary\"}],\"surface\":[{\"colorbar\":{\"outlinewidth\":0,\"ticks\":\"\"},\"colorscale\":[[0.0,\"#0d0887\"],[0.1111111111111111,\"#46039f\"],[0.2222222222222222,\"#7201a8\"],[0.3333333333333333,\"#9c179e\"],[0.4444444444444444,\"#bd3786\"],[0.5555555555555556,\"#d8576b\"],[0.6666666666666666,\"#ed7953\"],[0.7777777777777778,\"#fb9f3a\"],[0.8888888888888888,\"#fdca26\"],[1.0,\"#f0f921\"]],\"type\":\"surface\"}],\"table\":[{\"cells\":{\"fill\":{\"color\":\"#EBF0F8\"},\"line\":{\"color\":\"white\"}},\"header\":{\"fill\":{\"color\":\"#C8D4E3\"},\"line\":{\"color\":\"white\"}},\"type\":\"table\"}]},\"layout\":{\"annotationdefaults\":{\"arrowcolor\":\"#2a3f5f\",\"arrowhead\":0,\"arrowwidth\":1},\"autotypenumbers\":\"strict\",\"coloraxis\":{\"colorbar\":{\"outlinewidth\":0,\"ticks\":\"\"}},\"colorscale\":{\"diverging\":[[0,\"#8e0152\"],[0.1,\"#c51b7d\"],[0.2,\"#de77ae\"],[0.3,\"#f1b6da\"],[0.4,\"#fde0ef\"],[0.5,\"#f7f7f7\"],[0.6,\"#e6f5d0\"],[0.7,\"#b8e186\"],[0.8,\"#7fbc41\"],[0.9,\"#4d9221\"],[1,\"#276419\"]],\"sequential\":[[0.0,\"#0d0887\"],[0.1111111111111111,\"#46039f\"],[0.2222222222222222,\"#7201a8\"],[0.3333333333333333,\"#9c179e\"],[0.4444444444444444,\"#bd3786\"],[0.5555555555555556,\"#d8576b\"],[0.6666666666666666,\"#ed7953\"],[0.7777777777777778,\"#fb9f3a\"],[0.8888888888888888,\"#fdca26\"],[1.0,\"#f0f921\"]],\"sequentialminus\":[[0.0,\"#0d0887\"],[0.1111111111111111,\"#46039f\"],[0.2222222222222222,\"#7201a8\"],[0.3333333333333333,\"#9c179e\"],[0.4444444444444444,\"#bd3786\"],[0.5555555555555556,\"#d8576b\"],[0.6666666666666666,\"#ed7953\"],[0.7777777777777778,\"#fb9f3a\"],[0.8888888888888888,\"#fdca26\"],[1.0,\"#f0f921\"]]},\"colorway\":[\"#636efa\",\"#EF553B\",\"#00cc96\",\"#ab63fa\",\"#FFA15A\",\"#19d3f3\",\"#FF6692\",\"#B6E880\",\"#FF97FF\",\"#FECB52\"],\"font\":{\"color\":\"#2a3f5f\"},\"geo\":{\"bgcolor\":\"white\",\"lakecolor\":\"white\",\"landcolor\":\"#E5ECF6\",\"showlakes\":true,\"showland\":true,\"subunitcolor\":\"white\"},\"hoverlabel\":{\"align\":\"left\"},\"hovermode\":\"closest\",\"mapbox\":{\"style\":\"light\"},\"paper_bgcolor\":\"white\",\"plot_bgcolor\":\"#E5ECF6\",\"polar\":{\"angularaxis\":{\"gridcolor\":\"white\",\"linecolor\":\"white\",\"ticks\":\"\"},\"bgcolor\":\"#E5ECF6\",\"radialaxis\":{\"gridcolor\":\"white\",\"linecolor\":\"white\",\"ticks\":\"\"}},\"scene\":{\"xaxis\":{\"backgroundcolor\":\"#E5ECF6\",\"gridcolor\":\"white\",\"gridwidth\":2,\"linecolor\":\"white\",\"showbackground\":true,\"ticks\":\"\",\"zerolinecolor\":\"white\"},\"yaxis\":{\"backgroundcolor\":\"#E5ECF6\",\"gridcolor\":\"white\",\"gridwidth\":2,\"linecolor\":\"white\",\"showbackground\":true,\"ticks\":\"\",\"zerolinecolor\":\"white\"},\"zaxis\":{\"backgroundcolor\":\"#E5ECF6\",\"gridcolor\":\"white\",\"gridwidth\":2,\"linecolor\":\"white\",\"showbackground\":true,\"ticks\":\"\",\"zerolinecolor\":\"white\"}},\"shapedefaults\":{\"line\":{\"color\":\"#2a3f5f\"}},\"ternary\":{\"aaxis\":{\"gridcolor\":\"white\",\"linecolor\":\"white\",\"ticks\":\"\"},\"baxis\":{\"gridcolor\":\"white\",\"linecolor\":\"white\",\"ticks\":\"\"},\"bgcolor\":\"#E5ECF6\",\"caxis\":{\"gridcolor\":\"white\",\"linecolor\":\"white\",\"ticks\":\"\"}},\"title\":{\"x\":0.05},\"xaxis\":{\"automargin\":true,\"gridcolor\":\"white\",\"linecolor\":\"white\",\"ticks\":\"\",\"title\":{\"standoff\":15},\"zerolinecolor\":\"white\",\"zerolinewidth\":2},\"yaxis\":{\"automargin\":true,\"gridcolor\":\"white\",\"linecolor\":\"white\",\"ticks\":\"\",\"title\":{\"standoff\":15},\"zerolinecolor\":\"white\",\"zerolinewidth\":2}}},\"xaxis\":{\"anchor\":\"y\",\"domain\":[0.0,1.0],\"title\":{\"text\":\"iyear\"}},\"yaxis\":{\"anchor\":\"x\",\"domain\":[0.0,1.0],\"title\":{\"text\":\"num_attack_df\"}},\"coloraxis\":{\"colorbar\":{\"title\":{\"text\":\"num_attack_df\"}},\"colorscale\":[[0.0,\"#0d0887\"],[0.1111111111111111,\"#46039f\"],[0.2222222222222222,\"#7201a8\"],[0.3333333333333333,\"#9c179e\"],[0.4444444444444444,\"#bd3786\"],[0.5555555555555556,\"#d8576b\"],[0.6666666666666666,\"#ed7953\"],[0.7777777777777778,\"#fb9f3a\"],[0.8888888888888888,\"#fdca26\"],[1.0,\"#f0f921\"]]},\"legend\":{\"tracegroupgap\":0},\"title\":{\"text\":\"Nombre d\\u2019africains bless\\u00e9s \\u00e0 cause de terrorisme par r\\u00e9gion par ann\\u00e9e\"},\"barmode\":\"relative\"},                        {\"responsive\": true}                    ).then(function(){\n",
              "                            \n",
              "var gd = document.getElementById('c7987fd7-c118-4170-84ab-6b4086b4d0b8');\n",
              "var x = new MutationObserver(function (mutations, observer) {{\n",
              "        var display = window.getComputedStyle(gd).display;\n",
              "        if (!display || display === 'none') {{\n",
              "            console.log([gd, 'removed!']);\n",
              "            Plotly.purge(gd);\n",
              "            observer.disconnect();\n",
              "        }}\n",
              "}});\n",
              "\n",
              "// Listen for the removal of the full notebook cells\n",
              "var notebookContainer = gd.closest('#notebook-container');\n",
              "if (notebookContainer) {{\n",
              "    x.observe(notebookContainer, {childList: true});\n",
              "}}\n",
              "\n",
              "// Listen for the clearing of the current output cell\n",
              "var outputEl = gd.closest('.output');\n",
              "if (outputEl) {{\n",
              "    x.observe(outputEl, {childList: true});\n",
              "}}\n",
              "\n",
              "                        })                };                            </script>        </div>\n",
              "</body>\n",
              "</html>"
            ]
          },
          "metadata": {}
        }
      ],
      "source": [
        "px.bar(num_attack_df, x='iyear', y=\"num_attack_df\", color=\"num_attack_df\", title =f\"Nombre d’attaques terroristes par année et par type d’attaque\")"
      ]
    },
    {
      "cell_type": "markdown",
      "source": [
        "Dans ce graphique on peut voir que les attentats térroristes augmentent au fil des années\n",
        "-\n",
        "-"
      ],
      "metadata": {
        "id": "EfkJcHLnbZb8"
      }
    },
    {
      "cell_type": "code",
      "source": [
        ""
      ],
      "metadata": {
        "id": "CqA2Qqx1oDGe"
      },
      "execution_count": 58,
      "outputs": []
    },
    {
      "cell_type": "code",
      "source": [
        ""
      ],
      "metadata": {
        "id": "Rrxq7A-No7i7"
      },
      "execution_count": 58,
      "outputs": []
    },
    {
      "cell_type": "markdown",
      "source": [
        "## Visualiser la répartition géographique du nombre d’attaques terroristes par leurs types et par pays"
      ],
      "metadata": {
        "id": "9MR8seY5evOs"
      }
    },
    {
      "cell_type": "code",
      "source": [
        "import folium"
      ],
      "metadata": {
        "id": "18coaFJ9gP4V"
      },
      "execution_count": 59,
      "outputs": []
    },
    {
      "cell_type": "code",
      "source": [
        "df_pays_geom = df.groupby(\"country_txt\").sum()[\"nkill\"].reset_index()"
      ],
      "metadata": {
        "id": "m0xkDYenHB89"
      },
      "execution_count": 60,
      "outputs": []
    },
    {
      "cell_type": "code",
      "source": [
        "fig = px.choropleth(df_pays_geom, \n",
        "                    locations=\"country_txt\", \n",
        "                    locationmode=\"country names\", \n",
        "                    featureidkey=\"properties.name\", \n",
        "                    color=\"nkill\", color_continuous_scale=\"Viridis\", \n",
        "                    scope=\"world\", \n",
        "                    hover_name=\"country_txt\")\n",
        "fig.update_layout(margin = {\"l\":0, \"r\":0, \"t\":0, \"b\":0})\n",
        "fig.show()"
      ],
      "metadata": {
        "id": "UhAuQmKr0Kwx",
        "colab": {
          "base_uri": "https://localhost:8080/",
          "height": 542
        },
        "outputId": "b4e9f539-19fe-4bc7-8336-8951e88e9713"
      },
      "execution_count": 61,
      "outputs": [
        {
          "output_type": "display_data",
          "data": {
            "text/html": [
              "<html>\n",
              "<head><meta charset=\"utf-8\" /></head>\n",
              "<body>\n",
              "    <div>            <script src=\"https://cdnjs.cloudflare.com/ajax/libs/mathjax/2.7.5/MathJax.js?config=TeX-AMS-MML_SVG\"></script><script type=\"text/javascript\">if (window.MathJax) {MathJax.Hub.Config({SVG: {font: \"STIX-Web\"}});}</script>                <script type=\"text/javascript\">window.PlotlyConfig = {MathJaxConfig: 'local'};</script>\n",
              "        <script src=\"https://cdn.plot.ly/plotly-2.8.3.min.js\"></script>                <div id=\"cf3795f6-2d05-4f72-8b83-c545c2bc3bac\" class=\"plotly-graph-div\" style=\"height:525px; width:100%;\"></div>            <script type=\"text/javascript\">                                    window.PLOTLYENV=window.PLOTLYENV || {};                                    if (document.getElementById(\"cf3795f6-2d05-4f72-8b83-c545c2bc3bac\")) {                    Plotly.newPlot(                        \"cf3795f6-2d05-4f72-8b83-c545c2bc3bac\",                        [{\"coloraxis\":\"coloraxis\",\"featureidkey\":\"properties.name\",\"geo\":\"geo\",\"hovertemplate\":\"<b>%{hovertext}</b><br><br>country_txt=%{location}<br>nkill=%{z}<extra></extra>\",\"hovertext\":[\"Afghanistan\",\"Albania\",\"Algeria\",\"Andorra\",\"Angola\",\"Antigua and Barbuda\",\"Argentina\",\"Armenia\",\"Australia\",\"Austria\",\"Azerbaijan\",\"Bahamas\",\"Bahrain\",\"Bangladesh\",\"Barbados\",\"Belarus\",\"Belgium\",\"Belize\",\"Benin\",\"Bhutan\",\"Bolivia\",\"Bosnia-Herzegovina\",\"Botswana\",\"Brazil\",\"Brunei\",\"Bulgaria\",\"Burkina Faso\",\"Burundi\",\"Cambodia\",\"Cameroon\",\"Canada\",\"Central African Republic\",\"Chad\",\"Chile\",\"China\",\"Colombia\",\"Comoros\",\"Costa Rica\",\"Croatia\",\"Cuba\",\"Cyprus\",\"Czech Republic\",\"Czechoslovakia\",\"Democratic Republic of the Congo\",\"Denmark\",\"Djibouti\",\"Dominica\",\"Dominican Republic\",\"East Germany (GDR)\",\"East Timor\",\"Ecuador\",\"Egypt\",\"El Salvador\",\"Equatorial Guinea\",\"Eritrea\",\"Estonia\",\"Ethiopia\",\"Falkland Islands\",\"Fiji\",\"Finland\",\"France\",\"French Guiana\",\"French Polynesia\",\"Gabon\",\"Gambia\",\"Georgia\",\"Germany\",\"Ghana\",\"Greece\",\"Grenada\",\"Guadeloupe\",\"Guatemala\",\"Guinea\",\"Guinea-Bissau\",\"Guyana\",\"Haiti\",\"Honduras\",\"Hong Kong\",\"Hungary\",\"Iceland\",\"India\",\"Indonesia\",\"International\",\"Iran\",\"Iraq\",\"Ireland\",\"Israel\",\"Italy\",\"Ivory Coast\",\"Jamaica\",\"Japan\",\"Jordan\",\"Kazakhstan\",\"Kenya\",\"Kosovo\",\"Kuwait\",\"Kyrgyzstan\",\"Laos\",\"Latvia\",\"Lebanon\",\"Lesotho\",\"Liberia\",\"Libya\",\"Lithuania\",\"Luxembourg\",\"Macau\",\"Macedonia\",\"Madagascar\",\"Malawi\",\"Malaysia\",\"Maldives\",\"Mali\",\"Malta\",\"Martinique\",\"Mauritania\",\"Mauritius\",\"Mexico\",\"Moldova\",\"Montenegro\",\"Morocco\",\"Mozambique\",\"Myanmar\",\"Namibia\",\"Nepal\",\"Netherlands\",\"New Caledonia\",\"New Hebrides\",\"New Zealand\",\"Nicaragua\",\"Niger\",\"Nigeria\",\"North Korea\",\"North Yemen\",\"Norway\",\"Pakistan\",\"Panama\",\"Papua New Guinea\",\"Paraguay\",\"People's Republic of the Congo\",\"Peru\",\"Philippines\",\"Poland\",\"Portugal\",\"Qatar\",\"Republic of the Congo\",\"Rhodesia\",\"Romania\",\"Russia\",\"Rwanda\",\"Saudi Arabia\",\"Senegal\",\"Serbia\",\"Serbia-Montenegro\",\"Seychelles\",\"Sierra Leone\",\"Singapore\",\"Slovak Republic\",\"Slovenia\",\"Solomon Islands\",\"Somalia\",\"South Africa\",\"South Korea\",\"South Sudan\",\"South Vietnam\",\"South Yemen\",\"Soviet Union\",\"Spain\",\"Sri Lanka\",\"St. Kitts and Nevis\",\"St. Lucia\",\"Sudan\",\"Suriname\",\"Swaziland\",\"Sweden\",\"Switzerland\",\"Syria\",\"Taiwan\",\"Tajikistan\",\"Tanzania\",\"Thailand\",\"Togo\",\"Trinidad and Tobago\",\"Tunisia\",\"Turkey\",\"Turkmenistan\",\"Uganda\",\"Ukraine\",\"United Arab Emirates\",\"United Kingdom\",\"United States\",\"Uruguay\",\"Uzbekistan\",\"Vanuatu\",\"Vatican City\",\"Venezuela\",\"Vietnam\",\"Wallis and Futuna\",\"West Bank and Gaza Strip\",\"West Germany (FRG)\",\"Western Sahara\",\"Yemen\",\"Yugoslavia\",\"Zaire\",\"Zambia\",\"Zimbabwe\"],\"locationmode\":\"country names\",\"locations\":[\"Afghanistan\",\"Albania\",\"Algeria\",\"Andorra\",\"Angola\",\"Antigua and Barbuda\",\"Argentina\",\"Armenia\",\"Australia\",\"Austria\",\"Azerbaijan\",\"Bahamas\",\"Bahrain\",\"Bangladesh\",\"Barbados\",\"Belarus\",\"Belgium\",\"Belize\",\"Benin\",\"Bhutan\",\"Bolivia\",\"Bosnia-Herzegovina\",\"Botswana\",\"Brazil\",\"Brunei\",\"Bulgaria\",\"Burkina Faso\",\"Burundi\",\"Cambodia\",\"Cameroon\",\"Canada\",\"Central African Republic\",\"Chad\",\"Chile\",\"China\",\"Colombia\",\"Comoros\",\"Costa Rica\",\"Croatia\",\"Cuba\",\"Cyprus\",\"Czech Republic\",\"Czechoslovakia\",\"Democratic Republic of the Congo\",\"Denmark\",\"Djibouti\",\"Dominica\",\"Dominican Republic\",\"East Germany (GDR)\",\"East Timor\",\"Ecuador\",\"Egypt\",\"El Salvador\",\"Equatorial Guinea\",\"Eritrea\",\"Estonia\",\"Ethiopia\",\"Falkland Islands\",\"Fiji\",\"Finland\",\"France\",\"French Guiana\",\"French Polynesia\",\"Gabon\",\"Gambia\",\"Georgia\",\"Germany\",\"Ghana\",\"Greece\",\"Grenada\",\"Guadeloupe\",\"Guatemala\",\"Guinea\",\"Guinea-Bissau\",\"Guyana\",\"Haiti\",\"Honduras\",\"Hong Kong\",\"Hungary\",\"Iceland\",\"India\",\"Indonesia\",\"International\",\"Iran\",\"Iraq\",\"Ireland\",\"Israel\",\"Italy\",\"Ivory Coast\",\"Jamaica\",\"Japan\",\"Jordan\",\"Kazakhstan\",\"Kenya\",\"Kosovo\",\"Kuwait\",\"Kyrgyzstan\",\"Laos\",\"Latvia\",\"Lebanon\",\"Lesotho\",\"Liberia\",\"Libya\",\"Lithuania\",\"Luxembourg\",\"Macau\",\"Macedonia\",\"Madagascar\",\"Malawi\",\"Malaysia\",\"Maldives\",\"Mali\",\"Malta\",\"Martinique\",\"Mauritania\",\"Mauritius\",\"Mexico\",\"Moldova\",\"Montenegro\",\"Morocco\",\"Mozambique\",\"Myanmar\",\"Namibia\",\"Nepal\",\"Netherlands\",\"New Caledonia\",\"New Hebrides\",\"New Zealand\",\"Nicaragua\",\"Niger\",\"Nigeria\",\"North Korea\",\"North Yemen\",\"Norway\",\"Pakistan\",\"Panama\",\"Papua New Guinea\",\"Paraguay\",\"People's Republic of the Congo\",\"Peru\",\"Philippines\",\"Poland\",\"Portugal\",\"Qatar\",\"Republic of the Congo\",\"Rhodesia\",\"Romania\",\"Russia\",\"Rwanda\",\"Saudi Arabia\",\"Senegal\",\"Serbia\",\"Serbia-Montenegro\",\"Seychelles\",\"Sierra Leone\",\"Singapore\",\"Slovak Republic\",\"Slovenia\",\"Solomon Islands\",\"Somalia\",\"South Africa\",\"South Korea\",\"South Sudan\",\"South Vietnam\",\"South Yemen\",\"Soviet Union\",\"Spain\",\"Sri Lanka\",\"St. Kitts and Nevis\",\"St. Lucia\",\"Sudan\",\"Suriname\",\"Swaziland\",\"Sweden\",\"Switzerland\",\"Syria\",\"Taiwan\",\"Tajikistan\",\"Tanzania\",\"Thailand\",\"Togo\",\"Trinidad and Tobago\",\"Tunisia\",\"Turkey\",\"Turkmenistan\",\"Uganda\",\"Ukraine\",\"United Arab Emirates\",\"United Kingdom\",\"United States\",\"Uruguay\",\"Uzbekistan\",\"Vanuatu\",\"Vatican City\",\"Venezuela\",\"Vietnam\",\"Wallis and Futuna\",\"West Bank and Gaza Strip\",\"West Germany (FRG)\",\"Western Sahara\",\"Yemen\",\"Yugoslavia\",\"Zaire\",\"Zambia\",\"Zimbabwe\"],\"name\":\"\",\"z\":[39374.0,42.0,10846.0,0.0,3003.0,0.0,488.0,37.0,23.0,30.0,258.0,1.0,44.0,1244.0,76.0,14.0,78.0,3.0,0.0,9.0,42.0,79.0,11.0,203.0,0.0,28.0,133.0,4196.0,541.0,2347.0,365.0,1990.0,1119.0,228.0,1008.0,14577.0,1.0,17.0,248.0,8.0,45.0,6.0,27.0,3985.0,5.0,274.0,3.0,34.0,2.0,9.0,54.0,3869.0,12005.0,2.0,29.0,3.0,1764.0,0.0,8.0,11.0,530.0,1.0,0.0,6.0,13.0,278.0,84.0,19.0,323.0,9.0,8.0,5145.0,210.0,17.0,41.0,336.0,307.0,4.0,6.0,0.0,19286.0,1237.0,1.0,1653.0,78557.0,116.0,1703.0,418.0,268.0,42.0,63.0,133.0,37.0,1948.0,83.0,63.0,10.0,27.0,2.0,4048.0,46.0,177.0,2598.0,1.0,0.0,1.0,49.0,31.0,33.0,152.0,20.0,1432.0,4.0,0.0,43.0,0.0,778.0,13.0,1.0,292.0,2705.0,1280.0,217.0,1964.0,35.0,35.0,0.0,1.0,10570.0,1474.0,22682.0,3.0,3.0,79.0,23792.0,38.0,79.0,59.0,15.0,12647.0,9501.0,9.0,32.0,7.0,182.0,207.0,4.0,4304.0,3236.0,672.0,325.0,3.0,3.0,0.0,838.0,5.0,7.0,1.0,4.0,10262.0,2665.0,10.0,2634.0,81.0,0.0,96.0,1285.0,15476.0,0.0,2.0,3850.0,29.0,6.0,22.0,74.0,15216.0,60.0,307.0,73.0,2735.0,76.0,6.0,351.0,6839.0,3.0,3053.0,2261.0,118.0,3403.0,3770.0,4.0,68.0,0.0,0.0,227.0,1.0,0.0,1496.0,97.0,1.0,8775.0,119.0,316.0,70.0,153.0],\"type\":\"choropleth\"}],                        {\"template\":{\"data\":{\"bar\":[{\"error_x\":{\"color\":\"#2a3f5f\"},\"error_y\":{\"color\":\"#2a3f5f\"},\"marker\":{\"line\":{\"color\":\"#E5ECF6\",\"width\":0.5},\"pattern\":{\"fillmode\":\"overlay\",\"size\":10,\"solidity\":0.2}},\"type\":\"bar\"}],\"barpolar\":[{\"marker\":{\"line\":{\"color\":\"#E5ECF6\",\"width\":0.5},\"pattern\":{\"fillmode\":\"overlay\",\"size\":10,\"solidity\":0.2}},\"type\":\"barpolar\"}],\"carpet\":[{\"aaxis\":{\"endlinecolor\":\"#2a3f5f\",\"gridcolor\":\"white\",\"linecolor\":\"white\",\"minorgridcolor\":\"white\",\"startlinecolor\":\"#2a3f5f\"},\"baxis\":{\"endlinecolor\":\"#2a3f5f\",\"gridcolor\":\"white\",\"linecolor\":\"white\",\"minorgridcolor\":\"white\",\"startlinecolor\":\"#2a3f5f\"},\"type\":\"carpet\"}],\"choropleth\":[{\"colorbar\":{\"outlinewidth\":0,\"ticks\":\"\"},\"type\":\"choropleth\"}],\"contour\":[{\"colorbar\":{\"outlinewidth\":0,\"ticks\":\"\"},\"colorscale\":[[0.0,\"#0d0887\"],[0.1111111111111111,\"#46039f\"],[0.2222222222222222,\"#7201a8\"],[0.3333333333333333,\"#9c179e\"],[0.4444444444444444,\"#bd3786\"],[0.5555555555555556,\"#d8576b\"],[0.6666666666666666,\"#ed7953\"],[0.7777777777777778,\"#fb9f3a\"],[0.8888888888888888,\"#fdca26\"],[1.0,\"#f0f921\"]],\"type\":\"contour\"}],\"contourcarpet\":[{\"colorbar\":{\"outlinewidth\":0,\"ticks\":\"\"},\"type\":\"contourcarpet\"}],\"heatmap\":[{\"colorbar\":{\"outlinewidth\":0,\"ticks\":\"\"},\"colorscale\":[[0.0,\"#0d0887\"],[0.1111111111111111,\"#46039f\"],[0.2222222222222222,\"#7201a8\"],[0.3333333333333333,\"#9c179e\"],[0.4444444444444444,\"#bd3786\"],[0.5555555555555556,\"#d8576b\"],[0.6666666666666666,\"#ed7953\"],[0.7777777777777778,\"#fb9f3a\"],[0.8888888888888888,\"#fdca26\"],[1.0,\"#f0f921\"]],\"type\":\"heatmap\"}],\"heatmapgl\":[{\"colorbar\":{\"outlinewidth\":0,\"ticks\":\"\"},\"colorscale\":[[0.0,\"#0d0887\"],[0.1111111111111111,\"#46039f\"],[0.2222222222222222,\"#7201a8\"],[0.3333333333333333,\"#9c179e\"],[0.4444444444444444,\"#bd3786\"],[0.5555555555555556,\"#d8576b\"],[0.6666666666666666,\"#ed7953\"],[0.7777777777777778,\"#fb9f3a\"],[0.8888888888888888,\"#fdca26\"],[1.0,\"#f0f921\"]],\"type\":\"heatmapgl\"}],\"histogram\":[{\"marker\":{\"pattern\":{\"fillmode\":\"overlay\",\"size\":10,\"solidity\":0.2}},\"type\":\"histogram\"}],\"histogram2d\":[{\"colorbar\":{\"outlinewidth\":0,\"ticks\":\"\"},\"colorscale\":[[0.0,\"#0d0887\"],[0.1111111111111111,\"#46039f\"],[0.2222222222222222,\"#7201a8\"],[0.3333333333333333,\"#9c179e\"],[0.4444444444444444,\"#bd3786\"],[0.5555555555555556,\"#d8576b\"],[0.6666666666666666,\"#ed7953\"],[0.7777777777777778,\"#fb9f3a\"],[0.8888888888888888,\"#fdca26\"],[1.0,\"#f0f921\"]],\"type\":\"histogram2d\"}],\"histogram2dcontour\":[{\"colorbar\":{\"outlinewidth\":0,\"ticks\":\"\"},\"colorscale\":[[0.0,\"#0d0887\"],[0.1111111111111111,\"#46039f\"],[0.2222222222222222,\"#7201a8\"],[0.3333333333333333,\"#9c179e\"],[0.4444444444444444,\"#bd3786\"],[0.5555555555555556,\"#d8576b\"],[0.6666666666666666,\"#ed7953\"],[0.7777777777777778,\"#fb9f3a\"],[0.8888888888888888,\"#fdca26\"],[1.0,\"#f0f921\"]],\"type\":\"histogram2dcontour\"}],\"mesh3d\":[{\"colorbar\":{\"outlinewidth\":0,\"ticks\":\"\"},\"type\":\"mesh3d\"}],\"parcoords\":[{\"line\":{\"colorbar\":{\"outlinewidth\":0,\"ticks\":\"\"}},\"type\":\"parcoords\"}],\"pie\":[{\"automargin\":true,\"type\":\"pie\"}],\"scatter\":[{\"marker\":{\"colorbar\":{\"outlinewidth\":0,\"ticks\":\"\"}},\"type\":\"scatter\"}],\"scatter3d\":[{\"line\":{\"colorbar\":{\"outlinewidth\":0,\"ticks\":\"\"}},\"marker\":{\"colorbar\":{\"outlinewidth\":0,\"ticks\":\"\"}},\"type\":\"scatter3d\"}],\"scattercarpet\":[{\"marker\":{\"colorbar\":{\"outlinewidth\":0,\"ticks\":\"\"}},\"type\":\"scattercarpet\"}],\"scattergeo\":[{\"marker\":{\"colorbar\":{\"outlinewidth\":0,\"ticks\":\"\"}},\"type\":\"scattergeo\"}],\"scattergl\":[{\"marker\":{\"colorbar\":{\"outlinewidth\":0,\"ticks\":\"\"}},\"type\":\"scattergl\"}],\"scattermapbox\":[{\"marker\":{\"colorbar\":{\"outlinewidth\":0,\"ticks\":\"\"}},\"type\":\"scattermapbox\"}],\"scatterpolar\":[{\"marker\":{\"colorbar\":{\"outlinewidth\":0,\"ticks\":\"\"}},\"type\":\"scatterpolar\"}],\"scatterpolargl\":[{\"marker\":{\"colorbar\":{\"outlinewidth\":0,\"ticks\":\"\"}},\"type\":\"scatterpolargl\"}],\"scatterternary\":[{\"marker\":{\"colorbar\":{\"outlinewidth\":0,\"ticks\":\"\"}},\"type\":\"scatterternary\"}],\"surface\":[{\"colorbar\":{\"outlinewidth\":0,\"ticks\":\"\"},\"colorscale\":[[0.0,\"#0d0887\"],[0.1111111111111111,\"#46039f\"],[0.2222222222222222,\"#7201a8\"],[0.3333333333333333,\"#9c179e\"],[0.4444444444444444,\"#bd3786\"],[0.5555555555555556,\"#d8576b\"],[0.6666666666666666,\"#ed7953\"],[0.7777777777777778,\"#fb9f3a\"],[0.8888888888888888,\"#fdca26\"],[1.0,\"#f0f921\"]],\"type\":\"surface\"}],\"table\":[{\"cells\":{\"fill\":{\"color\":\"#EBF0F8\"},\"line\":{\"color\":\"white\"}},\"header\":{\"fill\":{\"color\":\"#C8D4E3\"},\"line\":{\"color\":\"white\"}},\"type\":\"table\"}]},\"layout\":{\"annotationdefaults\":{\"arrowcolor\":\"#2a3f5f\",\"arrowhead\":0,\"arrowwidth\":1},\"autotypenumbers\":\"strict\",\"coloraxis\":{\"colorbar\":{\"outlinewidth\":0,\"ticks\":\"\"}},\"colorscale\":{\"diverging\":[[0,\"#8e0152\"],[0.1,\"#c51b7d\"],[0.2,\"#de77ae\"],[0.3,\"#f1b6da\"],[0.4,\"#fde0ef\"],[0.5,\"#f7f7f7\"],[0.6,\"#e6f5d0\"],[0.7,\"#b8e186\"],[0.8,\"#7fbc41\"],[0.9,\"#4d9221\"],[1,\"#276419\"]],\"sequential\":[[0.0,\"#0d0887\"],[0.1111111111111111,\"#46039f\"],[0.2222222222222222,\"#7201a8\"],[0.3333333333333333,\"#9c179e\"],[0.4444444444444444,\"#bd3786\"],[0.5555555555555556,\"#d8576b\"],[0.6666666666666666,\"#ed7953\"],[0.7777777777777778,\"#fb9f3a\"],[0.8888888888888888,\"#fdca26\"],[1.0,\"#f0f921\"]],\"sequentialminus\":[[0.0,\"#0d0887\"],[0.1111111111111111,\"#46039f\"],[0.2222222222222222,\"#7201a8\"],[0.3333333333333333,\"#9c179e\"],[0.4444444444444444,\"#bd3786\"],[0.5555555555555556,\"#d8576b\"],[0.6666666666666666,\"#ed7953\"],[0.7777777777777778,\"#fb9f3a\"],[0.8888888888888888,\"#fdca26\"],[1.0,\"#f0f921\"]]},\"colorway\":[\"#636efa\",\"#EF553B\",\"#00cc96\",\"#ab63fa\",\"#FFA15A\",\"#19d3f3\",\"#FF6692\",\"#B6E880\",\"#FF97FF\",\"#FECB52\"],\"font\":{\"color\":\"#2a3f5f\"},\"geo\":{\"bgcolor\":\"white\",\"lakecolor\":\"white\",\"landcolor\":\"#E5ECF6\",\"showlakes\":true,\"showland\":true,\"subunitcolor\":\"white\"},\"hoverlabel\":{\"align\":\"left\"},\"hovermode\":\"closest\",\"mapbox\":{\"style\":\"light\"},\"paper_bgcolor\":\"white\",\"plot_bgcolor\":\"#E5ECF6\",\"polar\":{\"angularaxis\":{\"gridcolor\":\"white\",\"linecolor\":\"white\",\"ticks\":\"\"},\"bgcolor\":\"#E5ECF6\",\"radialaxis\":{\"gridcolor\":\"white\",\"linecolor\":\"white\",\"ticks\":\"\"}},\"scene\":{\"xaxis\":{\"backgroundcolor\":\"#E5ECF6\",\"gridcolor\":\"white\",\"gridwidth\":2,\"linecolor\":\"white\",\"showbackground\":true,\"ticks\":\"\",\"zerolinecolor\":\"white\"},\"yaxis\":{\"backgroundcolor\":\"#E5ECF6\",\"gridcolor\":\"white\",\"gridwidth\":2,\"linecolor\":\"white\",\"showbackground\":true,\"ticks\":\"\",\"zerolinecolor\":\"white\"},\"zaxis\":{\"backgroundcolor\":\"#E5ECF6\",\"gridcolor\":\"white\",\"gridwidth\":2,\"linecolor\":\"white\",\"showbackground\":true,\"ticks\":\"\",\"zerolinecolor\":\"white\"}},\"shapedefaults\":{\"line\":{\"color\":\"#2a3f5f\"}},\"ternary\":{\"aaxis\":{\"gridcolor\":\"white\",\"linecolor\":\"white\",\"ticks\":\"\"},\"baxis\":{\"gridcolor\":\"white\",\"linecolor\":\"white\",\"ticks\":\"\"},\"bgcolor\":\"#E5ECF6\",\"caxis\":{\"gridcolor\":\"white\",\"linecolor\":\"white\",\"ticks\":\"\"}},\"title\":{\"x\":0.05},\"xaxis\":{\"automargin\":true,\"gridcolor\":\"white\",\"linecolor\":\"white\",\"ticks\":\"\",\"title\":{\"standoff\":15},\"zerolinecolor\":\"white\",\"zerolinewidth\":2},\"yaxis\":{\"automargin\":true,\"gridcolor\":\"white\",\"linecolor\":\"white\",\"ticks\":\"\",\"title\":{\"standoff\":15},\"zerolinecolor\":\"white\",\"zerolinewidth\":2}}},\"geo\":{\"domain\":{\"x\":[0.0,1.0],\"y\":[0.0,1.0]},\"center\":{},\"scope\":\"world\"},\"coloraxis\":{\"colorbar\":{\"title\":{\"text\":\"nkill\"}},\"colorscale\":[[0.0,\"#440154\"],[0.1111111111111111,\"#482878\"],[0.2222222222222222,\"#3e4989\"],[0.3333333333333333,\"#31688e\"],[0.4444444444444444,\"#26828e\"],[0.5555555555555556,\"#1f9e89\"],[0.6666666666666666,\"#35b779\"],[0.7777777777777778,\"#6ece58\"],[0.8888888888888888,\"#b5de2b\"],[1.0,\"#fde725\"]]},\"legend\":{\"tracegroupgap\":0},\"margin\":{\"t\":0,\"l\":0,\"r\":0,\"b\":0}},                        {\"responsive\": true}                    ).then(function(){\n",
              "                            \n",
              "var gd = document.getElementById('cf3795f6-2d05-4f72-8b83-c545c2bc3bac');\n",
              "var x = new MutationObserver(function (mutations, observer) {{\n",
              "        var display = window.getComputedStyle(gd).display;\n",
              "        if (!display || display === 'none') {{\n",
              "            console.log([gd, 'removed!']);\n",
              "            Plotly.purge(gd);\n",
              "            observer.disconnect();\n",
              "        }}\n",
              "}});\n",
              "\n",
              "// Listen for the removal of the full notebook cells\n",
              "var notebookContainer = gd.closest('#notebook-container');\n",
              "if (notebookContainer) {{\n",
              "    x.observe(notebookContainer, {childList: true});\n",
              "}}\n",
              "\n",
              "// Listen for the clearing of the current output cell\n",
              "var outputEl = gd.closest('.output');\n",
              "if (outputEl) {{\n",
              "    x.observe(outputEl, {childList: true});\n",
              "}}\n",
              "\n",
              "                        })                };                            </script>        </div>\n",
              "</body>\n",
              "</html>"
            ]
          },
          "metadata": {}
        }
      ]
    },
    {
      "cell_type": "code",
      "source": [
        ""
      ],
      "metadata": {
        "id": "JkwkHS7JzfpB"
      },
      "execution_count": 61,
      "outputs": []
    },
    {
      "cell_type": "code",
      "source": [
        ""
      ],
      "metadata": {
        "id": "ligXIfSMe1EZ"
      },
      "execution_count": 61,
      "outputs": []
    },
    {
      "cell_type": "markdown",
      "source": [
        "## Visualiser le nombre d’événements alternatifs (par ordre décroissant)"
      ],
      "metadata": {
        "id": "Z7dXW8JbMrH1"
      }
    },
    {
      "cell_type": "code",
      "source": [
        "from typing import List"
      ],
      "metadata": {
        "id": "tbCIjRN2fYi9"
      },
      "execution_count": 62,
      "outputs": []
    },
    {
      "cell_type": "code",
      "source": [
        "# concevons une fonction qui permet d'éliminer des valeurs dans un jeu de données\n",
        "def supprimer_valeurs(data_frame: pd.DataFrame, colonne: str, valeurs: List)->pd.DataFrame:\n",
        "    \"\"\"Permet de supprimer certaines valeurs dans un jeu de données\n",
        "\n",
        "    Args:\n",
        "        data_frame (pd.DataFrame): Le jeu de données\n",
        "        colonne (str): La colonne qui contient les valeurs\n",
        "        valeurs (List): Une liste de valeurs à supprimer\n",
        "\n",
        "    Returns:\n",
        "        pd.DataFrame: Le nouveau jeu de données\n",
        "    \"\"\"\n",
        "    return data_frame[~data_frame[colonne].isin(valeurs)]"
      ],
      "metadata": {
        "id": "qmv-B30Y9E9I"
      },
      "execution_count": 63,
      "outputs": []
    },
    {
      "cell_type": "code",
      "source": [
        "df_alternative = df.groupby('alternative_txt').size().reset_index()\n",
        "df_alternative.columns = [\"alternative_txt\", 'num_alternative']\n",
        "df_alternative = df_alternative.sort_values(ascending=False, by=[\"num_alternative\"])\n",
        "df_alternative = supprimer_valeurs(df_alternative, \"alternative_txt\", [\"''\"])"
      ],
      "metadata": {
        "id": "q_lyRwpZM1p6"
      },
      "execution_count": 64,
      "outputs": []
    },
    {
      "cell_type": "code",
      "source": [
        "px.bar(df_alternative, x='alternative_txt', y=\"num_alternative\", color=\"num_alternative\", title =f\"Nombre d’événements alternatifs (par ordre décroissant)\")"
      ],
      "metadata": {
        "id": "vCR9VFL1NDMb",
        "colab": {
          "base_uri": "https://localhost:8080/",
          "height": 542
        },
        "outputId": "6e8d92c5-6791-4032-ba52-cb1c4e0e6def"
      },
      "execution_count": 65,
      "outputs": [
        {
          "output_type": "display_data",
          "data": {
            "text/html": [
              "<html>\n",
              "<head><meta charset=\"utf-8\" /></head>\n",
              "<body>\n",
              "    <div>            <script src=\"https://cdnjs.cloudflare.com/ajax/libs/mathjax/2.7.5/MathJax.js?config=TeX-AMS-MML_SVG\"></script><script type=\"text/javascript\">if (window.MathJax) {MathJax.Hub.Config({SVG: {font: \"STIX-Web\"}});}</script>                <script type=\"text/javascript\">window.PlotlyConfig = {MathJaxConfig: 'local'};</script>\n",
              "        <script src=\"https://cdn.plot.ly/plotly-2.8.3.min.js\"></script>                <div id=\"5ca2ca80-e308-466d-b081-562da63f1e47\" class=\"plotly-graph-div\" style=\"height:525px; width:100%;\"></div>            <script type=\"text/javascript\">                                    window.PLOTLYENV=window.PLOTLYENV || {};                                    if (document.getElementById(\"5ca2ca80-e308-466d-b081-562da63f1e47\")) {                    Plotly.newPlot(                        \"5ca2ca80-e308-466d-b081-562da63f1e47\",                        [{\"alignmentgroup\":\"True\",\"hovertemplate\":\"alternative_txt=%{x}<br>num_alternative=%{marker.color}<extra></extra>\",\"legendgroup\":\"\",\"marker\":{\"color\":[23348,3629,1288,321,318],\"coloraxis\":\"coloraxis\",\"pattern\":{\"shape\":\"\"}},\"name\":\"\",\"offsetgroup\":\"\",\"orientation\":\"v\",\"showlegend\":false,\"textposition\":\"auto\",\"x\":[\"Insurgency/Guerilla Action\",\"Other Crime Type\",\"Intra/Inter-group Conflict\",\"State Actors\",\"Lack of Intentionality\"],\"xaxis\":\"x\",\"y\":[23348,3629,1288,321,318],\"yaxis\":\"y\",\"type\":\"bar\"}],                        {\"template\":{\"data\":{\"bar\":[{\"error_x\":{\"color\":\"#2a3f5f\"},\"error_y\":{\"color\":\"#2a3f5f\"},\"marker\":{\"line\":{\"color\":\"#E5ECF6\",\"width\":0.5},\"pattern\":{\"fillmode\":\"overlay\",\"size\":10,\"solidity\":0.2}},\"type\":\"bar\"}],\"barpolar\":[{\"marker\":{\"line\":{\"color\":\"#E5ECF6\",\"width\":0.5},\"pattern\":{\"fillmode\":\"overlay\",\"size\":10,\"solidity\":0.2}},\"type\":\"barpolar\"}],\"carpet\":[{\"aaxis\":{\"endlinecolor\":\"#2a3f5f\",\"gridcolor\":\"white\",\"linecolor\":\"white\",\"minorgridcolor\":\"white\",\"startlinecolor\":\"#2a3f5f\"},\"baxis\":{\"endlinecolor\":\"#2a3f5f\",\"gridcolor\":\"white\",\"linecolor\":\"white\",\"minorgridcolor\":\"white\",\"startlinecolor\":\"#2a3f5f\"},\"type\":\"carpet\"}],\"choropleth\":[{\"colorbar\":{\"outlinewidth\":0,\"ticks\":\"\"},\"type\":\"choropleth\"}],\"contour\":[{\"colorbar\":{\"outlinewidth\":0,\"ticks\":\"\"},\"colorscale\":[[0.0,\"#0d0887\"],[0.1111111111111111,\"#46039f\"],[0.2222222222222222,\"#7201a8\"],[0.3333333333333333,\"#9c179e\"],[0.4444444444444444,\"#bd3786\"],[0.5555555555555556,\"#d8576b\"],[0.6666666666666666,\"#ed7953\"],[0.7777777777777778,\"#fb9f3a\"],[0.8888888888888888,\"#fdca26\"],[1.0,\"#f0f921\"]],\"type\":\"contour\"}],\"contourcarpet\":[{\"colorbar\":{\"outlinewidth\":0,\"ticks\":\"\"},\"type\":\"contourcarpet\"}],\"heatmap\":[{\"colorbar\":{\"outlinewidth\":0,\"ticks\":\"\"},\"colorscale\":[[0.0,\"#0d0887\"],[0.1111111111111111,\"#46039f\"],[0.2222222222222222,\"#7201a8\"],[0.3333333333333333,\"#9c179e\"],[0.4444444444444444,\"#bd3786\"],[0.5555555555555556,\"#d8576b\"],[0.6666666666666666,\"#ed7953\"],[0.7777777777777778,\"#fb9f3a\"],[0.8888888888888888,\"#fdca26\"],[1.0,\"#f0f921\"]],\"type\":\"heatmap\"}],\"heatmapgl\":[{\"colorbar\":{\"outlinewidth\":0,\"ticks\":\"\"},\"colorscale\":[[0.0,\"#0d0887\"],[0.1111111111111111,\"#46039f\"],[0.2222222222222222,\"#7201a8\"],[0.3333333333333333,\"#9c179e\"],[0.4444444444444444,\"#bd3786\"],[0.5555555555555556,\"#d8576b\"],[0.6666666666666666,\"#ed7953\"],[0.7777777777777778,\"#fb9f3a\"],[0.8888888888888888,\"#fdca26\"],[1.0,\"#f0f921\"]],\"type\":\"heatmapgl\"}],\"histogram\":[{\"marker\":{\"pattern\":{\"fillmode\":\"overlay\",\"size\":10,\"solidity\":0.2}},\"type\":\"histogram\"}],\"histogram2d\":[{\"colorbar\":{\"outlinewidth\":0,\"ticks\":\"\"},\"colorscale\":[[0.0,\"#0d0887\"],[0.1111111111111111,\"#46039f\"],[0.2222222222222222,\"#7201a8\"],[0.3333333333333333,\"#9c179e\"],[0.4444444444444444,\"#bd3786\"],[0.5555555555555556,\"#d8576b\"],[0.6666666666666666,\"#ed7953\"],[0.7777777777777778,\"#fb9f3a\"],[0.8888888888888888,\"#fdca26\"],[1.0,\"#f0f921\"]],\"type\":\"histogram2d\"}],\"histogram2dcontour\":[{\"colorbar\":{\"outlinewidth\":0,\"ticks\":\"\"},\"colorscale\":[[0.0,\"#0d0887\"],[0.1111111111111111,\"#46039f\"],[0.2222222222222222,\"#7201a8\"],[0.3333333333333333,\"#9c179e\"],[0.4444444444444444,\"#bd3786\"],[0.5555555555555556,\"#d8576b\"],[0.6666666666666666,\"#ed7953\"],[0.7777777777777778,\"#fb9f3a\"],[0.8888888888888888,\"#fdca26\"],[1.0,\"#f0f921\"]],\"type\":\"histogram2dcontour\"}],\"mesh3d\":[{\"colorbar\":{\"outlinewidth\":0,\"ticks\":\"\"},\"type\":\"mesh3d\"}],\"parcoords\":[{\"line\":{\"colorbar\":{\"outlinewidth\":0,\"ticks\":\"\"}},\"type\":\"parcoords\"}],\"pie\":[{\"automargin\":true,\"type\":\"pie\"}],\"scatter\":[{\"marker\":{\"colorbar\":{\"outlinewidth\":0,\"ticks\":\"\"}},\"type\":\"scatter\"}],\"scatter3d\":[{\"line\":{\"colorbar\":{\"outlinewidth\":0,\"ticks\":\"\"}},\"marker\":{\"colorbar\":{\"outlinewidth\":0,\"ticks\":\"\"}},\"type\":\"scatter3d\"}],\"scattercarpet\":[{\"marker\":{\"colorbar\":{\"outlinewidth\":0,\"ticks\":\"\"}},\"type\":\"scattercarpet\"}],\"scattergeo\":[{\"marker\":{\"colorbar\":{\"outlinewidth\":0,\"ticks\":\"\"}},\"type\":\"scattergeo\"}],\"scattergl\":[{\"marker\":{\"colorbar\":{\"outlinewidth\":0,\"ticks\":\"\"}},\"type\":\"scattergl\"}],\"scattermapbox\":[{\"marker\":{\"colorbar\":{\"outlinewidth\":0,\"ticks\":\"\"}},\"type\":\"scattermapbox\"}],\"scatterpolar\":[{\"marker\":{\"colorbar\":{\"outlinewidth\":0,\"ticks\":\"\"}},\"type\":\"scatterpolar\"}],\"scatterpolargl\":[{\"marker\":{\"colorbar\":{\"outlinewidth\":0,\"ticks\":\"\"}},\"type\":\"scatterpolargl\"}],\"scatterternary\":[{\"marker\":{\"colorbar\":{\"outlinewidth\":0,\"ticks\":\"\"}},\"type\":\"scatterternary\"}],\"surface\":[{\"colorbar\":{\"outlinewidth\":0,\"ticks\":\"\"},\"colorscale\":[[0.0,\"#0d0887\"],[0.1111111111111111,\"#46039f\"],[0.2222222222222222,\"#7201a8\"],[0.3333333333333333,\"#9c179e\"],[0.4444444444444444,\"#bd3786\"],[0.5555555555555556,\"#d8576b\"],[0.6666666666666666,\"#ed7953\"],[0.7777777777777778,\"#fb9f3a\"],[0.8888888888888888,\"#fdca26\"],[1.0,\"#f0f921\"]],\"type\":\"surface\"}],\"table\":[{\"cells\":{\"fill\":{\"color\":\"#EBF0F8\"},\"line\":{\"color\":\"white\"}},\"header\":{\"fill\":{\"color\":\"#C8D4E3\"},\"line\":{\"color\":\"white\"}},\"type\":\"table\"}]},\"layout\":{\"annotationdefaults\":{\"arrowcolor\":\"#2a3f5f\",\"arrowhead\":0,\"arrowwidth\":1},\"autotypenumbers\":\"strict\",\"coloraxis\":{\"colorbar\":{\"outlinewidth\":0,\"ticks\":\"\"}},\"colorscale\":{\"diverging\":[[0,\"#8e0152\"],[0.1,\"#c51b7d\"],[0.2,\"#de77ae\"],[0.3,\"#f1b6da\"],[0.4,\"#fde0ef\"],[0.5,\"#f7f7f7\"],[0.6,\"#e6f5d0\"],[0.7,\"#b8e186\"],[0.8,\"#7fbc41\"],[0.9,\"#4d9221\"],[1,\"#276419\"]],\"sequential\":[[0.0,\"#0d0887\"],[0.1111111111111111,\"#46039f\"],[0.2222222222222222,\"#7201a8\"],[0.3333333333333333,\"#9c179e\"],[0.4444444444444444,\"#bd3786\"],[0.5555555555555556,\"#d8576b\"],[0.6666666666666666,\"#ed7953\"],[0.7777777777777778,\"#fb9f3a\"],[0.8888888888888888,\"#fdca26\"],[1.0,\"#f0f921\"]],\"sequentialminus\":[[0.0,\"#0d0887\"],[0.1111111111111111,\"#46039f\"],[0.2222222222222222,\"#7201a8\"],[0.3333333333333333,\"#9c179e\"],[0.4444444444444444,\"#bd3786\"],[0.5555555555555556,\"#d8576b\"],[0.6666666666666666,\"#ed7953\"],[0.7777777777777778,\"#fb9f3a\"],[0.8888888888888888,\"#fdca26\"],[1.0,\"#f0f921\"]]},\"colorway\":[\"#636efa\",\"#EF553B\",\"#00cc96\",\"#ab63fa\",\"#FFA15A\",\"#19d3f3\",\"#FF6692\",\"#B6E880\",\"#FF97FF\",\"#FECB52\"],\"font\":{\"color\":\"#2a3f5f\"},\"geo\":{\"bgcolor\":\"white\",\"lakecolor\":\"white\",\"landcolor\":\"#E5ECF6\",\"showlakes\":true,\"showland\":true,\"subunitcolor\":\"white\"},\"hoverlabel\":{\"align\":\"left\"},\"hovermode\":\"closest\",\"mapbox\":{\"style\":\"light\"},\"paper_bgcolor\":\"white\",\"plot_bgcolor\":\"#E5ECF6\",\"polar\":{\"angularaxis\":{\"gridcolor\":\"white\",\"linecolor\":\"white\",\"ticks\":\"\"},\"bgcolor\":\"#E5ECF6\",\"radialaxis\":{\"gridcolor\":\"white\",\"linecolor\":\"white\",\"ticks\":\"\"}},\"scene\":{\"xaxis\":{\"backgroundcolor\":\"#E5ECF6\",\"gridcolor\":\"white\",\"gridwidth\":2,\"linecolor\":\"white\",\"showbackground\":true,\"ticks\":\"\",\"zerolinecolor\":\"white\"},\"yaxis\":{\"backgroundcolor\":\"#E5ECF6\",\"gridcolor\":\"white\",\"gridwidth\":2,\"linecolor\":\"white\",\"showbackground\":true,\"ticks\":\"\",\"zerolinecolor\":\"white\"},\"zaxis\":{\"backgroundcolor\":\"#E5ECF6\",\"gridcolor\":\"white\",\"gridwidth\":2,\"linecolor\":\"white\",\"showbackground\":true,\"ticks\":\"\",\"zerolinecolor\":\"white\"}},\"shapedefaults\":{\"line\":{\"color\":\"#2a3f5f\"}},\"ternary\":{\"aaxis\":{\"gridcolor\":\"white\",\"linecolor\":\"white\",\"ticks\":\"\"},\"baxis\":{\"gridcolor\":\"white\",\"linecolor\":\"white\",\"ticks\":\"\"},\"bgcolor\":\"#E5ECF6\",\"caxis\":{\"gridcolor\":\"white\",\"linecolor\":\"white\",\"ticks\":\"\"}},\"title\":{\"x\":0.05},\"xaxis\":{\"automargin\":true,\"gridcolor\":\"white\",\"linecolor\":\"white\",\"ticks\":\"\",\"title\":{\"standoff\":15},\"zerolinecolor\":\"white\",\"zerolinewidth\":2},\"yaxis\":{\"automargin\":true,\"gridcolor\":\"white\",\"linecolor\":\"white\",\"ticks\":\"\",\"title\":{\"standoff\":15},\"zerolinecolor\":\"white\",\"zerolinewidth\":2}}},\"xaxis\":{\"anchor\":\"y\",\"domain\":[0.0,1.0],\"title\":{\"text\":\"alternative_txt\"}},\"yaxis\":{\"anchor\":\"x\",\"domain\":[0.0,1.0],\"title\":{\"text\":\"num_alternative\"}},\"coloraxis\":{\"colorbar\":{\"title\":{\"text\":\"num_alternative\"}},\"colorscale\":[[0.0,\"#0d0887\"],[0.1111111111111111,\"#46039f\"],[0.2222222222222222,\"#7201a8\"],[0.3333333333333333,\"#9c179e\"],[0.4444444444444444,\"#bd3786\"],[0.5555555555555556,\"#d8576b\"],[0.6666666666666666,\"#ed7953\"],[0.7777777777777778,\"#fb9f3a\"],[0.8888888888888888,\"#fdca26\"],[1.0,\"#f0f921\"]]},\"legend\":{\"tracegroupgap\":0},\"title\":{\"text\":\"Nombre d\\u2019africains bless\\u00e9s \\u00e0 cause de terrorisme par r\\u00e9gion par ann\\u00e9e\"},\"barmode\":\"relative\"},                        {\"responsive\": true}                    ).then(function(){\n",
              "                            \n",
              "var gd = document.getElementById('5ca2ca80-e308-466d-b081-562da63f1e47');\n",
              "var x = new MutationObserver(function (mutations, observer) {{\n",
              "        var display = window.getComputedStyle(gd).display;\n",
              "        if (!display || display === 'none') {{\n",
              "            console.log([gd, 'removed!']);\n",
              "            Plotly.purge(gd);\n",
              "            observer.disconnect();\n",
              "        }}\n",
              "}});\n",
              "\n",
              "// Listen for the removal of the full notebook cells\n",
              "var notebookContainer = gd.closest('#notebook-container');\n",
              "if (notebookContainer) {{\n",
              "    x.observe(notebookContainer, {childList: true});\n",
              "}}\n",
              "\n",
              "// Listen for the clearing of the current output cell\n",
              "var outputEl = gd.closest('.output');\n",
              "if (outputEl) {{\n",
              "    x.observe(outputEl, {childList: true});\n",
              "}}\n",
              "\n",
              "                        })                };                            </script>        </div>\n",
              "</body>\n",
              "</html>"
            ]
          },
          "metadata": {}
        }
      ]
    }
  ],
  "metadata": {
    "colab": {
      "collapsed_sections": [],
      "name": "00 - Datacamp.ipynb",
      "provenance": []
    },
    "kernelspec": {
      "display_name": "Python 3",
      "name": "python3"
    },
    "language_info": {
      "name": "python"
    }
  },
  "nbformat": 4,
  "nbformat_minor": 0
}