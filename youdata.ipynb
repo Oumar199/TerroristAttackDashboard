{
  "nbformat": 4,
  "nbformat_minor": 0,
  "metadata": {
    "colab": {
      "name": "youdata.ipynb",
      "provenance": [],
      "collapsed_sections": []
    },
    "kernelspec": {
      "name": "python3",
      "display_name": "Python 3"
    },
    "language_info": {
      "name": "python"
    }
  },
  "cells": [
    {
      "cell_type": "code",
      "execution_count": null,
      "metadata": {
        "id": "hWm32tVyYWGJ"
      },
      "outputs": [],
      "source": [
        "import pandas as pd\n",
        "from plotly import express, graph_objects"
      ]
    },
    {
      "cell_type": "code",
      "source": [
        "cleaned_data = pd.read_csv(\"/content/drive/MyDrive/PROJETDATACAMP/visu/terror.csv\")"
      ],
      "metadata": {
        "id": "v35AT0YWYeAC"
      },
      "execution_count": null,
      "outputs": []
    },
    {
      "cell_type": "markdown",
      "source": [
        "Visualiser le nombre d’attaques terroristes par mode de réclamation (ordre décroissant)"
      ],
      "metadata": {
        "id": "m_ltbrNGYphf"
      }
    },
    {
      "cell_type": "code",
      "source": [
        "reclamation=pd.DataFrame(cleaned_data, columns = [\"country_txt\",\"claimmode_txt\",\"region_txt\",\"attcktype1_txt\"])"
      ],
      "metadata": {
        "id": "pL_z7oa5YeDc"
      },
      "execution_count": null,
      "outputs": []
    },
    {
      "cell_type": "code",
      "source": [
        "express.box(reclamation,x=\"claimmode_txt\",color=\"region_txt\",hover_data=reclamation.columns)"
      ],
      "metadata": {
        "id": "_yLEuYVgYj_N"
      },
      "execution_count": null,
      "outputs": []
    },
    {
      "cell_type": "markdown",
      "source": [
        "Visualiser la répartition de nombre d’attaques terroristes par catégorie de dommage de propriété (tableau)"
      ],
      "metadata": {
        "id": "Ax09u9aiYyMJ"
      }
    },
    {
      "cell_type": "code",
      "source": [
        "df = pd.DataFrame(cleaned_data, columns = [\"propextent_txt\",\"city\",\"country_txt\",\"iday\",\"imonth\",\"iyear\",\"nkill\",\"nwound\",\"propvalue\",\"attacktype1_txt\",\"gname\"])"
      ],
      "metadata": {
        "id": "B_8t7zWxYtlI"
      },
      "execution_count": null,
      "outputs": []
    },
    {
      "cell_type": "code",
      "source": [
        "express.histogram(df,x=\"propextent_txt\",marginal='rug',hover_name='attacktype1_txt',hover_data=df.columns)"
      ],
      "metadata": {
        "id": "SBqdfgo9Ytt9"
      },
      "execution_count": null,
      "outputs": []
    },
    {
      "cell_type": "markdown",
      "source": [
        "Visualiser l'évolution annuel (animation par année) du nombre d’attaques terroristes par catégorie de dommage de propriété"
      ],
      "metadata": {
        "id": "CxSDltKDY8ex"
      }
    },
    {
      "cell_type": "code",
      "source": [
        "dfc = pd.DataFrame(cleaned_data, columns = [\"propextent_txt\",\"iyear\",\"nkill\",\"country_txt\",\"region_txt\"])"
      ],
      "metadata": {
        "id": "yJc0BrUNYtwo"
      },
      "execution_count": null,
      "outputs": []
    },
    {
      "cell_type": "code",
      "source": [
        "express.sunburst(dfc,path=[\"iyear\",\"propextent_txt\"],color=\"country_txt\",hover_data=dfc.columns)"
      ],
      "metadata": {
        "id": "WLIWbFs2Ytz9"
      },
      "execution_count": null,
      "outputs": []
    },
    {
      "cell_type": "code",
      "source": [
        ""
      ],
      "metadata": {
        "id": "od4FWDizYt2I"
      },
      "execution_count": null,
      "outputs": []
    },
    {
      "cell_type": "code",
      "source": [
        ""
      ],
      "metadata": {
        "id": "XUIx9o4gYt5q"
      },
      "execution_count": null,
      "outputs": []
    }
  ]
}