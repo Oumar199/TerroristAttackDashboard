{
 "cells": [
  {
   "cell_type": "code",
   "execution_count": 94,
   "metadata": {},
   "outputs": [],
   "source": [
    "import pandas as pd"
   ]
  },
  {
   "cell_type": "code",
   "execution_count": 95,
   "metadata": {},
   "outputs": [
    {
     "ename": "FileNotFoundError",
     "evalue": "[Errno 2] No such file or directory: 'data/original/globalterrorismdb.csv'",
     "output_type": "error",
     "traceback": [
      "\u001b[1;31m---------------------------------------------------------------------------\u001b[0m",
      "\u001b[1;31mFileNotFoundError\u001b[0m                         Traceback (most recent call last)",
      "\u001b[1;32me:\\Oumar\\Ordinateur Dell\\oumar\\documents\\Cours\\IA data forest\\master semestre 2\\Data Camp\\Projet Terroriste\\TerroristAttackDashboard\\preprocessing.ipynb Cell 2'\u001b[0m in \u001b[0;36m<cell line: 1>\u001b[1;34m()\u001b[0m\n\u001b[1;32m----> <a href='vscode-notebook-cell:/e%3A/Oumar/Ordinateur%20Dell/oumar/documents/Cours/IA%20data%20forest/master%20semestre%202/Data%20Camp/Projet%20Terroriste/TerroristAttackDashboard/preprocessing.ipynb#ch0000001?line=0'>1</a>\u001b[0m terror_data \u001b[39m=\u001b[39m pd\u001b[39m.\u001b[39;49mread_csv(\u001b[39m\"\u001b[39;49m\u001b[39mdata/original/globalterrorismdb.csv\u001b[39;49m\u001b[39m\"\u001b[39;49m, encoding \u001b[39m=\u001b[39;49m \u001b[39m\"\u001b[39;49m\u001b[39mISO-8859-1\u001b[39;49m\u001b[39m\"\u001b[39;49m)\n",
      "File \u001b[1;32mc:\\Users\\Fatimata Kane\\AppData\\Local\\Programs\\Python\\Python39-32\\lib\\site-packages\\pandas\\util\\_decorators.py:311\u001b[0m, in \u001b[0;36mdeprecate_nonkeyword_arguments.<locals>.decorate.<locals>.wrapper\u001b[1;34m(*args, **kwargs)\u001b[0m\n\u001b[0;32m    <a href='file:///c%3A/Users/Fatimata%20Kane/AppData/Local/Programs/Python/Python39-32/lib/site-packages/pandas/util/_decorators.py?line=304'>305</a>\u001b[0m \u001b[39mif\u001b[39;00m \u001b[39mlen\u001b[39m(args) \u001b[39m>\u001b[39m num_allow_args:\n\u001b[0;32m    <a href='file:///c%3A/Users/Fatimata%20Kane/AppData/Local/Programs/Python/Python39-32/lib/site-packages/pandas/util/_decorators.py?line=305'>306</a>\u001b[0m     warnings\u001b[39m.\u001b[39mwarn(\n\u001b[0;32m    <a href='file:///c%3A/Users/Fatimata%20Kane/AppData/Local/Programs/Python/Python39-32/lib/site-packages/pandas/util/_decorators.py?line=306'>307</a>\u001b[0m         msg\u001b[39m.\u001b[39mformat(arguments\u001b[39m=\u001b[39marguments),\n\u001b[0;32m    <a href='file:///c%3A/Users/Fatimata%20Kane/AppData/Local/Programs/Python/Python39-32/lib/site-packages/pandas/util/_decorators.py?line=307'>308</a>\u001b[0m         \u001b[39mFutureWarning\u001b[39;00m,\n\u001b[0;32m    <a href='file:///c%3A/Users/Fatimata%20Kane/AppData/Local/Programs/Python/Python39-32/lib/site-packages/pandas/util/_decorators.py?line=308'>309</a>\u001b[0m         stacklevel\u001b[39m=\u001b[39mstacklevel,\n\u001b[0;32m    <a href='file:///c%3A/Users/Fatimata%20Kane/AppData/Local/Programs/Python/Python39-32/lib/site-packages/pandas/util/_decorators.py?line=309'>310</a>\u001b[0m     )\n\u001b[1;32m--> <a href='file:///c%3A/Users/Fatimata%20Kane/AppData/Local/Programs/Python/Python39-32/lib/site-packages/pandas/util/_decorators.py?line=310'>311</a>\u001b[0m \u001b[39mreturn\u001b[39;00m func(\u001b[39m*\u001b[39margs, \u001b[39m*\u001b[39m\u001b[39m*\u001b[39mkwargs)\n",
      "File \u001b[1;32mc:\\Users\\Fatimata Kane\\AppData\\Local\\Programs\\Python\\Python39-32\\lib\\site-packages\\pandas\\io\\parsers\\readers.py:680\u001b[0m, in \u001b[0;36mread_csv\u001b[1;34m(filepath_or_buffer, sep, delimiter, header, names, index_col, usecols, squeeze, prefix, mangle_dupe_cols, dtype, engine, converters, true_values, false_values, skipinitialspace, skiprows, skipfooter, nrows, na_values, keep_default_na, na_filter, verbose, skip_blank_lines, parse_dates, infer_datetime_format, keep_date_col, date_parser, dayfirst, cache_dates, iterator, chunksize, compression, thousands, decimal, lineterminator, quotechar, quoting, doublequote, escapechar, comment, encoding, encoding_errors, dialect, error_bad_lines, warn_bad_lines, on_bad_lines, delim_whitespace, low_memory, memory_map, float_precision, storage_options)\u001b[0m\n\u001b[0;32m    <a href='file:///c%3A/Users/Fatimata%20Kane/AppData/Local/Programs/Python/Python39-32/lib/site-packages/pandas/io/parsers/readers.py?line=664'>665</a>\u001b[0m kwds_defaults \u001b[39m=\u001b[39m _refine_defaults_read(\n\u001b[0;32m    <a href='file:///c%3A/Users/Fatimata%20Kane/AppData/Local/Programs/Python/Python39-32/lib/site-packages/pandas/io/parsers/readers.py?line=665'>666</a>\u001b[0m     dialect,\n\u001b[0;32m    <a href='file:///c%3A/Users/Fatimata%20Kane/AppData/Local/Programs/Python/Python39-32/lib/site-packages/pandas/io/parsers/readers.py?line=666'>667</a>\u001b[0m     delimiter,\n\u001b[1;32m   (...)\u001b[0m\n\u001b[0;32m    <a href='file:///c%3A/Users/Fatimata%20Kane/AppData/Local/Programs/Python/Python39-32/lib/site-packages/pandas/io/parsers/readers.py?line=675'>676</a>\u001b[0m     defaults\u001b[39m=\u001b[39m{\u001b[39m\"\u001b[39m\u001b[39mdelimiter\u001b[39m\u001b[39m\"\u001b[39m: \u001b[39m\"\u001b[39m\u001b[39m,\u001b[39m\u001b[39m\"\u001b[39m},\n\u001b[0;32m    <a href='file:///c%3A/Users/Fatimata%20Kane/AppData/Local/Programs/Python/Python39-32/lib/site-packages/pandas/io/parsers/readers.py?line=676'>677</a>\u001b[0m )\n\u001b[0;32m    <a href='file:///c%3A/Users/Fatimata%20Kane/AppData/Local/Programs/Python/Python39-32/lib/site-packages/pandas/io/parsers/readers.py?line=677'>678</a>\u001b[0m kwds\u001b[39m.\u001b[39mupdate(kwds_defaults)\n\u001b[1;32m--> <a href='file:///c%3A/Users/Fatimata%20Kane/AppData/Local/Programs/Python/Python39-32/lib/site-packages/pandas/io/parsers/readers.py?line=679'>680</a>\u001b[0m \u001b[39mreturn\u001b[39;00m _read(filepath_or_buffer, kwds)\n",
      "File \u001b[1;32mc:\\Users\\Fatimata Kane\\AppData\\Local\\Programs\\Python\\Python39-32\\lib\\site-packages\\pandas\\io\\parsers\\readers.py:575\u001b[0m, in \u001b[0;36m_read\u001b[1;34m(filepath_or_buffer, kwds)\u001b[0m\n\u001b[0;32m    <a href='file:///c%3A/Users/Fatimata%20Kane/AppData/Local/Programs/Python/Python39-32/lib/site-packages/pandas/io/parsers/readers.py?line=571'>572</a>\u001b[0m _validate_names(kwds\u001b[39m.\u001b[39mget(\u001b[39m\"\u001b[39m\u001b[39mnames\u001b[39m\u001b[39m\"\u001b[39m, \u001b[39mNone\u001b[39;00m))\n\u001b[0;32m    <a href='file:///c%3A/Users/Fatimata%20Kane/AppData/Local/Programs/Python/Python39-32/lib/site-packages/pandas/io/parsers/readers.py?line=573'>574</a>\u001b[0m \u001b[39m# Create the parser.\u001b[39;00m\n\u001b[1;32m--> <a href='file:///c%3A/Users/Fatimata%20Kane/AppData/Local/Programs/Python/Python39-32/lib/site-packages/pandas/io/parsers/readers.py?line=574'>575</a>\u001b[0m parser \u001b[39m=\u001b[39m TextFileReader(filepath_or_buffer, \u001b[39m*\u001b[39m\u001b[39m*\u001b[39mkwds)\n\u001b[0;32m    <a href='file:///c%3A/Users/Fatimata%20Kane/AppData/Local/Programs/Python/Python39-32/lib/site-packages/pandas/io/parsers/readers.py?line=576'>577</a>\u001b[0m \u001b[39mif\u001b[39;00m chunksize \u001b[39mor\u001b[39;00m iterator:\n\u001b[0;32m    <a href='file:///c%3A/Users/Fatimata%20Kane/AppData/Local/Programs/Python/Python39-32/lib/site-packages/pandas/io/parsers/readers.py?line=577'>578</a>\u001b[0m     \u001b[39mreturn\u001b[39;00m parser\n",
      "File \u001b[1;32mc:\\Users\\Fatimata Kane\\AppData\\Local\\Programs\\Python\\Python39-32\\lib\\site-packages\\pandas\\io\\parsers\\readers.py:933\u001b[0m, in \u001b[0;36mTextFileReader.__init__\u001b[1;34m(self, f, engine, **kwds)\u001b[0m\n\u001b[0;32m    <a href='file:///c%3A/Users/Fatimata%20Kane/AppData/Local/Programs/Python/Python39-32/lib/site-packages/pandas/io/parsers/readers.py?line=929'>930</a>\u001b[0m     \u001b[39mself\u001b[39m\u001b[39m.\u001b[39moptions[\u001b[39m\"\u001b[39m\u001b[39mhas_index_names\u001b[39m\u001b[39m\"\u001b[39m] \u001b[39m=\u001b[39m kwds[\u001b[39m\"\u001b[39m\u001b[39mhas_index_names\u001b[39m\u001b[39m\"\u001b[39m]\n\u001b[0;32m    <a href='file:///c%3A/Users/Fatimata%20Kane/AppData/Local/Programs/Python/Python39-32/lib/site-packages/pandas/io/parsers/readers.py?line=931'>932</a>\u001b[0m \u001b[39mself\u001b[39m\u001b[39m.\u001b[39mhandles: IOHandles \u001b[39m|\u001b[39m \u001b[39mNone\u001b[39;00m \u001b[39m=\u001b[39m \u001b[39mNone\u001b[39;00m\n\u001b[1;32m--> <a href='file:///c%3A/Users/Fatimata%20Kane/AppData/Local/Programs/Python/Python39-32/lib/site-packages/pandas/io/parsers/readers.py?line=932'>933</a>\u001b[0m \u001b[39mself\u001b[39m\u001b[39m.\u001b[39m_engine \u001b[39m=\u001b[39m \u001b[39mself\u001b[39;49m\u001b[39m.\u001b[39;49m_make_engine(f, \u001b[39mself\u001b[39;49m\u001b[39m.\u001b[39;49mengine)\n",
      "File \u001b[1;32mc:\\Users\\Fatimata Kane\\AppData\\Local\\Programs\\Python\\Python39-32\\lib\\site-packages\\pandas\\io\\parsers\\readers.py:1217\u001b[0m, in \u001b[0;36mTextFileReader._make_engine\u001b[1;34m(self, f, engine)\u001b[0m\n\u001b[0;32m   <a href='file:///c%3A/Users/Fatimata%20Kane/AppData/Local/Programs/Python/Python39-32/lib/site-packages/pandas/io/parsers/readers.py?line=1212'>1213</a>\u001b[0m     mode \u001b[39m=\u001b[39m \u001b[39m\"\u001b[39m\u001b[39mrb\u001b[39m\u001b[39m\"\u001b[39m\n\u001b[0;32m   <a href='file:///c%3A/Users/Fatimata%20Kane/AppData/Local/Programs/Python/Python39-32/lib/site-packages/pandas/io/parsers/readers.py?line=1213'>1214</a>\u001b[0m \u001b[39m# error: No overload variant of \"get_handle\" matches argument types\u001b[39;00m\n\u001b[0;32m   <a href='file:///c%3A/Users/Fatimata%20Kane/AppData/Local/Programs/Python/Python39-32/lib/site-packages/pandas/io/parsers/readers.py?line=1214'>1215</a>\u001b[0m \u001b[39m# \"Union[str, PathLike[str], ReadCsvBuffer[bytes], ReadCsvBuffer[str]]\"\u001b[39;00m\n\u001b[0;32m   <a href='file:///c%3A/Users/Fatimata%20Kane/AppData/Local/Programs/Python/Python39-32/lib/site-packages/pandas/io/parsers/readers.py?line=1215'>1216</a>\u001b[0m \u001b[39m# , \"str\", \"bool\", \"Any\", \"Any\", \"Any\", \"Any\", \"Any\"\u001b[39;00m\n\u001b[1;32m-> <a href='file:///c%3A/Users/Fatimata%20Kane/AppData/Local/Programs/Python/Python39-32/lib/site-packages/pandas/io/parsers/readers.py?line=1216'>1217</a>\u001b[0m \u001b[39mself\u001b[39m\u001b[39m.\u001b[39mhandles \u001b[39m=\u001b[39m get_handle(  \u001b[39m# type: ignore[call-overload]\u001b[39;49;00m\n\u001b[0;32m   <a href='file:///c%3A/Users/Fatimata%20Kane/AppData/Local/Programs/Python/Python39-32/lib/site-packages/pandas/io/parsers/readers.py?line=1217'>1218</a>\u001b[0m     f,\n\u001b[0;32m   <a href='file:///c%3A/Users/Fatimata%20Kane/AppData/Local/Programs/Python/Python39-32/lib/site-packages/pandas/io/parsers/readers.py?line=1218'>1219</a>\u001b[0m     mode,\n\u001b[0;32m   <a href='file:///c%3A/Users/Fatimata%20Kane/AppData/Local/Programs/Python/Python39-32/lib/site-packages/pandas/io/parsers/readers.py?line=1219'>1220</a>\u001b[0m     encoding\u001b[39m=\u001b[39;49m\u001b[39mself\u001b[39;49m\u001b[39m.\u001b[39;49moptions\u001b[39m.\u001b[39;49mget(\u001b[39m\"\u001b[39;49m\u001b[39mencoding\u001b[39;49m\u001b[39m\"\u001b[39;49m, \u001b[39mNone\u001b[39;49;00m),\n\u001b[0;32m   <a href='file:///c%3A/Users/Fatimata%20Kane/AppData/Local/Programs/Python/Python39-32/lib/site-packages/pandas/io/parsers/readers.py?line=1220'>1221</a>\u001b[0m     compression\u001b[39m=\u001b[39;49m\u001b[39mself\u001b[39;49m\u001b[39m.\u001b[39;49moptions\u001b[39m.\u001b[39;49mget(\u001b[39m\"\u001b[39;49m\u001b[39mcompression\u001b[39;49m\u001b[39m\"\u001b[39;49m, \u001b[39mNone\u001b[39;49;00m),\n\u001b[0;32m   <a href='file:///c%3A/Users/Fatimata%20Kane/AppData/Local/Programs/Python/Python39-32/lib/site-packages/pandas/io/parsers/readers.py?line=1221'>1222</a>\u001b[0m     memory_map\u001b[39m=\u001b[39;49m\u001b[39mself\u001b[39;49m\u001b[39m.\u001b[39;49moptions\u001b[39m.\u001b[39;49mget(\u001b[39m\"\u001b[39;49m\u001b[39mmemory_map\u001b[39;49m\u001b[39m\"\u001b[39;49m, \u001b[39mFalse\u001b[39;49;00m),\n\u001b[0;32m   <a href='file:///c%3A/Users/Fatimata%20Kane/AppData/Local/Programs/Python/Python39-32/lib/site-packages/pandas/io/parsers/readers.py?line=1222'>1223</a>\u001b[0m     is_text\u001b[39m=\u001b[39;49mis_text,\n\u001b[0;32m   <a href='file:///c%3A/Users/Fatimata%20Kane/AppData/Local/Programs/Python/Python39-32/lib/site-packages/pandas/io/parsers/readers.py?line=1223'>1224</a>\u001b[0m     errors\u001b[39m=\u001b[39;49m\u001b[39mself\u001b[39;49m\u001b[39m.\u001b[39;49moptions\u001b[39m.\u001b[39;49mget(\u001b[39m\"\u001b[39;49m\u001b[39mencoding_errors\u001b[39;49m\u001b[39m\"\u001b[39;49m, \u001b[39m\"\u001b[39;49m\u001b[39mstrict\u001b[39;49m\u001b[39m\"\u001b[39;49m),\n\u001b[0;32m   <a href='file:///c%3A/Users/Fatimata%20Kane/AppData/Local/Programs/Python/Python39-32/lib/site-packages/pandas/io/parsers/readers.py?line=1224'>1225</a>\u001b[0m     storage_options\u001b[39m=\u001b[39;49m\u001b[39mself\u001b[39;49m\u001b[39m.\u001b[39;49moptions\u001b[39m.\u001b[39;49mget(\u001b[39m\"\u001b[39;49m\u001b[39mstorage_options\u001b[39;49m\u001b[39m\"\u001b[39;49m, \u001b[39mNone\u001b[39;49;00m),\n\u001b[0;32m   <a href='file:///c%3A/Users/Fatimata%20Kane/AppData/Local/Programs/Python/Python39-32/lib/site-packages/pandas/io/parsers/readers.py?line=1225'>1226</a>\u001b[0m )\n\u001b[0;32m   <a href='file:///c%3A/Users/Fatimata%20Kane/AppData/Local/Programs/Python/Python39-32/lib/site-packages/pandas/io/parsers/readers.py?line=1226'>1227</a>\u001b[0m \u001b[39massert\u001b[39;00m \u001b[39mself\u001b[39m\u001b[39m.\u001b[39mhandles \u001b[39mis\u001b[39;00m \u001b[39mnot\u001b[39;00m \u001b[39mNone\u001b[39;00m\n\u001b[0;32m   <a href='file:///c%3A/Users/Fatimata%20Kane/AppData/Local/Programs/Python/Python39-32/lib/site-packages/pandas/io/parsers/readers.py?line=1227'>1228</a>\u001b[0m f \u001b[39m=\u001b[39m \u001b[39mself\u001b[39m\u001b[39m.\u001b[39mhandles\u001b[39m.\u001b[39mhandle\n",
      "File \u001b[1;32mc:\\Users\\Fatimata Kane\\AppData\\Local\\Programs\\Python\\Python39-32\\lib\\site-packages\\pandas\\io\\common.py:789\u001b[0m, in \u001b[0;36mget_handle\u001b[1;34m(path_or_buf, mode, encoding, compression, memory_map, is_text, errors, storage_options)\u001b[0m\n\u001b[0;32m    <a href='file:///c%3A/Users/Fatimata%20Kane/AppData/Local/Programs/Python/Python39-32/lib/site-packages/pandas/io/common.py?line=783'>784</a>\u001b[0m \u001b[39melif\u001b[39;00m \u001b[39misinstance\u001b[39m(handle, \u001b[39mstr\u001b[39m):\n\u001b[0;32m    <a href='file:///c%3A/Users/Fatimata%20Kane/AppData/Local/Programs/Python/Python39-32/lib/site-packages/pandas/io/common.py?line=784'>785</a>\u001b[0m     \u001b[39m# Check whether the filename is to be opened in binary mode.\u001b[39;00m\n\u001b[0;32m    <a href='file:///c%3A/Users/Fatimata%20Kane/AppData/Local/Programs/Python/Python39-32/lib/site-packages/pandas/io/common.py?line=785'>786</a>\u001b[0m     \u001b[39m# Binary mode does not support 'encoding' and 'newline'.\u001b[39;00m\n\u001b[0;32m    <a href='file:///c%3A/Users/Fatimata%20Kane/AppData/Local/Programs/Python/Python39-32/lib/site-packages/pandas/io/common.py?line=786'>787</a>\u001b[0m     \u001b[39mif\u001b[39;00m ioargs\u001b[39m.\u001b[39mencoding \u001b[39mand\u001b[39;00m \u001b[39m\"\u001b[39m\u001b[39mb\u001b[39m\u001b[39m\"\u001b[39m \u001b[39mnot\u001b[39;00m \u001b[39min\u001b[39;00m ioargs\u001b[39m.\u001b[39mmode:\n\u001b[0;32m    <a href='file:///c%3A/Users/Fatimata%20Kane/AppData/Local/Programs/Python/Python39-32/lib/site-packages/pandas/io/common.py?line=787'>788</a>\u001b[0m         \u001b[39m# Encoding\u001b[39;00m\n\u001b[1;32m--> <a href='file:///c%3A/Users/Fatimata%20Kane/AppData/Local/Programs/Python/Python39-32/lib/site-packages/pandas/io/common.py?line=788'>789</a>\u001b[0m         handle \u001b[39m=\u001b[39m \u001b[39mopen\u001b[39;49m(\n\u001b[0;32m    <a href='file:///c%3A/Users/Fatimata%20Kane/AppData/Local/Programs/Python/Python39-32/lib/site-packages/pandas/io/common.py?line=789'>790</a>\u001b[0m             handle,\n\u001b[0;32m    <a href='file:///c%3A/Users/Fatimata%20Kane/AppData/Local/Programs/Python/Python39-32/lib/site-packages/pandas/io/common.py?line=790'>791</a>\u001b[0m             ioargs\u001b[39m.\u001b[39;49mmode,\n\u001b[0;32m    <a href='file:///c%3A/Users/Fatimata%20Kane/AppData/Local/Programs/Python/Python39-32/lib/site-packages/pandas/io/common.py?line=791'>792</a>\u001b[0m             encoding\u001b[39m=\u001b[39;49mioargs\u001b[39m.\u001b[39;49mencoding,\n\u001b[0;32m    <a href='file:///c%3A/Users/Fatimata%20Kane/AppData/Local/Programs/Python/Python39-32/lib/site-packages/pandas/io/common.py?line=792'>793</a>\u001b[0m             errors\u001b[39m=\u001b[39;49merrors,\n\u001b[0;32m    <a href='file:///c%3A/Users/Fatimata%20Kane/AppData/Local/Programs/Python/Python39-32/lib/site-packages/pandas/io/common.py?line=793'>794</a>\u001b[0m             newline\u001b[39m=\u001b[39;49m\u001b[39m\"\u001b[39;49m\u001b[39m\"\u001b[39;49m,\n\u001b[0;32m    <a href='file:///c%3A/Users/Fatimata%20Kane/AppData/Local/Programs/Python/Python39-32/lib/site-packages/pandas/io/common.py?line=794'>795</a>\u001b[0m         )\n\u001b[0;32m    <a href='file:///c%3A/Users/Fatimata%20Kane/AppData/Local/Programs/Python/Python39-32/lib/site-packages/pandas/io/common.py?line=795'>796</a>\u001b[0m     \u001b[39melse\u001b[39;00m:\n\u001b[0;32m    <a href='file:///c%3A/Users/Fatimata%20Kane/AppData/Local/Programs/Python/Python39-32/lib/site-packages/pandas/io/common.py?line=796'>797</a>\u001b[0m         \u001b[39m# Binary mode\u001b[39;00m\n\u001b[0;32m    <a href='file:///c%3A/Users/Fatimata%20Kane/AppData/Local/Programs/Python/Python39-32/lib/site-packages/pandas/io/common.py?line=797'>798</a>\u001b[0m         handle \u001b[39m=\u001b[39m \u001b[39mopen\u001b[39m(handle, ioargs\u001b[39m.\u001b[39mmode)\n",
      "\u001b[1;31mFileNotFoundError\u001b[0m: [Errno 2] No such file or directory: 'data/original/globalterrorismdb.csv'"
     ]
    }
   ],
   "source": [
    "terror_data = pd.read_csv(\"data/original/globalterrorismdb.csv\", encoding = \"ISO-8859-1\")"
   ]
  },
  {
   "cell_type": "code",
   "execution_count": null,
   "metadata": {},
   "outputs": [
    {
     "ename": "",
     "evalue": "",
     "output_type": "error",
     "traceback": [
      "\u001b[1;31mFailed to start the Kernel. \n",
      "Unable to start Kernel 'Python 3.9.0 32-bit' due to connection timeout. \n",
      "View Jupyter <a href='command:jupyter.viewOutput'>log</a> for further details."
     ]
    }
   ],
   "source": [
    "#terror_data.columns.to_list()"
   ]
  },
  {
   "cell_type": "markdown",
   "metadata": {},
   "source": [
    "## Identification variables pertinentes"
   ]
  },
  {
   "cell_type": "code",
   "execution_count": 96,
   "metadata": {},
   "outputs": [],
   "source": [
    "variables_pertinentes = ['iyear', 'iday', 'imonth', 'nkill', 'country_txt', 'nwound', 'region_txt', 'provstate',\n",
    "                         'city', 'nkillus', 'nwoundus', 'region_txt', 'latitude', 'longitude',\n",
    "                         'attacktype1_txt', 'alternative_txt', 'suicide', 'ransompaid', 'nhostkid', 'hostkidoutcome_txt'\n",
    "                         , 'ransomnote', 'nhours', 'ndays', 'ransompaidus', 'nhostkidus', 'summary', 'motive', 'gname'\n",
    "                         , 'natlty1_txt', 'kidhijcountry', 'weaptype1_txt', 'weapsubtype1_txt', 'weaptype2_txt', 'weapsubtype2_txt', 'weaptype3_txt', 'weapsubtype3_txt'\n",
    "                         , 'weaptype4_txt', 'weapsubtype4_txt', 'targtype1_txt', 'targsubtype1_txt', 'targtype2_txt', 'targsubtype2_txt', 'targtype3_txt', 'targsubtype3_txt'\n",
    "                         , 'claimmode_txt', 'propextent_txt', 'propextent', 'propvalue', 'dbsource'\n",
    "                         ]"
   ]
  },
  {
   "cell_type": "code",
   "execution_count": 98,
   "metadata": {},
   "outputs": [],
   "source": [
    "new_data = terror_data[variables_pertinentes]"
   ]
  },
  {
   "cell_type": "code",
   "execution_count": null,
   "metadata": {},
   "outputs": [
    {
     "ename": "",
     "evalue": "",
     "output_type": "error",
     "traceback": [
      "\u001b[1;31mFailed to start the Kernel. \n",
      "Unable to start Kernel 'Python 3.9.0 32-bit' due to connection timeout. \n",
      "View Jupyter <a href='command:jupyter.viewOutput'>log</a> for further details."
     ]
    }
   ],
   "source": [
    "#new_data.to_csv(\"data/cleaned/terror.csv\", index = False)"
   ]
  },
  {
   "cell_type": "code",
   "execution_count": 88,
   "metadata": {},
   "outputs": [],
   "source": [
    "new_data = pd.read_csv(\"data/cleaned/terror.csv\")"
   ]
  },
  {
   "cell_type": "code",
   "execution_count": 99,
   "metadata": {},
   "outputs": [
    {
     "data": {
      "text/plain": [
       "Index(['iyear', 'iday', 'imonth', 'nkill', 'country_txt', 'nwound',\n",
       "       'region_txt', 'provstate', 'city', 'nkillus', 'nwoundus', 'region_txt',\n",
       "       'latitude', 'longitude', 'attacktype1_txt', 'alternative_txt',\n",
       "       'suicide', 'ransompaid', 'nhostkid', 'hostkidoutcome_txt', 'ransomnote',\n",
       "       'nhours', 'ndays', 'ransompaidus', 'nhostkidus', 'summary', 'motive',\n",
       "       'gname', 'natlty1_txt', 'kidhijcountry', 'weaptype1_txt',\n",
       "       'weapsubtype1_txt', 'weaptype2_txt', 'weapsubtype2_txt',\n",
       "       'weaptype3_txt', 'weapsubtype3_txt', 'weaptype4_txt',\n",
       "       'weapsubtype4_txt', 'targtype1_txt', 'targsubtype1_txt',\n",
       "       'targtype2_txt', 'targsubtype2_txt', 'targtype3_txt',\n",
       "       'targsubtype3_txt', 'claimmode_txt', 'propextent_txt', 'propextent',\n",
       "       'propvalue', 'dbsource'],\n",
       "      dtype='object')"
      ]
     },
     "execution_count": 99,
     "metadata": {},
     "output_type": "execute_result"
    }
   ],
   "source": [
    "new_data.columns"
   ]
  },
  {
   "cell_type": "code",
   "execution_count": 100,
   "metadata": {},
   "outputs": [
    {
     "name": "stdout",
     "output_type": "stream",
     "text": [
      "<class 'pandas.core.frame.DataFrame'>\n",
      "RangeIndex: 181691 entries, 0 to 181690\n",
      "Data columns (total 49 columns):\n",
      " #   Column              Non-Null Count   Dtype  \n",
      "---  ------              --------------   -----  \n",
      " 0   iyear               181691 non-null  int64  \n",
      " 1   iday                181691 non-null  int64  \n",
      " 2   imonth              181691 non-null  int64  \n",
      " 3   nkill               171378 non-null  float64\n",
      " 4   country_txt         181691 non-null  object \n",
      " 5   nwound              165380 non-null  float64\n",
      " 6   region_txt          181691 non-null  object \n",
      " 7   provstate           181270 non-null  object \n",
      " 8   city                181257 non-null  object \n",
      " 9   nkillus             117245 non-null  float64\n",
      " 10  nwoundus            116989 non-null  float64\n",
      " 11  region_txt          181691 non-null  object \n",
      " 12  latitude            177135 non-null  float64\n",
      " 13  longitude           177134 non-null  float64\n",
      " 14  attacktype1_txt     181691 non-null  object \n",
      " 15  alternative_txt     29011 non-null   object \n",
      " 16  suicide             181691 non-null  int64  \n",
      " 17  ransompaid          774 non-null     float64\n",
      " 18  nhostkid            13572 non-null   float64\n",
      " 19  hostkidoutcome_txt  10991 non-null   object \n",
      " 20  ransomnote          514 non-null     object \n",
      " 21  nhours              4063 non-null    float64\n",
      " 22  ndays               8124 non-null    float64\n",
      " 23  ransompaidus        552 non-null     float64\n",
      " 24  nhostkidus          13517 non-null   float64\n",
      " 25  summary             115562 non-null  object \n",
      " 26  motive              50561 non-null   object \n",
      " 27  gname               181691 non-null  object \n",
      " 28  natlty1_txt         180132 non-null  object \n",
      " 29  kidhijcountry       3305 non-null    object \n",
      " 30  weaptype1_txt       181691 non-null  object \n",
      " 31  weapsubtype1_txt    160923 non-null  object \n",
      " 32  weaptype2_txt       13127 non-null   object \n",
      " 33  weapsubtype2_txt    11542 non-null   object \n",
      " 34  weaptype3_txt       1863 non-null    object \n",
      " 35  weapsubtype3_txt    1693 non-null    object \n",
      " 36  weaptype4_txt       73 non-null      object \n",
      " 37  weapsubtype4_txt    70 non-null      object \n",
      " 38  targtype1_txt       181691 non-null  object \n",
      " 39  targsubtype1_txt    171318 non-null  object \n",
      " 40  targtype2_txt       11144 non-null   object \n",
      " 41  targsubtype2_txt    10685 non-null   object \n",
      " 42  targtype3_txt       1176 non-null    object \n",
      " 43  targsubtype3_txt    1097 non-null    object \n",
      " 44  claimmode_txt       19083 non-null   object \n",
      " 45  propextent_txt      64065 non-null   object \n",
      " 46  propextent          64065 non-null   float64\n",
      " 47  propvalue           38989 non-null   float64\n",
      " 48  dbsource            181691 non-null  object \n",
      "dtypes: float64(14), int64(4), object(31)\n",
      "memory usage: 46.4+ MB\n"
     ]
    }
   ],
   "source": [
    "new_data.info(verbose=True)"
   ]
  },
  {
   "cell_type": "markdown",
   "metadata": {},
   "source": [
    "## Nombre de lignes et de colonnes"
   ]
  },
  {
   "cell_type": "code",
   "execution_count": 101,
   "metadata": {},
   "outputs": [
    {
     "data": {
      "text/plain": [
       "(181691, 49)"
      ]
     },
     "execution_count": 101,
     "metadata": {},
     "output_type": "execute_result"
    }
   ],
   "source": [
    "# nombre de colonnes et de lignes\n",
    "new_data.shape"
   ]
  },
  {
   "cell_type": "markdown",
   "metadata": {},
   "source": [
    "On a 49 variables et 181691 observations dans le jeu de données"
   ]
  },
  {
   "cell_type": "markdown",
   "metadata": {},
   "source": [
    "## Ajoutons une nouvelle colonne date qui va nous permettre de classer directement par date les observations"
   ]
  },
  {
   "cell_type": "code",
   "execution_count": 102,
   "metadata": {},
   "outputs": [
    {
     "data": {
      "text/plain": [
       "array([ 2,  0,  1,  3,  6,  8,  9, 10, 11, 12, 13, 14, 15, 19, 20, 21, 22,\n",
       "       25, 26, 27, 28, 30, 31,  4,  7, 16, 17, 18, 23, 24,  5, 29],\n",
       "      dtype=int64)"
      ]
     },
     "execution_count": 102,
     "metadata": {},
     "output_type": "execute_result"
    }
   ],
   "source": [
    "# further we must see if the column iday, imonth and iyear can be concatenated\n",
    "new_data[\"iday\"].unique()"
   ]
  },
  {
   "cell_type": "code",
   "execution_count": 103,
   "metadata": {},
   "outputs": [
    {
     "data": {
      "text/plain": [
       "array([ 7,  0,  1,  2,  3,  4,  5,  6,  8,  9, 10, 11, 12], dtype=int64)"
      ]
     },
     "execution_count": 103,
     "metadata": {},
     "output_type": "execute_result"
    }
   ],
   "source": [
    "new_data[\"imonth\"].unique()"
   ]
  },
  {
   "cell_type": "code",
   "execution_count": 104,
   "metadata": {},
   "outputs": [
    {
     "data": {
      "text/plain": [
       "array([1970, 1971, 1972, 1973, 1974, 1975, 1976, 1977, 1978, 1979, 1980,\n",
       "       1981, 1986, 1982, 1983, 1984, 1985, 1987, 1988, 1989, 1990, 1991,\n",
       "       1992, 1994, 1995, 1996, 1997, 1998, 1999, 2000, 2001, 2002, 2003,\n",
       "       2004, 2005, 2006, 2007, 2008, 2009, 2010, 2011, 2012, 2013, 2014,\n",
       "       2015, 2016, 2017], dtype=int64)"
      ]
     },
     "execution_count": 104,
     "metadata": {},
     "output_type": "execute_result"
    }
   ],
   "source": [
    "new_data[\"iyear\"].unique()"
   ]
  },
  {
   "cell_type": "code",
   "execution_count": 105,
   "metadata": {},
   "outputs": [
    {
     "data": {
      "text/plain": [
       "891"
      ]
     },
     "execution_count": 105,
     "metadata": {},
     "output_type": "execute_result"
    }
   ],
   "source": [
    "new_data[(new_data[\"iday\"] == 0)].index.__len__()"
   ]
  },
  {
   "cell_type": "code",
   "execution_count": 106,
   "metadata": {},
   "outputs": [
    {
     "data": {
      "text/plain": [
       "20"
      ]
     },
     "execution_count": 106,
     "metadata": {},
     "output_type": "execute_result"
    }
   ],
   "source": [
    "new_data[(new_data[\"imonth\"] == 0)].index.__len__()"
   ]
  },
  {
   "cell_type": "code",
   "execution_count": 107,
   "metadata": {},
   "outputs": [
    {
     "name": "stderr",
     "output_type": "stream",
     "text": [
      "C:\\Users\\Fatimata Kane\\AppData\\Local\\Temp\\ipykernel_6568\\2082188037.py:2: SettingWithCopyWarning: \n",
      "A value is trying to be set on a copy of a slice from a DataFrame\n",
      "\n",
      "See the caveats in the documentation: https://pandas.pydata.org/pandas-docs/stable/user_guide/indexing.html#returning-a-view-versus-a-copy\n",
      "  new_data.drop(index = new_data[(new_data[\"iday\"] == 0)].index, axis = 0, inplace = True)\n"
     ]
    }
   ],
   "source": [
    "# Let's remove some lines by the indexes\n",
    "new_data.drop(index = new_data[(new_data[\"iday\"] == 0)].index, axis = 0, inplace = True)"
   ]
  },
  {
   "cell_type": "code",
   "execution_count": 108,
   "metadata": {},
   "outputs": [
    {
     "data": {
      "text/plain": [
       "array([ 2,  1,  3,  6,  8,  9, 10, 11, 12, 13, 14, 15, 19, 20, 21, 22, 25,\n",
       "       26, 27, 28, 30, 31,  4,  7, 16, 17, 18, 23, 24,  5, 29],\n",
       "      dtype=int64)"
      ]
     },
     "execution_count": 108,
     "metadata": {},
     "output_type": "execute_result"
    }
   ],
   "source": [
    "new_data[\"iday\"].unique()"
   ]
  },
  {
   "cell_type": "code",
   "execution_count": 109,
   "metadata": {},
   "outputs": [
    {
     "name": "stderr",
     "output_type": "stream",
     "text": [
      "C:\\Users\\Fatimata Kane\\AppData\\Local\\Temp\\ipykernel_6568\\2922509593.py:2: SettingWithCopyWarning: \n",
      "A value is trying to be set on a copy of a slice from a DataFrame.\n",
      "Try using .loc[row_indexer,col_indexer] = value instead\n",
      "\n",
      "See the caveats in the documentation: https://pandas.pydata.org/pandas-docs/stable/user_guide/indexing.html#returning-a-view-versus-a-copy\n",
      "  new_data['date'] = new_data[\"iyear\"].astype(\"str\") + \"-\" + new_data[\"imonth\"].astype(\"str\") + \"-\" + new_data[\"iday\"].astype(\"str\")\n"
     ]
    }
   ],
   "source": [
    "# create a new column named as date\n",
    "new_data['date'] = new_data[\"iyear\"].astype(\"str\") + \"-\" + new_data[\"imonth\"].astype(\"str\") + \"-\" + new_data[\"iday\"].astype(\"str\")"
   ]
  },
  {
   "cell_type": "code",
   "execution_count": 110,
   "metadata": {},
   "outputs": [
    {
     "data": {
      "text/plain": [
       "0           1970-7-2\n",
       "5           1970-1-1\n",
       "6           1970-1-2\n",
       "7           1970-1-2\n",
       "8           1970-1-2\n",
       "             ...    \n",
       "181686    2017-12-31\n",
       "181687    2017-12-31\n",
       "181688    2017-12-31\n",
       "181689    2017-12-31\n",
       "181690    2017-12-31\n",
       "Name: date, Length: 180800, dtype: object"
      ]
     },
     "execution_count": 110,
     "metadata": {},
     "output_type": "execute_result"
    }
   ],
   "source": [
    "new_data[\"date\"]"
   ]
  },
  {
   "cell_type": "code",
   "execution_count": 111,
   "metadata": {},
   "outputs": [
    {
     "name": "stderr",
     "output_type": "stream",
     "text": [
      "C:\\Users\\Fatimata Kane\\AppData\\Local\\Temp\\ipykernel_6568\\1124268568.py:2: SettingWithCopyWarning: \n",
      "A value is trying to be set on a copy of a slice from a DataFrame.\n",
      "Try using .loc[row_indexer,col_indexer] = value instead\n",
      "\n",
      "See the caveats in the documentation: https://pandas.pydata.org/pandas-docs/stable/user_guide/indexing.html#returning-a-view-versus-a-copy\n",
      "  new_data[\"date\"] = pd.to_datetime(new_data['date'])\n"
     ]
    }
   ],
   "source": [
    "# transformation de la colonne en format date_time\n",
    "new_data[\"date\"] = pd.to_datetime(new_data['date'])"
   ]
  },
  {
   "cell_type": "code",
   "execution_count": 112,
   "metadata": {},
   "outputs": [
    {
     "name": "stderr",
     "output_type": "stream",
     "text": [
      "C:\\Users\\Fatimata Kane\\AppData\\Local\\Temp\\ipykernel_6568\\3790140906.py:1: SettingWithCopyWarning: \n",
      "A value is trying to be set on a copy of a slice from a DataFrame\n",
      "\n",
      "See the caveats in the documentation: https://pandas.pydata.org/pandas-docs/stable/user_guide/indexing.html#returning-a-view-versus-a-copy\n",
      "  new_data.sort_values('date', inplace=True)\n"
     ]
    }
   ],
   "source": [
    "new_data.sort_values('date', inplace=True)"
   ]
  },
  {
   "cell_type": "code",
   "execution_count": 113,
   "metadata": {},
   "outputs": [
    {
     "data": {
      "text/plain": [
       "dtype('<M8[ns]')"
      ]
     },
     "execution_count": 113,
     "metadata": {},
     "output_type": "execute_result"
    }
   ],
   "source": [
    "new_data[\"date\"].dtype"
   ]
  },
  {
   "cell_type": "code",
   "execution_count": 114,
   "metadata": {},
   "outputs": [
    {
     "data": {
      "text/plain": [
       "5        1970-01-01\n",
       "10       1970-01-01\n",
       "6        1970-01-02\n",
       "7        1970-01-02\n",
       "8        1970-01-02\n",
       "            ...    \n",
       "181644   2017-12-31\n",
       "181645   2017-12-31\n",
       "181653   2017-12-31\n",
       "181676   2017-12-31\n",
       "181690   2017-12-31\n",
       "Name: date, Length: 180800, dtype: datetime64[ns]"
      ]
     },
     "execution_count": 114,
     "metadata": {},
     "output_type": "execute_result"
    }
   ],
   "source": [
    "new_data['date']"
   ]
  },
  {
   "cell_type": "markdown",
   "metadata": {},
   "source": [
    "## Traitement des valeurs manquantes"
   ]
  },
  {
   "cell_type": "code",
   "execution_count": 115,
   "metadata": {},
   "outputs": [
    {
     "data": {
      "text/plain": [
       "weapsubtype4_txt      0.999613\n",
       "weaptype4_txt         0.999596\n",
       "ransomnote            0.997196\n",
       "ransompaidus          0.996952\n",
       "ransompaid            0.995785\n",
       "targsubtype3_txt      0.993949\n",
       "targtype3_txt         0.993512\n",
       "weapsubtype3_txt      0.990664\n",
       "weaptype3_txt         0.989723\n",
       "kidhijcountry         0.982168\n",
       "nhours                0.977721\n",
       "ndays                 0.955503\n",
       "targsubtype2_txt      0.941056\n",
       "hostkidoutcome_txt    0.939851\n",
       "targtype2_txt         0.938545\n",
       "weapsubtype2_txt      0.936388\n",
       "weaptype2_txt         0.927644\n",
       "nhostkidus            0.926134\n",
       "nhostkid              0.925835\n",
       "claimmode_txt         0.894723\n",
       "alternative_txt       0.840133\n",
       "propvalue             0.784806\n",
       "motive                0.721941\n",
       "propextent            0.647152\n",
       "propextent_txt        0.647152\n",
       "summary               0.362434\n",
       "nwoundus              0.354613\n",
       "nkillus               0.353197\n",
       "weapsubtype1_txt      0.113053\n",
       "nwound                0.089204\n",
       "targsubtype1_txt      0.057030\n",
       "nkill                 0.056145\n",
       "longitude             0.024723\n",
       "latitude              0.024718\n",
       "natlty1_txt           0.008512\n",
       "city                  0.002384\n",
       "provstate             0.002312\n",
       "dbsource              0.000000\n",
       "iyear                 0.000000\n",
       "targtype1_txt         0.000000\n",
       "weaptype1_txt         0.000000\n",
       "gname                 0.000000\n",
       "iday                  0.000000\n",
       "suicide               0.000000\n",
       "attacktype1_txt       0.000000\n",
       "region_txt            0.000000\n",
       "region_txt            0.000000\n",
       "country_txt           0.000000\n",
       "imonth                0.000000\n",
       "date                  0.000000\n",
       "dtype: float64"
      ]
     },
     "execution_count": 115,
     "metadata": {},
     "output_type": "execute_result"
    }
   ],
   "source": [
    "missing_percentages = new_data.isna().sum().sort_values(ascending = False)/len(new_data)\n",
    "missing_percentages"
   ]
  },
  {
   "cell_type": "markdown",
   "metadata": {},
   "source": [
    "Remplacement des valeurs manquantes dans les variables quantitatives par 0."
   ]
  },
  {
   "cell_type": "code",
   "execution_count": 116,
   "metadata": {},
   "outputs": [],
   "source": [
    "quant = new_data.columns[~new_data.columns.isin(new_data.select_dtypes('object').columns.to_list())]"
   ]
  },
  {
   "cell_type": "code",
   "execution_count": 117,
   "metadata": {},
   "outputs": [
    {
     "name": "stderr",
     "output_type": "stream",
     "text": [
      "C:\\Users\\Fatimata Kane\\AppData\\Local\\Temp\\ipykernel_6568\\1423115332.py:1: SettingWithCopyWarning: \n",
      "A value is trying to be set on a copy of a slice from a DataFrame.\n",
      "Try using .loc[row_indexer,col_indexer] = value instead\n",
      "\n",
      "See the caveats in the documentation: https://pandas.pydata.org/pandas-docs/stable/user_guide/indexing.html#returning-a-view-versus-a-copy\n",
      "  new_data[quant] = new_data[quant].fillna(0)\n",
      "C:\\Users\\Fatimata Kane\\AppData\\Local\\Temp\\ipykernel_6568\\1423115332.py:1: SettingWithCopyWarning: \n",
      "A value is trying to be set on a copy of a slice from a DataFrame.\n",
      "Try using .loc[row_indexer,col_indexer] = value instead\n",
      "\n",
      "See the caveats in the documentation: https://pandas.pydata.org/pandas-docs/stable/user_guide/indexing.html#returning-a-view-versus-a-copy\n",
      "  new_data[quant] = new_data[quant].fillna(0)\n",
      "C:\\Users\\Fatimata Kane\\AppData\\Local\\Temp\\ipykernel_6568\\1423115332.py:1: SettingWithCopyWarning: \n",
      "A value is trying to be set on a copy of a slice from a DataFrame.\n",
      "Try using .loc[row_indexer,col_indexer] = value instead\n",
      "\n",
      "See the caveats in the documentation: https://pandas.pydata.org/pandas-docs/stable/user_guide/indexing.html#returning-a-view-versus-a-copy\n",
      "  new_data[quant] = new_data[quant].fillna(0)\n",
      "C:\\Users\\Fatimata Kane\\AppData\\Local\\Temp\\ipykernel_6568\\1423115332.py:1: SettingWithCopyWarning: \n",
      "A value is trying to be set on a copy of a slice from a DataFrame.\n",
      "Try using .loc[row_indexer,col_indexer] = value instead\n",
      "\n",
      "See the caveats in the documentation: https://pandas.pydata.org/pandas-docs/stable/user_guide/indexing.html#returning-a-view-versus-a-copy\n",
      "  new_data[quant] = new_data[quant].fillna(0)\n",
      "C:\\Users\\Fatimata Kane\\AppData\\Local\\Temp\\ipykernel_6568\\1423115332.py:1: SettingWithCopyWarning: \n",
      "A value is trying to be set on a copy of a slice from a DataFrame.\n",
      "Try using .loc[row_indexer,col_indexer] = value instead\n",
      "\n",
      "See the caveats in the documentation: https://pandas.pydata.org/pandas-docs/stable/user_guide/indexing.html#returning-a-view-versus-a-copy\n",
      "  new_data[quant] = new_data[quant].fillna(0)\n",
      "C:\\Users\\Fatimata Kane\\AppData\\Local\\Temp\\ipykernel_6568\\1423115332.py:1: SettingWithCopyWarning: \n",
      "A value is trying to be set on a copy of a slice from a DataFrame.\n",
      "Try using .loc[row_indexer,col_indexer] = value instead\n",
      "\n",
      "See the caveats in the documentation: https://pandas.pydata.org/pandas-docs/stable/user_guide/indexing.html#returning-a-view-versus-a-copy\n",
      "  new_data[quant] = new_data[quant].fillna(0)\n",
      "C:\\Users\\Fatimata Kane\\AppData\\Local\\Temp\\ipykernel_6568\\1423115332.py:1: SettingWithCopyWarning: \n",
      "A value is trying to be set on a copy of a slice from a DataFrame.\n",
      "Try using .loc[row_indexer,col_indexer] = value instead\n",
      "\n",
      "See the caveats in the documentation: https://pandas.pydata.org/pandas-docs/stable/user_guide/indexing.html#returning-a-view-versus-a-copy\n",
      "  new_data[quant] = new_data[quant].fillna(0)\n",
      "C:\\Users\\Fatimata Kane\\AppData\\Local\\Temp\\ipykernel_6568\\1423115332.py:1: SettingWithCopyWarning: \n",
      "A value is trying to be set on a copy of a slice from a DataFrame.\n",
      "Try using .loc[row_indexer,col_indexer] = value instead\n",
      "\n",
      "See the caveats in the documentation: https://pandas.pydata.org/pandas-docs/stable/user_guide/indexing.html#returning-a-view-versus-a-copy\n",
      "  new_data[quant] = new_data[quant].fillna(0)\n",
      "C:\\Users\\Fatimata Kane\\AppData\\Local\\Temp\\ipykernel_6568\\1423115332.py:1: SettingWithCopyWarning: \n",
      "A value is trying to be set on a copy of a slice from a DataFrame.\n",
      "Try using .loc[row_indexer,col_indexer] = value instead\n",
      "\n",
      "See the caveats in the documentation: https://pandas.pydata.org/pandas-docs/stable/user_guide/indexing.html#returning-a-view-versus-a-copy\n",
      "  new_data[quant] = new_data[quant].fillna(0)\n",
      "C:\\Users\\Fatimata Kane\\AppData\\Local\\Temp\\ipykernel_6568\\1423115332.py:1: SettingWithCopyWarning: \n",
      "A value is trying to be set on a copy of a slice from a DataFrame.\n",
      "Try using .loc[row_indexer,col_indexer] = value instead\n",
      "\n",
      "See the caveats in the documentation: https://pandas.pydata.org/pandas-docs/stable/user_guide/indexing.html#returning-a-view-versus-a-copy\n",
      "  new_data[quant] = new_data[quant].fillna(0)\n",
      "C:\\Users\\Fatimata Kane\\AppData\\Local\\Temp\\ipykernel_6568\\1423115332.py:1: SettingWithCopyWarning: \n",
      "A value is trying to be set on a copy of a slice from a DataFrame.\n",
      "Try using .loc[row_indexer,col_indexer] = value instead\n",
      "\n",
      "See the caveats in the documentation: https://pandas.pydata.org/pandas-docs/stable/user_guide/indexing.html#returning-a-view-versus-a-copy\n",
      "  new_data[quant] = new_data[quant].fillna(0)\n",
      "C:\\Users\\Fatimata Kane\\AppData\\Local\\Temp\\ipykernel_6568\\1423115332.py:1: SettingWithCopyWarning: \n",
      "A value is trying to be set on a copy of a slice from a DataFrame.\n",
      "Try using .loc[row_indexer,col_indexer] = value instead\n",
      "\n",
      "See the caveats in the documentation: https://pandas.pydata.org/pandas-docs/stable/user_guide/indexing.html#returning-a-view-versus-a-copy\n",
      "  new_data[quant] = new_data[quant].fillna(0)\n",
      "C:\\Users\\Fatimata Kane\\AppData\\Local\\Temp\\ipykernel_6568\\1423115332.py:1: SettingWithCopyWarning: \n",
      "A value is trying to be set on a copy of a slice from a DataFrame.\n",
      "Try using .loc[row_indexer,col_indexer] = value instead\n",
      "\n",
      "See the caveats in the documentation: https://pandas.pydata.org/pandas-docs/stable/user_guide/indexing.html#returning-a-view-versus-a-copy\n",
      "  new_data[quant] = new_data[quant].fillna(0)\n",
      "C:\\Users\\Fatimata Kane\\AppData\\Local\\Temp\\ipykernel_6568\\1423115332.py:1: SettingWithCopyWarning: \n",
      "A value is trying to be set on a copy of a slice from a DataFrame.\n",
      "Try using .loc[row_indexer,col_indexer] = value instead\n",
      "\n",
      "See the caveats in the documentation: https://pandas.pydata.org/pandas-docs/stable/user_guide/indexing.html#returning-a-view-versus-a-copy\n",
      "  new_data[quant] = new_data[quant].fillna(0)\n",
      "C:\\Users\\Fatimata Kane\\AppData\\Local\\Temp\\ipykernel_6568\\1423115332.py:1: SettingWithCopyWarning: \n",
      "A value is trying to be set on a copy of a slice from a DataFrame.\n",
      "Try using .loc[row_indexer,col_indexer] = value instead\n",
      "\n",
      "See the caveats in the documentation: https://pandas.pydata.org/pandas-docs/stable/user_guide/indexing.html#returning-a-view-versus-a-copy\n",
      "  new_data[quant] = new_data[quant].fillna(0)\n",
      "C:\\Users\\Fatimata Kane\\AppData\\Local\\Temp\\ipykernel_6568\\1423115332.py:1: SettingWithCopyWarning: \n",
      "A value is trying to be set on a copy of a slice from a DataFrame.\n",
      "Try using .loc[row_indexer,col_indexer] = value instead\n",
      "\n",
      "See the caveats in the documentation: https://pandas.pydata.org/pandas-docs/stable/user_guide/indexing.html#returning-a-view-versus-a-copy\n",
      "  new_data[quant] = new_data[quant].fillna(0)\n",
      "C:\\Users\\Fatimata Kane\\AppData\\Local\\Temp\\ipykernel_6568\\1423115332.py:1: SettingWithCopyWarning: \n",
      "A value is trying to be set on a copy of a slice from a DataFrame.\n",
      "Try using .loc[row_indexer,col_indexer] = value instead\n",
      "\n",
      "See the caveats in the documentation: https://pandas.pydata.org/pandas-docs/stable/user_guide/indexing.html#returning-a-view-versus-a-copy\n",
      "  new_data[quant] = new_data[quant].fillna(0)\n",
      "C:\\Users\\Fatimata Kane\\AppData\\Local\\Temp\\ipykernel_6568\\1423115332.py:1: SettingWithCopyWarning: \n",
      "A value is trying to be set on a copy of a slice from a DataFrame.\n",
      "Try using .loc[row_indexer,col_indexer] = value instead\n",
      "\n",
      "See the caveats in the documentation: https://pandas.pydata.org/pandas-docs/stable/user_guide/indexing.html#returning-a-view-versus-a-copy\n",
      "  new_data[quant] = new_data[quant].fillna(0)\n",
      "C:\\Users\\Fatimata Kane\\AppData\\Local\\Temp\\ipykernel_6568\\1423115332.py:1: SettingWithCopyWarning: \n",
      "A value is trying to be set on a copy of a slice from a DataFrame.\n",
      "Try using .loc[row_indexer,col_indexer] = value instead\n",
      "\n",
      "See the caveats in the documentation: https://pandas.pydata.org/pandas-docs/stable/user_guide/indexing.html#returning-a-view-versus-a-copy\n",
      "  new_data[quant] = new_data[quant].fillna(0)\n"
     ]
    }
   ],
   "source": [
    "new_data[quant] = new_data[quant].fillna(0)"
   ]
  },
  {
   "cell_type": "markdown",
   "metadata": {},
   "source": [
    "On constate que seules les variables qualitatives contiennent des valeurs manquantes. On remplacera par des guillemets."
   ]
  },
  {
   "cell_type": "code",
   "execution_count": 118,
   "metadata": {},
   "outputs": [],
   "source": [
    "qual = new_data.select_dtypes('object').columns"
   ]
  },
  {
   "cell_type": "code",
   "execution_count": 119,
   "metadata": {},
   "outputs": [
    {
     "name": "stderr",
     "output_type": "stream",
     "text": [
      "C:\\Users\\Fatimata Kane\\AppData\\Local\\Temp\\ipykernel_6568\\142675717.py:1: SettingWithCopyWarning: \n",
      "A value is trying to be set on a copy of a slice from a DataFrame\n",
      "\n",
      "See the caveats in the documentation: https://pandas.pydata.org/pandas-docs/stable/user_guide/indexing.html#returning-a-view-versus-a-copy\n",
      "  new_data.fillna(\"''\", inplace = True)\n"
     ]
    }
   ],
   "source": [
    "new_data.fillna(\"''\", inplace = True)          "
   ]
  },
  {
   "cell_type": "code",
   "execution_count": 120,
   "metadata": {},
   "outputs": [
    {
     "data": {
      "text/plain": [
       "iyear                 0.0\n",
       "weapsubtype4_txt      0.0\n",
       "gname                 0.0\n",
       "natlty1_txt           0.0\n",
       "kidhijcountry         0.0\n",
       "weaptype1_txt         0.0\n",
       "weapsubtype1_txt      0.0\n",
       "weaptype2_txt         0.0\n",
       "weapsubtype2_txt      0.0\n",
       "weaptype3_txt         0.0\n",
       "weapsubtype3_txt      0.0\n",
       "weaptype4_txt         0.0\n",
       "targtype1_txt         0.0\n",
       "iday                  0.0\n",
       "targsubtype1_txt      0.0\n",
       "targtype2_txt         0.0\n",
       "targsubtype2_txt      0.0\n",
       "targtype3_txt         0.0\n",
       "targsubtype3_txt      0.0\n",
       "claimmode_txt         0.0\n",
       "propextent_txt        0.0\n",
       "propextent            0.0\n",
       "propvalue             0.0\n",
       "dbsource              0.0\n",
       "motive                0.0\n",
       "summary               0.0\n",
       "nhostkidus            0.0\n",
       "ransompaidus          0.0\n",
       "imonth                0.0\n",
       "nkill                 0.0\n",
       "country_txt           0.0\n",
       "nwound                0.0\n",
       "region_txt            0.0\n",
       "provstate             0.0\n",
       "city                  0.0\n",
       "nkillus               0.0\n",
       "nwoundus              0.0\n",
       "region_txt            0.0\n",
       "latitude              0.0\n",
       "longitude             0.0\n",
       "attacktype1_txt       0.0\n",
       "alternative_txt       0.0\n",
       "suicide               0.0\n",
       "ransompaid            0.0\n",
       "nhostkid              0.0\n",
       "hostkidoutcome_txt    0.0\n",
       "ransomnote            0.0\n",
       "nhours                0.0\n",
       "ndays                 0.0\n",
       "date                  0.0\n",
       "dtype: float64"
      ]
     },
     "execution_count": 120,
     "metadata": {},
     "output_type": "execute_result"
    }
   ],
   "source": [
    "missing_percentages = new_data.isna().sum().sort_values(ascending = False)/len(new_data)\n",
    "missing_percentages"
   ]
  },
  {
   "cell_type": "code",
   "execution_count": 121,
   "metadata": {},
   "outputs": [
    {
     "data": {
      "text/html": [
       "<div>\n",
       "<style scoped>\n",
       "    .dataframe tbody tr th:only-of-type {\n",
       "        vertical-align: middle;\n",
       "    }\n",
       "\n",
       "    .dataframe tbody tr th {\n",
       "        vertical-align: top;\n",
       "    }\n",
       "\n",
       "    .dataframe thead th {\n",
       "        text-align: right;\n",
       "    }\n",
       "</style>\n",
       "<table border=\"1\" class=\"dataframe\">\n",
       "  <thead>\n",
       "    <tr style=\"text-align: right;\">\n",
       "      <th></th>\n",
       "      <th>iyear</th>\n",
       "      <th>iday</th>\n",
       "      <th>imonth</th>\n",
       "      <th>nkill</th>\n",
       "      <th>country_txt</th>\n",
       "      <th>nwound</th>\n",
       "      <th>region_txt</th>\n",
       "      <th>provstate</th>\n",
       "      <th>city</th>\n",
       "      <th>nkillus</th>\n",
       "      <th>...</th>\n",
       "      <th>targtype2_txt</th>\n",
       "      <th>targsubtype2_txt</th>\n",
       "      <th>targtype3_txt</th>\n",
       "      <th>targsubtype3_txt</th>\n",
       "      <th>claimmode_txt</th>\n",
       "      <th>propextent_txt</th>\n",
       "      <th>propextent</th>\n",
       "      <th>propvalue</th>\n",
       "      <th>dbsource</th>\n",
       "      <th>date</th>\n",
       "    </tr>\n",
       "  </thead>\n",
       "  <tbody>\n",
       "    <tr>\n",
       "      <th>5</th>\n",
       "      <td>1970</td>\n",
       "      <td>1</td>\n",
       "      <td>1</td>\n",
       "      <td>0.0</td>\n",
       "      <td>United States</td>\n",
       "      <td>0.0</td>\n",
       "      <td>North America</td>\n",
       "      <td>Illinois</td>\n",
       "      <td>Cairo</td>\n",
       "      <td>0.0</td>\n",
       "      <td>...</td>\n",
       "      <td>''</td>\n",
       "      <td>''</td>\n",
       "      <td>''</td>\n",
       "      <td>''</td>\n",
       "      <td>''</td>\n",
       "      <td>Minor (likely &lt; $1 million)</td>\n",
       "      <td>3.0</td>\n",
       "      <td>0.0</td>\n",
       "      <td>Hewitt Project</td>\n",
       "      <td>1970-01-01</td>\n",
       "    </tr>\n",
       "    <tr>\n",
       "      <th>10</th>\n",
       "      <td>1970</td>\n",
       "      <td>1</td>\n",
       "      <td>1</td>\n",
       "      <td>0.0</td>\n",
       "      <td>United States</td>\n",
       "      <td>0.0</td>\n",
       "      <td>North America</td>\n",
       "      <td>Wisconsin</td>\n",
       "      <td>Baraboo</td>\n",
       "      <td>0.0</td>\n",
       "      <td>...</td>\n",
       "      <td>''</td>\n",
       "      <td>''</td>\n",
       "      <td>''</td>\n",
       "      <td>''</td>\n",
       "      <td>''</td>\n",
       "      <td>Minor (likely &lt; $1 million)</td>\n",
       "      <td>3.0</td>\n",
       "      <td>0.0</td>\n",
       "      <td>PGIS</td>\n",
       "      <td>1970-01-01</td>\n",
       "    </tr>\n",
       "    <tr>\n",
       "      <th>6</th>\n",
       "      <td>1970</td>\n",
       "      <td>2</td>\n",
       "      <td>1</td>\n",
       "      <td>0.0</td>\n",
       "      <td>Uruguay</td>\n",
       "      <td>0.0</td>\n",
       "      <td>South America</td>\n",
       "      <td>Montevideo</td>\n",
       "      <td>Montevideo</td>\n",
       "      <td>0.0</td>\n",
       "      <td>...</td>\n",
       "      <td>''</td>\n",
       "      <td>''</td>\n",
       "      <td>''</td>\n",
       "      <td>''</td>\n",
       "      <td>''</td>\n",
       "      <td>''</td>\n",
       "      <td>0.0</td>\n",
       "      <td>0.0</td>\n",
       "      <td>PGIS</td>\n",
       "      <td>1970-01-02</td>\n",
       "    </tr>\n",
       "    <tr>\n",
       "      <th>7</th>\n",
       "      <td>1970</td>\n",
       "      <td>2</td>\n",
       "      <td>1</td>\n",
       "      <td>0.0</td>\n",
       "      <td>United States</td>\n",
       "      <td>0.0</td>\n",
       "      <td>North America</td>\n",
       "      <td>California</td>\n",
       "      <td>Oakland</td>\n",
       "      <td>0.0</td>\n",
       "      <td>...</td>\n",
       "      <td>''</td>\n",
       "      <td>''</td>\n",
       "      <td>''</td>\n",
       "      <td>''</td>\n",
       "      <td>''</td>\n",
       "      <td>Minor (likely &lt; $1 million)</td>\n",
       "      <td>3.0</td>\n",
       "      <td>22500.0</td>\n",
       "      <td>Hewitt Project</td>\n",
       "      <td>1970-01-02</td>\n",
       "    </tr>\n",
       "    <tr>\n",
       "      <th>8</th>\n",
       "      <td>1970</td>\n",
       "      <td>2</td>\n",
       "      <td>1</td>\n",
       "      <td>0.0</td>\n",
       "      <td>United States</td>\n",
       "      <td>0.0</td>\n",
       "      <td>North America</td>\n",
       "      <td>Wisconsin</td>\n",
       "      <td>Madison</td>\n",
       "      <td>0.0</td>\n",
       "      <td>...</td>\n",
       "      <td>''</td>\n",
       "      <td>''</td>\n",
       "      <td>''</td>\n",
       "      <td>''</td>\n",
       "      <td>Letter</td>\n",
       "      <td>Minor (likely &lt; $1 million)</td>\n",
       "      <td>3.0</td>\n",
       "      <td>60000.0</td>\n",
       "      <td>Hewitt Project</td>\n",
       "      <td>1970-01-02</td>\n",
       "    </tr>\n",
       "  </tbody>\n",
       "</table>\n",
       "<p>5 rows × 50 columns</p>\n",
       "</div>"
      ],
      "text/plain": [
       "    iyear  iday  imonth  nkill    country_txt  nwound     region_txt  \\\n",
       "5    1970     1       1    0.0  United States     0.0  North America   \n",
       "10   1970     1       1    0.0  United States     0.0  North America   \n",
       "6    1970     2       1    0.0        Uruguay     0.0  South America   \n",
       "7    1970     2       1    0.0  United States     0.0  North America   \n",
       "8    1970     2       1    0.0  United States     0.0  North America   \n",
       "\n",
       "     provstate        city  nkillus  ...  targtype2_txt targsubtype2_txt  \\\n",
       "5     Illinois       Cairo      0.0  ...             ''               ''   \n",
       "10   Wisconsin     Baraboo      0.0  ...             ''               ''   \n",
       "6   Montevideo  Montevideo      0.0  ...             ''               ''   \n",
       "7   California     Oakland      0.0  ...             ''               ''   \n",
       "8    Wisconsin     Madison      0.0  ...             ''               ''   \n",
       "\n",
       "    targtype3_txt  targsubtype3_txt claimmode_txt  \\\n",
       "5              ''                ''            ''   \n",
       "10             ''                ''            ''   \n",
       "6              ''                ''            ''   \n",
       "7              ''                ''            ''   \n",
       "8              ''                ''        Letter   \n",
       "\n",
       "                 propextent_txt  propextent  propvalue        dbsource  \\\n",
       "5   Minor (likely < $1 million)         3.0        0.0  Hewitt Project   \n",
       "10  Minor (likely < $1 million)         3.0        0.0            PGIS   \n",
       "6                            ''         0.0        0.0            PGIS   \n",
       "7   Minor (likely < $1 million)         3.0    22500.0  Hewitt Project   \n",
       "8   Minor (likely < $1 million)         3.0    60000.0  Hewitt Project   \n",
       "\n",
       "         date  \n",
       "5  1970-01-01  \n",
       "10 1970-01-01  \n",
       "6  1970-01-02  \n",
       "7  1970-01-02  \n",
       "8  1970-01-02  \n",
       "\n",
       "[5 rows x 50 columns]"
      ]
     },
     "execution_count": 121,
     "metadata": {},
     "output_type": "execute_result"
    }
   ],
   "source": [
    "new_data.head()"
   ]
  },
  {
   "cell_type": "code",
   "execution_count": 122,
   "metadata": {},
   "outputs": [],
   "source": [
    "new_data.to_csv(\"data/cleaned/terror.csv\", index = False)"
   ]
  },
  {
   "cell_type": "markdown",
   "metadata": {},
   "source": [
    "## Vérification du dataset"
   ]
  },
  {
   "cell_type": "code",
   "execution_count": 78,
   "metadata": {},
   "outputs": [],
   "source": [
    "new_data = pd.read_csv(\"data/cleaned/terror.csv\")"
   ]
  },
  {
   "cell_type": "code",
   "execution_count": 79,
   "metadata": {},
   "outputs": [
    {
     "data": {
      "text/html": [
       "<div>\n",
       "<style scoped>\n",
       "    .dataframe tbody tr th:only-of-type {\n",
       "        vertical-align: middle;\n",
       "    }\n",
       "\n",
       "    .dataframe tbody tr th {\n",
       "        vertical-align: top;\n",
       "    }\n",
       "\n",
       "    .dataframe thead th {\n",
       "        text-align: right;\n",
       "    }\n",
       "</style>\n",
       "<table border=\"1\" class=\"dataframe\">\n",
       "  <thead>\n",
       "    <tr style=\"text-align: right;\">\n",
       "      <th></th>\n",
       "      <th>iyear</th>\n",
       "      <th>iday</th>\n",
       "      <th>imonth</th>\n",
       "      <th>nkill</th>\n",
       "      <th>country_txt</th>\n",
       "      <th>nwound</th>\n",
       "      <th>region_txt</th>\n",
       "      <th>provstate</th>\n",
       "      <th>city</th>\n",
       "      <th>nkillus</th>\n",
       "      <th>...</th>\n",
       "      <th>targsubtype2_txt</th>\n",
       "      <th>targtype3_txt</th>\n",
       "      <th>targsubtype3_txt</th>\n",
       "      <th>claimmode_txt</th>\n",
       "      <th>propextent_txt</th>\n",
       "      <th>propextent</th>\n",
       "      <th>propvalue</th>\n",
       "      <th>dbsource</th>\n",
       "      <th>ransom</th>\n",
       "      <th>date</th>\n",
       "    </tr>\n",
       "  </thead>\n",
       "  <tbody>\n",
       "    <tr>\n",
       "      <th>0</th>\n",
       "      <td>1970</td>\n",
       "      <td>1</td>\n",
       "      <td>1</td>\n",
       "      <td>0.0</td>\n",
       "      <td>United States</td>\n",
       "      <td>0.0</td>\n",
       "      <td>North America</td>\n",
       "      <td>Illinois</td>\n",
       "      <td>Cairo</td>\n",
       "      <td>0.0</td>\n",
       "      <td>...</td>\n",
       "      <td>''</td>\n",
       "      <td>''</td>\n",
       "      <td>''</td>\n",
       "      <td>''</td>\n",
       "      <td>Minor (likely &lt; $1 million)</td>\n",
       "      <td>3.0</td>\n",
       "      <td>0.0</td>\n",
       "      <td>Hewitt Project</td>\n",
       "      <td>0.0</td>\n",
       "      <td>1970-01-01</td>\n",
       "    </tr>\n",
       "    <tr>\n",
       "      <th>1</th>\n",
       "      <td>1970</td>\n",
       "      <td>1</td>\n",
       "      <td>1</td>\n",
       "      <td>0.0</td>\n",
       "      <td>United States</td>\n",
       "      <td>0.0</td>\n",
       "      <td>North America</td>\n",
       "      <td>Wisconsin</td>\n",
       "      <td>Baraboo</td>\n",
       "      <td>0.0</td>\n",
       "      <td>...</td>\n",
       "      <td>''</td>\n",
       "      <td>''</td>\n",
       "      <td>''</td>\n",
       "      <td>''</td>\n",
       "      <td>Minor (likely &lt; $1 million)</td>\n",
       "      <td>3.0</td>\n",
       "      <td>0.0</td>\n",
       "      <td>PGIS</td>\n",
       "      <td>0.0</td>\n",
       "      <td>1970-01-01</td>\n",
       "    </tr>\n",
       "    <tr>\n",
       "      <th>2</th>\n",
       "      <td>1970</td>\n",
       "      <td>2</td>\n",
       "      <td>1</td>\n",
       "      <td>0.0</td>\n",
       "      <td>Uruguay</td>\n",
       "      <td>0.0</td>\n",
       "      <td>South America</td>\n",
       "      <td>Montevideo</td>\n",
       "      <td>Montevideo</td>\n",
       "      <td>0.0</td>\n",
       "      <td>...</td>\n",
       "      <td>''</td>\n",
       "      <td>''</td>\n",
       "      <td>''</td>\n",
       "      <td>''</td>\n",
       "      <td>''</td>\n",
       "      <td>0.0</td>\n",
       "      <td>0.0</td>\n",
       "      <td>PGIS</td>\n",
       "      <td>0.0</td>\n",
       "      <td>1970-01-02</td>\n",
       "    </tr>\n",
       "    <tr>\n",
       "      <th>3</th>\n",
       "      <td>1970</td>\n",
       "      <td>2</td>\n",
       "      <td>1</td>\n",
       "      <td>0.0</td>\n",
       "      <td>United States</td>\n",
       "      <td>0.0</td>\n",
       "      <td>North America</td>\n",
       "      <td>California</td>\n",
       "      <td>Oakland</td>\n",
       "      <td>0.0</td>\n",
       "      <td>...</td>\n",
       "      <td>''</td>\n",
       "      <td>''</td>\n",
       "      <td>''</td>\n",
       "      <td>''</td>\n",
       "      <td>Minor (likely &lt; $1 million)</td>\n",
       "      <td>3.0</td>\n",
       "      <td>22500.0</td>\n",
       "      <td>Hewitt Project</td>\n",
       "      <td>0.0</td>\n",
       "      <td>1970-01-02</td>\n",
       "    </tr>\n",
       "    <tr>\n",
       "      <th>4</th>\n",
       "      <td>1970</td>\n",
       "      <td>2</td>\n",
       "      <td>1</td>\n",
       "      <td>0.0</td>\n",
       "      <td>United States</td>\n",
       "      <td>0.0</td>\n",
       "      <td>North America</td>\n",
       "      <td>Wisconsin</td>\n",
       "      <td>Madison</td>\n",
       "      <td>0.0</td>\n",
       "      <td>...</td>\n",
       "      <td>''</td>\n",
       "      <td>''</td>\n",
       "      <td>''</td>\n",
       "      <td>Letter</td>\n",
       "      <td>Minor (likely &lt; $1 million)</td>\n",
       "      <td>3.0</td>\n",
       "      <td>60000.0</td>\n",
       "      <td>Hewitt Project</td>\n",
       "      <td>0.0</td>\n",
       "      <td>1970-01-02</td>\n",
       "    </tr>\n",
       "  </tbody>\n",
       "</table>\n",
       "<p>5 rows × 51 columns</p>\n",
       "</div>"
      ],
      "text/plain": [
       "   iyear  iday  imonth  nkill    country_txt  nwound     region_txt  \\\n",
       "0   1970     1       1    0.0  United States     0.0  North America   \n",
       "1   1970     1       1    0.0  United States     0.0  North America   \n",
       "2   1970     2       1    0.0        Uruguay     0.0  South America   \n",
       "3   1970     2       1    0.0  United States     0.0  North America   \n",
       "4   1970     2       1    0.0  United States     0.0  North America   \n",
       "\n",
       "    provstate        city  nkillus  ...  targsubtype2_txt targtype3_txt  \\\n",
       "0    Illinois       Cairo      0.0  ...                ''            ''   \n",
       "1   Wisconsin     Baraboo      0.0  ...                ''            ''   \n",
       "2  Montevideo  Montevideo      0.0  ...                ''            ''   \n",
       "3  California     Oakland      0.0  ...                ''            ''   \n",
       "4   Wisconsin     Madison      0.0  ...                ''            ''   \n",
       "\n",
       "   targsubtype3_txt  claimmode_txt               propextent_txt propextent  \\\n",
       "0                ''             ''  Minor (likely < $1 million)        3.0   \n",
       "1                ''             ''  Minor (likely < $1 million)        3.0   \n",
       "2                ''             ''                           ''        0.0   \n",
       "3                ''             ''  Minor (likely < $1 million)        3.0   \n",
       "4                ''         Letter  Minor (likely < $1 million)        3.0   \n",
       "\n",
       "   propvalue        dbsource  ransom        date  \n",
       "0        0.0  Hewitt Project     0.0  1970-01-01  \n",
       "1        0.0            PGIS     0.0  1970-01-01  \n",
       "2        0.0            PGIS     0.0  1970-01-02  \n",
       "3    22500.0  Hewitt Project     0.0  1970-01-02  \n",
       "4    60000.0  Hewitt Project     0.0  1970-01-02  \n",
       "\n",
       "[5 rows x 51 columns]"
      ]
     },
     "execution_count": 79,
     "metadata": {},
     "output_type": "execute_result"
    }
   ],
   "source": [
    "new_data.head()"
   ]
  },
  {
   "cell_type": "markdown",
   "metadata": {},
   "source": [
    "## Création d'une classe qui effectue tout le prétraitement"
   ]
  },
  {
   "cell_type": "code",
<<<<<<< HEAD
   "execution_count": 83,
   "metadata": {},
   "outputs": [],
=======
   "execution_count": 1,
   "metadata": {},
   "outputs": [
    {
     "ename": "NameError",
     "evalue": "name 'pd' is not defined",
     "output_type": "error",
     "traceback": [
      "\u001b[1;31m---------------------------------------------------------------------------\u001b[0m",
      "\u001b[1;31mNameError\u001b[0m                                 Traceback (most recent call last)",
      "\u001b[1;32me:\\Oumar\\Ordinateur Dell\\oumar\\documents\\Cours\\IA data forest\\master semestre 2\\Data Camp\\Projet Terroriste\\TerroristAttackDashboard\\preprocessing.ipynb Cell 43'\u001b[0m in \u001b[0;36m<cell line: 1>\u001b[1;34m()\u001b[0m\n\u001b[1;32m----> <a href='vscode-notebook-cell:/e%3A/Oumar/Ordinateur%20Dell/oumar/documents/Cours/IA%20data%20forest/master%20semestre%202/Data%20Camp/Projet%20Terroriste/TerroristAttackDashboard/preprocessing.ipynb#ch0000043?line=0'>1</a>\u001b[0m \u001b[39mclass\u001b[39;00m \u001b[39mPretraitement\u001b[39;00m:\n\u001b[0;32m      <a href='vscode-notebook-cell:/e%3A/Oumar/Ordinateur%20Dell/oumar/documents/Cours/IA%20data%20forest/master%20semestre%202/Data%20Camp/Projet%20Terroriste/TerroristAttackDashboard/preprocessing.ipynb#ch0000043?line=1'>2</a>\u001b[0m     \u001b[39m\"\"\"Cette classe doit pouvoir nous permettre d'effectuer les prétraitements sur les données nouvellement recueillies\u001b[39;00m\n\u001b[0;32m      <a href='vscode-notebook-cell:/e%3A/Oumar/Ordinateur%20Dell/oumar/documents/Cours/IA%20data%20forest/master%20semestre%202/Data%20Camp/Projet%20Terroriste/TerroristAttackDashboard/preprocessing.ipynb#ch0000043?line=2'>3</a>\u001b[0m \u001b[39m    \"\"\"\u001b[39;00m\n\u001b[0;32m      <a href='vscode-notebook-cell:/e%3A/Oumar/Ordinateur%20Dell/oumar/documents/Cours/IA%20data%20forest/master%20semestre%202/Data%20Camp/Projet%20Terroriste/TerroristAttackDashboard/preprocessing.ipynb#ch0000043?line=4'>5</a>\u001b[0m     \u001b[39mdef\u001b[39;00m \u001b[39m__init__\u001b[39m(\u001b[39mself\u001b[39m, data_frame:pd\u001b[39m.\u001b[39mDataFrame) \u001b[39m-\u001b[39m\u001b[39m>\u001b[39m \u001b[39mNone\u001b[39;00m:\n",
      "\u001b[1;32me:\\Oumar\\Ordinateur Dell\\oumar\\documents\\Cours\\IA data forest\\master semestre 2\\Data Camp\\Projet Terroriste\\TerroristAttackDashboard\\preprocessing.ipynb Cell 43'\u001b[0m in \u001b[0;36mPretraitement\u001b[1;34m()\u001b[0m\n\u001b[0;32m      <a href='vscode-notebook-cell:/e%3A/Oumar/Ordinateur%20Dell/oumar/documents/Cours/IA%20data%20forest/master%20semestre%202/Data%20Camp/Projet%20Terroriste/TerroristAttackDashboard/preprocessing.ipynb#ch0000043?line=0'>1</a>\u001b[0m \u001b[39mclass\u001b[39;00m \u001b[39mPretraitement\u001b[39;00m:\n\u001b[0;32m      <a href='vscode-notebook-cell:/e%3A/Oumar/Ordinateur%20Dell/oumar/documents/Cours/IA%20data%20forest/master%20semestre%202/Data%20Camp/Projet%20Terroriste/TerroristAttackDashboard/preprocessing.ipynb#ch0000043?line=1'>2</a>\u001b[0m     \u001b[39m\"\"\"Cette classe doit pouvoir nous permettre d'effectuer les prétraitements sur les données nouvellement recueillies\u001b[39;00m\n\u001b[0;32m      <a href='vscode-notebook-cell:/e%3A/Oumar/Ordinateur%20Dell/oumar/documents/Cours/IA%20data%20forest/master%20semestre%202/Data%20Camp/Projet%20Terroriste/TerroristAttackDashboard/preprocessing.ipynb#ch0000043?line=2'>3</a>\u001b[0m \u001b[39m    \"\"\"\u001b[39;00m\n\u001b[1;32m----> <a href='vscode-notebook-cell:/e%3A/Oumar/Ordinateur%20Dell/oumar/documents/Cours/IA%20data%20forest/master%20semestre%202/Data%20Camp/Projet%20Terroriste/TerroristAttackDashboard/preprocessing.ipynb#ch0000043?line=4'>5</a>\u001b[0m     \u001b[39mdef\u001b[39;00m \u001b[39m__init__\u001b[39m(\u001b[39mself\u001b[39m, data_frame:pd\u001b[39m.\u001b[39mDataFrame) \u001b[39m-\u001b[39m\u001b[39m>\u001b[39m \u001b[39mNone\u001b[39;00m:\n\u001b[0;32m      <a href='vscode-notebook-cell:/e%3A/Oumar/Ordinateur%20Dell/oumar/documents/Cours/IA%20data%20forest/master%20semestre%202/Data%20Camp/Projet%20Terroriste/TerroristAttackDashboard/preprocessing.ipynb#ch0000043?line=5'>6</a>\u001b[0m         \u001b[39m\"\"\"Initialisation du tableau de données\u001b[39;00m\n\u001b[0;32m      <a href='vscode-notebook-cell:/e%3A/Oumar/Ordinateur%20Dell/oumar/documents/Cours/IA%20data%20forest/master%20semestre%202/Data%20Camp/Projet%20Terroriste/TerroristAttackDashboard/preprocessing.ipynb#ch0000043?line=6'>7</a>\u001b[0m \n\u001b[0;32m      <a href='vscode-notebook-cell:/e%3A/Oumar/Ordinateur%20Dell/oumar/documents/Cours/IA%20data%20forest/master%20semestre%202/Data%20Camp/Projet%20Terroriste/TerroristAttackDashboard/preprocessing.ipynb#ch0000043?line=7'>8</a>\u001b[0m \u001b[39m        Args:\u001b[39;00m\n\u001b[0;32m      <a href='vscode-notebook-cell:/e%3A/Oumar/Ordinateur%20Dell/oumar/documents/Cours/IA%20data%20forest/master%20semestre%202/Data%20Camp/Projet%20Terroriste/TerroristAttackDashboard/preprocessing.ipynb#ch0000043?line=8'>9</a>\u001b[0m \u001b[39m            data_frame (pd.DataFrame): Tableau de données contenant les données nouvellement recuiellies\u001b[39;00m\n\u001b[0;32m     <a href='vscode-notebook-cell:/e%3A/Oumar/Ordinateur%20Dell/oumar/documents/Cours/IA%20data%20forest/master%20semestre%202/Data%20Camp/Projet%20Terroriste/TerroristAttackDashboard/preprocessing.ipynb#ch0000043?line=9'>10</a>\u001b[0m \u001b[39m        \"\"\"\u001b[39;00m\n\u001b[0;32m     <a href='vscode-notebook-cell:/e%3A/Oumar/Ordinateur%20Dell/oumar/documents/Cours/IA%20data%20forest/master%20semestre%202/Data%20Camp/Projet%20Terroriste/TerroristAttackDashboard/preprocessing.ipynb#ch0000043?line=10'>11</a>\u001b[0m         \u001b[39mself\u001b[39m\u001b[39m.\u001b[39mdata_frame \u001b[39m=\u001b[39m data_frame\n",
      "\u001b[1;31mNameError\u001b[0m: name 'pd' is not defined"
     ]
    }
   ],
>>>>>>> cbed18383712a3e729348965b356f2ae5e5abbe5
   "source": [
    "class Pretraitement:\n",
    "    \"\"\"Cette classe doit pouvoir nous permettre d'effectuer les prétraitements sur les données nouvellement recueillies\n",
    "    \"\"\"\n",
    "    \n",
    "    def __init__(self, data_frame:pd.DataFrame) -> None:\n",
    "        \"\"\"Initialisation du tableau de données\n",
    "\n",
    "        Args:\n",
    "            data_frame (pd.DataFrame): Tableau de données contenant les données nouvellement recuiellies\n",
    "        \"\"\"\n",
    "        self.data_frame = data_frame\n",
    "    \n",
<<<<<<< HEAD
    "    def selectionner_variables(self, variables_pertinentes):\n",
    "        \"\"\"Faire en sorte que seules les variables à utiliser soient dans le jeu de données\n",
    "        \"\"\"\n",
    "        self.data_frame = self.data_frame[variables_pertinentes]\n",
=======
    "    def variables_pertinentes(self):\n",
    "        \"\"\"Faire en sorte que seules les variables à utiliser soient dans le jeu de données\n",
    "        \"\"\"\n",
    "        variables_pertinentes = variables_pertinentes = ['iyear', 'iday', 'imonth', 'nkill', 'country_txt', 'nwound', 'region_txt', 'provstate',\n",
    "                         'city', 'nkillus', 'nwoundus', 'region_txt', 'latitude', 'longitude',\n",
    "                         'attacktype1_txt', 'alternative_txt', 'suicide', 'ransompaid', 'nhostkid', 'hostkidoutcome_txt'\n",
    "                         , 'ransomnote', 'nhours', 'ndays', 'ransompaidus', 'nhostkidus', 'summary', 'motive', 'gname'\n",
    "                         , 'natlty1_txt', 'kidhijcountry', 'weaptype1_txt', 'weapsubtype1_txt', 'weaptype2_txt', 'weapsubtype2_txt', 'weaptype3_txt', 'weapsubtype3_txt'\n",
    "                         , 'weaptype4_txt', 'weapsubtype4_txt', 'targtype1_txt', 'targsubtype1_txt', 'targtype2_txt', 'targsubtype2_txt', 'targtype3_txt', 'targsubtype3_txt'\n",
    "                         , 'claimmode_txt', 'propextent_txt', 'propextent', 'propvalue', 'dbsource'\n",
    "                         ]\n",
>>>>>>> cbed18383712a3e729348965b356f2ae5e5abbe5
    "    \n",
    "    def ajout_date(self):\n",
    "        \"\"\"Ajouter une variable date au jeu de données\n",
    "        \"\"\"\n",
    "        # Let's remove some lines by the indexes\n",
    "        self.data_frame.drop(index = self.data_frame[(self.data_frame[\"iday\"] == 0)].index, axis = 0, inplace = True)\n",
    "        \n",
    "        # create a new column named as date\n",
    "        self.data_frame['date'] = self.data_frame[\"iyear\"].astype(\"str\") + \"-\" + self.data_frame[\"imonth\"].astype(\"str\") + \"-\" + self.data_frame[\"iday\"].astype(\"str\")\n",
    "    \n",
    "        # transformation de la colonne en format date_time\n",
    "        self.data_frame[\"date\"] = pd.to_datetime(self.data_frame['date'])\n",
    "        \n",
    "        # trier par date\n",
    "        self.data_frame.sort_values('date', inplace=True)\n",
    "        \n",
    "    def traiter_valeurs_manquantes(self):\n",
    "        \"\"\"Traiter de manière simple les valeurs manquantes\n",
    "        \"\"\"\n",
    "        # récupération des noms des variables de types quantitatives\n",
    "        quant = self.data_frame.columns[~self.data_frame.columns.isin(self.data_frame.select_dtypes('object').columns.to_list())]\n",
    "        \n",
    "        # remplacer les valeurs manquantes des variables quantitatives par 0\n",
    "        self.data_frame[quant] = self.data_frame[quant].fillna(0)\n",
    "        \n",
    "        # récupération des noms des variables de types qualitatives\n",
<<<<<<< HEAD
    "        # qual = self.data_frame.select_dtypes('object').columns\n",
    "        \n",
    "        # remplacer les valeurs manquantes des variables qualitatives par 0\n",
    "        self.data_frame.fillna(\"''\") \n",
=======
    "        qual = self.data_frame.select_dtypes('object').columns\n",
    "        \n",
    "        # remplacer les valeurs manquantes des variables qualitatives par 0\n",
    "        self.data_frame[qual] = self.data_frame[qual].fillna(\"''\") \n",
>>>>>>> cbed18383712a3e729348965b356f2ae5e5abbe5
    "        \n",
    "    def sauver_traitements(self, source: str)->None:\n",
    "        \"\"\"Sauver le jeu de données modifié en fournissant le chemin vers le fichier de sauvegarde\n",
    "\n",
    "        Args:\n",
    "            source (str): Le chemin vers le fichier de sauvegarde (csv ou json de préférence)\n",
    "        \"\"\"\n",
    "        self.data_frame.to_csv(source, index=False)"
   ]
  },
  {
   "cell_type": "code",
<<<<<<< HEAD
   "execution_count": 84,
   "metadata": {},
   "outputs": [],
   "source": [
    "pretraitement = Pretraitement(terror_data)"
   ]
  },
  {
   "cell_type": "code",
   "execution_count": 85,
   "metadata": {},
   "outputs": [],
   "source": [
    "pretraitement.selectionner_variables(variables_pertinentes)"
   ]
  },
  {
   "cell_type": "code",
   "execution_count": 86,
   "metadata": {},
   "outputs": [
    {
     "name": "stderr",
     "output_type": "stream",
     "text": [
      "C:\\Users\\Fatimata Kane\\AppData\\Local\\Temp\\ipykernel_6568\\735106556.py:22: SettingWithCopyWarning: \n",
      "A value is trying to be set on a copy of a slice from a DataFrame\n",
      "\n",
      "See the caveats in the documentation: https://pandas.pydata.org/pandas-docs/stable/user_guide/indexing.html#returning-a-view-versus-a-copy\n",
      "  self.data_frame.drop(index = self.data_frame[(self.data_frame[\"iday\"] == 0)].index, axis = 0, inplace = True)\n",
      "C:\\Users\\Fatimata Kane\\AppData\\Local\\Temp\\ipykernel_6568\\735106556.py:25: SettingWithCopyWarning: \n",
      "A value is trying to be set on a copy of a slice from a DataFrame.\n",
      "Try using .loc[row_indexer,col_indexer] = value instead\n",
      "\n",
      "See the caveats in the documentation: https://pandas.pydata.org/pandas-docs/stable/user_guide/indexing.html#returning-a-view-versus-a-copy\n",
      "  self.data_frame['date'] = self.data_frame[\"iyear\"].astype(\"str\") + \"-\" + self.data_frame[\"imonth\"].astype(\"str\") + \"-\" + self.data_frame[\"iday\"].astype(\"str\")\n",
      "C:\\Users\\Fatimata Kane\\AppData\\Local\\Temp\\ipykernel_6568\\735106556.py:28: SettingWithCopyWarning: \n",
      "A value is trying to be set on a copy of a slice from a DataFrame.\n",
      "Try using .loc[row_indexer,col_indexer] = value instead\n",
      "\n",
      "See the caveats in the documentation: https://pandas.pydata.org/pandas-docs/stable/user_guide/indexing.html#returning-a-view-versus-a-copy\n",
      "  self.data_frame[\"date\"] = pd.to_datetime(self.data_frame['date'])\n",
      "C:\\Users\\Fatimata Kane\\AppData\\Local\\Temp\\ipykernel_6568\\735106556.py:31: SettingWithCopyWarning: \n",
      "A value is trying to be set on a copy of a slice from a DataFrame\n",
      "\n",
      "See the caveats in the documentation: https://pandas.pydata.org/pandas-docs/stable/user_guide/indexing.html#returning-a-view-versus-a-copy\n",
      "  self.data_frame.sort_values('date', inplace=True)\n"
     ]
    }
   ],
   "source": [
    "pretraitement.ajout_date()"
   ]
  },
  {
   "cell_type": "code",
   "execution_count": 87,
   "metadata": {},
   "outputs": [
    {
     "name": "stderr",
     "output_type": "stream",
     "text": [
      "C:\\Users\\Fatimata Kane\\AppData\\Local\\Temp\\ipykernel_6568\\735106556.py:40: SettingWithCopyWarning: \n",
      "A value is trying to be set on a copy of a slice from a DataFrame.\n",
      "Try using .loc[row_indexer,col_indexer] = value instead\n",
      "\n",
      "See the caveats in the documentation: https://pandas.pydata.org/pandas-docs/stable/user_guide/indexing.html#returning-a-view-versus-a-copy\n",
      "  self.data_frame[quant] = self.data_frame[quant].fillna(0)\n",
      "C:\\Users\\Fatimata Kane\\AppData\\Local\\Temp\\ipykernel_6568\\735106556.py:40: SettingWithCopyWarning: \n",
      "A value is trying to be set on a copy of a slice from a DataFrame.\n",
      "Try using .loc[row_indexer,col_indexer] = value instead\n",
      "\n",
      "See the caveats in the documentation: https://pandas.pydata.org/pandas-docs/stable/user_guide/indexing.html#returning-a-view-versus-a-copy\n",
      "  self.data_frame[quant] = self.data_frame[quant].fillna(0)\n",
      "C:\\Users\\Fatimata Kane\\AppData\\Local\\Temp\\ipykernel_6568\\735106556.py:40: SettingWithCopyWarning: \n",
      "A value is trying to be set on a copy of a slice from a DataFrame.\n",
      "Try using .loc[row_indexer,col_indexer] = value instead\n",
      "\n",
      "See the caveats in the documentation: https://pandas.pydata.org/pandas-docs/stable/user_guide/indexing.html#returning-a-view-versus-a-copy\n",
      "  self.data_frame[quant] = self.data_frame[quant].fillna(0)\n",
      "C:\\Users\\Fatimata Kane\\AppData\\Local\\Temp\\ipykernel_6568\\735106556.py:40: SettingWithCopyWarning: \n",
      "A value is trying to be set on a copy of a slice from a DataFrame.\n",
      "Try using .loc[row_indexer,col_indexer] = value instead\n",
      "\n",
      "See the caveats in the documentation: https://pandas.pydata.org/pandas-docs/stable/user_guide/indexing.html#returning-a-view-versus-a-copy\n",
      "  self.data_frame[quant] = self.data_frame[quant].fillna(0)\n",
      "C:\\Users\\Fatimata Kane\\AppData\\Local\\Temp\\ipykernel_6568\\735106556.py:40: SettingWithCopyWarning: \n",
      "A value is trying to be set on a copy of a slice from a DataFrame.\n",
      "Try using .loc[row_indexer,col_indexer] = value instead\n",
      "\n",
      "See the caveats in the documentation: https://pandas.pydata.org/pandas-docs/stable/user_guide/indexing.html#returning-a-view-versus-a-copy\n",
      "  self.data_frame[quant] = self.data_frame[quant].fillna(0)\n",
      "C:\\Users\\Fatimata Kane\\AppData\\Local\\Temp\\ipykernel_6568\\735106556.py:40: SettingWithCopyWarning: \n",
      "A value is trying to be set on a copy of a slice from a DataFrame.\n",
      "Try using .loc[row_indexer,col_indexer] = value instead\n",
      "\n",
      "See the caveats in the documentation: https://pandas.pydata.org/pandas-docs/stable/user_guide/indexing.html#returning-a-view-versus-a-copy\n",
      "  self.data_frame[quant] = self.data_frame[quant].fillna(0)\n",
      "C:\\Users\\Fatimata Kane\\AppData\\Local\\Temp\\ipykernel_6568\\735106556.py:40: SettingWithCopyWarning: \n",
      "A value is trying to be set on a copy of a slice from a DataFrame.\n",
      "Try using .loc[row_indexer,col_indexer] = value instead\n",
      "\n",
      "See the caveats in the documentation: https://pandas.pydata.org/pandas-docs/stable/user_guide/indexing.html#returning-a-view-versus-a-copy\n",
      "  self.data_frame[quant] = self.data_frame[quant].fillna(0)\n",
      "C:\\Users\\Fatimata Kane\\AppData\\Local\\Temp\\ipykernel_6568\\735106556.py:40: SettingWithCopyWarning: \n",
      "A value is trying to be set on a copy of a slice from a DataFrame.\n",
      "Try using .loc[row_indexer,col_indexer] = value instead\n",
      "\n",
      "See the caveats in the documentation: https://pandas.pydata.org/pandas-docs/stable/user_guide/indexing.html#returning-a-view-versus-a-copy\n",
      "  self.data_frame[quant] = self.data_frame[quant].fillna(0)\n",
      "C:\\Users\\Fatimata Kane\\AppData\\Local\\Temp\\ipykernel_6568\\735106556.py:40: SettingWithCopyWarning: \n",
      "A value is trying to be set on a copy of a slice from a DataFrame.\n",
      "Try using .loc[row_indexer,col_indexer] = value instead\n",
      "\n",
      "See the caveats in the documentation: https://pandas.pydata.org/pandas-docs/stable/user_guide/indexing.html#returning-a-view-versus-a-copy\n",
      "  self.data_frame[quant] = self.data_frame[quant].fillna(0)\n",
      "C:\\Users\\Fatimata Kane\\AppData\\Local\\Temp\\ipykernel_6568\\735106556.py:40: SettingWithCopyWarning: \n",
      "A value is trying to be set on a copy of a slice from a DataFrame.\n",
      "Try using .loc[row_indexer,col_indexer] = value instead\n",
      "\n",
      "See the caveats in the documentation: https://pandas.pydata.org/pandas-docs/stable/user_guide/indexing.html#returning-a-view-versus-a-copy\n",
      "  self.data_frame[quant] = self.data_frame[quant].fillna(0)\n",
      "C:\\Users\\Fatimata Kane\\AppData\\Local\\Temp\\ipykernel_6568\\735106556.py:40: SettingWithCopyWarning: \n",
      "A value is trying to be set on a copy of a slice from a DataFrame.\n",
      "Try using .loc[row_indexer,col_indexer] = value instead\n",
      "\n",
      "See the caveats in the documentation: https://pandas.pydata.org/pandas-docs/stable/user_guide/indexing.html#returning-a-view-versus-a-copy\n",
      "  self.data_frame[quant] = self.data_frame[quant].fillna(0)\n",
      "C:\\Users\\Fatimata Kane\\AppData\\Local\\Temp\\ipykernel_6568\\735106556.py:40: SettingWithCopyWarning: \n",
      "A value is trying to be set on a copy of a slice from a DataFrame.\n",
      "Try using .loc[row_indexer,col_indexer] = value instead\n",
      "\n",
      "See the caveats in the documentation: https://pandas.pydata.org/pandas-docs/stable/user_guide/indexing.html#returning-a-view-versus-a-copy\n",
      "  self.data_frame[quant] = self.data_frame[quant].fillna(0)\n",
      "C:\\Users\\Fatimata Kane\\AppData\\Local\\Temp\\ipykernel_6568\\735106556.py:40: SettingWithCopyWarning: \n",
      "A value is trying to be set on a copy of a slice from a DataFrame.\n",
      "Try using .loc[row_indexer,col_indexer] = value instead\n",
      "\n",
      "See the caveats in the documentation: https://pandas.pydata.org/pandas-docs/stable/user_guide/indexing.html#returning-a-view-versus-a-copy\n",
      "  self.data_frame[quant] = self.data_frame[quant].fillna(0)\n",
      "C:\\Users\\Fatimata Kane\\AppData\\Local\\Temp\\ipykernel_6568\\735106556.py:40: SettingWithCopyWarning: \n",
      "A value is trying to be set on a copy of a slice from a DataFrame.\n",
      "Try using .loc[row_indexer,col_indexer] = value instead\n",
      "\n",
      "See the caveats in the documentation: https://pandas.pydata.org/pandas-docs/stable/user_guide/indexing.html#returning-a-view-versus-a-copy\n",
      "  self.data_frame[quant] = self.data_frame[quant].fillna(0)\n",
      "C:\\Users\\Fatimata Kane\\AppData\\Local\\Temp\\ipykernel_6568\\735106556.py:40: SettingWithCopyWarning: \n",
      "A value is trying to be set on a copy of a slice from a DataFrame.\n",
      "Try using .loc[row_indexer,col_indexer] = value instead\n",
      "\n",
      "See the caveats in the documentation: https://pandas.pydata.org/pandas-docs/stable/user_guide/indexing.html#returning-a-view-versus-a-copy\n",
      "  self.data_frame[quant] = self.data_frame[quant].fillna(0)\n",
      "C:\\Users\\Fatimata Kane\\AppData\\Local\\Temp\\ipykernel_6568\\735106556.py:40: SettingWithCopyWarning: \n",
      "A value is trying to be set on a copy of a slice from a DataFrame.\n",
      "Try using .loc[row_indexer,col_indexer] = value instead\n",
      "\n",
      "See the caveats in the documentation: https://pandas.pydata.org/pandas-docs/stable/user_guide/indexing.html#returning-a-view-versus-a-copy\n",
      "  self.data_frame[quant] = self.data_frame[quant].fillna(0)\n",
      "C:\\Users\\Fatimata Kane\\AppData\\Local\\Temp\\ipykernel_6568\\735106556.py:40: SettingWithCopyWarning: \n",
      "A value is trying to be set on a copy of a slice from a DataFrame.\n",
      "Try using .loc[row_indexer,col_indexer] = value instead\n",
      "\n",
      "See the caveats in the documentation: https://pandas.pydata.org/pandas-docs/stable/user_guide/indexing.html#returning-a-view-versus-a-copy\n",
      "  self.data_frame[quant] = self.data_frame[quant].fillna(0)\n",
      "C:\\Users\\Fatimata Kane\\AppData\\Local\\Temp\\ipykernel_6568\\735106556.py:40: SettingWithCopyWarning: \n",
      "A value is trying to be set on a copy of a slice from a DataFrame.\n",
      "Try using .loc[row_indexer,col_indexer] = value instead\n",
      "\n",
      "See the caveats in the documentation: https://pandas.pydata.org/pandas-docs/stable/user_guide/indexing.html#returning-a-view-versus-a-copy\n",
      "  self.data_frame[quant] = self.data_frame[quant].fillna(0)\n",
      "C:\\Users\\Fatimata Kane\\AppData\\Local\\Temp\\ipykernel_6568\\735106556.py:40: SettingWithCopyWarning: \n",
      "A value is trying to be set on a copy of a slice from a DataFrame.\n",
      "Try using .loc[row_indexer,col_indexer] = value instead\n",
      "\n",
      "See the caveats in the documentation: https://pandas.pydata.org/pandas-docs/stable/user_guide/indexing.html#returning-a-view-versus-a-copy\n",
      "  self.data_frame[quant] = self.data_frame[quant].fillna(0)\n",
      "C:\\Users\\Fatimata Kane\\AppData\\Local\\Temp\\ipykernel_6568\\735106556.py:40: SettingWithCopyWarning: \n",
      "A value is trying to be set on a copy of a slice from a DataFrame.\n",
      "Try using .loc[row_indexer,col_indexer] = value instead\n",
      "\n",
      "See the caveats in the documentation: https://pandas.pydata.org/pandas-docs/stable/user_guide/indexing.html#returning-a-view-versus-a-copy\n",
      "  self.data_frame[quant] = self.data_frame[quant].fillna(0)\n"
     ]
    }
   ],
   "source": [
    "pretraitement.traiter_valeurs_manquantes()"
   ]
  },
  {
   "cell_type": "code",
=======
>>>>>>> cbed18383712a3e729348965b356f2ae5e5abbe5
   "execution_count": null,
   "metadata": {},
   "outputs": [],
   "source": []
  }
 ],
 "metadata": {
  "interpreter": {
   "hash": "d9cb4fe90d1e8890f1d760e5203fc044f921dddd2ce0dfa0f0205b983aed132e"
  },
  "kernelspec": {
   "display_name": "Python 3.9.0 32-bit",
   "language": "python",
   "name": "python3"
  },
  "language_info": {
   "codemirror_mode": {
    "name": "ipython",
    "version": 3
   },
   "file_extension": ".py",
   "mimetype": "text/x-python",
   "name": "python",
   "nbconvert_exporter": "python",
   "pygments_lexer": "ipython3",
   "version": "3.9.0"
  },
  "orig_nbformat": 4
 },
 "nbformat": 4,
 "nbformat_minor": 2
}
